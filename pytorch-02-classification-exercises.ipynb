{
 "cells": [
  {
   "cell_type": "markdown",
   "id": "8fc47b78",
   "metadata": {
    "id": "view-in-github",
    "papermill": {
     "duration": 0.007918,
     "end_time": "2023-07-29T10:18:47.939205",
     "exception": false,
     "start_time": "2023-07-29T10:18:47.931287",
     "status": "completed"
    },
    "tags": []
   },
   "source": [
    "<a href=\"https://colab.research.google.com/github/mrdbourke/pytorch-deep-learning/blob/main/extras/exercises/02_pytorch_classification_exercises.ipynb\" target=\"_parent\"><img src=\"https://colab.research.google.com/assets/colab-badge.svg\" alt=\"Open In Colab\"/></a>"
   ]
  },
  {
   "cell_type": "markdown",
   "id": "09cae411",
   "metadata": {
    "id": "ZKJFt7YxH8yl",
    "papermill": {
     "duration": 0.006793,
     "end_time": "2023-07-29T10:18:47.953455",
     "exception": false,
     "start_time": "2023-07-29T10:18:47.946662",
     "status": "completed"
    },
    "tags": []
   },
   "source": [
    "# 02. PyTorch Classification Exercises\n",
    "\n",
    "The following is a template for 02. PyTorch Classification exercises.\n",
    "\n",
    "It's only starter code and it's your job to fill in the blanks.\n",
    "\n",
    "Because of the flexibility of PyTorch, there may be more than one way to answer the question.\n",
    "\n",
    "Don't worry about trying to be *right* just try writing code that suffices the question.\n",
    "\n",
    "## Resources\n",
    "* These exercises are based on [notebook 02 of the learn PyTorch course](https://www.learnpytorch.io/02_pytorch_classification/).\n",
    "* You can see one form of [solutions on GitHub](https://github.com/mrdbourke/pytorch-deep-learning/tree/main/extras/solutions) (but try the exercises below yourself first!)."
   ]
  },
  {
   "cell_type": "code",
   "execution_count": 1,
   "id": "5a8c908a",
   "metadata": {
    "execution": {
     "iopub.execute_input": "2023-07-29T10:18:47.970286Z",
     "iopub.status.busy": "2023-07-29T10:18:47.969147Z",
     "iopub.status.idle": "2023-07-29T10:18:51.239919Z",
     "shell.execute_reply": "2023-07-29T10:18:51.238705Z"
    },
    "id": "CSrUPgapO0tf",
    "papermill": {
     "duration": 3.281746,
     "end_time": "2023-07-29T10:18:51.242356",
     "exception": false,
     "start_time": "2023-07-29T10:18:47.960610",
     "status": "completed"
    },
    "tags": []
   },
   "outputs": [
    {
     "name": "stdout",
     "output_type": "stream",
     "text": [
      "cpu\n"
     ]
    }
   ],
   "source": [
    "# Import torch\n",
    "import torch\n",
    "\n",
    "# Setup device agnostic code\n",
    "device = 'cuda' if torch.cuda.is_available() else 'cpu'\n",
    "print(device)\n",
    "\n",
    "# Setup random seed\n",
    "RANDOM_SEED = 42"
   ]
  },
  {
   "cell_type": "markdown",
   "id": "fd4d534c",
   "metadata": {
    "id": "pH7jIZ2SPFee",
    "papermill": {
     "duration": 0.00712,
     "end_time": "2023-07-29T10:18:51.257150",
     "exception": false,
     "start_time": "2023-07-29T10:18:51.250030",
     "status": "completed"
    },
    "tags": []
   },
   "source": [
    "## 1. Make a binary classification dataset with Scikit-Learn's [`make_moons()`](https://scikit-learn.org/stable/modules/generated/sklearn.datasets.make_moons.html) function.\n",
    "  * For consistency, the dataset should have 1000 samples and a `random_state=42`.\n",
    "  * Turn the data into PyTorch tensors. \n",
    "  * Split the data into training and test sets using `train_test_split` with 80% training and 20% testing."
   ]
  },
  {
   "cell_type": "code",
   "execution_count": 2,
   "id": "a3c1c7e5",
   "metadata": {
    "execution": {
     "iopub.execute_input": "2023-07-29T10:18:51.276235Z",
     "iopub.status.busy": "2023-07-29T10:18:51.275379Z",
     "iopub.status.idle": "2023-07-29T10:18:52.222022Z",
     "shell.execute_reply": "2023-07-29T10:18:52.220905Z"
    },
    "id": "5t4VhPV1PX1X",
    "papermill": {
     "duration": 0.958383,
     "end_time": "2023-07-29T10:18:52.224652",
     "exception": false,
     "start_time": "2023-07-29T10:18:51.266269",
     "status": "completed"
    },
    "tags": []
   },
   "outputs": [
    {
     "name": "stderr",
     "output_type": "stream",
     "text": [
      "/opt/conda/lib/python3.10/site-packages/scipy/__init__.py:146: UserWarning: A NumPy version >=1.16.5 and <1.23.0 is required for this version of SciPy (detected version 1.23.5\n",
      "  warnings.warn(f\"A NumPy version >={np_minversion} and <{np_maxversion}\"\n"
     ]
    }
   ],
   "source": [
    "# Create a dataset with Scikit-Learn's make_moons()\n",
    "from sklearn.datasets import make_moons\n",
    "X, y = make_moons(n_samples=1000 , shuffle=True, noise=0.02, random_state=42)"
   ]
  },
  {
   "cell_type": "code",
   "execution_count": 3,
   "id": "65bc9d75",
   "metadata": {
    "execution": {
     "iopub.execute_input": "2023-07-29T10:18:52.242159Z",
     "iopub.status.busy": "2023-07-29T10:18:52.241382Z",
     "iopub.status.idle": "2023-07-29T10:18:52.264729Z",
     "shell.execute_reply": "2023-07-29T10:18:52.263673Z"
    },
    "id": "SUeHZ3-3P9C7",
    "papermill": {
     "duration": 0.03403,
     "end_time": "2023-07-29T10:18:52.266741",
     "exception": false,
     "start_time": "2023-07-29T10:18:52.232711",
     "status": "completed"
    },
    "tags": []
   },
   "outputs": [
    {
     "data": {
      "text/html": [
       "<div>\n",
       "<style scoped>\n",
       "    .dataframe tbody tr th:only-of-type {\n",
       "        vertical-align: middle;\n",
       "    }\n",
       "\n",
       "    .dataframe tbody tr th {\n",
       "        vertical-align: top;\n",
       "    }\n",
       "\n",
       "    .dataframe thead th {\n",
       "        text-align: right;\n",
       "    }\n",
       "</style>\n",
       "<table border=\"1\" class=\"dataframe\">\n",
       "  <thead>\n",
       "    <tr style=\"text-align: right;\">\n",
       "      <th></th>\n",
       "      <th>Feature 1</th>\n",
       "      <th>Feature 2</th>\n",
       "      <th>Target</th>\n",
       "    </tr>\n",
       "  </thead>\n",
       "  <tbody>\n",
       "    <tr>\n",
       "      <th>0</th>\n",
       "      <td>-0.003312</td>\n",
       "      <td>0.383379</td>\n",
       "      <td>1</td>\n",
       "    </tr>\n",
       "    <tr>\n",
       "      <th>1</th>\n",
       "      <td>0.943511</td>\n",
       "      <td>-0.481472</td>\n",
       "      <td>1</td>\n",
       "    </tr>\n",
       "    <tr>\n",
       "      <th>2</th>\n",
       "      <td>0.925759</td>\n",
       "      <td>-0.449535</td>\n",
       "      <td>1</td>\n",
       "    </tr>\n",
       "    <tr>\n",
       "      <th>3</th>\n",
       "      <td>0.430470</td>\n",
       "      <td>-0.366058</td>\n",
       "      <td>1</td>\n",
       "    </tr>\n",
       "    <tr>\n",
       "      <th>4</th>\n",
       "      <td>-0.847017</td>\n",
       "      <td>0.527905</td>\n",
       "      <td>0</td>\n",
       "    </tr>\n",
       "  </tbody>\n",
       "</table>\n",
       "</div>"
      ],
      "text/plain": [
       "   Feature 1  Feature 2  Target\n",
       "0  -0.003312   0.383379       1\n",
       "1   0.943511  -0.481472       1\n",
       "2   0.925759  -0.449535       1\n",
       "3   0.430470  -0.366058       1\n",
       "4  -0.847017   0.527905       0"
      ]
     },
     "execution_count": 3,
     "metadata": {},
     "output_type": "execute_result"
    }
   ],
   "source": [
    "# Turn data into a DataFrame\n",
    "import pandas as pd\n",
    "df = pd.DataFrame({'Feature 1': X[:, 0], 'Feature 2': X[:, 1], 'Target': y})\n",
    "df.head()"
   ]
  },
  {
   "cell_type": "code",
   "execution_count": 4,
   "id": "4ed23fd4",
   "metadata": {
    "execution": {
     "iopub.execute_input": "2023-07-29T10:18:52.284161Z",
     "iopub.status.busy": "2023-07-29T10:18:52.283453Z",
     "iopub.status.idle": "2023-07-29T10:18:52.608302Z",
     "shell.execute_reply": "2023-07-29T10:18:52.607265Z"
    },
    "id": "owrkPSFvQPFI",
    "papermill": {
     "duration": 0.33588,
     "end_time": "2023-07-29T10:18:52.610586",
     "exception": false,
     "start_time": "2023-07-29T10:18:52.274706",
     "status": "completed"
    },
    "tags": []
   },
   "outputs": [
    {
     "data": {
      "image/png": "[encoded data removed]",
      "text/plain": [
       "<Figure size 640x480 with 1 Axes>"
      ]
     },
     "metadata": {},
     "output_type": "display_data"
    }
   ],
   "source": [
    "# Visualize the data on a scatter plot\n",
    "import matplotlib.pyplot as plt\n",
    "plt.scatter(x=df['Feature 1'],\n",
    "            y=df['Feature 2'],\n",
    "            c=df['Target'],\n",
    "            cmap=plt.cm.RdYlGn);"
   ]
  },
  {
   "cell_type": "code",
   "execution_count": 5,
   "id": "bd5b97fb",
   "metadata": {
    "execution": {
     "iopub.execute_input": "2023-07-29T10:18:52.628726Z",
     "iopub.status.busy": "2023-07-29T10:18:52.628335Z",
     "iopub.status.idle": "2023-07-29T10:18:52.774135Z",
     "shell.execute_reply": "2023-07-29T10:18:52.773196Z"
    },
    "id": "bDhyHn9fR4dq",
    "papermill": {
     "duration": 0.157683,
     "end_time": "2023-07-29T10:18:52.776636",
     "exception": false,
     "start_time": "2023-07-29T10:18:52.618953",
     "status": "completed"
    },
    "tags": []
   },
   "outputs": [],
   "source": [
    "# Turn data into tensors of dtype float\n",
    "X = torch.from_numpy(X).type(torch.float)\n",
    "y = torch.from_numpy(y).type(torch.float)\n",
    "\n",
    "# Split the data into train and test sets (80% train, 20% test)\n",
    "from sklearn.model_selection import train_test_split\n",
    "X_train, X_test, y_train, y_test = train_test_split(X,\n",
    "                                                    y,\n",
    "                                                    test_size=0.2,\n",
    "                                                    random_state=42)"
   ]
  },
  {
   "cell_type": "markdown",
   "id": "243c35e7",
   "metadata": {
    "id": "cMIjxZdzQfPz",
    "papermill": {
     "duration": 0.00826,
     "end_time": "2023-07-29T10:18:52.793504",
     "exception": false,
     "start_time": "2023-07-29T10:18:52.785244",
     "status": "completed"
    },
    "tags": []
   },
   "source": [
    "## 2. Build a model by subclassing `nn.Module` that incorporates non-linear activation functions and is capable of fitting the data you created in 1.\n",
    "  * Feel free to use any combination of PyTorch layers (linear and non-linear) you want."
   ]
  },
  {
   "cell_type": "code",
   "execution_count": 6,
   "id": "20a5744b",
   "metadata": {
    "execution": {
     "iopub.execute_input": "2023-07-29T10:18:52.811990Z",
     "iopub.status.busy": "2023-07-29T10:18:52.811618Z",
     "iopub.status.idle": "2023-07-29T10:18:52.830452Z",
     "shell.execute_reply": "2023-07-29T10:18:52.829326Z"
    },
    "id": "hwtyvm34Ri6Q",
    "papermill": {
     "duration": 0.030653,
     "end_time": "2023-07-29T10:18:52.832699",
     "exception": false,
     "start_time": "2023-07-29T10:18:52.802046",
     "status": "completed"
    },
    "tags": []
   },
   "outputs": [
    {
     "data": {
      "text/plain": [
       "MoonModelV0(\n",
       "  (Seq_layer): Sequential(\n",
       "    (0): Linear(in_features=2, out_features=4, bias=True)\n",
       "    (1): ReLU()\n",
       "    (2): Linear(in_features=4, out_features=4, bias=True)\n",
       "    (3): ReLU()\n",
       "    (4): Linear(in_features=4, out_features=1, bias=True)\n",
       "  )\n",
       ")"
      ]
     },
     "execution_count": 6,
     "metadata": {},
     "output_type": "execute_result"
    }
   ],
   "source": [
    "import torch\n",
    "from torch import nn\n",
    "\n",
    "# Inherit from nn.Module to make a model capable of fitting the mooon data\n",
    "class MoonModelV0(nn.Module):\n",
    "    def __init__(self, input_feature, output_feature, hidden_feature = 4):\n",
    "        super().__init__()\n",
    "        self.Seq_layer = nn.Sequential(\n",
    "            nn.Linear(in_features=input_feature, out_features=hidden_feature),\n",
    "            nn.ReLU(),\n",
    "            nn.Linear(in_features=hidden_feature, out_features=hidden_feature),\n",
    "            nn.ReLU(),\n",
    "            nn.Linear(in_features=hidden_feature, out_features=output_feature),\n",
    "            #nn.Sigmoid()\n",
    "        )\n",
    "        \n",
    "    def forward(self, x):\n",
    "        ## Your code here ##\n",
    "        return self.Seq_layer(x)\n",
    "\n",
    "# Instantiate the model\n",
    "## Your code here ##\n",
    "model_0 = MoonModelV0(input_feature=2,\n",
    "                     output_feature=1)\n",
    "model_0"
   ]
  },
  {
   "cell_type": "markdown",
   "id": "034677fc",
   "metadata": {
    "id": "DSj97RwyVeFE",
    "papermill": {
     "duration": 0.007882,
     "end_time": "2023-07-29T10:18:52.849152",
     "exception": false,
     "start_time": "2023-07-29T10:18:52.841270",
     "status": "completed"
    },
    "tags": []
   },
   "source": [
    "## 3. Setup a binary classification compatible loss function and optimizer to use when training the model built in 2."
   ]
  },
  {
   "cell_type": "code",
   "execution_count": 7,
   "id": "a8520ec2",
   "metadata": {
    "execution": {
     "iopub.execute_input": "2023-07-29T10:18:52.867421Z",
     "iopub.status.busy": "2023-07-29T10:18:52.866594Z",
     "iopub.status.idle": "2023-07-29T10:18:52.871848Z",
     "shell.execute_reply": "2023-07-29T10:18:52.870860Z"
    },
    "id": "whSGw5qgVvxU",
    "papermill": {
     "duration": 0.016594,
     "end_time": "2023-07-29T10:18:52.873847",
     "exception": false,
     "start_time": "2023-07-29T10:18:52.857253",
     "status": "completed"
    },
    "tags": []
   },
   "outputs": [],
   "source": [
    "# Setup loss function\n",
    "loss_fn = nn.BCEWithLogitsLoss()\n",
    "# Setup optimizer to optimize model's parameters\n",
    "optimizer = torch.optim.Adam(params=model_0.parameters(),\n",
    "                             lr=0.1)"
   ]
  },
  {
   "cell_type": "code",
   "execution_count": 8,
   "id": "04cf81c8",
   "metadata": {
    "execution": {
     "iopub.execute_input": "2023-07-29T10:18:52.892005Z",
     "iopub.status.busy": "2023-07-29T10:18:52.891178Z",
     "iopub.status.idle": "2023-07-29T10:18:52.898108Z",
     "shell.execute_reply": "2023-07-29T10:18:52.897184Z"
    },
    "papermill": {
     "duration": 0.017863,
     "end_time": "2023-07-29T10:18:52.899919",
     "exception": false,
     "start_time": "2023-07-29T10:18:52.882056",
     "status": "completed"
    },
    "tags": []
   },
   "outputs": [
    {
     "data": {
      "text/plain": [
       "(torch.Size([800, 2]),\n",
       " torch.Size([200, 2]),\n",
       " torch.Size([800]),\n",
       " torch.Size([200]))"
      ]
     },
     "execution_count": 8,
     "metadata": {},
     "output_type": "execute_result"
    }
   ],
   "source": [
    "X_train.shape, X_test.shape, y_train.shape, y_test.shape"
   ]
  },
  {
   "cell_type": "markdown",
   "id": "a70c21b4",
   "metadata": {
    "id": "nvk4PfNTWUAt",
    "papermill": {
     "duration": 0.00811,
     "end_time": "2023-07-29T10:18:52.916622",
     "exception": false,
     "start_time": "2023-07-29T10:18:52.908512",
     "status": "completed"
    },
    "tags": []
   },
   "source": [
    "## 4. Create a training and testing loop to fit the model you created in 2 to the data you created in 1.\n",
    "  * Do a forward pass of the model to see what's coming out in the form of logits, prediction probabilities and labels.\n",
    "  * To measure model accuray, you can create your own accuracy function or use the accuracy function in [TorchMetrics](https://torchmetrics.readthedocs.io/en/latest/).\n",
    "  * Train the model for long enough for it to reach over 96% accuracy.\n",
    "  * The training loop should output progress every 10 epochs of the model's training and test set loss and accuracy."
   ]
  },
  {
   "cell_type": "markdown",
   "id": "05529f07",
   "metadata": {
    "execution": {
     "iopub.execute_input": "2023-07-29T09:55:07.657284Z",
     "iopub.status.busy": "2023-07-29T09:55:07.656709Z",
     "iopub.status.idle": "2023-07-29T09:55:07.742655Z",
     "shell.execute_reply": "2023-07-29T09:55:07.739865Z",
     "shell.execute_reply.started": "2023-07-29T09:55:07.657253Z"
    },
    "papermill": {
     "duration": 0.008168,
     "end_time": "2023-07-29T10:18:52.933182",
     "exception": false,
     "start_time": "2023-07-29T10:18:52.925014",
     "status": "completed"
    },
    "tags": []
   },
   "source": [
    "from torchmetrics import Accuracy\n",
    "EPOCHS = 100\n",
    "\n",
    "for epoch in range(EPOCHS):\n",
    "    model_0.train()\n",
    "    y_train_logits = model_0(X_train).squeeze()\n",
    "    y_train_preds = torch.round(torch.sigmoid(y_train_logits))\n",
    "    train_loss = loss_fn(y_train_logits, y_train)\n",
    "    train_acc = Accuracy(y_train, y_train_preds)\n",
    "    optimizer.zero_grad()\n",
    "    train_loss.backward()\n",
    "    optimizer.step()\n",
    "    model_0.eval()\n",
    "    with torch.inference_mode():\n",
    "        y_test_logits = model_0(X_test).squeeze()\n",
    "        y_test_preds = torch.round(torch.sigmoid(y_test_logits))\n",
    "    test_loss = loss_fn(y_test_logits, y_test)\n",
    "    test_acc = Accuracy(y_test, y_test_preds)\n",
    "    if epoch % 10 == 0:\n",
    "        print(f'Epoch: {epoch} | Train loss: {train_loss:.4f}, Train acc: {train_acc:.2f}% | Test loss: {test_loss:.4f}, Test acc: {test_acc:.2f}%')"
   ]
  },
  {
   "cell_type": "code",
   "execution_count": 9,
   "id": "8c5beb5b",
   "metadata": {
    "execution": {
     "iopub.execute_input": "2023-07-29T10:18:52.954381Z",
     "iopub.status.busy": "2023-07-29T10:18:52.953727Z",
     "iopub.status.idle": "2023-07-29T10:19:03.987027Z",
     "shell.execute_reply": "2023-07-29T10:19:03.985733Z"
    },
    "id": "AgnFdlamd2-D",
    "outputId": "627d8c33-071e-4925-f18b-5d5ba6126729",
    "papermill": {
     "duration": 11.04799,
     "end_time": "2023-07-29T10:19:03.989646",
     "exception": false,
     "start_time": "2023-07-29T10:18:52.941656",
     "status": "completed"
    },
    "scrolled": true,
    "tags": []
   },
   "outputs": [
    {
     "name": "stderr",
     "output_type": "stream",
     "text": [
      "/opt/conda/lib/python3.10/site-packages/tensorflow_io/python/ops/__init__.py:98: UserWarning: unable to load libtensorflow_io_plugins.so: unable to open file: libtensorflow_io_plugins.so, from paths: ['/opt/conda/lib/python3.10/site-packages/tensorflow_io/python/ops/libtensorflow_io_plugins.so']\n",
      "caused by: ['/opt/conda/lib/python3.10/site-packages/tensorflow_io/python/ops/libtensorflow_io_plugins.so: undefined symbol: _ZN3tsl6StatusC1EN10tensorflow5error4CodeESt17basic_string_viewIcSt11char_traitsIcEENS_14SourceLocationE']\n",
      "  warnings.warn(f\"unable to load libtensorflow_io_plugins.so: {e}\")\n",
      "/opt/conda/lib/python3.10/site-packages/tensorflow_io/python/ops/__init__.py:104: UserWarning: file system plugins are not loaded: unable to open file: libtensorflow_io.so, from paths: ['/opt/conda/lib/python3.10/site-packages/tensorflow_io/python/ops/libtensorflow_io.so']\n",
      "caused by: ['/opt/conda/lib/python3.10/site-packages/tensorflow_io/python/ops/libtensorflow_io.so: undefined symbol: _ZTVN10tensorflow13GcsFileSystemE']\n",
      "  warnings.warn(f\"file system plugins are not loaded: {e}\")\n"
     ]
    },
    {
     "name": "stdout",
     "output_type": "stream",
     "text": [
      "Logits: tensor([0.2987, 0.3285, 0.2643, 0.3387, 0.2535, 0.2550, 0.3028, 0.2945, 0.2649,\n",
      "        0.3278, 0.3425, 0.3023, 0.2983, 0.2581, 0.3454, 0.2661, 0.3261, 0.3454,\n",
      "        0.2905, 0.3454, 0.3292, 0.3454, 0.2861, 0.3454, 0.3112, 0.2998, 0.3454,\n",
      "        0.3454, 0.3454, 0.2578, 0.3389, 0.3131, 0.3400, 0.2528, 0.3448, 0.3180,\n",
      "        0.3067, 0.2617, 0.2522, 0.2584, 0.2852, 0.2697, 0.3293, 0.3454, 0.3412,\n",
      "        0.3230, 0.3454, 0.3309, 0.3176, 0.2537, 0.3386, 0.3418, 0.3454, 0.3454,\n",
      "        0.3454, 0.3454, 0.3454, 0.2617, 0.2782, 0.3454, 0.2557, 0.2983, 0.3454,\n",
      "        0.2582, 0.3023, 0.3162, 0.2647, 0.3454, 0.3236, 0.3454, 0.2585, 0.3222,\n",
      "        0.3454, 0.2686, 0.3454, 0.2584, 0.2540, 0.3065, 0.3454, 0.3295, 0.3454,\n",
      "        0.2992, 0.2974, 0.2540, 0.2804, 0.3255, 0.3454, 0.3454, 0.3454, 0.3454,\n",
      "        0.2652, 0.2532, 0.2550, 0.2536, 0.2611, 0.3454, 0.3205, 0.2733, 0.3454,\n",
      "        0.2525, 0.3295, 0.3454, 0.3210, 0.3454, 0.3454, 0.3454, 0.2546, 0.3066,\n",
      "        0.3454, 0.2644, 0.3100, 0.2910, 0.3184, 0.2560, 0.2651, 0.3454, 0.2574,\n",
      "        0.3454, 0.2537, 0.3454, 0.2812, 0.3454, 0.3454, 0.2803, 0.2570, 0.3454,\n",
      "        0.2633, 0.3276, 0.3320, 0.3368, 0.2768, 0.3026, 0.2525, 0.3223, 0.3194,\n",
      "        0.2996, 0.2527, 0.3454, 0.3454, 0.3250, 0.3454, 0.3128, 0.3454, 0.2635,\n",
      "        0.3454, 0.3454, 0.3410, 0.3454, 0.3330, 0.3368, 0.2593, 0.3086, 0.2696,\n",
      "        0.3454, 0.2651, 0.3223, 0.3344, 0.3454, 0.3454, 0.2715, 0.3393, 0.2647,\n",
      "        0.2565, 0.3454, 0.3252, 0.3454, 0.2941, 0.3454, 0.3454, 0.3254, 0.3304,\n",
      "        0.3262, 0.3454, 0.3454, 0.3027, 0.3454, 0.3454, 0.2937, 0.3322, 0.3454,\n",
      "        0.3454, 0.2721, 0.3139, 0.2575, 0.2809, 0.3454, 0.3333, 0.2987, 0.3049,\n",
      "        0.2540, 0.3454, 0.2627, 0.3312, 0.3126, 0.2568, 0.3061, 0.2802, 0.3454,\n",
      "        0.2843, 0.3293])\n",
      "Pred probs: tensor([0.5741, 0.5814, 0.5657, 0.5839, 0.5630, 0.5634, 0.5751, 0.5731, 0.5658,\n",
      "        0.5812, 0.5848, 0.5750, 0.5740, 0.5642, 0.5855, 0.5661, 0.5808, 0.5855,\n",
      "        0.5721, 0.5855, 0.5816, 0.5855, 0.5710, 0.5855, 0.5772, 0.5744, 0.5855,\n",
      "        0.5855, 0.5855, 0.5641, 0.5839, 0.5777, 0.5842, 0.5629, 0.5853, 0.5788,\n",
      "        0.5761, 0.5650, 0.5627, 0.5642, 0.5708, 0.5670, 0.5816, 0.5855, 0.5845,\n",
      "        0.5801, 0.5855, 0.5820, 0.5787, 0.5631, 0.5839, 0.5846, 0.5855, 0.5855,\n",
      "        0.5855, 0.5855, 0.5855, 0.5651, 0.5691, 0.5855, 0.5636, 0.5740, 0.5855,\n",
      "        0.5642, 0.5750, 0.5784, 0.5658, 0.5855, 0.5802, 0.5855, 0.5643, 0.5799,\n",
      "        0.5855, 0.5668, 0.5855, 0.5642, 0.5632, 0.5760, 0.5855, 0.5816, 0.5855,\n",
      "        0.5743, 0.5738, 0.5632, 0.5696, 0.5807, 0.5855, 0.5855, 0.5855, 0.5855,\n",
      "        0.5659, 0.5630, 0.5634, 0.5631, 0.5649, 0.5855, 0.5795, 0.5679, 0.5855,\n",
      "        0.5628, 0.5816, 0.5855, 0.5796, 0.5855, 0.5855, 0.5855, 0.5633, 0.5760,\n",
      "        0.5855, 0.5657, 0.5769, 0.5722, 0.5789, 0.5637, 0.5659, 0.5855, 0.5640,\n",
      "        0.5855, 0.5631, 0.5855, 0.5698, 0.5855, 0.5855, 0.5696, 0.5639, 0.5855,\n",
      "        0.5654, 0.5812, 0.5822, 0.5834, 0.5688, 0.5751, 0.5628, 0.5799, 0.5792,\n",
      "        0.5743, 0.5628, 0.5855, 0.5855, 0.5806, 0.5855, 0.5776, 0.5855, 0.5655,\n",
      "        0.5855, 0.5855, 0.5844, 0.5855, 0.5825, 0.5834, 0.5645, 0.5765, 0.5670,\n",
      "        0.5855, 0.5659, 0.5799, 0.5828, 0.5855, 0.5855, 0.5675, 0.5840, 0.5658,\n",
      "        0.5638, 0.5855, 0.5806, 0.5855, 0.5730, 0.5855, 0.5855, 0.5806, 0.5819,\n",
      "        0.5808, 0.5855, 0.5855, 0.5751, 0.5855, 0.5855, 0.5729, 0.5823, 0.5855,\n",
      "        0.5855, 0.5676, 0.5778, 0.5640, 0.5698, 0.5855, 0.5826, 0.5741, 0.5756,\n",
      "        0.5632, 0.5855, 0.5653, 0.5821, 0.5775, 0.5639, 0.5759, 0.5696, 0.5855,\n",
      "        0.5706, 0.5816])\n",
      "Pred labels: tensor([1., 1., 1., 1., 1., 1., 1., 1., 1., 1., 1., 1., 1., 1., 1., 1., 1., 1.,\n",
      "        1., 1., 1., 1., 1., 1., 1., 1., 1., 1., 1., 1., 1., 1., 1., 1., 1., 1.,\n",
      "        1., 1., 1., 1., 1., 1., 1., 1., 1., 1., 1., 1., 1., 1., 1., 1., 1., 1.,\n",
      "        1., 1., 1., 1., 1., 1., 1., 1., 1., 1., 1., 1., 1., 1., 1., 1., 1., 1.,\n",
      "        1., 1., 1., 1., 1., 1., 1., 1., 1., 1., 1., 1., 1., 1., 1., 1., 1., 1.,\n",
      "        1., 1., 1., 1., 1., 1., 1., 1., 1., 1., 1., 1., 1., 1., 1., 1., 1., 1.,\n",
      "        1., 1., 1., 1., 1., 1., 1., 1., 1., 1., 1., 1., 1., 1., 1., 1., 1., 1.,\n",
      "        1., 1., 1., 1., 1., 1., 1., 1., 1., 1., 1., 1., 1., 1., 1., 1., 1., 1.,\n",
      "        1., 1., 1., 1., 1., 1., 1., 1., 1., 1., 1., 1., 1., 1., 1., 1., 1., 1.,\n",
      "        1., 1., 1., 1., 1., 1., 1., 1., 1., 1., 1., 1., 1., 1., 1., 1., 1., 1.,\n",
      "        1., 1., 1., 1., 1., 1., 1., 1., 1., 1., 1., 1., 1., 1., 1., 1., 1., 1.,\n",
      "        1., 1.])\n"
     ]
    }
   ],
   "source": [
    "from torchmetrics import Accuracy\n",
    "# What's coming out of our model?\n",
    "accuracy = Accuracy(task='binary')\n",
    "model_0.eval()\n",
    "with torch.inference_mode():\n",
    "    y_test_logits = model_0(X_test).squeeze()\n",
    "    y_test_preds = torch.round(torch.sigmoid(y_test_logits))\n",
    "test_loss = loss_fn(y_test_logits, y_test)\n",
    "#print(test_loss)\n",
    "test_acc = accuracy(y_test, y_test_preds)\n",
    "\n",
    "# logits (raw outputs of model)\n",
    "print(\"Logits:\",y_test_logits)\n",
    "## Your code here ##\n",
    "\n",
    "# Prediction probabilities\n",
    "print(\"Pred probs:\",torch.sigmoid(y_test_logits))\n",
    "## Your code here ##\n",
    "\n",
    "# Prediction labels\n",
    "print(\"Pred labels:\",y_test_preds)\n",
    "## Your code here ##"
   ]
  },
  {
   "cell_type": "code",
   "execution_count": 10,
   "id": "7970b711",
   "metadata": {
    "execution": {
     "iopub.execute_input": "2023-07-29T10:19:04.011256Z",
     "iopub.status.busy": "2023-07-29T10:19:04.010167Z",
     "iopub.status.idle": "2023-07-29T10:19:04.015302Z",
     "shell.execute_reply": "2023-07-29T10:19:04.014141Z"
    },
    "id": "rUSDNHB4euoJ",
    "papermill": {
     "duration": 0.018073,
     "end_time": "2023-07-29T10:19:04.017507",
     "exception": false,
     "start_time": "2023-07-29T10:19:03.999434",
     "status": "completed"
    },
    "tags": []
   },
   "outputs": [],
   "source": [
    "# Let's calculuate the accuracy using accuracy from TorchMetrics\n",
    "#!pip -q install torchmetrics # Colab doesn't come with torchmetrics\n",
    "#from torchmetrics import Accuracy\n",
    "\n",
    "## TODO: Uncomment this code to use the Accuracy function\n",
    "# acc_fn = Accuracy(task=\"multiclass\", num_classes=2).to(device) # send accuracy function to device\n",
    "# acc_fn"
   ]
  },
  {
   "cell_type": "code",
   "execution_count": 11,
   "id": "9a359454",
   "metadata": {
    "execution": {
     "iopub.execute_input": "2023-07-29T10:19:04.036871Z",
     "iopub.status.busy": "2023-07-29T10:19:04.036512Z",
     "iopub.status.idle": "2023-07-29T10:19:06.530396Z",
     "shell.execute_reply": "2023-07-29T10:19:06.529290Z"
    },
    "id": "SHBY3h7XXnxt",
    "papermill": {
     "duration": 2.506575,
     "end_time": "2023-07-29T10:19:06.532926",
     "exception": false,
     "start_time": "2023-07-29T10:19:04.026351",
     "status": "completed"
    },
    "tags": []
   },
   "outputs": [
    {
     "name": "stdout",
     "output_type": "stream",
     "text": [
      "Epoch: 0 | Train acc: 0.50%, Train loss: 0.7179 | Test acc: 0.50%, Test loss: 0.7014\n",
      "Epoch: 100 | Train acc: 0.50%, Train loss: 0.6931 | Test acc: 0.50%, Test loss: 0.6931\n",
      "Epoch: 200 | Train acc: 0.50%, Train loss: 0.6931 | Test acc: 0.50%, Test loss: 0.6931\n",
      "Epoch: 300 | Train acc: 0.50%, Train loss: 0.6931 | Test acc: 0.50%, Test loss: 0.6931\n",
      "Epoch: 400 | Train acc: 0.50%, Train loss: 0.6931 | Test acc: 0.50%, Test loss: 0.6931\n",
      "Epoch: 500 | Train acc: 0.50%, Train loss: 0.6931 | Test acc: 0.50%, Test loss: 0.6931\n",
      "Epoch: 600 | Train acc: 0.50%, Train loss: 0.6931 | Test acc: 0.50%, Test loss: 0.6931\n",
      "Epoch: 700 | Train acc: 0.50%, Train loss: 0.6931 | Test acc: 0.50%, Test loss: 0.6931\n",
      "Epoch: 800 | Train acc: 0.50%, Train loss: 0.6931 | Test acc: 0.50%, Test loss: 0.6931\n",
      "Epoch: 900 | Train acc: 0.50%, Train loss: 0.6931 | Test acc: 0.50%, Test loss: 0.6931\n"
     ]
    }
   ],
   "source": [
    "## TODO: Uncomment this to set the seed\n",
    "torch.manual_seed(42)\n",
    "torch.cuda.manual_seed(42)\n",
    "\n",
    "# Setup epochs\n",
    "EPOCHS = 1000\n",
    "\n",
    "# Send data to the device\n",
    "\n",
    "# Loop through the data\n",
    "for epoch in range(EPOCHS):\n",
    "  ### Training\n",
    "    model_0.train()\n",
    "  # 1. Forward pass (logits output)\n",
    "    y_train_logits = model_0(X_train).squeeze()\n",
    "  # Turn logits into prediction probabilities\n",
    "    y_train_probs = torch.sigmoid(y_train_logits)\n",
    "  # Turn prediction probabilities into prediction labels\n",
    "    y_train_preds = torch.round(y_train_probs)\n",
    "  # 2. Calculaute the loss\n",
    "  # loss = loss_fn(y_logits, y_train) # loss = compare model raw outputs to desired model outputs\n",
    "    train_loss = loss_fn(y_train_logits, y_train)\n",
    "  # Calculate the accuracy\n",
    "  # acc = acc_fn(y_pred, y_train.int()) # the accuracy function needs to compare pred labels (not logits) with actual labels\n",
    "    train_acc = accuracy(y_train, y_train_preds)\n",
    "  # 3. Zero the gradients\n",
    "    optimizer.zero_grad()\n",
    "  # 4. Loss backward (perform backpropagation) - https://brilliant.org/wiki/backpropagation/#:~:text=Backpropagation%2C%20short%20for%20%22backward%20propagation,to%20the%20neural%20network's%20weights.\n",
    "    train_loss.backward()\n",
    "  # 5. Step the optimizer (gradient descent) - https://towardsdatascience.com/gradient-descent-algorithm-a-deep-dive-cf04e8115f21#:~:text=Gradient%20descent%20(GD)%20is%20an,e.g.%20in%20a%20linear%20regression) \n",
    "    optimizer.step()\n",
    "    \n",
    "  ### Testing\n",
    "    model_0.eval() \n",
    "    with torch.inference_mode():\n",
    "        # 1. Forward pass (to get the logits)\n",
    "        y_test_logits = model_0(X_test).squeeze()\n",
    "        # Turn the test logits into prediction labels\n",
    "        y_test_preds = torch.round(torch.sigmoid(y_test_logits))\n",
    "    # 2. Caculate the test loss/acc\n",
    "    test_loss = loss_fn(y_test_logits, y_test)\n",
    "    test_acc = accuracy(y_test, y_test_preds)\n",
    "  # Print out what's happening every 100 epochs\n",
    "    if epoch % 100 == 0:\n",
    "        print(f\"Epoch: {epoch} | Train acc: {train_acc:.2f}%, Train loss: {train_loss:.4f} | Test acc: {test_acc:.2f}%, Test loss: {test_loss:.4f}\")"
   ]
  },
  {
   "cell_type": "markdown",
   "id": "4ab5ba3d",
   "metadata": {
    "id": "8Nwihtomj9JO",
    "papermill": {
     "duration": 0.009241,
     "end_time": "2023-07-29T10:19:06.551690",
     "exception": false,
     "start_time": "2023-07-29T10:19:06.542449",
     "status": "completed"
    },
    "tags": []
   },
   "source": [
    "## 5. Make predictions with your trained model and plot them using the `plot_decision_boundary()` function created in this notebook."
   ]
  },
  {
   "cell_type": "code",
   "execution_count": 12,
   "id": "47a43a44",
   "metadata": {
    "execution": {
     "iopub.execute_input": "2023-07-29T10:19:06.572103Z",
     "iopub.status.busy": "2023-07-29T10:19:06.571689Z",
     "iopub.status.idle": "2023-07-29T10:19:06.581715Z",
     "shell.execute_reply": "2023-07-29T10:19:06.580705Z"
    },
    "id": "0YRzatb8a1P2",
    "papermill": {
     "duration": 0.022687,
     "end_time": "2023-07-29T10:19:06.583721",
     "exception": false,
     "start_time": "2023-07-29T10:19:06.561034",
     "status": "completed"
    },
    "tags": []
   },
   "outputs": [],
   "source": [
    "# Plot the model predictions\n",
    "import numpy as np\n",
    "\n",
    "def plot_decision_boundary(model, X, y):\n",
    "  \n",
    "    # Put everything to CPU (works better with NumPy + Matplotlib)\n",
    "    model.to(\"cpu\")\n",
    "    X, y = X.to(\"cpu\"), y.to(\"cpu\")\n",
    "\n",
    "    # Source - https://madewithml.com/courses/foundations/neural-networks/ \n",
    "    # (with modifications)\n",
    "    x_min, x_max = X[:, 0].min() - 0.1, X[:, 0].max() + 0.1\n",
    "    y_min, y_max = X[:, 1].min() - 0.1, X[:, 1].max() + 0.1\n",
    "    xx, yy = np.meshgrid(np.linspace(x_min, x_max, 101), \n",
    "                         np.linspace(y_min, y_max, 101))\n",
    "\n",
    "    # Make features\n",
    "    X_to_pred_on = torch.from_numpy(np.column_stack((xx.ravel(), yy.ravel()))).float()\n",
    "\n",
    "    # Make predictions\n",
    "    model.eval()\n",
    "    with torch.inference_mode():\n",
    "        y_logits = model(X_to_pred_on)\n",
    "\n",
    "    # Test for multi-class or binary and adjust logits to prediction labels\n",
    "    if len(torch.unique(y)) > 2:\n",
    "        y_pred = torch.softmax(y_logits, dim=1).argmax(dim=1) # mutli-class\n",
    "    else: \n",
    "        y_pred = torch.round(torch.sigmoid(y_logits)) # binary\n",
    "    \n",
    "    # Reshape preds and plot\n",
    "    y_pred = y_pred.reshape(xx.shape).detach().numpy()\n",
    "    plt.contourf(xx, yy, y_pred, cmap=plt.cm.RdYlBu, alpha=0.7)\n",
    "    plt.scatter(X[:, 0], X[:, 1], c=y, s=40, cmap=plt.cm.RdYlBu)\n",
    "    plt.xlim(xx.min(), xx.max())\n",
    "    plt.ylim(yy.min(), yy.max())"
   ]
  },
  {
   "cell_type": "code",
   "execution_count": 13,
   "id": "7165a2e2",
   "metadata": {
    "execution": {
     "iopub.execute_input": "2023-07-29T10:19:06.605019Z",
     "iopub.status.busy": "2023-07-29T10:19:06.603902Z",
     "iopub.status.idle": "2023-07-29T10:19:06.608825Z",
     "shell.execute_reply": "2023-07-29T10:19:06.607763Z"
    },
    "id": "PMrcpyirig1d",
    "papermill": {
     "duration": 0.017479,
     "end_time": "2023-07-29T10:19:06.610821",
     "exception": false,
     "start_time": "2023-07-29T10:19:06.593342",
     "status": "completed"
    },
    "tags": []
   },
   "outputs": [],
   "source": [
    "# Plot decision boundaries for training and test sets\n"
   ]
  },
  {
   "cell_type": "markdown",
   "id": "473c3bcc",
   "metadata": {
    "id": "EtMYBvtciiAU",
    "papermill": {
     "duration": 0.009163,
     "end_time": "2023-07-29T10:19:06.629432",
     "exception": false,
     "start_time": "2023-07-29T10:19:06.620269",
     "status": "completed"
    },
    "tags": []
   },
   "source": [
    "## 6. Replicate the Tanh (hyperbolic tangent) activation function in pure PyTorch.\n",
    "  * Feel free to reference the [ML cheatsheet website](https://ml-cheatsheet.readthedocs.io/en/latest/activation_functions.html#tanh) for the formula."
   ]
  },
  {
   "cell_type": "code",
   "execution_count": 14,
   "id": "8af7e068",
   "metadata": {
    "execution": {
     "iopub.execute_input": "2023-07-29T10:19:06.650065Z",
     "iopub.status.busy": "2023-07-29T10:19:06.649175Z",
     "iopub.status.idle": "2023-07-29T10:19:06.653602Z",
     "shell.execute_reply": "2023-07-29T10:19:06.652681Z"
    },
    "id": "BlXaWC5TkEUE",
    "papermill": {
     "duration": 0.016525,
     "end_time": "2023-07-29T10:19:06.655377",
     "exception": false,
     "start_time": "2023-07-29T10:19:06.638852",
     "status": "completed"
    },
    "tags": []
   },
   "outputs": [],
   "source": [
    "# Create a straight line tensor\n"
   ]
  },
  {
   "cell_type": "code",
   "execution_count": 15,
   "id": "5c156700",
   "metadata": {
    "execution": {
     "iopub.execute_input": "2023-07-29T10:19:06.676016Z",
     "iopub.status.busy": "2023-07-29T10:19:06.674855Z",
     "iopub.status.idle": "2023-07-29T10:19:06.678923Z",
     "shell.execute_reply": "2023-07-29T10:19:06.678249Z"
    },
    "id": "vZPCcQmIkZjO",
    "papermill": {
     "duration": 0.016249,
     "end_time": "2023-07-29T10:19:06.680928",
     "exception": false,
     "start_time": "2023-07-29T10:19:06.664679",
     "status": "completed"
    },
    "tags": []
   },
   "outputs": [],
   "source": [
    "# Test torch.tanh() on the tensor and plot it\n"
   ]
  },
  {
   "cell_type": "code",
   "execution_count": 16,
   "id": "b1dcd9af",
   "metadata": {
    "execution": {
     "iopub.execute_input": "2023-07-29T10:19:06.701421Z",
     "iopub.status.busy": "2023-07-29T10:19:06.700812Z",
     "iopub.status.idle": "2023-07-29T10:19:06.704532Z",
     "shell.execute_reply": "2023-07-29T10:19:06.703609Z"
    },
    "id": "J-ne__Kjkdc1",
    "papermill": {
     "duration": 0.016159,
     "end_time": "2023-07-29T10:19:06.706366",
     "exception": false,
     "start_time": "2023-07-29T10:19:06.690207",
     "status": "completed"
    },
    "tags": []
   },
   "outputs": [],
   "source": [
    "# Replicate torch.tanh() and plot it\n"
   ]
  },
  {
   "cell_type": "markdown",
   "id": "ba40dc5c",
   "metadata": {
    "id": "Lbt1bNcWk5G9",
    "papermill": {
     "duration": 0.008953,
     "end_time": "2023-07-29T10:19:06.724513",
     "exception": false,
     "start_time": "2023-07-29T10:19:06.715560",
     "status": "completed"
    },
    "tags": []
   },
   "source": [
    "## 7. Create a multi-class dataset using the [spirals data creation function from CS231n](https://cs231n.github.io/neural-networks-case-study/) (see below for the code).\n",
    "  * Split the data into training and test sets (80% train, 20% test) as well as turn it into PyTorch tensors.\n",
    "  * Construct a model capable of fitting the data (you may need a combination of linear and non-linear layers).\n",
    "  * Build a loss function and optimizer capable of handling multi-class data (optional extension: use the Adam optimizer instead of SGD, you may have to experiment with different values of the learning rate to get it working).\n",
    "  * Make a training and testing loop for the multi-class data and train a model on it to reach over 95% testing accuracy (you can use any accuracy measuring function here that you like) - 1000 epochs should be plenty.\n",
    "  * Plot the decision boundaries on the spirals dataset from your model predictions, the `plot_decision_boundary()` function should work for this dataset too."
   ]
  },
  {
   "cell_type": "code",
   "execution_count": 17,
   "id": "4b44d12b",
   "metadata": {
    "execution": {
     "iopub.execute_input": "2023-07-29T10:19:06.745052Z",
     "iopub.status.busy": "2023-07-29T10:19:06.744364Z",
     "iopub.status.idle": "2023-07-29T10:19:06.994682Z",
     "shell.execute_reply": "2023-07-29T10:19:06.993795Z"
    },
    "id": "tU-UNZsKlJls",
    "outputId": "8b7b745a-070d-4ecb-c639-c4ee4d8eae06",
    "papermill": {
     "duration": 0.26306,
     "end_time": "2023-07-29T10:19:06.996839",
     "exception": false,
     "start_time": "2023-07-29T10:19:06.733779",
     "status": "completed"
    },
    "tags": []
   },
   "outputs": [
    {
     "data": {
      "image/png": "[encoded data removed]",
      "text/plain": [
       "<Figure size 640x480 with 1 Axes>"
      ]
     },
     "metadata": {},
     "output_type": "display_data"
    }
   ],
   "source": [
    "# Code for creating a spiral dataset from CS231n\n",
    "import numpy as np\n",
    "import matplotlib.pyplot as plt\n",
    "RANDOM_SEED = 42\n",
    "np.random.seed(RANDOM_SEED)\n",
    "N = 100 # number of points per class\n",
    "D = 2 # dimensionality\n",
    "K = 3 # number of classes\n",
    "X = np.zeros((N*K,D)) # data matrix (each row = single example)\n",
    "y = np.zeros(N*K, dtype='uint8') # class labels\n",
    "for j in range(K):\n",
    "  ix = range(N*j,N*(j+1))\n",
    "  r = np.linspace(0.0,1,N) # radius\n",
    "  t = np.linspace(j*4,(j+1)*4,N) + np.random.randn(N)*0.2 # theta\n",
    "  X[ix] = np.c_[r*np.sin(t), r*np.cos(t)]\n",
    "  y[ix] = j\n",
    "# lets visualize the data\n",
    "plt.scatter(X[:, 0], X[:, 1], c=y, s=40, cmap=plt.cm.RdYlBu)\n",
    "plt.show()"
   ]
  },
  {
   "cell_type": "code",
   "execution_count": 18,
   "id": "73ec31fb",
   "metadata": {
    "execution": {
     "iopub.execute_input": "2023-07-29T10:19:07.020594Z",
     "iopub.status.busy": "2023-07-29T10:19:07.020203Z",
     "iopub.status.idle": "2023-07-29T10:19:07.026190Z",
     "shell.execute_reply": "2023-07-29T10:19:07.025208Z"
    },
    "id": "OWVrmkEyl0VP",
    "papermill": {
     "duration": 0.020803,
     "end_time": "2023-07-29T10:19:07.028258",
     "exception": false,
     "start_time": "2023-07-29T10:19:07.007455",
     "status": "completed"
    },
    "tags": []
   },
   "outputs": [],
   "source": [
    "# Turn data into tensors\n",
    "import torch\n",
    "X = torch.from_numpy(X).type(torch.float) # features as float32\n",
    "y = torch.from_numpy(y).type(torch.LongTensor) # labels need to be of type long\n",
    "\n",
    "# Create train and test splits\n",
    "from sklearn.model_selection import train_test_split\n"
   ]
  },
  {
   "cell_type": "code",
   "execution_count": 19,
   "id": "516fb0d4",
   "metadata": {
    "execution": {
     "iopub.execute_input": "2023-07-29T10:19:07.050373Z",
     "iopub.status.busy": "2023-07-29T10:19:07.049918Z",
     "iopub.status.idle": "2023-07-29T10:19:19.151683Z",
     "shell.execute_reply": "2023-07-29T10:19:19.150518Z"
    },
    "id": "a-v-7f0op0tG",
    "papermill": {
     "duration": 12.11569,
     "end_time": "2023-07-29T10:19:19.154114",
     "exception": false,
     "start_time": "2023-07-29T10:19:07.038424",
     "status": "completed"
    },
    "tags": []
   },
   "outputs": [],
   "source": [
    "# Let's calculuate the accuracy for when we fit our model\n",
    "!pip -q install torchmetrics # colab doesn't come with torchmetrics\n",
    "from torchmetrics import Accuracy\n",
    "\n",
    "## TODO: uncomment the two lines below to send the accuracy function to the device\n",
    "# acc_fn = Accuracy(task=\"multiclass\", num_classes=4).to(device)\n",
    "# acc_fn"
   ]
  },
  {
   "cell_type": "code",
   "execution_count": 20,
   "id": "5b4ae246",
   "metadata": {
    "execution": {
     "iopub.execute_input": "2023-07-29T10:19:19.177098Z",
     "iopub.status.busy": "2023-07-29T10:19:19.176677Z",
     "iopub.status.idle": "2023-07-29T10:19:19.181477Z",
     "shell.execute_reply": "2023-07-29T10:19:19.180412Z"
    },
    "id": "DB3u3ldumapf",
    "papermill": {
     "duration": 0.019009,
     "end_time": "2023-07-29T10:19:19.183655",
     "exception": false,
     "start_time": "2023-07-29T10:19:19.164646",
     "status": "completed"
    },
    "tags": []
   },
   "outputs": [],
   "source": [
    "# Prepare device agnostic code\n",
    "# device = \"cuda\" if torch.cuda.is_available() else \"cpu\"\n",
    "\n",
    "# Create model by subclassing nn.Module\n",
    "\n",
    "\n",
    "\n",
    "# Instantiate model and send it to device\n"
   ]
  },
  {
   "cell_type": "code",
   "execution_count": 21,
   "id": "4701fb09",
   "metadata": {
    "execution": {
     "iopub.execute_input": "2023-07-29T10:19:19.205672Z",
     "iopub.status.busy": "2023-07-29T10:19:19.205303Z",
     "iopub.status.idle": "2023-07-29T10:19:19.210403Z",
     "shell.execute_reply": "2023-07-29T10:19:19.209373Z"
    },
    "id": "QE7XWSSunMTS",
    "outputId": "00b31909-87c9-41e3-9dbb-fb4c4bd3aabd",
    "papermill": {
     "duration": 0.018601,
     "end_time": "2023-07-29T10:19:19.212389",
     "exception": false,
     "start_time": "2023-07-29T10:19:19.193788",
     "status": "completed"
    },
    "tags": []
   },
   "outputs": [
    {
     "name": "stdout",
     "output_type": "stream",
     "text": [
      "Logits:\n",
      "Pred probs:\n",
      "Pred labels:\n"
     ]
    }
   ],
   "source": [
    "# Setup data to be device agnostic\n",
    "\n",
    "\n",
    "# Print out first 10 untrained model outputs (forward pass)\n",
    "print(\"Logits:\")\n",
    "## Your code here ##\n",
    "\n",
    "print(\"Pred probs:\")\n",
    "## Your code here ##\n",
    "\n",
    "print(\"Pred labels:\")\n",
    "## Your code here ##"
   ]
  },
  {
   "cell_type": "code",
   "execution_count": 22,
   "id": "0762c076",
   "metadata": {
    "execution": {
     "iopub.execute_input": "2023-07-29T10:19:19.234774Z",
     "iopub.status.busy": "2023-07-29T10:19:19.234423Z",
     "iopub.status.idle": "2023-07-29T10:19:19.238087Z",
     "shell.execute_reply": "2023-07-29T10:19:19.237251Z"
    },
    "id": "54EqLRKLo0AW",
    "papermill": {
     "duration": 0.017284,
     "end_time": "2023-07-29T10:19:19.240026",
     "exception": false,
     "start_time": "2023-07-29T10:19:19.222742",
     "status": "completed"
    },
    "tags": []
   },
   "outputs": [],
   "source": [
    "# Setup loss function and optimizer\n",
    "# loss_fn =\n",
    "# optimizer = "
   ]
  },
  {
   "cell_type": "code",
   "execution_count": 23,
   "id": "39f605d3",
   "metadata": {
    "execution": {
     "iopub.execute_input": "2023-07-29T10:19:19.262665Z",
     "iopub.status.busy": "2023-07-29T10:19:19.262276Z",
     "iopub.status.idle": "2023-07-29T10:19:19.267629Z",
     "shell.execute_reply": "2023-07-29T10:19:19.266453Z"
    },
    "id": "vIlExkUHnmxi",
    "papermill": {
     "duration": 0.019537,
     "end_time": "2023-07-29T10:19:19.269919",
     "exception": false,
     "start_time": "2023-07-29T10:19:19.250382",
     "status": "completed"
    },
    "tags": []
   },
   "outputs": [],
   "source": [
    "# Build a training loop for the model\n",
    "\n",
    "# Loop over data\n",
    "\n",
    "\n",
    "  ## Training\n",
    "  \n",
    "  # 1. Forward pass\n",
    "  \n",
    "\n",
    "  # 2. Calculate the loss\n",
    "  \n",
    "  \n",
    "  # 3. Optimizer zero grad\n",
    "  \n",
    "\n",
    "  # 4. Loss backward\n",
    "  \n",
    "\n",
    "  # 5. Optimizer step\n",
    "  \n",
    "\n",
    "  ## Testing\n",
    "  \n",
    "\n",
    "    # 1. Forward pass\n",
    "    \n",
    "    # 2. Caculate loss and acc\n",
    "    \n",
    "  # Print out what's happening every 100 epochs\n",
    "  "
   ]
  },
  {
   "cell_type": "code",
   "execution_count": 24,
   "id": "fff3adbe",
   "metadata": {
    "execution": {
     "iopub.execute_input": "2023-07-29T10:19:19.293003Z",
     "iopub.status.busy": "2023-07-29T10:19:19.292595Z",
     "iopub.status.idle": "2023-07-29T10:19:19.297135Z",
     "shell.execute_reply": "2023-07-29T10:19:19.296024Z"
    },
    "id": "JrwVRbaE0keT",
    "papermill": {
     "duration": 0.01887,
     "end_time": "2023-07-29T10:19:19.299365",
     "exception": false,
     "start_time": "2023-07-29T10:19:19.280495",
     "status": "completed"
    },
    "tags": []
   },
   "outputs": [],
   "source": [
    "# Plot decision boundaries for training and test sets\n"
   ]
  }
 ],
 "metadata": {
  "kernelspec": {
   "display_name": "Python 3",
   "language": "python",
   "name": "python3"
  },
  "language_info": {
   "codemirror_mode": {
    "name": "ipython",
    "version": 3
   },
   "file_extension": ".py",
   "mimetype": "text/x-python",
   "name": "python",
   "nbconvert_exporter": "python",
   "pygments_lexer": "ipython3",
   "version": "3.10.12"
  },
  "papermill": {
   "default_parameters": {},
   "duration": 43.550191,
   "end_time": "2023-07-29T10:19:22.292222",
   "environment_variables": {},
   "exception": null,
   "input_path": "__notebook__.ipynb",
   "output_path": "__notebook__.ipynb",
   "parameters": {},
   "start_time": "2023-07-29T10:18:38.742031",
   "version": "2.4.0"
  }
 },
 "nbformat": 4,
 "nbformat_minor": 5
}
