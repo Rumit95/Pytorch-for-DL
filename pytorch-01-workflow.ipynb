{
 "cells": [
  {
   "cell_type": "markdown",
   "id": "2d87db14",
   "metadata": {
    "execution": {
     "iopub.execute_input": "2023-06-30T13:58:57.667017Z",
     "iopub.status.busy": "2023-06-30T13:58:57.666378Z",
     "iopub.status.idle": "2023-06-30T13:59:01.611660Z",
     "shell.execute_reply": "2023-06-30T13:59:01.610545Z",
     "shell.execute_reply.started": "2023-06-30T13:58:57.666972Z"
    },
    "papermill": {
     "duration": 0.002533,
     "end_time": "2023-06-30T14:43:15.207978",
     "exception": false,
     "start_time": "2023-06-30T14:43:15.205445",
     "status": "completed"
    },
    "tags": []
   },
   "source": [
    "# PyTorch Workflow\n",
    "\n",
    "Pytorch end-to-end workflow\n",
    "ref - \n",
    "* https://github.com/mrdbourke/pytorch-deep-learning/blob/main/01_pytorch_workflow.ipynb\n",
    "* https://www.learnpytorch.io/01_pytorch_workflow/\n",
    "* https://github.com/mrdbourke/pytorch-deep-learning/discussions"
   ]
  },
  {
   "cell_type": "code",
   "execution_count": 1,
   "id": "51ca8730",
   "metadata": {
    "execution": {
     "iopub.execute_input": "2023-06-30T14:43:15.213960Z",
     "iopub.status.busy": "2023-06-30T14:43:15.213555Z",
     "iopub.status.idle": "2023-06-30T14:43:15.229543Z",
     "shell.execute_reply": "2023-06-30T14:43:15.228698Z"
    },
    "papermill": {
     "duration": 0.021171,
     "end_time": "2023-06-30T14:43:15.231481",
     "exception": false,
     "start_time": "2023-06-30T14:43:15.210310",
     "status": "completed"
    },
    "tags": []
   },
   "outputs": [
    {
     "data": {
      "text/plain": [
       "{1: 'data (prepare adn load)',\n",
       " 2: 'build model',\n",
       " 3: 'fitting model to data (training)',\n",
       " 4: 'making prediction and evaluating a model (inference)',\n",
       " 5: 'saving and loading a model',\n",
       " 6: 'putting it all together'}"
      ]
     },
     "execution_count": 1,
     "metadata": {},
     "output_type": "execute_result"
    }
   ],
   "source": [
    "what_were_covering = {1: \"data (prepare adn load)\",\n",
    "                     2: \"build model\",\n",
    "                     3: \"fitting model to data (training)\",\n",
    "                     4: \"making prediction and evaluating a model (inference)\",\n",
    "                     5: \"saving and loading a model\",\n",
    "                     6: \"putting it all together\"}\n",
    "what_were_covering"
   ]
  },
  {
   "cell_type": "code",
   "execution_count": 2,
   "id": "6f6ce228",
   "metadata": {
    "execution": {
     "iopub.execute_input": "2023-06-30T14:43:15.237185Z",
     "iopub.status.busy": "2023-06-30T14:43:15.236428Z",
     "iopub.status.idle": "2023-06-30T14:43:18.632043Z",
     "shell.execute_reply": "2023-06-30T14:43:18.631128Z"
    },
    "papermill": {
     "duration": 3.400558,
     "end_time": "2023-06-30T14:43:18.634099",
     "exception": false,
     "start_time": "2023-06-30T14:43:15.233541",
     "status": "completed"
    },
    "tags": []
   },
   "outputs": [
    {
     "data": {
      "text/plain": [
       "'2.0.0'"
      ]
     },
     "execution_count": 2,
     "metadata": {},
     "output_type": "execute_result"
    }
   ],
   "source": [
    "import torch\n",
    "from torch import nn #nn contains all of PyTorch's building blocks for neural networks\n",
    "import matplotlib.pyplot as plt\n",
    "\n",
    "#Check Pytorch Version\n",
    "torch.__version__"
   ]
  },
  {
   "cell_type": "markdown",
   "id": "77e6b613",
   "metadata": {
    "papermill": {
     "duration": 0.002246,
     "end_time": "2023-06-30T14:43:18.638753",
     "exception": false,
     "start_time": "2023-06-30T14:43:18.636507",
     "status": "completed"
    },
    "tags": []
   },
   "source": [
    "## Data (preparation and loading)\n",
    "\n",
    "Data can be almost anything ... in machine learning.\n",
    "\n",
    "* Excel spreadsheet\n",
    "* Images of any kind\n",
    "* Videos\n",
    "* Audios\n",
    "* DNA\n",
    "* Text\n",
    "\n",
    "Machine Learning's Two Parts:\n",
    "1. Get data into numerical represntation\n",
    "2. Build model to learn patterns in numerical representation"
   ]
  },
  {
   "cell_type": "code",
   "execution_count": null,
   "id": "d2c11c1b",
   "metadata": {
    "papermill": {
     "duration": 0.002065,
     "end_time": "2023-06-30T14:43:18.643073",
     "exception": false,
     "start_time": "2023-06-30T14:43:18.641008",
     "status": "completed"
    },
    "tags": []
   },
   "outputs": [],
   "source": []
  }
 ],
 "metadata": {
  "kernelspec": {
   "display_name": "Python 3",
   "language": "python",
   "name": "python3"
  },
  "language_info": {
   "codemirror_mode": {
    "name": "ipython",
    "version": 3
   },
   "file_extension": ".py",
   "mimetype": "text/x-python",
   "name": "python",
   "nbconvert_exporter": "python",
   "pygments_lexer": "ipython3",
   "version": "3.10.10"
  },
  "papermill": {
   "default_parameters": {},
   "duration": 16.066633,
   "end_time": "2023-06-30T14:43:20.168224",
   "environment_variables": {},
   "exception": null,
   "input_path": "__notebook__.ipynb",
   "output_path": "__notebook__.ipynb",
   "parameters": {},
   "start_time": "2023-06-30T14:43:04.101591",
   "version": "2.4.0"
  }
 },
 "nbformat": 4,
 "nbformat_minor": 5
}
