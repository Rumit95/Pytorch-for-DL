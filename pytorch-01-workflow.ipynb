{
 "cells": [
  {
   "cell_type": "code",
   "execution_count": 1,
   "id": "6f08f0f4",
   "metadata": {
    "execution": {
     "iopub.execute_input": "2023-06-30T14:00:42.044266Z",
     "iopub.status.busy": "2023-06-30T14:00:42.043403Z",
     "iopub.status.idle": "2023-06-30T14:00:46.010200Z",
     "shell.execute_reply": "2023-06-30T14:00:46.008975Z"
    },
    "papermill": {
     "duration": 3.973917,
     "end_time": "2023-06-30T14:00:46.013286",
     "exception": false,
     "start_time": "2023-06-30T14:00:42.039369",
     "status": "completed"
    },
    "tags": []
   },
   "outputs": [],
   "source": [
    "import torch"
   ]
  },
  {
   "cell_type": "code",
   "execution_count": null,
   "id": "63abb59e",
   "metadata": {
    "papermill": {
     "duration": 0.0015,
     "end_time": "2023-06-30T14:00:46.017946",
     "exception": false,
     "start_time": "2023-06-30T14:00:46.016446",
     "status": "completed"
    },
    "tags": []
   },
   "outputs": [],
   "source": []
  }
 ],
 "metadata": {
  "kernelspec": {
   "display_name": "Python 3",
   "language": "python",
   "name": "python3"
  },
  "language_info": {
   "codemirror_mode": {
    "name": "ipython",
    "version": 3
   },
   "file_extension": ".py",
   "mimetype": "text/x-python",
   "name": "python",
   "nbconvert_exporter": "python",
   "pygments_lexer": "ipython3",
   "version": "3.10.10"
  },
  "papermill": {
   "default_parameters": {},
   "duration": 18.058578,
   "end_time": "2023-06-30T14:00:47.345028",
   "environment_variables": {},
   "exception": null,
   "input_path": "__notebook__.ipynb",
   "output_path": "__notebook__.ipynb",
   "parameters": {},
   "start_time": "2023-06-30T14:00:29.286450",
   "version": "2.4.0"
  }
 },
 "nbformat": 4,
 "nbformat_minor": 5
}
