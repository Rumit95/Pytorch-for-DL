{
 "cells": [
  {
   "cell_type": "markdown",
   "id": "ebb17ccb",
   "metadata": {
    "execution": {
     "iopub.execute_input": "2023-06-30T13:58:57.667017Z",
     "iopub.status.busy": "2023-06-30T13:58:57.666378Z",
     "iopub.status.idle": "2023-06-30T13:59:01.611660Z",
     "shell.execute_reply": "2023-06-30T13:59:01.610545Z",
     "shell.execute_reply.started": "2023-06-30T13:58:57.666972Z"
    },
    "papermill": {
     "duration": 0.003891,
     "end_time": "2023-06-30T15:27:01.182432",
     "exception": false,
     "start_time": "2023-06-30T15:27:01.178541",
     "status": "completed"
    },
    "tags": []
   },
   "source": [
    "# PyTorch Workflow\n",
    "\n",
    "Pytorch end-to-end workflow\n",
    "ref - \n",
    "* https://github.com/mrdbourke/pytorch-deep-learning/blob/main/01_pytorch_workflow.ipynb\n",
    "* https://www.learnpytorch.io/01_pytorch_workflow/\n",
    "* https://github.com/mrdbourke/pytorch-deep-learning/discussions"
   ]
  },
  {
   "cell_type": "code",
   "execution_count": 1,
   "id": "eeb5398b",
   "metadata": {
    "execution": {
     "iopub.execute_input": "2023-06-30T15:27:01.191146Z",
     "iopub.status.busy": "2023-06-30T15:27:01.190667Z",
     "iopub.status.idle": "2023-06-30T15:27:01.207411Z",
     "shell.execute_reply": "2023-06-30T15:27:01.206574Z"
    },
    "papermill": {
     "duration": 0.023485,
     "end_time": "2023-06-30T15:27:01.209400",
     "exception": false,
     "start_time": "2023-06-30T15:27:01.185915",
     "status": "completed"
    },
    "tags": []
   },
   "outputs": [
    {
     "data": {
      "text/plain": [
       "{1: 'data (prepare adn load)',\n",
       " 2: 'build model',\n",
       " 3: 'fitting model to data (training)',\n",
       " 4: 'making prediction and evaluating a model (inference)',\n",
       " 5: 'saving and loading a model',\n",
       " 6: 'putting it all together'}"
      ]
     },
     "execution_count": 1,
     "metadata": {},
     "output_type": "execute_result"
    }
   ],
   "source": [
    "what_were_covering = {1: \"data (prepare adn load)\",\n",
    "                     2: \"build model\",\n",
    "                     3: \"fitting model to data (training)\",\n",
    "                     4: \"making prediction and evaluating a model (inference)\",\n",
    "                     5: \"saving and loading a model\",\n",
    "                     6: \"putting it all together\"}\n",
    "what_were_covering"
   ]
  },
  {
   "cell_type": "code",
   "execution_count": 2,
   "id": "07f9af51",
   "metadata": {
    "execution": {
     "iopub.execute_input": "2023-06-30T15:27:01.217553Z",
     "iopub.status.busy": "2023-06-30T15:27:01.216706Z",
     "iopub.status.idle": "2023-06-30T15:27:04.855987Z",
     "shell.execute_reply": "2023-06-30T15:27:04.855006Z"
    },
    "papermill": {
     "duration": 3.645538,
     "end_time": "2023-06-30T15:27:04.858290",
     "exception": false,
     "start_time": "2023-06-30T15:27:01.212752",
     "status": "completed"
    },
    "tags": []
   },
   "outputs": [
    {
     "data": {
      "text/plain": [
       "'2.0.0'"
      ]
     },
     "execution_count": 2,
     "metadata": {},
     "output_type": "execute_result"
    }
   ],
   "source": [
    "import torch\n",
    "from torch import nn #nn contains all of PyTorch's building blocks for neural networks\n",
    "import matplotlib.pyplot as plt\n",
    "\n",
    "#Check Pytorch Version\n",
    "torch.__version__"
   ]
  },
  {
   "cell_type": "markdown",
   "id": "0b8de3be",
   "metadata": {
    "papermill": {
     "duration": 0.0033,
     "end_time": "2023-06-30T15:27:04.864993",
     "exception": false,
     "start_time": "2023-06-30T15:27:04.861693",
     "status": "completed"
    },
    "tags": []
   },
   "source": [
    "## Data (preparation and loading)\n",
    "\n",
    "Data can be almost anything ... in machine learning.\n",
    "\n",
    "* Excel spreadsheet\n",
    "* Images of any kind\n",
    "* Videos\n",
    "* Audios\n",
    "* DNA\n",
    "* Text\n",
    "\n",
    "Machine Learning's Two Parts:\n",
    "1. Get data into numerical represntation\n",
    "2. Build model to learn patterns in numerical representation\n",
    "\n",
    "To showcase, create some *known* data using linear regression formula.\n",
    "\n",
    "use a Linear regression formula to make a straight line with *know* **parameters**."
   ]
  },
  {
   "cell_type": "code",
   "execution_count": 3,
   "id": "6e6d0061",
   "metadata": {
    "execution": {
     "iopub.execute_input": "2023-06-30T15:27:04.873636Z",
     "iopub.status.busy": "2023-06-30T15:27:04.872473Z",
     "iopub.status.idle": "2023-06-30T15:27:04.976929Z",
     "shell.execute_reply": "2023-06-30T15:27:04.976018Z"
    },
    "papermill": {
     "duration": 0.110841,
     "end_time": "2023-06-30T15:27:04.979097",
     "exception": false,
     "start_time": "2023-06-30T15:27:04.868256",
     "status": "completed"
    },
    "tags": []
   },
   "outputs": [
    {
     "data": {
      "text/plain": [
       "(tensor([[0.0000],\n",
       "         [0.0200],\n",
       "         [0.0400],\n",
       "         [0.0600],\n",
       "         [0.0800],\n",
       "         [0.1000],\n",
       "         [0.1200],\n",
       "         [0.1400],\n",
       "         [0.1600],\n",
       "         [0.1800]]),\n",
       " tensor([[0.3000],\n",
       "         [0.3140],\n",
       "         [0.3280],\n",
       "         [0.3420],\n",
       "         [0.3560],\n",
       "         [0.3700],\n",
       "         [0.3840],\n",
       "         [0.3980],\n",
       "         [0.4120],\n",
       "         [0.4260]]))"
      ]
     },
     "execution_count": 3,
     "metadata": {},
     "output_type": "execute_result"
    }
   ],
   "source": [
    "# Create *known* parameters\n",
    "weight = 0.7\n",
    "bias = 0.3\n",
    "\n",
    "# Create\n",
    "start = 0\n",
    "end = 1\n",
    "step = 0.02\n",
    "X = torch.arange(start, end, step).unsqueeze(dim=1) \n",
    "y = weight * X + bias\n",
    "\n",
    "X[:10], y[:10]"
   ]
  },
  {
   "cell_type": "code",
   "execution_count": 4,
   "id": "ba9d4f00",
   "metadata": {
    "execution": {
     "iopub.execute_input": "2023-06-30T15:27:04.988549Z",
     "iopub.status.busy": "2023-06-30T15:27:04.987577Z",
     "iopub.status.idle": "2023-06-30T15:27:04.994319Z",
     "shell.execute_reply": "2023-06-30T15:27:04.993260Z"
    },
    "papermill": {
     "duration": 0.01348,
     "end_time": "2023-06-30T15:27:04.996229",
     "exception": false,
     "start_time": "2023-06-30T15:27:04.982749",
     "status": "completed"
    },
    "tags": []
   },
   "outputs": [
    {
     "data": {
      "text/plain": [
       "(50, 50)"
      ]
     },
     "execution_count": 4,
     "metadata": {},
     "output_type": "execute_result"
    }
   ],
   "source": [
    "len(X), len(y)"
   ]
  },
  {
   "cell_type": "markdown",
   "id": "c32f4d6c",
   "metadata": {
    "papermill": {
     "duration": 0.003366,
     "end_time": "2023-06-30T15:27:05.003297",
     "exception": false,
     "start_time": "2023-06-30T15:27:04.999931",
     "status": "completed"
    },
    "tags": []
   },
   "source": [
    "### Spliting Data into train and test sets (imp concepts)\n",
    "\n",
    "create training and test sets"
   ]
  },
  {
   "cell_type": "code",
   "execution_count": 5,
   "id": "f60b2ed7",
   "metadata": {
    "execution": {
     "iopub.execute_input": "2023-06-30T15:27:05.012041Z",
     "iopub.status.busy": "2023-06-30T15:27:05.011126Z",
     "iopub.status.idle": "2023-06-30T15:27:05.018823Z",
     "shell.execute_reply": "2023-06-30T15:27:05.017863Z"
    },
    "papermill": {
     "duration": 0.014182,
     "end_time": "2023-06-30T15:27:05.020928",
     "exception": false,
     "start_time": "2023-06-30T15:27:05.006746",
     "status": "completed"
    },
    "tags": []
   },
   "outputs": [
    {
     "data": {
      "text/plain": [
       "(40, 40, 10, 10)"
      ]
     },
     "execution_count": 5,
     "metadata": {},
     "output_type": "execute_result"
    }
   ],
   "source": [
    "# Create train/test split\n",
    "train_split = int(0.8 * len(X))\n",
    "X_train, y_train = X[:train_split], y[:train_split]\n",
    "X_test, y_test = X[train_split:], y[train_split:]\n",
    "\n",
    "len(X_train), len(y_train), len(X_test), len(y_test)"
   ]
  },
  {
   "cell_type": "code",
   "execution_count": null,
   "id": "dc199a58",
   "metadata": {
    "papermill": {
     "duration": 0.003689,
     "end_time": "2023-06-30T15:27:05.028401",
     "exception": false,
     "start_time": "2023-06-30T15:27:05.024712",
     "status": "completed"
    },
    "tags": []
   },
   "outputs": [],
   "source": []
  }
 ],
 "metadata": {
  "kernelspec": {
   "display_name": "Python 3",
   "language": "python",
   "name": "python3"
  },
  "language_info": {
   "codemirror_mode": {
    "name": "ipython",
    "version": 3
   },
   "file_extension": ".py",
   "mimetype": "text/x-python",
   "name": "python",
   "nbconvert_exporter": "python",
   "pygments_lexer": "ipython3",
   "version": "3.10.10"
  },
  "papermill": {
   "default_parameters": {},
   "duration": 17.8484,
   "end_time": "2023-06-30T15:27:07.441214",
   "environment_variables": {},
   "exception": null,
   "input_path": "__notebook__.ipynb",
   "output_path": "__notebook__.ipynb",
   "parameters": {},
   "start_time": "2023-06-30T15:26:49.592814",
   "version": "2.4.0"
  }
 },
 "nbformat": 4,
 "nbformat_minor": 5
}
