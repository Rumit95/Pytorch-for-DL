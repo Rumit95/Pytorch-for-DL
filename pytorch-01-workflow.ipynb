{
 "cells": [
  {
   "cell_type": "markdown",
   "id": "3b96549d",
   "metadata": {
    "execution": {
     "iopub.execute_input": "2023-06-30T13:58:57.667017Z",
     "iopub.status.busy": "2023-06-30T13:58:57.666378Z",
     "iopub.status.idle": "2023-06-30T13:59:01.611660Z",
     "shell.execute_reply": "2023-06-30T13:59:01.610545Z",
     "shell.execute_reply.started": "2023-06-30T13:58:57.666972Z"
    },
    "papermill": {
     "duration": 0.00845,
     "end_time": "2023-07-08T09:08:14.661657",
     "exception": false,
     "start_time": "2023-07-08T09:08:14.653207",
     "status": "completed"
    },
    "tags": []
   },
   "source": [
    "# PyTorch Workflow\n",
    "\n",
    "Pytorch end-to-end workflow\n",
    "ref - \n",
    "* https://github.com/mrdbourke/pytorch-deep-learning/blob/main/01_pytorch_workflow.ipynb\n",
    "* https://www.learnpytorch.io/01_pytorch_workflow/\n",
    "* https://github.com/mrdbourke/pytorch-deep-learning/discussions"
   ]
  },
  {
   "cell_type": "code",
   "execution_count": 1,
   "id": "9c1ec30e",
   "metadata": {
    "execution": {
     "iopub.execute_input": "2023-07-08T09:08:14.679091Z",
     "iopub.status.busy": "2023-07-08T09:08:14.678686Z",
     "iopub.status.idle": "2023-07-08T09:08:14.693456Z",
     "shell.execute_reply": "2023-07-08T09:08:14.692519Z"
    },
    "papermill": {
     "duration": 0.026493,
     "end_time": "2023-07-08T09:08:14.696149",
     "exception": false,
     "start_time": "2023-07-08T09:08:14.669656",
     "status": "completed"
    },
    "tags": []
   },
   "outputs": [
    {
     "data": {
      "text/plain": [
       "{1: 'data (prepare adn load)',\n",
       " 2: 'build model',\n",
       " 3: 'fitting model to data (training)',\n",
       " 4: 'making prediction and evaluating a model (inference)',\n",
       " 5: 'saving and loading a model',\n",
       " 6: 'putting it all together'}"
      ]
     },
     "execution_count": 1,
     "metadata": {},
     "output_type": "execute_result"
    }
   ],
   "source": [
    "what_were_covering = {1: \"data (prepare adn load)\",\n",
    "                     2: \"build model\",\n",
    "                     3: \"fitting model to data (training)\",\n",
    "                     4: \"making prediction and evaluating a model (inference)\",\n",
    "                     5: \"saving and loading a model\",\n",
    "                     6: \"putting it all together\"}\n",
    "what_were_covering"
   ]
  },
  {
   "cell_type": "code",
   "execution_count": 2,
   "id": "6961f970",
   "metadata": {
    "execution": {
     "iopub.execute_input": "2023-07-08T09:08:14.713485Z",
     "iopub.status.busy": "2023-07-08T09:08:14.713169Z",
     "iopub.status.idle": "2023-07-08T09:08:17.808316Z",
     "shell.execute_reply": "2023-07-08T09:08:17.807409Z"
    },
    "papermill": {
     "duration": 3.106265,
     "end_time": "2023-07-08T09:08:17.810473",
     "exception": false,
     "start_time": "2023-07-08T09:08:14.704208",
     "status": "completed"
    },
    "tags": []
   },
   "outputs": [
    {
     "data": {
      "text/plain": [
       "'2.0.0'"
      ]
     },
     "execution_count": 2,
     "metadata": {},
     "output_type": "execute_result"
    }
   ],
   "source": [
    "import torch\n",
    "import numpy as np\n",
    "from torch import nn #nn contains all of PyTorch's building blocks for neural networks\n",
    "import matplotlib.pyplot as plt\n",
    "\n",
    "#Check Pytorch Version\n",
    "torch.__version__"
   ]
  },
  {
   "cell_type": "markdown",
   "id": "9a1fb0d9",
   "metadata": {
    "papermill": {
     "duration": 0.008051,
     "end_time": "2023-07-08T09:08:17.827069",
     "exception": false,
     "start_time": "2023-07-08T09:08:17.819018",
     "status": "completed"
    },
    "tags": []
   },
   "source": [
    "## Data (preparation and loading)\n",
    "\n",
    "Data can be almost anything ... in machine learning.\n",
    "\n",
    "* Excel spreadsheet\n",
    "* Images of any kind\n",
    "* Videos\n",
    "* Audios\n",
    "* DNA\n",
    "* Text\n",
    "\n",
    "Machine Learning's Two Parts:\n",
    "1. Get data into numerical represntation\n",
    "2. Build model to learn patterns in numerical representation\n",
    "\n",
    "To showcase, create some *known* data using linear regression formula.\n",
    "\n",
    "use a Linear regression formula to make a straight line with *know* **parameters**."
   ]
  },
  {
   "cell_type": "code",
   "execution_count": 3,
   "id": "328909bd",
   "metadata": {
    "execution": {
     "iopub.execute_input": "2023-07-08T09:08:17.845335Z",
     "iopub.status.busy": "2023-07-08T09:08:17.844349Z",
     "iopub.status.idle": "2023-07-08T09:08:17.927908Z",
     "shell.execute_reply": "2023-07-08T09:08:17.926891Z"
    },
    "papermill": {
     "duration": 0.094818,
     "end_time": "2023-07-08T09:08:17.930144",
     "exception": false,
     "start_time": "2023-07-08T09:08:17.835326",
     "status": "completed"
    },
    "tags": []
   },
   "outputs": [
    {
     "data": {
      "text/plain": [
       "(tensor([[0.0000],\n",
       "         [0.0200],\n",
       "         [0.0400],\n",
       "         [0.0600],\n",
       "         [0.0800],\n",
       "         [0.1000],\n",
       "         [0.1200],\n",
       "         [0.1400],\n",
       "         [0.1600],\n",
       "         [0.1800]]),\n",
       " tensor([[0.3000],\n",
       "         [0.3140],\n",
       "         [0.3280],\n",
       "         [0.3420],\n",
       "         [0.3560],\n",
       "         [0.3700],\n",
       "         [0.3840],\n",
       "         [0.3980],\n",
       "         [0.4120],\n",
       "         [0.4260]]))"
      ]
     },
     "execution_count": 3,
     "metadata": {},
     "output_type": "execute_result"
    }
   ],
   "source": [
    "# Create *known* parameters\n",
    "weight = 0.7\n",
    "bias = 0.3\n",
    "\n",
    "# Create\n",
    "start = 0\n",
    "end = 1\n",
    "step = 0.02\n",
    "X = torch.arange(start, end, step).unsqueeze(dim=1) \n",
    "y = weight * X + bias\n",
    "\n",
    "X[:10], y[:10]"
   ]
  },
  {
   "cell_type": "code",
   "execution_count": 4,
   "id": "fe4383e1",
   "metadata": {
    "execution": {
     "iopub.execute_input": "2023-07-08T09:08:17.948517Z",
     "iopub.status.busy": "2023-07-08T09:08:17.947684Z",
     "iopub.status.idle": "2023-07-08T09:08:17.954081Z",
     "shell.execute_reply": "2023-07-08T09:08:17.953100Z"
    },
    "papermill": {
     "duration": 0.017518,
     "end_time": "2023-07-08T09:08:17.956050",
     "exception": false,
     "start_time": "2023-07-08T09:08:17.938532",
     "status": "completed"
    },
    "tags": []
   },
   "outputs": [
    {
     "data": {
      "text/plain": [
       "(50, 50)"
      ]
     },
     "execution_count": 4,
     "metadata": {},
     "output_type": "execute_result"
    }
   ],
   "source": [
    "len(X), len(y)"
   ]
  },
  {
   "cell_type": "markdown",
   "id": "40e06fff",
   "metadata": {
    "papermill": {
     "duration": 0.008318,
     "end_time": "2023-07-08T09:08:17.972783",
     "exception": false,
     "start_time": "2023-07-08T09:08:17.964465",
     "status": "completed"
    },
    "tags": []
   },
   "source": [
    "### Spliting Data into train and test sets (imp concepts)\n",
    "\n",
    "create training and test sets"
   ]
  },
  {
   "cell_type": "code",
   "execution_count": 5,
   "id": "2fbbcea1",
   "metadata": {
    "execution": {
     "iopub.execute_input": "2023-07-08T09:08:17.990701Z",
     "iopub.status.busy": "2023-07-08T09:08:17.990419Z",
     "iopub.status.idle": "2023-07-08T09:08:17.997380Z",
     "shell.execute_reply": "2023-07-08T09:08:17.996538Z"
    },
    "papermill": {
     "duration": 0.018228,
     "end_time": "2023-07-08T09:08:17.999437",
     "exception": false,
     "start_time": "2023-07-08T09:08:17.981209",
     "status": "completed"
    },
    "tags": []
   },
   "outputs": [
    {
     "data": {
      "text/plain": [
       "(40, 40, 10, 10)"
      ]
     },
     "execution_count": 5,
     "metadata": {},
     "output_type": "execute_result"
    }
   ],
   "source": [
    "# Create train/test split\n",
    "train_split = int(0.8 * len(X))\n",
    "X_train, y_train = X[:train_split], y[:train_split]\n",
    "X_test, y_test = X[train_split:], y[train_split:]\n",
    "\n",
    "len(X_train), len(y_train), len(X_test), len(y_test)"
   ]
  },
  {
   "cell_type": "markdown",
   "id": "2554d36f",
   "metadata": {
    "papermill": {
     "duration": 0.008462,
     "end_time": "2023-07-08T09:08:18.016299",
     "exception": false,
     "start_time": "2023-07-08T09:08:18.007837",
     "status": "completed"
    },
    "tags": []
   },
   "source": [
    "**\"Visualize, visualize, visualize!\"**"
   ]
  },
  {
   "cell_type": "code",
   "execution_count": 6,
   "id": "8a9d4ef8",
   "metadata": {
    "execution": {
     "iopub.execute_input": "2023-07-08T09:08:18.035921Z",
     "iopub.status.busy": "2023-07-08T09:08:18.034313Z",
     "iopub.status.idle": "2023-07-08T09:08:18.042188Z",
     "shell.execute_reply": "2023-07-08T09:08:18.041335Z"
    },
    "papermill": {
     "duration": 0.019305,
     "end_time": "2023-07-08T09:08:18.044084",
     "exception": false,
     "start_time": "2023-07-08T09:08:18.024779",
     "status": "completed"
    },
    "tags": []
   },
   "outputs": [],
   "source": [
    "def plot_predictions(train_data=X_train,\n",
    "                    train_labels=y_train,\n",
    "                    test_data=X_test,\n",
    "                    test_labels=y_test,\n",
    "                    predictions=torch.Tensor()):\n",
    "    \"\"\"\n",
    "    Plots Training and Testing data as well as compares predictions\n",
    "    \"\"\"\n",
    "    plt.figure(figsize=(10,7))\n",
    "    \n",
    "    # Plot training data in blue\n",
    "    plt.scatter(train_data, train_labels, c=\"b\", s=4, label=\"Training data\")\n",
    "    \n",
    "    # Plot test data in green\n",
    "    plt.scatter(test_data, test_labels, c=\"g\", s=4, label=\"Testing data\")\n",
    "    \n",
    "    # Plot Predictions if exist\n",
    "    if predictions.numel():\n",
    "        plt.scatter(test_data, predictions, c=\"r\", s=4, label=\"Predictions\")\n",
    "        \n",
    "    # Show the legend\n",
    "    plt.legend(prop={\"size\": 14})"
   ]
  },
  {
   "cell_type": "code",
   "execution_count": 7,
   "id": "e50b4cfb",
   "metadata": {
    "execution": {
     "iopub.execute_input": "2023-07-08T09:08:18.062845Z",
     "iopub.status.busy": "2023-07-08T09:08:18.062346Z",
     "iopub.status.idle": "2023-07-08T09:08:18.444182Z",
     "shell.execute_reply": "2023-07-08T09:08:18.443227Z"
    },
    "papermill": {
     "duration": 0.393576,
     "end_time": "2023-07-08T09:08:18.446426",
     "exception": false,
     "start_time": "2023-07-08T09:08:18.052850",
     "status": "completed"
    },
    "tags": []
   },
   "outputs": [
    {
     "data": {
      "image/png": "[encoded data removed]",
      "text/plain": [
       "<Figure size 1000x700 with 1 Axes>"
      ]
     },
     "metadata": {},
     "output_type": "display_data"
    }
   ],
   "source": [
    "plot_predictions()"
   ]
  },
  {
   "cell_type": "markdown",
   "id": "b063a39d",
   "metadata": {
    "papermill": {
     "duration": 0.009047,
     "end_time": "2023-07-08T09:08:18.464632",
     "exception": false,
     "start_time": "2023-07-08T09:08:18.455585",
     "status": "completed"
    },
    "tags": []
   },
   "source": [
    "## 2. Build Model\n",
    "\n",
    "PyTorch Model !!!\n",
    "\n",
    "for python classes (OOPs)\n",
    "ref - \n",
    "* https://realpython.com/python3-object-oriented-programming/\n",
    "\n",
    "What Model is doing:\n",
    "* Start with random values (weight and bias)\n",
    "* Look at training data and adjust wts and bias\n",
    "\n",
    "how does it does?\n",
    "1. Gradient descent\n",
    "2. Back propogation"
   ]
  },
  {
   "cell_type": "code",
   "execution_count": 8,
   "id": "a2f18b30",
   "metadata": {
    "execution": {
     "iopub.execute_input": "2023-07-08T09:08:18.486182Z",
     "iopub.status.busy": "2023-07-08T09:08:18.485874Z",
     "iopub.status.idle": "2023-07-08T09:08:18.493114Z",
     "shell.execute_reply": "2023-07-08T09:08:18.492501Z"
    },
    "papermill": {
     "duration": 0.021296,
     "end_time": "2023-07-08T09:08:18.495064",
     "exception": false,
     "start_time": "2023-07-08T09:08:18.473768",
     "status": "completed"
    },
    "tags": []
   },
   "outputs": [],
   "source": [
    "from torch import nn\n",
    "# Create linear regression model class\n",
    "class LinearRegressionModel(nn.Module): # <- almost everyting in pytorch inherites from nn.Module\n",
    "    def __init__(self):\n",
    "        super().__init__()\n",
    "        self.weights = nn.Parameter(torch.randn(1,\n",
    "                                               requires_grad=True,\n",
    "                                               dtype=torch.float))\n",
    "        self.bias = nn.Parameter(torch.randn(1,\n",
    "                                            requires_grad=True,\n",
    "                                            dtype=torch.float))\n",
    "        \n",
    "    # Forward method to define computatuion in model\n",
    "    def forward(self, x:torch.Tensor) -> torch.Tensor: # 'X' in input data\n",
    "        return self.weights * x + self.bias "
   ]
  },
  {
   "cell_type": "markdown",
   "id": "7da10c23",
   "metadata": {
    "papermill": {
     "duration": 0.008754,
     "end_time": "2023-07-08T09:08:18.512633",
     "exception": false,
     "start_time": "2023-07-08T09:08:18.503879",
     "status": "completed"
    },
    "tags": []
   },
   "source": [
    "### Pytorch model Building essentials\n",
    "\n",
    "* `torch.nn` - contains all of the building blocks for computational graphs (a neural networks can be considered as a computational graph).\n",
    "* `torch.nn.Parameter` - what parameters should our model try and learn, often a Pytorch layer from `torch.nn` will set this for us.\n",
    "* `torch.nn.Module` - thr base class for all nural network modules, if you subclass if you should overwrite `forward()`.\n",
    "* `torch.optim` - this is where the optimizers in PyTorch live, they will help with gradient descent.\n",
    "* `def forward()` - All `nn.Module` subclasses require you to overwrite `forward()`, this defines wha happens in forward propogation."
   ]
  },
  {
   "cell_type": "markdown",
   "id": "d934e1a1",
   "metadata": {
    "papermill": {
     "duration": 0.008694,
     "end_time": "2023-07-08T09:08:18.530115",
     "exception": false,
     "start_time": "2023-07-08T09:08:18.521421",
     "status": "completed"
    },
    "tags": []
   },
   "source": [
    "### Checking the contents of our PyTorch Model\n",
    "\n",
    "let'see what's inside our models...\n",
    "\n",
    "checking model parameters or what's inside ormodel using `.parameters()`"
   ]
  },
  {
   "cell_type": "code",
   "execution_count": 9,
   "id": "468c27e2",
   "metadata": {
    "execution": {
     "iopub.execute_input": "2023-07-08T09:08:18.549378Z",
     "iopub.status.busy": "2023-07-08T09:08:18.549081Z",
     "iopub.status.idle": "2023-07-08T09:08:18.564086Z",
     "shell.execute_reply": "2023-07-08T09:08:18.563207Z"
    },
    "papermill": {
     "duration": 0.027033,
     "end_time": "2023-07-08T09:08:18.565973",
     "exception": false,
     "start_time": "2023-07-08T09:08:18.538940",
     "status": "completed"
    },
    "tags": []
   },
   "outputs": [
    {
     "data": {
      "text/plain": [
       "[Parameter containing:\n",
       " tensor([0.3367], requires_grad=True),\n",
       " Parameter containing:\n",
       " tensor([0.1288], requires_grad=True)]"
      ]
     },
     "execution_count": 9,
     "metadata": {},
     "output_type": "execute_result"
    }
   ],
   "source": [
    "# Create a random seed\n",
    "torch.manual_seed(42)\n",
    "\n",
    "# Create an instance of the model (this is a subclass of nn.Module)\n",
    "model_0 = LinearRegressionModel()\n",
    "\n",
    "# Check out parmeters\n",
    "list(model_0.parameters())"
   ]
  },
  {
   "cell_type": "code",
   "execution_count": 10,
   "id": "d49a1486",
   "metadata": {
    "execution": {
     "iopub.execute_input": "2023-07-08T09:08:18.585655Z",
     "iopub.status.busy": "2023-07-08T09:08:18.584898Z",
     "iopub.status.idle": "2023-07-08T09:08:18.591684Z",
     "shell.execute_reply": "2023-07-08T09:08:18.590732Z"
    },
    "papermill": {
     "duration": 0.018495,
     "end_time": "2023-07-08T09:08:18.593603",
     "exception": false,
     "start_time": "2023-07-08T09:08:18.575108",
     "status": "completed"
    },
    "tags": []
   },
   "outputs": [
    {
     "data": {
      "text/plain": [
       "OrderedDict([('weights', tensor([0.3367])), ('bias', tensor([0.1288]))])"
      ]
     },
     "execution_count": 10,
     "metadata": {},
     "output_type": "execute_result"
    }
   ],
   "source": [
    "# List named parameters\n",
    "model_0.state_dict()"
   ]
  },
  {
   "cell_type": "code",
   "execution_count": 11,
   "id": "e332c9db",
   "metadata": {
    "execution": {
     "iopub.execute_input": "2023-07-08T09:08:18.613341Z",
     "iopub.status.busy": "2023-07-08T09:08:18.612609Z",
     "iopub.status.idle": "2023-07-08T09:08:18.618594Z",
     "shell.execute_reply": "2023-07-08T09:08:18.617668Z"
    },
    "papermill": {
     "duration": 0.017927,
     "end_time": "2023-07-08T09:08:18.620529",
     "exception": false,
     "start_time": "2023-07-08T09:08:18.602602",
     "status": "completed"
    },
    "tags": []
   },
   "outputs": [
    {
     "data": {
      "text/plain": [
       "(0.7, 0.3)"
      ]
     },
     "execution_count": 11,
     "metadata": {},
     "output_type": "execute_result"
    }
   ],
   "source": [
    "weight,bias"
   ]
  },
  {
   "cell_type": "markdown",
   "id": "e654d09a",
   "metadata": {
    "papermill": {
     "duration": 0.008964,
     "end_time": "2023-07-08T09:08:18.638679",
     "exception": false,
     "start_time": "2023-07-08T09:08:18.629715",
     "status": "completed"
    },
    "tags": []
   },
   "source": [
    "### Making prediction using `torch.inference_mode()`\n",
    "\n",
    "To predict y_test based on X_test, by passing data through model, its going to run through `forward()` method"
   ]
  },
  {
   "cell_type": "code",
   "execution_count": 12,
   "id": "0ee6fe5c",
   "metadata": {
    "execution": {
     "iopub.execute_input": "2023-07-08T09:08:18.658738Z",
     "iopub.status.busy": "2023-07-08T09:08:18.658017Z",
     "iopub.status.idle": "2023-07-08T09:08:18.666206Z",
     "shell.execute_reply": "2023-07-08T09:08:18.665305Z"
    },
    "papermill": {
     "duration": 0.020157,
     "end_time": "2023-07-08T09:08:18.668159",
     "exception": false,
     "start_time": "2023-07-08T09:08:18.648002",
     "status": "completed"
    },
    "tags": []
   },
   "outputs": [
    {
     "data": {
      "text/plain": [
       "tensor([[0.3982],\n",
       "        [0.4049],\n",
       "        [0.4116],\n",
       "        [0.4184],\n",
       "        [0.4251],\n",
       "        [0.4318],\n",
       "        [0.4386],\n",
       "        [0.4453],\n",
       "        [0.4520],\n",
       "        [0.4588]], grad_fn=<AddBackward0>)"
      ]
     },
     "execution_count": 12,
     "metadata": {},
     "output_type": "execute_result"
    }
   ],
   "source": [
    "ypred = model_0(X_test)\n",
    "\n",
    "ypred"
   ]
  },
  {
   "cell_type": "code",
   "execution_count": 13,
   "id": "54cfca39",
   "metadata": {
    "execution": {
     "iopub.execute_input": "2023-07-08T09:08:18.688400Z",
     "iopub.status.busy": "2023-07-08T09:08:18.687677Z",
     "iopub.status.idle": "2023-07-08T09:08:18.695402Z",
     "shell.execute_reply": "2023-07-08T09:08:18.694034Z"
    },
    "papermill": {
     "duration": 0.019894,
     "end_time": "2023-07-08T09:08:18.697440",
     "exception": false,
     "start_time": "2023-07-08T09:08:18.677546",
     "status": "completed"
    },
    "tags": []
   },
   "outputs": [
    {
     "name": "stdout",
     "output_type": "stream",
     "text": [
      "tensor([[0.3982],\n",
      "        [0.4049],\n",
      "        [0.4116],\n",
      "        [0.4184],\n",
      "        [0.4251],\n",
      "        [0.4318],\n",
      "        [0.4386],\n",
      "        [0.4453],\n",
      "        [0.4520],\n",
      "        [0.4588]])\n"
     ]
    }
   ],
   "source": [
    "# Make predcitons using model\n",
    "with torch.inference_mode():\n",
    "    y_pred = model_0(X_test)\n",
    "    \n",
    "# Similar but worse than inference hence not prefered\n",
    "'''with torch.no_grad():\n",
    "    y_pred = model_0(X_test)'''\n",
    "    \n",
    "print(y_pred)"
   ]
  },
  {
   "cell_type": "code",
   "execution_count": 14,
   "id": "450d0961",
   "metadata": {
    "execution": {
     "iopub.execute_input": "2023-07-08T09:08:18.717813Z",
     "iopub.status.busy": "2023-07-08T09:08:18.716999Z",
     "iopub.status.idle": "2023-07-08T09:08:19.101196Z",
     "shell.execute_reply": "2023-07-08T09:08:19.100316Z"
    },
    "papermill": {
     "duration": 0.397405,
     "end_time": "2023-07-08T09:08:19.104205",
     "exception": false,
     "start_time": "2023-07-08T09:08:18.706800",
     "status": "completed"
    },
    "tags": []
   },
   "outputs": [
    {
     "data": {
      "image/png": "[encoded data removed]",
      "text/plain": [
       "<Figure size 1000x700 with 1 Axes>"
      ]
     },
     "metadata": {},
     "output_type": "display_data"
    }
   ],
   "source": [
    "plot_predictions(predictions=y_pred)"
   ]
  },
  {
   "cell_type": "markdown",
   "id": "542d59fc",
   "metadata": {
    "papermill": {
     "duration": 0.010004,
     "end_time": "2023-07-08T09:08:19.125366",
     "exception": false,
     "start_time": "2023-07-08T09:08:19.115362",
     "status": "completed"
    },
    "tags": []
   },
   "source": [
    "## 3. Train Model\n",
    "\n",
    "Idea of training is for a model to move form unknown parameters to some know parameters.\n",
    "\n",
    "Or Poor representation of data to a better representations of data.\n",
    "\n",
    "One way to Mesure how poor the model is performing we can use loss functions.\n",
    "\n",
    "* Note: Loss Function is also  called as cost function or criterion.\n",
    "\n",
    "Things we need to train:\n",
    "\n",
    "* **Loss Function:** A funtion to measure how wrong is model predictions are.\n",
    "* **Optimizers:** takes into account the loss of a model and adjusts the model's parameters (i.e. Weights & Bias) \n",
    "    > Two Important parameters inside optimizers\n",
    "     * `params` - model prarameters you'd like to optimize, for example `params=model_0.parameters()`.\n",
    "     * `lr` - learning rate is a hyperparameter that defines how big/small the optimizer changes the parameter with each step.\n",
    "\n",
    "And specifically for Pytorch we need:\n",
    "* Training Loop\n",
    "* Testing Loop"
   ]
  },
  {
   "cell_type": "code",
   "execution_count": 15,
   "id": "573301e8",
   "metadata": {
    "execution": {
     "iopub.execute_input": "2023-07-08T09:08:19.146751Z",
     "iopub.status.busy": "2023-07-08T09:08:19.146427Z",
     "iopub.status.idle": "2023-07-08T09:08:19.154201Z",
     "shell.execute_reply": "2023-07-08T09:08:19.153245Z"
    },
    "papermill": {
     "duration": 0.020906,
     "end_time": "2023-07-08T09:08:19.156208",
     "exception": false,
     "start_time": "2023-07-08T09:08:19.135302",
     "status": "completed"
    },
    "tags": []
   },
   "outputs": [
    {
     "data": {
      "text/plain": [
       "[Parameter containing:\n",
       " tensor([0.3367], requires_grad=True),\n",
       " Parameter containing:\n",
       " tensor([0.1288], requires_grad=True)]"
      ]
     },
     "execution_count": 15,
     "metadata": {},
     "output_type": "execute_result"
    }
   ],
   "source": [
    "list(model_0.parameters())"
   ]
  },
  {
   "cell_type": "code",
   "execution_count": 16,
   "id": "71a64b55",
   "metadata": {
    "execution": {
     "iopub.execute_input": "2023-07-08T09:08:19.177746Z",
     "iopub.status.busy": "2023-07-08T09:08:19.177205Z",
     "iopub.status.idle": "2023-07-08T09:08:19.185284Z",
     "shell.execute_reply": "2023-07-08T09:08:19.184342Z"
    },
    "papermill": {
     "duration": 0.021136,
     "end_time": "2023-07-08T09:08:19.187390",
     "exception": false,
     "start_time": "2023-07-08T09:08:19.166254",
     "status": "completed"
    },
    "tags": []
   },
   "outputs": [
    {
     "data": {
      "text/plain": [
       "OrderedDict([('weights', tensor([0.3367])), ('bias', tensor([0.1288]))])"
      ]
     },
     "execution_count": 16,
     "metadata": {},
     "output_type": "execute_result"
    }
   ],
   "source": [
    "model_0.state_dict()"
   ]
  },
  {
   "cell_type": "code",
   "execution_count": 17,
   "id": "9c23d956",
   "metadata": {
    "execution": {
     "iopub.execute_input": "2023-07-08T09:08:19.208746Z",
     "iopub.status.busy": "2023-07-08T09:08:19.208478Z",
     "iopub.status.idle": "2023-07-08T09:08:19.213177Z",
     "shell.execute_reply": "2023-07-08T09:08:19.212208Z"
    },
    "papermill": {
     "duration": 0.017704,
     "end_time": "2023-07-08T09:08:19.215182",
     "exception": false,
     "start_time": "2023-07-08T09:08:19.197478",
     "status": "completed"
    },
    "tags": []
   },
   "outputs": [],
   "source": [
    "# Setup a loss function\n",
    "loss_fn = nn.L1Loss()\n",
    "\n",
    "# Setup an Optimizer\n",
    "optimizer = torch.optim.SGD(params=model_0.parameters(),\n",
    "                           lr=0.01)"
   ]
  },
  {
   "cell_type": "markdown",
   "id": "f7d232aa",
   "metadata": {
    "papermill": {
     "duration": 0.009885,
     "end_time": "2023-07-08T09:08:19.235023",
     "exception": false,
     "start_time": "2023-07-08T09:08:19.225138",
     "status": "completed"
    },
    "tags": []
   },
   "source": [
    "### Building a Training Loop (and a Testing Loop) in Pytorch\n",
    "\n",
    "A couple of things we need in a training loop:\n",
    "0. Loop through the data \n",
    "1. Forward pass (this involves data moving through our model's `forward()` functions.\n",
    "2. Calculate the loss (compare forward pass predictons to ground truth labels)\n",
    "3. Optimizer Zero grad\n",
    "4. Loss backward - move backwards through the network to calculate the gradients of each of paramets of our model with repect to loss. (**Back Propogation**)\n",
    "5. Optimizer Step - use the optimizer to adjust our model's parameters to try and imporve the loss. (**Gradient Descent**)\n"
   ]
  },
  {
   "cell_type": "code",
   "execution_count": 18,
   "id": "6b55c54c",
   "metadata": {
    "execution": {
     "iopub.execute_input": "2023-07-08T09:08:19.256636Z",
     "iopub.status.busy": "2023-07-08T09:08:19.255904Z",
     "iopub.status.idle": "2023-07-08T09:08:19.408929Z",
     "shell.execute_reply": "2023-07-08T09:08:19.407994Z"
    },
    "papermill": {
     "duration": 0.166979,
     "end_time": "2023-07-08T09:08:19.411940",
     "exception": false,
     "start_time": "2023-07-08T09:08:19.244961",
     "status": "completed"
    },
    "scrolled": true,
    "tags": []
   },
   "outputs": [
    {
     "name": "stdout",
     "output_type": "stream",
     "text": [
      "Epoch: 0 | test: 0.31288138031959534 | test loss: 0.48106518387794495\n",
      "OrderedDict([('weights', tensor([0.3406])), ('bias', tensor([0.1388]))])\n",
      "Epoch: 10 | test: 0.1976713240146637 | test loss: 0.3463551998138428\n",
      "OrderedDict([('weights', tensor([0.3796])), ('bias', tensor([0.2388]))])\n",
      "Epoch: 20 | test: 0.08908725529909134 | test loss: 0.21729660034179688\n",
      "OrderedDict([('weights', tensor([0.4184])), ('bias', tensor([0.3333]))])\n",
      "Epoch: 30 | test: 0.053148526698350906 | test loss: 0.14464017748832703\n",
      "OrderedDict([('weights', tensor([0.4512])), ('bias', tensor([0.3768]))])\n",
      "Epoch: 40 | test: 0.04543796554207802 | test loss: 0.11360953003168106\n",
      "OrderedDict([('weights', tensor([0.4748])), ('bias', tensor([0.3868]))])\n",
      "Epoch: 50 | test: 0.04167863354086876 | test loss: 0.09919948130846024\n",
      "OrderedDict([('weights', tensor([0.4938])), ('bias', tensor([0.3843]))])\n",
      "Epoch: 60 | test: 0.03818932920694351 | test loss: 0.08886633068323135\n",
      "OrderedDict([('weights', tensor([0.5116])), ('bias', tensor([0.3788]))])\n",
      "Epoch: 70 | test: 0.03476089984178543 | test loss: 0.0805937647819519\n",
      "OrderedDict([('weights', tensor([0.5288])), ('bias', tensor([0.3718]))])\n",
      "Epoch: 80 | test: 0.03132382780313492 | test loss: 0.07232122868299484\n",
      "OrderedDict([('weights', tensor([0.5459])), ('bias', tensor([0.3648]))])\n",
      "Epoch: 90 | test: 0.02788739837706089 | test loss: 0.06473556160926819\n",
      "OrderedDict([('weights', tensor([0.5629])), ('bias', tensor([0.3573]))])\n",
      "Epoch: 100 | test: 0.024458957836031914 | test loss: 0.05646304413676262\n",
      "OrderedDict([('weights', tensor([0.5800])), ('bias', tensor([0.3503]))])\n",
      "Epoch: 110 | test: 0.021020207554101944 | test loss: 0.04819049686193466\n",
      "OrderedDict([('weights', tensor([0.5972])), ('bias', tensor([0.3433]))])\n",
      "Epoch: 120 | test: 0.01758546568453312 | test loss: 0.04060482233762741\n",
      "OrderedDict([('weights', tensor([0.6141])), ('bias', tensor([0.3358]))])\n",
      "Epoch: 130 | test: 0.014155393466353416 | test loss: 0.03233227878808975\n",
      "OrderedDict([('weights', tensor([0.6313])), ('bias', tensor([0.3288]))])\n",
      "Epoch: 140 | test: 0.010716589167714119 | test loss: 0.024059748277068138\n",
      "OrderedDict([('weights', tensor([0.6485])), ('bias', tensor([0.3218]))])\n",
      "Epoch: 150 | test: 0.0072835334576666355 | test loss: 0.016474086791276932\n",
      "OrderedDict([('weights', tensor([0.6654])), ('bias', tensor([0.3143]))])\n",
      "Epoch: 160 | test: 0.0038517764769494534 | test loss: 0.008201557211577892\n",
      "OrderedDict([('weights', tensor([0.6826])), ('bias', tensor([0.3073]))])\n",
      "Epoch: 170 | test: 0.008932482451200485 | test loss: 0.005023092031478882\n",
      "OrderedDict([('weights', tensor([0.6951])), ('bias', tensor([0.2993]))])\n",
      "Epoch: 180 | test: 0.008932482451200485 | test loss: 0.005023092031478882\n",
      "OrderedDict([('weights', tensor([0.6951])), ('bias', tensor([0.2993]))])\n",
      "Epoch: 190 | test: 0.008932482451200485 | test loss: 0.005023092031478882\n",
      "OrderedDict([('weights', tensor([0.6951])), ('bias', tensor([0.2993]))])\n"
     ]
    }
   ],
   "source": [
    "torch.manual_seed(42)\n",
    "\n",
    "# An Epooch is one loop through Data\n",
    "epochs = 200\n",
    "\n",
    "# Tracking\n",
    "epoch_count = []\n",
    "loss_values = []\n",
    "test_loss_values = []\n",
    "\n",
    "### Training\n",
    "# 0. Loop through Data\n",
    "for epoch in range(epochs):\n",
    "    # Set the model to training Mode \n",
    "    model_0.train() # train mode in Pytorch sets all parameters that require gradients to require gradients\n",
    "    \n",
    "    # 1. Forward Pass\n",
    "    y_pred=model_0(X_train)\n",
    "    \n",
    "    # 2. Loss function\n",
    "    loss = loss_fn(y_pred,y_train)\n",
    "    \n",
    "    # 3. Optimizer zero grad\n",
    "    optimizer.zero_grad()\n",
    "    \n",
    "    # 4. Performs back propogation on the loss with respect to parameters of model\n",
    "    loss.backward()\n",
    "    \n",
    "    # 5. Step the optimizer (perform  gradient descent)\n",
    "    optimizer.step() # By Default how optimizer changes will accumulate throught the loop so we have to zero them in step 3 in next iteration of loop\n",
    "    \n",
    "    model_0.eval() # Turns off various setting nt required for testing  (dropout/batch Norm layers)\n",
    "    \n",
    "    with torch.inference_mode(): # torch.no_grad() for older versions  | turns Gradient Off\n",
    "        test_pred = model_0(X_test)\n",
    "        test_loss = loss_fn(test_pred, y_test)\n",
    "        \n",
    "    if epoch % 10 == 0:\n",
    "        epoch_count.append(epoch)\n",
    "        loss_values.append(loss)\n",
    "        test_loss_values.append(test_loss)\n",
    "        print(f\"Epoch: {epoch} | test: {loss} | test loss: {test_loss}\")\n",
    "    \n",
    "        # print output\n",
    "        print(model_0.state_dict())"
   ]
  },
  {
   "cell_type": "code",
   "execution_count": 19,
   "id": "b82a10cc",
   "metadata": {
    "execution": {
     "iopub.execute_input": "2023-07-08T09:08:19.435710Z",
     "iopub.status.busy": "2023-07-08T09:08:19.434061Z",
     "iopub.status.idle": "2023-07-08T09:08:19.439483Z",
     "shell.execute_reply": "2023-07-08T09:08:19.438534Z"
    },
    "papermill": {
     "duration": 0.018756,
     "end_time": "2023-07-08T09:08:19.441415",
     "exception": false,
     "start_time": "2023-07-08T09:08:19.422659",
     "status": "completed"
    },
    "tags": []
   },
   "outputs": [],
   "source": [
    "with torch.inference_mode():\n",
    "    y_pred_new = model_0(X_test)"
   ]
  },
  {
   "cell_type": "code",
   "execution_count": 20,
   "id": "a8dcba64",
   "metadata": {
    "execution": {
     "iopub.execute_input": "2023-07-08T09:08:19.463432Z",
     "iopub.status.busy": "2023-07-08T09:08:19.462659Z",
     "iopub.status.idle": "2023-07-08T09:08:19.856479Z",
     "shell.execute_reply": "2023-07-08T09:08:19.855339Z"
    },
    "papermill": {
     "duration": 0.407392,
     "end_time": "2023-07-08T09:08:19.858960",
     "exception": false,
     "start_time": "2023-07-08T09:08:19.451568",
     "status": "completed"
    },
    "tags": []
   },
   "outputs": [
    {
     "data": {
      "image/png": "[encoded data removed]",
      "text/plain": [
       "<Figure size 1000x700 with 1 Axes>"
      ]
     },
     "metadata": {},
     "output_type": "display_data"
    }
   ],
   "source": [
    "plot_predictions(predictions=y_pred_new)"
   ]
  },
  {
   "cell_type": "code",
   "execution_count": 21,
   "id": "779e445b",
   "metadata": {
    "execution": {
     "iopub.execute_input": "2023-07-08T09:08:19.886300Z",
     "iopub.status.busy": "2023-07-08T09:08:19.885978Z",
     "iopub.status.idle": "2023-07-08T09:08:20.239559Z",
     "shell.execute_reply": "2023-07-08T09:08:20.238637Z"
    },
    "papermill": {
     "duration": 0.370406,
     "end_time": "2023-07-08T09:08:20.241785",
     "exception": false,
     "start_time": "2023-07-08T09:08:19.871379",
     "status": "completed"
    },
    "tags": []
   },
   "outputs": [
    {
     "data": {
      "image/png": "[encoded data removed]",
      "text/plain": [
       "<Figure size 640x480 with 1 Axes>"
      ]
     },
     "metadata": {},
     "output_type": "display_data"
    }
   ],
   "source": [
    "# Plot the loss curves\n",
    "plt.plot(epoch_count, np.array(torch.tensor(loss_values).numpy()), label='Train loss')\n",
    "plt.plot(epoch_count, test_loss_values, label='Test loss')\n",
    "plt.title('Training and Test loss curves')\n",
    "plt.ylabel('Loss')\n",
    "plt.xlabel('Epochs')\n",
    "plt.legend();"
   ]
  },
  {
   "cell_type": "markdown",
   "id": "6792ecc9",
   "metadata": {
    "papermill": {
     "duration": 0.010914,
     "end_time": "2023-07-08T09:08:20.264133",
     "exception": false,
     "start_time": "2023-07-08T09:08:20.253219",
     "status": "completed"
    },
    "tags": []
   },
   "source": [
    "## Saving a model in Pytorch\n",
    "\n",
    "3 Main methos to Save and Load models in PyTorch\n",
    "\n",
    "1. `torch.save()` - allows to save PyTorch object in Python's pickle format.\n",
    "2. `torch.load()` - allows to load saved PyTorch object.\n",
    "3. `torch.nn.Module.load_state_dict()` - alows to load a model's saved state dictionary i.e. `model_0.state_dict()`"
   ]
  },
  {
   "cell_type": "code",
   "execution_count": 22,
   "id": "a86497b8",
   "metadata": {
    "execution": {
     "iopub.execute_input": "2023-07-08T09:08:20.287900Z",
     "iopub.status.busy": "2023-07-08T09:08:20.287175Z",
     "iopub.status.idle": "2023-07-08T09:08:20.296234Z",
     "shell.execute_reply": "2023-07-08T09:08:20.294932Z"
    },
    "papermill": {
     "duration": 0.023029,
     "end_time": "2023-07-08T09:08:20.298174",
     "exception": false,
     "start_time": "2023-07-08T09:08:20.275145",
     "status": "completed"
    },
    "tags": []
   },
   "outputs": [
    {
     "name": "stdout",
     "output_type": "stream",
     "text": [
      "Save model to: models/01_pytorch_01_workflow.pth\n"
     ]
    }
   ],
   "source": [
    "# Saving our Pytorch model\n",
    "from pathlib import Path\n",
    "\n",
    "# 1. Create a model Directory\n",
    "MODEL_PATH = Path('models')\n",
    "MODEL_PATH.mkdir(parents=True, exist_ok=True)\n",
    "\n",
    "# 2. Create model save path\n",
    "MODEL_NAME = '01_pytorch_01_workflow.pth'\n",
    "MODEL_SAVE_PATH = MODEL_PATH / MODEL_NAME\n",
    "\n",
    "# 3. Save the model state dict\n",
    "print(f\"Save model to: {MODEL_SAVE_PATH}\")\n",
    "torch.save(model_0.state_dict(),\n",
    "          f=MODEL_SAVE_PATH)"
   ]
  }
 ],
 "metadata": {
  "kernelspec": {
   "display_name": "Python 3",
   "language": "python",
   "name": "python3"
  },
  "language_info": {
   "codemirror_mode": {
    "name": "ipython",
    "version": 3
   },
   "file_extension": ".py",
   "mimetype": "text/x-python",
   "name": "python",
   "nbconvert_exporter": "python",
   "pygments_lexer": "ipython3",
   "version": "3.10.10"
  },
  "papermill": {
   "default_parameters": {},
   "duration": 17.294343,
   "end_time": "2023-07-08T09:08:21.731765",
   "environment_variables": {},
   "exception": null,
   "input_path": "__notebook__.ipynb",
   "output_path": "__notebook__.ipynb",
   "parameters": {},
   "start_time": "2023-07-08T09:08:04.437422",
   "version": "2.4.0"
  }
 },
 "nbformat": 4,
 "nbformat_minor": 5
}
