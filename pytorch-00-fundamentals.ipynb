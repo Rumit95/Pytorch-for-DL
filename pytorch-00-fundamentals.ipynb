{
 "cells": [
  {
   "cell_type": "code",
   "execution_count": 1,
   "id": "f03d3178",
   "metadata": {
    "_cell_guid": "b1076dfc-b9ad-4769-8c92-a6c4dae69d19",
    "_uuid": "8f2839f25d086af736a60e9eeb907d3b93b6e0e5",
    "execution": {
     "iopub.execute_input": "2023-06-27T15:14:12.366728Z",
     "iopub.status.busy": "2023-06-27T15:14:12.366285Z",
     "iopub.status.idle": "2023-06-27T15:14:15.577130Z",
     "shell.execute_reply": "2023-06-27T15:14:15.576242Z"
    },
    "papermill": {
     "duration": 3.228289,
     "end_time": "2023-06-27T15:14:15.579168",
     "exception": false,
     "start_time": "2023-06-27T15:14:12.350879",
     "status": "completed"
    },
    "tags": []
   },
   "outputs": [
    {
     "data": {
      "text/plain": [
       "'2.0.0'"
      ]
     },
     "execution_count": 1,
     "metadata": {},
     "output_type": "execute_result"
    }
   ],
   "source": [
    "import torch\n",
    "import pandas as pd\n",
    "import numpy as np\n",
    "import matplotlib.pyplot as plt\n",
    "torch.__version__"
   ]
  },
  {
   "cell_type": "markdown",
   "id": "3be70ab3",
   "metadata": {
    "execution": {
     "iopub.execute_input": "2023-06-25T15:31:29.081596Z",
     "iopub.status.busy": "2023-06-25T15:31:29.081220Z",
     "iopub.status.idle": "2023-06-25T15:31:29.086052Z",
     "shell.execute_reply": "2023-06-25T15:31:29.085102Z",
     "shell.execute_reply.started": "2023-06-25T15:31:29.081561Z"
    },
    "papermill": {
     "duration": 0.013394,
     "end_time": "2023-06-27T15:14:15.606388",
     "exception": false,
     "start_time": "2023-06-27T15:14:15.592994",
     "status": "completed"
    },
    "tags": []
   },
   "source": [
    "## Introduction to Tensor\n",
    "\n",
    "### Creating Tensors\n",
    "\n",
    "PyTorch tensor are create using torch.Tensor()\n",
    "\n",
    "ref - https://pytorch.org/docs/stable/tensors.html"
   ]
  },
  {
   "cell_type": "code",
   "execution_count": 2,
   "id": "8e989809",
   "metadata": {
    "execution": {
     "iopub.execute_input": "2023-06-27T15:14:15.635593Z",
     "iopub.status.busy": "2023-06-27T15:14:15.634129Z",
     "iopub.status.idle": "2023-06-27T15:14:15.662165Z",
     "shell.execute_reply": "2023-06-27T15:14:15.661238Z"
    },
    "papermill": {
     "duration": 0.04484,
     "end_time": "2023-06-27T15:14:15.664419",
     "exception": false,
     "start_time": "2023-06-27T15:14:15.619579",
     "status": "completed"
    },
    "tags": []
   },
   "outputs": [
    {
     "data": {
      "text/plain": [
       "tensor(7)"
      ]
     },
     "execution_count": 2,
     "metadata": {},
     "output_type": "execute_result"
    }
   ],
   "source": [
    "# Scaler\n",
    "scaler = torch.tensor(7)\n",
    "scaler"
   ]
  },
  {
   "cell_type": "code",
   "execution_count": 3,
   "id": "e549dd19",
   "metadata": {
    "execution": {
     "iopub.execute_input": "2023-06-27T15:14:15.693074Z",
     "iopub.status.busy": "2023-06-27T15:14:15.692759Z",
     "iopub.status.idle": "2023-06-27T15:14:15.698293Z",
     "shell.execute_reply": "2023-06-27T15:14:15.697504Z"
    },
    "papermill": {
     "duration": 0.02233,
     "end_time": "2023-06-27T15:14:15.700165",
     "exception": false,
     "start_time": "2023-06-27T15:14:15.677835",
     "status": "completed"
    },
    "tags": []
   },
   "outputs": [
    {
     "data": {
      "text/plain": [
       "0"
      ]
     },
     "execution_count": 3,
     "metadata": {},
     "output_type": "execute_result"
    }
   ],
   "source": [
    "scaler.ndim"
   ]
  },
  {
   "cell_type": "code",
   "execution_count": 4,
   "id": "39b18d80",
   "metadata": {
    "execution": {
     "iopub.execute_input": "2023-06-27T15:14:15.729608Z",
     "iopub.status.busy": "2023-06-27T15:14:15.729299Z",
     "iopub.status.idle": "2023-06-27T15:14:15.734569Z",
     "shell.execute_reply": "2023-06-27T15:14:15.733733Z"
    },
    "papermill": {
     "duration": 0.021955,
     "end_time": "2023-06-27T15:14:15.736473",
     "exception": false,
     "start_time": "2023-06-27T15:14:15.714518",
     "status": "completed"
    },
    "tags": []
   },
   "outputs": [
    {
     "data": {
      "text/plain": [
       "7"
      ]
     },
     "execution_count": 4,
     "metadata": {},
     "output_type": "execute_result"
    }
   ],
   "source": [
    "# Get Tensor back ans int\n",
    "scaler.item()"
   ]
  },
  {
   "cell_type": "code",
   "execution_count": 5,
   "id": "2a282b64",
   "metadata": {
    "execution": {
     "iopub.execute_input": "2023-06-27T15:14:15.766073Z",
     "iopub.status.busy": "2023-06-27T15:14:15.765233Z",
     "iopub.status.idle": "2023-06-27T15:14:15.773109Z",
     "shell.execute_reply": "2023-06-27T15:14:15.772188Z"
    },
    "papermill": {
     "duration": 0.024678,
     "end_time": "2023-06-27T15:14:15.775104",
     "exception": false,
     "start_time": "2023-06-27T15:14:15.750426",
     "status": "completed"
    },
    "tags": []
   },
   "outputs": [
    {
     "data": {
      "text/plain": [
       "tensor([7, 7])"
      ]
     },
     "execution_count": 5,
     "metadata": {},
     "output_type": "execute_result"
    }
   ],
   "source": [
    "# Vector\n",
    "vector = torch.tensor([7,7])\n",
    "vector"
   ]
  },
  {
   "cell_type": "code",
   "execution_count": 6,
   "id": "881a860b",
   "metadata": {
    "execution": {
     "iopub.execute_input": "2023-06-27T15:14:15.804619Z",
     "iopub.status.busy": "2023-06-27T15:14:15.803883Z",
     "iopub.status.idle": "2023-06-27T15:14:15.810026Z",
     "shell.execute_reply": "2023-06-27T15:14:15.809141Z"
    },
    "papermill": {
     "duration": 0.022908,
     "end_time": "2023-06-27T15:14:15.812015",
     "exception": false,
     "start_time": "2023-06-27T15:14:15.789107",
     "status": "completed"
    },
    "tags": []
   },
   "outputs": [
    {
     "data": {
      "text/plain": [
       "1"
      ]
     },
     "execution_count": 6,
     "metadata": {},
     "output_type": "execute_result"
    }
   ],
   "source": [
    "vector.ndim"
   ]
  },
  {
   "cell_type": "code",
   "execution_count": 7,
   "id": "fd634072",
   "metadata": {
    "execution": {
     "iopub.execute_input": "2023-06-27T15:14:15.843726Z",
     "iopub.status.busy": "2023-06-27T15:14:15.842879Z",
     "iopub.status.idle": "2023-06-27T15:14:15.850593Z",
     "shell.execute_reply": "2023-06-27T15:14:15.849637Z"
    },
    "papermill": {
     "duration": 0.02651,
     "end_time": "2023-06-27T15:14:15.852621",
     "exception": false,
     "start_time": "2023-06-27T15:14:15.826111",
     "status": "completed"
    },
    "tags": []
   },
   "outputs": [
    {
     "data": {
      "text/plain": [
       "torch.Size([2])"
      ]
     },
     "execution_count": 7,
     "metadata": {},
     "output_type": "execute_result"
    }
   ],
   "source": [
    "vector.shape"
   ]
  },
  {
   "cell_type": "code",
   "execution_count": 8,
   "id": "3c4e4975",
   "metadata": {
    "execution": {
     "iopub.execute_input": "2023-06-27T15:14:15.882022Z",
     "iopub.status.busy": "2023-06-27T15:14:15.881723Z",
     "iopub.status.idle": "2023-06-27T15:14:15.891150Z",
     "shell.execute_reply": "2023-06-27T15:14:15.890373Z"
    },
    "papermill": {
     "duration": 0.026346,
     "end_time": "2023-06-27T15:14:15.893158",
     "exception": false,
     "start_time": "2023-06-27T15:14:15.866812",
     "status": "completed"
    },
    "tags": []
   },
   "outputs": [
    {
     "data": {
      "text/plain": [
       "tensor([[7, 8],\n",
       "        [6, 5]])"
      ]
     },
     "execution_count": 8,
     "metadata": {},
     "output_type": "execute_result"
    }
   ],
   "source": [
    "# Matrix\n",
    "MATRIX = torch.tensor([[7,8],\n",
    "                      [6,5]])\n",
    "MATRIX"
   ]
  },
  {
   "cell_type": "code",
   "execution_count": 9,
   "id": "357048a0",
   "metadata": {
    "execution": {
     "iopub.execute_input": "2023-06-27T15:14:15.923390Z",
     "iopub.status.busy": "2023-06-27T15:14:15.922726Z",
     "iopub.status.idle": "2023-06-27T15:14:15.929018Z",
     "shell.execute_reply": "2023-06-27T15:14:15.928056Z"
    },
    "papermill": {
     "duration": 0.023292,
     "end_time": "2023-06-27T15:14:15.931108",
     "exception": false,
     "start_time": "2023-06-27T15:14:15.907816",
     "status": "completed"
    },
    "tags": []
   },
   "outputs": [
    {
     "data": {
      "text/plain": [
       "2"
      ]
     },
     "execution_count": 9,
     "metadata": {},
     "output_type": "execute_result"
    }
   ],
   "source": [
    "MATRIX.ndim"
   ]
  },
  {
   "cell_type": "code",
   "execution_count": 10,
   "id": "838fbadb",
   "metadata": {
    "execution": {
     "iopub.execute_input": "2023-06-27T15:14:15.961669Z",
     "iopub.status.busy": "2023-06-27T15:14:15.961397Z",
     "iopub.status.idle": "2023-06-27T15:14:15.968249Z",
     "shell.execute_reply": "2023-06-27T15:14:15.967397Z"
    },
    "papermill": {
     "duration": 0.023949,
     "end_time": "2023-06-27T15:14:15.970152",
     "exception": false,
     "start_time": "2023-06-27T15:14:15.946203",
     "status": "completed"
    },
    "tags": []
   },
   "outputs": [
    {
     "data": {
      "text/plain": [
       "tensor([7, 8])"
      ]
     },
     "execution_count": 10,
     "metadata": {},
     "output_type": "execute_result"
    }
   ],
   "source": [
    "MATRIX[0]"
   ]
  },
  {
   "cell_type": "code",
   "execution_count": 11,
   "id": "ff76b1ab",
   "metadata": {
    "execution": {
     "iopub.execute_input": "2023-06-27T15:14:15.999932Z",
     "iopub.status.busy": "2023-06-27T15:14:15.999662Z",
     "iopub.status.idle": "2023-06-27T15:14:16.006286Z",
     "shell.execute_reply": "2023-06-27T15:14:16.005354Z"
    },
    "papermill": {
     "duration": 0.024162,
     "end_time": "2023-06-27T15:14:16.008786",
     "exception": false,
     "start_time": "2023-06-27T15:14:15.984624",
     "status": "completed"
    },
    "tags": []
   },
   "outputs": [
    {
     "data": {
      "text/plain": [
       "tensor([6, 5])"
      ]
     },
     "execution_count": 11,
     "metadata": {},
     "output_type": "execute_result"
    }
   ],
   "source": [
    "MATRIX[1]"
   ]
  },
  {
   "cell_type": "code",
   "execution_count": 12,
   "id": "1678e005",
   "metadata": {
    "execution": {
     "iopub.execute_input": "2023-06-27T15:14:16.038858Z",
     "iopub.status.busy": "2023-06-27T15:14:16.038610Z",
     "iopub.status.idle": "2023-06-27T15:14:16.045220Z",
     "shell.execute_reply": "2023-06-27T15:14:16.044375Z"
    },
    "papermill": {
     "duration": 0.023641,
     "end_time": "2023-06-27T15:14:16.047147",
     "exception": false,
     "start_time": "2023-06-27T15:14:16.023506",
     "status": "completed"
    },
    "tags": []
   },
   "outputs": [
    {
     "data": {
      "text/plain": [
       "torch.Size([2, 2])"
      ]
     },
     "execution_count": 12,
     "metadata": {},
     "output_type": "execute_result"
    }
   ],
   "source": [
    "MATRIX.shape"
   ]
  },
  {
   "cell_type": "code",
   "execution_count": 13,
   "id": "c77d6970",
   "metadata": {
    "execution": {
     "iopub.execute_input": "2023-06-27T15:14:16.077489Z",
     "iopub.status.busy": "2023-06-27T15:14:16.077216Z",
     "iopub.status.idle": "2023-06-27T15:14:16.086142Z",
     "shell.execute_reply": "2023-06-27T15:14:16.085375Z"
    },
    "papermill": {
     "duration": 0.026315,
     "end_time": "2023-06-27T15:14:16.088115",
     "exception": false,
     "start_time": "2023-06-27T15:14:16.061800",
     "status": "completed"
    },
    "tags": []
   },
   "outputs": [
    {
     "data": {
      "text/plain": [
       "tensor([[[1, 2, 3],\n",
       "         [5, 6, 6],\n",
       "         [7, 8, 9]]])"
      ]
     },
     "execution_count": 13,
     "metadata": {},
     "output_type": "execute_result"
    }
   ],
   "source": [
    "# Tensor\n",
    "TENSOR = torch.tensor([[[1,2,3],\n",
    "                      [5,6,6],\n",
    "                      [7,8,9]]])\n",
    "TENSOR"
   ]
  },
  {
   "cell_type": "code",
   "execution_count": 14,
   "id": "3fc741cd",
   "metadata": {
    "execution": {
     "iopub.execute_input": "2023-06-27T15:14:16.118470Z",
     "iopub.status.busy": "2023-06-27T15:14:16.118207Z",
     "iopub.status.idle": "2023-06-27T15:14:16.123526Z",
     "shell.execute_reply": "2023-06-27T15:14:16.122562Z"
    },
    "papermill": {
     "duration": 0.02269,
     "end_time": "2023-06-27T15:14:16.125376",
     "exception": false,
     "start_time": "2023-06-27T15:14:16.102686",
     "status": "completed"
    },
    "tags": []
   },
   "outputs": [
    {
     "data": {
      "text/plain": [
       "3"
      ]
     },
     "execution_count": 14,
     "metadata": {},
     "output_type": "execute_result"
    }
   ],
   "source": [
    "TENSOR.ndim"
   ]
  },
  {
   "cell_type": "code",
   "execution_count": 15,
   "id": "9ebe2266",
   "metadata": {
    "execution": {
     "iopub.execute_input": "2023-06-27T15:14:16.156023Z",
     "iopub.status.busy": "2023-06-27T15:14:16.155763Z",
     "iopub.status.idle": "2023-06-27T15:14:16.160956Z",
     "shell.execute_reply": "2023-06-27T15:14:16.160118Z"
    },
    "papermill": {
     "duration": 0.022902,
     "end_time": "2023-06-27T15:14:16.162968",
     "exception": false,
     "start_time": "2023-06-27T15:14:16.140066",
     "status": "completed"
    },
    "tags": []
   },
   "outputs": [
    {
     "data": {
      "text/plain": [
       "torch.Size([1, 3, 3])"
      ]
     },
     "execution_count": 15,
     "metadata": {},
     "output_type": "execute_result"
    }
   ],
   "source": [
    "TENSOR.shape"
   ]
  },
  {
   "cell_type": "code",
   "execution_count": 16,
   "id": "12f5445b",
   "metadata": {
    "execution": {
     "iopub.execute_input": "2023-06-27T15:14:16.193926Z",
     "iopub.status.busy": "2023-06-27T15:14:16.193650Z",
     "iopub.status.idle": "2023-06-27T15:14:16.200187Z",
     "shell.execute_reply": "2023-06-27T15:14:16.199285Z"
    },
    "papermill": {
     "duration": 0.024374,
     "end_time": "2023-06-27T15:14:16.202167",
     "exception": false,
     "start_time": "2023-06-27T15:14:16.177793",
     "status": "completed"
    },
    "tags": []
   },
   "outputs": [
    {
     "data": {
      "text/plain": [
       "tensor([[1, 2, 3],\n",
       "        [5, 6, 6],\n",
       "        [7, 8, 9]])"
      ]
     },
     "execution_count": 16,
     "metadata": {},
     "output_type": "execute_result"
    }
   ],
   "source": [
    "TENSOR[0]"
   ]
  },
  {
   "cell_type": "code",
   "execution_count": 17,
   "id": "2ff3982a",
   "metadata": {
    "execution": {
     "iopub.execute_input": "2023-06-27T15:14:16.234085Z",
     "iopub.status.busy": "2023-06-27T15:14:16.233239Z",
     "iopub.status.idle": "2023-06-27T15:14:16.241087Z",
     "shell.execute_reply": "2023-06-27T15:14:16.240119Z"
    },
    "papermill": {
     "duration": 0.026008,
     "end_time": "2023-06-27T15:14:16.243239",
     "exception": false,
     "start_time": "2023-06-27T15:14:16.217231",
     "status": "completed"
    },
    "tags": []
   },
   "outputs": [
    {
     "data": {
      "text/plain": [
       "tensor([[[1, 2, 3],\n",
       "         [4, 5, 6],\n",
       "         [7, 8, 9]],\n",
       "\n",
       "        [[1, 2, 3],\n",
       "         [4, 5, 6],\n",
       "         [7, 8, 9]]])"
      ]
     },
     "execution_count": 17,
     "metadata": {},
     "output_type": "execute_result"
    }
   ],
   "source": [
    "# Practice\n",
    "TENSOR1 = torch.tensor([[[1,2,3],\n",
    "                      [4,5,6],\n",
    "                      [7,8,9]],\n",
    "                     [[1,2,3],\n",
    "                      [4,5,6],\n",
    "                      [7,8,9]]])\n",
    "TENSOR1"
   ]
  },
  {
   "cell_type": "code",
   "execution_count": 18,
   "id": "27d35c9a",
   "metadata": {
    "execution": {
     "iopub.execute_input": "2023-06-27T15:14:16.275408Z",
     "iopub.status.busy": "2023-06-27T15:14:16.274661Z",
     "iopub.status.idle": "2023-06-27T15:14:16.280523Z",
     "shell.execute_reply": "2023-06-27T15:14:16.279585Z"
    },
    "papermill": {
     "duration": 0.023897,
     "end_time": "2023-06-27T15:14:16.282465",
     "exception": false,
     "start_time": "2023-06-27T15:14:16.258568",
     "status": "completed"
    },
    "tags": []
   },
   "outputs": [
    {
     "data": {
      "text/plain": [
       "3"
      ]
     },
     "execution_count": 18,
     "metadata": {},
     "output_type": "execute_result"
    }
   ],
   "source": [
    "TENSOR1.ndim"
   ]
  },
  {
   "cell_type": "code",
   "execution_count": 19,
   "id": "9675f24a",
   "metadata": {
    "execution": {
     "iopub.execute_input": "2023-06-27T15:14:16.314788Z",
     "iopub.status.busy": "2023-06-27T15:14:16.314033Z",
     "iopub.status.idle": "2023-06-27T15:14:16.319956Z",
     "shell.execute_reply": "2023-06-27T15:14:16.319059Z"
    },
    "papermill": {
     "duration": 0.024046,
     "end_time": "2023-06-27T15:14:16.321851",
     "exception": false,
     "start_time": "2023-06-27T15:14:16.297805",
     "status": "completed"
    },
    "tags": []
   },
   "outputs": [
    {
     "data": {
      "text/plain": [
       "torch.Size([2, 3, 3])"
      ]
     },
     "execution_count": 19,
     "metadata": {},
     "output_type": "execute_result"
    }
   ],
   "source": [
    "TENSOR1.shape"
   ]
  },
  {
   "cell_type": "markdown",
   "id": "2acb0cd1",
   "metadata": {
    "execution": {
     "iopub.execute_input": "2023-06-25T15:53:52.605155Z",
     "iopub.status.busy": "2023-06-25T15:53:52.604740Z",
     "iopub.status.idle": "2023-06-25T15:53:52.609815Z",
     "shell.execute_reply": "2023-06-25T15:53:52.608929Z",
     "shell.execute_reply.started": "2023-06-25T15:53:52.605124Z"
    },
    "papermill": {
     "duration": 0.015417,
     "end_time": "2023-06-27T15:14:16.352805",
     "exception": false,
     "start_time": "2023-06-27T15:14:16.337388",
     "status": "completed"
    },
    "tags": []
   },
   "source": [
    "### Random Tensor\n",
    "\n",
    "Why Random Nos. ?\n",
    "\n",
    "'Start with Random Numbers -> Look at Data -> Update Random Numbers -> Look at Data -> Update Random Numbers'\n",
    "\n",
    "ref - https://pytorch.org/docs/stable/generated/torch.rand.html"
   ]
  },
  {
   "cell_type": "code",
   "execution_count": 20,
   "id": "4afdff5c",
   "metadata": {
    "execution": {
     "iopub.execute_input": "2023-06-27T15:14:16.385550Z",
     "iopub.status.busy": "2023-06-27T15:14:16.384763Z",
     "iopub.status.idle": "2023-06-27T15:14:16.433227Z",
     "shell.execute_reply": "2023-06-27T15:14:16.432321Z"
    },
    "papermill": {
     "duration": 0.06678,
     "end_time": "2023-06-27T15:14:16.435168",
     "exception": false,
     "start_time": "2023-06-27T15:14:16.368388",
     "status": "completed"
    },
    "tags": []
   },
   "outputs": [
    {
     "data": {
      "text/plain": [
       "tensor([[[0.2932, 0.5354, 0.2867],\n",
       "         [0.3281, 0.6044, 0.8152],\n",
       "         [0.1876, 0.7979, 0.7459],\n",
       "         [0.5505, 0.1119, 0.5674]],\n",
       "\n",
       "        [[0.5689, 0.7264, 0.1363],\n",
       "         [0.0887, 0.2720, 0.5016],\n",
       "         [0.3514, 0.3799, 0.7554],\n",
       "         [0.3284, 0.5182, 0.0255]],\n",
       "\n",
       "        [[0.2466, 0.6019, 0.4727],\n",
       "         [0.2169, 0.8618, 0.1501],\n",
       "         [0.4905, 0.8985, 0.4704],\n",
       "         [0.5082, 0.4960, 0.3314]]])"
      ]
     },
     "execution_count": 20,
     "metadata": {},
     "output_type": "execute_result"
    }
   ],
   "source": [
    "# Create a random tensor of size(3,4)\n",
    "random_tensor = torch.rand(3,4,3)\n",
    "random_tensor"
   ]
  },
  {
   "cell_type": "code",
   "execution_count": 21,
   "id": "f1900bd7",
   "metadata": {
    "execution": {
     "iopub.execute_input": "2023-06-27T15:14:16.468462Z",
     "iopub.status.busy": "2023-06-27T15:14:16.467656Z",
     "iopub.status.idle": "2023-06-27T15:14:16.473634Z",
     "shell.execute_reply": "2023-06-27T15:14:16.472713Z"
    },
    "papermill": {
     "duration": 0.024482,
     "end_time": "2023-06-27T15:14:16.475548",
     "exception": false,
     "start_time": "2023-06-27T15:14:16.451066",
     "status": "completed"
    },
    "tags": []
   },
   "outputs": [
    {
     "data": {
      "text/plain": [
       "3"
      ]
     },
     "execution_count": 21,
     "metadata": {},
     "output_type": "execute_result"
    }
   ],
   "source": [
    "random_tensor.ndim"
   ]
  },
  {
   "cell_type": "code",
   "execution_count": 22,
   "id": "23ed609a",
   "metadata": {
    "execution": {
     "iopub.execute_input": "2023-06-27T15:14:16.509997Z",
     "iopub.status.busy": "2023-06-27T15:14:16.509711Z",
     "iopub.status.idle": "2023-06-27T15:14:16.515210Z",
     "shell.execute_reply": "2023-06-27T15:14:16.514401Z"
    },
    "papermill": {
     "duration": 0.025834,
     "end_time": "2023-06-27T15:14:16.517156",
     "exception": false,
     "start_time": "2023-06-27T15:14:16.491322",
     "status": "completed"
    },
    "tags": []
   },
   "outputs": [
    {
     "data": {
      "text/plain": [
       "torch.Size([3, 4, 3])"
      ]
     },
     "execution_count": 22,
     "metadata": {},
     "output_type": "execute_result"
    }
   ],
   "source": [
    "random_tensor.shape"
   ]
  },
  {
   "cell_type": "code",
   "execution_count": 23,
   "id": "38f0001e",
   "metadata": {
    "execution": {
     "iopub.execute_input": "2023-06-27T15:14:16.551544Z",
     "iopub.status.busy": "2023-06-27T15:14:16.550732Z",
     "iopub.status.idle": "2023-06-27T15:14:16.563261Z",
     "shell.execute_reply": "2023-06-27T15:14:16.562173Z"
    },
    "papermill": {
     "duration": 0.032172,
     "end_time": "2023-06-27T15:14:16.565223",
     "exception": false,
     "start_time": "2023-06-27T15:14:16.533051",
     "status": "completed"
    },
    "scrolled": true,
    "tags": []
   },
   "outputs": [
    {
     "data": {
      "text/plain": [
       "tensor([[[0.2907, 0.7175, 0.4955],\n",
       "         [0.6292, 0.1091, 0.2159],\n",
       "         [0.8149, 0.0049, 0.1803],\n",
       "         ...,\n",
       "         [0.3026, 0.4730, 0.8786],\n",
       "         [0.5113, 0.3055, 0.0726],\n",
       "         [0.1253, 0.9514, 0.6559]],\n",
       "\n",
       "        [[0.2790, 0.1024, 0.0957],\n",
       "         [0.3972, 0.0946, 0.6877],\n",
       "         [0.6634, 0.4711, 0.1480],\n",
       "         ...,\n",
       "         [0.0385, 0.5442, 0.3183],\n",
       "         [0.5792, 0.7563, 0.5471],\n",
       "         [0.2235, 0.5822, 0.1834]],\n",
       "\n",
       "        [[0.7641, 0.3821, 0.5087],\n",
       "         [0.6874, 0.1159, 0.7144],\n",
       "         [0.4982, 0.9897, 0.9789],\n",
       "         ...,\n",
       "         [0.3038, 0.5586, 0.4261],\n",
       "         [0.8165, 0.5713, 0.9494],\n",
       "         [0.6602, 0.9965, 0.7546]],\n",
       "\n",
       "        ...,\n",
       "\n",
       "        [[0.0659, 0.4754, 0.7396],\n",
       "         [0.3854, 0.8127, 0.4475],\n",
       "         [0.3508, 0.0209, 0.6490],\n",
       "         ...,\n",
       "         [0.6716, 0.6790, 0.3641],\n",
       "         [0.0341, 0.7227, 0.6987],\n",
       "         [0.1816, 0.9432, 0.6612]],\n",
       "\n",
       "        [[0.7612, 0.5185, 0.8802],\n",
       "         [0.1511, 0.8448, 0.8594],\n",
       "         [0.7035, 0.4415, 0.1101],\n",
       "         ...,\n",
       "         [0.9823, 0.5879, 0.8935],\n",
       "         [0.1647, 0.9844, 0.6912],\n",
       "         [0.9229, 0.5253, 0.1931]],\n",
       "\n",
       "        [[0.7840, 0.9939, 0.8072],\n",
       "         [0.8445, 0.3356, 0.2224],\n",
       "         [0.1483, 0.1390, 0.4553],\n",
       "         ...,\n",
       "         [0.8820, 0.7369, 0.7545],\n",
       "         [0.3169, 0.1252, 0.9412],\n",
       "         [0.2246, 0.5580, 0.9202]]])"
      ]
     },
     "execution_count": 23,
     "metadata": {},
     "output_type": "execute_result"
    }
   ],
   "source": [
    "# Creating Random tensor similar to Image Shape\n",
    "random_image_size_tensor =torch.rand(size=[224,224,3],) # height, width , color channels\n",
    "random_image_size_tensor"
   ]
  },
  {
   "cell_type": "code",
   "execution_count": 24,
   "id": "b56c802a",
   "metadata": {
    "execution": {
     "iopub.execute_input": "2023-06-27T15:14:16.598721Z",
     "iopub.status.busy": "2023-06-27T15:14:16.597993Z",
     "iopub.status.idle": "2023-06-27T15:14:16.603948Z",
     "shell.execute_reply": "2023-06-27T15:14:16.602909Z"
    },
    "papermill": {
     "duration": 0.024842,
     "end_time": "2023-06-27T15:14:16.605813",
     "exception": false,
     "start_time": "2023-06-27T15:14:16.580971",
     "status": "completed"
    },
    "tags": []
   },
   "outputs": [
    {
     "data": {
      "text/plain": [
       "3"
      ]
     },
     "execution_count": 24,
     "metadata": {},
     "output_type": "execute_result"
    }
   ],
   "source": [
    "random_image_size_tensor.ndim"
   ]
  },
  {
   "cell_type": "code",
   "execution_count": 25,
   "id": "f17020a8",
   "metadata": {
    "execution": {
     "iopub.execute_input": "2023-06-27T15:14:16.639682Z",
     "iopub.status.busy": "2023-06-27T15:14:16.639185Z",
     "iopub.status.idle": "2023-06-27T15:14:16.644518Z",
     "shell.execute_reply": "2023-06-27T15:14:16.643708Z"
    },
    "papermill": {
     "duration": 0.024577,
     "end_time": "2023-06-27T15:14:16.646380",
     "exception": false,
     "start_time": "2023-06-27T15:14:16.621803",
     "status": "completed"
    },
    "tags": []
   },
   "outputs": [
    {
     "data": {
      "text/plain": [
       "torch.Size([224, 224, 3])"
      ]
     },
     "execution_count": 25,
     "metadata": {},
     "output_type": "execute_result"
    }
   ],
   "source": [
    "random_image_size_tensor.shape"
   ]
  },
  {
   "cell_type": "markdown",
   "id": "f80b43cd",
   "metadata": {
    "papermill": {
     "duration": 0.015976,
     "end_time": "2023-06-27T15:14:16.678373",
     "exception": false,
     "start_time": "2023-06-27T15:14:16.662397",
     "status": "completed"
    },
    "tags": []
   },
   "source": [
    "### Zeroes and Ones"
   ]
  },
  {
   "cell_type": "code",
   "execution_count": 26,
   "id": "d36f1ed4",
   "metadata": {
    "execution": {
     "iopub.execute_input": "2023-06-27T15:14:16.712546Z",
     "iopub.status.busy": "2023-06-27T15:14:16.711804Z",
     "iopub.status.idle": "2023-06-27T15:14:16.720029Z",
     "shell.execute_reply": "2023-06-27T15:14:16.719093Z"
    },
    "papermill": {
     "duration": 0.027512,
     "end_time": "2023-06-27T15:14:16.722173",
     "exception": false,
     "start_time": "2023-06-27T15:14:16.694661",
     "status": "completed"
    },
    "tags": []
   },
   "outputs": [
    {
     "data": {
      "text/plain": [
       "tensor([[0., 0., 0., 0.],\n",
       "        [0., 0., 0., 0.],\n",
       "        [0., 0., 0., 0.]])"
      ]
     },
     "execution_count": 26,
     "metadata": {},
     "output_type": "execute_result"
    }
   ],
   "source": [
    "# Create a tenor of all zeros\n",
    "zeros = torch.zeros(3,4)\n",
    "zeros"
   ]
  },
  {
   "cell_type": "code",
   "execution_count": 27,
   "id": "90249b59",
   "metadata": {
    "execution": {
     "iopub.execute_input": "2023-06-27T15:14:16.756186Z",
     "iopub.status.busy": "2023-06-27T15:14:16.755918Z",
     "iopub.status.idle": "2023-06-27T15:14:16.762233Z",
     "shell.execute_reply": "2023-06-27T15:14:16.761374Z"
    },
    "papermill": {
     "duration": 0.025674,
     "end_time": "2023-06-27T15:14:16.764352",
     "exception": false,
     "start_time": "2023-06-27T15:14:16.738678",
     "status": "completed"
    },
    "tags": []
   },
   "outputs": [
    {
     "data": {
      "text/plain": [
       "tensor([[0., 0., 0., 0.],\n",
       "        [0., 0., 0., 0.],\n",
       "        [0., 0., 0., 0.]])"
      ]
     },
     "execution_count": 27,
     "metadata": {},
     "output_type": "execute_result"
    }
   ],
   "source": [
    "zeros * torch.rand(3,4)"
   ]
  },
  {
   "cell_type": "code",
   "execution_count": 28,
   "id": "af3d4ab8",
   "metadata": {
    "execution": {
     "iopub.execute_input": "2023-06-27T15:14:16.799718Z",
     "iopub.status.busy": "2023-06-27T15:14:16.799169Z",
     "iopub.status.idle": "2023-06-27T15:14:16.807180Z",
     "shell.execute_reply": "2023-06-27T15:14:16.806276Z"
    },
    "papermill": {
     "duration": 0.02844,
     "end_time": "2023-06-27T15:14:16.809080",
     "exception": false,
     "start_time": "2023-06-27T15:14:16.780640",
     "status": "completed"
    },
    "tags": []
   },
   "outputs": [
    {
     "data": {
      "text/plain": [
       "tensor([[1, 1, 1, 1],\n",
       "        [1, 1, 1, 1],\n",
       "        [1, 1, 1, 1]])"
      ]
     },
     "execution_count": 28,
     "metadata": {},
     "output_type": "execute_result"
    }
   ],
   "source": [
    "# Create tensor of all ones\n",
    "ones = torch.ones(size=(3,4),dtype=int)\n",
    "ones"
   ]
  },
  {
   "cell_type": "code",
   "execution_count": 29,
   "id": "134ef440",
   "metadata": {
    "execution": {
     "iopub.execute_input": "2023-06-27T15:14:16.846513Z",
     "iopub.status.busy": "2023-06-27T15:14:16.845911Z",
     "iopub.status.idle": "2023-06-27T15:14:16.853795Z",
     "shell.execute_reply": "2023-06-27T15:14:16.852985Z"
    },
    "papermill": {
     "duration": 0.030079,
     "end_time": "2023-06-27T15:14:16.855759",
     "exception": false,
     "start_time": "2023-06-27T15:14:16.825680",
     "status": "completed"
    },
    "tags": []
   },
   "outputs": [
    {
     "data": {
      "text/plain": [
       "torch.int64"
      ]
     },
     "execution_count": 29,
     "metadata": {},
     "output_type": "execute_result"
    }
   ],
   "source": [
    "ones.dtype"
   ]
  },
  {
   "cell_type": "markdown",
   "id": "5a362b86",
   "metadata": {
    "execution": {
     "iopub.execute_input": "2023-06-25T16:24:23.852212Z",
     "iopub.status.busy": "2023-06-25T16:24:23.851772Z",
     "iopub.status.idle": "2023-06-25T16:24:23.857025Z",
     "shell.execute_reply": "2023-06-25T16:24:23.856069Z",
     "shell.execute_reply.started": "2023-06-25T16:24:23.852179Z"
    },
    "papermill": {
     "duration": 0.016566,
     "end_time": "2023-06-27T15:14:16.889165",
     "exception": false,
     "start_time": "2023-06-27T15:14:16.872599",
     "status": "completed"
    },
    "tags": []
   },
   "source": [
    "### Create a range of tensors and tensors-like\n",
    "\n",
    "ref - https://pytorch.org/docs/stable/generated/torch.arange.html"
   ]
  },
  {
   "cell_type": "code",
   "execution_count": 30,
   "id": "429f869d",
   "metadata": {
    "execution": {
     "iopub.execute_input": "2023-06-27T15:14:16.924748Z",
     "iopub.status.busy": "2023-06-27T15:14:16.923987Z",
     "iopub.status.idle": "2023-06-27T15:14:16.933627Z",
     "shell.execute_reply": "2023-06-27T15:14:16.932700Z"
    },
    "papermill": {
     "duration": 0.029671,
     "end_time": "2023-06-27T15:14:16.935541",
     "exception": false,
     "start_time": "2023-06-27T15:14:16.905870",
     "status": "completed"
    },
    "tags": []
   },
   "outputs": [
    {
     "data": {
      "text/plain": [
       "tensor([ 1,  2,  3,  4,  5,  6,  7,  8,  9, 10])"
      ]
     },
     "execution_count": 30,
     "metadata": {},
     "output_type": "execute_result"
    }
   ],
   "source": [
    "# Use torch.arange()\n",
    "one_to_ten = torch.arange(start=1, end=11, step=1)\n",
    "one_to_ten"
   ]
  },
  {
   "cell_type": "code",
   "execution_count": 31,
   "id": "a69c1178",
   "metadata": {
    "execution": {
     "iopub.execute_input": "2023-06-27T15:14:16.971895Z",
     "iopub.status.busy": "2023-06-27T15:14:16.971160Z",
     "iopub.status.idle": "2023-06-27T15:14:16.977562Z",
     "shell.execute_reply": "2023-06-27T15:14:16.976700Z"
    },
    "papermill": {
     "duration": 0.026365,
     "end_time": "2023-06-27T15:14:16.979617",
     "exception": false,
     "start_time": "2023-06-27T15:14:16.953252",
     "status": "completed"
    },
    "tags": []
   },
   "outputs": [
    {
     "data": {
      "text/plain": [
       "tensor([0, 0, 0, 0, 0, 0, 0, 0, 0, 0])"
      ]
     },
     "execution_count": 31,
     "metadata": {},
     "output_type": "execute_result"
    }
   ],
   "source": [
    "# Create tesnors like\n",
    "ten_zeros = torch.zeros_like(input=one_to_ten)\n",
    "ten_zeros"
   ]
  },
  {
   "cell_type": "markdown",
   "id": "fe766a91",
   "metadata": {
    "papermill": {
     "duration": 0.016756,
     "end_time": "2023-06-27T15:14:17.013294",
     "exception": false,
     "start_time": "2023-06-27T15:14:16.996538",
     "status": "completed"
    },
    "tags": []
   },
   "source": [
    "### Tensor datatypes\n",
    "\n",
    "Tensor datatypes is one of the 3 big errors arrive in Pytorch\n",
    "\n",
    "1. Tensors not right datatype\n",
    "2. Tensors not right shape\n",
    "3. Tensors not no right device\n",
    "\n",
    "ref - https://pytorch.org/docs/stable/tensors.html"
   ]
  },
  {
   "cell_type": "code",
   "execution_count": 32,
   "id": "b071bcd4",
   "metadata": {
    "execution": {
     "iopub.execute_input": "2023-06-27T15:14:17.049075Z",
     "iopub.status.busy": "2023-06-27T15:14:17.048403Z",
     "iopub.status.idle": "2023-06-27T15:14:17.055827Z",
     "shell.execute_reply": "2023-06-27T15:14:17.054939Z"
    },
    "papermill": {
     "duration": 0.027557,
     "end_time": "2023-06-27T15:14:17.057781",
     "exception": false,
     "start_time": "2023-06-27T15:14:17.030224",
     "status": "completed"
    },
    "tags": []
   },
   "outputs": [
    {
     "data": {
      "text/plain": [
       "tensor([3., 6., 9.])"
      ]
     },
     "execution_count": 32,
     "metadata": {},
     "output_type": "execute_result"
    }
   ],
   "source": [
    "# Float 32 tensor\n",
    "float_32_tensor =torch.tensor([3.0,6.0,9.0],\n",
    "                             dtype=None, # what datatype of tensor (float32 etc)\n",
    "                             device=None, #'cpu or gpu -> cuda'\n",
    "                             requires_grad=False) # whether to track gradient\n",
    "float_32_tensor"
   ]
  },
  {
   "cell_type": "code",
   "execution_count": 33,
   "id": "d76a13c7",
   "metadata": {
    "execution": {
     "iopub.execute_input": "2023-06-27T15:14:17.093554Z",
     "iopub.status.busy": "2023-06-27T15:14:17.092831Z",
     "iopub.status.idle": "2023-06-27T15:14:17.098833Z",
     "shell.execute_reply": "2023-06-27T15:14:17.097929Z"
    },
    "papermill": {
     "duration": 0.025933,
     "end_time": "2023-06-27T15:14:17.100752",
     "exception": false,
     "start_time": "2023-06-27T15:14:17.074819",
     "status": "completed"
    },
    "tags": []
   },
   "outputs": [
    {
     "data": {
      "text/plain": [
       "torch.float32"
      ]
     },
     "execution_count": 33,
     "metadata": {},
     "output_type": "execute_result"
    }
   ],
   "source": [
    "float_32_tensor.dtype"
   ]
  },
  {
   "cell_type": "code",
   "execution_count": 34,
   "id": "0f41c820",
   "metadata": {
    "execution": {
     "iopub.execute_input": "2023-06-27T15:14:17.136731Z",
     "iopub.status.busy": "2023-06-27T15:14:17.136014Z",
     "iopub.status.idle": "2023-06-27T15:14:17.145517Z",
     "shell.execute_reply": "2023-06-27T15:14:17.144717Z"
    },
    "papermill": {
     "duration": 0.029535,
     "end_time": "2023-06-27T15:14:17.147434",
     "exception": false,
     "start_time": "2023-06-27T15:14:17.117899",
     "status": "completed"
    },
    "tags": []
   },
   "outputs": [],
   "source": [
    "float_16_tensor = float_32_tensor.half()\n",
    "# or\n",
    "float_16_tensor = float_32_tensor.type(torch.float) # torch.half"
   ]
  },
  {
   "cell_type": "code",
   "execution_count": 35,
   "id": "6323471f",
   "metadata": {
    "execution": {
     "iopub.execute_input": "2023-06-27T15:14:17.183689Z",
     "iopub.status.busy": "2023-06-27T15:14:17.182756Z",
     "iopub.status.idle": "2023-06-27T15:14:17.189208Z",
     "shell.execute_reply": "2023-06-27T15:14:17.188317Z"
    },
    "papermill": {
     "duration": 0.026432,
     "end_time": "2023-06-27T15:14:17.191128",
     "exception": false,
     "start_time": "2023-06-27T15:14:17.164696",
     "status": "completed"
    },
    "tags": []
   },
   "outputs": [
    {
     "data": {
      "text/plain": [
       "tensor([3., 6., 9.])"
      ]
     },
     "execution_count": 35,
     "metadata": {},
     "output_type": "execute_result"
    }
   ],
   "source": [
    "float_16_tensor"
   ]
  },
  {
   "cell_type": "code",
   "execution_count": 36,
   "id": "5ba586cd",
   "metadata": {
    "execution": {
     "iopub.execute_input": "2023-06-27T15:14:17.227497Z",
     "iopub.status.busy": "2023-06-27T15:14:17.226743Z",
     "iopub.status.idle": "2023-06-27T15:14:17.232823Z",
     "shell.execute_reply": "2023-06-27T15:14:17.231905Z"
    },
    "papermill": {
     "duration": 0.026536,
     "end_time": "2023-06-27T15:14:17.234958",
     "exception": false,
     "start_time": "2023-06-27T15:14:17.208422",
     "status": "completed"
    },
    "tags": []
   },
   "outputs": [
    {
     "data": {
      "text/plain": [
       "torch.float32"
      ]
     },
     "execution_count": 36,
     "metadata": {},
     "output_type": "execute_result"
    }
   ],
   "source": [
    "(float_16_tensor * float_32_tensor).dtype"
   ]
  },
  {
   "cell_type": "code",
   "execution_count": 37,
   "id": "bf22f7c9",
   "metadata": {
    "execution": {
     "iopub.execute_input": "2023-06-27T15:14:17.272717Z",
     "iopub.status.busy": "2023-06-27T15:14:17.271893Z",
     "iopub.status.idle": "2023-06-27T15:14:17.276500Z",
     "shell.execute_reply": "2023-06-27T15:14:17.275567Z"
    },
    "papermill": {
     "duration": 0.025942,
     "end_time": "2023-06-27T15:14:17.278643",
     "exception": false,
     "start_time": "2023-06-27T15:14:17.252701",
     "status": "completed"
    },
    "tags": []
   },
   "outputs": [],
   "source": [
    "int_32_tensor = torch.tensor([3,4,5],\n",
    "                             dtype=torch.int32)"
   ]
  },
  {
   "cell_type": "code",
   "execution_count": 38,
   "id": "7b849d83",
   "metadata": {
    "execution": {
     "iopub.execute_input": "2023-06-27T15:14:17.315598Z",
     "iopub.status.busy": "2023-06-27T15:14:17.314848Z",
     "iopub.status.idle": "2023-06-27T15:14:17.322267Z",
     "shell.execute_reply": "2023-06-27T15:14:17.321389Z"
    },
    "papermill": {
     "duration": 0.028063,
     "end_time": "2023-06-27T15:14:17.324539",
     "exception": false,
     "start_time": "2023-06-27T15:14:17.296476",
     "status": "completed"
    },
    "tags": []
   },
   "outputs": [
    {
     "data": {
      "text/plain": [
       "tensor([ 9., 24., 45.])"
      ]
     },
     "execution_count": 38,
     "metadata": {},
     "output_type": "execute_result"
    }
   ],
   "source": [
    "float_16_tensor * int_32_tensor"
   ]
  },
  {
   "cell_type": "markdown",
   "id": "f085866e",
   "metadata": {
    "papermill": {
     "duration": 0.017519,
     "end_time": "2023-06-27T15:14:17.359681",
     "exception": false,
     "start_time": "2023-06-27T15:14:17.342162",
     "status": "completed"
    },
    "tags": []
   },
   "source": [
    "### Getting info from tensors (tensor attributes)\n",
    "1. tensor not datatype - to check use tensor.dtype\n",
    "2. tensor not right shape - to check use tensor.shape or tensor.size()\n",
    "3. tensor not on right device - to check use tensor.device"
   ]
  },
  {
   "cell_type": "code",
   "execution_count": 39,
   "id": "19fd786d",
   "metadata": {
    "execution": {
     "iopub.execute_input": "2023-06-27T15:14:17.399473Z",
     "iopub.status.busy": "2023-06-27T15:14:17.398565Z",
     "iopub.status.idle": "2023-06-27T15:14:17.406171Z",
     "shell.execute_reply": "2023-06-27T15:14:17.405188Z"
    },
    "papermill": {
     "duration": 0.030702,
     "end_time": "2023-06-27T15:14:17.408191",
     "exception": false,
     "start_time": "2023-06-27T15:14:17.377489",
     "status": "completed"
    },
    "tags": []
   },
   "outputs": [
    {
     "data": {
      "text/plain": [
       "tensor([[0.8122, 0.7178, 0.4812, 0.9858],\n",
       "        [0.0687, 0.0395, 0.8675, 0.7269],\n",
       "        [0.0476, 0.1432, 0.2366, 0.6015]])"
      ]
     },
     "execution_count": 39,
     "metadata": {},
     "output_type": "execute_result"
    }
   ],
   "source": [
    "# Create a tensor\n",
    "some_tensor = torch.rand(3,4)\n",
    "some_tensor"
   ]
  },
  {
   "cell_type": "code",
   "execution_count": 40,
   "id": "8220c6d6",
   "metadata": {
    "execution": {
     "iopub.execute_input": "2023-06-27T15:14:17.446276Z",
     "iopub.status.busy": "2023-06-27T15:14:17.445552Z",
     "iopub.status.idle": "2023-06-27T15:14:17.451067Z",
     "shell.execute_reply": "2023-06-27T15:14:17.450163Z"
    },
    "papermill": {
     "duration": 0.026385,
     "end_time": "2023-06-27T15:14:17.452946",
     "exception": false,
     "start_time": "2023-06-27T15:14:17.426561",
     "status": "completed"
    },
    "tags": []
   },
   "outputs": [
    {
     "name": "stdout",
     "output_type": "stream",
     "text": [
      "Tensor Datatype : torch.float32 Tensor Shape : torch.Size([3, 4]) Tensor Device : cpu\n"
     ]
    }
   ],
   "source": [
    "print(\"Tensor Datatype :\",some_tensor.dtype,\n",
    "\"Tensor Shape :\",some_tensor.shape,\n",
    "\"Tensor Device :\",some_tensor.device)"
   ]
  },
  {
   "cell_type": "markdown",
   "id": "259ccd1b",
   "metadata": {
    "execution": {
     "iopub.execute_input": "2023-06-26T15:31:18.518353Z",
     "iopub.status.busy": "2023-06-26T15:31:18.517972Z",
     "iopub.status.idle": "2023-06-26T15:31:18.526666Z",
     "shell.execute_reply": "2023-06-26T15:31:18.525296Z",
     "shell.execute_reply.started": "2023-06-26T15:31:18.518326Z"
    },
    "papermill": {
     "duration": 0.017601,
     "end_time": "2023-06-27T15:14:17.488427",
     "exception": false,
     "start_time": "2023-06-27T15:14:17.470826",
     "status": "completed"
    },
    "tags": []
   },
   "source": [
    "### Manipulating Tensors (Tensor Operations)\n",
    "1. Addition\n",
    "2. Subtraction\n",
    "3. Multiplication (element-wise)\n",
    "4. Division\n",
    "5. Matrix Multiplication"
   ]
  },
  {
   "cell_type": "code",
   "execution_count": 41,
   "id": "83243888",
   "metadata": {
    "execution": {
     "iopub.execute_input": "2023-06-27T15:14:17.525242Z",
     "iopub.status.busy": "2023-06-27T15:14:17.524968Z",
     "iopub.status.idle": "2023-06-27T15:14:17.533395Z",
     "shell.execute_reply": "2023-06-27T15:14:17.532469Z"
    },
    "papermill": {
     "duration": 0.028869,
     "end_time": "2023-06-27T15:14:17.535283",
     "exception": false,
     "start_time": "2023-06-27T15:14:17.506414",
     "status": "completed"
    },
    "tags": []
   },
   "outputs": [
    {
     "data": {
      "text/plain": [
       "tensor([11, 12, 13])"
      ]
     },
     "execution_count": 41,
     "metadata": {},
     "output_type": "execute_result"
    }
   ],
   "source": [
    "# Create a tensor and add 10\n",
    "tensor = torch.tensor([1,2,3])\n",
    "tensor + 10"
   ]
  },
  {
   "cell_type": "code",
   "execution_count": 42,
   "id": "955354be",
   "metadata": {
    "execution": {
     "iopub.execute_input": "2023-06-27T15:14:17.574301Z",
     "iopub.status.busy": "2023-06-27T15:14:17.573562Z",
     "iopub.status.idle": "2023-06-27T15:14:17.582416Z",
     "shell.execute_reply": "2023-06-27T15:14:17.581404Z"
    },
    "papermill": {
     "duration": 0.030893,
     "end_time": "2023-06-27T15:14:17.584560",
     "exception": false,
     "start_time": "2023-06-27T15:14:17.553667",
     "status": "completed"
    },
    "tags": []
   },
   "outputs": [
    {
     "data": {
      "text/plain": [
       "tensor([10, 20, 30])"
      ]
     },
     "execution_count": 42,
     "metadata": {},
     "output_type": "execute_result"
    }
   ],
   "source": [
    "# multiply\n",
    "tensor * 10"
   ]
  },
  {
   "cell_type": "code",
   "execution_count": 43,
   "id": "737ff458",
   "metadata": {
    "execution": {
     "iopub.execute_input": "2023-06-27T15:14:17.622193Z",
     "iopub.status.busy": "2023-06-27T15:14:17.621384Z",
     "iopub.status.idle": "2023-06-27T15:14:17.629284Z",
     "shell.execute_reply": "2023-06-27T15:14:17.628392Z"
    },
    "papermill": {
     "duration": 0.028638,
     "end_time": "2023-06-27T15:14:17.631288",
     "exception": false,
     "start_time": "2023-06-27T15:14:17.602650",
     "status": "completed"
    },
    "tags": []
   },
   "outputs": [
    {
     "data": {
      "text/plain": [
       "tensor([-9, -8, -7])"
      ]
     },
     "execution_count": 43,
     "metadata": {},
     "output_type": "execute_result"
    }
   ],
   "source": [
    "# subtract 10\n",
    "tensor - 10"
   ]
  },
  {
   "cell_type": "code",
   "execution_count": 44,
   "id": "83771239",
   "metadata": {
    "execution": {
     "iopub.execute_input": "2023-06-27T15:14:17.669867Z",
     "iopub.status.busy": "2023-06-27T15:14:17.669118Z",
     "iopub.status.idle": "2023-06-27T15:14:17.675472Z",
     "shell.execute_reply": "2023-06-27T15:14:17.674592Z"
    },
    "papermill": {
     "duration": 0.027262,
     "end_time": "2023-06-27T15:14:17.677350",
     "exception": false,
     "start_time": "2023-06-27T15:14:17.650088",
     "status": "completed"
    },
    "tags": []
   },
   "outputs": [
    {
     "data": {
      "text/plain": [
       "tensor([10, 20, 30])"
      ]
     },
     "execution_count": 44,
     "metadata": {},
     "output_type": "execute_result"
    }
   ],
   "source": [
    "# multiply using tensor function\n",
    "torch.mul(tensor,10)"
   ]
  },
  {
   "cell_type": "markdown",
   "id": "0eb96520",
   "metadata": {
    "papermill": {
     "duration": 0.018118,
     "end_time": "2023-06-27T15:14:17.714696",
     "exception": false,
     "start_time": "2023-06-27T15:14:17.696578",
     "status": "completed"
    },
    "tags": []
   },
   "source": [
    "### Matrix Multiplication\n",
    "\n",
    "Two Main ways to multiply in tensors\n",
    "\n",
    "1. Element-wise multipication or Cross Multiplication\n",
    "2. Matrix multiplication or Dot Product\n",
    "\n",
    "ref - https://www.mathsisfun.com/algebra/matrix-multiplying.html\n",
    "\n",
    "Two Rules must Follow:\n",
    "1. The **Inner Dimension** must match:\n",
    "* '(3,2) @ (3,2)' wont work\n",
    "* '(3,2) @ (2,3)' will work\n",
    "* '(2,3) @ (3,2)' will work"
   ]
  },
  {
   "cell_type": "code",
   "execution_count": 45,
   "id": "2fbff896",
   "metadata": {
    "execution": {
     "iopub.execute_input": "2023-06-27T15:14:17.752971Z",
     "iopub.status.busy": "2023-06-27T15:14:17.752623Z",
     "iopub.status.idle": "2023-06-27T15:14:17.798785Z",
     "shell.execute_reply": "2023-06-27T15:14:17.797910Z"
    },
    "papermill": {
     "duration": 0.067777,
     "end_time": "2023-06-27T15:14:17.800897",
     "exception": false,
     "start_time": "2023-06-27T15:14:17.733120",
     "status": "completed"
    },
    "tags": []
   },
   "outputs": [
    {
     "data": {
      "text/plain": [
       "tensor([[0.7183, 0.7222, 0.4864],\n",
       "        [0.6151, 0.6206, 0.4047],\n",
       "        [0.8701, 0.8840, 0.5393]])"
      ]
     },
     "execution_count": 45,
     "metadata": {},
     "output_type": "execute_result"
    }
   ],
   "source": [
    "torch.matmul(torch.rand(3,2) , torch.rand(2,3))"
   ]
  },
  {
   "cell_type": "code",
   "execution_count": 46,
   "id": "92182107",
   "metadata": {
    "execution": {
     "iopub.execute_input": "2023-06-27T15:14:17.840911Z",
     "iopub.status.busy": "2023-06-27T15:14:17.840553Z",
     "iopub.status.idle": "2023-06-27T15:14:17.850947Z",
     "shell.execute_reply": "2023-06-27T15:14:17.848883Z"
    },
    "papermill": {
     "duration": 0.03241,
     "end_time": "2023-06-27T15:14:17.852961",
     "exception": false,
     "start_time": "2023-06-27T15:14:17.820551",
     "status": "completed"
    },
    "tags": []
   },
   "outputs": [
    {
     "name": "stdout",
     "output_type": "stream",
     "text": [
      "tensor([1, 2, 3]) * tensor([1, 2, 3])\n",
      "Equals : tensor([1, 4, 9])\n"
     ]
    }
   ],
   "source": [
    "# Element wise multiplication\n",
    "print(tensor, '*' , tensor)\n",
    "print('Equals :', tensor * tensor )"
   ]
  },
  {
   "cell_type": "code",
   "execution_count": 47,
   "id": "25857bc2",
   "metadata": {
    "execution": {
     "iopub.execute_input": "2023-06-27T15:14:17.892368Z",
     "iopub.status.busy": "2023-06-27T15:14:17.891582Z",
     "iopub.status.idle": "2023-06-27T15:14:17.898046Z",
     "shell.execute_reply": "2023-06-27T15:14:17.897105Z"
    },
    "papermill": {
     "duration": 0.027901,
     "end_time": "2023-06-27T15:14:17.899988",
     "exception": false,
     "start_time": "2023-06-27T15:14:17.872087",
     "status": "completed"
    },
    "tags": []
   },
   "outputs": [
    {
     "data": {
      "text/plain": [
       "tensor(14)"
      ]
     },
     "execution_count": 47,
     "metadata": {},
     "output_type": "execute_result"
    }
   ],
   "source": [
    "# Matrix Multiplication\n",
    "torch.matmul(tensor,tensor)"
   ]
  },
  {
   "cell_type": "code",
   "execution_count": null,
   "id": "1fad4285",
   "metadata": {
    "papermill": {
     "duration": 0.018895,
     "end_time": "2023-06-27T15:14:17.937798",
     "exception": false,
     "start_time": "2023-06-27T15:14:17.918903",
     "status": "completed"
    },
    "tags": []
   },
   "outputs": [],
   "source": []
  },
  {
   "cell_type": "code",
   "execution_count": null,
   "id": "f6ba814a",
   "metadata": {
    "papermill": {
     "duration": 0.018614,
     "end_time": "2023-06-27T15:14:17.975669",
     "exception": false,
     "start_time": "2023-06-27T15:14:17.957055",
     "status": "completed"
    },
    "tags": []
   },
   "outputs": [],
   "source": []
  }
 ],
 "metadata": {
  "kernelspec": {
   "display_name": "Python 3",
   "language": "python",
   "name": "python3"
  },
  "language_info": {
   "codemirror_mode": {
    "name": "ipython",
    "version": 3
   },
   "file_extension": ".py",
   "mimetype": "text/x-python",
   "name": "python",
   "nbconvert_exporter": "python",
   "pygments_lexer": "ipython3",
   "version": "3.10.10"
  },
  "papermill": {
   "default_parameters": {},
   "duration": 18.776344,
   "end_time": "2023-06-27T15:14:20.507522",
   "environment_variables": {},
   "exception": null,
   "input_path": "__notebook__.ipynb",
   "output_path": "__notebook__.ipynb",
   "parameters": {},
   "start_time": "2023-06-27T15:14:01.731178",
   "version": "2.4.0"
  }
 },
 "nbformat": 4,
 "nbformat_minor": 5
}
