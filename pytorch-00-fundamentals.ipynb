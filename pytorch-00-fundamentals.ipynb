{
 "cells": [
  {
   "cell_type": "code",
   "execution_count": 1,
   "id": "9ef428e6",
   "metadata": {
    "_cell_guid": "b1076dfc-b9ad-4769-8c92-a6c4dae69d19",
    "_uuid": "8f2839f25d086af736a60e9eeb907d3b93b6e0e5",
    "execution": {
     "iopub.execute_input": "2023-06-29T06:30:38.643381Z",
     "iopub.status.busy": "2023-06-29T06:30:38.642954Z",
     "iopub.status.idle": "2023-06-29T06:30:41.962343Z",
     "shell.execute_reply": "2023-06-29T06:30:41.961454Z"
    },
    "papermill": {
     "duration": 3.340946,
     "end_time": "2023-06-29T06:30:41.964466",
     "exception": false,
     "start_time": "2023-06-29T06:30:38.623520",
     "status": "completed"
    },
    "tags": []
   },
   "outputs": [
    {
     "data": {
      "text/plain": [
       "'2.0.0'"
      ]
     },
     "execution_count": 1,
     "metadata": {},
     "output_type": "execute_result"
    }
   ],
   "source": [
    "import torch\n",
    "import pandas as pd\n",
    "import numpy as np\n",
    "import matplotlib.pyplot as plt\n",
    "torch.__version__"
   ]
  },
  {
   "cell_type": "markdown",
   "id": "0451900a",
   "metadata": {
    "execution": {
     "iopub.execute_input": "2023-06-25T15:31:29.081596Z",
     "iopub.status.busy": "2023-06-25T15:31:29.081220Z",
     "iopub.status.idle": "2023-06-25T15:31:29.086052Z",
     "shell.execute_reply": "2023-06-25T15:31:29.085102Z",
     "shell.execute_reply.started": "2023-06-25T15:31:29.081561Z"
    },
    "papermill": {
     "duration": 0.017456,
     "end_time": "2023-06-29T06:30:42.000407",
     "exception": false,
     "start_time": "2023-06-29T06:30:41.982951",
     "status": "completed"
    },
    "tags": []
   },
   "source": [
    "## Introduction to Tensor\n",
    "\n",
    "### Creating Tensors\n",
    "\n",
    "PyTorch tensor are create using torch.Tensor()\n",
    "\n",
    "ref - https://pytorch.org/docs/stable/tensors.html"
   ]
  },
  {
   "cell_type": "code",
   "execution_count": 2,
   "id": "b24e0bc5",
   "metadata": {
    "execution": {
     "iopub.execute_input": "2023-06-29T06:30:42.037704Z",
     "iopub.status.busy": "2023-06-29T06:30:42.037201Z",
     "iopub.status.idle": "2023-06-29T06:30:42.073740Z",
     "shell.execute_reply": "2023-06-29T06:30:42.072764Z"
    },
    "papermill": {
     "duration": 0.056919,
     "end_time": "2023-06-29T06:30:42.075595",
     "exception": false,
     "start_time": "2023-06-29T06:30:42.018676",
     "status": "completed"
    },
    "tags": []
   },
   "outputs": [
    {
     "data": {
      "text/plain": [
       "tensor(7)"
      ]
     },
     "execution_count": 2,
     "metadata": {},
     "output_type": "execute_result"
    }
   ],
   "source": [
    "# Scaler\n",
    "scaler = torch.tensor(7)\n",
    "scaler"
   ]
  },
  {
   "cell_type": "code",
   "execution_count": 3,
   "id": "4c585bf3",
   "metadata": {
    "execution": {
     "iopub.execute_input": "2023-06-29T06:30:42.112589Z",
     "iopub.status.busy": "2023-06-29T06:30:42.111853Z",
     "iopub.status.idle": "2023-06-29T06:30:42.117792Z",
     "shell.execute_reply": "2023-06-29T06:30:42.116877Z"
    },
    "papermill": {
     "duration": 0.026181,
     "end_time": "2023-06-29T06:30:42.119675",
     "exception": false,
     "start_time": "2023-06-29T06:30:42.093494",
     "status": "completed"
    },
    "tags": []
   },
   "outputs": [
    {
     "data": {
      "text/plain": [
       "0"
      ]
     },
     "execution_count": 3,
     "metadata": {},
     "output_type": "execute_result"
    }
   ],
   "source": [
    "scaler.ndim"
   ]
  },
  {
   "cell_type": "code",
   "execution_count": 4,
   "id": "8ef5a4ee",
   "metadata": {
    "execution": {
     "iopub.execute_input": "2023-06-29T06:30:42.156702Z",
     "iopub.status.busy": "2023-06-29T06:30:42.156064Z",
     "iopub.status.idle": "2023-06-29T06:30:42.161838Z",
     "shell.execute_reply": "2023-06-29T06:30:42.160967Z"
    },
    "papermill": {
     "duration": 0.026531,
     "end_time": "2023-06-29T06:30:42.163857",
     "exception": false,
     "start_time": "2023-06-29T06:30:42.137326",
     "status": "completed"
    },
    "tags": []
   },
   "outputs": [
    {
     "data": {
      "text/plain": [
       "7"
      ]
     },
     "execution_count": 4,
     "metadata": {},
     "output_type": "execute_result"
    }
   ],
   "source": [
    "# Get Tensor back ans int\n",
    "scaler.item()"
   ]
  },
  {
   "cell_type": "code",
   "execution_count": 5,
   "id": "3b149b36",
   "metadata": {
    "execution": {
     "iopub.execute_input": "2023-06-29T06:30:42.200481Z",
     "iopub.status.busy": "2023-06-29T06:30:42.200201Z",
     "iopub.status.idle": "2023-06-29T06:30:42.207667Z",
     "shell.execute_reply": "2023-06-29T06:30:42.206639Z"
    },
    "papermill": {
     "duration": 0.028035,
     "end_time": "2023-06-29T06:30:42.209571",
     "exception": false,
     "start_time": "2023-06-29T06:30:42.181536",
     "status": "completed"
    },
    "tags": []
   },
   "outputs": [
    {
     "data": {
      "text/plain": [
       "tensor([7, 7])"
      ]
     },
     "execution_count": 5,
     "metadata": {},
     "output_type": "execute_result"
    }
   ],
   "source": [
    "# Vector\n",
    "vector = torch.tensor([7,7])\n",
    "vector"
   ]
  },
  {
   "cell_type": "code",
   "execution_count": 6,
   "id": "e8ee4f2f",
   "metadata": {
    "execution": {
     "iopub.execute_input": "2023-06-29T06:30:42.246979Z",
     "iopub.status.busy": "2023-06-29T06:30:42.246185Z",
     "iopub.status.idle": "2023-06-29T06:30:42.252052Z",
     "shell.execute_reply": "2023-06-29T06:30:42.251146Z"
    },
    "papermill": {
     "duration": 0.026473,
     "end_time": "2023-06-29T06:30:42.253995",
     "exception": false,
     "start_time": "2023-06-29T06:30:42.227522",
     "status": "completed"
    },
    "tags": []
   },
   "outputs": [
    {
     "data": {
      "text/plain": [
       "1"
      ]
     },
     "execution_count": 6,
     "metadata": {},
     "output_type": "execute_result"
    }
   ],
   "source": [
    "vector.ndim"
   ]
  },
  {
   "cell_type": "code",
   "execution_count": 7,
   "id": "7d70d40c",
   "metadata": {
    "execution": {
     "iopub.execute_input": "2023-06-29T06:30:42.291149Z",
     "iopub.status.busy": "2023-06-29T06:30:42.290440Z",
     "iopub.status.idle": "2023-06-29T06:30:42.295865Z",
     "shell.execute_reply": "2023-06-29T06:30:42.294974Z"
    },
    "papermill": {
     "duration": 0.026142,
     "end_time": "2023-06-29T06:30:42.297913",
     "exception": false,
     "start_time": "2023-06-29T06:30:42.271771",
     "status": "completed"
    },
    "tags": []
   },
   "outputs": [
    {
     "data": {
      "text/plain": [
       "torch.Size([2])"
      ]
     },
     "execution_count": 7,
     "metadata": {},
     "output_type": "execute_result"
    }
   ],
   "source": [
    "vector.shape"
   ]
  },
  {
   "cell_type": "code",
   "execution_count": 8,
   "id": "fe6900ba",
   "metadata": {
    "execution": {
     "iopub.execute_input": "2023-06-29T06:30:42.335603Z",
     "iopub.status.busy": "2023-06-29T06:30:42.334854Z",
     "iopub.status.idle": "2023-06-29T06:30:42.343086Z",
     "shell.execute_reply": "2023-06-29T06:30:42.342173Z"
    },
    "papermill": {
     "duration": 0.029025,
     "end_time": "2023-06-29T06:30:42.345031",
     "exception": false,
     "start_time": "2023-06-29T06:30:42.316006",
     "status": "completed"
    },
    "tags": []
   },
   "outputs": [
    {
     "data": {
      "text/plain": [
       "tensor([[7, 8],\n",
       "        [6, 5]])"
      ]
     },
     "execution_count": 8,
     "metadata": {},
     "output_type": "execute_result"
    }
   ],
   "source": [
    "# Matrix\n",
    "MATRIX = torch.tensor([[7,8],\n",
    "                      [6,5]])\n",
    "MATRIX"
   ]
  },
  {
   "cell_type": "code",
   "execution_count": 9,
   "id": "5c2cc86b",
   "metadata": {
    "execution": {
     "iopub.execute_input": "2023-06-29T06:30:42.382753Z",
     "iopub.status.busy": "2023-06-29T06:30:42.382000Z",
     "iopub.status.idle": "2023-06-29T06:30:42.387791Z",
     "shell.execute_reply": "2023-06-29T06:30:42.386869Z"
    },
    "papermill": {
     "duration": 0.026594,
     "end_time": "2023-06-29T06:30:42.389723",
     "exception": false,
     "start_time": "2023-06-29T06:30:42.363129",
     "status": "completed"
    },
    "tags": []
   },
   "outputs": [
    {
     "data": {
      "text/plain": [
       "2"
      ]
     },
     "execution_count": 9,
     "metadata": {},
     "output_type": "execute_result"
    }
   ],
   "source": [
    "MATRIX.ndim"
   ]
  },
  {
   "cell_type": "code",
   "execution_count": 10,
   "id": "43ee3ab5",
   "metadata": {
    "execution": {
     "iopub.execute_input": "2023-06-29T06:30:42.427499Z",
     "iopub.status.busy": "2023-06-29T06:30:42.427213Z",
     "iopub.status.idle": "2023-06-29T06:30:42.433161Z",
     "shell.execute_reply": "2023-06-29T06:30:42.432239Z"
    },
    "papermill": {
     "duration": 0.027163,
     "end_time": "2023-06-29T06:30:42.435142",
     "exception": false,
     "start_time": "2023-06-29T06:30:42.407979",
     "status": "completed"
    },
    "tags": []
   },
   "outputs": [
    {
     "data": {
      "text/plain": [
       "tensor([7, 8])"
      ]
     },
     "execution_count": 10,
     "metadata": {},
     "output_type": "execute_result"
    }
   ],
   "source": [
    "MATRIX[0]"
   ]
  },
  {
   "cell_type": "code",
   "execution_count": 11,
   "id": "7f1242bc",
   "metadata": {
    "execution": {
     "iopub.execute_input": "2023-06-29T06:30:42.473013Z",
     "iopub.status.busy": "2023-06-29T06:30:42.472756Z",
     "iopub.status.idle": "2023-06-29T06:30:42.478632Z",
     "shell.execute_reply": "2023-06-29T06:30:42.477730Z"
    },
    "papermill": {
     "duration": 0.026891,
     "end_time": "2023-06-29T06:30:42.480512",
     "exception": false,
     "start_time": "2023-06-29T06:30:42.453621",
     "status": "completed"
    },
    "tags": []
   },
   "outputs": [
    {
     "data": {
      "text/plain": [
       "tensor([6, 5])"
      ]
     },
     "execution_count": 11,
     "metadata": {},
     "output_type": "execute_result"
    }
   ],
   "source": [
    "MATRIX[1]"
   ]
  },
  {
   "cell_type": "code",
   "execution_count": 12,
   "id": "ac2eec9f",
   "metadata": {
    "execution": {
     "iopub.execute_input": "2023-06-29T06:30:42.519143Z",
     "iopub.status.busy": "2023-06-29T06:30:42.518427Z",
     "iopub.status.idle": "2023-06-29T06:30:42.524204Z",
     "shell.execute_reply": "2023-06-29T06:30:42.523323Z"
    },
    "papermill": {
     "duration": 0.027027,
     "end_time": "2023-06-29T06:30:42.526131",
     "exception": false,
     "start_time": "2023-06-29T06:30:42.499104",
     "status": "completed"
    },
    "tags": []
   },
   "outputs": [
    {
     "data": {
      "text/plain": [
       "torch.Size([2, 2])"
      ]
     },
     "execution_count": 12,
     "metadata": {},
     "output_type": "execute_result"
    }
   ],
   "source": [
    "MATRIX.shape"
   ]
  },
  {
   "cell_type": "code",
   "execution_count": 13,
   "id": "27c03d1e",
   "metadata": {
    "execution": {
     "iopub.execute_input": "2023-06-29T06:30:42.565081Z",
     "iopub.status.busy": "2023-06-29T06:30:42.564391Z",
     "iopub.status.idle": "2023-06-29T06:30:42.571239Z",
     "shell.execute_reply": "2023-06-29T06:30:42.570342Z"
    },
    "papermill": {
     "duration": 0.028211,
     "end_time": "2023-06-29T06:30:42.573164",
     "exception": false,
     "start_time": "2023-06-29T06:30:42.544953",
     "status": "completed"
    },
    "tags": []
   },
   "outputs": [
    {
     "data": {
      "text/plain": [
       "tensor([[[1, 2, 3],\n",
       "         [5, 6, 6],\n",
       "         [7, 8, 9]]])"
      ]
     },
     "execution_count": 13,
     "metadata": {},
     "output_type": "execute_result"
    }
   ],
   "source": [
    "# Tensor\n",
    "TENSOR = torch.tensor([[[1,2,3],\n",
    "                      [5,6,6],\n",
    "                      [7,8,9]]])\n",
    "TENSOR"
   ]
  },
  {
   "cell_type": "code",
   "execution_count": 14,
   "id": "8a4db065",
   "metadata": {
    "execution": {
     "iopub.execute_input": "2023-06-29T06:30:42.612452Z",
     "iopub.status.busy": "2023-06-29T06:30:42.611710Z",
     "iopub.status.idle": "2023-06-29T06:30:42.619041Z",
     "shell.execute_reply": "2023-06-29T06:30:42.618240Z"
    },
    "papermill": {
     "duration": 0.029114,
     "end_time": "2023-06-29T06:30:42.620984",
     "exception": false,
     "start_time": "2023-06-29T06:30:42.591870",
     "status": "completed"
    },
    "tags": []
   },
   "outputs": [
    {
     "data": {
      "text/plain": [
       "3"
      ]
     },
     "execution_count": 14,
     "metadata": {},
     "output_type": "execute_result"
    }
   ],
   "source": [
    "TENSOR.ndim"
   ]
  },
  {
   "cell_type": "code",
   "execution_count": 15,
   "id": "3e0922b3",
   "metadata": {
    "execution": {
     "iopub.execute_input": "2023-06-29T06:30:42.660044Z",
     "iopub.status.busy": "2023-06-29T06:30:42.659324Z",
     "iopub.status.idle": "2023-06-29T06:30:42.665145Z",
     "shell.execute_reply": "2023-06-29T06:30:42.664180Z"
    },
    "papermill": {
     "duration": 0.027844,
     "end_time": "2023-06-29T06:30:42.667541",
     "exception": false,
     "start_time": "2023-06-29T06:30:42.639697",
     "status": "completed"
    },
    "tags": []
   },
   "outputs": [
    {
     "data": {
      "text/plain": [
       "torch.Size([1, 3, 3])"
      ]
     },
     "execution_count": 15,
     "metadata": {},
     "output_type": "execute_result"
    }
   ],
   "source": [
    "TENSOR.shape"
   ]
  },
  {
   "cell_type": "code",
   "execution_count": 16,
   "id": "02431a5b",
   "metadata": {
    "execution": {
     "iopub.execute_input": "2023-06-29T06:30:42.706414Z",
     "iopub.status.busy": "2023-06-29T06:30:42.706143Z",
     "iopub.status.idle": "2023-06-29T06:30:42.712638Z",
     "shell.execute_reply": "2023-06-29T06:30:42.711699Z"
    },
    "papermill": {
     "duration": 0.028677,
     "end_time": "2023-06-29T06:30:42.715129",
     "exception": false,
     "start_time": "2023-06-29T06:30:42.686452",
     "status": "completed"
    },
    "tags": []
   },
   "outputs": [
    {
     "data": {
      "text/plain": [
       "tensor([[1, 2, 3],\n",
       "        [5, 6, 6],\n",
       "        [7, 8, 9]])"
      ]
     },
     "execution_count": 16,
     "metadata": {},
     "output_type": "execute_result"
    }
   ],
   "source": [
    "TENSOR[0]"
   ]
  },
  {
   "cell_type": "code",
   "execution_count": 17,
   "id": "7b5c71c8",
   "metadata": {
    "execution": {
     "iopub.execute_input": "2023-06-29T06:30:42.754905Z",
     "iopub.status.busy": "2023-06-29T06:30:42.754653Z",
     "iopub.status.idle": "2023-06-29T06:30:42.763784Z",
     "shell.execute_reply": "2023-06-29T06:30:42.762949Z"
    },
    "papermill": {
     "duration": 0.031534,
     "end_time": "2023-06-29T06:30:42.765839",
     "exception": false,
     "start_time": "2023-06-29T06:30:42.734305",
     "status": "completed"
    },
    "tags": []
   },
   "outputs": [
    {
     "data": {
      "text/plain": [
       "tensor([[[1, 2, 3],\n",
       "         [4, 5, 6],\n",
       "         [7, 8, 9]],\n",
       "\n",
       "        [[1, 2, 3],\n",
       "         [4, 5, 6],\n",
       "         [7, 8, 9]]])"
      ]
     },
     "execution_count": 17,
     "metadata": {},
     "output_type": "execute_result"
    }
   ],
   "source": [
    "# Practice\n",
    "TENSOR1 = torch.tensor([[[1,2,3],\n",
    "                      [4,5,6],\n",
    "                      [7,8,9]],\n",
    "                     [[1,2,3],\n",
    "                      [4,5,6],\n",
    "                      [7,8,9]]])\n",
    "TENSOR1"
   ]
  },
  {
   "cell_type": "code",
   "execution_count": 18,
   "id": "f3be236d",
   "metadata": {
    "execution": {
     "iopub.execute_input": "2023-06-29T06:30:42.805337Z",
     "iopub.status.busy": "2023-06-29T06:30:42.805043Z",
     "iopub.status.idle": "2023-06-29T06:30:42.811179Z",
     "shell.execute_reply": "2023-06-29T06:30:42.810256Z"
    },
    "papermill": {
     "duration": 0.028246,
     "end_time": "2023-06-29T06:30:42.813369",
     "exception": false,
     "start_time": "2023-06-29T06:30:42.785123",
     "status": "completed"
    },
    "tags": []
   },
   "outputs": [
    {
     "data": {
      "text/plain": [
       "3"
      ]
     },
     "execution_count": 18,
     "metadata": {},
     "output_type": "execute_result"
    }
   ],
   "source": [
    "TENSOR1.ndim"
   ]
  },
  {
   "cell_type": "code",
   "execution_count": 19,
   "id": "7000aff6",
   "metadata": {
    "execution": {
     "iopub.execute_input": "2023-06-29T06:30:42.853564Z",
     "iopub.status.busy": "2023-06-29T06:30:42.853303Z",
     "iopub.status.idle": "2023-06-29T06:30:42.860264Z",
     "shell.execute_reply": "2023-06-29T06:30:42.859328Z"
    },
    "papermill": {
     "duration": 0.029643,
     "end_time": "2023-06-29T06:30:42.862342",
     "exception": false,
     "start_time": "2023-06-29T06:30:42.832699",
     "status": "completed"
    },
    "tags": []
   },
   "outputs": [
    {
     "data": {
      "text/plain": [
       "torch.Size([2, 3, 3])"
      ]
     },
     "execution_count": 19,
     "metadata": {},
     "output_type": "execute_result"
    }
   ],
   "source": [
    "TENSOR1.shape"
   ]
  },
  {
   "cell_type": "markdown",
   "id": "72725a27",
   "metadata": {
    "execution": {
     "iopub.execute_input": "2023-06-25T15:53:52.605155Z",
     "iopub.status.busy": "2023-06-25T15:53:52.604740Z",
     "iopub.status.idle": "2023-06-25T15:53:52.609815Z",
     "shell.execute_reply": "2023-06-25T15:53:52.608929Z",
     "shell.execute_reply.started": "2023-06-25T15:53:52.605124Z"
    },
    "papermill": {
     "duration": 0.019378,
     "end_time": "2023-06-29T06:30:42.901442",
     "exception": false,
     "start_time": "2023-06-29T06:30:42.882064",
     "status": "completed"
    },
    "tags": []
   },
   "source": [
    "### Random Tensor\n",
    "\n",
    "Why Random Nos. ?\n",
    "\n",
    "'Start with Random Numbers -> Look at Data -> Update Random Numbers -> Look at Data -> Update Random Numbers'\n",
    "\n",
    "ref - https://pytorch.org/docs/stable/generated/torch.rand.html"
   ]
  },
  {
   "cell_type": "code",
   "execution_count": 20,
   "id": "578a6e95",
   "metadata": {
    "execution": {
     "iopub.execute_input": "2023-06-29T06:30:42.943391Z",
     "iopub.status.busy": "2023-06-29T06:30:42.943091Z",
     "iopub.status.idle": "2023-06-29T06:30:42.991188Z",
     "shell.execute_reply": "2023-06-29T06:30:42.990265Z"
    },
    "papermill": {
     "duration": 0.072184,
     "end_time": "2023-06-29T06:30:42.993173",
     "exception": false,
     "start_time": "2023-06-29T06:30:42.920989",
     "status": "completed"
    },
    "tags": []
   },
   "outputs": [
    {
     "data": {
      "text/plain": [
       "tensor([[[0.7565, 0.9193, 0.0788],\n",
       "         [0.3059, 0.9903, 0.1926],\n",
       "         [0.8076, 0.3687, 0.4918],\n",
       "         [0.0390, 0.1688, 0.5457]],\n",
       "\n",
       "        [[0.0800, 0.5982, 0.4746],\n",
       "         [0.3420, 0.1485, 0.0519],\n",
       "         [0.9917, 0.6355, 0.1514],\n",
       "         [0.3230, 0.5993, 0.3975]],\n",
       "\n",
       "        [[0.3575, 0.8914, 0.5249],\n",
       "         [0.2390, 0.2838, 0.1097],\n",
       "         [0.6877, 0.0024, 0.7773],\n",
       "         [0.7428, 0.9564, 0.3148]]])"
      ]
     },
     "execution_count": 20,
     "metadata": {},
     "output_type": "execute_result"
    }
   ],
   "source": [
    "# Create a random tensor of size(3,4)\n",
    "random_tensor = torch.rand(3,4,3)\n",
    "random_tensor"
   ]
  },
  {
   "cell_type": "code",
   "execution_count": 21,
   "id": "1205d03f",
   "metadata": {
    "execution": {
     "iopub.execute_input": "2023-06-29T06:30:43.034531Z",
     "iopub.status.busy": "2023-06-29T06:30:43.033761Z",
     "iopub.status.idle": "2023-06-29T06:30:43.039318Z",
     "shell.execute_reply": "2023-06-29T06:30:43.038437Z"
    },
    "papermill": {
     "duration": 0.028093,
     "end_time": "2023-06-29T06:30:43.041245",
     "exception": false,
     "start_time": "2023-06-29T06:30:43.013152",
     "status": "completed"
    },
    "tags": []
   },
   "outputs": [
    {
     "data": {
      "text/plain": [
       "3"
      ]
     },
     "execution_count": 21,
     "metadata": {},
     "output_type": "execute_result"
    }
   ],
   "source": [
    "random_tensor.ndim"
   ]
  },
  {
   "cell_type": "code",
   "execution_count": 22,
   "id": "b4f05b9e",
   "metadata": {
    "execution": {
     "iopub.execute_input": "2023-06-29T06:30:43.082853Z",
     "iopub.status.busy": "2023-06-29T06:30:43.082090Z",
     "iopub.status.idle": "2023-06-29T06:30:43.087660Z",
     "shell.execute_reply": "2023-06-29T06:30:43.086768Z"
    },
    "papermill": {
     "duration": 0.028333,
     "end_time": "2023-06-29T06:30:43.089543",
     "exception": false,
     "start_time": "2023-06-29T06:30:43.061210",
     "status": "completed"
    },
    "tags": []
   },
   "outputs": [
    {
     "data": {
      "text/plain": [
       "torch.Size([3, 4, 3])"
      ]
     },
     "execution_count": 22,
     "metadata": {},
     "output_type": "execute_result"
    }
   ],
   "source": [
    "random_tensor.shape"
   ]
  },
  {
   "cell_type": "code",
   "execution_count": 23,
   "id": "3f9fc51f",
   "metadata": {
    "execution": {
     "iopub.execute_input": "2023-06-29T06:30:43.130887Z",
     "iopub.status.busy": "2023-06-29T06:30:43.130121Z",
     "iopub.status.idle": "2023-06-29T06:30:43.142244Z",
     "shell.execute_reply": "2023-06-29T06:30:43.141340Z"
    },
    "papermill": {
     "duration": 0.034961,
     "end_time": "2023-06-29T06:30:43.144414",
     "exception": false,
     "start_time": "2023-06-29T06:30:43.109453",
     "status": "completed"
    },
    "scrolled": true,
    "tags": []
   },
   "outputs": [
    {
     "data": {
      "text/plain": [
       "tensor([[[0.3654, 0.5870, 0.6432],\n",
       "         [0.7225, 0.1927, 0.1713],\n",
       "         [0.8138, 0.8941, 0.8385],\n",
       "         ...,\n",
       "         [0.4150, 0.4177, 0.7166],\n",
       "         [0.0472, 0.9498, 0.8850],\n",
       "         [0.5507, 0.9352, 0.2802]],\n",
       "\n",
       "        [[0.8042, 0.8256, 0.9520],\n",
       "         [0.4355, 0.0898, 0.5605],\n",
       "         [0.5689, 0.8109, 0.2133],\n",
       "         ...,\n",
       "         [0.1314, 0.0728, 0.2932],\n",
       "         [0.5617, 0.3219, 0.7986],\n",
       "         [0.8740, 0.5009, 0.9250]],\n",
       "\n",
       "        [[0.3705, 0.9202, 0.3773],\n",
       "         [0.8570, 0.1370, 0.3225],\n",
       "         [0.7181, 0.6510, 0.8627],\n",
       "         ...,\n",
       "         [0.3077, 0.1698, 0.7043],\n",
       "         [0.4417, 0.1051, 0.3131],\n",
       "         [0.5041, 0.9310, 0.6394]],\n",
       "\n",
       "        ...,\n",
       "\n",
       "        [[0.5261, 0.1189, 0.7199],\n",
       "         [0.3426, 0.0641, 0.8687],\n",
       "         [0.6303, 0.9884, 0.5525],\n",
       "         ...,\n",
       "         [0.8437, 0.6442, 0.7536],\n",
       "         [0.6545, 0.2316, 0.3311],\n",
       "         [0.7978, 0.0058, 0.9275]],\n",
       "\n",
       "        [[0.8657, 0.8197, 0.3099],\n",
       "         [0.1210, 0.8028, 0.2943],\n",
       "         [0.5764, 0.0788, 0.1632],\n",
       "         ...,\n",
       "         [0.1494, 0.9655, 0.5350],\n",
       "         [0.2965, 0.8347, 0.0237],\n",
       "         [0.9440, 0.4799, 0.3411]],\n",
       "\n",
       "        [[0.8024, 0.0041, 0.4753],\n",
       "         [0.0368, 0.0129, 0.0268],\n",
       "         [0.9549, 0.0228, 0.6245],\n",
       "         ...,\n",
       "         [0.4853, 0.7829, 0.0206],\n",
       "         [0.4498, 0.4108, 0.1083],\n",
       "         [0.3940, 0.0072, 0.5001]]])"
      ]
     },
     "execution_count": 23,
     "metadata": {},
     "output_type": "execute_result"
    }
   ],
   "source": [
    "# Creating Random tensor similar to Image Shape\n",
    "random_image_size_tensor = torch.rand(size=[224,224,3],) # height, width , color channels\n",
    "random_image_size_tensor"
   ]
  },
  {
   "cell_type": "code",
   "execution_count": 24,
   "id": "bb6ebaef",
   "metadata": {
    "execution": {
     "iopub.execute_input": "2023-06-29T06:30:43.186173Z",
     "iopub.status.busy": "2023-06-29T06:30:43.185904Z",
     "iopub.status.idle": "2023-06-29T06:30:43.191251Z",
     "shell.execute_reply": "2023-06-29T06:30:43.190442Z"
    },
    "papermill": {
     "duration": 0.02857,
     "end_time": "2023-06-29T06:30:43.193136",
     "exception": false,
     "start_time": "2023-06-29T06:30:43.164566",
     "status": "completed"
    },
    "tags": []
   },
   "outputs": [
    {
     "data": {
      "text/plain": [
       "3"
      ]
     },
     "execution_count": 24,
     "metadata": {},
     "output_type": "execute_result"
    }
   ],
   "source": [
    "random_image_size_tensor.ndim"
   ]
  },
  {
   "cell_type": "code",
   "execution_count": 25,
   "id": "df002d55",
   "metadata": {
    "execution": {
     "iopub.execute_input": "2023-06-29T06:30:43.234655Z",
     "iopub.status.busy": "2023-06-29T06:30:43.234396Z",
     "iopub.status.idle": "2023-06-29T06:30:43.239584Z",
     "shell.execute_reply": "2023-06-29T06:30:43.238769Z"
    },
    "papermill": {
     "duration": 0.028133,
     "end_time": "2023-06-29T06:30:43.241605",
     "exception": false,
     "start_time": "2023-06-29T06:30:43.213472",
     "status": "completed"
    },
    "tags": []
   },
   "outputs": [
    {
     "data": {
      "text/plain": [
       "torch.Size([224, 224, 3])"
      ]
     },
     "execution_count": 25,
     "metadata": {},
     "output_type": "execute_result"
    }
   ],
   "source": [
    "random_image_size_tensor.shape"
   ]
  },
  {
   "cell_type": "markdown",
   "id": "89fbb884",
   "metadata": {
    "papermill": {
     "duration": 0.020139,
     "end_time": "2023-06-29T06:30:43.281846",
     "exception": false,
     "start_time": "2023-06-29T06:30:43.261707",
     "status": "completed"
    },
    "tags": []
   },
   "source": [
    "### Zeroes and Ones"
   ]
  },
  {
   "cell_type": "code",
   "execution_count": 26,
   "id": "8452ed96",
   "metadata": {
    "execution": {
     "iopub.execute_input": "2023-06-29T06:30:43.323949Z",
     "iopub.status.busy": "2023-06-29T06:30:43.323204Z",
     "iopub.status.idle": "2023-06-29T06:30:43.330987Z",
     "shell.execute_reply": "2023-06-29T06:30:43.330085Z"
    },
    "papermill": {
     "duration": 0.03072,
     "end_time": "2023-06-29T06:30:43.332912",
     "exception": false,
     "start_time": "2023-06-29T06:30:43.302192",
     "status": "completed"
    },
    "tags": []
   },
   "outputs": [
    {
     "data": {
      "text/plain": [
       "tensor([[0., 0., 0., 0.],\n",
       "        [0., 0., 0., 0.],\n",
       "        [0., 0., 0., 0.]])"
      ]
     },
     "execution_count": 26,
     "metadata": {},
     "output_type": "execute_result"
    }
   ],
   "source": [
    "# Create a tenor of all zeros\n",
    "zeros = torch.zeros(3,4)\n",
    "zeros"
   ]
  },
  {
   "cell_type": "code",
   "execution_count": 27,
   "id": "1736c047",
   "metadata": {
    "execution": {
     "iopub.execute_input": "2023-06-29T06:30:43.375201Z",
     "iopub.status.busy": "2023-06-29T06:30:43.374484Z",
     "iopub.status.idle": "2023-06-29T06:30:43.380938Z",
     "shell.execute_reply": "2023-06-29T06:30:43.380007Z"
    },
    "papermill": {
     "duration": 0.029628,
     "end_time": "2023-06-29T06:30:43.382834",
     "exception": false,
     "start_time": "2023-06-29T06:30:43.353206",
     "status": "completed"
    },
    "tags": []
   },
   "outputs": [
    {
     "data": {
      "text/plain": [
       "tensor([[0., 0., 0., 0.],\n",
       "        [0., 0., 0., 0.],\n",
       "        [0., 0., 0., 0.]])"
      ]
     },
     "execution_count": 27,
     "metadata": {},
     "output_type": "execute_result"
    }
   ],
   "source": [
    "zeros * torch.rand(3,4)"
   ]
  },
  {
   "cell_type": "code",
   "execution_count": 28,
   "id": "f22bef57",
   "metadata": {
    "execution": {
     "iopub.execute_input": "2023-06-29T06:30:43.425271Z",
     "iopub.status.busy": "2023-06-29T06:30:43.424546Z",
     "iopub.status.idle": "2023-06-29T06:30:43.433139Z",
     "shell.execute_reply": "2023-06-29T06:30:43.432323Z"
    },
    "papermill": {
     "duration": 0.031857,
     "end_time": "2023-06-29T06:30:43.435115",
     "exception": false,
     "start_time": "2023-06-29T06:30:43.403258",
     "status": "completed"
    },
    "tags": []
   },
   "outputs": [
    {
     "data": {
      "text/plain": [
       "tensor([[1, 1, 1, 1],\n",
       "        [1, 1, 1, 1],\n",
       "        [1, 1, 1, 1]])"
      ]
     },
     "execution_count": 28,
     "metadata": {},
     "output_type": "execute_result"
    }
   ],
   "source": [
    "# Create tensor of all ones\n",
    "ones = torch.ones(size=(3,4),dtype=int)\n",
    "ones"
   ]
  },
  {
   "cell_type": "code",
   "execution_count": 29,
   "id": "f3040419",
   "metadata": {
    "execution": {
     "iopub.execute_input": "2023-06-29T06:30:43.477435Z",
     "iopub.status.busy": "2023-06-29T06:30:43.477158Z",
     "iopub.status.idle": "2023-06-29T06:30:43.482257Z",
     "shell.execute_reply": "2023-06-29T06:30:43.481455Z"
    },
    "papermill": {
     "duration": 0.028499,
     "end_time": "2023-06-29T06:30:43.484132",
     "exception": false,
     "start_time": "2023-06-29T06:30:43.455633",
     "status": "completed"
    },
    "tags": []
   },
   "outputs": [
    {
     "data": {
      "text/plain": [
       "torch.int64"
      ]
     },
     "execution_count": 29,
     "metadata": {},
     "output_type": "execute_result"
    }
   ],
   "source": [
    "ones.dtype"
   ]
  },
  {
   "cell_type": "markdown",
   "id": "30e820c6",
   "metadata": {
    "execution": {
     "iopub.execute_input": "2023-06-25T16:24:23.852212Z",
     "iopub.status.busy": "2023-06-25T16:24:23.851772Z",
     "iopub.status.idle": "2023-06-25T16:24:23.857025Z",
     "shell.execute_reply": "2023-06-25T16:24:23.856069Z",
     "shell.execute_reply.started": "2023-06-25T16:24:23.852179Z"
    },
    "papermill": {
     "duration": 0.020579,
     "end_time": "2023-06-29T06:30:43.525770",
     "exception": false,
     "start_time": "2023-06-29T06:30:43.505191",
     "status": "completed"
    },
    "tags": []
   },
   "source": [
    "### Create a range of tensors and tensors-like\n",
    "\n",
    "ref - https://pytorch.org/docs/stable/generated/torch.arange.html"
   ]
  },
  {
   "cell_type": "code",
   "execution_count": 30,
   "id": "00b3623a",
   "metadata": {
    "execution": {
     "iopub.execute_input": "2023-06-29T06:30:43.568839Z",
     "iopub.status.busy": "2023-06-29T06:30:43.568530Z",
     "iopub.status.idle": "2023-06-29T06:30:43.580709Z",
     "shell.execute_reply": "2023-06-29T06:30:43.579787Z"
    },
    "papermill": {
     "duration": 0.035938,
     "end_time": "2023-06-29T06:30:43.582770",
     "exception": false,
     "start_time": "2023-06-29T06:30:43.546832",
     "status": "completed"
    },
    "tags": []
   },
   "outputs": [
    {
     "data": {
      "text/plain": [
       "tensor([ 1,  2,  3,  4,  5,  6,  7,  8,  9, 10])"
      ]
     },
     "execution_count": 30,
     "metadata": {},
     "output_type": "execute_result"
    }
   ],
   "source": [
    "# Use torch.arange()\n",
    "one_to_ten = torch.arange(start=1, end=11, step=1)\n",
    "one_to_ten"
   ]
  },
  {
   "cell_type": "code",
   "execution_count": 31,
   "id": "74946b76",
   "metadata": {
    "execution": {
     "iopub.execute_input": "2023-06-29T06:30:43.625632Z",
     "iopub.status.busy": "2023-06-29T06:30:43.625368Z",
     "iopub.status.idle": "2023-06-29T06:30:43.633574Z",
     "shell.execute_reply": "2023-06-29T06:30:43.632755Z"
    },
    "papermill": {
     "duration": 0.031883,
     "end_time": "2023-06-29T06:30:43.635442",
     "exception": false,
     "start_time": "2023-06-29T06:30:43.603559",
     "status": "completed"
    },
    "tags": []
   },
   "outputs": [
    {
     "data": {
      "text/plain": [
       "tensor([0, 0, 0, 0, 0, 0, 0, 0, 0, 0])"
      ]
     },
     "execution_count": 31,
     "metadata": {},
     "output_type": "execute_result"
    }
   ],
   "source": [
    "# Create tesnors like\n",
    "ten_zeros = torch.zeros_like(input=one_to_ten)\n",
    "ten_zeros"
   ]
  },
  {
   "cell_type": "markdown",
   "id": "28265ef3",
   "metadata": {
    "papermill": {
     "duration": 0.022051,
     "end_time": "2023-06-29T06:30:43.678977",
     "exception": false,
     "start_time": "2023-06-29T06:30:43.656926",
     "status": "completed"
    },
    "tags": []
   },
   "source": [
    "### Tensor datatypes\n",
    "\n",
    "Tensor datatypes is one of the 3 big errors arrive in Pytorch\n",
    "\n",
    "1. Tensors not right datatype\n",
    "2. Tensors not right shape\n",
    "3. Tensors not no right device\n",
    "\n",
    "ref - https://pytorch.org/docs/stable/tensors.html"
   ]
  },
  {
   "cell_type": "code",
   "execution_count": 32,
   "id": "d236468c",
   "metadata": {
    "execution": {
     "iopub.execute_input": "2023-06-29T06:30:43.721903Z",
     "iopub.status.busy": "2023-06-29T06:30:43.721631Z",
     "iopub.status.idle": "2023-06-29T06:30:43.730040Z",
     "shell.execute_reply": "2023-06-29T06:30:43.729224Z"
    },
    "papermill": {
     "duration": 0.032296,
     "end_time": "2023-06-29T06:30:43.732128",
     "exception": false,
     "start_time": "2023-06-29T06:30:43.699832",
     "status": "completed"
    },
    "tags": []
   },
   "outputs": [
    {
     "data": {
      "text/plain": [
       "tensor([3., 6., 9.])"
      ]
     },
     "execution_count": 32,
     "metadata": {},
     "output_type": "execute_result"
    }
   ],
   "source": [
    "# Float 32 tensor\n",
    "float_32_tensor = torch.tensor([3.0,6.0,9.0],\n",
    "                             dtype=None, # what datatype of tensor (float32 etc)\n",
    "                             device=None, #'cpu or gpu -> cuda'\n",
    "                             requires_grad=False) # whether to track gradient\n",
    "float_32_tensor"
   ]
  },
  {
   "cell_type": "code",
   "execution_count": 33,
   "id": "bc2827d1",
   "metadata": {
    "execution": {
     "iopub.execute_input": "2023-06-29T06:30:43.775762Z",
     "iopub.status.busy": "2023-06-29T06:30:43.775495Z",
     "iopub.status.idle": "2023-06-29T06:30:43.781171Z",
     "shell.execute_reply": "2023-06-29T06:30:43.780348Z"
    },
    "papermill": {
     "duration": 0.030272,
     "end_time": "2023-06-29T06:30:43.783426",
     "exception": false,
     "start_time": "2023-06-29T06:30:43.753154",
     "status": "completed"
    },
    "tags": []
   },
   "outputs": [
    {
     "data": {
      "text/plain": [
       "torch.float32"
      ]
     },
     "execution_count": 33,
     "metadata": {},
     "output_type": "execute_result"
    }
   ],
   "source": [
    "float_32_tensor.dtype"
   ]
  },
  {
   "cell_type": "code",
   "execution_count": 34,
   "id": "a1ef4834",
   "metadata": {
    "execution": {
     "iopub.execute_input": "2023-06-29T06:30:43.827104Z",
     "iopub.status.busy": "2023-06-29T06:30:43.826315Z",
     "iopub.status.idle": "2023-06-29T06:30:43.834881Z",
     "shell.execute_reply": "2023-06-29T06:30:43.834044Z"
    },
    "papermill": {
     "duration": 0.032271,
     "end_time": "2023-06-29T06:30:43.836759",
     "exception": false,
     "start_time": "2023-06-29T06:30:43.804488",
     "status": "completed"
    },
    "tags": []
   },
   "outputs": [],
   "source": [
    "float_16_tensor = float_32_tensor.half()\n",
    "# or\n",
    "float_16_tensor = float_32_tensor.type(torch.float) # torch.half"
   ]
  },
  {
   "cell_type": "code",
   "execution_count": 35,
   "id": "5329d0cb",
   "metadata": {
    "execution": {
     "iopub.execute_input": "2023-06-29T06:30:43.880481Z",
     "iopub.status.busy": "2023-06-29T06:30:43.880200Z",
     "iopub.status.idle": "2023-06-29T06:30:43.888221Z",
     "shell.execute_reply": "2023-06-29T06:30:43.887437Z"
    },
    "papermill": {
     "duration": 0.03187,
     "end_time": "2023-06-29T06:30:43.890141",
     "exception": false,
     "start_time": "2023-06-29T06:30:43.858271",
     "status": "completed"
    },
    "tags": []
   },
   "outputs": [
    {
     "data": {
      "text/plain": [
       "tensor([3., 6., 9.])"
      ]
     },
     "execution_count": 35,
     "metadata": {},
     "output_type": "execute_result"
    }
   ],
   "source": [
    "float_16_tensor"
   ]
  },
  {
   "cell_type": "code",
   "execution_count": 36,
   "id": "08a06220",
   "metadata": {
    "execution": {
     "iopub.execute_input": "2023-06-29T06:30:43.937503Z",
     "iopub.status.busy": "2023-06-29T06:30:43.937224Z",
     "iopub.status.idle": "2023-06-29T06:30:43.944455Z",
     "shell.execute_reply": "2023-06-29T06:30:43.943679Z"
    },
    "papermill": {
     "duration": 0.034744,
     "end_time": "2023-06-29T06:30:43.946417",
     "exception": false,
     "start_time": "2023-06-29T06:30:43.911673",
     "status": "completed"
    },
    "tags": []
   },
   "outputs": [
    {
     "data": {
      "text/plain": [
       "torch.float32"
      ]
     },
     "execution_count": 36,
     "metadata": {},
     "output_type": "execute_result"
    }
   ],
   "source": [
    "(float_16_tensor * float_32_tensor).dtype"
   ]
  },
  {
   "cell_type": "code",
   "execution_count": 37,
   "id": "c30f1cfb",
   "metadata": {
    "execution": {
     "iopub.execute_input": "2023-06-29T06:30:43.990592Z",
     "iopub.status.busy": "2023-06-29T06:30:43.990340Z",
     "iopub.status.idle": "2023-06-29T06:30:43.994437Z",
     "shell.execute_reply": "2023-06-29T06:30:43.993551Z"
    },
    "papermill": {
     "duration": 0.028659,
     "end_time": "2023-06-29T06:30:43.996324",
     "exception": false,
     "start_time": "2023-06-29T06:30:43.967665",
     "status": "completed"
    },
    "tags": []
   },
   "outputs": [],
   "source": [
    "int_32_tensor = torch.tensor([3,4,5],\n",
    "                             dtype=torch.int32)"
   ]
  },
  {
   "cell_type": "code",
   "execution_count": 38,
   "id": "5f7d9d51",
   "metadata": {
    "execution": {
     "iopub.execute_input": "2023-06-29T06:30:44.040497Z",
     "iopub.status.busy": "2023-06-29T06:30:44.040194Z",
     "iopub.status.idle": "2023-06-29T06:30:44.046743Z",
     "shell.execute_reply": "2023-06-29T06:30:44.045864Z"
    },
    "papermill": {
     "duration": 0.031057,
     "end_time": "2023-06-29T06:30:44.048611",
     "exception": false,
     "start_time": "2023-06-29T06:30:44.017554",
     "status": "completed"
    },
    "tags": []
   },
   "outputs": [
    {
     "data": {
      "text/plain": [
       "tensor([ 9., 24., 45.])"
      ]
     },
     "execution_count": 38,
     "metadata": {},
     "output_type": "execute_result"
    }
   ],
   "source": [
    "float_16_tensor * int_32_tensor"
   ]
  },
  {
   "cell_type": "markdown",
   "id": "812a1d66",
   "metadata": {
    "papermill": {
     "duration": 0.021391,
     "end_time": "2023-06-29T06:30:44.091412",
     "exception": false,
     "start_time": "2023-06-29T06:30:44.070021",
     "status": "completed"
    },
    "tags": []
   },
   "source": [
    "### Getting info from tensors (tensor attributes)\n",
    "1. tensor not datatype - to check use tensor.dtype\n",
    "2. tensor not right shape - to check use tensor.shape or tensor.size()\n",
    "3. tensor not on right device - to check use tensor.device"
   ]
  },
  {
   "cell_type": "code",
   "execution_count": 39,
   "id": "04a81a5f",
   "metadata": {
    "execution": {
     "iopub.execute_input": "2023-06-29T06:30:44.135267Z",
     "iopub.status.busy": "2023-06-29T06:30:44.134973Z",
     "iopub.status.idle": "2023-06-29T06:30:44.142012Z",
     "shell.execute_reply": "2023-06-29T06:30:44.141132Z"
    },
    "papermill": {
     "duration": 0.031138,
     "end_time": "2023-06-29T06:30:44.143938",
     "exception": false,
     "start_time": "2023-06-29T06:30:44.112800",
     "status": "completed"
    },
    "tags": []
   },
   "outputs": [
    {
     "data": {
      "text/plain": [
       "tensor([[0.7262, 0.3262, 0.7475, 0.0432],\n",
       "        [0.2001, 0.6663, 0.8701, 0.6230],\n",
       "        [0.7220, 0.5241, 0.9072, 0.9378]])"
      ]
     },
     "execution_count": 39,
     "metadata": {},
     "output_type": "execute_result"
    }
   ],
   "source": [
    "# Create a tensor\n",
    "some_tensor = torch.rand(3,4)\n",
    "some_tensor"
   ]
  },
  {
   "cell_type": "code",
   "execution_count": 40,
   "id": "7720446b",
   "metadata": {
    "execution": {
     "iopub.execute_input": "2023-06-29T06:30:44.188418Z",
     "iopub.status.busy": "2023-06-29T06:30:44.188140Z",
     "iopub.status.idle": "2023-06-29T06:30:44.192937Z",
     "shell.execute_reply": "2023-06-29T06:30:44.192111Z"
    },
    "papermill": {
     "duration": 0.029402,
     "end_time": "2023-06-29T06:30:44.195065",
     "exception": false,
     "start_time": "2023-06-29T06:30:44.165663",
     "status": "completed"
    },
    "tags": []
   },
   "outputs": [
    {
     "name": "stdout",
     "output_type": "stream",
     "text": [
      "Tensor Datatype : torch.float32 Tensor Shape : torch.Size([3, 4]) Tensor Device : cpu\n"
     ]
    }
   ],
   "source": [
    "print(\"Tensor Datatype :\",some_tensor.dtype,\n",
    "\"Tensor Shape :\",some_tensor.shape,\n",
    "\"Tensor Device :\",some_tensor.device)"
   ]
  },
  {
   "cell_type": "markdown",
   "id": "7d923bd6",
   "metadata": {
    "execution": {
     "iopub.execute_input": "2023-06-26T15:31:18.518353Z",
     "iopub.status.busy": "2023-06-26T15:31:18.517972Z",
     "iopub.status.idle": "2023-06-26T15:31:18.526666Z",
     "shell.execute_reply": "2023-06-26T15:31:18.525296Z",
     "shell.execute_reply.started": "2023-06-26T15:31:18.518326Z"
    },
    "papermill": {
     "duration": 0.021657,
     "end_time": "2023-06-29T06:30:44.238332",
     "exception": false,
     "start_time": "2023-06-29T06:30:44.216675",
     "status": "completed"
    },
    "tags": []
   },
   "source": [
    "### Manipulating Tensors (Tensor Operations)\n",
    "1. Addition\n",
    "2. Subtraction\n",
    "3. Multiplication (element-wise)\n",
    "4. Division\n",
    "5. Matrix Multiplication"
   ]
  },
  {
   "cell_type": "code",
   "execution_count": 41,
   "id": "c1b252be",
   "metadata": {
    "execution": {
     "iopub.execute_input": "2023-06-29T06:30:44.282711Z",
     "iopub.status.busy": "2023-06-29T06:30:44.282449Z",
     "iopub.status.idle": "2023-06-29T06:30:44.292212Z",
     "shell.execute_reply": "2023-06-29T06:30:44.291324Z"
    },
    "papermill": {
     "duration": 0.0341,
     "end_time": "2023-06-29T06:30:44.294161",
     "exception": false,
     "start_time": "2023-06-29T06:30:44.260061",
     "status": "completed"
    },
    "tags": []
   },
   "outputs": [
    {
     "data": {
      "text/plain": [
       "tensor([11, 12, 13])"
      ]
     },
     "execution_count": 41,
     "metadata": {},
     "output_type": "execute_result"
    }
   ],
   "source": [
    "# Create a tensor and add 10\n",
    "tensor = torch.tensor([1,2,3])\n",
    "tensor + 10"
   ]
  },
  {
   "cell_type": "code",
   "execution_count": 42,
   "id": "e746b234",
   "metadata": {
    "execution": {
     "iopub.execute_input": "2023-06-29T06:30:44.339312Z",
     "iopub.status.busy": "2023-06-29T06:30:44.338501Z",
     "iopub.status.idle": "2023-06-29T06:30:44.346473Z",
     "shell.execute_reply": "2023-06-29T06:30:44.345541Z"
    },
    "papermill": {
     "duration": 0.032423,
     "end_time": "2023-06-29T06:30:44.348389",
     "exception": false,
     "start_time": "2023-06-29T06:30:44.315966",
     "status": "completed"
    },
    "tags": []
   },
   "outputs": [
    {
     "data": {
      "text/plain": [
       "tensor([10, 20, 30])"
      ]
     },
     "execution_count": 42,
     "metadata": {},
     "output_type": "execute_result"
    }
   ],
   "source": [
    "# multiply\n",
    "tensor * 10"
   ]
  },
  {
   "cell_type": "code",
   "execution_count": 43,
   "id": "7c4bfc64",
   "metadata": {
    "execution": {
     "iopub.execute_input": "2023-06-29T06:30:44.393854Z",
     "iopub.status.busy": "2023-06-29T06:30:44.393107Z",
     "iopub.status.idle": "2023-06-29T06:30:44.400594Z",
     "shell.execute_reply": "2023-06-29T06:30:44.399683Z"
    },
    "papermill": {
     "duration": 0.032175,
     "end_time": "2023-06-29T06:30:44.402483",
     "exception": false,
     "start_time": "2023-06-29T06:30:44.370308",
     "status": "completed"
    },
    "tags": []
   },
   "outputs": [
    {
     "data": {
      "text/plain": [
       "tensor([-9, -8, -7])"
      ]
     },
     "execution_count": 43,
     "metadata": {},
     "output_type": "execute_result"
    }
   ],
   "source": [
    "# subtract 10\n",
    "tensor - 10"
   ]
  },
  {
   "cell_type": "code",
   "execution_count": 44,
   "id": "45a7e4ea",
   "metadata": {
    "execution": {
     "iopub.execute_input": "2023-06-29T06:30:44.449190Z",
     "iopub.status.busy": "2023-06-29T06:30:44.448467Z",
     "iopub.status.idle": "2023-06-29T06:30:44.454612Z",
     "shell.execute_reply": "2023-06-29T06:30:44.453730Z"
    },
    "papermill": {
     "duration": 0.031855,
     "end_time": "2023-06-29T06:30:44.456451",
     "exception": false,
     "start_time": "2023-06-29T06:30:44.424596",
     "status": "completed"
    },
    "tags": []
   },
   "outputs": [
    {
     "data": {
      "text/plain": [
       "tensor([10, 20, 30])"
      ]
     },
     "execution_count": 44,
     "metadata": {},
     "output_type": "execute_result"
    }
   ],
   "source": [
    "# multiply using tensor function\n",
    "torch.mul(tensor,10)"
   ]
  },
  {
   "cell_type": "markdown",
   "id": "a7f5f890",
   "metadata": {
    "papermill": {
     "duration": 0.022187,
     "end_time": "2023-06-29T06:30:44.500728",
     "exception": false,
     "start_time": "2023-06-29T06:30:44.478541",
     "status": "completed"
    },
    "tags": []
   },
   "source": [
    "### Matrix Multiplication\n",
    "\n",
    "Two Main ways to multiply in tensors\n",
    "\n",
    "1. Element-wise multipication or Cross Multiplication\n",
    "2. Matrix multiplication or Dot Product\n",
    "\n",
    "ref - https://www.mathsisfun.com/algebra/matrix-multiplying.html\n",
    "\n",
    "Two Rules must Follow:\n",
    "1. The **Inner Dimension** must match:\n",
    "* '(3,2) @ (3,2)' wont work\n",
    "* '(3,2) @ (2,3)' will work\n",
    "* '(2,3) @ (3,2)' will work\n",
    "2. Resulting matrix has dimension of **Outer Dimension**\n",
    "* (2,3) @ (3,2) -> (2,2)\n",
    "* (3,2) @ (2,3) -> (3,3)"
   ]
  },
  {
   "cell_type": "code",
   "execution_count": 45,
   "id": "f55c18a8",
   "metadata": {
    "execution": {
     "iopub.execute_input": "2023-06-29T06:30:44.547350Z",
     "iopub.status.busy": "2023-06-29T06:30:44.546686Z",
     "iopub.status.idle": "2023-06-29T06:30:44.592084Z",
     "shell.execute_reply": "2023-06-29T06:30:44.591161Z"
    },
    "papermill": {
     "duration": 0.071336,
     "end_time": "2023-06-29T06:30:44.594139",
     "exception": false,
     "start_time": "2023-06-29T06:30:44.522803",
     "status": "completed"
    },
    "tags": []
   },
   "outputs": [
    {
     "data": {
      "text/plain": [
       "tensor([[0.3321, 0.6695, 0.1682],\n",
       "        [0.2558, 0.4277, 0.1436],\n",
       "        [0.0987, 0.1817, 0.0527]])"
      ]
     },
     "execution_count": 45,
     "metadata": {},
     "output_type": "execute_result"
    }
   ],
   "source": [
    "torch.matmul(torch.rand(3,2) , torch.rand(2,3))"
   ]
  },
  {
   "cell_type": "code",
   "execution_count": 46,
   "id": "e1a78a8f",
   "metadata": {
    "execution": {
     "iopub.execute_input": "2023-06-29T06:30:44.641174Z",
     "iopub.status.busy": "2023-06-29T06:30:44.640425Z",
     "iopub.status.idle": "2023-06-29T06:30:44.647986Z",
     "shell.execute_reply": "2023-06-29T06:30:44.647169Z"
    },
    "papermill": {
     "duration": 0.032702,
     "end_time": "2023-06-29T06:30:44.649958",
     "exception": false,
     "start_time": "2023-06-29T06:30:44.617256",
     "status": "completed"
    },
    "tags": []
   },
   "outputs": [
    {
     "name": "stdout",
     "output_type": "stream",
     "text": [
      "tensor([1, 2, 3]) * tensor([1, 2, 3])\n",
      "Equals : tensor([1, 4, 9])\n"
     ]
    }
   ],
   "source": [
    "# Element wise multiplication\n",
    "print(tensor, '*' , tensor)\n",
    "print('Equals :', tensor * tensor )"
   ]
  },
  {
   "cell_type": "code",
   "execution_count": 47,
   "id": "830e1ea3",
   "metadata": {
    "execution": {
     "iopub.execute_input": "2023-06-29T06:30:44.695604Z",
     "iopub.status.busy": "2023-06-29T06:30:44.695342Z",
     "iopub.status.idle": "2023-06-29T06:30:44.701224Z",
     "shell.execute_reply": "2023-06-29T06:30:44.700343Z"
    },
    "papermill": {
     "duration": 0.030916,
     "end_time": "2023-06-29T06:30:44.703191",
     "exception": false,
     "start_time": "2023-06-29T06:30:44.672275",
     "status": "completed"
    },
    "tags": []
   },
   "outputs": [
    {
     "data": {
      "text/plain": [
       "tensor(14)"
      ]
     },
     "execution_count": 47,
     "metadata": {},
     "output_type": "execute_result"
    }
   ],
   "source": [
    "# Matrix Multiplication\n",
    "torch.matmul(tensor,tensor)"
   ]
  },
  {
   "cell_type": "markdown",
   "id": "45607fcc",
   "metadata": {
    "papermill": {
     "duration": 0.022156,
     "end_time": "2023-06-29T06:30:44.747832",
     "exception": false,
     "start_time": "2023-06-29T06:30:44.725676",
     "status": "completed"
    },
    "tags": []
   },
   "source": [
    "### Shape Errors"
   ]
  },
  {
   "cell_type": "code",
   "execution_count": 48,
   "id": "8b4e0cf7",
   "metadata": {
    "execution": {
     "iopub.execute_input": "2023-06-29T06:30:44.794153Z",
     "iopub.status.busy": "2023-06-29T06:30:44.793811Z",
     "iopub.status.idle": "2023-06-29T06:30:44.798891Z",
     "shell.execute_reply": "2023-06-29T06:30:44.798033Z"
    },
    "papermill": {
     "duration": 0.030336,
     "end_time": "2023-06-29T06:30:44.800872",
     "exception": false,
     "start_time": "2023-06-29T06:30:44.770536",
     "status": "completed"
    },
    "tags": []
   },
   "outputs": [],
   "source": [
    "tensor_A = torch.tensor([[1,2],\n",
    "                        [3,4],\n",
    "                        [5,6]])\n",
    "\n",
    "tensor_B =torch.tensor([[7,10],\n",
    "                       [8,11],\n",
    "                       [9,12]])\n",
    "\n",
    "#torch.mm(tensor_A,tensor_B) #(mm is alias for matmul)"
   ]
  },
  {
   "cell_type": "markdown",
   "id": "791b0dc8",
   "metadata": {
    "papermill": {
     "duration": 0.027399,
     "end_time": "2023-06-29T06:30:44.850674",
     "exception": false,
     "start_time": "2023-06-29T06:30:44.823275",
     "status": "completed"
    },
    "tags": []
   },
   "source": [
    "To Fix Shape Issues, We can use Transpose \n",
    "\n",
    "A **Transpose** swithches axes or dimensions of given matrix"
   ]
  },
  {
   "cell_type": "code",
   "execution_count": 49,
   "id": "7bfe0568",
   "metadata": {
    "execution": {
     "iopub.execute_input": "2023-06-29T06:30:44.900725Z",
     "iopub.status.busy": "2023-06-29T06:30:44.900404Z",
     "iopub.status.idle": "2023-06-29T06:30:44.906942Z",
     "shell.execute_reply": "2023-06-29T06:30:44.906038Z"
    },
    "papermill": {
     "duration": 0.032054,
     "end_time": "2023-06-29T06:30:44.908928",
     "exception": false,
     "start_time": "2023-06-29T06:30:44.876874",
     "status": "completed"
    },
    "tags": []
   },
   "outputs": [
    {
     "data": {
      "text/plain": [
       "(tensor([[ 7, 10],\n",
       "         [ 8, 11],\n",
       "         [ 9, 12]]),\n",
       " torch.Size([3, 2]))"
      ]
     },
     "execution_count": 49,
     "metadata": {},
     "output_type": "execute_result"
    }
   ],
   "source": [
    "tensor_B, tensor_B.shape"
   ]
  },
  {
   "cell_type": "code",
   "execution_count": 50,
   "id": "adbd7521",
   "metadata": {
    "execution": {
     "iopub.execute_input": "2023-06-29T06:30:44.957273Z",
     "iopub.status.busy": "2023-06-29T06:30:44.956534Z",
     "iopub.status.idle": "2023-06-29T06:30:44.963931Z",
     "shell.execute_reply": "2023-06-29T06:30:44.963020Z"
    },
    "papermill": {
     "duration": 0.0343,
     "end_time": "2023-06-29T06:30:44.965842",
     "exception": false,
     "start_time": "2023-06-29T06:30:44.931542",
     "status": "completed"
    },
    "tags": []
   },
   "outputs": [
    {
     "data": {
      "text/plain": [
       "(tensor([[ 7,  8,  9],\n",
       "         [10, 11, 12]]),\n",
       " torch.Size([2, 3]))"
      ]
     },
     "execution_count": 50,
     "metadata": {},
     "output_type": "execute_result"
    }
   ],
   "source": [
    "tensor_B.T, tensor_B.T.shape"
   ]
  },
  {
   "cell_type": "code",
   "execution_count": 51,
   "id": "706e1674",
   "metadata": {
    "execution": {
     "iopub.execute_input": "2023-06-29T06:30:45.013494Z",
     "iopub.status.busy": "2023-06-29T06:30:45.013211Z",
     "iopub.status.idle": "2023-06-29T06:30:45.021531Z",
     "shell.execute_reply": "2023-06-29T06:30:45.020444Z"
    },
    "papermill": {
     "duration": 0.042552,
     "end_time": "2023-06-29T06:30:45.032198",
     "exception": false,
     "start_time": "2023-06-29T06:30:44.989646",
     "status": "completed"
    },
    "tags": []
   },
   "outputs": [
    {
     "name": "stdout",
     "output_type": "stream",
     "text": [
      "Initial shape for tensor A torch.Size([3, 2]) and for tensor B torch.Size([3, 2])\n",
      "after transpose torch.Size([2, 3])\n",
      "output : tensor([[ 27,  30,  33],\n",
      "        [ 61,  68,  75],\n",
      "        [ 95, 106, 117]]) and its shape is torch.Size([3, 3])\n"
     ]
    }
   ],
   "source": [
    "print(f'Initial shape for tensor A {tensor_A.shape} and for tensor B {tensor_B.shape}')\n",
    "print(f'after transpose {tensor_B.T.shape}')\n",
    "print(f'output : {torch.matmul(tensor_A,tensor_B.T)} and its shape is {torch.matmul(tensor_A,tensor_B.T).shape}')"
   ]
  },
  {
   "cell_type": "markdown",
   "id": "05ff81f7",
   "metadata": {
    "papermill": {
     "duration": 0.046697,
     "end_time": "2023-06-29T06:30:45.124670",
     "exception": false,
     "start_time": "2023-06-29T06:30:45.077973",
     "status": "completed"
    },
    "tags": []
   },
   "source": [
    "## Finding Min. Max. Mean, Sum, etc (tensor aggregation)"
   ]
  },
  {
   "cell_type": "code",
   "execution_count": 52,
   "id": "207ebb4e",
   "metadata": {
    "execution": {
     "iopub.execute_input": "2023-06-29T06:30:45.172079Z",
     "iopub.status.busy": "2023-06-29T06:30:45.171751Z",
     "iopub.status.idle": "2023-06-29T06:30:45.178504Z",
     "shell.execute_reply": "2023-06-29T06:30:45.177614Z"
    },
    "papermill": {
     "duration": 0.032767,
     "end_time": "2023-06-29T06:30:45.180494",
     "exception": false,
     "start_time": "2023-06-29T06:30:45.147727",
     "status": "completed"
    },
    "tags": []
   },
   "outputs": [
    {
     "data": {
      "text/plain": [
       "tensor([ 0, 10, 20, 30, 40, 50, 60, 70, 80, 90])"
      ]
     },
     "execution_count": 52,
     "metadata": {},
     "output_type": "execute_result"
    }
   ],
   "source": [
    "# Create a tensor\n",
    "x = torch.arange(0,100,10)\n",
    "x"
   ]
  },
  {
   "cell_type": "code",
   "execution_count": 53,
   "id": "cabc9921",
   "metadata": {
    "execution": {
     "iopub.execute_input": "2023-06-29T06:30:45.227781Z",
     "iopub.status.busy": "2023-06-29T06:30:45.227028Z",
     "iopub.status.idle": "2023-06-29T06:30:45.234561Z",
     "shell.execute_reply": "2023-06-29T06:30:45.233693Z"
    },
    "papermill": {
     "duration": 0.033193,
     "end_time": "2023-06-29T06:30:45.236468",
     "exception": false,
     "start_time": "2023-06-29T06:30:45.203275",
     "status": "completed"
    },
    "tags": []
   },
   "outputs": [
    {
     "data": {
      "text/plain": [
       "(tensor(0), tensor(0))"
      ]
     },
     "execution_count": 53,
     "metadata": {},
     "output_type": "execute_result"
    }
   ],
   "source": [
    "# Min\n",
    "torch.min(x), x.min()"
   ]
  },
  {
   "cell_type": "code",
   "execution_count": 54,
   "id": "d092631d",
   "metadata": {
    "execution": {
     "iopub.execute_input": "2023-06-29T06:30:45.284054Z",
     "iopub.status.busy": "2023-06-29T06:30:45.283346Z",
     "iopub.status.idle": "2023-06-29T06:30:45.289561Z",
     "shell.execute_reply": "2023-06-29T06:30:45.288688Z"
    },
    "papermill": {
     "duration": 0.031968,
     "end_time": "2023-06-29T06:30:45.291478",
     "exception": false,
     "start_time": "2023-06-29T06:30:45.259510",
     "status": "completed"
    },
    "tags": []
   },
   "outputs": [
    {
     "data": {
      "text/plain": [
       "(tensor(90), tensor(90))"
      ]
     },
     "execution_count": 54,
     "metadata": {},
     "output_type": "execute_result"
    }
   ],
   "source": [
    "# Max\n",
    "torch.max(x), x.max()"
   ]
  },
  {
   "cell_type": "code",
   "execution_count": 55,
   "id": "395fb49a",
   "metadata": {
    "execution": {
     "iopub.execute_input": "2023-06-29T06:30:45.339139Z",
     "iopub.status.busy": "2023-06-29T06:30:45.338442Z",
     "iopub.status.idle": "2023-06-29T06:30:45.349850Z",
     "shell.execute_reply": "2023-06-29T06:30:45.348937Z"
    },
    "papermill": {
     "duration": 0.037249,
     "end_time": "2023-06-29T06:30:45.351808",
     "exception": false,
     "start_time": "2023-06-29T06:30:45.314559",
     "status": "completed"
    },
    "tags": []
   },
   "outputs": [
    {
     "data": {
      "text/plain": [
       "(tensor(45., dtype=torch.float16),\n",
       " tensor(45., dtype=torch.float16),\n",
       " tensor(45.))"
      ]
     },
     "execution_count": 55,
     "metadata": {},
     "output_type": "execute_result"
    }
   ],
   "source": [
    "# Mean\n",
    "torch.mean(x.type(torch.float16)) , x.type(torch.float16).mean() , torch.mean(x,dtype=torch.float32)"
   ]
  },
  {
   "cell_type": "code",
   "execution_count": 56,
   "id": "c9afe94c",
   "metadata": {
    "execution": {
     "iopub.execute_input": "2023-06-29T06:30:45.399952Z",
     "iopub.status.busy": "2023-06-29T06:30:45.399213Z",
     "iopub.status.idle": "2023-06-29T06:30:45.405761Z",
     "shell.execute_reply": "2023-06-29T06:30:45.404873Z"
    },
    "papermill": {
     "duration": 0.032616,
     "end_time": "2023-06-29T06:30:45.407636",
     "exception": false,
     "start_time": "2023-06-29T06:30:45.375020",
     "status": "completed"
    },
    "tags": []
   },
   "outputs": [
    {
     "data": {
      "text/plain": [
       "(tensor(450), tensor(450))"
      ]
     },
     "execution_count": 56,
     "metadata": {},
     "output_type": "execute_result"
    }
   ],
   "source": [
    "# Sum\n",
    "torch.sum(x) , x.sum()"
   ]
  },
  {
   "cell_type": "markdown",
   "id": "9aab7f53",
   "metadata": {
    "papermill": {
     "duration": 0.023444,
     "end_time": "2023-06-29T06:30:45.454346",
     "exception": false,
     "start_time": "2023-06-29T06:30:45.430902",
     "status": "completed"
    },
    "tags": []
   },
   "source": [
    "## Finding Positinal min and max"
   ]
  },
  {
   "cell_type": "code",
   "execution_count": 57,
   "id": "d39f71b9",
   "metadata": {
    "execution": {
     "iopub.execute_input": "2023-06-29T06:30:45.503682Z",
     "iopub.status.busy": "2023-06-29T06:30:45.502746Z",
     "iopub.status.idle": "2023-06-29T06:30:45.509726Z",
     "shell.execute_reply": "2023-06-29T06:30:45.508761Z"
    },
    "papermill": {
     "duration": 0.033752,
     "end_time": "2023-06-29T06:30:45.511770",
     "exception": false,
     "start_time": "2023-06-29T06:30:45.478018",
     "status": "completed"
    },
    "tags": []
   },
   "outputs": [
    {
     "data": {
      "text/plain": [
       "tensor([ 1, 11, 21, 31, 41, 51, 61, 71, 81, 91])"
      ]
     },
     "execution_count": 57,
     "metadata": {},
     "output_type": "execute_result"
    }
   ],
   "source": [
    "x+1"
   ]
  },
  {
   "cell_type": "code",
   "execution_count": 58,
   "id": "7327d8e0",
   "metadata": {
    "execution": {
     "iopub.execute_input": "2023-06-29T06:30:45.561274Z",
     "iopub.status.busy": "2023-06-29T06:30:45.560545Z",
     "iopub.status.idle": "2023-06-29T06:30:45.570305Z",
     "shell.execute_reply": "2023-06-29T06:30:45.569082Z"
    },
    "papermill": {
     "duration": 0.036703,
     "end_time": "2023-06-29T06:30:45.572220",
     "exception": false,
     "start_time": "2023-06-29T06:30:45.535517",
     "status": "completed"
    },
    "tags": []
   },
   "outputs": [
    {
     "name": "stdout",
     "output_type": "stream",
     "text": [
      "location :  tensor(0)\n",
      "element at location :  tensor(1)\n"
     ]
    }
   ],
   "source": [
    "# Position in tensor where minimum value exists\n",
    "print('location : ',(x+1).argmin())\n",
    "print('element at location : ',(x+1)[(x+1).argmin()])"
   ]
  },
  {
   "cell_type": "code",
   "execution_count": 59,
   "id": "cde11a9d",
   "metadata": {
    "execution": {
     "iopub.execute_input": "2023-06-29T06:30:45.621332Z",
     "iopub.status.busy": "2023-06-29T06:30:45.620573Z",
     "iopub.status.idle": "2023-06-29T06:30:45.626757Z",
     "shell.execute_reply": "2023-06-29T06:30:45.625594Z"
    },
    "papermill": {
     "duration": 0.032924,
     "end_time": "2023-06-29T06:30:45.628670",
     "exception": false,
     "start_time": "2023-06-29T06:30:45.595746",
     "status": "completed"
    },
    "tags": []
   },
   "outputs": [
    {
     "name": "stdout",
     "output_type": "stream",
     "text": [
      "location :  tensor(9)\n",
      "element at location :  tensor(91)\n"
     ]
    }
   ],
   "source": [
    "# Position in tensor where maximum value exists\n",
    "print('location : ',(x+1).argmax())\n",
    "print('element at location : ',(x+1)[(x+1).argmax()])"
   ]
  },
  {
   "cell_type": "markdown",
   "id": "1d37a212",
   "metadata": {
    "papermill": {
     "duration": 0.023418,
     "end_time": "2023-06-29T06:30:45.677954",
     "exception": false,
     "start_time": "2023-06-29T06:30:45.654536",
     "status": "completed"
    },
    "tags": []
   },
   "source": [
    "## Reshaping, Stacking, Squeezing and Unsqueezing tensor\n",
    "\n",
    "* Reshaping - reshapes input tensor to defined shape\n",
    "* View - Returns a view of input tensor of certain shape but keeps same memory as original\n",
    "* Stacking - Combine Multiple tensors on top of each other (vstack) or side by side (hstack)\n",
    "* Squeeze - **removes one** dimension from tensor\n",
    "* Unsqueeze - **adds one** dimension to tensor\n",
    "* Permute - Reaturn a view of input with Dimension Permuted (swapped) in certain way "
   ]
  },
  {
   "cell_type": "code",
   "execution_count": 60,
   "id": "244c617e",
   "metadata": {
    "execution": {
     "iopub.execute_input": "2023-06-29T06:30:45.726671Z",
     "iopub.status.busy": "2023-06-29T06:30:45.726128Z",
     "iopub.status.idle": "2023-06-29T06:30:45.734096Z",
     "shell.execute_reply": "2023-06-29T06:30:45.733290Z"
    },
    "papermill": {
     "duration": 0.034346,
     "end_time": "2023-06-29T06:30:45.735955",
     "exception": false,
     "start_time": "2023-06-29T06:30:45.701609",
     "status": "completed"
    },
    "tags": []
   },
   "outputs": [
    {
     "data": {
      "text/plain": [
       "(tensor([1., 2., 3., 4., 5., 6., 7., 8., 9.]), torch.Size([9]))"
      ]
     },
     "execution_count": 60,
     "metadata": {},
     "output_type": "execute_result"
    }
   ],
   "source": [
    "# Create Tensor\n",
    "x = torch.arange(1.,10.)\n",
    "x , x.shape"
   ]
  },
  {
   "cell_type": "code",
   "execution_count": 61,
   "id": "dde97be2",
   "metadata": {
    "execution": {
     "iopub.execute_input": "2023-06-29T06:30:45.784825Z",
     "iopub.status.busy": "2023-06-29T06:30:45.784562Z",
     "iopub.status.idle": "2023-06-29T06:30:45.791130Z",
     "shell.execute_reply": "2023-06-29T06:30:45.789758Z"
    },
    "papermill": {
     "duration": 0.033392,
     "end_time": "2023-06-29T06:30:45.793000",
     "exception": false,
     "start_time": "2023-06-29T06:30:45.759608",
     "status": "completed"
    },
    "tags": []
   },
   "outputs": [
    {
     "name": "stdout",
     "output_type": "stream",
     "text": [
      "torch.Size([9])\n",
      "tensor([[1.],\n",
      "        [2.],\n",
      "        [3.],\n",
      "        [4.],\n",
      "        [5.],\n",
      "        [6.],\n",
      "        [7.],\n",
      "        [8.],\n",
      "        [9.]])\n",
      "torch.Size([9, 1])\n"
     ]
    }
   ],
   "source": [
    "# Add extra dimension\n",
    "x_reshaped = x.reshape(9,1)\n",
    "print(x.size())\n",
    "print(x_reshaped)\n",
    "print(x_reshaped.size())"
   ]
  },
  {
   "cell_type": "code",
   "execution_count": 62,
   "id": "c22330e5",
   "metadata": {
    "execution": {
     "iopub.execute_input": "2023-06-29T06:30:45.842398Z",
     "iopub.status.busy": "2023-06-29T06:30:45.842110Z",
     "iopub.status.idle": "2023-06-29T06:30:45.849066Z",
     "shell.execute_reply": "2023-06-29T06:30:45.848123Z"
    },
    "papermill": {
     "duration": 0.034448,
     "end_time": "2023-06-29T06:30:45.851163",
     "exception": false,
     "start_time": "2023-06-29T06:30:45.816715",
     "status": "completed"
    },
    "tags": []
   },
   "outputs": [
    {
     "data": {
      "text/plain": [
       "(tensor([[1., 2., 3.],\n",
       "         [4., 5., 6.],\n",
       "         [7., 8., 9.]]),\n",
       " torch.Size([3, 3]))"
      ]
     },
     "execution_count": 62,
     "metadata": {},
     "output_type": "execute_result"
    }
   ],
   "source": [
    "# Change View\n",
    "z = x.view(3,3)\n",
    "z, z.shape"
   ]
  },
  {
   "cell_type": "code",
   "execution_count": 63,
   "id": "603ae9a1",
   "metadata": {
    "execution": {
     "iopub.execute_input": "2023-06-29T06:30:45.900398Z",
     "iopub.status.busy": "2023-06-29T06:30:45.900121Z",
     "iopub.status.idle": "2023-06-29T06:30:45.909476Z",
     "shell.execute_reply": "2023-06-29T06:30:45.908507Z"
    },
    "papermill": {
     "duration": 0.036326,
     "end_time": "2023-06-29T06:30:45.911576",
     "exception": false,
     "start_time": "2023-06-29T06:30:45.875250",
     "status": "completed"
    },
    "tags": []
   },
   "outputs": [
    {
     "data": {
      "text/plain": [
       "(tensor([[5., 2., 3.],\n",
       "         [5., 5., 6.],\n",
       "         [5., 8., 9.]]),\n",
       " tensor([5., 2., 3., 5., 5., 6., 5., 8., 9.]))"
      ]
     },
     "execution_count": 63,
     "metadata": {},
     "output_type": "execute_result"
    }
   ],
   "source": [
    "z[:,0]=5\n",
    "z, x"
   ]
  },
  {
   "cell_type": "code",
   "execution_count": null,
   "id": "56daa69e",
   "metadata": {
    "papermill": {
     "duration": 0.026938,
     "end_time": "2023-06-29T06:30:45.962831",
     "exception": false,
     "start_time": "2023-06-29T06:30:45.935893",
     "status": "completed"
    },
    "tags": []
   },
   "outputs": [],
   "source": []
  }
 ],
 "metadata": {
  "kernelspec": {
   "display_name": "Python 3",
   "language": "python",
   "name": "python3"
  },
  "language_info": {
   "codemirror_mode": {
    "name": "ipython",
    "version": 3
   },
   "file_extension": ".py",
   "mimetype": "text/x-python",
   "name": "python",
   "nbconvert_exporter": "python",
   "pygments_lexer": "ipython3",
   "version": "3.10.10"
  },
  "papermill": {
   "default_parameters": {},
   "duration": 19.421262,
   "end_time": "2023-06-29T06:30:47.408946",
   "environment_variables": {},
   "exception": null,
   "input_path": "__notebook__.ipynb",
   "output_path": "__notebook__.ipynb",
   "parameters": {},
   "start_time": "2023-06-29T06:30:27.987684",
   "version": "2.4.0"
  }
 },
 "nbformat": 4,
 "nbformat_minor": 5
}
