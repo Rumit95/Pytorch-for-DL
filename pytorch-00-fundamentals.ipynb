{
 "cells": [
  {
   "cell_type": "code",
   "execution_count": 1,
   "id": "687884d7",
   "metadata": {
    "_cell_guid": "b1076dfc-b9ad-4769-8c92-a6c4dae69d19",
    "_uuid": "8f2839f25d086af736a60e9eeb907d3b93b6e0e5",
    "execution": {
     "iopub.execute_input": "2023-06-25T16:10:03.326867Z",
     "iopub.status.busy": "2023-06-25T16:10:03.326465Z",
     "iopub.status.idle": "2023-06-25T16:10:06.665350Z",
     "shell.execute_reply": "2023-06-25T16:10:06.664478Z"
    },
    "papermill": {
     "duration": 3.350564,
     "end_time": "2023-06-25T16:10:06.667749",
     "exception": false,
     "start_time": "2023-06-25T16:10:03.317185",
     "status": "completed"
    },
    "tags": []
   },
   "outputs": [
    {
     "data": {
      "text/plain": [
       "'2.0.0'"
      ]
     },
     "execution_count": 1,
     "metadata": {},
     "output_type": "execute_result"
    }
   ],
   "source": [
    "import torch\n",
    "import pandas as pd\n",
    "import numpy as np\n",
    "import matplotlib.pyplot as plt\n",
    "torch.__version__"
   ]
  },
  {
   "cell_type": "markdown",
   "id": "9f53e91c",
   "metadata": {
    "execution": {
     "iopub.execute_input": "2023-06-25T15:31:29.081596Z",
     "iopub.status.busy": "2023-06-25T15:31:29.081220Z",
     "iopub.status.idle": "2023-06-25T15:31:29.086052Z",
     "shell.execute_reply": "2023-06-25T15:31:29.085102Z",
     "shell.execute_reply.started": "2023-06-25T15:31:29.081561Z"
    },
    "papermill": {
     "duration": 0.007051,
     "end_time": "2023-06-25T16:10:06.682358",
     "exception": false,
     "start_time": "2023-06-25T16:10:06.675307",
     "status": "completed"
    },
    "tags": []
   },
   "source": [
    "## Introduction to Tensor\n",
    "\n",
    "### Creating Tensors\n",
    "\n",
    "PyTorch tensor are create using torch.Tensor()\n",
    "\n",
    "ref - https://pytorch.org/docs/stable/tensors.html"
   ]
  },
  {
   "cell_type": "code",
   "execution_count": 2,
   "id": "272e91ed",
   "metadata": {
    "execution": {
     "iopub.execute_input": "2023-06-25T16:10:06.698854Z",
     "iopub.status.busy": "2023-06-25T16:10:06.697813Z",
     "iopub.status.idle": "2023-06-25T16:10:06.733564Z",
     "shell.execute_reply": "2023-06-25T16:10:06.732543Z"
    },
    "papermill": {
     "duration": 0.045824,
     "end_time": "2023-06-25T16:10:06.735509",
     "exception": false,
     "start_time": "2023-06-25T16:10:06.689685",
     "status": "completed"
    },
    "tags": []
   },
   "outputs": [
    {
     "data": {
      "text/plain": [
       "tensor(7)"
      ]
     },
     "execution_count": 2,
     "metadata": {},
     "output_type": "execute_result"
    }
   ],
   "source": [
    "# Scaler\n",
    "scaler=torch.tensor(7)\n",
    "scaler"
   ]
  },
  {
   "cell_type": "code",
   "execution_count": 3,
   "id": "99edad26",
   "metadata": {
    "execution": {
     "iopub.execute_input": "2023-06-25T16:10:06.751726Z",
     "iopub.status.busy": "2023-06-25T16:10:06.751174Z",
     "iopub.status.idle": "2023-06-25T16:10:06.756660Z",
     "shell.execute_reply": "2023-06-25T16:10:06.755758Z"
    },
    "papermill": {
     "duration": 0.015557,
     "end_time": "2023-06-25T16:10:06.758493",
     "exception": false,
     "start_time": "2023-06-25T16:10:06.742936",
     "status": "completed"
    },
    "tags": []
   },
   "outputs": [
    {
     "data": {
      "text/plain": [
       "0"
      ]
     },
     "execution_count": 3,
     "metadata": {},
     "output_type": "execute_result"
    }
   ],
   "source": [
    "scaler.ndim"
   ]
  },
  {
   "cell_type": "code",
   "execution_count": 4,
   "id": "4fdc1923",
   "metadata": {
    "execution": {
     "iopub.execute_input": "2023-06-25T16:10:06.774872Z",
     "iopub.status.busy": "2023-06-25T16:10:06.774142Z",
     "iopub.status.idle": "2023-06-25T16:10:06.779993Z",
     "shell.execute_reply": "2023-06-25T16:10:06.779064Z"
    },
    "papermill": {
     "duration": 0.016148,
     "end_time": "2023-06-25T16:10:06.782060",
     "exception": false,
     "start_time": "2023-06-25T16:10:06.765912",
     "status": "completed"
    },
    "tags": []
   },
   "outputs": [
    {
     "data": {
      "text/plain": [
       "7"
      ]
     },
     "execution_count": 4,
     "metadata": {},
     "output_type": "execute_result"
    }
   ],
   "source": [
    "# Get Tensor back ans int\n",
    "scaler.item()"
   ]
  },
  {
   "cell_type": "code",
   "execution_count": 5,
   "id": "3415cd4a",
   "metadata": {
    "execution": {
     "iopub.execute_input": "2023-06-25T16:10:06.798649Z",
     "iopub.status.busy": "2023-06-25T16:10:06.797894Z",
     "iopub.status.idle": "2023-06-25T16:10:06.805871Z",
     "shell.execute_reply": "2023-06-25T16:10:06.804964Z"
    },
    "papermill": {
     "duration": 0.018381,
     "end_time": "2023-06-25T16:10:06.807999",
     "exception": false,
     "start_time": "2023-06-25T16:10:06.789618",
     "status": "completed"
    },
    "tags": []
   },
   "outputs": [
    {
     "data": {
      "text/plain": [
       "tensor([7, 7])"
      ]
     },
     "execution_count": 5,
     "metadata": {},
     "output_type": "execute_result"
    }
   ],
   "source": [
    "# Vector\n",
    "vector =torch.tensor([7,7])\n",
    "vector"
   ]
  },
  {
   "cell_type": "code",
   "execution_count": 6,
   "id": "ddd013f3",
   "metadata": {
    "execution": {
     "iopub.execute_input": "2023-06-25T16:10:06.825059Z",
     "iopub.status.busy": "2023-06-25T16:10:06.824322Z",
     "iopub.status.idle": "2023-06-25T16:10:06.829854Z",
     "shell.execute_reply": "2023-06-25T16:10:06.828927Z"
    },
    "papermill": {
     "duration": 0.016048,
     "end_time": "2023-06-25T16:10:06.831862",
     "exception": false,
     "start_time": "2023-06-25T16:10:06.815814",
     "status": "completed"
    },
    "tags": []
   },
   "outputs": [
    {
     "data": {
      "text/plain": [
       "1"
      ]
     },
     "execution_count": 6,
     "metadata": {},
     "output_type": "execute_result"
    }
   ],
   "source": [
    "vector.ndim"
   ]
  },
  {
   "cell_type": "code",
   "execution_count": 7,
   "id": "ec8ae343",
   "metadata": {
    "execution": {
     "iopub.execute_input": "2023-06-25T16:10:06.848797Z",
     "iopub.status.busy": "2023-06-25T16:10:06.848178Z",
     "iopub.status.idle": "2023-06-25T16:10:06.853645Z",
     "shell.execute_reply": "2023-06-25T16:10:06.852736Z"
    },
    "papermill": {
     "duration": 0.015879,
     "end_time": "2023-06-25T16:10:06.855543",
     "exception": false,
     "start_time": "2023-06-25T16:10:06.839664",
     "status": "completed"
    },
    "tags": []
   },
   "outputs": [
    {
     "data": {
      "text/plain": [
       "torch.Size([2])"
      ]
     },
     "execution_count": 7,
     "metadata": {},
     "output_type": "execute_result"
    }
   ],
   "source": [
    "vector.shape"
   ]
  },
  {
   "cell_type": "code",
   "execution_count": 8,
   "id": "70be0540",
   "metadata": {
    "execution": {
     "iopub.execute_input": "2023-06-25T16:10:06.872909Z",
     "iopub.status.busy": "2023-06-25T16:10:06.872163Z",
     "iopub.status.idle": "2023-06-25T16:10:06.880916Z",
     "shell.execute_reply": "2023-06-25T16:10:06.880022Z"
    },
    "papermill": {
     "duration": 0.01937,
     "end_time": "2023-06-25T16:10:06.882871",
     "exception": false,
     "start_time": "2023-06-25T16:10:06.863501",
     "status": "completed"
    },
    "tags": []
   },
   "outputs": [
    {
     "data": {
      "text/plain": [
       "tensor([[7, 8],\n",
       "        [6, 5]])"
      ]
     },
     "execution_count": 8,
     "metadata": {},
     "output_type": "execute_result"
    }
   ],
   "source": [
    "# Matrix\n",
    "MATRIX = torch.tensor([[7,8],\n",
    "                      [6,5]])\n",
    "MATRIX"
   ]
  },
  {
   "cell_type": "code",
   "execution_count": 9,
   "id": "298dbc09",
   "metadata": {
    "execution": {
     "iopub.execute_input": "2023-06-25T16:10:06.900522Z",
     "iopub.status.busy": "2023-06-25T16:10:06.899750Z",
     "iopub.status.idle": "2023-06-25T16:10:06.905697Z",
     "shell.execute_reply": "2023-06-25T16:10:06.904812Z"
    },
    "papermill": {
     "duration": 0.016707,
     "end_time": "2023-06-25T16:10:06.907603",
     "exception": false,
     "start_time": "2023-06-25T16:10:06.890896",
     "status": "completed"
    },
    "tags": []
   },
   "outputs": [
    {
     "data": {
      "text/plain": [
       "2"
      ]
     },
     "execution_count": 9,
     "metadata": {},
     "output_type": "execute_result"
    }
   ],
   "source": [
    "MATRIX.ndim"
   ]
  },
  {
   "cell_type": "code",
   "execution_count": 10,
   "id": "52ae9c0a",
   "metadata": {
    "execution": {
     "iopub.execute_input": "2023-06-25T16:10:06.925968Z",
     "iopub.status.busy": "2023-06-25T16:10:06.925440Z",
     "iopub.status.idle": "2023-06-25T16:10:06.931471Z",
     "shell.execute_reply": "2023-06-25T16:10:06.930542Z"
    },
    "papermill": {
     "duration": 0.017338,
     "end_time": "2023-06-25T16:10:06.933504",
     "exception": false,
     "start_time": "2023-06-25T16:10:06.916166",
     "status": "completed"
    },
    "tags": []
   },
   "outputs": [
    {
     "data": {
      "text/plain": [
       "tensor([7, 8])"
      ]
     },
     "execution_count": 10,
     "metadata": {},
     "output_type": "execute_result"
    }
   ],
   "source": [
    "MATRIX[0]"
   ]
  },
  {
   "cell_type": "code",
   "execution_count": 11,
   "id": "c2eeb6e5",
   "metadata": {
    "execution": {
     "iopub.execute_input": "2023-06-25T16:10:06.953045Z",
     "iopub.status.busy": "2023-06-25T16:10:06.951641Z",
     "iopub.status.idle": "2023-06-25T16:10:06.958327Z",
     "shell.execute_reply": "2023-06-25T16:10:06.957402Z"
    },
    "papermill": {
     "duration": 0.017695,
     "end_time": "2023-06-25T16:10:06.960277",
     "exception": false,
     "start_time": "2023-06-25T16:10:06.942582",
     "status": "completed"
    },
    "tags": []
   },
   "outputs": [
    {
     "data": {
      "text/plain": [
       "tensor([6, 5])"
      ]
     },
     "execution_count": 11,
     "metadata": {},
     "output_type": "execute_result"
    }
   ],
   "source": [
    "MATRIX[1]"
   ]
  },
  {
   "cell_type": "code",
   "execution_count": 12,
   "id": "2a873ada",
   "metadata": {
    "execution": {
     "iopub.execute_input": "2023-06-25T16:10:06.978800Z",
     "iopub.status.busy": "2023-06-25T16:10:06.978048Z",
     "iopub.status.idle": "2023-06-25T16:10:06.983646Z",
     "shell.execute_reply": "2023-06-25T16:10:06.982741Z"
    },
    "papermill": {
     "duration": 0.016774,
     "end_time": "2023-06-25T16:10:06.985546",
     "exception": false,
     "start_time": "2023-06-25T16:10:06.968772",
     "status": "completed"
    },
    "tags": []
   },
   "outputs": [
    {
     "data": {
      "text/plain": [
       "torch.Size([2, 2])"
      ]
     },
     "execution_count": 12,
     "metadata": {},
     "output_type": "execute_result"
    }
   ],
   "source": [
    "MATRIX.shape"
   ]
  },
  {
   "cell_type": "code",
   "execution_count": 13,
   "id": "da2da8be",
   "metadata": {
    "execution": {
     "iopub.execute_input": "2023-06-25T16:10:07.005689Z",
     "iopub.status.busy": "2023-06-25T16:10:07.004260Z",
     "iopub.status.idle": "2023-06-25T16:10:07.011939Z",
     "shell.execute_reply": "2023-06-25T16:10:07.011005Z"
    },
    "papermill": {
     "duration": 0.020143,
     "end_time": "2023-06-25T16:10:07.014293",
     "exception": false,
     "start_time": "2023-06-25T16:10:06.994150",
     "status": "completed"
    },
    "tags": []
   },
   "outputs": [
    {
     "data": {
      "text/plain": [
       "tensor([[[1, 2, 3],\n",
       "         [5, 6, 6],\n",
       "         [7, 8, 9]]])"
      ]
     },
     "execution_count": 13,
     "metadata": {},
     "output_type": "execute_result"
    }
   ],
   "source": [
    "# Tensor\n",
    "TENSOR = torch.tensor([[[1,2,3],\n",
    "                      [5,6,6],\n",
    "                      [7,8,9]]])\n",
    "TENSOR"
   ]
  },
  {
   "cell_type": "code",
   "execution_count": 14,
   "id": "8f4bdb03",
   "metadata": {
    "execution": {
     "iopub.execute_input": "2023-06-25T16:10:07.033763Z",
     "iopub.status.busy": "2023-06-25T16:10:07.032432Z",
     "iopub.status.idle": "2023-06-25T16:10:07.038337Z",
     "shell.execute_reply": "2023-06-25T16:10:07.037491Z"
    },
    "papermill": {
     "duration": 0.017114,
     "end_time": "2023-06-25T16:10:07.040203",
     "exception": false,
     "start_time": "2023-06-25T16:10:07.023089",
     "status": "completed"
    },
    "tags": []
   },
   "outputs": [
    {
     "data": {
      "text/plain": [
       "3"
      ]
     },
     "execution_count": 14,
     "metadata": {},
     "output_type": "execute_result"
    }
   ],
   "source": [
    "TENSOR.ndim"
   ]
  },
  {
   "cell_type": "code",
   "execution_count": 15,
   "id": "79234602",
   "metadata": {
    "execution": {
     "iopub.execute_input": "2023-06-25T16:10:07.060012Z",
     "iopub.status.busy": "2023-06-25T16:10:07.058611Z",
     "iopub.status.idle": "2023-06-25T16:10:07.064833Z",
     "shell.execute_reply": "2023-06-25T16:10:07.063941Z"
    },
    "papermill": {
     "duration": 0.017775,
     "end_time": "2023-06-25T16:10:07.066829",
     "exception": false,
     "start_time": "2023-06-25T16:10:07.049054",
     "status": "completed"
    },
    "tags": []
   },
   "outputs": [
    {
     "data": {
      "text/plain": [
       "torch.Size([1, 3, 3])"
      ]
     },
     "execution_count": 15,
     "metadata": {},
     "output_type": "execute_result"
    }
   ],
   "source": [
    "TENSOR.shape"
   ]
  },
  {
   "cell_type": "code",
   "execution_count": 16,
   "id": "5758026f",
   "metadata": {
    "execution": {
     "iopub.execute_input": "2023-06-25T16:10:07.086592Z",
     "iopub.status.busy": "2023-06-25T16:10:07.085798Z",
     "iopub.status.idle": "2023-06-25T16:10:07.092482Z",
     "shell.execute_reply": "2023-06-25T16:10:07.091510Z"
    },
    "papermill": {
     "duration": 0.018784,
     "end_time": "2023-06-25T16:10:07.094601",
     "exception": false,
     "start_time": "2023-06-25T16:10:07.075817",
     "status": "completed"
    },
    "tags": []
   },
   "outputs": [
    {
     "data": {
      "text/plain": [
       "tensor([[1, 2, 3],\n",
       "        [5, 6, 6],\n",
       "        [7, 8, 9]])"
      ]
     },
     "execution_count": 16,
     "metadata": {},
     "output_type": "execute_result"
    }
   ],
   "source": [
    "TENSOR[0]"
   ]
  },
  {
   "cell_type": "code",
   "execution_count": 17,
   "id": "6748181c",
   "metadata": {
    "execution": {
     "iopub.execute_input": "2023-06-25T16:10:07.115471Z",
     "iopub.status.busy": "2023-06-25T16:10:07.114634Z",
     "iopub.status.idle": "2023-06-25T16:10:07.122653Z",
     "shell.execute_reply": "2023-06-25T16:10:07.121614Z"
    },
    "papermill": {
     "duration": 0.020595,
     "end_time": "2023-06-25T16:10:07.124827",
     "exception": false,
     "start_time": "2023-06-25T16:10:07.104232",
     "status": "completed"
    },
    "tags": []
   },
   "outputs": [
    {
     "data": {
      "text/plain": [
       "tensor([[[1, 2, 3],\n",
       "         [4, 5, 6],\n",
       "         [7, 8, 9]],\n",
       "\n",
       "        [[1, 2, 3],\n",
       "         [4, 5, 6],\n",
       "         [7, 8, 9]]])"
      ]
     },
     "execution_count": 17,
     "metadata": {},
     "output_type": "execute_result"
    }
   ],
   "source": [
    "# Practice\n",
    "TENSOR1=torch.tensor([[[1,2,3],\n",
    "                      [4,5,6],\n",
    "                      [7,8,9]],\n",
    "                     [[1,2,3],\n",
    "                      [4,5,6],\n",
    "                      [7,8,9]]])\n",
    "TENSOR1"
   ]
  },
  {
   "cell_type": "code",
   "execution_count": 18,
   "id": "33a346ef",
   "metadata": {
    "execution": {
     "iopub.execute_input": "2023-06-25T16:10:07.146991Z",
     "iopub.status.busy": "2023-06-25T16:10:07.146035Z",
     "iopub.status.idle": "2023-06-25T16:10:07.152617Z",
     "shell.execute_reply": "2023-06-25T16:10:07.151529Z"
    },
    "papermill": {
     "duration": 0.019854,
     "end_time": "2023-06-25T16:10:07.154815",
     "exception": false,
     "start_time": "2023-06-25T16:10:07.134961",
     "status": "completed"
    },
    "tags": []
   },
   "outputs": [
    {
     "data": {
      "text/plain": [
       "3"
      ]
     },
     "execution_count": 18,
     "metadata": {},
     "output_type": "execute_result"
    }
   ],
   "source": [
    "TENSOR1.ndim"
   ]
  },
  {
   "cell_type": "code",
   "execution_count": 19,
   "id": "6c5a62a2",
   "metadata": {
    "execution": {
     "iopub.execute_input": "2023-06-25T16:10:07.176357Z",
     "iopub.status.busy": "2023-06-25T16:10:07.176050Z",
     "iopub.status.idle": "2023-06-25T16:10:07.181636Z",
     "shell.execute_reply": "2023-06-25T16:10:07.180761Z"
    },
    "papermill": {
     "duration": 0.018533,
     "end_time": "2023-06-25T16:10:07.183635",
     "exception": false,
     "start_time": "2023-06-25T16:10:07.165102",
     "status": "completed"
    },
    "tags": []
   },
   "outputs": [
    {
     "data": {
      "text/plain": [
       "torch.Size([2, 3, 3])"
      ]
     },
     "execution_count": 19,
     "metadata": {},
     "output_type": "execute_result"
    }
   ],
   "source": [
    "TENSOR1.shape"
   ]
  },
  {
   "cell_type": "markdown",
   "id": "b313ed23",
   "metadata": {
    "execution": {
     "iopub.execute_input": "2023-06-25T15:53:52.605155Z",
     "iopub.status.busy": "2023-06-25T15:53:52.604740Z",
     "iopub.status.idle": "2023-06-25T15:53:52.609815Z",
     "shell.execute_reply": "2023-06-25T15:53:52.608929Z",
     "shell.execute_reply.started": "2023-06-25T15:53:52.605124Z"
    },
    "papermill": {
     "duration": 0.010116,
     "end_time": "2023-06-25T16:10:07.204128",
     "exception": false,
     "start_time": "2023-06-25T16:10:07.194012",
     "status": "completed"
    },
    "tags": []
   },
   "source": [
    "### Random Tensor\n",
    "\n",
    "Why Random Nos. ?\n",
    "\n",
    "'Start with Random Numbers -> Look at Data -> Update Random Numbers -> Look at Data -> Update Random Numbers'\n",
    "\n",
    "ref - https://pytorch.org/docs/stable/generated/torch.rand.html"
   ]
  },
  {
   "cell_type": "code",
   "execution_count": 20,
   "id": "43c13a88",
   "metadata": {
    "execution": {
     "iopub.execute_input": "2023-06-25T16:10:07.227761Z",
     "iopub.status.busy": "2023-06-25T16:10:07.225933Z",
     "iopub.status.idle": "2023-06-25T16:10:07.276644Z",
     "shell.execute_reply": "2023-06-25T16:10:07.275761Z"
    },
    "papermill": {
     "duration": 0.064128,
     "end_time": "2023-06-25T16:10:07.278706",
     "exception": false,
     "start_time": "2023-06-25T16:10:07.214578",
     "status": "completed"
    },
    "tags": []
   },
   "outputs": [
    {
     "data": {
      "text/plain": [
       "tensor([[[0.6219, 0.6237, 0.9889],\n",
       "         [0.6170, 0.1552, 0.4399],\n",
       "         [0.2285, 0.9354, 0.1047],\n",
       "         [0.4768, 0.1284, 0.8443]],\n",
       "\n",
       "        [[0.5479, 0.1402, 0.0307],\n",
       "         [0.9383, 0.1648, 0.2625],\n",
       "         [0.1324, 0.1157, 0.8467],\n",
       "         [0.6617, 0.9301, 0.7963]],\n",
       "\n",
       "        [[0.3740, 0.9315, 0.7232],\n",
       "         [0.5435, 0.0094, 0.8012],\n",
       "         [0.3493, 0.3184, 0.6635],\n",
       "         [0.8142, 0.6715, 0.6082]]])"
      ]
     },
     "execution_count": 20,
     "metadata": {},
     "output_type": "execute_result"
    }
   ],
   "source": [
    "# Create a random tensor of size(3,4)\n",
    "random_tensor =torch.rand(3,4,3)\n",
    "random_tensor"
   ]
  },
  {
   "cell_type": "code",
   "execution_count": 21,
   "id": "4d2a5d18",
   "metadata": {
    "execution": {
     "iopub.execute_input": "2023-06-25T16:10:07.300885Z",
     "iopub.status.busy": "2023-06-25T16:10:07.300444Z",
     "iopub.status.idle": "2023-06-25T16:10:07.308335Z",
     "shell.execute_reply": "2023-06-25T16:10:07.307373Z"
    },
    "papermill": {
     "duration": 0.022207,
     "end_time": "2023-06-25T16:10:07.310689",
     "exception": false,
     "start_time": "2023-06-25T16:10:07.288482",
     "status": "completed"
    },
    "tags": []
   },
   "outputs": [
    {
     "data": {
      "text/plain": [
       "3"
      ]
     },
     "execution_count": 21,
     "metadata": {},
     "output_type": "execute_result"
    }
   ],
   "source": [
    "random_tensor.ndim"
   ]
  },
  {
   "cell_type": "code",
   "execution_count": 22,
   "id": "8f90c57f",
   "metadata": {
    "execution": {
     "iopub.execute_input": "2023-06-25T16:10:07.332112Z",
     "iopub.status.busy": "2023-06-25T16:10:07.331189Z",
     "iopub.status.idle": "2023-06-25T16:10:07.338262Z",
     "shell.execute_reply": "2023-06-25T16:10:07.337393Z"
    },
    "papermill": {
     "duration": 0.019953,
     "end_time": "2023-06-25T16:10:07.340201",
     "exception": false,
     "start_time": "2023-06-25T16:10:07.320248",
     "status": "completed"
    },
    "tags": []
   },
   "outputs": [
    {
     "data": {
      "text/plain": [
       "torch.Size([3, 4, 3])"
      ]
     },
     "execution_count": 22,
     "metadata": {},
     "output_type": "execute_result"
    }
   ],
   "source": [
    "random_tensor.shape"
   ]
  },
  {
   "cell_type": "code",
   "execution_count": 23,
   "id": "1f628cee",
   "metadata": {
    "execution": {
     "iopub.execute_input": "2023-06-25T16:10:07.363955Z",
     "iopub.status.busy": "2023-06-25T16:10:07.363398Z",
     "iopub.status.idle": "2023-06-25T16:10:07.378778Z",
     "shell.execute_reply": "2023-06-25T16:10:07.377916Z"
    },
    "papermill": {
     "duration": 0.028457,
     "end_time": "2023-06-25T16:10:07.381202",
     "exception": false,
     "start_time": "2023-06-25T16:10:07.352745",
     "status": "completed"
    },
    "scrolled": true,
    "tags": []
   },
   "outputs": [
    {
     "data": {
      "text/plain": [
       "tensor([[[0.5354, 0.5898, 0.0217],\n",
       "         [0.9699, 0.8476, 0.9369],\n",
       "         [0.7453, 0.5689, 0.9875],\n",
       "         ...,\n",
       "         [0.9545, 0.9009, 0.9245],\n",
       "         [0.7962, 0.0195, 0.2944],\n",
       "         [0.9382, 0.5023, 0.4900]],\n",
       "\n",
       "        [[0.5734, 0.4185, 0.6373],\n",
       "         [0.5247, 0.0229, 0.0392],\n",
       "         [0.7413, 0.6278, 0.5089],\n",
       "         ...,\n",
       "         [0.1250, 0.3595, 0.5114],\n",
       "         [0.9211, 0.6376, 0.7300],\n",
       "         [0.9204, 0.7313, 0.7280]],\n",
       "\n",
       "        [[0.4240, 0.9916, 0.6509],\n",
       "         [0.7713, 0.0856, 0.4282],\n",
       "         [0.4519, 0.3128, 0.7474],\n",
       "         ...,\n",
       "         [0.1867, 0.2652, 0.4741],\n",
       "         [0.5341, 0.9751, 0.1735],\n",
       "         [0.3412, 0.9897, 0.5568]],\n",
       "\n",
       "        ...,\n",
       "\n",
       "        [[0.9563, 0.3037, 0.3257],\n",
       "         [0.7798, 0.6048, 0.1608],\n",
       "         [0.0238, 0.0442, 0.0278],\n",
       "         ...,\n",
       "         [0.4740, 0.5194, 0.0790],\n",
       "         [0.2488, 0.1142, 0.9653],\n",
       "         [0.7939, 0.4923, 0.5392]],\n",
       "\n",
       "        [[0.3726, 0.7187, 0.3661],\n",
       "         [0.0497, 0.7798, 0.3009],\n",
       "         [0.0845, 0.7999, 0.4754],\n",
       "         ...,\n",
       "         [0.1948, 0.6862, 0.2703],\n",
       "         [0.0165, 0.1167, 0.4483],\n",
       "         [0.1887, 0.0548, 0.2104]],\n",
       "\n",
       "        [[0.5225, 0.5903, 0.3074],\n",
       "         [0.2634, 0.8691, 0.4951],\n",
       "         [0.4687, 0.3643, 0.7321],\n",
       "         ...,\n",
       "         [0.8500, 0.8698, 0.5387],\n",
       "         [0.1692, 0.3320, 0.0185],\n",
       "         [0.0509, 0.3194, 0.9863]]])"
      ]
     },
     "execution_count": 23,
     "metadata": {},
     "output_type": "execute_result"
    }
   ],
   "source": [
    "# Creating Random tensor similar to Image Shape\n",
    "random_image_size_tensor =torch.rand(size=[224,224,3],) # height, width , color channels\n",
    "random_image_size_tensor"
   ]
  },
  {
   "cell_type": "code",
   "execution_count": 24,
   "id": "e3e8d034",
   "metadata": {
    "execution": {
     "iopub.execute_input": "2023-06-25T16:10:07.402420Z",
     "iopub.status.busy": "2023-06-25T16:10:07.402063Z",
     "iopub.status.idle": "2023-06-25T16:10:07.407936Z",
     "shell.execute_reply": "2023-06-25T16:10:07.407050Z"
    },
    "papermill": {
     "duration": 0.01908,
     "end_time": "2023-06-25T16:10:07.410183",
     "exception": false,
     "start_time": "2023-06-25T16:10:07.391103",
     "status": "completed"
    },
    "tags": []
   },
   "outputs": [
    {
     "data": {
      "text/plain": [
       "3"
      ]
     },
     "execution_count": 24,
     "metadata": {},
     "output_type": "execute_result"
    }
   ],
   "source": [
    "random_image_size_tensor.ndim"
   ]
  },
  {
   "cell_type": "code",
   "execution_count": 25,
   "id": "36733cf5",
   "metadata": {
    "execution": {
     "iopub.execute_input": "2023-06-25T16:10:07.434273Z",
     "iopub.status.busy": "2023-06-25T16:10:07.433766Z",
     "iopub.status.idle": "2023-06-25T16:10:07.440223Z",
     "shell.execute_reply": "2023-06-25T16:10:07.439279Z"
    },
    "papermill": {
     "duration": 0.021227,
     "end_time": "2023-06-25T16:10:07.442379",
     "exception": false,
     "start_time": "2023-06-25T16:10:07.421152",
     "status": "completed"
    },
    "tags": []
   },
   "outputs": [
    {
     "data": {
      "text/plain": [
       "torch.Size([224, 224, 3])"
      ]
     },
     "execution_count": 25,
     "metadata": {},
     "output_type": "execute_result"
    }
   ],
   "source": [
    "random_image_size_tensor.shape"
   ]
  },
  {
   "cell_type": "code",
   "execution_count": null,
   "id": "69efbfca",
   "metadata": {
    "papermill": {
     "duration": 0.011357,
     "end_time": "2023-06-25T16:10:07.465025",
     "exception": false,
     "start_time": "2023-06-25T16:10:07.453668",
     "status": "completed"
    },
    "tags": []
   },
   "outputs": [],
   "source": []
  }
 ],
 "metadata": {
  "kernelspec": {
   "display_name": "Python 3",
   "language": "python",
   "name": "python3"
  },
  "language_info": {
   "codemirror_mode": {
    "name": "ipython",
    "version": 3
   },
   "file_extension": ".py",
   "mimetype": "text/x-python",
   "name": "python",
   "nbconvert_exporter": "python",
   "pygments_lexer": "ipython3",
   "version": "3.10.10"
  },
  "papermill": {
   "default_parameters": {},
   "duration": 16.751227,
   "end_time": "2023-06-25T16:10:08.999464",
   "environment_variables": {},
   "exception": null,
   "input_path": "__notebook__.ipynb",
   "output_path": "__notebook__.ipynb",
   "parameters": {},
   "start_time": "2023-06-25T16:09:52.248237",
   "version": "2.4.0"
  }
 },
 "nbformat": 4,
 "nbformat_minor": 5
}
