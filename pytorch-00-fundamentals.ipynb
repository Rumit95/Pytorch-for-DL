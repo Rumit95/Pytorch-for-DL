{
 "cells": [
  {
   "cell_type": "code",
   "execution_count": 1,
   "id": "3d1e7436",
   "metadata": {
    "_cell_guid": "b1076dfc-b9ad-4769-8c92-a6c4dae69d19",
    "_uuid": "8f2839f25d086af736a60e9eeb907d3b93b6e0e5",
    "execution": {
     "iopub.execute_input": "2023-06-29T16:26:09.215144Z",
     "iopub.status.busy": "2023-06-29T16:26:09.214376Z",
     "iopub.status.idle": "2023-06-29T16:26:12.205309Z",
     "shell.execute_reply": "2023-06-29T16:26:12.204414Z"
    },
    "papermill": {
     "duration": 3.017102,
     "end_time": "2023-06-29T16:26:12.207454",
     "exception": false,
     "start_time": "2023-06-29T16:26:09.190352",
     "status": "completed"
    },
    "tags": []
   },
   "outputs": [
    {
     "data": {
      "text/plain": [
       "'2.0.0'"
      ]
     },
     "execution_count": 1,
     "metadata": {},
     "output_type": "execute_result"
    }
   ],
   "source": [
    "import torch\n",
    "import pandas as pd\n",
    "import numpy as np\n",
    "import matplotlib.pyplot as plt\n",
    "torch.__version__"
   ]
  },
  {
   "cell_type": "markdown",
   "id": "37e64a5c",
   "metadata": {
    "execution": {
     "iopub.execute_input": "2023-06-25T15:31:29.081596Z",
     "iopub.status.busy": "2023-06-25T15:31:29.081220Z",
     "iopub.status.idle": "2023-06-25T15:31:29.086052Z",
     "shell.execute_reply": "2023-06-25T15:31:29.085102Z",
     "shell.execute_reply.started": "2023-06-25T15:31:29.081561Z"
    },
    "papermill": {
     "duration": 0.021968,
     "end_time": "2023-06-29T16:26:12.251837",
     "exception": false,
     "start_time": "2023-06-29T16:26:12.229869",
     "status": "completed"
    },
    "tags": []
   },
   "source": [
    "## Introduction to Tensor\n",
    "\n",
    "### Creating Tensors\n",
    "\n",
    "PyTorch tensor are create using `torch.Tensor()`\n",
    "\n",
    "ref -\n",
    "* https://pytorch.org/docs/stable/tensors.html"
   ]
  },
  {
   "cell_type": "code",
   "execution_count": 2,
   "id": "1dcf3230",
   "metadata": {
    "execution": {
     "iopub.execute_input": "2023-06-29T16:26:12.299719Z",
     "iopub.status.busy": "2023-06-29T16:26:12.298459Z",
     "iopub.status.idle": "2023-06-29T16:26:12.338011Z",
     "shell.execute_reply": "2023-06-29T16:26:12.337103Z"
    },
    "papermill": {
     "duration": 0.06535,
     "end_time": "2023-06-29T16:26:12.340134",
     "exception": false,
     "start_time": "2023-06-29T16:26:12.274784",
     "status": "completed"
    },
    "tags": []
   },
   "outputs": [
    {
     "data": {
      "text/plain": [
       "tensor(7)"
      ]
     },
     "execution_count": 2,
     "metadata": {},
     "output_type": "execute_result"
    }
   ],
   "source": [
    "# Scaler\n",
    "scaler = torch.tensor(7)\n",
    "scaler"
   ]
  },
  {
   "cell_type": "code",
   "execution_count": 3,
   "id": "f08ac4c1",
   "metadata": {
    "execution": {
     "iopub.execute_input": "2023-06-29T16:26:12.386889Z",
     "iopub.status.busy": "2023-06-29T16:26:12.385997Z",
     "iopub.status.idle": "2023-06-29T16:26:12.392263Z",
     "shell.execute_reply": "2023-06-29T16:26:12.391352Z"
    },
    "papermill": {
     "duration": 0.031502,
     "end_time": "2023-06-29T16:26:12.394357",
     "exception": false,
     "start_time": "2023-06-29T16:26:12.362855",
     "status": "completed"
    },
    "tags": []
   },
   "outputs": [
    {
     "data": {
      "text/plain": [
       "0"
      ]
     },
     "execution_count": 3,
     "metadata": {},
     "output_type": "execute_result"
    }
   ],
   "source": [
    "scaler.ndim"
   ]
  },
  {
   "cell_type": "code",
   "execution_count": 4,
   "id": "2385a5fd",
   "metadata": {
    "execution": {
     "iopub.execute_input": "2023-06-29T16:26:12.440658Z",
     "iopub.status.busy": "2023-06-29T16:26:12.440363Z",
     "iopub.status.idle": "2023-06-29T16:26:12.445718Z",
     "shell.execute_reply": "2023-06-29T16:26:12.444914Z"
    },
    "papermill": {
     "duration": 0.030297,
     "end_time": "2023-06-29T16:26:12.447552",
     "exception": false,
     "start_time": "2023-06-29T16:26:12.417255",
     "status": "completed"
    },
    "tags": []
   },
   "outputs": [
    {
     "data": {
      "text/plain": [
       "7"
      ]
     },
     "execution_count": 4,
     "metadata": {},
     "output_type": "execute_result"
    }
   ],
   "source": [
    "# Get Tensor back ans int\n",
    "scaler.item()"
   ]
  },
  {
   "cell_type": "code",
   "execution_count": 5,
   "id": "067972f0",
   "metadata": {
    "execution": {
     "iopub.execute_input": "2023-06-29T16:26:12.492782Z",
     "iopub.status.busy": "2023-06-29T16:26:12.492506Z",
     "iopub.status.idle": "2023-06-29T16:26:12.500211Z",
     "shell.execute_reply": "2023-06-29T16:26:12.499304Z"
    },
    "papermill": {
     "duration": 0.032495,
     "end_time": "2023-06-29T16:26:12.502140",
     "exception": false,
     "start_time": "2023-06-29T16:26:12.469645",
     "status": "completed"
    },
    "tags": []
   },
   "outputs": [
    {
     "data": {
      "text/plain": [
       "tensor([7, 7])"
      ]
     },
     "execution_count": 5,
     "metadata": {},
     "output_type": "execute_result"
    }
   ],
   "source": [
    "# Vector\n",
    "vector = torch.tensor([7,7])\n",
    "vector"
   ]
  },
  {
   "cell_type": "code",
   "execution_count": 6,
   "id": "3bb3927d",
   "metadata": {
    "execution": {
     "iopub.execute_input": "2023-06-29T16:26:12.557886Z",
     "iopub.status.busy": "2023-06-29T16:26:12.557048Z",
     "iopub.status.idle": "2023-06-29T16:26:12.563151Z",
     "shell.execute_reply": "2023-06-29T16:26:12.562222Z"
    },
    "papermill": {
     "duration": 0.031348,
     "end_time": "2023-06-29T16:26:12.565079",
     "exception": false,
     "start_time": "2023-06-29T16:26:12.533731",
     "status": "completed"
    },
    "tags": []
   },
   "outputs": [
    {
     "data": {
      "text/plain": [
       "1"
      ]
     },
     "execution_count": 6,
     "metadata": {},
     "output_type": "execute_result"
    }
   ],
   "source": [
    "vector.ndim"
   ]
  },
  {
   "cell_type": "code",
   "execution_count": 7,
   "id": "d71ef64b",
   "metadata": {
    "execution": {
     "iopub.execute_input": "2023-06-29T16:26:12.611454Z",
     "iopub.status.busy": "2023-06-29T16:26:12.610633Z",
     "iopub.status.idle": "2023-06-29T16:26:12.616637Z",
     "shell.execute_reply": "2023-06-29T16:26:12.615712Z"
    },
    "papermill": {
     "duration": 0.031076,
     "end_time": "2023-06-29T16:26:12.618600",
     "exception": false,
     "start_time": "2023-06-29T16:26:12.587524",
     "status": "completed"
    },
    "tags": []
   },
   "outputs": [
    {
     "data": {
      "text/plain": [
       "torch.Size([2])"
      ]
     },
     "execution_count": 7,
     "metadata": {},
     "output_type": "execute_result"
    }
   ],
   "source": [
    "vector.shape"
   ]
  },
  {
   "cell_type": "code",
   "execution_count": 8,
   "id": "49938de9",
   "metadata": {
    "execution": {
     "iopub.execute_input": "2023-06-29T16:26:12.665572Z",
     "iopub.status.busy": "2023-06-29T16:26:12.664946Z",
     "iopub.status.idle": "2023-06-29T16:26:12.673736Z",
     "shell.execute_reply": "2023-06-29T16:26:12.672820Z"
    },
    "papermill": {
     "duration": 0.034591,
     "end_time": "2023-06-29T16:26:12.675720",
     "exception": false,
     "start_time": "2023-06-29T16:26:12.641129",
     "status": "completed"
    },
    "tags": []
   },
   "outputs": [
    {
     "data": {
      "text/plain": [
       "tensor([[7, 8],\n",
       "        [6, 5]])"
      ]
     },
     "execution_count": 8,
     "metadata": {},
     "output_type": "execute_result"
    }
   ],
   "source": [
    "# Matrix\n",
    "MATRIX = torch.tensor([[7,8],\n",
    "                      [6,5]])\n",
    "MATRIX"
   ]
  },
  {
   "cell_type": "code",
   "execution_count": 9,
   "id": "7d082d9c",
   "metadata": {
    "execution": {
     "iopub.execute_input": "2023-06-29T16:26:12.722731Z",
     "iopub.status.busy": "2023-06-29T16:26:12.721830Z",
     "iopub.status.idle": "2023-06-29T16:26:12.728026Z",
     "shell.execute_reply": "2023-06-29T16:26:12.727118Z"
    },
    "papermill": {
     "duration": 0.031706,
     "end_time": "2023-06-29T16:26:12.729969",
     "exception": false,
     "start_time": "2023-06-29T16:26:12.698263",
     "status": "completed"
    },
    "tags": []
   },
   "outputs": [
    {
     "data": {
      "text/plain": [
       "2"
      ]
     },
     "execution_count": 9,
     "metadata": {},
     "output_type": "execute_result"
    }
   ],
   "source": [
    "MATRIX.ndim"
   ]
  },
  {
   "cell_type": "code",
   "execution_count": 10,
   "id": "fcb1322a",
   "metadata": {
    "execution": {
     "iopub.execute_input": "2023-06-29T16:26:12.777115Z",
     "iopub.status.busy": "2023-06-29T16:26:12.776215Z",
     "iopub.status.idle": "2023-06-29T16:26:12.782786Z",
     "shell.execute_reply": "2023-06-29T16:26:12.781844Z"
    },
    "papermill": {
     "duration": 0.032116,
     "end_time": "2023-06-29T16:26:12.784714",
     "exception": false,
     "start_time": "2023-06-29T16:26:12.752598",
     "status": "completed"
    },
    "tags": []
   },
   "outputs": [
    {
     "data": {
      "text/plain": [
       "tensor([7, 8])"
      ]
     },
     "execution_count": 10,
     "metadata": {},
     "output_type": "execute_result"
    }
   ],
   "source": [
    "MATRIX[0]"
   ]
  },
  {
   "cell_type": "code",
   "execution_count": 11,
   "id": "3654cf2a",
   "metadata": {
    "execution": {
     "iopub.execute_input": "2023-06-29T16:26:12.831716Z",
     "iopub.status.busy": "2023-06-29T16:26:12.830941Z",
     "iopub.status.idle": "2023-06-29T16:26:12.837208Z",
     "shell.execute_reply": "2023-06-29T16:26:12.836297Z"
    },
    "papermill": {
     "duration": 0.031742,
     "end_time": "2023-06-29T16:26:12.839142",
     "exception": false,
     "start_time": "2023-06-29T16:26:12.807400",
     "status": "completed"
    },
    "tags": []
   },
   "outputs": [
    {
     "data": {
      "text/plain": [
       "tensor([6, 5])"
      ]
     },
     "execution_count": 11,
     "metadata": {},
     "output_type": "execute_result"
    }
   ],
   "source": [
    "MATRIX[1]"
   ]
  },
  {
   "cell_type": "code",
   "execution_count": 12,
   "id": "5389658a",
   "metadata": {
    "execution": {
     "iopub.execute_input": "2023-06-29T16:26:12.886106Z",
     "iopub.status.busy": "2023-06-29T16:26:12.885806Z",
     "iopub.status.idle": "2023-06-29T16:26:12.891224Z",
     "shell.execute_reply": "2023-06-29T16:26:12.890406Z"
    },
    "papermill": {
     "duration": 0.03104,
     "end_time": "2023-06-29T16:26:12.893113",
     "exception": false,
     "start_time": "2023-06-29T16:26:12.862073",
     "status": "completed"
    },
    "tags": []
   },
   "outputs": [
    {
     "data": {
      "text/plain": [
       "torch.Size([2, 2])"
      ]
     },
     "execution_count": 12,
     "metadata": {},
     "output_type": "execute_result"
    }
   ],
   "source": [
    "MATRIX.shape"
   ]
  },
  {
   "cell_type": "code",
   "execution_count": 13,
   "id": "a95eb910",
   "metadata": {
    "execution": {
     "iopub.execute_input": "2023-06-29T16:26:12.943642Z",
     "iopub.status.busy": "2023-06-29T16:26:12.943361Z",
     "iopub.status.idle": "2023-06-29T16:26:12.950842Z",
     "shell.execute_reply": "2023-06-29T16:26:12.949858Z"
    },
    "papermill": {
     "duration": 0.033564,
     "end_time": "2023-06-29T16:26:12.953002",
     "exception": false,
     "start_time": "2023-06-29T16:26:12.919438",
     "status": "completed"
    },
    "tags": []
   },
   "outputs": [
    {
     "data": {
      "text/plain": [
       "tensor([[[1, 2, 3],\n",
       "         [5, 6, 6],\n",
       "         [7, 8, 9]]])"
      ]
     },
     "execution_count": 13,
     "metadata": {},
     "output_type": "execute_result"
    }
   ],
   "source": [
    "# Tensor\n",
    "TENSOR = torch.tensor([[[1,2,3],\n",
    "                      [5,6,6],\n",
    "                      [7,8,9]]])\n",
    "TENSOR"
   ]
  },
  {
   "cell_type": "code",
   "execution_count": 14,
   "id": "f327eeb9",
   "metadata": {
    "execution": {
     "iopub.execute_input": "2023-06-29T16:26:13.000116Z",
     "iopub.status.busy": "2023-06-29T16:26:12.999819Z",
     "iopub.status.idle": "2023-06-29T16:26:13.005191Z",
     "shell.execute_reply": "2023-06-29T16:26:13.004364Z"
    },
    "papermill": {
     "duration": 0.031241,
     "end_time": "2023-06-29T16:26:13.007244",
     "exception": false,
     "start_time": "2023-06-29T16:26:12.976003",
     "status": "completed"
    },
    "tags": []
   },
   "outputs": [
    {
     "data": {
      "text/plain": [
       "3"
      ]
     },
     "execution_count": 14,
     "metadata": {},
     "output_type": "execute_result"
    }
   ],
   "source": [
    "TENSOR.ndim"
   ]
  },
  {
   "cell_type": "code",
   "execution_count": 15,
   "id": "c53954ac",
   "metadata": {
    "execution": {
     "iopub.execute_input": "2023-06-29T16:26:13.054875Z",
     "iopub.status.busy": "2023-06-29T16:26:13.054597Z",
     "iopub.status.idle": "2023-06-29T16:26:13.060028Z",
     "shell.execute_reply": "2023-06-29T16:26:13.059213Z"
    },
    "papermill": {
     "duration": 0.031376,
     "end_time": "2023-06-29T16:26:13.061948",
     "exception": false,
     "start_time": "2023-06-29T16:26:13.030572",
     "status": "completed"
    },
    "tags": []
   },
   "outputs": [
    {
     "data": {
      "text/plain": [
       "torch.Size([1, 3, 3])"
      ]
     },
     "execution_count": 15,
     "metadata": {},
     "output_type": "execute_result"
    }
   ],
   "source": [
    "TENSOR.shape"
   ]
  },
  {
   "cell_type": "code",
   "execution_count": 16,
   "id": "901fd697",
   "metadata": {
    "execution": {
     "iopub.execute_input": "2023-06-29T16:26:13.109509Z",
     "iopub.status.busy": "2023-06-29T16:26:13.109244Z",
     "iopub.status.idle": "2023-06-29T16:26:13.115331Z",
     "shell.execute_reply": "2023-06-29T16:26:13.114468Z"
    },
    "papermill": {
     "duration": 0.031926,
     "end_time": "2023-06-29T16:26:13.117233",
     "exception": false,
     "start_time": "2023-06-29T16:26:13.085307",
     "status": "completed"
    },
    "tags": []
   },
   "outputs": [
    {
     "data": {
      "text/plain": [
       "tensor([[1, 2, 3],\n",
       "        [5, 6, 6],\n",
       "        [7, 8, 9]])"
      ]
     },
     "execution_count": 16,
     "metadata": {},
     "output_type": "execute_result"
    }
   ],
   "source": [
    "TENSOR[0]"
   ]
  },
  {
   "cell_type": "code",
   "execution_count": 17,
   "id": "991b41fd",
   "metadata": {
    "execution": {
     "iopub.execute_input": "2023-06-29T16:26:13.166303Z",
     "iopub.status.busy": "2023-06-29T16:26:13.165715Z",
     "iopub.status.idle": "2023-06-29T16:26:13.173687Z",
     "shell.execute_reply": "2023-06-29T16:26:13.172712Z"
    },
    "papermill": {
     "duration": 0.034492,
     "end_time": "2023-06-29T16:26:13.175802",
     "exception": false,
     "start_time": "2023-06-29T16:26:13.141310",
     "status": "completed"
    },
    "tags": []
   },
   "outputs": [
    {
     "data": {
      "text/plain": [
       "tensor([[[1, 2, 3],\n",
       "         [4, 5, 6],\n",
       "         [7, 8, 9]],\n",
       "\n",
       "        [[1, 2, 3],\n",
       "         [4, 5, 6],\n",
       "         [7, 8, 9]]])"
      ]
     },
     "execution_count": 17,
     "metadata": {},
     "output_type": "execute_result"
    }
   ],
   "source": [
    "# Practice\n",
    "TENSOR1 = torch.tensor([[[1,2,3],\n",
    "                      [4,5,6],\n",
    "                      [7,8,9]],\n",
    "                     [[1,2,3],\n",
    "                      [4,5,6],\n",
    "                      [7,8,9]]])\n",
    "TENSOR1"
   ]
  },
  {
   "cell_type": "code",
   "execution_count": 18,
   "id": "757f5246",
   "metadata": {
    "execution": {
     "iopub.execute_input": "2023-06-29T16:26:13.224340Z",
     "iopub.status.busy": "2023-06-29T16:26:13.224062Z",
     "iopub.status.idle": "2023-06-29T16:26:13.229576Z",
     "shell.execute_reply": "2023-06-29T16:26:13.228757Z"
    },
    "papermill": {
     "duration": 0.032025,
     "end_time": "2023-06-29T16:26:13.231531",
     "exception": false,
     "start_time": "2023-06-29T16:26:13.199506",
     "status": "completed"
    },
    "tags": []
   },
   "outputs": [
    {
     "data": {
      "text/plain": [
       "3"
      ]
     },
     "execution_count": 18,
     "metadata": {},
     "output_type": "execute_result"
    }
   ],
   "source": [
    "TENSOR1.ndim"
   ]
  },
  {
   "cell_type": "code",
   "execution_count": 19,
   "id": "e66503db",
   "metadata": {
    "execution": {
     "iopub.execute_input": "2023-06-29T16:26:13.280936Z",
     "iopub.status.busy": "2023-06-29T16:26:13.280090Z",
     "iopub.status.idle": "2023-06-29T16:26:13.286001Z",
     "shell.execute_reply": "2023-06-29T16:26:13.285113Z"
    },
    "papermill": {
     "duration": 0.032746,
     "end_time": "2023-06-29T16:26:13.287966",
     "exception": false,
     "start_time": "2023-06-29T16:26:13.255220",
     "status": "completed"
    },
    "tags": []
   },
   "outputs": [
    {
     "data": {
      "text/plain": [
       "torch.Size([2, 3, 3])"
      ]
     },
     "execution_count": 19,
     "metadata": {},
     "output_type": "execute_result"
    }
   ],
   "source": [
    "TENSOR1.shape"
   ]
  },
  {
   "cell_type": "markdown",
   "id": "85d16340",
   "metadata": {
    "execution": {
     "iopub.execute_input": "2023-06-25T15:53:52.605155Z",
     "iopub.status.busy": "2023-06-25T15:53:52.604740Z",
     "iopub.status.idle": "2023-06-25T15:53:52.609815Z",
     "shell.execute_reply": "2023-06-25T15:53:52.608929Z",
     "shell.execute_reply.started": "2023-06-25T15:53:52.605124Z"
    },
    "papermill": {
     "duration": 0.023612,
     "end_time": "2023-06-29T16:26:13.335356",
     "exception": false,
     "start_time": "2023-06-29T16:26:13.311744",
     "status": "completed"
    },
    "tags": []
   },
   "source": [
    "### Random Tensor\n",
    "\n",
    "Why Random Nos. ?\n",
    "\n",
    "`Start with Random Numbers -> Look at Data -> Update Random Numbers -> Look at Data -> Update Random Numbers`\n",
    "\n",
    "ref -\n",
    "* https://pytorch.org/docs/stable/generated/torch.rand.html"
   ]
  },
  {
   "cell_type": "code",
   "execution_count": 20,
   "id": "314743dd",
   "metadata": {
    "execution": {
     "iopub.execute_input": "2023-06-29T16:26:13.385803Z",
     "iopub.status.busy": "2023-06-29T16:26:13.385030Z",
     "iopub.status.idle": "2023-06-29T16:26:13.431638Z",
     "shell.execute_reply": "2023-06-29T16:26:13.430678Z"
    },
    "papermill": {
     "duration": 0.073727,
     "end_time": "2023-06-29T16:26:13.433738",
     "exception": false,
     "start_time": "2023-06-29T16:26:13.360011",
     "status": "completed"
    },
    "tags": []
   },
   "outputs": [
    {
     "data": {
      "text/plain": [
       "tensor([[[9.2669e-01, 2.3535e-01, 5.8714e-01],\n",
       "         [1.2847e-01, 9.1145e-02, 3.4387e-01],\n",
       "         [7.8303e-01, 5.6355e-01, 5.8234e-01],\n",
       "         [3.3512e-01, 7.4332e-01, 9.0787e-01]],\n",
       "\n",
       "        [[4.1469e-01, 4.9203e-01, 4.8537e-01],\n",
       "         [6.1937e-01, 6.9204e-01, 8.6965e-01],\n",
       "         [5.6325e-01, 5.8852e-01, 8.5659e-01],\n",
       "         [5.6823e-01, 1.4864e-01, 3.6884e-01]],\n",
       "\n",
       "        [[2.2542e-02, 6.9843e-02, 2.4354e-01],\n",
       "         [1.7130e-01, 7.6095e-02, 5.6171e-01],\n",
       "         [3.7758e-01, 2.1994e-04, 9.7481e-01],\n",
       "         [8.0658e-01, 6.5217e-01, 1.9174e-01]]])"
      ]
     },
     "execution_count": 20,
     "metadata": {},
     "output_type": "execute_result"
    }
   ],
   "source": [
    "# Create a random tensor of size(3,4)\n",
    "random_tensor = torch.rand(3,4,3)\n",
    "random_tensor"
   ]
  },
  {
   "cell_type": "code",
   "execution_count": 21,
   "id": "ec16aead",
   "metadata": {
    "execution": {
     "iopub.execute_input": "2023-06-29T16:26:13.484160Z",
     "iopub.status.busy": "2023-06-29T16:26:13.483332Z",
     "iopub.status.idle": "2023-06-29T16:26:13.489294Z",
     "shell.execute_reply": "2023-06-29T16:26:13.488347Z"
    },
    "papermill": {
     "duration": 0.033291,
     "end_time": "2023-06-29T16:26:13.491277",
     "exception": false,
     "start_time": "2023-06-29T16:26:13.457986",
     "status": "completed"
    },
    "tags": []
   },
   "outputs": [
    {
     "data": {
      "text/plain": [
       "3"
      ]
     },
     "execution_count": 21,
     "metadata": {},
     "output_type": "execute_result"
    }
   ],
   "source": [
    "random_tensor.ndim"
   ]
  },
  {
   "cell_type": "code",
   "execution_count": 22,
   "id": "9bfb9370",
   "metadata": {
    "execution": {
     "iopub.execute_input": "2023-06-29T16:26:13.542087Z",
     "iopub.status.busy": "2023-06-29T16:26:13.541223Z",
     "iopub.status.idle": "2023-06-29T16:26:13.547297Z",
     "shell.execute_reply": "2023-06-29T16:26:13.546349Z"
    },
    "papermill": {
     "duration": 0.033401,
     "end_time": "2023-06-29T16:26:13.549219",
     "exception": false,
     "start_time": "2023-06-29T16:26:13.515818",
     "status": "completed"
    },
    "tags": []
   },
   "outputs": [
    {
     "data": {
      "text/plain": [
       "torch.Size([3, 4, 3])"
      ]
     },
     "execution_count": 22,
     "metadata": {},
     "output_type": "execute_result"
    }
   ],
   "source": [
    "random_tensor.shape"
   ]
  },
  {
   "cell_type": "code",
   "execution_count": 23,
   "id": "71b0ad61",
   "metadata": {
    "execution": {
     "iopub.execute_input": "2023-06-29T16:26:13.599247Z",
     "iopub.status.busy": "2023-06-29T16:26:13.598418Z",
     "iopub.status.idle": "2023-06-29T16:26:13.610750Z",
     "shell.execute_reply": "2023-06-29T16:26:13.609836Z"
    },
    "papermill": {
     "duration": 0.039299,
     "end_time": "2023-06-29T16:26:13.612678",
     "exception": false,
     "start_time": "2023-06-29T16:26:13.573379",
     "status": "completed"
    },
    "scrolled": true,
    "tags": []
   },
   "outputs": [
    {
     "data": {
      "text/plain": [
       "tensor([[[0.0912, 0.4835, 0.0052],\n",
       "         [0.5945, 0.5172, 0.3916],\n",
       "         [0.8388, 0.9985, 0.6242],\n",
       "         ...,\n",
       "         [0.4453, 0.2783, 0.5927],\n",
       "         [0.4777, 0.2968, 0.8463],\n",
       "         [0.3903, 0.0577, 0.6892]],\n",
       "\n",
       "        [[0.4409, 0.2173, 0.8746],\n",
       "         [0.5082, 0.5026, 0.5516],\n",
       "         [0.1070, 0.1062, 0.4967],\n",
       "         ...,\n",
       "         [0.4364, 0.5225, 0.6701],\n",
       "         [0.5719, 0.0605, 0.8415],\n",
       "         [0.9704, 0.9523, 0.2442]],\n",
       "\n",
       "        [[0.0361, 0.7030, 0.3554],\n",
       "         [0.0910, 0.2194, 0.7152],\n",
       "         [0.2148, 0.2964, 0.5931],\n",
       "         ...,\n",
       "         [0.8742, 0.0804, 0.1344],\n",
       "         [0.9043, 0.0622, 0.5468],\n",
       "         [0.2782, 0.9266, 0.9008]],\n",
       "\n",
       "        ...,\n",
       "\n",
       "        [[0.8275, 0.5730, 0.0909],\n",
       "         [0.7302, 0.5318, 0.2836],\n",
       "         [0.8819, 0.4190, 0.7505],\n",
       "         ...,\n",
       "         [0.9039, 0.1119, 0.9332],\n",
       "         [0.8834, 0.3188, 0.6764],\n",
       "         [0.7440, 0.3237, 0.4172]],\n",
       "\n",
       "        [[0.1337, 0.0610, 0.2539],\n",
       "         [0.0335, 0.1453, 0.9209],\n",
       "         [0.9969, 0.2326, 0.8607],\n",
       "         ...,\n",
       "         [0.2766, 0.0334, 0.0425],\n",
       "         [0.6345, 0.0627, 0.7384],\n",
       "         [0.3639, 0.9723, 0.9167]],\n",
       "\n",
       "        [[0.1804, 0.4246, 0.0024],\n",
       "         [0.3421, 0.7659, 0.6595],\n",
       "         [0.9541, 0.6937, 0.9170],\n",
       "         ...,\n",
       "         [0.8079, 0.6647, 0.9732],\n",
       "         [0.4859, 0.8573, 0.2979],\n",
       "         [0.2993, 0.0315, 0.4605]]])"
      ]
     },
     "execution_count": 23,
     "metadata": {},
     "output_type": "execute_result"
    }
   ],
   "source": [
    "# Creating Random tensor similar to Image Shape\n",
    "random_image_size_tensor = torch.rand(size=[224,224,3],) # height, width , color channels\n",
    "random_image_size_tensor"
   ]
  },
  {
   "cell_type": "code",
   "execution_count": 24,
   "id": "1d104217",
   "metadata": {
    "execution": {
     "iopub.execute_input": "2023-06-29T16:26:13.663312Z",
     "iopub.status.busy": "2023-06-29T16:26:13.662519Z",
     "iopub.status.idle": "2023-06-29T16:26:13.669076Z",
     "shell.execute_reply": "2023-06-29T16:26:13.668162Z"
    },
    "papermill": {
     "duration": 0.033829,
     "end_time": "2023-06-29T16:26:13.671036",
     "exception": false,
     "start_time": "2023-06-29T16:26:13.637207",
     "status": "completed"
    },
    "tags": []
   },
   "outputs": [
    {
     "data": {
      "text/plain": [
       "3"
      ]
     },
     "execution_count": 24,
     "metadata": {},
     "output_type": "execute_result"
    }
   ],
   "source": [
    "random_image_size_tensor.ndim"
   ]
  },
  {
   "cell_type": "code",
   "execution_count": 25,
   "id": "b495097c",
   "metadata": {
    "execution": {
     "iopub.execute_input": "2023-06-29T16:26:13.721491Z",
     "iopub.status.busy": "2023-06-29T16:26:13.721207Z",
     "iopub.status.idle": "2023-06-29T16:26:13.726566Z",
     "shell.execute_reply": "2023-06-29T16:26:13.725770Z"
    },
    "papermill": {
     "duration": 0.033063,
     "end_time": "2023-06-29T16:26:13.728490",
     "exception": false,
     "start_time": "2023-06-29T16:26:13.695427",
     "status": "completed"
    },
    "tags": []
   },
   "outputs": [
    {
     "data": {
      "text/plain": [
       "torch.Size([224, 224, 3])"
      ]
     },
     "execution_count": 25,
     "metadata": {},
     "output_type": "execute_result"
    }
   ],
   "source": [
    "random_image_size_tensor.shape"
   ]
  },
  {
   "cell_type": "markdown",
   "id": "d49a0f70",
   "metadata": {
    "papermill": {
     "duration": 0.024383,
     "end_time": "2023-06-29T16:26:13.777580",
     "exception": false,
     "start_time": "2023-06-29T16:26:13.753197",
     "status": "completed"
    },
    "tags": []
   },
   "source": [
    "### Zeroes and Ones"
   ]
  },
  {
   "cell_type": "code",
   "execution_count": 26,
   "id": "91519dee",
   "metadata": {
    "execution": {
     "iopub.execute_input": "2023-06-29T16:26:13.828358Z",
     "iopub.status.busy": "2023-06-29T16:26:13.827659Z",
     "iopub.status.idle": "2023-06-29T16:26:13.835830Z",
     "shell.execute_reply": "2023-06-29T16:26:13.834936Z"
    },
    "papermill": {
     "duration": 0.035637,
     "end_time": "2023-06-29T16:26:13.837768",
     "exception": false,
     "start_time": "2023-06-29T16:26:13.802131",
     "status": "completed"
    },
    "tags": []
   },
   "outputs": [
    {
     "data": {
      "text/plain": [
       "tensor([[0., 0., 0., 0.],\n",
       "        [0., 0., 0., 0.],\n",
       "        [0., 0., 0., 0.]])"
      ]
     },
     "execution_count": 26,
     "metadata": {},
     "output_type": "execute_result"
    }
   ],
   "source": [
    "# Create a tenor of all zeros\n",
    "zeros = torch.zeros(3,4)\n",
    "zeros"
   ]
  },
  {
   "cell_type": "code",
   "execution_count": 27,
   "id": "101295a1",
   "metadata": {
    "execution": {
     "iopub.execute_input": "2023-06-29T16:26:13.888969Z",
     "iopub.status.busy": "2023-06-29T16:26:13.888189Z",
     "iopub.status.idle": "2023-06-29T16:26:13.894807Z",
     "shell.execute_reply": "2023-06-29T16:26:13.893956Z"
    },
    "papermill": {
     "duration": 0.034057,
     "end_time": "2023-06-29T16:26:13.896725",
     "exception": false,
     "start_time": "2023-06-29T16:26:13.862668",
     "status": "completed"
    },
    "tags": []
   },
   "outputs": [
    {
     "data": {
      "text/plain": [
       "tensor([[0., 0., 0., 0.],\n",
       "        [0., 0., 0., 0.],\n",
       "        [0., 0., 0., 0.]])"
      ]
     },
     "execution_count": 27,
     "metadata": {},
     "output_type": "execute_result"
    }
   ],
   "source": [
    "zeros * torch.rand(3,4)"
   ]
  },
  {
   "cell_type": "code",
   "execution_count": 28,
   "id": "0f49ebe6",
   "metadata": {
    "execution": {
     "iopub.execute_input": "2023-06-29T16:26:13.951477Z",
     "iopub.status.busy": "2023-06-29T16:26:13.950644Z",
     "iopub.status.idle": "2023-06-29T16:26:13.958562Z",
     "shell.execute_reply": "2023-06-29T16:26:13.957607Z"
    },
    "papermill": {
     "duration": 0.036332,
     "end_time": "2023-06-29T16:26:13.960682",
     "exception": false,
     "start_time": "2023-06-29T16:26:13.924350",
     "status": "completed"
    },
    "tags": []
   },
   "outputs": [
    {
     "data": {
      "text/plain": [
       "tensor([[1, 1, 1, 1],\n",
       "        [1, 1, 1, 1],\n",
       "        [1, 1, 1, 1]])"
      ]
     },
     "execution_count": 28,
     "metadata": {},
     "output_type": "execute_result"
    }
   ],
   "source": [
    "# Create tensor of all ones\n",
    "ones = torch.ones(size=(3,4),dtype=int)\n",
    "ones"
   ]
  },
  {
   "cell_type": "code",
   "execution_count": 29,
   "id": "158f0509",
   "metadata": {
    "execution": {
     "iopub.execute_input": "2023-06-29T16:26:14.011831Z",
     "iopub.status.busy": "2023-06-29T16:26:14.011562Z",
     "iopub.status.idle": "2023-06-29T16:26:14.017286Z",
     "shell.execute_reply": "2023-06-29T16:26:14.016405Z"
    },
    "papermill": {
     "duration": 0.033453,
     "end_time": "2023-06-29T16:26:14.019165",
     "exception": false,
     "start_time": "2023-06-29T16:26:13.985712",
     "status": "completed"
    },
    "tags": []
   },
   "outputs": [
    {
     "data": {
      "text/plain": [
       "torch.int64"
      ]
     },
     "execution_count": 29,
     "metadata": {},
     "output_type": "execute_result"
    }
   ],
   "source": [
    "ones.dtype"
   ]
  },
  {
   "cell_type": "markdown",
   "id": "484f5296",
   "metadata": {
    "execution": {
     "iopub.execute_input": "2023-06-25T16:24:23.852212Z",
     "iopub.status.busy": "2023-06-25T16:24:23.851772Z",
     "iopub.status.idle": "2023-06-25T16:24:23.857025Z",
     "shell.execute_reply": "2023-06-25T16:24:23.856069Z",
     "shell.execute_reply.started": "2023-06-25T16:24:23.852179Z"
    },
    "papermill": {
     "duration": 0.024747,
     "end_time": "2023-06-29T16:26:14.068875",
     "exception": false,
     "start_time": "2023-06-29T16:26:14.044128",
     "status": "completed"
    },
    "tags": []
   },
   "source": [
    "### Create a range of tensors and tensors-like\n",
    "\n",
    "ref -\n",
    "* https://pytorch.org/docs/stable/generated/torch.arange.html"
   ]
  },
  {
   "cell_type": "code",
   "execution_count": 30,
   "id": "d9d88635",
   "metadata": {
    "execution": {
     "iopub.execute_input": "2023-06-29T16:26:14.120964Z",
     "iopub.status.busy": "2023-06-29T16:26:14.120157Z",
     "iopub.status.idle": "2023-06-29T16:26:14.129861Z",
     "shell.execute_reply": "2023-06-29T16:26:14.128939Z"
    },
    "papermill": {
     "duration": 0.038086,
     "end_time": "2023-06-29T16:26:14.131965",
     "exception": false,
     "start_time": "2023-06-29T16:26:14.093879",
     "status": "completed"
    },
    "tags": []
   },
   "outputs": [
    {
     "data": {
      "text/plain": [
       "tensor([ 1,  2,  3,  4,  5,  6,  7,  8,  9, 10])"
      ]
     },
     "execution_count": 30,
     "metadata": {},
     "output_type": "execute_result"
    }
   ],
   "source": [
    "# Use torch.arange()\n",
    "one_to_ten = torch.arange(start=1, end=11, step=1)\n",
    "one_to_ten"
   ]
  },
  {
   "cell_type": "code",
   "execution_count": 31,
   "id": "fe3af31b",
   "metadata": {
    "execution": {
     "iopub.execute_input": "2023-06-29T16:26:14.183307Z",
     "iopub.status.busy": "2023-06-29T16:26:14.183043Z",
     "iopub.status.idle": "2023-06-29T16:26:14.189250Z",
     "shell.execute_reply": "2023-06-29T16:26:14.188357Z"
    },
    "papermill": {
     "duration": 0.033947,
     "end_time": "2023-06-29T16:26:14.191138",
     "exception": false,
     "start_time": "2023-06-29T16:26:14.157191",
     "status": "completed"
    },
    "tags": []
   },
   "outputs": [
    {
     "data": {
      "text/plain": [
       "tensor([0, 0, 0, 0, 0, 0, 0, 0, 0, 0])"
      ]
     },
     "execution_count": 31,
     "metadata": {},
     "output_type": "execute_result"
    }
   ],
   "source": [
    "# Create tesnors like\n",
    "ten_zeros = torch.zeros_like(input=one_to_ten)\n",
    "ten_zeros"
   ]
  },
  {
   "cell_type": "markdown",
   "id": "3c82f658",
   "metadata": {
    "papermill": {
     "duration": 0.027309,
     "end_time": "2023-06-29T16:26:14.243739",
     "exception": false,
     "start_time": "2023-06-29T16:26:14.216430",
     "status": "completed"
    },
    "tags": []
   },
   "source": [
    "### Tensor datatypes\n",
    "\n",
    "Tensor datatypes is one of the 3 big errors arrive in Pytorch\n",
    "\n",
    "1. Tensors not right datatype\n",
    "2. Tensors not right shape\n",
    "3. Tensors not no right device\n",
    "\n",
    "ref -\n",
    "* https://pytorch.org/docs/stable/tensors.html"
   ]
  },
  {
   "cell_type": "code",
   "execution_count": 32,
   "id": "b151b308",
   "metadata": {
    "execution": {
     "iopub.execute_input": "2023-06-29T16:26:14.295198Z",
     "iopub.status.busy": "2023-06-29T16:26:14.294886Z",
     "iopub.status.idle": "2023-06-29T16:26:14.302031Z",
     "shell.execute_reply": "2023-06-29T16:26:14.301139Z"
    },
    "papermill": {
     "duration": 0.035063,
     "end_time": "2023-06-29T16:26:14.303945",
     "exception": false,
     "start_time": "2023-06-29T16:26:14.268882",
     "status": "completed"
    },
    "tags": []
   },
   "outputs": [
    {
     "data": {
      "text/plain": [
       "tensor([3., 6., 9.])"
      ]
     },
     "execution_count": 32,
     "metadata": {},
     "output_type": "execute_result"
    }
   ],
   "source": [
    "# Float 32 tensor\n",
    "float_32_tensor = torch.tensor([3.0,6.0,9.0],\n",
    "                             dtype=None, # what datatype of tensor (float32 etc)\n",
    "                             device=None, #'cpu or gpu -> cuda'\n",
    "                             requires_grad=False) # whether to track gradient\n",
    "float_32_tensor"
   ]
  },
  {
   "cell_type": "code",
   "execution_count": 33,
   "id": "e5d55da4",
   "metadata": {
    "execution": {
     "iopub.execute_input": "2023-06-29T16:26:14.356814Z",
     "iopub.status.busy": "2023-06-29T16:26:14.356095Z",
     "iopub.status.idle": "2023-06-29T16:26:14.361798Z",
     "shell.execute_reply": "2023-06-29T16:26:14.360921Z"
    },
    "papermill": {
     "duration": 0.034463,
     "end_time": "2023-06-29T16:26:14.363753",
     "exception": false,
     "start_time": "2023-06-29T16:26:14.329290",
     "status": "completed"
    },
    "tags": []
   },
   "outputs": [
    {
     "data": {
      "text/plain": [
       "torch.float32"
      ]
     },
     "execution_count": 33,
     "metadata": {},
     "output_type": "execute_result"
    }
   ],
   "source": [
    "float_32_tensor.dtype"
   ]
  },
  {
   "cell_type": "code",
   "execution_count": 34,
   "id": "92afb470",
   "metadata": {
    "execution": {
     "iopub.execute_input": "2023-06-29T16:26:14.416456Z",
     "iopub.status.busy": "2023-06-29T16:26:14.415695Z",
     "iopub.status.idle": "2023-06-29T16:26:14.423997Z",
     "shell.execute_reply": "2023-06-29T16:26:14.423143Z"
    },
    "papermill": {
     "duration": 0.036536,
     "end_time": "2023-06-29T16:26:14.425909",
     "exception": false,
     "start_time": "2023-06-29T16:26:14.389373",
     "status": "completed"
    },
    "tags": []
   },
   "outputs": [],
   "source": [
    "float_16_tensor = float_32_tensor.half()\n",
    "# or\n",
    "float_16_tensor = float_32_tensor.type(torch.float) # torch.half"
   ]
  },
  {
   "cell_type": "code",
   "execution_count": 35,
   "id": "3cbfb76a",
   "metadata": {
    "execution": {
     "iopub.execute_input": "2023-06-29T16:26:14.481531Z",
     "iopub.status.busy": "2023-06-29T16:26:14.480707Z",
     "iopub.status.idle": "2023-06-29T16:26:14.487479Z",
     "shell.execute_reply": "2023-06-29T16:26:14.486516Z"
    },
    "papermill": {
     "duration": 0.035579,
     "end_time": "2023-06-29T16:26:14.489428",
     "exception": false,
     "start_time": "2023-06-29T16:26:14.453849",
     "status": "completed"
    },
    "tags": []
   },
   "outputs": [
    {
     "data": {
      "text/plain": [
       "tensor([3., 6., 9.])"
      ]
     },
     "execution_count": 35,
     "metadata": {},
     "output_type": "execute_result"
    }
   ],
   "source": [
    "float_16_tensor"
   ]
  },
  {
   "cell_type": "code",
   "execution_count": 36,
   "id": "a63540ae",
   "metadata": {
    "execution": {
     "iopub.execute_input": "2023-06-29T16:26:14.542667Z",
     "iopub.status.busy": "2023-06-29T16:26:14.541758Z",
     "iopub.status.idle": "2023-06-29T16:26:14.548328Z",
     "shell.execute_reply": "2023-06-29T16:26:14.547366Z"
    },
    "papermill": {
     "duration": 0.035076,
     "end_time": "2023-06-29T16:26:14.550267",
     "exception": false,
     "start_time": "2023-06-29T16:26:14.515191",
     "status": "completed"
    },
    "tags": []
   },
   "outputs": [
    {
     "data": {
      "text/plain": [
       "torch.float32"
      ]
     },
     "execution_count": 36,
     "metadata": {},
     "output_type": "execute_result"
    }
   ],
   "source": [
    "(float_16_tensor * float_32_tensor).dtype"
   ]
  },
  {
   "cell_type": "code",
   "execution_count": 37,
   "id": "85c994e8",
   "metadata": {
    "execution": {
     "iopub.execute_input": "2023-06-29T16:26:14.603527Z",
     "iopub.status.busy": "2023-06-29T16:26:14.602744Z",
     "iopub.status.idle": "2023-06-29T16:26:14.607525Z",
     "shell.execute_reply": "2023-06-29T16:26:14.606667Z"
    },
    "papermill": {
     "duration": 0.033529,
     "end_time": "2023-06-29T16:26:14.609489",
     "exception": false,
     "start_time": "2023-06-29T16:26:14.575960",
     "status": "completed"
    },
    "tags": []
   },
   "outputs": [],
   "source": [
    "int_32_tensor = torch.tensor([3,4,5],\n",
    "                             dtype=torch.int32)"
   ]
  },
  {
   "cell_type": "code",
   "execution_count": 38,
   "id": "f4eced77",
   "metadata": {
    "execution": {
     "iopub.execute_input": "2023-06-29T16:26:14.662521Z",
     "iopub.status.busy": "2023-06-29T16:26:14.661767Z",
     "iopub.status.idle": "2023-06-29T16:26:14.669720Z",
     "shell.execute_reply": "2023-06-29T16:26:14.668777Z"
    },
    "papermill": {
     "duration": 0.036445,
     "end_time": "2023-06-29T16:26:14.671671",
     "exception": false,
     "start_time": "2023-06-29T16:26:14.635226",
     "status": "completed"
    },
    "tags": []
   },
   "outputs": [
    {
     "data": {
      "text/plain": [
       "tensor([ 9., 24., 45.])"
      ]
     },
     "execution_count": 38,
     "metadata": {},
     "output_type": "execute_result"
    }
   ],
   "source": [
    "float_16_tensor * int_32_tensor"
   ]
  },
  {
   "cell_type": "markdown",
   "id": "70c23885",
   "metadata": {
    "papermill": {
     "duration": 0.025991,
     "end_time": "2023-06-29T16:26:14.723586",
     "exception": false,
     "start_time": "2023-06-29T16:26:14.697595",
     "status": "completed"
    },
    "tags": []
   },
   "source": [
    "### Getting info from tensors (tensor attributes)\n",
    "1. tensor not datatype - to check use tensor.dtype\n",
    "2. tensor not right shape - to check use tensor.shape or tensor.size()\n",
    "3. tensor not on right device - to check use tensor.device"
   ]
  },
  {
   "cell_type": "code",
   "execution_count": 39,
   "id": "0df06cfc",
   "metadata": {
    "execution": {
     "iopub.execute_input": "2023-06-29T16:26:14.777230Z",
     "iopub.status.busy": "2023-06-29T16:26:14.776425Z",
     "iopub.status.idle": "2023-06-29T16:26:14.783495Z",
     "shell.execute_reply": "2023-06-29T16:26:14.782559Z"
    },
    "papermill": {
     "duration": 0.035644,
     "end_time": "2023-06-29T16:26:14.785397",
     "exception": false,
     "start_time": "2023-06-29T16:26:14.749753",
     "status": "completed"
    },
    "tags": []
   },
   "outputs": [
    {
     "data": {
      "text/plain": [
       "tensor([[0.6037, 0.1493, 0.7043, 0.0925],\n",
       "        [0.4899, 0.7498, 0.3921, 0.5665],\n",
       "        [0.6374, 0.6164, 0.2714, 0.9260]])"
      ]
     },
     "execution_count": 39,
     "metadata": {},
     "output_type": "execute_result"
    }
   ],
   "source": [
    "# Create a tensor\n",
    "some_tensor = torch.rand(3,4)\n",
    "some_tensor"
   ]
  },
  {
   "cell_type": "code",
   "execution_count": 40,
   "id": "2a47b071",
   "metadata": {
    "execution": {
     "iopub.execute_input": "2023-06-29T16:26:14.839024Z",
     "iopub.status.busy": "2023-06-29T16:26:14.838247Z",
     "iopub.status.idle": "2023-06-29T16:26:14.844332Z",
     "shell.execute_reply": "2023-06-29T16:26:14.842780Z"
    },
    "papermill": {
     "duration": 0.03585,
     "end_time": "2023-06-29T16:26:14.847177",
     "exception": false,
     "start_time": "2023-06-29T16:26:14.811327",
     "status": "completed"
    },
    "tags": []
   },
   "outputs": [
    {
     "name": "stdout",
     "output_type": "stream",
     "text": [
      "Tensor Datatype : torch.float32 Tensor Shape : torch.Size([3, 4]) Tensor Device : cpu\n"
     ]
    }
   ],
   "source": [
    "print(\"Tensor Datatype :\",some_tensor.dtype,\n",
    "\"Tensor Shape :\",some_tensor.shape,\n",
    "\"Tensor Device :\",some_tensor.device)"
   ]
  },
  {
   "cell_type": "markdown",
   "id": "ca5c49d8",
   "metadata": {
    "execution": {
     "iopub.execute_input": "2023-06-26T15:31:18.518353Z",
     "iopub.status.busy": "2023-06-26T15:31:18.517972Z",
     "iopub.status.idle": "2023-06-26T15:31:18.526666Z",
     "shell.execute_reply": "2023-06-26T15:31:18.525296Z",
     "shell.execute_reply.started": "2023-06-26T15:31:18.518326Z"
    },
    "papermill": {
     "duration": 0.025755,
     "end_time": "2023-06-29T16:26:14.898946",
     "exception": false,
     "start_time": "2023-06-29T16:26:14.873191",
     "status": "completed"
    },
    "tags": []
   },
   "source": [
    "### Manipulating Tensors (Tensor Operations)\n",
    "1. Addition\n",
    "2. Subtraction\n",
    "3. Multiplication (element-wise)\n",
    "4. Division\n",
    "5. Matrix Multiplication"
   ]
  },
  {
   "cell_type": "code",
   "execution_count": 41,
   "id": "aa738804",
   "metadata": {
    "execution": {
     "iopub.execute_input": "2023-06-29T16:26:14.957421Z",
     "iopub.status.busy": "2023-06-29T16:26:14.957118Z",
     "iopub.status.idle": "2023-06-29T16:26:14.965047Z",
     "shell.execute_reply": "2023-06-29T16:26:14.964056Z"
    },
    "papermill": {
     "duration": 0.03746,
     "end_time": "2023-06-29T16:26:14.967040",
     "exception": false,
     "start_time": "2023-06-29T16:26:14.929580",
     "status": "completed"
    },
    "tags": []
   },
   "outputs": [
    {
     "data": {
      "text/plain": [
       "tensor([11, 12, 13])"
      ]
     },
     "execution_count": 41,
     "metadata": {},
     "output_type": "execute_result"
    }
   ],
   "source": [
    "# Create a tensor and add 10\n",
    "tensor = torch.tensor([1,2,3])\n",
    "tensor + 10"
   ]
  },
  {
   "cell_type": "code",
   "execution_count": 42,
   "id": "8b28e563",
   "metadata": {
    "execution": {
     "iopub.execute_input": "2023-06-29T16:26:15.020428Z",
     "iopub.status.busy": "2023-06-29T16:26:15.020144Z",
     "iopub.status.idle": "2023-06-29T16:26:15.027414Z",
     "shell.execute_reply": "2023-06-29T16:26:15.026418Z"
    },
    "papermill": {
     "duration": 0.03632,
     "end_time": "2023-06-29T16:26:15.029450",
     "exception": false,
     "start_time": "2023-06-29T16:26:14.993130",
     "status": "completed"
    },
    "tags": []
   },
   "outputs": [
    {
     "data": {
      "text/plain": [
       "tensor([10, 20, 30])"
      ]
     },
     "execution_count": 42,
     "metadata": {},
     "output_type": "execute_result"
    }
   ],
   "source": [
    "# multiply\n",
    "tensor * 10"
   ]
  },
  {
   "cell_type": "code",
   "execution_count": 43,
   "id": "51a26bba",
   "metadata": {
    "execution": {
     "iopub.execute_input": "2023-06-29T16:26:15.084289Z",
     "iopub.status.busy": "2023-06-29T16:26:15.083732Z",
     "iopub.status.idle": "2023-06-29T16:26:15.091907Z",
     "shell.execute_reply": "2023-06-29T16:26:15.090874Z"
    },
    "papermill": {
     "duration": 0.037811,
     "end_time": "2023-06-29T16:26:15.093858",
     "exception": false,
     "start_time": "2023-06-29T16:26:15.056047",
     "status": "completed"
    },
    "tags": []
   },
   "outputs": [
    {
     "data": {
      "text/plain": [
       "tensor([-9, -8, -7])"
      ]
     },
     "execution_count": 43,
     "metadata": {},
     "output_type": "execute_result"
    }
   ],
   "source": [
    "# subtract 10\n",
    "tensor - 10"
   ]
  },
  {
   "cell_type": "code",
   "execution_count": 44,
   "id": "75c6f51d",
   "metadata": {
    "execution": {
     "iopub.execute_input": "2023-06-29T16:26:15.148690Z",
     "iopub.status.busy": "2023-06-29T16:26:15.148398Z",
     "iopub.status.idle": "2023-06-29T16:26:15.156753Z",
     "shell.execute_reply": "2023-06-29T16:26:15.155945Z"
    },
    "papermill": {
     "duration": 0.038317,
     "end_time": "2023-06-29T16:26:15.158727",
     "exception": false,
     "start_time": "2023-06-29T16:26:15.120410",
     "status": "completed"
    },
    "tags": []
   },
   "outputs": [
    {
     "data": {
      "text/plain": [
       "tensor([10, 20, 30])"
      ]
     },
     "execution_count": 44,
     "metadata": {},
     "output_type": "execute_result"
    }
   ],
   "source": [
    "# multiply using tensor function\n",
    "torch.mul(tensor,10)"
   ]
  },
  {
   "cell_type": "markdown",
   "id": "f5f4a92e",
   "metadata": {
    "papermill": {
     "duration": 0.026445,
     "end_time": "2023-06-29T16:26:15.211991",
     "exception": false,
     "start_time": "2023-06-29T16:26:15.185546",
     "status": "completed"
    },
    "tags": []
   },
   "source": [
    "### Matrix Multiplication\n",
    "\n",
    "Two Main ways to multiply in tensors\n",
    "\n",
    "1. Element-wise multipication or Cross Multiplication\n",
    "2. Matrix multiplication or Dot Product\n",
    "\n",
    "ref -\n",
    "* https://www.mathsisfun.com/algebra/matrix-multiplying.html\n",
    "\n",
    "Two Rules must Follow:\n",
    "1. The **Inner Dimension** must match:\n",
    "* '(3,2) @ (3,2)' wont work\n",
    "* '(3,2) @ (2,3)' will work\n",
    "* '(2,3) @ (3,2)' will work\n",
    "2. Resulting matrix has dimension of **Outer Dimension**\n",
    "* (2,3) @ (3,2) -> (2,2)\n",
    "* (3,2) @ (2,3) -> (3,3)"
   ]
  },
  {
   "cell_type": "code",
   "execution_count": 45,
   "id": "017c28bd",
   "metadata": {
    "execution": {
     "iopub.execute_input": "2023-06-29T16:26:15.266367Z",
     "iopub.status.busy": "2023-06-29T16:26:15.266064Z",
     "iopub.status.idle": "2023-06-29T16:26:15.309350Z",
     "shell.execute_reply": "2023-06-29T16:26:15.308440Z"
    },
    "papermill": {
     "duration": 0.072862,
     "end_time": "2023-06-29T16:26:15.311305",
     "exception": false,
     "start_time": "2023-06-29T16:26:15.238443",
     "status": "completed"
    },
    "tags": []
   },
   "outputs": [
    {
     "data": {
      "text/plain": [
       "tensor([[0.0622, 0.2756, 0.2100],\n",
       "        [0.0396, 0.1856, 0.1336],\n",
       "        [0.1650, 0.8859, 0.5580]])"
      ]
     },
     "execution_count": 45,
     "metadata": {},
     "output_type": "execute_result"
    }
   ],
   "source": [
    "torch.matmul(torch.rand(3,2) , torch.rand(2,3))"
   ]
  },
  {
   "cell_type": "code",
   "execution_count": 46,
   "id": "e3a9b9f6",
   "metadata": {
    "execution": {
     "iopub.execute_input": "2023-06-29T16:26:15.366562Z",
     "iopub.status.busy": "2023-06-29T16:26:15.365751Z",
     "iopub.status.idle": "2023-06-29T16:26:15.371862Z",
     "shell.execute_reply": "2023-06-29T16:26:15.370781Z"
    },
    "papermill": {
     "duration": 0.035489,
     "end_time": "2023-06-29T16:26:15.373787",
     "exception": false,
     "start_time": "2023-06-29T16:26:15.338298",
     "status": "completed"
    },
    "tags": []
   },
   "outputs": [
    {
     "name": "stdout",
     "output_type": "stream",
     "text": [
      "tensor([1, 2, 3]) * tensor([1, 2, 3])\n",
      "Equals : tensor([1, 4, 9])\n"
     ]
    }
   ],
   "source": [
    "# Element wise multiplication\n",
    "print(tensor, '*' , tensor)\n",
    "print('Equals :', tensor * tensor )"
   ]
  },
  {
   "cell_type": "code",
   "execution_count": 47,
   "id": "0927d7ec",
   "metadata": {
    "execution": {
     "iopub.execute_input": "2023-06-29T16:26:15.429036Z",
     "iopub.status.busy": "2023-06-29T16:26:15.428259Z",
     "iopub.status.idle": "2023-06-29T16:26:15.434780Z",
     "shell.execute_reply": "2023-06-29T16:26:15.433853Z"
    },
    "papermill": {
     "duration": 0.036367,
     "end_time": "2023-06-29T16:26:15.436698",
     "exception": false,
     "start_time": "2023-06-29T16:26:15.400331",
     "status": "completed"
    },
    "tags": []
   },
   "outputs": [
    {
     "data": {
      "text/plain": [
       "tensor(14)"
      ]
     },
     "execution_count": 47,
     "metadata": {},
     "output_type": "execute_result"
    }
   ],
   "source": [
    "# Matrix Multiplication\n",
    "torch.matmul(tensor,tensor)"
   ]
  },
  {
   "cell_type": "markdown",
   "id": "d56181b7",
   "metadata": {
    "papermill": {
     "duration": 0.026656,
     "end_time": "2023-06-29T16:26:15.490130",
     "exception": false,
     "start_time": "2023-06-29T16:26:15.463474",
     "status": "completed"
    },
    "tags": []
   },
   "source": [
    "### Shape Errors"
   ]
  },
  {
   "cell_type": "code",
   "execution_count": 48,
   "id": "5a6d96b7",
   "metadata": {
    "execution": {
     "iopub.execute_input": "2023-06-29T16:26:15.546066Z",
     "iopub.status.busy": "2023-06-29T16:26:15.545202Z",
     "iopub.status.idle": "2023-06-29T16:26:15.550761Z",
     "shell.execute_reply": "2023-06-29T16:26:15.549938Z"
    },
    "papermill": {
     "duration": 0.035851,
     "end_time": "2023-06-29T16:26:15.552714",
     "exception": false,
     "start_time": "2023-06-29T16:26:15.516863",
     "status": "completed"
    },
    "tags": []
   },
   "outputs": [],
   "source": [
    "tensor_A = torch.tensor([[1,2],\n",
    "                        [3,4],\n",
    "                        [5,6]])\n",
    "\n",
    "tensor_B =torch.tensor([[7,10],\n",
    "                       [8,11],\n",
    "                       [9,12]])\n",
    "\n",
    "#torch.mm(tensor_A,tensor_B) #(mm is alias for matmul)"
   ]
  },
  {
   "cell_type": "markdown",
   "id": "ed3a7175",
   "metadata": {
    "papermill": {
     "duration": 0.026811,
     "end_time": "2023-06-29T16:26:15.606491",
     "exception": false,
     "start_time": "2023-06-29T16:26:15.579680",
     "status": "completed"
    },
    "tags": []
   },
   "source": [
    "To Fix Shape Issues, We can use Transpose \n",
    "\n",
    "A **Transpose** swithches axes or dimensions of given matrix"
   ]
  },
  {
   "cell_type": "code",
   "execution_count": 49,
   "id": "cbc88392",
   "metadata": {
    "execution": {
     "iopub.execute_input": "2023-06-29T16:26:15.662122Z",
     "iopub.status.busy": "2023-06-29T16:26:15.661264Z",
     "iopub.status.idle": "2023-06-29T16:26:15.668695Z",
     "shell.execute_reply": "2023-06-29T16:26:15.667845Z"
    },
    "papermill": {
     "duration": 0.037195,
     "end_time": "2023-06-29T16:26:15.670684",
     "exception": false,
     "start_time": "2023-06-29T16:26:15.633489",
     "status": "completed"
    },
    "tags": []
   },
   "outputs": [
    {
     "data": {
      "text/plain": [
       "(tensor([[ 7, 10],\n",
       "         [ 8, 11],\n",
       "         [ 9, 12]]),\n",
       " torch.Size([3, 2]))"
      ]
     },
     "execution_count": 49,
     "metadata": {},
     "output_type": "execute_result"
    }
   ],
   "source": [
    "tensor_B, tensor_B.shape"
   ]
  },
  {
   "cell_type": "code",
   "execution_count": 50,
   "id": "c2597ad7",
   "metadata": {
    "execution": {
     "iopub.execute_input": "2023-06-29T16:26:15.730344Z",
     "iopub.status.busy": "2023-06-29T16:26:15.729703Z",
     "iopub.status.idle": "2023-06-29T16:26:15.737881Z",
     "shell.execute_reply": "2023-06-29T16:26:15.736940Z"
    },
    "papermill": {
     "duration": 0.040554,
     "end_time": "2023-06-29T16:26:15.739953",
     "exception": false,
     "start_time": "2023-06-29T16:26:15.699399",
     "status": "completed"
    },
    "tags": []
   },
   "outputs": [
    {
     "data": {
      "text/plain": [
       "(tensor([[ 7,  8,  9],\n",
       "         [10, 11, 12]]),\n",
       " torch.Size([2, 3]))"
      ]
     },
     "execution_count": 50,
     "metadata": {},
     "output_type": "execute_result"
    }
   ],
   "source": [
    "tensor_B.T, tensor_B.T.shape"
   ]
  },
  {
   "cell_type": "code",
   "execution_count": 51,
   "id": "5964042d",
   "metadata": {
    "execution": {
     "iopub.execute_input": "2023-06-29T16:26:15.799436Z",
     "iopub.status.busy": "2023-06-29T16:26:15.798630Z",
     "iopub.status.idle": "2023-06-29T16:26:15.807152Z",
     "shell.execute_reply": "2023-06-29T16:26:15.806198Z"
    },
    "papermill": {
     "duration": 0.041167,
     "end_time": "2023-06-29T16:26:15.809194",
     "exception": false,
     "start_time": "2023-06-29T16:26:15.768027",
     "status": "completed"
    },
    "tags": []
   },
   "outputs": [
    {
     "name": "stdout",
     "output_type": "stream",
     "text": [
      "Initial shape for tensor A torch.Size([3, 2]) and for tensor B torch.Size([3, 2])\n",
      "after transpose torch.Size([2, 3])\n",
      "output : tensor([[ 27,  30,  33],\n",
      "        [ 61,  68,  75],\n",
      "        [ 95, 106, 117]]) and its shape is torch.Size([3, 3])\n"
     ]
    }
   ],
   "source": [
    "print(f'Initial shape for tensor A {tensor_A.shape} and for tensor B {tensor_B.shape}')\n",
    "print(f'after transpose {tensor_B.T.shape}')\n",
    "print(f'output : {torch.matmul(tensor_A,tensor_B.T)} and its shape is {torch.matmul(tensor_A,tensor_B.T).shape}')"
   ]
  },
  {
   "cell_type": "markdown",
   "id": "f5ee1015",
   "metadata": {
    "papermill": {
     "duration": 0.029575,
     "end_time": "2023-06-29T16:26:15.867807",
     "exception": false,
     "start_time": "2023-06-29T16:26:15.838232",
     "status": "completed"
    },
    "tags": []
   },
   "source": [
    "## Finding Min. Max. Mean, Sum, etc (tensor aggregation)"
   ]
  },
  {
   "cell_type": "code",
   "execution_count": 52,
   "id": "fdddd0c0",
   "metadata": {
    "execution": {
     "iopub.execute_input": "2023-06-29T16:26:15.936155Z",
     "iopub.status.busy": "2023-06-29T16:26:15.935786Z",
     "iopub.status.idle": "2023-06-29T16:26:15.943289Z",
     "shell.execute_reply": "2023-06-29T16:26:15.942264Z"
    },
    "papermill": {
     "duration": 0.045629,
     "end_time": "2023-06-29T16:26:15.945489",
     "exception": false,
     "start_time": "2023-06-29T16:26:15.899860",
     "status": "completed"
    },
    "tags": []
   },
   "outputs": [
    {
     "data": {
      "text/plain": [
       "tensor([ 0, 10, 20, 30, 40, 50, 60, 70, 80, 90])"
      ]
     },
     "execution_count": 52,
     "metadata": {},
     "output_type": "execute_result"
    }
   ],
   "source": [
    "# Create a tensor\n",
    "x = torch.arange(0,100,10)\n",
    "x"
   ]
  },
  {
   "cell_type": "code",
   "execution_count": 53,
   "id": "4f992c6c",
   "metadata": {
    "execution": {
     "iopub.execute_input": "2023-06-29T16:26:16.010114Z",
     "iopub.status.busy": "2023-06-29T16:26:16.009288Z",
     "iopub.status.idle": "2023-06-29T16:26:16.018229Z",
     "shell.execute_reply": "2023-06-29T16:26:16.017143Z"
    },
    "papermill": {
     "duration": 0.04341,
     "end_time": "2023-06-29T16:26:16.020643",
     "exception": false,
     "start_time": "2023-06-29T16:26:15.977233",
     "status": "completed"
    },
    "tags": []
   },
   "outputs": [
    {
     "data": {
      "text/plain": [
       "(tensor(0), tensor(0))"
      ]
     },
     "execution_count": 53,
     "metadata": {},
     "output_type": "execute_result"
    }
   ],
   "source": [
    "# Min\n",
    "torch.min(x), x.min()"
   ]
  },
  {
   "cell_type": "code",
   "execution_count": 54,
   "id": "d2a77e35",
   "metadata": {
    "execution": {
     "iopub.execute_input": "2023-06-29T16:26:16.081583Z",
     "iopub.status.busy": "2023-06-29T16:26:16.081278Z",
     "iopub.status.idle": "2023-06-29T16:26:16.089214Z",
     "shell.execute_reply": "2023-06-29T16:26:16.088160Z"
    },
    "papermill": {
     "duration": 0.040691,
     "end_time": "2023-06-29T16:26:16.091353",
     "exception": false,
     "start_time": "2023-06-29T16:26:16.050662",
     "status": "completed"
    },
    "tags": []
   },
   "outputs": [
    {
     "data": {
      "text/plain": [
       "(tensor(90), tensor(90))"
      ]
     },
     "execution_count": 54,
     "metadata": {},
     "output_type": "execute_result"
    }
   ],
   "source": [
    "# Max\n",
    "torch.max(x), x.max()"
   ]
  },
  {
   "cell_type": "code",
   "execution_count": 55,
   "id": "f68de801",
   "metadata": {
    "execution": {
     "iopub.execute_input": "2023-06-29T16:26:16.152463Z",
     "iopub.status.busy": "2023-06-29T16:26:16.152172Z",
     "iopub.status.idle": "2023-06-29T16:26:16.164787Z",
     "shell.execute_reply": "2023-06-29T16:26:16.163884Z"
    },
    "papermill": {
     "duration": 0.045518,
     "end_time": "2023-06-29T16:26:16.167020",
     "exception": false,
     "start_time": "2023-06-29T16:26:16.121502",
     "status": "completed"
    },
    "tags": []
   },
   "outputs": [
    {
     "data": {
      "text/plain": [
       "(tensor(45., dtype=torch.float16),\n",
       " tensor(45., dtype=torch.float16),\n",
       " tensor(45.))"
      ]
     },
     "execution_count": 55,
     "metadata": {},
     "output_type": "execute_result"
    }
   ],
   "source": [
    "# Mean\n",
    "torch.mean(x.type(torch.float16)) , x.type(torch.float16).mean() , torch.mean(x,dtype=torch.float32)"
   ]
  },
  {
   "cell_type": "code",
   "execution_count": 56,
   "id": "81530448",
   "metadata": {
    "execution": {
     "iopub.execute_input": "2023-06-29T16:26:16.227587Z",
     "iopub.status.busy": "2023-06-29T16:26:16.227295Z",
     "iopub.status.idle": "2023-06-29T16:26:16.234305Z",
     "shell.execute_reply": "2023-06-29T16:26:16.233409Z"
    },
    "papermill": {
     "duration": 0.03904,
     "end_time": "2023-06-29T16:26:16.236341",
     "exception": false,
     "start_time": "2023-06-29T16:26:16.197301",
     "status": "completed"
    },
    "tags": []
   },
   "outputs": [
    {
     "data": {
      "text/plain": [
       "(tensor(450), tensor(450))"
      ]
     },
     "execution_count": 56,
     "metadata": {},
     "output_type": "execute_result"
    }
   ],
   "source": [
    "# Sum\n",
    "torch.sum(x) , x.sum()"
   ]
  },
  {
   "cell_type": "markdown",
   "id": "2ba51629",
   "metadata": {
    "papermill": {
     "duration": 0.02789,
     "end_time": "2023-06-29T16:26:16.292923",
     "exception": false,
     "start_time": "2023-06-29T16:26:16.265033",
     "status": "completed"
    },
    "tags": []
   },
   "source": [
    "## Finding Positinal min and max"
   ]
  },
  {
   "cell_type": "code",
   "execution_count": 57,
   "id": "8d96bddd",
   "metadata": {
    "execution": {
     "iopub.execute_input": "2023-06-29T16:26:16.350266Z",
     "iopub.status.busy": "2023-06-29T16:26:16.349939Z",
     "iopub.status.idle": "2023-06-29T16:26:16.356578Z",
     "shell.execute_reply": "2023-06-29T16:26:16.355467Z"
    },
    "papermill": {
     "duration": 0.037478,
     "end_time": "2023-06-29T16:26:16.358698",
     "exception": false,
     "start_time": "2023-06-29T16:26:16.321220",
     "status": "completed"
    },
    "tags": []
   },
   "outputs": [
    {
     "data": {
      "text/plain": [
       "tensor([ 1, 11, 21, 31, 41, 51, 61, 71, 81, 91])"
      ]
     },
     "execution_count": 57,
     "metadata": {},
     "output_type": "execute_result"
    }
   ],
   "source": [
    "x+1"
   ]
  },
  {
   "cell_type": "code",
   "execution_count": 58,
   "id": "ba80fbbb",
   "metadata": {
    "execution": {
     "iopub.execute_input": "2023-06-29T16:26:16.417119Z",
     "iopub.status.busy": "2023-06-29T16:26:16.416259Z",
     "iopub.status.idle": "2023-06-29T16:26:16.425943Z",
     "shell.execute_reply": "2023-06-29T16:26:16.424587Z"
    },
    "papermill": {
     "duration": 0.040944,
     "end_time": "2023-06-29T16:26:16.427926",
     "exception": false,
     "start_time": "2023-06-29T16:26:16.386982",
     "status": "completed"
    },
    "tags": []
   },
   "outputs": [
    {
     "name": "stdout",
     "output_type": "stream",
     "text": [
      "location :  tensor(0)\n",
      "element at location :  tensor(1)\n"
     ]
    }
   ],
   "source": [
    "# Position in tensor where minimum value exists\n",
    "print('location : ',(x+1).argmin())\n",
    "print('element at location : ',(x+1)[(x+1).argmin()])"
   ]
  },
  {
   "cell_type": "code",
   "execution_count": 59,
   "id": "b28a7857",
   "metadata": {
    "execution": {
     "iopub.execute_input": "2023-06-29T16:26:16.486177Z",
     "iopub.status.busy": "2023-06-29T16:26:16.485340Z",
     "iopub.status.idle": "2023-06-29T16:26:16.492398Z",
     "shell.execute_reply": "2023-06-29T16:26:16.491043Z"
    },
    "papermill": {
     "duration": 0.038086,
     "end_time": "2023-06-29T16:26:16.494382",
     "exception": false,
     "start_time": "2023-06-29T16:26:16.456296",
     "status": "completed"
    },
    "tags": []
   },
   "outputs": [
    {
     "name": "stdout",
     "output_type": "stream",
     "text": [
      "location :  tensor(9)\n",
      "element at location :  tensor(91)\n"
     ]
    }
   ],
   "source": [
    "# Position in tensor where maximum value exists\n",
    "print('location : ',(x+1).argmax())\n",
    "print('element at location : ',(x+1)[(x+1).argmax()])"
   ]
  },
  {
   "cell_type": "markdown",
   "id": "ec17cf61",
   "metadata": {
    "papermill": {
     "duration": 0.028356,
     "end_time": "2023-06-29T16:26:16.551309",
     "exception": false,
     "start_time": "2023-06-29T16:26:16.522953",
     "status": "completed"
    },
    "tags": []
   },
   "source": [
    "## Reshaping, Stacking, Squeezing and Unsqueezing tensor\n",
    "\n",
    "* Reshaping - reshapes input tensor to defined shape\n",
    "* View - Returns a view of input tensor of certain shape but keeps same memory as original\n",
    "* Stacking - Combine Multiple tensors on top of each other (vstack) or side by side (hstack)\n",
    "* Squeeze - **removes unit** dimension from tensor\n",
    "* Unsqueeze - **adds one** dimension to tensor\n",
    "* Permute - Reaturn a view of input with Dimension Permuted (swapped) in certain way "
   ]
  },
  {
   "cell_type": "code",
   "execution_count": 60,
   "id": "5582c120",
   "metadata": {
    "execution": {
     "iopub.execute_input": "2023-06-29T16:26:16.609516Z",
     "iopub.status.busy": "2023-06-29T16:26:16.608670Z",
     "iopub.status.idle": "2023-06-29T16:26:16.615881Z",
     "shell.execute_reply": "2023-06-29T16:26:16.614954Z"
    },
    "papermill": {
     "duration": 0.038221,
     "end_time": "2023-06-29T16:26:16.617840",
     "exception": false,
     "start_time": "2023-06-29T16:26:16.579619",
     "status": "completed"
    },
    "tags": []
   },
   "outputs": [
    {
     "data": {
      "text/plain": [
       "(tensor([1., 2., 3., 4., 5., 6., 7., 8., 9.]), torch.Size([9]))"
      ]
     },
     "execution_count": 60,
     "metadata": {},
     "output_type": "execute_result"
    }
   ],
   "source": [
    "# Create Tensor\n",
    "x = torch.arange(1.,10.)\n",
    "x , x.shape"
   ]
  },
  {
   "cell_type": "code",
   "execution_count": 61,
   "id": "4fff6765",
   "metadata": {
    "execution": {
     "iopub.execute_input": "2023-06-29T16:26:16.677284Z",
     "iopub.status.busy": "2023-06-29T16:26:16.675644Z",
     "iopub.status.idle": "2023-06-29T16:26:16.683217Z",
     "shell.execute_reply": "2023-06-29T16:26:16.681843Z"
    },
    "papermill": {
     "duration": 0.039063,
     "end_time": "2023-06-29T16:26:16.685169",
     "exception": false,
     "start_time": "2023-06-29T16:26:16.646106",
     "status": "completed"
    },
    "tags": []
   },
   "outputs": [
    {
     "name": "stdout",
     "output_type": "stream",
     "text": [
      "torch.Size([9])\n",
      "tensor([[1.],\n",
      "        [2.],\n",
      "        [3.],\n",
      "        [4.],\n",
      "        [5.],\n",
      "        [6.],\n",
      "        [7.],\n",
      "        [8.],\n",
      "        [9.]])\n",
      "torch.Size([9, 1])\n"
     ]
    }
   ],
   "source": [
    "# Add extra dimension\n",
    "x_reshaped = x.reshape(9,1)\n",
    "print(x.size())\n",
    "print(x_reshaped)\n",
    "print(x_reshaped.size())"
   ]
  },
  {
   "cell_type": "code",
   "execution_count": 62,
   "id": "d2ee14b2",
   "metadata": {
    "execution": {
     "iopub.execute_input": "2023-06-29T16:26:16.743419Z",
     "iopub.status.busy": "2023-06-29T16:26:16.742627Z",
     "iopub.status.idle": "2023-06-29T16:26:16.749909Z",
     "shell.execute_reply": "2023-06-29T16:26:16.748869Z"
    },
    "papermill": {
     "duration": 0.038327,
     "end_time": "2023-06-29T16:26:16.751848",
     "exception": false,
     "start_time": "2023-06-29T16:26:16.713521",
     "status": "completed"
    },
    "tags": []
   },
   "outputs": [
    {
     "data": {
      "text/plain": [
       "(tensor([[1., 2., 3.],\n",
       "         [4., 5., 6.],\n",
       "         [7., 8., 9.]]),\n",
       " torch.Size([3, 3]))"
      ]
     },
     "execution_count": 62,
     "metadata": {},
     "output_type": "execute_result"
    }
   ],
   "source": [
    "# Change View\n",
    "z = x.view(3,3)\n",
    "z, z.shape"
   ]
  },
  {
   "cell_type": "code",
   "execution_count": 63,
   "id": "539da1c6",
   "metadata": {
    "execution": {
     "iopub.execute_input": "2023-06-29T16:26:16.810569Z",
     "iopub.status.busy": "2023-06-29T16:26:16.810004Z",
     "iopub.status.idle": "2023-06-29T16:26:16.819214Z",
     "shell.execute_reply": "2023-06-29T16:26:16.818333Z"
    },
    "papermill": {
     "duration": 0.040395,
     "end_time": "2023-06-29T16:26:16.821138",
     "exception": false,
     "start_time": "2023-06-29T16:26:16.780743",
     "status": "completed"
    },
    "tags": []
   },
   "outputs": [
    {
     "data": {
      "text/plain": [
       "(tensor([[5., 2., 3.],\n",
       "         [5., 5., 6.],\n",
       "         [5., 8., 9.]]),\n",
       " tensor([5., 2., 3., 5., 5., 6., 5., 8., 9.]))"
      ]
     },
     "execution_count": 63,
     "metadata": {},
     "output_type": "execute_result"
    }
   ],
   "source": [
    "# Changing z changes x because it shares same memory as original but doesnt affect the shape\n",
    "z[:,0]=5\n",
    "z, x"
   ]
  },
  {
   "cell_type": "code",
   "execution_count": 64,
   "id": "f05c776e",
   "metadata": {
    "execution": {
     "iopub.execute_input": "2023-06-29T16:26:16.889513Z",
     "iopub.status.busy": "2023-06-29T16:26:16.889216Z",
     "iopub.status.idle": "2023-06-29T16:26:16.897038Z",
     "shell.execute_reply": "2023-06-29T16:26:16.896157Z"
    },
    "papermill": {
     "duration": 0.039452,
     "end_time": "2023-06-29T16:26:16.898938",
     "exception": false,
     "start_time": "2023-06-29T16:26:16.859486",
     "status": "completed"
    },
    "tags": []
   },
   "outputs": [
    {
     "data": {
      "text/plain": [
       "tensor([[5., 2., 3., 5., 5., 6., 5., 8., 9.],\n",
       "        [5., 2., 3., 5., 5., 6., 5., 8., 9.],\n",
       "        [5., 2., 3., 5., 5., 6., 5., 8., 9.],\n",
       "        [5., 2., 3., 5., 5., 6., 5., 8., 9.]])"
      ]
     },
     "execution_count": 64,
     "metadata": {},
     "output_type": "execute_result"
    }
   ],
   "source": [
    "# Stack tensors\n",
    "x_stacked = torch.stack([x, x, x, x], dim=0)\n",
    "x_stacked"
   ]
  },
  {
   "cell_type": "code",
   "execution_count": 65,
   "id": "4f871d23",
   "metadata": {
    "execution": {
     "iopub.execute_input": "2023-06-29T16:26:16.973619Z",
     "iopub.status.busy": "2023-06-29T16:26:16.973228Z",
     "iopub.status.idle": "2023-06-29T16:26:16.982102Z",
     "shell.execute_reply": "2023-06-29T16:26:16.981214Z"
    },
    "papermill": {
     "duration": 0.059674,
     "end_time": "2023-06-29T16:26:16.987307",
     "exception": false,
     "start_time": "2023-06-29T16:26:16.927633",
     "status": "completed"
    },
    "tags": []
   },
   "outputs": [
    {
     "name": "stdout",
     "output_type": "stream",
     "text": [
      "Previouse tensor : tensor([[5.],\n",
      "        [2.],\n",
      "        [3.],\n",
      "        [5.],\n",
      "        [5.],\n",
      "        [6.],\n",
      "        [5.],\n",
      "        [8.],\n",
      "        [9.]])\n",
      "Previoe shape : torch.Size([9, 1])\n",
      "\n",
      "New tensor : tensor([5., 2., 3., 5., 5., 6., 5., 8., 9.])\n",
      "New Shape : torch.Size([9])\n"
     ]
    }
   ],
   "source": [
    "# torch.squeeze() - removes all single dimensions from target tensor\n",
    "print(f\"Previouse tensor : {x_reshaped}\")\n",
    "print(f\"Previoe shape : {x_reshaped.shape}\")\n",
    "\n",
    "# Remove extra dimension from x_reshaped\n",
    "x_squeezed = x_reshaped.squeeze()\n",
    "print(f\"\\nNew tensor : {x_squeezed}\")\n",
    "print(f\"New Shape : {x_squeezed.shape}\")\n",
    "\n"
   ]
  },
  {
   "cell_type": "code",
   "execution_count": 66,
   "id": "7c8d58ed",
   "metadata": {
    "execution": {
     "iopub.execute_input": "2023-06-29T16:26:17.068186Z",
     "iopub.status.busy": "2023-06-29T16:26:17.067856Z",
     "iopub.status.idle": "2023-06-29T16:26:17.075709Z",
     "shell.execute_reply": "2023-06-29T16:26:17.074855Z"
    },
    "papermill": {
     "duration": 0.039669,
     "end_time": "2023-06-29T16:26:17.077582",
     "exception": false,
     "start_time": "2023-06-29T16:26:17.037913",
     "status": "completed"
    },
    "tags": []
   },
   "outputs": [
    {
     "data": {
      "text/plain": [
       "tensor([5., 2., 3., 5., 5., 6., 5., 8., 9.])"
      ]
     },
     "execution_count": 66,
     "metadata": {},
     "output_type": "execute_result"
    }
   ],
   "source": [
    "x_reshaped.squeeze()"
   ]
  },
  {
   "cell_type": "code",
   "execution_count": 67,
   "id": "599e9f83",
   "metadata": {
    "execution": {
     "iopub.execute_input": "2023-06-29T16:26:17.136751Z",
     "iopub.status.busy": "2023-06-29T16:26:17.136447Z",
     "iopub.status.idle": "2023-06-29T16:26:17.145298Z",
     "shell.execute_reply": "2023-06-29T16:26:17.144312Z"
    },
    "papermill": {
     "duration": 0.041185,
     "end_time": "2023-06-29T16:26:17.147623",
     "exception": false,
     "start_time": "2023-06-29T16:26:17.106438",
     "status": "completed"
    },
    "tags": []
   },
   "outputs": [
    {
     "name": "stdout",
     "output_type": "stream",
     "text": [
      "Previous target : tensor([5., 2., 3., 5., 5., 6., 5., 8., 9.])\n",
      "Previous Shape : torch.Size([9])\n",
      "\n",
      "New tensor : tensor([[5., 2., 3., 5., 5., 6., 5., 8., 9.]])\n",
      "New Shape : torch.Size([1, 9])\n"
     ]
    }
   ],
   "source": [
    "# torch.unsqueeze() - adds a single dimension to a target tensor at a specific dimension\n",
    "print(f\"Previous target : {x_squeezed}\")\n",
    "print(f\"Previous Shape : {x_squeezed.shape}\")\n",
    "\n",
    "# Adding dimension to x_reshaped\n",
    "x_unsqueezed = x_squeezed.unsqueeze(dim=-0)\n",
    "print(f\"\\nNew tensor : {x_unsqueezed}\")\n",
    "print(f\"New Shape : {x_unsqueezed.shape}\")"
   ]
  },
  {
   "cell_type": "code",
   "execution_count": 68,
   "id": "c6441510",
   "metadata": {
    "execution": {
     "iopub.execute_input": "2023-06-29T16:26:17.206919Z",
     "iopub.status.busy": "2023-06-29T16:26:17.206122Z",
     "iopub.status.idle": "2023-06-29T16:26:17.214066Z",
     "shell.execute_reply": "2023-06-29T16:26:17.212846Z"
    },
    "papermill": {
     "duration": 0.039663,
     "end_time": "2023-06-29T16:26:17.216021",
     "exception": false,
     "start_time": "2023-06-29T16:26:17.176358",
     "status": "completed"
    },
    "tags": []
   },
   "outputs": [
    {
     "name": "stdout",
     "output_type": "stream",
     "text": [
      "Shape before Permute : torch.Size([224, 224, 3])\n",
      "Shape after Permute : torch.Size([3, 224, 224])\n"
     ]
    }
   ],
   "source": [
    "# torch.permute - rearrages the dimension of a traget tensor in a specified order\n",
    "x_original = torch.rand(size=(224,224,3)) \n",
    "print(f\"Shape before Permute : {x_original.shape}\") #[height, width, color_channel]\n",
    "\n",
    "# Premute the original tensor to rearrage the axis\n",
    "x_permuted = x_original.permute(2,0,1) # shifts axis 0 -> 1, 1 -> 2, 2 -> 0\n",
    "print(f\"Shape after Permute : {x_permuted.shape}\") #[color_channel, height, width]"
   ]
  },
  {
   "cell_type": "markdown",
   "id": "6cd091cf",
   "metadata": {
    "papermill": {
     "duration": 0.028584,
     "end_time": "2023-06-29T16:26:17.273845",
     "exception": false,
     "start_time": "2023-06-29T16:26:17.245261",
     "status": "completed"
    },
    "tags": []
   },
   "source": [
    "## Indexing (selecting data from tensors)\n",
    "Indexing is same as numpy"
   ]
  },
  {
   "cell_type": "code",
   "execution_count": 69,
   "id": "dd6f9a60",
   "metadata": {
    "execution": {
     "iopub.execute_input": "2023-06-29T16:26:17.333432Z",
     "iopub.status.busy": "2023-06-29T16:26:17.332632Z",
     "iopub.status.idle": "2023-06-29T16:26:17.339762Z",
     "shell.execute_reply": "2023-06-29T16:26:17.338803Z"
    },
    "papermill": {
     "duration": 0.039272,
     "end_time": "2023-06-29T16:26:17.341956",
     "exception": false,
     "start_time": "2023-06-29T16:26:17.302684",
     "status": "completed"
    },
    "tags": []
   },
   "outputs": [
    {
     "data": {
      "text/plain": [
       "(tensor([[[1, 2, 3],\n",
       "          [4, 5, 6],\n",
       "          [7, 8, 9]]]),\n",
       " torch.Size([1, 3, 3]))"
      ]
     },
     "execution_count": 69,
     "metadata": {},
     "output_type": "execute_result"
    }
   ],
   "source": [
    "# Create a tensor\n",
    "x= torch.arange(1,10).reshape(1,3,3)\n",
    "x, x.shape"
   ]
  },
  {
   "cell_type": "code",
   "execution_count": 70,
   "id": "65980ca8",
   "metadata": {
    "execution": {
     "iopub.execute_input": "2023-06-29T16:26:17.401972Z",
     "iopub.status.busy": "2023-06-29T16:26:17.401175Z",
     "iopub.status.idle": "2023-06-29T16:26:17.407621Z",
     "shell.execute_reply": "2023-06-29T16:26:17.406591Z"
    },
    "papermill": {
     "duration": 0.038242,
     "end_time": "2023-06-29T16:26:17.409516",
     "exception": false,
     "start_time": "2023-06-29T16:26:17.371274",
     "status": "completed"
    },
    "tags": []
   },
   "outputs": [
    {
     "data": {
      "text/plain": [
       "tensor([[1, 2, 3],\n",
       "        [4, 5, 6],\n",
       "        [7, 8, 9]])"
      ]
     },
     "execution_count": 70,
     "metadata": {},
     "output_type": "execute_result"
    }
   ],
   "source": [
    "# Indexing new tensor\n",
    "x[0]"
   ]
  },
  {
   "cell_type": "code",
   "execution_count": 71,
   "id": "7055d8cc",
   "metadata": {
    "execution": {
     "iopub.execute_input": "2023-06-29T16:26:17.469969Z",
     "iopub.status.busy": "2023-06-29T16:26:17.469118Z",
     "iopub.status.idle": "2023-06-29T16:26:17.475426Z",
     "shell.execute_reply": "2023-06-29T16:26:17.474527Z"
    },
    "papermill": {
     "duration": 0.038562,
     "end_time": "2023-06-29T16:26:17.477378",
     "exception": false,
     "start_time": "2023-06-29T16:26:17.438816",
     "status": "completed"
    },
    "tags": []
   },
   "outputs": [
    {
     "data": {
      "text/plain": [
       "tensor(5)"
      ]
     },
     "execution_count": 71,
     "metadata": {},
     "output_type": "execute_result"
    }
   ],
   "source": [
    "# Index on middle bracket (dim=1)\n",
    "x[0,1,1]"
   ]
  },
  {
   "cell_type": "code",
   "execution_count": 72,
   "id": "f0a115df",
   "metadata": {
    "execution": {
     "iopub.execute_input": "2023-06-29T16:26:17.537812Z",
     "iopub.status.busy": "2023-06-29T16:26:17.537032Z",
     "iopub.status.idle": "2023-06-29T16:26:17.543546Z",
     "shell.execute_reply": "2023-06-29T16:26:17.542611Z"
    },
    "papermill": {
     "duration": 0.038882,
     "end_time": "2023-06-29T16:26:17.545485",
     "exception": false,
     "start_time": "2023-06-29T16:26:17.506603",
     "status": "completed"
    },
    "tags": []
   },
   "outputs": [
    {
     "data": {
      "text/plain": [
       "tensor([[1, 2, 3]])"
      ]
     },
     "execution_count": 72,
     "metadata": {},
     "output_type": "execute_result"
    }
   ],
   "source": [
    "# \":\" to select all target dimension\n",
    "x[:,0]"
   ]
  },
  {
   "cell_type": "code",
   "execution_count": 73,
   "id": "d29ea902",
   "metadata": {
    "execution": {
     "iopub.execute_input": "2023-06-29T16:26:17.606422Z",
     "iopub.status.busy": "2023-06-29T16:26:17.605660Z",
     "iopub.status.idle": "2023-06-29T16:26:17.612150Z",
     "shell.execute_reply": "2023-06-29T16:26:17.610945Z"
    },
    "papermill": {
     "duration": 0.03902,
     "end_time": "2023-06-29T16:26:17.614074",
     "exception": false,
     "start_time": "2023-06-29T16:26:17.575054",
     "status": "completed"
    },
    "tags": []
   },
   "outputs": [
    {
     "name": "stdout",
     "output_type": "stream",
     "text": [
      "tensor([[2, 5, 8]])\n",
      "tensor([1, 2, 3])\n",
      "tensor([4, 5, 6])\n"
     ]
    }
   ],
   "source": [
    "# Practice\n",
    "print(x[:,:,1])\n",
    "print(x[0,0,:])\n",
    "print(x[0,1,:])"
   ]
  },
  {
   "cell_type": "markdown",
   "id": "6f373975",
   "metadata": {
    "papermill": {
     "duration": 0.029191,
     "end_time": "2023-06-29T16:26:17.672669",
     "exception": false,
     "start_time": "2023-06-29T16:26:17.643478",
     "status": "completed"
    },
    "tags": []
   },
   "source": [
    "## Pytorch tensors & Numpy\n",
    "\n",
    "Pytorch interacting with Numpy\n",
    "\n",
    "* Convert data from Numpy to Tensor -> `torch.from_numpy(ndarray)`\n",
    "* Convert data from Tensor to Numpy -> `torch.Tensor.numpy()`"
   ]
  },
  {
   "cell_type": "code",
   "execution_count": 74,
   "id": "8647b3b4",
   "metadata": {
    "execution": {
     "iopub.execute_input": "2023-06-29T16:26:17.734012Z",
     "iopub.status.busy": "2023-06-29T16:26:17.733678Z",
     "iopub.status.idle": "2023-06-29T16:26:17.742079Z",
     "shell.execute_reply": "2023-06-29T16:26:17.741175Z"
    },
    "papermill": {
     "duration": 0.040945,
     "end_time": "2023-06-29T16:26:17.744027",
     "exception": false,
     "start_time": "2023-06-29T16:26:17.703082",
     "status": "completed"
    },
    "tags": []
   },
   "outputs": [
    {
     "data": {
      "text/plain": [
       "(array([1., 2., 3., 4., 5., 6., 7.]), tensor([1., 2., 3., 4., 5., 6., 7.]))"
      ]
     },
     "execution_count": 74,
     "metadata": {},
     "output_type": "execute_result"
    }
   ],
   "source": [
    "# Numpy Array -> Tensor\n",
    "import numpy as np\n",
    "import torch\n",
    "\n",
    "array = np.arange(1.0,8.0)\n",
    "tensor = torch.from_numpy(array).type(torch.float32) # warning: when converting from numpy -> tensor, pytorch copies same datatype from numpy viz. float64 unless changed (default dtype of tensor is float32) \n",
    "array, tensor"
   ]
  },
  {
   "cell_type": "code",
   "execution_count": 75,
   "id": "c47530e9",
   "metadata": {
    "execution": {
     "iopub.execute_input": "2023-06-29T16:26:17.805180Z",
     "iopub.status.busy": "2023-06-29T16:26:17.804333Z",
     "iopub.status.idle": "2023-06-29T16:26:17.810027Z",
     "shell.execute_reply": "2023-06-29T16:26:17.808782Z"
    },
    "papermill": {
     "duration": 0.03796,
     "end_time": "2023-06-29T16:26:17.811950",
     "exception": false,
     "start_time": "2023-06-29T16:26:17.773990",
     "status": "completed"
    },
    "tags": []
   },
   "outputs": [
    {
     "name": "stdout",
     "output_type": "stream",
     "text": [
      "float64\n",
      "torch.float32\n"
     ]
    }
   ],
   "source": [
    "print(array.dtype)\n",
    "print(tensor.dtype)"
   ]
  },
  {
   "cell_type": "code",
   "execution_count": 76,
   "id": "8c05f416",
   "metadata": {
    "execution": {
     "iopub.execute_input": "2023-06-29T16:26:17.873278Z",
     "iopub.status.busy": "2023-06-29T16:26:17.872513Z",
     "iopub.status.idle": "2023-06-29T16:26:17.879693Z",
     "shell.execute_reply": "2023-06-29T16:26:17.878751Z"
    },
    "papermill": {
     "duration": 0.039931,
     "end_time": "2023-06-29T16:26:17.881639",
     "exception": false,
     "start_time": "2023-06-29T16:26:17.841708",
     "status": "completed"
    },
    "tags": []
   },
   "outputs": [
    {
     "data": {
      "text/plain": [
       "(array([2., 3., 4., 5., 6., 7., 8.]), tensor([1., 2., 3., 4., 5., 6., 7.]))"
      ]
     },
     "execution_count": 76,
     "metadata": {},
     "output_type": "execute_result"
    }
   ],
   "source": [
    "# Changing the value of array, does this affect tensor ?\n",
    "array = array + 1\n",
    "array,tensor\n",
    "# NO"
   ]
  },
  {
   "cell_type": "code",
   "execution_count": 77,
   "id": "56f85a53",
   "metadata": {
    "execution": {
     "iopub.execute_input": "2023-06-29T16:26:17.945537Z",
     "iopub.status.busy": "2023-06-29T16:26:17.944764Z",
     "iopub.status.idle": "2023-06-29T16:26:17.953031Z",
     "shell.execute_reply": "2023-06-29T16:26:17.952107Z"
    },
    "papermill": {
     "duration": 0.043574,
     "end_time": "2023-06-29T16:26:17.954940",
     "exception": false,
     "start_time": "2023-06-29T16:26:17.911366",
     "status": "completed"
    },
    "tags": []
   },
   "outputs": [
    {
     "data": {
      "text/plain": [
       "(tensor([1., 1., 1., 1., 1., 1., 1.]),\n",
       " array([1., 1., 1., 1., 1., 1., 1.], dtype=float32))"
      ]
     },
     "execution_count": 77,
     "metadata": {},
     "output_type": "execute_result"
    }
   ],
   "source": [
    "# Tensor -> Numpy array\n",
    "tensor = torch.ones(7)\n",
    "array = tensor.numpy() # datatype remains same as tensor's\n",
    "tensor, array"
   ]
  },
  {
   "cell_type": "code",
   "execution_count": 78,
   "id": "cef69ca6",
   "metadata": {
    "execution": {
     "iopub.execute_input": "2023-06-29T16:26:18.017313Z",
     "iopub.status.busy": "2023-06-29T16:26:18.016650Z",
     "iopub.status.idle": "2023-06-29T16:26:18.023839Z",
     "shell.execute_reply": "2023-06-29T16:26:18.022954Z"
    },
    "papermill": {
     "duration": 0.040073,
     "end_time": "2023-06-29T16:26:18.025782",
     "exception": false,
     "start_time": "2023-06-29T16:26:17.985709",
     "status": "completed"
    },
    "tags": []
   },
   "outputs": [
    {
     "data": {
      "text/plain": [
       "(tensor([2., 2., 2., 2., 2., 2., 2.]),\n",
       " array([1., 1., 1., 1., 1., 1., 1.], dtype=float32))"
      ]
     },
     "execution_count": 78,
     "metadata": {},
     "output_type": "execute_result"
    }
   ],
   "source": [
    " # Changing the value of tensor, does this affect array ?\n",
    "tensor = tensor + 1\n",
    "tensor,array\n",
    "# NO"
   ]
  },
  {
   "cell_type": "markdown",
   "id": "5351805d",
   "metadata": {
    "papermill": {
     "duration": 0.030009,
     "end_time": "2023-06-29T16:26:18.086083",
     "exception": false,
     "start_time": "2023-06-29T16:26:18.056074",
     "status": "completed"
    },
    "tags": []
   },
   "source": [
    "## Reproducbility (trying to take random out of random)\n",
    "How Neural Network Work ?\n",
    "\n",
    "` Start with random nos. -> tensor operation -> update random nos. to try and malke them better represntation of data -> repeat -> repeat -> repeat ...`\n",
    "\n",
    "To reduce the randomness in Neural Network we use **Random Seed**.\n",
    "\n",
    "Essentially whta random seed does is **flavour** the randomness.\n",
    "\n",
    "ref - \n",
    "* https://pytorch.org/docs/stable/notes/randomness.html\n",
    "* https://en.wikipedia.org/wiki/Random_seed"
   ]
  },
  {
   "cell_type": "code",
   "execution_count": 79,
   "id": "f2a81e65",
   "metadata": {
    "execution": {
     "iopub.execute_input": "2023-06-29T16:26:18.148505Z",
     "iopub.status.busy": "2023-06-29T16:26:18.147657Z",
     "iopub.status.idle": "2023-06-29T16:26:18.156052Z",
     "shell.execute_reply": "2023-06-29T16:26:18.154560Z"
    },
    "papermill": {
     "duration": 0.041436,
     "end_time": "2023-06-29T16:26:18.157958",
     "exception": false,
     "start_time": "2023-06-29T16:26:18.116522",
     "status": "completed"
    },
    "tags": []
   },
   "outputs": [
    {
     "name": "stdout",
     "output_type": "stream",
     "text": [
      "tensor([[0.7114, 0.1516, 0.1177],\n",
      "        [0.4243, 0.4787, 0.3525],\n",
      "        [0.8328, 0.2173, 0.6686],\n",
      "        [0.2586, 0.4477, 0.0946]])\n",
      "tensor([[0.2058, 0.2662, 0.0812],\n",
      "        [0.7906, 0.8920, 0.5035],\n",
      "        [0.5287, 0.1603, 0.6459],\n",
      "        [0.5047, 0.8734, 0.0594]])\n",
      "tensor([[False, False, False],\n",
      "        [False, False, False],\n",
      "        [False, False, False],\n",
      "        [False, False, False]])\n"
     ]
    }
   ],
   "source": [
    "#  Create 2 tensors\n",
    "\n",
    "random_tensor_A = torch.rand(4,3)\n",
    "random_tensor_B = torch.rand(4,3)\n",
    "\n",
    "print(random_tensor_A)\n",
    "print(random_tensor_B)\n",
    "print(random_tensor_A==random_tensor_B)"
   ]
  },
  {
   "cell_type": "code",
   "execution_count": 80,
   "id": "3914fa79",
   "metadata": {
    "execution": {
     "iopub.execute_input": "2023-06-29T16:26:18.220054Z",
     "iopub.status.busy": "2023-06-29T16:26:18.219239Z",
     "iopub.status.idle": "2023-06-29T16:26:18.230732Z",
     "shell.execute_reply": "2023-06-29T16:26:18.229431Z"
    },
    "papermill": {
     "duration": 0.044454,
     "end_time": "2023-06-29T16:26:18.232605",
     "exception": false,
     "start_time": "2023-06-29T16:26:18.188151",
     "status": "completed"
    },
    "tags": []
   },
   "outputs": [
    {
     "name": "stdout",
     "output_type": "stream",
     "text": [
      "tensor([[0.8823, 0.9150, 0.3829],\n",
      "        [0.9593, 0.3904, 0.6009],\n",
      "        [0.2566, 0.7936, 0.9408],\n",
      "        [0.1332, 0.9346, 0.5936]])\n",
      "tensor([[0.8823, 0.9150, 0.3829],\n",
      "        [0.9593, 0.3904, 0.6009],\n",
      "        [0.2566, 0.7936, 0.9408],\n",
      "        [0.1332, 0.9346, 0.5936]])\n",
      "tensor([[True, True, True],\n",
      "        [True, True, True],\n",
      "        [True, True, True],\n",
      "        [True, True, True]])\n"
     ]
    }
   ],
   "source": [
    "# Random but reproducable tensors\n",
    "import torch\n",
    "\n",
    "# Set random seed\n",
    "RANDOM_SEED = 42\n",
    "torch.manual_seed(RANDOM_SEED) # Set the random seed every time we call rand function\n",
    "random_tensor_C = torch.rand(4,3)\n",
    "\n",
    "torch.manual_seed(RANDOM_SEED)\n",
    "random_tensor_D = torch.rand(4,3)\n",
    "\n",
    "print(random_tensor_C)\n",
    "print(random_tensor_D)\n",
    "print(random_tensor_C==random_tensor_D)"
   ]
  },
  {
   "cell_type": "code",
   "execution_count": null,
   "id": "bbbd5278",
   "metadata": {
    "papermill": {
     "duration": 0.029958,
     "end_time": "2023-06-29T16:26:18.292699",
     "exception": false,
     "start_time": "2023-06-29T16:26:18.262741",
     "status": "completed"
    },
    "tags": []
   },
   "outputs": [],
   "source": []
  }
 ],
 "metadata": {
  "kernelspec": {
   "display_name": "Python 3",
   "language": "python",
   "name": "python3"
  },
  "language_info": {
   "codemirror_mode": {
    "name": "ipython",
    "version": 3
   },
   "file_extension": ".py",
   "mimetype": "text/x-python",
   "name": "python",
   "nbconvert_exporter": "python",
   "pygments_lexer": "ipython3",
   "version": "3.10.10"
  },
  "papermill": {
   "default_parameters": {},
   "duration": 22.089393,
   "end_time": "2023-06-29T16:26:20.691442",
   "environment_variables": {},
   "exception": null,
   "input_path": "__notebook__.ipynb",
   "output_path": "__notebook__.ipynb",
   "parameters": {},
   "start_time": "2023-06-29T16:25:58.602049",
   "version": "2.4.0"
  }
 },
 "nbformat": 4,
 "nbformat_minor": 5
}
