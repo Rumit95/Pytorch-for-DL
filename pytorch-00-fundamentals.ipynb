{
 "cells": [
  {
   "cell_type": "code",
   "execution_count": 1,
   "id": "96dca98d",
   "metadata": {
    "_cell_guid": "b1076dfc-b9ad-4769-8c92-a6c4dae69d19",
    "_uuid": "8f2839f25d086af736a60e9eeb907d3b93b6e0e5",
    "execution": {
     "iopub.execute_input": "2023-06-29T07:22:09.016629Z",
     "iopub.status.busy": "2023-06-29T07:22:09.015880Z",
     "iopub.status.idle": "2023-06-29T07:22:12.450895Z",
     "shell.execute_reply": "2023-06-29T07:22:12.449917Z"
    },
    "papermill": {
     "duration": 3.458544,
     "end_time": "2023-06-29T07:22:12.453192",
     "exception": false,
     "start_time": "2023-06-29T07:22:08.994648",
     "status": "completed"
    },
    "tags": []
   },
   "outputs": [
    {
     "data": {
      "text/plain": [
       "'2.0.0'"
      ]
     },
     "execution_count": 1,
     "metadata": {},
     "output_type": "execute_result"
    }
   ],
   "source": [
    "import torch\n",
    "import pandas as pd\n",
    "import numpy as np\n",
    "import matplotlib.pyplot as plt\n",
    "torch.__version__"
   ]
  },
  {
   "cell_type": "markdown",
   "id": "b5992f0f",
   "metadata": {
    "execution": {
     "iopub.execute_input": "2023-06-25T15:31:29.081596Z",
     "iopub.status.busy": "2023-06-25T15:31:29.081220Z",
     "iopub.status.idle": "2023-06-25T15:31:29.086052Z",
     "shell.execute_reply": "2023-06-25T15:31:29.085102Z",
     "shell.execute_reply.started": "2023-06-25T15:31:29.081561Z"
    },
    "papermill": {
     "duration": 0.018356,
     "end_time": "2023-06-29T07:22:12.490755",
     "exception": false,
     "start_time": "2023-06-29T07:22:12.472399",
     "status": "completed"
    },
    "tags": []
   },
   "source": [
    "## Introduction to Tensor\n",
    "\n",
    "### Creating Tensors\n",
    "\n",
    "PyTorch tensor are create using torch.Tensor()\n",
    "\n",
    "ref - https://pytorch.org/docs/stable/tensors.html"
   ]
  },
  {
   "cell_type": "code",
   "execution_count": 2,
   "id": "b47cf2cd",
   "metadata": {
    "execution": {
     "iopub.execute_input": "2023-06-29T07:22:12.531199Z",
     "iopub.status.busy": "2023-06-29T07:22:12.530080Z",
     "iopub.status.idle": "2023-06-29T07:22:12.566030Z",
     "shell.execute_reply": "2023-06-29T07:22:12.565088Z"
    },
    "papermill": {
     "duration": 0.058203,
     "end_time": "2023-06-29T07:22:12.567957",
     "exception": false,
     "start_time": "2023-06-29T07:22:12.509754",
     "status": "completed"
    },
    "tags": []
   },
   "outputs": [
    {
     "data": {
      "text/plain": [
       "tensor(7)"
      ]
     },
     "execution_count": 2,
     "metadata": {},
     "output_type": "execute_result"
    }
   ],
   "source": [
    "# Scaler\n",
    "scaler = torch.tensor(7)\n",
    "scaler"
   ]
  },
  {
   "cell_type": "code",
   "execution_count": 3,
   "id": "fe4e2025",
   "metadata": {
    "execution": {
     "iopub.execute_input": "2023-06-29T07:22:12.630484Z",
     "iopub.status.busy": "2023-06-29T07:22:12.629349Z",
     "iopub.status.idle": "2023-06-29T07:22:12.644391Z",
     "shell.execute_reply": "2023-06-29T07:22:12.643347Z"
    },
    "papermill": {
     "duration": 0.057265,
     "end_time": "2023-06-29T07:22:12.649332",
     "exception": false,
     "start_time": "2023-06-29T07:22:12.592067",
     "status": "completed"
    },
    "tags": []
   },
   "outputs": [
    {
     "data": {
      "text/plain": [
       "0"
      ]
     },
     "execution_count": 3,
     "metadata": {},
     "output_type": "execute_result"
    }
   ],
   "source": [
    "scaler.ndim"
   ]
  },
  {
   "cell_type": "code",
   "execution_count": 4,
   "id": "05c9d653",
   "metadata": {
    "execution": {
     "iopub.execute_input": "2023-06-29T07:22:12.713362Z",
     "iopub.status.busy": "2023-06-29T07:22:12.712511Z",
     "iopub.status.idle": "2023-06-29T07:22:12.725644Z",
     "shell.execute_reply": "2023-06-29T07:22:12.724883Z"
    },
    "papermill": {
     "duration": 0.047308,
     "end_time": "2023-06-29T07:22:12.731746",
     "exception": false,
     "start_time": "2023-06-29T07:22:12.684438",
     "status": "completed"
    },
    "tags": []
   },
   "outputs": [
    {
     "data": {
      "text/plain": [
       "7"
      ]
     },
     "execution_count": 4,
     "metadata": {},
     "output_type": "execute_result"
    }
   ],
   "source": [
    "# Get Tensor back ans int\n",
    "scaler.item()"
   ]
  },
  {
   "cell_type": "code",
   "execution_count": 5,
   "id": "875e6809",
   "metadata": {
    "execution": {
     "iopub.execute_input": "2023-06-29T07:22:12.811890Z",
     "iopub.status.busy": "2023-06-29T07:22:12.811129Z",
     "iopub.status.idle": "2023-06-29T07:22:12.819756Z",
     "shell.execute_reply": "2023-06-29T07:22:12.818909Z"
    },
    "papermill": {
     "duration": 0.048829,
     "end_time": "2023-06-29T07:22:12.822942",
     "exception": false,
     "start_time": "2023-06-29T07:22:12.774113",
     "status": "completed"
    },
    "tags": []
   },
   "outputs": [
    {
     "data": {
      "text/plain": [
       "tensor([7, 7])"
      ]
     },
     "execution_count": 5,
     "metadata": {},
     "output_type": "execute_result"
    }
   ],
   "source": [
    "# Vector\n",
    "vector = torch.tensor([7,7])\n",
    "vector"
   ]
  },
  {
   "cell_type": "code",
   "execution_count": 6,
   "id": "c9a20f75",
   "metadata": {
    "execution": {
     "iopub.execute_input": "2023-06-29T07:22:12.878323Z",
     "iopub.status.busy": "2023-06-29T07:22:12.876666Z",
     "iopub.status.idle": "2023-06-29T07:22:12.883683Z",
     "shell.execute_reply": "2023-06-29T07:22:12.882835Z"
    },
    "papermill": {
     "duration": 0.038151,
     "end_time": "2023-06-29T07:22:12.887179",
     "exception": false,
     "start_time": "2023-06-29T07:22:12.849028",
     "status": "completed"
    },
    "tags": []
   },
   "outputs": [
    {
     "data": {
      "text/plain": [
       "1"
      ]
     },
     "execution_count": 6,
     "metadata": {},
     "output_type": "execute_result"
    }
   ],
   "source": [
    "vector.ndim"
   ]
  },
  {
   "cell_type": "code",
   "execution_count": 7,
   "id": "0fa44f63",
   "metadata": {
    "execution": {
     "iopub.execute_input": "2023-06-29T07:22:12.955812Z",
     "iopub.status.busy": "2023-06-29T07:22:12.955486Z",
     "iopub.status.idle": "2023-06-29T07:22:12.961222Z",
     "shell.execute_reply": "2023-06-29T07:22:12.960410Z"
    },
    "papermill": {
     "duration": 0.041009,
     "end_time": "2023-06-29T07:22:12.967159",
     "exception": false,
     "start_time": "2023-06-29T07:22:12.926150",
     "status": "completed"
    },
    "tags": []
   },
   "outputs": [
    {
     "data": {
      "text/plain": [
       "torch.Size([2])"
      ]
     },
     "execution_count": 7,
     "metadata": {},
     "output_type": "execute_result"
    }
   ],
   "source": [
    "vector.shape"
   ]
  },
  {
   "cell_type": "code",
   "execution_count": 8,
   "id": "4344872d",
   "metadata": {
    "execution": {
     "iopub.execute_input": "2023-06-29T07:22:13.021797Z",
     "iopub.status.busy": "2023-06-29T07:22:13.021410Z",
     "iopub.status.idle": "2023-06-29T07:22:13.030794Z",
     "shell.execute_reply": "2023-06-29T07:22:13.029969Z"
    },
    "papermill": {
     "duration": 0.041124,
     "end_time": "2023-06-29T07:22:13.035005",
     "exception": false,
     "start_time": "2023-06-29T07:22:12.993881",
     "status": "completed"
    },
    "tags": []
   },
   "outputs": [
    {
     "data": {
      "text/plain": [
       "tensor([[7, 8],\n",
       "        [6, 5]])"
      ]
     },
     "execution_count": 8,
     "metadata": {},
     "output_type": "execute_result"
    }
   ],
   "source": [
    "# Matrix\n",
    "MATRIX = torch.tensor([[7,8],\n",
    "                      [6,5]])\n",
    "MATRIX"
   ]
  },
  {
   "cell_type": "code",
   "execution_count": 9,
   "id": "cd144e8f",
   "metadata": {
    "execution": {
     "iopub.execute_input": "2023-06-29T07:22:13.096484Z",
     "iopub.status.busy": "2023-06-29T07:22:13.096078Z",
     "iopub.status.idle": "2023-06-29T07:22:13.102644Z",
     "shell.execute_reply": "2023-06-29T07:22:13.101714Z"
    },
    "papermill": {
     "duration": 0.044738,
     "end_time": "2023-06-29T07:22:13.108459",
     "exception": false,
     "start_time": "2023-06-29T07:22:13.063721",
     "status": "completed"
    },
    "tags": []
   },
   "outputs": [
    {
     "data": {
      "text/plain": [
       "2"
      ]
     },
     "execution_count": 9,
     "metadata": {},
     "output_type": "execute_result"
    }
   ],
   "source": [
    "MATRIX.ndim"
   ]
  },
  {
   "cell_type": "code",
   "execution_count": 10,
   "id": "dada144d",
   "metadata": {
    "execution": {
     "iopub.execute_input": "2023-06-29T07:22:13.168044Z",
     "iopub.status.busy": "2023-06-29T07:22:13.167561Z",
     "iopub.status.idle": "2023-06-29T07:22:13.174323Z",
     "shell.execute_reply": "2023-06-29T07:22:13.173564Z"
    },
    "papermill": {
     "duration": 0.041844,
     "end_time": "2023-06-29T07:22:13.179379",
     "exception": false,
     "start_time": "2023-06-29T07:22:13.137535",
     "status": "completed"
    },
    "tags": []
   },
   "outputs": [
    {
     "data": {
      "text/plain": [
       "tensor([7, 8])"
      ]
     },
     "execution_count": 10,
     "metadata": {},
     "output_type": "execute_result"
    }
   ],
   "source": [
    "MATRIX[0]"
   ]
  },
  {
   "cell_type": "code",
   "execution_count": 11,
   "id": "221a4370",
   "metadata": {
    "execution": {
     "iopub.execute_input": "2023-06-29T07:22:13.234626Z",
     "iopub.status.busy": "2023-06-29T07:22:13.234353Z",
     "iopub.status.idle": "2023-06-29T07:22:13.240668Z",
     "shell.execute_reply": "2023-06-29T07:22:13.239700Z"
    },
    "papermill": {
     "duration": 0.03651,
     "end_time": "2023-06-29T07:22:13.242833",
     "exception": false,
     "start_time": "2023-06-29T07:22:13.206323",
     "status": "completed"
    },
    "tags": []
   },
   "outputs": [
    {
     "data": {
      "text/plain": [
       "tensor([6, 5])"
      ]
     },
     "execution_count": 11,
     "metadata": {},
     "output_type": "execute_result"
    }
   ],
   "source": [
    "MATRIX[1]"
   ]
  },
  {
   "cell_type": "code",
   "execution_count": 12,
   "id": "8755c439",
   "metadata": {
    "execution": {
     "iopub.execute_input": "2023-06-29T07:22:13.307277Z",
     "iopub.status.busy": "2023-06-29T07:22:13.306745Z",
     "iopub.status.idle": "2023-06-29T07:22:13.312042Z",
     "shell.execute_reply": "2023-06-29T07:22:13.311180Z"
    },
    "papermill": {
     "duration": 0.042693,
     "end_time": "2023-06-29T07:22:13.319358",
     "exception": false,
     "start_time": "2023-06-29T07:22:13.276665",
     "status": "completed"
    },
    "tags": []
   },
   "outputs": [
    {
     "data": {
      "text/plain": [
       "torch.Size([2, 2])"
      ]
     },
     "execution_count": 12,
     "metadata": {},
     "output_type": "execute_result"
    }
   ],
   "source": [
    "MATRIX.shape"
   ]
  },
  {
   "cell_type": "code",
   "execution_count": 13,
   "id": "2d454195",
   "metadata": {
    "execution": {
     "iopub.execute_input": "2023-06-29T07:22:13.376298Z",
     "iopub.status.busy": "2023-06-29T07:22:13.375593Z",
     "iopub.status.idle": "2023-06-29T07:22:13.386549Z",
     "shell.execute_reply": "2023-06-29T07:22:13.385797Z"
    },
    "papermill": {
     "duration": 0.041856,
     "end_time": "2023-06-29T07:22:13.388900",
     "exception": false,
     "start_time": "2023-06-29T07:22:13.347044",
     "status": "completed"
    },
    "tags": []
   },
   "outputs": [
    {
     "data": {
      "text/plain": [
       "tensor([[[1, 2, 3],\n",
       "         [5, 6, 6],\n",
       "         [7, 8, 9]]])"
      ]
     },
     "execution_count": 13,
     "metadata": {},
     "output_type": "execute_result"
    }
   ],
   "source": [
    "# Tensor\n",
    "TENSOR = torch.tensor([[[1,2,3],\n",
    "                      [5,6,6],\n",
    "                      [7,8,9]]])\n",
    "TENSOR"
   ]
  },
  {
   "cell_type": "code",
   "execution_count": 14,
   "id": "22c9994b",
   "metadata": {
    "execution": {
     "iopub.execute_input": "2023-06-29T07:22:13.445711Z",
     "iopub.status.busy": "2023-06-29T07:22:13.445401Z",
     "iopub.status.idle": "2023-06-29T07:22:13.450744Z",
     "shell.execute_reply": "2023-06-29T07:22:13.449998Z"
    },
    "papermill": {
     "duration": 0.039171,
     "end_time": "2023-06-29T07:22:13.455841",
     "exception": false,
     "start_time": "2023-06-29T07:22:13.416670",
     "status": "completed"
    },
    "tags": []
   },
   "outputs": [
    {
     "data": {
      "text/plain": [
       "3"
      ]
     },
     "execution_count": 14,
     "metadata": {},
     "output_type": "execute_result"
    }
   ],
   "source": [
    "TENSOR.ndim"
   ]
  },
  {
   "cell_type": "code",
   "execution_count": 15,
   "id": "b139b4f9",
   "metadata": {
    "execution": {
     "iopub.execute_input": "2023-06-29T07:22:13.515546Z",
     "iopub.status.busy": "2023-06-29T07:22:13.515156Z",
     "iopub.status.idle": "2023-06-29T07:22:13.521151Z",
     "shell.execute_reply": "2023-06-29T07:22:13.520345Z"
    },
    "papermill": {
     "duration": 0.042005,
     "end_time": "2023-06-29T07:22:13.526828",
     "exception": false,
     "start_time": "2023-06-29T07:22:13.484823",
     "status": "completed"
    },
    "tags": []
   },
   "outputs": [
    {
     "data": {
      "text/plain": [
       "torch.Size([1, 3, 3])"
      ]
     },
     "execution_count": 15,
     "metadata": {},
     "output_type": "execute_result"
    }
   ],
   "source": [
    "TENSOR.shape"
   ]
  },
  {
   "cell_type": "code",
   "execution_count": 16,
   "id": "59d64d53",
   "metadata": {
    "execution": {
     "iopub.execute_input": "2023-06-29T07:22:13.585454Z",
     "iopub.status.busy": "2023-06-29T07:22:13.585069Z",
     "iopub.status.idle": "2023-06-29T07:22:13.591403Z",
     "shell.execute_reply": "2023-06-29T07:22:13.590571Z"
    },
    "papermill": {
     "duration": 0.040991,
     "end_time": "2023-06-29T07:22:13.596637",
     "exception": false,
     "start_time": "2023-06-29T07:22:13.555646",
     "status": "completed"
    },
    "tags": []
   },
   "outputs": [
    {
     "data": {
      "text/plain": [
       "tensor([[1, 2, 3],\n",
       "        [5, 6, 6],\n",
       "        [7, 8, 9]])"
      ]
     },
     "execution_count": 16,
     "metadata": {},
     "output_type": "execute_result"
    }
   ],
   "source": [
    "TENSOR[0]"
   ]
  },
  {
   "cell_type": "code",
   "execution_count": 17,
   "id": "4dedfb62",
   "metadata": {
    "execution": {
     "iopub.execute_input": "2023-06-29T07:22:13.654839Z",
     "iopub.status.busy": "2023-06-29T07:22:13.654513Z",
     "iopub.status.idle": "2023-06-29T07:22:13.665476Z",
     "shell.execute_reply": "2023-06-29T07:22:13.664704Z"
    },
    "papermill": {
     "duration": 0.042815,
     "end_time": "2023-06-29T07:22:13.667941",
     "exception": false,
     "start_time": "2023-06-29T07:22:13.625126",
     "status": "completed"
    },
    "tags": []
   },
   "outputs": [
    {
     "data": {
      "text/plain": [
       "tensor([[[1, 2, 3],\n",
       "         [4, 5, 6],\n",
       "         [7, 8, 9]],\n",
       "\n",
       "        [[1, 2, 3],\n",
       "         [4, 5, 6],\n",
       "         [7, 8, 9]]])"
      ]
     },
     "execution_count": 17,
     "metadata": {},
     "output_type": "execute_result"
    }
   ],
   "source": [
    "# Practice\n",
    "TENSOR1 = torch.tensor([[[1,2,3],\n",
    "                      [4,5,6],\n",
    "                      [7,8,9]],\n",
    "                     [[1,2,3],\n",
    "                      [4,5,6],\n",
    "                      [7,8,9]]])\n",
    "TENSOR1"
   ]
  },
  {
   "cell_type": "code",
   "execution_count": 18,
   "id": "ee33c059",
   "metadata": {
    "execution": {
     "iopub.execute_input": "2023-06-29T07:22:13.726134Z",
     "iopub.status.busy": "2023-06-29T07:22:13.725796Z",
     "iopub.status.idle": "2023-06-29T07:22:13.731151Z",
     "shell.execute_reply": "2023-06-29T07:22:13.730390Z"
    },
    "papermill": {
     "duration": 0.03989,
     "end_time": "2023-06-29T07:22:13.736282",
     "exception": false,
     "start_time": "2023-06-29T07:22:13.696392",
     "status": "completed"
    },
    "tags": []
   },
   "outputs": [
    {
     "data": {
      "text/plain": [
       "3"
      ]
     },
     "execution_count": 18,
     "metadata": {},
     "output_type": "execute_result"
    }
   ],
   "source": [
    "TENSOR1.ndim"
   ]
  },
  {
   "cell_type": "code",
   "execution_count": 19,
   "id": "a7bbb043",
   "metadata": {
    "execution": {
     "iopub.execute_input": "2023-06-29T07:22:13.794698Z",
     "iopub.status.busy": "2023-06-29T07:22:13.794392Z",
     "iopub.status.idle": "2023-06-29T07:22:13.799637Z",
     "shell.execute_reply": "2023-06-29T07:22:13.798888Z"
    },
    "papermill": {
     "duration": 0.039906,
     "end_time": "2023-06-29T07:22:13.804859",
     "exception": false,
     "start_time": "2023-06-29T07:22:13.764953",
     "status": "completed"
    },
    "tags": []
   },
   "outputs": [
    {
     "data": {
      "text/plain": [
       "torch.Size([2, 3, 3])"
      ]
     },
     "execution_count": 19,
     "metadata": {},
     "output_type": "execute_result"
    }
   ],
   "source": [
    "TENSOR1.shape"
   ]
  },
  {
   "cell_type": "markdown",
   "id": "ebb93aa5",
   "metadata": {
    "execution": {
     "iopub.execute_input": "2023-06-25T15:53:52.605155Z",
     "iopub.status.busy": "2023-06-25T15:53:52.604740Z",
     "iopub.status.idle": "2023-06-25T15:53:52.609815Z",
     "shell.execute_reply": "2023-06-25T15:53:52.608929Z",
     "shell.execute_reply.started": "2023-06-25T15:53:52.605124Z"
    },
    "papermill": {
     "duration": 0.028811,
     "end_time": "2023-06-29T07:22:13.862879",
     "exception": false,
     "start_time": "2023-06-29T07:22:13.834068",
     "status": "completed"
    },
    "tags": []
   },
   "source": [
    "### Random Tensor\n",
    "\n",
    "Why Random Nos. ?\n",
    "\n",
    "'Start with Random Numbers -> Look at Data -> Update Random Numbers -> Look at Data -> Update Random Numbers'\n",
    "\n",
    "ref - https://pytorch.org/docs/stable/generated/torch.rand.html"
   ]
  },
  {
   "cell_type": "code",
   "execution_count": 20,
   "id": "88f31136",
   "metadata": {
    "execution": {
     "iopub.execute_input": "2023-06-29T07:22:13.923680Z",
     "iopub.status.busy": "2023-06-29T07:22:13.923259Z",
     "iopub.status.idle": "2023-06-29T07:22:13.978547Z",
     "shell.execute_reply": "2023-06-29T07:22:13.977686Z"
    },
    "papermill": {
     "duration": 0.089074,
     "end_time": "2023-06-29T07:22:13.981167",
     "exception": false,
     "start_time": "2023-06-29T07:22:13.892093",
     "status": "completed"
    },
    "tags": []
   },
   "outputs": [
    {
     "data": {
      "text/plain": [
       "tensor([[[0.2183, 0.4210, 0.4451],\n",
       "         [0.8760, 0.7597, 0.9947],\n",
       "         [0.9170, 0.4582, 0.8872],\n",
       "         [0.5699, 0.5459, 0.5209]],\n",
       "\n",
       "        [[0.3846, 0.9755, 0.9724],\n",
       "         [0.8029, 0.3958, 0.7711],\n",
       "         [0.1403, 0.3964, 0.0554],\n",
       "         [0.3278, 0.6737, 0.1981]],\n",
       "\n",
       "        [[0.8740, 0.6022, 0.7391],\n",
       "         [0.3572, 0.5012, 0.3987],\n",
       "         [0.2041, 0.1439, 0.4986],\n",
       "         [0.5749, 0.0443, 0.2663]]])"
      ]
     },
     "execution_count": 20,
     "metadata": {},
     "output_type": "execute_result"
    }
   ],
   "source": [
    "# Create a random tensor of size(3,4)\n",
    "random_tensor = torch.rand(3,4,3)\n",
    "random_tensor"
   ]
  },
  {
   "cell_type": "code",
   "execution_count": 21,
   "id": "6ae19dd6",
   "metadata": {
    "execution": {
     "iopub.execute_input": "2023-06-29T07:22:14.045434Z",
     "iopub.status.busy": "2023-06-29T07:22:14.044380Z",
     "iopub.status.idle": "2023-06-29T07:22:14.051536Z",
     "shell.execute_reply": "2023-06-29T07:22:14.050614Z"
    },
    "papermill": {
     "duration": 0.042483,
     "end_time": "2023-06-29T07:22:14.053649",
     "exception": false,
     "start_time": "2023-06-29T07:22:14.011166",
     "status": "completed"
    },
    "tags": []
   },
   "outputs": [
    {
     "data": {
      "text/plain": [
       "3"
      ]
     },
     "execution_count": 21,
     "metadata": {},
     "output_type": "execute_result"
    }
   ],
   "source": [
    "random_tensor.ndim"
   ]
  },
  {
   "cell_type": "code",
   "execution_count": 22,
   "id": "b3fc96b2",
   "metadata": {
    "execution": {
     "iopub.execute_input": "2023-06-29T07:22:14.100058Z",
     "iopub.status.busy": "2023-06-29T07:22:14.099270Z",
     "iopub.status.idle": "2023-06-29T07:22:14.105713Z",
     "shell.execute_reply": "2023-06-29T07:22:14.104750Z"
    },
    "papermill": {
     "duration": 0.032931,
     "end_time": "2023-06-29T07:22:14.107595",
     "exception": false,
     "start_time": "2023-06-29T07:22:14.074664",
     "status": "completed"
    },
    "tags": []
   },
   "outputs": [
    {
     "data": {
      "text/plain": [
       "torch.Size([3, 4, 3])"
      ]
     },
     "execution_count": 22,
     "metadata": {},
     "output_type": "execute_result"
    }
   ],
   "source": [
    "random_tensor.shape"
   ]
  },
  {
   "cell_type": "code",
   "execution_count": 23,
   "id": "c3e80e88",
   "metadata": {
    "execution": {
     "iopub.execute_input": "2023-06-29T07:22:14.151509Z",
     "iopub.status.busy": "2023-06-29T07:22:14.151189Z",
     "iopub.status.idle": "2023-06-29T07:22:14.163764Z",
     "shell.execute_reply": "2023-06-29T07:22:14.162894Z"
    },
    "papermill": {
     "duration": 0.036542,
     "end_time": "2023-06-29T07:22:14.165747",
     "exception": false,
     "start_time": "2023-06-29T07:22:14.129205",
     "status": "completed"
    },
    "scrolled": true,
    "tags": []
   },
   "outputs": [
    {
     "data": {
      "text/plain": [
       "tensor([[[0.1953, 0.7277, 0.3575],\n",
       "         [0.4433, 0.9426, 0.6784],\n",
       "         [0.7684, 0.9558, 0.4039],\n",
       "         ...,\n",
       "         [0.3917, 0.2212, 0.7715],\n",
       "         [0.2174, 0.4224, 0.6319],\n",
       "         [0.9335, 0.9454, 0.9483]],\n",
       "\n",
       "        [[0.9223, 0.6931, 0.1945],\n",
       "         [0.1984, 0.2380, 0.3507],\n",
       "         [0.0054, 0.7577, 0.2228],\n",
       "         ...,\n",
       "         [0.7959, 0.1889, 0.9169],\n",
       "         [0.6034, 0.7606, 0.0922],\n",
       "         [0.6943, 0.1189, 0.5715]],\n",
       "\n",
       "        [[0.1371, 0.6947, 0.3575],\n",
       "         [0.7536, 0.1333, 0.4128],\n",
       "         [0.4877, 0.0241, 0.9041],\n",
       "         ...,\n",
       "         [0.2007, 0.3113, 0.0747],\n",
       "         [0.6314, 0.7648, 0.2557],\n",
       "         [0.4347, 0.7664, 0.2528]],\n",
       "\n",
       "        ...,\n",
       "\n",
       "        [[0.5417, 0.5178, 0.7108],\n",
       "         [0.2367, 0.0146, 0.3901],\n",
       "         [0.7933, 0.0647, 0.5025],\n",
       "         ...,\n",
       "         [0.3787, 0.2462, 0.8327],\n",
       "         [0.0163, 0.4979, 0.0949],\n",
       "         [0.8576, 0.8661, 0.5843]],\n",
       "\n",
       "        [[0.9495, 0.2570, 0.4093],\n",
       "         [0.3640, 0.6389, 0.0293],\n",
       "         [0.8906, 0.1209, 0.9904],\n",
       "         ...,\n",
       "         [0.3970, 0.7310, 0.2167],\n",
       "         [0.2866, 0.7223, 0.4056],\n",
       "         [0.4490, 0.5277, 0.5407]],\n",
       "\n",
       "        [[0.4524, 0.3508, 0.1812],\n",
       "         [0.9296, 0.1868, 0.4957],\n",
       "         [0.8114, 0.6509, 0.7898],\n",
       "         ...,\n",
       "         [0.7598, 0.8303, 0.6347],\n",
       "         [0.4476, 0.5749, 0.2365],\n",
       "         [0.1992, 0.4516, 0.6939]]])"
      ]
     },
     "execution_count": 23,
     "metadata": {},
     "output_type": "execute_result"
    }
   ],
   "source": [
    "# Creating Random tensor similar to Image Shape\n",
    "random_image_size_tensor = torch.rand(size=[224,224,3],) # height, width , color channels\n",
    "random_image_size_tensor"
   ]
  },
  {
   "cell_type": "code",
   "execution_count": 24,
   "id": "a9609a97",
   "metadata": {
    "execution": {
     "iopub.execute_input": "2023-06-29T07:22:14.209826Z",
     "iopub.status.busy": "2023-06-29T07:22:14.209116Z",
     "iopub.status.idle": "2023-06-29T07:22:14.215243Z",
     "shell.execute_reply": "2023-06-29T07:22:14.214183Z"
    },
    "papermill": {
     "duration": 0.030112,
     "end_time": "2023-06-29T07:22:14.217147",
     "exception": false,
     "start_time": "2023-06-29T07:22:14.187035",
     "status": "completed"
    },
    "tags": []
   },
   "outputs": [
    {
     "data": {
      "text/plain": [
       "3"
      ]
     },
     "execution_count": 24,
     "metadata": {},
     "output_type": "execute_result"
    }
   ],
   "source": [
    "random_image_size_tensor.ndim"
   ]
  },
  {
   "cell_type": "code",
   "execution_count": 25,
   "id": "e02c6424",
   "metadata": {
    "execution": {
     "iopub.execute_input": "2023-06-29T07:22:14.262037Z",
     "iopub.status.busy": "2023-06-29T07:22:14.261172Z",
     "iopub.status.idle": "2023-06-29T07:22:14.267230Z",
     "shell.execute_reply": "2023-06-29T07:22:14.266317Z"
    },
    "papermill": {
     "duration": 0.03022,
     "end_time": "2023-06-29T07:22:14.269113",
     "exception": false,
     "start_time": "2023-06-29T07:22:14.238893",
     "status": "completed"
    },
    "tags": []
   },
   "outputs": [
    {
     "data": {
      "text/plain": [
       "torch.Size([224, 224, 3])"
      ]
     },
     "execution_count": 25,
     "metadata": {},
     "output_type": "execute_result"
    }
   ],
   "source": [
    "random_image_size_tensor.shape"
   ]
  },
  {
   "cell_type": "markdown",
   "id": "98950553",
   "metadata": {
    "papermill": {
     "duration": 0.022033,
     "end_time": "2023-06-29T07:22:14.312920",
     "exception": false,
     "start_time": "2023-06-29T07:22:14.290887",
     "status": "completed"
    },
    "tags": []
   },
   "source": [
    "### Zeroes and Ones"
   ]
  },
  {
   "cell_type": "code",
   "execution_count": 26,
   "id": "01498329",
   "metadata": {
    "execution": {
     "iopub.execute_input": "2023-06-29T07:22:14.357927Z",
     "iopub.status.busy": "2023-06-29T07:22:14.357151Z",
     "iopub.status.idle": "2023-06-29T07:22:14.365803Z",
     "shell.execute_reply": "2023-06-29T07:22:14.364870Z"
    },
    "papermill": {
     "duration": 0.033434,
     "end_time": "2023-06-29T07:22:14.367716",
     "exception": false,
     "start_time": "2023-06-29T07:22:14.334282",
     "status": "completed"
    },
    "tags": []
   },
   "outputs": [
    {
     "data": {
      "text/plain": [
       "tensor([[0., 0., 0., 0.],\n",
       "        [0., 0., 0., 0.],\n",
       "        [0., 0., 0., 0.]])"
      ]
     },
     "execution_count": 26,
     "metadata": {},
     "output_type": "execute_result"
    }
   ],
   "source": [
    "# Create a tenor of all zeros\n",
    "zeros = torch.zeros(3,4)\n",
    "zeros"
   ]
  },
  {
   "cell_type": "code",
   "execution_count": 27,
   "id": "44111eea",
   "metadata": {
    "execution": {
     "iopub.execute_input": "2023-06-29T07:22:14.413070Z",
     "iopub.status.busy": "2023-06-29T07:22:14.412301Z",
     "iopub.status.idle": "2023-06-29T07:22:14.418817Z",
     "shell.execute_reply": "2023-06-29T07:22:14.417904Z"
    },
    "papermill": {
     "duration": 0.031088,
     "end_time": "2023-06-29T07:22:14.420720",
     "exception": false,
     "start_time": "2023-06-29T07:22:14.389632",
     "status": "completed"
    },
    "tags": []
   },
   "outputs": [
    {
     "data": {
      "text/plain": [
       "tensor([[0., 0., 0., 0.],\n",
       "        [0., 0., 0., 0.],\n",
       "        [0., 0., 0., 0.]])"
      ]
     },
     "execution_count": 27,
     "metadata": {},
     "output_type": "execute_result"
    }
   ],
   "source": [
    "zeros * torch.rand(3,4)"
   ]
  },
  {
   "cell_type": "code",
   "execution_count": 28,
   "id": "5977abf3",
   "metadata": {
    "execution": {
     "iopub.execute_input": "2023-06-29T07:22:14.466022Z",
     "iopub.status.busy": "2023-06-29T07:22:14.465298Z",
     "iopub.status.idle": "2023-06-29T07:22:14.473053Z",
     "shell.execute_reply": "2023-06-29T07:22:14.472109Z"
    },
    "papermill": {
     "duration": 0.032194,
     "end_time": "2023-06-29T07:22:14.474927",
     "exception": false,
     "start_time": "2023-06-29T07:22:14.442733",
     "status": "completed"
    },
    "tags": []
   },
   "outputs": [
    {
     "data": {
      "text/plain": [
       "tensor([[1, 1, 1, 1],\n",
       "        [1, 1, 1, 1],\n",
       "        [1, 1, 1, 1]])"
      ]
     },
     "execution_count": 28,
     "metadata": {},
     "output_type": "execute_result"
    }
   ],
   "source": [
    "# Create tensor of all ones\n",
    "ones = torch.ones(size=(3,4),dtype=int)\n",
    "ones"
   ]
  },
  {
   "cell_type": "code",
   "execution_count": 29,
   "id": "ba008fe9",
   "metadata": {
    "execution": {
     "iopub.execute_input": "2023-06-29T07:22:14.520535Z",
     "iopub.status.busy": "2023-06-29T07:22:14.519782Z",
     "iopub.status.idle": "2023-06-29T07:22:14.525582Z",
     "shell.execute_reply": "2023-06-29T07:22:14.524672Z"
    },
    "papermill": {
     "duration": 0.030669,
     "end_time": "2023-06-29T07:22:14.527473",
     "exception": false,
     "start_time": "2023-06-29T07:22:14.496804",
     "status": "completed"
    },
    "tags": []
   },
   "outputs": [
    {
     "data": {
      "text/plain": [
       "torch.int64"
      ]
     },
     "execution_count": 29,
     "metadata": {},
     "output_type": "execute_result"
    }
   ],
   "source": [
    "ones.dtype"
   ]
  },
  {
   "cell_type": "markdown",
   "id": "41181652",
   "metadata": {
    "execution": {
     "iopub.execute_input": "2023-06-25T16:24:23.852212Z",
     "iopub.status.busy": "2023-06-25T16:24:23.851772Z",
     "iopub.status.idle": "2023-06-25T16:24:23.857025Z",
     "shell.execute_reply": "2023-06-25T16:24:23.856069Z",
     "shell.execute_reply.started": "2023-06-25T16:24:23.852179Z"
    },
    "papermill": {
     "duration": 0.021781,
     "end_time": "2023-06-29T07:22:14.571090",
     "exception": false,
     "start_time": "2023-06-29T07:22:14.549309",
     "status": "completed"
    },
    "tags": []
   },
   "source": [
    "### Create a range of tensors and tensors-like\n",
    "\n",
    "ref - https://pytorch.org/docs/stable/generated/torch.arange.html"
   ]
  },
  {
   "cell_type": "code",
   "execution_count": 30,
   "id": "41204fc1",
   "metadata": {
    "execution": {
     "iopub.execute_input": "2023-06-29T07:22:14.617040Z",
     "iopub.status.busy": "2023-06-29T07:22:14.616290Z",
     "iopub.status.idle": "2023-06-29T07:22:14.626462Z",
     "shell.execute_reply": "2023-06-29T07:22:14.625522Z"
    },
    "papermill": {
     "duration": 0.03486,
     "end_time": "2023-06-29T07:22:14.628390",
     "exception": false,
     "start_time": "2023-06-29T07:22:14.593530",
     "status": "completed"
    },
    "tags": []
   },
   "outputs": [
    {
     "data": {
      "text/plain": [
       "tensor([ 1,  2,  3,  4,  5,  6,  7,  8,  9, 10])"
      ]
     },
     "execution_count": 30,
     "metadata": {},
     "output_type": "execute_result"
    }
   ],
   "source": [
    "# Use torch.arange()\n",
    "one_to_ten = torch.arange(start=1, end=11, step=1)\n",
    "one_to_ten"
   ]
  },
  {
   "cell_type": "code",
   "execution_count": 31,
   "id": "a8ed38c3",
   "metadata": {
    "execution": {
     "iopub.execute_input": "2023-06-29T07:22:14.675027Z",
     "iopub.status.busy": "2023-06-29T07:22:14.674663Z",
     "iopub.status.idle": "2023-06-29T07:22:14.681837Z",
     "shell.execute_reply": "2023-06-29T07:22:14.680762Z"
    },
    "papermill": {
     "duration": 0.033233,
     "end_time": "2023-06-29T07:22:14.683939",
     "exception": false,
     "start_time": "2023-06-29T07:22:14.650706",
     "status": "completed"
    },
    "tags": []
   },
   "outputs": [
    {
     "data": {
      "text/plain": [
       "tensor([0, 0, 0, 0, 0, 0, 0, 0, 0, 0])"
      ]
     },
     "execution_count": 31,
     "metadata": {},
     "output_type": "execute_result"
    }
   ],
   "source": [
    "# Create tesnors like\n",
    "ten_zeros = torch.zeros_like(input=one_to_ten)\n",
    "ten_zeros"
   ]
  },
  {
   "cell_type": "markdown",
   "id": "100b3993",
   "metadata": {
    "papermill": {
     "duration": 0.023133,
     "end_time": "2023-06-29T07:22:14.730045",
     "exception": false,
     "start_time": "2023-06-29T07:22:14.706912",
     "status": "completed"
    },
    "tags": []
   },
   "source": [
    "### Tensor datatypes\n",
    "\n",
    "Tensor datatypes is one of the 3 big errors arrive in Pytorch\n",
    "\n",
    "1. Tensors not right datatype\n",
    "2. Tensors not right shape\n",
    "3. Tensors not no right device\n",
    "\n",
    "ref - https://pytorch.org/docs/stable/tensors.html"
   ]
  },
  {
   "cell_type": "code",
   "execution_count": 32,
   "id": "5dd7c297",
   "metadata": {
    "execution": {
     "iopub.execute_input": "2023-06-29T07:22:14.777121Z",
     "iopub.status.busy": "2023-06-29T07:22:14.776220Z",
     "iopub.status.idle": "2023-06-29T07:22:14.784272Z",
     "shell.execute_reply": "2023-06-29T07:22:14.783301Z"
    },
    "papermill": {
     "duration": 0.033583,
     "end_time": "2023-06-29T07:22:14.786356",
     "exception": false,
     "start_time": "2023-06-29T07:22:14.752773",
     "status": "completed"
    },
    "tags": []
   },
   "outputs": [
    {
     "data": {
      "text/plain": [
       "tensor([3., 6., 9.])"
      ]
     },
     "execution_count": 32,
     "metadata": {},
     "output_type": "execute_result"
    }
   ],
   "source": [
    "# Float 32 tensor\n",
    "float_32_tensor = torch.tensor([3.0,6.0,9.0],\n",
    "                             dtype=None, # what datatype of tensor (float32 etc)\n",
    "                             device=None, #'cpu or gpu -> cuda'\n",
    "                             requires_grad=False) # whether to track gradient\n",
    "float_32_tensor"
   ]
  },
  {
   "cell_type": "code",
   "execution_count": 33,
   "id": "d8d79a1e",
   "metadata": {
    "execution": {
     "iopub.execute_input": "2023-06-29T07:22:14.832321Z",
     "iopub.status.busy": "2023-06-29T07:22:14.832003Z",
     "iopub.status.idle": "2023-06-29T07:22:14.837704Z",
     "shell.execute_reply": "2023-06-29T07:22:14.836858Z"
    },
    "papermill": {
     "duration": 0.030894,
     "end_time": "2023-06-29T07:22:14.839613",
     "exception": false,
     "start_time": "2023-06-29T07:22:14.808719",
     "status": "completed"
    },
    "tags": []
   },
   "outputs": [
    {
     "data": {
      "text/plain": [
       "torch.float32"
      ]
     },
     "execution_count": 33,
     "metadata": {},
     "output_type": "execute_result"
    }
   ],
   "source": [
    "float_32_tensor.dtype"
   ]
  },
  {
   "cell_type": "code",
   "execution_count": 34,
   "id": "99ffbc5c",
   "metadata": {
    "execution": {
     "iopub.execute_input": "2023-06-29T07:22:14.886549Z",
     "iopub.status.busy": "2023-06-29T07:22:14.886265Z",
     "iopub.status.idle": "2023-06-29T07:22:14.894519Z",
     "shell.execute_reply": "2023-06-29T07:22:14.893660Z"
    },
    "papermill": {
     "duration": 0.033946,
     "end_time": "2023-06-29T07:22:14.896546",
     "exception": false,
     "start_time": "2023-06-29T07:22:14.862600",
     "status": "completed"
    },
    "tags": []
   },
   "outputs": [],
   "source": [
    "float_16_tensor = float_32_tensor.half()\n",
    "# or\n",
    "float_16_tensor = float_32_tensor.type(torch.float) # torch.half"
   ]
  },
  {
   "cell_type": "code",
   "execution_count": 35,
   "id": "d34252af",
   "metadata": {
    "execution": {
     "iopub.execute_input": "2023-06-29T07:22:14.943451Z",
     "iopub.status.busy": "2023-06-29T07:22:14.942721Z",
     "iopub.status.idle": "2023-06-29T07:22:14.949012Z",
     "shell.execute_reply": "2023-06-29T07:22:14.948144Z"
    },
    "papermill": {
     "duration": 0.031632,
     "end_time": "2023-06-29T07:22:14.950917",
     "exception": false,
     "start_time": "2023-06-29T07:22:14.919285",
     "status": "completed"
    },
    "tags": []
   },
   "outputs": [
    {
     "data": {
      "text/plain": [
       "tensor([3., 6., 9.])"
      ]
     },
     "execution_count": 35,
     "metadata": {},
     "output_type": "execute_result"
    }
   ],
   "source": [
    "float_16_tensor"
   ]
  },
  {
   "cell_type": "code",
   "execution_count": 36,
   "id": "7fd00ba4",
   "metadata": {
    "execution": {
     "iopub.execute_input": "2023-06-29T07:22:15.010868Z",
     "iopub.status.busy": "2023-06-29T07:22:15.010567Z",
     "iopub.status.idle": "2023-06-29T07:22:15.016709Z",
     "shell.execute_reply": "2023-06-29T07:22:15.015837Z"
    },
    "papermill": {
     "duration": 0.04467,
     "end_time": "2023-06-29T07:22:15.018632",
     "exception": false,
     "start_time": "2023-06-29T07:22:14.973962",
     "status": "completed"
    },
    "tags": []
   },
   "outputs": [
    {
     "data": {
      "text/plain": [
       "torch.float32"
      ]
     },
     "execution_count": 36,
     "metadata": {},
     "output_type": "execute_result"
    }
   ],
   "source": [
    "(float_16_tensor * float_32_tensor).dtype"
   ]
  },
  {
   "cell_type": "code",
   "execution_count": 37,
   "id": "e034ae34",
   "metadata": {
    "execution": {
     "iopub.execute_input": "2023-06-29T07:22:15.067490Z",
     "iopub.status.busy": "2023-06-29T07:22:15.066289Z",
     "iopub.status.idle": "2023-06-29T07:22:15.071801Z",
     "shell.execute_reply": "2023-06-29T07:22:15.070867Z"
    },
    "papermill": {
     "duration": 0.032246,
     "end_time": "2023-06-29T07:22:15.073898",
     "exception": false,
     "start_time": "2023-06-29T07:22:15.041652",
     "status": "completed"
    },
    "tags": []
   },
   "outputs": [],
   "source": [
    "int_32_tensor = torch.tensor([3,4,5],\n",
    "                             dtype=torch.int32)"
   ]
  },
  {
   "cell_type": "code",
   "execution_count": 38,
   "id": "32fb54f0",
   "metadata": {
    "execution": {
     "iopub.execute_input": "2023-06-29T07:22:15.124135Z",
     "iopub.status.busy": "2023-06-29T07:22:15.123241Z",
     "iopub.status.idle": "2023-06-29T07:22:15.131753Z",
     "shell.execute_reply": "2023-06-29T07:22:15.130765Z"
    },
    "papermill": {
     "duration": 0.035244,
     "end_time": "2023-06-29T07:22:15.134066",
     "exception": false,
     "start_time": "2023-06-29T07:22:15.098822",
     "status": "completed"
    },
    "tags": []
   },
   "outputs": [
    {
     "data": {
      "text/plain": [
       "tensor([ 9., 24., 45.])"
      ]
     },
     "execution_count": 38,
     "metadata": {},
     "output_type": "execute_result"
    }
   ],
   "source": [
    "float_16_tensor * int_32_tensor"
   ]
  },
  {
   "cell_type": "markdown",
   "id": "e4ff78c9",
   "metadata": {
    "papermill": {
     "duration": 0.027553,
     "end_time": "2023-06-29T07:22:15.184760",
     "exception": false,
     "start_time": "2023-06-29T07:22:15.157207",
     "status": "completed"
    },
    "tags": []
   },
   "source": [
    "### Getting info from tensors (tensor attributes)\n",
    "1. tensor not datatype - to check use tensor.dtype\n",
    "2. tensor not right shape - to check use tensor.shape or tensor.size()\n",
    "3. tensor not on right device - to check use tensor.device"
   ]
  },
  {
   "cell_type": "code",
   "execution_count": 39,
   "id": "570e8931",
   "metadata": {
    "execution": {
     "iopub.execute_input": "2023-06-29T07:22:15.267560Z",
     "iopub.status.busy": "2023-06-29T07:22:15.267172Z",
     "iopub.status.idle": "2023-06-29T07:22:15.274950Z",
     "shell.execute_reply": "2023-06-29T07:22:15.273912Z"
    },
    "papermill": {
     "duration": 0.04879,
     "end_time": "2023-06-29T07:22:15.276943",
     "exception": false,
     "start_time": "2023-06-29T07:22:15.228153",
     "status": "completed"
    },
    "tags": []
   },
   "outputs": [
    {
     "data": {
      "text/plain": [
       "tensor([[0.6871, 0.3288, 0.5374, 0.9700],\n",
       "        [0.2403, 0.0521, 0.4416, 0.3447],\n",
       "        [0.3826, 0.6274, 0.5599, 0.1556]])"
      ]
     },
     "execution_count": 39,
     "metadata": {},
     "output_type": "execute_result"
    }
   ],
   "source": [
    "# Create a tensor\n",
    "some_tensor = torch.rand(3,4)\n",
    "some_tensor"
   ]
  },
  {
   "cell_type": "code",
   "execution_count": 40,
   "id": "bb195baa",
   "metadata": {
    "execution": {
     "iopub.execute_input": "2023-06-29T07:22:15.324610Z",
     "iopub.status.busy": "2023-06-29T07:22:15.323831Z",
     "iopub.status.idle": "2023-06-29T07:22:15.329806Z",
     "shell.execute_reply": "2023-06-29T07:22:15.328578Z"
    },
    "papermill": {
     "duration": 0.031976,
     "end_time": "2023-06-29T07:22:15.331798",
     "exception": false,
     "start_time": "2023-06-29T07:22:15.299822",
     "status": "completed"
    },
    "tags": []
   },
   "outputs": [
    {
     "name": "stdout",
     "output_type": "stream",
     "text": [
      "Tensor Datatype : torch.float32 Tensor Shape : torch.Size([3, 4]) Tensor Device : cpu\n"
     ]
    }
   ],
   "source": [
    "print(\"Tensor Datatype :\",some_tensor.dtype,\n",
    "\"Tensor Shape :\",some_tensor.shape,\n",
    "\"Tensor Device :\",some_tensor.device)"
   ]
  },
  {
   "cell_type": "markdown",
   "id": "12406fed",
   "metadata": {
    "execution": {
     "iopub.execute_input": "2023-06-26T15:31:18.518353Z",
     "iopub.status.busy": "2023-06-26T15:31:18.517972Z",
     "iopub.status.idle": "2023-06-26T15:31:18.526666Z",
     "shell.execute_reply": "2023-06-26T15:31:18.525296Z",
     "shell.execute_reply.started": "2023-06-26T15:31:18.518326Z"
    },
    "papermill": {
     "duration": 0.022797,
     "end_time": "2023-06-29T07:22:15.378034",
     "exception": false,
     "start_time": "2023-06-29T07:22:15.355237",
     "status": "completed"
    },
    "tags": []
   },
   "source": [
    "### Manipulating Tensors (Tensor Operations)\n",
    "1. Addition\n",
    "2. Subtraction\n",
    "3. Multiplication (element-wise)\n",
    "4. Division\n",
    "5. Matrix Multiplication"
   ]
  },
  {
   "cell_type": "code",
   "execution_count": 41,
   "id": "7acb9710",
   "metadata": {
    "execution": {
     "iopub.execute_input": "2023-06-29T07:22:15.426328Z",
     "iopub.status.busy": "2023-06-29T07:22:15.425489Z",
     "iopub.status.idle": "2023-06-29T07:22:15.435100Z",
     "shell.execute_reply": "2023-06-29T07:22:15.434134Z"
    },
    "papermill": {
     "duration": 0.036069,
     "end_time": "2023-06-29T07:22:15.437039",
     "exception": false,
     "start_time": "2023-06-29T07:22:15.400970",
     "status": "completed"
    },
    "tags": []
   },
   "outputs": [
    {
     "data": {
      "text/plain": [
       "tensor([11, 12, 13])"
      ]
     },
     "execution_count": 41,
     "metadata": {},
     "output_type": "execute_result"
    }
   ],
   "source": [
    "# Create a tensor and add 10\n",
    "tensor = torch.tensor([1,2,3])\n",
    "tensor + 10"
   ]
  },
  {
   "cell_type": "code",
   "execution_count": 42,
   "id": "be6856f2",
   "metadata": {
    "execution": {
     "iopub.execute_input": "2023-06-29T07:22:15.487203Z",
     "iopub.status.busy": "2023-06-29T07:22:15.486304Z",
     "iopub.status.idle": "2023-06-29T07:22:15.495344Z",
     "shell.execute_reply": "2023-06-29T07:22:15.494410Z"
    },
    "papermill": {
     "duration": 0.036401,
     "end_time": "2023-06-29T07:22:15.497261",
     "exception": false,
     "start_time": "2023-06-29T07:22:15.460860",
     "status": "completed"
    },
    "tags": []
   },
   "outputs": [
    {
     "data": {
      "text/plain": [
       "tensor([10, 20, 30])"
      ]
     },
     "execution_count": 42,
     "metadata": {},
     "output_type": "execute_result"
    }
   ],
   "source": [
    "# multiply\n",
    "tensor * 10"
   ]
  },
  {
   "cell_type": "code",
   "execution_count": 43,
   "id": "08e5b08a",
   "metadata": {
    "execution": {
     "iopub.execute_input": "2023-06-29T07:22:15.546185Z",
     "iopub.status.busy": "2023-06-29T07:22:15.545378Z",
     "iopub.status.idle": "2023-06-29T07:22:15.553599Z",
     "shell.execute_reply": "2023-06-29T07:22:15.552695Z"
    },
    "papermill": {
     "duration": 0.034834,
     "end_time": "2023-06-29T07:22:15.555540",
     "exception": false,
     "start_time": "2023-06-29T07:22:15.520706",
     "status": "completed"
    },
    "tags": []
   },
   "outputs": [
    {
     "data": {
      "text/plain": [
       "tensor([-9, -8, -7])"
      ]
     },
     "execution_count": 43,
     "metadata": {},
     "output_type": "execute_result"
    }
   ],
   "source": [
    "# subtract 10\n",
    "tensor - 10"
   ]
  },
  {
   "cell_type": "code",
   "execution_count": 44,
   "id": "98133375",
   "metadata": {
    "execution": {
     "iopub.execute_input": "2023-06-29T07:22:15.604907Z",
     "iopub.status.busy": "2023-06-29T07:22:15.604132Z",
     "iopub.status.idle": "2023-06-29T07:22:15.610522Z",
     "shell.execute_reply": "2023-06-29T07:22:15.609599Z"
    },
    "papermill": {
     "duration": 0.033087,
     "end_time": "2023-06-29T07:22:15.612635",
     "exception": false,
     "start_time": "2023-06-29T07:22:15.579548",
     "status": "completed"
    },
    "tags": []
   },
   "outputs": [
    {
     "data": {
      "text/plain": [
       "tensor([10, 20, 30])"
      ]
     },
     "execution_count": 44,
     "metadata": {},
     "output_type": "execute_result"
    }
   ],
   "source": [
    "# multiply using tensor function\n",
    "torch.mul(tensor,10)"
   ]
  },
  {
   "cell_type": "markdown",
   "id": "a5e6be1b",
   "metadata": {
    "papermill": {
     "duration": 0.023534,
     "end_time": "2023-06-29T07:22:15.659804",
     "exception": false,
     "start_time": "2023-06-29T07:22:15.636270",
     "status": "completed"
    },
    "tags": []
   },
   "source": [
    "### Matrix Multiplication\n",
    "\n",
    "Two Main ways to multiply in tensors\n",
    "\n",
    "1. Element-wise multipication or Cross Multiplication\n",
    "2. Matrix multiplication or Dot Product\n",
    "\n",
    "ref - https://www.mathsisfun.com/algebra/matrix-multiplying.html\n",
    "\n",
    "Two Rules must Follow:\n",
    "1. The **Inner Dimension** must match:\n",
    "* '(3,2) @ (3,2)' wont work\n",
    "* '(3,2) @ (2,3)' will work\n",
    "* '(2,3) @ (3,2)' will work\n",
    "2. Resulting matrix has dimension of **Outer Dimension**\n",
    "* (2,3) @ (3,2) -> (2,2)\n",
    "* (3,2) @ (2,3) -> (3,3)"
   ]
  },
  {
   "cell_type": "code",
   "execution_count": 45,
   "id": "4ae6ff97",
   "metadata": {
    "execution": {
     "iopub.execute_input": "2023-06-29T07:22:15.708800Z",
     "iopub.status.busy": "2023-06-29T07:22:15.708019Z",
     "iopub.status.idle": "2023-06-29T07:22:15.754135Z",
     "shell.execute_reply": "2023-06-29T07:22:15.753214Z"
    },
    "papermill": {
     "duration": 0.072735,
     "end_time": "2023-06-29T07:22:15.756198",
     "exception": false,
     "start_time": "2023-06-29T07:22:15.683463",
     "status": "completed"
    },
    "tags": []
   },
   "outputs": [
    {
     "data": {
      "text/plain": [
       "tensor([[0.3749, 0.3746, 0.1209],\n",
       "        [0.8692, 0.8725, 0.2822],\n",
       "        [0.5820, 0.6591, 0.2271]])"
      ]
     },
     "execution_count": 45,
     "metadata": {},
     "output_type": "execute_result"
    }
   ],
   "source": [
    "torch.matmul(torch.rand(3,2) , torch.rand(2,3))"
   ]
  },
  {
   "cell_type": "code",
   "execution_count": 46,
   "id": "acd4bc42",
   "metadata": {
    "execution": {
     "iopub.execute_input": "2023-06-29T07:22:15.805699Z",
     "iopub.status.busy": "2023-06-29T07:22:15.804960Z",
     "iopub.status.idle": "2023-06-29T07:22:15.811476Z",
     "shell.execute_reply": "2023-06-29T07:22:15.810148Z"
    },
    "papermill": {
     "duration": 0.033321,
     "end_time": "2023-06-29T07:22:15.813548",
     "exception": false,
     "start_time": "2023-06-29T07:22:15.780227",
     "status": "completed"
    },
    "tags": []
   },
   "outputs": [
    {
     "name": "stdout",
     "output_type": "stream",
     "text": [
      "tensor([1, 2, 3]) * tensor([1, 2, 3])\n",
      "Equals : tensor([1, 4, 9])\n"
     ]
    }
   ],
   "source": [
    "# Element wise multiplication\n",
    "print(tensor, '*' , tensor)\n",
    "print('Equals :', tensor * tensor )"
   ]
  },
  {
   "cell_type": "code",
   "execution_count": 47,
   "id": "7ecae67f",
   "metadata": {
    "execution": {
     "iopub.execute_input": "2023-06-29T07:22:15.864827Z",
     "iopub.status.busy": "2023-06-29T07:22:15.863899Z",
     "iopub.status.idle": "2023-06-29T07:22:15.870889Z",
     "shell.execute_reply": "2023-06-29T07:22:15.869890Z"
    },
    "papermill": {
     "duration": 0.035065,
     "end_time": "2023-06-29T07:22:15.873094",
     "exception": false,
     "start_time": "2023-06-29T07:22:15.838029",
     "status": "completed"
    },
    "tags": []
   },
   "outputs": [
    {
     "data": {
      "text/plain": [
       "tensor(14)"
      ]
     },
     "execution_count": 47,
     "metadata": {},
     "output_type": "execute_result"
    }
   ],
   "source": [
    "# Matrix Multiplication\n",
    "torch.matmul(tensor,tensor)"
   ]
  },
  {
   "cell_type": "markdown",
   "id": "d3f0ee69",
   "metadata": {
    "papermill": {
     "duration": 0.02365,
     "end_time": "2023-06-29T07:22:15.920878",
     "exception": false,
     "start_time": "2023-06-29T07:22:15.897228",
     "status": "completed"
    },
    "tags": []
   },
   "source": [
    "### Shape Errors"
   ]
  },
  {
   "cell_type": "code",
   "execution_count": 48,
   "id": "a599348a",
   "metadata": {
    "execution": {
     "iopub.execute_input": "2023-06-29T07:22:15.970509Z",
     "iopub.status.busy": "2023-06-29T07:22:15.969931Z",
     "iopub.status.idle": "2023-06-29T07:22:15.975745Z",
     "shell.execute_reply": "2023-06-29T07:22:15.974523Z"
    },
    "papermill": {
     "duration": 0.032951,
     "end_time": "2023-06-29T07:22:15.977780",
     "exception": false,
     "start_time": "2023-06-29T07:22:15.944829",
     "status": "completed"
    },
    "tags": []
   },
   "outputs": [],
   "source": [
    "tensor_A = torch.tensor([[1,2],\n",
    "                        [3,4],\n",
    "                        [5,6]])\n",
    "\n",
    "tensor_B =torch.tensor([[7,10],\n",
    "                       [8,11],\n",
    "                       [9,12]])\n",
    "\n",
    "#torch.mm(tensor_A,tensor_B) #(mm is alias for matmul)"
   ]
  },
  {
   "cell_type": "markdown",
   "id": "157bf7cb",
   "metadata": {
    "papermill": {
     "duration": 0.024018,
     "end_time": "2023-06-29T07:22:16.025497",
     "exception": false,
     "start_time": "2023-06-29T07:22:16.001479",
     "status": "completed"
    },
    "tags": []
   },
   "source": [
    "To Fix Shape Issues, We can use Transpose \n",
    "\n",
    "A **Transpose** swithches axes or dimensions of given matrix"
   ]
  },
  {
   "cell_type": "code",
   "execution_count": 49,
   "id": "e1c31c61",
   "metadata": {
    "execution": {
     "iopub.execute_input": "2023-06-29T07:22:16.074811Z",
     "iopub.status.busy": "2023-06-29T07:22:16.074038Z",
     "iopub.status.idle": "2023-06-29T07:22:16.080572Z",
     "shell.execute_reply": "2023-06-29T07:22:16.079651Z"
    },
    "papermill": {
     "duration": 0.033435,
     "end_time": "2023-06-29T07:22:16.082718",
     "exception": false,
     "start_time": "2023-06-29T07:22:16.049283",
     "status": "completed"
    },
    "tags": []
   },
   "outputs": [
    {
     "data": {
      "text/plain": [
       "(tensor([[ 7, 10],\n",
       "         [ 8, 11],\n",
       "         [ 9, 12]]),\n",
       " torch.Size([3, 2]))"
      ]
     },
     "execution_count": 49,
     "metadata": {},
     "output_type": "execute_result"
    }
   ],
   "source": [
    "tensor_B, tensor_B.shape"
   ]
  },
  {
   "cell_type": "code",
   "execution_count": 50,
   "id": "106f3f57",
   "metadata": {
    "execution": {
     "iopub.execute_input": "2023-06-29T07:22:16.135642Z",
     "iopub.status.busy": "2023-06-29T07:22:16.134913Z",
     "iopub.status.idle": "2023-06-29T07:22:16.142543Z",
     "shell.execute_reply": "2023-06-29T07:22:16.141473Z"
    },
    "papermill": {
     "duration": 0.034725,
     "end_time": "2023-06-29T07:22:16.144456",
     "exception": false,
     "start_time": "2023-06-29T07:22:16.109731",
     "status": "completed"
    },
    "tags": []
   },
   "outputs": [
    {
     "data": {
      "text/plain": [
       "(tensor([[ 7,  8,  9],\n",
       "         [10, 11, 12]]),\n",
       " torch.Size([2, 3]))"
      ]
     },
     "execution_count": 50,
     "metadata": {},
     "output_type": "execute_result"
    }
   ],
   "source": [
    "tensor_B.T, tensor_B.T.shape"
   ]
  },
  {
   "cell_type": "code",
   "execution_count": 51,
   "id": "f961b2c2",
   "metadata": {
    "execution": {
     "iopub.execute_input": "2023-06-29T07:22:16.195129Z",
     "iopub.status.busy": "2023-06-29T07:22:16.194224Z",
     "iopub.status.idle": "2023-06-29T07:22:16.204473Z",
     "shell.execute_reply": "2023-06-29T07:22:16.203180Z"
    },
    "papermill": {
     "duration": 0.038195,
     "end_time": "2023-06-29T07:22:16.206524",
     "exception": false,
     "start_time": "2023-06-29T07:22:16.168329",
     "status": "completed"
    },
    "tags": []
   },
   "outputs": [
    {
     "name": "stdout",
     "output_type": "stream",
     "text": [
      "Initial shape for tensor A torch.Size([3, 2]) and for tensor B torch.Size([3, 2])\n",
      "after transpose torch.Size([2, 3])\n",
      "output : tensor([[ 27,  30,  33],\n",
      "        [ 61,  68,  75],\n",
      "        [ 95, 106, 117]]) and its shape is torch.Size([3, 3])\n"
     ]
    }
   ],
   "source": [
    "print(f'Initial shape for tensor A {tensor_A.shape} and for tensor B {tensor_B.shape}')\n",
    "print(f'after transpose {tensor_B.T.shape}')\n",
    "print(f'output : {torch.matmul(tensor_A,tensor_B.T)} and its shape is {torch.matmul(tensor_A,tensor_B.T).shape}')"
   ]
  },
  {
   "cell_type": "markdown",
   "id": "f1920535",
   "metadata": {
    "papermill": {
     "duration": 0.02485,
     "end_time": "2023-06-29T07:22:16.257091",
     "exception": false,
     "start_time": "2023-06-29T07:22:16.232241",
     "status": "completed"
    },
    "tags": []
   },
   "source": [
    "## Finding Min. Max. Mean, Sum, etc (tensor aggregation)"
   ]
  },
  {
   "cell_type": "code",
   "execution_count": 52,
   "id": "7e253468",
   "metadata": {
    "execution": {
     "iopub.execute_input": "2023-06-29T07:22:16.308338Z",
     "iopub.status.busy": "2023-06-29T07:22:16.307419Z",
     "iopub.status.idle": "2023-06-29T07:22:16.314968Z",
     "shell.execute_reply": "2023-06-29T07:22:16.313986Z"
    },
    "papermill": {
     "duration": 0.035264,
     "end_time": "2023-06-29T07:22:16.316936",
     "exception": false,
     "start_time": "2023-06-29T07:22:16.281672",
     "status": "completed"
    },
    "tags": []
   },
   "outputs": [
    {
     "data": {
      "text/plain": [
       "tensor([ 0, 10, 20, 30, 40, 50, 60, 70, 80, 90])"
      ]
     },
     "execution_count": 52,
     "metadata": {},
     "output_type": "execute_result"
    }
   ],
   "source": [
    "# Create a tensor\n",
    "x = torch.arange(0,100,10)\n",
    "x"
   ]
  },
  {
   "cell_type": "code",
   "execution_count": 53,
   "id": "db03b0a1",
   "metadata": {
    "execution": {
     "iopub.execute_input": "2023-06-29T07:22:16.367234Z",
     "iopub.status.busy": "2023-06-29T07:22:16.366482Z",
     "iopub.status.idle": "2023-06-29T07:22:16.374214Z",
     "shell.execute_reply": "2023-06-29T07:22:16.373261Z"
    },
    "papermill": {
     "duration": 0.034885,
     "end_time": "2023-06-29T07:22:16.376129",
     "exception": false,
     "start_time": "2023-06-29T07:22:16.341244",
     "status": "completed"
    },
    "tags": []
   },
   "outputs": [
    {
     "data": {
      "text/plain": [
       "(tensor(0), tensor(0))"
      ]
     },
     "execution_count": 53,
     "metadata": {},
     "output_type": "execute_result"
    }
   ],
   "source": [
    "# Min\n",
    "torch.min(x), x.min()"
   ]
  },
  {
   "cell_type": "code",
   "execution_count": 54,
   "id": "89722185",
   "metadata": {
    "execution": {
     "iopub.execute_input": "2023-06-29T07:22:16.426742Z",
     "iopub.status.busy": "2023-06-29T07:22:16.426013Z",
     "iopub.status.idle": "2023-06-29T07:22:16.432544Z",
     "shell.execute_reply": "2023-06-29T07:22:16.431469Z"
    },
    "papermill": {
     "duration": 0.033836,
     "end_time": "2023-06-29T07:22:16.434472",
     "exception": false,
     "start_time": "2023-06-29T07:22:16.400636",
     "status": "completed"
    },
    "tags": []
   },
   "outputs": [
    {
     "data": {
      "text/plain": [
       "(tensor(90), tensor(90))"
      ]
     },
     "execution_count": 54,
     "metadata": {},
     "output_type": "execute_result"
    }
   ],
   "source": [
    "# Max\n",
    "torch.max(x), x.max()"
   ]
  },
  {
   "cell_type": "code",
   "execution_count": 55,
   "id": "0a16b013",
   "metadata": {
    "execution": {
     "iopub.execute_input": "2023-06-29T07:22:16.485219Z",
     "iopub.status.busy": "2023-06-29T07:22:16.484522Z",
     "iopub.status.idle": "2023-06-29T07:22:16.496527Z",
     "shell.execute_reply": "2023-06-29T07:22:16.495619Z"
    },
    "papermill": {
     "duration": 0.039409,
     "end_time": "2023-06-29T07:22:16.498429",
     "exception": false,
     "start_time": "2023-06-29T07:22:16.459020",
     "status": "completed"
    },
    "tags": []
   },
   "outputs": [
    {
     "data": {
      "text/plain": [
       "(tensor(45., dtype=torch.float16),\n",
       " tensor(45., dtype=torch.float16),\n",
       " tensor(45.))"
      ]
     },
     "execution_count": 55,
     "metadata": {},
     "output_type": "execute_result"
    }
   ],
   "source": [
    "# Mean\n",
    "torch.mean(x.type(torch.float16)) , x.type(torch.float16).mean() , torch.mean(x,dtype=torch.float32)"
   ]
  },
  {
   "cell_type": "code",
   "execution_count": 56,
   "id": "f3d798cc",
   "metadata": {
    "execution": {
     "iopub.execute_input": "2023-06-29T07:22:16.550091Z",
     "iopub.status.busy": "2023-06-29T07:22:16.549469Z",
     "iopub.status.idle": "2023-06-29T07:22:16.555992Z",
     "shell.execute_reply": "2023-06-29T07:22:16.555131Z"
    },
    "papermill": {
     "duration": 0.033809,
     "end_time": "2023-06-29T07:22:16.557860",
     "exception": false,
     "start_time": "2023-06-29T07:22:16.524051",
     "status": "completed"
    },
    "tags": []
   },
   "outputs": [
    {
     "data": {
      "text/plain": [
       "(tensor(450), tensor(450))"
      ]
     },
     "execution_count": 56,
     "metadata": {},
     "output_type": "execute_result"
    }
   ],
   "source": [
    "# Sum\n",
    "torch.sum(x) , x.sum()"
   ]
  },
  {
   "cell_type": "markdown",
   "id": "cefcea17",
   "metadata": {
    "papermill": {
     "duration": 0.025487,
     "end_time": "2023-06-29T07:22:16.608211",
     "exception": false,
     "start_time": "2023-06-29T07:22:16.582724",
     "status": "completed"
    },
    "tags": []
   },
   "source": [
    "## Finding Positinal min and max"
   ]
  },
  {
   "cell_type": "code",
   "execution_count": 57,
   "id": "f9d80ffb",
   "metadata": {
    "execution": {
     "iopub.execute_input": "2023-06-29T07:22:16.662472Z",
     "iopub.status.busy": "2023-06-29T07:22:16.660603Z",
     "iopub.status.idle": "2023-06-29T07:22:16.668294Z",
     "shell.execute_reply": "2023-06-29T07:22:16.667386Z"
    },
    "papermill": {
     "duration": 0.036213,
     "end_time": "2023-06-29T07:22:16.670189",
     "exception": false,
     "start_time": "2023-06-29T07:22:16.633976",
     "status": "completed"
    },
    "tags": []
   },
   "outputs": [
    {
     "data": {
      "text/plain": [
       "tensor([ 1, 11, 21, 31, 41, 51, 61, 71, 81, 91])"
      ]
     },
     "execution_count": 57,
     "metadata": {},
     "output_type": "execute_result"
    }
   ],
   "source": [
    "x+1"
   ]
  },
  {
   "cell_type": "code",
   "execution_count": 58,
   "id": "0441f6f7",
   "metadata": {
    "execution": {
     "iopub.execute_input": "2023-06-29T07:22:16.721909Z",
     "iopub.status.busy": "2023-06-29T07:22:16.721065Z",
     "iopub.status.idle": "2023-06-29T07:22:16.730630Z",
     "shell.execute_reply": "2023-06-29T07:22:16.729353Z"
    },
    "papermill": {
     "duration": 0.03734,
     "end_time": "2023-06-29T07:22:16.732709",
     "exception": false,
     "start_time": "2023-06-29T07:22:16.695369",
     "status": "completed"
    },
    "tags": []
   },
   "outputs": [
    {
     "name": "stdout",
     "output_type": "stream",
     "text": [
      "location :  tensor(0)\n",
      "element at location :  tensor(1)\n"
     ]
    }
   ],
   "source": [
    "# Position in tensor where minimum value exists\n",
    "print('location : ',(x+1).argmin())\n",
    "print('element at location : ',(x+1)[(x+1).argmin()])"
   ]
  },
  {
   "cell_type": "code",
   "execution_count": 59,
   "id": "d86d3c22",
   "metadata": {
    "execution": {
     "iopub.execute_input": "2023-06-29T07:22:16.784339Z",
     "iopub.status.busy": "2023-06-29T07:22:16.783549Z",
     "iopub.status.idle": "2023-06-29T07:22:16.789982Z",
     "shell.execute_reply": "2023-06-29T07:22:16.788823Z"
    },
    "papermill": {
     "duration": 0.034625,
     "end_time": "2023-06-29T07:22:16.792093",
     "exception": false,
     "start_time": "2023-06-29T07:22:16.757468",
     "status": "completed"
    },
    "tags": []
   },
   "outputs": [
    {
     "name": "stdout",
     "output_type": "stream",
     "text": [
      "location :  tensor(9)\n",
      "element at location :  tensor(91)\n"
     ]
    }
   ],
   "source": [
    "# Position in tensor where maximum value exists\n",
    "print('location : ',(x+1).argmax())\n",
    "print('element at location : ',(x+1)[(x+1).argmax()])"
   ]
  },
  {
   "cell_type": "markdown",
   "id": "d071a43d",
   "metadata": {
    "papermill": {
     "duration": 0.024973,
     "end_time": "2023-06-29T07:22:16.842192",
     "exception": false,
     "start_time": "2023-06-29T07:22:16.817219",
     "status": "completed"
    },
    "tags": []
   },
   "source": [
    "## Reshaping, Stacking, Squeezing and Unsqueezing tensor\n",
    "\n",
    "* Reshaping - reshapes input tensor to defined shape\n",
    "* View - Returns a view of input tensor of certain shape but keeps same memory as original\n",
    "* Stacking - Combine Multiple tensors on top of each other (vstack) or side by side (hstack)\n",
    "* Squeeze - **removes unit** dimension from tensor\n",
    "* Unsqueeze - **adds one** dimension to tensor\n",
    "* Permute - Reaturn a view of input with Dimension Permuted (swapped) in certain way "
   ]
  },
  {
   "cell_type": "code",
   "execution_count": 60,
   "id": "64e13009",
   "metadata": {
    "execution": {
     "iopub.execute_input": "2023-06-29T07:22:16.895096Z",
     "iopub.status.busy": "2023-06-29T07:22:16.893290Z",
     "iopub.status.idle": "2023-06-29T07:22:16.901549Z",
     "shell.execute_reply": "2023-06-29T07:22:16.900535Z"
    },
    "papermill": {
     "duration": 0.036362,
     "end_time": "2023-06-29T07:22:16.903648",
     "exception": false,
     "start_time": "2023-06-29T07:22:16.867286",
     "status": "completed"
    },
    "tags": []
   },
   "outputs": [
    {
     "data": {
      "text/plain": [
       "(tensor([1., 2., 3., 4., 5., 6., 7., 8., 9.]), torch.Size([9]))"
      ]
     },
     "execution_count": 60,
     "metadata": {},
     "output_type": "execute_result"
    }
   ],
   "source": [
    "# Create Tensor\n",
    "x = torch.arange(1.,10.)\n",
    "x , x.shape"
   ]
  },
  {
   "cell_type": "code",
   "execution_count": 61,
   "id": "d3f52e73",
   "metadata": {
    "execution": {
     "iopub.execute_input": "2023-06-29T07:22:16.955939Z",
     "iopub.status.busy": "2023-06-29T07:22:16.955052Z",
     "iopub.status.idle": "2023-06-29T07:22:16.962028Z",
     "shell.execute_reply": "2023-06-29T07:22:16.960647Z"
    },
    "papermill": {
     "duration": 0.035405,
     "end_time": "2023-06-29T07:22:16.964079",
     "exception": false,
     "start_time": "2023-06-29T07:22:16.928674",
     "status": "completed"
    },
    "tags": []
   },
   "outputs": [
    {
     "name": "stdout",
     "output_type": "stream",
     "text": [
      "torch.Size([9])\n",
      "tensor([[1.],\n",
      "        [2.],\n",
      "        [3.],\n",
      "        [4.],\n",
      "        [5.],\n",
      "        [6.],\n",
      "        [7.],\n",
      "        [8.],\n",
      "        [9.]])\n",
      "torch.Size([9, 1])\n"
     ]
    }
   ],
   "source": [
    "# Add extra dimension\n",
    "x_reshaped = x.reshape(9,1)\n",
    "print(x.size())\n",
    "print(x_reshaped)\n",
    "print(x_reshaped.size())"
   ]
  },
  {
   "cell_type": "code",
   "execution_count": 62,
   "id": "10a39f3c",
   "metadata": {
    "execution": {
     "iopub.execute_input": "2023-06-29T07:22:17.019648Z",
     "iopub.status.busy": "2023-06-29T07:22:17.019285Z",
     "iopub.status.idle": "2023-06-29T07:22:17.027495Z",
     "shell.execute_reply": "2023-06-29T07:22:17.026519Z"
    },
    "papermill": {
     "duration": 0.039997,
     "end_time": "2023-06-29T07:22:17.029561",
     "exception": false,
     "start_time": "2023-06-29T07:22:16.989564",
     "status": "completed"
    },
    "tags": []
   },
   "outputs": [
    {
     "data": {
      "text/plain": [
       "(tensor([[1., 2., 3.],\n",
       "         [4., 5., 6.],\n",
       "         [7., 8., 9.]]),\n",
       " torch.Size([3, 3]))"
      ]
     },
     "execution_count": 62,
     "metadata": {},
     "output_type": "execute_result"
    }
   ],
   "source": [
    "# Change View\n",
    "z = x.view(3,3)\n",
    "z, z.shape"
   ]
  },
  {
   "cell_type": "code",
   "execution_count": 63,
   "id": "256239e0",
   "metadata": {
    "execution": {
     "iopub.execute_input": "2023-06-29T07:22:17.085105Z",
     "iopub.status.busy": "2023-06-29T07:22:17.084207Z",
     "iopub.status.idle": "2023-06-29T07:22:17.097708Z",
     "shell.execute_reply": "2023-06-29T07:22:17.096762Z"
    },
    "papermill": {
     "duration": 0.043156,
     "end_time": "2023-06-29T07:22:17.099669",
     "exception": false,
     "start_time": "2023-06-29T07:22:17.056513",
     "status": "completed"
    },
    "tags": []
   },
   "outputs": [
    {
     "data": {
      "text/plain": [
       "(tensor([[5., 2., 3.],\n",
       "         [5., 5., 6.],\n",
       "         [5., 8., 9.]]),\n",
       " tensor([5., 2., 3., 5., 5., 6., 5., 8., 9.]))"
      ]
     },
     "execution_count": 63,
     "metadata": {},
     "output_type": "execute_result"
    }
   ],
   "source": [
    "# Changing z changes x because it shares same memory as original but doesnt affect the shape\n",
    "z[:,0]=5\n",
    "z, x"
   ]
  },
  {
   "cell_type": "code",
   "execution_count": 64,
   "id": "b24222aa",
   "metadata": {
    "execution": {
     "iopub.execute_input": "2023-06-29T07:22:17.153423Z",
     "iopub.status.busy": "2023-06-29T07:22:17.152633Z",
     "iopub.status.idle": "2023-06-29T07:22:17.160089Z",
     "shell.execute_reply": "2023-06-29T07:22:17.159129Z"
    },
    "papermill": {
     "duration": 0.036863,
     "end_time": "2023-06-29T07:22:17.162271",
     "exception": false,
     "start_time": "2023-06-29T07:22:17.125408",
     "status": "completed"
    },
    "tags": []
   },
   "outputs": [
    {
     "data": {
      "text/plain": [
       "tensor([[5., 2., 3., 5., 5., 6., 5., 8., 9.],\n",
       "        [5., 2., 3., 5., 5., 6., 5., 8., 9.],\n",
       "        [5., 2., 3., 5., 5., 6., 5., 8., 9.],\n",
       "        [5., 2., 3., 5., 5., 6., 5., 8., 9.]])"
      ]
     },
     "execution_count": 64,
     "metadata": {},
     "output_type": "execute_result"
    }
   ],
   "source": [
    "# Stack tensors\n",
    "x_stacked = torch.stack([x, x, x, x], dim=0)\n",
    "x_stacked"
   ]
  },
  {
   "cell_type": "code",
   "execution_count": 65,
   "id": "f3417d7b",
   "metadata": {
    "execution": {
     "iopub.execute_input": "2023-06-29T07:22:17.214722Z",
     "iopub.status.busy": "2023-06-29T07:22:17.214440Z",
     "iopub.status.idle": "2023-06-29T07:22:17.222203Z",
     "shell.execute_reply": "2023-06-29T07:22:17.220716Z"
    },
    "papermill": {
     "duration": 0.036638,
     "end_time": "2023-06-29T07:22:17.224325",
     "exception": false,
     "start_time": "2023-06-29T07:22:17.187687",
     "status": "completed"
    },
    "tags": []
   },
   "outputs": [
    {
     "name": "stdout",
     "output_type": "stream",
     "text": [
      "Previouse tensor : tensor([[5.],\n",
      "        [2.],\n",
      "        [3.],\n",
      "        [5.],\n",
      "        [5.],\n",
      "        [6.],\n",
      "        [5.],\n",
      "        [8.],\n",
      "        [9.]])\n",
      "Previoe shape : torch.Size([9, 1])\n",
      "\n",
      "New tensor : tensor([5., 2., 3., 5., 5., 6., 5., 8., 9.])\n",
      "New Shape : torch.Size([9])\n"
     ]
    }
   ],
   "source": [
    "# torch.squeeze() - removes all single dimensions from target tensor\n",
    "print(f\"Previouse tensor : {x_reshaped}\")\n",
    "print(f\"Previoe shape : {x_reshaped.shape}\")\n",
    "\n",
    "# Remove extra dimension from x_reshaped\n",
    "x_squeezed = x_reshaped.squeeze()\n",
    "print(f\"\\nNew tensor : {x_squeezed}\")\n",
    "print(f\"New Shape : {x_squeezed.shape}\")\n",
    "\n"
   ]
  },
  {
   "cell_type": "code",
   "execution_count": 66,
   "id": "2be8c6ff",
   "metadata": {
    "execution": {
     "iopub.execute_input": "2023-06-29T07:22:17.277093Z",
     "iopub.status.busy": "2023-06-29T07:22:17.276375Z",
     "iopub.status.idle": "2023-06-29T07:22:17.283202Z",
     "shell.execute_reply": "2023-06-29T07:22:17.282145Z"
    },
    "papermill": {
     "duration": 0.03532,
     "end_time": "2023-06-29T07:22:17.285127",
     "exception": false,
     "start_time": "2023-06-29T07:22:17.249807",
     "status": "completed"
    },
    "tags": []
   },
   "outputs": [
    {
     "data": {
      "text/plain": [
       "tensor([5., 2., 3., 5., 5., 6., 5., 8., 9.])"
      ]
     },
     "execution_count": 66,
     "metadata": {},
     "output_type": "execute_result"
    }
   ],
   "source": [
    "x_reshaped.squeeze()"
   ]
  },
  {
   "cell_type": "code",
   "execution_count": 67,
   "id": "a254765e",
   "metadata": {
    "execution": {
     "iopub.execute_input": "2023-06-29T07:22:17.338200Z",
     "iopub.status.busy": "2023-06-29T07:22:17.337415Z",
     "iopub.status.idle": "2023-06-29T07:22:17.346981Z",
     "shell.execute_reply": "2023-06-29T07:22:17.345790Z"
    },
    "papermill": {
     "duration": 0.038307,
     "end_time": "2023-06-29T07:22:17.349006",
     "exception": false,
     "start_time": "2023-06-29T07:22:17.310699",
     "status": "completed"
    },
    "tags": []
   },
   "outputs": [
    {
     "name": "stdout",
     "output_type": "stream",
     "text": [
      "Previous target : tensor([5., 2., 3., 5., 5., 6., 5., 8., 9.])\n",
      "Previous Shape : torch.Size([9])\n",
      "\n",
      "New tensor : tensor([[5., 2., 3., 5., 5., 6., 5., 8., 9.]])\n",
      "New Shape : torch.Size([1, 9])\n"
     ]
    }
   ],
   "source": [
    "# torch.unsqueeze() - adds a single dimension to a target tensor at a specific dimension\n",
    "print(f\"Previous target : {x_squeezed}\")\n",
    "print(f\"Previous Shape : {x_squeezed.shape}\")\n",
    "\n",
    "# Adding dimension to x_reshaped\n",
    "x_unsqueezed = x_squeezed.unsqueeze(dim=-0)\n",
    "print(f\"\\nNew tensor : {x_unsqueezed}\")\n",
    "print(f\"New Shape : {x_unsqueezed.shape}\")"
   ]
  },
  {
   "cell_type": "code",
   "execution_count": 68,
   "id": "ae841dfd",
   "metadata": {
    "execution": {
     "iopub.execute_input": "2023-06-29T07:22:17.402654Z",
     "iopub.status.busy": "2023-06-29T07:22:17.401751Z",
     "iopub.status.idle": "2023-06-29T07:22:17.406130Z",
     "shell.execute_reply": "2023-06-29T07:22:17.405313Z"
    },
    "papermill": {
     "duration": 0.032946,
     "end_time": "2023-06-29T07:22:17.408076",
     "exception": false,
     "start_time": "2023-06-29T07:22:17.375130",
     "status": "completed"
    },
    "tags": []
   },
   "outputs": [],
   "source": [
    "# torch.permute - rearrages the dimension of a traget tensor in a specified order\n"
   ]
  }
 ],
 "metadata": {
  "kernelspec": {
   "display_name": "Python 3",
   "language": "python",
   "name": "python3"
  },
  "language_info": {
   "codemirror_mode": {
    "name": "ipython",
    "version": 3
   },
   "file_extension": ".py",
   "mimetype": "text/x-python",
   "name": "python",
   "nbconvert_exporter": "python",
   "pygments_lexer": "ipython3",
   "version": "3.10.10"
  },
  "papermill": {
   "default_parameters": {},
   "duration": 20.685529,
   "end_time": "2023-06-29T07:22:18.857873",
   "environment_variables": {},
   "exception": null,
   "input_path": "__notebook__.ipynb",
   "output_path": "__notebook__.ipynb",
   "parameters": {},
   "start_time": "2023-06-29T07:21:58.172344",
   "version": "2.4.0"
  }
 },
 "nbformat": 4,
 "nbformat_minor": 5
}
