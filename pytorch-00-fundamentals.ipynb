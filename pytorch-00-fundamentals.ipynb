{
 "cells": [
  {
   "cell_type": "code",
   "execution_count": 1,
   "id": "fbac80e1",
   "metadata": {
    "_cell_guid": "b1076dfc-b9ad-4769-8c92-a6c4dae69d19",
    "_uuid": "8f2839f25d086af736a60e9eeb907d3b93b6e0e5",
    "execution": {
     "iopub.execute_input": "2023-06-26T15:54:26.885705Z",
     "iopub.status.busy": "2023-06-26T15:54:26.884801Z",
     "iopub.status.idle": "2023-06-26T15:54:30.394450Z",
     "shell.execute_reply": "2023-06-26T15:54:30.393317Z"
    },
    "papermill": {
     "duration": 3.528464,
     "end_time": "2023-06-26T15:54:30.397124",
     "exception": false,
     "start_time": "2023-06-26T15:54:26.868660",
     "status": "completed"
    },
    "tags": []
   },
   "outputs": [
    {
     "data": {
      "text/plain": [
       "'2.0.0+cpu'"
      ]
     },
     "execution_count": 1,
     "metadata": {},
     "output_type": "execute_result"
    }
   ],
   "source": [
    "import torch\n",
    "import pandas as pd\n",
    "import numpy as np\n",
    "import matplotlib.pyplot as plt\n",
    "torch.__version__"
   ]
  },
  {
   "cell_type": "markdown",
   "id": "519dbf3f",
   "metadata": {
    "execution": {
     "iopub.execute_input": "2023-06-25T15:31:29.081596Z",
     "iopub.status.busy": "2023-06-25T15:31:29.081220Z",
     "iopub.status.idle": "2023-06-25T15:31:29.086052Z",
     "shell.execute_reply": "2023-06-25T15:31:29.085102Z",
     "shell.execute_reply.started": "2023-06-25T15:31:29.081561Z"
    },
    "papermill": {
     "duration": 0.01027,
     "end_time": "2023-06-26T15:54:30.418369",
     "exception": false,
     "start_time": "2023-06-26T15:54:30.408099",
     "status": "completed"
    },
    "tags": []
   },
   "source": [
    "## Introduction to Tensor\n",
    "\n",
    "### Creating Tensors\n",
    "\n",
    "PyTorch tensor are create using torch.Tensor()\n",
    "\n",
    "ref - https://pytorch.org/docs/stable/tensors.html"
   ]
  },
  {
   "cell_type": "code",
   "execution_count": 2,
   "id": "db3037b6",
   "metadata": {
    "execution": {
     "iopub.execute_input": "2023-06-26T15:54:30.441548Z",
     "iopub.status.busy": "2023-06-26T15:54:30.440926Z",
     "iopub.status.idle": "2023-06-26T15:54:30.483116Z",
     "shell.execute_reply": "2023-06-26T15:54:30.482227Z"
    },
    "papermill": {
     "duration": 0.056374,
     "end_time": "2023-06-26T15:54:30.485446",
     "exception": false,
     "start_time": "2023-06-26T15:54:30.429072",
     "status": "completed"
    },
    "tags": []
   },
   "outputs": [
    {
     "data": {
      "text/plain": [
       "tensor(7)"
      ]
     },
     "execution_count": 2,
     "metadata": {},
     "output_type": "execute_result"
    }
   ],
   "source": [
    "# Scaler\n",
    "scaler = torch.tensor(7)\n",
    "scaler"
   ]
  },
  {
   "cell_type": "code",
   "execution_count": 3,
   "id": "8d0866ce",
   "metadata": {
    "execution": {
     "iopub.execute_input": "2023-06-26T15:54:30.508771Z",
     "iopub.status.busy": "2023-06-26T15:54:30.508420Z",
     "iopub.status.idle": "2023-06-26T15:54:30.514101Z",
     "shell.execute_reply": "2023-06-26T15:54:30.513134Z"
    },
    "papermill": {
     "duration": 0.019979,
     "end_time": "2023-06-26T15:54:30.516267",
     "exception": false,
     "start_time": "2023-06-26T15:54:30.496288",
     "status": "completed"
    },
    "tags": []
   },
   "outputs": [
    {
     "data": {
      "text/plain": [
       "0"
      ]
     },
     "execution_count": 3,
     "metadata": {},
     "output_type": "execute_result"
    }
   ],
   "source": [
    "scaler.ndim"
   ]
  },
  {
   "cell_type": "code",
   "execution_count": 4,
   "id": "45c0ab85",
   "metadata": {
    "execution": {
     "iopub.execute_input": "2023-06-26T15:54:30.539985Z",
     "iopub.status.busy": "2023-06-26T15:54:30.539640Z",
     "iopub.status.idle": "2023-06-26T15:54:30.545253Z",
     "shell.execute_reply": "2023-06-26T15:54:30.544374Z"
    },
    "papermill": {
     "duration": 0.01991,
     "end_time": "2023-06-26T15:54:30.547325",
     "exception": false,
     "start_time": "2023-06-26T15:54:30.527415",
     "status": "completed"
    },
    "tags": []
   },
   "outputs": [
    {
     "data": {
      "text/plain": [
       "7"
      ]
     },
     "execution_count": 4,
     "metadata": {},
     "output_type": "execute_result"
    }
   ],
   "source": [
    "# Get Tensor back ans int\n",
    "scaler.item()"
   ]
  },
  {
   "cell_type": "code",
   "execution_count": 5,
   "id": "a80271be",
   "metadata": {
    "execution": {
     "iopub.execute_input": "2023-06-26T15:54:30.570727Z",
     "iopub.status.busy": "2023-06-26T15:54:30.570387Z",
     "iopub.status.idle": "2023-06-26T15:54:30.576864Z",
     "shell.execute_reply": "2023-06-26T15:54:30.576001Z"
    },
    "papermill": {
     "duration": 0.020676,
     "end_time": "2023-06-26T15:54:30.578868",
     "exception": false,
     "start_time": "2023-06-26T15:54:30.558192",
     "status": "completed"
    },
    "tags": []
   },
   "outputs": [
    {
     "data": {
      "text/plain": [
       "tensor([7, 7])"
      ]
     },
     "execution_count": 5,
     "metadata": {},
     "output_type": "execute_result"
    }
   ],
   "source": [
    "# Vector\n",
    "vector = torch.tensor([7,7])\n",
    "vector"
   ]
  },
  {
   "cell_type": "code",
   "execution_count": 6,
   "id": "c5ccb019",
   "metadata": {
    "execution": {
     "iopub.execute_input": "2023-06-26T15:54:30.602843Z",
     "iopub.status.busy": "2023-06-26T15:54:30.602489Z",
     "iopub.status.idle": "2023-06-26T15:54:30.608473Z",
     "shell.execute_reply": "2023-06-26T15:54:30.607425Z"
    },
    "papermill": {
     "duration": 0.020934,
     "end_time": "2023-06-26T15:54:30.610791",
     "exception": false,
     "start_time": "2023-06-26T15:54:30.589857",
     "status": "completed"
    },
    "tags": []
   },
   "outputs": [
    {
     "data": {
      "text/plain": [
       "1"
      ]
     },
     "execution_count": 6,
     "metadata": {},
     "output_type": "execute_result"
    }
   ],
   "source": [
    "vector.ndim"
   ]
  },
  {
   "cell_type": "code",
   "execution_count": 7,
   "id": "6f7f674d",
   "metadata": {
    "execution": {
     "iopub.execute_input": "2023-06-26T15:54:30.637052Z",
     "iopub.status.busy": "2023-06-26T15:54:30.636370Z",
     "iopub.status.idle": "2023-06-26T15:54:30.642626Z",
     "shell.execute_reply": "2023-06-26T15:54:30.641555Z"
    },
    "papermill": {
     "duration": 0.020761,
     "end_time": "2023-06-26T15:54:30.644679",
     "exception": false,
     "start_time": "2023-06-26T15:54:30.623918",
     "status": "completed"
    },
    "tags": []
   },
   "outputs": [
    {
     "data": {
      "text/plain": [
       "torch.Size([2])"
      ]
     },
     "execution_count": 7,
     "metadata": {},
     "output_type": "execute_result"
    }
   ],
   "source": [
    "vector.shape"
   ]
  },
  {
   "cell_type": "code",
   "execution_count": 8,
   "id": "df620ebf",
   "metadata": {
    "execution": {
     "iopub.execute_input": "2023-06-26T15:54:30.668848Z",
     "iopub.status.busy": "2023-06-26T15:54:30.668498Z",
     "iopub.status.idle": "2023-06-26T15:54:30.677859Z",
     "shell.execute_reply": "2023-06-26T15:54:30.676949Z"
    },
    "papermill": {
     "duration": 0.023949,
     "end_time": "2023-06-26T15:54:30.679946",
     "exception": false,
     "start_time": "2023-06-26T15:54:30.655997",
     "status": "completed"
    },
    "tags": []
   },
   "outputs": [
    {
     "data": {
      "text/plain": [
       "tensor([[7, 8],\n",
       "        [6, 5]])"
      ]
     },
     "execution_count": 8,
     "metadata": {},
     "output_type": "execute_result"
    }
   ],
   "source": [
    "# Matrix\n",
    "MATRIX = torch.tensor([[7,8],\n",
    "                      [6,5]])\n",
    "MATRIX"
   ]
  },
  {
   "cell_type": "code",
   "execution_count": 9,
   "id": "1fe684f7",
   "metadata": {
    "execution": {
     "iopub.execute_input": "2023-06-26T15:54:30.704321Z",
     "iopub.status.busy": "2023-06-26T15:54:30.703943Z",
     "iopub.status.idle": "2023-06-26T15:54:30.710231Z",
     "shell.execute_reply": "2023-06-26T15:54:30.709200Z"
    },
    "papermill": {
     "duration": 0.020847,
     "end_time": "2023-06-26T15:54:30.712294",
     "exception": false,
     "start_time": "2023-06-26T15:54:30.691447",
     "status": "completed"
    },
    "tags": []
   },
   "outputs": [
    {
     "data": {
      "text/plain": [
       "2"
      ]
     },
     "execution_count": 9,
     "metadata": {},
     "output_type": "execute_result"
    }
   ],
   "source": [
    "MATRIX.ndim"
   ]
  },
  {
   "cell_type": "code",
   "execution_count": 10,
   "id": "340739af",
   "metadata": {
    "execution": {
     "iopub.execute_input": "2023-06-26T15:54:30.737449Z",
     "iopub.status.busy": "2023-06-26T15:54:30.737075Z",
     "iopub.status.idle": "2023-06-26T15:54:30.744007Z",
     "shell.execute_reply": "2023-06-26T15:54:30.743018Z"
    },
    "papermill": {
     "duration": 0.022386,
     "end_time": "2023-06-26T15:54:30.746249",
     "exception": false,
     "start_time": "2023-06-26T15:54:30.723863",
     "status": "completed"
    },
    "tags": []
   },
   "outputs": [
    {
     "data": {
      "text/plain": [
       "tensor([7, 8])"
      ]
     },
     "execution_count": 10,
     "metadata": {},
     "output_type": "execute_result"
    }
   ],
   "source": [
    "MATRIX[0]"
   ]
  },
  {
   "cell_type": "code",
   "execution_count": 11,
   "id": "567261e3",
   "metadata": {
    "execution": {
     "iopub.execute_input": "2023-06-26T15:54:30.771250Z",
     "iopub.status.busy": "2023-06-26T15:54:30.770842Z",
     "iopub.status.idle": "2023-06-26T15:54:30.777261Z",
     "shell.execute_reply": "2023-06-26T15:54:30.776278Z"
    },
    "papermill": {
     "duration": 0.021373,
     "end_time": "2023-06-26T15:54:30.779200",
     "exception": false,
     "start_time": "2023-06-26T15:54:30.757827",
     "status": "completed"
    },
    "tags": []
   },
   "outputs": [
    {
     "data": {
      "text/plain": [
       "tensor([6, 5])"
      ]
     },
     "execution_count": 11,
     "metadata": {},
     "output_type": "execute_result"
    }
   ],
   "source": [
    "MATRIX[1]"
   ]
  },
  {
   "cell_type": "code",
   "execution_count": 12,
   "id": "7195f999",
   "metadata": {
    "execution": {
     "iopub.execute_input": "2023-06-26T15:54:30.804616Z",
     "iopub.status.busy": "2023-06-26T15:54:30.804194Z",
     "iopub.status.idle": "2023-06-26T15:54:30.811818Z",
     "shell.execute_reply": "2023-06-26T15:54:30.810788Z"
    },
    "papermill": {
     "duration": 0.023175,
     "end_time": "2023-06-26T15:54:30.814061",
     "exception": false,
     "start_time": "2023-06-26T15:54:30.790886",
     "status": "completed"
    },
    "tags": []
   },
   "outputs": [
    {
     "data": {
      "text/plain": [
       "torch.Size([2, 2])"
      ]
     },
     "execution_count": 12,
     "metadata": {},
     "output_type": "execute_result"
    }
   ],
   "source": [
    "MATRIX.shape"
   ]
  },
  {
   "cell_type": "code",
   "execution_count": 13,
   "id": "1fbd9306",
   "metadata": {
    "execution": {
     "iopub.execute_input": "2023-06-26T15:54:30.839598Z",
     "iopub.status.busy": "2023-06-26T15:54:30.839181Z",
     "iopub.status.idle": "2023-06-26T15:54:30.847517Z",
     "shell.execute_reply": "2023-06-26T15:54:30.846521Z"
    },
    "papermill": {
     "duration": 0.02375,
     "end_time": "2023-06-26T15:54:30.849704",
     "exception": false,
     "start_time": "2023-06-26T15:54:30.825954",
     "status": "completed"
    },
    "tags": []
   },
   "outputs": [
    {
     "data": {
      "text/plain": [
       "tensor([[[1, 2, 3],\n",
       "         [5, 6, 6],\n",
       "         [7, 8, 9]]])"
      ]
     },
     "execution_count": 13,
     "metadata": {},
     "output_type": "execute_result"
    }
   ],
   "source": [
    "# Tensor\n",
    "TENSOR = torch.tensor([[[1,2,3],\n",
    "                      [5,6,6],\n",
    "                      [7,8,9]]])\n",
    "TENSOR"
   ]
  },
  {
   "cell_type": "code",
   "execution_count": 14,
   "id": "f95079fd",
   "metadata": {
    "execution": {
     "iopub.execute_input": "2023-06-26T15:54:30.875986Z",
     "iopub.status.busy": "2023-06-26T15:54:30.875592Z",
     "iopub.status.idle": "2023-06-26T15:54:30.881476Z",
     "shell.execute_reply": "2023-06-26T15:54:30.880502Z"
    },
    "papermill": {
     "duration": 0.021142,
     "end_time": "2023-06-26T15:54:30.883443",
     "exception": false,
     "start_time": "2023-06-26T15:54:30.862301",
     "status": "completed"
    },
    "tags": []
   },
   "outputs": [
    {
     "data": {
      "text/plain": [
       "3"
      ]
     },
     "execution_count": 14,
     "metadata": {},
     "output_type": "execute_result"
    }
   ],
   "source": [
    "TENSOR.ndim"
   ]
  },
  {
   "cell_type": "code",
   "execution_count": 15,
   "id": "ad3c8732",
   "metadata": {
    "execution": {
     "iopub.execute_input": "2023-06-26T15:54:30.908959Z",
     "iopub.status.busy": "2023-06-26T15:54:30.908563Z",
     "iopub.status.idle": "2023-06-26T15:54:30.914620Z",
     "shell.execute_reply": "2023-06-26T15:54:30.913772Z"
    },
    "papermill": {
     "duration": 0.021364,
     "end_time": "2023-06-26T15:54:30.916765",
     "exception": false,
     "start_time": "2023-06-26T15:54:30.895401",
     "status": "completed"
    },
    "tags": []
   },
   "outputs": [
    {
     "data": {
      "text/plain": [
       "torch.Size([1, 3, 3])"
      ]
     },
     "execution_count": 15,
     "metadata": {},
     "output_type": "execute_result"
    }
   ],
   "source": [
    "TENSOR.shape"
   ]
  },
  {
   "cell_type": "code",
   "execution_count": 16,
   "id": "2d990eac",
   "metadata": {
    "execution": {
     "iopub.execute_input": "2023-06-26T15:54:30.943573Z",
     "iopub.status.busy": "2023-06-26T15:54:30.943220Z",
     "iopub.status.idle": "2023-06-26T15:54:30.949208Z",
     "shell.execute_reply": "2023-06-26T15:54:30.948242Z"
    },
    "papermill": {
     "duration": 0.021652,
     "end_time": "2023-06-26T15:54:30.951293",
     "exception": false,
     "start_time": "2023-06-26T15:54:30.929641",
     "status": "completed"
    },
    "tags": []
   },
   "outputs": [
    {
     "data": {
      "text/plain": [
       "tensor([[1, 2, 3],\n",
       "        [5, 6, 6],\n",
       "        [7, 8, 9]])"
      ]
     },
     "execution_count": 16,
     "metadata": {},
     "output_type": "execute_result"
    }
   ],
   "source": [
    "TENSOR[0]"
   ]
  },
  {
   "cell_type": "code",
   "execution_count": 17,
   "id": "39a432fc",
   "metadata": {
    "execution": {
     "iopub.execute_input": "2023-06-26T15:54:30.977481Z",
     "iopub.status.busy": "2023-06-26T15:54:30.976873Z",
     "iopub.status.idle": "2023-06-26T15:54:30.984707Z",
     "shell.execute_reply": "2023-06-26T15:54:30.983991Z"
    },
    "papermill": {
     "duration": 0.023263,
     "end_time": "2023-06-26T15:54:30.986620",
     "exception": false,
     "start_time": "2023-06-26T15:54:30.963357",
     "status": "completed"
    },
    "tags": []
   },
   "outputs": [
    {
     "data": {
      "text/plain": [
       "tensor([[[1, 2, 3],\n",
       "         [4, 5, 6],\n",
       "         [7, 8, 9]],\n",
       "\n",
       "        [[1, 2, 3],\n",
       "         [4, 5, 6],\n",
       "         [7, 8, 9]]])"
      ]
     },
     "execution_count": 17,
     "metadata": {},
     "output_type": "execute_result"
    }
   ],
   "source": [
    "# Practice\n",
    "TENSOR1 = torch.tensor([[[1,2,3],\n",
    "                      [4,5,6],\n",
    "                      [7,8,9]],\n",
    "                     [[1,2,3],\n",
    "                      [4,5,6],\n",
    "                      [7,8,9]]])\n",
    "TENSOR1"
   ]
  },
  {
   "cell_type": "code",
   "execution_count": 18,
   "id": "dbf8aabc",
   "metadata": {
    "execution": {
     "iopub.execute_input": "2023-06-26T15:54:31.012763Z",
     "iopub.status.busy": "2023-06-26T15:54:31.012411Z",
     "iopub.status.idle": "2023-06-26T15:54:31.018244Z",
     "shell.execute_reply": "2023-06-26T15:54:31.016971Z"
    },
    "papermill": {
     "duration": 0.021704,
     "end_time": "2023-06-26T15:54:31.020532",
     "exception": false,
     "start_time": "2023-06-26T15:54:30.998828",
     "status": "completed"
    },
    "tags": []
   },
   "outputs": [
    {
     "data": {
      "text/plain": [
       "3"
      ]
     },
     "execution_count": 18,
     "metadata": {},
     "output_type": "execute_result"
    }
   ],
   "source": [
    "TENSOR1.ndim"
   ]
  },
  {
   "cell_type": "code",
   "execution_count": 19,
   "id": "a74d4285",
   "metadata": {
    "execution": {
     "iopub.execute_input": "2023-06-26T15:54:31.048647Z",
     "iopub.status.busy": "2023-06-26T15:54:31.047663Z",
     "iopub.status.idle": "2023-06-26T15:54:31.053253Z",
     "shell.execute_reply": "2023-06-26T15:54:31.052438Z"
    },
    "papermill": {
     "duration": 0.022091,
     "end_time": "2023-06-26T15:54:31.055247",
     "exception": false,
     "start_time": "2023-06-26T15:54:31.033156",
     "status": "completed"
    },
    "tags": []
   },
   "outputs": [
    {
     "data": {
      "text/plain": [
       "torch.Size([2, 3, 3])"
      ]
     },
     "execution_count": 19,
     "metadata": {},
     "output_type": "execute_result"
    }
   ],
   "source": [
    "TENSOR1.shape"
   ]
  },
  {
   "cell_type": "markdown",
   "id": "a8e786f0",
   "metadata": {
    "execution": {
     "iopub.execute_input": "2023-06-25T15:53:52.605155Z",
     "iopub.status.busy": "2023-06-25T15:53:52.604740Z",
     "iopub.status.idle": "2023-06-25T15:53:52.609815Z",
     "shell.execute_reply": "2023-06-25T15:53:52.608929Z",
     "shell.execute_reply.started": "2023-06-25T15:53:52.605124Z"
    },
    "papermill": {
     "duration": 0.012208,
     "end_time": "2023-06-26T15:54:31.080013",
     "exception": false,
     "start_time": "2023-06-26T15:54:31.067805",
     "status": "completed"
    },
    "tags": []
   },
   "source": [
    "### Random Tensor\n",
    "\n",
    "Why Random Nos. ?\n",
    "\n",
    "'Start with Random Numbers -> Look at Data -> Update Random Numbers -> Look at Data -> Update Random Numbers'\n",
    "\n",
    "ref - https://pytorch.org/docs/stable/generated/torch.rand.html"
   ]
  },
  {
   "cell_type": "code",
   "execution_count": 20,
   "id": "b8b805a6",
   "metadata": {
    "execution": {
     "iopub.execute_input": "2023-06-26T15:54:31.107118Z",
     "iopub.status.busy": "2023-06-26T15:54:31.106702Z",
     "iopub.status.idle": "2023-06-26T15:54:31.171767Z",
     "shell.execute_reply": "2023-06-26T15:54:31.170690Z"
    },
    "papermill": {
     "duration": 0.08129,
     "end_time": "2023-06-26T15:54:31.173993",
     "exception": false,
     "start_time": "2023-06-26T15:54:31.092703",
     "status": "completed"
    },
    "tags": []
   },
   "outputs": [
    {
     "data": {
      "text/plain": [
       "tensor([[[8.2712e-01, 7.1742e-01, 3.2245e-01],\n",
       "         [7.1570e-01, 7.3236e-01, 1.3378e-01],\n",
       "         [2.8173e-01, 5.0658e-04, 9.1953e-02],\n",
       "         [8.4047e-01, 2.1730e-01, 2.1132e-01]],\n",
       "\n",
       "        [[6.3545e-01, 3.7026e-02, 5.0927e-01],\n",
       "         [4.7659e-01, 9.5412e-01, 3.8417e-01],\n",
       "         [7.0983e-01, 2.1876e-02, 8.0403e-01],\n",
       "         [7.0533e-01, 4.4424e-01, 8.5677e-01]],\n",
       "\n",
       "        [[1.5364e-01, 7.7376e-01, 1.4964e-01],\n",
       "         [5.3431e-01, 9.5007e-01, 5.8448e-01],\n",
       "         [3.9057e-01, 3.4707e-01, 2.9964e-01],\n",
       "         [1.1104e-01, 2.9410e-01, 8.2801e-01]]])"
      ]
     },
     "execution_count": 20,
     "metadata": {},
     "output_type": "execute_result"
    }
   ],
   "source": [
    "# Create a random tensor of size(3,4)\n",
    "random_tensor = torch.rand(3,4,3)\n",
    "random_tensor"
   ]
  },
  {
   "cell_type": "code",
   "execution_count": 21,
   "id": "9356410e",
   "metadata": {
    "execution": {
     "iopub.execute_input": "2023-06-26T15:54:31.201024Z",
     "iopub.status.busy": "2023-06-26T15:54:31.200645Z",
     "iopub.status.idle": "2023-06-26T15:54:31.206319Z",
     "shell.execute_reply": "2023-06-26T15:54:31.205617Z"
    },
    "papermill": {
     "duration": 0.021326,
     "end_time": "2023-06-26T15:54:31.208454",
     "exception": false,
     "start_time": "2023-06-26T15:54:31.187128",
     "status": "completed"
    },
    "tags": []
   },
   "outputs": [
    {
     "data": {
      "text/plain": [
       "3"
      ]
     },
     "execution_count": 21,
     "metadata": {},
     "output_type": "execute_result"
    }
   ],
   "source": [
    "random_tensor.ndim"
   ]
  },
  {
   "cell_type": "code",
   "execution_count": 22,
   "id": "341f7205",
   "metadata": {
    "execution": {
     "iopub.execute_input": "2023-06-26T15:54:31.236073Z",
     "iopub.status.busy": "2023-06-26T15:54:31.234999Z",
     "iopub.status.idle": "2023-06-26T15:54:31.241935Z",
     "shell.execute_reply": "2023-06-26T15:54:31.240940Z"
    },
    "papermill": {
     "duration": 0.02268,
     "end_time": "2023-06-26T15:54:31.243896",
     "exception": false,
     "start_time": "2023-06-26T15:54:31.221216",
     "status": "completed"
    },
    "tags": []
   },
   "outputs": [
    {
     "data": {
      "text/plain": [
       "torch.Size([3, 4, 3])"
      ]
     },
     "execution_count": 22,
     "metadata": {},
     "output_type": "execute_result"
    }
   ],
   "source": [
    "random_tensor.shape"
   ]
  },
  {
   "cell_type": "code",
   "execution_count": 23,
   "id": "709a95f2",
   "metadata": {
    "execution": {
     "iopub.execute_input": "2023-06-26T15:54:31.272144Z",
     "iopub.status.busy": "2023-06-26T15:54:31.270863Z",
     "iopub.status.idle": "2023-06-26T15:54:31.288260Z",
     "shell.execute_reply": "2023-06-26T15:54:31.287223Z"
    },
    "papermill": {
     "duration": 0.03382,
     "end_time": "2023-06-26T15:54:31.290475",
     "exception": false,
     "start_time": "2023-06-26T15:54:31.256655",
     "status": "completed"
    },
    "scrolled": true,
    "tags": []
   },
   "outputs": [
    {
     "data": {
      "text/plain": [
       "tensor([[[0.2309, 0.1799, 0.1607],\n",
       "         [0.5221, 0.5119, 0.3672],\n",
       "         [0.5281, 0.8748, 0.7991],\n",
       "         ...,\n",
       "         [0.1046, 0.4449, 0.6577],\n",
       "         [0.7101, 0.4345, 0.3724],\n",
       "         [0.1011, 0.5292, 0.5035]],\n",
       "\n",
       "        [[0.1051, 0.4970, 0.8582],\n",
       "         [0.9420, 0.7529, 0.9299],\n",
       "         [0.2930, 0.1365, 0.5846],\n",
       "         ...,\n",
       "         [0.6108, 0.3910, 0.1245],\n",
       "         [0.5452, 0.4137, 0.0580],\n",
       "         [0.7173, 0.8530, 0.7590]],\n",
       "\n",
       "        [[0.2829, 0.1151, 0.0534],\n",
       "         [0.7177, 0.6450, 0.6912],\n",
       "         [0.0327, 0.8053, 0.7816],\n",
       "         ...,\n",
       "         [0.1187, 0.1605, 0.9936],\n",
       "         [0.7121, 0.4340, 0.7070],\n",
       "         [0.2313, 0.2784, 0.8374]],\n",
       "\n",
       "        ...,\n",
       "\n",
       "        [[0.3517, 0.3449, 0.9421],\n",
       "         [0.7896, 0.2892, 0.1445],\n",
       "         [0.3373, 0.4801, 0.9351],\n",
       "         ...,\n",
       "         [0.0219, 0.5138, 0.4561],\n",
       "         [0.3532, 0.6633, 0.6425],\n",
       "         [0.8684, 0.2391, 0.7450]],\n",
       "\n",
       "        [[0.5696, 0.1088, 0.2641],\n",
       "         [0.8186, 0.5503, 0.4796],\n",
       "         [0.7167, 0.7751, 0.9185],\n",
       "         ...,\n",
       "         [0.4775, 0.5925, 0.8536],\n",
       "         [0.5035, 0.8290, 0.4076],\n",
       "         [0.1308, 0.4008, 0.7592]],\n",
       "\n",
       "        [[0.8927, 0.1419, 0.4794],\n",
       "         [0.6239, 0.4249, 0.5351],\n",
       "         [0.6271, 0.3978, 0.3622],\n",
       "         ...,\n",
       "         [0.4431, 0.7311, 0.0889],\n",
       "         [0.9277, 0.0635, 0.9134],\n",
       "         [0.8796, 0.2315, 0.5083]]])"
      ]
     },
     "execution_count": 23,
     "metadata": {},
     "output_type": "execute_result"
    }
   ],
   "source": [
    "# Creating Random tensor similar to Image Shape\n",
    "random_image_size_tensor =torch.rand(size=[224,224,3],) # height, width , color channels\n",
    "random_image_size_tensor"
   ]
  },
  {
   "cell_type": "code",
   "execution_count": 24,
   "id": "23133db8",
   "metadata": {
    "execution": {
     "iopub.execute_input": "2023-06-26T15:54:31.318370Z",
     "iopub.status.busy": "2023-06-26T15:54:31.317744Z",
     "iopub.status.idle": "2023-06-26T15:54:31.322781Z",
     "shell.execute_reply": "2023-06-26T15:54:31.322108Z"
    },
    "papermill": {
     "duration": 0.021487,
     "end_time": "2023-06-26T15:54:31.324880",
     "exception": false,
     "start_time": "2023-06-26T15:54:31.303393",
     "status": "completed"
    },
    "tags": []
   },
   "outputs": [
    {
     "data": {
      "text/plain": [
       "3"
      ]
     },
     "execution_count": 24,
     "metadata": {},
     "output_type": "execute_result"
    }
   ],
   "source": [
    "random_image_size_tensor.ndim"
   ]
  },
  {
   "cell_type": "code",
   "execution_count": 25,
   "id": "9f9a1a63",
   "metadata": {
    "execution": {
     "iopub.execute_input": "2023-06-26T15:54:31.354031Z",
     "iopub.status.busy": "2023-06-26T15:54:31.353471Z",
     "iopub.status.idle": "2023-06-26T15:54:31.359334Z",
     "shell.execute_reply": "2023-06-26T15:54:31.358495Z"
    },
    "papermill": {
     "duration": 0.02274,
     "end_time": "2023-06-26T15:54:31.361457",
     "exception": false,
     "start_time": "2023-06-26T15:54:31.338717",
     "status": "completed"
    },
    "tags": []
   },
   "outputs": [
    {
     "data": {
      "text/plain": [
       "torch.Size([224, 224, 3])"
      ]
     },
     "execution_count": 25,
     "metadata": {},
     "output_type": "execute_result"
    }
   ],
   "source": [
    "random_image_size_tensor.shape"
   ]
  },
  {
   "cell_type": "markdown",
   "id": "c801cbd4",
   "metadata": {
    "papermill": {
     "duration": 0.012681,
     "end_time": "2023-06-26T15:54:31.387768",
     "exception": false,
     "start_time": "2023-06-26T15:54:31.375087",
     "status": "completed"
    },
    "tags": []
   },
   "source": [
    "### Zeroes and Ones"
   ]
  },
  {
   "cell_type": "code",
   "execution_count": 26,
   "id": "04d14e23",
   "metadata": {
    "execution": {
     "iopub.execute_input": "2023-06-26T15:54:31.416362Z",
     "iopub.status.busy": "2023-06-26T15:54:31.415656Z",
     "iopub.status.idle": "2023-06-26T15:54:31.423590Z",
     "shell.execute_reply": "2023-06-26T15:54:31.422631Z"
    },
    "papermill": {
     "duration": 0.024711,
     "end_time": "2023-06-26T15:54:31.425640",
     "exception": false,
     "start_time": "2023-06-26T15:54:31.400929",
     "status": "completed"
    },
    "tags": []
   },
   "outputs": [
    {
     "data": {
      "text/plain": [
       "tensor([[0., 0., 0., 0.],\n",
       "        [0., 0., 0., 0.],\n",
       "        [0., 0., 0., 0.]])"
      ]
     },
     "execution_count": 26,
     "metadata": {},
     "output_type": "execute_result"
    }
   ],
   "source": [
    "# Create a tenor of all zeros\n",
    "zeros = torch.zeros(3,4)\n",
    "zeros"
   ]
  },
  {
   "cell_type": "code",
   "execution_count": 27,
   "id": "73819b6e",
   "metadata": {
    "execution": {
     "iopub.execute_input": "2023-06-26T15:54:31.454283Z",
     "iopub.status.busy": "2023-06-26T15:54:31.453668Z",
     "iopub.status.idle": "2023-06-26T15:54:31.462289Z",
     "shell.execute_reply": "2023-06-26T15:54:31.461242Z"
    },
    "papermill": {
     "duration": 0.025348,
     "end_time": "2023-06-26T15:54:31.464411",
     "exception": false,
     "start_time": "2023-06-26T15:54:31.439063",
     "status": "completed"
    },
    "tags": []
   },
   "outputs": [
    {
     "data": {
      "text/plain": [
       "tensor([[0., 0., 0., 0.],\n",
       "        [0., 0., 0., 0.],\n",
       "        [0., 0., 0., 0.]])"
      ]
     },
     "execution_count": 27,
     "metadata": {},
     "output_type": "execute_result"
    }
   ],
   "source": [
    "zeros * torch.rand(3,4)"
   ]
  },
  {
   "cell_type": "code",
   "execution_count": 28,
   "id": "dd8c4ae6",
   "metadata": {
    "execution": {
     "iopub.execute_input": "2023-06-26T15:54:31.493377Z",
     "iopub.status.busy": "2023-06-26T15:54:31.492974Z",
     "iopub.status.idle": "2023-06-26T15:54:31.500912Z",
     "shell.execute_reply": "2023-06-26T15:54:31.499862Z"
    },
    "papermill": {
     "duration": 0.024697,
     "end_time": "2023-06-26T15:54:31.502960",
     "exception": false,
     "start_time": "2023-06-26T15:54:31.478263",
     "status": "completed"
    },
    "tags": []
   },
   "outputs": [
    {
     "data": {
      "text/plain": [
       "tensor([[1, 1, 1, 1],\n",
       "        [1, 1, 1, 1],\n",
       "        [1, 1, 1, 1]])"
      ]
     },
     "execution_count": 28,
     "metadata": {},
     "output_type": "execute_result"
    }
   ],
   "source": [
    "# Create tensor of all ones\n",
    "ones = torch.ones(size=(3,4),dtype=int)\n",
    "ones"
   ]
  },
  {
   "cell_type": "code",
   "execution_count": 29,
   "id": "cf31b8af",
   "metadata": {
    "execution": {
     "iopub.execute_input": "2023-06-26T15:54:31.531844Z",
     "iopub.status.busy": "2023-06-26T15:54:31.531459Z",
     "iopub.status.idle": "2023-06-26T15:54:31.537792Z",
     "shell.execute_reply": "2023-06-26T15:54:31.536626Z"
    },
    "papermill": {
     "duration": 0.023356,
     "end_time": "2023-06-26T15:54:31.540036",
     "exception": false,
     "start_time": "2023-06-26T15:54:31.516680",
     "status": "completed"
    },
    "tags": []
   },
   "outputs": [
    {
     "data": {
      "text/plain": [
       "torch.int64"
      ]
     },
     "execution_count": 29,
     "metadata": {},
     "output_type": "execute_result"
    }
   ],
   "source": [
    "ones.dtype"
   ]
  },
  {
   "cell_type": "markdown",
   "id": "f3131249",
   "metadata": {
    "execution": {
     "iopub.execute_input": "2023-06-25T16:24:23.852212Z",
     "iopub.status.busy": "2023-06-25T16:24:23.851772Z",
     "iopub.status.idle": "2023-06-25T16:24:23.857025Z",
     "shell.execute_reply": "2023-06-25T16:24:23.856069Z",
     "shell.execute_reply.started": "2023-06-25T16:24:23.852179Z"
    },
    "papermill": {
     "duration": 0.013211,
     "end_time": "2023-06-26T15:54:31.566935",
     "exception": false,
     "start_time": "2023-06-26T15:54:31.553724",
     "status": "completed"
    },
    "tags": []
   },
   "source": [
    "### Create a range of tensors and tensors-like\n",
    "\n",
    "ref - https://pytorch.org/docs/stable/generated/torch.arange.html"
   ]
  },
  {
   "cell_type": "code",
   "execution_count": 30,
   "id": "5c8f9cd5",
   "metadata": {
    "execution": {
     "iopub.execute_input": "2023-06-26T15:54:31.595456Z",
     "iopub.status.busy": "2023-06-26T15:54:31.595079Z",
     "iopub.status.idle": "2023-06-26T15:54:31.607529Z",
     "shell.execute_reply": "2023-06-26T15:54:31.606458Z"
    },
    "papermill": {
     "duration": 0.029303,
     "end_time": "2023-06-26T15:54:31.609570",
     "exception": false,
     "start_time": "2023-06-26T15:54:31.580267",
     "status": "completed"
    },
    "tags": []
   },
   "outputs": [
    {
     "data": {
      "text/plain": [
       "tensor([ 1,  2,  3,  4,  5,  6,  7,  8,  9, 10])"
      ]
     },
     "execution_count": 30,
     "metadata": {},
     "output_type": "execute_result"
    }
   ],
   "source": [
    "# Use torch.arange()\n",
    "one_to_ten = torch.arange(start=1, end=11, step=1)\n",
    "one_to_ten"
   ]
  },
  {
   "cell_type": "code",
   "execution_count": 31,
   "id": "d05c9f3a",
   "metadata": {
    "execution": {
     "iopub.execute_input": "2023-06-26T15:54:31.639398Z",
     "iopub.status.busy": "2023-06-26T15:54:31.638572Z",
     "iopub.status.idle": "2023-06-26T15:54:31.645012Z",
     "shell.execute_reply": "2023-06-26T15:54:31.644255Z"
    },
    "papermill": {
     "duration": 0.023015,
     "end_time": "2023-06-26T15:54:31.646791",
     "exception": false,
     "start_time": "2023-06-26T15:54:31.623776",
     "status": "completed"
    },
    "tags": []
   },
   "outputs": [
    {
     "data": {
      "text/plain": [
       "tensor([0, 0, 0, 0, 0, 0, 0, 0, 0, 0])"
      ]
     },
     "execution_count": 31,
     "metadata": {},
     "output_type": "execute_result"
    }
   ],
   "source": [
    "# Create tesnors like\n",
    "ten_zeros = torch.zeros_like(input=one_to_ten)\n",
    "ten_zeros"
   ]
  },
  {
   "cell_type": "markdown",
   "id": "ac889a81",
   "metadata": {
    "papermill": {
     "duration": 0.01328,
     "end_time": "2023-06-26T15:54:31.673951",
     "exception": false,
     "start_time": "2023-06-26T15:54:31.660671",
     "status": "completed"
    },
    "tags": []
   },
   "source": [
    "### Tensor datatypes\n",
    "\n",
    "Tensor datatypes is one of the 3 big errors arrive in Pytorch\n",
    "\n",
    "1. Tensors not right datatype\n",
    "2. Tensors not right shape\n",
    "3. Tensors not no right device\n",
    "\n",
    "ref - https://pytorch.org/docs/stable/tensors.html"
   ]
  },
  {
   "cell_type": "code",
   "execution_count": 32,
   "id": "cbc55ce5",
   "metadata": {
    "execution": {
     "iopub.execute_input": "2023-06-26T15:54:31.702723Z",
     "iopub.status.busy": "2023-06-26T15:54:31.702310Z",
     "iopub.status.idle": "2023-06-26T15:54:31.710769Z",
     "shell.execute_reply": "2023-06-26T15:54:31.709734Z"
    },
    "papermill": {
     "duration": 0.025346,
     "end_time": "2023-06-26T15:54:31.712828",
     "exception": false,
     "start_time": "2023-06-26T15:54:31.687482",
     "status": "completed"
    },
    "tags": []
   },
   "outputs": [
    {
     "data": {
      "text/plain": [
       "tensor([3., 6., 9.])"
      ]
     },
     "execution_count": 32,
     "metadata": {},
     "output_type": "execute_result"
    }
   ],
   "source": [
    "# Float 32 tensor\n",
    "float_32_tensor =torch.tensor([3.0,6.0,9.0],\n",
    "                             dtype=None, # what datatype of tensor (float32 etc)\n",
    "                             device=None, #'cpu or gpu -> cuda'\n",
    "                             requires_grad=False) # whether to track gradient\n",
    "float_32_tensor"
   ]
  },
  {
   "cell_type": "code",
   "execution_count": 33,
   "id": "0efb4ff0",
   "metadata": {
    "execution": {
     "iopub.execute_input": "2023-06-26T15:54:31.743396Z",
     "iopub.status.busy": "2023-06-26T15:54:31.742301Z",
     "iopub.status.idle": "2023-06-26T15:54:31.749255Z",
     "shell.execute_reply": "2023-06-26T15:54:31.748133Z"
    },
    "papermill": {
     "duration": 0.024567,
     "end_time": "2023-06-26T15:54:31.751351",
     "exception": false,
     "start_time": "2023-06-26T15:54:31.726784",
     "status": "completed"
    },
    "tags": []
   },
   "outputs": [
    {
     "data": {
      "text/plain": [
       "torch.float32"
      ]
     },
     "execution_count": 33,
     "metadata": {},
     "output_type": "execute_result"
    }
   ],
   "source": [
    "float_32_tensor.dtype"
   ]
  },
  {
   "cell_type": "code",
   "execution_count": 34,
   "id": "73eea310",
   "metadata": {
    "execution": {
     "iopub.execute_input": "2023-06-26T15:54:31.781307Z",
     "iopub.status.busy": "2023-06-26T15:54:31.780609Z",
     "iopub.status.idle": "2023-06-26T15:54:31.787919Z",
     "shell.execute_reply": "2023-06-26T15:54:31.786980Z"
    },
    "papermill": {
     "duration": 0.025078,
     "end_time": "2023-06-26T15:54:31.790430",
     "exception": false,
     "start_time": "2023-06-26T15:54:31.765352",
     "status": "completed"
    },
    "tags": []
   },
   "outputs": [],
   "source": [
    "float_16_tensor = float_32_tensor.half()\n",
    "# or\n",
    "float_16_tensor = float_32_tensor.type(torch.float) # torch.half"
   ]
  },
  {
   "cell_type": "code",
   "execution_count": 35,
   "id": "a66f5a20",
   "metadata": {
    "execution": {
     "iopub.execute_input": "2023-06-26T15:54:31.820115Z",
     "iopub.status.busy": "2023-06-26T15:54:31.819700Z",
     "iopub.status.idle": "2023-06-26T15:54:31.827552Z",
     "shell.execute_reply": "2023-06-26T15:54:31.826285Z"
    },
    "papermill": {
     "duration": 0.025328,
     "end_time": "2023-06-26T15:54:31.829799",
     "exception": false,
     "start_time": "2023-06-26T15:54:31.804471",
     "status": "completed"
    },
    "tags": []
   },
   "outputs": [
    {
     "data": {
      "text/plain": [
       "tensor([3., 6., 9.])"
      ]
     },
     "execution_count": 35,
     "metadata": {},
     "output_type": "execute_result"
    }
   ],
   "source": [
    "float_16_tensor"
   ]
  },
  {
   "cell_type": "code",
   "execution_count": 36,
   "id": "d2eb5612",
   "metadata": {
    "execution": {
     "iopub.execute_input": "2023-06-26T15:54:31.859584Z",
     "iopub.status.busy": "2023-06-26T15:54:31.859208Z",
     "iopub.status.idle": "2023-06-26T15:54:31.866325Z",
     "shell.execute_reply": "2023-06-26T15:54:31.865121Z"
    },
    "papermill": {
     "duration": 0.024678,
     "end_time": "2023-06-26T15:54:31.868607",
     "exception": false,
     "start_time": "2023-06-26T15:54:31.843929",
     "status": "completed"
    },
    "tags": []
   },
   "outputs": [
    {
     "data": {
      "text/plain": [
       "torch.float32"
      ]
     },
     "execution_count": 36,
     "metadata": {},
     "output_type": "execute_result"
    }
   ],
   "source": [
    "(float_16_tensor * float_32_tensor).dtype"
   ]
  },
  {
   "cell_type": "code",
   "execution_count": 37,
   "id": "8a2563cc",
   "metadata": {
    "execution": {
     "iopub.execute_input": "2023-06-26T15:54:31.900247Z",
     "iopub.status.busy": "2023-06-26T15:54:31.899854Z",
     "iopub.status.idle": "2023-06-26T15:54:31.904765Z",
     "shell.execute_reply": "2023-06-26T15:54:31.903641Z"
    },
    "papermill": {
     "duration": 0.023748,
     "end_time": "2023-06-26T15:54:31.906904",
     "exception": false,
     "start_time": "2023-06-26T15:54:31.883156",
     "status": "completed"
    },
    "tags": []
   },
   "outputs": [],
   "source": [
    "int_32_tensor = torch.tensor([3,4,5],\n",
    "                             dtype=torch.int32)"
   ]
  },
  {
   "cell_type": "code",
   "execution_count": 38,
   "id": "6bbf96fd",
   "metadata": {
    "execution": {
     "iopub.execute_input": "2023-06-26T15:54:31.937765Z",
     "iopub.status.busy": "2023-06-26T15:54:31.937383Z",
     "iopub.status.idle": "2023-06-26T15:54:31.943521Z",
     "shell.execute_reply": "2023-06-26T15:54:31.942635Z"
    },
    "papermill": {
     "duration": 0.02413,
     "end_time": "2023-06-26T15:54:31.945380",
     "exception": false,
     "start_time": "2023-06-26T15:54:31.921250",
     "status": "completed"
    },
    "tags": []
   },
   "outputs": [
    {
     "data": {
      "text/plain": [
       "tensor([ 9., 24., 45.])"
      ]
     },
     "execution_count": 38,
     "metadata": {},
     "output_type": "execute_result"
    }
   ],
   "source": [
    "float_16_tensor * int_32_tensor"
   ]
  },
  {
   "cell_type": "markdown",
   "id": "53d93918",
   "metadata": {
    "papermill": {
     "duration": 0.013988,
     "end_time": "2023-06-26T15:54:31.974253",
     "exception": false,
     "start_time": "2023-06-26T15:54:31.960265",
     "status": "completed"
    },
    "tags": []
   },
   "source": [
    "### Getting info from tensors (tensor attributes)\n",
    "1. tensor not datatype - to check use tensor.dtype\n",
    "2. tensor not right shape - to check use tensor.shape or tensor.size()\n",
    "3. tensor not on right device - to check use tensor.device"
   ]
  },
  {
   "cell_type": "code",
   "execution_count": 39,
   "id": "e1138e88",
   "metadata": {
    "execution": {
     "iopub.execute_input": "2023-06-26T15:54:32.004736Z",
     "iopub.status.busy": "2023-06-26T15:54:32.004155Z",
     "iopub.status.idle": "2023-06-26T15:54:32.010017Z",
     "shell.execute_reply": "2023-06-26T15:54:32.009330Z"
    },
    "papermill": {
     "duration": 0.023575,
     "end_time": "2023-06-26T15:54:32.012099",
     "exception": false,
     "start_time": "2023-06-26T15:54:31.988524",
     "status": "completed"
    },
    "tags": []
   },
   "outputs": [
    {
     "data": {
      "text/plain": [
       "tensor([[0.9602, 0.7831, 0.3534, 0.5151],\n",
       "        [0.4754, 0.4954, 0.8041, 0.9061],\n",
       "        [0.6304, 0.9974, 0.8747, 0.7900]])"
      ]
     },
     "execution_count": 39,
     "metadata": {},
     "output_type": "execute_result"
    }
   ],
   "source": [
    "# Create a tensor\n",
    "some_tensor = torch.rand(3,4)\n",
    "some_tensor"
   ]
  },
  {
   "cell_type": "code",
   "execution_count": 40,
   "id": "880751e7",
   "metadata": {
    "execution": {
     "iopub.execute_input": "2023-06-26T15:54:32.043191Z",
     "iopub.status.busy": "2023-06-26T15:54:32.042582Z",
     "iopub.status.idle": "2023-06-26T15:54:32.047718Z",
     "shell.execute_reply": "2023-06-26T15:54:32.046716Z"
    },
    "papermill": {
     "duration": 0.023248,
     "end_time": "2023-06-26T15:54:32.050009",
     "exception": false,
     "start_time": "2023-06-26T15:54:32.026761",
     "status": "completed"
    },
    "tags": []
   },
   "outputs": [
    {
     "name": "stdout",
     "output_type": "stream",
     "text": [
      "Tensor Datatype : torch.float32 Tensor Shape : torch.Size([3, 4]) Tensor Device : cpu\n"
     ]
    }
   ],
   "source": [
    "print(\"Tensor Datatype :\",some_tensor.dtype,\n",
    "\"Tensor Shape :\",some_tensor.shape,\n",
    "\"Tensor Device :\",some_tensor.device)"
   ]
  },
  {
   "cell_type": "markdown",
   "id": "b26cc7e4",
   "metadata": {
    "execution": {
     "iopub.execute_input": "2023-06-26T15:31:18.518353Z",
     "iopub.status.busy": "2023-06-26T15:31:18.517972Z",
     "iopub.status.idle": "2023-06-26T15:31:18.526666Z",
     "shell.execute_reply": "2023-06-26T15:31:18.525296Z",
     "shell.execute_reply.started": "2023-06-26T15:31:18.518326Z"
    },
    "papermill": {
     "duration": 0.014372,
     "end_time": "2023-06-26T15:54:32.079075",
     "exception": false,
     "start_time": "2023-06-26T15:54:32.064703",
     "status": "completed"
    },
    "tags": []
   },
   "source": [
    "### Manipulating Tensors (Tensor Operations)\n",
    "1. Addition\n",
    "2. Subtraction\n",
    "3. Multiplication (element-wise)\n",
    "4. Division\n",
    "5. Matrix Multiplication"
   ]
  },
  {
   "cell_type": "code",
   "execution_count": 41,
   "id": "421896ea",
   "metadata": {
    "execution": {
     "iopub.execute_input": "2023-06-26T15:54:32.109587Z",
     "iopub.status.busy": "2023-06-26T15:54:32.109202Z",
     "iopub.status.idle": "2023-06-26T15:54:32.118851Z",
     "shell.execute_reply": "2023-06-26T15:54:32.117957Z"
    },
    "papermill": {
     "duration": 0.02765,
     "end_time": "2023-06-26T15:54:32.121090",
     "exception": false,
     "start_time": "2023-06-26T15:54:32.093440",
     "status": "completed"
    },
    "tags": []
   },
   "outputs": [
    {
     "data": {
      "text/plain": [
       "tensor([11, 12, 13])"
      ]
     },
     "execution_count": 41,
     "metadata": {},
     "output_type": "execute_result"
    }
   ],
   "source": [
    "# Create a tensor and add 10\n",
    "tensor = torch.tensor([1,2,3])\n",
    "tensor + 10"
   ]
  },
  {
   "cell_type": "code",
   "execution_count": 42,
   "id": "49386a2c",
   "metadata": {
    "execution": {
     "iopub.execute_input": "2023-06-26T15:54:32.152212Z",
     "iopub.status.busy": "2023-06-26T15:54:32.151254Z",
     "iopub.status.idle": "2023-06-26T15:54:32.160087Z",
     "shell.execute_reply": "2023-06-26T15:54:32.158977Z"
    },
    "papermill": {
     "duration": 0.026627,
     "end_time": "2023-06-26T15:54:32.162205",
     "exception": false,
     "start_time": "2023-06-26T15:54:32.135578",
     "status": "completed"
    },
    "tags": []
   },
   "outputs": [
    {
     "data": {
      "text/plain": [
       "tensor([10, 20, 30])"
      ]
     },
     "execution_count": 42,
     "metadata": {},
     "output_type": "execute_result"
    }
   ],
   "source": [
    "# multiply\n",
    "tensor * 10"
   ]
  },
  {
   "cell_type": "code",
   "execution_count": 43,
   "id": "d512d85a",
   "metadata": {
    "execution": {
     "iopub.execute_input": "2023-06-26T15:54:32.193543Z",
     "iopub.status.busy": "2023-06-26T15:54:32.192650Z",
     "iopub.status.idle": "2023-06-26T15:54:32.201311Z",
     "shell.execute_reply": "2023-06-26T15:54:32.200200Z"
    },
    "papermill": {
     "duration": 0.026657,
     "end_time": "2023-06-26T15:54:32.203555",
     "exception": false,
     "start_time": "2023-06-26T15:54:32.176898",
     "status": "completed"
    },
    "tags": []
   },
   "outputs": [
    {
     "data": {
      "text/plain": [
       "tensor([-9, -8, -7])"
      ]
     },
     "execution_count": 43,
     "metadata": {},
     "output_type": "execute_result"
    }
   ],
   "source": [
    "# subtract 10\n",
    "tensor - 10"
   ]
  },
  {
   "cell_type": "code",
   "execution_count": 44,
   "id": "eabec4e7",
   "metadata": {
    "execution": {
     "iopub.execute_input": "2023-06-26T15:54:32.234721Z",
     "iopub.status.busy": "2023-06-26T15:54:32.234355Z",
     "iopub.status.idle": "2023-06-26T15:54:32.242118Z",
     "shell.execute_reply": "2023-06-26T15:54:32.241178Z"
    },
    "papermill": {
     "duration": 0.025483,
     "end_time": "2023-06-26T15:54:32.244013",
     "exception": false,
     "start_time": "2023-06-26T15:54:32.218530",
     "status": "completed"
    },
    "tags": []
   },
   "outputs": [
    {
     "data": {
      "text/plain": [
       "tensor([10, 20, 30])"
      ]
     },
     "execution_count": 44,
     "metadata": {},
     "output_type": "execute_result"
    }
   ],
   "source": [
    "# multiply using tensor function\n",
    "torch.mul(tensor,10)"
   ]
  },
  {
   "cell_type": "code",
   "execution_count": null,
   "id": "1dd981ec",
   "metadata": {
    "papermill": {
     "duration": 0.014443,
     "end_time": "2023-06-26T15:54:32.273415",
     "exception": false,
     "start_time": "2023-06-26T15:54:32.258972",
     "status": "completed"
    },
    "tags": []
   },
   "outputs": [],
   "source": []
  }
 ],
 "metadata": {
  "kernelspec": {
   "display_name": "Python 3",
   "language": "python",
   "name": "python3"
  },
  "language_info": {
   "codemirror_mode": {
    "name": "ipython",
    "version": 3
   },
   "file_extension": ".py",
   "mimetype": "text/x-python",
   "name": "python",
   "nbconvert_exporter": "python",
   "pygments_lexer": "ipython3",
   "version": "3.10.10"
  },
  "papermill": {
   "default_parameters": {},
   "duration": 16.687464,
   "end_time": "2023-06-26T15:54:33.511160",
   "environment_variables": {},
   "exception": null,
   "input_path": "__notebook__.ipynb",
   "output_path": "__notebook__.ipynb",
   "parameters": {},
   "start_time": "2023-06-26T15:54:16.823696",
   "version": "2.4.0"
  }
 },
 "nbformat": 4,
 "nbformat_minor": 5
}
