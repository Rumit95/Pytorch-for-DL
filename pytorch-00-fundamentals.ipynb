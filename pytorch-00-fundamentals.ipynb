{
 "cells": [
  {
   "cell_type": "code",
   "execution_count": 1,
   "id": "12bc0635",
   "metadata": {
    "_cell_guid": "b1076dfc-b9ad-4769-8c92-a6c4dae69d19",
    "_uuid": "8f2839f25d086af736a60e9eeb907d3b93b6e0e5",
    "execution": {
     "iopub.execute_input": "2023-06-29T05:58:47.033541Z",
     "iopub.status.busy": "2023-06-29T05:58:47.033085Z",
     "iopub.status.idle": "2023-06-29T05:58:50.326947Z",
     "shell.execute_reply": "2023-06-29T05:58:50.326078Z"
    },
    "papermill": {
     "duration": 3.313604,
     "end_time": "2023-06-29T05:58:50.329114",
     "exception": false,
     "start_time": "2023-06-29T05:58:47.015510",
     "status": "completed"
    },
    "tags": []
   },
   "outputs": [
    {
     "data": {
      "text/plain": [
       "'2.0.0'"
      ]
     },
     "execution_count": 1,
     "metadata": {},
     "output_type": "execute_result"
    }
   ],
   "source": [
    "import torch\n",
    "import pandas as pd\n",
    "import numpy as np\n",
    "import matplotlib.pyplot as plt\n",
    "torch.__version__"
   ]
  },
  {
   "cell_type": "markdown",
   "id": "0077c879",
   "metadata": {
    "execution": {
     "iopub.execute_input": "2023-06-25T15:31:29.081596Z",
     "iopub.status.busy": "2023-06-25T15:31:29.081220Z",
     "iopub.status.idle": "2023-06-25T15:31:29.086052Z",
     "shell.execute_reply": "2023-06-25T15:31:29.085102Z",
     "shell.execute_reply.started": "2023-06-25T15:31:29.081561Z"
    },
    "papermill": {
     "duration": 0.01858,
     "end_time": "2023-06-29T05:58:50.363905",
     "exception": false,
     "start_time": "2023-06-29T05:58:50.345325",
     "status": "completed"
    },
    "tags": []
   },
   "source": [
    "## Introduction to Tensor\n",
    "\n",
    "### Creating Tensors\n",
    "\n",
    "PyTorch tensor are create using torch.Tensor()\n",
    "\n",
    "ref - https://pytorch.org/docs/stable/tensors.html"
   ]
  },
  {
   "cell_type": "code",
   "execution_count": 2,
   "id": "04b8a929",
   "metadata": {
    "execution": {
     "iopub.execute_input": "2023-06-29T05:58:50.396836Z",
     "iopub.status.busy": "2023-06-29T05:58:50.396349Z",
     "iopub.status.idle": "2023-06-29T05:58:50.431324Z",
     "shell.execute_reply": "2023-06-29T05:58:50.430361Z"
    },
    "papermill": {
     "duration": 0.054031,
     "end_time": "2023-06-29T05:58:50.433715",
     "exception": false,
     "start_time": "2023-06-29T05:58:50.379684",
     "status": "completed"
    },
    "tags": []
   },
   "outputs": [
    {
     "data": {
      "text/plain": [
       "tensor(7)"
      ]
     },
     "execution_count": 2,
     "metadata": {},
     "output_type": "execute_result"
    }
   ],
   "source": [
    "# Scaler\n",
    "scaler = torch.tensor(7)\n",
    "scaler"
   ]
  },
  {
   "cell_type": "code",
   "execution_count": 3,
   "id": "8d5ba893",
   "metadata": {
    "execution": {
     "iopub.execute_input": "2023-06-29T05:58:50.467252Z",
     "iopub.status.busy": "2023-06-29T05:58:50.466968Z",
     "iopub.status.idle": "2023-06-29T05:58:50.472521Z",
     "shell.execute_reply": "2023-06-29T05:58:50.471646Z"
    },
    "papermill": {
     "duration": 0.024911,
     "end_time": "2023-06-29T05:58:50.474469",
     "exception": false,
     "start_time": "2023-06-29T05:58:50.449558",
     "status": "completed"
    },
    "tags": []
   },
   "outputs": [
    {
     "data": {
      "text/plain": [
       "0"
      ]
     },
     "execution_count": 3,
     "metadata": {},
     "output_type": "execute_result"
    }
   ],
   "source": [
    "scaler.ndim"
   ]
  },
  {
   "cell_type": "code",
   "execution_count": 4,
   "id": "4a2d650e",
   "metadata": {
    "execution": {
     "iopub.execute_input": "2023-06-29T05:58:50.508051Z",
     "iopub.status.busy": "2023-06-29T05:58:50.507277Z",
     "iopub.status.idle": "2023-06-29T05:58:50.513207Z",
     "shell.execute_reply": "2023-06-29T05:58:50.512318Z"
    },
    "papermill": {
     "duration": 0.024726,
     "end_time": "2023-06-29T05:58:50.515137",
     "exception": false,
     "start_time": "2023-06-29T05:58:50.490411",
     "status": "completed"
    },
    "tags": []
   },
   "outputs": [
    {
     "data": {
      "text/plain": [
       "7"
      ]
     },
     "execution_count": 4,
     "metadata": {},
     "output_type": "execute_result"
    }
   ],
   "source": [
    "# Get Tensor back ans int\n",
    "scaler.item()"
   ]
  },
  {
   "cell_type": "code",
   "execution_count": 5,
   "id": "44076b93",
   "metadata": {
    "execution": {
     "iopub.execute_input": "2023-06-29T05:58:50.549042Z",
     "iopub.status.busy": "2023-06-29T05:58:50.548223Z",
     "iopub.status.idle": "2023-06-29T05:58:50.555761Z",
     "shell.execute_reply": "2023-06-29T05:58:50.554865Z"
    },
    "papermill": {
     "duration": 0.026394,
     "end_time": "2023-06-29T05:58:50.557700",
     "exception": false,
     "start_time": "2023-06-29T05:58:50.531306",
     "status": "completed"
    },
    "tags": []
   },
   "outputs": [
    {
     "data": {
      "text/plain": [
       "tensor([7, 7])"
      ]
     },
     "execution_count": 5,
     "metadata": {},
     "output_type": "execute_result"
    }
   ],
   "source": [
    "# Vector\n",
    "vector = torch.tensor([7,7])\n",
    "vector"
   ]
  },
  {
   "cell_type": "code",
   "execution_count": 6,
   "id": "122f5505",
   "metadata": {
    "execution": {
     "iopub.execute_input": "2023-06-29T05:58:50.591796Z",
     "iopub.status.busy": "2023-06-29T05:58:50.590940Z",
     "iopub.status.idle": "2023-06-29T05:58:50.596908Z",
     "shell.execute_reply": "2023-06-29T05:58:50.596001Z"
    },
    "papermill": {
     "duration": 0.024957,
     "end_time": "2023-06-29T05:58:50.598811",
     "exception": false,
     "start_time": "2023-06-29T05:58:50.573854",
     "status": "completed"
    },
    "tags": []
   },
   "outputs": [
    {
     "data": {
      "text/plain": [
       "1"
      ]
     },
     "execution_count": 6,
     "metadata": {},
     "output_type": "execute_result"
    }
   ],
   "source": [
    "vector.ndim"
   ]
  },
  {
   "cell_type": "code",
   "execution_count": 7,
   "id": "05f372d6",
   "metadata": {
    "execution": {
     "iopub.execute_input": "2023-06-29T05:58:50.633196Z",
     "iopub.status.busy": "2023-06-29T05:58:50.632406Z",
     "iopub.status.idle": "2023-06-29T05:58:50.638165Z",
     "shell.execute_reply": "2023-06-29T05:58:50.637261Z"
    },
    "papermill": {
     "duration": 0.024816,
     "end_time": "2023-06-29T05:58:50.640057",
     "exception": false,
     "start_time": "2023-06-29T05:58:50.615241",
     "status": "completed"
    },
    "tags": []
   },
   "outputs": [
    {
     "data": {
      "text/plain": [
       "torch.Size([2])"
      ]
     },
     "execution_count": 7,
     "metadata": {},
     "output_type": "execute_result"
    }
   ],
   "source": [
    "vector.shape"
   ]
  },
  {
   "cell_type": "code",
   "execution_count": 8,
   "id": "dba20090",
   "metadata": {
    "execution": {
     "iopub.execute_input": "2023-06-29T05:58:50.674333Z",
     "iopub.status.busy": "2023-06-29T05:58:50.673613Z",
     "iopub.status.idle": "2023-06-29T05:58:50.681792Z",
     "shell.execute_reply": "2023-06-29T05:58:50.680923Z"
    },
    "papermill": {
     "duration": 0.027307,
     "end_time": "2023-06-29T05:58:50.683701",
     "exception": false,
     "start_time": "2023-06-29T05:58:50.656394",
     "status": "completed"
    },
    "tags": []
   },
   "outputs": [
    {
     "data": {
      "text/plain": [
       "tensor([[7, 8],\n",
       "        [6, 5]])"
      ]
     },
     "execution_count": 8,
     "metadata": {},
     "output_type": "execute_result"
    }
   ],
   "source": [
    "# Matrix\n",
    "MATRIX = torch.tensor([[7,8],\n",
    "                      [6,5]])\n",
    "MATRIX"
   ]
  },
  {
   "cell_type": "code",
   "execution_count": 9,
   "id": "d1b8c839",
   "metadata": {
    "execution": {
     "iopub.execute_input": "2023-06-29T05:58:50.717829Z",
     "iopub.status.busy": "2023-06-29T05:58:50.717571Z",
     "iopub.status.idle": "2023-06-29T05:58:50.722811Z",
     "shell.execute_reply": "2023-06-29T05:58:50.721927Z"
    },
    "papermill": {
     "duration": 0.024577,
     "end_time": "2023-06-29T05:58:50.724807",
     "exception": false,
     "start_time": "2023-06-29T05:58:50.700230",
     "status": "completed"
    },
    "tags": []
   },
   "outputs": [
    {
     "data": {
      "text/plain": [
       "2"
      ]
     },
     "execution_count": 9,
     "metadata": {},
     "output_type": "execute_result"
    }
   ],
   "source": [
    "MATRIX.ndim"
   ]
  },
  {
   "cell_type": "code",
   "execution_count": 10,
   "id": "7898af40",
   "metadata": {
    "execution": {
     "iopub.execute_input": "2023-06-29T05:58:50.759395Z",
     "iopub.status.busy": "2023-06-29T05:58:50.759138Z",
     "iopub.status.idle": "2023-06-29T05:58:50.764873Z",
     "shell.execute_reply": "2023-06-29T05:58:50.764074Z"
    },
    "papermill": {
     "duration": 0.025028,
     "end_time": "2023-06-29T05:58:50.766806",
     "exception": false,
     "start_time": "2023-06-29T05:58:50.741778",
     "status": "completed"
    },
    "tags": []
   },
   "outputs": [
    {
     "data": {
      "text/plain": [
       "tensor([7, 8])"
      ]
     },
     "execution_count": 10,
     "metadata": {},
     "output_type": "execute_result"
    }
   ],
   "source": [
    "MATRIX[0]"
   ]
  },
  {
   "cell_type": "code",
   "execution_count": 11,
   "id": "9a85ce86",
   "metadata": {
    "execution": {
     "iopub.execute_input": "2023-06-29T05:58:50.801565Z",
     "iopub.status.busy": "2023-06-29T05:58:50.801308Z",
     "iopub.status.idle": "2023-06-29T05:58:50.807120Z",
     "shell.execute_reply": "2023-06-29T05:58:50.806294Z"
    },
    "papermill": {
     "duration": 0.025321,
     "end_time": "2023-06-29T05:58:50.809070",
     "exception": false,
     "start_time": "2023-06-29T05:58:50.783749",
     "status": "completed"
    },
    "tags": []
   },
   "outputs": [
    {
     "data": {
      "text/plain": [
       "tensor([6, 5])"
      ]
     },
     "execution_count": 11,
     "metadata": {},
     "output_type": "execute_result"
    }
   ],
   "source": [
    "MATRIX[1]"
   ]
  },
  {
   "cell_type": "code",
   "execution_count": 12,
   "id": "37c65794",
   "metadata": {
    "execution": {
     "iopub.execute_input": "2023-06-29T05:58:50.845219Z",
     "iopub.status.busy": "2023-06-29T05:58:50.844583Z",
     "iopub.status.idle": "2023-06-29T05:58:50.849911Z",
     "shell.execute_reply": "2023-06-29T05:58:50.849072Z"
    },
    "papermill": {
     "duration": 0.025289,
     "end_time": "2023-06-29T05:58:50.851920",
     "exception": false,
     "start_time": "2023-06-29T05:58:50.826631",
     "status": "completed"
    },
    "tags": []
   },
   "outputs": [
    {
     "data": {
      "text/plain": [
       "torch.Size([2, 2])"
      ]
     },
     "execution_count": 12,
     "metadata": {},
     "output_type": "execute_result"
    }
   ],
   "source": [
    "MATRIX.shape"
   ]
  },
  {
   "cell_type": "code",
   "execution_count": 13,
   "id": "bbee15e9",
   "metadata": {
    "execution": {
     "iopub.execute_input": "2023-06-29T05:58:50.887481Z",
     "iopub.status.busy": "2023-06-29T05:58:50.886699Z",
     "iopub.status.idle": "2023-06-29T05:58:50.893617Z",
     "shell.execute_reply": "2023-06-29T05:58:50.892709Z"
    },
    "papermill": {
     "duration": 0.026635,
     "end_time": "2023-06-29T05:58:50.895495",
     "exception": false,
     "start_time": "2023-06-29T05:58:50.868860",
     "status": "completed"
    },
    "tags": []
   },
   "outputs": [
    {
     "data": {
      "text/plain": [
       "tensor([[[1, 2, 3],\n",
       "         [5, 6, 6],\n",
       "         [7, 8, 9]]])"
      ]
     },
     "execution_count": 13,
     "metadata": {},
     "output_type": "execute_result"
    }
   ],
   "source": [
    "# Tensor\n",
    "TENSOR = torch.tensor([[[1,2,3],\n",
    "                      [5,6,6],\n",
    "                      [7,8,9]]])\n",
    "TENSOR"
   ]
  },
  {
   "cell_type": "code",
   "execution_count": 14,
   "id": "7a2d53a9",
   "metadata": {
    "execution": {
     "iopub.execute_input": "2023-06-29T05:58:50.931162Z",
     "iopub.status.busy": "2023-06-29T05:58:50.930686Z",
     "iopub.status.idle": "2023-06-29T05:58:50.935868Z",
     "shell.execute_reply": "2023-06-29T05:58:50.935071Z"
    },
    "papermill": {
     "duration": 0.024992,
     "end_time": "2023-06-29T05:58:50.937764",
     "exception": false,
     "start_time": "2023-06-29T05:58:50.912772",
     "status": "completed"
    },
    "tags": []
   },
   "outputs": [
    {
     "data": {
      "text/plain": [
       "3"
      ]
     },
     "execution_count": 14,
     "metadata": {},
     "output_type": "execute_result"
    }
   ],
   "source": [
    "TENSOR.ndim"
   ]
  },
  {
   "cell_type": "code",
   "execution_count": 15,
   "id": "754495d0",
   "metadata": {
    "execution": {
     "iopub.execute_input": "2023-06-29T05:58:50.973194Z",
     "iopub.status.busy": "2023-06-29T05:58:50.972921Z",
     "iopub.status.idle": "2023-06-29T05:58:50.978060Z",
     "shell.execute_reply": "2023-06-29T05:58:50.977255Z"
    },
    "papermill": {
     "duration": 0.02497,
     "end_time": "2023-06-29T05:58:50.979904",
     "exception": false,
     "start_time": "2023-06-29T05:58:50.954934",
     "status": "completed"
    },
    "tags": []
   },
   "outputs": [
    {
     "data": {
      "text/plain": [
       "torch.Size([1, 3, 3])"
      ]
     },
     "execution_count": 15,
     "metadata": {},
     "output_type": "execute_result"
    }
   ],
   "source": [
    "TENSOR.shape"
   ]
  },
  {
   "cell_type": "code",
   "execution_count": 16,
   "id": "3614bf2b",
   "metadata": {
    "execution": {
     "iopub.execute_input": "2023-06-29T05:58:51.016025Z",
     "iopub.status.busy": "2023-06-29T05:58:51.015307Z",
     "iopub.status.idle": "2023-06-29T05:58:51.021429Z",
     "shell.execute_reply": "2023-06-29T05:58:51.020434Z"
    },
    "papermill": {
     "duration": 0.026079,
     "end_time": "2023-06-29T05:58:51.023277",
     "exception": false,
     "start_time": "2023-06-29T05:58:50.997198",
     "status": "completed"
    },
    "tags": []
   },
   "outputs": [
    {
     "data": {
      "text/plain": [
       "tensor([[1, 2, 3],\n",
       "        [5, 6, 6],\n",
       "        [7, 8, 9]])"
      ]
     },
     "execution_count": 16,
     "metadata": {},
     "output_type": "execute_result"
    }
   ],
   "source": [
    "TENSOR[0]"
   ]
  },
  {
   "cell_type": "code",
   "execution_count": 17,
   "id": "1333401d",
   "metadata": {
    "execution": {
     "iopub.execute_input": "2023-06-29T05:58:51.059356Z",
     "iopub.status.busy": "2023-06-29T05:58:51.058655Z",
     "iopub.status.idle": "2023-06-29T05:58:51.066727Z",
     "shell.execute_reply": "2023-06-29T05:58:51.065781Z"
    },
    "papermill": {
     "duration": 0.028043,
     "end_time": "2023-06-29T05:58:51.068665",
     "exception": false,
     "start_time": "2023-06-29T05:58:51.040622",
     "status": "completed"
    },
    "tags": []
   },
   "outputs": [
    {
     "data": {
      "text/plain": [
       "tensor([[[1, 2, 3],\n",
       "         [4, 5, 6],\n",
       "         [7, 8, 9]],\n",
       "\n",
       "        [[1, 2, 3],\n",
       "         [4, 5, 6],\n",
       "         [7, 8, 9]]])"
      ]
     },
     "execution_count": 17,
     "metadata": {},
     "output_type": "execute_result"
    }
   ],
   "source": [
    "# Practice\n",
    "TENSOR1 = torch.tensor([[[1,2,3],\n",
    "                      [4,5,6],\n",
    "                      [7,8,9]],\n",
    "                     [[1,2,3],\n",
    "                      [4,5,6],\n",
    "                      [7,8,9]]])\n",
    "TENSOR1"
   ]
  },
  {
   "cell_type": "code",
   "execution_count": 18,
   "id": "2ad6748d",
   "metadata": {
    "execution": {
     "iopub.execute_input": "2023-06-29T05:58:51.105107Z",
     "iopub.status.busy": "2023-06-29T05:58:51.104832Z",
     "iopub.status.idle": "2023-06-29T05:58:51.110103Z",
     "shell.execute_reply": "2023-06-29T05:58:51.109208Z"
    },
    "papermill": {
     "duration": 0.025856,
     "end_time": "2023-06-29T05:58:51.112175",
     "exception": false,
     "start_time": "2023-06-29T05:58:51.086319",
     "status": "completed"
    },
    "tags": []
   },
   "outputs": [
    {
     "data": {
      "text/plain": [
       "3"
      ]
     },
     "execution_count": 18,
     "metadata": {},
     "output_type": "execute_result"
    }
   ],
   "source": [
    "TENSOR1.ndim"
   ]
  },
  {
   "cell_type": "code",
   "execution_count": 19,
   "id": "eea99a73",
   "metadata": {
    "execution": {
     "iopub.execute_input": "2023-06-29T05:58:51.148845Z",
     "iopub.status.busy": "2023-06-29T05:58:51.148602Z",
     "iopub.status.idle": "2023-06-29T05:58:51.153854Z",
     "shell.execute_reply": "2023-06-29T05:58:51.153021Z"
    },
    "papermill": {
     "duration": 0.02559,
     "end_time": "2023-06-29T05:58:51.155707",
     "exception": false,
     "start_time": "2023-06-29T05:58:51.130117",
     "status": "completed"
    },
    "tags": []
   },
   "outputs": [
    {
     "data": {
      "text/plain": [
       "torch.Size([2, 3, 3])"
      ]
     },
     "execution_count": 19,
     "metadata": {},
     "output_type": "execute_result"
    }
   ],
   "source": [
    "TENSOR1.shape"
   ]
  },
  {
   "cell_type": "markdown",
   "id": "e6881e76",
   "metadata": {
    "execution": {
     "iopub.execute_input": "2023-06-25T15:53:52.605155Z",
     "iopub.status.busy": "2023-06-25T15:53:52.604740Z",
     "iopub.status.idle": "2023-06-25T15:53:52.609815Z",
     "shell.execute_reply": "2023-06-25T15:53:52.608929Z",
     "shell.execute_reply.started": "2023-06-25T15:53:52.605124Z"
    },
    "papermill": {
     "duration": 0.019006,
     "end_time": "2023-06-29T05:58:51.192626",
     "exception": false,
     "start_time": "2023-06-29T05:58:51.173620",
     "status": "completed"
    },
    "tags": []
   },
   "source": [
    "### Random Tensor\n",
    "\n",
    "Why Random Nos. ?\n",
    "\n",
    "'Start with Random Numbers -> Look at Data -> Update Random Numbers -> Look at Data -> Update Random Numbers'\n",
    "\n",
    "ref - https://pytorch.org/docs/stable/generated/torch.rand.html"
   ]
  },
  {
   "cell_type": "code",
   "execution_count": 20,
   "id": "17156b16",
   "metadata": {
    "execution": {
     "iopub.execute_input": "2023-06-29T05:58:51.229791Z",
     "iopub.status.busy": "2023-06-29T05:58:51.229491Z",
     "iopub.status.idle": "2023-06-29T05:58:51.277276Z",
     "shell.execute_reply": "2023-06-29T05:58:51.276351Z"
    },
    "papermill": {
     "duration": 0.068561,
     "end_time": "2023-06-29T05:58:51.279251",
     "exception": false,
     "start_time": "2023-06-29T05:58:51.210690",
     "status": "completed"
    },
    "tags": []
   },
   "outputs": [
    {
     "data": {
      "text/plain": [
       "tensor([[[0.2768, 0.7105, 0.8914],\n",
       "         [0.5380, 0.5995, 0.7077],\n",
       "         [0.4382, 0.0797, 0.9764],\n",
       "         [0.7063, 0.3000, 0.0662]],\n",
       "\n",
       "        [[0.0866, 0.6209, 0.8812],\n",
       "         [0.0892, 0.4064, 0.2374],\n",
       "         [0.6942, 0.9726, 0.9546],\n",
       "         [0.6470, 0.5449, 0.3832]],\n",
       "\n",
       "        [[0.5785, 0.8335, 0.3195],\n",
       "         [0.8166, 0.7389, 0.3023],\n",
       "         [0.3872, 0.6359, 0.9798],\n",
       "         [0.5567, 0.5065, 0.5417]]])"
      ]
     },
     "execution_count": 20,
     "metadata": {},
     "output_type": "execute_result"
    }
   ],
   "source": [
    "# Create a random tensor of size(3,4)\n",
    "random_tensor = torch.rand(3,4,3)\n",
    "random_tensor"
   ]
  },
  {
   "cell_type": "code",
   "execution_count": 21,
   "id": "0cd6587c",
   "metadata": {
    "execution": {
     "iopub.execute_input": "2023-06-29T05:58:51.316802Z",
     "iopub.status.busy": "2023-06-29T05:58:51.316053Z",
     "iopub.status.idle": "2023-06-29T05:58:51.322028Z",
     "shell.execute_reply": "2023-06-29T05:58:51.321075Z"
    },
    "papermill": {
     "duration": 0.026617,
     "end_time": "2023-06-29T05:58:51.323903",
     "exception": false,
     "start_time": "2023-06-29T05:58:51.297286",
     "status": "completed"
    },
    "tags": []
   },
   "outputs": [
    {
     "data": {
      "text/plain": [
       "3"
      ]
     },
     "execution_count": 21,
     "metadata": {},
     "output_type": "execute_result"
    }
   ],
   "source": [
    "random_tensor.ndim"
   ]
  },
  {
   "cell_type": "code",
   "execution_count": 22,
   "id": "33c40bf2",
   "metadata": {
    "execution": {
     "iopub.execute_input": "2023-06-29T05:58:51.365519Z",
     "iopub.status.busy": "2023-06-29T05:58:51.365252Z",
     "iopub.status.idle": "2023-06-29T05:58:51.370868Z",
     "shell.execute_reply": "2023-06-29T05:58:51.369893Z"
    },
    "papermill": {
     "duration": 0.030683,
     "end_time": "2023-06-29T05:58:51.372745",
     "exception": false,
     "start_time": "2023-06-29T05:58:51.342062",
     "status": "completed"
    },
    "tags": []
   },
   "outputs": [
    {
     "data": {
      "text/plain": [
       "torch.Size([3, 4, 3])"
      ]
     },
     "execution_count": 22,
     "metadata": {},
     "output_type": "execute_result"
    }
   ],
   "source": [
    "random_tensor.shape"
   ]
  },
  {
   "cell_type": "code",
   "execution_count": 23,
   "id": "4f49f6fd",
   "metadata": {
    "execution": {
     "iopub.execute_input": "2023-06-29T05:58:51.410209Z",
     "iopub.status.busy": "2023-06-29T05:58:51.409918Z",
     "iopub.status.idle": "2023-06-29T05:58:51.422174Z",
     "shell.execute_reply": "2023-06-29T05:58:51.421281Z"
    },
    "papermill": {
     "duration": 0.032954,
     "end_time": "2023-06-29T05:58:51.424003",
     "exception": false,
     "start_time": "2023-06-29T05:58:51.391049",
     "status": "completed"
    },
    "scrolled": true,
    "tags": []
   },
   "outputs": [
    {
     "data": {
      "text/plain": [
       "tensor([[[0.1698, 0.9091, 0.2561],\n",
       "         [0.2594, 0.6232, 0.5521],\n",
       "         [0.1136, 0.2022, 0.5239],\n",
       "         ...,\n",
       "         [0.3373, 0.8335, 0.3206],\n",
       "         [0.2751, 0.7516, 0.1994],\n",
       "         [0.4245, 0.9251, 0.8757]],\n",
       "\n",
       "        [[0.9794, 0.5463, 0.6873],\n",
       "         [0.7371, 0.3907, 0.2480],\n",
       "         [0.4326, 0.5141, 0.5842],\n",
       "         ...,\n",
       "         [0.9191, 0.9088, 0.7765],\n",
       "         [0.2498, 0.6190, 0.1731],\n",
       "         [0.3192, 0.2207, 0.6341]],\n",
       "\n",
       "        [[0.7915, 0.0609, 0.7821],\n",
       "         [0.4499, 0.4564, 0.6530],\n",
       "         [0.3367, 0.4945, 0.2738],\n",
       "         ...,\n",
       "         [0.0994, 0.0057, 0.4040],\n",
       "         [0.4277, 0.0974, 0.8506],\n",
       "         [0.8557, 0.2306, 0.7438]],\n",
       "\n",
       "        ...,\n",
       "\n",
       "        [[0.1688, 0.3634, 0.4174],\n",
       "         [0.2643, 0.9297, 0.6189],\n",
       "         [0.9621, 0.4887, 0.2773],\n",
       "         ...,\n",
       "         [0.5964, 0.0790, 0.9837],\n",
       "         [0.1499, 0.9757, 0.8759],\n",
       "         [0.9759, 0.3360, 0.7481]],\n",
       "\n",
       "        [[0.4846, 0.9978, 0.7599],\n",
       "         [0.0546, 0.9041, 0.1807],\n",
       "         [0.3113, 0.7918, 0.1771],\n",
       "         ...,\n",
       "         [0.6624, 0.0408, 0.9873],\n",
       "         [0.5591, 0.9506, 0.1978],\n",
       "         [0.5641, 0.3081, 0.5902]],\n",
       "\n",
       "        [[0.1811, 0.0286, 0.8472],\n",
       "         [0.6751, 0.5595, 0.0172],\n",
       "         [0.8928, 0.0406, 0.6503],\n",
       "         ...,\n",
       "         [0.4740, 0.6432, 0.1152],\n",
       "         [0.7676, 0.5899, 0.2430],\n",
       "         [0.8712, 0.8589, 0.6786]]])"
      ]
     },
     "execution_count": 23,
     "metadata": {},
     "output_type": "execute_result"
    }
   ],
   "source": [
    "# Creating Random tensor similar to Image Shape\n",
    "random_image_size_tensor =torch.rand(size=[224,224,3],) # height, width , color channels\n",
    "random_image_size_tensor"
   ]
  },
  {
   "cell_type": "code",
   "execution_count": 24,
   "id": "410d746e",
   "metadata": {
    "execution": {
     "iopub.execute_input": "2023-06-29T05:58:51.463319Z",
     "iopub.status.busy": "2023-06-29T05:58:51.461846Z",
     "iopub.status.idle": "2023-06-29T05:58:51.467832Z",
     "shell.execute_reply": "2023-06-29T05:58:51.466945Z"
    },
    "papermill": {
     "duration": 0.027022,
     "end_time": "2023-06-29T05:58:51.469800",
     "exception": false,
     "start_time": "2023-06-29T05:58:51.442778",
     "status": "completed"
    },
    "tags": []
   },
   "outputs": [
    {
     "data": {
      "text/plain": [
       "3"
      ]
     },
     "execution_count": 24,
     "metadata": {},
     "output_type": "execute_result"
    }
   ],
   "source": [
    "random_image_size_tensor.ndim"
   ]
  },
  {
   "cell_type": "code",
   "execution_count": 25,
   "id": "9fa1d133",
   "metadata": {
    "execution": {
     "iopub.execute_input": "2023-06-29T05:58:51.508418Z",
     "iopub.status.busy": "2023-06-29T05:58:51.507639Z",
     "iopub.status.idle": "2023-06-29T05:58:51.513553Z",
     "shell.execute_reply": "2023-06-29T05:58:51.512621Z"
    },
    "papermill": {
     "duration": 0.027164,
     "end_time": "2023-06-29T05:58:51.515440",
     "exception": false,
     "start_time": "2023-06-29T05:58:51.488276",
     "status": "completed"
    },
    "tags": []
   },
   "outputs": [
    {
     "data": {
      "text/plain": [
       "torch.Size([224, 224, 3])"
      ]
     },
     "execution_count": 25,
     "metadata": {},
     "output_type": "execute_result"
    }
   ],
   "source": [
    "random_image_size_tensor.shape"
   ]
  },
  {
   "cell_type": "markdown",
   "id": "daeaab38",
   "metadata": {
    "papermill": {
     "duration": 0.018498,
     "end_time": "2023-06-29T05:58:51.552615",
     "exception": false,
     "start_time": "2023-06-29T05:58:51.534117",
     "status": "completed"
    },
    "tags": []
   },
   "source": [
    "### Zeroes and Ones"
   ]
  },
  {
   "cell_type": "code",
   "execution_count": 26,
   "id": "5cc261a5",
   "metadata": {
    "execution": {
     "iopub.execute_input": "2023-06-29T05:58:51.591328Z",
     "iopub.status.busy": "2023-06-29T05:58:51.590577Z",
     "iopub.status.idle": "2023-06-29T05:58:51.598927Z",
     "shell.execute_reply": "2023-06-29T05:58:51.597994Z"
    },
    "papermill": {
     "duration": 0.029542,
     "end_time": "2023-06-29T05:58:51.600902",
     "exception": false,
     "start_time": "2023-06-29T05:58:51.571360",
     "status": "completed"
    },
    "tags": []
   },
   "outputs": [
    {
     "data": {
      "text/plain": [
       "tensor([[0., 0., 0., 0.],\n",
       "        [0., 0., 0., 0.],\n",
       "        [0., 0., 0., 0.]])"
      ]
     },
     "execution_count": 26,
     "metadata": {},
     "output_type": "execute_result"
    }
   ],
   "source": [
    "# Create a tenor of all zeros\n",
    "zeros = torch.zeros(3,4)\n",
    "zeros"
   ]
  },
  {
   "cell_type": "code",
   "execution_count": 27,
   "id": "b0a5ac4f",
   "metadata": {
    "execution": {
     "iopub.execute_input": "2023-06-29T05:58:51.639765Z",
     "iopub.status.busy": "2023-06-29T05:58:51.638977Z",
     "iopub.status.idle": "2023-06-29T05:58:51.645374Z",
     "shell.execute_reply": "2023-06-29T05:58:51.644473Z"
    },
    "papermill": {
     "duration": 0.02769,
     "end_time": "2023-06-29T05:58:51.647276",
     "exception": false,
     "start_time": "2023-06-29T05:58:51.619586",
     "status": "completed"
    },
    "tags": []
   },
   "outputs": [
    {
     "data": {
      "text/plain": [
       "tensor([[0., 0., 0., 0.],\n",
       "        [0., 0., 0., 0.],\n",
       "        [0., 0., 0., 0.]])"
      ]
     },
     "execution_count": 27,
     "metadata": {},
     "output_type": "execute_result"
    }
   ],
   "source": [
    "zeros * torch.rand(3,4)"
   ]
  },
  {
   "cell_type": "code",
   "execution_count": 28,
   "id": "4c701148",
   "metadata": {
    "execution": {
     "iopub.execute_input": "2023-06-29T05:58:51.686264Z",
     "iopub.status.busy": "2023-06-29T05:58:51.685991Z",
     "iopub.status.idle": "2023-06-29T05:58:51.692849Z",
     "shell.execute_reply": "2023-06-29T05:58:51.691978Z"
    },
    "papermill": {
     "duration": 0.028362,
     "end_time": "2023-06-29T05:58:51.694771",
     "exception": false,
     "start_time": "2023-06-29T05:58:51.666409",
     "status": "completed"
    },
    "tags": []
   },
   "outputs": [
    {
     "data": {
      "text/plain": [
       "tensor([[1, 1, 1, 1],\n",
       "        [1, 1, 1, 1],\n",
       "        [1, 1, 1, 1]])"
      ]
     },
     "execution_count": 28,
     "metadata": {},
     "output_type": "execute_result"
    }
   ],
   "source": [
    "# Create tensor of all ones\n",
    "ones = torch.ones(size=(3,4),dtype=int)\n",
    "ones"
   ]
  },
  {
   "cell_type": "code",
   "execution_count": 29,
   "id": "0e769e5e",
   "metadata": {
    "execution": {
     "iopub.execute_input": "2023-06-29T05:58:51.735808Z",
     "iopub.status.busy": "2023-06-29T05:58:51.734965Z",
     "iopub.status.idle": "2023-06-29T05:58:51.741139Z",
     "shell.execute_reply": "2023-06-29T05:58:51.740060Z"
    },
    "papermill": {
     "duration": 0.029087,
     "end_time": "2023-06-29T05:58:51.743067",
     "exception": false,
     "start_time": "2023-06-29T05:58:51.713980",
     "status": "completed"
    },
    "tags": []
   },
   "outputs": [
    {
     "data": {
      "text/plain": [
       "torch.int64"
      ]
     },
     "execution_count": 29,
     "metadata": {},
     "output_type": "execute_result"
    }
   ],
   "source": [
    "ones.dtype"
   ]
  },
  {
   "cell_type": "markdown",
   "id": "449b70a5",
   "metadata": {
    "execution": {
     "iopub.execute_input": "2023-06-25T16:24:23.852212Z",
     "iopub.status.busy": "2023-06-25T16:24:23.851772Z",
     "iopub.status.idle": "2023-06-25T16:24:23.857025Z",
     "shell.execute_reply": "2023-06-25T16:24:23.856069Z",
     "shell.execute_reply.started": "2023-06-25T16:24:23.852179Z"
    },
    "papermill": {
     "duration": 0.019157,
     "end_time": "2023-06-29T05:58:51.781527",
     "exception": false,
     "start_time": "2023-06-29T05:58:51.762370",
     "status": "completed"
    },
    "tags": []
   },
   "source": [
    "### Create a range of tensors and tensors-like\n",
    "\n",
    "ref - https://pytorch.org/docs/stable/generated/torch.arange.html"
   ]
  },
  {
   "cell_type": "code",
   "execution_count": 30,
   "id": "6511d8ac",
   "metadata": {
    "execution": {
     "iopub.execute_input": "2023-06-29T05:58:51.821647Z",
     "iopub.status.busy": "2023-06-29T05:58:51.820860Z",
     "iopub.status.idle": "2023-06-29T05:58:51.829822Z",
     "shell.execute_reply": "2023-06-29T05:58:51.828913Z"
    },
    "papermill": {
     "duration": 0.031037,
     "end_time": "2023-06-29T05:58:51.831838",
     "exception": false,
     "start_time": "2023-06-29T05:58:51.800801",
     "status": "completed"
    },
    "tags": []
   },
   "outputs": [
    {
     "data": {
      "text/plain": [
       "tensor([ 1,  2,  3,  4,  5,  6,  7,  8,  9, 10])"
      ]
     },
     "execution_count": 30,
     "metadata": {},
     "output_type": "execute_result"
    }
   ],
   "source": [
    "# Use torch.arange()\n",
    "one_to_ten = torch.arange(start=1, end=11, step=1)\n",
    "one_to_ten"
   ]
  },
  {
   "cell_type": "code",
   "execution_count": 31,
   "id": "6fd7919e",
   "metadata": {
    "execution": {
     "iopub.execute_input": "2023-06-29T05:58:51.871832Z",
     "iopub.status.busy": "2023-06-29T05:58:51.870986Z",
     "iopub.status.idle": "2023-06-29T05:58:51.877326Z",
     "shell.execute_reply": "2023-06-29T05:58:51.876464Z"
    },
    "papermill": {
     "duration": 0.02821,
     "end_time": "2023-06-29T05:58:51.879248",
     "exception": false,
     "start_time": "2023-06-29T05:58:51.851038",
     "status": "completed"
    },
    "tags": []
   },
   "outputs": [
    {
     "data": {
      "text/plain": [
       "tensor([0, 0, 0, 0, 0, 0, 0, 0, 0, 0])"
      ]
     },
     "execution_count": 31,
     "metadata": {},
     "output_type": "execute_result"
    }
   ],
   "source": [
    "# Create tesnors like\n",
    "ten_zeros = torch.zeros_like(input=one_to_ten)\n",
    "ten_zeros"
   ]
  },
  {
   "cell_type": "markdown",
   "id": "5898c9bf",
   "metadata": {
    "papermill": {
     "duration": 0.019738,
     "end_time": "2023-06-29T05:58:51.918589",
     "exception": false,
     "start_time": "2023-06-29T05:58:51.898851",
     "status": "completed"
    },
    "tags": []
   },
   "source": [
    "### Tensor datatypes\n",
    "\n",
    "Tensor datatypes is one of the 3 big errors arrive in Pytorch\n",
    "\n",
    "1. Tensors not right datatype\n",
    "2. Tensors not right shape\n",
    "3. Tensors not no right device\n",
    "\n",
    "ref - https://pytorch.org/docs/stable/tensors.html"
   ]
  },
  {
   "cell_type": "code",
   "execution_count": 32,
   "id": "92c3f506",
   "metadata": {
    "execution": {
     "iopub.execute_input": "2023-06-29T05:58:51.959092Z",
     "iopub.status.busy": "2023-06-29T05:58:51.958381Z",
     "iopub.status.idle": "2023-06-29T05:58:51.965651Z",
     "shell.execute_reply": "2023-06-29T05:58:51.964732Z"
    },
    "papermill": {
     "duration": 0.029498,
     "end_time": "2023-06-29T05:58:51.967531",
     "exception": false,
     "start_time": "2023-06-29T05:58:51.938033",
     "status": "completed"
    },
    "tags": []
   },
   "outputs": [
    {
     "data": {
      "text/plain": [
       "tensor([3., 6., 9.])"
      ]
     },
     "execution_count": 32,
     "metadata": {},
     "output_type": "execute_result"
    }
   ],
   "source": [
    "# Float 32 tensor\n",
    "float_32_tensor =torch.tensor([3.0,6.0,9.0],\n",
    "                             dtype=None, # what datatype of tensor (float32 etc)\n",
    "                             device=None, #'cpu or gpu -> cuda'\n",
    "                             requires_grad=False) # whether to track gradient\n",
    "float_32_tensor"
   ]
  },
  {
   "cell_type": "code",
   "execution_count": 33,
   "id": "5ebd7ce9",
   "metadata": {
    "execution": {
     "iopub.execute_input": "2023-06-29T05:58:52.007791Z",
     "iopub.status.busy": "2023-06-29T05:58:52.007535Z",
     "iopub.status.idle": "2023-06-29T05:58:52.012843Z",
     "shell.execute_reply": "2023-06-29T05:58:52.011973Z"
    },
    "papermill": {
     "duration": 0.027475,
     "end_time": "2023-06-29T05:58:52.014769",
     "exception": false,
     "start_time": "2023-06-29T05:58:51.987294",
     "status": "completed"
    },
    "tags": []
   },
   "outputs": [
    {
     "data": {
      "text/plain": [
       "torch.float32"
      ]
     },
     "execution_count": 33,
     "metadata": {},
     "output_type": "execute_result"
    }
   ],
   "source": [
    "float_32_tensor.dtype"
   ]
  },
  {
   "cell_type": "code",
   "execution_count": 34,
   "id": "d857d812",
   "metadata": {
    "execution": {
     "iopub.execute_input": "2023-06-29T05:58:52.056603Z",
     "iopub.status.busy": "2023-06-29T05:58:52.055883Z",
     "iopub.status.idle": "2023-06-29T05:58:52.064325Z",
     "shell.execute_reply": "2023-06-29T05:58:52.063536Z"
    },
    "papermill": {
     "duration": 0.031726,
     "end_time": "2023-06-29T05:58:52.066212",
     "exception": false,
     "start_time": "2023-06-29T05:58:52.034486",
     "status": "completed"
    },
    "tags": []
   },
   "outputs": [],
   "source": [
    "float_16_tensor = float_32_tensor.half()\n",
    "# or\n",
    "float_16_tensor = float_32_tensor.type(torch.float) # torch.half"
   ]
  },
  {
   "cell_type": "code",
   "execution_count": 35,
   "id": "b1edc8ca",
   "metadata": {
    "execution": {
     "iopub.execute_input": "2023-06-29T05:58:52.106537Z",
     "iopub.status.busy": "2023-06-29T05:58:52.106270Z",
     "iopub.status.idle": "2023-06-29T05:58:52.113272Z",
     "shell.execute_reply": "2023-06-29T05:58:52.112333Z"
    },
    "papermill": {
     "duration": 0.029535,
     "end_time": "2023-06-29T05:58:52.115367",
     "exception": false,
     "start_time": "2023-06-29T05:58:52.085832",
     "status": "completed"
    },
    "tags": []
   },
   "outputs": [
    {
     "data": {
      "text/plain": [
       "tensor([3., 6., 9.])"
      ]
     },
     "execution_count": 35,
     "metadata": {},
     "output_type": "execute_result"
    }
   ],
   "source": [
    "float_16_tensor"
   ]
  },
  {
   "cell_type": "code",
   "execution_count": 36,
   "id": "0ed65243",
   "metadata": {
    "execution": {
     "iopub.execute_input": "2023-06-29T05:58:52.156163Z",
     "iopub.status.busy": "2023-06-29T05:58:52.155890Z",
     "iopub.status.idle": "2023-06-29T05:58:52.161452Z",
     "shell.execute_reply": "2023-06-29T05:58:52.160479Z"
    },
    "papermill": {
     "duration": 0.028012,
     "end_time": "2023-06-29T05:58:52.163334",
     "exception": false,
     "start_time": "2023-06-29T05:58:52.135322",
     "status": "completed"
    },
    "tags": []
   },
   "outputs": [
    {
     "data": {
      "text/plain": [
       "torch.float32"
      ]
     },
     "execution_count": 36,
     "metadata": {},
     "output_type": "execute_result"
    }
   ],
   "source": [
    "(float_16_tensor * float_32_tensor).dtype"
   ]
  },
  {
   "cell_type": "code",
   "execution_count": 37,
   "id": "96f50c89",
   "metadata": {
    "execution": {
     "iopub.execute_input": "2023-06-29T05:58:52.204314Z",
     "iopub.status.busy": "2023-06-29T05:58:52.204061Z",
     "iopub.status.idle": "2023-06-29T05:58:52.208251Z",
     "shell.execute_reply": "2023-06-29T05:58:52.207280Z"
    },
    "papermill": {
     "duration": 0.027208,
     "end_time": "2023-06-29T05:58:52.210526",
     "exception": false,
     "start_time": "2023-06-29T05:58:52.183318",
     "status": "completed"
    },
    "tags": []
   },
   "outputs": [],
   "source": [
    "int_32_tensor = torch.tensor([3,4,5],\n",
    "                             dtype=torch.int32)"
   ]
  },
  {
   "cell_type": "code",
   "execution_count": 38,
   "id": "ba92de8f",
   "metadata": {
    "execution": {
     "iopub.execute_input": "2023-06-29T05:58:52.251060Z",
     "iopub.status.busy": "2023-06-29T05:58:52.250742Z",
     "iopub.status.idle": "2023-06-29T05:58:52.257372Z",
     "shell.execute_reply": "2023-06-29T05:58:52.256441Z"
    },
    "papermill": {
     "duration": 0.029343,
     "end_time": "2023-06-29T05:58:52.259445",
     "exception": false,
     "start_time": "2023-06-29T05:58:52.230102",
     "status": "completed"
    },
    "tags": []
   },
   "outputs": [
    {
     "data": {
      "text/plain": [
       "tensor([ 9., 24., 45.])"
      ]
     },
     "execution_count": 38,
     "metadata": {},
     "output_type": "execute_result"
    }
   ],
   "source": [
    "float_16_tensor * int_32_tensor"
   ]
  },
  {
   "cell_type": "markdown",
   "id": "a8e8c6d6",
   "metadata": {
    "papermill": {
     "duration": 0.019911,
     "end_time": "2023-06-29T05:58:52.299543",
     "exception": false,
     "start_time": "2023-06-29T05:58:52.279632",
     "status": "completed"
    },
    "tags": []
   },
   "source": [
    "### Getting info from tensors (tensor attributes)\n",
    "1. tensor not datatype - to check use tensor.dtype\n",
    "2. tensor not right shape - to check use tensor.shape or tensor.size()\n",
    "3. tensor not on right device - to check use tensor.device"
   ]
  },
  {
   "cell_type": "code",
   "execution_count": 39,
   "id": "5f141d4f",
   "metadata": {
    "execution": {
     "iopub.execute_input": "2023-06-29T05:58:52.340395Z",
     "iopub.status.busy": "2023-06-29T05:58:52.340109Z",
     "iopub.status.idle": "2023-06-29T05:58:52.347164Z",
     "shell.execute_reply": "2023-06-29T05:58:52.346193Z"
    },
    "papermill": {
     "duration": 0.02979,
     "end_time": "2023-06-29T05:58:52.349280",
     "exception": false,
     "start_time": "2023-06-29T05:58:52.319490",
     "status": "completed"
    },
    "tags": []
   },
   "outputs": [
    {
     "data": {
      "text/plain": [
       "tensor([[0.5453, 0.6379, 0.6070, 0.1541],\n",
       "        [0.8814, 0.3926, 0.7511, 0.8815],\n",
       "        [0.8168, 0.8083, 0.5960, 0.5045]])"
      ]
     },
     "execution_count": 39,
     "metadata": {},
     "output_type": "execute_result"
    }
   ],
   "source": [
    "# Create a tensor\n",
    "some_tensor = torch.rand(3,4)\n",
    "some_tensor"
   ]
  },
  {
   "cell_type": "code",
   "execution_count": 40,
   "id": "5ac66e97",
   "metadata": {
    "execution": {
     "iopub.execute_input": "2023-06-29T05:58:52.393059Z",
     "iopub.status.busy": "2023-06-29T05:58:52.392309Z",
     "iopub.status.idle": "2023-06-29T05:58:52.397704Z",
     "shell.execute_reply": "2023-06-29T05:58:52.396810Z"
    },
    "papermill": {
     "duration": 0.028211,
     "end_time": "2023-06-29T05:58:52.399600",
     "exception": false,
     "start_time": "2023-06-29T05:58:52.371389",
     "status": "completed"
    },
    "tags": []
   },
   "outputs": [
    {
     "name": "stdout",
     "output_type": "stream",
     "text": [
      "Tensor Datatype : torch.float32 Tensor Shape : torch.Size([3, 4]) Tensor Device : cpu\n"
     ]
    }
   ],
   "source": [
    "print(\"Tensor Datatype :\",some_tensor.dtype,\n",
    "\"Tensor Shape :\",some_tensor.shape,\n",
    "\"Tensor Device :\",some_tensor.device)"
   ]
  },
  {
   "cell_type": "markdown",
   "id": "9b357afb",
   "metadata": {
    "execution": {
     "iopub.execute_input": "2023-06-26T15:31:18.518353Z",
     "iopub.status.busy": "2023-06-26T15:31:18.517972Z",
     "iopub.status.idle": "2023-06-26T15:31:18.526666Z",
     "shell.execute_reply": "2023-06-26T15:31:18.525296Z",
     "shell.execute_reply.started": "2023-06-26T15:31:18.518326Z"
    },
    "papermill": {
     "duration": 0.020466,
     "end_time": "2023-06-29T05:58:52.440087",
     "exception": false,
     "start_time": "2023-06-29T05:58:52.419621",
     "status": "completed"
    },
    "tags": []
   },
   "source": [
    "### Manipulating Tensors (Tensor Operations)\n",
    "1. Addition\n",
    "2. Subtraction\n",
    "3. Multiplication (element-wise)\n",
    "4. Division\n",
    "5. Matrix Multiplication"
   ]
  },
  {
   "cell_type": "code",
   "execution_count": 41,
   "id": "039d04c6",
   "metadata": {
    "execution": {
     "iopub.execute_input": "2023-06-29T05:58:52.482002Z",
     "iopub.status.busy": "2023-06-29T05:58:52.481735Z",
     "iopub.status.idle": "2023-06-29T05:58:52.489616Z",
     "shell.execute_reply": "2023-06-29T05:58:52.488660Z"
    },
    "papermill": {
     "duration": 0.030961,
     "end_time": "2023-06-29T05:58:52.491642",
     "exception": false,
     "start_time": "2023-06-29T05:58:52.460681",
     "status": "completed"
    },
    "tags": []
   },
   "outputs": [
    {
     "data": {
      "text/plain": [
       "tensor([11, 12, 13])"
      ]
     },
     "execution_count": 41,
     "metadata": {},
     "output_type": "execute_result"
    }
   ],
   "source": [
    "# Create a tensor and add 10\n",
    "tensor = torch.tensor([1,2,3])\n",
    "tensor + 10"
   ]
  },
  {
   "cell_type": "code",
   "execution_count": 42,
   "id": "6b087b57",
   "metadata": {
    "execution": {
     "iopub.execute_input": "2023-06-29T05:58:52.534210Z",
     "iopub.status.busy": "2023-06-29T05:58:52.533512Z",
     "iopub.status.idle": "2023-06-29T05:58:52.541826Z",
     "shell.execute_reply": "2023-06-29T05:58:52.540821Z"
    },
    "papermill": {
     "duration": 0.031652,
     "end_time": "2023-06-29T05:58:52.543758",
     "exception": false,
     "start_time": "2023-06-29T05:58:52.512106",
     "status": "completed"
    },
    "tags": []
   },
   "outputs": [
    {
     "data": {
      "text/plain": [
       "tensor([10, 20, 30])"
      ]
     },
     "execution_count": 42,
     "metadata": {},
     "output_type": "execute_result"
    }
   ],
   "source": [
    "# multiply\n",
    "tensor * 10"
   ]
  },
  {
   "cell_type": "code",
   "execution_count": 43,
   "id": "49f08267",
   "metadata": {
    "execution": {
     "iopub.execute_input": "2023-06-29T05:58:52.586098Z",
     "iopub.status.busy": "2023-06-29T05:58:52.585361Z",
     "iopub.status.idle": "2023-06-29T05:58:52.593005Z",
     "shell.execute_reply": "2023-06-29T05:58:52.592072Z"
    },
    "papermill": {
     "duration": 0.030744,
     "end_time": "2023-06-29T05:58:52.594959",
     "exception": false,
     "start_time": "2023-06-29T05:58:52.564215",
     "status": "completed"
    },
    "tags": []
   },
   "outputs": [
    {
     "data": {
      "text/plain": [
       "tensor([-9, -8, -7])"
      ]
     },
     "execution_count": 43,
     "metadata": {},
     "output_type": "execute_result"
    }
   ],
   "source": [
    "# subtract 10\n",
    "tensor - 10"
   ]
  },
  {
   "cell_type": "code",
   "execution_count": 44,
   "id": "2223386a",
   "metadata": {
    "execution": {
     "iopub.execute_input": "2023-06-29T05:58:52.638125Z",
     "iopub.status.busy": "2023-06-29T05:58:52.637429Z",
     "iopub.status.idle": "2023-06-29T05:58:52.643637Z",
     "shell.execute_reply": "2023-06-29T05:58:52.642734Z"
    },
    "papermill": {
     "duration": 0.029878,
     "end_time": "2023-06-29T05:58:52.645493",
     "exception": false,
     "start_time": "2023-06-29T05:58:52.615615",
     "status": "completed"
    },
    "tags": []
   },
   "outputs": [
    {
     "data": {
      "text/plain": [
       "tensor([10, 20, 30])"
      ]
     },
     "execution_count": 44,
     "metadata": {},
     "output_type": "execute_result"
    }
   ],
   "source": [
    "# multiply using tensor function\n",
    "torch.mul(tensor,10)"
   ]
  },
  {
   "cell_type": "markdown",
   "id": "12e06f77",
   "metadata": {
    "papermill": {
     "duration": 0.020317,
     "end_time": "2023-06-29T05:58:52.686291",
     "exception": false,
     "start_time": "2023-06-29T05:58:52.665974",
     "status": "completed"
    },
    "tags": []
   },
   "source": [
    "### Matrix Multiplication\n",
    "\n",
    "Two Main ways to multiply in tensors\n",
    "\n",
    "1. Element-wise multipication or Cross Multiplication\n",
    "2. Matrix multiplication or Dot Product\n",
    "\n",
    "ref - https://www.mathsisfun.com/algebra/matrix-multiplying.html\n",
    "\n",
    "Two Rules must Follow:\n",
    "1. The **Inner Dimension** must match:\n",
    "* '(3,2) @ (3,2)' wont work\n",
    "* '(3,2) @ (2,3)' will work\n",
    "* '(2,3) @ (3,2)' will work\n",
    "2. Resulting matrix has dimension of **Outer Dimension**\n",
    "* (2,3) @ (3,2) -> (2,2)\n",
    "* (3,2) @ (2,3) -> (3,3)"
   ]
  },
  {
   "cell_type": "code",
   "execution_count": 45,
   "id": "b4c09f58",
   "metadata": {
    "execution": {
     "iopub.execute_input": "2023-06-29T05:58:52.729305Z",
     "iopub.status.busy": "2023-06-29T05:58:52.728421Z",
     "iopub.status.idle": "2023-06-29T05:58:52.775443Z",
     "shell.execute_reply": "2023-06-29T05:58:52.774516Z"
    },
    "papermill": {
     "duration": 0.070543,
     "end_time": "2023-06-29T05:58:52.777501",
     "exception": false,
     "start_time": "2023-06-29T05:58:52.706958",
     "status": "completed"
    },
    "tags": []
   },
   "outputs": [
    {
     "data": {
      "text/plain": [
       "tensor([[0.1145, 0.1550, 0.0484],\n",
       "        [0.6900, 0.9837, 0.3352],\n",
       "        [0.4871, 0.6564, 0.2034]])"
      ]
     },
     "execution_count": 45,
     "metadata": {},
     "output_type": "execute_result"
    }
   ],
   "source": [
    "torch.matmul(torch.rand(3,2) , torch.rand(2,3))"
   ]
  },
  {
   "cell_type": "code",
   "execution_count": 46,
   "id": "4ee1bb01",
   "metadata": {
    "execution": {
     "iopub.execute_input": "2023-06-29T05:58:52.822372Z",
     "iopub.status.busy": "2023-06-29T05:58:52.821579Z",
     "iopub.status.idle": "2023-06-29T05:58:52.827844Z",
     "shell.execute_reply": "2023-06-29T05:58:52.826535Z"
    },
    "papermill": {
     "duration": 0.030237,
     "end_time": "2023-06-29T05:58:52.829901",
     "exception": false,
     "start_time": "2023-06-29T05:58:52.799664",
     "status": "completed"
    },
    "tags": []
   },
   "outputs": [
    {
     "name": "stdout",
     "output_type": "stream",
     "text": [
      "tensor([1, 2, 3]) * tensor([1, 2, 3])\n",
      "Equals : tensor([1, 4, 9])\n"
     ]
    }
   ],
   "source": [
    "# Element wise multiplication\n",
    "print(tensor, '*' , tensor)\n",
    "print('Equals :', tensor * tensor )"
   ]
  },
  {
   "cell_type": "code",
   "execution_count": 47,
   "id": "d3e38ade",
   "metadata": {
    "execution": {
     "iopub.execute_input": "2023-06-29T05:58:52.873676Z",
     "iopub.status.busy": "2023-06-29T05:58:52.872823Z",
     "iopub.status.idle": "2023-06-29T05:58:52.879223Z",
     "shell.execute_reply": "2023-06-29T05:58:52.878304Z"
    },
    "papermill": {
     "duration": 0.030277,
     "end_time": "2023-06-29T05:58:52.881169",
     "exception": false,
     "start_time": "2023-06-29T05:58:52.850892",
     "status": "completed"
    },
    "tags": []
   },
   "outputs": [
    {
     "data": {
      "text/plain": [
       "tensor(14)"
      ]
     },
     "execution_count": 47,
     "metadata": {},
     "output_type": "execute_result"
    }
   ],
   "source": [
    "# Matrix Multiplication\n",
    "torch.matmul(tensor,tensor)"
   ]
  },
  {
   "cell_type": "markdown",
   "id": "c14f7394",
   "metadata": {
    "papermill": {
     "duration": 0.020939,
     "end_time": "2023-06-29T05:58:52.922919",
     "exception": false,
     "start_time": "2023-06-29T05:58:52.901980",
     "status": "completed"
    },
    "tags": []
   },
   "source": [
    "### Shape Errors"
   ]
  },
  {
   "cell_type": "code",
   "execution_count": 48,
   "id": "a15b19a6",
   "metadata": {
    "execution": {
     "iopub.execute_input": "2023-06-29T05:58:52.966154Z",
     "iopub.status.busy": "2023-06-29T05:58:52.965419Z",
     "iopub.status.idle": "2023-06-29T05:58:52.970905Z",
     "shell.execute_reply": "2023-06-29T05:58:52.969774Z"
    },
    "papermill": {
     "duration": 0.029142,
     "end_time": "2023-06-29T05:58:52.972978",
     "exception": false,
     "start_time": "2023-06-29T05:58:52.943836",
     "status": "completed"
    },
    "tags": []
   },
   "outputs": [],
   "source": [
    "tensor_A = torch.tensor([[1,2],\n",
    "                        [3,4],\n",
    "                        [5,6]])\n",
    "\n",
    "tensor_B =torch.tensor([[7,10],\n",
    "                       [8,11],\n",
    "                       [9,12]])\n",
    "\n",
    "#torch.mm(tensor_A,tensor_B) #(mm is alias for matmul)"
   ]
  },
  {
   "cell_type": "markdown",
   "id": "f86a31e6",
   "metadata": {
    "papermill": {
     "duration": 0.020835,
     "end_time": "2023-06-29T05:58:53.014524",
     "exception": false,
     "start_time": "2023-06-29T05:58:52.993689",
     "status": "completed"
    },
    "tags": []
   },
   "source": [
    "To Fix Shape Issues, We can use Transpose \n",
    "\n",
    "A **Transpose** swithches axes or dimensions of given matrix"
   ]
  },
  {
   "cell_type": "code",
   "execution_count": 49,
   "id": "9d7a7c0e",
   "metadata": {
    "execution": {
     "iopub.execute_input": "2023-06-29T05:58:53.057338Z",
     "iopub.status.busy": "2023-06-29T05:58:53.057066Z",
     "iopub.status.idle": "2023-06-29T05:58:53.063407Z",
     "shell.execute_reply": "2023-06-29T05:58:53.062522Z"
    },
    "papermill": {
     "duration": 0.030038,
     "end_time": "2023-06-29T05:58:53.065437",
     "exception": false,
     "start_time": "2023-06-29T05:58:53.035399",
     "status": "completed"
    },
    "tags": []
   },
   "outputs": [
    {
     "data": {
      "text/plain": [
       "(tensor([[ 7, 10],\n",
       "         [ 8, 11],\n",
       "         [ 9, 12]]),\n",
       " torch.Size([3, 2]))"
      ]
     },
     "execution_count": 49,
     "metadata": {},
     "output_type": "execute_result"
    }
   ],
   "source": [
    "tensor_B, tensor_B.shape"
   ]
  },
  {
   "cell_type": "code",
   "execution_count": 50,
   "id": "b0334aa7",
   "metadata": {
    "execution": {
     "iopub.execute_input": "2023-06-29T05:58:53.108834Z",
     "iopub.status.busy": "2023-06-29T05:58:53.108581Z",
     "iopub.status.idle": "2023-06-29T05:58:53.115883Z",
     "shell.execute_reply": "2023-06-29T05:58:53.114925Z"
    },
    "papermill": {
     "duration": 0.031354,
     "end_time": "2023-06-29T05:58:53.117930",
     "exception": false,
     "start_time": "2023-06-29T05:58:53.086576",
     "status": "completed"
    },
    "tags": []
   },
   "outputs": [
    {
     "data": {
      "text/plain": [
       "(tensor([[ 7,  8,  9],\n",
       "         [10, 11, 12]]),\n",
       " torch.Size([2, 3]))"
      ]
     },
     "execution_count": 50,
     "metadata": {},
     "output_type": "execute_result"
    }
   ],
   "source": [
    "tensor_B.T, tensor_B.T.shape"
   ]
  },
  {
   "cell_type": "code",
   "execution_count": 51,
   "id": "2f806377",
   "metadata": {
    "execution": {
     "iopub.execute_input": "2023-06-29T05:58:53.161852Z",
     "iopub.status.busy": "2023-06-29T05:58:53.161597Z",
     "iopub.status.idle": "2023-06-29T05:58:53.169545Z",
     "shell.execute_reply": "2023-06-29T05:58:53.168496Z"
    },
    "papermill": {
     "duration": 0.032941,
     "end_time": "2023-06-29T05:58:53.172219",
     "exception": false,
     "start_time": "2023-06-29T05:58:53.139278",
     "status": "completed"
    },
    "tags": []
   },
   "outputs": [
    {
     "name": "stdout",
     "output_type": "stream",
     "text": [
      "Initial shape for tensor A torch.Size([3, 2]) and for tensor B torch.Size([3, 2])\n",
      "after transpose torch.Size([2, 3])\n",
      "output : tensor([[ 27,  30,  33],\n",
      "        [ 61,  68,  75],\n",
      "        [ 95, 106, 117]]) and its shape is torch.Size([3, 3])\n"
     ]
    }
   ],
   "source": [
    "print(f'Initial shape for tensor A {tensor_A.shape} and for tensor B {tensor_B.shape}')\n",
    "print(f'after transpose {tensor_B.T.shape}')\n",
    "print(f'output : {torch.matmul(tensor_A,tensor_B.T)} and its shape is {torch.matmul(tensor_A,tensor_B.T).shape}')"
   ]
  },
  {
   "cell_type": "markdown",
   "id": "5f31ade8",
   "metadata": {
    "papermill": {
     "duration": 0.021277,
     "end_time": "2023-06-29T05:58:53.216404",
     "exception": false,
     "start_time": "2023-06-29T05:58:53.195127",
     "status": "completed"
    },
    "tags": []
   },
   "source": [
    "## Finding Min. Max. Mean, Sum, etc (tensor aggregation)"
   ]
  },
  {
   "cell_type": "code",
   "execution_count": 52,
   "id": "b2498d02",
   "metadata": {
    "execution": {
     "iopub.execute_input": "2023-06-29T05:58:53.266876Z",
     "iopub.status.busy": "2023-06-29T05:58:53.266595Z",
     "iopub.status.idle": "2023-06-29T05:58:53.276474Z",
     "shell.execute_reply": "2023-06-29T05:58:53.275434Z"
    },
    "papermill": {
     "duration": 0.040802,
     "end_time": "2023-06-29T05:58:53.278539",
     "exception": false,
     "start_time": "2023-06-29T05:58:53.237737",
     "status": "completed"
    },
    "tags": []
   },
   "outputs": [
    {
     "data": {
      "text/plain": [
       "tensor([ 0, 10, 20, 30, 40, 50, 60, 70, 80, 90])"
      ]
     },
     "execution_count": 52,
     "metadata": {},
     "output_type": "execute_result"
    }
   ],
   "source": [
    "# Create a tensor\n",
    "x = torch.arange(0,100,10)\n",
    "x"
   ]
  },
  {
   "cell_type": "code",
   "execution_count": 53,
   "id": "cc3a035b",
   "metadata": {
    "execution": {
     "iopub.execute_input": "2023-06-29T05:58:53.323374Z",
     "iopub.status.busy": "2023-06-29T05:58:53.322857Z",
     "iopub.status.idle": "2023-06-29T05:58:53.330332Z",
     "shell.execute_reply": "2023-06-29T05:58:53.329331Z"
    },
    "papermill": {
     "duration": 0.03226,
     "end_time": "2023-06-29T05:58:53.332508",
     "exception": false,
     "start_time": "2023-06-29T05:58:53.300248",
     "status": "completed"
    },
    "tags": []
   },
   "outputs": [
    {
     "data": {
      "text/plain": [
       "(tensor(0), tensor(0))"
      ]
     },
     "execution_count": 53,
     "metadata": {},
     "output_type": "execute_result"
    }
   ],
   "source": [
    "# Min\n",
    "torch.min(x), x.min()"
   ]
  },
  {
   "cell_type": "code",
   "execution_count": 54,
   "id": "39f98500",
   "metadata": {
    "execution": {
     "iopub.execute_input": "2023-06-29T05:58:53.379089Z",
     "iopub.status.busy": "2023-06-29T05:58:53.378360Z",
     "iopub.status.idle": "2023-06-29T05:58:53.384783Z",
     "shell.execute_reply": "2023-06-29T05:58:53.383849Z"
    },
    "papermill": {
     "duration": 0.032243,
     "end_time": "2023-06-29T05:58:53.386685",
     "exception": false,
     "start_time": "2023-06-29T05:58:53.354442",
     "status": "completed"
    },
    "tags": []
   },
   "outputs": [
    {
     "data": {
      "text/plain": [
       "(tensor(90), tensor(90))"
      ]
     },
     "execution_count": 54,
     "metadata": {},
     "output_type": "execute_result"
    }
   ],
   "source": [
    "# Max\n",
    "torch.max(x), x.max()"
   ]
  },
  {
   "cell_type": "code",
   "execution_count": 55,
   "id": "7a18e356",
   "metadata": {
    "execution": {
     "iopub.execute_input": "2023-06-29T05:58:53.431511Z",
     "iopub.status.busy": "2023-06-29T05:58:53.430660Z",
     "iopub.status.idle": "2023-06-29T05:58:53.442928Z",
     "shell.execute_reply": "2023-06-29T05:58:53.442002Z"
    },
    "papermill": {
     "duration": 0.036853,
     "end_time": "2023-06-29T05:58:53.444856",
     "exception": false,
     "start_time": "2023-06-29T05:58:53.408003",
     "status": "completed"
    },
    "tags": []
   },
   "outputs": [
    {
     "data": {
      "text/plain": [
       "(tensor(45., dtype=torch.float16),\n",
       " tensor(45., dtype=torch.float16),\n",
       " tensor(45.))"
      ]
     },
     "execution_count": 55,
     "metadata": {},
     "output_type": "execute_result"
    }
   ],
   "source": [
    "# Mean\n",
    "torch.mean(x.type(torch.float16)) , x.type(torch.float16).mean() , torch.mean(x,dtype=torch.float32)"
   ]
  },
  {
   "cell_type": "code",
   "execution_count": 56,
   "id": "83e7d35a",
   "metadata": {
    "execution": {
     "iopub.execute_input": "2023-06-29T05:58:53.509610Z",
     "iopub.status.busy": "2023-06-29T05:58:53.509242Z",
     "iopub.status.idle": "2023-06-29T05:58:53.521150Z",
     "shell.execute_reply": "2023-06-29T05:58:53.520213Z"
    },
    "papermill": {
     "duration": 0.050047,
     "end_time": "2023-06-29T05:58:53.523838",
     "exception": false,
     "start_time": "2023-06-29T05:58:53.473791",
     "status": "completed"
    },
    "tags": []
   },
   "outputs": [
    {
     "data": {
      "text/plain": [
       "(tensor(450), tensor(450))"
      ]
     },
     "execution_count": 56,
     "metadata": {},
     "output_type": "execute_result"
    }
   ],
   "source": [
    "# Sum\n",
    "torch.sum(x) , x.sum()"
   ]
  },
  {
   "cell_type": "code",
   "execution_count": null,
   "id": "563a2605",
   "metadata": {
    "papermill": {
     "duration": 0.021888,
     "end_time": "2023-06-29T05:58:53.580792",
     "exception": false,
     "start_time": "2023-06-29T05:58:53.558904",
     "status": "completed"
    },
    "tags": []
   },
   "outputs": [],
   "source": []
  }
 ],
 "metadata": {
  "kernelspec": {
   "display_name": "Python 3",
   "language": "python",
   "name": "python3"
  },
  "language_info": {
   "codemirror_mode": {
    "name": "ipython",
    "version": 3
   },
   "file_extension": ".py",
   "mimetype": "text/x-python",
   "name": "python",
   "nbconvert_exporter": "python",
   "pygments_lexer": "ipython3",
   "version": "3.10.10"
  },
  "papermill": {
   "default_parameters": {},
   "duration": 19.723441,
   "end_time": "2023-06-29T05:58:55.828436",
   "environment_variables": {},
   "exception": null,
   "input_path": "__notebook__.ipynb",
   "output_path": "__notebook__.ipynb",
   "parameters": {},
   "start_time": "2023-06-29T05:58:36.104995",
   "version": "2.4.0"
  }
 },
 "nbformat": 4,
 "nbformat_minor": 5
}
