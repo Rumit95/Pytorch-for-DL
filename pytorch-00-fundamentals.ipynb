{
 "cells": [
  {
   "cell_type": "code",
   "execution_count": 1,
   "id": "caf5aca8",
   "metadata": {
    "_cell_guid": "b1076dfc-b9ad-4769-8c92-a6c4dae69d19",
    "_uuid": "8f2839f25d086af736a60e9eeb907d3b93b6e0e5",
    "execution": {
     "iopub.execute_input": "2023-06-25T15:30:18.231573Z",
     "iopub.status.busy": "2023-06-25T15:30:18.230932Z",
     "iopub.status.idle": "2023-06-25T15:30:24.309727Z",
     "shell.execute_reply": "2023-06-25T15:30:24.308719Z"
    },
    "papermill": {
     "duration": 6.084296,
     "end_time": "2023-06-25T15:30:24.311957",
     "exception": false,
     "start_time": "2023-06-25T15:30:18.227661",
     "status": "completed"
    },
    "tags": []
   },
   "outputs": [
    {
     "data": {
      "text/plain": [
       "'2.0.0'"
      ]
     },
     "execution_count": 1,
     "metadata": {},
     "output_type": "execute_result"
    }
   ],
   "source": [
    "import torch\n",
    "import pandas as pd\n",
    "import numpy as np\n",
    "import matplotlib.pyplot as plt\n",
    "torch.__version__"
   ]
  },
  {
   "cell_type": "code",
   "execution_count": null,
   "id": "80570848",
   "metadata": {
    "papermill": {
     "duration": 0.001383,
     "end_time": "2023-06-25T15:30:24.315204",
     "exception": false,
     "start_time": "2023-06-25T15:30:24.313821",
     "status": "completed"
    },
    "tags": []
   },
   "outputs": [],
   "source": []
  }
 ],
 "metadata": {
  "kernelspec": {
   "display_name": "Python 3",
   "language": "python",
   "name": "python3"
  },
  "language_info": {
   "codemirror_mode": {
    "name": "ipython",
    "version": 3
   },
   "file_extension": ".py",
   "mimetype": "text/x-python",
   "name": "python",
   "nbconvert_exporter": "python",
   "pygments_lexer": "ipython3",
   "version": "3.10.10"
  },
  "papermill": {
   "default_parameters": {},
   "duration": 23.715869,
   "end_time": "2023-06-25T15:30:27.264074",
   "environment_variables": {},
   "exception": null,
   "input_path": "__notebook__.ipynb",
   "output_path": "__notebook__.ipynb",
   "parameters": {},
   "start_time": "2023-06-25T15:30:03.548205",
   "version": "2.4.0"
  }
 },
 "nbformat": 4,
 "nbformat_minor": 5
}
