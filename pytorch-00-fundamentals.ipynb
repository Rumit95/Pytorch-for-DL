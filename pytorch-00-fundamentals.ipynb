{
 "cells": [
  {
   "cell_type": "code",
   "execution_count": 1,
   "id": "8999d4ca",
   "metadata": {
    "_cell_guid": "b1076dfc-b9ad-4769-8c92-a6c4dae69d19",
    "_uuid": "8f2839f25d086af736a60e9eeb907d3b93b6e0e5",
    "execution": {
     "iopub.execute_input": "2023-06-26T16:11:12.573671Z",
     "iopub.status.busy": "2023-06-26T16:11:12.573270Z",
     "iopub.status.idle": "2023-06-26T16:11:16.282358Z",
     "shell.execute_reply": "2023-06-26T16:11:16.281577Z"
    },
    "papermill": {
     "duration": 3.72969,
     "end_time": "2023-06-26T16:11:16.284689",
     "exception": false,
     "start_time": "2023-06-26T16:11:12.554999",
     "status": "completed"
    },
    "tags": []
   },
   "outputs": [
    {
     "data": {
      "text/plain": [
       "'2.0.0+cpu'"
      ]
     },
     "execution_count": 1,
     "metadata": {},
     "output_type": "execute_result"
    }
   ],
   "source": [
    "import torch\n",
    "import pandas as pd\n",
    "import numpy as np\n",
    "import matplotlib.pyplot as plt\n",
    "torch.__version__"
   ]
  },
  {
   "cell_type": "markdown",
   "id": "cfa471e9",
   "metadata": {
    "execution": {
     "iopub.execute_input": "2023-06-25T15:31:29.081596Z",
     "iopub.status.busy": "2023-06-25T15:31:29.081220Z",
     "iopub.status.idle": "2023-06-25T15:31:29.086052Z",
     "shell.execute_reply": "2023-06-25T15:31:29.085102Z",
     "shell.execute_reply.started": "2023-06-25T15:31:29.081561Z"
    },
    "papermill": {
     "duration": 0.015634,
     "end_time": "2023-06-26T16:11:16.316797",
     "exception": false,
     "start_time": "2023-06-26T16:11:16.301163",
     "status": "completed"
    },
    "tags": []
   },
   "source": [
    "## Introduction to Tensor\n",
    "\n",
    "### Creating Tensors\n",
    "\n",
    "PyTorch tensor are create using torch.Tensor()\n",
    "\n",
    "ref - https://pytorch.org/docs/stable/tensors.html"
   ]
  },
  {
   "cell_type": "code",
   "execution_count": 2,
   "id": "a6503bd4",
   "metadata": {
    "execution": {
     "iopub.execute_input": "2023-06-26T16:11:16.350859Z",
     "iopub.status.busy": "2023-06-26T16:11:16.349895Z",
     "iopub.status.idle": "2023-06-26T16:11:16.400811Z",
     "shell.execute_reply": "2023-06-26T16:11:16.399681Z"
    },
    "papermill": {
     "duration": 0.071051,
     "end_time": "2023-06-26T16:11:16.403642",
     "exception": false,
     "start_time": "2023-06-26T16:11:16.332591",
     "status": "completed"
    },
    "tags": []
   },
   "outputs": [
    {
     "data": {
      "text/plain": [
       "tensor(7)"
      ]
     },
     "execution_count": 2,
     "metadata": {},
     "output_type": "execute_result"
    }
   ],
   "source": [
    "# Scaler\n",
    "scaler = torch.tensor(7)\n",
    "scaler"
   ]
  },
  {
   "cell_type": "code",
   "execution_count": 3,
   "id": "e8d0a804",
   "metadata": {
    "execution": {
     "iopub.execute_input": "2023-06-26T16:11:16.438205Z",
     "iopub.status.busy": "2023-06-26T16:11:16.437825Z",
     "iopub.status.idle": "2023-06-26T16:11:16.444490Z",
     "shell.execute_reply": "2023-06-26T16:11:16.443311Z"
    },
    "papermill": {
     "duration": 0.026457,
     "end_time": "2023-06-26T16:11:16.446788",
     "exception": false,
     "start_time": "2023-06-26T16:11:16.420331",
     "status": "completed"
    },
    "tags": []
   },
   "outputs": [
    {
     "data": {
      "text/plain": [
       "0"
      ]
     },
     "execution_count": 3,
     "metadata": {},
     "output_type": "execute_result"
    }
   ],
   "source": [
    "scaler.ndim"
   ]
  },
  {
   "cell_type": "code",
   "execution_count": 4,
   "id": "e0b3a36c",
   "metadata": {
    "execution": {
     "iopub.execute_input": "2023-06-26T16:11:16.480441Z",
     "iopub.status.busy": "2023-06-26T16:11:16.480051Z",
     "iopub.status.idle": "2023-06-26T16:11:16.486477Z",
     "shell.execute_reply": "2023-06-26T16:11:16.485471Z"
    },
    "papermill": {
     "duration": 0.026458,
     "end_time": "2023-06-26T16:11:16.489248",
     "exception": false,
     "start_time": "2023-06-26T16:11:16.462790",
     "status": "completed"
    },
    "tags": []
   },
   "outputs": [
    {
     "data": {
      "text/plain": [
       "7"
      ]
     },
     "execution_count": 4,
     "metadata": {},
     "output_type": "execute_result"
    }
   ],
   "source": [
    "# Get Tensor back ans int\n",
    "scaler.item()"
   ]
  },
  {
   "cell_type": "code",
   "execution_count": 5,
   "id": "175e79e0",
   "metadata": {
    "execution": {
     "iopub.execute_input": "2023-06-26T16:11:16.525459Z",
     "iopub.status.busy": "2023-06-26T16:11:16.525067Z",
     "iopub.status.idle": "2023-06-26T16:11:16.531864Z",
     "shell.execute_reply": "2023-06-26T16:11:16.531152Z"
    },
    "papermill": {
     "duration": 0.026944,
     "end_time": "2023-06-26T16:11:16.534114",
     "exception": false,
     "start_time": "2023-06-26T16:11:16.507170",
     "status": "completed"
    },
    "tags": []
   },
   "outputs": [
    {
     "data": {
      "text/plain": [
       "tensor([7, 7])"
      ]
     },
     "execution_count": 5,
     "metadata": {},
     "output_type": "execute_result"
    }
   ],
   "source": [
    "# Vector\n",
    "vector = torch.tensor([7,7])\n",
    "vector"
   ]
  },
  {
   "cell_type": "code",
   "execution_count": 6,
   "id": "06ec0ed1",
   "metadata": {
    "execution": {
     "iopub.execute_input": "2023-06-26T16:11:16.568824Z",
     "iopub.status.busy": "2023-06-26T16:11:16.568393Z",
     "iopub.status.idle": "2023-06-26T16:11:16.574961Z",
     "shell.execute_reply": "2023-06-26T16:11:16.573957Z"
    },
    "papermill": {
     "duration": 0.026535,
     "end_time": "2023-06-26T16:11:16.577061",
     "exception": false,
     "start_time": "2023-06-26T16:11:16.550526",
     "status": "completed"
    },
    "tags": []
   },
   "outputs": [
    {
     "data": {
      "text/plain": [
       "1"
      ]
     },
     "execution_count": 6,
     "metadata": {},
     "output_type": "execute_result"
    }
   ],
   "source": [
    "vector.ndim"
   ]
  },
  {
   "cell_type": "code",
   "execution_count": 7,
   "id": "4b6a7401",
   "metadata": {
    "execution": {
     "iopub.execute_input": "2023-06-26T16:11:16.612073Z",
     "iopub.status.busy": "2023-06-26T16:11:16.611719Z",
     "iopub.status.idle": "2023-06-26T16:11:16.618209Z",
     "shell.execute_reply": "2023-06-26T16:11:16.617114Z"
    },
    "papermill": {
     "duration": 0.026853,
     "end_time": "2023-06-26T16:11:16.620498",
     "exception": false,
     "start_time": "2023-06-26T16:11:16.593645",
     "status": "completed"
    },
    "tags": []
   },
   "outputs": [
    {
     "data": {
      "text/plain": [
       "torch.Size([2])"
      ]
     },
     "execution_count": 7,
     "metadata": {},
     "output_type": "execute_result"
    }
   ],
   "source": [
    "vector.shape"
   ]
  },
  {
   "cell_type": "code",
   "execution_count": 8,
   "id": "a029ccb7",
   "metadata": {
    "execution": {
     "iopub.execute_input": "2023-06-26T16:11:16.655794Z",
     "iopub.status.busy": "2023-06-26T16:11:16.655346Z",
     "iopub.status.idle": "2023-06-26T16:11:16.665916Z",
     "shell.execute_reply": "2023-06-26T16:11:16.664958Z"
    },
    "papermill": {
     "duration": 0.030879,
     "end_time": "2023-06-26T16:11:16.668200",
     "exception": false,
     "start_time": "2023-06-26T16:11:16.637321",
     "status": "completed"
    },
    "tags": []
   },
   "outputs": [
    {
     "data": {
      "text/plain": [
       "tensor([[7, 8],\n",
       "        [6, 5]])"
      ]
     },
     "execution_count": 8,
     "metadata": {},
     "output_type": "execute_result"
    }
   ],
   "source": [
    "# Matrix\n",
    "MATRIX = torch.tensor([[7,8],\n",
    "                      [6,5]])\n",
    "MATRIX"
   ]
  },
  {
   "cell_type": "code",
   "execution_count": 9,
   "id": "21a18de4",
   "metadata": {
    "execution": {
     "iopub.execute_input": "2023-06-26T16:11:16.703704Z",
     "iopub.status.busy": "2023-06-26T16:11:16.703312Z",
     "iopub.status.idle": "2023-06-26T16:11:16.710129Z",
     "shell.execute_reply": "2023-06-26T16:11:16.709058Z"
    },
    "papermill": {
     "duration": 0.027101,
     "end_time": "2023-06-26T16:11:16.712243",
     "exception": false,
     "start_time": "2023-06-26T16:11:16.685142",
     "status": "completed"
    },
    "tags": []
   },
   "outputs": [
    {
     "data": {
      "text/plain": [
       "2"
      ]
     },
     "execution_count": 9,
     "metadata": {},
     "output_type": "execute_result"
    }
   ],
   "source": [
    "MATRIX.ndim"
   ]
  },
  {
   "cell_type": "code",
   "execution_count": 10,
   "id": "f0560bc0",
   "metadata": {
    "execution": {
     "iopub.execute_input": "2023-06-26T16:11:16.747885Z",
     "iopub.status.busy": "2023-06-26T16:11:16.747479Z",
     "iopub.status.idle": "2023-06-26T16:11:16.754665Z",
     "shell.execute_reply": "2023-06-26T16:11:16.753766Z"
    },
    "papermill": {
     "duration": 0.027439,
     "end_time": "2023-06-26T16:11:16.756647",
     "exception": false,
     "start_time": "2023-06-26T16:11:16.729208",
     "status": "completed"
    },
    "tags": []
   },
   "outputs": [
    {
     "data": {
      "text/plain": [
       "tensor([7, 8])"
      ]
     },
     "execution_count": 10,
     "metadata": {},
     "output_type": "execute_result"
    }
   ],
   "source": [
    "MATRIX[0]"
   ]
  },
  {
   "cell_type": "code",
   "execution_count": 11,
   "id": "45982784",
   "metadata": {
    "execution": {
     "iopub.execute_input": "2023-06-26T16:11:16.792535Z",
     "iopub.status.busy": "2023-06-26T16:11:16.792074Z",
     "iopub.status.idle": "2023-06-26T16:11:16.799650Z",
     "shell.execute_reply": "2023-06-26T16:11:16.798499Z"
    },
    "papermill": {
     "duration": 0.028313,
     "end_time": "2023-06-26T16:11:16.801940",
     "exception": false,
     "start_time": "2023-06-26T16:11:16.773627",
     "status": "completed"
    },
    "tags": []
   },
   "outputs": [
    {
     "data": {
      "text/plain": [
       "tensor([6, 5])"
      ]
     },
     "execution_count": 11,
     "metadata": {},
     "output_type": "execute_result"
    }
   ],
   "source": [
    "MATRIX[1]"
   ]
  },
  {
   "cell_type": "code",
   "execution_count": 12,
   "id": "af9ffb5b",
   "metadata": {
    "execution": {
     "iopub.execute_input": "2023-06-26T16:11:16.838198Z",
     "iopub.status.busy": "2023-06-26T16:11:16.837764Z",
     "iopub.status.idle": "2023-06-26T16:11:16.844920Z",
     "shell.execute_reply": "2023-06-26T16:11:16.843836Z"
    },
    "papermill": {
     "duration": 0.027883,
     "end_time": "2023-06-26T16:11:16.847005",
     "exception": false,
     "start_time": "2023-06-26T16:11:16.819122",
     "status": "completed"
    },
    "tags": []
   },
   "outputs": [
    {
     "data": {
      "text/plain": [
       "torch.Size([2, 2])"
      ]
     },
     "execution_count": 12,
     "metadata": {},
     "output_type": "execute_result"
    }
   ],
   "source": [
    "MATRIX.shape"
   ]
  },
  {
   "cell_type": "code",
   "execution_count": 13,
   "id": "b79bee0f",
   "metadata": {
    "execution": {
     "iopub.execute_input": "2023-06-26T16:11:16.883517Z",
     "iopub.status.busy": "2023-06-26T16:11:16.883075Z",
     "iopub.status.idle": "2023-06-26T16:11:16.891413Z",
     "shell.execute_reply": "2023-06-26T16:11:16.890646Z"
    },
    "papermill": {
     "duration": 0.029245,
     "end_time": "2023-06-26T16:11:16.893445",
     "exception": false,
     "start_time": "2023-06-26T16:11:16.864200",
     "status": "completed"
    },
    "tags": []
   },
   "outputs": [
    {
     "data": {
      "text/plain": [
       "tensor([[[1, 2, 3],\n",
       "         [5, 6, 6],\n",
       "         [7, 8, 9]]])"
      ]
     },
     "execution_count": 13,
     "metadata": {},
     "output_type": "execute_result"
    }
   ],
   "source": [
    "# Tensor\n",
    "TENSOR = torch.tensor([[[1,2,3],\n",
    "                      [5,6,6],\n",
    "                      [7,8,9]]])\n",
    "TENSOR"
   ]
  },
  {
   "cell_type": "code",
   "execution_count": 14,
   "id": "b7948784",
   "metadata": {
    "execution": {
     "iopub.execute_input": "2023-06-26T16:11:16.930469Z",
     "iopub.status.busy": "2023-06-26T16:11:16.930037Z",
     "iopub.status.idle": "2023-06-26T16:11:16.937052Z",
     "shell.execute_reply": "2023-06-26T16:11:16.935799Z"
    },
    "papermill": {
     "duration": 0.028699,
     "end_time": "2023-06-26T16:11:16.939766",
     "exception": false,
     "start_time": "2023-06-26T16:11:16.911067",
     "status": "completed"
    },
    "tags": []
   },
   "outputs": [
    {
     "data": {
      "text/plain": [
       "3"
      ]
     },
     "execution_count": 14,
     "metadata": {},
     "output_type": "execute_result"
    }
   ],
   "source": [
    "TENSOR.ndim"
   ]
  },
  {
   "cell_type": "code",
   "execution_count": 15,
   "id": "d7ad3c6e",
   "metadata": {
    "execution": {
     "iopub.execute_input": "2023-06-26T16:11:16.977147Z",
     "iopub.status.busy": "2023-06-26T16:11:16.976707Z",
     "iopub.status.idle": "2023-06-26T16:11:16.984184Z",
     "shell.execute_reply": "2023-06-26T16:11:16.982950Z"
    },
    "papermill": {
     "duration": 0.028866,
     "end_time": "2023-06-26T16:11:16.986478",
     "exception": false,
     "start_time": "2023-06-26T16:11:16.957612",
     "status": "completed"
    },
    "tags": []
   },
   "outputs": [
    {
     "data": {
      "text/plain": [
       "torch.Size([1, 3, 3])"
      ]
     },
     "execution_count": 15,
     "metadata": {},
     "output_type": "execute_result"
    }
   ],
   "source": [
    "TENSOR.shape"
   ]
  },
  {
   "cell_type": "code",
   "execution_count": 16,
   "id": "50f08f7b",
   "metadata": {
    "execution": {
     "iopub.execute_input": "2023-06-26T16:11:17.023890Z",
     "iopub.status.busy": "2023-06-26T16:11:17.023494Z",
     "iopub.status.idle": "2023-06-26T16:11:17.030998Z",
     "shell.execute_reply": "2023-06-26T16:11:17.029790Z"
    },
    "papermill": {
     "duration": 0.029317,
     "end_time": "2023-06-26T16:11:17.033525",
     "exception": false,
     "start_time": "2023-06-26T16:11:17.004208",
     "status": "completed"
    },
    "tags": []
   },
   "outputs": [
    {
     "data": {
      "text/plain": [
       "tensor([[1, 2, 3],\n",
       "        [5, 6, 6],\n",
       "        [7, 8, 9]])"
      ]
     },
     "execution_count": 16,
     "metadata": {},
     "output_type": "execute_result"
    }
   ],
   "source": [
    "TENSOR[0]"
   ]
  },
  {
   "cell_type": "code",
   "execution_count": 17,
   "id": "2cbace52",
   "metadata": {
    "execution": {
     "iopub.execute_input": "2023-06-26T16:11:17.072243Z",
     "iopub.status.busy": "2023-06-26T16:11:17.071887Z",
     "iopub.status.idle": "2023-06-26T16:11:17.079213Z",
     "shell.execute_reply": "2023-06-26T16:11:17.078478Z"
    },
    "papermill": {
     "duration": 0.029196,
     "end_time": "2023-06-26T16:11:17.081685",
     "exception": false,
     "start_time": "2023-06-26T16:11:17.052489",
     "status": "completed"
    },
    "tags": []
   },
   "outputs": [
    {
     "data": {
      "text/plain": [
       "tensor([[[1, 2, 3],\n",
       "         [4, 5, 6],\n",
       "         [7, 8, 9]],\n",
       "\n",
       "        [[1, 2, 3],\n",
       "         [4, 5, 6],\n",
       "         [7, 8, 9]]])"
      ]
     },
     "execution_count": 17,
     "metadata": {},
     "output_type": "execute_result"
    }
   ],
   "source": [
    "# Practice\n",
    "TENSOR1 = torch.tensor([[[1,2,3],\n",
    "                      [4,5,6],\n",
    "                      [7,8,9]],\n",
    "                     [[1,2,3],\n",
    "                      [4,5,6],\n",
    "                      [7,8,9]]])\n",
    "TENSOR1"
   ]
  },
  {
   "cell_type": "code",
   "execution_count": 18,
   "id": "00557f23",
   "metadata": {
    "execution": {
     "iopub.execute_input": "2023-06-26T16:11:17.120511Z",
     "iopub.status.busy": "2023-06-26T16:11:17.120114Z",
     "iopub.status.idle": "2023-06-26T16:11:17.125291Z",
     "shell.execute_reply": "2023-06-26T16:11:17.124549Z"
    },
    "papermill": {
     "duration": 0.027932,
     "end_time": "2023-06-26T16:11:17.127764",
     "exception": false,
     "start_time": "2023-06-26T16:11:17.099832",
     "status": "completed"
    },
    "tags": []
   },
   "outputs": [
    {
     "data": {
      "text/plain": [
       "3"
      ]
     },
     "execution_count": 18,
     "metadata": {},
     "output_type": "execute_result"
    }
   ],
   "source": [
    "TENSOR1.ndim"
   ]
  },
  {
   "cell_type": "code",
   "execution_count": 19,
   "id": "173a47ba",
   "metadata": {
    "execution": {
     "iopub.execute_input": "2023-06-26T16:11:17.166440Z",
     "iopub.status.busy": "2023-06-26T16:11:17.165815Z",
     "iopub.status.idle": "2023-06-26T16:11:17.173523Z",
     "shell.execute_reply": "2023-06-26T16:11:17.172349Z"
    },
    "papermill": {
     "duration": 0.029708,
     "end_time": "2023-06-26T16:11:17.175761",
     "exception": false,
     "start_time": "2023-06-26T16:11:17.146053",
     "status": "completed"
    },
    "tags": []
   },
   "outputs": [
    {
     "data": {
      "text/plain": [
       "torch.Size([2, 3, 3])"
      ]
     },
     "execution_count": 19,
     "metadata": {},
     "output_type": "execute_result"
    }
   ],
   "source": [
    "TENSOR1.shape"
   ]
  },
  {
   "cell_type": "markdown",
   "id": "91fb9eef",
   "metadata": {
    "execution": {
     "iopub.execute_input": "2023-06-25T15:53:52.605155Z",
     "iopub.status.busy": "2023-06-25T15:53:52.604740Z",
     "iopub.status.idle": "2023-06-25T15:53:52.609815Z",
     "shell.execute_reply": "2023-06-25T15:53:52.608929Z",
     "shell.execute_reply.started": "2023-06-25T15:53:52.605124Z"
    },
    "papermill": {
     "duration": 0.017877,
     "end_time": "2023-06-26T16:11:17.212086",
     "exception": false,
     "start_time": "2023-06-26T16:11:17.194209",
     "status": "completed"
    },
    "tags": []
   },
   "source": [
    "### Random Tensor\n",
    "\n",
    "Why Random Nos. ?\n",
    "\n",
    "'Start with Random Numbers -> Look at Data -> Update Random Numbers -> Look at Data -> Update Random Numbers'\n",
    "\n",
    "ref - https://pytorch.org/docs/stable/generated/torch.rand.html"
   ]
  },
  {
   "cell_type": "code",
   "execution_count": 20,
   "id": "15c2a61b",
   "metadata": {
    "execution": {
     "iopub.execute_input": "2023-06-26T16:11:17.251107Z",
     "iopub.status.busy": "2023-06-26T16:11:17.249890Z",
     "iopub.status.idle": "2023-06-26T16:11:17.319388Z",
     "shell.execute_reply": "2023-06-26T16:11:17.318225Z"
    },
    "papermill": {
     "duration": 0.091528,
     "end_time": "2023-06-26T16:11:17.321873",
     "exception": false,
     "start_time": "2023-06-26T16:11:17.230345",
     "status": "completed"
    },
    "tags": []
   },
   "outputs": [
    {
     "data": {
      "text/plain": [
       "tensor([[[0.2513, 0.0360, 0.1426],\n",
       "         [0.2258, 0.9669, 0.8006],\n",
       "         [0.7470, 0.4899, 0.0539],\n",
       "         [0.2040, 0.0537, 0.8059]],\n",
       "\n",
       "        [[0.1349, 0.3289, 0.5174],\n",
       "         [0.1926, 0.3658, 0.6268],\n",
       "         [0.5230, 0.5545, 0.0055],\n",
       "         [0.4382, 0.2643, 0.6703]],\n",
       "\n",
       "        [[0.6637, 0.5062, 0.6207],\n",
       "         [0.9560, 0.0146, 0.6557],\n",
       "         [0.0441, 0.7939, 0.8182],\n",
       "         [0.3635, 0.3221, 0.2865]]])"
      ]
     },
     "execution_count": 20,
     "metadata": {},
     "output_type": "execute_result"
    }
   ],
   "source": [
    "# Create a random tensor of size(3,4)\n",
    "random_tensor = torch.rand(3,4,3)\n",
    "random_tensor"
   ]
  },
  {
   "cell_type": "code",
   "execution_count": 21,
   "id": "1b8b864d",
   "metadata": {
    "execution": {
     "iopub.execute_input": "2023-06-26T16:11:17.361607Z",
     "iopub.status.busy": "2023-06-26T16:11:17.360759Z",
     "iopub.status.idle": "2023-06-26T16:11:17.367616Z",
     "shell.execute_reply": "2023-06-26T16:11:17.366366Z"
    },
    "papermill": {
     "duration": 0.029527,
     "end_time": "2023-06-26T16:11:17.369869",
     "exception": false,
     "start_time": "2023-06-26T16:11:17.340342",
     "status": "completed"
    },
    "tags": []
   },
   "outputs": [
    {
     "data": {
      "text/plain": [
       "3"
      ]
     },
     "execution_count": 21,
     "metadata": {},
     "output_type": "execute_result"
    }
   ],
   "source": [
    "random_tensor.ndim"
   ]
  },
  {
   "cell_type": "code",
   "execution_count": 22,
   "id": "32584d08",
   "metadata": {
    "execution": {
     "iopub.execute_input": "2023-06-26T16:11:17.409595Z",
     "iopub.status.busy": "2023-06-26T16:11:17.408966Z",
     "iopub.status.idle": "2023-06-26T16:11:17.414590Z",
     "shell.execute_reply": "2023-06-26T16:11:17.413573Z"
    },
    "papermill": {
     "duration": 0.027931,
     "end_time": "2023-06-26T16:11:17.416712",
     "exception": false,
     "start_time": "2023-06-26T16:11:17.388781",
     "status": "completed"
    },
    "tags": []
   },
   "outputs": [
    {
     "data": {
      "text/plain": [
       "torch.Size([3, 4, 3])"
      ]
     },
     "execution_count": 22,
     "metadata": {},
     "output_type": "execute_result"
    }
   ],
   "source": [
    "random_tensor.shape"
   ]
  },
  {
   "cell_type": "code",
   "execution_count": 23,
   "id": "30825504",
   "metadata": {
    "execution": {
     "iopub.execute_input": "2023-06-26T16:11:17.457076Z",
     "iopub.status.busy": "2023-06-26T16:11:17.456500Z",
     "iopub.status.idle": "2023-06-26T16:11:17.471710Z",
     "shell.execute_reply": "2023-06-26T16:11:17.470641Z"
    },
    "papermill": {
     "duration": 0.038186,
     "end_time": "2023-06-26T16:11:17.474277",
     "exception": false,
     "start_time": "2023-06-26T16:11:17.436091",
     "status": "completed"
    },
    "scrolled": true,
    "tags": []
   },
   "outputs": [
    {
     "data": {
      "text/plain": [
       "tensor([[[0.1548, 0.0271, 0.5922],\n",
       "         [0.7880, 0.0139, 0.7422],\n",
       "         [0.0090, 0.2278, 0.7527],\n",
       "         ...,\n",
       "         [0.7519, 0.3898, 0.7100],\n",
       "         [0.1197, 0.8039, 0.4309],\n",
       "         [0.6979, 0.9063, 0.7396]],\n",
       "\n",
       "        [[0.1469, 0.8781, 0.4776],\n",
       "         [0.5780, 0.5257, 0.0761],\n",
       "         [0.2308, 0.7305, 0.9422],\n",
       "         ...,\n",
       "         [0.9640, 0.0511, 0.7221],\n",
       "         [0.1262, 0.4051, 0.3946],\n",
       "         [0.2457, 0.8198, 0.6167]],\n",
       "\n",
       "        [[0.1562, 0.5842, 0.3456],\n",
       "         [0.5561, 0.3947, 0.2791],\n",
       "         [0.8953, 0.0281, 0.0891],\n",
       "         ...,\n",
       "         [0.6577, 0.7408, 0.9511],\n",
       "         [0.0512, 0.7714, 0.4425],\n",
       "         [0.7382, 0.1204, 0.4028]],\n",
       "\n",
       "        ...,\n",
       "\n",
       "        [[0.9333, 0.4203, 0.1318],\n",
       "         [0.2421, 0.2137, 0.4487],\n",
       "         [0.4058, 0.0453, 0.7738],\n",
       "         ...,\n",
       "         [0.8381, 0.3195, 0.4574],\n",
       "         [0.2893, 0.6382, 0.3462],\n",
       "         [0.1806, 0.3162, 0.5687]],\n",
       "\n",
       "        [[0.7948, 0.5048, 0.3864],\n",
       "         [0.8915, 0.4898, 0.5467],\n",
       "         [0.4724, 0.2098, 0.7663],\n",
       "         ...,\n",
       "         [0.9840, 0.0420, 0.3600],\n",
       "         [0.6580, 0.0586, 0.0498],\n",
       "         [0.5798, 0.7473, 0.9397]],\n",
       "\n",
       "        [[0.7472, 0.1575, 0.6670],\n",
       "         [0.7821, 0.9610, 0.4406],\n",
       "         [0.8483, 0.7073, 0.7920],\n",
       "         ...,\n",
       "         [0.2593, 0.7574, 0.8623],\n",
       "         [0.8070, 0.9562, 0.0156],\n",
       "         [0.5751, 0.4165, 0.2008]]])"
      ]
     },
     "execution_count": 23,
     "metadata": {},
     "output_type": "execute_result"
    }
   ],
   "source": [
    "# Creating Random tensor similar to Image Shape\n",
    "random_image_size_tensor =torch.rand(size=[224,224,3],) # height, width , color channels\n",
    "random_image_size_tensor"
   ]
  },
  {
   "cell_type": "code",
   "execution_count": 24,
   "id": "41773cb9",
   "metadata": {
    "execution": {
     "iopub.execute_input": "2023-06-26T16:11:17.515085Z",
     "iopub.status.busy": "2023-06-26T16:11:17.514700Z",
     "iopub.status.idle": "2023-06-26T16:11:17.521353Z",
     "shell.execute_reply": "2023-06-26T16:11:17.520190Z"
    },
    "papermill": {
     "duration": 0.02973,
     "end_time": "2023-06-26T16:11:17.523646",
     "exception": false,
     "start_time": "2023-06-26T16:11:17.493916",
     "status": "completed"
    },
    "tags": []
   },
   "outputs": [
    {
     "data": {
      "text/plain": [
       "3"
      ]
     },
     "execution_count": 24,
     "metadata": {},
     "output_type": "execute_result"
    }
   ],
   "source": [
    "random_image_size_tensor.ndim"
   ]
  },
  {
   "cell_type": "code",
   "execution_count": 25,
   "id": "7be5e93b",
   "metadata": {
    "execution": {
     "iopub.execute_input": "2023-06-26T16:11:17.564189Z",
     "iopub.status.busy": "2023-06-26T16:11:17.563544Z",
     "iopub.status.idle": "2023-06-26T16:11:17.569182Z",
     "shell.execute_reply": "2023-06-26T16:11:17.568477Z"
    },
    "papermill": {
     "duration": 0.028479,
     "end_time": "2023-06-26T16:11:17.571347",
     "exception": false,
     "start_time": "2023-06-26T16:11:17.542868",
     "status": "completed"
    },
    "tags": []
   },
   "outputs": [
    {
     "data": {
      "text/plain": [
       "torch.Size([224, 224, 3])"
      ]
     },
     "execution_count": 25,
     "metadata": {},
     "output_type": "execute_result"
    }
   ],
   "source": [
    "random_image_size_tensor.shape"
   ]
  },
  {
   "cell_type": "markdown",
   "id": "86f49c72",
   "metadata": {
    "papermill": {
     "duration": 0.019102,
     "end_time": "2023-06-26T16:11:17.610491",
     "exception": false,
     "start_time": "2023-06-26T16:11:17.591389",
     "status": "completed"
    },
    "tags": []
   },
   "source": [
    "### Zeroes and Ones"
   ]
  },
  {
   "cell_type": "code",
   "execution_count": 26,
   "id": "340d2631",
   "metadata": {
    "execution": {
     "iopub.execute_input": "2023-06-26T16:11:17.651252Z",
     "iopub.status.busy": "2023-06-26T16:11:17.650540Z",
     "iopub.status.idle": "2023-06-26T16:11:17.659413Z",
     "shell.execute_reply": "2023-06-26T16:11:17.658689Z"
    },
    "papermill": {
     "duration": 0.031729,
     "end_time": "2023-06-26T16:11:17.661567",
     "exception": false,
     "start_time": "2023-06-26T16:11:17.629838",
     "status": "completed"
    },
    "tags": []
   },
   "outputs": [
    {
     "data": {
      "text/plain": [
       "tensor([[0., 0., 0., 0.],\n",
       "        [0., 0., 0., 0.],\n",
       "        [0., 0., 0., 0.]])"
      ]
     },
     "execution_count": 26,
     "metadata": {},
     "output_type": "execute_result"
    }
   ],
   "source": [
    "# Create a tenor of all zeros\n",
    "zeros = torch.zeros(3,4)\n",
    "zeros"
   ]
  },
  {
   "cell_type": "code",
   "execution_count": 27,
   "id": "542750d6",
   "metadata": {
    "execution": {
     "iopub.execute_input": "2023-06-26T16:11:17.702766Z",
     "iopub.status.busy": "2023-06-26T16:11:17.702087Z",
     "iopub.status.idle": "2023-06-26T16:11:17.710179Z",
     "shell.execute_reply": "2023-06-26T16:11:17.709413Z"
    },
    "papermill": {
     "duration": 0.031421,
     "end_time": "2023-06-26T16:11:17.712471",
     "exception": false,
     "start_time": "2023-06-26T16:11:17.681050",
     "status": "completed"
    },
    "tags": []
   },
   "outputs": [
    {
     "data": {
      "text/plain": [
       "tensor([[0., 0., 0., 0.],\n",
       "        [0., 0., 0., 0.],\n",
       "        [0., 0., 0., 0.]])"
      ]
     },
     "execution_count": 27,
     "metadata": {},
     "output_type": "execute_result"
    }
   ],
   "source": [
    "zeros * torch.rand(3,4)"
   ]
  },
  {
   "cell_type": "code",
   "execution_count": 28,
   "id": "6bdc42ff",
   "metadata": {
    "execution": {
     "iopub.execute_input": "2023-06-26T16:11:17.753908Z",
     "iopub.status.busy": "2023-06-26T16:11:17.753300Z",
     "iopub.status.idle": "2023-06-26T16:11:17.761455Z",
     "shell.execute_reply": "2023-06-26T16:11:17.760474Z"
    },
    "papermill": {
     "duration": 0.031641,
     "end_time": "2023-06-26T16:11:17.763804",
     "exception": false,
     "start_time": "2023-06-26T16:11:17.732163",
     "status": "completed"
    },
    "tags": []
   },
   "outputs": [
    {
     "data": {
      "text/plain": [
       "tensor([[1, 1, 1, 1],\n",
       "        [1, 1, 1, 1],\n",
       "        [1, 1, 1, 1]])"
      ]
     },
     "execution_count": 28,
     "metadata": {},
     "output_type": "execute_result"
    }
   ],
   "source": [
    "# Create tensor of all ones\n",
    "ones = torch.ones(size=(3,4),dtype=int)\n",
    "ones"
   ]
  },
  {
   "cell_type": "code",
   "execution_count": 29,
   "id": "72ed5516",
   "metadata": {
    "execution": {
     "iopub.execute_input": "2023-06-26T16:11:17.805853Z",
     "iopub.status.busy": "2023-06-26T16:11:17.805371Z",
     "iopub.status.idle": "2023-06-26T16:11:17.812215Z",
     "shell.execute_reply": "2023-06-26T16:11:17.811048Z"
    },
    "papermill": {
     "duration": 0.030805,
     "end_time": "2023-06-26T16:11:17.814440",
     "exception": false,
     "start_time": "2023-06-26T16:11:17.783635",
     "status": "completed"
    },
    "tags": []
   },
   "outputs": [
    {
     "data": {
      "text/plain": [
       "torch.int64"
      ]
     },
     "execution_count": 29,
     "metadata": {},
     "output_type": "execute_result"
    }
   ],
   "source": [
    "ones.dtype"
   ]
  },
  {
   "cell_type": "markdown",
   "id": "5938bfce",
   "metadata": {
    "execution": {
     "iopub.execute_input": "2023-06-25T16:24:23.852212Z",
     "iopub.status.busy": "2023-06-25T16:24:23.851772Z",
     "iopub.status.idle": "2023-06-25T16:24:23.857025Z",
     "shell.execute_reply": "2023-06-25T16:24:23.856069Z",
     "shell.execute_reply.started": "2023-06-25T16:24:23.852179Z"
    },
    "papermill": {
     "duration": 0.019664,
     "end_time": "2023-06-26T16:11:17.855140",
     "exception": false,
     "start_time": "2023-06-26T16:11:17.835476",
     "status": "completed"
    },
    "tags": []
   },
   "source": [
    "### Create a range of tensors and tensors-like\n",
    "\n",
    "ref - https://pytorch.org/docs/stable/generated/torch.arange.html"
   ]
  },
  {
   "cell_type": "code",
   "execution_count": 30,
   "id": "197eaf03",
   "metadata": {
    "execution": {
     "iopub.execute_input": "2023-06-26T16:11:17.897062Z",
     "iopub.status.busy": "2023-06-26T16:11:17.896698Z",
     "iopub.status.idle": "2023-06-26T16:11:17.909891Z",
     "shell.execute_reply": "2023-06-26T16:11:17.908743Z"
    },
    "papermill": {
     "duration": 0.037216,
     "end_time": "2023-06-26T16:11:17.912325",
     "exception": false,
     "start_time": "2023-06-26T16:11:17.875109",
     "status": "completed"
    },
    "tags": []
   },
   "outputs": [
    {
     "data": {
      "text/plain": [
       "tensor([ 1,  2,  3,  4,  5,  6,  7,  8,  9, 10])"
      ]
     },
     "execution_count": 30,
     "metadata": {},
     "output_type": "execute_result"
    }
   ],
   "source": [
    "# Use torch.arange()\n",
    "one_to_ten = torch.arange(start=1, end=11, step=1)\n",
    "one_to_ten"
   ]
  },
  {
   "cell_type": "code",
   "execution_count": 31,
   "id": "bd0f6fd2",
   "metadata": {
    "execution": {
     "iopub.execute_input": "2023-06-26T16:11:17.955345Z",
     "iopub.status.busy": "2023-06-26T16:11:17.954959Z",
     "iopub.status.idle": "2023-06-26T16:11:17.962144Z",
     "shell.execute_reply": "2023-06-26T16:11:17.961186Z"
    },
    "papermill": {
     "duration": 0.030931,
     "end_time": "2023-06-26T16:11:17.964253",
     "exception": false,
     "start_time": "2023-06-26T16:11:17.933322",
     "status": "completed"
    },
    "tags": []
   },
   "outputs": [
    {
     "data": {
      "text/plain": [
       "tensor([0, 0, 0, 0, 0, 0, 0, 0, 0, 0])"
      ]
     },
     "execution_count": 31,
     "metadata": {},
     "output_type": "execute_result"
    }
   ],
   "source": [
    "# Create tesnors like\n",
    "ten_zeros = torch.zeros_like(input=one_to_ten)\n",
    "ten_zeros"
   ]
  },
  {
   "cell_type": "markdown",
   "id": "565d9575",
   "metadata": {
    "papermill": {
     "duration": 0.021425,
     "end_time": "2023-06-26T16:11:18.006227",
     "exception": false,
     "start_time": "2023-06-26T16:11:17.984802",
     "status": "completed"
    },
    "tags": []
   },
   "source": [
    "### Tensor datatypes\n",
    "\n",
    "Tensor datatypes is one of the 3 big errors arrive in Pytorch\n",
    "\n",
    "1. Tensors not right datatype\n",
    "2. Tensors not right shape\n",
    "3. Tensors not no right device\n",
    "\n",
    "ref - https://pytorch.org/docs/stable/tensors.html"
   ]
  },
  {
   "cell_type": "code",
   "execution_count": 32,
   "id": "c8412f74",
   "metadata": {
    "execution": {
     "iopub.execute_input": "2023-06-26T16:11:18.049744Z",
     "iopub.status.busy": "2023-06-26T16:11:18.049097Z",
     "iopub.status.idle": "2023-06-26T16:11:18.056565Z",
     "shell.execute_reply": "2023-06-26T16:11:18.055792Z"
    },
    "papermill": {
     "duration": 0.031501,
     "end_time": "2023-06-26T16:11:18.058672",
     "exception": false,
     "start_time": "2023-06-26T16:11:18.027171",
     "status": "completed"
    },
    "tags": []
   },
   "outputs": [
    {
     "data": {
      "text/plain": [
       "tensor([3., 6., 9.])"
      ]
     },
     "execution_count": 32,
     "metadata": {},
     "output_type": "execute_result"
    }
   ],
   "source": [
    "# Float 32 tensor\n",
    "float_32_tensor =torch.tensor([3.0,6.0,9.0],\n",
    "                             dtype=None, # what datatype of tensor (float32 etc)\n",
    "                             device=None, #'cpu or gpu -> cuda'\n",
    "                             requires_grad=False) # whether to track gradient\n",
    "float_32_tensor"
   ]
  },
  {
   "cell_type": "code",
   "execution_count": 33,
   "id": "94eb09ed",
   "metadata": {
    "execution": {
     "iopub.execute_input": "2023-06-26T16:11:18.102194Z",
     "iopub.status.busy": "2023-06-26T16:11:18.101503Z",
     "iopub.status.idle": "2023-06-26T16:11:18.107226Z",
     "shell.execute_reply": "2023-06-26T16:11:18.106494Z"
    },
    "papermill": {
     "duration": 0.029799,
     "end_time": "2023-06-26T16:11:18.109321",
     "exception": false,
     "start_time": "2023-06-26T16:11:18.079522",
     "status": "completed"
    },
    "tags": []
   },
   "outputs": [
    {
     "data": {
      "text/plain": [
       "torch.float32"
      ]
     },
     "execution_count": 33,
     "metadata": {},
     "output_type": "execute_result"
    }
   ],
   "source": [
    "float_32_tensor.dtype"
   ]
  },
  {
   "cell_type": "code",
   "execution_count": 34,
   "id": "f0bc42f3",
   "metadata": {
    "execution": {
     "iopub.execute_input": "2023-06-26T16:11:18.156094Z",
     "iopub.status.busy": "2023-06-26T16:11:18.155392Z",
     "iopub.status.idle": "2023-06-26T16:11:18.163138Z",
     "shell.execute_reply": "2023-06-26T16:11:18.162053Z"
    },
    "papermill": {
     "duration": 0.034152,
     "end_time": "2023-06-26T16:11:18.165604",
     "exception": false,
     "start_time": "2023-06-26T16:11:18.131452",
     "status": "completed"
    },
    "tags": []
   },
   "outputs": [],
   "source": [
    "float_16_tensor = float_32_tensor.half()\n",
    "# or\n",
    "float_16_tensor = float_32_tensor.type(torch.float) # torch.half"
   ]
  },
  {
   "cell_type": "code",
   "execution_count": 35,
   "id": "6834098f",
   "metadata": {
    "execution": {
     "iopub.execute_input": "2023-06-26T16:11:18.209613Z",
     "iopub.status.busy": "2023-06-26T16:11:18.209162Z",
     "iopub.status.idle": "2023-06-26T16:11:18.216673Z",
     "shell.execute_reply": "2023-06-26T16:11:18.215788Z"
    },
    "papermill": {
     "duration": 0.031442,
     "end_time": "2023-06-26T16:11:18.218764",
     "exception": false,
     "start_time": "2023-06-26T16:11:18.187322",
     "status": "completed"
    },
    "tags": []
   },
   "outputs": [
    {
     "data": {
      "text/plain": [
       "tensor([3., 6., 9.])"
      ]
     },
     "execution_count": 35,
     "metadata": {},
     "output_type": "execute_result"
    }
   ],
   "source": [
    "float_16_tensor"
   ]
  },
  {
   "cell_type": "code",
   "execution_count": 36,
   "id": "8804a41e",
   "metadata": {
    "execution": {
     "iopub.execute_input": "2023-06-26T16:11:18.262604Z",
     "iopub.status.busy": "2023-06-26T16:11:18.261485Z",
     "iopub.status.idle": "2023-06-26T16:11:18.268461Z",
     "shell.execute_reply": "2023-06-26T16:11:18.267488Z"
    },
    "papermill": {
     "duration": 0.031266,
     "end_time": "2023-06-26T16:11:18.270826",
     "exception": false,
     "start_time": "2023-06-26T16:11:18.239560",
     "status": "completed"
    },
    "tags": []
   },
   "outputs": [
    {
     "data": {
      "text/plain": [
       "torch.float32"
      ]
     },
     "execution_count": 36,
     "metadata": {},
     "output_type": "execute_result"
    }
   ],
   "source": [
    "(float_16_tensor * float_32_tensor).dtype"
   ]
  },
  {
   "cell_type": "code",
   "execution_count": 37,
   "id": "5377f133",
   "metadata": {
    "execution": {
     "iopub.execute_input": "2023-06-26T16:11:18.313860Z",
     "iopub.status.busy": "2023-06-26T16:11:18.313411Z",
     "iopub.status.idle": "2023-06-26T16:11:18.318397Z",
     "shell.execute_reply": "2023-06-26T16:11:18.317387Z"
    },
    "papermill": {
     "duration": 0.02924,
     "end_time": "2023-06-26T16:11:18.320654",
     "exception": false,
     "start_time": "2023-06-26T16:11:18.291414",
     "status": "completed"
    },
    "tags": []
   },
   "outputs": [],
   "source": [
    "int_32_tensor = torch.tensor([3,4,5],\n",
    "                             dtype=torch.int32)"
   ]
  },
  {
   "cell_type": "code",
   "execution_count": 38,
   "id": "06d6cc7f",
   "metadata": {
    "execution": {
     "iopub.execute_input": "2023-06-26T16:11:18.363734Z",
     "iopub.status.busy": "2023-06-26T16:11:18.363330Z",
     "iopub.status.idle": "2023-06-26T16:11:18.370913Z",
     "shell.execute_reply": "2023-06-26T16:11:18.369978Z"
    },
    "papermill": {
     "duration": 0.031551,
     "end_time": "2023-06-26T16:11:18.373028",
     "exception": false,
     "start_time": "2023-06-26T16:11:18.341477",
     "status": "completed"
    },
    "tags": []
   },
   "outputs": [
    {
     "data": {
      "text/plain": [
       "tensor([ 9., 24., 45.])"
      ]
     },
     "execution_count": 38,
     "metadata": {},
     "output_type": "execute_result"
    }
   ],
   "source": [
    "float_16_tensor * int_32_tensor"
   ]
  },
  {
   "cell_type": "markdown",
   "id": "3d5c36e4",
   "metadata": {
    "papermill": {
     "duration": 0.020769,
     "end_time": "2023-06-26T16:11:18.415571",
     "exception": false,
     "start_time": "2023-06-26T16:11:18.394802",
     "status": "completed"
    },
    "tags": []
   },
   "source": [
    "### Getting info from tensors (tensor attributes)\n",
    "1. tensor not datatype - to check use tensor.dtype\n",
    "2. tensor not right shape - to check use tensor.shape or tensor.size()\n",
    "3. tensor not on right device - to check use tensor.device"
   ]
  },
  {
   "cell_type": "code",
   "execution_count": 39,
   "id": "90885241",
   "metadata": {
    "execution": {
     "iopub.execute_input": "2023-06-26T16:11:18.459368Z",
     "iopub.status.busy": "2023-06-26T16:11:18.458978Z",
     "iopub.status.idle": "2023-06-26T16:11:18.465600Z",
     "shell.execute_reply": "2023-06-26T16:11:18.464827Z"
    },
    "papermill": {
     "duration": 0.030994,
     "end_time": "2023-06-26T16:11:18.467748",
     "exception": false,
     "start_time": "2023-06-26T16:11:18.436754",
     "status": "completed"
    },
    "tags": []
   },
   "outputs": [
    {
     "data": {
      "text/plain": [
       "tensor([[0.4882, 0.0401, 0.6594, 0.8345],\n",
       "        [0.4844, 0.5947, 0.9397, 0.5870],\n",
       "        [0.2012, 0.8844, 0.1691, 0.8914]])"
      ]
     },
     "execution_count": 39,
     "metadata": {},
     "output_type": "execute_result"
    }
   ],
   "source": [
    "# Create a tensor\n",
    "some_tensor = torch.rand(3,4)\n",
    "some_tensor"
   ]
  },
  {
   "cell_type": "code",
   "execution_count": 40,
   "id": "25b887a0",
   "metadata": {
    "execution": {
     "iopub.execute_input": "2023-06-26T16:11:18.512673Z",
     "iopub.status.busy": "2023-06-26T16:11:18.511937Z",
     "iopub.status.idle": "2023-06-26T16:11:18.517858Z",
     "shell.execute_reply": "2023-06-26T16:11:18.516801Z"
    },
    "papermill": {
     "duration": 0.030985,
     "end_time": "2023-06-26T16:11:18.520185",
     "exception": false,
     "start_time": "2023-06-26T16:11:18.489200",
     "status": "completed"
    },
    "tags": []
   },
   "outputs": [
    {
     "name": "stdout",
     "output_type": "stream",
     "text": [
      "Tensor Datatype : torch.float32 Tensor Shape : torch.Size([3, 4]) Tensor Device : cpu\n"
     ]
    }
   ],
   "source": [
    "print(\"Tensor Datatype :\",some_tensor.dtype,\n",
    "\"Tensor Shape :\",some_tensor.shape,\n",
    "\"Tensor Device :\",some_tensor.device)"
   ]
  },
  {
   "cell_type": "markdown",
   "id": "905fc61a",
   "metadata": {
    "execution": {
     "iopub.execute_input": "2023-06-26T15:31:18.518353Z",
     "iopub.status.busy": "2023-06-26T15:31:18.517972Z",
     "iopub.status.idle": "2023-06-26T15:31:18.526666Z",
     "shell.execute_reply": "2023-06-26T15:31:18.525296Z",
     "shell.execute_reply.started": "2023-06-26T15:31:18.518326Z"
    },
    "papermill": {
     "duration": 0.020827,
     "end_time": "2023-06-26T16:11:18.562511",
     "exception": false,
     "start_time": "2023-06-26T16:11:18.541684",
     "status": "completed"
    },
    "tags": []
   },
   "source": [
    "### Manipulating Tensors (Tensor Operations)\n",
    "1. Addition\n",
    "2. Subtraction\n",
    "3. Multiplication (element-wise)\n",
    "4. Division\n",
    "5. Matrix Multiplication"
   ]
  },
  {
   "cell_type": "code",
   "execution_count": 41,
   "id": "21081830",
   "metadata": {
    "execution": {
     "iopub.execute_input": "2023-06-26T16:11:18.606797Z",
     "iopub.status.busy": "2023-06-26T16:11:18.606198Z",
     "iopub.status.idle": "2023-06-26T16:11:18.616309Z",
     "shell.execute_reply": "2023-06-26T16:11:18.615464Z"
    },
    "papermill": {
     "duration": 0.034981,
     "end_time": "2023-06-26T16:11:18.618451",
     "exception": false,
     "start_time": "2023-06-26T16:11:18.583470",
     "status": "completed"
    },
    "tags": []
   },
   "outputs": [
    {
     "data": {
      "text/plain": [
       "tensor([11, 12, 13])"
      ]
     },
     "execution_count": 41,
     "metadata": {},
     "output_type": "execute_result"
    }
   ],
   "source": [
    "# Create a tensor and add 10\n",
    "tensor = torch.tensor([1,2,3])\n",
    "tensor + 10"
   ]
  },
  {
   "cell_type": "code",
   "execution_count": 42,
   "id": "3b66fe49",
   "metadata": {
    "execution": {
     "iopub.execute_input": "2023-06-26T16:11:18.663072Z",
     "iopub.status.busy": "2023-06-26T16:11:18.662489Z",
     "iopub.status.idle": "2023-06-26T16:11:18.669973Z",
     "shell.execute_reply": "2023-06-26T16:11:18.669094Z"
    },
    "papermill": {
     "duration": 0.032361,
     "end_time": "2023-06-26T16:11:18.672010",
     "exception": false,
     "start_time": "2023-06-26T16:11:18.639649",
     "status": "completed"
    },
    "tags": []
   },
   "outputs": [
    {
     "data": {
      "text/plain": [
       "tensor([10, 20, 30])"
      ]
     },
     "execution_count": 42,
     "metadata": {},
     "output_type": "execute_result"
    }
   ],
   "source": [
    "# multiply\n",
    "tensor * 10"
   ]
  },
  {
   "cell_type": "code",
   "execution_count": 43,
   "id": "6e6c86d2",
   "metadata": {
    "execution": {
     "iopub.execute_input": "2023-06-26T16:11:18.717064Z",
     "iopub.status.busy": "2023-06-26T16:11:18.716449Z",
     "iopub.status.idle": "2023-06-26T16:11:18.725884Z",
     "shell.execute_reply": "2023-06-26T16:11:18.724782Z"
    },
    "papermill": {
     "duration": 0.03477,
     "end_time": "2023-06-26T16:11:18.728069",
     "exception": false,
     "start_time": "2023-06-26T16:11:18.693299",
     "status": "completed"
    },
    "tags": []
   },
   "outputs": [
    {
     "data": {
      "text/plain": [
       "tensor([-9, -8, -7])"
      ]
     },
     "execution_count": 43,
     "metadata": {},
     "output_type": "execute_result"
    }
   ],
   "source": [
    "# subtract 10\n",
    "tensor - 10"
   ]
  },
  {
   "cell_type": "code",
   "execution_count": 44,
   "id": "3e332005",
   "metadata": {
    "execution": {
     "iopub.execute_input": "2023-06-26T16:11:18.773086Z",
     "iopub.status.busy": "2023-06-26T16:11:18.772321Z",
     "iopub.status.idle": "2023-06-26T16:11:18.780015Z",
     "shell.execute_reply": "2023-06-26T16:11:18.778995Z"
    },
    "papermill": {
     "duration": 0.032715,
     "end_time": "2023-06-26T16:11:18.782307",
     "exception": false,
     "start_time": "2023-06-26T16:11:18.749592",
     "status": "completed"
    },
    "tags": []
   },
   "outputs": [
    {
     "data": {
      "text/plain": [
       "tensor([10, 20, 30])"
      ]
     },
     "execution_count": 44,
     "metadata": {},
     "output_type": "execute_result"
    }
   ],
   "source": [
    "# multiply using tensor function\n",
    "torch.mul(tensor,10)"
   ]
  },
  {
   "cell_type": "markdown",
   "id": "23153826",
   "metadata": {
    "papermill": {
     "duration": 0.021969,
     "end_time": "2023-06-26T16:11:18.827378",
     "exception": false,
     "start_time": "2023-06-26T16:11:18.805409",
     "status": "completed"
    },
    "tags": []
   },
   "source": [
    "### Matrix Multiplication\n",
    "\n",
    "Two Main ways to multiply in tensors\n",
    "\n",
    "1. Element-wise multipication or Cross Multiplication\n",
    "2. Matrix multiplication or Dot Product\n",
    "\n",
    "ref - https://www.mathsisfun.com/algebra/matrix-multiplying.html"
   ]
  },
  {
   "cell_type": "code",
   "execution_count": 45,
   "id": "c316c86a",
   "metadata": {
    "execution": {
     "iopub.execute_input": "2023-06-26T16:11:18.872465Z",
     "iopub.status.busy": "2023-06-26T16:11:18.872062Z",
     "iopub.status.idle": "2023-06-26T16:11:18.879649Z",
     "shell.execute_reply": "2023-06-26T16:11:18.878434Z"
    },
    "papermill": {
     "duration": 0.032804,
     "end_time": "2023-06-26T16:11:18.881768",
     "exception": false,
     "start_time": "2023-06-26T16:11:18.848964",
     "status": "completed"
    },
    "tags": []
   },
   "outputs": [
    {
     "name": "stdout",
     "output_type": "stream",
     "text": [
      "tensor([1, 2, 3]) * tensor([1, 2, 3])\n",
      "Equals : tensor([1, 4, 9])\n"
     ]
    }
   ],
   "source": [
    "# Element wise multiplication\n",
    "print(tensor, '*' , tensor)\n",
    "print('Equals :', tensor * tensor )"
   ]
  },
  {
   "cell_type": "code",
   "execution_count": 46,
   "id": "5d709fb2",
   "metadata": {
    "execution": {
     "iopub.execute_input": "2023-06-26T16:11:18.927584Z",
     "iopub.status.busy": "2023-06-26T16:11:18.927192Z",
     "iopub.status.idle": "2023-06-26T16:11:18.935628Z",
     "shell.execute_reply": "2023-06-26T16:11:18.934487Z"
    },
    "papermill": {
     "duration": 0.033482,
     "end_time": "2023-06-26T16:11:18.937826",
     "exception": false,
     "start_time": "2023-06-26T16:11:18.904344",
     "status": "completed"
    },
    "tags": []
   },
   "outputs": [
    {
     "data": {
      "text/plain": [
       "tensor(14)"
      ]
     },
     "execution_count": 46,
     "metadata": {},
     "output_type": "execute_result"
    }
   ],
   "source": [
    "# Matrix Multiplication\n",
    "torch.matmul(tensor,tensor)"
   ]
  }
 ],
 "metadata": {
  "kernelspec": {
   "display_name": "Python 3",
   "language": "python",
   "name": "python3"
  },
  "language_info": {
   "codemirror_mode": {
    "name": "ipython",
    "version": 3
   },
   "file_extension": ".py",
   "mimetype": "text/x-python",
   "name": "python",
   "nbconvert_exporter": "python",
   "pygments_lexer": "ipython3",
   "version": "3.10.10"
  },
  "papermill": {
   "default_parameters": {},
   "duration": 19.876125,
   "end_time": "2023-06-26T16:11:20.282744",
   "environment_variables": {},
   "exception": null,
   "input_path": "__notebook__.ipynb",
   "output_path": "__notebook__.ipynb",
   "parameters": {},
   "start_time": "2023-06-26T16:11:00.406619",
   "version": "2.4.0"
  }
 },
 "nbformat": 4,
 "nbformat_minor": 5
}
