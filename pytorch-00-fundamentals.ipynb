{
 "cells": [
  {
   "cell_type": "code",
   "execution_count": 1,
   "id": "651ea01f",
   "metadata": {
    "_cell_guid": "b1076dfc-b9ad-4769-8c92-a6c4dae69d19",
    "_uuid": "8f2839f25d086af736a60e9eeb907d3b93b6e0e5",
    "execution": {
     "iopub.execute_input": "2023-06-29T15:45:22.611333Z",
     "iopub.status.busy": "2023-06-29T15:45:22.610403Z",
     "iopub.status.idle": "2023-06-29T15:45:25.571523Z",
     "shell.execute_reply": "2023-06-29T15:45:25.570600Z"
    },
    "papermill": {
     "duration": 2.986465,
     "end_time": "2023-06-29T15:45:25.573731",
     "exception": false,
     "start_time": "2023-06-29T15:45:22.587266",
     "status": "completed"
    },
    "tags": []
   },
   "outputs": [
    {
     "data": {
      "text/plain": [
       "'2.0.0'"
      ]
     },
     "execution_count": 1,
     "metadata": {},
     "output_type": "execute_result"
    }
   ],
   "source": [
    "import torch\n",
    "import pandas as pd\n",
    "import numpy as np\n",
    "import matplotlib.pyplot as plt\n",
    "torch.__version__"
   ]
  },
  {
   "cell_type": "markdown",
   "id": "1a90bcfe",
   "metadata": {
    "execution": {
     "iopub.execute_input": "2023-06-25T15:31:29.081596Z",
     "iopub.status.busy": "2023-06-25T15:31:29.081220Z",
     "iopub.status.idle": "2023-06-25T15:31:29.086052Z",
     "shell.execute_reply": "2023-06-25T15:31:29.085102Z",
     "shell.execute_reply.started": "2023-06-25T15:31:29.081561Z"
    },
    "papermill": {
     "duration": 0.02117,
     "end_time": "2023-06-29T15:45:25.617098",
     "exception": false,
     "start_time": "2023-06-29T15:45:25.595928",
     "status": "completed"
    },
    "tags": []
   },
   "source": [
    "## Introduction to Tensor\n",
    "\n",
    "### Creating Tensors\n",
    "\n",
    "PyTorch tensor are create using `torch.Tensor()`\n",
    "\n",
    "ref - https://pytorch.org/docs/stable/tensors.html"
   ]
  },
  {
   "cell_type": "code",
   "execution_count": 2,
   "id": "9a9d7a6e",
   "metadata": {
    "execution": {
     "iopub.execute_input": "2023-06-29T15:45:25.662274Z",
     "iopub.status.busy": "2023-06-29T15:45:25.661576Z",
     "iopub.status.idle": "2023-06-29T15:45:25.694700Z",
     "shell.execute_reply": "2023-06-29T15:45:25.693802Z"
    },
    "papermill": {
     "duration": 0.057457,
     "end_time": "2023-06-29T15:45:25.696707",
     "exception": false,
     "start_time": "2023-06-29T15:45:25.639250",
     "status": "completed"
    },
    "tags": []
   },
   "outputs": [
    {
     "data": {
      "text/plain": [
       "tensor(7)"
      ]
     },
     "execution_count": 2,
     "metadata": {},
     "output_type": "execute_result"
    }
   ],
   "source": [
    "# Scaler\n",
    "scaler = torch.tensor(7)\n",
    "scaler"
   ]
  },
  {
   "cell_type": "code",
   "execution_count": 3,
   "id": "5efacbaf",
   "metadata": {
    "execution": {
     "iopub.execute_input": "2023-06-29T15:45:25.740759Z",
     "iopub.status.busy": "2023-06-29T15:45:25.740066Z",
     "iopub.status.idle": "2023-06-29T15:45:25.745450Z",
     "shell.execute_reply": "2023-06-29T15:45:25.744652Z"
    },
    "papermill": {
     "duration": 0.029298,
     "end_time": "2023-06-29T15:45:25.747311",
     "exception": false,
     "start_time": "2023-06-29T15:45:25.718013",
     "status": "completed"
    },
    "tags": []
   },
   "outputs": [
    {
     "data": {
      "text/plain": [
       "0"
      ]
     },
     "execution_count": 3,
     "metadata": {},
     "output_type": "execute_result"
    }
   ],
   "source": [
    "scaler.ndim"
   ]
  },
  {
   "cell_type": "code",
   "execution_count": 4,
   "id": "247d8fb8",
   "metadata": {
    "execution": {
     "iopub.execute_input": "2023-06-29T15:45:25.791850Z",
     "iopub.status.busy": "2023-06-29T15:45:25.791012Z",
     "iopub.status.idle": "2023-06-29T15:45:25.796839Z",
     "shell.execute_reply": "2023-06-29T15:45:25.795923Z"
    },
    "papermill": {
     "duration": 0.029874,
     "end_time": "2023-06-29T15:45:25.798730",
     "exception": false,
     "start_time": "2023-06-29T15:45:25.768856",
     "status": "completed"
    },
    "tags": []
   },
   "outputs": [
    {
     "data": {
      "text/plain": [
       "7"
      ]
     },
     "execution_count": 4,
     "metadata": {},
     "output_type": "execute_result"
    }
   ],
   "source": [
    "# Get Tensor back ans int\n",
    "scaler.item()"
   ]
  },
  {
   "cell_type": "code",
   "execution_count": 5,
   "id": "748047a7",
   "metadata": {
    "execution": {
     "iopub.execute_input": "2023-06-29T15:45:25.842631Z",
     "iopub.status.busy": "2023-06-29T15:45:25.841926Z",
     "iopub.status.idle": "2023-06-29T15:45:25.849300Z",
     "shell.execute_reply": "2023-06-29T15:45:25.848370Z"
    },
    "papermill": {
     "duration": 0.031202,
     "end_time": "2023-06-29T15:45:25.851209",
     "exception": false,
     "start_time": "2023-06-29T15:45:25.820007",
     "status": "completed"
    },
    "tags": []
   },
   "outputs": [
    {
     "data": {
      "text/plain": [
       "tensor([7, 7])"
      ]
     },
     "execution_count": 5,
     "metadata": {},
     "output_type": "execute_result"
    }
   ],
   "source": [
    "# Vector\n",
    "vector = torch.tensor([7,7])\n",
    "vector"
   ]
  },
  {
   "cell_type": "code",
   "execution_count": 6,
   "id": "aee9b6ec",
   "metadata": {
    "execution": {
     "iopub.execute_input": "2023-06-29T15:45:25.896689Z",
     "iopub.status.busy": "2023-06-29T15:45:25.895297Z",
     "iopub.status.idle": "2023-06-29T15:45:25.901229Z",
     "shell.execute_reply": "2023-06-29T15:45:25.900339Z"
    },
    "papermill": {
     "duration": 0.030242,
     "end_time": "2023-06-29T15:45:25.903119",
     "exception": false,
     "start_time": "2023-06-29T15:45:25.872877",
     "status": "completed"
    },
    "tags": []
   },
   "outputs": [
    {
     "data": {
      "text/plain": [
       "1"
      ]
     },
     "execution_count": 6,
     "metadata": {},
     "output_type": "execute_result"
    }
   ],
   "source": [
    "vector.ndim"
   ]
  },
  {
   "cell_type": "code",
   "execution_count": 7,
   "id": "e470f507",
   "metadata": {
    "execution": {
     "iopub.execute_input": "2023-06-29T15:45:25.947681Z",
     "iopub.status.busy": "2023-06-29T15:45:25.946895Z",
     "iopub.status.idle": "2023-06-29T15:45:25.952602Z",
     "shell.execute_reply": "2023-06-29T15:45:25.951698Z"
    },
    "papermill": {
     "duration": 0.029872,
     "end_time": "2023-06-29T15:45:25.954495",
     "exception": false,
     "start_time": "2023-06-29T15:45:25.924623",
     "status": "completed"
    },
    "tags": []
   },
   "outputs": [
    {
     "data": {
      "text/plain": [
       "torch.Size([2])"
      ]
     },
     "execution_count": 7,
     "metadata": {},
     "output_type": "execute_result"
    }
   ],
   "source": [
    "vector.shape"
   ]
  },
  {
   "cell_type": "code",
   "execution_count": 8,
   "id": "577671c6",
   "metadata": {
    "execution": {
     "iopub.execute_input": "2023-06-29T15:45:25.999837Z",
     "iopub.status.busy": "2023-06-29T15:45:25.998478Z",
     "iopub.status.idle": "2023-06-29T15:45:26.007335Z",
     "shell.execute_reply": "2023-06-29T15:45:26.006414Z"
    },
    "papermill": {
     "duration": 0.033087,
     "end_time": "2023-06-29T15:45:26.009282",
     "exception": false,
     "start_time": "2023-06-29T15:45:25.976195",
     "status": "completed"
    },
    "tags": []
   },
   "outputs": [
    {
     "data": {
      "text/plain": [
       "tensor([[7, 8],\n",
       "        [6, 5]])"
      ]
     },
     "execution_count": 8,
     "metadata": {},
     "output_type": "execute_result"
    }
   ],
   "source": [
    "# Matrix\n",
    "MATRIX = torch.tensor([[7,8],\n",
    "                      [6,5]])\n",
    "MATRIX"
   ]
  },
  {
   "cell_type": "code",
   "execution_count": 9,
   "id": "f08e3d84",
   "metadata": {
    "execution": {
     "iopub.execute_input": "2023-06-29T15:45:26.054179Z",
     "iopub.status.busy": "2023-06-29T15:45:26.053556Z",
     "iopub.status.idle": "2023-06-29T15:45:26.058678Z",
     "shell.execute_reply": "2023-06-29T15:45:26.057888Z"
    },
    "papermill": {
     "duration": 0.029521,
     "end_time": "2023-06-29T15:45:26.060501",
     "exception": false,
     "start_time": "2023-06-29T15:45:26.030980",
     "status": "completed"
    },
    "tags": []
   },
   "outputs": [
    {
     "data": {
      "text/plain": [
       "2"
      ]
     },
     "execution_count": 9,
     "metadata": {},
     "output_type": "execute_result"
    }
   ],
   "source": [
    "MATRIX.ndim"
   ]
  },
  {
   "cell_type": "code",
   "execution_count": 10,
   "id": "24674733",
   "metadata": {
    "execution": {
     "iopub.execute_input": "2023-06-29T15:45:26.106782Z",
     "iopub.status.busy": "2023-06-29T15:45:26.105926Z",
     "iopub.status.idle": "2023-06-29T15:45:26.112205Z",
     "shell.execute_reply": "2023-06-29T15:45:26.111293Z"
    },
    "papermill": {
     "duration": 0.03148,
     "end_time": "2023-06-29T15:45:26.114609",
     "exception": false,
     "start_time": "2023-06-29T15:45:26.083129",
     "status": "completed"
    },
    "tags": []
   },
   "outputs": [
    {
     "data": {
      "text/plain": [
       "tensor([7, 8])"
      ]
     },
     "execution_count": 10,
     "metadata": {},
     "output_type": "execute_result"
    }
   ],
   "source": [
    "MATRIX[0]"
   ]
  },
  {
   "cell_type": "code",
   "execution_count": 11,
   "id": "e6efb00e",
   "metadata": {
    "execution": {
     "iopub.execute_input": "2023-06-29T15:45:26.160755Z",
     "iopub.status.busy": "2023-06-29T15:45:26.159965Z",
     "iopub.status.idle": "2023-06-29T15:45:26.165945Z",
     "shell.execute_reply": "2023-06-29T15:45:26.165069Z"
    },
    "papermill": {
     "duration": 0.030636,
     "end_time": "2023-06-29T15:45:26.167770",
     "exception": false,
     "start_time": "2023-06-29T15:45:26.137134",
     "status": "completed"
    },
    "tags": []
   },
   "outputs": [
    {
     "data": {
      "text/plain": [
       "tensor([6, 5])"
      ]
     },
     "execution_count": 11,
     "metadata": {},
     "output_type": "execute_result"
    }
   ],
   "source": [
    "MATRIX[1]"
   ]
  },
  {
   "cell_type": "code",
   "execution_count": 12,
   "id": "98d08be5",
   "metadata": {
    "execution": {
     "iopub.execute_input": "2023-06-29T15:45:26.213631Z",
     "iopub.status.busy": "2023-06-29T15:45:26.212919Z",
     "iopub.status.idle": "2023-06-29T15:45:26.218697Z",
     "shell.execute_reply": "2023-06-29T15:45:26.217777Z"
    },
    "papermill": {
     "duration": 0.030621,
     "end_time": "2023-06-29T15:45:26.220572",
     "exception": false,
     "start_time": "2023-06-29T15:45:26.189951",
     "status": "completed"
    },
    "tags": []
   },
   "outputs": [
    {
     "data": {
      "text/plain": [
       "torch.Size([2, 2])"
      ]
     },
     "execution_count": 12,
     "metadata": {},
     "output_type": "execute_result"
    }
   ],
   "source": [
    "MATRIX.shape"
   ]
  },
  {
   "cell_type": "code",
   "execution_count": 13,
   "id": "6c29fef2",
   "metadata": {
    "execution": {
     "iopub.execute_input": "2023-06-29T15:45:26.266909Z",
     "iopub.status.busy": "2023-06-29T15:45:26.266049Z",
     "iopub.status.idle": "2023-06-29T15:45:26.273537Z",
     "shell.execute_reply": "2023-06-29T15:45:26.272591Z"
    },
    "papermill": {
     "duration": 0.032647,
     "end_time": "2023-06-29T15:45:26.275476",
     "exception": false,
     "start_time": "2023-06-29T15:45:26.242829",
     "status": "completed"
    },
    "tags": []
   },
   "outputs": [
    {
     "data": {
      "text/plain": [
       "tensor([[[1, 2, 3],\n",
       "         [5, 6, 6],\n",
       "         [7, 8, 9]]])"
      ]
     },
     "execution_count": 13,
     "metadata": {},
     "output_type": "execute_result"
    }
   ],
   "source": [
    "# Tensor\n",
    "TENSOR = torch.tensor([[[1,2,3],\n",
    "                      [5,6,6],\n",
    "                      [7,8,9]]])\n",
    "TENSOR"
   ]
  },
  {
   "cell_type": "code",
   "execution_count": 14,
   "id": "2ba752c8",
   "metadata": {
    "execution": {
     "iopub.execute_input": "2023-06-29T15:45:26.321818Z",
     "iopub.status.busy": "2023-06-29T15:45:26.321022Z",
     "iopub.status.idle": "2023-06-29T15:45:26.326877Z",
     "shell.execute_reply": "2023-06-29T15:45:26.325923Z"
    },
    "papermill": {
     "duration": 0.030823,
     "end_time": "2023-06-29T15:45:26.328774",
     "exception": false,
     "start_time": "2023-06-29T15:45:26.297951",
     "status": "completed"
    },
    "tags": []
   },
   "outputs": [
    {
     "data": {
      "text/plain": [
       "3"
      ]
     },
     "execution_count": 14,
     "metadata": {},
     "output_type": "execute_result"
    }
   ],
   "source": [
    "TENSOR.ndim"
   ]
  },
  {
   "cell_type": "code",
   "execution_count": 15,
   "id": "046bf0c7",
   "metadata": {
    "execution": {
     "iopub.execute_input": "2023-06-29T15:45:26.375439Z",
     "iopub.status.busy": "2023-06-29T15:45:26.374619Z",
     "iopub.status.idle": "2023-06-29T15:45:26.383443Z",
     "shell.execute_reply": "2023-06-29T15:45:26.382542Z"
    },
    "papermill": {
     "duration": 0.034011,
     "end_time": "2023-06-29T15:45:26.385381",
     "exception": false,
     "start_time": "2023-06-29T15:45:26.351370",
     "status": "completed"
    },
    "tags": []
   },
   "outputs": [
    {
     "data": {
      "text/plain": [
       "torch.Size([1, 3, 3])"
      ]
     },
     "execution_count": 15,
     "metadata": {},
     "output_type": "execute_result"
    }
   ],
   "source": [
    "TENSOR.shape"
   ]
  },
  {
   "cell_type": "code",
   "execution_count": 16,
   "id": "8ad16034",
   "metadata": {
    "execution": {
     "iopub.execute_input": "2023-06-29T15:45:26.432387Z",
     "iopub.status.busy": "2023-06-29T15:45:26.431563Z",
     "iopub.status.idle": "2023-06-29T15:45:26.437694Z",
     "shell.execute_reply": "2023-06-29T15:45:26.436786Z"
    },
    "papermill": {
     "duration": 0.031314,
     "end_time": "2023-06-29T15:45:26.439521",
     "exception": false,
     "start_time": "2023-06-29T15:45:26.408207",
     "status": "completed"
    },
    "tags": []
   },
   "outputs": [
    {
     "data": {
      "text/plain": [
       "tensor([[1, 2, 3],\n",
       "        [5, 6, 6],\n",
       "        [7, 8, 9]])"
      ]
     },
     "execution_count": 16,
     "metadata": {},
     "output_type": "execute_result"
    }
   ],
   "source": [
    "TENSOR[0]"
   ]
  },
  {
   "cell_type": "code",
   "execution_count": 17,
   "id": "e6db33b3",
   "metadata": {
    "execution": {
     "iopub.execute_input": "2023-06-29T15:45:26.486731Z",
     "iopub.status.busy": "2023-06-29T15:45:26.485946Z",
     "iopub.status.idle": "2023-06-29T15:45:26.493525Z",
     "shell.execute_reply": "2023-06-29T15:45:26.492610Z"
    },
    "papermill": {
     "duration": 0.033017,
     "end_time": "2023-06-29T15:45:26.495473",
     "exception": false,
     "start_time": "2023-06-29T15:45:26.462456",
     "status": "completed"
    },
    "tags": []
   },
   "outputs": [
    {
     "data": {
      "text/plain": [
       "tensor([[[1, 2, 3],\n",
       "         [4, 5, 6],\n",
       "         [7, 8, 9]],\n",
       "\n",
       "        [[1, 2, 3],\n",
       "         [4, 5, 6],\n",
       "         [7, 8, 9]]])"
      ]
     },
     "execution_count": 17,
     "metadata": {},
     "output_type": "execute_result"
    }
   ],
   "source": [
    "# Practice\n",
    "TENSOR1 = torch.tensor([[[1,2,3],\n",
    "                      [4,5,6],\n",
    "                      [7,8,9]],\n",
    "                     [[1,2,3],\n",
    "                      [4,5,6],\n",
    "                      [7,8,9]]])\n",
    "TENSOR1"
   ]
  },
  {
   "cell_type": "code",
   "execution_count": 18,
   "id": "00033b75",
   "metadata": {
    "execution": {
     "iopub.execute_input": "2023-06-29T15:45:26.543137Z",
     "iopub.status.busy": "2023-06-29T15:45:26.542365Z",
     "iopub.status.idle": "2023-06-29T15:45:26.548079Z",
     "shell.execute_reply": "2023-06-29T15:45:26.547181Z"
    },
    "papermill": {
     "duration": 0.031415,
     "end_time": "2023-06-29T15:45:26.549964",
     "exception": false,
     "start_time": "2023-06-29T15:45:26.518549",
     "status": "completed"
    },
    "tags": []
   },
   "outputs": [
    {
     "data": {
      "text/plain": [
       "3"
      ]
     },
     "execution_count": 18,
     "metadata": {},
     "output_type": "execute_result"
    }
   ],
   "source": [
    "TENSOR1.ndim"
   ]
  },
  {
   "cell_type": "code",
   "execution_count": 19,
   "id": "e3967a73",
   "metadata": {
    "execution": {
     "iopub.execute_input": "2023-06-29T15:45:26.597206Z",
     "iopub.status.busy": "2023-06-29T15:45:26.596508Z",
     "iopub.status.idle": "2023-06-29T15:45:26.601908Z",
     "shell.execute_reply": "2023-06-29T15:45:26.601072Z"
    },
    "papermill": {
     "duration": 0.030895,
     "end_time": "2023-06-29T15:45:26.603797",
     "exception": false,
     "start_time": "2023-06-29T15:45:26.572902",
     "status": "completed"
    },
    "tags": []
   },
   "outputs": [
    {
     "data": {
      "text/plain": [
       "torch.Size([2, 3, 3])"
      ]
     },
     "execution_count": 19,
     "metadata": {},
     "output_type": "execute_result"
    }
   ],
   "source": [
    "TENSOR1.shape"
   ]
  },
  {
   "cell_type": "markdown",
   "id": "e4ff3f07",
   "metadata": {
    "execution": {
     "iopub.execute_input": "2023-06-25T15:53:52.605155Z",
     "iopub.status.busy": "2023-06-25T15:53:52.604740Z",
     "iopub.status.idle": "2023-06-25T15:53:52.609815Z",
     "shell.execute_reply": "2023-06-25T15:53:52.608929Z",
     "shell.execute_reply.started": "2023-06-25T15:53:52.605124Z"
    },
    "papermill": {
     "duration": 0.022858,
     "end_time": "2023-06-29T15:45:26.649948",
     "exception": false,
     "start_time": "2023-06-29T15:45:26.627090",
     "status": "completed"
    },
    "tags": []
   },
   "source": [
    "### Random Tensor\n",
    "\n",
    "Why Random Nos. ?\n",
    "\n",
    "'Start with Random Numbers -> Look at Data -> Update Random Numbers -> Look at Data -> Update Random Numbers'\n",
    "\n",
    "ref - https://pytorch.org/docs/stable/generated/torch.rand.html"
   ]
  },
  {
   "cell_type": "code",
   "execution_count": 20,
   "id": "5c67a13e",
   "metadata": {
    "execution": {
     "iopub.execute_input": "2023-06-29T15:45:26.698175Z",
     "iopub.status.busy": "2023-06-29T15:45:26.696801Z",
     "iopub.status.idle": "2023-06-29T15:45:26.742265Z",
     "shell.execute_reply": "2023-06-29T15:45:26.741392Z"
    },
    "papermill": {
     "duration": 0.071562,
     "end_time": "2023-06-29T15:45:26.744576",
     "exception": false,
     "start_time": "2023-06-29T15:45:26.673014",
     "status": "completed"
    },
    "tags": []
   },
   "outputs": [
    {
     "data": {
      "text/plain": [
       "tensor([[[0.3638, 0.0816, 0.3041],\n",
       "         [0.9212, 0.5022, 0.7782],\n",
       "         [0.5290, 0.7262, 0.2513],\n",
       "         [0.1145, 0.5064, 0.3969]],\n",
       "\n",
       "        [[0.4054, 0.6555, 0.8181],\n",
       "         [0.9314, 0.6558, 0.5789],\n",
       "         [0.1795, 0.1363, 0.2082],\n",
       "         [0.0939, 0.1302, 0.6979]],\n",
       "\n",
       "        [[0.6338, 0.2464, 0.9055],\n",
       "         [0.6569, 0.9721, 0.0293],\n",
       "         [0.8875, 0.4870, 0.3099],\n",
       "         [0.4526, 0.1067, 0.6128]]])"
      ]
     },
     "execution_count": 20,
     "metadata": {},
     "output_type": "execute_result"
    }
   ],
   "source": [
    "# Create a random tensor of size(3,4)\n",
    "random_tensor = torch.rand(3,4,3)\n",
    "random_tensor"
   ]
  },
  {
   "cell_type": "code",
   "execution_count": 21,
   "id": "b6076b6b",
   "metadata": {
    "execution": {
     "iopub.execute_input": "2023-06-29T15:45:26.792863Z",
     "iopub.status.busy": "2023-06-29T15:45:26.792123Z",
     "iopub.status.idle": "2023-06-29T15:45:26.797581Z",
     "shell.execute_reply": "2023-06-29T15:45:26.796699Z"
    },
    "papermill": {
     "duration": 0.031304,
     "end_time": "2023-06-29T15:45:26.799505",
     "exception": false,
     "start_time": "2023-06-29T15:45:26.768201",
     "status": "completed"
    },
    "tags": []
   },
   "outputs": [
    {
     "data": {
      "text/plain": [
       "3"
      ]
     },
     "execution_count": 21,
     "metadata": {},
     "output_type": "execute_result"
    }
   ],
   "source": [
    "random_tensor.ndim"
   ]
  },
  {
   "cell_type": "code",
   "execution_count": 22,
   "id": "d8e2122f",
   "metadata": {
    "execution": {
     "iopub.execute_input": "2023-06-29T15:45:26.848317Z",
     "iopub.status.busy": "2023-06-29T15:45:26.846962Z",
     "iopub.status.idle": "2023-06-29T15:45:26.852985Z",
     "shell.execute_reply": "2023-06-29T15:45:26.852120Z"
    },
    "papermill": {
     "duration": 0.031999,
     "end_time": "2023-06-29T15:45:26.855010",
     "exception": false,
     "start_time": "2023-06-29T15:45:26.823011",
     "status": "completed"
    },
    "tags": []
   },
   "outputs": [
    {
     "data": {
      "text/plain": [
       "torch.Size([3, 4, 3])"
      ]
     },
     "execution_count": 22,
     "metadata": {},
     "output_type": "execute_result"
    }
   ],
   "source": [
    "random_tensor.shape"
   ]
  },
  {
   "cell_type": "code",
   "execution_count": 23,
   "id": "cf52d0cd",
   "metadata": {
    "execution": {
     "iopub.execute_input": "2023-06-29T15:45:26.904834Z",
     "iopub.status.busy": "2023-06-29T15:45:26.903347Z",
     "iopub.status.idle": "2023-06-29T15:45:26.916590Z",
     "shell.execute_reply": "2023-06-29T15:45:26.915686Z"
    },
    "papermill": {
     "duration": 0.040163,
     "end_time": "2023-06-29T15:45:26.918610",
     "exception": false,
     "start_time": "2023-06-29T15:45:26.878447",
     "status": "completed"
    },
    "scrolled": true,
    "tags": []
   },
   "outputs": [
    {
     "data": {
      "text/plain": [
       "tensor([[[0.6567, 0.3913, 0.9207],\n",
       "         [0.1508, 0.4768, 0.2543],\n",
       "         [0.7591, 0.4526, 0.0729],\n",
       "         ...,\n",
       "         [0.4809, 0.4706, 0.6597],\n",
       "         [0.9933, 0.8661, 0.9665],\n",
       "         [0.1057, 0.1299, 0.6117]],\n",
       "\n",
       "        [[0.7058, 0.8475, 0.2199],\n",
       "         [0.6823, 0.5596, 0.1526],\n",
       "         [0.8443, 0.9838, 0.9984],\n",
       "         ...,\n",
       "         [0.6353, 0.9593, 0.4759],\n",
       "         [0.1024, 0.4654, 0.8404],\n",
       "         [0.7582, 0.4760, 0.2417]],\n",
       "\n",
       "        [[0.7398, 0.8884, 0.6183],\n",
       "         [0.5022, 0.5163, 0.6720],\n",
       "         [0.1428, 0.7566, 0.0087],\n",
       "         ...,\n",
       "         [0.5494, 0.2147, 0.3864],\n",
       "         [0.5828, 0.2035, 0.9801],\n",
       "         [0.5843, 0.8126, 0.7069]],\n",
       "\n",
       "        ...,\n",
       "\n",
       "        [[0.3901, 0.0538, 0.3294],\n",
       "         [0.8010, 0.0931, 0.5743],\n",
       "         [0.8137, 0.8152, 0.0559],\n",
       "         ...,\n",
       "         [0.4140, 0.8488, 0.0966],\n",
       "         [0.6512, 0.7109, 0.0479],\n",
       "         [0.0390, 0.4333, 0.0582]],\n",
       "\n",
       "        [[0.1156, 0.8580, 0.4855],\n",
       "         [0.2748, 0.0798, 0.5833],\n",
       "         [0.5904, 0.8879, 0.9695],\n",
       "         ...,\n",
       "         [0.2804, 0.0230, 0.7434],\n",
       "         [0.4616, 0.6035, 0.2789],\n",
       "         [0.7194, 0.0786, 0.6676]],\n",
       "\n",
       "        [[0.2984, 0.1921, 0.1629],\n",
       "         [0.6703, 0.8218, 0.1076],\n",
       "         [0.5927, 0.1726, 0.6054],\n",
       "         ...,\n",
       "         [0.3671, 0.6743, 0.5689],\n",
       "         [0.2690, 0.9088, 0.2336],\n",
       "         [0.0795, 0.3085, 0.4687]]])"
      ]
     },
     "execution_count": 23,
     "metadata": {},
     "output_type": "execute_result"
    }
   ],
   "source": [
    "# Creating Random tensor similar to Image Shape\n",
    "random_image_size_tensor = torch.rand(size=[224,224,3],) # height, width , color channels\n",
    "random_image_size_tensor"
   ]
  },
  {
   "cell_type": "code",
   "execution_count": 24,
   "id": "76cb9ab4",
   "metadata": {
    "execution": {
     "iopub.execute_input": "2023-06-29T15:45:26.967432Z",
     "iopub.status.busy": "2023-06-29T15:45:26.966694Z",
     "iopub.status.idle": "2023-06-29T15:45:26.972256Z",
     "shell.execute_reply": "2023-06-29T15:45:26.971332Z"
    },
    "papermill": {
     "duration": 0.031844,
     "end_time": "2023-06-29T15:45:26.974162",
     "exception": false,
     "start_time": "2023-06-29T15:45:26.942318",
     "status": "completed"
    },
    "tags": []
   },
   "outputs": [
    {
     "data": {
      "text/plain": [
       "3"
      ]
     },
     "execution_count": 24,
     "metadata": {},
     "output_type": "execute_result"
    }
   ],
   "source": [
    "random_image_size_tensor.ndim"
   ]
  },
  {
   "cell_type": "code",
   "execution_count": 25,
   "id": "01390425",
   "metadata": {
    "execution": {
     "iopub.execute_input": "2023-06-29T15:45:27.023516Z",
     "iopub.status.busy": "2023-06-29T15:45:27.022916Z",
     "iopub.status.idle": "2023-06-29T15:45:27.028236Z",
     "shell.execute_reply": "2023-06-29T15:45:27.027430Z"
    },
    "papermill": {
     "duration": 0.031814,
     "end_time": "2023-06-29T15:45:27.030068",
     "exception": false,
     "start_time": "2023-06-29T15:45:26.998254",
     "status": "completed"
    },
    "tags": []
   },
   "outputs": [
    {
     "data": {
      "text/plain": [
       "torch.Size([224, 224, 3])"
      ]
     },
     "execution_count": 25,
     "metadata": {},
     "output_type": "execute_result"
    }
   ],
   "source": [
    "random_image_size_tensor.shape"
   ]
  },
  {
   "cell_type": "markdown",
   "id": "50ae8dea",
   "metadata": {
    "papermill": {
     "duration": 0.023564,
     "end_time": "2023-06-29T15:45:27.077460",
     "exception": false,
     "start_time": "2023-06-29T15:45:27.053896",
     "status": "completed"
    },
    "tags": []
   },
   "source": [
    "### Zeroes and Ones"
   ]
  },
  {
   "cell_type": "code",
   "execution_count": 26,
   "id": "450e96db",
   "metadata": {
    "execution": {
     "iopub.execute_input": "2023-06-29T15:45:27.127181Z",
     "iopub.status.busy": "2023-06-29T15:45:27.126559Z",
     "iopub.status.idle": "2023-06-29T15:45:27.134296Z",
     "shell.execute_reply": "2023-06-29T15:45:27.133370Z"
    },
    "papermill": {
     "duration": 0.034289,
     "end_time": "2023-06-29T15:45:27.136213",
     "exception": false,
     "start_time": "2023-06-29T15:45:27.101924",
     "status": "completed"
    },
    "tags": []
   },
   "outputs": [
    {
     "data": {
      "text/plain": [
       "tensor([[0., 0., 0., 0.],\n",
       "        [0., 0., 0., 0.],\n",
       "        [0., 0., 0., 0.]])"
      ]
     },
     "execution_count": 26,
     "metadata": {},
     "output_type": "execute_result"
    }
   ],
   "source": [
    "# Create a tenor of all zeros\n",
    "zeros = torch.zeros(3,4)\n",
    "zeros"
   ]
  },
  {
   "cell_type": "code",
   "execution_count": 27,
   "id": "4d6ac6d5",
   "metadata": {
    "execution": {
     "iopub.execute_input": "2023-06-29T15:45:27.185713Z",
     "iopub.status.busy": "2023-06-29T15:45:27.184878Z",
     "iopub.status.idle": "2023-06-29T15:45:27.191377Z",
     "shell.execute_reply": "2023-06-29T15:45:27.190463Z"
    },
    "papermill": {
     "duration": 0.033181,
     "end_time": "2023-06-29T15:45:27.193328",
     "exception": false,
     "start_time": "2023-06-29T15:45:27.160147",
     "status": "completed"
    },
    "tags": []
   },
   "outputs": [
    {
     "data": {
      "text/plain": [
       "tensor([[0., 0., 0., 0.],\n",
       "        [0., 0., 0., 0.],\n",
       "        [0., 0., 0., 0.]])"
      ]
     },
     "execution_count": 27,
     "metadata": {},
     "output_type": "execute_result"
    }
   ],
   "source": [
    "zeros * torch.rand(3,4)"
   ]
  },
  {
   "cell_type": "code",
   "execution_count": 28,
   "id": "990708ea",
   "metadata": {
    "execution": {
     "iopub.execute_input": "2023-06-29T15:45:27.242879Z",
     "iopub.status.busy": "2023-06-29T15:45:27.242273Z",
     "iopub.status.idle": "2023-06-29T15:45:27.249324Z",
     "shell.execute_reply": "2023-06-29T15:45:27.248399Z"
    },
    "papermill": {
     "duration": 0.033865,
     "end_time": "2023-06-29T15:45:27.251219",
     "exception": false,
     "start_time": "2023-06-29T15:45:27.217354",
     "status": "completed"
    },
    "tags": []
   },
   "outputs": [
    {
     "data": {
      "text/plain": [
       "tensor([[1, 1, 1, 1],\n",
       "        [1, 1, 1, 1],\n",
       "        [1, 1, 1, 1]])"
      ]
     },
     "execution_count": 28,
     "metadata": {},
     "output_type": "execute_result"
    }
   ],
   "source": [
    "# Create tensor of all ones\n",
    "ones = torch.ones(size=(3,4),dtype=int)\n",
    "ones"
   ]
  },
  {
   "cell_type": "code",
   "execution_count": 29,
   "id": "9893b173",
   "metadata": {
    "execution": {
     "iopub.execute_input": "2023-06-29T15:45:27.300836Z",
     "iopub.status.busy": "2023-06-29T15:45:27.300171Z",
     "iopub.status.idle": "2023-06-29T15:45:27.305404Z",
     "shell.execute_reply": "2023-06-29T15:45:27.304600Z"
    },
    "papermill": {
     "duration": 0.031998,
     "end_time": "2023-06-29T15:45:27.307294",
     "exception": false,
     "start_time": "2023-06-29T15:45:27.275296",
     "status": "completed"
    },
    "tags": []
   },
   "outputs": [
    {
     "data": {
      "text/plain": [
       "torch.int64"
      ]
     },
     "execution_count": 29,
     "metadata": {},
     "output_type": "execute_result"
    }
   ],
   "source": [
    "ones.dtype"
   ]
  },
  {
   "cell_type": "markdown",
   "id": "48731693",
   "metadata": {
    "execution": {
     "iopub.execute_input": "2023-06-25T16:24:23.852212Z",
     "iopub.status.busy": "2023-06-25T16:24:23.851772Z",
     "iopub.status.idle": "2023-06-25T16:24:23.857025Z",
     "shell.execute_reply": "2023-06-25T16:24:23.856069Z",
     "shell.execute_reply.started": "2023-06-25T16:24:23.852179Z"
    },
    "papermill": {
     "duration": 0.023991,
     "end_time": "2023-06-29T15:45:27.355568",
     "exception": false,
     "start_time": "2023-06-29T15:45:27.331577",
     "status": "completed"
    },
    "tags": []
   },
   "source": [
    "### Create a range of tensors and tensors-like\n",
    "\n",
    "ref - https://pytorch.org/docs/stable/generated/torch.arange.html"
   ]
  },
  {
   "cell_type": "code",
   "execution_count": 30,
   "id": "b882fa61",
   "metadata": {
    "execution": {
     "iopub.execute_input": "2023-06-29T15:45:27.407147Z",
     "iopub.status.busy": "2023-06-29T15:45:27.406376Z",
     "iopub.status.idle": "2023-06-29T15:45:27.414790Z",
     "shell.execute_reply": "2023-06-29T15:45:27.413914Z"
    },
    "papermill": {
     "duration": 0.036847,
     "end_time": "2023-06-29T15:45:27.416689",
     "exception": false,
     "start_time": "2023-06-29T15:45:27.379842",
     "status": "completed"
    },
    "tags": []
   },
   "outputs": [
    {
     "data": {
      "text/plain": [
       "tensor([ 1,  2,  3,  4,  5,  6,  7,  8,  9, 10])"
      ]
     },
     "execution_count": 30,
     "metadata": {},
     "output_type": "execute_result"
    }
   ],
   "source": [
    "# Use torch.arange()\n",
    "one_to_ten = torch.arange(start=1, end=11, step=1)\n",
    "one_to_ten"
   ]
  },
  {
   "cell_type": "code",
   "execution_count": 31,
   "id": "ed20dc05",
   "metadata": {
    "execution": {
     "iopub.execute_input": "2023-06-29T15:45:27.467861Z",
     "iopub.status.busy": "2023-06-29T15:45:27.467078Z",
     "iopub.status.idle": "2023-06-29T15:45:27.473405Z",
     "shell.execute_reply": "2023-06-29T15:45:27.472498Z"
    },
    "papermill": {
     "duration": 0.033769,
     "end_time": "2023-06-29T15:45:27.475286",
     "exception": false,
     "start_time": "2023-06-29T15:45:27.441517",
     "status": "completed"
    },
    "tags": []
   },
   "outputs": [
    {
     "data": {
      "text/plain": [
       "tensor([0, 0, 0, 0, 0, 0, 0, 0, 0, 0])"
      ]
     },
     "execution_count": 31,
     "metadata": {},
     "output_type": "execute_result"
    }
   ],
   "source": [
    "# Create tesnors like\n",
    "ten_zeros = torch.zeros_like(input=one_to_ten)\n",
    "ten_zeros"
   ]
  },
  {
   "cell_type": "markdown",
   "id": "97174c61",
   "metadata": {
    "papermill": {
     "duration": 0.024262,
     "end_time": "2023-06-29T15:45:27.524318",
     "exception": false,
     "start_time": "2023-06-29T15:45:27.500056",
     "status": "completed"
    },
    "tags": []
   },
   "source": [
    "### Tensor datatypes\n",
    "\n",
    "Tensor datatypes is one of the 3 big errors arrive in Pytorch\n",
    "\n",
    "1. Tensors not right datatype\n",
    "2. Tensors not right shape\n",
    "3. Tensors not no right device\n",
    "\n",
    "ref - https://pytorch.org/docs/stable/tensors.html"
   ]
  },
  {
   "cell_type": "code",
   "execution_count": 32,
   "id": "b1058413",
   "metadata": {
    "execution": {
     "iopub.execute_input": "2023-06-29T15:45:27.576131Z",
     "iopub.status.busy": "2023-06-29T15:45:27.575220Z",
     "iopub.status.idle": "2023-06-29T15:45:27.582786Z",
     "shell.execute_reply": "2023-06-29T15:45:27.581882Z"
    },
    "papermill": {
     "duration": 0.035208,
     "end_time": "2023-06-29T15:45:27.584674",
     "exception": false,
     "start_time": "2023-06-29T15:45:27.549466",
     "status": "completed"
    },
    "tags": []
   },
   "outputs": [
    {
     "data": {
      "text/plain": [
       "tensor([3., 6., 9.])"
      ]
     },
     "execution_count": 32,
     "metadata": {},
     "output_type": "execute_result"
    }
   ],
   "source": [
    "# Float 32 tensor\n",
    "float_32_tensor = torch.tensor([3.0,6.0,9.0],\n",
    "                             dtype=None, # what datatype of tensor (float32 etc)\n",
    "                             device=None, #'cpu or gpu -> cuda'\n",
    "                             requires_grad=False) # whether to track gradient\n",
    "float_32_tensor"
   ]
  },
  {
   "cell_type": "code",
   "execution_count": 33,
   "id": "cbce7912",
   "metadata": {
    "execution": {
     "iopub.execute_input": "2023-06-29T15:45:27.637678Z",
     "iopub.status.busy": "2023-06-29T15:45:27.636868Z",
     "iopub.status.idle": "2023-06-29T15:45:27.642925Z",
     "shell.execute_reply": "2023-06-29T15:45:27.641899Z"
    },
    "papermill": {
     "duration": 0.035874,
     "end_time": "2023-06-29T15:45:27.645043",
     "exception": false,
     "start_time": "2023-06-29T15:45:27.609169",
     "status": "completed"
    },
    "tags": []
   },
   "outputs": [
    {
     "data": {
      "text/plain": [
       "torch.float32"
      ]
     },
     "execution_count": 33,
     "metadata": {},
     "output_type": "execute_result"
    }
   ],
   "source": [
    "float_32_tensor.dtype"
   ]
  },
  {
   "cell_type": "code",
   "execution_count": 34,
   "id": "0fe14049",
   "metadata": {
    "execution": {
     "iopub.execute_input": "2023-06-29T15:45:27.696110Z",
     "iopub.status.busy": "2023-06-29T15:45:27.695329Z",
     "iopub.status.idle": "2023-06-29T15:45:27.703548Z",
     "shell.execute_reply": "2023-06-29T15:45:27.702759Z"
    },
    "papermill": {
     "duration": 0.035642,
     "end_time": "2023-06-29T15:45:27.705486",
     "exception": false,
     "start_time": "2023-06-29T15:45:27.669844",
     "status": "completed"
    },
    "tags": []
   },
   "outputs": [],
   "source": [
    "float_16_tensor = float_32_tensor.half()\n",
    "# or\n",
    "float_16_tensor = float_32_tensor.type(torch.float) # torch.half"
   ]
  },
  {
   "cell_type": "code",
   "execution_count": 35,
   "id": "0497e089",
   "metadata": {
    "execution": {
     "iopub.execute_input": "2023-06-29T15:45:27.756500Z",
     "iopub.status.busy": "2023-06-29T15:45:27.755791Z",
     "iopub.status.idle": "2023-06-29T15:45:27.761993Z",
     "shell.execute_reply": "2023-06-29T15:45:27.761106Z"
    },
    "papermill": {
     "duration": 0.033777,
     "end_time": "2023-06-29T15:45:27.763884",
     "exception": false,
     "start_time": "2023-06-29T15:45:27.730107",
     "status": "completed"
    },
    "tags": []
   },
   "outputs": [
    {
     "data": {
      "text/plain": [
       "tensor([3., 6., 9.])"
      ]
     },
     "execution_count": 35,
     "metadata": {},
     "output_type": "execute_result"
    }
   ],
   "source": [
    "float_16_tensor"
   ]
  },
  {
   "cell_type": "code",
   "execution_count": 36,
   "id": "da2ed9a1",
   "metadata": {
    "execution": {
     "iopub.execute_input": "2023-06-29T15:45:27.815076Z",
     "iopub.status.busy": "2023-06-29T15:45:27.814486Z",
     "iopub.status.idle": "2023-06-29T15:45:27.820604Z",
     "shell.execute_reply": "2023-06-29T15:45:27.819675Z"
    },
    "papermill": {
     "duration": 0.033768,
     "end_time": "2023-06-29T15:45:27.822515",
     "exception": false,
     "start_time": "2023-06-29T15:45:27.788747",
     "status": "completed"
    },
    "tags": []
   },
   "outputs": [
    {
     "data": {
      "text/plain": [
       "torch.float32"
      ]
     },
     "execution_count": 36,
     "metadata": {},
     "output_type": "execute_result"
    }
   ],
   "source": [
    "(float_16_tensor * float_32_tensor).dtype"
   ]
  },
  {
   "cell_type": "code",
   "execution_count": 37,
   "id": "3f8d01cc",
   "metadata": {
    "execution": {
     "iopub.execute_input": "2023-06-29T15:45:27.873920Z",
     "iopub.status.busy": "2023-06-29T15:45:27.873195Z",
     "iopub.status.idle": "2023-06-29T15:45:27.877428Z",
     "shell.execute_reply": "2023-06-29T15:45:27.876547Z"
    },
    "papermill": {
     "duration": 0.031866,
     "end_time": "2023-06-29T15:45:27.879299",
     "exception": false,
     "start_time": "2023-06-29T15:45:27.847433",
     "status": "completed"
    },
    "tags": []
   },
   "outputs": [],
   "source": [
    "int_32_tensor = torch.tensor([3,4,5],\n",
    "                             dtype=torch.int32)"
   ]
  },
  {
   "cell_type": "code",
   "execution_count": 38,
   "id": "f4cd3b30",
   "metadata": {
    "execution": {
     "iopub.execute_input": "2023-06-29T15:45:27.931530Z",
     "iopub.status.busy": "2023-06-29T15:45:27.930186Z",
     "iopub.status.idle": "2023-06-29T15:45:27.937505Z",
     "shell.execute_reply": "2023-06-29T15:45:27.936631Z"
    },
    "papermill": {
     "duration": 0.034911,
     "end_time": "2023-06-29T15:45:27.939390",
     "exception": false,
     "start_time": "2023-06-29T15:45:27.904479",
     "status": "completed"
    },
    "tags": []
   },
   "outputs": [
    {
     "data": {
      "text/plain": [
       "tensor([ 9., 24., 45.])"
      ]
     },
     "execution_count": 38,
     "metadata": {},
     "output_type": "execute_result"
    }
   ],
   "source": [
    "float_16_tensor * int_32_tensor"
   ]
  },
  {
   "cell_type": "markdown",
   "id": "76a301ae",
   "metadata": {
    "papermill": {
     "duration": 0.024812,
     "end_time": "2023-06-29T15:45:27.989364",
     "exception": false,
     "start_time": "2023-06-29T15:45:27.964552",
     "status": "completed"
    },
    "tags": []
   },
   "source": [
    "### Getting info from tensors (tensor attributes)\n",
    "1. tensor not datatype - to check use tensor.dtype\n",
    "2. tensor not right shape - to check use tensor.shape or tensor.size()\n",
    "3. tensor not on right device - to check use tensor.device"
   ]
  },
  {
   "cell_type": "code",
   "execution_count": 39,
   "id": "da524b28",
   "metadata": {
    "execution": {
     "iopub.execute_input": "2023-06-29T15:45:28.040865Z",
     "iopub.status.busy": "2023-06-29T15:45:28.040128Z",
     "iopub.status.idle": "2023-06-29T15:45:28.046894Z",
     "shell.execute_reply": "2023-06-29T15:45:28.046008Z"
    },
    "papermill": {
     "duration": 0.034418,
     "end_time": "2023-06-29T15:45:28.048766",
     "exception": false,
     "start_time": "2023-06-29T15:45:28.014348",
     "status": "completed"
    },
    "tags": []
   },
   "outputs": [
    {
     "data": {
      "text/plain": [
       "tensor([[0.9853, 0.5035, 0.3528, 0.9120],\n",
       "        [0.8851, 0.2484, 0.2522, 0.6809],\n",
       "        [0.5612, 0.8528, 0.4041, 0.5252]])"
      ]
     },
     "execution_count": 39,
     "metadata": {},
     "output_type": "execute_result"
    }
   ],
   "source": [
    "# Create a tensor\n",
    "some_tensor = torch.rand(3,4)\n",
    "some_tensor"
   ]
  },
  {
   "cell_type": "code",
   "execution_count": 40,
   "id": "7c4164b5",
   "metadata": {
    "execution": {
     "iopub.execute_input": "2023-06-29T15:45:28.101435Z",
     "iopub.status.busy": "2023-06-29T15:45:28.100108Z",
     "iopub.status.idle": "2023-06-29T15:45:28.106128Z",
     "shell.execute_reply": "2023-06-29T15:45:28.104881Z"
    },
    "papermill": {
     "duration": 0.033911,
     "end_time": "2023-06-29T15:45:28.108068",
     "exception": false,
     "start_time": "2023-06-29T15:45:28.074157",
     "status": "completed"
    },
    "tags": []
   },
   "outputs": [
    {
     "name": "stdout",
     "output_type": "stream",
     "text": [
      "Tensor Datatype : torch.float32 Tensor Shape : torch.Size([3, 4]) Tensor Device : cpu\n"
     ]
    }
   ],
   "source": [
    "print(\"Tensor Datatype :\",some_tensor.dtype,\n",
    "\"Tensor Shape :\",some_tensor.shape,\n",
    "\"Tensor Device :\",some_tensor.device)"
   ]
  },
  {
   "cell_type": "markdown",
   "id": "671a082d",
   "metadata": {
    "execution": {
     "iopub.execute_input": "2023-06-26T15:31:18.518353Z",
     "iopub.status.busy": "2023-06-26T15:31:18.517972Z",
     "iopub.status.idle": "2023-06-26T15:31:18.526666Z",
     "shell.execute_reply": "2023-06-26T15:31:18.525296Z",
     "shell.execute_reply.started": "2023-06-26T15:31:18.518326Z"
    },
    "papermill": {
     "duration": 0.02505,
     "end_time": "2023-06-29T15:45:28.158237",
     "exception": false,
     "start_time": "2023-06-29T15:45:28.133187",
     "status": "completed"
    },
    "tags": []
   },
   "source": [
    "### Manipulating Tensors (Tensor Operations)\n",
    "1. Addition\n",
    "2. Subtraction\n",
    "3. Multiplication (element-wise)\n",
    "4. Division\n",
    "5. Matrix Multiplication"
   ]
  },
  {
   "cell_type": "code",
   "execution_count": 41,
   "id": "10056b95",
   "metadata": {
    "execution": {
     "iopub.execute_input": "2023-06-29T15:45:28.211391Z",
     "iopub.status.busy": "2023-06-29T15:45:28.209857Z",
     "iopub.status.idle": "2023-06-29T15:45:28.218871Z",
     "shell.execute_reply": "2023-06-29T15:45:28.217911Z"
    },
    "papermill": {
     "duration": 0.037124,
     "end_time": "2023-06-29T15:45:28.220800",
     "exception": false,
     "start_time": "2023-06-29T15:45:28.183676",
     "status": "completed"
    },
    "tags": []
   },
   "outputs": [
    {
     "data": {
      "text/plain": [
       "tensor([11, 12, 13])"
      ]
     },
     "execution_count": 41,
     "metadata": {},
     "output_type": "execute_result"
    }
   ],
   "source": [
    "# Create a tensor and add 10\n",
    "tensor = torch.tensor([1,2,3])\n",
    "tensor + 10"
   ]
  },
  {
   "cell_type": "code",
   "execution_count": 42,
   "id": "c7b02540",
   "metadata": {
    "execution": {
     "iopub.execute_input": "2023-06-29T15:45:28.273155Z",
     "iopub.status.busy": "2023-06-29T15:45:28.272426Z",
     "iopub.status.idle": "2023-06-29T15:45:28.280016Z",
     "shell.execute_reply": "2023-06-29T15:45:28.279061Z"
    },
    "papermill": {
     "duration": 0.035779,
     "end_time": "2023-06-29T15:45:28.281946",
     "exception": false,
     "start_time": "2023-06-29T15:45:28.246167",
     "status": "completed"
    },
    "tags": []
   },
   "outputs": [
    {
     "data": {
      "text/plain": [
       "tensor([10, 20, 30])"
      ]
     },
     "execution_count": 42,
     "metadata": {},
     "output_type": "execute_result"
    }
   ],
   "source": [
    "# multiply\n",
    "tensor * 10"
   ]
  },
  {
   "cell_type": "code",
   "execution_count": 43,
   "id": "9e43eca1",
   "metadata": {
    "execution": {
     "iopub.execute_input": "2023-06-29T15:45:28.334480Z",
     "iopub.status.busy": "2023-06-29T15:45:28.333674Z",
     "iopub.status.idle": "2023-06-29T15:45:28.341363Z",
     "shell.execute_reply": "2023-06-29T15:45:28.340437Z"
    },
    "papermill": {
     "duration": 0.035929,
     "end_time": "2023-06-29T15:45:28.343284",
     "exception": false,
     "start_time": "2023-06-29T15:45:28.307355",
     "status": "completed"
    },
    "tags": []
   },
   "outputs": [
    {
     "data": {
      "text/plain": [
       "tensor([-9, -8, -7])"
      ]
     },
     "execution_count": 43,
     "metadata": {},
     "output_type": "execute_result"
    }
   ],
   "source": [
    "# subtract 10\n",
    "tensor - 10"
   ]
  },
  {
   "cell_type": "code",
   "execution_count": 44,
   "id": "3c36bc06",
   "metadata": {
    "execution": {
     "iopub.execute_input": "2023-06-29T15:45:28.398520Z",
     "iopub.status.busy": "2023-06-29T15:45:28.398258Z",
     "iopub.status.idle": "2023-06-29T15:45:28.404104Z",
     "shell.execute_reply": "2023-06-29T15:45:28.403251Z"
    },
    "papermill": {
     "duration": 0.035989,
     "end_time": "2023-06-29T15:45:28.405972",
     "exception": false,
     "start_time": "2023-06-29T15:45:28.369983",
     "status": "completed"
    },
    "tags": []
   },
   "outputs": [
    {
     "data": {
      "text/plain": [
       "tensor([10, 20, 30])"
      ]
     },
     "execution_count": 44,
     "metadata": {},
     "output_type": "execute_result"
    }
   ],
   "source": [
    "# multiply using tensor function\n",
    "torch.mul(tensor,10)"
   ]
  },
  {
   "cell_type": "markdown",
   "id": "367f7542",
   "metadata": {
    "papermill": {
     "duration": 0.025754,
     "end_time": "2023-06-29T15:45:28.457509",
     "exception": false,
     "start_time": "2023-06-29T15:45:28.431755",
     "status": "completed"
    },
    "tags": []
   },
   "source": [
    "### Matrix Multiplication\n",
    "\n",
    "Two Main ways to multiply in tensors\n",
    "\n",
    "1. Element-wise multipication or Cross Multiplication\n",
    "2. Matrix multiplication or Dot Product\n",
    "\n",
    "ref - https://www.mathsisfun.com/algebra/matrix-multiplying.html\n",
    "\n",
    "Two Rules must Follow:\n",
    "1. The **Inner Dimension** must match:\n",
    "* '(3,2) @ (3,2)' wont work\n",
    "* '(3,2) @ (2,3)' will work\n",
    "* '(2,3) @ (3,2)' will work\n",
    "2. Resulting matrix has dimension of **Outer Dimension**\n",
    "* (2,3) @ (3,2) -> (2,2)\n",
    "* (3,2) @ (2,3) -> (3,3)"
   ]
  },
  {
   "cell_type": "code",
   "execution_count": 45,
   "id": "7d395023",
   "metadata": {
    "execution": {
     "iopub.execute_input": "2023-06-29T15:45:28.510628Z",
     "iopub.status.busy": "2023-06-29T15:45:28.510362Z",
     "iopub.status.idle": "2023-06-29T15:45:28.549634Z",
     "shell.execute_reply": "2023-06-29T15:45:28.548680Z"
    },
    "papermill": {
     "duration": 0.0681,
     "end_time": "2023-06-29T15:45:28.551736",
     "exception": false,
     "start_time": "2023-06-29T15:45:28.483636",
     "status": "completed"
    },
    "tags": []
   },
   "outputs": [
    {
     "data": {
      "text/plain": [
       "tensor([[0.9459, 0.8883, 0.2205],\n",
       "        [0.9538, 0.8064, 0.3209],\n",
       "        [1.3709, 0.9386, 0.7044]])"
      ]
     },
     "execution_count": 45,
     "metadata": {},
     "output_type": "execute_result"
    }
   ],
   "source": [
    "torch.matmul(torch.rand(3,2) , torch.rand(2,3))"
   ]
  },
  {
   "cell_type": "code",
   "execution_count": 46,
   "id": "593b8068",
   "metadata": {
    "execution": {
     "iopub.execute_input": "2023-06-29T15:45:28.605788Z",
     "iopub.status.busy": "2023-06-29T15:45:28.605018Z",
     "iopub.status.idle": "2023-06-29T15:45:28.611107Z",
     "shell.execute_reply": "2023-06-29T15:45:28.610094Z"
    },
    "papermill": {
     "duration": 0.035398,
     "end_time": "2023-06-29T15:45:28.613326",
     "exception": false,
     "start_time": "2023-06-29T15:45:28.577928",
     "status": "completed"
    },
    "tags": []
   },
   "outputs": [
    {
     "name": "stdout",
     "output_type": "stream",
     "text": [
      "tensor([1, 2, 3]) * tensor([1, 2, 3])\n",
      "Equals : tensor([1, 4, 9])\n"
     ]
    }
   ],
   "source": [
    "# Element wise multiplication\n",
    "print(tensor, '*' , tensor)\n",
    "print('Equals :', tensor * tensor )"
   ]
  },
  {
   "cell_type": "code",
   "execution_count": 47,
   "id": "6daccc42",
   "metadata": {
    "execution": {
     "iopub.execute_input": "2023-06-29T15:45:28.666393Z",
     "iopub.status.busy": "2023-06-29T15:45:28.666098Z",
     "iopub.status.idle": "2023-06-29T15:45:28.672175Z",
     "shell.execute_reply": "2023-06-29T15:45:28.671266Z"
    },
    "papermill": {
     "duration": 0.034743,
     "end_time": "2023-06-29T15:45:28.674126",
     "exception": false,
     "start_time": "2023-06-29T15:45:28.639383",
     "status": "completed"
    },
    "tags": []
   },
   "outputs": [
    {
     "data": {
      "text/plain": [
       "tensor(14)"
      ]
     },
     "execution_count": 47,
     "metadata": {},
     "output_type": "execute_result"
    }
   ],
   "source": [
    "# Matrix Multiplication\n",
    "torch.matmul(tensor,tensor)"
   ]
  },
  {
   "cell_type": "markdown",
   "id": "cd1b3f05",
   "metadata": {
    "papermill": {
     "duration": 0.025782,
     "end_time": "2023-06-29T15:45:28.726357",
     "exception": false,
     "start_time": "2023-06-29T15:45:28.700575",
     "status": "completed"
    },
    "tags": []
   },
   "source": [
    "### Shape Errors"
   ]
  },
  {
   "cell_type": "code",
   "execution_count": 48,
   "id": "19c4826e",
   "metadata": {
    "execution": {
     "iopub.execute_input": "2023-06-29T15:45:28.780155Z",
     "iopub.status.busy": "2023-06-29T15:45:28.779417Z",
     "iopub.status.idle": "2023-06-29T15:45:28.784491Z",
     "shell.execute_reply": "2023-06-29T15:45:28.783678Z"
    },
    "papermill": {
     "duration": 0.033911,
     "end_time": "2023-06-29T15:45:28.786481",
     "exception": false,
     "start_time": "2023-06-29T15:45:28.752570",
     "status": "completed"
    },
    "tags": []
   },
   "outputs": [],
   "source": [
    "tensor_A = torch.tensor([[1,2],\n",
    "                        [3,4],\n",
    "                        [5,6]])\n",
    "\n",
    "tensor_B =torch.tensor([[7,10],\n",
    "                       [8,11],\n",
    "                       [9,12]])\n",
    "\n",
    "#torch.mm(tensor_A,tensor_B) #(mm is alias for matmul)"
   ]
  },
  {
   "cell_type": "markdown",
   "id": "d3dfa1b5",
   "metadata": {
    "papermill": {
     "duration": 0.025877,
     "end_time": "2023-06-29T15:45:28.838930",
     "exception": false,
     "start_time": "2023-06-29T15:45:28.813053",
     "status": "completed"
    },
    "tags": []
   },
   "source": [
    "To Fix Shape Issues, We can use Transpose \n",
    "\n",
    "A **Transpose** swithches axes or dimensions of given matrix"
   ]
  },
  {
   "cell_type": "code",
   "execution_count": 49,
   "id": "a56e17c6",
   "metadata": {
    "execution": {
     "iopub.execute_input": "2023-06-29T15:45:28.893494Z",
     "iopub.status.busy": "2023-06-29T15:45:28.892530Z",
     "iopub.status.idle": "2023-06-29T15:45:28.899662Z",
     "shell.execute_reply": "2023-06-29T15:45:28.898707Z"
    },
    "papermill": {
     "duration": 0.036563,
     "end_time": "2023-06-29T15:45:28.901569",
     "exception": false,
     "start_time": "2023-06-29T15:45:28.865006",
     "status": "completed"
    },
    "tags": []
   },
   "outputs": [
    {
     "data": {
      "text/plain": [
       "(tensor([[ 7, 10],\n",
       "         [ 8, 11],\n",
       "         [ 9, 12]]),\n",
       " torch.Size([3, 2]))"
      ]
     },
     "execution_count": 49,
     "metadata": {},
     "output_type": "execute_result"
    }
   ],
   "source": [
    "tensor_B, tensor_B.shape"
   ]
  },
  {
   "cell_type": "code",
   "execution_count": 50,
   "id": "5bb1f051",
   "metadata": {
    "execution": {
     "iopub.execute_input": "2023-06-29T15:45:28.955699Z",
     "iopub.status.busy": "2023-06-29T15:45:28.954954Z",
     "iopub.status.idle": "2023-06-29T15:45:28.962388Z",
     "shell.execute_reply": "2023-06-29T15:45:28.961464Z"
    },
    "papermill": {
     "duration": 0.036319,
     "end_time": "2023-06-29T15:45:28.964301",
     "exception": false,
     "start_time": "2023-06-29T15:45:28.927982",
     "status": "completed"
    },
    "tags": []
   },
   "outputs": [
    {
     "data": {
      "text/plain": [
       "(tensor([[ 7,  8,  9],\n",
       "         [10, 11, 12]]),\n",
       " torch.Size([2, 3]))"
      ]
     },
     "execution_count": 50,
     "metadata": {},
     "output_type": "execute_result"
    }
   ],
   "source": [
    "tensor_B.T, tensor_B.T.shape"
   ]
  },
  {
   "cell_type": "code",
   "execution_count": 51,
   "id": "c3707edf",
   "metadata": {
    "execution": {
     "iopub.execute_input": "2023-06-29T15:45:29.018527Z",
     "iopub.status.busy": "2023-06-29T15:45:29.017803Z",
     "iopub.status.idle": "2023-06-29T15:45:29.026689Z",
     "shell.execute_reply": "2023-06-29T15:45:29.025545Z"
    },
    "papermill": {
     "duration": 0.038099,
     "end_time": "2023-06-29T15:45:29.028619",
     "exception": false,
     "start_time": "2023-06-29T15:45:28.990520",
     "status": "completed"
    },
    "tags": []
   },
   "outputs": [
    {
     "name": "stdout",
     "output_type": "stream",
     "text": [
      "Initial shape for tensor A torch.Size([3, 2]) and for tensor B torch.Size([3, 2])\n",
      "after transpose torch.Size([2, 3])\n",
      "output : tensor([[ 27,  30,  33],\n",
      "        [ 61,  68,  75],\n",
      "        [ 95, 106, 117]]) and its shape is torch.Size([3, 3])\n"
     ]
    }
   ],
   "source": [
    "print(f'Initial shape for tensor A {tensor_A.shape} and for tensor B {tensor_B.shape}')\n",
    "print(f'after transpose {tensor_B.T.shape}')\n",
    "print(f'output : {torch.matmul(tensor_A,tensor_B.T)} and its shape is {torch.matmul(tensor_A,tensor_B.T).shape}')"
   ]
  },
  {
   "cell_type": "markdown",
   "id": "e3c34958",
   "metadata": {
    "papermill": {
     "duration": 0.026873,
     "end_time": "2023-06-29T15:45:29.084883",
     "exception": false,
     "start_time": "2023-06-29T15:45:29.058010",
     "status": "completed"
    },
    "tags": []
   },
   "source": [
    "## Finding Min. Max. Mean, Sum, etc (tensor aggregation)"
   ]
  },
  {
   "cell_type": "code",
   "execution_count": 52,
   "id": "a42bea35",
   "metadata": {
    "execution": {
     "iopub.execute_input": "2023-06-29T15:45:29.139811Z",
     "iopub.status.busy": "2023-06-29T15:45:29.139004Z",
     "iopub.status.idle": "2023-06-29T15:45:29.145796Z",
     "shell.execute_reply": "2023-06-29T15:45:29.144829Z"
    },
    "papermill": {
     "duration": 0.035933,
     "end_time": "2023-06-29T15:45:29.147685",
     "exception": false,
     "start_time": "2023-06-29T15:45:29.111752",
     "status": "completed"
    },
    "tags": []
   },
   "outputs": [
    {
     "data": {
      "text/plain": [
       "tensor([ 0, 10, 20, 30, 40, 50, 60, 70, 80, 90])"
      ]
     },
     "execution_count": 52,
     "metadata": {},
     "output_type": "execute_result"
    }
   ],
   "source": [
    "# Create a tensor\n",
    "x = torch.arange(0,100,10)\n",
    "x"
   ]
  },
  {
   "cell_type": "code",
   "execution_count": 53,
   "id": "7ab96436",
   "metadata": {
    "execution": {
     "iopub.execute_input": "2023-06-29T15:45:29.202042Z",
     "iopub.status.busy": "2023-06-29T15:45:29.201283Z",
     "iopub.status.idle": "2023-06-29T15:45:29.208725Z",
     "shell.execute_reply": "2023-06-29T15:45:29.207788Z"
    },
    "papermill": {
     "duration": 0.036639,
     "end_time": "2023-06-29T15:45:29.210719",
     "exception": false,
     "start_time": "2023-06-29T15:45:29.174080",
     "status": "completed"
    },
    "tags": []
   },
   "outputs": [
    {
     "data": {
      "text/plain": [
       "(tensor(0), tensor(0))"
      ]
     },
     "execution_count": 53,
     "metadata": {},
     "output_type": "execute_result"
    }
   ],
   "source": [
    "# Min\n",
    "torch.min(x), x.min()"
   ]
  },
  {
   "cell_type": "code",
   "execution_count": 54,
   "id": "eb49fc55",
   "metadata": {
    "execution": {
     "iopub.execute_input": "2023-06-29T15:45:29.265711Z",
     "iopub.status.busy": "2023-06-29T15:45:29.264917Z",
     "iopub.status.idle": "2023-06-29T15:45:29.271555Z",
     "shell.execute_reply": "2023-06-29T15:45:29.270602Z"
    },
    "papermill": {
     "duration": 0.036153,
     "end_time": "2023-06-29T15:45:29.273478",
     "exception": false,
     "start_time": "2023-06-29T15:45:29.237325",
     "status": "completed"
    },
    "tags": []
   },
   "outputs": [
    {
     "data": {
      "text/plain": [
       "(tensor(90), tensor(90))"
      ]
     },
     "execution_count": 54,
     "metadata": {},
     "output_type": "execute_result"
    }
   ],
   "source": [
    "# Max\n",
    "torch.max(x), x.max()"
   ]
  },
  {
   "cell_type": "code",
   "execution_count": 55,
   "id": "2d1519f9",
   "metadata": {
    "execution": {
     "iopub.execute_input": "2023-06-29T15:45:29.328737Z",
     "iopub.status.busy": "2023-06-29T15:45:29.327997Z",
     "iopub.status.idle": "2023-06-29T15:45:29.339953Z",
     "shell.execute_reply": "2023-06-29T15:45:29.339079Z"
    },
    "papermill": {
     "duration": 0.041489,
     "end_time": "2023-06-29T15:45:29.341845",
     "exception": false,
     "start_time": "2023-06-29T15:45:29.300356",
     "status": "completed"
    },
    "tags": []
   },
   "outputs": [
    {
     "data": {
      "text/plain": [
       "(tensor(45., dtype=torch.float16),\n",
       " tensor(45., dtype=torch.float16),\n",
       " tensor(45.))"
      ]
     },
     "execution_count": 55,
     "metadata": {},
     "output_type": "execute_result"
    }
   ],
   "source": [
    "# Mean\n",
    "torch.mean(x.type(torch.float16)) , x.type(torch.float16).mean() , torch.mean(x,dtype=torch.float32)"
   ]
  },
  {
   "cell_type": "code",
   "execution_count": 56,
   "id": "1e463374",
   "metadata": {
    "execution": {
     "iopub.execute_input": "2023-06-29T15:45:29.400891Z",
     "iopub.status.busy": "2023-06-29T15:45:29.400145Z",
     "iopub.status.idle": "2023-06-29T15:45:29.406521Z",
     "shell.execute_reply": "2023-06-29T15:45:29.405619Z"
    },
    "papermill": {
     "duration": 0.039455,
     "end_time": "2023-06-29T15:45:29.408427",
     "exception": false,
     "start_time": "2023-06-29T15:45:29.368972",
     "status": "completed"
    },
    "tags": []
   },
   "outputs": [
    {
     "data": {
      "text/plain": [
       "(tensor(450), tensor(450))"
      ]
     },
     "execution_count": 56,
     "metadata": {},
     "output_type": "execute_result"
    }
   ],
   "source": [
    "# Sum\n",
    "torch.sum(x) , x.sum()"
   ]
  },
  {
   "cell_type": "markdown",
   "id": "a0ba6272",
   "metadata": {
    "papermill": {
     "duration": 0.02741,
     "end_time": "2023-06-29T15:45:29.463453",
     "exception": false,
     "start_time": "2023-06-29T15:45:29.436043",
     "status": "completed"
    },
    "tags": []
   },
   "source": [
    "## Finding Positinal min and max"
   ]
  },
  {
   "cell_type": "code",
   "execution_count": 57,
   "id": "f5325ecb",
   "metadata": {
    "execution": {
     "iopub.execute_input": "2023-06-29T15:45:29.518654Z",
     "iopub.status.busy": "2023-06-29T15:45:29.518312Z",
     "iopub.status.idle": "2023-06-29T15:45:29.525073Z",
     "shell.execute_reply": "2023-06-29T15:45:29.524129Z"
    },
    "papermill": {
     "duration": 0.036602,
     "end_time": "2023-06-29T15:45:29.526971",
     "exception": false,
     "start_time": "2023-06-29T15:45:29.490369",
     "status": "completed"
    },
    "tags": []
   },
   "outputs": [
    {
     "data": {
      "text/plain": [
       "tensor([ 1, 11, 21, 31, 41, 51, 61, 71, 81, 91])"
      ]
     },
     "execution_count": 57,
     "metadata": {},
     "output_type": "execute_result"
    }
   ],
   "source": [
    "x+1"
   ]
  },
  {
   "cell_type": "code",
   "execution_count": 58,
   "id": "4d5c9339",
   "metadata": {
    "execution": {
     "iopub.execute_input": "2023-06-29T15:45:29.582606Z",
     "iopub.status.busy": "2023-06-29T15:45:29.581891Z",
     "iopub.status.idle": "2023-06-29T15:45:29.590886Z",
     "shell.execute_reply": "2023-06-29T15:45:29.589704Z"
    },
    "papermill": {
     "duration": 0.038752,
     "end_time": "2023-06-29T15:45:29.592868",
     "exception": false,
     "start_time": "2023-06-29T15:45:29.554116",
     "status": "completed"
    },
    "tags": []
   },
   "outputs": [
    {
     "name": "stdout",
     "output_type": "stream",
     "text": [
      "location :  tensor(0)\n",
      "element at location :  tensor(1)\n"
     ]
    }
   ],
   "source": [
    "# Position in tensor where minimum value exists\n",
    "print('location : ',(x+1).argmin())\n",
    "print('element at location : ',(x+1)[(x+1).argmin()])"
   ]
  },
  {
   "cell_type": "code",
   "execution_count": 59,
   "id": "143ebdff",
   "metadata": {
    "execution": {
     "iopub.execute_input": "2023-06-29T15:45:29.648970Z",
     "iopub.status.busy": "2023-06-29T15:45:29.648212Z",
     "iopub.status.idle": "2023-06-29T15:45:29.654264Z",
     "shell.execute_reply": "2023-06-29T15:45:29.653368Z"
    },
    "papermill": {
     "duration": 0.036226,
     "end_time": "2023-06-29T15:45:29.656148",
     "exception": false,
     "start_time": "2023-06-29T15:45:29.619922",
     "status": "completed"
    },
    "tags": []
   },
   "outputs": [
    {
     "name": "stdout",
     "output_type": "stream",
     "text": [
      "location :  tensor(9)\n",
      "element at location :  tensor(91)\n"
     ]
    }
   ],
   "source": [
    "# Position in tensor where maximum value exists\n",
    "print('location : ',(x+1).argmax())\n",
    "print('element at location : ',(x+1)[(x+1).argmax()])"
   ]
  },
  {
   "cell_type": "markdown",
   "id": "7f1a7f0e",
   "metadata": {
    "papermill": {
     "duration": 0.026935,
     "end_time": "2023-06-29T15:45:29.710440",
     "exception": false,
     "start_time": "2023-06-29T15:45:29.683505",
     "status": "completed"
    },
    "tags": []
   },
   "source": [
    "## Reshaping, Stacking, Squeezing and Unsqueezing tensor\n",
    "\n",
    "* Reshaping - reshapes input tensor to defined shape\n",
    "* View - Returns a view of input tensor of certain shape but keeps same memory as original\n",
    "* Stacking - Combine Multiple tensors on top of each other (vstack) or side by side (hstack)\n",
    "* Squeeze - **removes unit** dimension from tensor\n",
    "* Unsqueeze - **adds one** dimension to tensor\n",
    "* Permute - Reaturn a view of input with Dimension Permuted (swapped) in certain way "
   ]
  },
  {
   "cell_type": "code",
   "execution_count": 60,
   "id": "6b1d09f2",
   "metadata": {
    "execution": {
     "iopub.execute_input": "2023-06-29T15:45:29.766556Z",
     "iopub.status.busy": "2023-06-29T15:45:29.765759Z",
     "iopub.status.idle": "2023-06-29T15:45:29.772584Z",
     "shell.execute_reply": "2023-06-29T15:45:29.771689Z"
    },
    "papermill": {
     "duration": 0.036674,
     "end_time": "2023-06-29T15:45:29.774495",
     "exception": false,
     "start_time": "2023-06-29T15:45:29.737821",
     "status": "completed"
    },
    "tags": []
   },
   "outputs": [
    {
     "data": {
      "text/plain": [
       "(tensor([1., 2., 3., 4., 5., 6., 7., 8., 9.]), torch.Size([9]))"
      ]
     },
     "execution_count": 60,
     "metadata": {},
     "output_type": "execute_result"
    }
   ],
   "source": [
    "# Create Tensor\n",
    "x = torch.arange(1.,10.)\n",
    "x , x.shape"
   ]
  },
  {
   "cell_type": "code",
   "execution_count": 61,
   "id": "b8fbf9d3",
   "metadata": {
    "execution": {
     "iopub.execute_input": "2023-06-29T15:45:29.830542Z",
     "iopub.status.busy": "2023-06-29T15:45:29.829826Z",
     "iopub.status.idle": "2023-06-29T15:45:29.836522Z",
     "shell.execute_reply": "2023-06-29T15:45:29.835524Z"
    },
    "papermill": {
     "duration": 0.036618,
     "end_time": "2023-06-29T15:45:29.838450",
     "exception": false,
     "start_time": "2023-06-29T15:45:29.801832",
     "status": "completed"
    },
    "tags": []
   },
   "outputs": [
    {
     "name": "stdout",
     "output_type": "stream",
     "text": [
      "torch.Size([9])\n",
      "tensor([[1.],\n",
      "        [2.],\n",
      "        [3.],\n",
      "        [4.],\n",
      "        [5.],\n",
      "        [6.],\n",
      "        [7.],\n",
      "        [8.],\n",
      "        [9.]])\n",
      "torch.Size([9, 1])\n"
     ]
    }
   ],
   "source": [
    "# Add extra dimension\n",
    "x_reshaped = x.reshape(9,1)\n",
    "print(x.size())\n",
    "print(x_reshaped)\n",
    "print(x_reshaped.size())"
   ]
  },
  {
   "cell_type": "code",
   "execution_count": 62,
   "id": "effda12a",
   "metadata": {
    "execution": {
     "iopub.execute_input": "2023-06-29T15:45:29.895005Z",
     "iopub.status.busy": "2023-06-29T15:45:29.894245Z",
     "iopub.status.idle": "2023-06-29T15:45:29.900939Z",
     "shell.execute_reply": "2023-06-29T15:45:29.900067Z"
    },
    "papermill": {
     "duration": 0.036979,
     "end_time": "2023-06-29T15:45:29.902821",
     "exception": false,
     "start_time": "2023-06-29T15:45:29.865842",
     "status": "completed"
    },
    "tags": []
   },
   "outputs": [
    {
     "data": {
      "text/plain": [
       "(tensor([[1., 2., 3.],\n",
       "         [4., 5., 6.],\n",
       "         [7., 8., 9.]]),\n",
       " torch.Size([3, 3]))"
      ]
     },
     "execution_count": 62,
     "metadata": {},
     "output_type": "execute_result"
    }
   ],
   "source": [
    "# Change View\n",
    "z = x.view(3,3)\n",
    "z, z.shape"
   ]
  },
  {
   "cell_type": "code",
   "execution_count": 63,
   "id": "16d33e29",
   "metadata": {
    "execution": {
     "iopub.execute_input": "2023-06-29T15:45:29.959463Z",
     "iopub.status.busy": "2023-06-29T15:45:29.958730Z",
     "iopub.status.idle": "2023-06-29T15:45:29.967967Z",
     "shell.execute_reply": "2023-06-29T15:45:29.967039Z"
    },
    "papermill": {
     "duration": 0.039514,
     "end_time": "2023-06-29T15:45:29.969852",
     "exception": false,
     "start_time": "2023-06-29T15:45:29.930338",
     "status": "completed"
    },
    "tags": []
   },
   "outputs": [
    {
     "data": {
      "text/plain": [
       "(tensor([[5., 2., 3.],\n",
       "         [5., 5., 6.],\n",
       "         [5., 8., 9.]]),\n",
       " tensor([5., 2., 3., 5., 5., 6., 5., 8., 9.]))"
      ]
     },
     "execution_count": 63,
     "metadata": {},
     "output_type": "execute_result"
    }
   ],
   "source": [
    "# Changing z changes x because it shares same memory as original but doesnt affect the shape\n",
    "z[:,0]=5\n",
    "z, x"
   ]
  },
  {
   "cell_type": "code",
   "execution_count": 64,
   "id": "5f1571b5",
   "metadata": {
    "execution": {
     "iopub.execute_input": "2023-06-29T15:45:30.026430Z",
     "iopub.status.busy": "2023-06-29T15:45:30.025723Z",
     "iopub.status.idle": "2023-06-29T15:45:30.033026Z",
     "shell.execute_reply": "2023-06-29T15:45:30.032137Z"
    },
    "papermill": {
     "duration": 0.037458,
     "end_time": "2023-06-29T15:45:30.034878",
     "exception": false,
     "start_time": "2023-06-29T15:45:29.997420",
     "status": "completed"
    },
    "tags": []
   },
   "outputs": [
    {
     "data": {
      "text/plain": [
       "tensor([[5., 2., 3., 5., 5., 6., 5., 8., 9.],\n",
       "        [5., 2., 3., 5., 5., 6., 5., 8., 9.],\n",
       "        [5., 2., 3., 5., 5., 6., 5., 8., 9.],\n",
       "        [5., 2., 3., 5., 5., 6., 5., 8., 9.]])"
      ]
     },
     "execution_count": 64,
     "metadata": {},
     "output_type": "execute_result"
    }
   ],
   "source": [
    "# Stack tensors\n",
    "x_stacked = torch.stack([x, x, x, x], dim=0)\n",
    "x_stacked"
   ]
  },
  {
   "cell_type": "code",
   "execution_count": 65,
   "id": "8482ae43",
   "metadata": {
    "execution": {
     "iopub.execute_input": "2023-06-29T15:45:30.092768Z",
     "iopub.status.busy": "2023-06-29T15:45:30.091842Z",
     "iopub.status.idle": "2023-06-29T15:45:30.099135Z",
     "shell.execute_reply": "2023-06-29T15:45:30.098248Z"
    },
    "papermill": {
     "duration": 0.038276,
     "end_time": "2023-06-29T15:45:30.101015",
     "exception": false,
     "start_time": "2023-06-29T15:45:30.062739",
     "status": "completed"
    },
    "tags": []
   },
   "outputs": [
    {
     "name": "stdout",
     "output_type": "stream",
     "text": [
      "Previouse tensor : tensor([[5.],\n",
      "        [2.],\n",
      "        [3.],\n",
      "        [5.],\n",
      "        [5.],\n",
      "        [6.],\n",
      "        [5.],\n",
      "        [8.],\n",
      "        [9.]])\n",
      "Previoe shape : torch.Size([9, 1])\n",
      "\n",
      "New tensor : tensor([5., 2., 3., 5., 5., 6., 5., 8., 9.])\n",
      "New Shape : torch.Size([9])\n"
     ]
    }
   ],
   "source": [
    "# torch.squeeze() - removes all single dimensions from target tensor\n",
    "print(f\"Previouse tensor : {x_reshaped}\")\n",
    "print(f\"Previoe shape : {x_reshaped.shape}\")\n",
    "\n",
    "# Remove extra dimension from x_reshaped\n",
    "x_squeezed = x_reshaped.squeeze()\n",
    "print(f\"\\nNew tensor : {x_squeezed}\")\n",
    "print(f\"New Shape : {x_squeezed.shape}\")\n",
    "\n"
   ]
  },
  {
   "cell_type": "code",
   "execution_count": 66,
   "id": "8046f02a",
   "metadata": {
    "execution": {
     "iopub.execute_input": "2023-06-29T15:45:30.158262Z",
     "iopub.status.busy": "2023-06-29T15:45:30.157990Z",
     "iopub.status.idle": "2023-06-29T15:45:30.164431Z",
     "shell.execute_reply": "2023-06-29T15:45:30.163466Z"
    },
    "papermill": {
     "duration": 0.037028,
     "end_time": "2023-06-29T15:45:30.166316",
     "exception": false,
     "start_time": "2023-06-29T15:45:30.129288",
     "status": "completed"
    },
    "tags": []
   },
   "outputs": [
    {
     "data": {
      "text/plain": [
       "tensor([5., 2., 3., 5., 5., 6., 5., 8., 9.])"
      ]
     },
     "execution_count": 66,
     "metadata": {},
     "output_type": "execute_result"
    }
   ],
   "source": [
    "x_reshaped.squeeze()"
   ]
  },
  {
   "cell_type": "code",
   "execution_count": 67,
   "id": "614d2662",
   "metadata": {
    "execution": {
     "iopub.execute_input": "2023-06-29T15:45:30.223474Z",
     "iopub.status.busy": "2023-06-29T15:45:30.222771Z",
     "iopub.status.idle": "2023-06-29T15:45:30.230505Z",
     "shell.execute_reply": "2023-06-29T15:45:30.229504Z"
    },
    "papermill": {
     "duration": 0.038252,
     "end_time": "2023-06-29T15:45:30.232394",
     "exception": false,
     "start_time": "2023-06-29T15:45:30.194142",
     "status": "completed"
    },
    "tags": []
   },
   "outputs": [
    {
     "name": "stdout",
     "output_type": "stream",
     "text": [
      "Previous target : tensor([5., 2., 3., 5., 5., 6., 5., 8., 9.])\n",
      "Previous Shape : torch.Size([9])\n",
      "\n",
      "New tensor : tensor([[5., 2., 3., 5., 5., 6., 5., 8., 9.]])\n",
      "New Shape : torch.Size([1, 9])\n"
     ]
    }
   ],
   "source": [
    "# torch.unsqueeze() - adds a single dimension to a target tensor at a specific dimension\n",
    "print(f\"Previous target : {x_squeezed}\")\n",
    "print(f\"Previous Shape : {x_squeezed.shape}\")\n",
    "\n",
    "# Adding dimension to x_reshaped\n",
    "x_unsqueezed = x_squeezed.unsqueeze(dim=-0)\n",
    "print(f\"\\nNew tensor : {x_unsqueezed}\")\n",
    "print(f\"New Shape : {x_unsqueezed.shape}\")"
   ]
  },
  {
   "cell_type": "code",
   "execution_count": 68,
   "id": "aed0a634",
   "metadata": {
    "execution": {
     "iopub.execute_input": "2023-06-29T15:45:30.289928Z",
     "iopub.status.busy": "2023-06-29T15:45:30.289188Z",
     "iopub.status.idle": "2023-06-29T15:45:30.297105Z",
     "shell.execute_reply": "2023-06-29T15:45:30.295848Z"
    },
    "papermill": {
     "duration": 0.038484,
     "end_time": "2023-06-29T15:45:30.299008",
     "exception": false,
     "start_time": "2023-06-29T15:45:30.260524",
     "status": "completed"
    },
    "tags": []
   },
   "outputs": [
    {
     "name": "stdout",
     "output_type": "stream",
     "text": [
      "Shape before Permute : torch.Size([224, 224, 3])\n",
      "Shape after Permute : torch.Size([3, 224, 224])\n"
     ]
    }
   ],
   "source": [
    "# torch.permute - rearrages the dimension of a traget tensor in a specified order\n",
    "x_original = torch.rand(size=(224,224,3)) \n",
    "print(f\"Shape before Permute : {x_original.shape}\") #[height, width, color_channel]\n",
    "\n",
    "# Premute the original tensor to rearrage the axis\n",
    "x_permuted = x_original.permute(2,0,1) # shifts axis 0 -> 1, 1 -> 2, 2 -> 0\n",
    "print(f\"Shape after Permute : {x_permuted.shape}\") #[color_channel, height, width]"
   ]
  },
  {
   "cell_type": "markdown",
   "id": "73b55ace",
   "metadata": {
    "papermill": {
     "duration": 0.027976,
     "end_time": "2023-06-29T15:45:30.354983",
     "exception": false,
     "start_time": "2023-06-29T15:45:30.327007",
     "status": "completed"
    },
    "tags": []
   },
   "source": [
    "## Indexing (selecting data from tensors)\n",
    "Indexing is same as numpy"
   ]
  },
  {
   "cell_type": "code",
   "execution_count": 69,
   "id": "b0a41156",
   "metadata": {
    "execution": {
     "iopub.execute_input": "2023-06-29T15:45:30.414507Z",
     "iopub.status.busy": "2023-06-29T15:45:30.413750Z",
     "iopub.status.idle": "2023-06-29T15:45:30.420587Z",
     "shell.execute_reply": "2023-06-29T15:45:30.419675Z"
    },
    "papermill": {
     "duration": 0.03939,
     "end_time": "2023-06-29T15:45:30.422451",
     "exception": false,
     "start_time": "2023-06-29T15:45:30.383061",
     "status": "completed"
    },
    "tags": []
   },
   "outputs": [
    {
     "data": {
      "text/plain": [
       "(tensor([[[1, 2, 3],\n",
       "          [4, 5, 6],\n",
       "          [7, 8, 9]]]),\n",
       " torch.Size([1, 3, 3]))"
      ]
     },
     "execution_count": 69,
     "metadata": {},
     "output_type": "execute_result"
    }
   ],
   "source": [
    "# Create a tensor\n",
    "x= torch.arange(1,10).reshape(1,3,3)\n",
    "x, x.shape"
   ]
  },
  {
   "cell_type": "code",
   "execution_count": 70,
   "id": "80877b2d",
   "metadata": {
    "execution": {
     "iopub.execute_input": "2023-06-29T15:45:30.480528Z",
     "iopub.status.busy": "2023-06-29T15:45:30.480269Z",
     "iopub.status.idle": "2023-06-29T15:45:30.486269Z",
     "shell.execute_reply": "2023-06-29T15:45:30.485408Z"
    },
    "papermill": {
     "duration": 0.037193,
     "end_time": "2023-06-29T15:45:30.488224",
     "exception": false,
     "start_time": "2023-06-29T15:45:30.451031",
     "status": "completed"
    },
    "tags": []
   },
   "outputs": [
    {
     "data": {
      "text/plain": [
       "tensor([[1, 2, 3],\n",
       "        [4, 5, 6],\n",
       "        [7, 8, 9]])"
      ]
     },
     "execution_count": 70,
     "metadata": {},
     "output_type": "execute_result"
    }
   ],
   "source": [
    "# Indexing new tensor\n",
    "x[0]"
   ]
  },
  {
   "cell_type": "code",
   "execution_count": 71,
   "id": "6ec42b32",
   "metadata": {
    "execution": {
     "iopub.execute_input": "2023-06-29T15:45:30.546572Z",
     "iopub.status.busy": "2023-06-29T15:45:30.545825Z",
     "iopub.status.idle": "2023-06-29T15:45:30.552134Z",
     "shell.execute_reply": "2023-06-29T15:45:30.551183Z"
    },
    "papermill": {
     "duration": 0.038162,
     "end_time": "2023-06-29T15:45:30.554689",
     "exception": false,
     "start_time": "2023-06-29T15:45:30.516527",
     "status": "completed"
    },
    "tags": []
   },
   "outputs": [
    {
     "data": {
      "text/plain": [
       "tensor(5)"
      ]
     },
     "execution_count": 71,
     "metadata": {},
     "output_type": "execute_result"
    }
   ],
   "source": [
    "# Index on middle bracket (dim=1)\n",
    "x[0,1,1]"
   ]
  },
  {
   "cell_type": "code",
   "execution_count": 72,
   "id": "f649910b",
   "metadata": {
    "execution": {
     "iopub.execute_input": "2023-06-29T15:45:30.613249Z",
     "iopub.status.busy": "2023-06-29T15:45:30.612963Z",
     "iopub.status.idle": "2023-06-29T15:45:30.620892Z",
     "shell.execute_reply": "2023-06-29T15:45:30.620088Z"
    },
    "papermill": {
     "duration": 0.03924,
     "end_time": "2023-06-29T15:45:30.622820",
     "exception": false,
     "start_time": "2023-06-29T15:45:30.583580",
     "status": "completed"
    },
    "tags": []
   },
   "outputs": [
    {
     "data": {
      "text/plain": [
       "tensor([[1, 2, 3]])"
      ]
     },
     "execution_count": 72,
     "metadata": {},
     "output_type": "execute_result"
    }
   ],
   "source": [
    "# \":\" to select all target dimension\n",
    "x[:,0]"
   ]
  },
  {
   "cell_type": "code",
   "execution_count": 73,
   "id": "b7089f50",
   "metadata": {
    "execution": {
     "iopub.execute_input": "2023-06-29T15:45:30.681231Z",
     "iopub.status.busy": "2023-06-29T15:45:30.680964Z",
     "iopub.status.idle": "2023-06-29T15:45:30.687150Z",
     "shell.execute_reply": "2023-06-29T15:45:30.685972Z"
    },
    "papermill": {
     "duration": 0.037599,
     "end_time": "2023-06-29T15:45:30.689052",
     "exception": false,
     "start_time": "2023-06-29T15:45:30.651453",
     "status": "completed"
    },
    "tags": []
   },
   "outputs": [
    {
     "name": "stdout",
     "output_type": "stream",
     "text": [
      "tensor([[2, 5, 8]])\n",
      "tensor([1, 2, 3])\n",
      "tensor([4, 5, 6])\n"
     ]
    }
   ],
   "source": [
    "# Practice\n",
    "print(x[:,:,1])\n",
    "print(x[0,0,:])\n",
    "print(x[0,1,:])"
   ]
  },
  {
   "cell_type": "markdown",
   "id": "fd550c26",
   "metadata": {
    "papermill": {
     "duration": 0.028381,
     "end_time": "2023-06-29T15:45:30.746528",
     "exception": false,
     "start_time": "2023-06-29T15:45:30.718147",
     "status": "completed"
    },
    "tags": []
   },
   "source": [
    "## Pytorch tensors & Numpy\n",
    "\n",
    "Pytorch interacting with Numpy\n",
    "\n",
    "* Convert data from Numpy to Tensor -> `torch.from_numpy(ndarray)`\n",
    "* Convert data from Tensor to Numpy -> `torch.Tensor.numpy()`"
   ]
  },
  {
   "cell_type": "code",
   "execution_count": 74,
   "id": "9e7e5938",
   "metadata": {
    "execution": {
     "iopub.execute_input": "2023-06-29T15:45:30.805704Z",
     "iopub.status.busy": "2023-06-29T15:45:30.805353Z",
     "iopub.status.idle": "2023-06-29T15:45:30.813732Z",
     "shell.execute_reply": "2023-06-29T15:45:30.812823Z"
    },
    "papermill": {
     "duration": 0.040116,
     "end_time": "2023-06-29T15:45:30.815599",
     "exception": false,
     "start_time": "2023-06-29T15:45:30.775483",
     "status": "completed"
    },
    "tags": []
   },
   "outputs": [
    {
     "data": {
      "text/plain": [
       "(array([1., 2., 3., 4., 5., 6., 7.]), tensor([1., 2., 3., 4., 5., 6., 7.]))"
      ]
     },
     "execution_count": 74,
     "metadata": {},
     "output_type": "execute_result"
    }
   ],
   "source": [
    "# Numpy Array -> Tensor\n",
    "import numpy as np\n",
    "import torch\n",
    "\n",
    "array = np.arange(1.0,8.0)\n",
    "tensor = torch.from_numpy(array).type(torch.float32) # warning: when converting from numpy -> tensor, pytorch copies same datatype from numpy viz. float64 unless changed (default dtype of tensor is float32) \n",
    "array, tensor"
   ]
  },
  {
   "cell_type": "code",
   "execution_count": 75,
   "id": "f0ea4794",
   "metadata": {
    "execution": {
     "iopub.execute_input": "2023-06-29T15:45:30.875791Z",
     "iopub.status.busy": "2023-06-29T15:45:30.875520Z",
     "iopub.status.idle": "2023-06-29T15:45:30.879862Z",
     "shell.execute_reply": "2023-06-29T15:45:30.879009Z"
    },
    "papermill": {
     "duration": 0.03664,
     "end_time": "2023-06-29T15:45:30.882106",
     "exception": false,
     "start_time": "2023-06-29T15:45:30.845466",
     "status": "completed"
    },
    "tags": []
   },
   "outputs": [
    {
     "name": "stdout",
     "output_type": "stream",
     "text": [
      "float64\n",
      "torch.float32\n"
     ]
    }
   ],
   "source": [
    "print(array.dtype)\n",
    "print(tensor.dtype)"
   ]
  },
  {
   "cell_type": "code",
   "execution_count": 76,
   "id": "2627be26",
   "metadata": {
    "execution": {
     "iopub.execute_input": "2023-06-29T15:45:30.941097Z",
     "iopub.status.busy": "2023-06-29T15:45:30.940720Z",
     "iopub.status.idle": "2023-06-29T15:45:30.947825Z",
     "shell.execute_reply": "2023-06-29T15:45:30.946925Z"
    },
    "papermill": {
     "duration": 0.038582,
     "end_time": "2023-06-29T15:45:30.949685",
     "exception": false,
     "start_time": "2023-06-29T15:45:30.911103",
     "status": "completed"
    },
    "tags": []
   },
   "outputs": [
    {
     "data": {
      "text/plain": [
       "(array([2., 3., 4., 5., 6., 7., 8.]), tensor([1., 2., 3., 4., 5., 6., 7.]))"
      ]
     },
     "execution_count": 76,
     "metadata": {},
     "output_type": "execute_result"
    }
   ],
   "source": [
    "# Changing the value of array, does this affect tensor ?\n",
    "array = array + 1\n",
    "array,tensor\n",
    "# NO"
   ]
  },
  {
   "cell_type": "code",
   "execution_count": 77,
   "id": "dcbb8180",
   "metadata": {
    "execution": {
     "iopub.execute_input": "2023-06-29T15:45:31.009754Z",
     "iopub.status.busy": "2023-06-29T15:45:31.008978Z",
     "iopub.status.idle": "2023-06-29T15:45:31.016418Z",
     "shell.execute_reply": "2023-06-29T15:45:31.015486Z"
    },
    "papermill": {
     "duration": 0.039424,
     "end_time": "2023-06-29T15:45:31.018340",
     "exception": false,
     "start_time": "2023-06-29T15:45:30.978916",
     "status": "completed"
    },
    "tags": []
   },
   "outputs": [
    {
     "data": {
      "text/plain": [
       "(tensor([1., 1., 1., 1., 1., 1., 1.]),\n",
       " array([1., 1., 1., 1., 1., 1., 1.], dtype=float32))"
      ]
     },
     "execution_count": 77,
     "metadata": {},
     "output_type": "execute_result"
    }
   ],
   "source": [
    "# Tensor -> Numpy array\n",
    "tensor = torch.ones(7)\n",
    "array = tensor.numpy() # datatype remains same as tensor's\n",
    "tensor, array"
   ]
  },
  {
   "cell_type": "code",
   "execution_count": 78,
   "id": "e7b51dc2",
   "metadata": {
    "execution": {
     "iopub.execute_input": "2023-06-29T15:45:31.078588Z",
     "iopub.status.busy": "2023-06-29T15:45:31.077855Z",
     "iopub.status.idle": "2023-06-29T15:45:31.084752Z",
     "shell.execute_reply": "2023-06-29T15:45:31.083842Z"
    },
    "papermill": {
     "duration": 0.039025,
     "end_time": "2023-06-29T15:45:31.086621",
     "exception": false,
     "start_time": "2023-06-29T15:45:31.047596",
     "status": "completed"
    },
    "tags": []
   },
   "outputs": [
    {
     "data": {
      "text/plain": [
       "(tensor([2., 2., 2., 2., 2., 2., 2.]),\n",
       " array([1., 1., 1., 1., 1., 1., 1.], dtype=float32))"
      ]
     },
     "execution_count": 78,
     "metadata": {},
     "output_type": "execute_result"
    }
   ],
   "source": [
    " # Changing the value of tensor, does this affect array ?\n",
    "tensor = tensor + 1\n",
    "tensor,array\n",
    "# NO"
   ]
  },
  {
   "cell_type": "code",
   "execution_count": null,
   "id": "b40996c1",
   "metadata": {
    "papermill": {
     "duration": 0.029414,
     "end_time": "2023-06-29T15:45:31.146021",
     "exception": false,
     "start_time": "2023-06-29T15:45:31.116607",
     "status": "completed"
    },
    "tags": []
   },
   "outputs": [],
   "source": []
  }
 ],
 "metadata": {
  "kernelspec": {
   "display_name": "Python 3",
   "language": "python",
   "name": "python3"
  },
  "language_info": {
   "codemirror_mode": {
    "name": "ipython",
    "version": 3
   },
   "file_extension": ".py",
   "mimetype": "text/x-python",
   "name": "python",
   "nbconvert_exporter": "python",
   "pygments_lexer": "ipython3",
   "version": "3.10.10"
  },
  "papermill": {
   "default_parameters": {},
   "duration": 20.104771,
   "end_time": "2023-06-29T15:45:32.497255",
   "environment_variables": {},
   "exception": null,
   "input_path": "__notebook__.ipynb",
   "output_path": "__notebook__.ipynb",
   "parameters": {},
   "start_time": "2023-06-29T15:45:12.392484",
   "version": "2.4.0"
  }
 },
 "nbformat": 4,
 "nbformat_minor": 5
}
