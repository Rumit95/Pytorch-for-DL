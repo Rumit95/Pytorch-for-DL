{
 "cells": [
  {
   "cell_type": "code",
   "execution_count": 1,
   "id": "92dee114",
   "metadata": {
    "_cell_guid": "b1076dfc-b9ad-4769-8c92-a6c4dae69d19",
    "_uuid": "8f2839f25d086af736a60e9eeb907d3b93b6e0e5",
    "execution": {
     "iopub.execute_input": "2023-06-25T16:37:48.336590Z",
     "iopub.status.busy": "2023-06-25T16:37:48.335600Z",
     "iopub.status.idle": "2023-06-25T16:37:52.221708Z",
     "shell.execute_reply": "2023-06-25T16:37:52.220740Z"
    },
    "papermill": {
     "duration": 3.899873,
     "end_time": "2023-06-25T16:37:52.224062",
     "exception": false,
     "start_time": "2023-06-25T16:37:48.324189",
     "status": "completed"
    },
    "tags": []
   },
   "outputs": [
    {
     "data": {
      "text/plain": [
       "'2.0.0'"
      ]
     },
     "execution_count": 1,
     "metadata": {},
     "output_type": "execute_result"
    }
   ],
   "source": [
    "import torch\n",
    "import pandas as pd\n",
    "import numpy as np\n",
    "import matplotlib.pyplot as plt\n",
    "torch.__version__"
   ]
  },
  {
   "cell_type": "markdown",
   "id": "d8a8d61e",
   "metadata": {
    "execution": {
     "iopub.execute_input": "2023-06-25T15:31:29.081596Z",
     "iopub.status.busy": "2023-06-25T15:31:29.081220Z",
     "iopub.status.idle": "2023-06-25T15:31:29.086052Z",
     "shell.execute_reply": "2023-06-25T15:31:29.085102Z",
     "shell.execute_reply.started": "2023-06-25T15:31:29.081561Z"
    },
    "papermill": {
     "duration": 0.008805,
     "end_time": "2023-06-25T16:37:52.242359",
     "exception": false,
     "start_time": "2023-06-25T16:37:52.233554",
     "status": "completed"
    },
    "tags": []
   },
   "source": [
    "## Introduction to Tensor\n",
    "\n",
    "### Creating Tensors\n",
    "\n",
    "PyTorch tensor are create using torch.Tensor()\n",
    "\n",
    "ref - https://pytorch.org/docs/stable/tensors.html"
   ]
  },
  {
   "cell_type": "code",
   "execution_count": 2,
   "id": "b7737e20",
   "metadata": {
    "execution": {
     "iopub.execute_input": "2023-06-25T16:37:52.263637Z",
     "iopub.status.busy": "2023-06-25T16:37:52.261840Z",
     "iopub.status.idle": "2023-06-25T16:37:52.301217Z",
     "shell.execute_reply": "2023-06-25T16:37:52.300219Z"
    },
    "papermill": {
     "duration": 0.052011,
     "end_time": "2023-06-25T16:37:52.303551",
     "exception": false,
     "start_time": "2023-06-25T16:37:52.251540",
     "status": "completed"
    },
    "tags": []
   },
   "outputs": [
    {
     "data": {
      "text/plain": [
       "tensor(7)"
      ]
     },
     "execution_count": 2,
     "metadata": {},
     "output_type": "execute_result"
    }
   ],
   "source": [
    "# Scaler\n",
    "scaler = torch.tensor(7)\n",
    "scaler"
   ]
  },
  {
   "cell_type": "code",
   "execution_count": 3,
   "id": "6ef517a2",
   "metadata": {
    "execution": {
     "iopub.execute_input": "2023-06-25T16:37:52.324634Z",
     "iopub.status.busy": "2023-06-25T16:37:52.323687Z",
     "iopub.status.idle": "2023-06-25T16:37:52.330231Z",
     "shell.execute_reply": "2023-06-25T16:37:52.329206Z"
    },
    "papermill": {
     "duration": 0.019029,
     "end_time": "2023-06-25T16:37:52.332306",
     "exception": false,
     "start_time": "2023-06-25T16:37:52.313277",
     "status": "completed"
    },
    "tags": []
   },
   "outputs": [
    {
     "data": {
      "text/plain": [
       "0"
      ]
     },
     "execution_count": 3,
     "metadata": {},
     "output_type": "execute_result"
    }
   ],
   "source": [
    "scaler.ndim"
   ]
  },
  {
   "cell_type": "code",
   "execution_count": 4,
   "id": "f9436d0f",
   "metadata": {
    "execution": {
     "iopub.execute_input": "2023-06-25T16:37:52.353299Z",
     "iopub.status.busy": "2023-06-25T16:37:52.352579Z",
     "iopub.status.idle": "2023-06-25T16:37:52.360051Z",
     "shell.execute_reply": "2023-06-25T16:37:52.359110Z"
    },
    "papermill": {
     "duration": 0.020489,
     "end_time": "2023-06-25T16:37:52.362101",
     "exception": false,
     "start_time": "2023-06-25T16:37:52.341612",
     "status": "completed"
    },
    "tags": []
   },
   "outputs": [
    {
     "data": {
      "text/plain": [
       "7"
      ]
     },
     "execution_count": 4,
     "metadata": {},
     "output_type": "execute_result"
    }
   ],
   "source": [
    "# Get Tensor back ans int\n",
    "scaler.item()"
   ]
  },
  {
   "cell_type": "code",
   "execution_count": 5,
   "id": "82ac5eee",
   "metadata": {
    "execution": {
     "iopub.execute_input": "2023-06-25T16:37:52.384654Z",
     "iopub.status.busy": "2023-06-25T16:37:52.382742Z",
     "iopub.status.idle": "2023-06-25T16:37:52.391862Z",
     "shell.execute_reply": "2023-06-25T16:37:52.390840Z"
    },
    "papermill": {
     "duration": 0.022233,
     "end_time": "2023-06-25T16:37:52.394112",
     "exception": false,
     "start_time": "2023-06-25T16:37:52.371879",
     "status": "completed"
    },
    "tags": []
   },
   "outputs": [
    {
     "data": {
      "text/plain": [
       "tensor([7, 7])"
      ]
     },
     "execution_count": 5,
     "metadata": {},
     "output_type": "execute_result"
    }
   ],
   "source": [
    "# Vector\n",
    "vector = torch.tensor([7,7])\n",
    "vector"
   ]
  },
  {
   "cell_type": "code",
   "execution_count": 6,
   "id": "bc6fcef1",
   "metadata": {
    "execution": {
     "iopub.execute_input": "2023-06-25T16:37:52.416669Z",
     "iopub.status.busy": "2023-06-25T16:37:52.415770Z",
     "iopub.status.idle": "2023-06-25T16:37:52.422486Z",
     "shell.execute_reply": "2023-06-25T16:37:52.421484Z"
    },
    "papermill": {
     "duration": 0.020343,
     "end_time": "2023-06-25T16:37:52.424734",
     "exception": false,
     "start_time": "2023-06-25T16:37:52.404391",
     "status": "completed"
    },
    "tags": []
   },
   "outputs": [
    {
     "data": {
      "text/plain": [
       "1"
      ]
     },
     "execution_count": 6,
     "metadata": {},
     "output_type": "execute_result"
    }
   ],
   "source": [
    "vector.ndim"
   ]
  },
  {
   "cell_type": "code",
   "execution_count": 7,
   "id": "57863f1f",
   "metadata": {
    "execution": {
     "iopub.execute_input": "2023-06-25T16:37:52.447400Z",
     "iopub.status.busy": "2023-06-25T16:37:52.445873Z",
     "iopub.status.idle": "2023-06-25T16:37:52.452469Z",
     "shell.execute_reply": "2023-06-25T16:37:52.451440Z"
    },
    "papermill": {
     "duration": 0.019556,
     "end_time": "2023-06-25T16:37:52.454599",
     "exception": false,
     "start_time": "2023-06-25T16:37:52.435043",
     "status": "completed"
    },
    "tags": []
   },
   "outputs": [
    {
     "data": {
      "text/plain": [
       "torch.Size([2])"
      ]
     },
     "execution_count": 7,
     "metadata": {},
     "output_type": "execute_result"
    }
   ],
   "source": [
    "vector.shape"
   ]
  },
  {
   "cell_type": "code",
   "execution_count": 8,
   "id": "5071feda",
   "metadata": {
    "execution": {
     "iopub.execute_input": "2023-06-25T16:37:52.476722Z",
     "iopub.status.busy": "2023-06-25T16:37:52.475951Z",
     "iopub.status.idle": "2023-06-25T16:37:52.485793Z",
     "shell.execute_reply": "2023-06-25T16:37:52.484854Z"
    },
    "papermill": {
     "duration": 0.022935,
     "end_time": "2023-06-25T16:37:52.487697",
     "exception": false,
     "start_time": "2023-06-25T16:37:52.464762",
     "status": "completed"
    },
    "tags": []
   },
   "outputs": [
    {
     "data": {
      "text/plain": [
       "tensor([[7, 8],\n",
       "        [6, 5]])"
      ]
     },
     "execution_count": 8,
     "metadata": {},
     "output_type": "execute_result"
    }
   ],
   "source": [
    "# Matrix\n",
    "MATRIX = torch.tensor([[7,8],\n",
    "                      [6,5]])\n",
    "MATRIX"
   ]
  },
  {
   "cell_type": "code",
   "execution_count": 9,
   "id": "ef82edc0",
   "metadata": {
    "execution": {
     "iopub.execute_input": "2023-06-25T16:37:52.509327Z",
     "iopub.status.busy": "2023-06-25T16:37:52.508997Z",
     "iopub.status.idle": "2023-06-25T16:37:52.514793Z",
     "shell.execute_reply": "2023-06-25T16:37:52.513879Z"
    },
    "papermill": {
     "duration": 0.018978,
     "end_time": "2023-06-25T16:37:52.516884",
     "exception": false,
     "start_time": "2023-06-25T16:37:52.497906",
     "status": "completed"
    },
    "tags": []
   },
   "outputs": [
    {
     "data": {
      "text/plain": [
       "2"
      ]
     },
     "execution_count": 9,
     "metadata": {},
     "output_type": "execute_result"
    }
   ],
   "source": [
    "MATRIX.ndim"
   ]
  },
  {
   "cell_type": "code",
   "execution_count": 10,
   "id": "c25b0cdf",
   "metadata": {
    "execution": {
     "iopub.execute_input": "2023-06-25T16:37:52.540442Z",
     "iopub.status.busy": "2023-06-25T16:37:52.539603Z",
     "iopub.status.idle": "2023-06-25T16:37:52.546349Z",
     "shell.execute_reply": "2023-06-25T16:37:52.545436Z"
    },
    "papermill": {
     "duration": 0.020603,
     "end_time": "2023-06-25T16:37:52.548328",
     "exception": false,
     "start_time": "2023-06-25T16:37:52.527725",
     "status": "completed"
    },
    "tags": []
   },
   "outputs": [
    {
     "data": {
      "text/plain": [
       "tensor([7, 8])"
      ]
     },
     "execution_count": 10,
     "metadata": {},
     "output_type": "execute_result"
    }
   ],
   "source": [
    "MATRIX[0]"
   ]
  },
  {
   "cell_type": "code",
   "execution_count": 11,
   "id": "4a7ea026",
   "metadata": {
    "execution": {
     "iopub.execute_input": "2023-06-25T16:37:52.569885Z",
     "iopub.status.busy": "2023-06-25T16:37:52.569602Z",
     "iopub.status.idle": "2023-06-25T16:37:52.576001Z",
     "shell.execute_reply": "2023-06-25T16:37:52.575133Z"
    },
    "papermill": {
     "duration": 0.019318,
     "end_time": "2023-06-25T16:37:52.577997",
     "exception": false,
     "start_time": "2023-06-25T16:37:52.558679",
     "status": "completed"
    },
    "tags": []
   },
   "outputs": [
    {
     "data": {
      "text/plain": [
       "tensor([6, 5])"
      ]
     },
     "execution_count": 11,
     "metadata": {},
     "output_type": "execute_result"
    }
   ],
   "source": [
    "MATRIX[1]"
   ]
  },
  {
   "cell_type": "code",
   "execution_count": 12,
   "id": "b337708c",
   "metadata": {
    "execution": {
     "iopub.execute_input": "2023-06-25T16:37:52.600163Z",
     "iopub.status.busy": "2023-06-25T16:37:52.599401Z",
     "iopub.status.idle": "2023-06-25T16:37:52.605786Z",
     "shell.execute_reply": "2023-06-25T16:37:52.604789Z"
    },
    "papermill": {
     "duration": 0.019436,
     "end_time": "2023-06-25T16:37:52.607723",
     "exception": false,
     "start_time": "2023-06-25T16:37:52.588287",
     "status": "completed"
    },
    "tags": []
   },
   "outputs": [
    {
     "data": {
      "text/plain": [
       "torch.Size([2, 2])"
      ]
     },
     "execution_count": 12,
     "metadata": {},
     "output_type": "execute_result"
    }
   ],
   "source": [
    "MATRIX.shape"
   ]
  },
  {
   "cell_type": "code",
   "execution_count": 13,
   "id": "1117a00b",
   "metadata": {
    "execution": {
     "iopub.execute_input": "2023-06-25T16:37:52.631699Z",
     "iopub.status.busy": "2023-06-25T16:37:52.630792Z",
     "iopub.status.idle": "2023-06-25T16:37:52.638456Z",
     "shell.execute_reply": "2023-06-25T16:37:52.637553Z"
    },
    "papermill": {
     "duration": 0.021561,
     "end_time": "2023-06-25T16:37:52.640570",
     "exception": false,
     "start_time": "2023-06-25T16:37:52.619009",
     "status": "completed"
    },
    "tags": []
   },
   "outputs": [
    {
     "data": {
      "text/plain": [
       "tensor([[[1, 2, 3],\n",
       "         [5, 6, 6],\n",
       "         [7, 8, 9]]])"
      ]
     },
     "execution_count": 13,
     "metadata": {},
     "output_type": "execute_result"
    }
   ],
   "source": [
    "# Tensor\n",
    "TENSOR = torch.tensor([[[1,2,3],\n",
    "                      [5,6,6],\n",
    "                      [7,8,9]]])\n",
    "TENSOR"
   ]
  },
  {
   "cell_type": "code",
   "execution_count": 14,
   "id": "02725eed",
   "metadata": {
    "execution": {
     "iopub.execute_input": "2023-06-25T16:37:52.664211Z",
     "iopub.status.busy": "2023-06-25T16:37:52.663318Z",
     "iopub.status.idle": "2023-06-25T16:37:52.669468Z",
     "shell.execute_reply": "2023-06-25T16:37:52.668569Z"
    },
    "papermill": {
     "duration": 0.01998,
     "end_time": "2023-06-25T16:37:52.671525",
     "exception": false,
     "start_time": "2023-06-25T16:37:52.651545",
     "status": "completed"
    },
    "tags": []
   },
   "outputs": [
    {
     "data": {
      "text/plain": [
       "3"
      ]
     },
     "execution_count": 14,
     "metadata": {},
     "output_type": "execute_result"
    }
   ],
   "source": [
    "TENSOR.ndim"
   ]
  },
  {
   "cell_type": "code",
   "execution_count": 15,
   "id": "1c8e9975",
   "metadata": {
    "execution": {
     "iopub.execute_input": "2023-06-25T16:37:52.695765Z",
     "iopub.status.busy": "2023-06-25T16:37:52.694016Z",
     "iopub.status.idle": "2023-06-25T16:37:52.703038Z",
     "shell.execute_reply": "2023-06-25T16:37:52.701988Z"
    },
    "papermill": {
     "duration": 0.022888,
     "end_time": "2023-06-25T16:37:52.705160",
     "exception": false,
     "start_time": "2023-06-25T16:37:52.682272",
     "status": "completed"
    },
    "tags": []
   },
   "outputs": [
    {
     "data": {
      "text/plain": [
       "torch.Size([1, 3, 3])"
      ]
     },
     "execution_count": 15,
     "metadata": {},
     "output_type": "execute_result"
    }
   ],
   "source": [
    "TENSOR.shape"
   ]
  },
  {
   "cell_type": "code",
   "execution_count": 16,
   "id": "b9ad226e",
   "metadata": {
    "execution": {
     "iopub.execute_input": "2023-06-25T16:37:52.731168Z",
     "iopub.status.busy": "2023-06-25T16:37:52.730025Z",
     "iopub.status.idle": "2023-06-25T16:37:52.737579Z",
     "shell.execute_reply": "2023-06-25T16:37:52.736527Z"
    },
    "papermill": {
     "duration": 0.02311,
     "end_time": "2023-06-25T16:37:52.739879",
     "exception": false,
     "start_time": "2023-06-25T16:37:52.716769",
     "status": "completed"
    },
    "tags": []
   },
   "outputs": [
    {
     "data": {
      "text/plain": [
       "tensor([[1, 2, 3],\n",
       "        [5, 6, 6],\n",
       "        [7, 8, 9]])"
      ]
     },
     "execution_count": 16,
     "metadata": {},
     "output_type": "execute_result"
    }
   ],
   "source": [
    "TENSOR[0]"
   ]
  },
  {
   "cell_type": "code",
   "execution_count": 17,
   "id": "e094d25e",
   "metadata": {
    "execution": {
     "iopub.execute_input": "2023-06-25T16:37:52.764839Z",
     "iopub.status.busy": "2023-06-25T16:37:52.763975Z",
     "iopub.status.idle": "2023-06-25T16:37:52.772392Z",
     "shell.execute_reply": "2023-06-25T16:37:52.771414Z"
    },
    "papermill": {
     "duration": 0.022664,
     "end_time": "2023-06-25T16:37:52.774572",
     "exception": false,
     "start_time": "2023-06-25T16:37:52.751908",
     "status": "completed"
    },
    "tags": []
   },
   "outputs": [
    {
     "data": {
      "text/plain": [
       "tensor([[[1, 2, 3],\n",
       "         [4, 5, 6],\n",
       "         [7, 8, 9]],\n",
       "\n",
       "        [[1, 2, 3],\n",
       "         [4, 5, 6],\n",
       "         [7, 8, 9]]])"
      ]
     },
     "execution_count": 17,
     "metadata": {},
     "output_type": "execute_result"
    }
   ],
   "source": [
    "# Practice\n",
    "TENSOR1 = torch.tensor([[[1,2,3],\n",
    "                      [4,5,6],\n",
    "                      [7,8,9]],\n",
    "                     [[1,2,3],\n",
    "                      [4,5,6],\n",
    "                      [7,8,9]]])\n",
    "TENSOR1"
   ]
  },
  {
   "cell_type": "code",
   "execution_count": 18,
   "id": "e97e4e39",
   "metadata": {
    "execution": {
     "iopub.execute_input": "2023-06-25T16:37:52.798175Z",
     "iopub.status.busy": "2023-06-25T16:37:52.797427Z",
     "iopub.status.idle": "2023-06-25T16:37:52.803467Z",
     "shell.execute_reply": "2023-06-25T16:37:52.802421Z"
    },
    "papermill": {
     "duration": 0.019919,
     "end_time": "2023-06-25T16:37:52.805538",
     "exception": false,
     "start_time": "2023-06-25T16:37:52.785619",
     "status": "completed"
    },
    "tags": []
   },
   "outputs": [
    {
     "data": {
      "text/plain": [
       "3"
      ]
     },
     "execution_count": 18,
     "metadata": {},
     "output_type": "execute_result"
    }
   ],
   "source": [
    "TENSOR1.ndim"
   ]
  },
  {
   "cell_type": "code",
   "execution_count": 19,
   "id": "cabb16c8",
   "metadata": {
    "execution": {
     "iopub.execute_input": "2023-06-25T16:37:52.829556Z",
     "iopub.status.busy": "2023-06-25T16:37:52.828765Z",
     "iopub.status.idle": "2023-06-25T16:37:52.835525Z",
     "shell.execute_reply": "2023-06-25T16:37:52.834603Z"
    },
    "papermill": {
     "duration": 0.020708,
     "end_time": "2023-06-25T16:37:52.837601",
     "exception": false,
     "start_time": "2023-06-25T16:37:52.816893",
     "status": "completed"
    },
    "tags": []
   },
   "outputs": [
    {
     "data": {
      "text/plain": [
       "torch.Size([2, 3, 3])"
      ]
     },
     "execution_count": 19,
     "metadata": {},
     "output_type": "execute_result"
    }
   ],
   "source": [
    "TENSOR1.shape"
   ]
  },
  {
   "cell_type": "markdown",
   "id": "a01caaf0",
   "metadata": {
    "execution": {
     "iopub.execute_input": "2023-06-25T15:53:52.605155Z",
     "iopub.status.busy": "2023-06-25T15:53:52.604740Z",
     "iopub.status.idle": "2023-06-25T15:53:52.609815Z",
     "shell.execute_reply": "2023-06-25T15:53:52.608929Z",
     "shell.execute_reply.started": "2023-06-25T15:53:52.605124Z"
    },
    "papermill": {
     "duration": 0.011937,
     "end_time": "2023-06-25T16:37:52.860737",
     "exception": false,
     "start_time": "2023-06-25T16:37:52.848800",
     "status": "completed"
    },
    "tags": []
   },
   "source": [
    "### Random Tensor\n",
    "\n",
    "Why Random Nos. ?\n",
    "\n",
    "'Start with Random Numbers -> Look at Data -> Update Random Numbers -> Look at Data -> Update Random Numbers'\n",
    "\n",
    "ref - https://pytorch.org/docs/stable/generated/torch.rand.html"
   ]
  },
  {
   "cell_type": "code",
   "execution_count": 20,
   "id": "09748d92",
   "metadata": {
    "execution": {
     "iopub.execute_input": "2023-06-25T16:37:52.886163Z",
     "iopub.status.busy": "2023-06-25T16:37:52.885291Z",
     "iopub.status.idle": "2023-06-25T16:37:52.941834Z",
     "shell.execute_reply": "2023-06-25T16:37:52.940872Z"
    },
    "papermill": {
     "duration": 0.071431,
     "end_time": "2023-06-25T16:37:52.944261",
     "exception": false,
     "start_time": "2023-06-25T16:37:52.872830",
     "status": "completed"
    },
    "tags": []
   },
   "outputs": [
    {
     "data": {
      "text/plain": [
       "tensor([[[0.6370, 0.4817, 0.1973],\n",
       "         [0.7411, 0.3894, 0.8081],\n",
       "         [0.3966, 0.7773, 0.8295],\n",
       "         [0.5075, 0.1718, 0.3033]],\n",
       "\n",
       "        [[0.2768, 0.6430, 0.9554],\n",
       "         [0.2847, 0.1130, 0.8371],\n",
       "         [0.2741, 0.2584, 0.7820],\n",
       "         [0.9244, 0.1480, 0.9642]],\n",
       "\n",
       "        [[0.2355, 0.7790, 0.6867],\n",
       "         [0.9550, 0.1890, 0.1896],\n",
       "         [0.5871, 0.9180, 0.3087],\n",
       "         [0.7590, 0.4675, 0.7595]]])"
      ]
     },
     "execution_count": 20,
     "metadata": {},
     "output_type": "execute_result"
    }
   ],
   "source": [
    "# Create a random tensor of size(3,4)\n",
    "random_tensor = torch.rand(3,4,3)\n",
    "random_tensor"
   ]
  },
  {
   "cell_type": "code",
   "execution_count": 21,
   "id": "b0a6a715",
   "metadata": {
    "execution": {
     "iopub.execute_input": "2023-06-25T16:37:52.970370Z",
     "iopub.status.busy": "2023-06-25T16:37:52.969774Z",
     "iopub.status.idle": "2023-06-25T16:37:52.976608Z",
     "shell.execute_reply": "2023-06-25T16:37:52.975649Z"
    },
    "papermill": {
     "duration": 0.021919,
     "end_time": "2023-06-25T16:37:52.978644",
     "exception": false,
     "start_time": "2023-06-25T16:37:52.956725",
     "status": "completed"
    },
    "tags": []
   },
   "outputs": [
    {
     "data": {
      "text/plain": [
       "3"
      ]
     },
     "execution_count": 21,
     "metadata": {},
     "output_type": "execute_result"
    }
   ],
   "source": [
    "random_tensor.ndim"
   ]
  },
  {
   "cell_type": "code",
   "execution_count": 22,
   "id": "59f9e5de",
   "metadata": {
    "execution": {
     "iopub.execute_input": "2023-06-25T16:37:53.005009Z",
     "iopub.status.busy": "2023-06-25T16:37:53.003949Z",
     "iopub.status.idle": "2023-06-25T16:37:53.010779Z",
     "shell.execute_reply": "2023-06-25T16:37:53.009793Z"
    },
    "papermill": {
     "duration": 0.022206,
     "end_time": "2023-06-25T16:37:53.012854",
     "exception": false,
     "start_time": "2023-06-25T16:37:52.990648",
     "status": "completed"
    },
    "tags": []
   },
   "outputs": [
    {
     "data": {
      "text/plain": [
       "torch.Size([3, 4, 3])"
      ]
     },
     "execution_count": 22,
     "metadata": {},
     "output_type": "execute_result"
    }
   ],
   "source": [
    "random_tensor.shape"
   ]
  },
  {
   "cell_type": "code",
   "execution_count": 23,
   "id": "f068280a",
   "metadata": {
    "execution": {
     "iopub.execute_input": "2023-06-25T16:37:53.040253Z",
     "iopub.status.busy": "2023-06-25T16:37:53.039342Z",
     "iopub.status.idle": "2023-06-25T16:37:53.053020Z",
     "shell.execute_reply": "2023-06-25T16:37:53.051951Z"
    },
    "papermill": {
     "duration": 0.029527,
     "end_time": "2023-06-25T16:37:53.055195",
     "exception": false,
     "start_time": "2023-06-25T16:37:53.025668",
     "status": "completed"
    },
    "scrolled": true,
    "tags": []
   },
   "outputs": [
    {
     "data": {
      "text/plain": [
       "tensor([[[3.5920e-02, 5.7988e-01, 4.0478e-01],\n",
       "         [4.7883e-01, 8.0702e-01, 1.7125e-01],\n",
       "         [1.5837e-03, 1.4752e-01, 2.1079e-01],\n",
       "         ...,\n",
       "         [7.5741e-01, 9.9011e-01, 2.5436e-01],\n",
       "         [1.9813e-01, 3.4573e-01, 2.6344e-01],\n",
       "         [9.7548e-01, 6.7113e-01, 5.9412e-01]],\n",
       "\n",
       "        [[8.2991e-01, 2.0920e-02, 6.8373e-01],\n",
       "         [7.6573e-01, 2.1517e-03, 5.8362e-01],\n",
       "         [4.1083e-01, 9.2109e-01, 2.2290e-02],\n",
       "         ...,\n",
       "         [6.7724e-01, 2.2530e-01, 1.0429e-01],\n",
       "         [6.2446e-01, 5.2472e-01, 7.3499e-01],\n",
       "         [2.5955e-01, 2.6316e-01, 8.4098e-01]],\n",
       "\n",
       "        [[1.0582e-02, 9.2756e-01, 3.5409e-01],\n",
       "         [8.8985e-01, 7.0761e-01, 4.4812e-01],\n",
       "         [1.3710e-01, 8.2610e-01, 2.8194e-01],\n",
       "         ...,\n",
       "         [1.9272e-01, 9.9285e-01, 6.1192e-01],\n",
       "         [6.9234e-01, 6.9074e-01, 2.8551e-02],\n",
       "         [9.2756e-01, 4.3823e-01, 5.8652e-01]],\n",
       "\n",
       "        ...,\n",
       "\n",
       "        [[1.8738e-01, 4.7442e-01, 9.0163e-01],\n",
       "         [6.8762e-01, 7.9142e-01, 8.2623e-01],\n",
       "         [6.8833e-01, 2.7803e-01, 1.2514e-01],\n",
       "         ...,\n",
       "         [4.1150e-01, 4.0513e-01, 3.8992e-01],\n",
       "         [4.6382e-02, 7.8393e-01, 6.1341e-01],\n",
       "         [2.2228e-01, 1.6454e-01, 2.6673e-01]],\n",
       "\n",
       "        [[6.3191e-01, 8.0640e-01, 1.3482e-01],\n",
       "         [2.8541e-01, 5.6667e-01, 2.0407e-02],\n",
       "         [6.7038e-01, 7.6148e-01, 7.5720e-01],\n",
       "         ...,\n",
       "         [1.6992e-01, 4.7783e-01, 4.7985e-02],\n",
       "         [4.1983e-01, 6.4874e-01, 5.2917e-01],\n",
       "         [8.8169e-01, 9.8109e-01, 2.5654e-01]],\n",
       "\n",
       "        [[7.3177e-01, 7.1150e-01, 5.7137e-04],\n",
       "         [5.9434e-01, 8.4053e-01, 4.1605e-02],\n",
       "         [4.3671e-01, 3.2732e-01, 8.3894e-01],\n",
       "         ...,\n",
       "         [9.6366e-01, 3.8064e-03, 4.7874e-01],\n",
       "         [6.3989e-01, 7.8523e-01, 2.2065e-01],\n",
       "         [1.6845e-01, 4.9706e-01, 5.5018e-01]]])"
      ]
     },
     "execution_count": 23,
     "metadata": {},
     "output_type": "execute_result"
    }
   ],
   "source": [
    "# Creating Random tensor similar to Image Shape\n",
    "random_image_size_tensor =torch.rand(size=[224,224,3],) # height, width , color channels\n",
    "random_image_size_tensor"
   ]
  },
  {
   "cell_type": "code",
   "execution_count": 24,
   "id": "c1323af3",
   "metadata": {
    "execution": {
     "iopub.execute_input": "2023-06-25T16:37:53.082403Z",
     "iopub.status.busy": "2023-06-25T16:37:53.081573Z",
     "iopub.status.idle": "2023-06-25T16:37:53.088119Z",
     "shell.execute_reply": "2023-06-25T16:37:53.087133Z"
    },
    "papermill": {
     "duration": 0.022234,
     "end_time": "2023-06-25T16:37:53.090153",
     "exception": false,
     "start_time": "2023-06-25T16:37:53.067919",
     "status": "completed"
    },
    "tags": []
   },
   "outputs": [
    {
     "data": {
      "text/plain": [
       "3"
      ]
     },
     "execution_count": 24,
     "metadata": {},
     "output_type": "execute_result"
    }
   ],
   "source": [
    "random_image_size_tensor.ndim"
   ]
  },
  {
   "cell_type": "code",
   "execution_count": 25,
   "id": "eb9978b2",
   "metadata": {
    "execution": {
     "iopub.execute_input": "2023-06-25T16:37:53.117586Z",
     "iopub.status.busy": "2023-06-25T16:37:53.116679Z",
     "iopub.status.idle": "2023-06-25T16:37:53.123301Z",
     "shell.execute_reply": "2023-06-25T16:37:53.122344Z"
    },
    "papermill": {
     "duration": 0.022558,
     "end_time": "2023-06-25T16:37:53.125394",
     "exception": false,
     "start_time": "2023-06-25T16:37:53.102836",
     "status": "completed"
    },
    "tags": []
   },
   "outputs": [
    {
     "data": {
      "text/plain": [
       "torch.Size([224, 224, 3])"
      ]
     },
     "execution_count": 25,
     "metadata": {},
     "output_type": "execute_result"
    }
   ],
   "source": [
    "random_image_size_tensor.shape"
   ]
  },
  {
   "cell_type": "markdown",
   "id": "94a733e8",
   "metadata": {
    "papermill": {
     "duration": 0.011788,
     "end_time": "2023-06-25T16:37:53.149343",
     "exception": false,
     "start_time": "2023-06-25T16:37:53.137555",
     "status": "completed"
    },
    "tags": []
   },
   "source": [
    "### Zeroes and Ones"
   ]
  },
  {
   "cell_type": "code",
   "execution_count": 26,
   "id": "862eec18",
   "metadata": {
    "execution": {
     "iopub.execute_input": "2023-06-25T16:37:53.176893Z",
     "iopub.status.busy": "2023-06-25T16:37:53.175908Z",
     "iopub.status.idle": "2023-06-25T16:37:53.186559Z",
     "shell.execute_reply": "2023-06-25T16:37:53.185492Z"
    },
    "papermill": {
     "duration": 0.027485,
     "end_time": "2023-06-25T16:37:53.189050",
     "exception": false,
     "start_time": "2023-06-25T16:37:53.161565",
     "status": "completed"
    },
    "tags": []
   },
   "outputs": [
    {
     "data": {
      "text/plain": [
       "tensor([[0., 0., 0., 0.],\n",
       "        [0., 0., 0., 0.],\n",
       "        [0., 0., 0., 0.]])"
      ]
     },
     "execution_count": 26,
     "metadata": {},
     "output_type": "execute_result"
    }
   ],
   "source": [
    "# Create a tenor of all zeros\n",
    "zeros = torch.zeros(3,4)\n",
    "zeros"
   ]
  },
  {
   "cell_type": "code",
   "execution_count": 27,
   "id": "9add1389",
   "metadata": {
    "execution": {
     "iopub.execute_input": "2023-06-25T16:37:53.219392Z",
     "iopub.status.busy": "2023-06-25T16:37:53.217895Z",
     "iopub.status.idle": "2023-06-25T16:37:53.226113Z",
     "shell.execute_reply": "2023-06-25T16:37:53.225131Z"
    },
    "papermill": {
     "duration": 0.025623,
     "end_time": "2023-06-25T16:37:53.228221",
     "exception": false,
     "start_time": "2023-06-25T16:37:53.202598",
     "status": "completed"
    },
    "tags": []
   },
   "outputs": [
    {
     "data": {
      "text/plain": [
       "tensor([[0., 0., 0., 0.],\n",
       "        [0., 0., 0., 0.],\n",
       "        [0., 0., 0., 0.]])"
      ]
     },
     "execution_count": 27,
     "metadata": {},
     "output_type": "execute_result"
    }
   ],
   "source": [
    "zeros * torch.rand(3,4)"
   ]
  },
  {
   "cell_type": "code",
   "execution_count": 28,
   "id": "c72291d4",
   "metadata": {
    "execution": {
     "iopub.execute_input": "2023-06-25T16:37:53.258086Z",
     "iopub.status.busy": "2023-06-25T16:37:53.256477Z",
     "iopub.status.idle": "2023-06-25T16:37:53.265532Z",
     "shell.execute_reply": "2023-06-25T16:37:53.264455Z"
    },
    "papermill": {
     "duration": 0.026019,
     "end_time": "2023-06-25T16:37:53.267819",
     "exception": false,
     "start_time": "2023-06-25T16:37:53.241800",
     "status": "completed"
    },
    "tags": []
   },
   "outputs": [
    {
     "data": {
      "text/plain": [
       "tensor([[1, 1, 1, 1],\n",
       "        [1, 1, 1, 1],\n",
       "        [1, 1, 1, 1]])"
      ]
     },
     "execution_count": 28,
     "metadata": {},
     "output_type": "execute_result"
    }
   ],
   "source": [
    "# Create tensor of all ones\n",
    "ones = torch.ones(size=(3,4),dtype=int)\n",
    "ones"
   ]
  },
  {
   "cell_type": "code",
   "execution_count": 29,
   "id": "0a5cce5d",
   "metadata": {
    "execution": {
     "iopub.execute_input": "2023-06-25T16:37:53.297053Z",
     "iopub.status.busy": "2023-06-25T16:37:53.296231Z",
     "iopub.status.idle": "2023-06-25T16:37:53.302698Z",
     "shell.execute_reply": "2023-06-25T16:37:53.301741Z"
    },
    "papermill": {
     "duration": 0.023336,
     "end_time": "2023-06-25T16:37:53.304900",
     "exception": false,
     "start_time": "2023-06-25T16:37:53.281564",
     "status": "completed"
    },
    "tags": []
   },
   "outputs": [
    {
     "data": {
      "text/plain": [
       "torch.int64"
      ]
     },
     "execution_count": 29,
     "metadata": {},
     "output_type": "execute_result"
    }
   ],
   "source": [
    "ones.dtype"
   ]
  },
  {
   "cell_type": "markdown",
   "id": "e8069931",
   "metadata": {
    "execution": {
     "iopub.execute_input": "2023-06-25T16:24:23.852212Z",
     "iopub.status.busy": "2023-06-25T16:24:23.851772Z",
     "iopub.status.idle": "2023-06-25T16:24:23.857025Z",
     "shell.execute_reply": "2023-06-25T16:24:23.856069Z",
     "shell.execute_reply.started": "2023-06-25T16:24:23.852179Z"
    },
    "papermill": {
     "duration": 0.012246,
     "end_time": "2023-06-25T16:37:53.329752",
     "exception": false,
     "start_time": "2023-06-25T16:37:53.317506",
     "status": "completed"
    },
    "tags": []
   },
   "source": [
    "### Create a range of tensors and tensors-like\n",
    "\n",
    "ref - https://pytorch.org/docs/stable/generated/torch.arange.html"
   ]
  },
  {
   "cell_type": "code",
   "execution_count": 30,
   "id": "2182647a",
   "metadata": {
    "execution": {
     "iopub.execute_input": "2023-06-25T16:37:53.358134Z",
     "iopub.status.busy": "2023-06-25T16:37:53.357781Z",
     "iopub.status.idle": "2023-06-25T16:37:53.367344Z",
     "shell.execute_reply": "2023-06-25T16:37:53.366306Z"
    },
    "papermill": {
     "duration": 0.026578,
     "end_time": "2023-06-25T16:37:53.369331",
     "exception": false,
     "start_time": "2023-06-25T16:37:53.342753",
     "status": "completed"
    },
    "tags": []
   },
   "outputs": [
    {
     "data": {
      "text/plain": [
       "tensor([ 1,  2,  3,  4,  5,  6,  7,  8,  9, 10])"
      ]
     },
     "execution_count": 30,
     "metadata": {},
     "output_type": "execute_result"
    }
   ],
   "source": [
    "# Use torch.arange()\n",
    "one_to_ten = torch.arange(start=1, end=11, step=1)\n",
    "one_to_ten"
   ]
  },
  {
   "cell_type": "code",
   "execution_count": 31,
   "id": "ca786498",
   "metadata": {
    "execution": {
     "iopub.execute_input": "2023-06-25T16:37:53.398122Z",
     "iopub.status.busy": "2023-06-25T16:37:53.397249Z",
     "iopub.status.idle": "2023-06-25T16:37:53.404694Z",
     "shell.execute_reply": "2023-06-25T16:37:53.403617Z"
    },
    "papermill": {
     "duration": 0.023835,
     "end_time": "2023-06-25T16:37:53.406862",
     "exception": false,
     "start_time": "2023-06-25T16:37:53.383027",
     "status": "completed"
    },
    "tags": []
   },
   "outputs": [
    {
     "data": {
      "text/plain": [
       "tensor([0, 0, 0, 0, 0, 0, 0, 0, 0, 0])"
      ]
     },
     "execution_count": 31,
     "metadata": {},
     "output_type": "execute_result"
    }
   ],
   "source": [
    "# Create tesnors like\n",
    "ten_zeros = torch.zeros_like(input=one_to_ten)\n",
    "ten_zeros"
   ]
  }
 ],
 "metadata": {
  "kernelspec": {
   "display_name": "Python 3",
   "language": "python",
   "name": "python3"
  },
  "language_info": {
   "codemirror_mode": {
    "name": "ipython",
    "version": 3
   },
   "file_extension": ".py",
   "mimetype": "text/x-python",
   "name": "python",
   "nbconvert_exporter": "python",
   "pygments_lexer": "ipython3",
   "version": "3.10.10"
  },
  "papermill": {
   "default_parameters": {},
   "duration": 18.889972,
   "end_time": "2023-06-25T16:37:55.752775",
   "environment_variables": {},
   "exception": null,
   "input_path": "__notebook__.ipynb",
   "output_path": "__notebook__.ipynb",
   "parameters": {},
   "start_time": "2023-06-25T16:37:36.862803",
   "version": "2.4.0"
  }
 },
 "nbformat": 4,
 "nbformat_minor": 5
}
