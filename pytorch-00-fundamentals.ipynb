{
 "cells": [
  {
   "cell_type": "code",
   "execution_count": 1,
   "id": "d53be080",
   "metadata": {
    "_cell_guid": "b1076dfc-b9ad-4769-8c92-a6c4dae69d19",
    "_uuid": "8f2839f25d086af736a60e9eeb907d3b93b6e0e5",
    "execution": {
     "iopub.execute_input": "2023-06-29T15:24:22.747086Z",
     "iopub.status.busy": "2023-06-29T15:24:22.746072Z",
     "iopub.status.idle": "2023-06-29T15:24:25.991316Z",
     "shell.execute_reply": "2023-06-29T15:24:25.990422Z"
    },
    "papermill": {
     "duration": 3.271064,
     "end_time": "2023-06-29T15:24:25.994890",
     "exception": false,
     "start_time": "2023-06-29T15:24:22.723826",
     "status": "completed"
    },
    "tags": []
   },
   "outputs": [
    {
     "data": {
      "text/plain": [
       "'2.0.0'"
      ]
     },
     "execution_count": 1,
     "metadata": {},
     "output_type": "execute_result"
    }
   ],
   "source": [
    "import torch\n",
    "import pandas as pd\n",
    "import numpy as np\n",
    "import matplotlib.pyplot as plt\n",
    "torch.__version__"
   ]
  },
  {
   "cell_type": "markdown",
   "id": "e1eacf3e",
   "metadata": {
    "execution": {
     "iopub.execute_input": "2023-06-25T15:31:29.081596Z",
     "iopub.status.busy": "2023-06-25T15:31:29.081220Z",
     "iopub.status.idle": "2023-06-25T15:31:29.086052Z",
     "shell.execute_reply": "2023-06-25T15:31:29.085102Z",
     "shell.execute_reply.started": "2023-06-25T15:31:29.081561Z"
    },
    "papermill": {
     "duration": 0.019978,
     "end_time": "2023-06-29T15:24:26.038751",
     "exception": false,
     "start_time": "2023-06-29T15:24:26.018773",
     "status": "completed"
    },
    "tags": []
   },
   "source": [
    "## Introduction to Tensor\n",
    "\n",
    "### Creating Tensors\n",
    "\n",
    "PyTorch tensor are create using `torch.Tensor()`\n",
    "\n",
    "ref - https://pytorch.org/docs/stable/tensors.html"
   ]
  },
  {
   "cell_type": "code",
   "execution_count": 2,
   "id": "0a024fe5",
   "metadata": {
    "execution": {
     "iopub.execute_input": "2023-06-29T15:24:26.081865Z",
     "iopub.status.busy": "2023-06-29T15:24:26.081283Z",
     "iopub.status.idle": "2023-06-29T15:24:26.118320Z",
     "shell.execute_reply": "2023-06-29T15:24:26.117319Z"
    },
    "papermill": {
     "duration": 0.060565,
     "end_time": "2023-06-29T15:24:26.120382",
     "exception": false,
     "start_time": "2023-06-29T15:24:26.059817",
     "status": "completed"
    },
    "tags": []
   },
   "outputs": [
    {
     "data": {
      "text/plain": [
       "tensor(7)"
      ]
     },
     "execution_count": 2,
     "metadata": {},
     "output_type": "execute_result"
    }
   ],
   "source": [
    "# Scaler\n",
    "scaler = torch.tensor(7)\n",
    "scaler"
   ]
  },
  {
   "cell_type": "code",
   "execution_count": 3,
   "id": "0305a7cb",
   "metadata": {
    "execution": {
     "iopub.execute_input": "2023-06-29T15:24:26.162927Z",
     "iopub.status.busy": "2023-06-29T15:24:26.162060Z",
     "iopub.status.idle": "2023-06-29T15:24:26.167871Z",
     "shell.execute_reply": "2023-06-29T15:24:26.167001Z"
    },
    "papermill": {
     "duration": 0.029076,
     "end_time": "2023-06-29T15:24:26.169855",
     "exception": false,
     "start_time": "2023-06-29T15:24:26.140779",
     "status": "completed"
    },
    "tags": []
   },
   "outputs": [
    {
     "data": {
      "text/plain": [
       "0"
      ]
     },
     "execution_count": 3,
     "metadata": {},
     "output_type": "execute_result"
    }
   ],
   "source": [
    "scaler.ndim"
   ]
  },
  {
   "cell_type": "code",
   "execution_count": 4,
   "id": "e4af8a92",
   "metadata": {
    "execution": {
     "iopub.execute_input": "2023-06-29T15:24:26.212439Z",
     "iopub.status.busy": "2023-06-29T15:24:26.211514Z",
     "iopub.status.idle": "2023-06-29T15:24:26.217735Z",
     "shell.execute_reply": "2023-06-29T15:24:26.216833Z"
    },
    "papermill": {
     "duration": 0.029636,
     "end_time": "2023-06-29T15:24:26.219667",
     "exception": false,
     "start_time": "2023-06-29T15:24:26.190031",
     "status": "completed"
    },
    "tags": []
   },
   "outputs": [
    {
     "data": {
      "text/plain": [
       "7"
      ]
     },
     "execution_count": 4,
     "metadata": {},
     "output_type": "execute_result"
    }
   ],
   "source": [
    "# Get Tensor back ans int\n",
    "scaler.item()"
   ]
  },
  {
   "cell_type": "code",
   "execution_count": 5,
   "id": "81c6942a",
   "metadata": {
    "execution": {
     "iopub.execute_input": "2023-06-29T15:24:26.261949Z",
     "iopub.status.busy": "2023-06-29T15:24:26.261163Z",
     "iopub.status.idle": "2023-06-29T15:24:26.268735Z",
     "shell.execute_reply": "2023-06-29T15:24:26.267818Z"
    },
    "papermill": {
     "duration": 0.030631,
     "end_time": "2023-06-29T15:24:26.270694",
     "exception": false,
     "start_time": "2023-06-29T15:24:26.240063",
     "status": "completed"
    },
    "tags": []
   },
   "outputs": [
    {
     "data": {
      "text/plain": [
       "tensor([7, 7])"
      ]
     },
     "execution_count": 5,
     "metadata": {},
     "output_type": "execute_result"
    }
   ],
   "source": [
    "# Vector\n",
    "vector = torch.tensor([7,7])\n",
    "vector"
   ]
  },
  {
   "cell_type": "code",
   "execution_count": 6,
   "id": "ce5aa4f1",
   "metadata": {
    "execution": {
     "iopub.execute_input": "2023-06-29T15:24:26.312971Z",
     "iopub.status.busy": "2023-06-29T15:24:26.312217Z",
     "iopub.status.idle": "2023-06-29T15:24:26.317770Z",
     "shell.execute_reply": "2023-06-29T15:24:26.316904Z"
    },
    "papermill": {
     "duration": 0.028694,
     "end_time": "2023-06-29T15:24:26.319637",
     "exception": false,
     "start_time": "2023-06-29T15:24:26.290943",
     "status": "completed"
    },
    "tags": []
   },
   "outputs": [
    {
     "data": {
      "text/plain": [
       "1"
      ]
     },
     "execution_count": 6,
     "metadata": {},
     "output_type": "execute_result"
    }
   ],
   "source": [
    "vector.ndim"
   ]
  },
  {
   "cell_type": "code",
   "execution_count": 7,
   "id": "c440e0a0",
   "metadata": {
    "execution": {
     "iopub.execute_input": "2023-06-29T15:24:26.362601Z",
     "iopub.status.busy": "2023-06-29T15:24:26.361791Z",
     "iopub.status.idle": "2023-06-29T15:24:26.367689Z",
     "shell.execute_reply": "2023-06-29T15:24:26.366765Z"
    },
    "papermill": {
     "duration": 0.029382,
     "end_time": "2023-06-29T15:24:26.369637",
     "exception": false,
     "start_time": "2023-06-29T15:24:26.340255",
     "status": "completed"
    },
    "tags": []
   },
   "outputs": [
    {
     "data": {
      "text/plain": [
       "torch.Size([2])"
      ]
     },
     "execution_count": 7,
     "metadata": {},
     "output_type": "execute_result"
    }
   ],
   "source": [
    "vector.shape"
   ]
  },
  {
   "cell_type": "code",
   "execution_count": 8,
   "id": "aa4f2c01",
   "metadata": {
    "execution": {
     "iopub.execute_input": "2023-06-29T15:24:26.413116Z",
     "iopub.status.busy": "2023-06-29T15:24:26.412163Z",
     "iopub.status.idle": "2023-06-29T15:24:26.422029Z",
     "shell.execute_reply": "2023-06-29T15:24:26.421115Z"
    },
    "papermill": {
     "duration": 0.033721,
     "end_time": "2023-06-29T15:24:26.423997",
     "exception": false,
     "start_time": "2023-06-29T15:24:26.390276",
     "status": "completed"
    },
    "tags": []
   },
   "outputs": [
    {
     "data": {
      "text/plain": [
       "tensor([[7, 8],\n",
       "        [6, 5]])"
      ]
     },
     "execution_count": 8,
     "metadata": {},
     "output_type": "execute_result"
    }
   ],
   "source": [
    "# Matrix\n",
    "MATRIX = torch.tensor([[7,8],\n",
    "                      [6,5]])\n",
    "MATRIX"
   ]
  },
  {
   "cell_type": "code",
   "execution_count": 9,
   "id": "dfce2ad8",
   "metadata": {
    "execution": {
     "iopub.execute_input": "2023-06-29T15:24:26.467595Z",
     "iopub.status.busy": "2023-06-29T15:24:26.466701Z",
     "iopub.status.idle": "2023-06-29T15:24:26.472752Z",
     "shell.execute_reply": "2023-06-29T15:24:26.471850Z"
    },
    "papermill": {
     "duration": 0.029792,
     "end_time": "2023-06-29T15:24:26.474656",
     "exception": false,
     "start_time": "2023-06-29T15:24:26.444864",
     "status": "completed"
    },
    "tags": []
   },
   "outputs": [
    {
     "data": {
      "text/plain": [
       "2"
      ]
     },
     "execution_count": 9,
     "metadata": {},
     "output_type": "execute_result"
    }
   ],
   "source": [
    "MATRIX.ndim"
   ]
  },
  {
   "cell_type": "code",
   "execution_count": 10,
   "id": "6ff899d1",
   "metadata": {
    "execution": {
     "iopub.execute_input": "2023-06-29T15:24:26.517669Z",
     "iopub.status.busy": "2023-06-29T15:24:26.517329Z",
     "iopub.status.idle": "2023-06-29T15:24:26.523545Z",
     "shell.execute_reply": "2023-06-29T15:24:26.522641Z"
    },
    "papermill": {
     "duration": 0.02987,
     "end_time": "2023-06-29T15:24:26.525447",
     "exception": false,
     "start_time": "2023-06-29T15:24:26.495577",
     "status": "completed"
    },
    "tags": []
   },
   "outputs": [
    {
     "data": {
      "text/plain": [
       "tensor([7, 8])"
      ]
     },
     "execution_count": 10,
     "metadata": {},
     "output_type": "execute_result"
    }
   ],
   "source": [
    "MATRIX[0]"
   ]
  },
  {
   "cell_type": "code",
   "execution_count": 11,
   "id": "10311efe",
   "metadata": {
    "execution": {
     "iopub.execute_input": "2023-06-29T15:24:26.568997Z",
     "iopub.status.busy": "2023-06-29T15:24:26.568130Z",
     "iopub.status.idle": "2023-06-29T15:24:26.574501Z",
     "shell.execute_reply": "2023-06-29T15:24:26.573553Z"
    },
    "papermill": {
     "duration": 0.030107,
     "end_time": "2023-06-29T15:24:26.576395",
     "exception": false,
     "start_time": "2023-06-29T15:24:26.546288",
     "status": "completed"
    },
    "tags": []
   },
   "outputs": [
    {
     "data": {
      "text/plain": [
       "tensor([6, 5])"
      ]
     },
     "execution_count": 11,
     "metadata": {},
     "output_type": "execute_result"
    }
   ],
   "source": [
    "MATRIX[1]"
   ]
  },
  {
   "cell_type": "code",
   "execution_count": 12,
   "id": "9b8209c1",
   "metadata": {
    "execution": {
     "iopub.execute_input": "2023-06-29T15:24:26.620833Z",
     "iopub.status.busy": "2023-06-29T15:24:26.620527Z",
     "iopub.status.idle": "2023-06-29T15:24:26.626205Z",
     "shell.execute_reply": "2023-06-29T15:24:26.625378Z"
    },
    "papermill": {
     "duration": 0.030717,
     "end_time": "2023-06-29T15:24:26.628103",
     "exception": false,
     "start_time": "2023-06-29T15:24:26.597386",
     "status": "completed"
    },
    "tags": []
   },
   "outputs": [
    {
     "data": {
      "text/plain": [
       "torch.Size([2, 2])"
      ]
     },
     "execution_count": 12,
     "metadata": {},
     "output_type": "execute_result"
    }
   ],
   "source": [
    "MATRIX.shape"
   ]
  },
  {
   "cell_type": "code",
   "execution_count": 13,
   "id": "a88791ce",
   "metadata": {
    "execution": {
     "iopub.execute_input": "2023-06-29T15:24:26.672294Z",
     "iopub.status.busy": "2023-06-29T15:24:26.671997Z",
     "iopub.status.idle": "2023-06-29T15:24:26.679022Z",
     "shell.execute_reply": "2023-06-29T15:24:26.678144Z"
    },
    "papermill": {
     "duration": 0.031111,
     "end_time": "2023-06-29T15:24:26.681011",
     "exception": false,
     "start_time": "2023-06-29T15:24:26.649900",
     "status": "completed"
    },
    "tags": []
   },
   "outputs": [
    {
     "data": {
      "text/plain": [
       "tensor([[[1, 2, 3],\n",
       "         [5, 6, 6],\n",
       "         [7, 8, 9]]])"
      ]
     },
     "execution_count": 13,
     "metadata": {},
     "output_type": "execute_result"
    }
   ],
   "source": [
    "# Tensor\n",
    "TENSOR = torch.tensor([[[1,2,3],\n",
    "                      [5,6,6],\n",
    "                      [7,8,9]]])\n",
    "TENSOR"
   ]
  },
  {
   "cell_type": "code",
   "execution_count": 14,
   "id": "1f4fb2bc",
   "metadata": {
    "execution": {
     "iopub.execute_input": "2023-06-29T15:24:26.725628Z",
     "iopub.status.busy": "2023-06-29T15:24:26.724776Z",
     "iopub.status.idle": "2023-06-29T15:24:26.731101Z",
     "shell.execute_reply": "2023-06-29T15:24:26.730159Z"
    },
    "papermill": {
     "duration": 0.030765,
     "end_time": "2023-06-29T15:24:26.733066",
     "exception": false,
     "start_time": "2023-06-29T15:24:26.702301",
     "status": "completed"
    },
    "tags": []
   },
   "outputs": [
    {
     "data": {
      "text/plain": [
       "3"
      ]
     },
     "execution_count": 14,
     "metadata": {},
     "output_type": "execute_result"
    }
   ],
   "source": [
    "TENSOR.ndim"
   ]
  },
  {
   "cell_type": "code",
   "execution_count": 15,
   "id": "489e810e",
   "metadata": {
    "execution": {
     "iopub.execute_input": "2023-06-29T15:24:26.777940Z",
     "iopub.status.busy": "2023-06-29T15:24:26.777082Z",
     "iopub.status.idle": "2023-06-29T15:24:26.783335Z",
     "shell.execute_reply": "2023-06-29T15:24:26.782433Z"
    },
    "papermill": {
     "duration": 0.030676,
     "end_time": "2023-06-29T15:24:26.785243",
     "exception": false,
     "start_time": "2023-06-29T15:24:26.754567",
     "status": "completed"
    },
    "tags": []
   },
   "outputs": [
    {
     "data": {
      "text/plain": [
       "torch.Size([1, 3, 3])"
      ]
     },
     "execution_count": 15,
     "metadata": {},
     "output_type": "execute_result"
    }
   ],
   "source": [
    "TENSOR.shape"
   ]
  },
  {
   "cell_type": "code",
   "execution_count": 16,
   "id": "a24244ea",
   "metadata": {
    "execution": {
     "iopub.execute_input": "2023-06-29T15:24:26.829918Z",
     "iopub.status.busy": "2023-06-29T15:24:26.829328Z",
     "iopub.status.idle": "2023-06-29T15:24:26.835920Z",
     "shell.execute_reply": "2023-06-29T15:24:26.835058Z"
    },
    "papermill": {
     "duration": 0.031035,
     "end_time": "2023-06-29T15:24:26.837812",
     "exception": false,
     "start_time": "2023-06-29T15:24:26.806777",
     "status": "completed"
    },
    "tags": []
   },
   "outputs": [
    {
     "data": {
      "text/plain": [
       "tensor([[1, 2, 3],\n",
       "        [5, 6, 6],\n",
       "        [7, 8, 9]])"
      ]
     },
     "execution_count": 16,
     "metadata": {},
     "output_type": "execute_result"
    }
   ],
   "source": [
    "TENSOR[0]"
   ]
  },
  {
   "cell_type": "code",
   "execution_count": 17,
   "id": "cfffd531",
   "metadata": {
    "execution": {
     "iopub.execute_input": "2023-06-29T15:24:26.883506Z",
     "iopub.status.busy": "2023-06-29T15:24:26.882518Z",
     "iopub.status.idle": "2023-06-29T15:24:26.890659Z",
     "shell.execute_reply": "2023-06-29T15:24:26.889752Z"
    },
    "papermill": {
     "duration": 0.03312,
     "end_time": "2023-06-29T15:24:26.892591",
     "exception": false,
     "start_time": "2023-06-29T15:24:26.859471",
     "status": "completed"
    },
    "tags": []
   },
   "outputs": [
    {
     "data": {
      "text/plain": [
       "tensor([[[1, 2, 3],\n",
       "         [4, 5, 6],\n",
       "         [7, 8, 9]],\n",
       "\n",
       "        [[1, 2, 3],\n",
       "         [4, 5, 6],\n",
       "         [7, 8, 9]]])"
      ]
     },
     "execution_count": 17,
     "metadata": {},
     "output_type": "execute_result"
    }
   ],
   "source": [
    "# Practice\n",
    "TENSOR1 = torch.tensor([[[1,2,3],\n",
    "                      [4,5,6],\n",
    "                      [7,8,9]],\n",
    "                     [[1,2,3],\n",
    "                      [4,5,6],\n",
    "                      [7,8,9]]])\n",
    "TENSOR1"
   ]
  },
  {
   "cell_type": "code",
   "execution_count": 18,
   "id": "4e4a31f7",
   "metadata": {
    "execution": {
     "iopub.execute_input": "2023-06-29T15:24:26.938153Z",
     "iopub.status.busy": "2023-06-29T15:24:26.937524Z",
     "iopub.status.idle": "2023-06-29T15:24:26.943236Z",
     "shell.execute_reply": "2023-06-29T15:24:26.942384Z"
    },
    "papermill": {
     "duration": 0.030739,
     "end_time": "2023-06-29T15:24:26.945225",
     "exception": false,
     "start_time": "2023-06-29T15:24:26.914486",
     "status": "completed"
    },
    "tags": []
   },
   "outputs": [
    {
     "data": {
      "text/plain": [
       "3"
      ]
     },
     "execution_count": 18,
     "metadata": {},
     "output_type": "execute_result"
    }
   ],
   "source": [
    "TENSOR1.ndim"
   ]
  },
  {
   "cell_type": "code",
   "execution_count": 19,
   "id": "87c4c081",
   "metadata": {
    "execution": {
     "iopub.execute_input": "2023-06-29T15:24:26.991837Z",
     "iopub.status.busy": "2023-06-29T15:24:26.990937Z",
     "iopub.status.idle": "2023-06-29T15:24:26.997121Z",
     "shell.execute_reply": "2023-06-29T15:24:26.996191Z"
    },
    "papermill": {
     "duration": 0.031423,
     "end_time": "2023-06-29T15:24:26.999084",
     "exception": false,
     "start_time": "2023-06-29T15:24:26.967661",
     "status": "completed"
    },
    "tags": []
   },
   "outputs": [
    {
     "data": {
      "text/plain": [
       "torch.Size([2, 3, 3])"
      ]
     },
     "execution_count": 19,
     "metadata": {},
     "output_type": "execute_result"
    }
   ],
   "source": [
    "TENSOR1.shape"
   ]
  },
  {
   "cell_type": "markdown",
   "id": "dfbe03ed",
   "metadata": {
    "execution": {
     "iopub.execute_input": "2023-06-25T15:53:52.605155Z",
     "iopub.status.busy": "2023-06-25T15:53:52.604740Z",
     "iopub.status.idle": "2023-06-25T15:53:52.609815Z",
     "shell.execute_reply": "2023-06-25T15:53:52.608929Z",
     "shell.execute_reply.started": "2023-06-25T15:53:52.605124Z"
    },
    "papermill": {
     "duration": 0.022337,
     "end_time": "2023-06-29T15:24:27.046414",
     "exception": false,
     "start_time": "2023-06-29T15:24:27.024077",
     "status": "completed"
    },
    "tags": []
   },
   "source": [
    "### Random Tensor\n",
    "\n",
    "Why Random Nos. ?\n",
    "\n",
    "'Start with Random Numbers -> Look at Data -> Update Random Numbers -> Look at Data -> Update Random Numbers'\n",
    "\n",
    "ref - https://pytorch.org/docs/stable/generated/torch.rand.html"
   ]
  },
  {
   "cell_type": "code",
   "execution_count": 20,
   "id": "9f84be08",
   "metadata": {
    "execution": {
     "iopub.execute_input": "2023-06-29T15:24:27.092284Z",
     "iopub.status.busy": "2023-06-29T15:24:27.091939Z",
     "iopub.status.idle": "2023-06-29T15:24:27.146676Z",
     "shell.execute_reply": "2023-06-29T15:24:27.145773Z"
    },
    "papermill": {
     "duration": 0.079958,
     "end_time": "2023-06-29T15:24:27.148743",
     "exception": false,
     "start_time": "2023-06-29T15:24:27.068785",
     "status": "completed"
    },
    "tags": []
   },
   "outputs": [
    {
     "data": {
      "text/plain": [
       "tensor([[[0.5751, 0.3288, 0.4467],\n",
       "         [0.6960, 0.6008, 0.6711],\n",
       "         [0.0734, 0.8256, 0.8678],\n",
       "         [0.2955, 0.4153, 0.2577]],\n",
       "\n",
       "        [[0.4670, 0.3894, 0.6973],\n",
       "         [0.9992, 0.5425, 0.1242],\n",
       "         [0.4689, 0.6188, 0.2780],\n",
       "         [0.2544, 0.2156, 0.4692]],\n",
       "\n",
       "        [[0.5408, 0.1136, 0.4877],\n",
       "         [0.0213, 0.5849, 0.3921],\n",
       "         [0.7017, 0.6944, 0.5055],\n",
       "         [0.3436, 0.4963, 0.8252]]])"
      ]
     },
     "execution_count": 20,
     "metadata": {},
     "output_type": "execute_result"
    }
   ],
   "source": [
    "# Create a random tensor of size(3,4)\n",
    "random_tensor = torch.rand(3,4,3)\n",
    "random_tensor"
   ]
  },
  {
   "cell_type": "code",
   "execution_count": 21,
   "id": "fb3e1f75",
   "metadata": {
    "execution": {
     "iopub.execute_input": "2023-06-29T15:24:27.195165Z",
     "iopub.status.busy": "2023-06-29T15:24:27.194537Z",
     "iopub.status.idle": "2023-06-29T15:24:27.200156Z",
     "shell.execute_reply": "2023-06-29T15:24:27.199339Z"
    },
    "papermill": {
     "duration": 0.030773,
     "end_time": "2023-06-29T15:24:27.202061",
     "exception": false,
     "start_time": "2023-06-29T15:24:27.171288",
     "status": "completed"
    },
    "tags": []
   },
   "outputs": [
    {
     "data": {
      "text/plain": [
       "3"
      ]
     },
     "execution_count": 21,
     "metadata": {},
     "output_type": "execute_result"
    }
   ],
   "source": [
    "random_tensor.ndim"
   ]
  },
  {
   "cell_type": "code",
   "execution_count": 22,
   "id": "35ba2e71",
   "metadata": {
    "execution": {
     "iopub.execute_input": "2023-06-29T15:24:27.248469Z",
     "iopub.status.busy": "2023-06-29T15:24:27.247613Z",
     "iopub.status.idle": "2023-06-29T15:24:27.253851Z",
     "shell.execute_reply": "2023-06-29T15:24:27.252959Z"
    },
    "papermill": {
     "duration": 0.031496,
     "end_time": "2023-06-29T15:24:27.255762",
     "exception": false,
     "start_time": "2023-06-29T15:24:27.224266",
     "status": "completed"
    },
    "tags": []
   },
   "outputs": [
    {
     "data": {
      "text/plain": [
       "torch.Size([3, 4, 3])"
      ]
     },
     "execution_count": 22,
     "metadata": {},
     "output_type": "execute_result"
    }
   ],
   "source": [
    "random_tensor.shape"
   ]
  },
  {
   "cell_type": "code",
   "execution_count": 23,
   "id": "0396f5df",
   "metadata": {
    "execution": {
     "iopub.execute_input": "2023-06-29T15:24:27.303051Z",
     "iopub.status.busy": "2023-06-29T15:24:27.302728Z",
     "iopub.status.idle": "2023-06-29T15:24:27.315268Z",
     "shell.execute_reply": "2023-06-29T15:24:27.314376Z"
    },
    "papermill": {
     "duration": 0.037957,
     "end_time": "2023-06-29T15:24:27.317229",
     "exception": false,
     "start_time": "2023-06-29T15:24:27.279272",
     "status": "completed"
    },
    "scrolled": true,
    "tags": []
   },
   "outputs": [
    {
     "data": {
      "text/plain": [
       "tensor([[[0.9319, 0.2758, 0.8620],\n",
       "         [0.3610, 0.0245, 0.5440],\n",
       "         [0.7213, 0.9526, 0.6086],\n",
       "         ...,\n",
       "         [0.5243, 0.6746, 0.7685],\n",
       "         [0.7956, 0.1546, 0.6451],\n",
       "         [0.0677, 0.0947, 0.8186]],\n",
       "\n",
       "        [[0.6271, 0.6084, 0.7933],\n",
       "         [0.1877, 0.5348, 0.5621],\n",
       "         [0.1511, 0.2283, 0.9368],\n",
       "         ...,\n",
       "         [0.7002, 0.6380, 0.0455],\n",
       "         [0.3435, 0.1677, 0.1192],\n",
       "         [0.8116, 0.1465, 0.1455]],\n",
       "\n",
       "        [[0.9786, 0.9959, 0.2630],\n",
       "         [0.3685, 0.5075, 0.1171],\n",
       "         [0.7713, 0.7847, 0.6445],\n",
       "         ...,\n",
       "         [0.2206, 0.2319, 0.6135],\n",
       "         [0.7220, 0.7448, 0.7976],\n",
       "         [0.7165, 0.9687, 0.3524]],\n",
       "\n",
       "        ...,\n",
       "\n",
       "        [[0.4418, 0.8363, 0.7188],\n",
       "         [0.9436, 0.1595, 0.5139],\n",
       "         [0.9357, 0.0857, 0.7813],\n",
       "         ...,\n",
       "         [0.5004, 0.2305, 0.2485],\n",
       "         [0.0219, 0.2761, 0.7810],\n",
       "         [0.6050, 0.3817, 0.3461]],\n",
       "\n",
       "        [[0.4343, 0.8329, 0.8445],\n",
       "         [0.1125, 0.0849, 0.4288],\n",
       "         [0.2197, 0.5372, 0.4946],\n",
       "         ...,\n",
       "         [0.5400, 0.2431, 0.5300],\n",
       "         [0.7430, 0.5326, 0.0824],\n",
       "         [0.1327, 0.8392, 0.3215]],\n",
       "\n",
       "        [[0.7483, 0.9933, 0.7923],\n",
       "         [0.8646, 0.6935, 0.1948],\n",
       "         [0.0944, 0.4685, 0.7012],\n",
       "         ...,\n",
       "         [0.1499, 0.8641, 0.6479],\n",
       "         [0.2440, 0.0016, 0.0335],\n",
       "         [0.9223, 0.3800, 0.0058]]])"
      ]
     },
     "execution_count": 23,
     "metadata": {},
     "output_type": "execute_result"
    }
   ],
   "source": [
    "# Creating Random tensor similar to Image Shape\n",
    "random_image_size_tensor = torch.rand(size=[224,224,3],) # height, width , color channels\n",
    "random_image_size_tensor"
   ]
  },
  {
   "cell_type": "code",
   "execution_count": 24,
   "id": "e74aaf85",
   "metadata": {
    "execution": {
     "iopub.execute_input": "2023-06-29T15:24:27.364459Z",
     "iopub.status.busy": "2023-06-29T15:24:27.363507Z",
     "iopub.status.idle": "2023-06-29T15:24:27.369652Z",
     "shell.execute_reply": "2023-06-29T15:24:27.368689Z"
    },
    "papermill": {
     "duration": 0.031859,
     "end_time": "2023-06-29T15:24:27.371590",
     "exception": false,
     "start_time": "2023-06-29T15:24:27.339731",
     "status": "completed"
    },
    "tags": []
   },
   "outputs": [
    {
     "data": {
      "text/plain": [
       "3"
      ]
     },
     "execution_count": 24,
     "metadata": {},
     "output_type": "execute_result"
    }
   ],
   "source": [
    "random_image_size_tensor.ndim"
   ]
  },
  {
   "cell_type": "code",
   "execution_count": 25,
   "id": "fb1d8648",
   "metadata": {
    "execution": {
     "iopub.execute_input": "2023-06-29T15:24:27.418638Z",
     "iopub.status.busy": "2023-06-29T15:24:27.417864Z",
     "iopub.status.idle": "2023-06-29T15:24:27.423983Z",
     "shell.execute_reply": "2023-06-29T15:24:27.423049Z"
    },
    "papermill": {
     "duration": 0.031727,
     "end_time": "2023-06-29T15:24:27.425900",
     "exception": false,
     "start_time": "2023-06-29T15:24:27.394173",
     "status": "completed"
    },
    "tags": []
   },
   "outputs": [
    {
     "data": {
      "text/plain": [
       "torch.Size([224, 224, 3])"
      ]
     },
     "execution_count": 25,
     "metadata": {},
     "output_type": "execute_result"
    }
   ],
   "source": [
    "random_image_size_tensor.shape"
   ]
  },
  {
   "cell_type": "markdown",
   "id": "d5967ee4",
   "metadata": {
    "papermill": {
     "duration": 0.022779,
     "end_time": "2023-06-29T15:24:27.471697",
     "exception": false,
     "start_time": "2023-06-29T15:24:27.448918",
     "status": "completed"
    },
    "tags": []
   },
   "source": [
    "### Zeroes and Ones"
   ]
  },
  {
   "cell_type": "code",
   "execution_count": 26,
   "id": "a2c229d7",
   "metadata": {
    "execution": {
     "iopub.execute_input": "2023-06-29T15:24:27.519485Z",
     "iopub.status.busy": "2023-06-29T15:24:27.518502Z",
     "iopub.status.idle": "2023-06-29T15:24:27.527301Z",
     "shell.execute_reply": "2023-06-29T15:24:27.526386Z"
    },
    "papermill": {
     "duration": 0.034736,
     "end_time": "2023-06-29T15:24:27.529296",
     "exception": false,
     "start_time": "2023-06-29T15:24:27.494560",
     "status": "completed"
    },
    "tags": []
   },
   "outputs": [
    {
     "data": {
      "text/plain": [
       "tensor([[0., 0., 0., 0.],\n",
       "        [0., 0., 0., 0.],\n",
       "        [0., 0., 0., 0.]])"
      ]
     },
     "execution_count": 26,
     "metadata": {},
     "output_type": "execute_result"
    }
   ],
   "source": [
    "# Create a tenor of all zeros\n",
    "zeros = torch.zeros(3,4)\n",
    "zeros"
   ]
  },
  {
   "cell_type": "code",
   "execution_count": 27,
   "id": "4b49d065",
   "metadata": {
    "execution": {
     "iopub.execute_input": "2023-06-29T15:24:27.577060Z",
     "iopub.status.busy": "2023-06-29T15:24:27.576103Z",
     "iopub.status.idle": "2023-06-29T15:24:27.583189Z",
     "shell.execute_reply": "2023-06-29T15:24:27.582247Z"
    },
    "papermill": {
     "duration": 0.032893,
     "end_time": "2023-06-29T15:24:27.585119",
     "exception": false,
     "start_time": "2023-06-29T15:24:27.552226",
     "status": "completed"
    },
    "tags": []
   },
   "outputs": [
    {
     "data": {
      "text/plain": [
       "tensor([[0., 0., 0., 0.],\n",
       "        [0., 0., 0., 0.],\n",
       "        [0., 0., 0., 0.]])"
      ]
     },
     "execution_count": 27,
     "metadata": {},
     "output_type": "execute_result"
    }
   ],
   "source": [
    "zeros * torch.rand(3,4)"
   ]
  },
  {
   "cell_type": "code",
   "execution_count": 28,
   "id": "bf1143b3",
   "metadata": {
    "execution": {
     "iopub.execute_input": "2023-06-29T15:24:27.633267Z",
     "iopub.status.busy": "2023-06-29T15:24:27.632556Z",
     "iopub.status.idle": "2023-06-29T15:24:27.640344Z",
     "shell.execute_reply": "2023-06-29T15:24:27.639391Z"
    },
    "papermill": {
     "duration": 0.034091,
     "end_time": "2023-06-29T15:24:27.642321",
     "exception": false,
     "start_time": "2023-06-29T15:24:27.608230",
     "status": "completed"
    },
    "tags": []
   },
   "outputs": [
    {
     "data": {
      "text/plain": [
       "tensor([[1, 1, 1, 1],\n",
       "        [1, 1, 1, 1],\n",
       "        [1, 1, 1, 1]])"
      ]
     },
     "execution_count": 28,
     "metadata": {},
     "output_type": "execute_result"
    }
   ],
   "source": [
    "# Create tensor of all ones\n",
    "ones = torch.ones(size=(3,4),dtype=int)\n",
    "ones"
   ]
  },
  {
   "cell_type": "code",
   "execution_count": 29,
   "id": "b735ee33",
   "metadata": {
    "execution": {
     "iopub.execute_input": "2023-06-29T15:24:27.691028Z",
     "iopub.status.busy": "2023-06-29T15:24:27.690718Z",
     "iopub.status.idle": "2023-06-29T15:24:27.696452Z",
     "shell.execute_reply": "2023-06-29T15:24:27.695587Z"
    },
    "papermill": {
     "duration": 0.031881,
     "end_time": "2023-06-29T15:24:27.698357",
     "exception": false,
     "start_time": "2023-06-29T15:24:27.666476",
     "status": "completed"
    },
    "tags": []
   },
   "outputs": [
    {
     "data": {
      "text/plain": [
       "torch.int64"
      ]
     },
     "execution_count": 29,
     "metadata": {},
     "output_type": "execute_result"
    }
   ],
   "source": [
    "ones.dtype"
   ]
  },
  {
   "cell_type": "markdown",
   "id": "46cee08f",
   "metadata": {
    "execution": {
     "iopub.execute_input": "2023-06-25T16:24:23.852212Z",
     "iopub.status.busy": "2023-06-25T16:24:23.851772Z",
     "iopub.status.idle": "2023-06-25T16:24:23.857025Z",
     "shell.execute_reply": "2023-06-25T16:24:23.856069Z",
     "shell.execute_reply.started": "2023-06-25T16:24:23.852179Z"
    },
    "papermill": {
     "duration": 0.023181,
     "end_time": "2023-06-29T15:24:27.744868",
     "exception": false,
     "start_time": "2023-06-29T15:24:27.721687",
     "status": "completed"
    },
    "tags": []
   },
   "source": [
    "### Create a range of tensors and tensors-like\n",
    "\n",
    "ref - https://pytorch.org/docs/stable/generated/torch.arange.html"
   ]
  },
  {
   "cell_type": "code",
   "execution_count": 30,
   "id": "3ddb1604",
   "metadata": {
    "execution": {
     "iopub.execute_input": "2023-06-29T15:24:27.794353Z",
     "iopub.status.busy": "2023-06-29T15:24:27.794019Z",
     "iopub.status.idle": "2023-06-29T15:24:27.803870Z",
     "shell.execute_reply": "2023-06-29T15:24:27.802891Z"
    },
    "papermill": {
     "duration": 0.036521,
     "end_time": "2023-06-29T15:24:27.805998",
     "exception": false,
     "start_time": "2023-06-29T15:24:27.769477",
     "status": "completed"
    },
    "tags": []
   },
   "outputs": [
    {
     "data": {
      "text/plain": [
       "tensor([ 1,  2,  3,  4,  5,  6,  7,  8,  9, 10])"
      ]
     },
     "execution_count": 30,
     "metadata": {},
     "output_type": "execute_result"
    }
   ],
   "source": [
    "# Use torch.arange()\n",
    "one_to_ten = torch.arange(start=1, end=11, step=1)\n",
    "one_to_ten"
   ]
  },
  {
   "cell_type": "code",
   "execution_count": 31,
   "id": "dbee2038",
   "metadata": {
    "execution": {
     "iopub.execute_input": "2023-06-29T15:24:27.854659Z",
     "iopub.status.busy": "2023-06-29T15:24:27.854333Z",
     "iopub.status.idle": "2023-06-29T15:24:27.860955Z",
     "shell.execute_reply": "2023-06-29T15:24:27.860057Z"
    },
    "papermill": {
     "duration": 0.033471,
     "end_time": "2023-06-29T15:24:27.862912",
     "exception": false,
     "start_time": "2023-06-29T15:24:27.829441",
     "status": "completed"
    },
    "tags": []
   },
   "outputs": [
    {
     "data": {
      "text/plain": [
       "tensor([0, 0, 0, 0, 0, 0, 0, 0, 0, 0])"
      ]
     },
     "execution_count": 31,
     "metadata": {},
     "output_type": "execute_result"
    }
   ],
   "source": [
    "# Create tesnors like\n",
    "ten_zeros = torch.zeros_like(input=one_to_ten)\n",
    "ten_zeros"
   ]
  },
  {
   "cell_type": "markdown",
   "id": "82442cb9",
   "metadata": {
    "papermill": {
     "duration": 0.023353,
     "end_time": "2023-06-29T15:24:27.909802",
     "exception": false,
     "start_time": "2023-06-29T15:24:27.886449",
     "status": "completed"
    },
    "tags": []
   },
   "source": [
    "### Tensor datatypes\n",
    "\n",
    "Tensor datatypes is one of the 3 big errors arrive in Pytorch\n",
    "\n",
    "1. Tensors not right datatype\n",
    "2. Tensors not right shape\n",
    "3. Tensors not no right device\n",
    "\n",
    "ref - https://pytorch.org/docs/stable/tensors.html"
   ]
  },
  {
   "cell_type": "code",
   "execution_count": 32,
   "id": "91c04ca7",
   "metadata": {
    "execution": {
     "iopub.execute_input": "2023-06-29T15:24:27.958442Z",
     "iopub.status.busy": "2023-06-29T15:24:27.958074Z",
     "iopub.status.idle": "2023-06-29T15:24:27.965656Z",
     "shell.execute_reply": "2023-06-29T15:24:27.964749Z"
    },
    "papermill": {
     "duration": 0.034223,
     "end_time": "2023-06-29T15:24:27.967670",
     "exception": false,
     "start_time": "2023-06-29T15:24:27.933447",
     "status": "completed"
    },
    "tags": []
   },
   "outputs": [
    {
     "data": {
      "text/plain": [
       "tensor([3., 6., 9.])"
      ]
     },
     "execution_count": 32,
     "metadata": {},
     "output_type": "execute_result"
    }
   ],
   "source": [
    "# Float 32 tensor\n",
    "float_32_tensor = torch.tensor([3.0,6.0,9.0],\n",
    "                             dtype=None, # what datatype of tensor (float32 etc)\n",
    "                             device=None, #'cpu or gpu -> cuda'\n",
    "                             requires_grad=False) # whether to track gradient\n",
    "float_32_tensor"
   ]
  },
  {
   "cell_type": "code",
   "execution_count": 33,
   "id": "36a69ef3",
   "metadata": {
    "execution": {
     "iopub.execute_input": "2023-06-29T15:24:28.018520Z",
     "iopub.status.busy": "2023-06-29T15:24:28.017600Z",
     "iopub.status.idle": "2023-06-29T15:24:28.023760Z",
     "shell.execute_reply": "2023-06-29T15:24:28.022860Z"
    },
    "papermill": {
     "duration": 0.034393,
     "end_time": "2023-06-29T15:24:28.025694",
     "exception": false,
     "start_time": "2023-06-29T15:24:27.991301",
     "status": "completed"
    },
    "tags": []
   },
   "outputs": [
    {
     "data": {
      "text/plain": [
       "torch.float32"
      ]
     },
     "execution_count": 33,
     "metadata": {},
     "output_type": "execute_result"
    }
   ],
   "source": [
    "float_32_tensor.dtype"
   ]
  },
  {
   "cell_type": "code",
   "execution_count": 34,
   "id": "2cff0a28",
   "metadata": {
    "execution": {
     "iopub.execute_input": "2023-06-29T15:24:28.075319Z",
     "iopub.status.busy": "2023-06-29T15:24:28.075004Z",
     "iopub.status.idle": "2023-06-29T15:24:28.083055Z",
     "shell.execute_reply": "2023-06-29T15:24:28.082227Z"
    },
    "papermill": {
     "duration": 0.03517,
     "end_time": "2023-06-29T15:24:28.084975",
     "exception": false,
     "start_time": "2023-06-29T15:24:28.049805",
     "status": "completed"
    },
    "tags": []
   },
   "outputs": [],
   "source": [
    "float_16_tensor = float_32_tensor.half()\n",
    "# or\n",
    "float_16_tensor = float_32_tensor.type(torch.float) # torch.half"
   ]
  },
  {
   "cell_type": "code",
   "execution_count": 35,
   "id": "604de906",
   "metadata": {
    "execution": {
     "iopub.execute_input": "2023-06-29T15:24:28.134392Z",
     "iopub.status.busy": "2023-06-29T15:24:28.133560Z",
     "iopub.status.idle": "2023-06-29T15:24:28.140457Z",
     "shell.execute_reply": "2023-06-29T15:24:28.139428Z"
    },
    "papermill": {
     "duration": 0.033668,
     "end_time": "2023-06-29T15:24:28.142393",
     "exception": false,
     "start_time": "2023-06-29T15:24:28.108725",
     "status": "completed"
    },
    "tags": []
   },
   "outputs": [
    {
     "data": {
      "text/plain": [
       "tensor([3., 6., 9.])"
      ]
     },
     "execution_count": 35,
     "metadata": {},
     "output_type": "execute_result"
    }
   ],
   "source": [
    "float_16_tensor"
   ]
  },
  {
   "cell_type": "code",
   "execution_count": 36,
   "id": "7dbdf31d",
   "metadata": {
    "execution": {
     "iopub.execute_input": "2023-06-29T15:24:28.191789Z",
     "iopub.status.busy": "2023-06-29T15:24:28.191196Z",
     "iopub.status.idle": "2023-06-29T15:24:28.197594Z",
     "shell.execute_reply": "2023-06-29T15:24:28.196691Z"
    },
    "papermill": {
     "duration": 0.033272,
     "end_time": "2023-06-29T15:24:28.199515",
     "exception": false,
     "start_time": "2023-06-29T15:24:28.166243",
     "status": "completed"
    },
    "tags": []
   },
   "outputs": [
    {
     "data": {
      "text/plain": [
       "torch.float32"
      ]
     },
     "execution_count": 36,
     "metadata": {},
     "output_type": "execute_result"
    }
   ],
   "source": [
    "(float_16_tensor * float_32_tensor).dtype"
   ]
  },
  {
   "cell_type": "code",
   "execution_count": 37,
   "id": "08b64545",
   "metadata": {
    "execution": {
     "iopub.execute_input": "2023-06-29T15:24:28.249527Z",
     "iopub.status.busy": "2023-06-29T15:24:28.248670Z",
     "iopub.status.idle": "2023-06-29T15:24:28.253613Z",
     "shell.execute_reply": "2023-06-29T15:24:28.252758Z"
    },
    "papermill": {
     "duration": 0.032068,
     "end_time": "2023-06-29T15:24:28.255561",
     "exception": false,
     "start_time": "2023-06-29T15:24:28.223493",
     "status": "completed"
    },
    "tags": []
   },
   "outputs": [],
   "source": [
    "int_32_tensor = torch.tensor([3,4,5],\n",
    "                             dtype=torch.int32)"
   ]
  },
  {
   "cell_type": "code",
   "execution_count": 38,
   "id": "ffc67fa5",
   "metadata": {
    "execution": {
     "iopub.execute_input": "2023-06-29T15:24:28.305722Z",
     "iopub.status.busy": "2023-06-29T15:24:28.304843Z",
     "iopub.status.idle": "2023-06-29T15:24:28.313453Z",
     "shell.execute_reply": "2023-06-29T15:24:28.312469Z"
    },
    "papermill": {
     "duration": 0.035641,
     "end_time": "2023-06-29T15:24:28.315356",
     "exception": false,
     "start_time": "2023-06-29T15:24:28.279715",
     "status": "completed"
    },
    "tags": []
   },
   "outputs": [
    {
     "data": {
      "text/plain": [
       "tensor([ 9., 24., 45.])"
      ]
     },
     "execution_count": 38,
     "metadata": {},
     "output_type": "execute_result"
    }
   ],
   "source": [
    "float_16_tensor * int_32_tensor"
   ]
  },
  {
   "cell_type": "markdown",
   "id": "7cc16e49",
   "metadata": {
    "papermill": {
     "duration": 0.023889,
     "end_time": "2023-06-29T15:24:28.363741",
     "exception": false,
     "start_time": "2023-06-29T15:24:28.339852",
     "status": "completed"
    },
    "tags": []
   },
   "source": [
    "### Getting info from tensors (tensor attributes)\n",
    "1. tensor not datatype - to check use tensor.dtype\n",
    "2. tensor not right shape - to check use tensor.shape or tensor.size()\n",
    "3. tensor not on right device - to check use tensor.device"
   ]
  },
  {
   "cell_type": "code",
   "execution_count": 39,
   "id": "075e198b",
   "metadata": {
    "execution": {
     "iopub.execute_input": "2023-06-29T15:24:28.413423Z",
     "iopub.status.busy": "2023-06-29T15:24:28.412577Z",
     "iopub.status.idle": "2023-06-29T15:24:28.419645Z",
     "shell.execute_reply": "2023-06-29T15:24:28.418728Z"
    },
    "papermill": {
     "duration": 0.033985,
     "end_time": "2023-06-29T15:24:28.421601",
     "exception": false,
     "start_time": "2023-06-29T15:24:28.387616",
     "status": "completed"
    },
    "tags": []
   },
   "outputs": [
    {
     "data": {
      "text/plain": [
       "tensor([[0.0211, 0.4709, 0.0897, 0.3044],\n",
       "        [0.9328, 0.7326, 0.7740, 0.9731],\n",
       "        [0.6106, 0.7471, 0.7769, 0.5116]])"
      ]
     },
     "execution_count": 39,
     "metadata": {},
     "output_type": "execute_result"
    }
   ],
   "source": [
    "# Create a tensor\n",
    "some_tensor = torch.rand(3,4)\n",
    "some_tensor"
   ]
  },
  {
   "cell_type": "code",
   "execution_count": 40,
   "id": "d7fc4427",
   "metadata": {
    "execution": {
     "iopub.execute_input": "2023-06-29T15:24:28.472222Z",
     "iopub.status.busy": "2023-06-29T15:24:28.471334Z",
     "iopub.status.idle": "2023-06-29T15:24:28.477120Z",
     "shell.execute_reply": "2023-06-29T15:24:28.475960Z"
    },
    "papermill": {
     "duration": 0.033258,
     "end_time": "2023-06-29T15:24:28.479121",
     "exception": false,
     "start_time": "2023-06-29T15:24:28.445863",
     "status": "completed"
    },
    "tags": []
   },
   "outputs": [
    {
     "name": "stdout",
     "output_type": "stream",
     "text": [
      "Tensor Datatype : torch.float32 Tensor Shape : torch.Size([3, 4]) Tensor Device : cpu\n"
     ]
    }
   ],
   "source": [
    "print(\"Tensor Datatype :\",some_tensor.dtype,\n",
    "\"Tensor Shape :\",some_tensor.shape,\n",
    "\"Tensor Device :\",some_tensor.device)"
   ]
  },
  {
   "cell_type": "markdown",
   "id": "c2f5e028",
   "metadata": {
    "execution": {
     "iopub.execute_input": "2023-06-26T15:31:18.518353Z",
     "iopub.status.busy": "2023-06-26T15:31:18.517972Z",
     "iopub.status.idle": "2023-06-26T15:31:18.526666Z",
     "shell.execute_reply": "2023-06-26T15:31:18.525296Z",
     "shell.execute_reply.started": "2023-06-26T15:31:18.518326Z"
    },
    "papermill": {
     "duration": 0.024021,
     "end_time": "2023-06-29T15:24:28.527327",
     "exception": false,
     "start_time": "2023-06-29T15:24:28.503306",
     "status": "completed"
    },
    "tags": []
   },
   "source": [
    "### Manipulating Tensors (Tensor Operations)\n",
    "1. Addition\n",
    "2. Subtraction\n",
    "3. Multiplication (element-wise)\n",
    "4. Division\n",
    "5. Matrix Multiplication"
   ]
  },
  {
   "cell_type": "code",
   "execution_count": 41,
   "id": "daff5def",
   "metadata": {
    "execution": {
     "iopub.execute_input": "2023-06-29T15:24:28.577003Z",
     "iopub.status.busy": "2023-06-29T15:24:28.576665Z",
     "iopub.status.idle": "2023-06-29T15:24:28.592231Z",
     "shell.execute_reply": "2023-06-29T15:24:28.591240Z"
    },
    "papermill": {
     "duration": 0.042734,
     "end_time": "2023-06-29T15:24:28.594196",
     "exception": false,
     "start_time": "2023-06-29T15:24:28.551462",
     "status": "completed"
    },
    "tags": []
   },
   "outputs": [
    {
     "data": {
      "text/plain": [
       "tensor([11, 12, 13])"
      ]
     },
     "execution_count": 41,
     "metadata": {},
     "output_type": "execute_result"
    }
   ],
   "source": [
    "# Create a tensor and add 10\n",
    "tensor = torch.tensor([1,2,3])\n",
    "tensor + 10"
   ]
  },
  {
   "cell_type": "code",
   "execution_count": 42,
   "id": "6d06f91a",
   "metadata": {
    "execution": {
     "iopub.execute_input": "2023-06-29T15:24:28.644834Z",
     "iopub.status.busy": "2023-06-29T15:24:28.644013Z",
     "iopub.status.idle": "2023-06-29T15:24:28.652519Z",
     "shell.execute_reply": "2023-06-29T15:24:28.651610Z"
    },
    "papermill": {
     "duration": 0.035831,
     "end_time": "2023-06-29T15:24:28.654439",
     "exception": false,
     "start_time": "2023-06-29T15:24:28.618608",
     "status": "completed"
    },
    "tags": []
   },
   "outputs": [
    {
     "data": {
      "text/plain": [
       "tensor([10, 20, 30])"
      ]
     },
     "execution_count": 42,
     "metadata": {},
     "output_type": "execute_result"
    }
   ],
   "source": [
    "# multiply\n",
    "tensor * 10"
   ]
  },
  {
   "cell_type": "code",
   "execution_count": 43,
   "id": "cd881928",
   "metadata": {
    "execution": {
     "iopub.execute_input": "2023-06-29T15:24:28.705617Z",
     "iopub.status.busy": "2023-06-29T15:24:28.704801Z",
     "iopub.status.idle": "2023-06-29T15:24:28.713349Z",
     "shell.execute_reply": "2023-06-29T15:24:28.712426Z"
    },
    "papermill": {
     "duration": 0.035848,
     "end_time": "2023-06-29T15:24:28.715289",
     "exception": false,
     "start_time": "2023-06-29T15:24:28.679441",
     "status": "completed"
    },
    "tags": []
   },
   "outputs": [
    {
     "data": {
      "text/plain": [
       "tensor([-9, -8, -7])"
      ]
     },
     "execution_count": 43,
     "metadata": {},
     "output_type": "execute_result"
    }
   ],
   "source": [
    "# subtract 10\n",
    "tensor - 10"
   ]
  },
  {
   "cell_type": "code",
   "execution_count": 44,
   "id": "a19544d3",
   "metadata": {
    "execution": {
     "iopub.execute_input": "2023-06-29T15:24:28.766130Z",
     "iopub.status.busy": "2023-06-29T15:24:28.765344Z",
     "iopub.status.idle": "2023-06-29T15:24:28.771742Z",
     "shell.execute_reply": "2023-06-29T15:24:28.770838Z"
    },
    "papermill": {
     "duration": 0.033706,
     "end_time": "2023-06-29T15:24:28.773629",
     "exception": false,
     "start_time": "2023-06-29T15:24:28.739923",
     "status": "completed"
    },
    "tags": []
   },
   "outputs": [
    {
     "data": {
      "text/plain": [
       "tensor([10, 20, 30])"
      ]
     },
     "execution_count": 44,
     "metadata": {},
     "output_type": "execute_result"
    }
   ],
   "source": [
    "# multiply using tensor function\n",
    "torch.mul(tensor,10)"
   ]
  },
  {
   "cell_type": "markdown",
   "id": "a59b9dd7",
   "metadata": {
    "papermill": {
     "duration": 0.024485,
     "end_time": "2023-06-29T15:24:28.822782",
     "exception": false,
     "start_time": "2023-06-29T15:24:28.798297",
     "status": "completed"
    },
    "tags": []
   },
   "source": [
    "### Matrix Multiplication\n",
    "\n",
    "Two Main ways to multiply in tensors\n",
    "\n",
    "1. Element-wise multipication or Cross Multiplication\n",
    "2. Matrix multiplication or Dot Product\n",
    "\n",
    "ref - https://www.mathsisfun.com/algebra/matrix-multiplying.html\n",
    "\n",
    "Two Rules must Follow:\n",
    "1. The **Inner Dimension** must match:\n",
    "* '(3,2) @ (3,2)' wont work\n",
    "* '(3,2) @ (2,3)' will work\n",
    "* '(2,3) @ (3,2)' will work\n",
    "2. Resulting matrix has dimension of **Outer Dimension**\n",
    "* (2,3) @ (3,2) -> (2,2)\n",
    "* (3,2) @ (2,3) -> (3,3)"
   ]
  },
  {
   "cell_type": "code",
   "execution_count": 45,
   "id": "ad0d8a65",
   "metadata": {
    "execution": {
     "iopub.execute_input": "2023-06-29T15:24:28.874585Z",
     "iopub.status.busy": "2023-06-29T15:24:28.873701Z",
     "iopub.status.idle": "2023-06-29T15:24:28.919084Z",
     "shell.execute_reply": "2023-06-29T15:24:28.918153Z"
    },
    "papermill": {
     "duration": 0.073219,
     "end_time": "2023-06-29T15:24:28.921070",
     "exception": false,
     "start_time": "2023-06-29T15:24:28.847851",
     "status": "completed"
    },
    "tags": []
   },
   "outputs": [
    {
     "data": {
      "text/plain": [
       "tensor([[0.5075, 0.8000, 0.5385],\n",
       "        [0.1297, 0.2400, 0.6803],\n",
       "        [0.2502, 0.3859, 0.1343]])"
      ]
     },
     "execution_count": 45,
     "metadata": {},
     "output_type": "execute_result"
    }
   ],
   "source": [
    "torch.matmul(torch.rand(3,2) , torch.rand(2,3))"
   ]
  },
  {
   "cell_type": "code",
   "execution_count": 46,
   "id": "8d502972",
   "metadata": {
    "execution": {
     "iopub.execute_input": "2023-06-29T15:24:28.973129Z",
     "iopub.status.busy": "2023-06-29T15:24:28.972252Z",
     "iopub.status.idle": "2023-06-29T15:24:28.978619Z",
     "shell.execute_reply": "2023-06-29T15:24:28.977489Z"
    },
    "papermill": {
     "duration": 0.034268,
     "end_time": "2023-06-29T15:24:28.980554",
     "exception": false,
     "start_time": "2023-06-29T15:24:28.946286",
     "status": "completed"
    },
    "tags": []
   },
   "outputs": [
    {
     "name": "stdout",
     "output_type": "stream",
     "text": [
      "tensor([1, 2, 3]) * tensor([1, 2, 3])\n",
      "Equals : tensor([1, 4, 9])\n"
     ]
    }
   ],
   "source": [
    "# Element wise multiplication\n",
    "print(tensor, '*' , tensor)\n",
    "print('Equals :', tensor * tensor )"
   ]
  },
  {
   "cell_type": "code",
   "execution_count": 47,
   "id": "fc03cc5d",
   "metadata": {
    "execution": {
     "iopub.execute_input": "2023-06-29T15:24:29.038622Z",
     "iopub.status.busy": "2023-06-29T15:24:29.037593Z",
     "iopub.status.idle": "2023-06-29T15:24:29.044964Z",
     "shell.execute_reply": "2023-06-29T15:24:29.043994Z"
    },
    "papermill": {
     "duration": 0.040486,
     "end_time": "2023-06-29T15:24:29.046910",
     "exception": false,
     "start_time": "2023-06-29T15:24:29.006424",
     "status": "completed"
    },
    "tags": []
   },
   "outputs": [
    {
     "data": {
      "text/plain": [
       "tensor(14)"
      ]
     },
     "execution_count": 47,
     "metadata": {},
     "output_type": "execute_result"
    }
   ],
   "source": [
    "# Matrix Multiplication\n",
    "torch.matmul(tensor,tensor)"
   ]
  },
  {
   "cell_type": "markdown",
   "id": "1ca20cc0",
   "metadata": {
    "papermill": {
     "duration": 0.024712,
     "end_time": "2023-06-29T15:24:29.096830",
     "exception": false,
     "start_time": "2023-06-29T15:24:29.072118",
     "status": "completed"
    },
    "tags": []
   },
   "source": [
    "### Shape Errors"
   ]
  },
  {
   "cell_type": "code",
   "execution_count": 48,
   "id": "cbd4f0f2",
   "metadata": {
    "execution": {
     "iopub.execute_input": "2023-06-29T15:24:29.150149Z",
     "iopub.status.busy": "2023-06-29T15:24:29.149505Z",
     "iopub.status.idle": "2023-06-29T15:24:29.154768Z",
     "shell.execute_reply": "2023-06-29T15:24:29.153885Z"
    },
    "papermill": {
     "duration": 0.033346,
     "end_time": "2023-06-29T15:24:29.156650",
     "exception": false,
     "start_time": "2023-06-29T15:24:29.123304",
     "status": "completed"
    },
    "tags": []
   },
   "outputs": [],
   "source": [
    "tensor_A = torch.tensor([[1,2],\n",
    "                        [3,4],\n",
    "                        [5,6]])\n",
    "\n",
    "tensor_B =torch.tensor([[7,10],\n",
    "                       [8,11],\n",
    "                       [9,12]])\n",
    "\n",
    "#torch.mm(tensor_A,tensor_B) #(mm is alias for matmul)"
   ]
  },
  {
   "cell_type": "markdown",
   "id": "5ac222ae",
   "metadata": {
    "papermill": {
     "duration": 0.024798,
     "end_time": "2023-06-29T15:24:29.206965",
     "exception": false,
     "start_time": "2023-06-29T15:24:29.182167",
     "status": "completed"
    },
    "tags": []
   },
   "source": [
    "To Fix Shape Issues, We can use Transpose \n",
    "\n",
    "A **Transpose** swithches axes or dimensions of given matrix"
   ]
  },
  {
   "cell_type": "code",
   "execution_count": 49,
   "id": "7142fda2",
   "metadata": {
    "execution": {
     "iopub.execute_input": "2023-06-29T15:24:29.261193Z",
     "iopub.status.busy": "2023-06-29T15:24:29.260298Z",
     "iopub.status.idle": "2023-06-29T15:24:29.267052Z",
     "shell.execute_reply": "2023-06-29T15:24:29.266165Z"
    },
    "papermill": {
     "duration": 0.036421,
     "end_time": "2023-06-29T15:24:29.269199",
     "exception": false,
     "start_time": "2023-06-29T15:24:29.232778",
     "status": "completed"
    },
    "tags": []
   },
   "outputs": [
    {
     "data": {
      "text/plain": [
       "(tensor([[ 7, 10],\n",
       "         [ 8, 11],\n",
       "         [ 9, 12]]),\n",
       " torch.Size([3, 2]))"
      ]
     },
     "execution_count": 49,
     "metadata": {},
     "output_type": "execute_result"
    }
   ],
   "source": [
    "tensor_B, tensor_B.shape"
   ]
  },
  {
   "cell_type": "code",
   "execution_count": 50,
   "id": "bdb47ed7",
   "metadata": {
    "execution": {
     "iopub.execute_input": "2023-06-29T15:24:29.322152Z",
     "iopub.status.busy": "2023-06-29T15:24:29.321550Z",
     "iopub.status.idle": "2023-06-29T15:24:29.328976Z",
     "shell.execute_reply": "2023-06-29T15:24:29.327929Z"
    },
    "papermill": {
     "duration": 0.036435,
     "end_time": "2023-06-29T15:24:29.331180",
     "exception": false,
     "start_time": "2023-06-29T15:24:29.294745",
     "status": "completed"
    },
    "tags": []
   },
   "outputs": [
    {
     "data": {
      "text/plain": [
       "(tensor([[ 7,  8,  9],\n",
       "         [10, 11, 12]]),\n",
       " torch.Size([2, 3]))"
      ]
     },
     "execution_count": 50,
     "metadata": {},
     "output_type": "execute_result"
    }
   ],
   "source": [
    "tensor_B.T, tensor_B.T.shape"
   ]
  },
  {
   "cell_type": "code",
   "execution_count": 51,
   "id": "f7185b5b",
   "metadata": {
    "execution": {
     "iopub.execute_input": "2023-06-29T15:24:29.385040Z",
     "iopub.status.busy": "2023-06-29T15:24:29.384717Z",
     "iopub.status.idle": "2023-06-29T15:24:29.393383Z",
     "shell.execute_reply": "2023-06-29T15:24:29.392197Z"
    },
    "papermill": {
     "duration": 0.039984,
     "end_time": "2023-06-29T15:24:29.396964",
     "exception": false,
     "start_time": "2023-06-29T15:24:29.356980",
     "status": "completed"
    },
    "tags": []
   },
   "outputs": [
    {
     "name": "stdout",
     "output_type": "stream",
     "text": [
      "Initial shape for tensor A torch.Size([3, 2]) and for tensor B torch.Size([3, 2])\n",
      "after transpose torch.Size([2, 3])\n",
      "output : tensor([[ 27,  30,  33],\n",
      "        [ 61,  68,  75],\n",
      "        [ 95, 106, 117]]) and its shape is torch.Size([3, 3])\n"
     ]
    }
   ],
   "source": [
    "print(f'Initial shape for tensor A {tensor_A.shape} and for tensor B {tensor_B.shape}')\n",
    "print(f'after transpose {tensor_B.T.shape}')\n",
    "print(f'output : {torch.matmul(tensor_A,tensor_B.T)} and its shape is {torch.matmul(tensor_A,tensor_B.T).shape}')"
   ]
  },
  {
   "cell_type": "markdown",
   "id": "7f071fd1",
   "metadata": {
    "papermill": {
     "duration": 0.025868,
     "end_time": "2023-06-29T15:24:29.449089",
     "exception": false,
     "start_time": "2023-06-29T15:24:29.423221",
     "status": "completed"
    },
    "tags": []
   },
   "source": [
    "## Finding Min. Max. Mean, Sum, etc (tensor aggregation)"
   ]
  },
  {
   "cell_type": "code",
   "execution_count": 52,
   "id": "03602de8",
   "metadata": {
    "execution": {
     "iopub.execute_input": "2023-06-29T15:24:29.502048Z",
     "iopub.status.busy": "2023-06-29T15:24:29.501707Z",
     "iopub.status.idle": "2023-06-29T15:24:29.508752Z",
     "shell.execute_reply": "2023-06-29T15:24:29.507678Z"
    },
    "papermill": {
     "duration": 0.035832,
     "end_time": "2023-06-29T15:24:29.510764",
     "exception": false,
     "start_time": "2023-06-29T15:24:29.474932",
     "status": "completed"
    },
    "tags": []
   },
   "outputs": [
    {
     "data": {
      "text/plain": [
       "tensor([ 0, 10, 20, 30, 40, 50, 60, 70, 80, 90])"
      ]
     },
     "execution_count": 52,
     "metadata": {},
     "output_type": "execute_result"
    }
   ],
   "source": [
    "# Create a tensor\n",
    "x = torch.arange(0,100,10)\n",
    "x"
   ]
  },
  {
   "cell_type": "code",
   "execution_count": 53,
   "id": "babf2d2f",
   "metadata": {
    "execution": {
     "iopub.execute_input": "2023-06-29T15:24:29.563741Z",
     "iopub.status.busy": "2023-06-29T15:24:29.563418Z",
     "iopub.status.idle": "2023-06-29T15:24:29.571578Z",
     "shell.execute_reply": "2023-06-29T15:24:29.570673Z"
    },
    "papermill": {
     "duration": 0.036875,
     "end_time": "2023-06-29T15:24:29.573468",
     "exception": false,
     "start_time": "2023-06-29T15:24:29.536593",
     "status": "completed"
    },
    "tags": []
   },
   "outputs": [
    {
     "data": {
      "text/plain": [
       "(tensor(0), tensor(0))"
      ]
     },
     "execution_count": 53,
     "metadata": {},
     "output_type": "execute_result"
    }
   ],
   "source": [
    "# Min\n",
    "torch.min(x), x.min()"
   ]
  },
  {
   "cell_type": "code",
   "execution_count": 54,
   "id": "160d2e6b",
   "metadata": {
    "execution": {
     "iopub.execute_input": "2023-06-29T15:24:29.626999Z",
     "iopub.status.busy": "2023-06-29T15:24:29.626165Z",
     "iopub.status.idle": "2023-06-29T15:24:29.633152Z",
     "shell.execute_reply": "2023-06-29T15:24:29.632209Z"
    },
    "papermill": {
     "duration": 0.035733,
     "end_time": "2023-06-29T15:24:29.635151",
     "exception": false,
     "start_time": "2023-06-29T15:24:29.599418",
     "status": "completed"
    },
    "tags": []
   },
   "outputs": [
    {
     "data": {
      "text/plain": [
       "(tensor(90), tensor(90))"
      ]
     },
     "execution_count": 54,
     "metadata": {},
     "output_type": "execute_result"
    }
   ],
   "source": [
    "# Max\n",
    "torch.max(x), x.max()"
   ]
  },
  {
   "cell_type": "code",
   "execution_count": 55,
   "id": "ecda3390",
   "metadata": {
    "execution": {
     "iopub.execute_input": "2023-06-29T15:24:29.689319Z",
     "iopub.status.busy": "2023-06-29T15:24:29.688637Z",
     "iopub.status.idle": "2023-06-29T15:24:29.700230Z",
     "shell.execute_reply": "2023-06-29T15:24:29.699347Z"
    },
    "papermill": {
     "duration": 0.041029,
     "end_time": "2023-06-29T15:24:29.702176",
     "exception": false,
     "start_time": "2023-06-29T15:24:29.661147",
     "status": "completed"
    },
    "tags": []
   },
   "outputs": [
    {
     "data": {
      "text/plain": [
       "(tensor(45., dtype=torch.float16),\n",
       " tensor(45., dtype=torch.float16),\n",
       " tensor(45.))"
      ]
     },
     "execution_count": 55,
     "metadata": {},
     "output_type": "execute_result"
    }
   ],
   "source": [
    "# Mean\n",
    "torch.mean(x.type(torch.float16)) , x.type(torch.float16).mean() , torch.mean(x,dtype=torch.float32)"
   ]
  },
  {
   "cell_type": "code",
   "execution_count": 56,
   "id": "7d94c939",
   "metadata": {
    "execution": {
     "iopub.execute_input": "2023-06-29T15:24:29.756232Z",
     "iopub.status.busy": "2023-06-29T15:24:29.755457Z",
     "iopub.status.idle": "2023-06-29T15:24:29.762147Z",
     "shell.execute_reply": "2023-06-29T15:24:29.761211Z"
    },
    "papermill": {
     "duration": 0.035653,
     "end_time": "2023-06-29T15:24:29.764081",
     "exception": false,
     "start_time": "2023-06-29T15:24:29.728428",
     "status": "completed"
    },
    "tags": []
   },
   "outputs": [
    {
     "data": {
      "text/plain": [
       "(tensor(450), tensor(450))"
      ]
     },
     "execution_count": 56,
     "metadata": {},
     "output_type": "execute_result"
    }
   ],
   "source": [
    "# Sum\n",
    "torch.sum(x) , x.sum()"
   ]
  },
  {
   "cell_type": "markdown",
   "id": "0276aef8",
   "metadata": {
    "papermill": {
     "duration": 0.025858,
     "end_time": "2023-06-29T15:24:29.816480",
     "exception": false,
     "start_time": "2023-06-29T15:24:29.790622",
     "status": "completed"
    },
    "tags": []
   },
   "source": [
    "## Finding Positinal min and max"
   ]
  },
  {
   "cell_type": "code",
   "execution_count": 57,
   "id": "d5f30e96",
   "metadata": {
    "execution": {
     "iopub.execute_input": "2023-06-29T15:24:29.871172Z",
     "iopub.status.busy": "2023-06-29T15:24:29.870270Z",
     "iopub.status.idle": "2023-06-29T15:24:29.877027Z",
     "shell.execute_reply": "2023-06-29T15:24:29.876081Z"
    },
    "papermill": {
     "duration": 0.03631,
     "end_time": "2023-06-29T15:24:29.878958",
     "exception": false,
     "start_time": "2023-06-29T15:24:29.842648",
     "status": "completed"
    },
    "tags": []
   },
   "outputs": [
    {
     "data": {
      "text/plain": [
       "tensor([ 1, 11, 21, 31, 41, 51, 61, 71, 81, 91])"
      ]
     },
     "execution_count": 57,
     "metadata": {},
     "output_type": "execute_result"
    }
   ],
   "source": [
    "x+1"
   ]
  },
  {
   "cell_type": "code",
   "execution_count": 58,
   "id": "c0adfed3",
   "metadata": {
    "execution": {
     "iopub.execute_input": "2023-06-29T15:24:29.940932Z",
     "iopub.status.busy": "2023-06-29T15:24:29.940606Z",
     "iopub.status.idle": "2023-06-29T15:24:29.949298Z",
     "shell.execute_reply": "2023-06-29T15:24:29.947888Z"
    },
    "papermill": {
     "duration": 0.03836,
     "end_time": "2023-06-29T15:24:29.951236",
     "exception": false,
     "start_time": "2023-06-29T15:24:29.912876",
     "status": "completed"
    },
    "tags": []
   },
   "outputs": [
    {
     "name": "stdout",
     "output_type": "stream",
     "text": [
      "location :  tensor(0)\n",
      "element at location :  tensor(1)\n"
     ]
    }
   ],
   "source": [
    "# Position in tensor where minimum value exists\n",
    "print('location : ',(x+1).argmin())\n",
    "print('element at location : ',(x+1)[(x+1).argmin()])"
   ]
  },
  {
   "cell_type": "code",
   "execution_count": 59,
   "id": "ea4974fe",
   "metadata": {
    "execution": {
     "iopub.execute_input": "2023-06-29T15:24:30.005894Z",
     "iopub.status.busy": "2023-06-29T15:24:30.005080Z",
     "iopub.status.idle": "2023-06-29T15:24:30.016501Z",
     "shell.execute_reply": "2023-06-29T15:24:30.014653Z"
    },
    "papermill": {
     "duration": 0.04625,
     "end_time": "2023-06-29T15:24:30.023968",
     "exception": false,
     "start_time": "2023-06-29T15:24:29.977718",
     "status": "completed"
    },
    "tags": []
   },
   "outputs": [
    {
     "name": "stdout",
     "output_type": "stream",
     "text": [
      "location :  tensor(9)\n",
      "element at location :  tensor(91)\n"
     ]
    }
   ],
   "source": [
    "# Position in tensor where maximum value exists\n",
    "print('location : ',(x+1).argmax())\n",
    "print('element at location : ',(x+1)[(x+1).argmax()])"
   ]
  },
  {
   "cell_type": "markdown",
   "id": "94f3b008",
   "metadata": {
    "papermill": {
     "duration": 0.038555,
     "end_time": "2023-06-29T15:24:30.114051",
     "exception": false,
     "start_time": "2023-06-29T15:24:30.075496",
     "status": "completed"
    },
    "tags": []
   },
   "source": [
    "## Reshaping, Stacking, Squeezing and Unsqueezing tensor\n",
    "\n",
    "* Reshaping - reshapes input tensor to defined shape\n",
    "* View - Returns a view of input tensor of certain shape but keeps same memory as original\n",
    "* Stacking - Combine Multiple tensors on top of each other (vstack) or side by side (hstack)\n",
    "* Squeeze - **removes unit** dimension from tensor\n",
    "* Unsqueeze - **adds one** dimension to tensor\n",
    "* Permute - Reaturn a view of input with Dimension Permuted (swapped) in certain way "
   ]
  },
  {
   "cell_type": "code",
   "execution_count": 60,
   "id": "f9b4cbfa",
   "metadata": {
    "execution": {
     "iopub.execute_input": "2023-06-29T15:24:30.168898Z",
     "iopub.status.busy": "2023-06-29T15:24:30.168527Z",
     "iopub.status.idle": "2023-06-29T15:24:30.176200Z",
     "shell.execute_reply": "2023-06-29T15:24:30.175235Z"
    },
    "papermill": {
     "duration": 0.037539,
     "end_time": "2023-06-29T15:24:30.178238",
     "exception": false,
     "start_time": "2023-06-29T15:24:30.140699",
     "status": "completed"
    },
    "tags": []
   },
   "outputs": [
    {
     "data": {
      "text/plain": [
       "(tensor([1., 2., 3., 4., 5., 6., 7., 8., 9.]), torch.Size([9]))"
      ]
     },
     "execution_count": 60,
     "metadata": {},
     "output_type": "execute_result"
    }
   ],
   "source": [
    "# Create Tensor\n",
    "x = torch.arange(1.,10.)\n",
    "x , x.shape"
   ]
  },
  {
   "cell_type": "code",
   "execution_count": 61,
   "id": "4f0880df",
   "metadata": {
    "execution": {
     "iopub.execute_input": "2023-06-29T15:24:30.233874Z",
     "iopub.status.busy": "2023-06-29T15:24:30.233025Z",
     "iopub.status.idle": "2023-06-29T15:24:30.240066Z",
     "shell.execute_reply": "2023-06-29T15:24:30.238935Z"
    },
    "papermill": {
     "duration": 0.037024,
     "end_time": "2023-06-29T15:24:30.242042",
     "exception": false,
     "start_time": "2023-06-29T15:24:30.205018",
     "status": "completed"
    },
    "tags": []
   },
   "outputs": [
    {
     "name": "stdout",
     "output_type": "stream",
     "text": [
      "torch.Size([9])\n",
      "tensor([[1.],\n",
      "        [2.],\n",
      "        [3.],\n",
      "        [4.],\n",
      "        [5.],\n",
      "        [6.],\n",
      "        [7.],\n",
      "        [8.],\n",
      "        [9.]])\n",
      "torch.Size([9, 1])\n"
     ]
    }
   ],
   "source": [
    "# Add extra dimension\n",
    "x_reshaped = x.reshape(9,1)\n",
    "print(x.size())\n",
    "print(x_reshaped)\n",
    "print(x_reshaped.size())"
   ]
  },
  {
   "cell_type": "code",
   "execution_count": 62,
   "id": "02088007",
   "metadata": {
    "execution": {
     "iopub.execute_input": "2023-06-29T15:24:30.298332Z",
     "iopub.status.busy": "2023-06-29T15:24:30.297964Z",
     "iopub.status.idle": "2023-06-29T15:24:30.305575Z",
     "shell.execute_reply": "2023-06-29T15:24:30.304644Z"
    },
    "papermill": {
     "duration": 0.037612,
     "end_time": "2023-06-29T15:24:30.307551",
     "exception": false,
     "start_time": "2023-06-29T15:24:30.269939",
     "status": "completed"
    },
    "tags": []
   },
   "outputs": [
    {
     "data": {
      "text/plain": [
       "(tensor([[1., 2., 3.],\n",
       "         [4., 5., 6.],\n",
       "         [7., 8., 9.]]),\n",
       " torch.Size([3, 3]))"
      ]
     },
     "execution_count": 62,
     "metadata": {},
     "output_type": "execute_result"
    }
   ],
   "source": [
    "# Change View\n",
    "z = x.view(3,3)\n",
    "z, z.shape"
   ]
  },
  {
   "cell_type": "code",
   "execution_count": 63,
   "id": "5452a21b",
   "metadata": {
    "execution": {
     "iopub.execute_input": "2023-06-29T15:24:30.366433Z",
     "iopub.status.busy": "2023-06-29T15:24:30.364631Z",
     "iopub.status.idle": "2023-06-29T15:24:30.375637Z",
     "shell.execute_reply": "2023-06-29T15:24:30.374549Z"
    },
    "papermill": {
     "duration": 0.041438,
     "end_time": "2023-06-29T15:24:30.377621",
     "exception": false,
     "start_time": "2023-06-29T15:24:30.336183",
     "status": "completed"
    },
    "tags": []
   },
   "outputs": [
    {
     "data": {
      "text/plain": [
       "(tensor([[5., 2., 3.],\n",
       "         [5., 5., 6.],\n",
       "         [5., 8., 9.]]),\n",
       " tensor([5., 2., 3., 5., 5., 6., 5., 8., 9.]))"
      ]
     },
     "execution_count": 63,
     "metadata": {},
     "output_type": "execute_result"
    }
   ],
   "source": [
    "# Changing z changes x because it shares same memory as original but doesnt affect the shape\n",
    "z[:,0]=5\n",
    "z, x"
   ]
  },
  {
   "cell_type": "code",
   "execution_count": 64,
   "id": "81402804",
   "metadata": {
    "execution": {
     "iopub.execute_input": "2023-06-29T15:24:30.435614Z",
     "iopub.status.busy": "2023-06-29T15:24:30.435261Z",
     "iopub.status.idle": "2023-06-29T15:24:30.443319Z",
     "shell.execute_reply": "2023-06-29T15:24:30.442423Z"
    },
    "papermill": {
     "duration": 0.04011,
     "end_time": "2023-06-29T15:24:30.445282",
     "exception": false,
     "start_time": "2023-06-29T15:24:30.405172",
     "status": "completed"
    },
    "tags": []
   },
   "outputs": [
    {
     "data": {
      "text/plain": [
       "tensor([[5., 2., 3., 5., 5., 6., 5., 8., 9.],\n",
       "        [5., 2., 3., 5., 5., 6., 5., 8., 9.],\n",
       "        [5., 2., 3., 5., 5., 6., 5., 8., 9.],\n",
       "        [5., 2., 3., 5., 5., 6., 5., 8., 9.]])"
      ]
     },
     "execution_count": 64,
     "metadata": {},
     "output_type": "execute_result"
    }
   ],
   "source": [
    "# Stack tensors\n",
    "x_stacked = torch.stack([x, x, x, x], dim=0)\n",
    "x_stacked"
   ]
  },
  {
   "cell_type": "code",
   "execution_count": 65,
   "id": "44836ac8",
   "metadata": {
    "execution": {
     "iopub.execute_input": "2023-06-29T15:24:30.502208Z",
     "iopub.status.busy": "2023-06-29T15:24:30.501888Z",
     "iopub.status.idle": "2023-06-29T15:24:30.510067Z",
     "shell.execute_reply": "2023-06-29T15:24:30.508695Z"
    },
    "papermill": {
     "duration": 0.038404,
     "end_time": "2023-06-29T15:24:30.511995",
     "exception": false,
     "start_time": "2023-06-29T15:24:30.473591",
     "status": "completed"
    },
    "tags": []
   },
   "outputs": [
    {
     "name": "stdout",
     "output_type": "stream",
     "text": [
      "Previouse tensor : tensor([[5.],\n",
      "        [2.],\n",
      "        [3.],\n",
      "        [5.],\n",
      "        [5.],\n",
      "        [6.],\n",
      "        [5.],\n",
      "        [8.],\n",
      "        [9.]])\n",
      "Previoe shape : torch.Size([9, 1])\n",
      "\n",
      "New tensor : tensor([5., 2., 3., 5., 5., 6., 5., 8., 9.])\n",
      "New Shape : torch.Size([9])\n"
     ]
    }
   ],
   "source": [
    "# torch.squeeze() - removes all single dimensions from target tensor\n",
    "print(f\"Previouse tensor : {x_reshaped}\")\n",
    "print(f\"Previoe shape : {x_reshaped.shape}\")\n",
    "\n",
    "# Remove extra dimension from x_reshaped\n",
    "x_squeezed = x_reshaped.squeeze()\n",
    "print(f\"\\nNew tensor : {x_squeezed}\")\n",
    "print(f\"New Shape : {x_squeezed.shape}\")\n",
    "\n"
   ]
  },
  {
   "cell_type": "code",
   "execution_count": 66,
   "id": "de3d16cf",
   "metadata": {
    "execution": {
     "iopub.execute_input": "2023-06-29T15:24:30.568316Z",
     "iopub.status.busy": "2023-06-29T15:24:30.567350Z",
     "iopub.status.idle": "2023-06-29T15:24:30.574767Z",
     "shell.execute_reply": "2023-06-29T15:24:30.573842Z"
    },
    "papermill": {
     "duration": 0.037573,
     "end_time": "2023-06-29T15:24:30.576669",
     "exception": false,
     "start_time": "2023-06-29T15:24:30.539096",
     "status": "completed"
    },
    "tags": []
   },
   "outputs": [
    {
     "data": {
      "text/plain": [
       "tensor([5., 2., 3., 5., 5., 6., 5., 8., 9.])"
      ]
     },
     "execution_count": 66,
     "metadata": {},
     "output_type": "execute_result"
    }
   ],
   "source": [
    "x_reshaped.squeeze()"
   ]
  },
  {
   "cell_type": "code",
   "execution_count": 67,
   "id": "7e74a0ec",
   "metadata": {
    "execution": {
     "iopub.execute_input": "2023-06-29T15:24:30.633557Z",
     "iopub.status.busy": "2023-06-29T15:24:30.632656Z",
     "iopub.status.idle": "2023-06-29T15:24:30.641711Z",
     "shell.execute_reply": "2023-06-29T15:24:30.640631Z"
    },
    "papermill": {
     "duration": 0.039573,
     "end_time": "2023-06-29T15:24:30.643634",
     "exception": false,
     "start_time": "2023-06-29T15:24:30.604061",
     "status": "completed"
    },
    "tags": []
   },
   "outputs": [
    {
     "name": "stdout",
     "output_type": "stream",
     "text": [
      "Previous target : tensor([5., 2., 3., 5., 5., 6., 5., 8., 9.])\n",
      "Previous Shape : torch.Size([9])\n",
      "\n",
      "New tensor : tensor([[5., 2., 3., 5., 5., 6., 5., 8., 9.]])\n",
      "New Shape : torch.Size([1, 9])\n"
     ]
    }
   ],
   "source": [
    "# torch.unsqueeze() - adds a single dimension to a target tensor at a specific dimension\n",
    "print(f\"Previous target : {x_squeezed}\")\n",
    "print(f\"Previous Shape : {x_squeezed.shape}\")\n",
    "\n",
    "# Adding dimension to x_reshaped\n",
    "x_unsqueezed = x_squeezed.unsqueeze(dim=-0)\n",
    "print(f\"\\nNew tensor : {x_unsqueezed}\")\n",
    "print(f\"New Shape : {x_unsqueezed.shape}\")"
   ]
  },
  {
   "cell_type": "code",
   "execution_count": 68,
   "id": "fa4cda40",
   "metadata": {
    "execution": {
     "iopub.execute_input": "2023-06-29T15:24:30.700700Z",
     "iopub.status.busy": "2023-06-29T15:24:30.700353Z",
     "iopub.status.idle": "2023-06-29T15:24:30.708272Z",
     "shell.execute_reply": "2023-06-29T15:24:30.707120Z"
    },
    "papermill": {
     "duration": 0.039392,
     "end_time": "2023-06-29T15:24:30.710617",
     "exception": false,
     "start_time": "2023-06-29T15:24:30.671225",
     "status": "completed"
    },
    "tags": []
   },
   "outputs": [
    {
     "name": "stdout",
     "output_type": "stream",
     "text": [
      "Shape before Permute : torch.Size([224, 224, 3])\n",
      "Shape after Permute : torch.Size([3, 224, 224])\n"
     ]
    }
   ],
   "source": [
    "# torch.permute - rearrages the dimension of a traget tensor in a specified order\n",
    "x_original = torch.rand(size=(224,224,3)) \n",
    "print(f\"Shape before Permute : {x_original.shape}\") #[height, width, color_channel]\n",
    "\n",
    "# Premute the original tensor to rearrage the axis\n",
    "x_permuted = x_original.permute(2,0,1) # shifts axis 0 -> 1, 1 -> 2, 2 -> 0\n",
    "print(f\"Shape after Permute : {x_permuted.shape}\") #[color_channel, height, width]"
   ]
  },
  {
   "cell_type": "markdown",
   "id": "0b5fb077",
   "metadata": {
    "papermill": {
     "duration": 0.027157,
     "end_time": "2023-06-29T15:24:30.765178",
     "exception": false,
     "start_time": "2023-06-29T15:24:30.738021",
     "status": "completed"
    },
    "tags": []
   },
   "source": [
    "## Indexing (selecting data from tensors)\n",
    "Indexing is same as numpy"
   ]
  },
  {
   "cell_type": "code",
   "execution_count": 69,
   "id": "15b6391b",
   "metadata": {
    "execution": {
     "iopub.execute_input": "2023-06-29T15:24:30.822067Z",
     "iopub.status.busy": "2023-06-29T15:24:30.821211Z",
     "iopub.status.idle": "2023-06-29T15:24:30.828703Z",
     "shell.execute_reply": "2023-06-29T15:24:30.827638Z"
    },
    "papermill": {
     "duration": 0.037918,
     "end_time": "2023-06-29T15:24:30.830683",
     "exception": false,
     "start_time": "2023-06-29T15:24:30.792765",
     "status": "completed"
    },
    "tags": []
   },
   "outputs": [
    {
     "data": {
      "text/plain": [
       "(tensor([[[1, 2, 3],\n",
       "          [4, 5, 6],\n",
       "          [7, 8, 9]]]),\n",
       " torch.Size([1, 3, 3]))"
      ]
     },
     "execution_count": 69,
     "metadata": {},
     "output_type": "execute_result"
    }
   ],
   "source": [
    "# Create a tensor\n",
    "x= torch.arange(1,10).reshape(1,3,3)\n",
    "x, x.shape"
   ]
  },
  {
   "cell_type": "code",
   "execution_count": 70,
   "id": "8dd87b4c",
   "metadata": {
    "execution": {
     "iopub.execute_input": "2023-06-29T15:24:30.887352Z",
     "iopub.status.busy": "2023-06-29T15:24:30.886571Z",
     "iopub.status.idle": "2023-06-29T15:24:30.893428Z",
     "shell.execute_reply": "2023-06-29T15:24:30.892300Z"
    },
    "papermill": {
     "duration": 0.037226,
     "end_time": "2023-06-29T15:24:30.895400",
     "exception": false,
     "start_time": "2023-06-29T15:24:30.858174",
     "status": "completed"
    },
    "tags": []
   },
   "outputs": [
    {
     "data": {
      "text/plain": [
       "tensor([[1, 2, 3],\n",
       "        [4, 5, 6],\n",
       "        [7, 8, 9]])"
      ]
     },
     "execution_count": 70,
     "metadata": {},
     "output_type": "execute_result"
    }
   ],
   "source": [
    "# Indexing new tensor\n",
    "x[0]"
   ]
  },
  {
   "cell_type": "code",
   "execution_count": 71,
   "id": "b38991f4",
   "metadata": {
    "execution": {
     "iopub.execute_input": "2023-06-29T15:24:30.952931Z",
     "iopub.status.busy": "2023-06-29T15:24:30.952582Z",
     "iopub.status.idle": "2023-06-29T15:24:30.959070Z",
     "shell.execute_reply": "2023-06-29T15:24:30.958149Z"
    },
    "papermill": {
     "duration": 0.037667,
     "end_time": "2023-06-29T15:24:30.961066",
     "exception": false,
     "start_time": "2023-06-29T15:24:30.923399",
     "status": "completed"
    },
    "tags": []
   },
   "outputs": [
    {
     "data": {
      "text/plain": [
       "tensor(5)"
      ]
     },
     "execution_count": 71,
     "metadata": {},
     "output_type": "execute_result"
    }
   ],
   "source": [
    "# Index on middle bracket (dim=1)\n",
    "x[0,1,1]"
   ]
  },
  {
   "cell_type": "code",
   "execution_count": 72,
   "id": "5cb7aaca",
   "metadata": {
    "execution": {
     "iopub.execute_input": "2023-06-29T15:24:31.021707Z",
     "iopub.status.busy": "2023-06-29T15:24:31.020974Z",
     "iopub.status.idle": "2023-06-29T15:24:31.031210Z",
     "shell.execute_reply": "2023-06-29T15:24:31.030292Z"
    },
    "papermill": {
     "duration": 0.043494,
     "end_time": "2023-06-29T15:24:31.033163",
     "exception": false,
     "start_time": "2023-06-29T15:24:30.989669",
     "status": "completed"
    },
    "tags": []
   },
   "outputs": [
    {
     "data": {
      "text/plain": [
       "tensor([[1, 2, 3]])"
      ]
     },
     "execution_count": 72,
     "metadata": {},
     "output_type": "execute_result"
    }
   ],
   "source": [
    "# \":\" to select all target dimension\n",
    "x[:,0]"
   ]
  },
  {
   "cell_type": "code",
   "execution_count": 73,
   "id": "7cfedfed",
   "metadata": {
    "execution": {
     "iopub.execute_input": "2023-06-29T15:24:31.093879Z",
     "iopub.status.busy": "2023-06-29T15:24:31.092976Z",
     "iopub.status.idle": "2023-06-29T15:24:31.100031Z",
     "shell.execute_reply": "2023-06-29T15:24:31.098782Z"
    },
    "papermill": {
     "duration": 0.039244,
     "end_time": "2023-06-29T15:24:31.102089",
     "exception": false,
     "start_time": "2023-06-29T15:24:31.062845",
     "status": "completed"
    },
    "tags": []
   },
   "outputs": [
    {
     "name": "stdout",
     "output_type": "stream",
     "text": [
      "tensor([[2, 5, 8]])\n",
      "tensor([1, 2, 3])\n",
      "tensor([4, 5, 6])\n"
     ]
    }
   ],
   "source": [
    "# Practice\n",
    "print(x[:,:,1])\n",
    "print(x[0,0,:])\n",
    "print(x[0,1,:])"
   ]
  },
  {
   "cell_type": "markdown",
   "id": "cd5155a0",
   "metadata": {
    "papermill": {
     "duration": 0.027748,
     "end_time": "2023-06-29T15:24:31.158102",
     "exception": false,
     "start_time": "2023-06-29T15:24:31.130354",
     "status": "completed"
    },
    "tags": []
   },
   "source": [
    "## Pytorch tensors & Numpy\n",
    "\n",
    "Pytorch interacting with Numpy\n",
    "\n",
    "* Convert data from Numpy to Tensor -> `torch.from_numpy(ndarray)`\n",
    "* Convert data from Tensor to Numpy -> `torch.Tensor.numpy()`"
   ]
  },
  {
   "cell_type": "code",
   "execution_count": null,
   "id": "9aac817c",
   "metadata": {
    "papermill": {
     "duration": 0.028275,
     "end_time": "2023-06-29T15:24:31.214179",
     "exception": false,
     "start_time": "2023-06-29T15:24:31.185904",
     "status": "completed"
    },
    "tags": []
   },
   "outputs": [],
   "source": []
  }
 ],
 "metadata": {
  "kernelspec": {
   "display_name": "Python 3",
   "language": "python",
   "name": "python3"
  },
  "language_info": {
   "codemirror_mode": {
    "name": "ipython",
    "version": 3
   },
   "file_extension": ".py",
   "mimetype": "text/x-python",
   "name": "python",
   "nbconvert_exporter": "python",
   "pygments_lexer": "ipython3",
   "version": "3.10.10"
  },
  "papermill": {
   "default_parameters": {},
   "duration": 21.805774,
   "end_time": "2023-06-29T15:24:33.700283",
   "environment_variables": {},
   "exception": null,
   "input_path": "__notebook__.ipynb",
   "output_path": "__notebook__.ipynb",
   "parameters": {},
   "start_time": "2023-06-29T15:24:11.894509",
   "version": "2.4.0"
  }
 },
 "nbformat": 4,
 "nbformat_minor": 5
}
