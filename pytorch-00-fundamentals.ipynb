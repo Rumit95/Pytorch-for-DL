{
 "cells": [
  {
   "cell_type": "code",
   "execution_count": 1,
   "id": "b2da264f",
   "metadata": {
    "_cell_guid": "b1076dfc-b9ad-4769-8c92-a6c4dae69d19",
    "_uuid": "8f2839f25d086af736a60e9eeb907d3b93b6e0e5",
    "execution": {
     "iopub.execute_input": "2023-06-30T06:31:05.819733Z",
     "iopub.status.busy": "2023-06-30T06:31:05.818864Z",
     "iopub.status.idle": "2023-06-30T06:31:09.591782Z",
     "shell.execute_reply": "2023-06-30T06:31:09.590832Z"
    },
    "papermill": {
     "duration": 3.806827,
     "end_time": "2023-06-30T06:31:09.593835",
     "exception": false,
     "start_time": "2023-06-30T06:31:05.787008",
     "status": "completed"
    },
    "tags": []
   },
   "outputs": [
    {
     "data": {
      "text/plain": [
       "'2.0.0'"
      ]
     },
     "execution_count": 1,
     "metadata": {},
     "output_type": "execute_result"
    }
   ],
   "source": [
    "import torch\n",
    "import pandas as pd\n",
    "import numpy as np\n",
    "import matplotlib.pyplot as plt\n",
    "torch.__version__"
   ]
  },
  {
   "cell_type": "markdown",
   "id": "40ca1d5e",
   "metadata": {
    "execution": {
     "iopub.execute_input": "2023-06-25T15:31:29.081596Z",
     "iopub.status.busy": "2023-06-25T15:31:29.081220Z",
     "iopub.status.idle": "2023-06-25T15:31:29.086052Z",
     "shell.execute_reply": "2023-06-25T15:31:29.085102Z",
     "shell.execute_reply.started": "2023-06-25T15:31:29.081561Z"
    },
    "papermill": {
     "duration": 0.025023,
     "end_time": "2023-06-30T06:31:09.645894",
     "exception": false,
     "start_time": "2023-06-30T06:31:09.620871",
     "status": "completed"
    },
    "tags": []
   },
   "source": [
    "## Introduction to Tensor\n",
    "\n",
    "### Creating Tensors\n",
    "\n",
    "PyTorch tensor are create using `torch.Tensor()`\n",
    "\n",
    "ref -\n",
    "* https://pytorch.org/docs/stable/tensors.html"
   ]
  },
  {
   "cell_type": "code",
   "execution_count": 2,
   "id": "3c96ed30",
   "metadata": {
    "execution": {
     "iopub.execute_input": "2023-06-30T06:31:09.697776Z",
     "iopub.status.busy": "2023-06-30T06:31:09.696618Z",
     "iopub.status.idle": "2023-06-30T06:31:09.741939Z",
     "shell.execute_reply": "2023-06-30T06:31:09.740934Z"
    },
    "papermill": {
     "duration": 0.073259,
     "end_time": "2023-06-30T06:31:09.744078",
     "exception": false,
     "start_time": "2023-06-30T06:31:09.670819",
     "status": "completed"
    },
    "tags": []
   },
   "outputs": [
    {
     "data": {
      "text/plain": [
       "tensor(7)"
      ]
     },
     "execution_count": 2,
     "metadata": {},
     "output_type": "execute_result"
    }
   ],
   "source": [
    "# Scaler\n",
    "scaler = torch.tensor(7)\n",
    "scaler"
   ]
  },
  {
   "cell_type": "code",
   "execution_count": 3,
   "id": "80421ae0",
   "metadata": {
    "execution": {
     "iopub.execute_input": "2023-06-30T06:31:09.796267Z",
     "iopub.status.busy": "2023-06-30T06:31:09.795920Z",
     "iopub.status.idle": "2023-06-30T06:31:09.801697Z",
     "shell.execute_reply": "2023-06-30T06:31:09.800791Z"
    },
    "papermill": {
     "duration": 0.034059,
     "end_time": "2023-06-30T06:31:09.803641",
     "exception": false,
     "start_time": "2023-06-30T06:31:09.769582",
     "status": "completed"
    },
    "tags": []
   },
   "outputs": [
    {
     "data": {
      "text/plain": [
       "0"
      ]
     },
     "execution_count": 3,
     "metadata": {},
     "output_type": "execute_result"
    }
   ],
   "source": [
    "scaler.ndim"
   ]
  },
  {
   "cell_type": "code",
   "execution_count": 4,
   "id": "e64e58bc",
   "metadata": {
    "execution": {
     "iopub.execute_input": "2023-06-30T06:31:09.863331Z",
     "iopub.status.busy": "2023-06-30T06:31:09.863033Z",
     "iopub.status.idle": "2023-06-30T06:31:09.870415Z",
     "shell.execute_reply": "2023-06-30T06:31:09.869072Z"
    },
    "papermill": {
     "duration": 0.043414,
     "end_time": "2023-06-30T06:31:09.872732",
     "exception": false,
     "start_time": "2023-06-30T06:31:09.829318",
     "status": "completed"
    },
    "tags": []
   },
   "outputs": [
    {
     "data": {
      "text/plain": [
       "7"
      ]
     },
     "execution_count": 4,
     "metadata": {},
     "output_type": "execute_result"
    }
   ],
   "source": [
    "# Get Tensor back ans int\n",
    "scaler.item()"
   ]
  },
  {
   "cell_type": "code",
   "execution_count": 5,
   "id": "cea28993",
   "metadata": {
    "execution": {
     "iopub.execute_input": "2023-06-30T06:31:09.926133Z",
     "iopub.status.busy": "2023-06-30T06:31:09.925184Z",
     "iopub.status.idle": "2023-06-30T06:31:09.933753Z",
     "shell.execute_reply": "2023-06-30T06:31:09.932817Z"
    },
    "papermill": {
     "duration": 0.037837,
     "end_time": "2023-06-30T06:31:09.936085",
     "exception": false,
     "start_time": "2023-06-30T06:31:09.898248",
     "status": "completed"
    },
    "tags": []
   },
   "outputs": [
    {
     "data": {
      "text/plain": [
       "tensor([7, 7])"
      ]
     },
     "execution_count": 5,
     "metadata": {},
     "output_type": "execute_result"
    }
   ],
   "source": [
    "# Vector\n",
    "vector = torch.tensor([7,7])\n",
    "vector"
   ]
  },
  {
   "cell_type": "code",
   "execution_count": 6,
   "id": "301b0154",
   "metadata": {
    "execution": {
     "iopub.execute_input": "2023-06-30T06:31:10.002118Z",
     "iopub.status.busy": "2023-06-30T06:31:10.001651Z",
     "iopub.status.idle": "2023-06-30T06:31:10.013224Z",
     "shell.execute_reply": "2023-06-30T06:31:10.011971Z"
    },
    "papermill": {
     "duration": 0.053637,
     "end_time": "2023-06-30T06:31:10.017965",
     "exception": false,
     "start_time": "2023-06-30T06:31:09.964328",
     "status": "completed"
    },
    "tags": []
   },
   "outputs": [
    {
     "data": {
      "text/plain": [
       "1"
      ]
     },
     "execution_count": 6,
     "metadata": {},
     "output_type": "execute_result"
    }
   ],
   "source": [
    "vector.ndim"
   ]
  },
  {
   "cell_type": "code",
   "execution_count": 7,
   "id": "716ce81e",
   "metadata": {
    "execution": {
     "iopub.execute_input": "2023-06-30T06:31:10.105213Z",
     "iopub.status.busy": "2023-06-30T06:31:10.104541Z",
     "iopub.status.idle": "2023-06-30T06:31:10.110625Z",
     "shell.execute_reply": "2023-06-30T06:31:10.109780Z"
    },
    "papermill": {
     "duration": 0.051546,
     "end_time": "2023-06-30T06:31:10.112778",
     "exception": false,
     "start_time": "2023-06-30T06:31:10.061232",
     "status": "completed"
    },
    "tags": []
   },
   "outputs": [
    {
     "data": {
      "text/plain": [
       "torch.Size([2])"
      ]
     },
     "execution_count": 7,
     "metadata": {},
     "output_type": "execute_result"
    }
   ],
   "source": [
    "vector.shape"
   ]
  },
  {
   "cell_type": "code",
   "execution_count": 8,
   "id": "25aeeb5e",
   "metadata": {
    "execution": {
     "iopub.execute_input": "2023-06-30T06:31:10.196416Z",
     "iopub.status.busy": "2023-06-30T06:31:10.194937Z",
     "iopub.status.idle": "2023-06-30T06:31:10.210824Z",
     "shell.execute_reply": "2023-06-30T06:31:10.209432Z"
    },
    "papermill": {
     "duration": 0.063506,
     "end_time": "2023-06-30T06:31:10.215058",
     "exception": false,
     "start_time": "2023-06-30T06:31:10.151552",
     "status": "completed"
    },
    "tags": []
   },
   "outputs": [
    {
     "data": {
      "text/plain": [
       "tensor([[7, 8],\n",
       "        [6, 5]])"
      ]
     },
     "execution_count": 8,
     "metadata": {},
     "output_type": "execute_result"
    }
   ],
   "source": [
    "# Matrix\n",
    "MATRIX = torch.tensor([[7,8],\n",
    "                      [6,5]])\n",
    "MATRIX"
   ]
  },
  {
   "cell_type": "code",
   "execution_count": 9,
   "id": "a85c411c",
   "metadata": {
    "execution": {
     "iopub.execute_input": "2023-06-30T06:31:10.295470Z",
     "iopub.status.busy": "2023-06-30T06:31:10.294837Z",
     "iopub.status.idle": "2023-06-30T06:31:10.300397Z",
     "shell.execute_reply": "2023-06-30T06:31:10.299576Z"
    },
    "papermill": {
     "duration": 0.047169,
     "end_time": "2023-06-30T06:31:10.305842",
     "exception": false,
     "start_time": "2023-06-30T06:31:10.258673",
     "status": "completed"
    },
    "tags": []
   },
   "outputs": [
    {
     "data": {
      "text/plain": [
       "2"
      ]
     },
     "execution_count": 9,
     "metadata": {},
     "output_type": "execute_result"
    }
   ],
   "source": [
    "MATRIX.ndim"
   ]
  },
  {
   "cell_type": "code",
   "execution_count": 10,
   "id": "26a784c7",
   "metadata": {
    "execution": {
     "iopub.execute_input": "2023-06-30T06:31:10.379990Z",
     "iopub.status.busy": "2023-06-30T06:31:10.379475Z",
     "iopub.status.idle": "2023-06-30T06:31:10.386553Z",
     "shell.execute_reply": "2023-06-30T06:31:10.385764Z"
    },
    "papermill": {
     "duration": 0.049823,
     "end_time": "2023-06-30T06:31:10.392341",
     "exception": false,
     "start_time": "2023-06-30T06:31:10.342518",
     "status": "completed"
    },
    "tags": []
   },
   "outputs": [
    {
     "data": {
      "text/plain": [
       "tensor([7, 8])"
      ]
     },
     "execution_count": 10,
     "metadata": {},
     "output_type": "execute_result"
    }
   ],
   "source": [
    "MATRIX[0]"
   ]
  },
  {
   "cell_type": "code",
   "execution_count": 11,
   "id": "2b5b0d51",
   "metadata": {
    "execution": {
     "iopub.execute_input": "2023-06-30T06:31:10.467797Z",
     "iopub.status.busy": "2023-06-30T06:31:10.467304Z",
     "iopub.status.idle": "2023-06-30T06:31:10.474269Z",
     "shell.execute_reply": "2023-06-30T06:31:10.473429Z"
    },
    "papermill": {
     "duration": 0.049805,
     "end_time": "2023-06-30T06:31:10.479584",
     "exception": false,
     "start_time": "2023-06-30T06:31:10.429779",
     "status": "completed"
    },
    "tags": []
   },
   "outputs": [
    {
     "data": {
      "text/plain": [
       "tensor([6, 5])"
      ]
     },
     "execution_count": 11,
     "metadata": {},
     "output_type": "execute_result"
    }
   ],
   "source": [
    "MATRIX[1]"
   ]
  },
  {
   "cell_type": "code",
   "execution_count": 12,
   "id": "e0328212",
   "metadata": {
    "execution": {
     "iopub.execute_input": "2023-06-30T06:31:10.553391Z",
     "iopub.status.busy": "2023-06-30T06:31:10.553044Z",
     "iopub.status.idle": "2023-06-30T06:31:10.560497Z",
     "shell.execute_reply": "2023-06-30T06:31:10.559403Z"
    },
    "papermill": {
     "duration": 0.04922,
     "end_time": "2023-06-30T06:31:10.565622",
     "exception": false,
     "start_time": "2023-06-30T06:31:10.516402",
     "status": "completed"
    },
    "tags": []
   },
   "outputs": [
    {
     "data": {
      "text/plain": [
       "torch.Size([2, 2])"
      ]
     },
     "execution_count": 12,
     "metadata": {},
     "output_type": "execute_result"
    }
   ],
   "source": [
    "MATRIX.shape"
   ]
  },
  {
   "cell_type": "code",
   "execution_count": 13,
   "id": "3e370472",
   "metadata": {
    "execution": {
     "iopub.execute_input": "2023-06-30T06:31:10.639579Z",
     "iopub.status.busy": "2023-06-30T06:31:10.639202Z",
     "iopub.status.idle": "2023-06-30T06:31:10.648112Z",
     "shell.execute_reply": "2023-06-30T06:31:10.647320Z"
    },
    "papermill": {
     "duration": 0.050693,
     "end_time": "2023-06-30T06:31:10.652078",
     "exception": false,
     "start_time": "2023-06-30T06:31:10.601385",
     "status": "completed"
    },
    "tags": []
   },
   "outputs": [
    {
     "data": {
      "text/plain": [
       "tensor([[[1, 2, 3],\n",
       "         [5, 6, 6],\n",
       "         [7, 8, 9]]])"
      ]
     },
     "execution_count": 13,
     "metadata": {},
     "output_type": "execute_result"
    }
   ],
   "source": [
    "# Tensor\n",
    "TENSOR = torch.tensor([[[1,2,3],\n",
    "                      [5,6,6],\n",
    "                      [7,8,9]]])\n",
    "TENSOR"
   ]
  },
  {
   "cell_type": "code",
   "execution_count": 14,
   "id": "96667f53",
   "metadata": {
    "execution": {
     "iopub.execute_input": "2023-06-30T06:31:10.725795Z",
     "iopub.status.busy": "2023-06-30T06:31:10.725413Z",
     "iopub.status.idle": "2023-06-30T06:31:10.731463Z",
     "shell.execute_reply": "2023-06-30T06:31:10.730657Z"
    },
    "papermill": {
     "duration": 0.049108,
     "end_time": "2023-06-30T06:31:10.737010",
     "exception": false,
     "start_time": "2023-06-30T06:31:10.687902",
     "status": "completed"
    },
    "tags": []
   },
   "outputs": [
    {
     "data": {
      "text/plain": [
       "3"
      ]
     },
     "execution_count": 14,
     "metadata": {},
     "output_type": "execute_result"
    }
   ],
   "source": [
    "TENSOR.ndim"
   ]
  },
  {
   "cell_type": "code",
   "execution_count": 15,
   "id": "690e5bc1",
   "metadata": {
    "execution": {
     "iopub.execute_input": "2023-06-30T06:31:10.811266Z",
     "iopub.status.busy": "2023-06-30T06:31:10.810833Z",
     "iopub.status.idle": "2023-06-30T06:31:10.824157Z",
     "shell.execute_reply": "2023-06-30T06:31:10.823023Z"
    },
    "papermill": {
     "duration": 0.053118,
     "end_time": "2023-06-30T06:31:10.827114",
     "exception": false,
     "start_time": "2023-06-30T06:31:10.773996",
     "status": "completed"
    },
    "tags": []
   },
   "outputs": [
    {
     "data": {
      "text/plain": [
       "torch.Size([1, 3, 3])"
      ]
     },
     "execution_count": 15,
     "metadata": {},
     "output_type": "execute_result"
    }
   ],
   "source": [
    "TENSOR.shape"
   ]
  },
  {
   "cell_type": "code",
   "execution_count": 16,
   "id": "0b2ae21e",
   "metadata": {
    "execution": {
     "iopub.execute_input": "2023-06-30T06:31:10.912108Z",
     "iopub.status.busy": "2023-06-30T06:31:10.911665Z",
     "iopub.status.idle": "2023-06-30T06:31:10.918387Z",
     "shell.execute_reply": "2023-06-30T06:31:10.917593Z"
    },
    "papermill": {
     "duration": 0.050962,
     "end_time": "2023-06-30T06:31:10.923363",
     "exception": false,
     "start_time": "2023-06-30T06:31:10.872401",
     "status": "completed"
    },
    "tags": []
   },
   "outputs": [
    {
     "data": {
      "text/plain": [
       "tensor([[1, 2, 3],\n",
       "        [5, 6, 6],\n",
       "        [7, 8, 9]])"
      ]
     },
     "execution_count": 16,
     "metadata": {},
     "output_type": "execute_result"
    }
   ],
   "source": [
    "TENSOR[0]"
   ]
  },
  {
   "cell_type": "code",
   "execution_count": 17,
   "id": "c5596e45",
   "metadata": {
    "execution": {
     "iopub.execute_input": "2023-06-30T06:31:11.004771Z",
     "iopub.status.busy": "2023-06-30T06:31:11.004276Z",
     "iopub.status.idle": "2023-06-30T06:31:11.015812Z",
     "shell.execute_reply": "2023-06-30T06:31:11.015044Z"
    },
    "papermill": {
     "duration": 0.053112,
     "end_time": "2023-06-30T06:31:11.019242",
     "exception": false,
     "start_time": "2023-06-30T06:31:10.966130",
     "status": "completed"
    },
    "tags": []
   },
   "outputs": [
    {
     "data": {
      "text/plain": [
       "tensor([[[1, 2, 3],\n",
       "         [4, 5, 6],\n",
       "         [7, 8, 9]],\n",
       "\n",
       "        [[1, 2, 3],\n",
       "         [4, 5, 6],\n",
       "         [7, 8, 9]]])"
      ]
     },
     "execution_count": 17,
     "metadata": {},
     "output_type": "execute_result"
    }
   ],
   "source": [
    "# Practice\n",
    "TENSOR1 = torch.tensor([[[1,2,3],\n",
    "                      [4,5,6],\n",
    "                      [7,8,9]],\n",
    "                     [[1,2,3],\n",
    "                      [4,5,6],\n",
    "                      [7,8,9]]])\n",
    "TENSOR1"
   ]
  },
  {
   "cell_type": "code",
   "execution_count": 18,
   "id": "de7787c6",
   "metadata": {
    "execution": {
     "iopub.execute_input": "2023-06-30T06:31:11.099225Z",
     "iopub.status.busy": "2023-06-30T06:31:11.098767Z",
     "iopub.status.idle": "2023-06-30T06:31:11.104651Z",
     "shell.execute_reply": "2023-06-30T06:31:11.103876Z"
    },
    "papermill": {
     "duration": 0.051523,
     "end_time": "2023-06-30T06:31:11.109497",
     "exception": false,
     "start_time": "2023-06-30T06:31:11.057974",
     "status": "completed"
    },
    "tags": []
   },
   "outputs": [
    {
     "data": {
      "text/plain": [
       "3"
      ]
     },
     "execution_count": 18,
     "metadata": {},
     "output_type": "execute_result"
    }
   ],
   "source": [
    "TENSOR1.ndim"
   ]
  },
  {
   "cell_type": "code",
   "execution_count": 19,
   "id": "bf670af4",
   "metadata": {
    "execution": {
     "iopub.execute_input": "2023-06-30T06:31:11.189478Z",
     "iopub.status.busy": "2023-06-30T06:31:11.189023Z",
     "iopub.status.idle": "2023-06-30T06:31:11.195223Z",
     "shell.execute_reply": "2023-06-30T06:31:11.194416Z"
    },
    "papermill": {
     "duration": 0.053335,
     "end_time": "2023-06-30T06:31:11.200398",
     "exception": false,
     "start_time": "2023-06-30T06:31:11.147063",
     "status": "completed"
    },
    "tags": []
   },
   "outputs": [
    {
     "data": {
      "text/plain": [
       "torch.Size([2, 3, 3])"
      ]
     },
     "execution_count": 19,
     "metadata": {},
     "output_type": "execute_result"
    }
   ],
   "source": [
    "TENSOR1.shape"
   ]
  },
  {
   "cell_type": "markdown",
   "id": "c53508d6",
   "metadata": {
    "execution": {
     "iopub.execute_input": "2023-06-25T15:53:52.605155Z",
     "iopub.status.busy": "2023-06-25T15:53:52.604740Z",
     "iopub.status.idle": "2023-06-25T15:53:52.609815Z",
     "shell.execute_reply": "2023-06-25T15:53:52.608929Z",
     "shell.execute_reply.started": "2023-06-25T15:53:52.605124Z"
    },
    "papermill": {
     "duration": 0.038694,
     "end_time": "2023-06-30T06:31:11.279062",
     "exception": false,
     "start_time": "2023-06-30T06:31:11.240368",
     "status": "completed"
    },
    "tags": []
   },
   "source": [
    "### Random Tensor\n",
    "\n",
    "Why Random Nos. ?\n",
    "\n",
    "`Start with Random Numbers -> Look at Data -> Update Random Numbers -> Look at Data -> Update Random Numbers`\n",
    "\n",
    "ref -\n",
    "* https://pytorch.org/docs/stable/generated/torch.rand.html"
   ]
  },
  {
   "cell_type": "code",
   "execution_count": 20,
   "id": "9b541d14",
   "metadata": {
    "execution": {
     "iopub.execute_input": "2023-06-30T06:31:11.356848Z",
     "iopub.status.busy": "2023-06-30T06:31:11.356452Z",
     "iopub.status.idle": "2023-06-30T06:31:11.422255Z",
     "shell.execute_reply": "2023-06-30T06:31:11.421400Z"
    },
    "papermill": {
     "duration": 0.107605,
     "end_time": "2023-06-30T06:31:11.424803",
     "exception": false,
     "start_time": "2023-06-30T06:31:11.317198",
     "status": "completed"
    },
    "tags": []
   },
   "outputs": [
    {
     "data": {
      "text/plain": [
       "tensor([[[0.8174, 0.2247, 0.8011],\n",
       "         [0.8875, 0.7461, 0.9288],\n",
       "         [0.9043, 0.5254, 0.4737],\n",
       "         [0.9872, 0.5790, 0.0394]],\n",
       "\n",
       "        [[0.7965, 0.3737, 0.6346],\n",
       "         [0.3589, 0.9678, 0.2548],\n",
       "         [0.0032, 0.0420, 0.7115],\n",
       "         [0.7506, 0.0929, 0.0287]],\n",
       "\n",
       "        [[0.8208, 0.1544, 0.5237],\n",
       "         [0.3802, 0.3532, 0.2310],\n",
       "         [0.2047, 0.1271, 0.4245],\n",
       "         [0.6660, 0.5905, 0.7703]]])"
      ]
     },
     "execution_count": 20,
     "metadata": {},
     "output_type": "execute_result"
    }
   ],
   "source": [
    "# Create a random tensor of size(3,4)\n",
    "random_tensor = torch.rand(3,4,3)\n",
    "random_tensor"
   ]
  },
  {
   "cell_type": "code",
   "execution_count": 21,
   "id": "b6fa1096",
   "metadata": {
    "execution": {
     "iopub.execute_input": "2023-06-30T06:31:11.505401Z",
     "iopub.status.busy": "2023-06-30T06:31:11.505028Z",
     "iopub.status.idle": "2023-06-30T06:31:11.510783Z",
     "shell.execute_reply": "2023-06-30T06:31:11.510034Z"
    },
    "papermill": {
     "duration": 0.052091,
     "end_time": "2023-06-30T06:31:11.516482",
     "exception": false,
     "start_time": "2023-06-30T06:31:11.464391",
     "status": "completed"
    },
    "tags": []
   },
   "outputs": [
    {
     "data": {
      "text/plain": [
       "3"
      ]
     },
     "execution_count": 21,
     "metadata": {},
     "output_type": "execute_result"
    }
   ],
   "source": [
    "random_tensor.ndim"
   ]
  },
  {
   "cell_type": "code",
   "execution_count": 22,
   "id": "dcf8dc81",
   "metadata": {
    "execution": {
     "iopub.execute_input": "2023-06-30T06:31:11.595875Z",
     "iopub.status.busy": "2023-06-30T06:31:11.595523Z",
     "iopub.status.idle": "2023-06-30T06:31:11.601597Z",
     "shell.execute_reply": "2023-06-30T06:31:11.600769Z"
    },
    "papermill": {
     "duration": 0.052562,
     "end_time": "2023-06-30T06:31:11.607174",
     "exception": false,
     "start_time": "2023-06-30T06:31:11.554612",
     "status": "completed"
    },
    "tags": []
   },
   "outputs": [
    {
     "data": {
      "text/plain": [
       "torch.Size([3, 4, 3])"
      ]
     },
     "execution_count": 22,
     "metadata": {},
     "output_type": "execute_result"
    }
   ],
   "source": [
    "random_tensor.shape"
   ]
  },
  {
   "cell_type": "code",
   "execution_count": 23,
   "id": "e5cc2b77",
   "metadata": {
    "execution": {
     "iopub.execute_input": "2023-06-30T06:31:11.677057Z",
     "iopub.status.busy": "2023-06-30T06:31:11.676729Z",
     "iopub.status.idle": "2023-06-30T06:31:11.689940Z",
     "shell.execute_reply": "2023-06-30T06:31:11.688960Z"
    },
    "papermill": {
     "duration": 0.045142,
     "end_time": "2023-06-30T06:31:11.692021",
     "exception": false,
     "start_time": "2023-06-30T06:31:11.646879",
     "status": "completed"
    },
    "scrolled": true,
    "tags": []
   },
   "outputs": [
    {
     "data": {
      "text/plain": [
       "tensor([[[0.5548, 0.5921, 0.7105],\n",
       "         [0.9293, 0.6031, 0.6024],\n",
       "         [0.0280, 0.7336, 0.7960],\n",
       "         ...,\n",
       "         [0.0721, 0.9429, 0.5363],\n",
       "         [0.3501, 0.4054, 0.1431],\n",
       "         [0.0507, 0.3693, 0.2882]],\n",
       "\n",
       "        [[0.4275, 0.0408, 0.7042],\n",
       "         [0.0495, 0.9451, 0.9507],\n",
       "         [0.0979, 0.3497, 0.1763],\n",
       "         ...,\n",
       "         [0.5056, 0.7165, 0.1319],\n",
       "         [0.4683, 0.4372, 0.7639],\n",
       "         [0.0703, 0.4239, 0.9559]],\n",
       "\n",
       "        [[0.3367, 0.3704, 0.6721],\n",
       "         [0.5325, 0.5674, 0.2329],\n",
       "         [0.9566, 0.3928, 0.3300],\n",
       "         ...,\n",
       "         [0.7953, 0.2616, 0.8221],\n",
       "         [0.4730, 0.6632, 0.1812],\n",
       "         [0.9272, 0.2476, 0.8473]],\n",
       "\n",
       "        ...,\n",
       "\n",
       "        [[0.1217, 0.4975, 0.0947],\n",
       "         [0.1776, 0.8741, 0.8933],\n",
       "         [0.9136, 0.9194, 0.8499],\n",
       "         ...,\n",
       "         [0.8028, 0.2804, 0.8025],\n",
       "         [0.8193, 0.9829, 0.0322],\n",
       "         [0.6462, 0.8393, 0.8297]],\n",
       "\n",
       "        [[0.0667, 0.5959, 0.6406],\n",
       "         [0.5797, 0.6135, 0.9454],\n",
       "         [0.3249, 0.5110, 0.0476],\n",
       "         ...,\n",
       "         [0.0976, 0.2966, 0.2152],\n",
       "         [0.8234, 0.8314, 0.1862],\n",
       "         [0.3752, 0.9373, 0.3370]],\n",
       "\n",
       "        [[0.9787, 0.6905, 0.6650],\n",
       "         [0.8053, 0.6760, 0.7161],\n",
       "         [0.8551, 0.3646, 0.4712],\n",
       "         ...,\n",
       "         [0.9356, 0.2238, 0.0014],\n",
       "         [0.7984, 0.7508, 0.2364],\n",
       "         [0.7029, 0.9674, 0.2509]]])"
      ]
     },
     "execution_count": 23,
     "metadata": {},
     "output_type": "execute_result"
    }
   ],
   "source": [
    "# Creating Random tensor similar to Image Shape\n",
    "random_image_size_tensor = torch.rand(size=[224,224,3],) # height, width , color channels\n",
    "random_image_size_tensor"
   ]
  },
  {
   "cell_type": "code",
   "execution_count": 24,
   "id": "50fffa12",
   "metadata": {
    "execution": {
     "iopub.execute_input": "2023-06-30T06:31:11.751360Z",
     "iopub.status.busy": "2023-06-30T06:31:11.750591Z",
     "iopub.status.idle": "2023-06-30T06:31:11.756721Z",
     "shell.execute_reply": "2023-06-30T06:31:11.755764Z"
    },
    "papermill": {
     "duration": 0.037431,
     "end_time": "2023-06-30T06:31:11.758669",
     "exception": false,
     "start_time": "2023-06-30T06:31:11.721238",
     "status": "completed"
    },
    "tags": []
   },
   "outputs": [
    {
     "data": {
      "text/plain": [
       "3"
      ]
     },
     "execution_count": 24,
     "metadata": {},
     "output_type": "execute_result"
    }
   ],
   "source": [
    "random_image_size_tensor.ndim"
   ]
  },
  {
   "cell_type": "code",
   "execution_count": 25,
   "id": "0ae5dde3",
   "metadata": {
    "execution": {
     "iopub.execute_input": "2023-06-30T06:31:11.816815Z",
     "iopub.status.busy": "2023-06-30T06:31:11.816006Z",
     "iopub.status.idle": "2023-06-30T06:31:11.822257Z",
     "shell.execute_reply": "2023-06-30T06:31:11.821296Z"
    },
    "papermill": {
     "duration": 0.038048,
     "end_time": "2023-06-30T06:31:11.824293",
     "exception": false,
     "start_time": "2023-06-30T06:31:11.786245",
     "status": "completed"
    },
    "tags": []
   },
   "outputs": [
    {
     "data": {
      "text/plain": [
       "torch.Size([224, 224, 3])"
      ]
     },
     "execution_count": 25,
     "metadata": {},
     "output_type": "execute_result"
    }
   ],
   "source": [
    "random_image_size_tensor.shape"
   ]
  },
  {
   "cell_type": "markdown",
   "id": "e2a5db34",
   "metadata": {
    "papermill": {
     "duration": 0.027613,
     "end_time": "2023-06-30T06:31:11.881140",
     "exception": false,
     "start_time": "2023-06-30T06:31:11.853527",
     "status": "completed"
    },
    "tags": []
   },
   "source": [
    "### Zeroes and Ones"
   ]
  },
  {
   "cell_type": "code",
   "execution_count": 26,
   "id": "58ad9948",
   "metadata": {
    "execution": {
     "iopub.execute_input": "2023-06-30T06:31:11.938032Z",
     "iopub.status.busy": "2023-06-30T06:31:11.937202Z",
     "iopub.status.idle": "2023-06-30T06:31:11.946950Z",
     "shell.execute_reply": "2023-06-30T06:31:11.945947Z"
    },
    "papermill": {
     "duration": 0.040261,
     "end_time": "2023-06-30T06:31:11.949002",
     "exception": false,
     "start_time": "2023-06-30T06:31:11.908741",
     "status": "completed"
    },
    "tags": []
   },
   "outputs": [
    {
     "data": {
      "text/plain": [
       "tensor([[0., 0., 0., 0.],\n",
       "        [0., 0., 0., 0.],\n",
       "        [0., 0., 0., 0.]])"
      ]
     },
     "execution_count": 26,
     "metadata": {},
     "output_type": "execute_result"
    }
   ],
   "source": [
    "# Create a tenor of all zeros\n",
    "zeros = torch.zeros(3,4)\n",
    "zeros"
   ]
  },
  {
   "cell_type": "code",
   "execution_count": 27,
   "id": "f8d97ca9",
   "metadata": {
    "execution": {
     "iopub.execute_input": "2023-06-30T06:31:12.010597Z",
     "iopub.status.busy": "2023-06-30T06:31:12.009752Z",
     "iopub.status.idle": "2023-06-30T06:31:12.016951Z",
     "shell.execute_reply": "2023-06-30T06:31:12.015980Z"
    },
    "papermill": {
     "duration": 0.040848,
     "end_time": "2023-06-30T06:31:12.020625",
     "exception": false,
     "start_time": "2023-06-30T06:31:11.979777",
     "status": "completed"
    },
    "tags": []
   },
   "outputs": [
    {
     "data": {
      "text/plain": [
       "tensor([[0., 0., 0., 0.],\n",
       "        [0., 0., 0., 0.],\n",
       "        [0., 0., 0., 0.]])"
      ]
     },
     "execution_count": 27,
     "metadata": {},
     "output_type": "execute_result"
    }
   ],
   "source": [
    "zeros * torch.rand(3,4)"
   ]
  },
  {
   "cell_type": "code",
   "execution_count": 28,
   "id": "267cf073",
   "metadata": {
    "execution": {
     "iopub.execute_input": "2023-06-30T06:31:12.083885Z",
     "iopub.status.busy": "2023-06-30T06:31:12.083002Z",
     "iopub.status.idle": "2023-06-30T06:31:12.091389Z",
     "shell.execute_reply": "2023-06-30T06:31:12.090415Z"
    },
    "papermill": {
     "duration": 0.041101,
     "end_time": "2023-06-30T06:31:12.093368",
     "exception": false,
     "start_time": "2023-06-30T06:31:12.052267",
     "status": "completed"
    },
    "tags": []
   },
   "outputs": [
    {
     "data": {
      "text/plain": [
       "tensor([[1, 1, 1, 1],\n",
       "        [1, 1, 1, 1],\n",
       "        [1, 1, 1, 1]])"
      ]
     },
     "execution_count": 28,
     "metadata": {},
     "output_type": "execute_result"
    }
   ],
   "source": [
    "# Create tensor of all ones\n",
    "ones = torch.ones(size=(3,4),dtype=int)\n",
    "ones"
   ]
  },
  {
   "cell_type": "code",
   "execution_count": 29,
   "id": "72c91f1a",
   "metadata": {
    "execution": {
     "iopub.execute_input": "2023-06-30T06:31:12.152825Z",
     "iopub.status.busy": "2023-06-30T06:31:12.152007Z",
     "iopub.status.idle": "2023-06-30T06:31:12.158394Z",
     "shell.execute_reply": "2023-06-30T06:31:12.157321Z"
    },
    "papermill": {
     "duration": 0.038016,
     "end_time": "2023-06-30T06:31:12.160397",
     "exception": false,
     "start_time": "2023-06-30T06:31:12.122381",
     "status": "completed"
    },
    "tags": []
   },
   "outputs": [
    {
     "data": {
      "text/plain": [
       "torch.int64"
      ]
     },
     "execution_count": 29,
     "metadata": {},
     "output_type": "execute_result"
    }
   ],
   "source": [
    "ones.dtype"
   ]
  },
  {
   "cell_type": "markdown",
   "id": "98a42884",
   "metadata": {
    "execution": {
     "iopub.execute_input": "2023-06-25T16:24:23.852212Z",
     "iopub.status.busy": "2023-06-25T16:24:23.851772Z",
     "iopub.status.idle": "2023-06-25T16:24:23.857025Z",
     "shell.execute_reply": "2023-06-25T16:24:23.856069Z",
     "shell.execute_reply.started": "2023-06-25T16:24:23.852179Z"
    },
    "papermill": {
     "duration": 0.029629,
     "end_time": "2023-06-30T06:31:12.220093",
     "exception": false,
     "start_time": "2023-06-30T06:31:12.190464",
     "status": "completed"
    },
    "tags": []
   },
   "source": [
    "### Create a range of tensors and tensors-like\n",
    "\n",
    "ref -\n",
    "* https://pytorch.org/docs/stable/generated/torch.arange.html"
   ]
  },
  {
   "cell_type": "code",
   "execution_count": 30,
   "id": "9cd13bcf",
   "metadata": {
    "execution": {
     "iopub.execute_input": "2023-06-30T06:31:12.281150Z",
     "iopub.status.busy": "2023-06-30T06:31:12.280273Z",
     "iopub.status.idle": "2023-06-30T06:31:12.291222Z",
     "shell.execute_reply": "2023-06-30T06:31:12.290290Z"
    },
    "papermill": {
     "duration": 0.043787,
     "end_time": "2023-06-30T06:31:12.293253",
     "exception": false,
     "start_time": "2023-06-30T06:31:12.249466",
     "status": "completed"
    },
    "tags": []
   },
   "outputs": [
    {
     "data": {
      "text/plain": [
       "tensor([ 1,  2,  3,  4,  5,  6,  7,  8,  9, 10])"
      ]
     },
     "execution_count": 30,
     "metadata": {},
     "output_type": "execute_result"
    }
   ],
   "source": [
    "# Use torch.arange()\n",
    "one_to_ten = torch.arange(start=1, end=11, step=1)\n",
    "one_to_ten"
   ]
  },
  {
   "cell_type": "code",
   "execution_count": 31,
   "id": "e773833d",
   "metadata": {
    "execution": {
     "iopub.execute_input": "2023-06-30T06:31:12.354397Z",
     "iopub.status.busy": "2023-06-30T06:31:12.353618Z",
     "iopub.status.idle": "2023-06-30T06:31:12.360565Z",
     "shell.execute_reply": "2023-06-30T06:31:12.359590Z"
    },
    "papermill": {
     "duration": 0.039437,
     "end_time": "2023-06-30T06:31:12.362537",
     "exception": false,
     "start_time": "2023-06-30T06:31:12.323100",
     "status": "completed"
    },
    "tags": []
   },
   "outputs": [
    {
     "data": {
      "text/plain": [
       "tensor([0, 0, 0, 0, 0, 0, 0, 0, 0, 0])"
      ]
     },
     "execution_count": 31,
     "metadata": {},
     "output_type": "execute_result"
    }
   ],
   "source": [
    "# Create tesnors like\n",
    "ten_zeros = torch.zeros_like(input=one_to_ten)\n",
    "ten_zeros"
   ]
  },
  {
   "cell_type": "markdown",
   "id": "bc9ba292",
   "metadata": {
    "papermill": {
     "duration": 0.028342,
     "end_time": "2023-06-30T06:31:12.420756",
     "exception": false,
     "start_time": "2023-06-30T06:31:12.392414",
     "status": "completed"
    },
    "tags": []
   },
   "source": [
    "### Tensor datatypes\n",
    "\n",
    "Tensor datatypes is one of the 3 big errors arrive in Pytorch\n",
    "\n",
    "1. Tensors not right datatype\n",
    "2. Tensors not right shape\n",
    "3. Tensors not no right device\n",
    "\n",
    "ref -\n",
    "* https://pytorch.org/docs/stable/tensors.html"
   ]
  },
  {
   "cell_type": "code",
   "execution_count": 32,
   "id": "ef03150b",
   "metadata": {
    "execution": {
     "iopub.execute_input": "2023-06-30T06:31:12.482753Z",
     "iopub.status.busy": "2023-06-30T06:31:12.481701Z",
     "iopub.status.idle": "2023-06-30T06:31:12.489888Z",
     "shell.execute_reply": "2023-06-30T06:31:12.488975Z"
    },
    "papermill": {
     "duration": 0.041281,
     "end_time": "2023-06-30T06:31:12.491854",
     "exception": false,
     "start_time": "2023-06-30T06:31:12.450573",
     "status": "completed"
    },
    "tags": []
   },
   "outputs": [
    {
     "data": {
      "text/plain": [
       "tensor([3., 6., 9.])"
      ]
     },
     "execution_count": 32,
     "metadata": {},
     "output_type": "execute_result"
    }
   ],
   "source": [
    "# Float 32 tensor\n",
    "float_32_tensor = torch.tensor([3.0,6.0,9.0],\n",
    "                             dtype=None, # what datatype of tensor (float32 etc)\n",
    "                             device=None, #'cpu or gpu -> cuda'\n",
    "                             requires_grad=False) # whether to track gradient\n",
    "float_32_tensor"
   ]
  },
  {
   "cell_type": "code",
   "execution_count": 33,
   "id": "28cf9624",
   "metadata": {
    "execution": {
     "iopub.execute_input": "2023-06-30T06:31:12.552403Z",
     "iopub.status.busy": "2023-06-30T06:31:12.551544Z",
     "iopub.status.idle": "2023-06-30T06:31:12.557963Z",
     "shell.execute_reply": "2023-06-30T06:31:12.556873Z"
    },
    "papermill": {
     "duration": 0.038613,
     "end_time": "2023-06-30T06:31:12.559939",
     "exception": false,
     "start_time": "2023-06-30T06:31:12.521326",
     "status": "completed"
    },
    "tags": []
   },
   "outputs": [
    {
     "data": {
      "text/plain": [
       "torch.float32"
      ]
     },
     "execution_count": 33,
     "metadata": {},
     "output_type": "execute_result"
    }
   ],
   "source": [
    "float_32_tensor.dtype"
   ]
  },
  {
   "cell_type": "code",
   "execution_count": 34,
   "id": "3396722e",
   "metadata": {
    "execution": {
     "iopub.execute_input": "2023-06-30T06:31:12.621685Z",
     "iopub.status.busy": "2023-06-30T06:31:12.620810Z",
     "iopub.status.idle": "2023-06-30T06:31:12.630189Z",
     "shell.execute_reply": "2023-06-30T06:31:12.629377Z"
    },
    "papermill": {
     "duration": 0.042166,
     "end_time": "2023-06-30T06:31:12.632175",
     "exception": false,
     "start_time": "2023-06-30T06:31:12.590009",
     "status": "completed"
    },
    "tags": []
   },
   "outputs": [],
   "source": [
    "float_16_tensor = float_32_tensor.half()\n",
    "# or\n",
    "float_16_tensor = float_32_tensor.type(torch.float) # torch.half"
   ]
  },
  {
   "cell_type": "code",
   "execution_count": 35,
   "id": "9ed7249f",
   "metadata": {
    "execution": {
     "iopub.execute_input": "2023-06-30T06:31:12.696154Z",
     "iopub.status.busy": "2023-06-30T06:31:12.694712Z",
     "iopub.status.idle": "2023-06-30T06:31:12.702062Z",
     "shell.execute_reply": "2023-06-30T06:31:12.701149Z"
    },
    "papermill": {
     "duration": 0.040947,
     "end_time": "2023-06-30T06:31:12.704004",
     "exception": false,
     "start_time": "2023-06-30T06:31:12.663057",
     "status": "completed"
    },
    "tags": []
   },
   "outputs": [
    {
     "data": {
      "text/plain": [
       "tensor([3., 6., 9.])"
      ]
     },
     "execution_count": 35,
     "metadata": {},
     "output_type": "execute_result"
    }
   ],
   "source": [
    "float_16_tensor"
   ]
  },
  {
   "cell_type": "code",
   "execution_count": 36,
   "id": "1cd0f4d9",
   "metadata": {
    "execution": {
     "iopub.execute_input": "2023-06-30T06:31:12.766475Z",
     "iopub.status.busy": "2023-06-30T06:31:12.766161Z",
     "iopub.status.idle": "2023-06-30T06:31:12.772600Z",
     "shell.execute_reply": "2023-06-30T06:31:12.771627Z"
    },
    "papermill": {
     "duration": 0.04057,
     "end_time": "2023-06-30T06:31:12.774689",
     "exception": false,
     "start_time": "2023-06-30T06:31:12.734119",
     "status": "completed"
    },
    "tags": []
   },
   "outputs": [
    {
     "data": {
      "text/plain": [
       "torch.float32"
      ]
     },
     "execution_count": 36,
     "metadata": {},
     "output_type": "execute_result"
    }
   ],
   "source": [
    "(float_16_tensor * float_32_tensor).dtype"
   ]
  },
  {
   "cell_type": "code",
   "execution_count": 37,
   "id": "9e083d91",
   "metadata": {
    "execution": {
     "iopub.execute_input": "2023-06-30T06:31:12.838133Z",
     "iopub.status.busy": "2023-06-30T06:31:12.837267Z",
     "iopub.status.idle": "2023-06-30T06:31:12.842228Z",
     "shell.execute_reply": "2023-06-30T06:31:12.841449Z"
    },
    "papermill": {
     "duration": 0.039001,
     "end_time": "2023-06-30T06:31:12.844301",
     "exception": false,
     "start_time": "2023-06-30T06:31:12.805300",
     "status": "completed"
    },
    "tags": []
   },
   "outputs": [],
   "source": [
    "int_32_tensor = torch.tensor([3,4,5],\n",
    "                             dtype=torch.int32)"
   ]
  },
  {
   "cell_type": "code",
   "execution_count": 38,
   "id": "9d49978c",
   "metadata": {
    "execution": {
     "iopub.execute_input": "2023-06-30T06:31:12.905300Z",
     "iopub.status.busy": "2023-06-30T06:31:12.904532Z",
     "iopub.status.idle": "2023-06-30T06:31:12.912634Z",
     "shell.execute_reply": "2023-06-30T06:31:12.911716Z"
    },
    "papermill": {
     "duration": 0.040535,
     "end_time": "2023-06-30T06:31:12.914535",
     "exception": false,
     "start_time": "2023-06-30T06:31:12.874000",
     "status": "completed"
    },
    "tags": []
   },
   "outputs": [
    {
     "data": {
      "text/plain": [
       "tensor([ 9., 24., 45.])"
      ]
     },
     "execution_count": 38,
     "metadata": {},
     "output_type": "execute_result"
    }
   ],
   "source": [
    "float_16_tensor * int_32_tensor"
   ]
  },
  {
   "cell_type": "markdown",
   "id": "cc51f96c",
   "metadata": {
    "papermill": {
     "duration": 0.033659,
     "end_time": "2023-06-30T06:31:12.977645",
     "exception": false,
     "start_time": "2023-06-30T06:31:12.943986",
     "status": "completed"
    },
    "tags": []
   },
   "source": [
    "### Getting info from tensors (tensor attributes)\n",
    "1. tensor not datatype - to check use tensor.dtype\n",
    "2. tensor not right shape - to check use tensor.shape or tensor.size()\n",
    "3. tensor not on right device - to check use tensor.device"
   ]
  },
  {
   "cell_type": "code",
   "execution_count": 39,
   "id": "5756a761",
   "metadata": {
    "execution": {
     "iopub.execute_input": "2023-06-30T06:31:13.039298Z",
     "iopub.status.busy": "2023-06-30T06:31:13.038798Z",
     "iopub.status.idle": "2023-06-30T06:31:13.045997Z",
     "shell.execute_reply": "2023-06-30T06:31:13.045087Z"
    },
    "papermill": {
     "duration": 0.041102,
     "end_time": "2023-06-30T06:31:13.048057",
     "exception": false,
     "start_time": "2023-06-30T06:31:13.006955",
     "status": "completed"
    },
    "tags": []
   },
   "outputs": [
    {
     "data": {
      "text/plain": [
       "tensor([[0.5281, 0.0565, 0.9183, 0.2519],\n",
       "        [0.2383, 0.0506, 0.9186, 0.8237],\n",
       "        [0.3100, 0.4220, 0.9015, 0.6680]])"
      ]
     },
     "execution_count": 39,
     "metadata": {},
     "output_type": "execute_result"
    }
   ],
   "source": [
    "# Create a tensor\n",
    "some_tensor = torch.rand(3,4)\n",
    "some_tensor"
   ]
  },
  {
   "cell_type": "code",
   "execution_count": 40,
   "id": "96682391",
   "metadata": {
    "execution": {
     "iopub.execute_input": "2023-06-30T06:31:13.110260Z",
     "iopub.status.busy": "2023-06-30T06:31:13.109910Z",
     "iopub.status.idle": "2023-06-30T06:31:13.115115Z",
     "shell.execute_reply": "2023-06-30T06:31:13.114197Z"
    },
    "papermill": {
     "duration": 0.038773,
     "end_time": "2023-06-30T06:31:13.117913",
     "exception": false,
     "start_time": "2023-06-30T06:31:13.079140",
     "status": "completed"
    },
    "tags": []
   },
   "outputs": [
    {
     "name": "stdout",
     "output_type": "stream",
     "text": [
      "Tensor Datatype : torch.float32 Tensor Shape : torch.Size([3, 4]) Tensor Device : cpu\n"
     ]
    }
   ],
   "source": [
    "print(\"Tensor Datatype :\",some_tensor.dtype,\n",
    "\"Tensor Shape :\",some_tensor.shape,\n",
    "\"Tensor Device :\",some_tensor.device)"
   ]
  },
  {
   "cell_type": "markdown",
   "id": "f32f0c0d",
   "metadata": {
    "execution": {
     "iopub.execute_input": "2023-06-26T15:31:18.518353Z",
     "iopub.status.busy": "2023-06-26T15:31:18.517972Z",
     "iopub.status.idle": "2023-06-26T15:31:18.526666Z",
     "shell.execute_reply": "2023-06-26T15:31:18.525296Z",
     "shell.execute_reply.started": "2023-06-26T15:31:18.518326Z"
    },
    "papermill": {
     "duration": 0.02993,
     "end_time": "2023-06-30T06:31:13.177558",
     "exception": false,
     "start_time": "2023-06-30T06:31:13.147628",
     "status": "completed"
    },
    "tags": []
   },
   "source": [
    "### Manipulating Tensors (Tensor Operations)\n",
    "1. Addition\n",
    "2. Subtraction\n",
    "3. Multiplication (element-wise)\n",
    "4. Division\n",
    "5. Matrix Multiplication"
   ]
  },
  {
   "cell_type": "code",
   "execution_count": 41,
   "id": "3e4c20de",
   "metadata": {
    "execution": {
     "iopub.execute_input": "2023-06-30T06:31:13.241154Z",
     "iopub.status.busy": "2023-06-30T06:31:13.240513Z",
     "iopub.status.idle": "2023-06-30T06:31:13.249966Z",
     "shell.execute_reply": "2023-06-30T06:31:13.248846Z"
    },
    "papermill": {
     "duration": 0.042951,
     "end_time": "2023-06-30T06:31:13.252025",
     "exception": false,
     "start_time": "2023-06-30T06:31:13.209074",
     "status": "completed"
    },
    "tags": []
   },
   "outputs": [
    {
     "data": {
      "text/plain": [
       "tensor([11, 12, 13])"
      ]
     },
     "execution_count": 41,
     "metadata": {},
     "output_type": "execute_result"
    }
   ],
   "source": [
    "# Create a tensor and add 10\n",
    "tensor = torch.tensor([1,2,3])\n",
    "tensor + 10"
   ]
  },
  {
   "cell_type": "code",
   "execution_count": 42,
   "id": "0955066d",
   "metadata": {
    "execution": {
     "iopub.execute_input": "2023-06-30T06:31:13.313167Z",
     "iopub.status.busy": "2023-06-30T06:31:13.312877Z",
     "iopub.status.idle": "2023-06-30T06:31:13.320853Z",
     "shell.execute_reply": "2023-06-30T06:31:13.319979Z"
    },
    "papermill": {
     "duration": 0.040389,
     "end_time": "2023-06-30T06:31:13.322840",
     "exception": false,
     "start_time": "2023-06-30T06:31:13.282451",
     "status": "completed"
    },
    "tags": []
   },
   "outputs": [
    {
     "data": {
      "text/plain": [
       "tensor([10, 20, 30])"
      ]
     },
     "execution_count": 42,
     "metadata": {},
     "output_type": "execute_result"
    }
   ],
   "source": [
    "# multiply\n",
    "tensor * 10"
   ]
  },
  {
   "cell_type": "code",
   "execution_count": 43,
   "id": "76d4cfc2",
   "metadata": {
    "execution": {
     "iopub.execute_input": "2023-06-30T06:31:13.384305Z",
     "iopub.status.busy": "2023-06-30T06:31:13.383353Z",
     "iopub.status.idle": "2023-06-30T06:31:13.392578Z",
     "shell.execute_reply": "2023-06-30T06:31:13.391673Z"
    },
    "papermill": {
     "duration": 0.042049,
     "end_time": "2023-06-30T06:31:13.394495",
     "exception": false,
     "start_time": "2023-06-30T06:31:13.352446",
     "status": "completed"
    },
    "tags": []
   },
   "outputs": [
    {
     "data": {
      "text/plain": [
       "tensor([-9, -8, -7])"
      ]
     },
     "execution_count": 43,
     "metadata": {},
     "output_type": "execute_result"
    }
   ],
   "source": [
    "# subtract 10\n",
    "tensor - 10"
   ]
  },
  {
   "cell_type": "code",
   "execution_count": 44,
   "id": "f33ecae5",
   "metadata": {
    "execution": {
     "iopub.execute_input": "2023-06-30T06:31:13.459237Z",
     "iopub.status.busy": "2023-06-30T06:31:13.458621Z",
     "iopub.status.idle": "2023-06-30T06:31:13.465551Z",
     "shell.execute_reply": "2023-06-30T06:31:13.464684Z"
    },
    "papermill": {
     "duration": 0.042083,
     "end_time": "2023-06-30T06:31:13.467578",
     "exception": false,
     "start_time": "2023-06-30T06:31:13.425495",
     "status": "completed"
    },
    "tags": []
   },
   "outputs": [
    {
     "data": {
      "text/plain": [
       "tensor([10, 20, 30])"
      ]
     },
     "execution_count": 44,
     "metadata": {},
     "output_type": "execute_result"
    }
   ],
   "source": [
    "# multiply using tensor function\n",
    "torch.mul(tensor,10)"
   ]
  },
  {
   "cell_type": "markdown",
   "id": "9a60bbb2",
   "metadata": {
    "papermill": {
     "duration": 0.030083,
     "end_time": "2023-06-30T06:31:13.527295",
     "exception": false,
     "start_time": "2023-06-30T06:31:13.497212",
     "status": "completed"
    },
    "tags": []
   },
   "source": [
    "### Matrix Multiplication\n",
    "\n",
    "Two Main ways to multiply in tensors\n",
    "\n",
    "1. Element-wise multipication or Cross Multiplication\n",
    "2. Matrix multiplication or Dot Product\n",
    "\n",
    "ref -\n",
    "* https://www.mathsisfun.com/algebra/matrix-multiplying.html\n",
    "\n",
    "Two Rules must Follow:\n",
    "1. The **Inner Dimension** must match:\n",
    "* '(3,2) @ (3,2)' wont work\n",
    "* '(3,2) @ (2,3)' will work\n",
    "* '(2,3) @ (3,2)' will work\n",
    "2. Resulting matrix has dimension of **Outer Dimension**\n",
    "* (2,3) @ (3,2) -> (2,2)\n",
    "* (3,2) @ (2,3) -> (3,3)"
   ]
  },
  {
   "cell_type": "code",
   "execution_count": 45,
   "id": "ab693ab4",
   "metadata": {
    "execution": {
     "iopub.execute_input": "2023-06-30T06:31:13.589389Z",
     "iopub.status.busy": "2023-06-30T06:31:13.589058Z",
     "iopub.status.idle": "2023-06-30T06:31:13.645113Z",
     "shell.execute_reply": "2023-06-30T06:31:13.643989Z"
    },
    "papermill": {
     "duration": 0.089943,
     "end_time": "2023-06-30T06:31:13.647424",
     "exception": false,
     "start_time": "2023-06-30T06:31:13.557481",
     "status": "completed"
    },
    "tags": []
   },
   "outputs": [
    {
     "data": {
      "text/plain": [
       "tensor([[0.2894, 0.5663, 0.3761],\n",
       "        [0.3833, 0.7290, 0.4811],\n",
       "        [0.3095, 0.3153, 0.1674]])"
      ]
     },
     "execution_count": 45,
     "metadata": {},
     "output_type": "execute_result"
    }
   ],
   "source": [
    "torch.matmul(torch.rand(3,2) , torch.rand(2,3))"
   ]
  },
  {
   "cell_type": "code",
   "execution_count": 46,
   "id": "c3497689",
   "metadata": {
    "execution": {
     "iopub.execute_input": "2023-06-30T06:31:13.713446Z",
     "iopub.status.busy": "2023-06-30T06:31:13.712080Z",
     "iopub.status.idle": "2023-06-30T06:31:13.719134Z",
     "shell.execute_reply": "2023-06-30T06:31:13.717665Z"
    },
    "papermill": {
     "duration": 0.039804,
     "end_time": "2023-06-30T06:31:13.721009",
     "exception": false,
     "start_time": "2023-06-30T06:31:13.681205",
     "status": "completed"
    },
    "tags": []
   },
   "outputs": [
    {
     "name": "stdout",
     "output_type": "stream",
     "text": [
      "tensor([1, 2, 3]) * tensor([1, 2, 3])\n",
      "Equals : tensor([1, 4, 9])\n"
     ]
    }
   ],
   "source": [
    "# Element wise multiplication\n",
    "print(tensor, '*' , tensor)\n",
    "print('Equals :', tensor * tensor )"
   ]
  },
  {
   "cell_type": "code",
   "execution_count": 47,
   "id": "52cb7865",
   "metadata": {
    "execution": {
     "iopub.execute_input": "2023-06-30T06:31:13.783233Z",
     "iopub.status.busy": "2023-06-30T06:31:13.782963Z",
     "iopub.status.idle": "2023-06-30T06:31:13.789141Z",
     "shell.execute_reply": "2023-06-30T06:31:13.788200Z"
    },
    "papermill": {
     "duration": 0.039483,
     "end_time": "2023-06-30T06:31:13.791168",
     "exception": false,
     "start_time": "2023-06-30T06:31:13.751685",
     "status": "completed"
    },
    "tags": []
   },
   "outputs": [
    {
     "data": {
      "text/plain": [
       "tensor(14)"
      ]
     },
     "execution_count": 47,
     "metadata": {},
     "output_type": "execute_result"
    }
   ],
   "source": [
    "# Matrix Multiplication\n",
    "torch.matmul(tensor,tensor)"
   ]
  },
  {
   "cell_type": "markdown",
   "id": "e2f0f251",
   "metadata": {
    "papermill": {
     "duration": 0.030623,
     "end_time": "2023-06-30T06:31:13.853732",
     "exception": false,
     "start_time": "2023-06-30T06:31:13.823109",
     "status": "completed"
    },
    "tags": []
   },
   "source": [
    "### Shape Errors"
   ]
  },
  {
   "cell_type": "code",
   "execution_count": 48,
   "id": "3648f588",
   "metadata": {
    "execution": {
     "iopub.execute_input": "2023-06-30T06:31:13.916118Z",
     "iopub.status.busy": "2023-06-30T06:31:13.915285Z",
     "iopub.status.idle": "2023-06-30T06:31:13.921182Z",
     "shell.execute_reply": "2023-06-30T06:31:13.920331Z"
    },
    "papermill": {
     "duration": 0.038927,
     "end_time": "2023-06-30T06:31:13.923199",
     "exception": false,
     "start_time": "2023-06-30T06:31:13.884272",
     "status": "completed"
    },
    "tags": []
   },
   "outputs": [],
   "source": [
    "tensor_A = torch.tensor([[1,2],\n",
    "                        [3,4],\n",
    "                        [5,6]])\n",
    "\n",
    "tensor_B =torch.tensor([[7,10],\n",
    "                       [8,11],\n",
    "                       [9,12]])\n",
    "\n",
    "#torch.mm(tensor_A,tensor_B) #(mm is alias for matmul)"
   ]
  },
  {
   "cell_type": "markdown",
   "id": "c92df877",
   "metadata": {
    "papermill": {
     "duration": 0.03467,
     "end_time": "2023-06-30T06:31:13.988817",
     "exception": false,
     "start_time": "2023-06-30T06:31:13.954147",
     "status": "completed"
    },
    "tags": []
   },
   "source": [
    "To Fix Shape Issues, We can use Transpose \n",
    "\n",
    "A **Transpose** swithches axes or dimensions of given matrix"
   ]
  },
  {
   "cell_type": "code",
   "execution_count": 49,
   "id": "2500c688",
   "metadata": {
    "execution": {
     "iopub.execute_input": "2023-06-30T06:31:14.053161Z",
     "iopub.status.busy": "2023-06-30T06:31:14.052838Z",
     "iopub.status.idle": "2023-06-30T06:31:14.059479Z",
     "shell.execute_reply": "2023-06-30T06:31:14.058518Z"
    },
    "papermill": {
     "duration": 0.041406,
     "end_time": "2023-06-30T06:31:14.061418",
     "exception": false,
     "start_time": "2023-06-30T06:31:14.020012",
     "status": "completed"
    },
    "tags": []
   },
   "outputs": [
    {
     "data": {
      "text/plain": [
       "(tensor([[ 7, 10],\n",
       "         [ 8, 11],\n",
       "         [ 9, 12]]),\n",
       " torch.Size([3, 2]))"
      ]
     },
     "execution_count": 49,
     "metadata": {},
     "output_type": "execute_result"
    }
   ],
   "source": [
    "tensor_B, tensor_B.shape"
   ]
  },
  {
   "cell_type": "code",
   "execution_count": 50,
   "id": "eb18081d",
   "metadata": {
    "execution": {
     "iopub.execute_input": "2023-06-30T06:31:14.125948Z",
     "iopub.status.busy": "2023-06-30T06:31:14.125216Z",
     "iopub.status.idle": "2023-06-30T06:31:14.133048Z",
     "shell.execute_reply": "2023-06-30T06:31:14.132110Z"
    },
    "papermill": {
     "duration": 0.041598,
     "end_time": "2023-06-30T06:31:14.135082",
     "exception": false,
     "start_time": "2023-06-30T06:31:14.093484",
     "status": "completed"
    },
    "tags": []
   },
   "outputs": [
    {
     "data": {
      "text/plain": [
       "(tensor([[ 7,  8,  9],\n",
       "         [10, 11, 12]]),\n",
       " torch.Size([2, 3]))"
      ]
     },
     "execution_count": 50,
     "metadata": {},
     "output_type": "execute_result"
    }
   ],
   "source": [
    "tensor_B.T, tensor_B.T.shape"
   ]
  },
  {
   "cell_type": "code",
   "execution_count": 51,
   "id": "a441e184",
   "metadata": {
    "execution": {
     "iopub.execute_input": "2023-06-30T06:31:14.199117Z",
     "iopub.status.busy": "2023-06-30T06:31:14.198318Z",
     "iopub.status.idle": "2023-06-30T06:31:14.208545Z",
     "shell.execute_reply": "2023-06-30T06:31:14.207243Z"
    },
    "papermill": {
     "duration": 0.044472,
     "end_time": "2023-06-30T06:31:14.210789",
     "exception": false,
     "start_time": "2023-06-30T06:31:14.166317",
     "status": "completed"
    },
    "tags": []
   },
   "outputs": [
    {
     "name": "stdout",
     "output_type": "stream",
     "text": [
      "Initial shape for tensor A torch.Size([3, 2]) and for tensor B torch.Size([3, 2])\n",
      "after transpose torch.Size([2, 3])\n",
      "output : tensor([[ 27,  30,  33],\n",
      "        [ 61,  68,  75],\n",
      "        [ 95, 106, 117]]) and its shape is torch.Size([3, 3])\n"
     ]
    }
   ],
   "source": [
    "print(f'Initial shape for tensor A {tensor_A.shape} and for tensor B {tensor_B.shape}')\n",
    "print(f'after transpose {tensor_B.T.shape}')\n",
    "print(f'output : {torch.matmul(tensor_A,tensor_B.T)} and its shape is {torch.matmul(tensor_A,tensor_B.T).shape}')"
   ]
  },
  {
   "cell_type": "markdown",
   "id": "200f618d",
   "metadata": {
    "papermill": {
     "duration": 0.031652,
     "end_time": "2023-06-30T06:31:14.276984",
     "exception": false,
     "start_time": "2023-06-30T06:31:14.245332",
     "status": "completed"
    },
    "tags": []
   },
   "source": [
    "## Finding Min. Max. Mean, Sum, etc (tensor aggregation)"
   ]
  },
  {
   "cell_type": "code",
   "execution_count": 52,
   "id": "b5596083",
   "metadata": {
    "execution": {
     "iopub.execute_input": "2023-06-30T06:31:14.342172Z",
     "iopub.status.busy": "2023-06-30T06:31:14.341361Z",
     "iopub.status.idle": "2023-06-30T06:31:14.348079Z",
     "shell.execute_reply": "2023-06-30T06:31:14.347158Z"
    },
    "papermill": {
     "duration": 0.040861,
     "end_time": "2023-06-30T06:31:14.350038",
     "exception": false,
     "start_time": "2023-06-30T06:31:14.309177",
     "status": "completed"
    },
    "tags": []
   },
   "outputs": [
    {
     "data": {
      "text/plain": [
       "tensor([ 0, 10, 20, 30, 40, 50, 60, 70, 80, 90])"
      ]
     },
     "execution_count": 52,
     "metadata": {},
     "output_type": "execute_result"
    }
   ],
   "source": [
    "# Create a tensor\n",
    "x = torch.arange(0,100,10)\n",
    "x"
   ]
  },
  {
   "cell_type": "code",
   "execution_count": 53,
   "id": "a07d1226",
   "metadata": {
    "execution": {
     "iopub.execute_input": "2023-06-30T06:31:14.414101Z",
     "iopub.status.busy": "2023-06-30T06:31:14.413358Z",
     "iopub.status.idle": "2023-06-30T06:31:14.421770Z",
     "shell.execute_reply": "2023-06-30T06:31:14.420818Z"
    },
    "papermill": {
     "duration": 0.042123,
     "end_time": "2023-06-30T06:31:14.423717",
     "exception": false,
     "start_time": "2023-06-30T06:31:14.381594",
     "status": "completed"
    },
    "tags": []
   },
   "outputs": [
    {
     "data": {
      "text/plain": [
       "(tensor(0), tensor(0))"
      ]
     },
     "execution_count": 53,
     "metadata": {},
     "output_type": "execute_result"
    }
   ],
   "source": [
    "# Min\n",
    "torch.min(x), x.min()"
   ]
  },
  {
   "cell_type": "code",
   "execution_count": 54,
   "id": "5cedc297",
   "metadata": {
    "execution": {
     "iopub.execute_input": "2023-06-30T06:31:14.489728Z",
     "iopub.status.busy": "2023-06-30T06:31:14.488986Z",
     "iopub.status.idle": "2023-06-30T06:31:14.495870Z",
     "shell.execute_reply": "2023-06-30T06:31:14.494927Z"
    },
    "papermill": {
     "duration": 0.041602,
     "end_time": "2023-06-30T06:31:14.498044",
     "exception": false,
     "start_time": "2023-06-30T06:31:14.456442",
     "status": "completed"
    },
    "tags": []
   },
   "outputs": [
    {
     "data": {
      "text/plain": [
       "(tensor(90), tensor(90))"
      ]
     },
     "execution_count": 54,
     "metadata": {},
     "output_type": "execute_result"
    }
   ],
   "source": [
    "# Max\n",
    "torch.max(x), x.max()"
   ]
  },
  {
   "cell_type": "code",
   "execution_count": 55,
   "id": "82d56914",
   "metadata": {
    "execution": {
     "iopub.execute_input": "2023-06-30T06:31:14.562206Z",
     "iopub.status.busy": "2023-06-30T06:31:14.561467Z",
     "iopub.status.idle": "2023-06-30T06:31:14.574914Z",
     "shell.execute_reply": "2023-06-30T06:31:14.573908Z"
    },
    "papermill": {
     "duration": 0.04729,
     "end_time": "2023-06-30T06:31:14.577037",
     "exception": false,
     "start_time": "2023-06-30T06:31:14.529747",
     "status": "completed"
    },
    "tags": []
   },
   "outputs": [
    {
     "data": {
      "text/plain": [
       "(tensor(45., dtype=torch.float16),\n",
       " tensor(45., dtype=torch.float16),\n",
       " tensor(45.))"
      ]
     },
     "execution_count": 55,
     "metadata": {},
     "output_type": "execute_result"
    }
   ],
   "source": [
    "# Mean\n",
    "torch.mean(x.type(torch.float16)) , x.type(torch.float16).mean() , torch.mean(x,dtype=torch.float32)"
   ]
  },
  {
   "cell_type": "code",
   "execution_count": 56,
   "id": "f017ca6a",
   "metadata": {
    "execution": {
     "iopub.execute_input": "2023-06-30T06:31:14.647946Z",
     "iopub.status.busy": "2023-06-30T06:31:14.647140Z",
     "iopub.status.idle": "2023-06-30T06:31:14.653994Z",
     "shell.execute_reply": "2023-06-30T06:31:14.653064Z"
    },
    "papermill": {
     "duration": 0.042501,
     "end_time": "2023-06-30T06:31:14.656155",
     "exception": false,
     "start_time": "2023-06-30T06:31:14.613654",
     "status": "completed"
    },
    "tags": []
   },
   "outputs": [
    {
     "data": {
      "text/plain": [
       "(tensor(450), tensor(450))"
      ]
     },
     "execution_count": 56,
     "metadata": {},
     "output_type": "execute_result"
    }
   ],
   "source": [
    "# Sum\n",
    "torch.sum(x) , x.sum()"
   ]
  },
  {
   "cell_type": "markdown",
   "id": "cae88c3d",
   "metadata": {
    "papermill": {
     "duration": 0.03223,
     "end_time": "2023-06-30T06:31:14.721236",
     "exception": false,
     "start_time": "2023-06-30T06:31:14.689006",
     "status": "completed"
    },
    "tags": []
   },
   "source": [
    "## Finding Positinal min and max"
   ]
  },
  {
   "cell_type": "code",
   "execution_count": 57,
   "id": "d29ba451",
   "metadata": {
    "execution": {
     "iopub.execute_input": "2023-06-30T06:31:14.786143Z",
     "iopub.status.busy": "2023-06-30T06:31:14.785304Z",
     "iopub.status.idle": "2023-06-30T06:31:14.791883Z",
     "shell.execute_reply": "2023-06-30T06:31:14.790977Z"
    },
    "papermill": {
     "duration": 0.041285,
     "end_time": "2023-06-30T06:31:14.793780",
     "exception": false,
     "start_time": "2023-06-30T06:31:14.752495",
     "status": "completed"
    },
    "tags": []
   },
   "outputs": [
    {
     "data": {
      "text/plain": [
       "tensor([ 1, 11, 21, 31, 41, 51, 61, 71, 81, 91])"
      ]
     },
     "execution_count": 57,
     "metadata": {},
     "output_type": "execute_result"
    }
   ],
   "source": [
    "x+1"
   ]
  },
  {
   "cell_type": "code",
   "execution_count": 58,
   "id": "181d70aa",
   "metadata": {
    "execution": {
     "iopub.execute_input": "2023-06-30T06:31:14.863157Z",
     "iopub.status.busy": "2023-06-30T06:31:14.862324Z",
     "iopub.status.idle": "2023-06-30T06:31:14.872865Z",
     "shell.execute_reply": "2023-06-30T06:31:14.871488Z"
    },
    "papermill": {
     "duration": 0.047474,
     "end_time": "2023-06-30T06:31:14.875223",
     "exception": false,
     "start_time": "2023-06-30T06:31:14.827749",
     "status": "completed"
    },
    "tags": []
   },
   "outputs": [
    {
     "name": "stdout",
     "output_type": "stream",
     "text": [
      "location :  tensor(0)\n",
      "element at location :  tensor(1)\n"
     ]
    }
   ],
   "source": [
    "# Position in tensor where minimum value exists\n",
    "print('location : ',(x+1).argmin())\n",
    "print('element at location : ',(x+1)[(x+1).argmin()])"
   ]
  },
  {
   "cell_type": "code",
   "execution_count": 59,
   "id": "99fdeed9",
   "metadata": {
    "execution": {
     "iopub.execute_input": "2023-06-30T06:31:14.942148Z",
     "iopub.status.busy": "2023-06-30T06:31:14.941415Z",
     "iopub.status.idle": "2023-06-30T06:31:14.948062Z",
     "shell.execute_reply": "2023-06-30T06:31:14.946906Z"
    },
    "papermill": {
     "duration": 0.041024,
     "end_time": "2023-06-30T06:31:14.950009",
     "exception": false,
     "start_time": "2023-06-30T06:31:14.908985",
     "status": "completed"
    },
    "tags": []
   },
   "outputs": [
    {
     "name": "stdout",
     "output_type": "stream",
     "text": [
      "location :  tensor(9)\n",
      "element at location :  tensor(91)\n"
     ]
    }
   ],
   "source": [
    "# Position in tensor where maximum value exists\n",
    "print('location : ',(x+1).argmax())\n",
    "print('element at location : ',(x+1)[(x+1).argmax()])"
   ]
  },
  {
   "cell_type": "markdown",
   "id": "afb40681",
   "metadata": {
    "papermill": {
     "duration": 0.031784,
     "end_time": "2023-06-30T06:31:15.017310",
     "exception": false,
     "start_time": "2023-06-30T06:31:14.985526",
     "status": "completed"
    },
    "tags": []
   },
   "source": [
    "## Reshaping, Stacking, Squeezing and Unsqueezing tensor\n",
    "\n",
    "* Reshaping - reshapes input tensor to defined shape\n",
    "* View - Returns a view of input tensor of certain shape but keeps same memory as original\n",
    "* Stacking - Combine Multiple tensors on top of each other (vstack) or side by side (hstack)\n",
    "* Squeeze - **removes unit** dimension from tensor\n",
    "* Unsqueeze - **adds one** dimension to tensor\n",
    "* Permute - Reaturn a view of input with Dimension Permuted (swapped) in certain way "
   ]
  },
  {
   "cell_type": "code",
   "execution_count": 60,
   "id": "7df1c8c6",
   "metadata": {
    "execution": {
     "iopub.execute_input": "2023-06-30T06:31:15.083504Z",
     "iopub.status.busy": "2023-06-30T06:31:15.083210Z",
     "iopub.status.idle": "2023-06-30T06:31:15.091753Z",
     "shell.execute_reply": "2023-06-30T06:31:15.090592Z"
    },
    "papermill": {
     "duration": 0.043176,
     "end_time": "2023-06-30T06:31:15.093785",
     "exception": false,
     "start_time": "2023-06-30T06:31:15.050609",
     "status": "completed"
    },
    "tags": []
   },
   "outputs": [
    {
     "data": {
      "text/plain": [
       "(tensor([1., 2., 3., 4., 5., 6., 7., 8., 9.]), torch.Size([9]))"
      ]
     },
     "execution_count": 60,
     "metadata": {},
     "output_type": "execute_result"
    }
   ],
   "source": [
    "# Create Tensor\n",
    "x = torch.arange(1.,10.)\n",
    "x , x.shape"
   ]
  },
  {
   "cell_type": "code",
   "execution_count": 61,
   "id": "2b488960",
   "metadata": {
    "execution": {
     "iopub.execute_input": "2023-06-30T06:31:15.160847Z",
     "iopub.status.busy": "2023-06-30T06:31:15.160087Z",
     "iopub.status.idle": "2023-06-30T06:31:15.167147Z",
     "shell.execute_reply": "2023-06-30T06:31:15.165811Z"
    },
    "papermill": {
     "duration": 0.042856,
     "end_time": "2023-06-30T06:31:15.169340",
     "exception": false,
     "start_time": "2023-06-30T06:31:15.126484",
     "status": "completed"
    },
    "tags": []
   },
   "outputs": [
    {
     "name": "stdout",
     "output_type": "stream",
     "text": [
      "torch.Size([9])\n",
      "tensor([[1.],\n",
      "        [2.],\n",
      "        [3.],\n",
      "        [4.],\n",
      "        [5.],\n",
      "        [6.],\n",
      "        [7.],\n",
      "        [8.],\n",
      "        [9.]])\n",
      "torch.Size([9, 1])\n"
     ]
    }
   ],
   "source": [
    "# Add extra dimension\n",
    "x_reshaped = x.reshape(9,1)\n",
    "print(x.size())\n",
    "print(x_reshaped)\n",
    "print(x_reshaped.size())"
   ]
  },
  {
   "cell_type": "code",
   "execution_count": 62,
   "id": "259761e8",
   "metadata": {
    "execution": {
     "iopub.execute_input": "2023-06-30T06:31:15.244093Z",
     "iopub.status.busy": "2023-06-30T06:31:15.243390Z",
     "iopub.status.idle": "2023-06-30T06:31:15.251472Z",
     "shell.execute_reply": "2023-06-30T06:31:15.250425Z"
    },
    "papermill": {
     "duration": 0.048326,
     "end_time": "2023-06-30T06:31:15.253614",
     "exception": false,
     "start_time": "2023-06-30T06:31:15.205288",
     "status": "completed"
    },
    "tags": []
   },
   "outputs": [
    {
     "data": {
      "text/plain": [
       "(tensor([[1., 2., 3.],\n",
       "         [4., 5., 6.],\n",
       "         [7., 8., 9.]]),\n",
       " torch.Size([3, 3]))"
      ]
     },
     "execution_count": 62,
     "metadata": {},
     "output_type": "execute_result"
    }
   ],
   "source": [
    "# Change View\n",
    "z = x.view(3,3)\n",
    "z, z.shape"
   ]
  },
  {
   "cell_type": "code",
   "execution_count": 63,
   "id": "41c1f6a0",
   "metadata": {
    "execution": {
     "iopub.execute_input": "2023-06-30T06:31:15.327809Z",
     "iopub.status.busy": "2023-06-30T06:31:15.327036Z",
     "iopub.status.idle": "2023-06-30T06:31:15.337945Z",
     "shell.execute_reply": "2023-06-30T06:31:15.336823Z"
    },
    "papermill": {
     "duration": 0.049933,
     "end_time": "2023-06-30T06:31:15.339952",
     "exception": false,
     "start_time": "2023-06-30T06:31:15.290019",
     "status": "completed"
    },
    "tags": []
   },
   "outputs": [
    {
     "data": {
      "text/plain": [
       "(tensor([[5., 2., 3.],\n",
       "         [5., 5., 6.],\n",
       "         [5., 8., 9.]]),\n",
       " tensor([5., 2., 3., 5., 5., 6., 5., 8., 9.]))"
      ]
     },
     "execution_count": 63,
     "metadata": {},
     "output_type": "execute_result"
    }
   ],
   "source": [
    "# Changing z changes x because it shares same memory as original but doesnt affect the shape\n",
    "z[:,0]=5\n",
    "z, x"
   ]
  },
  {
   "cell_type": "code",
   "execution_count": 64,
   "id": "633b7e35",
   "metadata": {
    "execution": {
     "iopub.execute_input": "2023-06-30T06:31:15.407211Z",
     "iopub.status.busy": "2023-06-30T06:31:15.406899Z",
     "iopub.status.idle": "2023-06-30T06:31:15.414739Z",
     "shell.execute_reply": "2023-06-30T06:31:15.413787Z"
    },
    "papermill": {
     "duration": 0.04428,
     "end_time": "2023-06-30T06:31:15.416706",
     "exception": false,
     "start_time": "2023-06-30T06:31:15.372426",
     "status": "completed"
    },
    "tags": []
   },
   "outputs": [
    {
     "data": {
      "text/plain": [
       "tensor([[5., 2., 3., 5., 5., 6., 5., 8., 9.],\n",
       "        [5., 2., 3., 5., 5., 6., 5., 8., 9.],\n",
       "        [5., 2., 3., 5., 5., 6., 5., 8., 9.],\n",
       "        [5., 2., 3., 5., 5., 6., 5., 8., 9.]])"
      ]
     },
     "execution_count": 64,
     "metadata": {},
     "output_type": "execute_result"
    }
   ],
   "source": [
    "# Stack tensors\n",
    "x_stacked = torch.stack([x, x, x, x], dim=0)\n",
    "x_stacked"
   ]
  },
  {
   "cell_type": "code",
   "execution_count": 65,
   "id": "6798860e",
   "metadata": {
    "execution": {
     "iopub.execute_input": "2023-06-30T06:31:15.484382Z",
     "iopub.status.busy": "2023-06-30T06:31:15.483642Z",
     "iopub.status.idle": "2023-06-30T06:31:15.491063Z",
     "shell.execute_reply": "2023-06-30T06:31:15.489982Z"
    },
    "papermill": {
     "duration": 0.042628,
     "end_time": "2023-06-30T06:31:15.493045",
     "exception": false,
     "start_time": "2023-06-30T06:31:15.450417",
     "status": "completed"
    },
    "tags": []
   },
   "outputs": [
    {
     "name": "stdout",
     "output_type": "stream",
     "text": [
      "Previouse tensor : tensor([[5.],\n",
      "        [2.],\n",
      "        [3.],\n",
      "        [5.],\n",
      "        [5.],\n",
      "        [6.],\n",
      "        [5.],\n",
      "        [8.],\n",
      "        [9.]])\n",
      "Previoe shape : torch.Size([9, 1])\n",
      "\n",
      "New tensor : tensor([5., 2., 3., 5., 5., 6., 5., 8., 9.])\n",
      "New Shape : torch.Size([9])\n"
     ]
    }
   ],
   "source": [
    "# torch.squeeze() - removes all single dimensions from target tensor\n",
    "print(f\"Previouse tensor : {x_reshaped}\")\n",
    "print(f\"Previoe shape : {x_reshaped.shape}\")\n",
    "\n",
    "# Remove extra dimension from x_reshaped\n",
    "x_squeezed = x_reshaped.squeeze()\n",
    "print(f\"\\nNew tensor : {x_squeezed}\")\n",
    "print(f\"New Shape : {x_squeezed.shape}\")\n",
    "\n"
   ]
  },
  {
   "cell_type": "code",
   "execution_count": 66,
   "id": "ec9c04f9",
   "metadata": {
    "execution": {
     "iopub.execute_input": "2023-06-30T06:31:15.560739Z",
     "iopub.status.busy": "2023-06-30T06:31:15.560428Z",
     "iopub.status.idle": "2023-06-30T06:31:15.567462Z",
     "shell.execute_reply": "2023-06-30T06:31:15.566506Z"
    },
    "papermill": {
     "duration": 0.043678,
     "end_time": "2023-06-30T06:31:15.569437",
     "exception": false,
     "start_time": "2023-06-30T06:31:15.525759",
     "status": "completed"
    },
    "tags": []
   },
   "outputs": [
    {
     "data": {
      "text/plain": [
       "tensor([5., 2., 3., 5., 5., 6., 5., 8., 9.])"
      ]
     },
     "execution_count": 66,
     "metadata": {},
     "output_type": "execute_result"
    }
   ],
   "source": [
    "x_reshaped.squeeze()"
   ]
  },
  {
   "cell_type": "code",
   "execution_count": 67,
   "id": "369ed198",
   "metadata": {
    "execution": {
     "iopub.execute_input": "2023-06-30T06:31:15.638287Z",
     "iopub.status.busy": "2023-06-30T06:31:15.637438Z",
     "iopub.status.idle": "2023-06-30T06:31:15.646606Z",
     "shell.execute_reply": "2023-06-30T06:31:15.645202Z"
    },
    "papermill": {
     "duration": 0.045346,
     "end_time": "2023-06-30T06:31:15.648544",
     "exception": false,
     "start_time": "2023-06-30T06:31:15.603198",
     "status": "completed"
    },
    "tags": []
   },
   "outputs": [
    {
     "name": "stdout",
     "output_type": "stream",
     "text": [
      "Previous target : tensor([5., 2., 3., 5., 5., 6., 5., 8., 9.])\n",
      "Previous Shape : torch.Size([9])\n",
      "\n",
      "New tensor : tensor([[5., 2., 3., 5., 5., 6., 5., 8., 9.]])\n",
      "New Shape : torch.Size([1, 9])\n"
     ]
    }
   ],
   "source": [
    "# torch.unsqueeze() - adds a single dimension to a target tensor at a specific dimension\n",
    "print(f\"Previous target : {x_squeezed}\")\n",
    "print(f\"Previous Shape : {x_squeezed.shape}\")\n",
    "\n",
    "# Adding dimension to x_reshaped\n",
    "x_unsqueezed = x_squeezed.unsqueeze(dim=-0)\n",
    "print(f\"\\nNew tensor : {x_unsqueezed}\")\n",
    "print(f\"New Shape : {x_unsqueezed.shape}\")"
   ]
  },
  {
   "cell_type": "code",
   "execution_count": 68,
   "id": "6125e6b2",
   "metadata": {
    "execution": {
     "iopub.execute_input": "2023-06-30T06:31:15.715785Z",
     "iopub.status.busy": "2023-06-30T06:31:15.715005Z",
     "iopub.status.idle": "2023-06-30T06:31:15.723102Z",
     "shell.execute_reply": "2023-06-30T06:31:15.721952Z"
    },
    "papermill": {
     "duration": 0.043245,
     "end_time": "2023-06-30T06:31:15.725112",
     "exception": false,
     "start_time": "2023-06-30T06:31:15.681867",
     "status": "completed"
    },
    "tags": []
   },
   "outputs": [
    {
     "name": "stdout",
     "output_type": "stream",
     "text": [
      "Shape before Permute : torch.Size([224, 224, 3])\n",
      "Shape after Permute : torch.Size([3, 224, 224])\n"
     ]
    }
   ],
   "source": [
    "# torch.permute - rearrages the dimension of a traget tensor in a specified order\n",
    "x_original = torch.rand(size=(224,224,3)) \n",
    "print(f\"Shape before Permute : {x_original.shape}\") #[height, width, color_channel]\n",
    "\n",
    "# Premute the original tensor to rearrage the axis\n",
    "x_permuted = x_original.permute(2,0,1) # shifts axis 0 -> 1, 1 -> 2, 2 -> 0\n",
    "print(f\"Shape after Permute : {x_permuted.shape}\") #[color_channel, height, width]"
   ]
  },
  {
   "cell_type": "markdown",
   "id": "898161a2",
   "metadata": {
    "papermill": {
     "duration": 0.033356,
     "end_time": "2023-06-30T06:31:15.791043",
     "exception": false,
     "start_time": "2023-06-30T06:31:15.757687",
     "status": "completed"
    },
    "tags": []
   },
   "source": [
    "## Indexing (selecting data from tensors)\n",
    "Indexing is same as numpy"
   ]
  },
  {
   "cell_type": "code",
   "execution_count": 69,
   "id": "00856ad6",
   "metadata": {
    "execution": {
     "iopub.execute_input": "2023-06-30T06:31:15.859178Z",
     "iopub.status.busy": "2023-06-30T06:31:15.858864Z",
     "iopub.status.idle": "2023-06-30T06:31:15.866255Z",
     "shell.execute_reply": "2023-06-30T06:31:15.865324Z"
    },
    "papermill": {
     "duration": 0.043013,
     "end_time": "2023-06-30T06:31:15.868236",
     "exception": false,
     "start_time": "2023-06-30T06:31:15.825223",
     "status": "completed"
    },
    "tags": []
   },
   "outputs": [
    {
     "data": {
      "text/plain": [
       "(tensor([[[1, 2, 3],\n",
       "          [4, 5, 6],\n",
       "          [7, 8, 9]]]),\n",
       " torch.Size([1, 3, 3]))"
      ]
     },
     "execution_count": 69,
     "metadata": {},
     "output_type": "execute_result"
    }
   ],
   "source": [
    "# Create a tensor\n",
    "x= torch.arange(1,10).reshape(1,3,3)\n",
    "x, x.shape"
   ]
  },
  {
   "cell_type": "code",
   "execution_count": 70,
   "id": "6be8a6be",
   "metadata": {
    "execution": {
     "iopub.execute_input": "2023-06-30T06:31:15.940752Z",
     "iopub.status.busy": "2023-06-30T06:31:15.940474Z",
     "iopub.status.idle": "2023-06-30T06:31:15.946591Z",
     "shell.execute_reply": "2023-06-30T06:31:15.945735Z"
    },
    "papermill": {
     "duration": 0.045846,
     "end_time": "2023-06-30T06:31:15.948505",
     "exception": false,
     "start_time": "2023-06-30T06:31:15.902659",
     "status": "completed"
    },
    "tags": []
   },
   "outputs": [
    {
     "data": {
      "text/plain": [
       "tensor([[1, 2, 3],\n",
       "        [4, 5, 6],\n",
       "        [7, 8, 9]])"
      ]
     },
     "execution_count": 70,
     "metadata": {},
     "output_type": "execute_result"
    }
   ],
   "source": [
    "# Indexing new tensor\n",
    "x[0]"
   ]
  },
  {
   "cell_type": "code",
   "execution_count": 71,
   "id": "6dec381e",
   "metadata": {
    "execution": {
     "iopub.execute_input": "2023-06-30T06:31:16.019199Z",
     "iopub.status.busy": "2023-06-30T06:31:16.018907Z",
     "iopub.status.idle": "2023-06-30T06:31:16.025003Z",
     "shell.execute_reply": "2023-06-30T06:31:16.024157Z"
    },
    "papermill": {
     "duration": 0.04272,
     "end_time": "2023-06-30T06:31:16.026979",
     "exception": false,
     "start_time": "2023-06-30T06:31:15.984259",
     "status": "completed"
    },
    "tags": []
   },
   "outputs": [
    {
     "data": {
      "text/plain": [
       "tensor(5)"
      ]
     },
     "execution_count": 71,
     "metadata": {},
     "output_type": "execute_result"
    }
   ],
   "source": [
    "# Index on middle bracket (dim=1)\n",
    "x[0,1,1]"
   ]
  },
  {
   "cell_type": "code",
   "execution_count": 72,
   "id": "f4bc5c2f",
   "metadata": {
    "execution": {
     "iopub.execute_input": "2023-06-30T06:31:16.097155Z",
     "iopub.status.busy": "2023-06-30T06:31:16.096366Z",
     "iopub.status.idle": "2023-06-30T06:31:16.103549Z",
     "shell.execute_reply": "2023-06-30T06:31:16.102637Z"
    },
    "papermill": {
     "duration": 0.043636,
     "end_time": "2023-06-30T06:31:16.105582",
     "exception": false,
     "start_time": "2023-06-30T06:31:16.061946",
     "status": "completed"
    },
    "tags": []
   },
   "outputs": [
    {
     "data": {
      "text/plain": [
       "tensor([[1, 2, 3]])"
      ]
     },
     "execution_count": 72,
     "metadata": {},
     "output_type": "execute_result"
    }
   ],
   "source": [
    "# \":\" to select all target dimension\n",
    "x[:,0]"
   ]
  },
  {
   "cell_type": "code",
   "execution_count": 73,
   "id": "d329dac4",
   "metadata": {
    "execution": {
     "iopub.execute_input": "2023-06-30T06:31:16.176325Z",
     "iopub.status.busy": "2023-06-30T06:31:16.175537Z",
     "iopub.status.idle": "2023-06-30T06:31:16.182567Z",
     "shell.execute_reply": "2023-06-30T06:31:16.181389Z"
    },
    "papermill": {
     "duration": 0.044603,
     "end_time": "2023-06-30T06:31:16.184733",
     "exception": false,
     "start_time": "2023-06-30T06:31:16.140130",
     "status": "completed"
    },
    "tags": []
   },
   "outputs": [
    {
     "name": "stdout",
     "output_type": "stream",
     "text": [
      "tensor([[2, 5, 8]])\n",
      "tensor([1, 2, 3])\n",
      "tensor([4, 5, 6])\n"
     ]
    }
   ],
   "source": [
    "# Practice\n",
    "print(x[:,:,1])\n",
    "print(x[0,0,:])\n",
    "print(x[0,1,:])"
   ]
  },
  {
   "cell_type": "markdown",
   "id": "e2fd1939",
   "metadata": {
    "papermill": {
     "duration": 0.033195,
     "end_time": "2023-06-30T06:31:16.253533",
     "exception": false,
     "start_time": "2023-06-30T06:31:16.220338",
     "status": "completed"
    },
    "tags": []
   },
   "source": [
    "## Pytorch tensors & Numpy\n",
    "\n",
    "Pytorch interacting with Numpy\n",
    "\n",
    "* Convert data from Numpy to Tensor -> `torch.from_numpy(ndarray)`\n",
    "* Convert data from Tensor to Numpy -> `torch.Tensor.numpy()`"
   ]
  },
  {
   "cell_type": "code",
   "execution_count": 74,
   "id": "56b016e8",
   "metadata": {
    "execution": {
     "iopub.execute_input": "2023-06-30T06:31:16.321847Z",
     "iopub.status.busy": "2023-06-30T06:31:16.321315Z",
     "iopub.status.idle": "2023-06-30T06:31:16.331300Z",
     "shell.execute_reply": "2023-06-30T06:31:16.330242Z"
    },
    "papermill": {
     "duration": 0.046271,
     "end_time": "2023-06-30T06:31:16.333325",
     "exception": false,
     "start_time": "2023-06-30T06:31:16.287054",
     "status": "completed"
    },
    "tags": []
   },
   "outputs": [
    {
     "data": {
      "text/plain": [
       "(array([1., 2., 3., 4., 5., 6., 7.]), tensor([1., 2., 3., 4., 5., 6., 7.]))"
      ]
     },
     "execution_count": 74,
     "metadata": {},
     "output_type": "execute_result"
    }
   ],
   "source": [
    "# Numpy Array -> Tensor\n",
    "import numpy as np\n",
    "import torch\n",
    "\n",
    "array = np.arange(1.0,8.0)\n",
    "tensor = torch.from_numpy(array).type(torch.float32) # warning: when converting from numpy -> tensor, pytorch copies same datatype from numpy viz. float64 unless changed (default dtype of tensor is float32) \n",
    "array, tensor"
   ]
  },
  {
   "cell_type": "code",
   "execution_count": 75,
   "id": "a4d0945b",
   "metadata": {
    "execution": {
     "iopub.execute_input": "2023-06-30T06:31:16.403139Z",
     "iopub.status.busy": "2023-06-30T06:31:16.402362Z",
     "iopub.status.idle": "2023-06-30T06:31:16.407576Z",
     "shell.execute_reply": "2023-06-30T06:31:16.406688Z"
    },
    "papermill": {
     "duration": 0.042432,
     "end_time": "2023-06-30T06:31:16.409930",
     "exception": false,
     "start_time": "2023-06-30T06:31:16.367498",
     "status": "completed"
    },
    "tags": []
   },
   "outputs": [
    {
     "name": "stdout",
     "output_type": "stream",
     "text": [
      "float64\n",
      "torch.float32\n"
     ]
    }
   ],
   "source": [
    "print(array.dtype)\n",
    "print(tensor.dtype)"
   ]
  },
  {
   "cell_type": "code",
   "execution_count": 76,
   "id": "82307abb",
   "metadata": {
    "execution": {
     "iopub.execute_input": "2023-06-30T06:31:16.480536Z",
     "iopub.status.busy": "2023-06-30T06:31:16.479992Z",
     "iopub.status.idle": "2023-06-30T06:31:16.487554Z",
     "shell.execute_reply": "2023-06-30T06:31:16.486465Z"
    },
    "papermill": {
     "duration": 0.044341,
     "end_time": "2023-06-30T06:31:16.489777",
     "exception": false,
     "start_time": "2023-06-30T06:31:16.445436",
     "status": "completed"
    },
    "tags": []
   },
   "outputs": [
    {
     "data": {
      "text/plain": [
       "(array([2., 3., 4., 5., 6., 7., 8.]), tensor([1., 2., 3., 4., 5., 6., 7.]))"
      ]
     },
     "execution_count": 76,
     "metadata": {},
     "output_type": "execute_result"
    }
   ],
   "source": [
    "# Changing the value of array, does this affect tensor ?\n",
    "array = array + 1\n",
    "array,tensor\n",
    "# NO"
   ]
  },
  {
   "cell_type": "code",
   "execution_count": 77,
   "id": "334641bb",
   "metadata": {
    "execution": {
     "iopub.execute_input": "2023-06-30T06:31:16.562754Z",
     "iopub.status.busy": "2023-06-30T06:31:16.562041Z",
     "iopub.status.idle": "2023-06-30T06:31:16.569668Z",
     "shell.execute_reply": "2023-06-30T06:31:16.568689Z"
    },
    "papermill": {
     "duration": 0.04446,
     "end_time": "2023-06-30T06:31:16.571782",
     "exception": false,
     "start_time": "2023-06-30T06:31:16.527322",
     "status": "completed"
    },
    "tags": []
   },
   "outputs": [
    {
     "data": {
      "text/plain": [
       "(tensor([1., 1., 1., 1., 1., 1., 1.]),\n",
       " array([1., 1., 1., 1., 1., 1., 1.], dtype=float32))"
      ]
     },
     "execution_count": 77,
     "metadata": {},
     "output_type": "execute_result"
    }
   ],
   "source": [
    "# Tensor -> Numpy array\n",
    "tensor = torch.ones(7)\n",
    "array = tensor.numpy() # datatype remains same as tensor's\n",
    "tensor, array"
   ]
  },
  {
   "cell_type": "code",
   "execution_count": 78,
   "id": "d8ce8ed8",
   "metadata": {
    "execution": {
     "iopub.execute_input": "2023-06-30T06:31:16.643086Z",
     "iopub.status.busy": "2023-06-30T06:31:16.642357Z",
     "iopub.status.idle": "2023-06-30T06:31:16.649574Z",
     "shell.execute_reply": "2023-06-30T06:31:16.648589Z"
    },
    "papermill": {
     "duration": 0.043982,
     "end_time": "2023-06-30T06:31:16.651664",
     "exception": false,
     "start_time": "2023-06-30T06:31:16.607682",
     "status": "completed"
    },
    "tags": []
   },
   "outputs": [
    {
     "data": {
      "text/plain": [
       "(tensor([2., 2., 2., 2., 2., 2., 2.]),\n",
       " array([1., 1., 1., 1., 1., 1., 1.], dtype=float32))"
      ]
     },
     "execution_count": 78,
     "metadata": {},
     "output_type": "execute_result"
    }
   ],
   "source": [
    " # Changing the value of tensor, does this affect array ?\n",
    "tensor = tensor + 1\n",
    "tensor,array\n",
    "# NO"
   ]
  },
  {
   "cell_type": "markdown",
   "id": "9921c44a",
   "metadata": {
    "papermill": {
     "duration": 0.033254,
     "end_time": "2023-06-30T06:31:16.720482",
     "exception": false,
     "start_time": "2023-06-30T06:31:16.687228",
     "status": "completed"
    },
    "tags": []
   },
   "source": [
    "## Reproducbility (trying to take random out of random)\n",
    "How Neural Network Work ?\n",
    "\n",
    "` Start with random nos. -> tensor operation -> update random nos. to try and malke them better represntation of data -> repeat -> repeat -> repeat ...`\n",
    "\n",
    "To reduce the randomness in Neural Network we use **Random Seed**.\n",
    "\n",
    "Essentially whta random seed does is **flavour** the randomness.\n",
    "\n",
    "ref - \n",
    "* https://pytorch.org/docs/stable/notes/randomness.html\n",
    "* https://en.wikipedia.org/wiki/Random_seed"
   ]
  },
  {
   "cell_type": "code",
   "execution_count": 79,
   "id": "8b346ea6",
   "metadata": {
    "execution": {
     "iopub.execute_input": "2023-06-30T06:31:16.788853Z",
     "iopub.status.busy": "2023-06-30T06:31:16.788121Z",
     "iopub.status.idle": "2023-06-30T06:31:16.795951Z",
     "shell.execute_reply": "2023-06-30T06:31:16.794686Z"
    },
    "papermill": {
     "duration": 0.04406,
     "end_time": "2023-06-30T06:31:16.798090",
     "exception": false,
     "start_time": "2023-06-30T06:31:16.754030",
     "status": "completed"
    },
    "tags": []
   },
   "outputs": [
    {
     "name": "stdout",
     "output_type": "stream",
     "text": [
      "tensor([[0.9213, 0.1424, 0.3738],\n",
      "        [0.4277, 0.8900, 0.4474],\n",
      "        [0.0333, 0.7323, 0.8166],\n",
      "        [0.3347, 0.5168, 0.7501]])\n",
      "tensor([[0.9737, 0.0533, 0.0456],\n",
      "        [0.6368, 0.0281, 0.4341],\n",
      "        [0.3997, 0.8206, 0.4799],\n",
      "        [0.1368, 0.8344, 0.3943]])\n",
      "tensor([[False, False, False],\n",
      "        [False, False, False],\n",
      "        [False, False, False],\n",
      "        [False, False, False]])\n"
     ]
    }
   ],
   "source": [
    "#  Create 2 tensors\n",
    "\n",
    "random_tensor_A = torch.rand(4,3)\n",
    "random_tensor_B = torch.rand(4,3)\n",
    "\n",
    "print(random_tensor_A)\n",
    "print(random_tensor_B)\n",
    "print(random_tensor_A==random_tensor_B)"
   ]
  },
  {
   "cell_type": "code",
   "execution_count": 80,
   "id": "e5baf189",
   "metadata": {
    "execution": {
     "iopub.execute_input": "2023-06-30T06:31:16.868336Z",
     "iopub.status.busy": "2023-06-30T06:31:16.867546Z",
     "iopub.status.idle": "2023-06-30T06:31:16.880298Z",
     "shell.execute_reply": "2023-06-30T06:31:16.879131Z"
    },
    "papermill": {
     "duration": 0.049901,
     "end_time": "2023-06-30T06:31:16.882163",
     "exception": false,
     "start_time": "2023-06-30T06:31:16.832262",
     "status": "completed"
    },
    "tags": []
   },
   "outputs": [
    {
     "name": "stdout",
     "output_type": "stream",
     "text": [
      "tensor([[0.8823, 0.9150, 0.3829],\n",
      "        [0.9593, 0.3904, 0.6009],\n",
      "        [0.2566, 0.7936, 0.9408],\n",
      "        [0.1332, 0.9346, 0.5936]])\n",
      "tensor([[0.8823, 0.9150, 0.3829],\n",
      "        [0.9593, 0.3904, 0.6009],\n",
      "        [0.2566, 0.7936, 0.9408],\n",
      "        [0.1332, 0.9346, 0.5936]])\n",
      "tensor([[True, True, True],\n",
      "        [True, True, True],\n",
      "        [True, True, True],\n",
      "        [True, True, True]])\n"
     ]
    }
   ],
   "source": [
    "# Random but reproducable tensors\n",
    "import torch\n",
    "\n",
    "# Set random seed\n",
    "RANDOM_SEED = 42\n",
    "torch.manual_seed(RANDOM_SEED) # Set the random seed every time we call rand function\n",
    "random_tensor_C = torch.rand(4,3)\n",
    "\n",
    "torch.manual_seed(RANDOM_SEED)\n",
    "random_tensor_D = torch.rand(4,3)\n",
    "\n",
    "print(random_tensor_C)\n",
    "print(random_tensor_D)\n",
    "print(random_tensor_C==random_tensor_D)"
   ]
  },
  {
   "cell_type": "markdown",
   "id": "aa89b77c",
   "metadata": {
    "papermill": {
     "duration": 0.033559,
     "end_time": "2023-06-30T06:31:16.949130",
     "exception": false,
     "start_time": "2023-06-30T06:31:16.915571",
     "status": "completed"
    },
    "tags": []
   },
   "source": [
    "## Running tensors and Pytorch on GPU (Making it Faster)\n",
    "\n",
    "Gpus = faster computation with Cuda and Nvidia hardware"
   ]
  },
  {
   "cell_type": "markdown",
   "id": "b77b280c",
   "metadata": {
    "papermill": {
     "duration": 0.034537,
     "end_time": "2023-06-30T06:31:17.019889",
     "exception": false,
     "start_time": "2023-06-30T06:31:16.985352",
     "status": "completed"
    },
    "tags": []
   },
   "source": [
    "### 1. Getting a GPU\n",
    "\n",
    "1. Easiest is Google Colab and Kaggle\n",
    "2. Personal computer\n",
    "3. Use cloud computing - GCP, AWS, Azure\n",
    "\n",
    "Device agnostic code:\n",
    "if GPU present -> select GPU -> else -> CPU\n",
    "\n",
    "ref -\n",
    "* https://pytorch.org/docs/stable/notes/cuda.html"
   ]
  },
  {
   "cell_type": "code",
   "execution_count": 81,
   "id": "1cfffde7",
   "metadata": {
    "execution": {
     "iopub.execute_input": "2023-06-30T06:31:17.095474Z",
     "iopub.status.busy": "2023-06-30T06:31:17.094432Z",
     "iopub.status.idle": "2023-06-30T06:31:18.179289Z",
     "shell.execute_reply": "2023-06-30T06:31:18.178152Z"
    },
    "papermill": {
     "duration": 1.12396,
     "end_time": "2023-06-30T06:31:18.181513",
     "exception": false,
     "start_time": "2023-06-30T06:31:17.057553",
     "status": "completed"
    },
    "tags": []
   },
   "outputs": [
    {
     "name": "stdout",
     "output_type": "stream",
     "text": [
      "Fri Jun 30 06:31:17 2023       \r\n",
      "+-----------------------------------------------------------------------------+\r\n",
      "| NVIDIA-SMI 470.161.03   Driver Version: 470.161.03   CUDA Version: 11.4     |\r\n",
      "|-------------------------------+----------------------+----------------------+\r\n",
      "| GPU  Name        Persistence-M| Bus-Id        Disp.A | Volatile Uncorr. ECC |\r\n",
      "| Fan  Temp  Perf  Pwr:Usage/Cap|         Memory-Usage | GPU-Util  Compute M. |\r\n",
      "|                               |                      |               MIG M. |\r\n",
      "|===============================+======================+======================|\r\n",
      "|   0  Tesla T4            Off  | 00000000:00:04.0 Off |                    0 |\r\n",
      "| N/A   53C    P8    10W /  70W |      0MiB / 15109MiB |      0%      Default |\r\n",
      "|                               |                      |                  N/A |\r\n",
      "+-------------------------------+----------------------+----------------------+\r\n",
      "|   1  Tesla T4            Off  | 00000000:00:05.0 Off |                    0 |\r\n",
      "| N/A   55C    P8    10W /  70W |      0MiB / 15109MiB |      0%      Default |\r\n",
      "|                               |                      |                  N/A |\r\n",
      "+-------------------------------+----------------------+----------------------+\r\n",
      "                                                                               \r\n",
      "+-----------------------------------------------------------------------------+\r\n",
      "| Processes:                                                                  |\r\n",
      "|  GPU   GI   CI        PID   Type   Process name                  GPU Memory |\r\n",
      "|        ID   ID                                                   Usage      |\r\n",
      "|=============================================================================|\r\n",
      "|  No running processes found                                                 |\r\n",
      "+-----------------------------------------------------------------------------+\r\n"
     ]
    }
   ],
   "source": [
    "!nvidia-smi"
   ]
  },
  {
   "cell_type": "markdown",
   "id": "3bc52caa",
   "metadata": {
    "papermill": {
     "duration": 0.034161,
     "end_time": "2023-06-30T06:31:18.251051",
     "exception": false,
     "start_time": "2023-06-30T06:31:18.216890",
     "status": "completed"
    },
    "tags": []
   },
   "source": [
    "### 2. Check for GPU access with Pytorch"
   ]
  },
  {
   "cell_type": "code",
   "execution_count": 82,
   "id": "8668cd83",
   "metadata": {
    "execution": {
     "iopub.execute_input": "2023-06-30T06:31:18.320705Z",
     "iopub.status.busy": "2023-06-30T06:31:18.320379Z",
     "iopub.status.idle": "2023-06-30T06:31:18.424088Z",
     "shell.execute_reply": "2023-06-30T06:31:18.423158Z"
    },
    "papermill": {
     "duration": 0.140791,
     "end_time": "2023-06-30T06:31:18.426013",
     "exception": false,
     "start_time": "2023-06-30T06:31:18.285222",
     "status": "completed"
    },
    "tags": []
   },
   "outputs": [
    {
     "data": {
      "text/plain": [
       "True"
      ]
     },
     "execution_count": 82,
     "metadata": {},
     "output_type": "execute_result"
    }
   ],
   "source": [
    "# check GPU\n",
    "import torch\n",
    "torch.cuda.is_available()"
   ]
  },
  {
   "cell_type": "code",
   "execution_count": 83,
   "id": "6b0fd7cc",
   "metadata": {
    "execution": {
     "iopub.execute_input": "2023-06-30T06:31:18.497265Z",
     "iopub.status.busy": "2023-06-30T06:31:18.496650Z",
     "iopub.status.idle": "2023-06-30T06:31:18.503496Z",
     "shell.execute_reply": "2023-06-30T06:31:18.502506Z"
    },
    "papermill": {
     "duration": 0.043587,
     "end_time": "2023-06-30T06:31:18.505372",
     "exception": false,
     "start_time": "2023-06-30T06:31:18.461785",
     "status": "completed"
    },
    "tags": []
   },
   "outputs": [
    {
     "data": {
      "text/plain": [
       "'cuda'"
      ]
     },
     "execution_count": 83,
     "metadata": {},
     "output_type": "execute_result"
    }
   ],
   "source": [
    "# Setup device agnostic code\n",
    "device = 'cuda' if torch.cuda.is_available() else \"cpu\" \n",
    "device"
   ]
  },
  {
   "cell_type": "code",
   "execution_count": 84,
   "id": "966d54c0",
   "metadata": {
    "execution": {
     "iopub.execute_input": "2023-06-30T06:31:18.575821Z",
     "iopub.status.busy": "2023-06-30T06:31:18.575105Z",
     "iopub.status.idle": "2023-06-30T06:31:18.596055Z",
     "shell.execute_reply": "2023-06-30T06:31:18.595161Z"
    },
    "papermill": {
     "duration": 0.058669,
     "end_time": "2023-06-30T06:31:18.598344",
     "exception": false,
     "start_time": "2023-06-30T06:31:18.539675",
     "status": "completed"
    },
    "tags": []
   },
   "outputs": [
    {
     "data": {
      "text/plain": [
       "2"
      ]
     },
     "execution_count": 84,
     "metadata": {},
     "output_type": "execute_result"
    }
   ],
   "source": [
    "# Count no. of GPUs\n",
    "torch.cuda.device_count()"
   ]
  },
  {
   "cell_type": "markdown",
   "id": "98a17115",
   "metadata": {
    "papermill": {
     "duration": 0.034729,
     "end_time": "2023-06-30T06:31:18.667261",
     "exception": false,
     "start_time": "2023-06-30T06:31:18.632532",
     "status": "completed"
    },
    "tags": []
   },
   "source": [
    "### 3. Putting tensors and models in GPU\n",
    "To make ocomputations faster"
   ]
  },
  {
   "cell_type": "code",
   "execution_count": 85,
   "id": "f8729c80",
   "metadata": {
    "execution": {
     "iopub.execute_input": "2023-06-30T06:31:18.737539Z",
     "iopub.status.busy": "2023-06-30T06:31:18.736667Z",
     "iopub.status.idle": "2023-06-30T06:31:18.742971Z",
     "shell.execute_reply": "2023-06-30T06:31:18.742070Z"
    },
    "papermill": {
     "duration": 0.043025,
     "end_time": "2023-06-30T06:31:18.744911",
     "exception": false,
     "start_time": "2023-06-30T06:31:18.701886",
     "status": "completed"
    },
    "tags": []
   },
   "outputs": [
    {
     "name": "stdout",
     "output_type": "stream",
     "text": [
      "tensor([2, 3, 4]) cpu\n"
     ]
    }
   ],
   "source": [
    "# Create a tensor (default on CPU)\n",
    "tensor = torch.tensor([2,3,4])\n",
    "\n",
    "# Tensor device \n",
    "print(tensor, tensor.device)"
   ]
  },
  {
   "cell_type": "code",
   "execution_count": 86,
   "id": "d1d9fd75",
   "metadata": {
    "execution": {
     "iopub.execute_input": "2023-06-30T06:31:18.819080Z",
     "iopub.status.busy": "2023-06-30T06:31:18.818049Z",
     "iopub.status.idle": "2023-06-30T06:31:21.949873Z",
     "shell.execute_reply": "2023-06-30T06:31:21.948943Z"
    },
    "papermill": {
     "duration": 3.171507,
     "end_time": "2023-06-30T06:31:21.952228",
     "exception": false,
     "start_time": "2023-06-30T06:31:18.780721",
     "status": "completed"
    },
    "tags": []
   },
   "outputs": [
    {
     "data": {
      "text/plain": [
       "tensor([2, 3, 4], device='cuda:0')"
      ]
     },
     "execution_count": 86,
     "metadata": {},
     "output_type": "execute_result"
    }
   ],
   "source": [
    "# Move tensor to GPU (if available)\n",
    "tensor_on_gpu = tensor.to(device)\n",
    "tensor_on_gpu"
   ]
  },
  {
   "cell_type": "markdown",
   "id": "050c5072",
   "metadata": {
    "papermill": {
     "duration": 0.038486,
     "end_time": "2023-06-30T06:31:22.028788",
     "exception": false,
     "start_time": "2023-06-30T06:31:21.990302",
     "status": "completed"
    },
    "tags": []
   },
   "source": [
    "### 4. Moving tensor back to CPU"
   ]
  },
  {
   "cell_type": "code",
   "execution_count": 87,
   "id": "b2c27c13",
   "metadata": {
    "execution": {
     "iopub.execute_input": "2023-06-30T06:31:22.107061Z",
     "iopub.status.busy": "2023-06-30T06:31:22.106698Z",
     "iopub.status.idle": "2023-06-30T06:31:22.110858Z",
     "shell.execute_reply": "2023-06-30T06:31:22.109960Z"
    },
    "papermill": {
     "duration": 0.04776,
     "end_time": "2023-06-30T06:31:22.112841",
     "exception": false,
     "start_time": "2023-06-30T06:31:22.065081",
     "status": "completed"
    },
    "tags": []
   },
   "outputs": [],
   "source": [
    "# If tensor on GPU, can't transfer it to NumPY\n",
    "# tensor_on_gpu.numpy()"
   ]
  },
  {
   "cell_type": "code",
   "execution_count": 88,
   "id": "f259565f",
   "metadata": {
    "execution": {
     "iopub.execute_input": "2023-06-30T06:31:22.182520Z",
     "iopub.status.busy": "2023-06-30T06:31:22.181839Z",
     "iopub.status.idle": "2023-06-30T06:31:22.189009Z",
     "shell.execute_reply": "2023-06-30T06:31:22.188062Z"
    },
    "papermill": {
     "duration": 0.043485,
     "end_time": "2023-06-30T06:31:22.190970",
     "exception": false,
     "start_time": "2023-06-30T06:31:22.147485",
     "status": "completed"
    },
    "tags": []
   },
   "outputs": [
    {
     "data": {
      "text/plain": [
       "(tensor([2, 3, 4]), device(type='cpu'))"
      ]
     },
     "execution_count": 88,
     "metadata": {},
     "output_type": "execute_result"
    }
   ],
   "source": [
    "# to fix GPU tensor with NumPy issue, we have to set it to CPU\n",
    "tensor_back_on_cpu = tensor_on_gpu.to('cpu') #Alternative: tensor_on_gpu.cpu() \n",
    "tensor_back_on_cpu, tensor_back_on_cpu.device"
   ]
  },
  {
   "cell_type": "code",
   "execution_count": 89,
   "id": "05f1125c",
   "metadata": {
    "execution": {
     "iopub.execute_input": "2023-06-30T06:31:22.265004Z",
     "iopub.status.busy": "2023-06-30T06:31:22.264087Z",
     "iopub.status.idle": "2023-06-30T06:31:22.271482Z",
     "shell.execute_reply": "2023-06-30T06:31:22.270402Z"
    },
    "papermill": {
     "duration": 0.04694,
     "end_time": "2023-06-30T06:31:22.273770",
     "exception": false,
     "start_time": "2023-06-30T06:31:22.226830",
     "status": "completed"
    },
    "tags": []
   },
   "outputs": [
    {
     "data": {
      "text/plain": [
       "array([2, 3, 4])"
      ]
     },
     "execution_count": 89,
     "metadata": {},
     "output_type": "execute_result"
    }
   ],
   "source": [
    "# Tensor -> NumPy\n",
    "tensor_back_on_cpu.numpy()"
   ]
  }
 ],
 "metadata": {
  "kernelspec": {
   "display_name": "Python 3",
   "language": "python",
   "name": "python3"
  },
  "language_info": {
   "codemirror_mode": {
    "name": "ipython",
    "version": 3
   },
   "file_extension": ".py",
   "mimetype": "text/x-python",
   "name": "python",
   "nbconvert_exporter": "python",
   "pygments_lexer": "ipython3",
   "version": "3.10.10"
  },
  "papermill": {
   "default_parameters": {},
   "duration": 31.05101,
   "end_time": "2023-06-30T06:31:25.030274",
   "environment_variables": {},
   "exception": null,
   "input_path": "__notebook__.ipynb",
   "output_path": "__notebook__.ipynb",
   "parameters": {},
   "start_time": "2023-06-30T06:30:53.979264",
   "version": "2.4.0"
  }
 },
 "nbformat": 4,
 "nbformat_minor": 5
}
