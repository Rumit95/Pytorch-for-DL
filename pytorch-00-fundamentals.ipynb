{
 "cells": [
  {
   "cell_type": "code",
   "execution_count": 1,
   "id": "0f39c124",
   "metadata": {
    "_cell_guid": "b1076dfc-b9ad-4769-8c92-a6c4dae69d19",
    "_uuid": "8f2839f25d086af736a60e9eeb907d3b93b6e0e5",
    "execution": {
     "iopub.execute_input": "2023-06-29T17:00:30.727147Z",
     "iopub.status.busy": "2023-06-29T17:00:30.726432Z",
     "iopub.status.idle": "2023-06-29T17:00:36.867601Z",
     "shell.execute_reply": "2023-06-29T17:00:36.866631Z"
    },
    "papermill": {
     "duration": 6.168722,
     "end_time": "2023-06-29T17:00:36.869767",
     "exception": false,
     "start_time": "2023-06-29T17:00:30.701045",
     "status": "completed"
    },
    "tags": []
   },
   "outputs": [
    {
     "data": {
      "text/plain": [
       "'2.0.0'"
      ]
     },
     "execution_count": 1,
     "metadata": {},
     "output_type": "execute_result"
    }
   ],
   "source": [
    "import torch\n",
    "import pandas as pd\n",
    "import numpy as np\n",
    "import matplotlib.pyplot as plt\n",
    "torch.__version__"
   ]
  },
  {
   "cell_type": "markdown",
   "id": "e96d136a",
   "metadata": {
    "execution": {
     "iopub.execute_input": "2023-06-25T15:31:29.081596Z",
     "iopub.status.busy": "2023-06-25T15:31:29.081220Z",
     "iopub.status.idle": "2023-06-25T15:31:29.086052Z",
     "shell.execute_reply": "2023-06-25T15:31:29.085102Z",
     "shell.execute_reply.started": "2023-06-25T15:31:29.081561Z"
    },
    "papermill": {
     "duration": 0.02448,
     "end_time": "2023-06-29T17:00:36.918343",
     "exception": false,
     "start_time": "2023-06-29T17:00:36.893863",
     "status": "completed"
    },
    "tags": []
   },
   "source": [
    "## Introduction to Tensor\n",
    "\n",
    "### Creating Tensors\n",
    "\n",
    "PyTorch tensor are create using `torch.Tensor()`\n",
    "\n",
    "ref -\n",
    "* https://pytorch.org/docs/stable/tensors.html"
   ]
  },
  {
   "cell_type": "code",
   "execution_count": 2,
   "id": "5f913363",
   "metadata": {
    "execution": {
     "iopub.execute_input": "2023-06-29T17:00:36.966801Z",
     "iopub.status.busy": "2023-06-29T17:00:36.966218Z",
     "iopub.status.idle": "2023-06-29T17:00:37.026291Z",
     "shell.execute_reply": "2023-06-29T17:00:37.025251Z"
    },
    "papermill": {
     "duration": 0.086314,
     "end_time": "2023-06-29T17:00:37.028249",
     "exception": false,
     "start_time": "2023-06-29T17:00:36.941935",
     "status": "completed"
    },
    "tags": []
   },
   "outputs": [
    {
     "data": {
      "text/plain": [
       "tensor(7)"
      ]
     },
     "execution_count": 2,
     "metadata": {},
     "output_type": "execute_result"
    }
   ],
   "source": [
    "# Scaler\n",
    "scaler = torch.tensor(7)\n",
    "scaler"
   ]
  },
  {
   "cell_type": "code",
   "execution_count": 3,
   "id": "1d852efc",
   "metadata": {
    "execution": {
     "iopub.execute_input": "2023-06-29T17:00:37.078136Z",
     "iopub.status.busy": "2023-06-29T17:00:37.077395Z",
     "iopub.status.idle": "2023-06-29T17:00:37.083286Z",
     "shell.execute_reply": "2023-06-29T17:00:37.082318Z"
    },
    "papermill": {
     "duration": 0.032528,
     "end_time": "2023-06-29T17:00:37.085286",
     "exception": false,
     "start_time": "2023-06-29T17:00:37.052758",
     "status": "completed"
    },
    "tags": []
   },
   "outputs": [
    {
     "data": {
      "text/plain": [
       "0"
      ]
     },
     "execution_count": 3,
     "metadata": {},
     "output_type": "execute_result"
    }
   ],
   "source": [
    "scaler.ndim"
   ]
  },
  {
   "cell_type": "code",
   "execution_count": 4,
   "id": "239bdc79",
   "metadata": {
    "execution": {
     "iopub.execute_input": "2023-06-29T17:00:37.136243Z",
     "iopub.status.busy": "2023-06-29T17:00:37.135304Z",
     "iopub.status.idle": "2023-06-29T17:00:37.141582Z",
     "shell.execute_reply": "2023-06-29T17:00:37.140532Z"
    },
    "papermill": {
     "duration": 0.034004,
     "end_time": "2023-06-29T17:00:37.143775",
     "exception": false,
     "start_time": "2023-06-29T17:00:37.109771",
     "status": "completed"
    },
    "tags": []
   },
   "outputs": [
    {
     "data": {
      "text/plain": [
       "7"
      ]
     },
     "execution_count": 4,
     "metadata": {},
     "output_type": "execute_result"
    }
   ],
   "source": [
    "# Get Tensor back ans int\n",
    "scaler.item()"
   ]
  },
  {
   "cell_type": "code",
   "execution_count": 5,
   "id": "abd2a0ec",
   "metadata": {
    "execution": {
     "iopub.execute_input": "2023-06-29T17:00:37.193854Z",
     "iopub.status.busy": "2023-06-29T17:00:37.193575Z",
     "iopub.status.idle": "2023-06-29T17:00:37.201856Z",
     "shell.execute_reply": "2023-06-29T17:00:37.200936Z"
    },
    "papermill": {
     "duration": 0.035652,
     "end_time": "2023-06-29T17:00:37.204038",
     "exception": false,
     "start_time": "2023-06-29T17:00:37.168386",
     "status": "completed"
    },
    "tags": []
   },
   "outputs": [
    {
     "data": {
      "text/plain": [
       "tensor([7, 7])"
      ]
     },
     "execution_count": 5,
     "metadata": {},
     "output_type": "execute_result"
    }
   ],
   "source": [
    "# Vector\n",
    "vector = torch.tensor([7,7])\n",
    "vector"
   ]
  },
  {
   "cell_type": "code",
   "execution_count": 6,
   "id": "1dc99b3d",
   "metadata": {
    "execution": {
     "iopub.execute_input": "2023-06-29T17:00:37.256087Z",
     "iopub.status.busy": "2023-06-29T17:00:37.255324Z",
     "iopub.status.idle": "2023-06-29T17:00:37.261141Z",
     "shell.execute_reply": "2023-06-29T17:00:37.260247Z"
    },
    "papermill": {
     "duration": 0.032669,
     "end_time": "2023-06-29T17:00:37.263086",
     "exception": false,
     "start_time": "2023-06-29T17:00:37.230417",
     "status": "completed"
    },
    "tags": []
   },
   "outputs": [
    {
     "data": {
      "text/plain": [
       "1"
      ]
     },
     "execution_count": 6,
     "metadata": {},
     "output_type": "execute_result"
    }
   ],
   "source": [
    "vector.ndim"
   ]
  },
  {
   "cell_type": "code",
   "execution_count": 7,
   "id": "b2b43d41",
   "metadata": {
    "execution": {
     "iopub.execute_input": "2023-06-29T17:00:37.316104Z",
     "iopub.status.busy": "2023-06-29T17:00:37.315284Z",
     "iopub.status.idle": "2023-06-29T17:00:37.321298Z",
     "shell.execute_reply": "2023-06-29T17:00:37.320399Z"
    },
    "papermill": {
     "duration": 0.034949,
     "end_time": "2023-06-29T17:00:37.323168",
     "exception": false,
     "start_time": "2023-06-29T17:00:37.288219",
     "status": "completed"
    },
    "tags": []
   },
   "outputs": [
    {
     "data": {
      "text/plain": [
       "torch.Size([2])"
      ]
     },
     "execution_count": 7,
     "metadata": {},
     "output_type": "execute_result"
    }
   ],
   "source": [
    "vector.shape"
   ]
  },
  {
   "cell_type": "code",
   "execution_count": 8,
   "id": "80bdc523",
   "metadata": {
    "execution": {
     "iopub.execute_input": "2023-06-29T17:00:37.375049Z",
     "iopub.status.busy": "2023-06-29T17:00:37.374296Z",
     "iopub.status.idle": "2023-06-29T17:00:37.384844Z",
     "shell.execute_reply": "2023-06-29T17:00:37.383928Z"
    },
    "papermill": {
     "duration": 0.037384,
     "end_time": "2023-06-29T17:00:37.386874",
     "exception": false,
     "start_time": "2023-06-29T17:00:37.349490",
     "status": "completed"
    },
    "tags": []
   },
   "outputs": [
    {
     "data": {
      "text/plain": [
       "tensor([[7, 8],\n",
       "        [6, 5]])"
      ]
     },
     "execution_count": 8,
     "metadata": {},
     "output_type": "execute_result"
    }
   ],
   "source": [
    "# Matrix\n",
    "MATRIX = torch.tensor([[7,8],\n",
    "                      [6,5]])\n",
    "MATRIX"
   ]
  },
  {
   "cell_type": "code",
   "execution_count": 9,
   "id": "3d2d5695",
   "metadata": {
    "execution": {
     "iopub.execute_input": "2023-06-29T17:00:37.437211Z",
     "iopub.status.busy": "2023-06-29T17:00:37.436613Z",
     "iopub.status.idle": "2023-06-29T17:00:37.441885Z",
     "shell.execute_reply": "2023-06-29T17:00:37.441090Z"
    },
    "papermill": {
     "duration": 0.032832,
     "end_time": "2023-06-29T17:00:37.443970",
     "exception": false,
     "start_time": "2023-06-29T17:00:37.411138",
     "status": "completed"
    },
    "tags": []
   },
   "outputs": [
    {
     "data": {
      "text/plain": [
       "2"
      ]
     },
     "execution_count": 9,
     "metadata": {},
     "output_type": "execute_result"
    }
   ],
   "source": [
    "MATRIX.ndim"
   ]
  },
  {
   "cell_type": "code",
   "execution_count": 10,
   "id": "5e28a038",
   "metadata": {
    "execution": {
     "iopub.execute_input": "2023-06-29T17:00:37.494982Z",
     "iopub.status.busy": "2023-06-29T17:00:37.494199Z",
     "iopub.status.idle": "2023-06-29T17:00:37.500468Z",
     "shell.execute_reply": "2023-06-29T17:00:37.499488Z"
    },
    "papermill": {
     "duration": 0.034099,
     "end_time": "2023-06-29T17:00:37.502598",
     "exception": false,
     "start_time": "2023-06-29T17:00:37.468499",
     "status": "completed"
    },
    "tags": []
   },
   "outputs": [
    {
     "data": {
      "text/plain": [
       "tensor([7, 8])"
      ]
     },
     "execution_count": 10,
     "metadata": {},
     "output_type": "execute_result"
    }
   ],
   "source": [
    "MATRIX[0]"
   ]
  },
  {
   "cell_type": "code",
   "execution_count": 11,
   "id": "7e0b15b1",
   "metadata": {
    "execution": {
     "iopub.execute_input": "2023-06-29T17:00:37.554014Z",
     "iopub.status.busy": "2023-06-29T17:00:37.553201Z",
     "iopub.status.idle": "2023-06-29T17:00:37.559676Z",
     "shell.execute_reply": "2023-06-29T17:00:37.558705Z"
    },
    "papermill": {
     "duration": 0.034356,
     "end_time": "2023-06-29T17:00:37.561576",
     "exception": false,
     "start_time": "2023-06-29T17:00:37.527220",
     "status": "completed"
    },
    "tags": []
   },
   "outputs": [
    {
     "data": {
      "text/plain": [
       "tensor([6, 5])"
      ]
     },
     "execution_count": 11,
     "metadata": {},
     "output_type": "execute_result"
    }
   ],
   "source": [
    "MATRIX[1]"
   ]
  },
  {
   "cell_type": "code",
   "execution_count": 12,
   "id": "d970736b",
   "metadata": {
    "execution": {
     "iopub.execute_input": "2023-06-29T17:00:37.613823Z",
     "iopub.status.busy": "2023-06-29T17:00:37.612953Z",
     "iopub.status.idle": "2023-06-29T17:00:37.619126Z",
     "shell.execute_reply": "2023-06-29T17:00:37.618197Z"
    },
    "papermill": {
     "duration": 0.033499,
     "end_time": "2023-06-29T17:00:37.621054",
     "exception": false,
     "start_time": "2023-06-29T17:00:37.587555",
     "status": "completed"
    },
    "tags": []
   },
   "outputs": [
    {
     "data": {
      "text/plain": [
       "torch.Size([2, 2])"
      ]
     },
     "execution_count": 12,
     "metadata": {},
     "output_type": "execute_result"
    }
   ],
   "source": [
    "MATRIX.shape"
   ]
  },
  {
   "cell_type": "code",
   "execution_count": 13,
   "id": "f53c1c9a",
   "metadata": {
    "execution": {
     "iopub.execute_input": "2023-06-29T17:00:37.672914Z",
     "iopub.status.busy": "2023-06-29T17:00:37.672160Z",
     "iopub.status.idle": "2023-06-29T17:00:37.679163Z",
     "shell.execute_reply": "2023-06-29T17:00:37.678244Z"
    },
    "papermill": {
     "duration": 0.034705,
     "end_time": "2023-06-29T17:00:37.681068",
     "exception": false,
     "start_time": "2023-06-29T17:00:37.646363",
     "status": "completed"
    },
    "tags": []
   },
   "outputs": [
    {
     "data": {
      "text/plain": [
       "tensor([[[1, 2, 3],\n",
       "         [5, 6, 6],\n",
       "         [7, 8, 9]]])"
      ]
     },
     "execution_count": 13,
     "metadata": {},
     "output_type": "execute_result"
    }
   ],
   "source": [
    "# Tensor\n",
    "TENSOR = torch.tensor([[[1,2,3],\n",
    "                      [5,6,6],\n",
    "                      [7,8,9]]])\n",
    "TENSOR"
   ]
  },
  {
   "cell_type": "code",
   "execution_count": 14,
   "id": "b79afa7d",
   "metadata": {
    "execution": {
     "iopub.execute_input": "2023-06-29T17:00:37.732733Z",
     "iopub.status.busy": "2023-06-29T17:00:37.731948Z",
     "iopub.status.idle": "2023-06-29T17:00:37.737888Z",
     "shell.execute_reply": "2023-06-29T17:00:37.736925Z"
    },
    "papermill": {
     "duration": 0.033823,
     "end_time": "2023-06-29T17:00:37.739761",
     "exception": false,
     "start_time": "2023-06-29T17:00:37.705938",
     "status": "completed"
    },
    "tags": []
   },
   "outputs": [
    {
     "data": {
      "text/plain": [
       "3"
      ]
     },
     "execution_count": 14,
     "metadata": {},
     "output_type": "execute_result"
    }
   ],
   "source": [
    "TENSOR.ndim"
   ]
  },
  {
   "cell_type": "code",
   "execution_count": 15,
   "id": "5116a12f",
   "metadata": {
    "execution": {
     "iopub.execute_input": "2023-06-29T17:00:37.791130Z",
     "iopub.status.busy": "2023-06-29T17:00:37.790480Z",
     "iopub.status.idle": "2023-06-29T17:00:37.795888Z",
     "shell.execute_reply": "2023-06-29T17:00:37.795010Z"
    },
    "papermill": {
     "duration": 0.033523,
     "end_time": "2023-06-29T17:00:37.798142",
     "exception": false,
     "start_time": "2023-06-29T17:00:37.764619",
     "status": "completed"
    },
    "tags": []
   },
   "outputs": [
    {
     "data": {
      "text/plain": [
       "torch.Size([1, 3, 3])"
      ]
     },
     "execution_count": 15,
     "metadata": {},
     "output_type": "execute_result"
    }
   ],
   "source": [
    "TENSOR.shape"
   ]
  },
  {
   "cell_type": "code",
   "execution_count": 16,
   "id": "7c0da3b2",
   "metadata": {
    "execution": {
     "iopub.execute_input": "2023-06-29T17:00:37.851577Z",
     "iopub.status.busy": "2023-06-29T17:00:37.850816Z",
     "iopub.status.idle": "2023-06-29T17:00:37.857404Z",
     "shell.execute_reply": "2023-06-29T17:00:37.856395Z"
    },
    "papermill": {
     "duration": 0.035112,
     "end_time": "2023-06-29T17:00:37.859359",
     "exception": false,
     "start_time": "2023-06-29T17:00:37.824247",
     "status": "completed"
    },
    "tags": []
   },
   "outputs": [
    {
     "data": {
      "text/plain": [
       "tensor([[1, 2, 3],\n",
       "        [5, 6, 6],\n",
       "        [7, 8, 9]])"
      ]
     },
     "execution_count": 16,
     "metadata": {},
     "output_type": "execute_result"
    }
   ],
   "source": [
    "TENSOR[0]"
   ]
  },
  {
   "cell_type": "code",
   "execution_count": 17,
   "id": "01605141",
   "metadata": {
    "execution": {
     "iopub.execute_input": "2023-06-29T17:00:37.912472Z",
     "iopub.status.busy": "2023-06-29T17:00:37.911833Z",
     "iopub.status.idle": "2023-06-29T17:00:37.920156Z",
     "shell.execute_reply": "2023-06-29T17:00:37.919116Z"
    },
    "papermill": {
     "duration": 0.037145,
     "end_time": "2023-06-29T17:00:37.922203",
     "exception": false,
     "start_time": "2023-06-29T17:00:37.885058",
     "status": "completed"
    },
    "tags": []
   },
   "outputs": [
    {
     "data": {
      "text/plain": [
       "tensor([[[1, 2, 3],\n",
       "         [4, 5, 6],\n",
       "         [7, 8, 9]],\n",
       "\n",
       "        [[1, 2, 3],\n",
       "         [4, 5, 6],\n",
       "         [7, 8, 9]]])"
      ]
     },
     "execution_count": 17,
     "metadata": {},
     "output_type": "execute_result"
    }
   ],
   "source": [
    "# Practice\n",
    "TENSOR1 = torch.tensor([[[1,2,3],\n",
    "                      [4,5,6],\n",
    "                      [7,8,9]],\n",
    "                     [[1,2,3],\n",
    "                      [4,5,6],\n",
    "                      [7,8,9]]])\n",
    "TENSOR1"
   ]
  },
  {
   "cell_type": "code",
   "execution_count": 18,
   "id": "c1eb67be",
   "metadata": {
    "execution": {
     "iopub.execute_input": "2023-06-29T17:00:37.975390Z",
     "iopub.status.busy": "2023-06-29T17:00:37.975071Z",
     "iopub.status.idle": "2023-06-29T17:00:37.980615Z",
     "shell.execute_reply": "2023-06-29T17:00:37.979733Z"
    },
    "papermill": {
     "duration": 0.034491,
     "end_time": "2023-06-29T17:00:37.982639",
     "exception": false,
     "start_time": "2023-06-29T17:00:37.948148",
     "status": "completed"
    },
    "tags": []
   },
   "outputs": [
    {
     "data": {
      "text/plain": [
       "3"
      ]
     },
     "execution_count": 18,
     "metadata": {},
     "output_type": "execute_result"
    }
   ],
   "source": [
    "TENSOR1.ndim"
   ]
  },
  {
   "cell_type": "code",
   "execution_count": 19,
   "id": "1376dccd",
   "metadata": {
    "execution": {
     "iopub.execute_input": "2023-06-29T17:00:38.036804Z",
     "iopub.status.busy": "2023-06-29T17:00:38.036489Z",
     "iopub.status.idle": "2023-06-29T17:00:38.041911Z",
     "shell.execute_reply": "2023-06-29T17:00:38.041037Z"
    },
    "papermill": {
     "duration": 0.034886,
     "end_time": "2023-06-29T17:00:38.043919",
     "exception": false,
     "start_time": "2023-06-29T17:00:38.009033",
     "status": "completed"
    },
    "tags": []
   },
   "outputs": [
    {
     "data": {
      "text/plain": [
       "torch.Size([2, 3, 3])"
      ]
     },
     "execution_count": 19,
     "metadata": {},
     "output_type": "execute_result"
    }
   ],
   "source": [
    "TENSOR1.shape"
   ]
  },
  {
   "cell_type": "markdown",
   "id": "3b648ab4",
   "metadata": {
    "execution": {
     "iopub.execute_input": "2023-06-25T15:53:52.605155Z",
     "iopub.status.busy": "2023-06-25T15:53:52.604740Z",
     "iopub.status.idle": "2023-06-25T15:53:52.609815Z",
     "shell.execute_reply": "2023-06-25T15:53:52.608929Z",
     "shell.execute_reply.started": "2023-06-25T15:53:52.605124Z"
    },
    "papermill": {
     "duration": 0.025928,
     "end_time": "2023-06-29T17:00:38.095393",
     "exception": false,
     "start_time": "2023-06-29T17:00:38.069465",
     "status": "completed"
    },
    "tags": []
   },
   "source": [
    "### Random Tensor\n",
    "\n",
    "Why Random Nos. ?\n",
    "\n",
    "`Start with Random Numbers -> Look at Data -> Update Random Numbers -> Look at Data -> Update Random Numbers`\n",
    "\n",
    "ref -\n",
    "* https://pytorch.org/docs/stable/generated/torch.rand.html"
   ]
  },
  {
   "cell_type": "code",
   "execution_count": 20,
   "id": "6c5b2855",
   "metadata": {
    "execution": {
     "iopub.execute_input": "2023-06-29T17:00:38.158423Z",
     "iopub.status.busy": "2023-06-29T17:00:38.156825Z",
     "iopub.status.idle": "2023-06-29T17:00:38.258115Z",
     "shell.execute_reply": "2023-06-29T17:00:38.257208Z"
    },
    "papermill": {
     "duration": 0.138326,
     "end_time": "2023-06-29T17:00:38.260015",
     "exception": false,
     "start_time": "2023-06-29T17:00:38.121689",
     "status": "completed"
    },
    "tags": []
   },
   "outputs": [
    {
     "data": {
      "text/plain": [
       "tensor([[[0.8539, 0.7625, 0.1954],\n",
       "         [0.2056, 0.9298, 0.8078],\n",
       "         [0.3890, 0.7798, 0.0625],\n",
       "         [0.1557, 0.2219, 0.6296]],\n",
       "\n",
       "        [[0.6979, 0.7331, 0.4061],\n",
       "         [0.1778, 0.0385, 0.4430],\n",
       "         [0.8990, 0.5491, 0.7013],\n",
       "         [0.9606, 0.1841, 0.4116]],\n",
       "\n",
       "        [[0.9928, 0.4956, 0.0081],\n",
       "         [0.0248, 0.4685, 0.7502],\n",
       "         [0.5825, 0.3383, 0.1066],\n",
       "         [0.5220, 0.8607, 0.3524]]])"
      ]
     },
     "execution_count": 20,
     "metadata": {},
     "output_type": "execute_result"
    }
   ],
   "source": [
    "# Create a random tensor of size(3,4)\n",
    "random_tensor = torch.rand(3,4,3)\n",
    "random_tensor"
   ]
  },
  {
   "cell_type": "code",
   "execution_count": 21,
   "id": "2613f570",
   "metadata": {
    "execution": {
     "iopub.execute_input": "2023-06-29T17:00:38.328190Z",
     "iopub.status.busy": "2023-06-29T17:00:38.327712Z",
     "iopub.status.idle": "2023-06-29T17:00:38.334641Z",
     "shell.execute_reply": "2023-06-29T17:00:38.333611Z"
    },
    "papermill": {
     "duration": 0.057291,
     "end_time": "2023-06-29T17:00:38.343010",
     "exception": false,
     "start_time": "2023-06-29T17:00:38.285719",
     "status": "completed"
    },
    "tags": []
   },
   "outputs": [
    {
     "data": {
      "text/plain": [
       "3"
      ]
     },
     "execution_count": 21,
     "metadata": {},
     "output_type": "execute_result"
    }
   ],
   "source": [
    "random_tensor.ndim"
   ]
  },
  {
   "cell_type": "code",
   "execution_count": 22,
   "id": "beb40bc5",
   "metadata": {
    "execution": {
     "iopub.execute_input": "2023-06-29T17:00:38.419337Z",
     "iopub.status.busy": "2023-06-29T17:00:38.419054Z",
     "iopub.status.idle": "2023-06-29T17:00:38.424586Z",
     "shell.execute_reply": "2023-06-29T17:00:38.423707Z"
    },
    "papermill": {
     "duration": 0.034957,
     "end_time": "2023-06-29T17:00:38.426606",
     "exception": false,
     "start_time": "2023-06-29T17:00:38.391649",
     "status": "completed"
    },
    "tags": []
   },
   "outputs": [
    {
     "data": {
      "text/plain": [
       "torch.Size([3, 4, 3])"
      ]
     },
     "execution_count": 22,
     "metadata": {},
     "output_type": "execute_result"
    }
   ],
   "source": [
    "random_tensor.shape"
   ]
  },
  {
   "cell_type": "code",
   "execution_count": 23,
   "id": "b35ccb9c",
   "metadata": {
    "execution": {
     "iopub.execute_input": "2023-06-29T17:00:38.481218Z",
     "iopub.status.busy": "2023-06-29T17:00:38.480449Z",
     "iopub.status.idle": "2023-06-29T17:00:38.495338Z",
     "shell.execute_reply": "2023-06-29T17:00:38.494399Z"
    },
    "papermill": {
     "duration": 0.044377,
     "end_time": "2023-06-29T17:00:38.497389",
     "exception": false,
     "start_time": "2023-06-29T17:00:38.453012",
     "status": "completed"
    },
    "scrolled": true,
    "tags": []
   },
   "outputs": [
    {
     "data": {
      "text/plain": [
       "tensor([[[0.5580, 0.5930, 0.8804],\n",
       "         [0.6834, 0.9404, 0.3364],\n",
       "         [0.4804, 0.6882, 0.5437],\n",
       "         ...,\n",
       "         [0.6753, 0.6696, 0.7220],\n",
       "         [0.8088, 0.2491, 0.8393],\n",
       "         [0.9343, 0.2813, 0.4588]],\n",
       "\n",
       "        [[0.7310, 0.0815, 0.0709],\n",
       "         [0.8563, 0.2594, 0.9212],\n",
       "         [0.6166, 0.8482, 0.5895],\n",
       "         ...,\n",
       "         [0.4933, 0.2701, 0.7788],\n",
       "         [0.8472, 0.4714, 0.8920],\n",
       "         [0.3112, 0.5345, 0.2280]],\n",
       "\n",
       "        [[0.3122, 0.1984, 0.9478],\n",
       "         [0.2891, 0.3217, 0.3479],\n",
       "         [0.5221, 0.2614, 0.2839],\n",
       "         ...,\n",
       "         [0.4929, 0.4794, 0.5909],\n",
       "         [0.4080, 0.8620, 0.1098],\n",
       "         [0.2628, 0.0925, 0.2178]],\n",
       "\n",
       "        ...,\n",
       "\n",
       "        [[0.1081, 0.7259, 0.3954],\n",
       "         [0.3234, 0.0067, 0.0203],\n",
       "         [0.4308, 0.2835, 0.0357],\n",
       "         ...,\n",
       "         [0.2654, 0.6410, 0.7593],\n",
       "         [0.5579, 0.1956, 0.7169],\n",
       "         [0.9546, 0.5826, 0.5295]],\n",
       "\n",
       "        [[0.9367, 0.5849, 0.1804],\n",
       "         [0.5669, 0.1236, 0.5978],\n",
       "         [0.2625, 0.1847, 0.9587],\n",
       "         ...,\n",
       "         [0.1400, 0.2654, 0.7689],\n",
       "         [0.9351, 0.2997, 0.7434],\n",
       "         [0.0437, 0.0635, 0.2810]],\n",
       "\n",
       "        [[0.6912, 0.4744, 0.0231],\n",
       "         [0.9856, 0.9442, 0.9797],\n",
       "         [0.1413, 0.8080, 0.9445],\n",
       "         ...,\n",
       "         [0.8617, 0.2018, 0.6036],\n",
       "         [0.6368, 0.1995, 0.9258],\n",
       "         [0.7478, 0.6582, 0.4539]]])"
      ]
     },
     "execution_count": 23,
     "metadata": {},
     "output_type": "execute_result"
    }
   ],
   "source": [
    "# Creating Random tensor similar to Image Shape\n",
    "random_image_size_tensor = torch.rand(size=[224,224,3],) # height, width , color channels\n",
    "random_image_size_tensor"
   ]
  },
  {
   "cell_type": "code",
   "execution_count": 24,
   "id": "9ccdd5de",
   "metadata": {
    "execution": {
     "iopub.execute_input": "2023-06-29T17:00:38.551766Z",
     "iopub.status.busy": "2023-06-29T17:00:38.550996Z",
     "iopub.status.idle": "2023-06-29T17:00:38.556987Z",
     "shell.execute_reply": "2023-06-29T17:00:38.555911Z"
    },
    "papermill": {
     "duration": 0.035666,
     "end_time": "2023-06-29T17:00:38.559215",
     "exception": false,
     "start_time": "2023-06-29T17:00:38.523549",
     "status": "completed"
    },
    "tags": []
   },
   "outputs": [
    {
     "data": {
      "text/plain": [
       "3"
      ]
     },
     "execution_count": 24,
     "metadata": {},
     "output_type": "execute_result"
    }
   ],
   "source": [
    "random_image_size_tensor.ndim"
   ]
  },
  {
   "cell_type": "code",
   "execution_count": 25,
   "id": "c6ba0e3c",
   "metadata": {
    "execution": {
     "iopub.execute_input": "2023-06-29T17:00:38.614150Z",
     "iopub.status.busy": "2023-06-29T17:00:38.613397Z",
     "iopub.status.idle": "2023-06-29T17:00:38.619084Z",
     "shell.execute_reply": "2023-06-29T17:00:38.618176Z"
    },
    "papermill": {
     "duration": 0.03505,
     "end_time": "2023-06-29T17:00:38.620996",
     "exception": false,
     "start_time": "2023-06-29T17:00:38.585946",
     "status": "completed"
    },
    "tags": []
   },
   "outputs": [
    {
     "data": {
      "text/plain": [
       "torch.Size([224, 224, 3])"
      ]
     },
     "execution_count": 25,
     "metadata": {},
     "output_type": "execute_result"
    }
   ],
   "source": [
    "random_image_size_tensor.shape"
   ]
  },
  {
   "cell_type": "markdown",
   "id": "72b0198a",
   "metadata": {
    "papermill": {
     "duration": 0.029645,
     "end_time": "2023-06-29T17:00:38.678123",
     "exception": false,
     "start_time": "2023-06-29T17:00:38.648478",
     "status": "completed"
    },
    "tags": []
   },
   "source": [
    "### Zeroes and Ones"
   ]
  },
  {
   "cell_type": "code",
   "execution_count": 26,
   "id": "7b44192f",
   "metadata": {
    "execution": {
     "iopub.execute_input": "2023-06-29T17:00:38.739329Z",
     "iopub.status.busy": "2023-06-29T17:00:38.738348Z",
     "iopub.status.idle": "2023-06-29T17:00:38.748999Z",
     "shell.execute_reply": "2023-06-29T17:00:38.748038Z"
    },
    "papermill": {
     "duration": 0.042794,
     "end_time": "2023-06-29T17:00:38.751126",
     "exception": false,
     "start_time": "2023-06-29T17:00:38.708332",
     "status": "completed"
    },
    "tags": []
   },
   "outputs": [
    {
     "data": {
      "text/plain": [
       "tensor([[0., 0., 0., 0.],\n",
       "        [0., 0., 0., 0.],\n",
       "        [0., 0., 0., 0.]])"
      ]
     },
     "execution_count": 26,
     "metadata": {},
     "output_type": "execute_result"
    }
   ],
   "source": [
    "# Create a tenor of all zeros\n",
    "zeros = torch.zeros(3,4)\n",
    "zeros"
   ]
  },
  {
   "cell_type": "code",
   "execution_count": 27,
   "id": "0009f7b0",
   "metadata": {
    "execution": {
     "iopub.execute_input": "2023-06-29T17:00:38.814564Z",
     "iopub.status.busy": "2023-06-29T17:00:38.813599Z",
     "iopub.status.idle": "2023-06-29T17:00:38.821494Z",
     "shell.execute_reply": "2023-06-29T17:00:38.820385Z"
    },
    "papermill": {
     "duration": 0.041977,
     "end_time": "2023-06-29T17:00:38.823900",
     "exception": false,
     "start_time": "2023-06-29T17:00:38.781923",
     "status": "completed"
    },
    "tags": []
   },
   "outputs": [
    {
     "data": {
      "text/plain": [
       "tensor([[0., 0., 0., 0.],\n",
       "        [0., 0., 0., 0.],\n",
       "        [0., 0., 0., 0.]])"
      ]
     },
     "execution_count": 27,
     "metadata": {},
     "output_type": "execute_result"
    }
   ],
   "source": [
    "zeros * torch.rand(3,4)"
   ]
  },
  {
   "cell_type": "code",
   "execution_count": 28,
   "id": "bc1fb813",
   "metadata": {
    "execution": {
     "iopub.execute_input": "2023-06-29T17:00:38.883532Z",
     "iopub.status.busy": "2023-06-29T17:00:38.883248Z",
     "iopub.status.idle": "2023-06-29T17:00:38.891505Z",
     "shell.execute_reply": "2023-06-29T17:00:38.890472Z"
    },
    "papermill": {
     "duration": 0.039837,
     "end_time": "2023-06-29T17:00:38.893767",
     "exception": false,
     "start_time": "2023-06-29T17:00:38.853930",
     "status": "completed"
    },
    "tags": []
   },
   "outputs": [
    {
     "data": {
      "text/plain": [
       "tensor([[1, 1, 1, 1],\n",
       "        [1, 1, 1, 1],\n",
       "        [1, 1, 1, 1]])"
      ]
     },
     "execution_count": 28,
     "metadata": {},
     "output_type": "execute_result"
    }
   ],
   "source": [
    "# Create tensor of all ones\n",
    "ones = torch.ones(size=(3,4),dtype=int)\n",
    "ones"
   ]
  },
  {
   "cell_type": "code",
   "execution_count": 29,
   "id": "0c390956",
   "metadata": {
    "execution": {
     "iopub.execute_input": "2023-06-29T17:00:38.954154Z",
     "iopub.status.busy": "2023-06-29T17:00:38.953333Z",
     "iopub.status.idle": "2023-06-29T17:00:38.959561Z",
     "shell.execute_reply": "2023-06-29T17:00:38.958572Z"
    },
    "papermill": {
     "duration": 0.038438,
     "end_time": "2023-06-29T17:00:38.961731",
     "exception": false,
     "start_time": "2023-06-29T17:00:38.923293",
     "status": "completed"
    },
    "tags": []
   },
   "outputs": [
    {
     "data": {
      "text/plain": [
       "torch.int64"
      ]
     },
     "execution_count": 29,
     "metadata": {},
     "output_type": "execute_result"
    }
   ],
   "source": [
    "ones.dtype"
   ]
  },
  {
   "cell_type": "markdown",
   "id": "61168349",
   "metadata": {
    "execution": {
     "iopub.execute_input": "2023-06-25T16:24:23.852212Z",
     "iopub.status.busy": "2023-06-25T16:24:23.851772Z",
     "iopub.status.idle": "2023-06-25T16:24:23.857025Z",
     "shell.execute_reply": "2023-06-25T16:24:23.856069Z",
     "shell.execute_reply.started": "2023-06-25T16:24:23.852179Z"
    },
    "papermill": {
     "duration": 0.027473,
     "end_time": "2023-06-29T17:00:39.017051",
     "exception": false,
     "start_time": "2023-06-29T17:00:38.989578",
     "status": "completed"
    },
    "tags": []
   },
   "source": [
    "### Create a range of tensors and tensors-like\n",
    "\n",
    "ref -\n",
    "* https://pytorch.org/docs/stable/generated/torch.arange.html"
   ]
  },
  {
   "cell_type": "code",
   "execution_count": 30,
   "id": "0ff3d375",
   "metadata": {
    "execution": {
     "iopub.execute_input": "2023-06-29T17:00:39.074612Z",
     "iopub.status.busy": "2023-06-29T17:00:39.073879Z",
     "iopub.status.idle": "2023-06-29T17:00:39.086472Z",
     "shell.execute_reply": "2023-06-29T17:00:39.085452Z"
    },
    "papermill": {
     "duration": 0.04364,
     "end_time": "2023-06-29T17:00:39.088478",
     "exception": false,
     "start_time": "2023-06-29T17:00:39.044838",
     "status": "completed"
    },
    "tags": []
   },
   "outputs": [
    {
     "data": {
      "text/plain": [
       "tensor([ 1,  2,  3,  4,  5,  6,  7,  8,  9, 10])"
      ]
     },
     "execution_count": 30,
     "metadata": {},
     "output_type": "execute_result"
    }
   ],
   "source": [
    "# Use torch.arange()\n",
    "one_to_ten = torch.arange(start=1, end=11, step=1)\n",
    "one_to_ten"
   ]
  },
  {
   "cell_type": "code",
   "execution_count": 31,
   "id": "ff165acd",
   "metadata": {
    "execution": {
     "iopub.execute_input": "2023-06-29T17:00:39.157059Z",
     "iopub.status.busy": "2023-06-29T17:00:39.156003Z",
     "iopub.status.idle": "2023-06-29T17:00:39.163144Z",
     "shell.execute_reply": "2023-06-29T17:00:39.162179Z"
    },
    "papermill": {
     "duration": 0.039413,
     "end_time": "2023-06-29T17:00:39.165230",
     "exception": false,
     "start_time": "2023-06-29T17:00:39.125817",
     "status": "completed"
    },
    "tags": []
   },
   "outputs": [
    {
     "data": {
      "text/plain": [
       "tensor([0, 0, 0, 0, 0, 0, 0, 0, 0, 0])"
      ]
     },
     "execution_count": 31,
     "metadata": {},
     "output_type": "execute_result"
    }
   ],
   "source": [
    "# Create tesnors like\n",
    "ten_zeros = torch.zeros_like(input=one_to_ten)\n",
    "ten_zeros"
   ]
  },
  {
   "cell_type": "markdown",
   "id": "e5e0fbea",
   "metadata": {
    "papermill": {
     "duration": 0.028087,
     "end_time": "2023-06-29T17:00:39.222182",
     "exception": false,
     "start_time": "2023-06-29T17:00:39.194095",
     "status": "completed"
    },
    "tags": []
   },
   "source": [
    "### Tensor datatypes\n",
    "\n",
    "Tensor datatypes is one of the 3 big errors arrive in Pytorch\n",
    "\n",
    "1. Tensors not right datatype\n",
    "2. Tensors not right shape\n",
    "3. Tensors not no right device\n",
    "\n",
    "ref -\n",
    "* https://pytorch.org/docs/stable/tensors.html"
   ]
  },
  {
   "cell_type": "code",
   "execution_count": 32,
   "id": "3e58ad05",
   "metadata": {
    "execution": {
     "iopub.execute_input": "2023-06-29T17:00:39.280115Z",
     "iopub.status.busy": "2023-06-29T17:00:39.279324Z",
     "iopub.status.idle": "2023-06-29T17:00:39.287061Z",
     "shell.execute_reply": "2023-06-29T17:00:39.286121Z"
    },
    "papermill": {
     "duration": 0.038493,
     "end_time": "2023-06-29T17:00:39.289044",
     "exception": false,
     "start_time": "2023-06-29T17:00:39.250551",
     "status": "completed"
    },
    "tags": []
   },
   "outputs": [
    {
     "data": {
      "text/plain": [
       "tensor([3., 6., 9.])"
      ]
     },
     "execution_count": 32,
     "metadata": {},
     "output_type": "execute_result"
    }
   ],
   "source": [
    "# Float 32 tensor\n",
    "float_32_tensor = torch.tensor([3.0,6.0,9.0],\n",
    "                             dtype=None, # what datatype of tensor (float32 etc)\n",
    "                             device=None, #'cpu or gpu -> cuda'\n",
    "                             requires_grad=False) # whether to track gradient\n",
    "float_32_tensor"
   ]
  },
  {
   "cell_type": "code",
   "execution_count": 33,
   "id": "7ef568af",
   "metadata": {
    "execution": {
     "iopub.execute_input": "2023-06-29T17:00:39.349623Z",
     "iopub.status.busy": "2023-06-29T17:00:39.349359Z",
     "iopub.status.idle": "2023-06-29T17:00:39.354689Z",
     "shell.execute_reply": "2023-06-29T17:00:39.353849Z"
    },
    "papermill": {
     "duration": 0.040305,
     "end_time": "2023-06-29T17:00:39.356689",
     "exception": false,
     "start_time": "2023-06-29T17:00:39.316384",
     "status": "completed"
    },
    "tags": []
   },
   "outputs": [
    {
     "data": {
      "text/plain": [
       "torch.float32"
      ]
     },
     "execution_count": 33,
     "metadata": {},
     "output_type": "execute_result"
    }
   ],
   "source": [
    "float_32_tensor.dtype"
   ]
  },
  {
   "cell_type": "code",
   "execution_count": 34,
   "id": "504fa926",
   "metadata": {
    "execution": {
     "iopub.execute_input": "2023-06-29T17:00:39.413732Z",
     "iopub.status.busy": "2023-06-29T17:00:39.412985Z",
     "iopub.status.idle": "2023-06-29T17:00:39.431309Z",
     "shell.execute_reply": "2023-06-29T17:00:39.430409Z"
    },
    "papermill": {
     "duration": 0.049068,
     "end_time": "2023-06-29T17:00:39.433440",
     "exception": false,
     "start_time": "2023-06-29T17:00:39.384372",
     "status": "completed"
    },
    "tags": []
   },
   "outputs": [],
   "source": [
    "float_16_tensor = float_32_tensor.half()\n",
    "# or\n",
    "float_16_tensor = float_32_tensor.type(torch.float) # torch.half"
   ]
  },
  {
   "cell_type": "code",
   "execution_count": 35,
   "id": "730e1eff",
   "metadata": {
    "execution": {
     "iopub.execute_input": "2023-06-29T17:00:39.493941Z",
     "iopub.status.busy": "2023-06-29T17:00:39.493162Z",
     "iopub.status.idle": "2023-06-29T17:00:39.500153Z",
     "shell.execute_reply": "2023-06-29T17:00:39.499173Z"
    },
    "papermill": {
     "duration": 0.038837,
     "end_time": "2023-06-29T17:00:39.502122",
     "exception": false,
     "start_time": "2023-06-29T17:00:39.463285",
     "status": "completed"
    },
    "tags": []
   },
   "outputs": [
    {
     "data": {
      "text/plain": [
       "tensor([3., 6., 9.])"
      ]
     },
     "execution_count": 35,
     "metadata": {},
     "output_type": "execute_result"
    }
   ],
   "source": [
    "float_16_tensor"
   ]
  },
  {
   "cell_type": "code",
   "execution_count": 36,
   "id": "1213a153",
   "metadata": {
    "execution": {
     "iopub.execute_input": "2023-06-29T17:00:39.560790Z",
     "iopub.status.busy": "2023-06-29T17:00:39.560031Z",
     "iopub.status.idle": "2023-06-29T17:00:39.565979Z",
     "shell.execute_reply": "2023-06-29T17:00:39.565038Z"
    },
    "papermill": {
     "duration": 0.037709,
     "end_time": "2023-06-29T17:00:39.568138",
     "exception": false,
     "start_time": "2023-06-29T17:00:39.530429",
     "status": "completed"
    },
    "tags": []
   },
   "outputs": [
    {
     "data": {
      "text/plain": [
       "torch.float32"
      ]
     },
     "execution_count": 36,
     "metadata": {},
     "output_type": "execute_result"
    }
   ],
   "source": [
    "(float_16_tensor * float_32_tensor).dtype"
   ]
  },
  {
   "cell_type": "code",
   "execution_count": 37,
   "id": "1edd7b6b",
   "metadata": {
    "execution": {
     "iopub.execute_input": "2023-06-29T17:00:39.625821Z",
     "iopub.status.busy": "2023-06-29T17:00:39.624914Z",
     "iopub.status.idle": "2023-06-29T17:00:39.629743Z",
     "shell.execute_reply": "2023-06-29T17:00:39.628938Z"
    },
    "papermill": {
     "duration": 0.035385,
     "end_time": "2023-06-29T17:00:39.631636",
     "exception": false,
     "start_time": "2023-06-29T17:00:39.596251",
     "status": "completed"
    },
    "tags": []
   },
   "outputs": [],
   "source": [
    "int_32_tensor = torch.tensor([3,4,5],\n",
    "                             dtype=torch.int32)"
   ]
  },
  {
   "cell_type": "code",
   "execution_count": 38,
   "id": "bda91290",
   "metadata": {
    "execution": {
     "iopub.execute_input": "2023-06-29T17:00:39.689822Z",
     "iopub.status.busy": "2023-06-29T17:00:39.689031Z",
     "iopub.status.idle": "2023-06-29T17:00:39.697800Z",
     "shell.execute_reply": "2023-06-29T17:00:39.696818Z"
    },
    "papermill": {
     "duration": 0.039772,
     "end_time": "2023-06-29T17:00:39.699748",
     "exception": false,
     "start_time": "2023-06-29T17:00:39.659976",
     "status": "completed"
    },
    "tags": []
   },
   "outputs": [
    {
     "data": {
      "text/plain": [
       "tensor([ 9., 24., 45.])"
      ]
     },
     "execution_count": 38,
     "metadata": {},
     "output_type": "execute_result"
    }
   ],
   "source": [
    "float_16_tensor * int_32_tensor"
   ]
  },
  {
   "cell_type": "markdown",
   "id": "888ffe01",
   "metadata": {
    "papermill": {
     "duration": 0.02815,
     "end_time": "2023-06-29T17:00:39.756279",
     "exception": false,
     "start_time": "2023-06-29T17:00:39.728129",
     "status": "completed"
    },
    "tags": []
   },
   "source": [
    "### Getting info from tensors (tensor attributes)\n",
    "1. tensor not datatype - to check use tensor.dtype\n",
    "2. tensor not right shape - to check use tensor.shape or tensor.size()\n",
    "3. tensor not on right device - to check use tensor.device"
   ]
  },
  {
   "cell_type": "code",
   "execution_count": 39,
   "id": "ace63102",
   "metadata": {
    "execution": {
     "iopub.execute_input": "2023-06-29T17:00:39.814626Z",
     "iopub.status.busy": "2023-06-29T17:00:39.813793Z",
     "iopub.status.idle": "2023-06-29T17:00:39.820598Z",
     "shell.execute_reply": "2023-06-29T17:00:39.819696Z"
    },
    "papermill": {
     "duration": 0.037817,
     "end_time": "2023-06-29T17:00:39.822624",
     "exception": false,
     "start_time": "2023-06-29T17:00:39.784807",
     "status": "completed"
    },
    "tags": []
   },
   "outputs": [
    {
     "data": {
      "text/plain": [
       "tensor([[0.6849, 0.1192, 0.4449, 0.5029],\n",
       "        [0.9817, 0.3230, 0.5059, 0.4771],\n",
       "        [0.6746, 0.0268, 0.8763, 0.6918]])"
      ]
     },
     "execution_count": 39,
     "metadata": {},
     "output_type": "execute_result"
    }
   ],
   "source": [
    "# Create a tensor\n",
    "some_tensor = torch.rand(3,4)\n",
    "some_tensor"
   ]
  },
  {
   "cell_type": "code",
   "execution_count": 40,
   "id": "ff60e22d",
   "metadata": {
    "execution": {
     "iopub.execute_input": "2023-06-29T17:00:39.882552Z",
     "iopub.status.busy": "2023-06-29T17:00:39.882267Z",
     "iopub.status.idle": "2023-06-29T17:00:39.887377Z",
     "shell.execute_reply": "2023-06-29T17:00:39.886408Z"
    },
    "papermill": {
     "duration": 0.037771,
     "end_time": "2023-06-29T17:00:39.889991",
     "exception": false,
     "start_time": "2023-06-29T17:00:39.852220",
     "status": "completed"
    },
    "tags": []
   },
   "outputs": [
    {
     "name": "stdout",
     "output_type": "stream",
     "text": [
      "Tensor Datatype : torch.float32 Tensor Shape : torch.Size([3, 4]) Tensor Device : cpu\n"
     ]
    }
   ],
   "source": [
    "print(\"Tensor Datatype :\",some_tensor.dtype,\n",
    "\"Tensor Shape :\",some_tensor.shape,\n",
    "\"Tensor Device :\",some_tensor.device)"
   ]
  },
  {
   "cell_type": "markdown",
   "id": "fadb7409",
   "metadata": {
    "execution": {
     "iopub.execute_input": "2023-06-26T15:31:18.518353Z",
     "iopub.status.busy": "2023-06-26T15:31:18.517972Z",
     "iopub.status.idle": "2023-06-26T15:31:18.526666Z",
     "shell.execute_reply": "2023-06-26T15:31:18.525296Z",
     "shell.execute_reply.started": "2023-06-26T15:31:18.518326Z"
    },
    "papermill": {
     "duration": 0.028688,
     "end_time": "2023-06-29T17:00:39.947584",
     "exception": false,
     "start_time": "2023-06-29T17:00:39.918896",
     "status": "completed"
    },
    "tags": []
   },
   "source": [
    "### Manipulating Tensors (Tensor Operations)\n",
    "1. Addition\n",
    "2. Subtraction\n",
    "3. Multiplication (element-wise)\n",
    "4. Division\n",
    "5. Matrix Multiplication"
   ]
  },
  {
   "cell_type": "code",
   "execution_count": 41,
   "id": "33a4864c",
   "metadata": {
    "execution": {
     "iopub.execute_input": "2023-06-29T17:00:40.007071Z",
     "iopub.status.busy": "2023-06-29T17:00:40.006225Z",
     "iopub.status.idle": "2023-06-29T17:00:40.016425Z",
     "shell.execute_reply": "2023-06-29T17:00:40.015480Z"
    },
    "papermill": {
     "duration": 0.041501,
     "end_time": "2023-06-29T17:00:40.018468",
     "exception": false,
     "start_time": "2023-06-29T17:00:39.976967",
     "status": "completed"
    },
    "tags": []
   },
   "outputs": [
    {
     "data": {
      "text/plain": [
       "tensor([11, 12, 13])"
      ]
     },
     "execution_count": 41,
     "metadata": {},
     "output_type": "execute_result"
    }
   ],
   "source": [
    "# Create a tensor and add 10\n",
    "tensor = torch.tensor([1,2,3])\n",
    "tensor + 10"
   ]
  },
  {
   "cell_type": "code",
   "execution_count": 42,
   "id": "23d37568",
   "metadata": {
    "execution": {
     "iopub.execute_input": "2023-06-29T17:00:40.078629Z",
     "iopub.status.busy": "2023-06-29T17:00:40.077878Z",
     "iopub.status.idle": "2023-06-29T17:00:40.088170Z",
     "shell.execute_reply": "2023-06-29T17:00:40.087232Z"
    },
    "papermill": {
     "duration": 0.042012,
     "end_time": "2023-06-29T17:00:40.089957",
     "exception": false,
     "start_time": "2023-06-29T17:00:40.047945",
     "status": "completed"
    },
    "tags": []
   },
   "outputs": [
    {
     "data": {
      "text/plain": [
       "tensor([10, 20, 30])"
      ]
     },
     "execution_count": 42,
     "metadata": {},
     "output_type": "execute_result"
    }
   ],
   "source": [
    "# multiply\n",
    "tensor * 10"
   ]
  },
  {
   "cell_type": "code",
   "execution_count": 43,
   "id": "b63462e5",
   "metadata": {
    "execution": {
     "iopub.execute_input": "2023-06-29T17:00:40.148268Z",
     "iopub.status.busy": "2023-06-29T17:00:40.148020Z",
     "iopub.status.idle": "2023-06-29T17:00:40.157379Z",
     "shell.execute_reply": "2023-06-29T17:00:40.156417Z"
    },
    "papermill": {
     "duration": 0.041074,
     "end_time": "2023-06-29T17:00:40.159252",
     "exception": false,
     "start_time": "2023-06-29T17:00:40.118178",
     "status": "completed"
    },
    "tags": []
   },
   "outputs": [
    {
     "data": {
      "text/plain": [
       "tensor([-9, -8, -7])"
      ]
     },
     "execution_count": 43,
     "metadata": {},
     "output_type": "execute_result"
    }
   ],
   "source": [
    "# subtract 10\n",
    "tensor - 10"
   ]
  },
  {
   "cell_type": "code",
   "execution_count": 44,
   "id": "af3d722b",
   "metadata": {
    "execution": {
     "iopub.execute_input": "2023-06-29T17:00:40.219759Z",
     "iopub.status.busy": "2023-06-29T17:00:40.218341Z",
     "iopub.status.idle": "2023-06-29T17:00:40.225120Z",
     "shell.execute_reply": "2023-06-29T17:00:40.224209Z"
    },
    "papermill": {
     "duration": 0.039631,
     "end_time": "2023-06-29T17:00:40.227220",
     "exception": false,
     "start_time": "2023-06-29T17:00:40.187589",
     "status": "completed"
    },
    "tags": []
   },
   "outputs": [
    {
     "data": {
      "text/plain": [
       "tensor([10, 20, 30])"
      ]
     },
     "execution_count": 44,
     "metadata": {},
     "output_type": "execute_result"
    }
   ],
   "source": [
    "# multiply using tensor function\n",
    "torch.mul(tensor,10)"
   ]
  },
  {
   "cell_type": "markdown",
   "id": "7bf265c8",
   "metadata": {
    "papermill": {
     "duration": 0.029482,
     "end_time": "2023-06-29T17:00:40.286539",
     "exception": false,
     "start_time": "2023-06-29T17:00:40.257057",
     "status": "completed"
    },
    "tags": []
   },
   "source": [
    "### Matrix Multiplication\n",
    "\n",
    "Two Main ways to multiply in tensors\n",
    "\n",
    "1. Element-wise multipication or Cross Multiplication\n",
    "2. Matrix multiplication or Dot Product\n",
    "\n",
    "ref -\n",
    "* https://www.mathsisfun.com/algebra/matrix-multiplying.html\n",
    "\n",
    "Two Rules must Follow:\n",
    "1. The **Inner Dimension** must match:\n",
    "* '(3,2) @ (3,2)' wont work\n",
    "* '(3,2) @ (2,3)' will work\n",
    "* '(2,3) @ (3,2)' will work\n",
    "2. Resulting matrix has dimension of **Outer Dimension**\n",
    "* (2,3) @ (3,2) -> (2,2)\n",
    "* (3,2) @ (2,3) -> (3,3)"
   ]
  },
  {
   "cell_type": "code",
   "execution_count": 45,
   "id": "b09b4998",
   "metadata": {
    "execution": {
     "iopub.execute_input": "2023-06-29T17:00:40.348014Z",
     "iopub.status.busy": "2023-06-29T17:00:40.347739Z",
     "iopub.status.idle": "2023-06-29T17:00:40.464357Z",
     "shell.execute_reply": "2023-06-29T17:00:40.463304Z"
    },
    "papermill": {
     "duration": 0.150708,
     "end_time": "2023-06-29T17:00:40.466657",
     "exception": false,
     "start_time": "2023-06-29T17:00:40.315949",
     "status": "completed"
    },
    "tags": []
   },
   "outputs": [
    {
     "data": {
      "text/plain": [
       "tensor([[0.4155, 0.2285, 0.3145],\n",
       "        [0.4394, 0.1530, 0.3950],\n",
       "        [0.5323, 0.3903, 0.3343]])"
      ]
     },
     "execution_count": 45,
     "metadata": {},
     "output_type": "execute_result"
    }
   ],
   "source": [
    "torch.matmul(torch.rand(3,2) , torch.rand(2,3))"
   ]
  },
  {
   "cell_type": "code",
   "execution_count": 46,
   "id": "64197cce",
   "metadata": {
    "execution": {
     "iopub.execute_input": "2023-06-29T17:00:40.528460Z",
     "iopub.status.busy": "2023-06-29T17:00:40.528193Z",
     "iopub.status.idle": "2023-06-29T17:00:40.533923Z",
     "shell.execute_reply": "2023-06-29T17:00:40.532965Z"
    },
    "papermill": {
     "duration": 0.037853,
     "end_time": "2023-06-29T17:00:40.535982",
     "exception": false,
     "start_time": "2023-06-29T17:00:40.498129",
     "status": "completed"
    },
    "tags": []
   },
   "outputs": [
    {
     "name": "stdout",
     "output_type": "stream",
     "text": [
      "tensor([1, 2, 3]) * tensor([1, 2, 3])\n",
      "Equals : tensor([1, 4, 9])\n"
     ]
    }
   ],
   "source": [
    "# Element wise multiplication\n",
    "print(tensor, '*' , tensor)\n",
    "print('Equals :', tensor * tensor )"
   ]
  },
  {
   "cell_type": "code",
   "execution_count": 47,
   "id": "dd907579",
   "metadata": {
    "execution": {
     "iopub.execute_input": "2023-06-29T17:00:40.595211Z",
     "iopub.status.busy": "2023-06-29T17:00:40.594465Z",
     "iopub.status.idle": "2023-06-29T17:00:40.600897Z",
     "shell.execute_reply": "2023-06-29T17:00:40.599968Z"
    },
    "papermill": {
     "duration": 0.038383,
     "end_time": "2023-06-29T17:00:40.602812",
     "exception": false,
     "start_time": "2023-06-29T17:00:40.564429",
     "status": "completed"
    },
    "tags": []
   },
   "outputs": [
    {
     "data": {
      "text/plain": [
       "tensor(14)"
      ]
     },
     "execution_count": 47,
     "metadata": {},
     "output_type": "execute_result"
    }
   ],
   "source": [
    "# Matrix Multiplication\n",
    "torch.matmul(tensor,tensor)"
   ]
  },
  {
   "cell_type": "markdown",
   "id": "ed5528d2",
   "metadata": {
    "papermill": {
     "duration": 0.0286,
     "end_time": "2023-06-29T17:00:40.660185",
     "exception": false,
     "start_time": "2023-06-29T17:00:40.631585",
     "status": "completed"
    },
    "tags": []
   },
   "source": [
    "### Shape Errors"
   ]
  },
  {
   "cell_type": "code",
   "execution_count": 48,
   "id": "4676922e",
   "metadata": {
    "execution": {
     "iopub.execute_input": "2023-06-29T17:00:40.720256Z",
     "iopub.status.busy": "2023-06-29T17:00:40.719546Z",
     "iopub.status.idle": "2023-06-29T17:00:40.724628Z",
     "shell.execute_reply": "2023-06-29T17:00:40.723650Z"
    },
    "papermill": {
     "duration": 0.036837,
     "end_time": "2023-06-29T17:00:40.726685",
     "exception": false,
     "start_time": "2023-06-29T17:00:40.689848",
     "status": "completed"
    },
    "tags": []
   },
   "outputs": [],
   "source": [
    "tensor_A = torch.tensor([[1,2],\n",
    "                        [3,4],\n",
    "                        [5,6]])\n",
    "\n",
    "tensor_B =torch.tensor([[7,10],\n",
    "                       [8,11],\n",
    "                       [9,12]])\n",
    "\n",
    "#torch.mm(tensor_A,tensor_B) #(mm is alias for matmul)"
   ]
  },
  {
   "cell_type": "markdown",
   "id": "45710ef6",
   "metadata": {
    "papermill": {
     "duration": 0.028914,
     "end_time": "2023-06-29T17:00:40.784597",
     "exception": false,
     "start_time": "2023-06-29T17:00:40.755683",
     "status": "completed"
    },
    "tags": []
   },
   "source": [
    "To Fix Shape Issues, We can use Transpose \n",
    "\n",
    "A **Transpose** swithches axes or dimensions of given matrix"
   ]
  },
  {
   "cell_type": "code",
   "execution_count": 49,
   "id": "a14665cf",
   "metadata": {
    "execution": {
     "iopub.execute_input": "2023-06-29T17:00:40.844481Z",
     "iopub.status.busy": "2023-06-29T17:00:40.843737Z",
     "iopub.status.idle": "2023-06-29T17:00:40.850071Z",
     "shell.execute_reply": "2023-06-29T17:00:40.849163Z"
    },
    "papermill": {
     "duration": 0.038293,
     "end_time": "2023-06-29T17:00:40.851947",
     "exception": false,
     "start_time": "2023-06-29T17:00:40.813654",
     "status": "completed"
    },
    "tags": []
   },
   "outputs": [
    {
     "data": {
      "text/plain": [
       "(tensor([[ 7, 10],\n",
       "         [ 8, 11],\n",
       "         [ 9, 12]]),\n",
       " torch.Size([3, 2]))"
      ]
     },
     "execution_count": 49,
     "metadata": {},
     "output_type": "execute_result"
    }
   ],
   "source": [
    "tensor_B, tensor_B.shape"
   ]
  },
  {
   "cell_type": "code",
   "execution_count": 50,
   "id": "23996c88",
   "metadata": {
    "execution": {
     "iopub.execute_input": "2023-06-29T17:00:40.911820Z",
     "iopub.status.busy": "2023-06-29T17:00:40.911549Z",
     "iopub.status.idle": "2023-06-29T17:00:40.919444Z",
     "shell.execute_reply": "2023-06-29T17:00:40.918519Z"
    },
    "papermill": {
     "duration": 0.039917,
     "end_time": "2023-06-29T17:00:40.921439",
     "exception": false,
     "start_time": "2023-06-29T17:00:40.881522",
     "status": "completed"
    },
    "tags": []
   },
   "outputs": [
    {
     "data": {
      "text/plain": [
       "(tensor([[ 7,  8,  9],\n",
       "         [10, 11, 12]]),\n",
       " torch.Size([2, 3]))"
      ]
     },
     "execution_count": 50,
     "metadata": {},
     "output_type": "execute_result"
    }
   ],
   "source": [
    "tensor_B.T, tensor_B.T.shape"
   ]
  },
  {
   "cell_type": "code",
   "execution_count": 51,
   "id": "748d6660",
   "metadata": {
    "execution": {
     "iopub.execute_input": "2023-06-29T17:00:40.980991Z",
     "iopub.status.busy": "2023-06-29T17:00:40.980268Z",
     "iopub.status.idle": "2023-06-29T17:00:40.992188Z",
     "shell.execute_reply": "2023-06-29T17:00:40.991208Z"
    },
    "papermill": {
     "duration": 0.044128,
     "end_time": "2023-06-29T17:00:40.994593",
     "exception": false,
     "start_time": "2023-06-29T17:00:40.950465",
     "status": "completed"
    },
    "tags": []
   },
   "outputs": [
    {
     "name": "stdout",
     "output_type": "stream",
     "text": [
      "Initial shape for tensor A torch.Size([3, 2]) and for tensor B torch.Size([3, 2])\n",
      "after transpose torch.Size([2, 3])\n",
      "output : tensor([[ 27,  30,  33],\n",
      "        [ 61,  68,  75],\n",
      "        [ 95, 106, 117]]) and its shape is torch.Size([3, 3])\n"
     ]
    }
   ],
   "source": [
    "print(f'Initial shape for tensor A {tensor_A.shape} and for tensor B {tensor_B.shape}')\n",
    "print(f'after transpose {tensor_B.T.shape}')\n",
    "print(f'output : {torch.matmul(tensor_A,tensor_B.T)} and its shape is {torch.matmul(tensor_A,tensor_B.T).shape}')"
   ]
  },
  {
   "cell_type": "markdown",
   "id": "afd95bd4",
   "metadata": {
    "papermill": {
     "duration": 0.029229,
     "end_time": "2023-06-29T17:00:41.055264",
     "exception": false,
     "start_time": "2023-06-29T17:00:41.026035",
     "status": "completed"
    },
    "tags": []
   },
   "source": [
    "## Finding Min. Max. Mean, Sum, etc (tensor aggregation)"
   ]
  },
  {
   "cell_type": "code",
   "execution_count": 52,
   "id": "7db2c614",
   "metadata": {
    "execution": {
     "iopub.execute_input": "2023-06-29T17:00:41.114814Z",
     "iopub.status.busy": "2023-06-29T17:00:41.114541Z",
     "iopub.status.idle": "2023-06-29T17:00:41.121032Z",
     "shell.execute_reply": "2023-06-29T17:00:41.120158Z"
    },
    "papermill": {
     "duration": 0.038476,
     "end_time": "2023-06-29T17:00:41.123004",
     "exception": false,
     "start_time": "2023-06-29T17:00:41.084528",
     "status": "completed"
    },
    "tags": []
   },
   "outputs": [
    {
     "data": {
      "text/plain": [
       "tensor([ 0, 10, 20, 30, 40, 50, 60, 70, 80, 90])"
      ]
     },
     "execution_count": 52,
     "metadata": {},
     "output_type": "execute_result"
    }
   ],
   "source": [
    "# Create a tensor\n",
    "x = torch.arange(0,100,10)\n",
    "x"
   ]
  },
  {
   "cell_type": "code",
   "execution_count": 53,
   "id": "4f948464",
   "metadata": {
    "execution": {
     "iopub.execute_input": "2023-06-29T17:00:41.183539Z",
     "iopub.status.busy": "2023-06-29T17:00:41.182791Z",
     "iopub.status.idle": "2023-06-29T17:00:41.191147Z",
     "shell.execute_reply": "2023-06-29T17:00:41.190226Z"
    },
    "papermill": {
     "duration": 0.040121,
     "end_time": "2023-06-29T17:00:41.193036",
     "exception": false,
     "start_time": "2023-06-29T17:00:41.152915",
     "status": "completed"
    },
    "tags": []
   },
   "outputs": [
    {
     "data": {
      "text/plain": [
       "(tensor(0), tensor(0))"
      ]
     },
     "execution_count": 53,
     "metadata": {},
     "output_type": "execute_result"
    }
   ],
   "source": [
    "# Min\n",
    "torch.min(x), x.min()"
   ]
  },
  {
   "cell_type": "code",
   "execution_count": 54,
   "id": "a24d70cf",
   "metadata": {
    "execution": {
     "iopub.execute_input": "2023-06-29T17:00:41.252832Z",
     "iopub.status.busy": "2023-06-29T17:00:41.252564Z",
     "iopub.status.idle": "2023-06-29T17:00:41.258505Z",
     "shell.execute_reply": "2023-06-29T17:00:41.257647Z"
    },
    "papermill": {
     "duration": 0.038002,
     "end_time": "2023-06-29T17:00:41.260431",
     "exception": false,
     "start_time": "2023-06-29T17:00:41.222429",
     "status": "completed"
    },
    "tags": []
   },
   "outputs": [
    {
     "data": {
      "text/plain": [
       "(tensor(90), tensor(90))"
      ]
     },
     "execution_count": 54,
     "metadata": {},
     "output_type": "execute_result"
    }
   ],
   "source": [
    "# Max\n",
    "torch.max(x), x.max()"
   ]
  },
  {
   "cell_type": "code",
   "execution_count": 55,
   "id": "edd4a3eb",
   "metadata": {
    "execution": {
     "iopub.execute_input": "2023-06-29T17:00:41.321100Z",
     "iopub.status.busy": "2023-06-29T17:00:41.320308Z",
     "iopub.status.idle": "2023-06-29T17:00:41.337691Z",
     "shell.execute_reply": "2023-06-29T17:00:41.336734Z"
    },
    "papermill": {
     "duration": 0.049714,
     "end_time": "2023-06-29T17:00:41.339595",
     "exception": false,
     "start_time": "2023-06-29T17:00:41.289881",
     "status": "completed"
    },
    "tags": []
   },
   "outputs": [
    {
     "data": {
      "text/plain": [
       "(tensor(45., dtype=torch.float16),\n",
       " tensor(45., dtype=torch.float16),\n",
       " tensor(45.))"
      ]
     },
     "execution_count": 55,
     "metadata": {},
     "output_type": "execute_result"
    }
   ],
   "source": [
    "# Mean\n",
    "torch.mean(x.type(torch.float16)) , x.type(torch.float16).mean() , torch.mean(x,dtype=torch.float32)"
   ]
  },
  {
   "cell_type": "code",
   "execution_count": 56,
   "id": "06772036",
   "metadata": {
    "execution": {
     "iopub.execute_input": "2023-06-29T17:00:41.401976Z",
     "iopub.status.busy": "2023-06-29T17:00:41.401254Z",
     "iopub.status.idle": "2023-06-29T17:00:41.407605Z",
     "shell.execute_reply": "2023-06-29T17:00:41.406580Z"
    },
    "papermill": {
     "duration": 0.038347,
     "end_time": "2023-06-29T17:00:41.409503",
     "exception": false,
     "start_time": "2023-06-29T17:00:41.371156",
     "status": "completed"
    },
    "tags": []
   },
   "outputs": [
    {
     "data": {
      "text/plain": [
       "(tensor(450), tensor(450))"
      ]
     },
     "execution_count": 56,
     "metadata": {},
     "output_type": "execute_result"
    }
   ],
   "source": [
    "# Sum\n",
    "torch.sum(x) , x.sum()"
   ]
  },
  {
   "cell_type": "markdown",
   "id": "0aa15ba2",
   "metadata": {
    "papermill": {
     "duration": 0.029579,
     "end_time": "2023-06-29T17:00:41.469385",
     "exception": false,
     "start_time": "2023-06-29T17:00:41.439806",
     "status": "completed"
    },
    "tags": []
   },
   "source": [
    "## Finding Positinal min and max"
   ]
  },
  {
   "cell_type": "code",
   "execution_count": 57,
   "id": "0f16154d",
   "metadata": {
    "execution": {
     "iopub.execute_input": "2023-06-29T17:00:41.529843Z",
     "iopub.status.busy": "2023-06-29T17:00:41.529111Z",
     "iopub.status.idle": "2023-06-29T17:00:41.535347Z",
     "shell.execute_reply": "2023-06-29T17:00:41.534433Z"
    },
    "papermill": {
     "duration": 0.038484,
     "end_time": "2023-06-29T17:00:41.537498",
     "exception": false,
     "start_time": "2023-06-29T17:00:41.499014",
     "status": "completed"
    },
    "tags": []
   },
   "outputs": [
    {
     "data": {
      "text/plain": [
       "tensor([ 1, 11, 21, 31, 41, 51, 61, 71, 81, 91])"
      ]
     },
     "execution_count": 57,
     "metadata": {},
     "output_type": "execute_result"
    }
   ],
   "source": [
    "x+1"
   ]
  },
  {
   "cell_type": "code",
   "execution_count": 58,
   "id": "70f831ed",
   "metadata": {
    "execution": {
     "iopub.execute_input": "2023-06-29T17:00:41.600090Z",
     "iopub.status.busy": "2023-06-29T17:00:41.599316Z",
     "iopub.status.idle": "2023-06-29T17:00:41.611892Z",
     "shell.execute_reply": "2023-06-29T17:00:41.610704Z"
    },
    "papermill": {
     "duration": 0.046254,
     "end_time": "2023-06-29T17:00:41.613783",
     "exception": false,
     "start_time": "2023-06-29T17:00:41.567529",
     "status": "completed"
    },
    "tags": []
   },
   "outputs": [
    {
     "name": "stdout",
     "output_type": "stream",
     "text": [
      "location :  tensor(0)\n",
      "element at location :  tensor(1)\n"
     ]
    }
   ],
   "source": [
    "# Position in tensor where minimum value exists\n",
    "print('location : ',(x+1).argmin())\n",
    "print('element at location : ',(x+1)[(x+1).argmin()])"
   ]
  },
  {
   "cell_type": "code",
   "execution_count": 59,
   "id": "785e77b2",
   "metadata": {
    "execution": {
     "iopub.execute_input": "2023-06-29T17:00:41.676806Z",
     "iopub.status.busy": "2023-06-29T17:00:41.675982Z",
     "iopub.status.idle": "2023-06-29T17:00:41.682250Z",
     "shell.execute_reply": "2023-06-29T17:00:41.681241Z"
    },
    "papermill": {
     "duration": 0.03994,
     "end_time": "2023-06-29T17:00:41.684251",
     "exception": false,
     "start_time": "2023-06-29T17:00:41.644311",
     "status": "completed"
    },
    "tags": []
   },
   "outputs": [
    {
     "name": "stdout",
     "output_type": "stream",
     "text": [
      "location :  tensor(9)\n",
      "element at location :  tensor(91)\n"
     ]
    }
   ],
   "source": [
    "# Position in tensor where maximum value exists\n",
    "print('location : ',(x+1).argmax())\n",
    "print('element at location : ',(x+1)[(x+1).argmax()])"
   ]
  },
  {
   "cell_type": "markdown",
   "id": "63a64d61",
   "metadata": {
    "papermill": {
     "duration": 0.030375,
     "end_time": "2023-06-29T17:00:41.745189",
     "exception": false,
     "start_time": "2023-06-29T17:00:41.714814",
     "status": "completed"
    },
    "tags": []
   },
   "source": [
    "## Reshaping, Stacking, Squeezing and Unsqueezing tensor\n",
    "\n",
    "* Reshaping - reshapes input tensor to defined shape\n",
    "* View - Returns a view of input tensor of certain shape but keeps same memory as original\n",
    "* Stacking - Combine Multiple tensors on top of each other (vstack) or side by side (hstack)\n",
    "* Squeeze - **removes unit** dimension from tensor\n",
    "* Unsqueeze - **adds one** dimension to tensor\n",
    "* Permute - Reaturn a view of input with Dimension Permuted (swapped) in certain way "
   ]
  },
  {
   "cell_type": "code",
   "execution_count": 60,
   "id": "b64b899c",
   "metadata": {
    "execution": {
     "iopub.execute_input": "2023-06-29T17:00:41.806723Z",
     "iopub.status.busy": "2023-06-29T17:00:41.805968Z",
     "iopub.status.idle": "2023-06-29T17:00:41.812850Z",
     "shell.execute_reply": "2023-06-29T17:00:41.811957Z"
    },
    "papermill": {
     "duration": 0.039378,
     "end_time": "2023-06-29T17:00:41.814715",
     "exception": false,
     "start_time": "2023-06-29T17:00:41.775337",
     "status": "completed"
    },
    "tags": []
   },
   "outputs": [
    {
     "data": {
      "text/plain": [
       "(tensor([1., 2., 3., 4., 5., 6., 7., 8., 9.]), torch.Size([9]))"
      ]
     },
     "execution_count": 60,
     "metadata": {},
     "output_type": "execute_result"
    }
   ],
   "source": [
    "# Create Tensor\n",
    "x = torch.arange(1.,10.)\n",
    "x , x.shape"
   ]
  },
  {
   "cell_type": "code",
   "execution_count": 61,
   "id": "91840e86",
   "metadata": {
    "execution": {
     "iopub.execute_input": "2023-06-29T17:00:41.879034Z",
     "iopub.status.busy": "2023-06-29T17:00:41.878288Z",
     "iopub.status.idle": "2023-06-29T17:00:41.885177Z",
     "shell.execute_reply": "2023-06-29T17:00:41.883894Z"
    },
    "papermill": {
     "duration": 0.042584,
     "end_time": "2023-06-29T17:00:41.887950",
     "exception": false,
     "start_time": "2023-06-29T17:00:41.845366",
     "status": "completed"
    },
    "tags": []
   },
   "outputs": [
    {
     "name": "stdout",
     "output_type": "stream",
     "text": [
      "torch.Size([9])\n",
      "tensor([[1.],\n",
      "        [2.],\n",
      "        [3.],\n",
      "        [4.],\n",
      "        [5.],\n",
      "        [6.],\n",
      "        [7.],\n",
      "        [8.],\n",
      "        [9.]])\n",
      "torch.Size([9, 1])\n"
     ]
    }
   ],
   "source": [
    "# Add extra dimension\n",
    "x_reshaped = x.reshape(9,1)\n",
    "print(x.size())\n",
    "print(x_reshaped)\n",
    "print(x_reshaped.size())"
   ]
  },
  {
   "cell_type": "code",
   "execution_count": 62,
   "id": "2153a749",
   "metadata": {
    "execution": {
     "iopub.execute_input": "2023-06-29T17:00:41.955452Z",
     "iopub.status.busy": "2023-06-29T17:00:41.955181Z",
     "iopub.status.idle": "2023-06-29T17:00:41.962353Z",
     "shell.execute_reply": "2023-06-29T17:00:41.961458Z"
    },
    "papermill": {
     "duration": 0.043924,
     "end_time": "2023-06-29T17:00:41.964272",
     "exception": false,
     "start_time": "2023-06-29T17:00:41.920348",
     "status": "completed"
    },
    "tags": []
   },
   "outputs": [
    {
     "data": {
      "text/plain": [
       "(tensor([[1., 2., 3.],\n",
       "         [4., 5., 6.],\n",
       "         [7., 8., 9.]]),\n",
       " torch.Size([3, 3]))"
      ]
     },
     "execution_count": 62,
     "metadata": {},
     "output_type": "execute_result"
    }
   ],
   "source": [
    "# Change View\n",
    "z = x.view(3,3)\n",
    "z, z.shape"
   ]
  },
  {
   "cell_type": "code",
   "execution_count": 63,
   "id": "6a0c5016",
   "metadata": {
    "execution": {
     "iopub.execute_input": "2023-06-29T17:00:42.026233Z",
     "iopub.status.busy": "2023-06-29T17:00:42.025603Z",
     "iopub.status.idle": "2023-06-29T17:00:42.037192Z",
     "shell.execute_reply": "2023-06-29T17:00:42.036146Z"
    },
    "papermill": {
     "duration": 0.044505,
     "end_time": "2023-06-29T17:00:42.039089",
     "exception": false,
     "start_time": "2023-06-29T17:00:41.994584",
     "status": "completed"
    },
    "tags": []
   },
   "outputs": [
    {
     "data": {
      "text/plain": [
       "(tensor([[5., 2., 3.],\n",
       "         [5., 5., 6.],\n",
       "         [5., 8., 9.]]),\n",
       " tensor([5., 2., 3., 5., 5., 6., 5., 8., 9.]))"
      ]
     },
     "execution_count": 63,
     "metadata": {},
     "output_type": "execute_result"
    }
   ],
   "source": [
    "# Changing z changes x because it shares same memory as original but doesnt affect the shape\n",
    "z[:,0]=5\n",
    "z, x"
   ]
  },
  {
   "cell_type": "code",
   "execution_count": 64,
   "id": "dd47359f",
   "metadata": {
    "execution": {
     "iopub.execute_input": "2023-06-29T17:00:42.101296Z",
     "iopub.status.busy": "2023-06-29T17:00:42.100646Z",
     "iopub.status.idle": "2023-06-29T17:00:42.108131Z",
     "shell.execute_reply": "2023-06-29T17:00:42.107198Z"
    },
    "papermill": {
     "duration": 0.040762,
     "end_time": "2023-06-29T17:00:42.110112",
     "exception": false,
     "start_time": "2023-06-29T17:00:42.069350",
     "status": "completed"
    },
    "tags": []
   },
   "outputs": [
    {
     "data": {
      "text/plain": [
       "tensor([[5., 2., 3., 5., 5., 6., 5., 8., 9.],\n",
       "        [5., 2., 3., 5., 5., 6., 5., 8., 9.],\n",
       "        [5., 2., 3., 5., 5., 6., 5., 8., 9.],\n",
       "        [5., 2., 3., 5., 5., 6., 5., 8., 9.]])"
      ]
     },
     "execution_count": 64,
     "metadata": {},
     "output_type": "execute_result"
    }
   ],
   "source": [
    "# Stack tensors\n",
    "x_stacked = torch.stack([x, x, x, x], dim=0)\n",
    "x_stacked"
   ]
  },
  {
   "cell_type": "code",
   "execution_count": 65,
   "id": "a14ff65d",
   "metadata": {
    "execution": {
     "iopub.execute_input": "2023-06-29T17:00:42.174040Z",
     "iopub.status.busy": "2023-06-29T17:00:42.173248Z",
     "iopub.status.idle": "2023-06-29T17:00:42.180692Z",
     "shell.execute_reply": "2023-06-29T17:00:42.179538Z"
    },
    "papermill": {
     "duration": 0.041386,
     "end_time": "2023-06-29T17:00:42.182778",
     "exception": false,
     "start_time": "2023-06-29T17:00:42.141392",
     "status": "completed"
    },
    "tags": []
   },
   "outputs": [
    {
     "name": "stdout",
     "output_type": "stream",
     "text": [
      "Previouse tensor : tensor([[5.],\n",
      "        [2.],\n",
      "        [3.],\n",
      "        [5.],\n",
      "        [5.],\n",
      "        [6.],\n",
      "        [5.],\n",
      "        [8.],\n",
      "        [9.]])\n",
      "Previoe shape : torch.Size([9, 1])\n",
      "\n",
      "New tensor : tensor([5., 2., 3., 5., 5., 6., 5., 8., 9.])\n",
      "New Shape : torch.Size([9])\n"
     ]
    }
   ],
   "source": [
    "# torch.squeeze() - removes all single dimensions from target tensor\n",
    "print(f\"Previouse tensor : {x_reshaped}\")\n",
    "print(f\"Previoe shape : {x_reshaped.shape}\")\n",
    "\n",
    "# Remove extra dimension from x_reshaped\n",
    "x_squeezed = x_reshaped.squeeze()\n",
    "print(f\"\\nNew tensor : {x_squeezed}\")\n",
    "print(f\"New Shape : {x_squeezed.shape}\")\n",
    "\n"
   ]
  },
  {
   "cell_type": "code",
   "execution_count": 66,
   "id": "eb370938",
   "metadata": {
    "execution": {
     "iopub.execute_input": "2023-06-29T17:00:42.249812Z",
     "iopub.status.busy": "2023-06-29T17:00:42.249076Z",
     "iopub.status.idle": "2023-06-29T17:00:42.255719Z",
     "shell.execute_reply": "2023-06-29T17:00:42.254804Z"
    },
    "papermill": {
     "duration": 0.041879,
     "end_time": "2023-06-29T17:00:42.257776",
     "exception": false,
     "start_time": "2023-06-29T17:00:42.215897",
     "status": "completed"
    },
    "tags": []
   },
   "outputs": [
    {
     "data": {
      "text/plain": [
       "tensor([5., 2., 3., 5., 5., 6., 5., 8., 9.])"
      ]
     },
     "execution_count": 66,
     "metadata": {},
     "output_type": "execute_result"
    }
   ],
   "source": [
    "x_reshaped.squeeze()"
   ]
  },
  {
   "cell_type": "code",
   "execution_count": 67,
   "id": "eeaab91f",
   "metadata": {
    "execution": {
     "iopub.execute_input": "2023-06-29T17:00:42.324544Z",
     "iopub.status.busy": "2023-06-29T17:00:42.323793Z",
     "iopub.status.idle": "2023-06-29T17:00:42.335932Z",
     "shell.execute_reply": "2023-06-29T17:00:42.334640Z"
    },
    "papermill": {
     "duration": 0.048133,
     "end_time": "2023-06-29T17:00:42.338141",
     "exception": false,
     "start_time": "2023-06-29T17:00:42.290008",
     "status": "completed"
    },
    "tags": []
   },
   "outputs": [
    {
     "name": "stdout",
     "output_type": "stream",
     "text": [
      "Previous target : tensor([5., 2., 3., 5., 5., 6., 5., 8., 9.])\n",
      "Previous Shape : torch.Size([9])\n",
      "\n",
      "New tensor : tensor([[5., 2., 3., 5., 5., 6., 5., 8., 9.]])\n",
      "New Shape : torch.Size([1, 9])\n"
     ]
    }
   ],
   "source": [
    "# torch.unsqueeze() - adds a single dimension to a target tensor at a specific dimension\n",
    "print(f\"Previous target : {x_squeezed}\")\n",
    "print(f\"Previous Shape : {x_squeezed.shape}\")\n",
    "\n",
    "# Adding dimension to x_reshaped\n",
    "x_unsqueezed = x_squeezed.unsqueeze(dim=-0)\n",
    "print(f\"\\nNew tensor : {x_unsqueezed}\")\n",
    "print(f\"New Shape : {x_unsqueezed.shape}\")"
   ]
  },
  {
   "cell_type": "code",
   "execution_count": 68,
   "id": "33eb74e9",
   "metadata": {
    "execution": {
     "iopub.execute_input": "2023-06-29T17:00:42.403623Z",
     "iopub.status.busy": "2023-06-29T17:00:42.403348Z",
     "iopub.status.idle": "2023-06-29T17:00:42.411239Z",
     "shell.execute_reply": "2023-06-29T17:00:42.410231Z"
    },
    "papermill": {
     "duration": 0.042129,
     "end_time": "2023-06-29T17:00:42.413255",
     "exception": false,
     "start_time": "2023-06-29T17:00:42.371126",
     "status": "completed"
    },
    "tags": []
   },
   "outputs": [
    {
     "name": "stdout",
     "output_type": "stream",
     "text": [
      "Shape before Permute : torch.Size([224, 224, 3])\n",
      "Shape after Permute : torch.Size([3, 224, 224])\n"
     ]
    }
   ],
   "source": [
    "# torch.permute - rearrages the dimension of a traget tensor in a specified order\n",
    "x_original = torch.rand(size=(224,224,3)) \n",
    "print(f\"Shape before Permute : {x_original.shape}\") #[height, width, color_channel]\n",
    "\n",
    "# Premute the original tensor to rearrage the axis\n",
    "x_permuted = x_original.permute(2,0,1) # shifts axis 0 -> 1, 1 -> 2, 2 -> 0\n",
    "print(f\"Shape after Permute : {x_permuted.shape}\") #[color_channel, height, width]"
   ]
  },
  {
   "cell_type": "markdown",
   "id": "b7e03427",
   "metadata": {
    "papermill": {
     "duration": 0.031527,
     "end_time": "2023-06-29T17:00:42.477347",
     "exception": false,
     "start_time": "2023-06-29T17:00:42.445820",
     "status": "completed"
    },
    "tags": []
   },
   "source": [
    "## Indexing (selecting data from tensors)\n",
    "Indexing is same as numpy"
   ]
  },
  {
   "cell_type": "code",
   "execution_count": 69,
   "id": "09318f7e",
   "metadata": {
    "execution": {
     "iopub.execute_input": "2023-06-29T17:00:42.541635Z",
     "iopub.status.busy": "2023-06-29T17:00:42.540899Z",
     "iopub.status.idle": "2023-06-29T17:00:42.547767Z",
     "shell.execute_reply": "2023-06-29T17:00:42.546735Z"
    },
    "papermill": {
     "duration": 0.040592,
     "end_time": "2023-06-29T17:00:42.549654",
     "exception": false,
     "start_time": "2023-06-29T17:00:42.509062",
     "status": "completed"
    },
    "tags": []
   },
   "outputs": [
    {
     "data": {
      "text/plain": [
       "(tensor([[[1, 2, 3],\n",
       "          [4, 5, 6],\n",
       "          [7, 8, 9]]]),\n",
       " torch.Size([1, 3, 3]))"
      ]
     },
     "execution_count": 69,
     "metadata": {},
     "output_type": "execute_result"
    }
   ],
   "source": [
    "# Create a tensor\n",
    "x= torch.arange(1,10).reshape(1,3,3)\n",
    "x, x.shape"
   ]
  },
  {
   "cell_type": "code",
   "execution_count": 70,
   "id": "ed0e6d12",
   "metadata": {
    "execution": {
     "iopub.execute_input": "2023-06-29T17:00:42.613765Z",
     "iopub.status.busy": "2023-06-29T17:00:42.613057Z",
     "iopub.status.idle": "2023-06-29T17:00:42.619344Z",
     "shell.execute_reply": "2023-06-29T17:00:42.618420Z"
    },
    "papermill": {
     "duration": 0.040524,
     "end_time": "2023-06-29T17:00:42.621609",
     "exception": false,
     "start_time": "2023-06-29T17:00:42.581085",
     "status": "completed"
    },
    "tags": []
   },
   "outputs": [
    {
     "data": {
      "text/plain": [
       "tensor([[1, 2, 3],\n",
       "        [4, 5, 6],\n",
       "        [7, 8, 9]])"
      ]
     },
     "execution_count": 70,
     "metadata": {},
     "output_type": "execute_result"
    }
   ],
   "source": [
    "# Indexing new tensor\n",
    "x[0]"
   ]
  },
  {
   "cell_type": "code",
   "execution_count": 71,
   "id": "b7c5366b",
   "metadata": {
    "execution": {
     "iopub.execute_input": "2023-06-29T17:00:42.686983Z",
     "iopub.status.busy": "2023-06-29T17:00:42.686106Z",
     "iopub.status.idle": "2023-06-29T17:00:42.692430Z",
     "shell.execute_reply": "2023-06-29T17:00:42.691508Z"
    },
    "papermill": {
     "duration": 0.040905,
     "end_time": "2023-06-29T17:00:42.694360",
     "exception": false,
     "start_time": "2023-06-29T17:00:42.653455",
     "status": "completed"
    },
    "tags": []
   },
   "outputs": [
    {
     "data": {
      "text/plain": [
       "tensor(5)"
      ]
     },
     "execution_count": 71,
     "metadata": {},
     "output_type": "execute_result"
    }
   ],
   "source": [
    "# Index on middle bracket (dim=1)\n",
    "x[0,1,1]"
   ]
  },
  {
   "cell_type": "code",
   "execution_count": 72,
   "id": "20af3bf7",
   "metadata": {
    "execution": {
     "iopub.execute_input": "2023-06-29T17:00:42.758777Z",
     "iopub.status.busy": "2023-06-29T17:00:42.758021Z",
     "iopub.status.idle": "2023-06-29T17:00:42.763846Z",
     "shell.execute_reply": "2023-06-29T17:00:42.762975Z"
    },
    "papermill": {
     "duration": 0.040226,
     "end_time": "2023-06-29T17:00:42.765769",
     "exception": false,
     "start_time": "2023-06-29T17:00:42.725543",
     "status": "completed"
    },
    "tags": []
   },
   "outputs": [
    {
     "data": {
      "text/plain": [
       "tensor([[1, 2, 3]])"
      ]
     },
     "execution_count": 72,
     "metadata": {},
     "output_type": "execute_result"
    }
   ],
   "source": [
    "# \":\" to select all target dimension\n",
    "x[:,0]"
   ]
  },
  {
   "cell_type": "code",
   "execution_count": 73,
   "id": "7300b7ae",
   "metadata": {
    "execution": {
     "iopub.execute_input": "2023-06-29T17:00:42.832863Z",
     "iopub.status.busy": "2023-06-29T17:00:42.831987Z",
     "iopub.status.idle": "2023-06-29T17:00:42.838811Z",
     "shell.execute_reply": "2023-06-29T17:00:42.837591Z"
    },
    "papermill": {
     "duration": 0.04273,
     "end_time": "2023-06-29T17:00:42.840782",
     "exception": false,
     "start_time": "2023-06-29T17:00:42.798052",
     "status": "completed"
    },
    "tags": []
   },
   "outputs": [
    {
     "name": "stdout",
     "output_type": "stream",
     "text": [
      "tensor([[2, 5, 8]])\n",
      "tensor([1, 2, 3])\n",
      "tensor([4, 5, 6])\n"
     ]
    }
   ],
   "source": [
    "# Practice\n",
    "print(x[:,:,1])\n",
    "print(x[0,0,:])\n",
    "print(x[0,1,:])"
   ]
  },
  {
   "cell_type": "markdown",
   "id": "30b0a329",
   "metadata": {
    "papermill": {
     "duration": 0.073522,
     "end_time": "2023-06-29T17:00:42.946142",
     "exception": false,
     "start_time": "2023-06-29T17:00:42.872620",
     "status": "completed"
    },
    "tags": []
   },
   "source": [
    "## Pytorch tensors & Numpy\n",
    "\n",
    "Pytorch interacting with Numpy\n",
    "\n",
    "* Convert data from Numpy to Tensor -> `torch.from_numpy(ndarray)`\n",
    "* Convert data from Tensor to Numpy -> `torch.Tensor.numpy()`"
   ]
  },
  {
   "cell_type": "code",
   "execution_count": 74,
   "id": "8519c583",
   "metadata": {
    "execution": {
     "iopub.execute_input": "2023-06-29T17:00:43.012489Z",
     "iopub.status.busy": "2023-06-29T17:00:43.012158Z",
     "iopub.status.idle": "2023-06-29T17:00:43.020892Z",
     "shell.execute_reply": "2023-06-29T17:00:43.019860Z"
    },
    "papermill": {
     "duration": 0.044346,
     "end_time": "2023-06-29T17:00:43.022927",
     "exception": false,
     "start_time": "2023-06-29T17:00:42.978581",
     "status": "completed"
    },
    "tags": []
   },
   "outputs": [
    {
     "data": {
      "text/plain": [
       "(array([1., 2., 3., 4., 5., 6., 7.]), tensor([1., 2., 3., 4., 5., 6., 7.]))"
      ]
     },
     "execution_count": 74,
     "metadata": {},
     "output_type": "execute_result"
    }
   ],
   "source": [
    "# Numpy Array -> Tensor\n",
    "import numpy as np\n",
    "import torch\n",
    "\n",
    "array = np.arange(1.0,8.0)\n",
    "tensor = torch.from_numpy(array).type(torch.float32) # warning: when converting from numpy -> tensor, pytorch copies same datatype from numpy viz. float64 unless changed (default dtype of tensor is float32) \n",
    "array, tensor"
   ]
  },
  {
   "cell_type": "code",
   "execution_count": 75,
   "id": "c197dc60",
   "metadata": {
    "execution": {
     "iopub.execute_input": "2023-06-29T17:00:43.090762Z",
     "iopub.status.busy": "2023-06-29T17:00:43.090013Z",
     "iopub.status.idle": "2023-06-29T17:00:43.095555Z",
     "shell.execute_reply": "2023-06-29T17:00:43.094448Z"
    },
    "papermill": {
     "duration": 0.040563,
     "end_time": "2023-06-29T17:00:43.097640",
     "exception": false,
     "start_time": "2023-06-29T17:00:43.057077",
     "status": "completed"
    },
    "tags": []
   },
   "outputs": [
    {
     "name": "stdout",
     "output_type": "stream",
     "text": [
      "float64\n",
      "torch.float32\n"
     ]
    }
   ],
   "source": [
    "print(array.dtype)\n",
    "print(tensor.dtype)"
   ]
  },
  {
   "cell_type": "code",
   "execution_count": 76,
   "id": "41cee55e",
   "metadata": {
    "execution": {
     "iopub.execute_input": "2023-06-29T17:00:43.163508Z",
     "iopub.status.busy": "2023-06-29T17:00:43.163240Z",
     "iopub.status.idle": "2023-06-29T17:00:43.171287Z",
     "shell.execute_reply": "2023-06-29T17:00:43.170053Z"
    },
    "papermill": {
     "duration": 0.044019,
     "end_time": "2023-06-29T17:00:43.173752",
     "exception": false,
     "start_time": "2023-06-29T17:00:43.129733",
     "status": "completed"
    },
    "tags": []
   },
   "outputs": [
    {
     "data": {
      "text/plain": [
       "(array([2., 3., 4., 5., 6., 7., 8.]), tensor([1., 2., 3., 4., 5., 6., 7.]))"
      ]
     },
     "execution_count": 76,
     "metadata": {},
     "output_type": "execute_result"
    }
   ],
   "source": [
    "# Changing the value of array, does this affect tensor ?\n",
    "array = array + 1\n",
    "array,tensor\n",
    "# NO"
   ]
  },
  {
   "cell_type": "code",
   "execution_count": 77,
   "id": "c990b467",
   "metadata": {
    "execution": {
     "iopub.execute_input": "2023-06-29T17:00:43.244870Z",
     "iopub.status.busy": "2023-06-29T17:00:43.244132Z",
     "iopub.status.idle": "2023-06-29T17:00:43.252198Z",
     "shell.execute_reply": "2023-06-29T17:00:43.251170Z"
    },
    "papermill": {
     "duration": 0.042931,
     "end_time": "2023-06-29T17:00:43.254392",
     "exception": false,
     "start_time": "2023-06-29T17:00:43.211461",
     "status": "completed"
    },
    "tags": []
   },
   "outputs": [
    {
     "data": {
      "text/plain": [
       "(tensor([1., 1., 1., 1., 1., 1., 1.]),\n",
       " array([1., 1., 1., 1., 1., 1., 1.], dtype=float32))"
      ]
     },
     "execution_count": 77,
     "metadata": {},
     "output_type": "execute_result"
    }
   ],
   "source": [
    "# Tensor -> Numpy array\n",
    "tensor = torch.ones(7)\n",
    "array = tensor.numpy() # datatype remains same as tensor's\n",
    "tensor, array"
   ]
  },
  {
   "cell_type": "code",
   "execution_count": 78,
   "id": "3ff94297",
   "metadata": {
    "execution": {
     "iopub.execute_input": "2023-06-29T17:00:43.321739Z",
     "iopub.status.busy": "2023-06-29T17:00:43.321020Z",
     "iopub.status.idle": "2023-06-29T17:00:43.328105Z",
     "shell.execute_reply": "2023-06-29T17:00:43.326943Z"
    },
    "papermill": {
     "duration": 0.041671,
     "end_time": "2023-06-29T17:00:43.330135",
     "exception": false,
     "start_time": "2023-06-29T17:00:43.288464",
     "status": "completed"
    },
    "tags": []
   },
   "outputs": [
    {
     "data": {
      "text/plain": [
       "(tensor([2., 2., 2., 2., 2., 2., 2.]),\n",
       " array([1., 1., 1., 1., 1., 1., 1.], dtype=float32))"
      ]
     },
     "execution_count": 78,
     "metadata": {},
     "output_type": "execute_result"
    }
   ],
   "source": [
    " # Changing the value of tensor, does this affect array ?\n",
    "tensor = tensor + 1\n",
    "tensor,array\n",
    "# NO"
   ]
  },
  {
   "cell_type": "markdown",
   "id": "b1536618",
   "metadata": {
    "papermill": {
     "duration": 0.031711,
     "end_time": "2023-06-29T17:00:43.400295",
     "exception": false,
     "start_time": "2023-06-29T17:00:43.368584",
     "status": "completed"
    },
    "tags": []
   },
   "source": [
    "## Reproducbility (trying to take random out of random)\n",
    "How Neural Network Work ?\n",
    "\n",
    "` Start with random nos. -> tensor operation -> update random nos. to try and malke them better represntation of data -> repeat -> repeat -> repeat ...`\n",
    "\n",
    "To reduce the randomness in Neural Network we use **Random Seed**.\n",
    "\n",
    "Essentially whta random seed does is **flavour** the randomness.\n",
    "\n",
    "ref - \n",
    "* https://pytorch.org/docs/stable/notes/randomness.html\n",
    "* https://en.wikipedia.org/wiki/Random_seed"
   ]
  },
  {
   "cell_type": "code",
   "execution_count": 79,
   "id": "86d6d1db",
   "metadata": {
    "execution": {
     "iopub.execute_input": "2023-06-29T17:00:43.465871Z",
     "iopub.status.busy": "2023-06-29T17:00:43.465148Z",
     "iopub.status.idle": "2023-06-29T17:00:43.472511Z",
     "shell.execute_reply": "2023-06-29T17:00:43.471517Z"
    },
    "papermill": {
     "duration": 0.042237,
     "end_time": "2023-06-29T17:00:43.474461",
     "exception": false,
     "start_time": "2023-06-29T17:00:43.432224",
     "status": "completed"
    },
    "tags": []
   },
   "outputs": [
    {
     "name": "stdout",
     "output_type": "stream",
     "text": [
      "tensor([[0.9668, 0.4333, 0.3631],\n",
      "        [0.0446, 0.9911, 0.6218],\n",
      "        [0.9967, 0.8674, 0.1238],\n",
      "        [0.1931, 0.5670, 0.1173]])\n",
      "tensor([[0.0495, 0.6435, 0.0567],\n",
      "        [0.3478, 0.8343, 0.5017],\n",
      "        [0.0563, 0.4380, 0.3756],\n",
      "        [0.8761, 0.3380, 0.3067]])\n",
      "tensor([[False, False, False],\n",
      "        [False, False, False],\n",
      "        [False, False, False],\n",
      "        [False, False, False]])\n"
     ]
    }
   ],
   "source": [
    "#  Create 2 tensors\n",
    "\n",
    "random_tensor_A = torch.rand(4,3)\n",
    "random_tensor_B = torch.rand(4,3)\n",
    "\n",
    "print(random_tensor_A)\n",
    "print(random_tensor_B)\n",
    "print(random_tensor_A==random_tensor_B)"
   ]
  },
  {
   "cell_type": "code",
   "execution_count": 80,
   "id": "dfaa0b0d",
   "metadata": {
    "execution": {
     "iopub.execute_input": "2023-06-29T17:00:43.541708Z",
     "iopub.status.busy": "2023-06-29T17:00:43.540974Z",
     "iopub.status.idle": "2023-06-29T17:00:43.557818Z",
     "shell.execute_reply": "2023-06-29T17:00:43.556497Z"
    },
    "papermill": {
     "duration": 0.052497,
     "end_time": "2023-06-29T17:00:43.559743",
     "exception": false,
     "start_time": "2023-06-29T17:00:43.507246",
     "status": "completed"
    },
    "tags": []
   },
   "outputs": [
    {
     "name": "stdout",
     "output_type": "stream",
     "text": [
      "tensor([[0.8823, 0.9150, 0.3829],\n",
      "        [0.9593, 0.3904, 0.6009],\n",
      "        [0.2566, 0.7936, 0.9408],\n",
      "        [0.1332, 0.9346, 0.5936]])\n",
      "tensor([[0.8823, 0.9150, 0.3829],\n",
      "        [0.9593, 0.3904, 0.6009],\n",
      "        [0.2566, 0.7936, 0.9408],\n",
      "        [0.1332, 0.9346, 0.5936]])\n",
      "tensor([[True, True, True],\n",
      "        [True, True, True],\n",
      "        [True, True, True],\n",
      "        [True, True, True]])\n"
     ]
    }
   ],
   "source": [
    "# Random but reproducable tensors\n",
    "import torch\n",
    "\n",
    "# Set random seed\n",
    "RANDOM_SEED = 42\n",
    "torch.manual_seed(RANDOM_SEED) # Set the random seed every time we call rand function\n",
    "random_tensor_C = torch.rand(4,3)\n",
    "\n",
    "torch.manual_seed(RANDOM_SEED)\n",
    "random_tensor_D = torch.rand(4,3)\n",
    "\n",
    "print(random_tensor_C)\n",
    "print(random_tensor_D)\n",
    "print(random_tensor_C==random_tensor_D)"
   ]
  },
  {
   "cell_type": "markdown",
   "id": "920fa640",
   "metadata": {
    "papermill": {
     "duration": 0.031795,
     "end_time": "2023-06-29T17:00:43.624135",
     "exception": false,
     "start_time": "2023-06-29T17:00:43.592340",
     "status": "completed"
    },
    "tags": []
   },
   "source": [
    "## Running tensors and Pytorch on GPU (Making it Faster)\n",
    "\n",
    "Gpus = faster computation with Cuda and Nvidia hardware"
   ]
  },
  {
   "cell_type": "markdown",
   "id": "bbc16abb",
   "metadata": {
    "papermill": {
     "duration": 0.032486,
     "end_time": "2023-06-29T17:00:43.689094",
     "exception": false,
     "start_time": "2023-06-29T17:00:43.656608",
     "status": "completed"
    },
    "tags": []
   },
   "source": [
    "### 1. Getting a GPU\n",
    "\n",
    "1. Easiest is Google Colab and Kaggle\n",
    "2. Personal computer\n",
    "3. Use cloud computing - GCP, AWS, Azure\n",
    "\n",
    "Device agnostic code:\n",
    "if GPU present -> select GPU -> else -> CPU\n",
    "\n",
    "ref -\n",
    "* https://pytorch.org/docs/stable/notes/cuda.html"
   ]
  },
  {
   "cell_type": "code",
   "execution_count": 81,
   "id": "02cb58d7",
   "metadata": {
    "execution": {
     "iopub.execute_input": "2023-06-29T17:00:43.755334Z",
     "iopub.status.busy": "2023-06-29T17:00:43.755060Z",
     "iopub.status.idle": "2023-06-29T17:00:44.821982Z",
     "shell.execute_reply": "2023-06-29T17:00:44.820799Z"
    },
    "papermill": {
     "duration": 1.103026,
     "end_time": "2023-06-29T17:00:44.824588",
     "exception": false,
     "start_time": "2023-06-29T17:00:43.721562",
     "status": "completed"
    },
    "tags": []
   },
   "outputs": [
    {
     "name": "stdout",
     "output_type": "stream",
     "text": [
      "Thu Jun 29 17:00:44 2023       \r\n",
      "+-----------------------------------------------------------------------------+\r\n",
      "| NVIDIA-SMI 470.161.03   Driver Version: 470.161.03   CUDA Version: 11.4     |\r\n",
      "|-------------------------------+----------------------+----------------------+\r\n",
      "| GPU  Name        Persistence-M| Bus-Id        Disp.A | Volatile Uncorr. ECC |\r\n",
      "| Fan  Temp  Perf  Pwr:Usage/Cap|         Memory-Usage | GPU-Util  Compute M. |\r\n",
      "|                               |                      |               MIG M. |\r\n",
      "|===============================+======================+======================|\r\n",
      "|   0  Tesla T4            Off  | 00000000:00:04.0 Off |                    0 |\r\n",
      "| N/A   41C    P8    10W /  70W |      0MiB / 15109MiB |      0%      Default |\r\n",
      "|                               |                      |                  N/A |\r\n",
      "+-------------------------------+----------------------+----------------------+\r\n",
      "|   1  Tesla T4            Off  | 00000000:00:05.0 Off |                    0 |\r\n",
      "| N/A   41C    P8     9W /  70W |      0MiB / 15109MiB |      0%      Default |\r\n",
      "|                               |                      |                  N/A |\r\n",
      "+-------------------------------+----------------------+----------------------+\r\n",
      "                                                                               \r\n",
      "+-----------------------------------------------------------------------------+\r\n",
      "| Processes:                                                                  |\r\n",
      "|  GPU   GI   CI        PID   Type   Process name                  GPU Memory |\r\n",
      "|        ID   ID                                                   Usage      |\r\n",
      "|=============================================================================|\r\n",
      "|  No running processes found                                                 |\r\n",
      "+-----------------------------------------------------------------------------+\r\n"
     ]
    }
   ],
   "source": [
    "!nvidia-smi"
   ]
  },
  {
   "cell_type": "markdown",
   "id": "037c9a78",
   "metadata": {
    "papermill": {
     "duration": 0.03398,
     "end_time": "2023-06-29T17:00:44.892909",
     "exception": false,
     "start_time": "2023-06-29T17:00:44.858929",
     "status": "completed"
    },
    "tags": []
   },
   "source": [
    "### 2. Check for GPU access with Pytorch"
   ]
  },
  {
   "cell_type": "code",
   "execution_count": 82,
   "id": "85cf95f4",
   "metadata": {
    "execution": {
     "iopub.execute_input": "2023-06-29T17:00:44.963585Z",
     "iopub.status.busy": "2023-06-29T17:00:44.963207Z",
     "iopub.status.idle": "2023-06-29T17:00:45.071941Z",
     "shell.execute_reply": "2023-06-29T17:00:45.070974Z"
    },
    "papermill": {
     "duration": 0.145812,
     "end_time": "2023-06-29T17:00:45.073925",
     "exception": false,
     "start_time": "2023-06-29T17:00:44.928113",
     "status": "completed"
    },
    "tags": []
   },
   "outputs": [
    {
     "data": {
      "text/plain": [
       "True"
      ]
     },
     "execution_count": 82,
     "metadata": {},
     "output_type": "execute_result"
    }
   ],
   "source": [
    "# check GPU\n",
    "import torch\n",
    "torch.cuda.is_available()"
   ]
  },
  {
   "cell_type": "code",
   "execution_count": 83,
   "id": "be3f3950",
   "metadata": {
    "execution": {
     "iopub.execute_input": "2023-06-29T17:00:45.143877Z",
     "iopub.status.busy": "2023-06-29T17:00:45.143011Z",
     "iopub.status.idle": "2023-06-29T17:00:45.149744Z",
     "shell.execute_reply": "2023-06-29T17:00:45.148730Z"
    },
    "papermill": {
     "duration": 0.043528,
     "end_time": "2023-06-29T17:00:45.151715",
     "exception": false,
     "start_time": "2023-06-29T17:00:45.108187",
     "status": "completed"
    },
    "tags": []
   },
   "outputs": [
    {
     "data": {
      "text/plain": [
       "'cuda'"
      ]
     },
     "execution_count": 83,
     "metadata": {},
     "output_type": "execute_result"
    }
   ],
   "source": [
    "# Setup device agnostic code\n",
    "device = 'cuda' if torch.cuda.is_available() else \"cpu\" \n",
    "device"
   ]
  },
  {
   "cell_type": "code",
   "execution_count": 84,
   "id": "cc31e666",
   "metadata": {
    "execution": {
     "iopub.execute_input": "2023-06-29T17:00:45.221833Z",
     "iopub.status.busy": "2023-06-29T17:00:45.220381Z",
     "iopub.status.idle": "2023-06-29T17:00:45.241452Z",
     "shell.execute_reply": "2023-06-29T17:00:45.240491Z"
    },
    "papermill": {
     "duration": 0.057736,
     "end_time": "2023-06-29T17:00:45.243344",
     "exception": false,
     "start_time": "2023-06-29T17:00:45.185608",
     "status": "completed"
    },
    "tags": []
   },
   "outputs": [
    {
     "data": {
      "text/plain": [
       "2"
      ]
     },
     "execution_count": 84,
     "metadata": {},
     "output_type": "execute_result"
    }
   ],
   "source": [
    "# Count no. of GPUs\n",
    "torch.cuda.device_count()"
   ]
  },
  {
   "cell_type": "code",
   "execution_count": null,
   "id": "34e0f280",
   "metadata": {
    "papermill": {
     "duration": 0.033347,
     "end_time": "2023-06-29T17:00:45.310130",
     "exception": false,
     "start_time": "2023-06-29T17:00:45.276783",
     "status": "completed"
    },
    "tags": []
   },
   "outputs": [],
   "source": []
  }
 ],
 "metadata": {
  "kernelspec": {
   "display_name": "Python 3",
   "language": "python",
   "name": "python3"
  },
  "language_info": {
   "codemirror_mode": {
    "name": "ipython",
    "version": 3
   },
   "file_extension": ".py",
   "mimetype": "text/x-python",
   "name": "python",
   "nbconvert_exporter": "python",
   "pygments_lexer": "ipython3",
   "version": "3.10.10"
  },
  "papermill": {
   "default_parameters": {},
   "duration": 31.943319,
   "end_time": "2023-06-29T17:00:47.952175",
   "environment_variables": {},
   "exception": null,
   "input_path": "__notebook__.ipynb",
   "output_path": "__notebook__.ipynb",
   "parameters": {},
   "start_time": "2023-06-29T17:00:16.008856",
   "version": "2.4.0"
  }
 },
 "nbformat": 4,
 "nbformat_minor": 5
}
