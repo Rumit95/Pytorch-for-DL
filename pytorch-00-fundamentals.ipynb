{
 "cells": [
  {
   "cell_type": "code",
   "execution_count": 1,
   "id": "a3cb5b70",
   "metadata": {
    "_cell_guid": "b1076dfc-b9ad-4769-8c92-a6c4dae69d19",
    "_uuid": "8f2839f25d086af736a60e9eeb907d3b93b6e0e5",
    "execution": {
     "iopub.execute_input": "2023-06-29T06:15:22.093340Z",
     "iopub.status.busy": "2023-06-29T06:15:22.092992Z",
     "iopub.status.idle": "2023-06-29T06:15:25.576048Z",
     "shell.execute_reply": "2023-06-29T06:15:25.575072Z"
    },
    "papermill": {
     "duration": 3.503728,
     "end_time": "2023-06-29T06:15:25.578186",
     "exception": false,
     "start_time": "2023-06-29T06:15:22.074458",
     "status": "completed"
    },
    "tags": []
   },
   "outputs": [
    {
     "data": {
      "text/plain": [
       "'2.0.0'"
      ]
     },
     "execution_count": 1,
     "metadata": {},
     "output_type": "execute_result"
    }
   ],
   "source": [
    "import torch\n",
    "import pandas as pd\n",
    "import numpy as np\n",
    "import matplotlib.pyplot as plt\n",
    "torch.__version__"
   ]
  },
  {
   "cell_type": "markdown",
   "id": "f8322e8a",
   "metadata": {
    "execution": {
     "iopub.execute_input": "2023-06-25T15:31:29.081596Z",
     "iopub.status.busy": "2023-06-25T15:31:29.081220Z",
     "iopub.status.idle": "2023-06-25T15:31:29.086052Z",
     "shell.execute_reply": "2023-06-25T15:31:29.085102Z",
     "shell.execute_reply.started": "2023-06-25T15:31:29.081561Z"
    },
    "papermill": {
     "duration": 0.016977,
     "end_time": "2023-06-29T06:15:25.612808",
     "exception": false,
     "start_time": "2023-06-29T06:15:25.595831",
     "status": "completed"
    },
    "tags": []
   },
   "source": [
    "## Introduction to Tensor\n",
    "\n",
    "### Creating Tensors\n",
    "\n",
    "PyTorch tensor are create using torch.Tensor()\n",
    "\n",
    "ref - https://pytorch.org/docs/stable/tensors.html"
   ]
  },
  {
   "cell_type": "code",
   "execution_count": 2,
   "id": "c377034d",
   "metadata": {
    "execution": {
     "iopub.execute_input": "2023-06-29T06:15:25.650117Z",
     "iopub.status.busy": "2023-06-29T06:15:25.648382Z",
     "iopub.status.idle": "2023-06-29T06:15:25.686742Z",
     "shell.execute_reply": "2023-06-29T06:15:25.685837Z"
    },
    "papermill": {
     "duration": 0.05896,
     "end_time": "2023-06-29T06:15:25.688711",
     "exception": false,
     "start_time": "2023-06-29T06:15:25.629751",
     "status": "completed"
    },
    "tags": []
   },
   "outputs": [
    {
     "data": {
      "text/plain": [
       "tensor(7)"
      ]
     },
     "execution_count": 2,
     "metadata": {},
     "output_type": "execute_result"
    }
   ],
   "source": [
    "# Scaler\n",
    "scaler = torch.tensor(7)\n",
    "scaler"
   ]
  },
  {
   "cell_type": "code",
   "execution_count": 3,
   "id": "17682daf",
   "metadata": {
    "execution": {
     "iopub.execute_input": "2023-06-29T06:15:25.725505Z",
     "iopub.status.busy": "2023-06-29T06:15:25.724700Z",
     "iopub.status.idle": "2023-06-29T06:15:25.730265Z",
     "shell.execute_reply": "2023-06-29T06:15:25.729356Z"
    },
    "papermill": {
     "duration": 0.025741,
     "end_time": "2023-06-29T06:15:25.732281",
     "exception": false,
     "start_time": "2023-06-29T06:15:25.706540",
     "status": "completed"
    },
    "tags": []
   },
   "outputs": [
    {
     "data": {
      "text/plain": [
       "0"
      ]
     },
     "execution_count": 3,
     "metadata": {},
     "output_type": "execute_result"
    }
   ],
   "source": [
    "scaler.ndim"
   ]
  },
  {
   "cell_type": "code",
   "execution_count": 4,
   "id": "4b4a738a",
   "metadata": {
    "execution": {
     "iopub.execute_input": "2023-06-29T06:15:25.768560Z",
     "iopub.status.busy": "2023-06-29T06:15:25.767693Z",
     "iopub.status.idle": "2023-06-29T06:15:25.773762Z",
     "shell.execute_reply": "2023-06-29T06:15:25.772839Z"
    },
    "papermill": {
     "duration": 0.026398,
     "end_time": "2023-06-29T06:15:25.775725",
     "exception": false,
     "start_time": "2023-06-29T06:15:25.749327",
     "status": "completed"
    },
    "tags": []
   },
   "outputs": [
    {
     "data": {
      "text/plain": [
       "7"
      ]
     },
     "execution_count": 4,
     "metadata": {},
     "output_type": "execute_result"
    }
   ],
   "source": [
    "# Get Tensor back ans int\n",
    "scaler.item()"
   ]
  },
  {
   "cell_type": "code",
   "execution_count": 5,
   "id": "f989a77e",
   "metadata": {
    "execution": {
     "iopub.execute_input": "2023-06-29T06:15:25.811816Z",
     "iopub.status.busy": "2023-06-29T06:15:25.811095Z",
     "iopub.status.idle": "2023-06-29T06:15:25.818346Z",
     "shell.execute_reply": "2023-06-29T06:15:25.817436Z"
    },
    "papermill": {
     "duration": 0.027564,
     "end_time": "2023-06-29T06:15:25.820535",
     "exception": false,
     "start_time": "2023-06-29T06:15:25.792971",
     "status": "completed"
    },
    "tags": []
   },
   "outputs": [
    {
     "data": {
      "text/plain": [
       "tensor([7, 7])"
      ]
     },
     "execution_count": 5,
     "metadata": {},
     "output_type": "execute_result"
    }
   ],
   "source": [
    "# Vector\n",
    "vector = torch.tensor([7,7])\n",
    "vector"
   ]
  },
  {
   "cell_type": "code",
   "execution_count": 6,
   "id": "4050c65c",
   "metadata": {
    "execution": {
     "iopub.execute_input": "2023-06-29T06:15:25.857381Z",
     "iopub.status.busy": "2023-06-29T06:15:25.856662Z",
     "iopub.status.idle": "2023-06-29T06:15:25.862753Z",
     "shell.execute_reply": "2023-06-29T06:15:25.861836Z"
    },
    "papermill": {
     "duration": 0.026842,
     "end_time": "2023-06-29T06:15:25.864688",
     "exception": false,
     "start_time": "2023-06-29T06:15:25.837846",
     "status": "completed"
    },
    "tags": []
   },
   "outputs": [
    {
     "data": {
      "text/plain": [
       "1"
      ]
     },
     "execution_count": 6,
     "metadata": {},
     "output_type": "execute_result"
    }
   ],
   "source": [
    "vector.ndim"
   ]
  },
  {
   "cell_type": "code",
   "execution_count": 7,
   "id": "072e0f55",
   "metadata": {
    "execution": {
     "iopub.execute_input": "2023-06-29T06:15:25.901217Z",
     "iopub.status.busy": "2023-06-29T06:15:25.900898Z",
     "iopub.status.idle": "2023-06-29T06:15:25.906177Z",
     "shell.execute_reply": "2023-06-29T06:15:25.905300Z"
    },
    "papermill": {
     "duration": 0.025561,
     "end_time": "2023-06-29T06:15:25.908069",
     "exception": false,
     "start_time": "2023-06-29T06:15:25.882508",
     "status": "completed"
    },
    "tags": []
   },
   "outputs": [
    {
     "data": {
      "text/plain": [
       "torch.Size([2])"
      ]
     },
     "execution_count": 7,
     "metadata": {},
     "output_type": "execute_result"
    }
   ],
   "source": [
    "vector.shape"
   ]
  },
  {
   "cell_type": "code",
   "execution_count": 8,
   "id": "d9970892",
   "metadata": {
    "execution": {
     "iopub.execute_input": "2023-06-29T06:15:25.944694Z",
     "iopub.status.busy": "2023-06-29T06:15:25.944051Z",
     "iopub.status.idle": "2023-06-29T06:15:25.965048Z",
     "shell.execute_reply": "2023-06-29T06:15:25.963694Z"
    },
    "papermill": {
     "duration": 0.043335,
     "end_time": "2023-06-29T06:15:25.969082",
     "exception": false,
     "start_time": "2023-06-29T06:15:25.925747",
     "status": "completed"
    },
    "tags": []
   },
   "outputs": [
    {
     "data": {
      "text/plain": [
       "tensor([[7, 8],\n",
       "        [6, 5]])"
      ]
     },
     "execution_count": 8,
     "metadata": {},
     "output_type": "execute_result"
    }
   ],
   "source": [
    "# Matrix\n",
    "MATRIX = torch.tensor([[7,8],\n",
    "                      [6,5]])\n",
    "MATRIX"
   ]
  },
  {
   "cell_type": "code",
   "execution_count": 9,
   "id": "221a2dd6",
   "metadata": {
    "execution": {
     "iopub.execute_input": "2023-06-29T06:15:26.030482Z",
     "iopub.status.busy": "2023-06-29T06:15:26.030073Z",
     "iopub.status.idle": "2023-06-29T06:15:26.039906Z",
     "shell.execute_reply": "2023-06-29T06:15:26.038451Z"
    },
    "papermill": {
     "duration": 0.048105,
     "end_time": "2023-06-29T06:15:26.048703",
     "exception": false,
     "start_time": "2023-06-29T06:15:26.000598",
     "status": "completed"
    },
    "tags": []
   },
   "outputs": [
    {
     "data": {
      "text/plain": [
       "2"
      ]
     },
     "execution_count": 9,
     "metadata": {},
     "output_type": "execute_result"
    }
   ],
   "source": [
    "MATRIX.ndim"
   ]
  },
  {
   "cell_type": "code",
   "execution_count": 10,
   "id": "15d676ad",
   "metadata": {
    "execution": {
     "iopub.execute_input": "2023-06-29T06:15:26.098529Z",
     "iopub.status.busy": "2023-06-29T06:15:26.098218Z",
     "iopub.status.idle": "2023-06-29T06:15:26.104656Z",
     "shell.execute_reply": "2023-06-29T06:15:26.103907Z"
    },
    "papermill": {
     "duration": 0.03649,
     "end_time": "2023-06-29T06:15:26.110258",
     "exception": false,
     "start_time": "2023-06-29T06:15:26.073768",
     "status": "completed"
    },
    "tags": []
   },
   "outputs": [
    {
     "data": {
      "text/plain": [
       "tensor([7, 8])"
      ]
     },
     "execution_count": 10,
     "metadata": {},
     "output_type": "execute_result"
    }
   ],
   "source": [
    "MATRIX[0]"
   ]
  },
  {
   "cell_type": "code",
   "execution_count": 11,
   "id": "f351c1c6",
   "metadata": {
    "execution": {
     "iopub.execute_input": "2023-06-29T06:15:26.163825Z",
     "iopub.status.busy": "2023-06-29T06:15:26.163508Z",
     "iopub.status.idle": "2023-06-29T06:15:26.169300Z",
     "shell.execute_reply": "2023-06-29T06:15:26.168543Z"
    },
    "papermill": {
     "duration": 0.038954,
     "end_time": "2023-06-29T06:15:26.175094",
     "exception": false,
     "start_time": "2023-06-29T06:15:26.136140",
     "status": "completed"
    },
    "tags": []
   },
   "outputs": [
    {
     "data": {
      "text/plain": [
       "tensor([6, 5])"
      ]
     },
     "execution_count": 11,
     "metadata": {},
     "output_type": "execute_result"
    }
   ],
   "source": [
    "MATRIX[1]"
   ]
  },
  {
   "cell_type": "code",
   "execution_count": 12,
   "id": "7e1c41fb",
   "metadata": {
    "execution": {
     "iopub.execute_input": "2023-06-29T06:15:26.225562Z",
     "iopub.status.busy": "2023-06-29T06:15:26.225225Z",
     "iopub.status.idle": "2023-06-29T06:15:26.230973Z",
     "shell.execute_reply": "2023-06-29T06:15:26.230155Z"
    },
    "papermill": {
     "duration": 0.036802,
     "end_time": "2023-06-29T06:15:26.236123",
     "exception": false,
     "start_time": "2023-06-29T06:15:26.199321",
     "status": "completed"
    },
    "tags": []
   },
   "outputs": [
    {
     "data": {
      "text/plain": [
       "torch.Size([2, 2])"
      ]
     },
     "execution_count": 12,
     "metadata": {},
     "output_type": "execute_result"
    }
   ],
   "source": [
    "MATRIX.shape"
   ]
  },
  {
   "cell_type": "code",
   "execution_count": 13,
   "id": "264e7a08",
   "metadata": {
    "execution": {
     "iopub.execute_input": "2023-06-29T06:15:26.288036Z",
     "iopub.status.busy": "2023-06-29T06:15:26.287699Z",
     "iopub.status.idle": "2023-06-29T06:15:26.297976Z",
     "shell.execute_reply": "2023-06-29T06:15:26.297139Z"
    },
    "papermill": {
     "duration": 0.039075,
     "end_time": "2023-06-29T06:15:26.300600",
     "exception": false,
     "start_time": "2023-06-29T06:15:26.261525",
     "status": "completed"
    },
    "tags": []
   },
   "outputs": [
    {
     "data": {
      "text/plain": [
       "tensor([[[1, 2, 3],\n",
       "         [5, 6, 6],\n",
       "         [7, 8, 9]]])"
      ]
     },
     "execution_count": 13,
     "metadata": {},
     "output_type": "execute_result"
    }
   ],
   "source": [
    "# Tensor\n",
    "TENSOR = torch.tensor([[[1,2,3],\n",
    "                      [5,6,6],\n",
    "                      [7,8,9]]])\n",
    "TENSOR"
   ]
  },
  {
   "cell_type": "code",
   "execution_count": 14,
   "id": "d83ba1ed",
   "metadata": {
    "execution": {
     "iopub.execute_input": "2023-06-29T06:15:26.352889Z",
     "iopub.status.busy": "2023-06-29T06:15:26.352577Z",
     "iopub.status.idle": "2023-06-29T06:15:26.358296Z",
     "shell.execute_reply": "2023-06-29T06:15:26.357468Z"
    },
    "papermill": {
     "duration": 0.03812,
     "end_time": "2023-06-29T06:15:26.363743",
     "exception": false,
     "start_time": "2023-06-29T06:15:26.325623",
     "status": "completed"
    },
    "tags": []
   },
   "outputs": [
    {
     "data": {
      "text/plain": [
       "3"
      ]
     },
     "execution_count": 14,
     "metadata": {},
     "output_type": "execute_result"
    }
   ],
   "source": [
    "TENSOR.ndim"
   ]
  },
  {
   "cell_type": "code",
   "execution_count": 15,
   "id": "55848e81",
   "metadata": {
    "execution": {
     "iopub.execute_input": "2023-06-29T06:15:26.416640Z",
     "iopub.status.busy": "2023-06-29T06:15:26.416309Z",
     "iopub.status.idle": "2023-06-29T06:15:26.422178Z",
     "shell.execute_reply": "2023-06-29T06:15:26.421371Z"
    },
    "papermill": {
     "duration": 0.038035,
     "end_time": "2023-06-29T06:15:26.427491",
     "exception": false,
     "start_time": "2023-06-29T06:15:26.389456",
     "status": "completed"
    },
    "tags": []
   },
   "outputs": [
    {
     "data": {
      "text/plain": [
       "torch.Size([1, 3, 3])"
      ]
     },
     "execution_count": 15,
     "metadata": {},
     "output_type": "execute_result"
    }
   ],
   "source": [
    "TENSOR.shape"
   ]
  },
  {
   "cell_type": "code",
   "execution_count": 16,
   "id": "d71b38b5",
   "metadata": {
    "execution": {
     "iopub.execute_input": "2023-06-29T06:15:26.479802Z",
     "iopub.status.busy": "2023-06-29T06:15:26.479467Z",
     "iopub.status.idle": "2023-06-29T06:15:26.485787Z",
     "shell.execute_reply": "2023-06-29T06:15:26.485060Z"
    },
    "papermill": {
     "duration": 0.037624,
     "end_time": "2023-06-29T06:15:26.491016",
     "exception": false,
     "start_time": "2023-06-29T06:15:26.453392",
     "status": "completed"
    },
    "tags": []
   },
   "outputs": [
    {
     "data": {
      "text/plain": [
       "tensor([[1, 2, 3],\n",
       "        [5, 6, 6],\n",
       "        [7, 8, 9]])"
      ]
     },
     "execution_count": 16,
     "metadata": {},
     "output_type": "execute_result"
    }
   ],
   "source": [
    "TENSOR[0]"
   ]
  },
  {
   "cell_type": "code",
   "execution_count": 17,
   "id": "148502be",
   "metadata": {
    "execution": {
     "iopub.execute_input": "2023-06-29T06:15:26.543124Z",
     "iopub.status.busy": "2023-06-29T06:15:26.542782Z",
     "iopub.status.idle": "2023-06-29T06:15:26.550985Z",
     "shell.execute_reply": "2023-06-29T06:15:26.550105Z"
    },
    "papermill": {
     "duration": 0.039903,
     "end_time": "2023-06-29T06:15:26.556123",
     "exception": false,
     "start_time": "2023-06-29T06:15:26.516220",
     "status": "completed"
    },
    "tags": []
   },
   "outputs": [
    {
     "data": {
      "text/plain": [
       "tensor([[[1, 2, 3],\n",
       "         [4, 5, 6],\n",
       "         [7, 8, 9]],\n",
       "\n",
       "        [[1, 2, 3],\n",
       "         [4, 5, 6],\n",
       "         [7, 8, 9]]])"
      ]
     },
     "execution_count": 17,
     "metadata": {},
     "output_type": "execute_result"
    }
   ],
   "source": [
    "# Practice\n",
    "TENSOR1 = torch.tensor([[[1,2,3],\n",
    "                      [4,5,6],\n",
    "                      [7,8,9]],\n",
    "                     [[1,2,3],\n",
    "                      [4,5,6],\n",
    "                      [7,8,9]]])\n",
    "TENSOR1"
   ]
  },
  {
   "cell_type": "code",
   "execution_count": 18,
   "id": "63449af1",
   "metadata": {
    "execution": {
     "iopub.execute_input": "2023-06-29T06:15:26.608962Z",
     "iopub.status.busy": "2023-06-29T06:15:26.608647Z",
     "iopub.status.idle": "2023-06-29T06:15:26.614474Z",
     "shell.execute_reply": "2023-06-29T06:15:26.613648Z"
    },
    "papermill": {
     "duration": 0.037941,
     "end_time": "2023-06-29T06:15:26.619757",
     "exception": false,
     "start_time": "2023-06-29T06:15:26.581816",
     "status": "completed"
    },
    "tags": []
   },
   "outputs": [
    {
     "data": {
      "text/plain": [
       "3"
      ]
     },
     "execution_count": 18,
     "metadata": {},
     "output_type": "execute_result"
    }
   ],
   "source": [
    "TENSOR1.ndim"
   ]
  },
  {
   "cell_type": "code",
   "execution_count": 19,
   "id": "f8bcc152",
   "metadata": {
    "execution": {
     "iopub.execute_input": "2023-06-29T06:15:26.676928Z",
     "iopub.status.busy": "2023-06-29T06:15:26.676524Z",
     "iopub.status.idle": "2023-06-29T06:15:26.684914Z",
     "shell.execute_reply": "2023-06-29T06:15:26.684096Z"
    },
    "papermill": {
     "duration": 0.041328,
     "end_time": "2023-06-29T06:15:26.688134",
     "exception": false,
     "start_time": "2023-06-29T06:15:26.646806",
     "status": "completed"
    },
    "tags": []
   },
   "outputs": [
    {
     "data": {
      "text/plain": [
       "torch.Size([2, 3, 3])"
      ]
     },
     "execution_count": 19,
     "metadata": {},
     "output_type": "execute_result"
    }
   ],
   "source": [
    "TENSOR1.shape"
   ]
  },
  {
   "cell_type": "markdown",
   "id": "1c1b01e3",
   "metadata": {
    "execution": {
     "iopub.execute_input": "2023-06-25T15:53:52.605155Z",
     "iopub.status.busy": "2023-06-25T15:53:52.604740Z",
     "iopub.status.idle": "2023-06-25T15:53:52.609815Z",
     "shell.execute_reply": "2023-06-25T15:53:52.608929Z",
     "shell.execute_reply.started": "2023-06-25T15:53:52.605124Z"
    },
    "papermill": {
     "duration": 0.026243,
     "end_time": "2023-06-29T06:15:26.740964",
     "exception": false,
     "start_time": "2023-06-29T06:15:26.714721",
     "status": "completed"
    },
    "tags": []
   },
   "source": [
    "### Random Tensor\n",
    "\n",
    "Why Random Nos. ?\n",
    "\n",
    "'Start with Random Numbers -> Look at Data -> Update Random Numbers -> Look at Data -> Update Random Numbers'\n",
    "\n",
    "ref - https://pytorch.org/docs/stable/generated/torch.rand.html"
   ]
  },
  {
   "cell_type": "code",
   "execution_count": 20,
   "id": "e04badd9",
   "metadata": {
    "execution": {
     "iopub.execute_input": "2023-06-29T06:15:26.796391Z",
     "iopub.status.busy": "2023-06-29T06:15:26.795784Z",
     "iopub.status.idle": "2023-06-29T06:15:26.851542Z",
     "shell.execute_reply": "2023-06-29T06:15:26.850676Z"
    },
    "papermill": {
     "duration": 0.086314,
     "end_time": "2023-06-29T06:15:26.853981",
     "exception": false,
     "start_time": "2023-06-29T06:15:26.767667",
     "status": "completed"
    },
    "tags": []
   },
   "outputs": [
    {
     "data": {
      "text/plain": [
       "tensor([[[0.7811, 0.2357, 0.4046],\n",
       "         [0.6839, 0.0901, 0.7057],\n",
       "         [0.6060, 0.7512, 0.6922],\n",
       "         [0.4719, 0.5205, 0.4999]],\n",
       "\n",
       "        [[0.6698, 0.5535, 0.4190],\n",
       "         [0.0070, 0.6186, 0.4008],\n",
       "         [0.0452, 0.0583, 0.6005],\n",
       "         [0.0101, 0.5705, 0.5337]],\n",
       "\n",
       "        [[0.7206, 0.7205, 0.6253],\n",
       "         [0.6279, 0.0577, 0.8319],\n",
       "         [0.9314, 0.3629, 0.5101],\n",
       "         [0.4437, 0.6941, 0.7607]]])"
      ]
     },
     "execution_count": 20,
     "metadata": {},
     "output_type": "execute_result"
    }
   ],
   "source": [
    "# Create a random tensor of size(3,4)\n",
    "random_tensor = torch.rand(3,4,3)\n",
    "random_tensor"
   ]
  },
  {
   "cell_type": "code",
   "execution_count": 21,
   "id": "620561e0",
   "metadata": {
    "execution": {
     "iopub.execute_input": "2023-06-29T06:15:26.910877Z",
     "iopub.status.busy": "2023-06-29T06:15:26.910513Z",
     "iopub.status.idle": "2023-06-29T06:15:26.916385Z",
     "shell.execute_reply": "2023-06-29T06:15:26.915596Z"
    },
    "papermill": {
     "duration": 0.039509,
     "end_time": "2023-06-29T06:15:26.921706",
     "exception": false,
     "start_time": "2023-06-29T06:15:26.882197",
     "status": "completed"
    },
    "tags": []
   },
   "outputs": [
    {
     "data": {
      "text/plain": [
       "3"
      ]
     },
     "execution_count": 21,
     "metadata": {},
     "output_type": "execute_result"
    }
   ],
   "source": [
    "random_tensor.ndim"
   ]
  },
  {
   "cell_type": "code",
   "execution_count": 22,
   "id": "5768ee32",
   "metadata": {
    "execution": {
     "iopub.execute_input": "2023-06-29T06:15:26.978301Z",
     "iopub.status.busy": "2023-06-29T06:15:26.977980Z",
     "iopub.status.idle": "2023-06-29T06:15:26.983468Z",
     "shell.execute_reply": "2023-06-29T06:15:26.982717Z"
    },
    "papermill": {
     "duration": 0.039275,
     "end_time": "2023-06-29T06:15:26.988659",
     "exception": false,
     "start_time": "2023-06-29T06:15:26.949384",
     "status": "completed"
    },
    "tags": []
   },
   "outputs": [
    {
     "data": {
      "text/plain": [
       "torch.Size([3, 4, 3])"
      ]
     },
     "execution_count": 22,
     "metadata": {},
     "output_type": "execute_result"
    }
   ],
   "source": [
    "random_tensor.shape"
   ]
  },
  {
   "cell_type": "code",
   "execution_count": 23,
   "id": "e6b67aef",
   "metadata": {
    "execution": {
     "iopub.execute_input": "2023-06-29T06:15:27.044890Z",
     "iopub.status.busy": "2023-06-29T06:15:27.044600Z",
     "iopub.status.idle": "2023-06-29T06:15:27.061193Z",
     "shell.execute_reply": "2023-06-29T06:15:27.060321Z"
    },
    "papermill": {
     "duration": 0.047554,
     "end_time": "2023-06-29T06:15:27.063758",
     "exception": false,
     "start_time": "2023-06-29T06:15:27.016204",
     "status": "completed"
    },
    "scrolled": true,
    "tags": []
   },
   "outputs": [
    {
     "data": {
      "text/plain": [
       "tensor([[[0.3270, 0.2781, 0.8259],\n",
       "         [0.3648, 0.6545, 0.4443],\n",
       "         [0.9152, 0.9426, 0.8997],\n",
       "         ...,\n",
       "         [0.6555, 0.6841, 0.5782],\n",
       "         [0.2953, 0.5574, 0.6966],\n",
       "         [0.4858, 0.2953, 0.0779]],\n",
       "\n",
       "        [[0.0547, 0.9882, 0.5122],\n",
       "         [0.2748, 0.2633, 0.1872],\n",
       "         [0.4696, 0.1552, 0.5558],\n",
       "         ...,\n",
       "         [0.6217, 0.6888, 0.2460],\n",
       "         [0.2440, 0.1052, 0.2726],\n",
       "         [0.0413, 0.0750, 0.3858]],\n",
       "\n",
       "        [[0.7744, 0.4204, 0.6331],\n",
       "         [0.8916, 0.2464, 0.6812],\n",
       "         [0.4179, 0.3664, 0.5340],\n",
       "         ...,\n",
       "         [0.6600, 0.1106, 0.5359],\n",
       "         [0.6764, 0.4506, 0.7219],\n",
       "         [0.5497, 0.3284, 0.2220]],\n",
       "\n",
       "        ...,\n",
       "\n",
       "        [[0.9154, 0.4742, 0.5998],\n",
       "         [0.8995, 0.7307, 0.1675],\n",
       "         [0.1829, 0.4632, 0.8811],\n",
       "         ...,\n",
       "         [0.4538, 0.6238, 0.4994],\n",
       "         [0.3986, 0.5136, 0.5987],\n",
       "         [0.7995, 0.9591, 0.0600]],\n",
       "\n",
       "        [[0.7085, 0.2800, 0.2770],\n",
       "         [0.8727, 0.6767, 0.5534],\n",
       "         [0.0675, 0.6482, 0.8152],\n",
       "         ...,\n",
       "         [0.9710, 0.4664, 0.6605],\n",
       "         [0.6745, 0.1372, 0.6370],\n",
       "         [0.4013, 0.7028, 0.3658]],\n",
       "\n",
       "        [[0.3439, 0.9653, 0.5251],\n",
       "         [0.9088, 0.6434, 0.7795],\n",
       "         [0.2877, 0.1316, 0.8822],\n",
       "         ...,\n",
       "         [0.3093, 0.4000, 0.8146],\n",
       "         [0.5409, 0.1017, 0.6149],\n",
       "         [0.1685, 0.0500, 0.1116]]])"
      ]
     },
     "execution_count": 23,
     "metadata": {},
     "output_type": "execute_result"
    }
   ],
   "source": [
    "# Creating Random tensor similar to Image Shape\n",
    "random_image_size_tensor = torch.rand(size=[224,224,3],) # height, width , color channels\n",
    "random_image_size_tensor"
   ]
  },
  {
   "cell_type": "code",
   "execution_count": 24,
   "id": "071a8d3e",
   "metadata": {
    "execution": {
     "iopub.execute_input": "2023-06-29T06:15:27.119883Z",
     "iopub.status.busy": "2023-06-29T06:15:27.119588Z",
     "iopub.status.idle": "2023-06-29T06:15:27.125147Z",
     "shell.execute_reply": "2023-06-29T06:15:27.124388Z"
    },
    "papermill": {
     "duration": 0.040378,
     "end_time": "2023-06-29T06:15:27.131330",
     "exception": false,
     "start_time": "2023-06-29T06:15:27.090952",
     "status": "completed"
    },
    "tags": []
   },
   "outputs": [
    {
     "data": {
      "text/plain": [
       "3"
      ]
     },
     "execution_count": 24,
     "metadata": {},
     "output_type": "execute_result"
    }
   ],
   "source": [
    "random_image_size_tensor.ndim"
   ]
  },
  {
   "cell_type": "code",
   "execution_count": 25,
   "id": "d1c8dbe3",
   "metadata": {
    "execution": {
     "iopub.execute_input": "2023-06-29T06:15:27.191411Z",
     "iopub.status.busy": "2023-06-29T06:15:27.191049Z",
     "iopub.status.idle": "2023-06-29T06:15:27.196496Z",
     "shell.execute_reply": "2023-06-29T06:15:27.195746Z"
    },
    "papermill": {
     "duration": 0.038799,
     "end_time": "2023-06-29T06:15:27.201619",
     "exception": false,
     "start_time": "2023-06-29T06:15:27.162820",
     "status": "completed"
    },
    "tags": []
   },
   "outputs": [
    {
     "data": {
      "text/plain": [
       "torch.Size([224, 224, 3])"
      ]
     },
     "execution_count": 25,
     "metadata": {},
     "output_type": "execute_result"
    }
   ],
   "source": [
    "random_image_size_tensor.shape"
   ]
  },
  {
   "cell_type": "markdown",
   "id": "7b14ac88",
   "metadata": {
    "papermill": {
     "duration": 0.027244,
     "end_time": "2023-06-29T06:15:27.256647",
     "exception": false,
     "start_time": "2023-06-29T06:15:27.229403",
     "status": "completed"
    },
    "tags": []
   },
   "source": [
    "### Zeroes and Ones"
   ]
  },
  {
   "cell_type": "code",
   "execution_count": 26,
   "id": "e14abb17",
   "metadata": {
    "execution": {
     "iopub.execute_input": "2023-06-29T06:15:27.313516Z",
     "iopub.status.busy": "2023-06-29T06:15:27.313217Z",
     "iopub.status.idle": "2023-06-29T06:15:27.322164Z",
     "shell.execute_reply": "2023-06-29T06:15:27.321079Z"
    },
    "papermill": {
     "duration": 0.040643,
     "end_time": "2023-06-29T06:15:27.324689",
     "exception": false,
     "start_time": "2023-06-29T06:15:27.284046",
     "status": "completed"
    },
    "tags": []
   },
   "outputs": [
    {
     "data": {
      "text/plain": [
       "tensor([[0., 0., 0., 0.],\n",
       "        [0., 0., 0., 0.],\n",
       "        [0., 0., 0., 0.]])"
      ]
     },
     "execution_count": 26,
     "metadata": {},
     "output_type": "execute_result"
    }
   ],
   "source": [
    "# Create a tenor of all zeros\n",
    "zeros = torch.zeros(3,4)\n",
    "zeros"
   ]
  },
  {
   "cell_type": "code",
   "execution_count": 27,
   "id": "9f656611",
   "metadata": {
    "execution": {
     "iopub.execute_input": "2023-06-29T06:15:27.381766Z",
     "iopub.status.busy": "2023-06-29T06:15:27.381445Z",
     "iopub.status.idle": "2023-06-29T06:15:27.387693Z",
     "shell.execute_reply": "2023-06-29T06:15:27.386946Z"
    },
    "papermill": {
     "duration": 0.040474,
     "end_time": "2023-06-29T06:15:27.392841",
     "exception": false,
     "start_time": "2023-06-29T06:15:27.352367",
     "status": "completed"
    },
    "tags": []
   },
   "outputs": [
    {
     "data": {
      "text/plain": [
       "tensor([[0., 0., 0., 0.],\n",
       "        [0., 0., 0., 0.],\n",
       "        [0., 0., 0., 0.]])"
      ]
     },
     "execution_count": 27,
     "metadata": {},
     "output_type": "execute_result"
    }
   ],
   "source": [
    "zeros * torch.rand(3,4)"
   ]
  },
  {
   "cell_type": "code",
   "execution_count": 28,
   "id": "ca8f13ef",
   "metadata": {
    "execution": {
     "iopub.execute_input": "2023-06-29T06:15:27.449778Z",
     "iopub.status.busy": "2023-06-29T06:15:27.449478Z",
     "iopub.status.idle": "2023-06-29T06:15:27.458215Z",
     "shell.execute_reply": "2023-06-29T06:15:27.456595Z"
    },
    "papermill": {
     "duration": 0.041131,
     "end_time": "2023-06-29T06:15:27.461687",
     "exception": false,
     "start_time": "2023-06-29T06:15:27.420556",
     "status": "completed"
    },
    "tags": []
   },
   "outputs": [
    {
     "data": {
      "text/plain": [
       "tensor([[1, 1, 1, 1],\n",
       "        [1, 1, 1, 1],\n",
       "        [1, 1, 1, 1]])"
      ]
     },
     "execution_count": 28,
     "metadata": {},
     "output_type": "execute_result"
    }
   ],
   "source": [
    "# Create tensor of all ones\n",
    "ones = torch.ones(size=(3,4),dtype=int)\n",
    "ones"
   ]
  },
  {
   "cell_type": "code",
   "execution_count": 29,
   "id": "2e606591",
   "metadata": {
    "execution": {
     "iopub.execute_input": "2023-06-29T06:15:27.504357Z",
     "iopub.status.busy": "2023-06-29T06:15:27.503615Z",
     "iopub.status.idle": "2023-06-29T06:15:27.509485Z",
     "shell.execute_reply": "2023-06-29T06:15:27.508568Z"
    },
    "papermill": {
     "duration": 0.029155,
     "end_time": "2023-06-29T06:15:27.511579",
     "exception": false,
     "start_time": "2023-06-29T06:15:27.482424",
     "status": "completed"
    },
    "tags": []
   },
   "outputs": [
    {
     "data": {
      "text/plain": [
       "torch.int64"
      ]
     },
     "execution_count": 29,
     "metadata": {},
     "output_type": "execute_result"
    }
   ],
   "source": [
    "ones.dtype"
   ]
  },
  {
   "cell_type": "markdown",
   "id": "f4303290",
   "metadata": {
    "execution": {
     "iopub.execute_input": "2023-06-25T16:24:23.852212Z",
     "iopub.status.busy": "2023-06-25T16:24:23.851772Z",
     "iopub.status.idle": "2023-06-25T16:24:23.857025Z",
     "shell.execute_reply": "2023-06-25T16:24:23.856069Z",
     "shell.execute_reply.started": "2023-06-25T16:24:23.852179Z"
    },
    "papermill": {
     "duration": 0.020301,
     "end_time": "2023-06-29T06:15:27.552209",
     "exception": false,
     "start_time": "2023-06-29T06:15:27.531908",
     "status": "completed"
    },
    "tags": []
   },
   "source": [
    "### Create a range of tensors and tensors-like\n",
    "\n",
    "ref - https://pytorch.org/docs/stable/generated/torch.arange.html"
   ]
  },
  {
   "cell_type": "code",
   "execution_count": 30,
   "id": "49b444bb",
   "metadata": {
    "execution": {
     "iopub.execute_input": "2023-06-29T06:15:27.594844Z",
     "iopub.status.busy": "2023-06-29T06:15:27.594154Z",
     "iopub.status.idle": "2023-06-29T06:15:27.603820Z",
     "shell.execute_reply": "2023-06-29T06:15:27.602876Z"
    },
    "papermill": {
     "duration": 0.032954,
     "end_time": "2023-06-29T06:15:27.605683",
     "exception": false,
     "start_time": "2023-06-29T06:15:27.572729",
     "status": "completed"
    },
    "tags": []
   },
   "outputs": [
    {
     "data": {
      "text/plain": [
       "tensor([ 1,  2,  3,  4,  5,  6,  7,  8,  9, 10])"
      ]
     },
     "execution_count": 30,
     "metadata": {},
     "output_type": "execute_result"
    }
   ],
   "source": [
    "# Use torch.arange()\n",
    "one_to_ten = torch.arange(start=1, end=11, step=1)\n",
    "one_to_ten"
   ]
  },
  {
   "cell_type": "code",
   "execution_count": 31,
   "id": "6b38790a",
   "metadata": {
    "execution": {
     "iopub.execute_input": "2023-06-29T06:15:27.647789Z",
     "iopub.status.busy": "2023-06-29T06:15:27.647531Z",
     "iopub.status.idle": "2023-06-29T06:15:27.653848Z",
     "shell.execute_reply": "2023-06-29T06:15:27.652984Z"
    },
    "papermill": {
     "duration": 0.029777,
     "end_time": "2023-06-29T06:15:27.655915",
     "exception": false,
     "start_time": "2023-06-29T06:15:27.626138",
     "status": "completed"
    },
    "tags": []
   },
   "outputs": [
    {
     "data": {
      "text/plain": [
       "tensor([0, 0, 0, 0, 0, 0, 0, 0, 0, 0])"
      ]
     },
     "execution_count": 31,
     "metadata": {},
     "output_type": "execute_result"
    }
   ],
   "source": [
    "# Create tesnors like\n",
    "ten_zeros = torch.zeros_like(input=one_to_ten)\n",
    "ten_zeros"
   ]
  },
  {
   "cell_type": "markdown",
   "id": "92d8854d",
   "metadata": {
    "papermill": {
     "duration": 0.020761,
     "end_time": "2023-06-29T06:15:27.697282",
     "exception": false,
     "start_time": "2023-06-29T06:15:27.676521",
     "status": "completed"
    },
    "tags": []
   },
   "source": [
    "### Tensor datatypes\n",
    "\n",
    "Tensor datatypes is one of the 3 big errors arrive in Pytorch\n",
    "\n",
    "1. Tensors not right datatype\n",
    "2. Tensors not right shape\n",
    "3. Tensors not no right device\n",
    "\n",
    "ref - https://pytorch.org/docs/stable/tensors.html"
   ]
  },
  {
   "cell_type": "code",
   "execution_count": 32,
   "id": "b8413841",
   "metadata": {
    "execution": {
     "iopub.execute_input": "2023-06-29T06:15:27.740680Z",
     "iopub.status.busy": "2023-06-29T06:15:27.739857Z",
     "iopub.status.idle": "2023-06-29T06:15:27.747015Z",
     "shell.execute_reply": "2023-06-29T06:15:27.746127Z"
    },
    "papermill": {
     "duration": 0.031197,
     "end_time": "2023-06-29T06:15:27.749249",
     "exception": false,
     "start_time": "2023-06-29T06:15:27.718052",
     "status": "completed"
    },
    "tags": []
   },
   "outputs": [
    {
     "data": {
      "text/plain": [
       "tensor([3., 6., 9.])"
      ]
     },
     "execution_count": 32,
     "metadata": {},
     "output_type": "execute_result"
    }
   ],
   "source": [
    "# Float 32 tensor\n",
    "float_32_tensor = torch.tensor([3.0,6.0,9.0],\n",
    "                             dtype=None, # what datatype of tensor (float32 etc)\n",
    "                             device=None, #'cpu or gpu -> cuda'\n",
    "                             requires_grad=False) # whether to track gradient\n",
    "float_32_tensor"
   ]
  },
  {
   "cell_type": "code",
   "execution_count": 33,
   "id": "70d66254",
   "metadata": {
    "execution": {
     "iopub.execute_input": "2023-06-29T06:15:27.793353Z",
     "iopub.status.busy": "2023-06-29T06:15:27.792652Z",
     "iopub.status.idle": "2023-06-29T06:15:27.798383Z",
     "shell.execute_reply": "2023-06-29T06:15:27.797462Z"
    },
    "papermill": {
     "duration": 0.030106,
     "end_time": "2023-06-29T06:15:27.800339",
     "exception": false,
     "start_time": "2023-06-29T06:15:27.770233",
     "status": "completed"
    },
    "tags": []
   },
   "outputs": [
    {
     "data": {
      "text/plain": [
       "torch.float32"
      ]
     },
     "execution_count": 33,
     "metadata": {},
     "output_type": "execute_result"
    }
   ],
   "source": [
    "float_32_tensor.dtype"
   ]
  },
  {
   "cell_type": "code",
   "execution_count": 34,
   "id": "121a50aa",
   "metadata": {
    "execution": {
     "iopub.execute_input": "2023-06-29T06:15:27.843732Z",
     "iopub.status.busy": "2023-06-29T06:15:27.843471Z",
     "iopub.status.idle": "2023-06-29T06:15:27.851896Z",
     "shell.execute_reply": "2023-06-29T06:15:27.851054Z"
    },
    "papermill": {
     "duration": 0.032313,
     "end_time": "2023-06-29T06:15:27.853785",
     "exception": false,
     "start_time": "2023-06-29T06:15:27.821472",
     "status": "completed"
    },
    "tags": []
   },
   "outputs": [],
   "source": [
    "float_16_tensor = float_32_tensor.half()\n",
    "# or\n",
    "float_16_tensor = float_32_tensor.type(torch.float) # torch.half"
   ]
  },
  {
   "cell_type": "code",
   "execution_count": 35,
   "id": "ade2c72f",
   "metadata": {
    "execution": {
     "iopub.execute_input": "2023-06-29T06:15:27.898130Z",
     "iopub.status.busy": "2023-06-29T06:15:27.897373Z",
     "iopub.status.idle": "2023-06-29T06:15:27.904099Z",
     "shell.execute_reply": "2023-06-29T06:15:27.903063Z"
    },
    "papermill": {
     "duration": 0.030621,
     "end_time": "2023-06-29T06:15:27.906018",
     "exception": false,
     "start_time": "2023-06-29T06:15:27.875397",
     "status": "completed"
    },
    "tags": []
   },
   "outputs": [
    {
     "data": {
      "text/plain": [
       "tensor([3., 6., 9.])"
      ]
     },
     "execution_count": 35,
     "metadata": {},
     "output_type": "execute_result"
    }
   ],
   "source": [
    "float_16_tensor"
   ]
  },
  {
   "cell_type": "code",
   "execution_count": 36,
   "id": "f4dfbe15",
   "metadata": {
    "execution": {
     "iopub.execute_input": "2023-06-29T06:15:27.949688Z",
     "iopub.status.busy": "2023-06-29T06:15:27.948990Z",
     "iopub.status.idle": "2023-06-29T06:15:27.954964Z",
     "shell.execute_reply": "2023-06-29T06:15:27.954080Z"
    },
    "papermill": {
     "duration": 0.030098,
     "end_time": "2023-06-29T06:15:27.956966",
     "exception": false,
     "start_time": "2023-06-29T06:15:27.926868",
     "status": "completed"
    },
    "tags": []
   },
   "outputs": [
    {
     "data": {
      "text/plain": [
       "torch.float32"
      ]
     },
     "execution_count": 36,
     "metadata": {},
     "output_type": "execute_result"
    }
   ],
   "source": [
    "(float_16_tensor * float_32_tensor).dtype"
   ]
  },
  {
   "cell_type": "code",
   "execution_count": 37,
   "id": "8ad8fa1f",
   "metadata": {
    "execution": {
     "iopub.execute_input": "2023-06-29T06:15:28.001269Z",
     "iopub.status.busy": "2023-06-29T06:15:28.000341Z",
     "iopub.status.idle": "2023-06-29T06:15:28.005035Z",
     "shell.execute_reply": "2023-06-29T06:15:28.004232Z"
    },
    "papermill": {
     "duration": 0.028857,
     "end_time": "2023-06-29T06:15:28.006895",
     "exception": false,
     "start_time": "2023-06-29T06:15:27.978038",
     "status": "completed"
    },
    "tags": []
   },
   "outputs": [],
   "source": [
    "int_32_tensor = torch.tensor([3,4,5],\n",
    "                             dtype=torch.int32)"
   ]
  },
  {
   "cell_type": "code",
   "execution_count": 38,
   "id": "2993cf9b",
   "metadata": {
    "execution": {
     "iopub.execute_input": "2023-06-29T06:15:28.051148Z",
     "iopub.status.busy": "2023-06-29T06:15:28.050334Z",
     "iopub.status.idle": "2023-06-29T06:15:28.058378Z",
     "shell.execute_reply": "2023-06-29T06:15:28.057472Z"
    },
    "papermill": {
     "duration": 0.032446,
     "end_time": "2023-06-29T06:15:28.060311",
     "exception": false,
     "start_time": "2023-06-29T06:15:28.027865",
     "status": "completed"
    },
    "tags": []
   },
   "outputs": [
    {
     "data": {
      "text/plain": [
       "tensor([ 9., 24., 45.])"
      ]
     },
     "execution_count": 38,
     "metadata": {},
     "output_type": "execute_result"
    }
   ],
   "source": [
    "float_16_tensor * int_32_tensor"
   ]
  },
  {
   "cell_type": "markdown",
   "id": "3663ae6c",
   "metadata": {
    "papermill": {
     "duration": 0.020768,
     "end_time": "2023-06-29T06:15:28.109542",
     "exception": false,
     "start_time": "2023-06-29T06:15:28.088774",
     "status": "completed"
    },
    "tags": []
   },
   "source": [
    "### Getting info from tensors (tensor attributes)\n",
    "1. tensor not datatype - to check use tensor.dtype\n",
    "2. tensor not right shape - to check use tensor.shape or tensor.size()\n",
    "3. tensor not on right device - to check use tensor.device"
   ]
  },
  {
   "cell_type": "code",
   "execution_count": 39,
   "id": "8324f518",
   "metadata": {
    "execution": {
     "iopub.execute_input": "2023-06-29T06:15:28.153337Z",
     "iopub.status.busy": "2023-06-29T06:15:28.153067Z",
     "iopub.status.idle": "2023-06-29T06:15:28.161568Z",
     "shell.execute_reply": "2023-06-29T06:15:28.160587Z"
    },
    "papermill": {
     "duration": 0.033656,
     "end_time": "2023-06-29T06:15:28.164504",
     "exception": false,
     "start_time": "2023-06-29T06:15:28.130848",
     "status": "completed"
    },
    "tags": []
   },
   "outputs": [
    {
     "data": {
      "text/plain": [
       "tensor([[0.9347, 0.8717, 0.8938, 0.0904],\n",
       "        [0.6894, 0.9951, 0.3559, 0.0054],\n",
       "        [0.6509, 0.1531, 0.5913, 0.2318]])"
      ]
     },
     "execution_count": 39,
     "metadata": {},
     "output_type": "execute_result"
    }
   ],
   "source": [
    "# Create a tensor\n",
    "some_tensor = torch.rand(3,4)\n",
    "some_tensor"
   ]
  },
  {
   "cell_type": "code",
   "execution_count": 40,
   "id": "87d98f85",
   "metadata": {
    "execution": {
     "iopub.execute_input": "2023-06-29T06:15:28.209144Z",
     "iopub.status.busy": "2023-06-29T06:15:28.208311Z",
     "iopub.status.idle": "2023-06-29T06:15:28.214879Z",
     "shell.execute_reply": "2023-06-29T06:15:28.213941Z"
    },
    "papermill": {
     "duration": 0.031163,
     "end_time": "2023-06-29T06:15:28.216813",
     "exception": false,
     "start_time": "2023-06-29T06:15:28.185650",
     "status": "completed"
    },
    "tags": []
   },
   "outputs": [
    {
     "name": "stdout",
     "output_type": "stream",
     "text": [
      "Tensor Datatype : torch.float32 Tensor Shape : torch.Size([3, 4]) Tensor Device : cpu\n"
     ]
    }
   ],
   "source": [
    "print(\"Tensor Datatype :\",some_tensor.dtype,\n",
    "\"Tensor Shape :\",some_tensor.shape,\n",
    "\"Tensor Device :\",some_tensor.device)"
   ]
  },
  {
   "cell_type": "markdown",
   "id": "1d31d78d",
   "metadata": {
    "execution": {
     "iopub.execute_input": "2023-06-26T15:31:18.518353Z",
     "iopub.status.busy": "2023-06-26T15:31:18.517972Z",
     "iopub.status.idle": "2023-06-26T15:31:18.526666Z",
     "shell.execute_reply": "2023-06-26T15:31:18.525296Z",
     "shell.execute_reply.started": "2023-06-26T15:31:18.518326Z"
    },
    "papermill": {
     "duration": 0.021517,
     "end_time": "2023-06-29T06:15:28.259554",
     "exception": false,
     "start_time": "2023-06-29T06:15:28.238037",
     "status": "completed"
    },
    "tags": []
   },
   "source": [
    "### Manipulating Tensors (Tensor Operations)\n",
    "1. Addition\n",
    "2. Subtraction\n",
    "3. Multiplication (element-wise)\n",
    "4. Division\n",
    "5. Matrix Multiplication"
   ]
  },
  {
   "cell_type": "code",
   "execution_count": 41,
   "id": "ee363c9e",
   "metadata": {
    "execution": {
     "iopub.execute_input": "2023-06-29T06:15:28.329195Z",
     "iopub.status.busy": "2023-06-29T06:15:28.328784Z",
     "iopub.status.idle": "2023-06-29T06:15:28.344959Z",
     "shell.execute_reply": "2023-06-29T06:15:28.344111Z"
    },
    "papermill": {
     "duration": 0.066612,
     "end_time": "2023-06-29T06:15:28.348832",
     "exception": false,
     "start_time": "2023-06-29T06:15:28.282220",
     "status": "completed"
    },
    "tags": []
   },
   "outputs": [
    {
     "data": {
      "text/plain": [
       "tensor([11, 12, 13])"
      ]
     },
     "execution_count": 41,
     "metadata": {},
     "output_type": "execute_result"
    }
   ],
   "source": [
    "# Create a tensor and add 10\n",
    "tensor = torch.tensor([1,2,3])\n",
    "tensor + 10"
   ]
  },
  {
   "cell_type": "code",
   "execution_count": 42,
   "id": "e027c152",
   "metadata": {
    "execution": {
     "iopub.execute_input": "2023-06-29T06:15:28.409728Z",
     "iopub.status.busy": "2023-06-29T06:15:28.408950Z",
     "iopub.status.idle": "2023-06-29T06:15:28.418382Z",
     "shell.execute_reply": "2023-06-29T06:15:28.417491Z"
    },
    "papermill": {
     "duration": 0.034968,
     "end_time": "2023-06-29T06:15:28.420592",
     "exception": false,
     "start_time": "2023-06-29T06:15:28.385624",
     "status": "completed"
    },
    "tags": []
   },
   "outputs": [
    {
     "data": {
      "text/plain": [
       "tensor([10, 20, 30])"
      ]
     },
     "execution_count": 42,
     "metadata": {},
     "output_type": "execute_result"
    }
   ],
   "source": [
    "# multiply\n",
    "tensor * 10"
   ]
  },
  {
   "cell_type": "code",
   "execution_count": 43,
   "id": "1f782983",
   "metadata": {
    "execution": {
     "iopub.execute_input": "2023-06-29T06:15:28.466440Z",
     "iopub.status.busy": "2023-06-29T06:15:28.465895Z",
     "iopub.status.idle": "2023-06-29T06:15:28.473080Z",
     "shell.execute_reply": "2023-06-29T06:15:28.472170Z"
    },
    "papermill": {
     "duration": 0.032879,
     "end_time": "2023-06-29T06:15:28.475172",
     "exception": false,
     "start_time": "2023-06-29T06:15:28.442293",
     "status": "completed"
    },
    "tags": []
   },
   "outputs": [
    {
     "data": {
      "text/plain": [
       "tensor([-9, -8, -7])"
      ]
     },
     "execution_count": 43,
     "metadata": {},
     "output_type": "execute_result"
    }
   ],
   "source": [
    "# subtract 10\n",
    "tensor - 10"
   ]
  },
  {
   "cell_type": "code",
   "execution_count": 44,
   "id": "54840dd4",
   "metadata": {
    "execution": {
     "iopub.execute_input": "2023-06-29T06:15:28.520528Z",
     "iopub.status.busy": "2023-06-29T06:15:28.519740Z",
     "iopub.status.idle": "2023-06-29T06:15:28.526290Z",
     "shell.execute_reply": "2023-06-29T06:15:28.525318Z"
    },
    "papermill": {
     "duration": 0.030962,
     "end_time": "2023-06-29T06:15:28.528182",
     "exception": false,
     "start_time": "2023-06-29T06:15:28.497220",
     "status": "completed"
    },
    "tags": []
   },
   "outputs": [
    {
     "data": {
      "text/plain": [
       "tensor([10, 20, 30])"
      ]
     },
     "execution_count": 44,
     "metadata": {},
     "output_type": "execute_result"
    }
   ],
   "source": [
    "# multiply using tensor function\n",
    "torch.mul(tensor,10)"
   ]
  },
  {
   "cell_type": "markdown",
   "id": "917ff7b1",
   "metadata": {
    "papermill": {
     "duration": 0.022374,
     "end_time": "2023-06-29T06:15:28.572902",
     "exception": false,
     "start_time": "2023-06-29T06:15:28.550528",
     "status": "completed"
    },
    "tags": []
   },
   "source": [
    "### Matrix Multiplication\n",
    "\n",
    "Two Main ways to multiply in tensors\n",
    "\n",
    "1. Element-wise multipication or Cross Multiplication\n",
    "2. Matrix multiplication or Dot Product\n",
    "\n",
    "ref - https://www.mathsisfun.com/algebra/matrix-multiplying.html\n",
    "\n",
    "Two Rules must Follow:\n",
    "1. The **Inner Dimension** must match:\n",
    "* '(3,2) @ (3,2)' wont work\n",
    "* '(3,2) @ (2,3)' will work\n",
    "* '(2,3) @ (3,2)' will work\n",
    "2. Resulting matrix has dimension of **Outer Dimension**\n",
    "* (2,3) @ (3,2) -> (2,2)\n",
    "* (3,2) @ (2,3) -> (3,3)"
   ]
  },
  {
   "cell_type": "code",
   "execution_count": 45,
   "id": "e22b38b0",
   "metadata": {
    "execution": {
     "iopub.execute_input": "2023-06-29T06:15:28.618211Z",
     "iopub.status.busy": "2023-06-29T06:15:28.617508Z",
     "iopub.status.idle": "2023-06-29T06:15:28.663320Z",
     "shell.execute_reply": "2023-06-29T06:15:28.662416Z"
    },
    "papermill": {
     "duration": 0.070345,
     "end_time": "2023-06-29T06:15:28.665257",
     "exception": false,
     "start_time": "2023-06-29T06:15:28.594912",
     "status": "completed"
    },
    "tags": []
   },
   "outputs": [
    {
     "data": {
      "text/plain": [
       "tensor([[0.4880, 0.2472, 0.4269],\n",
       "        [0.1253, 0.3955, 0.5567],\n",
       "        [0.9436, 0.8503, 1.3267]])"
      ]
     },
     "execution_count": 45,
     "metadata": {},
     "output_type": "execute_result"
    }
   ],
   "source": [
    "torch.matmul(torch.rand(3,2) , torch.rand(2,3))"
   ]
  },
  {
   "cell_type": "code",
   "execution_count": 46,
   "id": "6ea47cf3",
   "metadata": {
    "execution": {
     "iopub.execute_input": "2023-06-29T06:15:28.712077Z",
     "iopub.status.busy": "2023-06-29T06:15:28.711237Z",
     "iopub.status.idle": "2023-06-29T06:15:28.717584Z",
     "shell.execute_reply": "2023-06-29T06:15:28.716252Z"
    },
    "papermill": {
     "duration": 0.031263,
     "end_time": "2023-06-29T06:15:28.719473",
     "exception": false,
     "start_time": "2023-06-29T06:15:28.688210",
     "status": "completed"
    },
    "tags": []
   },
   "outputs": [
    {
     "name": "stdout",
     "output_type": "stream",
     "text": [
      "tensor([1, 2, 3]) * tensor([1, 2, 3])\n",
      "Equals : tensor([1, 4, 9])\n"
     ]
    }
   ],
   "source": [
    "# Element wise multiplication\n",
    "print(tensor, '*' , tensor)\n",
    "print('Equals :', tensor * tensor )"
   ]
  },
  {
   "cell_type": "code",
   "execution_count": 47,
   "id": "c3f11060",
   "metadata": {
    "execution": {
     "iopub.execute_input": "2023-06-29T06:15:28.765204Z",
     "iopub.status.busy": "2023-06-29T06:15:28.764488Z",
     "iopub.status.idle": "2023-06-29T06:15:28.770868Z",
     "shell.execute_reply": "2023-06-29T06:15:28.769612Z"
    },
    "papermill": {
     "duration": 0.031376,
     "end_time": "2023-06-29T06:15:28.772819",
     "exception": false,
     "start_time": "2023-06-29T06:15:28.741443",
     "status": "completed"
    },
    "tags": []
   },
   "outputs": [
    {
     "data": {
      "text/plain": [
       "tensor(14)"
      ]
     },
     "execution_count": 47,
     "metadata": {},
     "output_type": "execute_result"
    }
   ],
   "source": [
    "# Matrix Multiplication\n",
    "torch.matmul(tensor,tensor)"
   ]
  },
  {
   "cell_type": "markdown",
   "id": "dba9f967",
   "metadata": {
    "papermill": {
     "duration": 0.021804,
     "end_time": "2023-06-29T06:15:28.816931",
     "exception": false,
     "start_time": "2023-06-29T06:15:28.795127",
     "status": "completed"
    },
    "tags": []
   },
   "source": [
    "### Shape Errors"
   ]
  },
  {
   "cell_type": "code",
   "execution_count": 48,
   "id": "8d427d88",
   "metadata": {
    "execution": {
     "iopub.execute_input": "2023-06-29T06:15:28.863157Z",
     "iopub.status.busy": "2023-06-29T06:15:28.862336Z",
     "iopub.status.idle": "2023-06-29T06:15:28.867607Z",
     "shell.execute_reply": "2023-06-29T06:15:28.866781Z"
    },
    "papermill": {
     "duration": 0.030698,
     "end_time": "2023-06-29T06:15:28.869691",
     "exception": false,
     "start_time": "2023-06-29T06:15:28.838993",
     "status": "completed"
    },
    "tags": []
   },
   "outputs": [],
   "source": [
    "tensor_A = torch.tensor([[1,2],\n",
    "                        [3,4],\n",
    "                        [5,6]])\n",
    "\n",
    "tensor_B =torch.tensor([[7,10],\n",
    "                       [8,11],\n",
    "                       [9,12]])\n",
    "\n",
    "#torch.mm(tensor_A,tensor_B) #(mm is alias for matmul)"
   ]
  },
  {
   "cell_type": "markdown",
   "id": "ec91c4dd",
   "metadata": {
    "papermill": {
     "duration": 0.02217,
     "end_time": "2023-06-29T06:15:28.914294",
     "exception": false,
     "start_time": "2023-06-29T06:15:28.892124",
     "status": "completed"
    },
    "tags": []
   },
   "source": [
    "To Fix Shape Issues, We can use Transpose \n",
    "\n",
    "A **Transpose** swithches axes or dimensions of given matrix"
   ]
  },
  {
   "cell_type": "code",
   "execution_count": 49,
   "id": "2e7c6196",
   "metadata": {
    "execution": {
     "iopub.execute_input": "2023-06-29T06:15:28.960365Z",
     "iopub.status.busy": "2023-06-29T06:15:28.960046Z",
     "iopub.status.idle": "2023-06-29T06:15:28.966402Z",
     "shell.execute_reply": "2023-06-29T06:15:28.965491Z"
    },
    "papermill": {
     "duration": 0.031492,
     "end_time": "2023-06-29T06:15:28.968402",
     "exception": false,
     "start_time": "2023-06-29T06:15:28.936910",
     "status": "completed"
    },
    "tags": []
   },
   "outputs": [
    {
     "data": {
      "text/plain": [
       "(tensor([[ 7, 10],\n",
       "         [ 8, 11],\n",
       "         [ 9, 12]]),\n",
       " torch.Size([3, 2]))"
      ]
     },
     "execution_count": 49,
     "metadata": {},
     "output_type": "execute_result"
    }
   ],
   "source": [
    "tensor_B, tensor_B.shape"
   ]
  },
  {
   "cell_type": "code",
   "execution_count": 50,
   "id": "e0922045",
   "metadata": {
    "execution": {
     "iopub.execute_input": "2023-06-29T06:15:29.015045Z",
     "iopub.status.busy": "2023-06-29T06:15:29.014313Z",
     "iopub.status.idle": "2023-06-29T06:15:29.021747Z",
     "shell.execute_reply": "2023-06-29T06:15:29.020749Z"
    },
    "papermill": {
     "duration": 0.032359,
     "end_time": "2023-06-29T06:15:29.023666",
     "exception": false,
     "start_time": "2023-06-29T06:15:28.991307",
     "status": "completed"
    },
    "tags": []
   },
   "outputs": [
    {
     "data": {
      "text/plain": [
       "(tensor([[ 7,  8,  9],\n",
       "         [10, 11, 12]]),\n",
       " torch.Size([2, 3]))"
      ]
     },
     "execution_count": 50,
     "metadata": {},
     "output_type": "execute_result"
    }
   ],
   "source": [
    "tensor_B.T, tensor_B.T.shape"
   ]
  },
  {
   "cell_type": "code",
   "execution_count": 51,
   "id": "1394633a",
   "metadata": {
    "execution": {
     "iopub.execute_input": "2023-06-29T06:15:29.070926Z",
     "iopub.status.busy": "2023-06-29T06:15:29.070619Z",
     "iopub.status.idle": "2023-06-29T06:15:29.078842Z",
     "shell.execute_reply": "2023-06-29T06:15:29.077414Z"
    },
    "papermill": {
     "duration": 0.034119,
     "end_time": "2023-06-29T06:15:29.081095",
     "exception": false,
     "start_time": "2023-06-29T06:15:29.046976",
     "status": "completed"
    },
    "tags": []
   },
   "outputs": [
    {
     "name": "stdout",
     "output_type": "stream",
     "text": [
      "Initial shape for tensor A torch.Size([3, 2]) and for tensor B torch.Size([3, 2])\n",
      "after transpose torch.Size([2, 3])\n",
      "output : tensor([[ 27,  30,  33],\n",
      "        [ 61,  68,  75],\n",
      "        [ 95, 106, 117]]) and its shape is torch.Size([3, 3])\n"
     ]
    }
   ],
   "source": [
    "print(f'Initial shape for tensor A {tensor_A.shape} and for tensor B {tensor_B.shape}')\n",
    "print(f'after transpose {tensor_B.T.shape}')\n",
    "print(f'output : {torch.matmul(tensor_A,tensor_B.T)} and its shape is {torch.matmul(tensor_A,tensor_B.T).shape}')"
   ]
  },
  {
   "cell_type": "markdown",
   "id": "a21bd123",
   "metadata": {
    "papermill": {
     "duration": 0.024487,
     "end_time": "2023-06-29T06:15:29.131872",
     "exception": false,
     "start_time": "2023-06-29T06:15:29.107385",
     "status": "completed"
    },
    "tags": []
   },
   "source": [
    "## Finding Min. Max. Mean, Sum, etc (tensor aggregation)"
   ]
  },
  {
   "cell_type": "code",
   "execution_count": 52,
   "id": "c623d6ab",
   "metadata": {
    "execution": {
     "iopub.execute_input": "2023-06-29T06:15:29.180432Z",
     "iopub.status.busy": "2023-06-29T06:15:29.179592Z",
     "iopub.status.idle": "2023-06-29T06:15:29.186439Z",
     "shell.execute_reply": "2023-06-29T06:15:29.185459Z"
    },
    "papermill": {
     "duration": 0.033693,
     "end_time": "2023-06-29T06:15:29.188420",
     "exception": false,
     "start_time": "2023-06-29T06:15:29.154727",
     "status": "completed"
    },
    "tags": []
   },
   "outputs": [
    {
     "data": {
      "text/plain": [
       "tensor([ 0, 10, 20, 30, 40, 50, 60, 70, 80, 90])"
      ]
     },
     "execution_count": 52,
     "metadata": {},
     "output_type": "execute_result"
    }
   ],
   "source": [
    "# Create a tensor\n",
    "x = torch.arange(0,100,10)\n",
    "x"
   ]
  },
  {
   "cell_type": "code",
   "execution_count": 53,
   "id": "dbeb49d2",
   "metadata": {
    "execution": {
     "iopub.execute_input": "2023-06-29T06:15:29.235732Z",
     "iopub.status.busy": "2023-06-29T06:15:29.235449Z",
     "iopub.status.idle": "2023-06-29T06:15:29.243688Z",
     "shell.execute_reply": "2023-06-29T06:15:29.242631Z"
    },
    "papermill": {
     "duration": 0.033728,
     "end_time": "2023-06-29T06:15:29.245803",
     "exception": false,
     "start_time": "2023-06-29T06:15:29.212075",
     "status": "completed"
    },
    "tags": []
   },
   "outputs": [
    {
     "data": {
      "text/plain": [
       "(tensor(0), tensor(0))"
      ]
     },
     "execution_count": 53,
     "metadata": {},
     "output_type": "execute_result"
    }
   ],
   "source": [
    "# Min\n",
    "torch.min(x), x.min()"
   ]
  },
  {
   "cell_type": "code",
   "execution_count": 54,
   "id": "cb271217",
   "metadata": {
    "execution": {
     "iopub.execute_input": "2023-06-29T06:15:29.298404Z",
     "iopub.status.busy": "2023-06-29T06:15:29.298041Z",
     "iopub.status.idle": "2023-06-29T06:15:29.305945Z",
     "shell.execute_reply": "2023-06-29T06:15:29.304890Z"
    },
    "papermill": {
     "duration": 0.036415,
     "end_time": "2023-06-29T06:15:29.308209",
     "exception": false,
     "start_time": "2023-06-29T06:15:29.271794",
     "status": "completed"
    },
    "tags": []
   },
   "outputs": [
    {
     "data": {
      "text/plain": [
       "(tensor(90), tensor(90))"
      ]
     },
     "execution_count": 54,
     "metadata": {},
     "output_type": "execute_result"
    }
   ],
   "source": [
    "# Max\n",
    "torch.max(x), x.max()"
   ]
  },
  {
   "cell_type": "code",
   "execution_count": 55,
   "id": "72ac60f4",
   "metadata": {
    "execution": {
     "iopub.execute_input": "2023-06-29T06:15:29.361833Z",
     "iopub.status.busy": "2023-06-29T06:15:29.360951Z",
     "iopub.status.idle": "2023-06-29T06:15:29.374626Z",
     "shell.execute_reply": "2023-06-29T06:15:29.373293Z"
    },
    "papermill": {
     "duration": 0.043888,
     "end_time": "2023-06-29T06:15:29.377093",
     "exception": false,
     "start_time": "2023-06-29T06:15:29.333205",
     "status": "completed"
    },
    "tags": []
   },
   "outputs": [
    {
     "data": {
      "text/plain": [
       "(tensor(45., dtype=torch.float16),\n",
       " tensor(45., dtype=torch.float16),\n",
       " tensor(45.))"
      ]
     },
     "execution_count": 55,
     "metadata": {},
     "output_type": "execute_result"
    }
   ],
   "source": [
    "# Mean\n",
    "torch.mean(x.type(torch.float16)) , x.type(torch.float16).mean() , torch.mean(x,dtype=torch.float32)"
   ]
  },
  {
   "cell_type": "code",
   "execution_count": 56,
   "id": "2c3d1d67",
   "metadata": {
    "execution": {
     "iopub.execute_input": "2023-06-29T06:15:29.428775Z",
     "iopub.status.busy": "2023-06-29T06:15:29.427977Z",
     "iopub.status.idle": "2023-06-29T06:15:29.434950Z",
     "shell.execute_reply": "2023-06-29T06:15:29.433908Z"
    },
    "papermill": {
     "duration": 0.034282,
     "end_time": "2023-06-29T06:15:29.436979",
     "exception": false,
     "start_time": "2023-06-29T06:15:29.402697",
     "status": "completed"
    },
    "tags": []
   },
   "outputs": [
    {
     "data": {
      "text/plain": [
       "(tensor(450), tensor(450))"
      ]
     },
     "execution_count": 56,
     "metadata": {},
     "output_type": "execute_result"
    }
   ],
   "source": [
    "# Sum\n",
    "torch.sum(x) , x.sum()"
   ]
  },
  {
   "cell_type": "markdown",
   "id": "63b56cda",
   "metadata": {
    "papermill": {
     "duration": 0.023741,
     "end_time": "2023-06-29T06:15:29.484561",
     "exception": false,
     "start_time": "2023-06-29T06:15:29.460820",
     "status": "completed"
    },
    "tags": []
   },
   "source": [
    "## Finding Positinal min and max"
   ]
  },
  {
   "cell_type": "code",
   "execution_count": 57,
   "id": "e9cf7b26",
   "metadata": {
    "execution": {
     "iopub.execute_input": "2023-06-29T06:15:29.534512Z",
     "iopub.status.busy": "2023-06-29T06:15:29.533822Z",
     "iopub.status.idle": "2023-06-29T06:15:29.541419Z",
     "shell.execute_reply": "2023-06-29T06:15:29.540309Z"
    },
    "papermill": {
     "duration": 0.035629,
     "end_time": "2023-06-29T06:15:29.543685",
     "exception": false,
     "start_time": "2023-06-29T06:15:29.508056",
     "status": "completed"
    },
    "tags": []
   },
   "outputs": [
    {
     "data": {
      "text/plain": [
       "tensor([ 1, 11, 21, 31, 41, 51, 61, 71, 81, 91])"
      ]
     },
     "execution_count": 57,
     "metadata": {},
     "output_type": "execute_result"
    }
   ],
   "source": [
    "x+1"
   ]
  },
  {
   "cell_type": "code",
   "execution_count": 58,
   "id": "e59d5165",
   "metadata": {
    "execution": {
     "iopub.execute_input": "2023-06-29T06:15:29.593693Z",
     "iopub.status.busy": "2023-06-29T06:15:29.592859Z",
     "iopub.status.idle": "2023-06-29T06:15:29.602858Z",
     "shell.execute_reply": "2023-06-29T06:15:29.601923Z"
    },
    "papermill": {
     "duration": 0.036889,
     "end_time": "2023-06-29T06:15:29.604781",
     "exception": false,
     "start_time": "2023-06-29T06:15:29.567892",
     "status": "completed"
    },
    "tags": []
   },
   "outputs": [
    {
     "name": "stdout",
     "output_type": "stream",
     "text": [
      "location :  tensor(0)\n",
      "element at location :  tensor(1)\n"
     ]
    }
   ],
   "source": [
    "# Position in tensor where minimum value exists\n",
    "print('location : ',(x+1).argmin())\n",
    "print('element at location : ',(x+1)[(x+1).argmin()])"
   ]
  },
  {
   "cell_type": "code",
   "execution_count": 59,
   "id": "0b5550d2",
   "metadata": {
    "execution": {
     "iopub.execute_input": "2023-06-29T06:15:29.653303Z",
     "iopub.status.busy": "2023-06-29T06:15:29.652531Z",
     "iopub.status.idle": "2023-06-29T06:15:29.658868Z",
     "shell.execute_reply": "2023-06-29T06:15:29.657872Z"
    },
    "papermill": {
     "duration": 0.032539,
     "end_time": "2023-06-29T06:15:29.660921",
     "exception": false,
     "start_time": "2023-06-29T06:15:29.628382",
     "status": "completed"
    },
    "tags": []
   },
   "outputs": [
    {
     "name": "stdout",
     "output_type": "stream",
     "text": [
      "location :  tensor(9)\n",
      "element at location :  tensor(91)\n"
     ]
    }
   ],
   "source": [
    "# Position in tensor where maximum value exists\n",
    "print('location : ',(x+1).argmax())\n",
    "print('element at location : ',(x+1)[(x+1).argmax()])"
   ]
  },
  {
   "cell_type": "markdown",
   "id": "6bad96e9",
   "metadata": {
    "papermill": {
     "duration": 0.022958,
     "end_time": "2023-06-29T06:15:29.707263",
     "exception": false,
     "start_time": "2023-06-29T06:15:29.684305",
     "status": "completed"
    },
    "tags": []
   },
   "source": [
    "## Reshaping, Stacking, Squeezing and Unsqueezing tensor\n",
    "\n",
    "* Reshaping - reshapes input tensor to defined shape\n",
    "* View - Returns a view of input tensor of certain shape but keeps same memory as original\n",
    "* Stacking - Combine Multiple tensors on top of each other (vstack) or side by side (hstack)\n",
    "* Squeeze - **removes one** dimension from tensor\n",
    "* Unsqueeze - **adds one** dimension to tensor\n",
    "* Permute - Reaturn a view of input with Dimension Permuted (swapped) in certain way "
   ]
  },
  {
   "cell_type": "code",
   "execution_count": null,
   "id": "d2e3f5d8",
   "metadata": {
    "papermill": {
     "duration": 0.023073,
     "end_time": "2023-06-29T06:15:29.754178",
     "exception": false,
     "start_time": "2023-06-29T06:15:29.731105",
     "status": "completed"
    },
    "tags": []
   },
   "outputs": [],
   "source": []
  }
 ],
 "metadata": {
  "kernelspec": {
   "display_name": "Python 3",
   "language": "python",
   "name": "python3"
  },
  "language_info": {
   "codemirror_mode": {
    "name": "ipython",
    "version": 3
   },
   "file_extension": ".py",
   "mimetype": "text/x-python",
   "name": "python",
   "nbconvert_exporter": "python",
   "pygments_lexer": "ipython3",
   "version": "3.10.10"
  },
  "papermill": {
   "default_parameters": {},
   "duration": 20.814414,
   "end_time": "2023-06-29T06:15:32.047956",
   "environment_variables": {},
   "exception": null,
   "input_path": "__notebook__.ipynb",
   "output_path": "__notebook__.ipynb",
   "parameters": {},
   "start_time": "2023-06-29T06:15:11.233542",
   "version": "2.4.0"
  }
 },
 "nbformat": 4,
 "nbformat_minor": 5
}
