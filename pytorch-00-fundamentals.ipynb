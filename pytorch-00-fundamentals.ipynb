{
 "cells": [
  {
   "cell_type": "code",
   "execution_count": 1,
   "id": "0ed07505",
   "metadata": {
    "_cell_guid": "b1076dfc-b9ad-4769-8c92-a6c4dae69d19",
    "_uuid": "8f2839f25d086af736a60e9eeb907d3b93b6e0e5",
    "execution": {
     "iopub.execute_input": "2023-06-25T15:50:03.836667Z",
     "iopub.status.busy": "2023-06-25T15:50:03.836213Z",
     "iopub.status.idle": "2023-06-25T15:50:07.192811Z",
     "shell.execute_reply": "2023-06-25T15:50:07.191814Z"
    },
    "papermill": {
     "duration": 3.36692,
     "end_time": "2023-06-25T15:50:07.195160",
     "exception": false,
     "start_time": "2023-06-25T15:50:03.828240",
     "status": "completed"
    },
    "tags": []
   },
   "outputs": [
    {
     "data": {
      "text/plain": [
       "'2.0.0'"
      ]
     },
     "execution_count": 1,
     "metadata": {},
     "output_type": "execute_result"
    }
   ],
   "source": [
    "import torch\n",
    "import pandas as pd\n",
    "import numpy as np\n",
    "import matplotlib.pyplot as plt\n",
    "torch.__version__"
   ]
  },
  {
   "cell_type": "markdown",
   "id": "31dfa357",
   "metadata": {
    "execution": {
     "iopub.execute_input": "2023-06-25T15:31:29.081596Z",
     "iopub.status.busy": "2023-06-25T15:31:29.081220Z",
     "iopub.status.idle": "2023-06-25T15:31:29.086052Z",
     "shell.execute_reply": "2023-06-25T15:31:29.085102Z",
     "shell.execute_reply.started": "2023-06-25T15:31:29.081561Z"
    },
    "papermill": {
     "duration": 0.0059,
     "end_time": "2023-06-25T15:50:07.207659",
     "exception": false,
     "start_time": "2023-06-25T15:50:07.201759",
     "status": "completed"
    },
    "tags": []
   },
   "source": [
    "## Introduction to Tensor\n",
    "\n",
    "### Creating Tensors\n",
    "\n",
    "PyTorch tensor are create using torch.Tensor()"
   ]
  },
  {
   "cell_type": "code",
   "execution_count": 2,
   "id": "6145b0ca",
   "metadata": {
    "execution": {
     "iopub.execute_input": "2023-06-25T15:50:07.221463Z",
     "iopub.status.busy": "2023-06-25T15:50:07.220845Z",
     "iopub.status.idle": "2023-06-25T15:50:07.258340Z",
     "shell.execute_reply": "2023-06-25T15:50:07.257368Z"
    },
    "papermill": {
     "duration": 0.047162,
     "end_time": "2023-06-25T15:50:07.260843",
     "exception": false,
     "start_time": "2023-06-25T15:50:07.213681",
     "status": "completed"
    },
    "tags": []
   },
   "outputs": [
    {
     "data": {
      "text/plain": [
       "tensor(7)"
      ]
     },
     "execution_count": 2,
     "metadata": {},
     "output_type": "execute_result"
    }
   ],
   "source": [
    "# Scaler\n",
    "scaler=torch.tensor(7)\n",
    "scaler"
   ]
  },
  {
   "cell_type": "code",
   "execution_count": 3,
   "id": "c2637c14",
   "metadata": {
    "execution": {
     "iopub.execute_input": "2023-06-25T15:50:07.278097Z",
     "iopub.status.busy": "2023-06-25T15:50:07.277726Z",
     "iopub.status.idle": "2023-06-25T15:50:07.283825Z",
     "shell.execute_reply": "2023-06-25T15:50:07.282949Z"
    },
    "papermill": {
     "duration": 0.015973,
     "end_time": "2023-06-25T15:50:07.286036",
     "exception": false,
     "start_time": "2023-06-25T15:50:07.270063",
     "status": "completed"
    },
    "tags": []
   },
   "outputs": [
    {
     "data": {
      "text/plain": [
       "0"
      ]
     },
     "execution_count": 3,
     "metadata": {},
     "output_type": "execute_result"
    }
   ],
   "source": [
    "scaler.ndim"
   ]
  },
  {
   "cell_type": "code",
   "execution_count": 4,
   "id": "f0dbfd5d",
   "metadata": {
    "execution": {
     "iopub.execute_input": "2023-06-25T15:50:07.300417Z",
     "iopub.status.busy": "2023-06-25T15:50:07.299571Z",
     "iopub.status.idle": "2023-06-25T15:50:07.305745Z",
     "shell.execute_reply": "2023-06-25T15:50:07.304826Z"
    },
    "papermill": {
     "duration": 0.015233,
     "end_time": "2023-06-25T15:50:07.307673",
     "exception": false,
     "start_time": "2023-06-25T15:50:07.292440",
     "status": "completed"
    },
    "tags": []
   },
   "outputs": [
    {
     "data": {
      "text/plain": [
       "7"
      ]
     },
     "execution_count": 4,
     "metadata": {},
     "output_type": "execute_result"
    }
   ],
   "source": [
    "# Get Tensor back ans int\n",
    "scaler.item()"
   ]
  },
  {
   "cell_type": "code",
   "execution_count": 5,
   "id": "6be3efcb",
   "metadata": {
    "execution": {
     "iopub.execute_input": "2023-06-25T15:50:07.323107Z",
     "iopub.status.busy": "2023-06-25T15:50:07.321589Z",
     "iopub.status.idle": "2023-06-25T15:50:07.332101Z",
     "shell.execute_reply": "2023-06-25T15:50:07.331150Z"
    },
    "papermill": {
     "duration": 0.019942,
     "end_time": "2023-06-25T15:50:07.334063",
     "exception": false,
     "start_time": "2023-06-25T15:50:07.314121",
     "status": "completed"
    },
    "tags": []
   },
   "outputs": [
    {
     "data": {
      "text/plain": [
       "tensor([7, 7])"
      ]
     },
     "execution_count": 5,
     "metadata": {},
     "output_type": "execute_result"
    }
   ],
   "source": [
    "# Vector\n",
    "vector =torch.tensor([7,7])\n",
    "vector"
   ]
  },
  {
   "cell_type": "code",
   "execution_count": 6,
   "id": "cb878410",
   "metadata": {
    "execution": {
     "iopub.execute_input": "2023-06-25T15:50:07.348718Z",
     "iopub.status.busy": "2023-06-25T15:50:07.347881Z",
     "iopub.status.idle": "2023-06-25T15:50:07.353905Z",
     "shell.execute_reply": "2023-06-25T15:50:07.352987Z"
    },
    "papermill": {
     "duration": 0.015239,
     "end_time": "2023-06-25T15:50:07.355860",
     "exception": false,
     "start_time": "2023-06-25T15:50:07.340621",
     "status": "completed"
    },
    "tags": []
   },
   "outputs": [
    {
     "data": {
      "text/plain": [
       "1"
      ]
     },
     "execution_count": 6,
     "metadata": {},
     "output_type": "execute_result"
    }
   ],
   "source": [
    "vector.ndim"
   ]
  },
  {
   "cell_type": "code",
   "execution_count": 7,
   "id": "710e5fec",
   "metadata": {
    "execution": {
     "iopub.execute_input": "2023-06-25T15:50:07.371164Z",
     "iopub.status.busy": "2023-06-25T15:50:07.369963Z",
     "iopub.status.idle": "2023-06-25T15:50:07.376469Z",
     "shell.execute_reply": "2023-06-25T15:50:07.375513Z"
    },
    "papermill": {
     "duration": 0.016039,
     "end_time": "2023-06-25T15:50:07.378372",
     "exception": false,
     "start_time": "2023-06-25T15:50:07.362333",
     "status": "completed"
    },
    "tags": []
   },
   "outputs": [
    {
     "data": {
      "text/plain": [
       "torch.Size([2])"
      ]
     },
     "execution_count": 7,
     "metadata": {},
     "output_type": "execute_result"
    }
   ],
   "source": [
    "vector.shape"
   ]
  },
  {
   "cell_type": "code",
   "execution_count": 8,
   "id": "dbe0cfdc",
   "metadata": {
    "execution": {
     "iopub.execute_input": "2023-06-25T15:50:07.393151Z",
     "iopub.status.busy": "2023-06-25T15:50:07.392366Z",
     "iopub.status.idle": "2023-06-25T15:50:07.401672Z",
     "shell.execute_reply": "2023-06-25T15:50:07.400692Z"
    },
    "papermill": {
     "duration": 0.018637,
     "end_time": "2023-06-25T15:50:07.403636",
     "exception": false,
     "start_time": "2023-06-25T15:50:07.384999",
     "status": "completed"
    },
    "tags": []
   },
   "outputs": [
    {
     "data": {
      "text/plain": [
       "tensor([[7, 8],\n",
       "        [6, 5]])"
      ]
     },
     "execution_count": 8,
     "metadata": {},
     "output_type": "execute_result"
    }
   ],
   "source": [
    "# Matrix\n",
    "matrix = torch.tensor([[7,8],\n",
    "                      [6,5]])\n",
    "matrix"
   ]
  },
  {
   "cell_type": "code",
   "execution_count": 9,
   "id": "f9e35a7f",
   "metadata": {
    "execution": {
     "iopub.execute_input": "2023-06-25T15:50:07.419181Z",
     "iopub.status.busy": "2023-06-25T15:50:07.418365Z",
     "iopub.status.idle": "2023-06-25T15:50:07.424703Z",
     "shell.execute_reply": "2023-06-25T15:50:07.423749Z"
    },
    "papermill": {
     "duration": 0.016248,
     "end_time": "2023-06-25T15:50:07.426658",
     "exception": false,
     "start_time": "2023-06-25T15:50:07.410410",
     "status": "completed"
    },
    "tags": []
   },
   "outputs": [
    {
     "data": {
      "text/plain": [
       "2"
      ]
     },
     "execution_count": 9,
     "metadata": {},
     "output_type": "execute_result"
    }
   ],
   "source": [
    "matrix.ndim"
   ]
  },
  {
   "cell_type": "code",
   "execution_count": 10,
   "id": "1cb3df02",
   "metadata": {
    "execution": {
     "iopub.execute_input": "2023-06-25T15:50:07.442392Z",
     "iopub.status.busy": "2023-06-25T15:50:07.441604Z",
     "iopub.status.idle": "2023-06-25T15:50:07.448104Z",
     "shell.execute_reply": "2023-06-25T15:50:07.447208Z"
    },
    "papermill": {
     "duration": 0.016446,
     "end_time": "2023-06-25T15:50:07.450012",
     "exception": false,
     "start_time": "2023-06-25T15:50:07.433566",
     "status": "completed"
    },
    "tags": []
   },
   "outputs": [
    {
     "data": {
      "text/plain": [
       "tensor([7, 8])"
      ]
     },
     "execution_count": 10,
     "metadata": {},
     "output_type": "execute_result"
    }
   ],
   "source": [
    "matrix[0]"
   ]
  },
  {
   "cell_type": "code",
   "execution_count": 11,
   "id": "7ece2039",
   "metadata": {
    "execution": {
     "iopub.execute_input": "2023-06-25T15:50:07.465460Z",
     "iopub.status.busy": "2023-06-25T15:50:07.465130Z",
     "iopub.status.idle": "2023-06-25T15:50:07.471843Z",
     "shell.execute_reply": "2023-06-25T15:50:07.470898Z"
    },
    "papermill": {
     "duration": 0.016734,
     "end_time": "2023-06-25T15:50:07.473841",
     "exception": false,
     "start_time": "2023-06-25T15:50:07.457107",
     "status": "completed"
    },
    "tags": []
   },
   "outputs": [
    {
     "data": {
      "text/plain": [
       "tensor([6, 5])"
      ]
     },
     "execution_count": 11,
     "metadata": {},
     "output_type": "execute_result"
    }
   ],
   "source": [
    "matrix[1]"
   ]
  },
  {
   "cell_type": "code",
   "execution_count": 12,
   "id": "714327cb",
   "metadata": {
    "execution": {
     "iopub.execute_input": "2023-06-25T15:50:07.489730Z",
     "iopub.status.busy": "2023-06-25T15:50:07.488914Z",
     "iopub.status.idle": "2023-06-25T15:50:07.495464Z",
     "shell.execute_reply": "2023-06-25T15:50:07.494562Z"
    },
    "papermill": {
     "duration": 0.016585,
     "end_time": "2023-06-25T15:50:07.497443",
     "exception": false,
     "start_time": "2023-06-25T15:50:07.480858",
     "status": "completed"
    },
    "tags": []
   },
   "outputs": [
    {
     "data": {
      "text/plain": [
       "torch.Size([2, 2])"
      ]
     },
     "execution_count": 12,
     "metadata": {},
     "output_type": "execute_result"
    }
   ],
   "source": [
    "matrix.shape"
   ]
  },
  {
   "cell_type": "code",
   "execution_count": 13,
   "id": "c4c12fd1",
   "metadata": {
    "execution": {
     "iopub.execute_input": "2023-06-25T15:50:07.514046Z",
     "iopub.status.busy": "2023-06-25T15:50:07.513236Z",
     "iopub.status.idle": "2023-06-25T15:50:07.520559Z",
     "shell.execute_reply": "2023-06-25T15:50:07.519653Z"
    },
    "papermill": {
     "duration": 0.017462,
     "end_time": "2023-06-25T15:50:07.522487",
     "exception": false,
     "start_time": "2023-06-25T15:50:07.505025",
     "status": "completed"
    },
    "tags": []
   },
   "outputs": [
    {
     "data": {
      "text/plain": [
       "tensor([[[1, 2, 3],\n",
       "         [5, 6, 6],\n",
       "         [7, 8, 9]]])"
      ]
     },
     "execution_count": 13,
     "metadata": {},
     "output_type": "execute_result"
    }
   ],
   "source": [
    "# Tensor\n",
    "tensor = torch.tensor([[[1,2,3],\n",
    "                      [5,6,6],\n",
    "                      [7,8,9]]])\n",
    "tensor"
   ]
  },
  {
   "cell_type": "code",
   "execution_count": 14,
   "id": "4eec6c89",
   "metadata": {
    "execution": {
     "iopub.execute_input": "2023-06-25T15:50:07.538768Z",
     "iopub.status.busy": "2023-06-25T15:50:07.537819Z",
     "iopub.status.idle": "2023-06-25T15:50:07.543900Z",
     "shell.execute_reply": "2023-06-25T15:50:07.542987Z"
    },
    "papermill": {
     "duration": 0.016237,
     "end_time": "2023-06-25T15:50:07.545865",
     "exception": false,
     "start_time": "2023-06-25T15:50:07.529628",
     "status": "completed"
    },
    "tags": []
   },
   "outputs": [
    {
     "data": {
      "text/plain": [
       "3"
      ]
     },
     "execution_count": 14,
     "metadata": {},
     "output_type": "execute_result"
    }
   ],
   "source": [
    "tensor.ndim"
   ]
  },
  {
   "cell_type": "code",
   "execution_count": 15,
   "id": "d5c62cc9",
   "metadata": {
    "execution": {
     "iopub.execute_input": "2023-06-25T15:50:07.562996Z",
     "iopub.status.busy": "2023-06-25T15:50:07.562025Z",
     "iopub.status.idle": "2023-06-25T15:50:07.568055Z",
     "shell.execute_reply": "2023-06-25T15:50:07.567193Z"
    },
    "papermill": {
     "duration": 0.016686,
     "end_time": "2023-06-25T15:50:07.570038",
     "exception": false,
     "start_time": "2023-06-25T15:50:07.553352",
     "status": "completed"
    },
    "tags": []
   },
   "outputs": [
    {
     "data": {
      "text/plain": [
       "torch.Size([1, 3, 3])"
      ]
     },
     "execution_count": 15,
     "metadata": {},
     "output_type": "execute_result"
    }
   ],
   "source": [
    "tensor.shape"
   ]
  },
  {
   "cell_type": "code",
   "execution_count": 16,
   "id": "4f23681b",
   "metadata": {
    "execution": {
     "iopub.execute_input": "2023-06-25T15:50:07.587108Z",
     "iopub.status.busy": "2023-06-25T15:50:07.586271Z",
     "iopub.status.idle": "2023-06-25T15:50:07.592893Z",
     "shell.execute_reply": "2023-06-25T15:50:07.591986Z"
    },
    "papermill": {
     "duration": 0.017139,
     "end_time": "2023-06-25T15:50:07.594828",
     "exception": false,
     "start_time": "2023-06-25T15:50:07.577689",
     "status": "completed"
    },
    "tags": []
   },
   "outputs": [
    {
     "data": {
      "text/plain": [
       "tensor([[1, 2, 3],\n",
       "        [5, 6, 6],\n",
       "        [7, 8, 9]])"
      ]
     },
     "execution_count": 16,
     "metadata": {},
     "output_type": "execute_result"
    }
   ],
   "source": [
    "tensor[0]"
   ]
  },
  {
   "cell_type": "code",
   "execution_count": 17,
   "id": "ee1378ed",
   "metadata": {
    "execution": {
     "iopub.execute_input": "2023-06-25T15:50:07.612359Z",
     "iopub.status.busy": "2023-06-25T15:50:07.611541Z",
     "iopub.status.idle": "2023-06-25T15:50:07.619599Z",
     "shell.execute_reply": "2023-06-25T15:50:07.618684Z"
    },
    "papermill": {
     "duration": 0.018784,
     "end_time": "2023-06-25T15:50:07.621646",
     "exception": false,
     "start_time": "2023-06-25T15:50:07.602862",
     "status": "completed"
    },
    "tags": []
   },
   "outputs": [
    {
     "data": {
      "text/plain": [
       "tensor([[[1, 2, 3],\n",
       "         [4, 5, 6],\n",
       "         [7, 8, 9]],\n",
       "\n",
       "        [[1, 2, 3],\n",
       "         [4, 5, 6],\n",
       "         [7, 8, 9]]])"
      ]
     },
     "execution_count": 17,
     "metadata": {},
     "output_type": "execute_result"
    }
   ],
   "source": [
    "# Practice\n",
    "tensor1=torch.tensor([[[1,2,3],\n",
    "                      [4,5,6],\n",
    "                      [7,8,9]],\n",
    "                     [[1,2,3],\n",
    "                      [4,5,6],\n",
    "                      [7,8,9]]])\n",
    "tensor1"
   ]
  },
  {
   "cell_type": "code",
   "execution_count": 18,
   "id": "dfc492eb",
   "metadata": {
    "execution": {
     "iopub.execute_input": "2023-06-25T15:50:07.639058Z",
     "iopub.status.busy": "2023-06-25T15:50:07.638254Z",
     "iopub.status.idle": "2023-06-25T15:50:07.644467Z",
     "shell.execute_reply": "2023-06-25T15:50:07.643550Z"
    },
    "papermill": {
     "duration": 0.017161,
     "end_time": "2023-06-25T15:50:07.646450",
     "exception": false,
     "start_time": "2023-06-25T15:50:07.629289",
     "status": "completed"
    },
    "tags": []
   },
   "outputs": [
    {
     "data": {
      "text/plain": [
       "3"
      ]
     },
     "execution_count": 18,
     "metadata": {},
     "output_type": "execute_result"
    }
   ],
   "source": [
    "tensor1.ndim"
   ]
  },
  {
   "cell_type": "code",
   "execution_count": 19,
   "id": "93b7631d",
   "metadata": {
    "execution": {
     "iopub.execute_input": "2023-06-25T15:50:07.664159Z",
     "iopub.status.busy": "2023-06-25T15:50:07.663207Z",
     "iopub.status.idle": "2023-06-25T15:50:07.669538Z",
     "shell.execute_reply": "2023-06-25T15:50:07.668581Z"
    },
    "papermill": {
     "duration": 0.017126,
     "end_time": "2023-06-25T15:50:07.671473",
     "exception": false,
     "start_time": "2023-06-25T15:50:07.654347",
     "status": "completed"
    },
    "tags": []
   },
   "outputs": [
    {
     "data": {
      "text/plain": [
       "torch.Size([2, 3, 3])"
      ]
     },
     "execution_count": 19,
     "metadata": {},
     "output_type": "execute_result"
    }
   ],
   "source": [
    "tensor1.shape"
   ]
  },
  {
   "cell_type": "code",
   "execution_count": null,
   "id": "c579c882",
   "metadata": {
    "papermill": {
     "duration": 0.007705,
     "end_time": "2023-06-25T15:50:07.687076",
     "exception": false,
     "start_time": "2023-06-25T15:50:07.679371",
     "status": "completed"
    },
    "tags": []
   },
   "outputs": [],
   "source": []
  }
 ],
 "metadata": {
  "kernelspec": {
   "display_name": "Python 3",
   "language": "python",
   "name": "python3"
  },
  "language_info": {
   "codemirror_mode": {
    "name": "ipython",
    "version": 3
   },
   "file_extension": ".py",
   "mimetype": "text/x-python",
   "name": "python",
   "nbconvert_exporter": "python",
   "pygments_lexer": "ipython3",
   "version": "3.10.10"
  },
  "papermill": {
   "default_parameters": {},
   "duration": 16.73789,
   "end_time": "2023-06-25T15:50:10.077177",
   "environment_variables": {},
   "exception": null,
   "input_path": "__notebook__.ipynb",
   "output_path": "__notebook__.ipynb",
   "parameters": {},
   "start_time": "2023-06-25T15:49:53.339287",
   "version": "2.4.0"
  }
 },
 "nbformat": 4,
 "nbformat_minor": 5
}
