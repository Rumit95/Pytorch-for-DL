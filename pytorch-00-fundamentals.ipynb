{
 "cells": [
  {
   "cell_type": "code",
   "execution_count": 1,
   "id": "1e8b7370",
   "metadata": {
    "_cell_guid": "b1076dfc-b9ad-4769-8c92-a6c4dae69d19",
    "_uuid": "8f2839f25d086af736a60e9eeb907d3b93b6e0e5",
    "execution": {
     "iopub.execute_input": "2023-06-29T16:29:35.866756Z",
     "iopub.status.busy": "2023-06-29T16:29:35.866376Z",
     "iopub.status.idle": "2023-06-29T16:29:39.096037Z",
     "shell.execute_reply": "2023-06-29T16:29:39.095119Z"
    },
    "papermill": {
     "duration": 3.256245,
     "end_time": "2023-06-29T16:29:39.098280",
     "exception": false,
     "start_time": "2023-06-29T16:29:35.842035",
     "status": "completed"
    },
    "tags": []
   },
   "outputs": [
    {
     "data": {
      "text/plain": [
       "'2.0.0'"
      ]
     },
     "execution_count": 1,
     "metadata": {},
     "output_type": "execute_result"
    }
   ],
   "source": [
    "import torch\n",
    "import pandas as pd\n",
    "import numpy as np\n",
    "import matplotlib.pyplot as plt\n",
    "torch.__version__"
   ]
  },
  {
   "cell_type": "markdown",
   "id": "a424a46d",
   "metadata": {
    "execution": {
     "iopub.execute_input": "2023-06-25T15:31:29.081596Z",
     "iopub.status.busy": "2023-06-25T15:31:29.081220Z",
     "iopub.status.idle": "2023-06-25T15:31:29.086052Z",
     "shell.execute_reply": "2023-06-25T15:31:29.085102Z",
     "shell.execute_reply.started": "2023-06-25T15:31:29.081561Z"
    },
    "papermill": {
     "duration": 0.022452,
     "end_time": "2023-06-29T16:29:39.143678",
     "exception": false,
     "start_time": "2023-06-29T16:29:39.121226",
     "status": "completed"
    },
    "tags": []
   },
   "source": [
    "## Introduction to Tensor\n",
    "\n",
    "### Creating Tensors\n",
    "\n",
    "PyTorch tensor are create using `torch.Tensor()`\n",
    "\n",
    "ref -\n",
    "* https://pytorch.org/docs/stable/tensors.html"
   ]
  },
  {
   "cell_type": "code",
   "execution_count": 2,
   "id": "34aeb715",
   "metadata": {
    "execution": {
     "iopub.execute_input": "2023-06-29T16:29:39.190564Z",
     "iopub.status.busy": "2023-06-29T16:29:39.190059Z",
     "iopub.status.idle": "2023-06-29T16:29:39.229054Z",
     "shell.execute_reply": "2023-06-29T16:29:39.228081Z"
    },
    "papermill": {
     "duration": 0.064345,
     "end_time": "2023-06-29T16:29:39.231052",
     "exception": false,
     "start_time": "2023-06-29T16:29:39.166707",
     "status": "completed"
    },
    "tags": []
   },
   "outputs": [
    {
     "data": {
      "text/plain": [
       "tensor(7)"
      ]
     },
     "execution_count": 2,
     "metadata": {},
     "output_type": "execute_result"
    }
   ],
   "source": [
    "# Scaler\n",
    "scaler = torch.tensor(7)\n",
    "scaler"
   ]
  },
  {
   "cell_type": "code",
   "execution_count": 3,
   "id": "ea0d7b25",
   "metadata": {
    "execution": {
     "iopub.execute_input": "2023-06-29T16:29:39.278299Z",
     "iopub.status.busy": "2023-06-29T16:29:39.277430Z",
     "iopub.status.idle": "2023-06-29T16:29:39.283601Z",
     "shell.execute_reply": "2023-06-29T16:29:39.282625Z"
    },
    "papermill": {
     "duration": 0.031683,
     "end_time": "2023-06-29T16:29:39.285533",
     "exception": false,
     "start_time": "2023-06-29T16:29:39.253850",
     "status": "completed"
    },
    "tags": []
   },
   "outputs": [
    {
     "data": {
      "text/plain": [
       "0"
      ]
     },
     "execution_count": 3,
     "metadata": {},
     "output_type": "execute_result"
    }
   ],
   "source": [
    "scaler.ndim"
   ]
  },
  {
   "cell_type": "code",
   "execution_count": 4,
   "id": "29025e15",
   "metadata": {
    "execution": {
     "iopub.execute_input": "2023-06-29T16:29:39.331640Z",
     "iopub.status.busy": "2023-06-29T16:29:39.331020Z",
     "iopub.status.idle": "2023-06-29T16:29:39.336486Z",
     "shell.execute_reply": "2023-06-29T16:29:39.335548Z"
    },
    "papermill": {
     "duration": 0.0305,
     "end_time": "2023-06-29T16:29:39.338354",
     "exception": false,
     "start_time": "2023-06-29T16:29:39.307854",
     "status": "completed"
    },
    "tags": []
   },
   "outputs": [
    {
     "data": {
      "text/plain": [
       "7"
      ]
     },
     "execution_count": 4,
     "metadata": {},
     "output_type": "execute_result"
    }
   ],
   "source": [
    "# Get Tensor back ans int\n",
    "scaler.item()"
   ]
  },
  {
   "cell_type": "code",
   "execution_count": 5,
   "id": "d26900fe",
   "metadata": {
    "execution": {
     "iopub.execute_input": "2023-06-29T16:29:39.385166Z",
     "iopub.status.busy": "2023-06-29T16:29:39.384405Z",
     "iopub.status.idle": "2023-06-29T16:29:39.392051Z",
     "shell.execute_reply": "2023-06-29T16:29:39.391133Z"
    },
    "papermill": {
     "duration": 0.033137,
     "end_time": "2023-06-29T16:29:39.393947",
     "exception": false,
     "start_time": "2023-06-29T16:29:39.360810",
     "status": "completed"
    },
    "tags": []
   },
   "outputs": [
    {
     "data": {
      "text/plain": [
       "tensor([7, 7])"
      ]
     },
     "execution_count": 5,
     "metadata": {},
     "output_type": "execute_result"
    }
   ],
   "source": [
    "# Vector\n",
    "vector = torch.tensor([7,7])\n",
    "vector"
   ]
  },
  {
   "cell_type": "code",
   "execution_count": 6,
   "id": "2689ff88",
   "metadata": {
    "execution": {
     "iopub.execute_input": "2023-06-29T16:29:39.444280Z",
     "iopub.status.busy": "2023-06-29T16:29:39.443962Z",
     "iopub.status.idle": "2023-06-29T16:29:39.448984Z",
     "shell.execute_reply": "2023-06-29T16:29:39.448176Z"
    },
    "papermill": {
     "duration": 0.034299,
     "end_time": "2023-06-29T16:29:39.451048",
     "exception": false,
     "start_time": "2023-06-29T16:29:39.416749",
     "status": "completed"
    },
    "tags": []
   },
   "outputs": [
    {
     "data": {
      "text/plain": [
       "1"
      ]
     },
     "execution_count": 6,
     "metadata": {},
     "output_type": "execute_result"
    }
   ],
   "source": [
    "vector.ndim"
   ]
  },
  {
   "cell_type": "code",
   "execution_count": 7,
   "id": "9e6a5495",
   "metadata": {
    "execution": {
     "iopub.execute_input": "2023-06-29T16:29:39.498278Z",
     "iopub.status.busy": "2023-06-29T16:29:39.497550Z",
     "iopub.status.idle": "2023-06-29T16:29:39.503435Z",
     "shell.execute_reply": "2023-06-29T16:29:39.502495Z"
    },
    "papermill": {
     "duration": 0.031761,
     "end_time": "2023-06-29T16:29:39.505318",
     "exception": false,
     "start_time": "2023-06-29T16:29:39.473557",
     "status": "completed"
    },
    "tags": []
   },
   "outputs": [
    {
     "data": {
      "text/plain": [
       "torch.Size([2])"
      ]
     },
     "execution_count": 7,
     "metadata": {},
     "output_type": "execute_result"
    }
   ],
   "source": [
    "vector.shape"
   ]
  },
  {
   "cell_type": "code",
   "execution_count": 8,
   "id": "a10c4478",
   "metadata": {
    "execution": {
     "iopub.execute_input": "2023-06-29T16:29:39.552205Z",
     "iopub.status.busy": "2023-06-29T16:29:39.551576Z",
     "iopub.status.idle": "2023-06-29T16:29:39.560022Z",
     "shell.execute_reply": "2023-06-29T16:29:39.559210Z"
    },
    "papermill": {
     "duration": 0.033808,
     "end_time": "2023-06-29T16:29:39.561919",
     "exception": false,
     "start_time": "2023-06-29T16:29:39.528111",
     "status": "completed"
    },
    "tags": []
   },
   "outputs": [
    {
     "data": {
      "text/plain": [
       "tensor([[7, 8],\n",
       "        [6, 5]])"
      ]
     },
     "execution_count": 8,
     "metadata": {},
     "output_type": "execute_result"
    }
   ],
   "source": [
    "# Matrix\n",
    "MATRIX = torch.tensor([[7,8],\n",
    "                      [6,5]])\n",
    "MATRIX"
   ]
  },
  {
   "cell_type": "code",
   "execution_count": 9,
   "id": "37c75f93",
   "metadata": {
    "execution": {
     "iopub.execute_input": "2023-06-29T16:29:39.609007Z",
     "iopub.status.busy": "2023-06-29T16:29:39.608300Z",
     "iopub.status.idle": "2023-06-29T16:29:39.613760Z",
     "shell.execute_reply": "2023-06-29T16:29:39.612866Z"
    },
    "papermill": {
     "duration": 0.030983,
     "end_time": "2023-06-29T16:29:39.615722",
     "exception": false,
     "start_time": "2023-06-29T16:29:39.584739",
     "status": "completed"
    },
    "tags": []
   },
   "outputs": [
    {
     "data": {
      "text/plain": [
       "2"
      ]
     },
     "execution_count": 9,
     "metadata": {},
     "output_type": "execute_result"
    }
   ],
   "source": [
    "MATRIX.ndim"
   ]
  },
  {
   "cell_type": "code",
   "execution_count": 10,
   "id": "b4b6e348",
   "metadata": {
    "execution": {
     "iopub.execute_input": "2023-06-29T16:29:39.663734Z",
     "iopub.status.busy": "2023-06-29T16:29:39.662933Z",
     "iopub.status.idle": "2023-06-29T16:29:39.669029Z",
     "shell.execute_reply": "2023-06-29T16:29:39.668134Z"
    },
    "papermill": {
     "duration": 0.032074,
     "end_time": "2023-06-29T16:29:39.670940",
     "exception": false,
     "start_time": "2023-06-29T16:29:39.638866",
     "status": "completed"
    },
    "tags": []
   },
   "outputs": [
    {
     "data": {
      "text/plain": [
       "tensor([7, 8])"
      ]
     },
     "execution_count": 10,
     "metadata": {},
     "output_type": "execute_result"
    }
   ],
   "source": [
    "MATRIX[0]"
   ]
  },
  {
   "cell_type": "code",
   "execution_count": 11,
   "id": "a87a86ba",
   "metadata": {
    "execution": {
     "iopub.execute_input": "2023-06-29T16:29:39.718489Z",
     "iopub.status.busy": "2023-06-29T16:29:39.717756Z",
     "iopub.status.idle": "2023-06-29T16:29:39.724036Z",
     "shell.execute_reply": "2023-06-29T16:29:39.723164Z"
    },
    "papermill": {
     "duration": 0.032039,
     "end_time": "2023-06-29T16:29:39.725969",
     "exception": false,
     "start_time": "2023-06-29T16:29:39.693930",
     "status": "completed"
    },
    "tags": []
   },
   "outputs": [
    {
     "data": {
      "text/plain": [
       "tensor([6, 5])"
      ]
     },
     "execution_count": 11,
     "metadata": {},
     "output_type": "execute_result"
    }
   ],
   "source": [
    "MATRIX[1]"
   ]
  },
  {
   "cell_type": "code",
   "execution_count": 12,
   "id": "d6575860",
   "metadata": {
    "execution": {
     "iopub.execute_input": "2023-06-29T16:29:39.773740Z",
     "iopub.status.busy": "2023-06-29T16:29:39.772971Z",
     "iopub.status.idle": "2023-06-29T16:29:39.778952Z",
     "shell.execute_reply": "2023-06-29T16:29:39.778058Z"
    },
    "papermill": {
     "duration": 0.031825,
     "end_time": "2023-06-29T16:29:39.780890",
     "exception": false,
     "start_time": "2023-06-29T16:29:39.749065",
     "status": "completed"
    },
    "tags": []
   },
   "outputs": [
    {
     "data": {
      "text/plain": [
       "torch.Size([2, 2])"
      ]
     },
     "execution_count": 12,
     "metadata": {},
     "output_type": "execute_result"
    }
   ],
   "source": [
    "MATRIX.shape"
   ]
  },
  {
   "cell_type": "code",
   "execution_count": 13,
   "id": "d7514f49",
   "metadata": {
    "execution": {
     "iopub.execute_input": "2023-06-29T16:29:39.829346Z",
     "iopub.status.busy": "2023-06-29T16:29:39.828591Z",
     "iopub.status.idle": "2023-06-29T16:29:39.835593Z",
     "shell.execute_reply": "2023-06-29T16:29:39.834671Z"
    },
    "papermill": {
     "duration": 0.03305,
     "end_time": "2023-06-29T16:29:39.837514",
     "exception": false,
     "start_time": "2023-06-29T16:29:39.804464",
     "status": "completed"
    },
    "tags": []
   },
   "outputs": [
    {
     "data": {
      "text/plain": [
       "tensor([[[1, 2, 3],\n",
       "         [5, 6, 6],\n",
       "         [7, 8, 9]]])"
      ]
     },
     "execution_count": 13,
     "metadata": {},
     "output_type": "execute_result"
    }
   ],
   "source": [
    "# Tensor\n",
    "TENSOR = torch.tensor([[[1,2,3],\n",
    "                      [5,6,6],\n",
    "                      [7,8,9]]])\n",
    "TENSOR"
   ]
  },
  {
   "cell_type": "code",
   "execution_count": 14,
   "id": "32f07fb0",
   "metadata": {
    "execution": {
     "iopub.execute_input": "2023-06-29T16:29:39.885929Z",
     "iopub.status.busy": "2023-06-29T16:29:39.885228Z",
     "iopub.status.idle": "2023-06-29T16:29:39.890957Z",
     "shell.execute_reply": "2023-06-29T16:29:39.890063Z"
    },
    "papermill": {
     "duration": 0.032018,
     "end_time": "2023-06-29T16:29:39.892872",
     "exception": false,
     "start_time": "2023-06-29T16:29:39.860854",
     "status": "completed"
    },
    "tags": []
   },
   "outputs": [
    {
     "data": {
      "text/plain": [
       "3"
      ]
     },
     "execution_count": 14,
     "metadata": {},
     "output_type": "execute_result"
    }
   ],
   "source": [
    "TENSOR.ndim"
   ]
  },
  {
   "cell_type": "code",
   "execution_count": 15,
   "id": "78123034",
   "metadata": {
    "execution": {
     "iopub.execute_input": "2023-06-29T16:29:39.941753Z",
     "iopub.status.busy": "2023-06-29T16:29:39.940995Z",
     "iopub.status.idle": "2023-06-29T16:29:39.946853Z",
     "shell.execute_reply": "2023-06-29T16:29:39.945943Z"
    },
    "papermill": {
     "duration": 0.032204,
     "end_time": "2023-06-29T16:29:39.948777",
     "exception": false,
     "start_time": "2023-06-29T16:29:39.916573",
     "status": "completed"
    },
    "tags": []
   },
   "outputs": [
    {
     "data": {
      "text/plain": [
       "torch.Size([1, 3, 3])"
      ]
     },
     "execution_count": 15,
     "metadata": {},
     "output_type": "execute_result"
    }
   ],
   "source": [
    "TENSOR.shape"
   ]
  },
  {
   "cell_type": "code",
   "execution_count": 16,
   "id": "4e408243",
   "metadata": {
    "execution": {
     "iopub.execute_input": "2023-06-29T16:29:39.997434Z",
     "iopub.status.busy": "2023-06-29T16:29:39.996932Z",
     "iopub.status.idle": "2023-06-29T16:29:40.003071Z",
     "shell.execute_reply": "2023-06-29T16:29:40.002246Z"
    },
    "papermill": {
     "duration": 0.032885,
     "end_time": "2023-06-29T16:29:40.005474",
     "exception": false,
     "start_time": "2023-06-29T16:29:39.972589",
     "status": "completed"
    },
    "tags": []
   },
   "outputs": [
    {
     "data": {
      "text/plain": [
       "tensor([[1, 2, 3],\n",
       "        [5, 6, 6],\n",
       "        [7, 8, 9]])"
      ]
     },
     "execution_count": 16,
     "metadata": {},
     "output_type": "execute_result"
    }
   ],
   "source": [
    "TENSOR[0]"
   ]
  },
  {
   "cell_type": "code",
   "execution_count": 17,
   "id": "5bce3b2e",
   "metadata": {
    "execution": {
     "iopub.execute_input": "2023-06-29T16:29:40.054961Z",
     "iopub.status.busy": "2023-06-29T16:29:40.054229Z",
     "iopub.status.idle": "2023-06-29T16:29:40.061842Z",
     "shell.execute_reply": "2023-06-29T16:29:40.060885Z"
    },
    "papermill": {
     "duration": 0.034146,
     "end_time": "2023-06-29T16:29:40.063726",
     "exception": false,
     "start_time": "2023-06-29T16:29:40.029580",
     "status": "completed"
    },
    "tags": []
   },
   "outputs": [
    {
     "data": {
      "text/plain": [
       "tensor([[[1, 2, 3],\n",
       "         [4, 5, 6],\n",
       "         [7, 8, 9]],\n",
       "\n",
       "        [[1, 2, 3],\n",
       "         [4, 5, 6],\n",
       "         [7, 8, 9]]])"
      ]
     },
     "execution_count": 17,
     "metadata": {},
     "output_type": "execute_result"
    }
   ],
   "source": [
    "# Practice\n",
    "TENSOR1 = torch.tensor([[[1,2,3],\n",
    "                      [4,5,6],\n",
    "                      [7,8,9]],\n",
    "                     [[1,2,3],\n",
    "                      [4,5,6],\n",
    "                      [7,8,9]]])\n",
    "TENSOR1"
   ]
  },
  {
   "cell_type": "code",
   "execution_count": 18,
   "id": "8ace7aba",
   "metadata": {
    "execution": {
     "iopub.execute_input": "2023-06-29T16:29:40.113123Z",
     "iopub.status.busy": "2023-06-29T16:29:40.112305Z",
     "iopub.status.idle": "2023-06-29T16:29:40.118113Z",
     "shell.execute_reply": "2023-06-29T16:29:40.117228Z"
    },
    "papermill": {
     "duration": 0.032604,
     "end_time": "2023-06-29T16:29:40.120044",
     "exception": false,
     "start_time": "2023-06-29T16:29:40.087440",
     "status": "completed"
    },
    "tags": []
   },
   "outputs": [
    {
     "data": {
      "text/plain": [
       "3"
      ]
     },
     "execution_count": 18,
     "metadata": {},
     "output_type": "execute_result"
    }
   ],
   "source": [
    "TENSOR1.ndim"
   ]
  },
  {
   "cell_type": "code",
   "execution_count": 19,
   "id": "7d3dbf04",
   "metadata": {
    "execution": {
     "iopub.execute_input": "2023-06-29T16:29:40.169947Z",
     "iopub.status.busy": "2023-06-29T16:29:40.169219Z",
     "iopub.status.idle": "2023-06-29T16:29:40.174508Z",
     "shell.execute_reply": "2023-06-29T16:29:40.173671Z"
    },
    "papermill": {
     "duration": 0.032007,
     "end_time": "2023-06-29T16:29:40.176398",
     "exception": false,
     "start_time": "2023-06-29T16:29:40.144391",
     "status": "completed"
    },
    "tags": []
   },
   "outputs": [
    {
     "data": {
      "text/plain": [
       "torch.Size([2, 3, 3])"
      ]
     },
     "execution_count": 19,
     "metadata": {},
     "output_type": "execute_result"
    }
   ],
   "source": [
    "TENSOR1.shape"
   ]
  },
  {
   "cell_type": "markdown",
   "id": "39a7e045",
   "metadata": {
    "execution": {
     "iopub.execute_input": "2023-06-25T15:53:52.605155Z",
     "iopub.status.busy": "2023-06-25T15:53:52.604740Z",
     "iopub.status.idle": "2023-06-25T15:53:52.609815Z",
     "shell.execute_reply": "2023-06-25T15:53:52.608929Z",
     "shell.execute_reply.started": "2023-06-25T15:53:52.605124Z"
    },
    "papermill": {
     "duration": 0.02411,
     "end_time": "2023-06-29T16:29:40.224728",
     "exception": false,
     "start_time": "2023-06-29T16:29:40.200618",
     "status": "completed"
    },
    "tags": []
   },
   "source": [
    "### Random Tensor\n",
    "\n",
    "Why Random Nos. ?\n",
    "\n",
    "`Start with Random Numbers -> Look at Data -> Update Random Numbers -> Look at Data -> Update Random Numbers`\n",
    "\n",
    "ref -\n",
    "* https://pytorch.org/docs/stable/generated/torch.rand.html"
   ]
  },
  {
   "cell_type": "code",
   "execution_count": 20,
   "id": "1115a77b",
   "metadata": {
    "execution": {
     "iopub.execute_input": "2023-06-29T16:29:40.274630Z",
     "iopub.status.busy": "2023-06-29T16:29:40.273878Z",
     "iopub.status.idle": "2023-06-29T16:29:40.326098Z",
     "shell.execute_reply": "2023-06-29T16:29:40.325165Z"
    },
    "papermill": {
     "duration": 0.07919,
     "end_time": "2023-06-29T16:29:40.328062",
     "exception": false,
     "start_time": "2023-06-29T16:29:40.248872",
     "status": "completed"
    },
    "tags": []
   },
   "outputs": [
    {
     "data": {
      "text/plain": [
       "tensor([[[0.0310, 0.1499, 0.5118],\n",
       "         [0.8006, 0.3409, 0.5772],\n",
       "         [0.0762, 0.3716, 0.6959],\n",
       "         [0.4416, 0.8677, 0.3301]],\n",
       "\n",
       "        [[0.3122, 0.7603, 0.7353],\n",
       "         [0.2838, 0.4352, 0.8908],\n",
       "         [0.1724, 0.0151, 0.8477],\n",
       "         [0.7751, 0.0566, 0.0088]],\n",
       "\n",
       "        [[0.2063, 0.9333, 0.3536],\n",
       "         [0.4608, 0.5475, 0.8711],\n",
       "         [0.2023, 0.3168, 0.0528],\n",
       "         [0.5859, 0.3639, 0.7891]]])"
      ]
     },
     "execution_count": 20,
     "metadata": {},
     "output_type": "execute_result"
    }
   ],
   "source": [
    "# Create a random tensor of size(3,4)\n",
    "random_tensor = torch.rand(3,4,3)\n",
    "random_tensor"
   ]
  },
  {
   "cell_type": "code",
   "execution_count": 21,
   "id": "edc69ff2",
   "metadata": {
    "execution": {
     "iopub.execute_input": "2023-06-29T16:29:40.378546Z",
     "iopub.status.busy": "2023-06-29T16:29:40.377807Z",
     "iopub.status.idle": "2023-06-29T16:29:40.383720Z",
     "shell.execute_reply": "2023-06-29T16:29:40.382789Z"
    },
    "papermill": {
     "duration": 0.033072,
     "end_time": "2023-06-29T16:29:40.385686",
     "exception": false,
     "start_time": "2023-06-29T16:29:40.352614",
     "status": "completed"
    },
    "tags": []
   },
   "outputs": [
    {
     "data": {
      "text/plain": [
       "3"
      ]
     },
     "execution_count": 21,
     "metadata": {},
     "output_type": "execute_result"
    }
   ],
   "source": [
    "random_tensor.ndim"
   ]
  },
  {
   "cell_type": "code",
   "execution_count": 22,
   "id": "c55c781a",
   "metadata": {
    "execution": {
     "iopub.execute_input": "2023-06-29T16:29:40.436336Z",
     "iopub.status.busy": "2023-06-29T16:29:40.435558Z",
     "iopub.status.idle": "2023-06-29T16:29:40.441130Z",
     "shell.execute_reply": "2023-06-29T16:29:40.440235Z"
    },
    "papermill": {
     "duration": 0.032744,
     "end_time": "2023-06-29T16:29:40.443090",
     "exception": false,
     "start_time": "2023-06-29T16:29:40.410346",
     "status": "completed"
    },
    "tags": []
   },
   "outputs": [
    {
     "data": {
      "text/plain": [
       "torch.Size([3, 4, 3])"
      ]
     },
     "execution_count": 22,
     "metadata": {},
     "output_type": "execute_result"
    }
   ],
   "source": [
    "random_tensor.shape"
   ]
  },
  {
   "cell_type": "code",
   "execution_count": 23,
   "id": "60c18b33",
   "metadata": {
    "execution": {
     "iopub.execute_input": "2023-06-29T16:29:40.496035Z",
     "iopub.status.busy": "2023-06-29T16:29:40.495317Z",
     "iopub.status.idle": "2023-06-29T16:29:40.507542Z",
     "shell.execute_reply": "2023-06-29T16:29:40.506604Z"
    },
    "papermill": {
     "duration": 0.040062,
     "end_time": "2023-06-29T16:29:40.509461",
     "exception": false,
     "start_time": "2023-06-29T16:29:40.469399",
     "status": "completed"
    },
    "scrolled": true,
    "tags": []
   },
   "outputs": [
    {
     "data": {
      "text/plain": [
       "tensor([[[0.9857, 0.8959, 0.5738],\n",
       "         [0.3369, 0.4041, 0.1294],\n",
       "         [0.6896, 0.9524, 0.7589],\n",
       "         ...,\n",
       "         [0.8073, 0.2506, 0.5081],\n",
       "         [0.9198, 0.1272, 0.9122],\n",
       "         [0.8046, 0.2934, 0.4906]],\n",
       "\n",
       "        [[0.6340, 0.9875, 0.0949],\n",
       "         [0.5863, 0.6221, 0.2979],\n",
       "         [0.9532, 0.2279, 0.2087],\n",
       "         ...,\n",
       "         [0.0932, 0.0093, 0.5605],\n",
       "         [0.3192, 0.4071, 0.6805],\n",
       "         [0.9070, 0.2448, 0.1918]],\n",
       "\n",
       "        [[0.1186, 0.8888, 0.7820],\n",
       "         [0.7810, 0.0280, 0.0764],\n",
       "         [0.5687, 0.6927, 0.0094],\n",
       "         ...,\n",
       "         [0.3776, 0.6071, 0.1917],\n",
       "         [0.1305, 0.5834, 0.6621],\n",
       "         [0.0147, 0.8040, 0.3840]],\n",
       "\n",
       "        ...,\n",
       "\n",
       "        [[0.6658, 0.9669, 0.7036],\n",
       "         [0.5801, 0.1902, 0.5147],\n",
       "         [0.0487, 0.6557, 0.6701],\n",
       "         ...,\n",
       "         [0.5325, 0.8406, 0.7031],\n",
       "         [0.2151, 0.9828, 0.8176],\n",
       "         [0.3053, 0.2841, 0.9200]],\n",
       "\n",
       "        [[0.1963, 0.9666, 0.3885],\n",
       "         [0.1159, 0.7607, 0.7112],\n",
       "         [0.6007, 0.3004, 0.6870],\n",
       "         ...,\n",
       "         [0.0191, 0.1575, 0.7415],\n",
       "         [0.1296, 0.9699, 0.7156],\n",
       "         [0.5886, 0.9624, 0.7556]],\n",
       "\n",
       "        [[0.2488, 0.8254, 0.8996],\n",
       "         [0.6484, 0.2551, 0.9984],\n",
       "         [0.3455, 0.3388, 0.7399],\n",
       "         ...,\n",
       "         [0.1083, 0.3725, 0.7099],\n",
       "         [0.0405, 0.5735, 0.8864],\n",
       "         [0.9684, 0.2179, 0.2272]]])"
      ]
     },
     "execution_count": 23,
     "metadata": {},
     "output_type": "execute_result"
    }
   ],
   "source": [
    "# Creating Random tensor similar to Image Shape\n",
    "random_image_size_tensor = torch.rand(size=[224,224,3],) # height, width , color channels\n",
    "random_image_size_tensor"
   ]
  },
  {
   "cell_type": "code",
   "execution_count": 24,
   "id": "5f96ba8b",
   "metadata": {
    "execution": {
     "iopub.execute_input": "2023-06-29T16:29:40.560628Z",
     "iopub.status.busy": "2023-06-29T16:29:40.559881Z",
     "iopub.status.idle": "2023-06-29T16:29:40.565420Z",
     "shell.execute_reply": "2023-06-29T16:29:40.564545Z"
    },
    "papermill": {
     "duration": 0.032873,
     "end_time": "2023-06-29T16:29:40.567354",
     "exception": false,
     "start_time": "2023-06-29T16:29:40.534481",
     "status": "completed"
    },
    "tags": []
   },
   "outputs": [
    {
     "data": {
      "text/plain": [
       "3"
      ]
     },
     "execution_count": 24,
     "metadata": {},
     "output_type": "execute_result"
    }
   ],
   "source": [
    "random_image_size_tensor.ndim"
   ]
  },
  {
   "cell_type": "code",
   "execution_count": 25,
   "id": "45bae3d1",
   "metadata": {
    "execution": {
     "iopub.execute_input": "2023-06-29T16:29:40.618656Z",
     "iopub.status.busy": "2023-06-29T16:29:40.617920Z",
     "iopub.status.idle": "2023-06-29T16:29:40.623413Z",
     "shell.execute_reply": "2023-06-29T16:29:40.622519Z"
    },
    "papermill": {
     "duration": 0.032994,
     "end_time": "2023-06-29T16:29:40.625430",
     "exception": false,
     "start_time": "2023-06-29T16:29:40.592436",
     "status": "completed"
    },
    "tags": []
   },
   "outputs": [
    {
     "data": {
      "text/plain": [
       "torch.Size([224, 224, 3])"
      ]
     },
     "execution_count": 25,
     "metadata": {},
     "output_type": "execute_result"
    }
   ],
   "source": [
    "random_image_size_tensor.shape"
   ]
  },
  {
   "cell_type": "markdown",
   "id": "1f84fac1",
   "metadata": {
    "papermill": {
     "duration": 0.024757,
     "end_time": "2023-06-29T16:29:40.675459",
     "exception": false,
     "start_time": "2023-06-29T16:29:40.650702",
     "status": "completed"
    },
    "tags": []
   },
   "source": [
    "### Zeroes and Ones"
   ]
  },
  {
   "cell_type": "code",
   "execution_count": 26,
   "id": "600c0b9d",
   "metadata": {
    "execution": {
     "iopub.execute_input": "2023-06-29T16:29:40.726562Z",
     "iopub.status.busy": "2023-06-29T16:29:40.726203Z",
     "iopub.status.idle": "2023-06-29T16:29:40.734091Z",
     "shell.execute_reply": "2023-06-29T16:29:40.733150Z"
    },
    "papermill": {
     "duration": 0.035663,
     "end_time": "2023-06-29T16:29:40.736048",
     "exception": false,
     "start_time": "2023-06-29T16:29:40.700385",
     "status": "completed"
    },
    "tags": []
   },
   "outputs": [
    {
     "data": {
      "text/plain": [
       "tensor([[0., 0., 0., 0.],\n",
       "        [0., 0., 0., 0.],\n",
       "        [0., 0., 0., 0.]])"
      ]
     },
     "execution_count": 26,
     "metadata": {},
     "output_type": "execute_result"
    }
   ],
   "source": [
    "# Create a tenor of all zeros\n",
    "zeros = torch.zeros(3,4)\n",
    "zeros"
   ]
  },
  {
   "cell_type": "code",
   "execution_count": 27,
   "id": "ff2190ee",
   "metadata": {
    "execution": {
     "iopub.execute_input": "2023-06-29T16:29:40.787513Z",
     "iopub.status.busy": "2023-06-29T16:29:40.786799Z",
     "iopub.status.idle": "2023-06-29T16:29:40.793257Z",
     "shell.execute_reply": "2023-06-29T16:29:40.792334Z"
    },
    "papermill": {
     "duration": 0.034147,
     "end_time": "2023-06-29T16:29:40.795125",
     "exception": false,
     "start_time": "2023-06-29T16:29:40.760978",
     "status": "completed"
    },
    "tags": []
   },
   "outputs": [
    {
     "data": {
      "text/plain": [
       "tensor([[0., 0., 0., 0.],\n",
       "        [0., 0., 0., 0.],\n",
       "        [0., 0., 0., 0.]])"
      ]
     },
     "execution_count": 27,
     "metadata": {},
     "output_type": "execute_result"
    }
   ],
   "source": [
    "zeros * torch.rand(3,4)"
   ]
  },
  {
   "cell_type": "code",
   "execution_count": 28,
   "id": "c01c3453",
   "metadata": {
    "execution": {
     "iopub.execute_input": "2023-06-29T16:29:40.847114Z",
     "iopub.status.busy": "2023-06-29T16:29:40.846391Z",
     "iopub.status.idle": "2023-06-29T16:29:40.853536Z",
     "shell.execute_reply": "2023-06-29T16:29:40.852628Z"
    },
    "papermill": {
     "duration": 0.034998,
     "end_time": "2023-06-29T16:29:40.855441",
     "exception": false,
     "start_time": "2023-06-29T16:29:40.820443",
     "status": "completed"
    },
    "tags": []
   },
   "outputs": [
    {
     "data": {
      "text/plain": [
       "tensor([[1, 1, 1, 1],\n",
       "        [1, 1, 1, 1],\n",
       "        [1, 1, 1, 1]])"
      ]
     },
     "execution_count": 28,
     "metadata": {},
     "output_type": "execute_result"
    }
   ],
   "source": [
    "# Create tensor of all ones\n",
    "ones = torch.ones(size=(3,4),dtype=int)\n",
    "ones"
   ]
  },
  {
   "cell_type": "code",
   "execution_count": 29,
   "id": "5f7d8805",
   "metadata": {
    "execution": {
     "iopub.execute_input": "2023-06-29T16:29:40.909548Z",
     "iopub.status.busy": "2023-06-29T16:29:40.909056Z",
     "iopub.status.idle": "2023-06-29T16:29:40.914290Z",
     "shell.execute_reply": "2023-06-29T16:29:40.913475Z"
    },
    "papermill": {
     "duration": 0.035204,
     "end_time": "2023-06-29T16:29:40.916131",
     "exception": false,
     "start_time": "2023-06-29T16:29:40.880927",
     "status": "completed"
    },
    "tags": []
   },
   "outputs": [
    {
     "data": {
      "text/plain": [
       "torch.int64"
      ]
     },
     "execution_count": 29,
     "metadata": {},
     "output_type": "execute_result"
    }
   ],
   "source": [
    "ones.dtype"
   ]
  },
  {
   "cell_type": "markdown",
   "id": "c1ae60c8",
   "metadata": {
    "execution": {
     "iopub.execute_input": "2023-06-25T16:24:23.852212Z",
     "iopub.status.busy": "2023-06-25T16:24:23.851772Z",
     "iopub.status.idle": "2023-06-25T16:24:23.857025Z",
     "shell.execute_reply": "2023-06-25T16:24:23.856069Z",
     "shell.execute_reply.started": "2023-06-25T16:24:23.852179Z"
    },
    "papermill": {
     "duration": 0.025513,
     "end_time": "2023-06-29T16:29:40.967247",
     "exception": false,
     "start_time": "2023-06-29T16:29:40.941734",
     "status": "completed"
    },
    "tags": []
   },
   "source": [
    "### Create a range of tensors and tensors-like\n",
    "\n",
    "ref -\n",
    "* https://pytorch.org/docs/stable/generated/torch.arange.html"
   ]
  },
  {
   "cell_type": "code",
   "execution_count": 30,
   "id": "591b36a3",
   "metadata": {
    "execution": {
     "iopub.execute_input": "2023-06-29T16:29:41.019790Z",
     "iopub.status.busy": "2023-06-29T16:29:41.018949Z",
     "iopub.status.idle": "2023-06-29T16:29:41.028735Z",
     "shell.execute_reply": "2023-06-29T16:29:41.027785Z"
    },
    "papermill": {
     "duration": 0.038109,
     "end_time": "2023-06-29T16:29:41.030679",
     "exception": false,
     "start_time": "2023-06-29T16:29:40.992570",
     "status": "completed"
    },
    "tags": []
   },
   "outputs": [
    {
     "data": {
      "text/plain": [
       "tensor([ 1,  2,  3,  4,  5,  6,  7,  8,  9, 10])"
      ]
     },
     "execution_count": 30,
     "metadata": {},
     "output_type": "execute_result"
    }
   ],
   "source": [
    "# Use torch.arange()\n",
    "one_to_ten = torch.arange(start=1, end=11, step=1)\n",
    "one_to_ten"
   ]
  },
  {
   "cell_type": "code",
   "execution_count": 31,
   "id": "6b6d1c14",
   "metadata": {
    "execution": {
     "iopub.execute_input": "2023-06-29T16:29:41.082835Z",
     "iopub.status.busy": "2023-06-29T16:29:41.082563Z",
     "iopub.status.idle": "2023-06-29T16:29:41.089020Z",
     "shell.execute_reply": "2023-06-29T16:29:41.088112Z"
    },
    "papermill": {
     "duration": 0.034576,
     "end_time": "2023-06-29T16:29:41.090963",
     "exception": false,
     "start_time": "2023-06-29T16:29:41.056387",
     "status": "completed"
    },
    "tags": []
   },
   "outputs": [
    {
     "data": {
      "text/plain": [
       "tensor([0, 0, 0, 0, 0, 0, 0, 0, 0, 0])"
      ]
     },
     "execution_count": 31,
     "metadata": {},
     "output_type": "execute_result"
    }
   ],
   "source": [
    "# Create tesnors like\n",
    "ten_zeros = torch.zeros_like(input=one_to_ten)\n",
    "ten_zeros"
   ]
  },
  {
   "cell_type": "markdown",
   "id": "e233901f",
   "metadata": {
    "papermill": {
     "duration": 0.025355,
     "end_time": "2023-06-29T16:29:41.142009",
     "exception": false,
     "start_time": "2023-06-29T16:29:41.116654",
     "status": "completed"
    },
    "tags": []
   },
   "source": [
    "### Tensor datatypes\n",
    "\n",
    "Tensor datatypes is one of the 3 big errors arrive in Pytorch\n",
    "\n",
    "1. Tensors not right datatype\n",
    "2. Tensors not right shape\n",
    "3. Tensors not no right device\n",
    "\n",
    "ref -\n",
    "* https://pytorch.org/docs/stable/tensors.html"
   ]
  },
  {
   "cell_type": "code",
   "execution_count": 32,
   "id": "c3190126",
   "metadata": {
    "execution": {
     "iopub.execute_input": "2023-06-29T16:29:41.195660Z",
     "iopub.status.busy": "2023-06-29T16:29:41.195380Z",
     "iopub.status.idle": "2023-06-29T16:29:41.202674Z",
     "shell.execute_reply": "2023-06-29T16:29:41.201774Z"
    },
    "papermill": {
     "duration": 0.035857,
     "end_time": "2023-06-29T16:29:41.204617",
     "exception": false,
     "start_time": "2023-06-29T16:29:41.168760",
     "status": "completed"
    },
    "tags": []
   },
   "outputs": [
    {
     "data": {
      "text/plain": [
       "tensor([3., 6., 9.])"
      ]
     },
     "execution_count": 32,
     "metadata": {},
     "output_type": "execute_result"
    }
   ],
   "source": [
    "# Float 32 tensor\n",
    "float_32_tensor = torch.tensor([3.0,6.0,9.0],\n",
    "                             dtype=None, # what datatype of tensor (float32 etc)\n",
    "                             device=None, #'cpu or gpu -> cuda'\n",
    "                             requires_grad=False) # whether to track gradient\n",
    "float_32_tensor"
   ]
  },
  {
   "cell_type": "code",
   "execution_count": 33,
   "id": "c345e822",
   "metadata": {
    "execution": {
     "iopub.execute_input": "2023-06-29T16:29:41.257666Z",
     "iopub.status.busy": "2023-06-29T16:29:41.256901Z",
     "iopub.status.idle": "2023-06-29T16:29:41.262679Z",
     "shell.execute_reply": "2023-06-29T16:29:41.261761Z"
    },
    "papermill": {
     "duration": 0.034286,
     "end_time": "2023-06-29T16:29:41.264593",
     "exception": false,
     "start_time": "2023-06-29T16:29:41.230307",
     "status": "completed"
    },
    "tags": []
   },
   "outputs": [
    {
     "data": {
      "text/plain": [
       "torch.float32"
      ]
     },
     "execution_count": 33,
     "metadata": {},
     "output_type": "execute_result"
    }
   ],
   "source": [
    "float_32_tensor.dtype"
   ]
  },
  {
   "cell_type": "code",
   "execution_count": 34,
   "id": "92085d16",
   "metadata": {
    "execution": {
     "iopub.execute_input": "2023-06-29T16:29:41.317798Z",
     "iopub.status.busy": "2023-06-29T16:29:41.317069Z",
     "iopub.status.idle": "2023-06-29T16:29:41.325104Z",
     "shell.execute_reply": "2023-06-29T16:29:41.324318Z"
    },
    "papermill": {
     "duration": 0.036511,
     "end_time": "2023-06-29T16:29:41.327013",
     "exception": false,
     "start_time": "2023-06-29T16:29:41.290502",
     "status": "completed"
    },
    "tags": []
   },
   "outputs": [],
   "source": [
    "float_16_tensor = float_32_tensor.half()\n",
    "# or\n",
    "float_16_tensor = float_32_tensor.type(torch.float) # torch.half"
   ]
  },
  {
   "cell_type": "code",
   "execution_count": 35,
   "id": "054fec28",
   "metadata": {
    "execution": {
     "iopub.execute_input": "2023-06-29T16:29:41.380607Z",
     "iopub.status.busy": "2023-06-29T16:29:41.380032Z",
     "iopub.status.idle": "2023-06-29T16:29:41.386852Z",
     "shell.execute_reply": "2023-06-29T16:29:41.385821Z"
    },
    "papermill": {
     "duration": 0.035609,
     "end_time": "2023-06-29T16:29:41.388843",
     "exception": false,
     "start_time": "2023-06-29T16:29:41.353234",
     "status": "completed"
    },
    "tags": []
   },
   "outputs": [
    {
     "data": {
      "text/plain": [
       "tensor([3., 6., 9.])"
      ]
     },
     "execution_count": 35,
     "metadata": {},
     "output_type": "execute_result"
    }
   ],
   "source": [
    "float_16_tensor"
   ]
  },
  {
   "cell_type": "code",
   "execution_count": 36,
   "id": "9e4dea8b",
   "metadata": {
    "execution": {
     "iopub.execute_input": "2023-06-29T16:29:41.442718Z",
     "iopub.status.busy": "2023-06-29T16:29:41.441933Z",
     "iopub.status.idle": "2023-06-29T16:29:41.448093Z",
     "shell.execute_reply": "2023-06-29T16:29:41.447194Z"
    },
    "papermill": {
     "duration": 0.036449,
     "end_time": "2023-06-29T16:29:41.451339",
     "exception": false,
     "start_time": "2023-06-29T16:29:41.414890",
     "status": "completed"
    },
    "tags": []
   },
   "outputs": [
    {
     "data": {
      "text/plain": [
       "torch.float32"
      ]
     },
     "execution_count": 36,
     "metadata": {},
     "output_type": "execute_result"
    }
   ],
   "source": [
    "(float_16_tensor * float_32_tensor).dtype"
   ]
  },
  {
   "cell_type": "code",
   "execution_count": 37,
   "id": "fd859bd1",
   "metadata": {
    "execution": {
     "iopub.execute_input": "2023-06-29T16:29:41.507160Z",
     "iopub.status.busy": "2023-06-29T16:29:41.506419Z",
     "iopub.status.idle": "2023-06-29T16:29:41.511055Z",
     "shell.execute_reply": "2023-06-29T16:29:41.510240Z"
    },
    "papermill": {
     "duration": 0.034179,
     "end_time": "2023-06-29T16:29:41.513003",
     "exception": false,
     "start_time": "2023-06-29T16:29:41.478824",
     "status": "completed"
    },
    "tags": []
   },
   "outputs": [],
   "source": [
    "int_32_tensor = torch.tensor([3,4,5],\n",
    "                             dtype=torch.int32)"
   ]
  },
  {
   "cell_type": "code",
   "execution_count": 38,
   "id": "61a8ecdc",
   "metadata": {
    "execution": {
     "iopub.execute_input": "2023-06-29T16:29:41.567218Z",
     "iopub.status.busy": "2023-06-29T16:29:41.566454Z",
     "iopub.status.idle": "2023-06-29T16:29:41.574453Z",
     "shell.execute_reply": "2023-06-29T16:29:41.573571Z"
    },
    "papermill": {
     "duration": 0.037044,
     "end_time": "2023-06-29T16:29:41.576460",
     "exception": false,
     "start_time": "2023-06-29T16:29:41.539416",
     "status": "completed"
    },
    "tags": []
   },
   "outputs": [
    {
     "data": {
      "text/plain": [
       "tensor([ 9., 24., 45.])"
      ]
     },
     "execution_count": 38,
     "metadata": {},
     "output_type": "execute_result"
    }
   ],
   "source": [
    "float_16_tensor * int_32_tensor"
   ]
  },
  {
   "cell_type": "markdown",
   "id": "5b56c9c2",
   "metadata": {
    "papermill": {
     "duration": 0.026079,
     "end_time": "2023-06-29T16:29:41.628808",
     "exception": false,
     "start_time": "2023-06-29T16:29:41.602729",
     "status": "completed"
    },
    "tags": []
   },
   "source": [
    "### Getting info from tensors (tensor attributes)\n",
    "1. tensor not datatype - to check use tensor.dtype\n",
    "2. tensor not right shape - to check use tensor.shape or tensor.size()\n",
    "3. tensor not on right device - to check use tensor.device"
   ]
  },
  {
   "cell_type": "code",
   "execution_count": 39,
   "id": "793c40bc",
   "metadata": {
    "execution": {
     "iopub.execute_input": "2023-06-29T16:29:41.683524Z",
     "iopub.status.busy": "2023-06-29T16:29:41.682552Z",
     "iopub.status.idle": "2023-06-29T16:29:41.689680Z",
     "shell.execute_reply": "2023-06-29T16:29:41.688752Z"
    },
    "papermill": {
     "duration": 0.036568,
     "end_time": "2023-06-29T16:29:41.691617",
     "exception": false,
     "start_time": "2023-06-29T16:29:41.655049",
     "status": "completed"
    },
    "tags": []
   },
   "outputs": [
    {
     "data": {
      "text/plain": [
       "tensor([[0.9105, 0.3577, 0.3549, 0.8397],\n",
       "        [0.7855, 0.9017, 0.8440, 0.8826],\n",
       "        [0.8142, 0.0227, 0.5957, 0.4844]])"
      ]
     },
     "execution_count": 39,
     "metadata": {},
     "output_type": "execute_result"
    }
   ],
   "source": [
    "# Create a tensor\n",
    "some_tensor = torch.rand(3,4)\n",
    "some_tensor"
   ]
  },
  {
   "cell_type": "code",
   "execution_count": 40,
   "id": "49b6380d",
   "metadata": {
    "execution": {
     "iopub.execute_input": "2023-06-29T16:29:41.756335Z",
     "iopub.status.busy": "2023-06-29T16:29:41.755642Z",
     "iopub.status.idle": "2023-06-29T16:29:41.762949Z",
     "shell.execute_reply": "2023-06-29T16:29:41.761553Z"
    },
    "papermill": {
     "duration": 0.0513,
     "end_time": "2023-06-29T16:29:41.769146",
     "exception": false,
     "start_time": "2023-06-29T16:29:41.717846",
     "status": "completed"
    },
    "tags": []
   },
   "outputs": [
    {
     "name": "stdout",
     "output_type": "stream",
     "text": [
      "Tensor Datatype : torch.float32 Tensor Shape : torch.Size([3, 4]) Tensor Device : cpu\n"
     ]
    }
   ],
   "source": [
    "print(\"Tensor Datatype :\",some_tensor.dtype,\n",
    "\"Tensor Shape :\",some_tensor.shape,\n",
    "\"Tensor Device :\",some_tensor.device)"
   ]
  },
  {
   "cell_type": "markdown",
   "id": "7c71135f",
   "metadata": {
    "execution": {
     "iopub.execute_input": "2023-06-26T15:31:18.518353Z",
     "iopub.status.busy": "2023-06-26T15:31:18.517972Z",
     "iopub.status.idle": "2023-06-26T15:31:18.526666Z",
     "shell.execute_reply": "2023-06-26T15:31:18.525296Z",
     "shell.execute_reply.started": "2023-06-26T15:31:18.518326Z"
    },
    "papermill": {
     "duration": 0.042636,
     "end_time": "2023-06-29T16:29:41.854007",
     "exception": false,
     "start_time": "2023-06-29T16:29:41.811371",
     "status": "completed"
    },
    "tags": []
   },
   "source": [
    "### Manipulating Tensors (Tensor Operations)\n",
    "1. Addition\n",
    "2. Subtraction\n",
    "3. Multiplication (element-wise)\n",
    "4. Division\n",
    "5. Matrix Multiplication"
   ]
  },
  {
   "cell_type": "code",
   "execution_count": 41,
   "id": "8d7e1097",
   "metadata": {
    "execution": {
     "iopub.execute_input": "2023-06-29T16:29:41.929158Z",
     "iopub.status.busy": "2023-06-29T16:29:41.928817Z",
     "iopub.status.idle": "2023-06-29T16:29:41.944041Z",
     "shell.execute_reply": "2023-06-29T16:29:41.943245Z"
    },
    "papermill": {
     "duration": 0.055402,
     "end_time": "2023-06-29T16:29:41.946287",
     "exception": false,
     "start_time": "2023-06-29T16:29:41.890885",
     "status": "completed"
    },
    "tags": []
   },
   "outputs": [
    {
     "data": {
      "text/plain": [
       "tensor([11, 12, 13])"
      ]
     },
     "execution_count": 41,
     "metadata": {},
     "output_type": "execute_result"
    }
   ],
   "source": [
    "# Create a tensor and add 10\n",
    "tensor = torch.tensor([1,2,3])\n",
    "tensor + 10"
   ]
  },
  {
   "cell_type": "code",
   "execution_count": 42,
   "id": "a2d7ca3b",
   "metadata": {
    "execution": {
     "iopub.execute_input": "2023-06-29T16:29:42.023410Z",
     "iopub.status.busy": "2023-06-29T16:29:42.022562Z",
     "iopub.status.idle": "2023-06-29T16:29:42.033859Z",
     "shell.execute_reply": "2023-06-29T16:29:42.033039Z"
    },
    "papermill": {
     "duration": 0.053643,
     "end_time": "2023-06-29T16:29:42.036611",
     "exception": false,
     "start_time": "2023-06-29T16:29:41.982968",
     "status": "completed"
    },
    "tags": []
   },
   "outputs": [
    {
     "data": {
      "text/plain": [
       "tensor([10, 20, 30])"
      ]
     },
     "execution_count": 42,
     "metadata": {},
     "output_type": "execute_result"
    }
   ],
   "source": [
    "# multiply\n",
    "tensor * 10"
   ]
  },
  {
   "cell_type": "code",
   "execution_count": 43,
   "id": "0615191e",
   "metadata": {
    "execution": {
     "iopub.execute_input": "2023-06-29T16:29:42.113589Z",
     "iopub.status.busy": "2023-06-29T16:29:42.113155Z",
     "iopub.status.idle": "2023-06-29T16:29:42.121071Z",
     "shell.execute_reply": "2023-06-29T16:29:42.120243Z"
    },
    "papermill": {
     "duration": 0.051437,
     "end_time": "2023-06-29T16:29:42.126017",
     "exception": false,
     "start_time": "2023-06-29T16:29:42.074580",
     "status": "completed"
    },
    "tags": []
   },
   "outputs": [
    {
     "data": {
      "text/plain": [
       "tensor([-9, -8, -7])"
      ]
     },
     "execution_count": 43,
     "metadata": {},
     "output_type": "execute_result"
    }
   ],
   "source": [
    "# subtract 10\n",
    "tensor - 10"
   ]
  },
  {
   "cell_type": "code",
   "execution_count": 44,
   "id": "adaa7d09",
   "metadata": {
    "execution": {
     "iopub.execute_input": "2023-06-29T16:29:42.203750Z",
     "iopub.status.busy": "2023-06-29T16:29:42.203361Z",
     "iopub.status.idle": "2023-06-29T16:29:42.209992Z",
     "shell.execute_reply": "2023-06-29T16:29:42.209212Z"
    },
    "papermill": {
     "duration": 0.052524,
     "end_time": "2023-06-29T16:29:42.215428",
     "exception": false,
     "start_time": "2023-06-29T16:29:42.162904",
     "status": "completed"
    },
    "tags": []
   },
   "outputs": [
    {
     "data": {
      "text/plain": [
       "tensor([10, 20, 30])"
      ]
     },
     "execution_count": 44,
     "metadata": {},
     "output_type": "execute_result"
    }
   ],
   "source": [
    "# multiply using tensor function\n",
    "torch.mul(tensor,10)"
   ]
  },
  {
   "cell_type": "markdown",
   "id": "fe58610d",
   "metadata": {
    "papermill": {
     "duration": 0.037222,
     "end_time": "2023-06-29T16:29:42.289514",
     "exception": false,
     "start_time": "2023-06-29T16:29:42.252292",
     "status": "completed"
    },
    "tags": []
   },
   "source": [
    "### Matrix Multiplication\n",
    "\n",
    "Two Main ways to multiply in tensors\n",
    "\n",
    "1. Element-wise multipication or Cross Multiplication\n",
    "2. Matrix multiplication or Dot Product\n",
    "\n",
    "ref -\n",
    "* https://www.mathsisfun.com/algebra/matrix-multiplying.html\n",
    "\n",
    "Two Rules must Follow:\n",
    "1. The **Inner Dimension** must match:\n",
    "* '(3,2) @ (3,2)' wont work\n",
    "* '(3,2) @ (2,3)' will work\n",
    "* '(2,3) @ (3,2)' will work\n",
    "2. Resulting matrix has dimension of **Outer Dimension**\n",
    "* (2,3) @ (3,2) -> (2,2)\n",
    "* (3,2) @ (2,3) -> (3,3)"
   ]
  },
  {
   "cell_type": "code",
   "execution_count": 45,
   "id": "26c10207",
   "metadata": {
    "execution": {
     "iopub.execute_input": "2023-06-29T16:29:42.367930Z",
     "iopub.status.busy": "2023-06-29T16:29:42.367489Z",
     "iopub.status.idle": "2023-06-29T16:29:42.419395Z",
     "shell.execute_reply": "2023-06-29T16:29:42.418506Z"
    },
    "papermill": {
     "duration": 0.094087,
     "end_time": "2023-06-29T16:29:42.421907",
     "exception": false,
     "start_time": "2023-06-29T16:29:42.327820",
     "status": "completed"
    },
    "tags": []
   },
   "outputs": [
    {
     "data": {
      "text/plain": [
       "tensor([[0.3921, 0.0489, 0.5682],\n",
       "        [0.7346, 0.0915, 1.0647],\n",
       "        [0.5598, 0.0648, 0.8406]])"
      ]
     },
     "execution_count": 45,
     "metadata": {},
     "output_type": "execute_result"
    }
   ],
   "source": [
    "torch.matmul(torch.rand(3,2) , torch.rand(2,3))"
   ]
  },
  {
   "cell_type": "code",
   "execution_count": 46,
   "id": "a90052de",
   "metadata": {
    "execution": {
     "iopub.execute_input": "2023-06-29T16:29:42.501504Z",
     "iopub.status.busy": "2023-06-29T16:29:42.501122Z",
     "iopub.status.idle": "2023-06-29T16:29:42.506945Z",
     "shell.execute_reply": "2023-06-29T16:29:42.506085Z"
    },
    "papermill": {
     "duration": 0.050016,
     "end_time": "2023-06-29T16:29:42.511856",
     "exception": false,
     "start_time": "2023-06-29T16:29:42.461840",
     "status": "completed"
    },
    "tags": []
   },
   "outputs": [
    {
     "name": "stdout",
     "output_type": "stream",
     "text": [
      "tensor([1, 2, 3]) * tensor([1, 2, 3])\n",
      "Equals : tensor([1, 4, 9])\n"
     ]
    }
   ],
   "source": [
    "# Element wise multiplication\n",
    "print(tensor, '*' , tensor)\n",
    "print('Equals :', tensor * tensor )"
   ]
  },
  {
   "cell_type": "code",
   "execution_count": 47,
   "id": "f2e7cce5",
   "metadata": {
    "execution": {
     "iopub.execute_input": "2023-06-29T16:29:42.591448Z",
     "iopub.status.busy": "2023-06-29T16:29:42.591084Z",
     "iopub.status.idle": "2023-06-29T16:29:42.597347Z",
     "shell.execute_reply": "2023-06-29T16:29:42.596491Z"
    },
    "papermill": {
     "duration": 0.052589,
     "end_time": "2023-06-29T16:29:42.602764",
     "exception": false,
     "start_time": "2023-06-29T16:29:42.550175",
     "status": "completed"
    },
    "tags": []
   },
   "outputs": [
    {
     "data": {
      "text/plain": [
       "tensor(14)"
      ]
     },
     "execution_count": 47,
     "metadata": {},
     "output_type": "execute_result"
    }
   ],
   "source": [
    "# Matrix Multiplication\n",
    "torch.matmul(tensor,tensor)"
   ]
  },
  {
   "cell_type": "markdown",
   "id": "18d3b44e",
   "metadata": {
    "papermill": {
     "duration": 0.038255,
     "end_time": "2023-06-29T16:29:42.682221",
     "exception": false,
     "start_time": "2023-06-29T16:29:42.643966",
     "status": "completed"
    },
    "tags": []
   },
   "source": [
    "### Shape Errors"
   ]
  },
  {
   "cell_type": "code",
   "execution_count": 48,
   "id": "a6cfcb92",
   "metadata": {
    "execution": {
     "iopub.execute_input": "2023-06-29T16:29:42.763074Z",
     "iopub.status.busy": "2023-06-29T16:29:42.762675Z",
     "iopub.status.idle": "2023-06-29T16:29:42.768303Z",
     "shell.execute_reply": "2023-06-29T16:29:42.767511Z"
    },
    "papermill": {
     "duration": 0.049503,
     "end_time": "2023-06-29T16:29:42.772085",
     "exception": false,
     "start_time": "2023-06-29T16:29:42.722582",
     "status": "completed"
    },
    "tags": []
   },
   "outputs": [],
   "source": [
    "tensor_A = torch.tensor([[1,2],\n",
    "                        [3,4],\n",
    "                        [5,6]])\n",
    "\n",
    "tensor_B =torch.tensor([[7,10],\n",
    "                       [8,11],\n",
    "                       [9,12]])\n",
    "\n",
    "#torch.mm(tensor_A,tensor_B) #(mm is alias for matmul)"
   ]
  },
  {
   "cell_type": "markdown",
   "id": "10a8f673",
   "metadata": {
    "papermill": {
     "duration": 0.037642,
     "end_time": "2023-06-29T16:29:42.847574",
     "exception": false,
     "start_time": "2023-06-29T16:29:42.809932",
     "status": "completed"
    },
    "tags": []
   },
   "source": [
    "To Fix Shape Issues, We can use Transpose \n",
    "\n",
    "A **Transpose** swithches axes or dimensions of given matrix"
   ]
  },
  {
   "cell_type": "code",
   "execution_count": 49,
   "id": "5fd74d24",
   "metadata": {
    "execution": {
     "iopub.execute_input": "2023-06-29T16:29:42.925051Z",
     "iopub.status.busy": "2023-06-29T16:29:42.924691Z",
     "iopub.status.idle": "2023-06-29T16:29:42.931077Z",
     "shell.execute_reply": "2023-06-29T16:29:42.930251Z"
    },
    "papermill": {
     "duration": 0.050917,
     "end_time": "2023-06-29T16:29:42.936277",
     "exception": false,
     "start_time": "2023-06-29T16:29:42.885360",
     "status": "completed"
    },
    "tags": []
   },
   "outputs": [
    {
     "data": {
      "text/plain": [
       "(tensor([[ 7, 10],\n",
       "         [ 8, 11],\n",
       "         [ 9, 12]]),\n",
       " torch.Size([3, 2]))"
      ]
     },
     "execution_count": 49,
     "metadata": {},
     "output_type": "execute_result"
    }
   ],
   "source": [
    "tensor_B, tensor_B.shape"
   ]
  },
  {
   "cell_type": "code",
   "execution_count": 50,
   "id": "71c57933",
   "metadata": {
    "execution": {
     "iopub.execute_input": "2023-06-29T16:29:43.015390Z",
     "iopub.status.busy": "2023-06-29T16:29:43.015054Z",
     "iopub.status.idle": "2023-06-29T16:29:43.021843Z",
     "shell.execute_reply": "2023-06-29T16:29:43.021079Z"
    },
    "papermill": {
     "duration": 0.050921,
     "end_time": "2023-06-29T16:29:43.026660",
     "exception": false,
     "start_time": "2023-06-29T16:29:42.975739",
     "status": "completed"
    },
    "tags": []
   },
   "outputs": [
    {
     "data": {
      "text/plain": [
       "(tensor([[ 7,  8,  9],\n",
       "         [10, 11, 12]]),\n",
       " torch.Size([2, 3]))"
      ]
     },
     "execution_count": 50,
     "metadata": {},
     "output_type": "execute_result"
    }
   ],
   "source": [
    "tensor_B.T, tensor_B.T.shape"
   ]
  },
  {
   "cell_type": "code",
   "execution_count": 51,
   "id": "7d1fb468",
   "metadata": {
    "execution": {
     "iopub.execute_input": "2023-06-29T16:29:43.104432Z",
     "iopub.status.busy": "2023-06-29T16:29:43.104101Z",
     "iopub.status.idle": "2023-06-29T16:29:43.112682Z",
     "shell.execute_reply": "2023-06-29T16:29:43.111890Z"
    },
    "papermill": {
     "duration": 0.051042,
     "end_time": "2023-06-29T16:29:43.115904",
     "exception": false,
     "start_time": "2023-06-29T16:29:43.064862",
     "status": "completed"
    },
    "tags": []
   },
   "outputs": [
    {
     "name": "stdout",
     "output_type": "stream",
     "text": [
      "Initial shape for tensor A torch.Size([3, 2]) and for tensor B torch.Size([3, 2])\n",
      "after transpose torch.Size([2, 3])\n",
      "output : tensor([[ 27,  30,  33],\n",
      "        [ 61,  68,  75],\n",
      "        [ 95, 106, 117]]) and its shape is torch.Size([3, 3])\n"
     ]
    }
   ],
   "source": [
    "print(f'Initial shape for tensor A {tensor_A.shape} and for tensor B {tensor_B.shape}')\n",
    "print(f'after transpose {tensor_B.T.shape}')\n",
    "print(f'output : {torch.matmul(tensor_A,tensor_B.T)} and its shape is {torch.matmul(tensor_A,tensor_B.T).shape}')"
   ]
  },
  {
   "cell_type": "markdown",
   "id": "d36daa54",
   "metadata": {
    "papermill": {
     "duration": 0.036095,
     "end_time": "2023-06-29T16:29:43.190417",
     "exception": false,
     "start_time": "2023-06-29T16:29:43.154322",
     "status": "completed"
    },
    "tags": []
   },
   "source": [
    "## Finding Min. Max. Mean, Sum, etc (tensor aggregation)"
   ]
  },
  {
   "cell_type": "code",
   "execution_count": 52,
   "id": "b3431009",
   "metadata": {
    "execution": {
     "iopub.execute_input": "2023-06-29T16:29:43.247689Z",
     "iopub.status.busy": "2023-06-29T16:29:43.247392Z",
     "iopub.status.idle": "2023-06-29T16:29:43.254079Z",
     "shell.execute_reply": "2023-06-29T16:29:43.253144Z"
    },
    "papermill": {
     "duration": 0.037285,
     "end_time": "2023-06-29T16:29:43.256018",
     "exception": false,
     "start_time": "2023-06-29T16:29:43.218733",
     "status": "completed"
    },
    "tags": []
   },
   "outputs": [
    {
     "data": {
      "text/plain": [
       "tensor([ 0, 10, 20, 30, 40, 50, 60, 70, 80, 90])"
      ]
     },
     "execution_count": 52,
     "metadata": {},
     "output_type": "execute_result"
    }
   ],
   "source": [
    "# Create a tensor\n",
    "x = torch.arange(0,100,10)\n",
    "x"
   ]
  },
  {
   "cell_type": "code",
   "execution_count": 53,
   "id": "2e60ef6f",
   "metadata": {
    "execution": {
     "iopub.execute_input": "2023-06-29T16:29:43.312970Z",
     "iopub.status.busy": "2023-06-29T16:29:43.312241Z",
     "iopub.status.idle": "2023-06-29T16:29:43.319704Z",
     "shell.execute_reply": "2023-06-29T16:29:43.318778Z"
    },
    "papermill": {
     "duration": 0.037813,
     "end_time": "2023-06-29T16:29:43.321614",
     "exception": false,
     "start_time": "2023-06-29T16:29:43.283801",
     "status": "completed"
    },
    "tags": []
   },
   "outputs": [
    {
     "data": {
      "text/plain": [
       "(tensor(0), tensor(0))"
      ]
     },
     "execution_count": 53,
     "metadata": {},
     "output_type": "execute_result"
    }
   ],
   "source": [
    "# Min\n",
    "torch.min(x), x.min()"
   ]
  },
  {
   "cell_type": "code",
   "execution_count": 54,
   "id": "a5fe5717",
   "metadata": {
    "execution": {
     "iopub.execute_input": "2023-06-29T16:29:43.385986Z",
     "iopub.status.busy": "2023-06-29T16:29:43.385695Z",
     "iopub.status.idle": "2023-06-29T16:29:43.392109Z",
     "shell.execute_reply": "2023-06-29T16:29:43.391211Z"
    },
    "papermill": {
     "duration": 0.045044,
     "end_time": "2023-06-29T16:29:43.394530",
     "exception": false,
     "start_time": "2023-06-29T16:29:43.349486",
     "status": "completed"
    },
    "tags": []
   },
   "outputs": [
    {
     "data": {
      "text/plain": [
       "(tensor(90), tensor(90))"
      ]
     },
     "execution_count": 54,
     "metadata": {},
     "output_type": "execute_result"
    }
   ],
   "source": [
    "# Max\n",
    "torch.max(x), x.max()"
   ]
  },
  {
   "cell_type": "code",
   "execution_count": 55,
   "id": "7b2c1c3b",
   "metadata": {
    "execution": {
     "iopub.execute_input": "2023-06-29T16:29:43.452067Z",
     "iopub.status.busy": "2023-06-29T16:29:43.451324Z",
     "iopub.status.idle": "2023-06-29T16:29:43.464538Z",
     "shell.execute_reply": "2023-06-29T16:29:43.463625Z"
    },
    "papermill": {
     "duration": 0.044126,
     "end_time": "2023-06-29T16:29:43.466451",
     "exception": false,
     "start_time": "2023-06-29T16:29:43.422325",
     "status": "completed"
    },
    "tags": []
   },
   "outputs": [
    {
     "data": {
      "text/plain": [
       "(tensor(45., dtype=torch.float16),\n",
       " tensor(45., dtype=torch.float16),\n",
       " tensor(45.))"
      ]
     },
     "execution_count": 55,
     "metadata": {},
     "output_type": "execute_result"
    }
   ],
   "source": [
    "# Mean\n",
    "torch.mean(x.type(torch.float16)) , x.type(torch.float16).mean() , torch.mean(x,dtype=torch.float32)"
   ]
  },
  {
   "cell_type": "code",
   "execution_count": 56,
   "id": "c681f879",
   "metadata": {
    "execution": {
     "iopub.execute_input": "2023-06-29T16:29:43.555567Z",
     "iopub.status.busy": "2023-06-29T16:29:43.555166Z",
     "iopub.status.idle": "2023-06-29T16:29:43.565696Z",
     "shell.execute_reply": "2023-06-29T16:29:43.564512Z"
    },
    "papermill": {
     "duration": 0.062914,
     "end_time": "2023-06-29T16:29:43.568607",
     "exception": false,
     "start_time": "2023-06-29T16:29:43.505693",
     "status": "completed"
    },
    "tags": []
   },
   "outputs": [
    {
     "data": {
      "text/plain": [
       "(tensor(450), tensor(450))"
      ]
     },
     "execution_count": 56,
     "metadata": {},
     "output_type": "execute_result"
    }
   ],
   "source": [
    "# Sum\n",
    "torch.sum(x) , x.sum()"
   ]
  },
  {
   "cell_type": "markdown",
   "id": "77095622",
   "metadata": {
    "papermill": {
     "duration": 0.027989,
     "end_time": "2023-06-29T16:29:43.639654",
     "exception": false,
     "start_time": "2023-06-29T16:29:43.611665",
     "status": "completed"
    },
    "tags": []
   },
   "source": [
    "## Finding Positinal min and max"
   ]
  },
  {
   "cell_type": "code",
   "execution_count": 57,
   "id": "901cad17",
   "metadata": {
    "execution": {
     "iopub.execute_input": "2023-06-29T16:29:43.698179Z",
     "iopub.status.busy": "2023-06-29T16:29:43.697388Z",
     "iopub.status.idle": "2023-06-29T16:29:43.703895Z",
     "shell.execute_reply": "2023-06-29T16:29:43.702932Z"
    },
    "papermill": {
     "duration": 0.037943,
     "end_time": "2023-06-29T16:29:43.705819",
     "exception": false,
     "start_time": "2023-06-29T16:29:43.667876",
     "status": "completed"
    },
    "tags": []
   },
   "outputs": [
    {
     "data": {
      "text/plain": [
       "tensor([ 1, 11, 21, 31, 41, 51, 61, 71, 81, 91])"
      ]
     },
     "execution_count": 57,
     "metadata": {},
     "output_type": "execute_result"
    }
   ],
   "source": [
    "x+1"
   ]
  },
  {
   "cell_type": "code",
   "execution_count": 58,
   "id": "97f8aeee",
   "metadata": {
    "execution": {
     "iopub.execute_input": "2023-06-29T16:29:43.763945Z",
     "iopub.status.busy": "2023-06-29T16:29:43.763217Z",
     "iopub.status.idle": "2023-06-29T16:29:43.772433Z",
     "shell.execute_reply": "2023-06-29T16:29:43.771366Z"
    },
    "papermill": {
     "duration": 0.040476,
     "end_time": "2023-06-29T16:29:43.774503",
     "exception": false,
     "start_time": "2023-06-29T16:29:43.734027",
     "status": "completed"
    },
    "tags": []
   },
   "outputs": [
    {
     "name": "stdout",
     "output_type": "stream",
     "text": [
      "location :  tensor(0)\n",
      "element at location :  tensor(1)\n"
     ]
    }
   ],
   "source": [
    "# Position in tensor where minimum value exists\n",
    "print('location : ',(x+1).argmin())\n",
    "print('element at location : ',(x+1)[(x+1).argmin()])"
   ]
  },
  {
   "cell_type": "code",
   "execution_count": 59,
   "id": "6c27aae2",
   "metadata": {
    "execution": {
     "iopub.execute_input": "2023-06-29T16:29:43.832622Z",
     "iopub.status.busy": "2023-06-29T16:29:43.832349Z",
     "iopub.status.idle": "2023-06-29T16:29:43.838254Z",
     "shell.execute_reply": "2023-06-29T16:29:43.837253Z"
    },
    "papermill": {
     "duration": 0.0371,
     "end_time": "2023-06-29T16:29:43.840175",
     "exception": false,
     "start_time": "2023-06-29T16:29:43.803075",
     "status": "completed"
    },
    "tags": []
   },
   "outputs": [
    {
     "name": "stdout",
     "output_type": "stream",
     "text": [
      "location :  tensor(9)\n",
      "element at location :  tensor(91)\n"
     ]
    }
   ],
   "source": [
    "# Position in tensor where maximum value exists\n",
    "print('location : ',(x+1).argmax())\n",
    "print('element at location : ',(x+1)[(x+1).argmax()])"
   ]
  },
  {
   "cell_type": "markdown",
   "id": "baf7107f",
   "metadata": {
    "papermill": {
     "duration": 0.028258,
     "end_time": "2023-06-29T16:29:43.896712",
     "exception": false,
     "start_time": "2023-06-29T16:29:43.868454",
     "status": "completed"
    },
    "tags": []
   },
   "source": [
    "## Reshaping, Stacking, Squeezing and Unsqueezing tensor\n",
    "\n",
    "* Reshaping - reshapes input tensor to defined shape\n",
    "* View - Returns a view of input tensor of certain shape but keeps same memory as original\n",
    "* Stacking - Combine Multiple tensors on top of each other (vstack) or side by side (hstack)\n",
    "* Squeeze - **removes unit** dimension from tensor\n",
    "* Unsqueeze - **adds one** dimension to tensor\n",
    "* Permute - Reaturn a view of input with Dimension Permuted (swapped) in certain way "
   ]
  },
  {
   "cell_type": "code",
   "execution_count": 60,
   "id": "a6367ee2",
   "metadata": {
    "execution": {
     "iopub.execute_input": "2023-06-29T16:29:43.954621Z",
     "iopub.status.busy": "2023-06-29T16:29:43.954347Z",
     "iopub.status.idle": "2023-06-29T16:29:43.961355Z",
     "shell.execute_reply": "2023-06-29T16:29:43.960432Z"
    },
    "papermill": {
     "duration": 0.038211,
     "end_time": "2023-06-29T16:29:43.963275",
     "exception": false,
     "start_time": "2023-06-29T16:29:43.925064",
     "status": "completed"
    },
    "tags": []
   },
   "outputs": [
    {
     "data": {
      "text/plain": [
       "(tensor([1., 2., 3., 4., 5., 6., 7., 8., 9.]), torch.Size([9]))"
      ]
     },
     "execution_count": 60,
     "metadata": {},
     "output_type": "execute_result"
    }
   ],
   "source": [
    "# Create Tensor\n",
    "x = torch.arange(1.,10.)\n",
    "x , x.shape"
   ]
  },
  {
   "cell_type": "code",
   "execution_count": 61,
   "id": "d79c61dd",
   "metadata": {
    "execution": {
     "iopub.execute_input": "2023-06-29T16:29:44.021993Z",
     "iopub.status.busy": "2023-06-29T16:29:44.021256Z",
     "iopub.status.idle": "2023-06-29T16:29:44.027788Z",
     "shell.execute_reply": "2023-06-29T16:29:44.026520Z"
    },
    "papermill": {
     "duration": 0.03769,
     "end_time": "2023-06-29T16:29:44.029702",
     "exception": false,
     "start_time": "2023-06-29T16:29:43.992012",
     "status": "completed"
    },
    "tags": []
   },
   "outputs": [
    {
     "name": "stdout",
     "output_type": "stream",
     "text": [
      "torch.Size([9])\n",
      "tensor([[1.],\n",
      "        [2.],\n",
      "        [3.],\n",
      "        [4.],\n",
      "        [5.],\n",
      "        [6.],\n",
      "        [7.],\n",
      "        [8.],\n",
      "        [9.]])\n",
      "torch.Size([9, 1])\n"
     ]
    }
   ],
   "source": [
    "# Add extra dimension\n",
    "x_reshaped = x.reshape(9,1)\n",
    "print(x.size())\n",
    "print(x_reshaped)\n",
    "print(x_reshaped.size())"
   ]
  },
  {
   "cell_type": "code",
   "execution_count": 62,
   "id": "a9682af8",
   "metadata": {
    "execution": {
     "iopub.execute_input": "2023-06-29T16:29:44.088367Z",
     "iopub.status.busy": "2023-06-29T16:29:44.087574Z",
     "iopub.status.idle": "2023-06-29T16:29:44.094513Z",
     "shell.execute_reply": "2023-06-29T16:29:44.093590Z"
    },
    "papermill": {
     "duration": 0.038123,
     "end_time": "2023-06-29T16:29:44.096442",
     "exception": false,
     "start_time": "2023-06-29T16:29:44.058319",
     "status": "completed"
    },
    "tags": []
   },
   "outputs": [
    {
     "data": {
      "text/plain": [
       "(tensor([[1., 2., 3.],\n",
       "         [4., 5., 6.],\n",
       "         [7., 8., 9.]]),\n",
       " torch.Size([3, 3]))"
      ]
     },
     "execution_count": 62,
     "metadata": {},
     "output_type": "execute_result"
    }
   ],
   "source": [
    "# Change View\n",
    "z = x.view(3,3)\n",
    "z, z.shape"
   ]
  },
  {
   "cell_type": "code",
   "execution_count": 63,
   "id": "4eb0dd1f",
   "metadata": {
    "execution": {
     "iopub.execute_input": "2023-06-29T16:29:44.155389Z",
     "iopub.status.busy": "2023-06-29T16:29:44.154563Z",
     "iopub.status.idle": "2023-06-29T16:29:44.165108Z",
     "shell.execute_reply": "2023-06-29T16:29:44.164197Z"
    },
    "papermill": {
     "duration": 0.04202,
     "end_time": "2023-06-29T16:29:44.167027",
     "exception": false,
     "start_time": "2023-06-29T16:29:44.125007",
     "status": "completed"
    },
    "tags": []
   },
   "outputs": [
    {
     "data": {
      "text/plain": [
       "(tensor([[5., 2., 3.],\n",
       "         [5., 5., 6.],\n",
       "         [5., 8., 9.]]),\n",
       " tensor([5., 2., 3., 5., 5., 6., 5., 8., 9.]))"
      ]
     },
     "execution_count": 63,
     "metadata": {},
     "output_type": "execute_result"
    }
   ],
   "source": [
    "# Changing z changes x because it shares same memory as original but doesnt affect the shape\n",
    "z[:,0]=5\n",
    "z, x"
   ]
  },
  {
   "cell_type": "code",
   "execution_count": 64,
   "id": "74793757",
   "metadata": {
    "execution": {
     "iopub.execute_input": "2023-06-29T16:29:44.226488Z",
     "iopub.status.busy": "2023-06-29T16:29:44.226232Z",
     "iopub.status.idle": "2023-06-29T16:29:44.233785Z",
     "shell.execute_reply": "2023-06-29T16:29:44.232890Z"
    },
    "papermill": {
     "duration": 0.039209,
     "end_time": "2023-06-29T16:29:44.235715",
     "exception": false,
     "start_time": "2023-06-29T16:29:44.196506",
     "status": "completed"
    },
    "tags": []
   },
   "outputs": [
    {
     "data": {
      "text/plain": [
       "tensor([[5., 2., 3., 5., 5., 6., 5., 8., 9.],\n",
       "        [5., 2., 3., 5., 5., 6., 5., 8., 9.],\n",
       "        [5., 2., 3., 5., 5., 6., 5., 8., 9.],\n",
       "        [5., 2., 3., 5., 5., 6., 5., 8., 9.]])"
      ]
     },
     "execution_count": 64,
     "metadata": {},
     "output_type": "execute_result"
    }
   ],
   "source": [
    "# Stack tensors\n",
    "x_stacked = torch.stack([x, x, x, x], dim=0)\n",
    "x_stacked"
   ]
  },
  {
   "cell_type": "code",
   "execution_count": 65,
   "id": "a765bd68",
   "metadata": {
    "execution": {
     "iopub.execute_input": "2023-06-29T16:29:44.295737Z",
     "iopub.status.busy": "2023-06-29T16:29:44.294395Z",
     "iopub.status.idle": "2023-06-29T16:29:44.301782Z",
     "shell.execute_reply": "2023-06-29T16:29:44.300843Z"
    },
    "papermill": {
     "duration": 0.03909,
     "end_time": "2023-06-29T16:29:44.303702",
     "exception": false,
     "start_time": "2023-06-29T16:29:44.264612",
     "status": "completed"
    },
    "tags": []
   },
   "outputs": [
    {
     "name": "stdout",
     "output_type": "stream",
     "text": [
      "Previouse tensor : tensor([[5.],\n",
      "        [2.],\n",
      "        [3.],\n",
      "        [5.],\n",
      "        [5.],\n",
      "        [6.],\n",
      "        [5.],\n",
      "        [8.],\n",
      "        [9.]])\n",
      "Previoe shape : torch.Size([9, 1])\n",
      "\n",
      "New tensor : tensor([5., 2., 3., 5., 5., 6., 5., 8., 9.])\n",
      "New Shape : torch.Size([9])\n"
     ]
    }
   ],
   "source": [
    "# torch.squeeze() - removes all single dimensions from target tensor\n",
    "print(f\"Previouse tensor : {x_reshaped}\")\n",
    "print(f\"Previoe shape : {x_reshaped.shape}\")\n",
    "\n",
    "# Remove extra dimension from x_reshaped\n",
    "x_squeezed = x_reshaped.squeeze()\n",
    "print(f\"\\nNew tensor : {x_squeezed}\")\n",
    "print(f\"New Shape : {x_squeezed.shape}\")\n",
    "\n"
   ]
  },
  {
   "cell_type": "code",
   "execution_count": 66,
   "id": "c919ff6b",
   "metadata": {
    "execution": {
     "iopub.execute_input": "2023-06-29T16:29:44.363836Z",
     "iopub.status.busy": "2023-06-29T16:29:44.362455Z",
     "iopub.status.idle": "2023-06-29T16:29:44.369439Z",
     "shell.execute_reply": "2023-06-29T16:29:44.368531Z"
    },
    "papermill": {
     "duration": 0.038932,
     "end_time": "2023-06-29T16:29:44.371470",
     "exception": false,
     "start_time": "2023-06-29T16:29:44.332538",
     "status": "completed"
    },
    "tags": []
   },
   "outputs": [
    {
     "data": {
      "text/plain": [
       "tensor([5., 2., 3., 5., 5., 6., 5., 8., 9.])"
      ]
     },
     "execution_count": 66,
     "metadata": {},
     "output_type": "execute_result"
    }
   ],
   "source": [
    "x_reshaped.squeeze()"
   ]
  },
  {
   "cell_type": "code",
   "execution_count": 67,
   "id": "606f0bfa",
   "metadata": {
    "execution": {
     "iopub.execute_input": "2023-06-29T16:29:44.431439Z",
     "iopub.status.busy": "2023-06-29T16:29:44.430637Z",
     "iopub.status.idle": "2023-06-29T16:29:44.439169Z",
     "shell.execute_reply": "2023-06-29T16:29:44.437904Z"
    },
    "papermill": {
     "duration": 0.040436,
     "end_time": "2023-06-29T16:29:44.441113",
     "exception": false,
     "start_time": "2023-06-29T16:29:44.400677",
     "status": "completed"
    },
    "tags": []
   },
   "outputs": [
    {
     "name": "stdout",
     "output_type": "stream",
     "text": [
      "Previous target : tensor([5., 2., 3., 5., 5., 6., 5., 8., 9.])\n",
      "Previous Shape : torch.Size([9])\n",
      "\n",
      "New tensor : tensor([[5., 2., 3., 5., 5., 6., 5., 8., 9.]])\n",
      "New Shape : torch.Size([1, 9])\n"
     ]
    }
   ],
   "source": [
    "# torch.unsqueeze() - adds a single dimension to a target tensor at a specific dimension\n",
    "print(f\"Previous target : {x_squeezed}\")\n",
    "print(f\"Previous Shape : {x_squeezed.shape}\")\n",
    "\n",
    "# Adding dimension to x_reshaped\n",
    "x_unsqueezed = x_squeezed.unsqueeze(dim=-0)\n",
    "print(f\"\\nNew tensor : {x_unsqueezed}\")\n",
    "print(f\"New Shape : {x_unsqueezed.shape}\")"
   ]
  },
  {
   "cell_type": "code",
   "execution_count": 68,
   "id": "38359e94",
   "metadata": {
    "execution": {
     "iopub.execute_input": "2023-06-29T16:29:44.504405Z",
     "iopub.status.busy": "2023-06-29T16:29:44.504111Z",
     "iopub.status.idle": "2023-06-29T16:29:44.511722Z",
     "shell.execute_reply": "2023-06-29T16:29:44.510508Z"
    },
    "papermill": {
     "duration": 0.040119,
     "end_time": "2023-06-29T16:29:44.513866",
     "exception": false,
     "start_time": "2023-06-29T16:29:44.473747",
     "status": "completed"
    },
    "tags": []
   },
   "outputs": [
    {
     "name": "stdout",
     "output_type": "stream",
     "text": [
      "Shape before Permute : torch.Size([224, 224, 3])\n",
      "Shape after Permute : torch.Size([3, 224, 224])\n"
     ]
    }
   ],
   "source": [
    "# torch.permute - rearrages the dimension of a traget tensor in a specified order\n",
    "x_original = torch.rand(size=(224,224,3)) \n",
    "print(f\"Shape before Permute : {x_original.shape}\") #[height, width, color_channel]\n",
    "\n",
    "# Premute the original tensor to rearrage the axis\n",
    "x_permuted = x_original.permute(2,0,1) # shifts axis 0 -> 1, 1 -> 2, 2 -> 0\n",
    "print(f\"Shape after Permute : {x_permuted.shape}\") #[color_channel, height, width]"
   ]
  },
  {
   "cell_type": "markdown",
   "id": "45f1213e",
   "metadata": {
    "papermill": {
     "duration": 0.02901,
     "end_time": "2023-06-29T16:29:44.572871",
     "exception": false,
     "start_time": "2023-06-29T16:29:44.543861",
     "status": "completed"
    },
    "tags": []
   },
   "source": [
    "## Indexing (selecting data from tensors)\n",
    "Indexing is same as numpy"
   ]
  },
  {
   "cell_type": "code",
   "execution_count": 69,
   "id": "5e2da1a8",
   "metadata": {
    "execution": {
     "iopub.execute_input": "2023-06-29T16:29:44.633382Z",
     "iopub.status.busy": "2023-06-29T16:29:44.632551Z",
     "iopub.status.idle": "2023-06-29T16:29:44.639503Z",
     "shell.execute_reply": "2023-06-29T16:29:44.638576Z"
    },
    "papermill": {
     "duration": 0.03898,
     "end_time": "2023-06-29T16:29:44.641445",
     "exception": false,
     "start_time": "2023-06-29T16:29:44.602465",
     "status": "completed"
    },
    "tags": []
   },
   "outputs": [
    {
     "data": {
      "text/plain": [
       "(tensor([[[1, 2, 3],\n",
       "          [4, 5, 6],\n",
       "          [7, 8, 9]]]),\n",
       " torch.Size([1, 3, 3]))"
      ]
     },
     "execution_count": 69,
     "metadata": {},
     "output_type": "execute_result"
    }
   ],
   "source": [
    "# Create a tensor\n",
    "x= torch.arange(1,10).reshape(1,3,3)\n",
    "x, x.shape"
   ]
  },
  {
   "cell_type": "code",
   "execution_count": 70,
   "id": "9901e6e3",
   "metadata": {
    "execution": {
     "iopub.execute_input": "2023-06-29T16:29:44.702772Z",
     "iopub.status.busy": "2023-06-29T16:29:44.701882Z",
     "iopub.status.idle": "2023-06-29T16:29:44.708421Z",
     "shell.execute_reply": "2023-06-29T16:29:44.707471Z"
    },
    "papermill": {
     "duration": 0.039049,
     "end_time": "2023-06-29T16:29:44.710367",
     "exception": false,
     "start_time": "2023-06-29T16:29:44.671318",
     "status": "completed"
    },
    "tags": []
   },
   "outputs": [
    {
     "data": {
      "text/plain": [
       "tensor([[1, 2, 3],\n",
       "        [4, 5, 6],\n",
       "        [7, 8, 9]])"
      ]
     },
     "execution_count": 70,
     "metadata": {},
     "output_type": "execute_result"
    }
   ],
   "source": [
    "# Indexing new tensor\n",
    "x[0]"
   ]
  },
  {
   "cell_type": "code",
   "execution_count": 71,
   "id": "17e2bc64",
   "metadata": {
    "execution": {
     "iopub.execute_input": "2023-06-29T16:29:44.771171Z",
     "iopub.status.busy": "2023-06-29T16:29:44.770398Z",
     "iopub.status.idle": "2023-06-29T16:29:44.776557Z",
     "shell.execute_reply": "2023-06-29T16:29:44.775612Z"
    },
    "papermill": {
     "duration": 0.038594,
     "end_time": "2023-06-29T16:29:44.778458",
     "exception": false,
     "start_time": "2023-06-29T16:29:44.739864",
     "status": "completed"
    },
    "tags": []
   },
   "outputs": [
    {
     "data": {
      "text/plain": [
       "tensor(5)"
      ]
     },
     "execution_count": 71,
     "metadata": {},
     "output_type": "execute_result"
    }
   ],
   "source": [
    "# Index on middle bracket (dim=1)\n",
    "x[0,1,1]"
   ]
  },
  {
   "cell_type": "code",
   "execution_count": 72,
   "id": "c1c4f182",
   "metadata": {
    "execution": {
     "iopub.execute_input": "2023-06-29T16:29:44.839393Z",
     "iopub.status.busy": "2023-06-29T16:29:44.838655Z",
     "iopub.status.idle": "2023-06-29T16:29:44.844780Z",
     "shell.execute_reply": "2023-06-29T16:29:44.843878Z"
    },
    "papermill": {
     "duration": 0.038628,
     "end_time": "2023-06-29T16:29:44.846690",
     "exception": false,
     "start_time": "2023-06-29T16:29:44.808062",
     "status": "completed"
    },
    "tags": []
   },
   "outputs": [
    {
     "data": {
      "text/plain": [
       "tensor([[1, 2, 3]])"
      ]
     },
     "execution_count": 72,
     "metadata": {},
     "output_type": "execute_result"
    }
   ],
   "source": [
    "# \":\" to select all target dimension\n",
    "x[:,0]"
   ]
  },
  {
   "cell_type": "code",
   "execution_count": 73,
   "id": "4220bf86",
   "metadata": {
    "execution": {
     "iopub.execute_input": "2023-06-29T16:29:44.907868Z",
     "iopub.status.busy": "2023-06-29T16:29:44.907126Z",
     "iopub.status.idle": "2023-06-29T16:29:44.913469Z",
     "shell.execute_reply": "2023-06-29T16:29:44.912504Z"
    },
    "papermill": {
     "duration": 0.039035,
     "end_time": "2023-06-29T16:29:44.915375",
     "exception": false,
     "start_time": "2023-06-29T16:29:44.876340",
     "status": "completed"
    },
    "tags": []
   },
   "outputs": [
    {
     "name": "stdout",
     "output_type": "stream",
     "text": [
      "tensor([[2, 5, 8]])\n",
      "tensor([1, 2, 3])\n",
      "tensor([4, 5, 6])\n"
     ]
    }
   ],
   "source": [
    "# Practice\n",
    "print(x[:,:,1])\n",
    "print(x[0,0,:])\n",
    "print(x[0,1,:])"
   ]
  },
  {
   "cell_type": "markdown",
   "id": "eb880338",
   "metadata": {
    "papermill": {
     "duration": 0.029711,
     "end_time": "2023-06-29T16:29:44.975119",
     "exception": false,
     "start_time": "2023-06-29T16:29:44.945408",
     "status": "completed"
    },
    "tags": []
   },
   "source": [
    "## Pytorch tensors & Numpy\n",
    "\n",
    "Pytorch interacting with Numpy\n",
    "\n",
    "* Convert data from Numpy to Tensor -> `torch.from_numpy(ndarray)`\n",
    "* Convert data from Tensor to Numpy -> `torch.Tensor.numpy()`"
   ]
  },
  {
   "cell_type": "code",
   "execution_count": 74,
   "id": "576109c2",
   "metadata": {
    "execution": {
     "iopub.execute_input": "2023-06-29T16:29:45.036309Z",
     "iopub.status.busy": "2023-06-29T16:29:45.035559Z",
     "iopub.status.idle": "2023-06-29T16:29:45.043554Z",
     "shell.execute_reply": "2023-06-29T16:29:45.042596Z"
    },
    "papermill": {
     "duration": 0.040666,
     "end_time": "2023-06-29T16:29:45.045707",
     "exception": false,
     "start_time": "2023-06-29T16:29:45.005041",
     "status": "completed"
    },
    "tags": []
   },
   "outputs": [
    {
     "data": {
      "text/plain": [
       "(array([1., 2., 3., 4., 5., 6., 7.]), tensor([1., 2., 3., 4., 5., 6., 7.]))"
      ]
     },
     "execution_count": 74,
     "metadata": {},
     "output_type": "execute_result"
    }
   ],
   "source": [
    "# Numpy Array -> Tensor\n",
    "import numpy as np\n",
    "import torch\n",
    "\n",
    "array = np.arange(1.0,8.0)\n",
    "tensor = torch.from_numpy(array).type(torch.float32) # warning: when converting from numpy -> tensor, pytorch copies same datatype from numpy viz. float64 unless changed (default dtype of tensor is float32) \n",
    "array, tensor"
   ]
  },
  {
   "cell_type": "code",
   "execution_count": 75,
   "id": "d089fed7",
   "metadata": {
    "execution": {
     "iopub.execute_input": "2023-06-29T16:29:45.107657Z",
     "iopub.status.busy": "2023-06-29T16:29:45.106928Z",
     "iopub.status.idle": "2023-06-29T16:29:45.112110Z",
     "shell.execute_reply": "2023-06-29T16:29:45.111164Z"
    },
    "papermill": {
     "duration": 0.037756,
     "end_time": "2023-06-29T16:29:45.114048",
     "exception": false,
     "start_time": "2023-06-29T16:29:45.076292",
     "status": "completed"
    },
    "tags": []
   },
   "outputs": [
    {
     "name": "stdout",
     "output_type": "stream",
     "text": [
      "float64\n",
      "torch.float32\n"
     ]
    }
   ],
   "source": [
    "print(array.dtype)\n",
    "print(tensor.dtype)"
   ]
  },
  {
   "cell_type": "code",
   "execution_count": 76,
   "id": "5aaa7cca",
   "metadata": {
    "execution": {
     "iopub.execute_input": "2023-06-29T16:29:45.175512Z",
     "iopub.status.busy": "2023-06-29T16:29:45.174778Z",
     "iopub.status.idle": "2023-06-29T16:29:45.181816Z",
     "shell.execute_reply": "2023-06-29T16:29:45.180912Z"
    },
    "papermill": {
     "duration": 0.039795,
     "end_time": "2023-06-29T16:29:45.183875",
     "exception": false,
     "start_time": "2023-06-29T16:29:45.144080",
     "status": "completed"
    },
    "tags": []
   },
   "outputs": [
    {
     "data": {
      "text/plain": [
       "(array([2., 3., 4., 5., 6., 7., 8.]), tensor([1., 2., 3., 4., 5., 6., 7.]))"
      ]
     },
     "execution_count": 76,
     "metadata": {},
     "output_type": "execute_result"
    }
   ],
   "source": [
    "# Changing the value of array, does this affect tensor ?\n",
    "array = array + 1\n",
    "array,tensor\n",
    "# NO"
   ]
  },
  {
   "cell_type": "code",
   "execution_count": 77,
   "id": "1692b0cc",
   "metadata": {
    "execution": {
     "iopub.execute_input": "2023-06-29T16:29:45.246643Z",
     "iopub.status.busy": "2023-06-29T16:29:45.245891Z",
     "iopub.status.idle": "2023-06-29T16:29:45.253207Z",
     "shell.execute_reply": "2023-06-29T16:29:45.252319Z"
    },
    "papermill": {
     "duration": 0.040368,
     "end_time": "2023-06-29T16:29:45.255142",
     "exception": false,
     "start_time": "2023-06-29T16:29:45.214774",
     "status": "completed"
    },
    "tags": []
   },
   "outputs": [
    {
     "data": {
      "text/plain": [
       "(tensor([1., 1., 1., 1., 1., 1., 1.]),\n",
       " array([1., 1., 1., 1., 1., 1., 1.], dtype=float32))"
      ]
     },
     "execution_count": 77,
     "metadata": {},
     "output_type": "execute_result"
    }
   ],
   "source": [
    "# Tensor -> Numpy array\n",
    "tensor = torch.ones(7)\n",
    "array = tensor.numpy() # datatype remains same as tensor's\n",
    "tensor, array"
   ]
  },
  {
   "cell_type": "code",
   "execution_count": 78,
   "id": "ba255301",
   "metadata": {
    "execution": {
     "iopub.execute_input": "2023-06-29T16:29:45.317620Z",
     "iopub.status.busy": "2023-06-29T16:29:45.316869Z",
     "iopub.status.idle": "2023-06-29T16:29:45.323849Z",
     "shell.execute_reply": "2023-06-29T16:29:45.322949Z"
    },
    "papermill": {
     "duration": 0.039954,
     "end_time": "2023-06-29T16:29:45.325765",
     "exception": false,
     "start_time": "2023-06-29T16:29:45.285811",
     "status": "completed"
    },
    "tags": []
   },
   "outputs": [
    {
     "data": {
      "text/plain": [
       "(tensor([2., 2., 2., 2., 2., 2., 2.]),\n",
       " array([1., 1., 1., 1., 1., 1., 1.], dtype=float32))"
      ]
     },
     "execution_count": 78,
     "metadata": {},
     "output_type": "execute_result"
    }
   ],
   "source": [
    " # Changing the value of tensor, does this affect array ?\n",
    "tensor = tensor + 1\n",
    "tensor,array\n",
    "# NO"
   ]
  },
  {
   "cell_type": "markdown",
   "id": "ed2bb183",
   "metadata": {
    "papermill": {
     "duration": 0.030477,
     "end_time": "2023-06-29T16:29:45.386597",
     "exception": false,
     "start_time": "2023-06-29T16:29:45.356120",
     "status": "completed"
    },
    "tags": []
   },
   "source": [
    "## Reproducbility (trying to take random out of random)\n",
    "How Neural Network Work ?\n",
    "\n",
    "` Start with random nos. -> tensor operation -> update random nos. to try and malke them better represntation of data -> repeat -> repeat -> repeat ...`\n",
    "\n",
    "To reduce the randomness in Neural Network we use **Random Seed**.\n",
    "\n",
    "Essentially whta random seed does is **flavour** the randomness.\n",
    "\n",
    "ref - \n",
    "* https://pytorch.org/docs/stable/notes/randomness.html\n",
    "* https://en.wikipedia.org/wiki/Random_seed"
   ]
  },
  {
   "cell_type": "code",
   "execution_count": 79,
   "id": "8e8aa456",
   "metadata": {
    "execution": {
     "iopub.execute_input": "2023-06-29T16:29:45.449004Z",
     "iopub.status.busy": "2023-06-29T16:29:45.448265Z",
     "iopub.status.idle": "2023-06-29T16:29:45.455527Z",
     "shell.execute_reply": "2023-06-29T16:29:45.454620Z"
    },
    "papermill": {
     "duration": 0.040555,
     "end_time": "2023-06-29T16:29:45.457475",
     "exception": false,
     "start_time": "2023-06-29T16:29:45.416920",
     "status": "completed"
    },
    "tags": []
   },
   "outputs": [
    {
     "name": "stdout",
     "output_type": "stream",
     "text": [
      "tensor([[0.5170, 0.5150, 0.9309],\n",
      "        [0.0901, 0.7216, 0.8252],\n",
      "        [0.0771, 0.3199, 0.9617],\n",
      "        [0.8120, 0.3538, 0.4236]])\n",
      "tensor([[0.4475, 0.2074, 0.2857],\n",
      "        [0.3076, 0.9464, 0.0844],\n",
      "        [0.9948, 0.8627, 0.7993],\n",
      "        [0.0283, 0.1520, 0.9666]])\n",
      "tensor([[False, False, False],\n",
      "        [False, False, False],\n",
      "        [False, False, False],\n",
      "        [False, False, False]])\n"
     ]
    }
   ],
   "source": [
    "#  Create 2 tensors\n",
    "\n",
    "random_tensor_A = torch.rand(4,3)\n",
    "random_tensor_B = torch.rand(4,3)\n",
    "\n",
    "print(random_tensor_A)\n",
    "print(random_tensor_B)\n",
    "print(random_tensor_A==random_tensor_B)"
   ]
  },
  {
   "cell_type": "code",
   "execution_count": 80,
   "id": "27388a34",
   "metadata": {
    "execution": {
     "iopub.execute_input": "2023-06-29T16:29:45.523160Z",
     "iopub.status.busy": "2023-06-29T16:29:45.522320Z",
     "iopub.status.idle": "2023-06-29T16:29:45.533766Z",
     "shell.execute_reply": "2023-06-29T16:29:45.532841Z"
    },
    "papermill": {
     "duration": 0.04563,
     "end_time": "2023-06-29T16:29:45.535724",
     "exception": false,
     "start_time": "2023-06-29T16:29:45.490094",
     "status": "completed"
    },
    "tags": []
   },
   "outputs": [
    {
     "name": "stdout",
     "output_type": "stream",
     "text": [
      "tensor([[0.8823, 0.9150, 0.3829],\n",
      "        [0.9593, 0.3904, 0.6009],\n",
      "        [0.2566, 0.7936, 0.9408],\n",
      "        [0.1332, 0.9346, 0.5936]])\n",
      "tensor([[0.8823, 0.9150, 0.3829],\n",
      "        [0.9593, 0.3904, 0.6009],\n",
      "        [0.2566, 0.7936, 0.9408],\n",
      "        [0.1332, 0.9346, 0.5936]])\n",
      "tensor([[True, True, True],\n",
      "        [True, True, True],\n",
      "        [True, True, True],\n",
      "        [True, True, True]])\n"
     ]
    }
   ],
   "source": [
    "# Random but reproducable tensors\n",
    "import torch\n",
    "\n",
    "# Set random seed\n",
    "RANDOM_SEED = 42\n",
    "torch.manual_seed(RANDOM_SEED) # Set the random seed every time we call rand function\n",
    "random_tensor_C = torch.rand(4,3)\n",
    "\n",
    "torch.manual_seed(RANDOM_SEED)\n",
    "random_tensor_D = torch.rand(4,3)\n",
    "\n",
    "print(random_tensor_C)\n",
    "print(random_tensor_D)\n",
    "print(random_tensor_C==random_tensor_D)"
   ]
  },
  {
   "cell_type": "markdown",
   "id": "23468812",
   "metadata": {
    "papermill": {
     "duration": 0.030449,
     "end_time": "2023-06-29T16:29:45.596716",
     "exception": false,
     "start_time": "2023-06-29T16:29:45.566267",
     "status": "completed"
    },
    "tags": []
   },
   "source": [
    "## Running tensors and Pytorch on GPU (Making it Faster)\n",
    "\n",
    "Gpus = faster computation with Cuda and Nvidia hardware"
   ]
  },
  {
   "cell_type": "markdown",
   "id": "a7627ca7",
   "metadata": {
    "papermill": {
     "duration": 0.030401,
     "end_time": "2023-06-29T16:29:45.657676",
     "exception": false,
     "start_time": "2023-06-29T16:29:45.627275",
     "status": "completed"
    },
    "tags": []
   },
   "source": [
    "### 1. Getting a GPU\n",
    "\n",
    "1. Easiest is Google Colab and Kaggle"
   ]
  },
  {
   "cell_type": "code",
   "execution_count": null,
   "id": "ac575503",
   "metadata": {
    "papermill": {
     "duration": 0.030404,
     "end_time": "2023-06-29T16:29:45.718792",
     "exception": false,
     "start_time": "2023-06-29T16:29:45.688388",
     "status": "completed"
    },
    "tags": []
   },
   "outputs": [],
   "source": []
  }
 ],
 "metadata": {
  "kernelspec": {
   "display_name": "Python 3",
   "language": "python",
   "name": "python3"
  },
  "language_info": {
   "codemirror_mode": {
    "name": "ipython",
    "version": 3
   },
   "file_extension": ".py",
   "mimetype": "text/x-python",
   "name": "python",
   "nbconvert_exporter": "python",
   "pygments_lexer": "ipython3",
   "version": "3.10.10"
  },
  "papermill": {
   "default_parameters": {},
   "duration": 21.799749,
   "end_time": "2023-06-29T16:29:47.170838",
   "environment_variables": {},
   "exception": null,
   "input_path": "__notebook__.ipynb",
   "output_path": "__notebook__.ipynb",
   "parameters": {},
   "start_time": "2023-06-29T16:29:25.371089",
   "version": "2.4.0"
  }
 },
 "nbformat": 4,
 "nbformat_minor": 5
}
