{
 "cells": [
  {
   "cell_type": "code",
   "execution_count": 1,
   "id": "5a83060e",
   "metadata": {
    "_cell_guid": "b1076dfc-b9ad-4769-8c92-a6c4dae69d19",
    "_uuid": "8f2839f25d086af736a60e9eeb907d3b93b6e0e5",
    "execution": {
     "iopub.execute_input": "2023-06-29T07:08:52.281331Z",
     "iopub.status.busy": "2023-06-29T07:08:52.280361Z",
     "iopub.status.idle": "2023-06-29T07:08:55.557375Z",
     "shell.execute_reply": "2023-06-29T07:08:55.556497Z"
    },
    "papermill": {
     "duration": 3.300407,
     "end_time": "2023-06-29T07:08:55.559877",
     "exception": false,
     "start_time": "2023-06-29T07:08:52.259470",
     "status": "completed"
    },
    "tags": []
   },
   "outputs": [
    {
     "data": {
      "text/plain": [
       "'2.0.0'"
      ]
     },
     "execution_count": 1,
     "metadata": {},
     "output_type": "execute_result"
    }
   ],
   "source": [
    "import torch\n",
    "import pandas as pd\n",
    "import numpy as np\n",
    "import matplotlib.pyplot as plt\n",
    "torch.__version__"
   ]
  },
  {
   "cell_type": "markdown",
   "id": "addc5936",
   "metadata": {
    "execution": {
     "iopub.execute_input": "2023-06-25T15:31:29.081596Z",
     "iopub.status.busy": "2023-06-25T15:31:29.081220Z",
     "iopub.status.idle": "2023-06-25T15:31:29.086052Z",
     "shell.execute_reply": "2023-06-25T15:31:29.085102Z",
     "shell.execute_reply.started": "2023-06-25T15:31:29.081561Z"
    },
    "papermill": {
     "duration": 0.018888,
     "end_time": "2023-06-29T07:08:55.597509",
     "exception": false,
     "start_time": "2023-06-29T07:08:55.578621",
     "status": "completed"
    },
    "tags": []
   },
   "source": [
    "## Introduction to Tensor\n",
    "\n",
    "### Creating Tensors\n",
    "\n",
    "PyTorch tensor are create using torch.Tensor()\n",
    "\n",
    "ref - https://pytorch.org/docs/stable/tensors.html"
   ]
  },
  {
   "cell_type": "code",
   "execution_count": 2,
   "id": "70666eaa",
   "metadata": {
    "execution": {
     "iopub.execute_input": "2023-06-29T07:08:55.637266Z",
     "iopub.status.busy": "2023-06-29T07:08:55.636742Z",
     "iopub.status.idle": "2023-06-29T07:08:55.667248Z",
     "shell.execute_reply": "2023-06-29T07:08:55.666261Z"
    },
    "papermill": {
     "duration": 0.053167,
     "end_time": "2023-06-29T07:08:55.669451",
     "exception": false,
     "start_time": "2023-06-29T07:08:55.616284",
     "status": "completed"
    },
    "tags": []
   },
   "outputs": [
    {
     "data": {
      "text/plain": [
       "tensor(7)"
      ]
     },
     "execution_count": 2,
     "metadata": {},
     "output_type": "execute_result"
    }
   ],
   "source": [
    "# Scaler\n",
    "scaler = torch.tensor(7)\n",
    "scaler"
   ]
  },
  {
   "cell_type": "code",
   "execution_count": 3,
   "id": "80867219",
   "metadata": {
    "execution": {
     "iopub.execute_input": "2023-06-29T07:08:55.708108Z",
     "iopub.status.busy": "2023-06-29T07:08:55.707811Z",
     "iopub.status.idle": "2023-06-29T07:08:55.713360Z",
     "shell.execute_reply": "2023-06-29T07:08:55.712463Z"
    },
    "papermill": {
     "duration": 0.027146,
     "end_time": "2023-06-29T07:08:55.715384",
     "exception": false,
     "start_time": "2023-06-29T07:08:55.688238",
     "status": "completed"
    },
    "tags": []
   },
   "outputs": [
    {
     "data": {
      "text/plain": [
       "0"
      ]
     },
     "execution_count": 3,
     "metadata": {},
     "output_type": "execute_result"
    }
   ],
   "source": [
    "scaler.ndim"
   ]
  },
  {
   "cell_type": "code",
   "execution_count": 4,
   "id": "fdff0f0a",
   "metadata": {
    "execution": {
     "iopub.execute_input": "2023-06-29T07:08:55.754409Z",
     "iopub.status.busy": "2023-06-29T07:08:55.754097Z",
     "iopub.status.idle": "2023-06-29T07:08:55.759790Z",
     "shell.execute_reply": "2023-06-29T07:08:55.758958Z"
    },
    "papermill": {
     "duration": 0.027543,
     "end_time": "2023-06-29T07:08:55.761823",
     "exception": false,
     "start_time": "2023-06-29T07:08:55.734280",
     "status": "completed"
    },
    "tags": []
   },
   "outputs": [
    {
     "data": {
      "text/plain": [
       "7"
      ]
     },
     "execution_count": 4,
     "metadata": {},
     "output_type": "execute_result"
    }
   ],
   "source": [
    "# Get Tensor back ans int\n",
    "scaler.item()"
   ]
  },
  {
   "cell_type": "code",
   "execution_count": 5,
   "id": "8e3a9dfa",
   "metadata": {
    "execution": {
     "iopub.execute_input": "2023-06-29T07:08:55.800954Z",
     "iopub.status.busy": "2023-06-29T07:08:55.800125Z",
     "iopub.status.idle": "2023-06-29T07:08:55.807768Z",
     "shell.execute_reply": "2023-06-29T07:08:55.806808Z"
    },
    "papermill": {
     "duration": 0.029176,
     "end_time": "2023-06-29T07:08:55.809674",
     "exception": false,
     "start_time": "2023-06-29T07:08:55.780498",
     "status": "completed"
    },
    "tags": []
   },
   "outputs": [
    {
     "data": {
      "text/plain": [
       "tensor([7, 7])"
      ]
     },
     "execution_count": 5,
     "metadata": {},
     "output_type": "execute_result"
    }
   ],
   "source": [
    "# Vector\n",
    "vector = torch.tensor([7,7])\n",
    "vector"
   ]
  },
  {
   "cell_type": "code",
   "execution_count": 6,
   "id": "1fd46b4b",
   "metadata": {
    "execution": {
     "iopub.execute_input": "2023-06-29T07:08:55.849324Z",
     "iopub.status.busy": "2023-06-29T07:08:55.848544Z",
     "iopub.status.idle": "2023-06-29T07:08:55.854555Z",
     "shell.execute_reply": "2023-06-29T07:08:55.853674Z"
    },
    "papermill": {
     "duration": 0.027918,
     "end_time": "2023-06-29T07:08:55.856458",
     "exception": false,
     "start_time": "2023-06-29T07:08:55.828540",
     "status": "completed"
    },
    "tags": []
   },
   "outputs": [
    {
     "data": {
      "text/plain": [
       "1"
      ]
     },
     "execution_count": 6,
     "metadata": {},
     "output_type": "execute_result"
    }
   ],
   "source": [
    "vector.ndim"
   ]
  },
  {
   "cell_type": "code",
   "execution_count": 7,
   "id": "f923a215",
   "metadata": {
    "execution": {
     "iopub.execute_input": "2023-06-29T07:08:55.896276Z",
     "iopub.status.busy": "2023-06-29T07:08:55.895245Z",
     "iopub.status.idle": "2023-06-29T07:08:55.901772Z",
     "shell.execute_reply": "2023-06-29T07:08:55.900800Z"
    },
    "papermill": {
     "duration": 0.028588,
     "end_time": "2023-06-29T07:08:55.903940",
     "exception": false,
     "start_time": "2023-06-29T07:08:55.875352",
     "status": "completed"
    },
    "tags": []
   },
   "outputs": [
    {
     "data": {
      "text/plain": [
       "torch.Size([2])"
      ]
     },
     "execution_count": 7,
     "metadata": {},
     "output_type": "execute_result"
    }
   ],
   "source": [
    "vector.shape"
   ]
  },
  {
   "cell_type": "code",
   "execution_count": 8,
   "id": "ef3d098e",
   "metadata": {
    "execution": {
     "iopub.execute_input": "2023-06-29T07:08:55.943557Z",
     "iopub.status.busy": "2023-06-29T07:08:55.943244Z",
     "iopub.status.idle": "2023-06-29T07:08:55.951959Z",
     "shell.execute_reply": "2023-06-29T07:08:55.951060Z"
    },
    "papermill": {
     "duration": 0.031019,
     "end_time": "2023-06-29T07:08:55.954201",
     "exception": false,
     "start_time": "2023-06-29T07:08:55.923182",
     "status": "completed"
    },
    "tags": []
   },
   "outputs": [
    {
     "data": {
      "text/plain": [
       "tensor([[7, 8],\n",
       "        [6, 5]])"
      ]
     },
     "execution_count": 8,
     "metadata": {},
     "output_type": "execute_result"
    }
   ],
   "source": [
    "# Matrix\n",
    "MATRIX = torch.tensor([[7,8],\n",
    "                      [6,5]])\n",
    "MATRIX"
   ]
  },
  {
   "cell_type": "code",
   "execution_count": 9,
   "id": "c7677c57",
   "metadata": {
    "execution": {
     "iopub.execute_input": "2023-06-29T07:08:55.998688Z",
     "iopub.status.busy": "2023-06-29T07:08:55.997752Z",
     "iopub.status.idle": "2023-06-29T07:08:56.004082Z",
     "shell.execute_reply": "2023-06-29T07:08:56.003112Z"
    },
    "papermill": {
     "duration": 0.031111,
     "end_time": "2023-06-29T07:08:56.006247",
     "exception": false,
     "start_time": "2023-06-29T07:08:55.975136",
     "status": "completed"
    },
    "tags": []
   },
   "outputs": [
    {
     "data": {
      "text/plain": [
       "2"
      ]
     },
     "execution_count": 9,
     "metadata": {},
     "output_type": "execute_result"
    }
   ],
   "source": [
    "MATRIX.ndim"
   ]
  },
  {
   "cell_type": "code",
   "execution_count": 10,
   "id": "3fec7d99",
   "metadata": {
    "execution": {
     "iopub.execute_input": "2023-06-29T07:08:56.050019Z",
     "iopub.status.busy": "2023-06-29T07:08:56.049243Z",
     "iopub.status.idle": "2023-06-29T07:08:56.055625Z",
     "shell.execute_reply": "2023-06-29T07:08:56.054727Z"
    },
    "papermill": {
     "duration": 0.031167,
     "end_time": "2023-06-29T07:08:56.057532",
     "exception": false,
     "start_time": "2023-06-29T07:08:56.026365",
     "status": "completed"
    },
    "tags": []
   },
   "outputs": [
    {
     "data": {
      "text/plain": [
       "tensor([7, 8])"
      ]
     },
     "execution_count": 10,
     "metadata": {},
     "output_type": "execute_result"
    }
   ],
   "source": [
    "MATRIX[0]"
   ]
  },
  {
   "cell_type": "code",
   "execution_count": 11,
   "id": "372e1f4f",
   "metadata": {
    "execution": {
     "iopub.execute_input": "2023-06-29T07:08:56.101640Z",
     "iopub.status.busy": "2023-06-29T07:08:56.099809Z",
     "iopub.status.idle": "2023-06-29T07:08:56.107862Z",
     "shell.execute_reply": "2023-06-29T07:08:56.106759Z"
    },
    "papermill": {
     "duration": 0.031994,
     "end_time": "2023-06-29T07:08:56.110182",
     "exception": false,
     "start_time": "2023-06-29T07:08:56.078188",
     "status": "completed"
    },
    "tags": []
   },
   "outputs": [
    {
     "data": {
      "text/plain": [
       "tensor([6, 5])"
      ]
     },
     "execution_count": 11,
     "metadata": {},
     "output_type": "execute_result"
    }
   ],
   "source": [
    "MATRIX[1]"
   ]
  },
  {
   "cell_type": "code",
   "execution_count": 12,
   "id": "4201a73f",
   "metadata": {
    "execution": {
     "iopub.execute_input": "2023-06-29T07:08:56.158411Z",
     "iopub.status.busy": "2023-06-29T07:08:56.158045Z",
     "iopub.status.idle": "2023-06-29T07:08:56.164207Z",
     "shell.execute_reply": "2023-06-29T07:08:56.163334Z"
    },
    "papermill": {
     "duration": 0.032892,
     "end_time": "2023-06-29T07:08:56.166547",
     "exception": false,
     "start_time": "2023-06-29T07:08:56.133655",
     "status": "completed"
    },
    "tags": []
   },
   "outputs": [
    {
     "data": {
      "text/plain": [
       "torch.Size([2, 2])"
      ]
     },
     "execution_count": 12,
     "metadata": {},
     "output_type": "execute_result"
    }
   ],
   "source": [
    "MATRIX.shape"
   ]
  },
  {
   "cell_type": "code",
   "execution_count": 13,
   "id": "386bf596",
   "metadata": {
    "execution": {
     "iopub.execute_input": "2023-06-29T07:08:56.209963Z",
     "iopub.status.busy": "2023-06-29T07:08:56.209162Z",
     "iopub.status.idle": "2023-06-29T07:08:56.216719Z",
     "shell.execute_reply": "2023-06-29T07:08:56.215809Z"
    },
    "papermill": {
     "duration": 0.03128,
     "end_time": "2023-06-29T07:08:56.218788",
     "exception": false,
     "start_time": "2023-06-29T07:08:56.187508",
     "status": "completed"
    },
    "tags": []
   },
   "outputs": [
    {
     "data": {
      "text/plain": [
       "tensor([[[1, 2, 3],\n",
       "         [5, 6, 6],\n",
       "         [7, 8, 9]]])"
      ]
     },
     "execution_count": 13,
     "metadata": {},
     "output_type": "execute_result"
    }
   ],
   "source": [
    "# Tensor\n",
    "TENSOR = torch.tensor([[[1,2,3],\n",
    "                      [5,6,6],\n",
    "                      [7,8,9]]])\n",
    "TENSOR"
   ]
  },
  {
   "cell_type": "code",
   "execution_count": 14,
   "id": "01b6b53c",
   "metadata": {
    "execution": {
     "iopub.execute_input": "2023-06-29T07:08:56.262857Z",
     "iopub.status.busy": "2023-06-29T07:08:56.261790Z",
     "iopub.status.idle": "2023-06-29T07:08:56.268184Z",
     "shell.execute_reply": "2023-06-29T07:08:56.267264Z"
    },
    "papermill": {
     "duration": 0.030298,
     "end_time": "2023-06-29T07:08:56.270357",
     "exception": false,
     "start_time": "2023-06-29T07:08:56.240059",
     "status": "completed"
    },
    "tags": []
   },
   "outputs": [
    {
     "data": {
      "text/plain": [
       "3"
      ]
     },
     "execution_count": 14,
     "metadata": {},
     "output_type": "execute_result"
    }
   ],
   "source": [
    "TENSOR.ndim"
   ]
  },
  {
   "cell_type": "code",
   "execution_count": 15,
   "id": "327415c1",
   "metadata": {
    "execution": {
     "iopub.execute_input": "2023-06-29T07:08:56.312811Z",
     "iopub.status.busy": "2023-06-29T07:08:56.312508Z",
     "iopub.status.idle": "2023-06-29T07:08:56.318270Z",
     "shell.execute_reply": "2023-06-29T07:08:56.317456Z"
    },
    "papermill": {
     "duration": 0.029395,
     "end_time": "2023-06-29T07:08:56.320233",
     "exception": false,
     "start_time": "2023-06-29T07:08:56.290838",
     "status": "completed"
    },
    "tags": []
   },
   "outputs": [
    {
     "data": {
      "text/plain": [
       "torch.Size([1, 3, 3])"
      ]
     },
     "execution_count": 15,
     "metadata": {},
     "output_type": "execute_result"
    }
   ],
   "source": [
    "TENSOR.shape"
   ]
  },
  {
   "cell_type": "code",
   "execution_count": 16,
   "id": "75de0b32",
   "metadata": {
    "execution": {
     "iopub.execute_input": "2023-06-29T07:08:56.362969Z",
     "iopub.status.busy": "2023-06-29T07:08:56.362184Z",
     "iopub.status.idle": "2023-06-29T07:08:56.368647Z",
     "shell.execute_reply": "2023-06-29T07:08:56.367722Z"
    },
    "papermill": {
     "duration": 0.029779,
     "end_time": "2023-06-29T07:08:56.370569",
     "exception": false,
     "start_time": "2023-06-29T07:08:56.340790",
     "status": "completed"
    },
    "tags": []
   },
   "outputs": [
    {
     "data": {
      "text/plain": [
       "tensor([[1, 2, 3],\n",
       "        [5, 6, 6],\n",
       "        [7, 8, 9]])"
      ]
     },
     "execution_count": 16,
     "metadata": {},
     "output_type": "execute_result"
    }
   ],
   "source": [
    "TENSOR[0]"
   ]
  },
  {
   "cell_type": "code",
   "execution_count": 17,
   "id": "499461ba",
   "metadata": {
    "execution": {
     "iopub.execute_input": "2023-06-29T07:08:56.413454Z",
     "iopub.status.busy": "2023-06-29T07:08:56.413123Z",
     "iopub.status.idle": "2023-06-29T07:08:56.421111Z",
     "shell.execute_reply": "2023-06-29T07:08:56.420230Z"
    },
    "papermill": {
     "duration": 0.032459,
     "end_time": "2023-06-29T07:08:56.423053",
     "exception": false,
     "start_time": "2023-06-29T07:08:56.390594",
     "status": "completed"
    },
    "tags": []
   },
   "outputs": [
    {
     "data": {
      "text/plain": [
       "tensor([[[1, 2, 3],\n",
       "         [4, 5, 6],\n",
       "         [7, 8, 9]],\n",
       "\n",
       "        [[1, 2, 3],\n",
       "         [4, 5, 6],\n",
       "         [7, 8, 9]]])"
      ]
     },
     "execution_count": 17,
     "metadata": {},
     "output_type": "execute_result"
    }
   ],
   "source": [
    "# Practice\n",
    "TENSOR1 = torch.tensor([[[1,2,3],\n",
    "                      [4,5,6],\n",
    "                      [7,8,9]],\n",
    "                     [[1,2,3],\n",
    "                      [4,5,6],\n",
    "                      [7,8,9]]])\n",
    "TENSOR1"
   ]
  },
  {
   "cell_type": "code",
   "execution_count": 18,
   "id": "2ce8b5b3",
   "metadata": {
    "execution": {
     "iopub.execute_input": "2023-06-29T07:08:56.467461Z",
     "iopub.status.busy": "2023-06-29T07:08:56.466481Z",
     "iopub.status.idle": "2023-06-29T07:08:56.472811Z",
     "shell.execute_reply": "2023-06-29T07:08:56.471970Z"
    },
    "papermill": {
     "duration": 0.030957,
     "end_time": "2023-06-29T07:08:56.474739",
     "exception": false,
     "start_time": "2023-06-29T07:08:56.443782",
     "status": "completed"
    },
    "tags": []
   },
   "outputs": [
    {
     "data": {
      "text/plain": [
       "3"
      ]
     },
     "execution_count": 18,
     "metadata": {},
     "output_type": "execute_result"
    }
   ],
   "source": [
    "TENSOR1.ndim"
   ]
  },
  {
   "cell_type": "code",
   "execution_count": 19,
   "id": "4f219080",
   "metadata": {
    "execution": {
     "iopub.execute_input": "2023-06-29T07:08:56.520632Z",
     "iopub.status.busy": "2023-06-29T07:08:56.519852Z",
     "iopub.status.idle": "2023-06-29T07:08:56.526144Z",
     "shell.execute_reply": "2023-06-29T07:08:56.525166Z"
    },
    "papermill": {
     "duration": 0.031482,
     "end_time": "2023-06-29T07:08:56.528134",
     "exception": false,
     "start_time": "2023-06-29T07:08:56.496652",
     "status": "completed"
    },
    "tags": []
   },
   "outputs": [
    {
     "data": {
      "text/plain": [
       "torch.Size([2, 3, 3])"
      ]
     },
     "execution_count": 19,
     "metadata": {},
     "output_type": "execute_result"
    }
   ],
   "source": [
    "TENSOR1.shape"
   ]
  },
  {
   "cell_type": "markdown",
   "id": "03e3d290",
   "metadata": {
    "execution": {
     "iopub.execute_input": "2023-06-25T15:53:52.605155Z",
     "iopub.status.busy": "2023-06-25T15:53:52.604740Z",
     "iopub.status.idle": "2023-06-25T15:53:52.609815Z",
     "shell.execute_reply": "2023-06-25T15:53:52.608929Z",
     "shell.execute_reply.started": "2023-06-25T15:53:52.605124Z"
    },
    "papermill": {
     "duration": 0.020811,
     "end_time": "2023-06-29T07:08:56.571522",
     "exception": false,
     "start_time": "2023-06-29T07:08:56.550711",
     "status": "completed"
    },
    "tags": []
   },
   "source": [
    "### Random Tensor\n",
    "\n",
    "Why Random Nos. ?\n",
    "\n",
    "'Start with Random Numbers -> Look at Data -> Update Random Numbers -> Look at Data -> Update Random Numbers'\n",
    "\n",
    "ref - https://pytorch.org/docs/stable/generated/torch.rand.html"
   ]
  },
  {
   "cell_type": "code",
   "execution_count": 20,
   "id": "58264bdb",
   "metadata": {
    "execution": {
     "iopub.execute_input": "2023-06-29T07:08:56.615646Z",
     "iopub.status.busy": "2023-06-29T07:08:56.614827Z",
     "iopub.status.idle": "2023-06-29T07:08:56.666623Z",
     "shell.execute_reply": "2023-06-29T07:08:56.665729Z"
    },
    "papermill": {
     "duration": 0.07567,
     "end_time": "2023-06-29T07:08:56.668609",
     "exception": false,
     "start_time": "2023-06-29T07:08:56.592939",
     "status": "completed"
    },
    "tags": []
   },
   "outputs": [
    {
     "data": {
      "text/plain": [
       "tensor([[[0.0883, 0.0956, 0.6607],\n",
       "         [0.0527, 0.8565, 0.7997],\n",
       "         [0.4787, 0.0465, 0.1614],\n",
       "         [0.4859, 0.4994, 0.9311]],\n",
       "\n",
       "        [[0.8992, 0.2468, 0.2283],\n",
       "         [0.2708, 0.6827, 0.3598],\n",
       "         [0.0323, 0.9223, 0.6666],\n",
       "         [0.2759, 0.9689, 0.4293]],\n",
       "\n",
       "        [[0.8121, 0.3494, 0.8236],\n",
       "         [0.5759, 0.8877, 0.3913],\n",
       "         [0.2384, 0.7087, 0.5895],\n",
       "         [0.7704, 0.3248, 0.7620]]])"
      ]
     },
     "execution_count": 20,
     "metadata": {},
     "output_type": "execute_result"
    }
   ],
   "source": [
    "# Create a random tensor of size(3,4)\n",
    "random_tensor = torch.rand(3,4,3)\n",
    "random_tensor"
   ]
  },
  {
   "cell_type": "code",
   "execution_count": 21,
   "id": "fda69943",
   "metadata": {
    "execution": {
     "iopub.execute_input": "2023-06-29T07:08:56.712629Z",
     "iopub.status.busy": "2023-06-29T07:08:56.711818Z",
     "iopub.status.idle": "2023-06-29T07:08:56.718064Z",
     "shell.execute_reply": "2023-06-29T07:08:56.717100Z"
    },
    "papermill": {
     "duration": 0.030323,
     "end_time": "2023-06-29T07:08:56.720035",
     "exception": false,
     "start_time": "2023-06-29T07:08:56.689712",
     "status": "completed"
    },
    "tags": []
   },
   "outputs": [
    {
     "data": {
      "text/plain": [
       "3"
      ]
     },
     "execution_count": 21,
     "metadata": {},
     "output_type": "execute_result"
    }
   ],
   "source": [
    "random_tensor.ndim"
   ]
  },
  {
   "cell_type": "code",
   "execution_count": 22,
   "id": "3a61d7db",
   "metadata": {
    "execution": {
     "iopub.execute_input": "2023-06-29T07:08:56.763790Z",
     "iopub.status.busy": "2023-06-29T07:08:56.762913Z",
     "iopub.status.idle": "2023-06-29T07:08:56.769333Z",
     "shell.execute_reply": "2023-06-29T07:08:56.768350Z"
    },
    "papermill": {
     "duration": 0.030731,
     "end_time": "2023-06-29T07:08:56.771417",
     "exception": false,
     "start_time": "2023-06-29T07:08:56.740686",
     "status": "completed"
    },
    "tags": []
   },
   "outputs": [
    {
     "data": {
      "text/plain": [
       "torch.Size([3, 4, 3])"
      ]
     },
     "execution_count": 22,
     "metadata": {},
     "output_type": "execute_result"
    }
   ],
   "source": [
    "random_tensor.shape"
   ]
  },
  {
   "cell_type": "code",
   "execution_count": 23,
   "id": "6d0d1453",
   "metadata": {
    "execution": {
     "iopub.execute_input": "2023-06-29T07:08:56.816549Z",
     "iopub.status.busy": "2023-06-29T07:08:56.815745Z",
     "iopub.status.idle": "2023-06-29T07:08:56.827962Z",
     "shell.execute_reply": "2023-06-29T07:08:56.827068Z"
    },
    "papermill": {
     "duration": 0.037045,
     "end_time": "2023-06-29T07:08:56.829992",
     "exception": false,
     "start_time": "2023-06-29T07:08:56.792947",
     "status": "completed"
    },
    "scrolled": true,
    "tags": []
   },
   "outputs": [
    {
     "data": {
      "text/plain": [
       "tensor([[[0.4764, 0.3625, 0.8622],\n",
       "         [0.2087, 0.7181, 0.3880],\n",
       "         [0.7497, 0.9169, 0.1960],\n",
       "         ...,\n",
       "         [0.0257, 0.2590, 0.0218],\n",
       "         [0.2742, 0.3657, 0.2996],\n",
       "         [0.4427, 0.8379, 0.8632]],\n",
       "\n",
       "        [[0.3464, 0.5116, 0.7955],\n",
       "         [0.2652, 0.6318, 0.2698],\n",
       "         [0.4117, 0.5737, 0.3414],\n",
       "         ...,\n",
       "         [0.1499, 0.6290, 0.9183],\n",
       "         [0.8282, 0.4294, 0.1750],\n",
       "         [0.8992, 0.5155, 0.6691]],\n",
       "\n",
       "        [[0.5102, 0.0760, 0.3937],\n",
       "         [0.5230, 0.2438, 0.1484],\n",
       "         [0.1243, 0.4007, 0.8166],\n",
       "         ...,\n",
       "         [0.8775, 0.7728, 0.3404],\n",
       "         [0.8418, 0.1260, 0.5529],\n",
       "         [0.0873, 0.1241, 0.7541]],\n",
       "\n",
       "        ...,\n",
       "\n",
       "        [[0.1324, 0.0844, 0.0697],\n",
       "         [0.2490, 0.8383, 0.1363],\n",
       "         [0.8340, 0.6156, 0.7950],\n",
       "         ...,\n",
       "         [0.4641, 0.6088, 0.1003],\n",
       "         [0.8388, 0.5632, 0.6924],\n",
       "         [0.8707, 0.4841, 0.8562]],\n",
       "\n",
       "        [[0.9587, 0.6320, 0.8098],\n",
       "         [0.2680, 0.0389, 0.9578],\n",
       "         [0.1850, 0.1560, 0.2235],\n",
       "         ...,\n",
       "         [0.5100, 0.6461, 0.3169],\n",
       "         [0.8414, 0.8049, 0.7533],\n",
       "         [0.8010, 0.7388, 0.9236]],\n",
       "\n",
       "        [[0.9850, 0.6000, 0.9872],\n",
       "         [0.3592, 0.9870, 0.2400],\n",
       "         [0.4538, 0.2369, 0.2007],\n",
       "         ...,\n",
       "         [0.9684, 0.3190, 0.1616],\n",
       "         [0.4146, 0.4644, 0.8750],\n",
       "         [0.5415, 0.0304, 0.6933]]])"
      ]
     },
     "execution_count": 23,
     "metadata": {},
     "output_type": "execute_result"
    }
   ],
   "source": [
    "# Creating Random tensor similar to Image Shape\n",
    "random_image_size_tensor = torch.rand(size=[224,224,3],) # height, width , color channels\n",
    "random_image_size_tensor"
   ]
  },
  {
   "cell_type": "code",
   "execution_count": 24,
   "id": "c990dc3f",
   "metadata": {
    "execution": {
     "iopub.execute_input": "2023-06-29T07:08:56.873912Z",
     "iopub.status.busy": "2023-06-29T07:08:56.873344Z",
     "iopub.status.idle": "2023-06-29T07:08:56.878950Z",
     "shell.execute_reply": "2023-06-29T07:08:56.878109Z"
    },
    "papermill": {
     "duration": 0.029574,
     "end_time": "2023-06-29T07:08:56.880844",
     "exception": false,
     "start_time": "2023-06-29T07:08:56.851270",
     "status": "completed"
    },
    "tags": []
   },
   "outputs": [
    {
     "data": {
      "text/plain": [
       "3"
      ]
     },
     "execution_count": 24,
     "metadata": {},
     "output_type": "execute_result"
    }
   ],
   "source": [
    "random_image_size_tensor.ndim"
   ]
  },
  {
   "cell_type": "code",
   "execution_count": 25,
   "id": "18a491db",
   "metadata": {
    "execution": {
     "iopub.execute_input": "2023-06-29T07:08:56.925511Z",
     "iopub.status.busy": "2023-06-29T07:08:56.924693Z",
     "iopub.status.idle": "2023-06-29T07:08:56.931106Z",
     "shell.execute_reply": "2023-06-29T07:08:56.930137Z"
    },
    "papermill": {
     "duration": 0.030916,
     "end_time": "2023-06-29T07:08:56.933071",
     "exception": false,
     "start_time": "2023-06-29T07:08:56.902155",
     "status": "completed"
    },
    "tags": []
   },
   "outputs": [
    {
     "data": {
      "text/plain": [
       "torch.Size([224, 224, 3])"
      ]
     },
     "execution_count": 25,
     "metadata": {},
     "output_type": "execute_result"
    }
   ],
   "source": [
    "random_image_size_tensor.shape"
   ]
  },
  {
   "cell_type": "markdown",
   "id": "49fe5f51",
   "metadata": {
    "papermill": {
     "duration": 0.021258,
     "end_time": "2023-06-29T07:08:56.975909",
     "exception": false,
     "start_time": "2023-06-29T07:08:56.954651",
     "status": "completed"
    },
    "tags": []
   },
   "source": [
    "### Zeroes and Ones"
   ]
  },
  {
   "cell_type": "code",
   "execution_count": 26,
   "id": "f265b2bb",
   "metadata": {
    "execution": {
     "iopub.execute_input": "2023-06-29T07:08:57.021430Z",
     "iopub.status.busy": "2023-06-29T07:08:57.020576Z",
     "iopub.status.idle": "2023-06-29T07:08:57.030077Z",
     "shell.execute_reply": "2023-06-29T07:08:57.028977Z"
    },
    "papermill": {
     "duration": 0.034841,
     "end_time": "2023-06-29T07:08:57.032256",
     "exception": false,
     "start_time": "2023-06-29T07:08:56.997415",
     "status": "completed"
    },
    "tags": []
   },
   "outputs": [
    {
     "data": {
      "text/plain": [
       "tensor([[0., 0., 0., 0.],\n",
       "        [0., 0., 0., 0.],\n",
       "        [0., 0., 0., 0.]])"
      ]
     },
     "execution_count": 26,
     "metadata": {},
     "output_type": "execute_result"
    }
   ],
   "source": [
    "# Create a tenor of all zeros\n",
    "zeros = torch.zeros(3,4)\n",
    "zeros"
   ]
  },
  {
   "cell_type": "code",
   "execution_count": 27,
   "id": "1a8409f9",
   "metadata": {
    "execution": {
     "iopub.execute_input": "2023-06-29T07:08:57.077973Z",
     "iopub.status.busy": "2023-06-29T07:08:57.077663Z",
     "iopub.status.idle": "2023-06-29T07:08:57.084697Z",
     "shell.execute_reply": "2023-06-29T07:08:57.083785Z"
    },
    "papermill": {
     "duration": 0.03154,
     "end_time": "2023-06-29T07:08:57.086648",
     "exception": false,
     "start_time": "2023-06-29T07:08:57.055108",
     "status": "completed"
    },
    "tags": []
   },
   "outputs": [
    {
     "data": {
      "text/plain": [
       "tensor([[0., 0., 0., 0.],\n",
       "        [0., 0., 0., 0.],\n",
       "        [0., 0., 0., 0.]])"
      ]
     },
     "execution_count": 27,
     "metadata": {},
     "output_type": "execute_result"
    }
   ],
   "source": [
    "zeros * torch.rand(3,4)"
   ]
  },
  {
   "cell_type": "code",
   "execution_count": 28,
   "id": "139e08f9",
   "metadata": {
    "execution": {
     "iopub.execute_input": "2023-06-29T07:08:57.132899Z",
     "iopub.status.busy": "2023-06-29T07:08:57.132082Z",
     "iopub.status.idle": "2023-06-29T07:08:57.139515Z",
     "shell.execute_reply": "2023-06-29T07:08:57.138613Z"
    },
    "papermill": {
     "duration": 0.032187,
     "end_time": "2023-06-29T07:08:57.141457",
     "exception": false,
     "start_time": "2023-06-29T07:08:57.109270",
     "status": "completed"
    },
    "tags": []
   },
   "outputs": [
    {
     "data": {
      "text/plain": [
       "tensor([[1, 1, 1, 1],\n",
       "        [1, 1, 1, 1],\n",
       "        [1, 1, 1, 1]])"
      ]
     },
     "execution_count": 28,
     "metadata": {},
     "output_type": "execute_result"
    }
   ],
   "source": [
    "# Create tensor of all ones\n",
    "ones = torch.ones(size=(3,4),dtype=int)\n",
    "ones"
   ]
  },
  {
   "cell_type": "code",
   "execution_count": 29,
   "id": "fabb1e2c",
   "metadata": {
    "execution": {
     "iopub.execute_input": "2023-06-29T07:08:57.186287Z",
     "iopub.status.busy": "2023-06-29T07:08:57.185552Z",
     "iopub.status.idle": "2023-06-29T07:08:57.191463Z",
     "shell.execute_reply": "2023-06-29T07:08:57.190572Z"
    },
    "papermill": {
     "duration": 0.030266,
     "end_time": "2023-06-29T07:08:57.193416",
     "exception": false,
     "start_time": "2023-06-29T07:08:57.163150",
     "status": "completed"
    },
    "tags": []
   },
   "outputs": [
    {
     "data": {
      "text/plain": [
       "torch.int64"
      ]
     },
     "execution_count": 29,
     "metadata": {},
     "output_type": "execute_result"
    }
   ],
   "source": [
    "ones.dtype"
   ]
  },
  {
   "cell_type": "markdown",
   "id": "3ab6c82c",
   "metadata": {
    "execution": {
     "iopub.execute_input": "2023-06-25T16:24:23.852212Z",
     "iopub.status.busy": "2023-06-25T16:24:23.851772Z",
     "iopub.status.idle": "2023-06-25T16:24:23.857025Z",
     "shell.execute_reply": "2023-06-25T16:24:23.856069Z",
     "shell.execute_reply.started": "2023-06-25T16:24:23.852179Z"
    },
    "papermill": {
     "duration": 0.021621,
     "end_time": "2023-06-29T07:08:57.237343",
     "exception": false,
     "start_time": "2023-06-29T07:08:57.215722",
     "status": "completed"
    },
    "tags": []
   },
   "source": [
    "### Create a range of tensors and tensors-like\n",
    "\n",
    "ref - https://pytorch.org/docs/stable/generated/torch.arange.html"
   ]
  },
  {
   "cell_type": "code",
   "execution_count": 30,
   "id": "67511f62",
   "metadata": {
    "execution": {
     "iopub.execute_input": "2023-06-29T07:08:57.282552Z",
     "iopub.status.busy": "2023-06-29T07:08:57.281859Z",
     "iopub.status.idle": "2023-06-29T07:08:57.291560Z",
     "shell.execute_reply": "2023-06-29T07:08:57.290074Z"
    },
    "papermill": {
     "duration": 0.034782,
     "end_time": "2023-06-29T07:08:57.293817",
     "exception": false,
     "start_time": "2023-06-29T07:08:57.259035",
     "status": "completed"
    },
    "tags": []
   },
   "outputs": [
    {
     "data": {
      "text/plain": [
       "tensor([ 1,  2,  3,  4,  5,  6,  7,  8,  9, 10])"
      ]
     },
     "execution_count": 30,
     "metadata": {},
     "output_type": "execute_result"
    }
   ],
   "source": [
    "# Use torch.arange()\n",
    "one_to_ten = torch.arange(start=1, end=11, step=1)\n",
    "one_to_ten"
   ]
  },
  {
   "cell_type": "code",
   "execution_count": 31,
   "id": "a3396552",
   "metadata": {
    "execution": {
     "iopub.execute_input": "2023-06-29T07:08:57.339484Z",
     "iopub.status.busy": "2023-06-29T07:08:57.338683Z",
     "iopub.status.idle": "2023-06-29T07:08:57.345328Z",
     "shell.execute_reply": "2023-06-29T07:08:57.344411Z"
    },
    "papermill": {
     "duration": 0.031579,
     "end_time": "2023-06-29T07:08:57.347302",
     "exception": false,
     "start_time": "2023-06-29T07:08:57.315723",
     "status": "completed"
    },
    "tags": []
   },
   "outputs": [
    {
     "data": {
      "text/plain": [
       "tensor([0, 0, 0, 0, 0, 0, 0, 0, 0, 0])"
      ]
     },
     "execution_count": 31,
     "metadata": {},
     "output_type": "execute_result"
    }
   ],
   "source": [
    "# Create tesnors like\n",
    "ten_zeros = torch.zeros_like(input=one_to_ten)\n",
    "ten_zeros"
   ]
  },
  {
   "cell_type": "markdown",
   "id": "c5d8abdb",
   "metadata": {
    "papermill": {
     "duration": 0.021887,
     "end_time": "2023-06-29T07:08:57.391124",
     "exception": false,
     "start_time": "2023-06-29T07:08:57.369237",
     "status": "completed"
    },
    "tags": []
   },
   "source": [
    "### Tensor datatypes\n",
    "\n",
    "Tensor datatypes is one of the 3 big errors arrive in Pytorch\n",
    "\n",
    "1. Tensors not right datatype\n",
    "2. Tensors not right shape\n",
    "3. Tensors not no right device\n",
    "\n",
    "ref - https://pytorch.org/docs/stable/tensors.html"
   ]
  },
  {
   "cell_type": "code",
   "execution_count": 32,
   "id": "6739a231",
   "metadata": {
    "execution": {
     "iopub.execute_input": "2023-06-29T07:08:57.436475Z",
     "iopub.status.busy": "2023-06-29T07:08:57.435679Z",
     "iopub.status.idle": "2023-06-29T07:08:57.443275Z",
     "shell.execute_reply": "2023-06-29T07:08:57.442333Z"
    },
    "papermill": {
     "duration": 0.032231,
     "end_time": "2023-06-29T07:08:57.445191",
     "exception": false,
     "start_time": "2023-06-29T07:08:57.412960",
     "status": "completed"
    },
    "tags": []
   },
   "outputs": [
    {
     "data": {
      "text/plain": [
       "tensor([3., 6., 9.])"
      ]
     },
     "execution_count": 32,
     "metadata": {},
     "output_type": "execute_result"
    }
   ],
   "source": [
    "# Float 32 tensor\n",
    "float_32_tensor = torch.tensor([3.0,6.0,9.0],\n",
    "                             dtype=None, # what datatype of tensor (float32 etc)\n",
    "                             device=None, #'cpu or gpu -> cuda'\n",
    "                             requires_grad=False) # whether to track gradient\n",
    "float_32_tensor"
   ]
  },
  {
   "cell_type": "code",
   "execution_count": 33,
   "id": "2d35f141",
   "metadata": {
    "execution": {
     "iopub.execute_input": "2023-06-29T07:08:57.491249Z",
     "iopub.status.busy": "2023-06-29T07:08:57.490378Z",
     "iopub.status.idle": "2023-06-29T07:08:57.496643Z",
     "shell.execute_reply": "2023-06-29T07:08:57.495749Z"
    },
    "papermill": {
     "duration": 0.03121,
     "end_time": "2023-06-29T07:08:57.498539",
     "exception": false,
     "start_time": "2023-06-29T07:08:57.467329",
     "status": "completed"
    },
    "tags": []
   },
   "outputs": [
    {
     "data": {
      "text/plain": [
       "torch.float32"
      ]
     },
     "execution_count": 33,
     "metadata": {},
     "output_type": "execute_result"
    }
   ],
   "source": [
    "float_32_tensor.dtype"
   ]
  },
  {
   "cell_type": "code",
   "execution_count": 34,
   "id": "1af67272",
   "metadata": {
    "execution": {
     "iopub.execute_input": "2023-06-29T07:08:57.547473Z",
     "iopub.status.busy": "2023-06-29T07:08:57.546547Z",
     "iopub.status.idle": "2023-06-29T07:08:57.556723Z",
     "shell.execute_reply": "2023-06-29T07:08:57.555875Z"
    },
    "papermill": {
     "duration": 0.037806,
     "end_time": "2023-06-29T07:08:57.558928",
     "exception": false,
     "start_time": "2023-06-29T07:08:57.521122",
     "status": "completed"
    },
    "tags": []
   },
   "outputs": [],
   "source": [
    "float_16_tensor = float_32_tensor.half()\n",
    "# or\n",
    "float_16_tensor = float_32_tensor.type(torch.float) # torch.half"
   ]
  },
  {
   "cell_type": "code",
   "execution_count": 35,
   "id": "ce98ad4b",
   "metadata": {
    "execution": {
     "iopub.execute_input": "2023-06-29T07:08:57.606951Z",
     "iopub.status.busy": "2023-06-29T07:08:57.606159Z",
     "iopub.status.idle": "2023-06-29T07:08:57.612661Z",
     "shell.execute_reply": "2023-06-29T07:08:57.611742Z"
    },
    "papermill": {
     "duration": 0.032073,
     "end_time": "2023-06-29T07:08:57.614651",
     "exception": false,
     "start_time": "2023-06-29T07:08:57.582578",
     "status": "completed"
    },
    "tags": []
   },
   "outputs": [
    {
     "data": {
      "text/plain": [
       "tensor([3., 6., 9.])"
      ]
     },
     "execution_count": 35,
     "metadata": {},
     "output_type": "execute_result"
    }
   ],
   "source": [
    "float_16_tensor"
   ]
  },
  {
   "cell_type": "code",
   "execution_count": 36,
   "id": "22310f7e",
   "metadata": {
    "execution": {
     "iopub.execute_input": "2023-06-29T07:08:57.660939Z",
     "iopub.status.busy": "2023-06-29T07:08:57.660429Z",
     "iopub.status.idle": "2023-06-29T07:08:57.666354Z",
     "shell.execute_reply": "2023-06-29T07:08:57.665439Z"
    },
    "papermill": {
     "duration": 0.031063,
     "end_time": "2023-06-29T07:08:57.668312",
     "exception": false,
     "start_time": "2023-06-29T07:08:57.637249",
     "status": "completed"
    },
    "tags": []
   },
   "outputs": [
    {
     "data": {
      "text/plain": [
       "torch.float32"
      ]
     },
     "execution_count": 36,
     "metadata": {},
     "output_type": "execute_result"
    }
   ],
   "source": [
    "(float_16_tensor * float_32_tensor).dtype"
   ]
  },
  {
   "cell_type": "code",
   "execution_count": 37,
   "id": "cc1e6e73",
   "metadata": {
    "execution": {
     "iopub.execute_input": "2023-06-29T07:08:57.714861Z",
     "iopub.status.busy": "2023-06-29T07:08:57.714068Z",
     "iopub.status.idle": "2023-06-29T07:08:57.719049Z",
     "shell.execute_reply": "2023-06-29T07:08:57.718201Z"
    },
    "papermill": {
     "duration": 0.030387,
     "end_time": "2023-06-29T07:08:57.721025",
     "exception": false,
     "start_time": "2023-06-29T07:08:57.690638",
     "status": "completed"
    },
    "tags": []
   },
   "outputs": [],
   "source": [
    "int_32_tensor = torch.tensor([3,4,5],\n",
    "                             dtype=torch.int32)"
   ]
  },
  {
   "cell_type": "code",
   "execution_count": 38,
   "id": "639b4cde",
   "metadata": {
    "execution": {
     "iopub.execute_input": "2023-06-29T07:08:57.767461Z",
     "iopub.status.busy": "2023-06-29T07:08:57.766695Z",
     "iopub.status.idle": "2023-06-29T07:08:57.774544Z",
     "shell.execute_reply": "2023-06-29T07:08:57.773564Z"
    },
    "papermill": {
     "duration": 0.033113,
     "end_time": "2023-06-29T07:08:57.776493",
     "exception": false,
     "start_time": "2023-06-29T07:08:57.743380",
     "status": "completed"
    },
    "tags": []
   },
   "outputs": [
    {
     "data": {
      "text/plain": [
       "tensor([ 9., 24., 45.])"
      ]
     },
     "execution_count": 38,
     "metadata": {},
     "output_type": "execute_result"
    }
   ],
   "source": [
    "float_16_tensor * int_32_tensor"
   ]
  },
  {
   "cell_type": "markdown",
   "id": "596cd7f9",
   "metadata": {
    "papermill": {
     "duration": 0.022595,
     "end_time": "2023-06-29T07:08:57.822336",
     "exception": false,
     "start_time": "2023-06-29T07:08:57.799741",
     "status": "completed"
    },
    "tags": []
   },
   "source": [
    "### Getting info from tensors (tensor attributes)\n",
    "1. tensor not datatype - to check use tensor.dtype\n",
    "2. tensor not right shape - to check use tensor.shape or tensor.size()\n",
    "3. tensor not on right device - to check use tensor.device"
   ]
  },
  {
   "cell_type": "code",
   "execution_count": 39,
   "id": "e6631705",
   "metadata": {
    "execution": {
     "iopub.execute_input": "2023-06-29T07:08:57.869541Z",
     "iopub.status.busy": "2023-06-29T07:08:57.868665Z",
     "iopub.status.idle": "2023-06-29T07:08:57.876009Z",
     "shell.execute_reply": "2023-06-29T07:08:57.875074Z"
    },
    "papermill": {
     "duration": 0.032861,
     "end_time": "2023-06-29T07:08:57.877963",
     "exception": false,
     "start_time": "2023-06-29T07:08:57.845102",
     "status": "completed"
    },
    "tags": []
   },
   "outputs": [
    {
     "data": {
      "text/plain": [
       "tensor([[0.8374, 0.0603, 0.8603, 0.7492],\n",
       "        [0.4189, 0.4055, 0.3152, 0.8388],\n",
       "        [0.0231, 0.5688, 0.4985, 0.0164]])"
      ]
     },
     "execution_count": 39,
     "metadata": {},
     "output_type": "execute_result"
    }
   ],
   "source": [
    "# Create a tensor\n",
    "some_tensor = torch.rand(3,4)\n",
    "some_tensor"
   ]
  },
  {
   "cell_type": "code",
   "execution_count": 40,
   "id": "13988451",
   "metadata": {
    "execution": {
     "iopub.execute_input": "2023-06-29T07:08:57.925757Z",
     "iopub.status.busy": "2023-06-29T07:08:57.924939Z",
     "iopub.status.idle": "2023-06-29T07:08:57.931194Z",
     "shell.execute_reply": "2023-06-29T07:08:57.930200Z"
    },
    "papermill": {
     "duration": 0.032307,
     "end_time": "2023-06-29T07:08:57.933241",
     "exception": false,
     "start_time": "2023-06-29T07:08:57.900934",
     "status": "completed"
    },
    "tags": []
   },
   "outputs": [
    {
     "name": "stdout",
     "output_type": "stream",
     "text": [
      "Tensor Datatype : torch.float32 Tensor Shape : torch.Size([3, 4]) Tensor Device : cpu\n"
     ]
    }
   ],
   "source": [
    "print(\"Tensor Datatype :\",some_tensor.dtype,\n",
    "\"Tensor Shape :\",some_tensor.shape,\n",
    "\"Tensor Device :\",some_tensor.device)"
   ]
  },
  {
   "cell_type": "markdown",
   "id": "76ddee00",
   "metadata": {
    "execution": {
     "iopub.execute_input": "2023-06-26T15:31:18.518353Z",
     "iopub.status.busy": "2023-06-26T15:31:18.517972Z",
     "iopub.status.idle": "2023-06-26T15:31:18.526666Z",
     "shell.execute_reply": "2023-06-26T15:31:18.525296Z",
     "shell.execute_reply.started": "2023-06-26T15:31:18.518326Z"
    },
    "papermill": {
     "duration": 0.022836,
     "end_time": "2023-06-29T07:08:57.979514",
     "exception": false,
     "start_time": "2023-06-29T07:08:57.956678",
     "status": "completed"
    },
    "tags": []
   },
   "source": [
    "### Manipulating Tensors (Tensor Operations)\n",
    "1. Addition\n",
    "2. Subtraction\n",
    "3. Multiplication (element-wise)\n",
    "4. Division\n",
    "5. Matrix Multiplication"
   ]
  },
  {
   "cell_type": "code",
   "execution_count": 41,
   "id": "0feb7817",
   "metadata": {
    "execution": {
     "iopub.execute_input": "2023-06-29T07:08:58.027971Z",
     "iopub.status.busy": "2023-06-29T07:08:58.027141Z",
     "iopub.status.idle": "2023-06-29T07:08:58.036238Z",
     "shell.execute_reply": "2023-06-29T07:08:58.035206Z"
    },
    "papermill": {
     "duration": 0.035201,
     "end_time": "2023-06-29T07:08:58.038493",
     "exception": false,
     "start_time": "2023-06-29T07:08:58.003292",
     "status": "completed"
    },
    "tags": []
   },
   "outputs": [
    {
     "data": {
      "text/plain": [
       "tensor([11, 12, 13])"
      ]
     },
     "execution_count": 41,
     "metadata": {},
     "output_type": "execute_result"
    }
   ],
   "source": [
    "# Create a tensor and add 10\n",
    "tensor = torch.tensor([1,2,3])\n",
    "tensor + 10"
   ]
  },
  {
   "cell_type": "code",
   "execution_count": 42,
   "id": "88bd544b",
   "metadata": {
    "execution": {
     "iopub.execute_input": "2023-06-29T07:08:58.086616Z",
     "iopub.status.busy": "2023-06-29T07:08:58.085693Z",
     "iopub.status.idle": "2023-06-29T07:08:58.094401Z",
     "shell.execute_reply": "2023-06-29T07:08:58.093408Z"
    },
    "papermill": {
     "duration": 0.034651,
     "end_time": "2023-06-29T07:08:58.096539",
     "exception": false,
     "start_time": "2023-06-29T07:08:58.061888",
     "status": "completed"
    },
    "tags": []
   },
   "outputs": [
    {
     "data": {
      "text/plain": [
       "tensor([10, 20, 30])"
      ]
     },
     "execution_count": 42,
     "metadata": {},
     "output_type": "execute_result"
    }
   ],
   "source": [
    "# multiply\n",
    "tensor * 10"
   ]
  },
  {
   "cell_type": "code",
   "execution_count": 43,
   "id": "e22bccf2",
   "metadata": {
    "execution": {
     "iopub.execute_input": "2023-06-29T07:08:58.145841Z",
     "iopub.status.busy": "2023-06-29T07:08:58.144962Z",
     "iopub.status.idle": "2023-06-29T07:08:58.153481Z",
     "shell.execute_reply": "2023-06-29T07:08:58.152517Z"
    },
    "papermill": {
     "duration": 0.034992,
     "end_time": "2023-06-29T07:08:58.155492",
     "exception": false,
     "start_time": "2023-06-29T07:08:58.120500",
     "status": "completed"
    },
    "tags": []
   },
   "outputs": [
    {
     "data": {
      "text/plain": [
       "tensor([-9, -8, -7])"
      ]
     },
     "execution_count": 43,
     "metadata": {},
     "output_type": "execute_result"
    }
   ],
   "source": [
    "# subtract 10\n",
    "tensor - 10"
   ]
  },
  {
   "cell_type": "code",
   "execution_count": 44,
   "id": "4c636a91",
   "metadata": {
    "execution": {
     "iopub.execute_input": "2023-06-29T07:08:58.204899Z",
     "iopub.status.busy": "2023-06-29T07:08:58.204057Z",
     "iopub.status.idle": "2023-06-29T07:08:58.211065Z",
     "shell.execute_reply": "2023-06-29T07:08:58.210031Z"
    },
    "papermill": {
     "duration": 0.033637,
     "end_time": "2023-06-29T07:08:58.213021",
     "exception": false,
     "start_time": "2023-06-29T07:08:58.179384",
     "status": "completed"
    },
    "tags": []
   },
   "outputs": [
    {
     "data": {
      "text/plain": [
       "tensor([10, 20, 30])"
      ]
     },
     "execution_count": 44,
     "metadata": {},
     "output_type": "execute_result"
    }
   ],
   "source": [
    "# multiply using tensor function\n",
    "torch.mul(tensor,10)"
   ]
  },
  {
   "cell_type": "markdown",
   "id": "8994b82b",
   "metadata": {
    "papermill": {
     "duration": 0.023166,
     "end_time": "2023-06-29T07:08:58.259794",
     "exception": false,
     "start_time": "2023-06-29T07:08:58.236628",
     "status": "completed"
    },
    "tags": []
   },
   "source": [
    "### Matrix Multiplication\n",
    "\n",
    "Two Main ways to multiply in tensors\n",
    "\n",
    "1. Element-wise multipication or Cross Multiplication\n",
    "2. Matrix multiplication or Dot Product\n",
    "\n",
    "ref - https://www.mathsisfun.com/algebra/matrix-multiplying.html\n",
    "\n",
    "Two Rules must Follow:\n",
    "1. The **Inner Dimension** must match:\n",
    "* '(3,2) @ (3,2)' wont work\n",
    "* '(3,2) @ (2,3)' will work\n",
    "* '(2,3) @ (3,2)' will work\n",
    "2. Resulting matrix has dimension of **Outer Dimension**\n",
    "* (2,3) @ (3,2) -> (2,2)\n",
    "* (3,2) @ (2,3) -> (3,3)"
   ]
  },
  {
   "cell_type": "code",
   "execution_count": 45,
   "id": "1e2e0404",
   "metadata": {
    "execution": {
     "iopub.execute_input": "2023-06-29T07:08:58.311651Z",
     "iopub.status.busy": "2023-06-29T07:08:58.310756Z",
     "iopub.status.idle": "2023-06-29T07:08:58.356438Z",
     "shell.execute_reply": "2023-06-29T07:08:58.355533Z"
    },
    "papermill": {
     "duration": 0.07476,
     "end_time": "2023-06-29T07:08:58.358517",
     "exception": false,
     "start_time": "2023-06-29T07:08:58.283757",
     "status": "completed"
    },
    "tags": []
   },
   "outputs": [
    {
     "data": {
      "text/plain": [
       "tensor([[0.7946, 0.5004, 0.7012],\n",
       "        [0.9684, 0.5502, 0.7418],\n",
       "        [1.3066, 0.7820, 1.0758]])"
      ]
     },
     "execution_count": 45,
     "metadata": {},
     "output_type": "execute_result"
    }
   ],
   "source": [
    "torch.matmul(torch.rand(3,2) , torch.rand(2,3))"
   ]
  },
  {
   "cell_type": "code",
   "execution_count": 46,
   "id": "2c5f25a0",
   "metadata": {
    "execution": {
     "iopub.execute_input": "2023-06-29T07:08:58.408428Z",
     "iopub.status.busy": "2023-06-29T07:08:58.407632Z",
     "iopub.status.idle": "2023-06-29T07:08:58.413748Z",
     "shell.execute_reply": "2023-06-29T07:08:58.412841Z"
    },
    "papermill": {
     "duration": 0.032618,
     "end_time": "2023-06-29T07:08:58.415674",
     "exception": false,
     "start_time": "2023-06-29T07:08:58.383056",
     "status": "completed"
    },
    "tags": []
   },
   "outputs": [
    {
     "name": "stdout",
     "output_type": "stream",
     "text": [
      "tensor([1, 2, 3]) * tensor([1, 2, 3])\n",
      "Equals : tensor([1, 4, 9])\n"
     ]
    }
   ],
   "source": [
    "# Element wise multiplication\n",
    "print(tensor, '*' , tensor)\n",
    "print('Equals :', tensor * tensor )"
   ]
  },
  {
   "cell_type": "code",
   "execution_count": 47,
   "id": "0c76d9bb",
   "metadata": {
    "execution": {
     "iopub.execute_input": "2023-06-29T07:08:58.466372Z",
     "iopub.status.busy": "2023-06-29T07:08:58.465546Z",
     "iopub.status.idle": "2023-06-29T07:08:58.472441Z",
     "shell.execute_reply": "2023-06-29T07:08:58.471427Z"
    },
    "papermill": {
     "duration": 0.035289,
     "end_time": "2023-06-29T07:08:58.474557",
     "exception": false,
     "start_time": "2023-06-29T07:08:58.439268",
     "status": "completed"
    },
    "tags": []
   },
   "outputs": [
    {
     "data": {
      "text/plain": [
       "tensor(14)"
      ]
     },
     "execution_count": 47,
     "metadata": {},
     "output_type": "execute_result"
    }
   ],
   "source": [
    "# Matrix Multiplication\n",
    "torch.matmul(tensor,tensor)"
   ]
  },
  {
   "cell_type": "markdown",
   "id": "dada6dca",
   "metadata": {
    "papermill": {
     "duration": 0.023463,
     "end_time": "2023-06-29T07:08:58.522126",
     "exception": false,
     "start_time": "2023-06-29T07:08:58.498663",
     "status": "completed"
    },
    "tags": []
   },
   "source": [
    "### Shape Errors"
   ]
  },
  {
   "cell_type": "code",
   "execution_count": 48,
   "id": "f9555883",
   "metadata": {
    "execution": {
     "iopub.execute_input": "2023-06-29T07:08:58.572992Z",
     "iopub.status.busy": "2023-06-29T07:08:58.572143Z",
     "iopub.status.idle": "2023-06-29T07:08:58.577682Z",
     "shell.execute_reply": "2023-06-29T07:08:58.576811Z"
    },
    "papermill": {
     "duration": 0.033164,
     "end_time": "2023-06-29T07:08:58.579586",
     "exception": false,
     "start_time": "2023-06-29T07:08:58.546422",
     "status": "completed"
    },
    "tags": []
   },
   "outputs": [],
   "source": [
    "tensor_A = torch.tensor([[1,2],\n",
    "                        [3,4],\n",
    "                        [5,6]])\n",
    "\n",
    "tensor_B =torch.tensor([[7,10],\n",
    "                       [8,11],\n",
    "                       [9,12]])\n",
    "\n",
    "#torch.mm(tensor_A,tensor_B) #(mm is alias for matmul)"
   ]
  },
  {
   "cell_type": "markdown",
   "id": "0967dc6c",
   "metadata": {
    "papermill": {
     "duration": 0.023355,
     "end_time": "2023-06-29T07:08:58.626686",
     "exception": false,
     "start_time": "2023-06-29T07:08:58.603331",
     "status": "completed"
    },
    "tags": []
   },
   "source": [
    "To Fix Shape Issues, We can use Transpose \n",
    "\n",
    "A **Transpose** swithches axes or dimensions of given matrix"
   ]
  },
  {
   "cell_type": "code",
   "execution_count": 49,
   "id": "80a02762",
   "metadata": {
    "execution": {
     "iopub.execute_input": "2023-06-29T07:08:58.675016Z",
     "iopub.status.busy": "2023-06-29T07:08:58.674702Z",
     "iopub.status.idle": "2023-06-29T07:08:58.681297Z",
     "shell.execute_reply": "2023-06-29T07:08:58.680412Z"
    },
    "papermill": {
     "duration": 0.032978,
     "end_time": "2023-06-29T07:08:58.683243",
     "exception": false,
     "start_time": "2023-06-29T07:08:58.650265",
     "status": "completed"
    },
    "tags": []
   },
   "outputs": [
    {
     "data": {
      "text/plain": [
       "(tensor([[ 7, 10],\n",
       "         [ 8, 11],\n",
       "         [ 9, 12]]),\n",
       " torch.Size([3, 2]))"
      ]
     },
     "execution_count": 49,
     "metadata": {},
     "output_type": "execute_result"
    }
   ],
   "source": [
    "tensor_B, tensor_B.shape"
   ]
  },
  {
   "cell_type": "code",
   "execution_count": 50,
   "id": "ce1fd2ae",
   "metadata": {
    "execution": {
     "iopub.execute_input": "2023-06-29T07:08:58.734049Z",
     "iopub.status.busy": "2023-06-29T07:08:58.733341Z",
     "iopub.status.idle": "2023-06-29T07:08:58.740332Z",
     "shell.execute_reply": "2023-06-29T07:08:58.739448Z"
    },
    "papermill": {
     "duration": 0.034446,
     "end_time": "2023-06-29T07:08:58.742315",
     "exception": false,
     "start_time": "2023-06-29T07:08:58.707869",
     "status": "completed"
    },
    "tags": []
   },
   "outputs": [
    {
     "data": {
      "text/plain": [
       "(tensor([[ 7,  8,  9],\n",
       "         [10, 11, 12]]),\n",
       " torch.Size([2, 3]))"
      ]
     },
     "execution_count": 50,
     "metadata": {},
     "output_type": "execute_result"
    }
   ],
   "source": [
    "tensor_B.T, tensor_B.T.shape"
   ]
  },
  {
   "cell_type": "code",
   "execution_count": 51,
   "id": "be95f252",
   "metadata": {
    "execution": {
     "iopub.execute_input": "2023-06-29T07:08:58.791260Z",
     "iopub.status.busy": "2023-06-29T07:08:58.790486Z",
     "iopub.status.idle": "2023-06-29T07:08:58.800201Z",
     "shell.execute_reply": "2023-06-29T07:08:58.798978Z"
    },
    "papermill": {
     "duration": 0.036242,
     "end_time": "2023-06-29T07:08:58.802247",
     "exception": false,
     "start_time": "2023-06-29T07:08:58.766005",
     "status": "completed"
    },
    "tags": []
   },
   "outputs": [
    {
     "name": "stdout",
     "output_type": "stream",
     "text": [
      "Initial shape for tensor A torch.Size([3, 2]) and for tensor B torch.Size([3, 2])\n",
      "after transpose torch.Size([2, 3])\n",
      "output : tensor([[ 27,  30,  33],\n",
      "        [ 61,  68,  75],\n",
      "        [ 95, 106, 117]]) and its shape is torch.Size([3, 3])\n"
     ]
    }
   ],
   "source": [
    "print(f'Initial shape for tensor A {tensor_A.shape} and for tensor B {tensor_B.shape}')\n",
    "print(f'after transpose {tensor_B.T.shape}')\n",
    "print(f'output : {torch.matmul(tensor_A,tensor_B.T)} and its shape is {torch.matmul(tensor_A,tensor_B.T).shape}')"
   ]
  },
  {
   "cell_type": "markdown",
   "id": "e32a8503",
   "metadata": {
    "papermill": {
     "duration": 0.023605,
     "end_time": "2023-06-29T07:08:58.852546",
     "exception": false,
     "start_time": "2023-06-29T07:08:58.828941",
     "status": "completed"
    },
    "tags": []
   },
   "source": [
    "## Finding Min. Max. Mean, Sum, etc (tensor aggregation)"
   ]
  },
  {
   "cell_type": "code",
   "execution_count": 52,
   "id": "ebb7404f",
   "metadata": {
    "execution": {
     "iopub.execute_input": "2023-06-29T07:08:58.901751Z",
     "iopub.status.busy": "2023-06-29T07:08:58.901408Z",
     "iopub.status.idle": "2023-06-29T07:08:58.908339Z",
     "shell.execute_reply": "2023-06-29T07:08:58.907369Z"
    },
    "papermill": {
     "duration": 0.034411,
     "end_time": "2023-06-29T07:08:58.910593",
     "exception": false,
     "start_time": "2023-06-29T07:08:58.876182",
     "status": "completed"
    },
    "tags": []
   },
   "outputs": [
    {
     "data": {
      "text/plain": [
       "tensor([ 0, 10, 20, 30, 40, 50, 60, 70, 80, 90])"
      ]
     },
     "execution_count": 52,
     "metadata": {},
     "output_type": "execute_result"
    }
   ],
   "source": [
    "# Create a tensor\n",
    "x = torch.arange(0,100,10)\n",
    "x"
   ]
  },
  {
   "cell_type": "code",
   "execution_count": 53,
   "id": "842c18db",
   "metadata": {
    "execution": {
     "iopub.execute_input": "2023-06-29T07:08:58.961447Z",
     "iopub.status.busy": "2023-06-29T07:08:58.959781Z",
     "iopub.status.idle": "2023-06-29T07:08:58.968379Z",
     "shell.execute_reply": "2023-06-29T07:08:58.967457Z"
    },
    "papermill": {
     "duration": 0.035683,
     "end_time": "2023-06-29T07:08:58.970357",
     "exception": false,
     "start_time": "2023-06-29T07:08:58.934674",
     "status": "completed"
    },
    "tags": []
   },
   "outputs": [
    {
     "data": {
      "text/plain": [
       "(tensor(0), tensor(0))"
      ]
     },
     "execution_count": 53,
     "metadata": {},
     "output_type": "execute_result"
    }
   ],
   "source": [
    "# Min\n",
    "torch.min(x), x.min()"
   ]
  },
  {
   "cell_type": "code",
   "execution_count": 54,
   "id": "fcab13c6",
   "metadata": {
    "execution": {
     "iopub.execute_input": "2023-06-29T07:08:59.020802Z",
     "iopub.status.busy": "2023-06-29T07:08:59.020007Z",
     "iopub.status.idle": "2023-06-29T07:08:59.026693Z",
     "shell.execute_reply": "2023-06-29T07:08:59.025729Z"
    },
    "papermill": {
     "duration": 0.033783,
     "end_time": "2023-06-29T07:08:59.028636",
     "exception": false,
     "start_time": "2023-06-29T07:08:58.994853",
     "status": "completed"
    },
    "tags": []
   },
   "outputs": [
    {
     "data": {
      "text/plain": [
       "(tensor(90), tensor(90))"
      ]
     },
     "execution_count": 54,
     "metadata": {},
     "output_type": "execute_result"
    }
   ],
   "source": [
    "# Max\n",
    "torch.max(x), x.max()"
   ]
  },
  {
   "cell_type": "code",
   "execution_count": 55,
   "id": "a7ef35f4",
   "metadata": {
    "execution": {
     "iopub.execute_input": "2023-06-29T07:08:59.078753Z",
     "iopub.status.busy": "2023-06-29T07:08:59.078451Z",
     "iopub.status.idle": "2023-06-29T07:08:59.090432Z",
     "shell.execute_reply": "2023-06-29T07:08:59.089423Z"
    },
    "papermill": {
     "duration": 0.039476,
     "end_time": "2023-06-29T07:08:59.092621",
     "exception": false,
     "start_time": "2023-06-29T07:08:59.053145",
     "status": "completed"
    },
    "tags": []
   },
   "outputs": [
    {
     "data": {
      "text/plain": [
       "(tensor(45., dtype=torch.float16),\n",
       " tensor(45., dtype=torch.float16),\n",
       " tensor(45.))"
      ]
     },
     "execution_count": 55,
     "metadata": {},
     "output_type": "execute_result"
    }
   ],
   "source": [
    "# Mean\n",
    "torch.mean(x.type(torch.float16)) , x.type(torch.float16).mean() , torch.mean(x,dtype=torch.float32)"
   ]
  },
  {
   "cell_type": "code",
   "execution_count": 56,
   "id": "dac984f8",
   "metadata": {
    "execution": {
     "iopub.execute_input": "2023-06-29T07:08:59.144867Z",
     "iopub.status.busy": "2023-06-29T07:08:59.144069Z",
     "iopub.status.idle": "2023-06-29T07:08:59.150696Z",
     "shell.execute_reply": "2023-06-29T07:08:59.149726Z"
    },
    "papermill": {
     "duration": 0.033788,
     "end_time": "2023-06-29T07:08:59.152849",
     "exception": false,
     "start_time": "2023-06-29T07:08:59.119061",
     "status": "completed"
    },
    "tags": []
   },
   "outputs": [
    {
     "data": {
      "text/plain": [
       "(tensor(450), tensor(450))"
      ]
     },
     "execution_count": 56,
     "metadata": {},
     "output_type": "execute_result"
    }
   ],
   "source": [
    "# Sum\n",
    "torch.sum(x) , x.sum()"
   ]
  },
  {
   "cell_type": "markdown",
   "id": "fb8d3b1a",
   "metadata": {
    "papermill": {
     "duration": 0.024952,
     "end_time": "2023-06-29T07:08:59.203209",
     "exception": false,
     "start_time": "2023-06-29T07:08:59.178257",
     "status": "completed"
    },
    "tags": []
   },
   "source": [
    "## Finding Positinal min and max"
   ]
  },
  {
   "cell_type": "code",
   "execution_count": 57,
   "id": "75b770b9",
   "metadata": {
    "execution": {
     "iopub.execute_input": "2023-06-29T07:08:59.254537Z",
     "iopub.status.busy": "2023-06-29T07:08:59.253676Z",
     "iopub.status.idle": "2023-06-29T07:08:59.260293Z",
     "shell.execute_reply": "2023-06-29T07:08:59.259329Z"
    },
    "papermill": {
     "duration": 0.034711,
     "end_time": "2023-06-29T07:08:59.262247",
     "exception": false,
     "start_time": "2023-06-29T07:08:59.227536",
     "status": "completed"
    },
    "tags": []
   },
   "outputs": [
    {
     "data": {
      "text/plain": [
       "tensor([ 1, 11, 21, 31, 41, 51, 61, 71, 81, 91])"
      ]
     },
     "execution_count": 57,
     "metadata": {},
     "output_type": "execute_result"
    }
   ],
   "source": [
    "x+1"
   ]
  },
  {
   "cell_type": "code",
   "execution_count": 58,
   "id": "323389bb",
   "metadata": {
    "execution": {
     "iopub.execute_input": "2023-06-29T07:08:59.314199Z",
     "iopub.status.busy": "2023-06-29T07:08:59.313290Z",
     "iopub.status.idle": "2023-06-29T07:08:59.322430Z",
     "shell.execute_reply": "2023-06-29T07:08:59.321432Z"
    },
    "papermill": {
     "duration": 0.037352,
     "end_time": "2023-06-29T07:08:59.324299",
     "exception": false,
     "start_time": "2023-06-29T07:08:59.286947",
     "status": "completed"
    },
    "tags": []
   },
   "outputs": [
    {
     "name": "stdout",
     "output_type": "stream",
     "text": [
      "location :  tensor(0)\n",
      "element at location :  tensor(1)\n"
     ]
    }
   ],
   "source": [
    "# Position in tensor where minimum value exists\n",
    "print('location : ',(x+1).argmin())\n",
    "print('element at location : ',(x+1)[(x+1).argmin()])"
   ]
  },
  {
   "cell_type": "code",
   "execution_count": 59,
   "id": "12376ccd",
   "metadata": {
    "execution": {
     "iopub.execute_input": "2023-06-29T07:08:59.374940Z",
     "iopub.status.busy": "2023-06-29T07:08:59.374368Z",
     "iopub.status.idle": "2023-06-29T07:08:59.381111Z",
     "shell.execute_reply": "2023-06-29T07:08:59.379824Z"
    },
    "papermill": {
     "duration": 0.033997,
     "end_time": "2023-06-29T07:08:59.383041",
     "exception": false,
     "start_time": "2023-06-29T07:08:59.349044",
     "status": "completed"
    },
    "tags": []
   },
   "outputs": [
    {
     "name": "stdout",
     "output_type": "stream",
     "text": [
      "location :  tensor(9)\n",
      "element at location :  tensor(91)\n"
     ]
    }
   ],
   "source": [
    "# Position in tensor where maximum value exists\n",
    "print('location : ',(x+1).argmax())\n",
    "print('element at location : ',(x+1)[(x+1).argmax()])"
   ]
  },
  {
   "cell_type": "markdown",
   "id": "bcde3ad8",
   "metadata": {
    "papermill": {
     "duration": 0.025096,
     "end_time": "2023-06-29T07:08:59.434455",
     "exception": false,
     "start_time": "2023-06-29T07:08:59.409359",
     "status": "completed"
    },
    "tags": []
   },
   "source": [
    "## Reshaping, Stacking, Squeezing and Unsqueezing tensor\n",
    "\n",
    "* Reshaping - reshapes input tensor to defined shape\n",
    "* View - Returns a view of input tensor of certain shape but keeps same memory as original\n",
    "* Stacking - Combine Multiple tensors on top of each other (vstack) or side by side (hstack)\n",
    "* Squeeze - **removes unit** dimension from tensor\n",
    "* Unsqueeze - **adds one** dimension to tensor\n",
    "* Permute - Reaturn a view of input with Dimension Permuted (swapped) in certain way "
   ]
  },
  {
   "cell_type": "code",
   "execution_count": 60,
   "id": "ea355939",
   "metadata": {
    "execution": {
     "iopub.execute_input": "2023-06-29T07:08:59.492980Z",
     "iopub.status.busy": "2023-06-29T07:08:59.492646Z",
     "iopub.status.idle": "2023-06-29T07:08:59.501131Z",
     "shell.execute_reply": "2023-06-29T07:08:59.500275Z"
    },
    "papermill": {
     "duration": 0.036318,
     "end_time": "2023-06-29T07:08:59.503158",
     "exception": false,
     "start_time": "2023-06-29T07:08:59.466840",
     "status": "completed"
    },
    "tags": []
   },
   "outputs": [
    {
     "data": {
      "text/plain": [
       "(tensor([1., 2., 3., 4., 5., 6., 7., 8., 9.]), torch.Size([9]))"
      ]
     },
     "execution_count": 60,
     "metadata": {},
     "output_type": "execute_result"
    }
   ],
   "source": [
    "# Create Tensor\n",
    "x = torch.arange(1.,10.)\n",
    "x , x.shape"
   ]
  },
  {
   "cell_type": "code",
   "execution_count": 61,
   "id": "abf7c7c2",
   "metadata": {
    "execution": {
     "iopub.execute_input": "2023-06-29T07:08:59.556669Z",
     "iopub.status.busy": "2023-06-29T07:08:59.555848Z",
     "iopub.status.idle": "2023-06-29T07:08:59.562769Z",
     "shell.execute_reply": "2023-06-29T07:08:59.561771Z"
    },
    "papermill": {
     "duration": 0.036669,
     "end_time": "2023-06-29T07:08:59.565177",
     "exception": false,
     "start_time": "2023-06-29T07:08:59.528508",
     "status": "completed"
    },
    "tags": []
   },
   "outputs": [
    {
     "name": "stdout",
     "output_type": "stream",
     "text": [
      "torch.Size([9])\n",
      "tensor([[1.],\n",
      "        [2.],\n",
      "        [3.],\n",
      "        [4.],\n",
      "        [5.],\n",
      "        [6.],\n",
      "        [7.],\n",
      "        [8.],\n",
      "        [9.]])\n",
      "torch.Size([9, 1])\n"
     ]
    }
   ],
   "source": [
    "# Add extra dimension\n",
    "x_reshaped = x.reshape(9,1)\n",
    "print(x.size())\n",
    "print(x_reshaped)\n",
    "print(x_reshaped.size())"
   ]
  },
  {
   "cell_type": "code",
   "execution_count": 62,
   "id": "a897b557",
   "metadata": {
    "execution": {
     "iopub.execute_input": "2023-06-29T07:08:59.654348Z",
     "iopub.status.busy": "2023-06-29T07:08:59.653958Z",
     "iopub.status.idle": "2023-06-29T07:08:59.666778Z",
     "shell.execute_reply": "2023-06-29T07:08:59.665329Z"
    },
    "papermill": {
     "duration": 0.056798,
     "end_time": "2023-06-29T07:08:59.671054",
     "exception": false,
     "start_time": "2023-06-29T07:08:59.614256",
     "status": "completed"
    },
    "tags": []
   },
   "outputs": [
    {
     "data": {
      "text/plain": [
       "(tensor([[1., 2., 3.],\n",
       "         [4., 5., 6.],\n",
       "         [7., 8., 9.]]),\n",
       " torch.Size([3, 3]))"
      ]
     },
     "execution_count": 62,
     "metadata": {},
     "output_type": "execute_result"
    }
   ],
   "source": [
    "# Change View\n",
    "z = x.view(3,3)\n",
    "z, z.shape"
   ]
  },
  {
   "cell_type": "code",
   "execution_count": 63,
   "id": "47abada8",
   "metadata": {
    "execution": {
     "iopub.execute_input": "2023-06-29T07:08:59.725930Z",
     "iopub.status.busy": "2023-06-29T07:08:59.725027Z",
     "iopub.status.idle": "2023-06-29T07:08:59.734748Z",
     "shell.execute_reply": "2023-06-29T07:08:59.733773Z"
    },
    "papermill": {
     "duration": 0.037757,
     "end_time": "2023-06-29T07:08:59.736712",
     "exception": false,
     "start_time": "2023-06-29T07:08:59.698955",
     "status": "completed"
    },
    "tags": []
   },
   "outputs": [
    {
     "data": {
      "text/plain": [
       "(tensor([[5., 2., 3.],\n",
       "         [5., 5., 6.],\n",
       "         [5., 8., 9.]]),\n",
       " tensor([5., 2., 3., 5., 5., 6., 5., 8., 9.]))"
      ]
     },
     "execution_count": 63,
     "metadata": {},
     "output_type": "execute_result"
    }
   ],
   "source": [
    "# Changing z changes x because it shares same memory as original but doesnt affect the shape\n",
    "z[:,0]=5\n",
    "z, x"
   ]
  },
  {
   "cell_type": "code",
   "execution_count": 64,
   "id": "549737ba",
   "metadata": {
    "execution": {
     "iopub.execute_input": "2023-06-29T07:08:59.793283Z",
     "iopub.status.busy": "2023-06-29T07:08:59.792519Z",
     "iopub.status.idle": "2023-06-29T07:08:59.800122Z",
     "shell.execute_reply": "2023-06-29T07:08:59.799190Z"
    },
    "papermill": {
     "duration": 0.036337,
     "end_time": "2023-06-29T07:08:59.802092",
     "exception": false,
     "start_time": "2023-06-29T07:08:59.765755",
     "status": "completed"
    },
    "tags": []
   },
   "outputs": [
    {
     "data": {
      "text/plain": [
       "tensor([[5., 2., 3., 5., 5., 6., 5., 8., 9.],\n",
       "        [5., 2., 3., 5., 5., 6., 5., 8., 9.],\n",
       "        [5., 2., 3., 5., 5., 6., 5., 8., 9.],\n",
       "        [5., 2., 3., 5., 5., 6., 5., 8., 9.]])"
      ]
     },
     "execution_count": 64,
     "metadata": {},
     "output_type": "execute_result"
    }
   ],
   "source": [
    "# Stack tensors\n",
    "x_stacked = torch.stack([x, x, x, x], dim=0)\n",
    "x_stacked"
   ]
  },
  {
   "cell_type": "code",
   "execution_count": 65,
   "id": "f1e2329d",
   "metadata": {
    "execution": {
     "iopub.execute_input": "2023-06-29T07:08:59.855442Z",
     "iopub.status.busy": "2023-06-29T07:08:59.854636Z",
     "iopub.status.idle": "2023-06-29T07:08:59.862079Z",
     "shell.execute_reply": "2023-06-29T07:08:59.860969Z"
    },
    "papermill": {
     "duration": 0.036375,
     "end_time": "2023-06-29T07:08:59.863962",
     "exception": false,
     "start_time": "2023-06-29T07:08:59.827587",
     "status": "completed"
    },
    "tags": []
   },
   "outputs": [
    {
     "name": "stdout",
     "output_type": "stream",
     "text": [
      "Previouse tensor : tensor([[5.],\n",
      "        [2.],\n",
      "        [3.],\n",
      "        [5.],\n",
      "        [5.],\n",
      "        [6.],\n",
      "        [5.],\n",
      "        [8.],\n",
      "        [9.]])\n",
      "Previoe shape : torch.Size([9, 1])\n",
      "\n",
      "New tensor : tensor([5., 2., 3., 5., 5., 6., 5., 8., 9.])\n",
      "New Shape : torch.Size([9])\n"
     ]
    }
   ],
   "source": [
    "# torch.squeeze() - removes all single dimensions from target tensor\n",
    "print(f\"Previouse tensor : {x_reshaped}\")\n",
    "print(f\"Previoe shape : {x_reshaped.shape}\")\n",
    "\n",
    "# Remove extra dimension from x_reshaped\n",
    "x_squeezed = x_reshaped.squeeze()\n",
    "print(f\"\\nNew tensor : {x_squeezed}\")\n",
    "print(f\"New Shape : {x_squeezed.shape}\")\n",
    "\n"
   ]
  },
  {
   "cell_type": "code",
   "execution_count": 66,
   "id": "3c60ed4d",
   "metadata": {
    "execution": {
     "iopub.execute_input": "2023-06-29T07:08:59.916844Z",
     "iopub.status.busy": "2023-06-29T07:08:59.915933Z",
     "iopub.status.idle": "2023-06-29T07:08:59.922760Z",
     "shell.execute_reply": "2023-06-29T07:08:59.921831Z"
    },
    "papermill": {
     "duration": 0.035085,
     "end_time": "2023-06-29T07:08:59.924699",
     "exception": false,
     "start_time": "2023-06-29T07:08:59.889614",
     "status": "completed"
    },
    "tags": []
   },
   "outputs": [
    {
     "data": {
      "text/plain": [
       "tensor([5., 2., 3., 5., 5., 6., 5., 8., 9.])"
      ]
     },
     "execution_count": 66,
     "metadata": {},
     "output_type": "execute_result"
    }
   ],
   "source": [
    "x_reshaped.squeeze()"
   ]
  },
  {
   "cell_type": "code",
   "execution_count": 67,
   "id": "9db224ae",
   "metadata": {
    "execution": {
     "iopub.execute_input": "2023-06-29T07:08:59.978006Z",
     "iopub.status.busy": "2023-06-29T07:08:59.977169Z",
     "iopub.status.idle": "2023-06-29T07:08:59.985948Z",
     "shell.execute_reply": "2023-06-29T07:08:59.984714Z"
    },
    "papermill": {
     "duration": 0.037724,
     "end_time": "2023-06-29T07:08:59.987974",
     "exception": false,
     "start_time": "2023-06-29T07:08:59.950250",
     "status": "completed"
    },
    "tags": []
   },
   "outputs": [
    {
     "name": "stdout",
     "output_type": "stream",
     "text": [
      "Previous target : tensor([5., 2., 3., 5., 5., 6., 5., 8., 9.])\n",
      "Previous Shape : torch.Size([9])\n",
      "\n",
      "New tensor : tensor([[5., 2., 3., 5., 5., 6., 5., 8., 9.]])\n",
      "New Shape : torch.Size([1, 9])\n"
     ]
    }
   ],
   "source": [
    "# torch.unsqueeze() - adds a single dimension to a target tensor at a specific dimension\n",
    "print(f\"Previous target : {x_squeezed}\")\n",
    "print(f\"Previous Shape : {x_squeezed.shape}\")\n",
    "\n",
    "# Adding dimension to x_reshaped\n",
    "x_unsqueezed = x_squeezed.unsqueeze(dim=-0)\n",
    "print(f\"\\nNew tensor : {x_unsqueezed}\")\n",
    "print(f\"New Shape : {x_unsqueezed.shape}\")"
   ]
  },
  {
   "cell_type": "code",
   "execution_count": null,
   "id": "bee2e7e9",
   "metadata": {
    "papermill": {
     "duration": 0.025508,
     "end_time": "2023-06-29T07:09:00.039771",
     "exception": false,
     "start_time": "2023-06-29T07:09:00.014263",
     "status": "completed"
    },
    "tags": []
   },
   "outputs": [],
   "source": []
  }
 ],
 "metadata": {
  "kernelspec": {
   "display_name": "Python 3",
   "language": "python",
   "name": "python3"
  },
  "language_info": {
   "codemirror_mode": {
    "name": "ipython",
    "version": 3
   },
   "file_extension": ".py",
   "mimetype": "text/x-python",
   "name": "python",
   "nbconvert_exporter": "python",
   "pygments_lexer": "ipython3",
   "version": "3.10.10"
  },
  "papermill": {
   "default_parameters": {},
   "duration": 20.728522,
   "end_time": "2023-06-29T07:09:02.313240",
   "environment_variables": {},
   "exception": null,
   "input_path": "__notebook__.ipynb",
   "output_path": "__notebook__.ipynb",
   "parameters": {},
   "start_time": "2023-06-29T07:08:41.584718",
   "version": "2.4.0"
  }
 },
 "nbformat": 4,
 "nbformat_minor": 5
}
