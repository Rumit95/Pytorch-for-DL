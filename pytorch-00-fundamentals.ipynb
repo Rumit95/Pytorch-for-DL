{
 "cells": [
  {
   "cell_type": "code",
   "execution_count": 1,
   "id": "c95dacad",
   "metadata": {
    "_cell_guid": "b1076dfc-b9ad-4769-8c92-a6c4dae69d19",
    "_uuid": "8f2839f25d086af736a60e9eeb907d3b93b6e0e5",
    "execution": {
     "iopub.execute_input": "2023-06-30T06:18:37.524473Z",
     "iopub.status.busy": "2023-06-30T06:18:37.523699Z",
     "iopub.status.idle": "2023-06-30T06:18:41.823805Z",
     "shell.execute_reply": "2023-06-30T06:18:41.822888Z"
    },
    "papermill": {
     "duration": 4.3303,
     "end_time": "2023-06-30T06:18:41.826896",
     "exception": false,
     "start_time": "2023-06-30T06:18:37.496596",
     "status": "completed"
    },
    "tags": []
   },
   "outputs": [
    {
     "data": {
      "text/plain": [
       "'2.0.0'"
      ]
     },
     "execution_count": 1,
     "metadata": {},
     "output_type": "execute_result"
    }
   ],
   "source": [
    "import torch\n",
    "import pandas as pd\n",
    "import numpy as np\n",
    "import matplotlib.pyplot as plt\n",
    "torch.__version__"
   ]
  },
  {
   "cell_type": "markdown",
   "id": "dc04c88f",
   "metadata": {
    "execution": {
     "iopub.execute_input": "2023-06-25T15:31:29.081596Z",
     "iopub.status.busy": "2023-06-25T15:31:29.081220Z",
     "iopub.status.idle": "2023-06-25T15:31:29.086052Z",
     "shell.execute_reply": "2023-06-25T15:31:29.085102Z",
     "shell.execute_reply.started": "2023-06-25T15:31:29.081561Z"
    },
    "papermill": {
     "duration": 0.024322,
     "end_time": "2023-06-30T06:18:41.878069",
     "exception": false,
     "start_time": "2023-06-30T06:18:41.853747",
     "status": "completed"
    },
    "tags": []
   },
   "source": [
    "## Introduction to Tensor\n",
    "\n",
    "### Creating Tensors\n",
    "\n",
    "PyTorch tensor are create using `torch.Tensor()`\n",
    "\n",
    "ref -\n",
    "* https://pytorch.org/docs/stable/tensors.html"
   ]
  },
  {
   "cell_type": "code",
   "execution_count": 2,
   "id": "bfe6bace",
   "metadata": {
    "execution": {
     "iopub.execute_input": "2023-06-30T06:18:41.931248Z",
     "iopub.status.busy": "2023-06-30T06:18:41.929466Z",
     "iopub.status.idle": "2023-06-30T06:18:41.979543Z",
     "shell.execute_reply": "2023-06-30T06:18:41.978606Z"
    },
    "papermill": {
     "duration": 0.078893,
     "end_time": "2023-06-30T06:18:41.981519",
     "exception": false,
     "start_time": "2023-06-30T06:18:41.902626",
     "status": "completed"
    },
    "tags": []
   },
   "outputs": [
    {
     "data": {
      "text/plain": [
       "tensor(7)"
      ]
     },
     "execution_count": 2,
     "metadata": {},
     "output_type": "execute_result"
    }
   ],
   "source": [
    "# Scaler\n",
    "scaler = torch.tensor(7)\n",
    "scaler"
   ]
  },
  {
   "cell_type": "code",
   "execution_count": 3,
   "id": "528b3deb",
   "metadata": {
    "execution": {
     "iopub.execute_input": "2023-06-30T06:18:42.032391Z",
     "iopub.status.busy": "2023-06-30T06:18:42.031844Z",
     "iopub.status.idle": "2023-06-30T06:18:42.037272Z",
     "shell.execute_reply": "2023-06-30T06:18:42.036434Z"
    },
    "papermill": {
     "duration": 0.032821,
     "end_time": "2023-06-30T06:18:42.039288",
     "exception": false,
     "start_time": "2023-06-30T06:18:42.006467",
     "status": "completed"
    },
    "tags": []
   },
   "outputs": [
    {
     "data": {
      "text/plain": [
       "0"
      ]
     },
     "execution_count": 3,
     "metadata": {},
     "output_type": "execute_result"
    }
   ],
   "source": [
    "scaler.ndim"
   ]
  },
  {
   "cell_type": "code",
   "execution_count": 4,
   "id": "45f5804a",
   "metadata": {
    "execution": {
     "iopub.execute_input": "2023-06-30T06:18:42.092070Z",
     "iopub.status.busy": "2023-06-30T06:18:42.091233Z",
     "iopub.status.idle": "2023-06-30T06:18:42.097321Z",
     "shell.execute_reply": "2023-06-30T06:18:42.096375Z"
    },
    "papermill": {
     "duration": 0.034035,
     "end_time": "2023-06-30T06:18:42.099287",
     "exception": false,
     "start_time": "2023-06-30T06:18:42.065252",
     "status": "completed"
    },
    "tags": []
   },
   "outputs": [
    {
     "data": {
      "text/plain": [
       "7"
      ]
     },
     "execution_count": 4,
     "metadata": {},
     "output_type": "execute_result"
    }
   ],
   "source": [
    "# Get Tensor back ans int\n",
    "scaler.item()"
   ]
  },
  {
   "cell_type": "code",
   "execution_count": 5,
   "id": "1d61b1f9",
   "metadata": {
    "execution": {
     "iopub.execute_input": "2023-06-30T06:18:42.151014Z",
     "iopub.status.busy": "2023-06-30T06:18:42.150240Z",
     "iopub.status.idle": "2023-06-30T06:18:42.157893Z",
     "shell.execute_reply": "2023-06-30T06:18:42.157012Z"
    },
    "papermill": {
     "duration": 0.036069,
     "end_time": "2023-06-30T06:18:42.159848",
     "exception": false,
     "start_time": "2023-06-30T06:18:42.123779",
     "status": "completed"
    },
    "tags": []
   },
   "outputs": [
    {
     "data": {
      "text/plain": [
       "tensor([7, 7])"
      ]
     },
     "execution_count": 5,
     "metadata": {},
     "output_type": "execute_result"
    }
   ],
   "source": [
    "# Vector\n",
    "vector = torch.tensor([7,7])\n",
    "vector"
   ]
  },
  {
   "cell_type": "code",
   "execution_count": 6,
   "id": "b02c320f",
   "metadata": {
    "execution": {
     "iopub.execute_input": "2023-06-30T06:18:42.211582Z",
     "iopub.status.busy": "2023-06-30T06:18:42.210210Z",
     "iopub.status.idle": "2023-06-30T06:18:42.216421Z",
     "shell.execute_reply": "2023-06-30T06:18:42.215420Z"
    },
    "papermill": {
     "duration": 0.033775,
     "end_time": "2023-06-30T06:18:42.218497",
     "exception": false,
     "start_time": "2023-06-30T06:18:42.184722",
     "status": "completed"
    },
    "tags": []
   },
   "outputs": [
    {
     "data": {
      "text/plain": [
       "1"
      ]
     },
     "execution_count": 6,
     "metadata": {},
     "output_type": "execute_result"
    }
   ],
   "source": [
    "vector.ndim"
   ]
  },
  {
   "cell_type": "code",
   "execution_count": 7,
   "id": "a1ece513",
   "metadata": {
    "execution": {
     "iopub.execute_input": "2023-06-30T06:18:42.273509Z",
     "iopub.status.busy": "2023-06-30T06:18:42.272724Z",
     "iopub.status.idle": "2023-06-30T06:18:42.278711Z",
     "shell.execute_reply": "2023-06-30T06:18:42.277801Z"
    },
    "papermill": {
     "duration": 0.034757,
     "end_time": "2023-06-30T06:18:42.280630",
     "exception": false,
     "start_time": "2023-06-30T06:18:42.245873",
     "status": "completed"
    },
    "tags": []
   },
   "outputs": [
    {
     "data": {
      "text/plain": [
       "torch.Size([2])"
      ]
     },
     "execution_count": 7,
     "metadata": {},
     "output_type": "execute_result"
    }
   ],
   "source": [
    "vector.shape"
   ]
  },
  {
   "cell_type": "code",
   "execution_count": 8,
   "id": "b66675a1",
   "metadata": {
    "execution": {
     "iopub.execute_input": "2023-06-30T06:18:42.332979Z",
     "iopub.status.busy": "2023-06-30T06:18:42.332212Z",
     "iopub.status.idle": "2023-06-30T06:18:42.342209Z",
     "shell.execute_reply": "2023-06-30T06:18:42.341306Z"
    },
    "papermill": {
     "duration": 0.038502,
     "end_time": "2023-06-30T06:18:42.344219",
     "exception": false,
     "start_time": "2023-06-30T06:18:42.305717",
     "status": "completed"
    },
    "tags": []
   },
   "outputs": [
    {
     "data": {
      "text/plain": [
       "tensor([[7, 8],\n",
       "        [6, 5]])"
      ]
     },
     "execution_count": 8,
     "metadata": {},
     "output_type": "execute_result"
    }
   ],
   "source": [
    "# Matrix\n",
    "MATRIX = torch.tensor([[7,8],\n",
    "                      [6,5]])\n",
    "MATRIX"
   ]
  },
  {
   "cell_type": "code",
   "execution_count": 9,
   "id": "4d584ca6",
   "metadata": {
    "execution": {
     "iopub.execute_input": "2023-06-30T06:18:42.397114Z",
     "iopub.status.busy": "2023-06-30T06:18:42.396545Z",
     "iopub.status.idle": "2023-06-30T06:18:42.402059Z",
     "shell.execute_reply": "2023-06-30T06:18:42.401224Z"
    },
    "papermill": {
     "duration": 0.03435,
     "end_time": "2023-06-30T06:18:42.404048",
     "exception": false,
     "start_time": "2023-06-30T06:18:42.369698",
     "status": "completed"
    },
    "tags": []
   },
   "outputs": [
    {
     "data": {
      "text/plain": [
       "2"
      ]
     },
     "execution_count": 9,
     "metadata": {},
     "output_type": "execute_result"
    }
   ],
   "source": [
    "MATRIX.ndim"
   ]
  },
  {
   "cell_type": "code",
   "execution_count": 10,
   "id": "6104d62e",
   "metadata": {
    "execution": {
     "iopub.execute_input": "2023-06-30T06:18:42.462668Z",
     "iopub.status.busy": "2023-06-30T06:18:42.461268Z",
     "iopub.status.idle": "2023-06-30T06:18:42.467798Z",
     "shell.execute_reply": "2023-06-30T06:18:42.466966Z"
    },
    "papermill": {
     "duration": 0.03634,
     "end_time": "2023-06-30T06:18:42.469821",
     "exception": false,
     "start_time": "2023-06-30T06:18:42.433481",
     "status": "completed"
    },
    "tags": []
   },
   "outputs": [
    {
     "data": {
      "text/plain": [
       "tensor([7, 8])"
      ]
     },
     "execution_count": 10,
     "metadata": {},
     "output_type": "execute_result"
    }
   ],
   "source": [
    "MATRIX[0]"
   ]
  },
  {
   "cell_type": "code",
   "execution_count": 11,
   "id": "c592ac70",
   "metadata": {
    "execution": {
     "iopub.execute_input": "2023-06-30T06:18:42.522223Z",
     "iopub.status.busy": "2023-06-30T06:18:42.521810Z",
     "iopub.status.idle": "2023-06-30T06:18:42.527655Z",
     "shell.execute_reply": "2023-06-30T06:18:42.526745Z"
    },
    "papermill": {
     "duration": 0.034119,
     "end_time": "2023-06-30T06:18:42.529551",
     "exception": false,
     "start_time": "2023-06-30T06:18:42.495432",
     "status": "completed"
    },
    "tags": []
   },
   "outputs": [
    {
     "data": {
      "text/plain": [
       "tensor([6, 5])"
      ]
     },
     "execution_count": 11,
     "metadata": {},
     "output_type": "execute_result"
    }
   ],
   "source": [
    "MATRIX[1]"
   ]
  },
  {
   "cell_type": "code",
   "execution_count": 12,
   "id": "63f0b5eb",
   "metadata": {
    "execution": {
     "iopub.execute_input": "2023-06-30T06:18:42.584701Z",
     "iopub.status.busy": "2023-06-30T06:18:42.583853Z",
     "iopub.status.idle": "2023-06-30T06:18:42.590358Z",
     "shell.execute_reply": "2023-06-30T06:18:42.588875Z"
    },
    "papermill": {
     "duration": 0.035549,
     "end_time": "2023-06-30T06:18:42.592358",
     "exception": false,
     "start_time": "2023-06-30T06:18:42.556809",
     "status": "completed"
    },
    "tags": []
   },
   "outputs": [
    {
     "data": {
      "text/plain": [
       "torch.Size([2, 2])"
      ]
     },
     "execution_count": 12,
     "metadata": {},
     "output_type": "execute_result"
    }
   ],
   "source": [
    "MATRIX.shape"
   ]
  },
  {
   "cell_type": "code",
   "execution_count": 13,
   "id": "75969eee",
   "metadata": {
    "execution": {
     "iopub.execute_input": "2023-06-30T06:18:42.646420Z",
     "iopub.status.busy": "2023-06-30T06:18:42.645618Z",
     "iopub.status.idle": "2023-06-30T06:18:42.652701Z",
     "shell.execute_reply": "2023-06-30T06:18:42.651747Z"
    },
    "papermill": {
     "duration": 0.036346,
     "end_time": "2023-06-30T06:18:42.654592",
     "exception": false,
     "start_time": "2023-06-30T06:18:42.618246",
     "status": "completed"
    },
    "tags": []
   },
   "outputs": [
    {
     "data": {
      "text/plain": [
       "tensor([[[1, 2, 3],\n",
       "         [5, 6, 6],\n",
       "         [7, 8, 9]]])"
      ]
     },
     "execution_count": 13,
     "metadata": {},
     "output_type": "execute_result"
    }
   ],
   "source": [
    "# Tensor\n",
    "TENSOR = torch.tensor([[[1,2,3],\n",
    "                      [5,6,6],\n",
    "                      [7,8,9]]])\n",
    "TENSOR"
   ]
  },
  {
   "cell_type": "code",
   "execution_count": 14,
   "id": "ef9b53d3",
   "metadata": {
    "execution": {
     "iopub.execute_input": "2023-06-30T06:18:42.708116Z",
     "iopub.status.busy": "2023-06-30T06:18:42.707321Z",
     "iopub.status.idle": "2023-06-30T06:18:42.713099Z",
     "shell.execute_reply": "2023-06-30T06:18:42.712181Z"
    },
    "papermill": {
     "duration": 0.034738,
     "end_time": "2023-06-30T06:18:42.714987",
     "exception": false,
     "start_time": "2023-06-30T06:18:42.680249",
     "status": "completed"
    },
    "tags": []
   },
   "outputs": [
    {
     "data": {
      "text/plain": [
       "3"
      ]
     },
     "execution_count": 14,
     "metadata": {},
     "output_type": "execute_result"
    }
   ],
   "source": [
    "TENSOR.ndim"
   ]
  },
  {
   "cell_type": "code",
   "execution_count": 15,
   "id": "f59cf747",
   "metadata": {
    "execution": {
     "iopub.execute_input": "2023-06-30T06:18:42.769179Z",
     "iopub.status.busy": "2023-06-30T06:18:42.768358Z",
     "iopub.status.idle": "2023-06-30T06:18:42.774206Z",
     "shell.execute_reply": "2023-06-30T06:18:42.773276Z"
    },
    "papermill": {
     "duration": 0.035105,
     "end_time": "2023-06-30T06:18:42.776192",
     "exception": false,
     "start_time": "2023-06-30T06:18:42.741087",
     "status": "completed"
    },
    "tags": []
   },
   "outputs": [
    {
     "data": {
      "text/plain": [
       "torch.Size([1, 3, 3])"
      ]
     },
     "execution_count": 15,
     "metadata": {},
     "output_type": "execute_result"
    }
   ],
   "source": [
    "TENSOR.shape"
   ]
  },
  {
   "cell_type": "code",
   "execution_count": 16,
   "id": "d8cd8567",
   "metadata": {
    "execution": {
     "iopub.execute_input": "2023-06-30T06:18:42.829250Z",
     "iopub.status.busy": "2023-06-30T06:18:42.828504Z",
     "iopub.status.idle": "2023-06-30T06:18:42.834596Z",
     "shell.execute_reply": "2023-06-30T06:18:42.833686Z"
    },
    "papermill": {
     "duration": 0.034778,
     "end_time": "2023-06-30T06:18:42.836660",
     "exception": false,
     "start_time": "2023-06-30T06:18:42.801882",
     "status": "completed"
    },
    "tags": []
   },
   "outputs": [
    {
     "data": {
      "text/plain": [
       "tensor([[1, 2, 3],\n",
       "        [5, 6, 6],\n",
       "        [7, 8, 9]])"
      ]
     },
     "execution_count": 16,
     "metadata": {},
     "output_type": "execute_result"
    }
   ],
   "source": [
    "TENSOR[0]"
   ]
  },
  {
   "cell_type": "code",
   "execution_count": 17,
   "id": "6764a98e",
   "metadata": {
    "execution": {
     "iopub.execute_input": "2023-06-30T06:18:42.889845Z",
     "iopub.status.busy": "2023-06-30T06:18:42.889249Z",
     "iopub.status.idle": "2023-06-30T06:18:42.896687Z",
     "shell.execute_reply": "2023-06-30T06:18:42.895833Z"
    },
    "papermill": {
     "duration": 0.036026,
     "end_time": "2023-06-30T06:18:42.898640",
     "exception": false,
     "start_time": "2023-06-30T06:18:42.862614",
     "status": "completed"
    },
    "tags": []
   },
   "outputs": [
    {
     "data": {
      "text/plain": [
       "tensor([[[1, 2, 3],\n",
       "         [4, 5, 6],\n",
       "         [7, 8, 9]],\n",
       "\n",
       "        [[1, 2, 3],\n",
       "         [4, 5, 6],\n",
       "         [7, 8, 9]]])"
      ]
     },
     "execution_count": 17,
     "metadata": {},
     "output_type": "execute_result"
    }
   ],
   "source": [
    "# Practice\n",
    "TENSOR1 = torch.tensor([[[1,2,3],\n",
    "                      [4,5,6],\n",
    "                      [7,8,9]],\n",
    "                     [[1,2,3],\n",
    "                      [4,5,6],\n",
    "                      [7,8,9]]])\n",
    "TENSOR1"
   ]
  },
  {
   "cell_type": "code",
   "execution_count": 18,
   "id": "5d1570be",
   "metadata": {
    "execution": {
     "iopub.execute_input": "2023-06-30T06:18:42.952441Z",
     "iopub.status.busy": "2023-06-30T06:18:42.951653Z",
     "iopub.status.idle": "2023-06-30T06:18:42.957432Z",
     "shell.execute_reply": "2023-06-30T06:18:42.956530Z"
    },
    "papermill": {
     "duration": 0.034497,
     "end_time": "2023-06-30T06:18:42.959314",
     "exception": false,
     "start_time": "2023-06-30T06:18:42.924817",
     "status": "completed"
    },
    "tags": []
   },
   "outputs": [
    {
     "data": {
      "text/plain": [
       "3"
      ]
     },
     "execution_count": 18,
     "metadata": {},
     "output_type": "execute_result"
    }
   ],
   "source": [
    "TENSOR1.ndim"
   ]
  },
  {
   "cell_type": "code",
   "execution_count": 19,
   "id": "5069af58",
   "metadata": {
    "execution": {
     "iopub.execute_input": "2023-06-30T06:18:43.014755Z",
     "iopub.status.busy": "2023-06-30T06:18:43.013280Z",
     "iopub.status.idle": "2023-06-30T06:18:43.019640Z",
     "shell.execute_reply": "2023-06-30T06:18:43.018720Z"
    },
    "papermill": {
     "duration": 0.035644,
     "end_time": "2023-06-30T06:18:43.021540",
     "exception": false,
     "start_time": "2023-06-30T06:18:42.985896",
     "status": "completed"
    },
    "tags": []
   },
   "outputs": [
    {
     "data": {
      "text/plain": [
       "torch.Size([2, 3, 3])"
      ]
     },
     "execution_count": 19,
     "metadata": {},
     "output_type": "execute_result"
    }
   ],
   "source": [
    "TENSOR1.shape"
   ]
  },
  {
   "cell_type": "markdown",
   "id": "e03e1ad0",
   "metadata": {
    "execution": {
     "iopub.execute_input": "2023-06-25T15:53:52.605155Z",
     "iopub.status.busy": "2023-06-25T15:53:52.604740Z",
     "iopub.status.idle": "2023-06-25T15:53:52.609815Z",
     "shell.execute_reply": "2023-06-25T15:53:52.608929Z",
     "shell.execute_reply.started": "2023-06-25T15:53:52.605124Z"
    },
    "papermill": {
     "duration": 0.02719,
     "end_time": "2023-06-30T06:18:43.075230",
     "exception": false,
     "start_time": "2023-06-30T06:18:43.048040",
     "status": "completed"
    },
    "tags": []
   },
   "source": [
    "### Random Tensor\n",
    "\n",
    "Why Random Nos. ?\n",
    "\n",
    "`Start with Random Numbers -> Look at Data -> Update Random Numbers -> Look at Data -> Update Random Numbers`\n",
    "\n",
    "ref -\n",
    "* https://pytorch.org/docs/stable/generated/torch.rand.html"
   ]
  },
  {
   "cell_type": "code",
   "execution_count": 20,
   "id": "01d360e6",
   "metadata": {
    "execution": {
     "iopub.execute_input": "2023-06-30T06:18:43.130606Z",
     "iopub.status.busy": "2023-06-30T06:18:43.129897Z",
     "iopub.status.idle": "2023-06-30T06:18:43.197165Z",
     "shell.execute_reply": "2023-06-30T06:18:43.196238Z"
    },
    "papermill": {
     "duration": 0.097082,
     "end_time": "2023-06-30T06:18:43.199091",
     "exception": false,
     "start_time": "2023-06-30T06:18:43.102009",
     "status": "completed"
    },
    "tags": []
   },
   "outputs": [
    {
     "data": {
      "text/plain": [
       "tensor([[[0.2087, 0.7690, 0.5716],\n",
       "         [0.3657, 0.3354, 0.6942],\n",
       "         [0.1028, 0.5900, 0.9530],\n",
       "         [0.4905, 0.9685, 0.5640]],\n",
       "\n",
       "        [[0.3707, 0.9749, 0.0154],\n",
       "         [0.7346, 0.6397, 0.1087],\n",
       "         [0.0544, 0.3145, 0.8534],\n",
       "         [0.0178, 0.3012, 0.1382]],\n",
       "\n",
       "        [[0.1772, 0.1345, 0.7942],\n",
       "         [0.0793, 0.7703, 0.6161],\n",
       "         [0.3889, 0.7600, 0.5656],\n",
       "         [0.8312, 0.0745, 0.8103]]])"
      ]
     },
     "execution_count": 20,
     "metadata": {},
     "output_type": "execute_result"
    }
   ],
   "source": [
    "# Create a random tensor of size(3,4)\n",
    "random_tensor = torch.rand(3,4,3)\n",
    "random_tensor"
   ]
  },
  {
   "cell_type": "code",
   "execution_count": 21,
   "id": "73197ce6",
   "metadata": {
    "execution": {
     "iopub.execute_input": "2023-06-30T06:18:43.255859Z",
     "iopub.status.busy": "2023-06-30T06:18:43.254515Z",
     "iopub.status.idle": "2023-06-30T06:18:43.260572Z",
     "shell.execute_reply": "2023-06-30T06:18:43.259718Z"
    },
    "papermill": {
     "duration": 0.036306,
     "end_time": "2023-06-30T06:18:43.262574",
     "exception": false,
     "start_time": "2023-06-30T06:18:43.226268",
     "status": "completed"
    },
    "tags": []
   },
   "outputs": [
    {
     "data": {
      "text/plain": [
       "3"
      ]
     },
     "execution_count": 21,
     "metadata": {},
     "output_type": "execute_result"
    }
   ],
   "source": [
    "random_tensor.ndim"
   ]
  },
  {
   "cell_type": "code",
   "execution_count": 22,
   "id": "5b190a51",
   "metadata": {
    "execution": {
     "iopub.execute_input": "2023-06-30T06:18:43.320591Z",
     "iopub.status.busy": "2023-06-30T06:18:43.319030Z",
     "iopub.status.idle": "2023-06-30T06:18:43.325672Z",
     "shell.execute_reply": "2023-06-30T06:18:43.324697Z"
    },
    "papermill": {
     "duration": 0.037985,
     "end_time": "2023-06-30T06:18:43.327730",
     "exception": false,
     "start_time": "2023-06-30T06:18:43.289745",
     "status": "completed"
    },
    "tags": []
   },
   "outputs": [
    {
     "data": {
      "text/plain": [
       "torch.Size([3, 4, 3])"
      ]
     },
     "execution_count": 22,
     "metadata": {},
     "output_type": "execute_result"
    }
   ],
   "source": [
    "random_tensor.shape"
   ]
  },
  {
   "cell_type": "code",
   "execution_count": 23,
   "id": "49db5059",
   "metadata": {
    "execution": {
     "iopub.execute_input": "2023-06-30T06:18:43.385655Z",
     "iopub.status.busy": "2023-06-30T06:18:43.384154Z",
     "iopub.status.idle": "2023-06-30T06:18:43.397842Z",
     "shell.execute_reply": "2023-06-30T06:18:43.396943Z"
    },
    "papermill": {
     "duration": 0.04354,
     "end_time": "2023-06-30T06:18:43.399732",
     "exception": false,
     "start_time": "2023-06-30T06:18:43.356192",
     "status": "completed"
    },
    "scrolled": true,
    "tags": []
   },
   "outputs": [
    {
     "data": {
      "text/plain": [
       "tensor([[[5.4622e-01, 8.8600e-01, 1.4461e-01],\n",
       "         [3.5191e-01, 1.7034e-01, 7.4849e-01],\n",
       "         [5.1176e-01, 9.9025e-01, 8.9128e-01],\n",
       "         ...,\n",
       "         [9.4657e-01, 6.4971e-01, 7.6068e-01],\n",
       "         [9.8166e-01, 4.1455e-01, 1.4269e-01],\n",
       "         [7.2068e-02, 9.0835e-01, 2.0463e-02]],\n",
       "\n",
       "        [[9.0366e-01, 4.5036e-01, 2.7246e-01],\n",
       "         [8.0830e-01, 5.3945e-01, 1.7996e-02],\n",
       "         [8.5952e-01, 6.7551e-01, 2.3664e-01],\n",
       "         ...,\n",
       "         [2.4465e-01, 6.9704e-01, 7.1465e-01],\n",
       "         [5.3749e-01, 6.6842e-02, 2.1138e-01],\n",
       "         [1.0965e-01, 2.2950e-01, 8.5270e-01]],\n",
       "\n",
       "        [[1.8566e-01, 2.7504e-01, 1.7149e-01],\n",
       "         [1.9402e-02, 6.7073e-01, 2.0860e-01],\n",
       "         [3.8603e-01, 3.3478e-01, 2.4713e-01],\n",
       "         ...,\n",
       "         [8.8748e-03, 8.1011e-01, 7.3839e-01],\n",
       "         [3.3381e-01, 9.8813e-01, 7.5389e-01],\n",
       "         [5.4388e-03, 1.7743e-01, 1.5896e-01]],\n",
       "\n",
       "        ...,\n",
       "\n",
       "        [[9.9217e-01, 1.7688e-01, 5.5671e-01],\n",
       "         [8.5071e-01, 2.8631e-01, 6.8304e-01],\n",
       "         [8.8471e-01, 2.4554e-01, 6.9141e-01],\n",
       "         ...,\n",
       "         [3.7018e-01, 7.6619e-01, 7.7461e-02],\n",
       "         [1.7485e-01, 7.7631e-01, 2.0165e-01],\n",
       "         [4.3166e-01, 6.8732e-01, 2.4752e-01]],\n",
       "\n",
       "        [[3.5931e-03, 4.8115e-01, 4.0130e-01],\n",
       "         [4.4246e-01, 7.1226e-01, 1.2294e-02],\n",
       "         [4.3414e-01, 3.8490e-01, 3.8052e-04],\n",
       "         ...,\n",
       "         [8.9195e-01, 1.3461e-01, 9.0759e-02],\n",
       "         [5.5872e-01, 9.9080e-03, 5.1851e-01],\n",
       "         [1.3485e-01, 1.4540e-01, 5.8885e-01]],\n",
       "\n",
       "        [[2.1638e-01, 1.7214e-01, 5.0627e-01],\n",
       "         [9.6466e-01, 2.1669e-01, 1.3496e-01],\n",
       "         [9.8947e-01, 9.1471e-01, 2.2170e-01],\n",
       "         ...,\n",
       "         [4.2809e-01, 7.9740e-01, 1.3472e-01],\n",
       "         [3.4064e-01, 4.3260e-01, 9.5729e-01],\n",
       "         [8.8366e-01, 3.0561e-01, 9.3081e-03]]])"
      ]
     },
     "execution_count": 23,
     "metadata": {},
     "output_type": "execute_result"
    }
   ],
   "source": [
    "# Creating Random tensor similar to Image Shape\n",
    "random_image_size_tensor = torch.rand(size=[224,224,3],) # height, width , color channels\n",
    "random_image_size_tensor"
   ]
  },
  {
   "cell_type": "code",
   "execution_count": 24,
   "id": "ad31a233",
   "metadata": {
    "execution": {
     "iopub.execute_input": "2023-06-30T06:18:43.460803Z",
     "iopub.status.busy": "2023-06-30T06:18:43.459413Z",
     "iopub.status.idle": "2023-06-30T06:18:43.465432Z",
     "shell.execute_reply": "2023-06-30T06:18:43.464551Z"
    },
    "papermill": {
     "duration": 0.035955,
     "end_time": "2023-06-30T06:18:43.467380",
     "exception": false,
     "start_time": "2023-06-30T06:18:43.431425",
     "status": "completed"
    },
    "tags": []
   },
   "outputs": [
    {
     "data": {
      "text/plain": [
       "3"
      ]
     },
     "execution_count": 24,
     "metadata": {},
     "output_type": "execute_result"
    }
   ],
   "source": [
    "random_image_size_tensor.ndim"
   ]
  },
  {
   "cell_type": "code",
   "execution_count": 25,
   "id": "39880d21",
   "metadata": {
    "execution": {
     "iopub.execute_input": "2023-06-30T06:18:43.523540Z",
     "iopub.status.busy": "2023-06-30T06:18:43.522762Z",
     "iopub.status.idle": "2023-06-30T06:18:43.528510Z",
     "shell.execute_reply": "2023-06-30T06:18:43.527628Z"
    },
    "papermill": {
     "duration": 0.035966,
     "end_time": "2023-06-30T06:18:43.530370",
     "exception": false,
     "start_time": "2023-06-30T06:18:43.494404",
     "status": "completed"
    },
    "tags": []
   },
   "outputs": [
    {
     "data": {
      "text/plain": [
       "torch.Size([224, 224, 3])"
      ]
     },
     "execution_count": 25,
     "metadata": {},
     "output_type": "execute_result"
    }
   ],
   "source": [
    "random_image_size_tensor.shape"
   ]
  },
  {
   "cell_type": "markdown",
   "id": "ae280ed6",
   "metadata": {
    "papermill": {
     "duration": 0.026839,
     "end_time": "2023-06-30T06:18:43.585677",
     "exception": false,
     "start_time": "2023-06-30T06:18:43.558838",
     "status": "completed"
    },
    "tags": []
   },
   "source": [
    "### Zeroes and Ones"
   ]
  },
  {
   "cell_type": "code",
   "execution_count": 26,
   "id": "e317c41c",
   "metadata": {
    "execution": {
     "iopub.execute_input": "2023-06-30T06:18:43.641015Z",
     "iopub.status.busy": "2023-06-30T06:18:43.640725Z",
     "iopub.status.idle": "2023-06-30T06:18:43.648827Z",
     "shell.execute_reply": "2023-06-30T06:18:43.647860Z"
    },
    "papermill": {
     "duration": 0.038287,
     "end_time": "2023-06-30T06:18:43.650804",
     "exception": false,
     "start_time": "2023-06-30T06:18:43.612517",
     "status": "completed"
    },
    "tags": []
   },
   "outputs": [
    {
     "data": {
      "text/plain": [
       "tensor([[0., 0., 0., 0.],\n",
       "        [0., 0., 0., 0.],\n",
       "        [0., 0., 0., 0.]])"
      ]
     },
     "execution_count": 26,
     "metadata": {},
     "output_type": "execute_result"
    }
   ],
   "source": [
    "# Create a tenor of all zeros\n",
    "zeros = torch.zeros(3,4)\n",
    "zeros"
   ]
  },
  {
   "cell_type": "code",
   "execution_count": 27,
   "id": "1d6d34d9",
   "metadata": {
    "execution": {
     "iopub.execute_input": "2023-06-30T06:18:43.707146Z",
     "iopub.status.busy": "2023-06-30T06:18:43.706866Z",
     "iopub.status.idle": "2023-06-30T06:18:43.712928Z",
     "shell.execute_reply": "2023-06-30T06:18:43.712095Z"
    },
    "papermill": {
     "duration": 0.036641,
     "end_time": "2023-06-30T06:18:43.714844",
     "exception": false,
     "start_time": "2023-06-30T06:18:43.678203",
     "status": "completed"
    },
    "tags": []
   },
   "outputs": [
    {
     "data": {
      "text/plain": [
       "tensor([[0., 0., 0., 0.],\n",
       "        [0., 0., 0., 0.],\n",
       "        [0., 0., 0., 0.]])"
      ]
     },
     "execution_count": 27,
     "metadata": {},
     "output_type": "execute_result"
    }
   ],
   "source": [
    "zeros * torch.rand(3,4)"
   ]
  },
  {
   "cell_type": "code",
   "execution_count": 28,
   "id": "4ae562cc",
   "metadata": {
    "execution": {
     "iopub.execute_input": "2023-06-30T06:18:43.772155Z",
     "iopub.status.busy": "2023-06-30T06:18:43.771367Z",
     "iopub.status.idle": "2023-06-30T06:18:43.779827Z",
     "shell.execute_reply": "2023-06-30T06:18:43.778904Z"
    },
    "papermill": {
     "duration": 0.03948,
     "end_time": "2023-06-30T06:18:43.781747",
     "exception": false,
     "start_time": "2023-06-30T06:18:43.742267",
     "status": "completed"
    },
    "tags": []
   },
   "outputs": [
    {
     "data": {
      "text/plain": [
       "tensor([[1, 1, 1, 1],\n",
       "        [1, 1, 1, 1],\n",
       "        [1, 1, 1, 1]])"
      ]
     },
     "execution_count": 28,
     "metadata": {},
     "output_type": "execute_result"
    }
   ],
   "source": [
    "# Create tensor of all ones\n",
    "ones = torch.ones(size=(3,4),dtype=int)\n",
    "ones"
   ]
  },
  {
   "cell_type": "code",
   "execution_count": 29,
   "id": "cabeb3cc",
   "metadata": {
    "execution": {
     "iopub.execute_input": "2023-06-30T06:18:43.838351Z",
     "iopub.status.busy": "2023-06-30T06:18:43.837548Z",
     "iopub.status.idle": "2023-06-30T06:18:43.843435Z",
     "shell.execute_reply": "2023-06-30T06:18:43.842511Z"
    },
    "papermill": {
     "duration": 0.036076,
     "end_time": "2023-06-30T06:18:43.845296",
     "exception": false,
     "start_time": "2023-06-30T06:18:43.809220",
     "status": "completed"
    },
    "tags": []
   },
   "outputs": [
    {
     "data": {
      "text/plain": [
       "torch.int64"
      ]
     },
     "execution_count": 29,
     "metadata": {},
     "output_type": "execute_result"
    }
   ],
   "source": [
    "ones.dtype"
   ]
  },
  {
   "cell_type": "markdown",
   "id": "75e3a59a",
   "metadata": {
    "execution": {
     "iopub.execute_input": "2023-06-25T16:24:23.852212Z",
     "iopub.status.busy": "2023-06-25T16:24:23.851772Z",
     "iopub.status.idle": "2023-06-25T16:24:23.857025Z",
     "shell.execute_reply": "2023-06-25T16:24:23.856069Z",
     "shell.execute_reply.started": "2023-06-25T16:24:23.852179Z"
    },
    "papermill": {
     "duration": 0.028387,
     "end_time": "2023-06-30T06:18:43.901227",
     "exception": false,
     "start_time": "2023-06-30T06:18:43.872840",
     "status": "completed"
    },
    "tags": []
   },
   "source": [
    "### Create a range of tensors and tensors-like\n",
    "\n",
    "ref -\n",
    "* https://pytorch.org/docs/stable/generated/torch.arange.html"
   ]
  },
  {
   "cell_type": "code",
   "execution_count": 30,
   "id": "41141c1e",
   "metadata": {
    "execution": {
     "iopub.execute_input": "2023-06-30T06:18:43.959500Z",
     "iopub.status.busy": "2023-06-30T06:18:43.958631Z",
     "iopub.status.idle": "2023-06-30T06:18:43.969548Z",
     "shell.execute_reply": "2023-06-30T06:18:43.968615Z"
    },
    "papermill": {
     "duration": 0.041692,
     "end_time": "2023-06-30T06:18:43.971389",
     "exception": false,
     "start_time": "2023-06-30T06:18:43.929697",
     "status": "completed"
    },
    "tags": []
   },
   "outputs": [
    {
     "data": {
      "text/plain": [
       "tensor([ 1,  2,  3,  4,  5,  6,  7,  8,  9, 10])"
      ]
     },
     "execution_count": 30,
     "metadata": {},
     "output_type": "execute_result"
    }
   ],
   "source": [
    "# Use torch.arange()\n",
    "one_to_ten = torch.arange(start=1, end=11, step=1)\n",
    "one_to_ten"
   ]
  },
  {
   "cell_type": "code",
   "execution_count": 31,
   "id": "222f2051",
   "metadata": {
    "execution": {
     "iopub.execute_input": "2023-06-30T06:18:44.028083Z",
     "iopub.status.busy": "2023-06-30T06:18:44.027806Z",
     "iopub.status.idle": "2023-06-30T06:18:44.034021Z",
     "shell.execute_reply": "2023-06-30T06:18:44.033186Z"
    },
    "papermill": {
     "duration": 0.036647,
     "end_time": "2023-06-30T06:18:44.035861",
     "exception": false,
     "start_time": "2023-06-30T06:18:43.999214",
     "status": "completed"
    },
    "tags": []
   },
   "outputs": [
    {
     "data": {
      "text/plain": [
       "tensor([0, 0, 0, 0, 0, 0, 0, 0, 0, 0])"
      ]
     },
     "execution_count": 31,
     "metadata": {},
     "output_type": "execute_result"
    }
   ],
   "source": [
    "# Create tesnors like\n",
    "ten_zeros = torch.zeros_like(input=one_to_ten)\n",
    "ten_zeros"
   ]
  },
  {
   "cell_type": "markdown",
   "id": "5220764c",
   "metadata": {
    "papermill": {
     "duration": 0.028978,
     "end_time": "2023-06-30T06:18:44.093642",
     "exception": false,
     "start_time": "2023-06-30T06:18:44.064664",
     "status": "completed"
    },
    "tags": []
   },
   "source": [
    "### Tensor datatypes\n",
    "\n",
    "Tensor datatypes is one of the 3 big errors arrive in Pytorch\n",
    "\n",
    "1. Tensors not right datatype\n",
    "2. Tensors not right shape\n",
    "3. Tensors not no right device\n",
    "\n",
    "ref -\n",
    "* https://pytorch.org/docs/stable/tensors.html"
   ]
  },
  {
   "cell_type": "code",
   "execution_count": 32,
   "id": "65ba50ae",
   "metadata": {
    "execution": {
     "iopub.execute_input": "2023-06-30T06:18:44.153571Z",
     "iopub.status.busy": "2023-06-30T06:18:44.152719Z",
     "iopub.status.idle": "2023-06-30T06:18:44.160703Z",
     "shell.execute_reply": "2023-06-30T06:18:44.159720Z"
    },
    "papermill": {
     "duration": 0.040108,
     "end_time": "2023-06-30T06:18:44.162768",
     "exception": false,
     "start_time": "2023-06-30T06:18:44.122660",
     "status": "completed"
    },
    "tags": []
   },
   "outputs": [
    {
     "data": {
      "text/plain": [
       "tensor([3., 6., 9.])"
      ]
     },
     "execution_count": 32,
     "metadata": {},
     "output_type": "execute_result"
    }
   ],
   "source": [
    "# Float 32 tensor\n",
    "float_32_tensor = torch.tensor([3.0,6.0,9.0],\n",
    "                             dtype=None, # what datatype of tensor (float32 etc)\n",
    "                             device=None, #'cpu or gpu -> cuda'\n",
    "                             requires_grad=False) # whether to track gradient\n",
    "float_32_tensor"
   ]
  },
  {
   "cell_type": "code",
   "execution_count": 33,
   "id": "85bc4241",
   "metadata": {
    "execution": {
     "iopub.execute_input": "2023-06-30T06:18:44.221133Z",
     "iopub.status.busy": "2023-06-30T06:18:44.220318Z",
     "iopub.status.idle": "2023-06-30T06:18:44.226343Z",
     "shell.execute_reply": "2023-06-30T06:18:44.225458Z"
    },
    "papermill": {
     "duration": 0.037171,
     "end_time": "2023-06-30T06:18:44.228226",
     "exception": false,
     "start_time": "2023-06-30T06:18:44.191055",
     "status": "completed"
    },
    "tags": []
   },
   "outputs": [
    {
     "data": {
      "text/plain": [
       "torch.float32"
      ]
     },
     "execution_count": 33,
     "metadata": {},
     "output_type": "execute_result"
    }
   ],
   "source": [
    "float_32_tensor.dtype"
   ]
  },
  {
   "cell_type": "code",
   "execution_count": 34,
   "id": "1625f348",
   "metadata": {
    "execution": {
     "iopub.execute_input": "2023-06-30T06:18:44.286396Z",
     "iopub.status.busy": "2023-06-30T06:18:44.285667Z",
     "iopub.status.idle": "2023-06-30T06:18:44.296316Z",
     "shell.execute_reply": "2023-06-30T06:18:44.295517Z"
    },
    "papermill": {
     "duration": 0.0415,
     "end_time": "2023-06-30T06:18:44.298190",
     "exception": false,
     "start_time": "2023-06-30T06:18:44.256690",
     "status": "completed"
    },
    "tags": []
   },
   "outputs": [],
   "source": [
    "float_16_tensor = float_32_tensor.half()\n",
    "# or\n",
    "float_16_tensor = float_32_tensor.type(torch.float) # torch.half"
   ]
  },
  {
   "cell_type": "code",
   "execution_count": 35,
   "id": "d42887aa",
   "metadata": {
    "execution": {
     "iopub.execute_input": "2023-06-30T06:18:44.356189Z",
     "iopub.status.busy": "2023-06-30T06:18:44.355448Z",
     "iopub.status.idle": "2023-06-30T06:18:44.361769Z",
     "shell.execute_reply": "2023-06-30T06:18:44.360874Z"
    },
    "papermill": {
     "duration": 0.037385,
     "end_time": "2023-06-30T06:18:44.363650",
     "exception": false,
     "start_time": "2023-06-30T06:18:44.326265",
     "status": "completed"
    },
    "tags": []
   },
   "outputs": [
    {
     "data": {
      "text/plain": [
       "tensor([3., 6., 9.])"
      ]
     },
     "execution_count": 35,
     "metadata": {},
     "output_type": "execute_result"
    }
   ],
   "source": [
    "float_16_tensor"
   ]
  },
  {
   "cell_type": "code",
   "execution_count": 36,
   "id": "c91c8d9c",
   "metadata": {
    "execution": {
     "iopub.execute_input": "2023-06-30T06:18:44.424186Z",
     "iopub.status.busy": "2023-06-30T06:18:44.423623Z",
     "iopub.status.idle": "2023-06-30T06:18:44.429974Z",
     "shell.execute_reply": "2023-06-30T06:18:44.429013Z"
    },
    "papermill": {
     "duration": 0.039976,
     "end_time": "2023-06-30T06:18:44.432131",
     "exception": false,
     "start_time": "2023-06-30T06:18:44.392155",
     "status": "completed"
    },
    "tags": []
   },
   "outputs": [
    {
     "data": {
      "text/plain": [
       "torch.float32"
      ]
     },
     "execution_count": 36,
     "metadata": {},
     "output_type": "execute_result"
    }
   ],
   "source": [
    "(float_16_tensor * float_32_tensor).dtype"
   ]
  },
  {
   "cell_type": "code",
   "execution_count": 37,
   "id": "fcda9f2d",
   "metadata": {
    "execution": {
     "iopub.execute_input": "2023-06-30T06:18:44.492673Z",
     "iopub.status.busy": "2023-06-30T06:18:44.492046Z",
     "iopub.status.idle": "2023-06-30T06:18:44.496191Z",
     "shell.execute_reply": "2023-06-30T06:18:44.495365Z"
    },
    "papermill": {
     "duration": 0.0364,
     "end_time": "2023-06-30T06:18:44.498110",
     "exception": false,
     "start_time": "2023-06-30T06:18:44.461710",
     "status": "completed"
    },
    "tags": []
   },
   "outputs": [],
   "source": [
    "int_32_tensor = torch.tensor([3,4,5],\n",
    "                             dtype=torch.int32)"
   ]
  },
  {
   "cell_type": "code",
   "execution_count": 38,
   "id": "65a128f0",
   "metadata": {
    "execution": {
     "iopub.execute_input": "2023-06-30T06:18:44.558071Z",
     "iopub.status.busy": "2023-06-30T06:18:44.557283Z",
     "iopub.status.idle": "2023-06-30T06:18:44.565878Z",
     "shell.execute_reply": "2023-06-30T06:18:44.564993Z"
    },
    "papermill": {
     "duration": 0.04121,
     "end_time": "2023-06-30T06:18:44.567749",
     "exception": false,
     "start_time": "2023-06-30T06:18:44.526539",
     "status": "completed"
    },
    "tags": []
   },
   "outputs": [
    {
     "data": {
      "text/plain": [
       "tensor([ 9., 24., 45.])"
      ]
     },
     "execution_count": 38,
     "metadata": {},
     "output_type": "execute_result"
    }
   ],
   "source": [
    "float_16_tensor * int_32_tensor"
   ]
  },
  {
   "cell_type": "markdown",
   "id": "f0a6cffa",
   "metadata": {
    "papermill": {
     "duration": 0.028562,
     "end_time": "2023-06-30T06:18:44.625869",
     "exception": false,
     "start_time": "2023-06-30T06:18:44.597307",
     "status": "completed"
    },
    "tags": []
   },
   "source": [
    "### Getting info from tensors (tensor attributes)\n",
    "1. tensor not datatype - to check use tensor.dtype\n",
    "2. tensor not right shape - to check use tensor.shape or tensor.size()\n",
    "3. tensor not on right device - to check use tensor.device"
   ]
  },
  {
   "cell_type": "code",
   "execution_count": 39,
   "id": "81ef8e1f",
   "metadata": {
    "execution": {
     "iopub.execute_input": "2023-06-30T06:18:44.686191Z",
     "iopub.status.busy": "2023-06-30T06:18:44.685413Z",
     "iopub.status.idle": "2023-06-30T06:18:44.692598Z",
     "shell.execute_reply": "2023-06-30T06:18:44.691650Z"
    },
    "papermill": {
     "duration": 0.03903,
     "end_time": "2023-06-30T06:18:44.694576",
     "exception": false,
     "start_time": "2023-06-30T06:18:44.655546",
     "status": "completed"
    },
    "tags": []
   },
   "outputs": [
    {
     "data": {
      "text/plain": [
       "tensor([[0.8455, 0.6155, 0.3115, 0.7060],\n",
       "        [0.4759, 0.8964, 0.4679, 0.9452],\n",
       "        [0.5514, 0.9110, 0.3021, 0.4054]])"
      ]
     },
     "execution_count": 39,
     "metadata": {},
     "output_type": "execute_result"
    }
   ],
   "source": [
    "# Create a tensor\n",
    "some_tensor = torch.rand(3,4)\n",
    "some_tensor"
   ]
  },
  {
   "cell_type": "code",
   "execution_count": 40,
   "id": "24e49ca8",
   "metadata": {
    "execution": {
     "iopub.execute_input": "2023-06-30T06:18:44.754151Z",
     "iopub.status.busy": "2023-06-30T06:18:44.753429Z",
     "iopub.status.idle": "2023-06-30T06:18:44.759312Z",
     "shell.execute_reply": "2023-06-30T06:18:44.757993Z"
    },
    "papermill": {
     "duration": 0.03755,
     "end_time": "2023-06-30T06:18:44.761324",
     "exception": false,
     "start_time": "2023-06-30T06:18:44.723774",
     "status": "completed"
    },
    "tags": []
   },
   "outputs": [
    {
     "name": "stdout",
     "output_type": "stream",
     "text": [
      "Tensor Datatype : torch.float32 Tensor Shape : torch.Size([3, 4]) Tensor Device : cpu\n"
     ]
    }
   ],
   "source": [
    "print(\"Tensor Datatype :\",some_tensor.dtype,\n",
    "\"Tensor Shape :\",some_tensor.shape,\n",
    "\"Tensor Device :\",some_tensor.device)"
   ]
  },
  {
   "cell_type": "markdown",
   "id": "9d9dd029",
   "metadata": {
    "execution": {
     "iopub.execute_input": "2023-06-26T15:31:18.518353Z",
     "iopub.status.busy": "2023-06-26T15:31:18.517972Z",
     "iopub.status.idle": "2023-06-26T15:31:18.526666Z",
     "shell.execute_reply": "2023-06-26T15:31:18.525296Z",
     "shell.execute_reply.started": "2023-06-26T15:31:18.518326Z"
    },
    "papermill": {
     "duration": 0.028253,
     "end_time": "2023-06-30T06:18:44.818440",
     "exception": false,
     "start_time": "2023-06-30T06:18:44.790187",
     "status": "completed"
    },
    "tags": []
   },
   "source": [
    "### Manipulating Tensors (Tensor Operations)\n",
    "1. Addition\n",
    "2. Subtraction\n",
    "3. Multiplication (element-wise)\n",
    "4. Division\n",
    "5. Matrix Multiplication"
   ]
  },
  {
   "cell_type": "code",
   "execution_count": 41,
   "id": "e9d5b417",
   "metadata": {
    "execution": {
     "iopub.execute_input": "2023-06-30T06:18:44.878262Z",
     "iopub.status.busy": "2023-06-30T06:18:44.877476Z",
     "iopub.status.idle": "2023-06-30T06:18:44.886934Z",
     "shell.execute_reply": "2023-06-30T06:18:44.886018Z"
    },
    "papermill": {
     "duration": 0.041482,
     "end_time": "2023-06-30T06:18:44.888831",
     "exception": false,
     "start_time": "2023-06-30T06:18:44.847349",
     "status": "completed"
    },
    "tags": []
   },
   "outputs": [
    {
     "data": {
      "text/plain": [
       "tensor([11, 12, 13])"
      ]
     },
     "execution_count": 41,
     "metadata": {},
     "output_type": "execute_result"
    }
   ],
   "source": [
    "# Create a tensor and add 10\n",
    "tensor = torch.tensor([1,2,3])\n",
    "tensor + 10"
   ]
  },
  {
   "cell_type": "code",
   "execution_count": 42,
   "id": "60454d16",
   "metadata": {
    "execution": {
     "iopub.execute_input": "2023-06-30T06:18:44.947924Z",
     "iopub.status.busy": "2023-06-30T06:18:44.947178Z",
     "iopub.status.idle": "2023-06-30T06:18:44.956136Z",
     "shell.execute_reply": "2023-06-30T06:18:44.955143Z"
    },
    "papermill": {
     "duration": 0.040405,
     "end_time": "2023-06-30T06:18:44.958132",
     "exception": false,
     "start_time": "2023-06-30T06:18:44.917727",
     "status": "completed"
    },
    "tags": []
   },
   "outputs": [
    {
     "data": {
      "text/plain": [
       "tensor([10, 20, 30])"
      ]
     },
     "execution_count": 42,
     "metadata": {},
     "output_type": "execute_result"
    }
   ],
   "source": [
    "# multiply\n",
    "tensor * 10"
   ]
  },
  {
   "cell_type": "code",
   "execution_count": 43,
   "id": "cb623ead",
   "metadata": {
    "execution": {
     "iopub.execute_input": "2023-06-30T06:18:45.019003Z",
     "iopub.status.busy": "2023-06-30T06:18:45.018271Z",
     "iopub.status.idle": "2023-06-30T06:18:45.026901Z",
     "shell.execute_reply": "2023-06-30T06:18:45.025986Z"
    },
    "papermill": {
     "duration": 0.041044,
     "end_time": "2023-06-30T06:18:45.028930",
     "exception": false,
     "start_time": "2023-06-30T06:18:44.987886",
     "status": "completed"
    },
    "tags": []
   },
   "outputs": [
    {
     "data": {
      "text/plain": [
       "tensor([-9, -8, -7])"
      ]
     },
     "execution_count": 43,
     "metadata": {},
     "output_type": "execute_result"
    }
   ],
   "source": [
    "# subtract 10\n",
    "tensor - 10"
   ]
  },
  {
   "cell_type": "code",
   "execution_count": 44,
   "id": "42cb6e71",
   "metadata": {
    "execution": {
     "iopub.execute_input": "2023-06-30T06:18:45.089124Z",
     "iopub.status.busy": "2023-06-30T06:18:45.088587Z",
     "iopub.status.idle": "2023-06-30T06:18:45.094774Z",
     "shell.execute_reply": "2023-06-30T06:18:45.093933Z"
    },
    "papermill": {
     "duration": 0.038159,
     "end_time": "2023-06-30T06:18:45.096654",
     "exception": false,
     "start_time": "2023-06-30T06:18:45.058495",
     "status": "completed"
    },
    "tags": []
   },
   "outputs": [
    {
     "data": {
      "text/plain": [
       "tensor([10, 20, 30])"
      ]
     },
     "execution_count": 44,
     "metadata": {},
     "output_type": "execute_result"
    }
   ],
   "source": [
    "# multiply using tensor function\n",
    "torch.mul(tensor,10)"
   ]
  },
  {
   "cell_type": "markdown",
   "id": "960de946",
   "metadata": {
    "papermill": {
     "duration": 0.030488,
     "end_time": "2023-06-30T06:18:45.156517",
     "exception": false,
     "start_time": "2023-06-30T06:18:45.126029",
     "status": "completed"
    },
    "tags": []
   },
   "source": [
    "### Matrix Multiplication\n",
    "\n",
    "Two Main ways to multiply in tensors\n",
    "\n",
    "1. Element-wise multipication or Cross Multiplication\n",
    "2. Matrix multiplication or Dot Product\n",
    "\n",
    "ref -\n",
    "* https://www.mathsisfun.com/algebra/matrix-multiplying.html\n",
    "\n",
    "Two Rules must Follow:\n",
    "1. The **Inner Dimension** must match:\n",
    "* '(3,2) @ (3,2)' wont work\n",
    "* '(3,2) @ (2,3)' will work\n",
    "* '(2,3) @ (3,2)' will work\n",
    "2. Resulting matrix has dimension of **Outer Dimension**\n",
    "* (2,3) @ (3,2) -> (2,2)\n",
    "* (3,2) @ (2,3) -> (3,3)"
   ]
  },
  {
   "cell_type": "code",
   "execution_count": 45,
   "id": "ee2fecd6",
   "metadata": {
    "execution": {
     "iopub.execute_input": "2023-06-30T06:18:45.216587Z",
     "iopub.status.busy": "2023-06-30T06:18:45.215824Z",
     "iopub.status.idle": "2023-06-30T06:18:45.281037Z",
     "shell.execute_reply": "2023-06-30T06:18:45.279927Z"
    },
    "papermill": {
     "duration": 0.097395,
     "end_time": "2023-06-30T06:18:45.283259",
     "exception": false,
     "start_time": "2023-06-30T06:18:45.185864",
     "status": "completed"
    },
    "tags": []
   },
   "outputs": [
    {
     "data": {
      "text/plain": [
       "tensor([[0.5128, 0.5152, 0.9413],\n",
       "        [0.0452, 0.0109, 0.0517],\n",
       "        [0.5229, 0.3515, 0.8020]])"
      ]
     },
     "execution_count": 45,
     "metadata": {},
     "output_type": "execute_result"
    }
   ],
   "source": [
    "torch.matmul(torch.rand(3,2) , torch.rand(2,3))"
   ]
  },
  {
   "cell_type": "code",
   "execution_count": 46,
   "id": "9a8428a3",
   "metadata": {
    "execution": {
     "iopub.execute_input": "2023-06-30T06:18:45.346020Z",
     "iopub.status.busy": "2023-06-30T06:18:45.345062Z",
     "iopub.status.idle": "2023-06-30T06:18:45.351648Z",
     "shell.execute_reply": "2023-06-30T06:18:45.350373Z"
    },
    "papermill": {
     "duration": 0.03938,
     "end_time": "2023-06-30T06:18:45.353562",
     "exception": false,
     "start_time": "2023-06-30T06:18:45.314182",
     "status": "completed"
    },
    "tags": []
   },
   "outputs": [
    {
     "name": "stdout",
     "output_type": "stream",
     "text": [
      "tensor([1, 2, 3]) * tensor([1, 2, 3])\n",
      "Equals : tensor([1, 4, 9])\n"
     ]
    }
   ],
   "source": [
    "# Element wise multiplication\n",
    "print(tensor, '*' , tensor)\n",
    "print('Equals :', tensor * tensor )"
   ]
  },
  {
   "cell_type": "code",
   "execution_count": 47,
   "id": "1324d82d",
   "metadata": {
    "execution": {
     "iopub.execute_input": "2023-06-30T06:18:45.416416Z",
     "iopub.status.busy": "2023-06-30T06:18:45.415575Z",
     "iopub.status.idle": "2023-06-30T06:18:45.425477Z",
     "shell.execute_reply": "2023-06-30T06:18:45.424488Z"
    },
    "papermill": {
     "duration": 0.043879,
     "end_time": "2023-06-30T06:18:45.427538",
     "exception": false,
     "start_time": "2023-06-30T06:18:45.383659",
     "status": "completed"
    },
    "tags": []
   },
   "outputs": [
    {
     "data": {
      "text/plain": [
       "tensor(14)"
      ]
     },
     "execution_count": 47,
     "metadata": {},
     "output_type": "execute_result"
    }
   ],
   "source": [
    "# Matrix Multiplication\n",
    "torch.matmul(tensor,tensor)"
   ]
  },
  {
   "cell_type": "markdown",
   "id": "2036962a",
   "metadata": {
    "papermill": {
     "duration": 0.030824,
     "end_time": "2023-06-30T06:18:45.490038",
     "exception": false,
     "start_time": "2023-06-30T06:18:45.459214",
     "status": "completed"
    },
    "tags": []
   },
   "source": [
    "### Shape Errors"
   ]
  },
  {
   "cell_type": "code",
   "execution_count": 48,
   "id": "d1427a8e",
   "metadata": {
    "execution": {
     "iopub.execute_input": "2023-06-30T06:18:45.552658Z",
     "iopub.status.busy": "2023-06-30T06:18:45.552105Z",
     "iopub.status.idle": "2023-06-30T06:18:45.558324Z",
     "shell.execute_reply": "2023-06-30T06:18:45.557361Z"
    },
    "papermill": {
     "duration": 0.040425,
     "end_time": "2023-06-30T06:18:45.560443",
     "exception": false,
     "start_time": "2023-06-30T06:18:45.520018",
     "status": "completed"
    },
    "tags": []
   },
   "outputs": [],
   "source": [
    "tensor_A = torch.tensor([[1,2],\n",
    "                        [3,4],\n",
    "                        [5,6]])\n",
    "\n",
    "tensor_B =torch.tensor([[7,10],\n",
    "                       [8,11],\n",
    "                       [9,12]])\n",
    "\n",
    "#torch.mm(tensor_A,tensor_B) #(mm is alias for matmul)"
   ]
  },
  {
   "cell_type": "markdown",
   "id": "43e9dd21",
   "metadata": {
    "papermill": {
     "duration": 0.02942,
     "end_time": "2023-06-30T06:18:45.619424",
     "exception": false,
     "start_time": "2023-06-30T06:18:45.590004",
     "status": "completed"
    },
    "tags": []
   },
   "source": [
    "To Fix Shape Issues, We can use Transpose \n",
    "\n",
    "A **Transpose** swithches axes or dimensions of given matrix"
   ]
  },
  {
   "cell_type": "code",
   "execution_count": 49,
   "id": "54dd4735",
   "metadata": {
    "execution": {
     "iopub.execute_input": "2023-06-30T06:18:45.681084Z",
     "iopub.status.busy": "2023-06-30T06:18:45.680224Z",
     "iopub.status.idle": "2023-06-30T06:18:45.686991Z",
     "shell.execute_reply": "2023-06-30T06:18:45.686007Z"
    },
    "papermill": {
     "duration": 0.040031,
     "end_time": "2023-06-30T06:18:45.689091",
     "exception": false,
     "start_time": "2023-06-30T06:18:45.649060",
     "status": "completed"
    },
    "tags": []
   },
   "outputs": [
    {
     "data": {
      "text/plain": [
       "(tensor([[ 7, 10],\n",
       "         [ 8, 11],\n",
       "         [ 9, 12]]),\n",
       " torch.Size([3, 2]))"
      ]
     },
     "execution_count": 49,
     "metadata": {},
     "output_type": "execute_result"
    }
   ],
   "source": [
    "tensor_B, tensor_B.shape"
   ]
  },
  {
   "cell_type": "code",
   "execution_count": 50,
   "id": "7b1b44d8",
   "metadata": {
    "execution": {
     "iopub.execute_input": "2023-06-30T06:18:45.753324Z",
     "iopub.status.busy": "2023-06-30T06:18:45.752483Z",
     "iopub.status.idle": "2023-06-30T06:18:45.760159Z",
     "shell.execute_reply": "2023-06-30T06:18:45.759222Z"
    },
    "papermill": {
     "duration": 0.041111,
     "end_time": "2023-06-30T06:18:45.762152",
     "exception": false,
     "start_time": "2023-06-30T06:18:45.721041",
     "status": "completed"
    },
    "tags": []
   },
   "outputs": [
    {
     "data": {
      "text/plain": [
       "(tensor([[ 7,  8,  9],\n",
       "         [10, 11, 12]]),\n",
       " torch.Size([2, 3]))"
      ]
     },
     "execution_count": 50,
     "metadata": {},
     "output_type": "execute_result"
    }
   ],
   "source": [
    "tensor_B.T, tensor_B.T.shape"
   ]
  },
  {
   "cell_type": "code",
   "execution_count": 51,
   "id": "68af9b5b",
   "metadata": {
    "execution": {
     "iopub.execute_input": "2023-06-30T06:18:45.824374Z",
     "iopub.status.busy": "2023-06-30T06:18:45.823629Z",
     "iopub.status.idle": "2023-06-30T06:18:45.834498Z",
     "shell.execute_reply": "2023-06-30T06:18:45.833202Z"
    },
    "papermill": {
     "duration": 0.044146,
     "end_time": "2023-06-30T06:18:45.836774",
     "exception": false,
     "start_time": "2023-06-30T06:18:45.792628",
     "status": "completed"
    },
    "tags": []
   },
   "outputs": [
    {
     "name": "stdout",
     "output_type": "stream",
     "text": [
      "Initial shape for tensor A torch.Size([3, 2]) and for tensor B torch.Size([3, 2])\n",
      "after transpose torch.Size([2, 3])\n",
      "output : tensor([[ 27,  30,  33],\n",
      "        [ 61,  68,  75],\n",
      "        [ 95, 106, 117]]) and its shape is torch.Size([3, 3])\n"
     ]
    }
   ],
   "source": [
    "print(f'Initial shape for tensor A {tensor_A.shape} and for tensor B {tensor_B.shape}')\n",
    "print(f'after transpose {tensor_B.T.shape}')\n",
    "print(f'output : {torch.matmul(tensor_A,tensor_B.T)} and its shape is {torch.matmul(tensor_A,tensor_B.T).shape}')"
   ]
  },
  {
   "cell_type": "markdown",
   "id": "07fc3dca",
   "metadata": {
    "papermill": {
     "duration": 0.029764,
     "end_time": "2023-06-30T06:18:45.898552",
     "exception": false,
     "start_time": "2023-06-30T06:18:45.868788",
     "status": "completed"
    },
    "tags": []
   },
   "source": [
    "## Finding Min. Max. Mean, Sum, etc (tensor aggregation)"
   ]
  },
  {
   "cell_type": "code",
   "execution_count": 52,
   "id": "2864d55f",
   "metadata": {
    "execution": {
     "iopub.execute_input": "2023-06-30T06:18:45.963848Z",
     "iopub.status.busy": "2023-06-30T06:18:45.962209Z",
     "iopub.status.idle": "2023-06-30T06:18:45.969707Z",
     "shell.execute_reply": "2023-06-30T06:18:45.968799Z"
    },
    "papermill": {
     "duration": 0.041782,
     "end_time": "2023-06-30T06:18:45.971607",
     "exception": false,
     "start_time": "2023-06-30T06:18:45.929825",
     "status": "completed"
    },
    "tags": []
   },
   "outputs": [
    {
     "data": {
      "text/plain": [
       "tensor([ 0, 10, 20, 30, 40, 50, 60, 70, 80, 90])"
      ]
     },
     "execution_count": 52,
     "metadata": {},
     "output_type": "execute_result"
    }
   ],
   "source": [
    "# Create a tensor\n",
    "x = torch.arange(0,100,10)\n",
    "x"
   ]
  },
  {
   "cell_type": "code",
   "execution_count": 53,
   "id": "d7afaad9",
   "metadata": {
    "execution": {
     "iopub.execute_input": "2023-06-30T06:18:46.034522Z",
     "iopub.status.busy": "2023-06-30T06:18:46.033536Z",
     "iopub.status.idle": "2023-06-30T06:18:46.041901Z",
     "shell.execute_reply": "2023-06-30T06:18:46.040909Z"
    },
    "papermill": {
     "duration": 0.041893,
     "end_time": "2023-06-30T06:18:46.043911",
     "exception": false,
     "start_time": "2023-06-30T06:18:46.002018",
     "status": "completed"
    },
    "tags": []
   },
   "outputs": [
    {
     "data": {
      "text/plain": [
       "(tensor(0), tensor(0))"
      ]
     },
     "execution_count": 53,
     "metadata": {},
     "output_type": "execute_result"
    }
   ],
   "source": [
    "# Min\n",
    "torch.min(x), x.min()"
   ]
  },
  {
   "cell_type": "code",
   "execution_count": 54,
   "id": "e7d33ed3",
   "metadata": {
    "execution": {
     "iopub.execute_input": "2023-06-30T06:18:46.107477Z",
     "iopub.status.busy": "2023-06-30T06:18:46.106633Z",
     "iopub.status.idle": "2023-06-30T06:18:46.113317Z",
     "shell.execute_reply": "2023-06-30T06:18:46.112346Z"
    },
    "papermill": {
     "duration": 0.040174,
     "end_time": "2023-06-30T06:18:46.115253",
     "exception": false,
     "start_time": "2023-06-30T06:18:46.075079",
     "status": "completed"
    },
    "tags": []
   },
   "outputs": [
    {
     "data": {
      "text/plain": [
       "(tensor(90), tensor(90))"
      ]
     },
     "execution_count": 54,
     "metadata": {},
     "output_type": "execute_result"
    }
   ],
   "source": [
    "# Max\n",
    "torch.max(x), x.max()"
   ]
  },
  {
   "cell_type": "code",
   "execution_count": 55,
   "id": "4f81b5b2",
   "metadata": {
    "execution": {
     "iopub.execute_input": "2023-06-30T06:18:46.177863Z",
     "iopub.status.busy": "2023-06-30T06:18:46.177160Z",
     "iopub.status.idle": "2023-06-30T06:18:46.192457Z",
     "shell.execute_reply": "2023-06-30T06:18:46.191430Z"
    },
    "papermill": {
     "duration": 0.048816,
     "end_time": "2023-06-30T06:18:46.194579",
     "exception": false,
     "start_time": "2023-06-30T06:18:46.145763",
     "status": "completed"
    },
    "tags": []
   },
   "outputs": [
    {
     "data": {
      "text/plain": [
       "(tensor(45., dtype=torch.float16),\n",
       " tensor(45., dtype=torch.float16),\n",
       " tensor(45.))"
      ]
     },
     "execution_count": 55,
     "metadata": {},
     "output_type": "execute_result"
    }
   ],
   "source": [
    "# Mean\n",
    "torch.mean(x.type(torch.float16)) , x.type(torch.float16).mean() , torch.mean(x,dtype=torch.float32)"
   ]
  },
  {
   "cell_type": "code",
   "execution_count": 56,
   "id": "bcf5da8c",
   "metadata": {
    "execution": {
     "iopub.execute_input": "2023-06-30T06:18:46.258641Z",
     "iopub.status.busy": "2023-06-30T06:18:46.258276Z",
     "iopub.status.idle": "2023-06-30T06:18:46.264777Z",
     "shell.execute_reply": "2023-06-30T06:18:46.263877Z"
    },
    "papermill": {
     "duration": 0.039782,
     "end_time": "2023-06-30T06:18:46.266760",
     "exception": false,
     "start_time": "2023-06-30T06:18:46.226978",
     "status": "completed"
    },
    "tags": []
   },
   "outputs": [
    {
     "data": {
      "text/plain": [
       "(tensor(450), tensor(450))"
      ]
     },
     "execution_count": 56,
     "metadata": {},
     "output_type": "execute_result"
    }
   ],
   "source": [
    "# Sum\n",
    "torch.sum(x) , x.sum()"
   ]
  },
  {
   "cell_type": "markdown",
   "id": "999b6692",
   "metadata": {
    "papermill": {
     "duration": 0.03088,
     "end_time": "2023-06-30T06:18:46.328162",
     "exception": false,
     "start_time": "2023-06-30T06:18:46.297282",
     "status": "completed"
    },
    "tags": []
   },
   "source": [
    "## Finding Positinal min and max"
   ]
  },
  {
   "cell_type": "code",
   "execution_count": 57,
   "id": "b8d77879",
   "metadata": {
    "execution": {
     "iopub.execute_input": "2023-06-30T06:18:46.391136Z",
     "iopub.status.busy": "2023-06-30T06:18:46.390333Z",
     "iopub.status.idle": "2023-06-30T06:18:46.396830Z",
     "shell.execute_reply": "2023-06-30T06:18:46.395836Z"
    },
    "papermill": {
     "duration": 0.039663,
     "end_time": "2023-06-30T06:18:46.398757",
     "exception": false,
     "start_time": "2023-06-30T06:18:46.359094",
     "status": "completed"
    },
    "tags": []
   },
   "outputs": [
    {
     "data": {
      "text/plain": [
       "tensor([ 1, 11, 21, 31, 41, 51, 61, 71, 81, 91])"
      ]
     },
     "execution_count": 57,
     "metadata": {},
     "output_type": "execute_result"
    }
   ],
   "source": [
    "x+1"
   ]
  },
  {
   "cell_type": "code",
   "execution_count": 58,
   "id": "91e942ed",
   "metadata": {
    "execution": {
     "iopub.execute_input": "2023-06-30T06:18:46.466819Z",
     "iopub.status.busy": "2023-06-30T06:18:46.465823Z",
     "iopub.status.idle": "2023-06-30T06:18:46.477087Z",
     "shell.execute_reply": "2023-06-30T06:18:46.475731Z"
    },
    "papermill": {
     "duration": 0.046727,
     "end_time": "2023-06-30T06:18:46.479148",
     "exception": false,
     "start_time": "2023-06-30T06:18:46.432421",
     "status": "completed"
    },
    "tags": []
   },
   "outputs": [
    {
     "name": "stdout",
     "output_type": "stream",
     "text": [
      "location :  tensor(0)\n",
      "element at location :  tensor(1)\n"
     ]
    }
   ],
   "source": [
    "# Position in tensor where minimum value exists\n",
    "print('location : ',(x+1).argmin())\n",
    "print('element at location : ',(x+1)[(x+1).argmin()])"
   ]
  },
  {
   "cell_type": "code",
   "execution_count": 59,
   "id": "8976c640",
   "metadata": {
    "execution": {
     "iopub.execute_input": "2023-06-30T06:18:46.542627Z",
     "iopub.status.busy": "2023-06-30T06:18:46.541749Z",
     "iopub.status.idle": "2023-06-30T06:18:46.548350Z",
     "shell.execute_reply": "2023-06-30T06:18:46.547123Z"
    },
    "papermill": {
     "duration": 0.040578,
     "end_time": "2023-06-30T06:18:46.550346",
     "exception": false,
     "start_time": "2023-06-30T06:18:46.509768",
     "status": "completed"
    },
    "tags": []
   },
   "outputs": [
    {
     "name": "stdout",
     "output_type": "stream",
     "text": [
      "location :  tensor(9)\n",
      "element at location :  tensor(91)\n"
     ]
    }
   ],
   "source": [
    "# Position in tensor where maximum value exists\n",
    "print('location : ',(x+1).argmax())\n",
    "print('element at location : ',(x+1)[(x+1).argmax()])"
   ]
  },
  {
   "cell_type": "markdown",
   "id": "0a498b4e",
   "metadata": {
    "papermill": {
     "duration": 0.032457,
     "end_time": "2023-06-30T06:18:46.616383",
     "exception": false,
     "start_time": "2023-06-30T06:18:46.583926",
     "status": "completed"
    },
    "tags": []
   },
   "source": [
    "## Reshaping, Stacking, Squeezing and Unsqueezing tensor\n",
    "\n",
    "* Reshaping - reshapes input tensor to defined shape\n",
    "* View - Returns a view of input tensor of certain shape but keeps same memory as original\n",
    "* Stacking - Combine Multiple tensors on top of each other (vstack) or side by side (hstack)\n",
    "* Squeeze - **removes unit** dimension from tensor\n",
    "* Unsqueeze - **adds one** dimension to tensor\n",
    "* Permute - Reaturn a view of input with Dimension Permuted (swapped) in certain way "
   ]
  },
  {
   "cell_type": "code",
   "execution_count": 60,
   "id": "5874980d",
   "metadata": {
    "execution": {
     "iopub.execute_input": "2023-06-30T06:18:46.681695Z",
     "iopub.status.busy": "2023-06-30T06:18:46.681050Z",
     "iopub.status.idle": "2023-06-30T06:18:46.688503Z",
     "shell.execute_reply": "2023-06-30T06:18:46.687639Z"
    },
    "papermill": {
     "duration": 0.042699,
     "end_time": "2023-06-30T06:18:46.690648",
     "exception": false,
     "start_time": "2023-06-30T06:18:46.647949",
     "status": "completed"
    },
    "tags": []
   },
   "outputs": [
    {
     "data": {
      "text/plain": [
       "(tensor([1., 2., 3., 4., 5., 6., 7., 8., 9.]), torch.Size([9]))"
      ]
     },
     "execution_count": 60,
     "metadata": {},
     "output_type": "execute_result"
    }
   ],
   "source": [
    "# Create Tensor\n",
    "x = torch.arange(1.,10.)\n",
    "x , x.shape"
   ]
  },
  {
   "cell_type": "code",
   "execution_count": 61,
   "id": "3f92a84a",
   "metadata": {
    "execution": {
     "iopub.execute_input": "2023-06-30T06:18:46.754617Z",
     "iopub.status.busy": "2023-06-30T06:18:46.754334Z",
     "iopub.status.idle": "2023-06-30T06:18:46.760863Z",
     "shell.execute_reply": "2023-06-30T06:18:46.759835Z"
    },
    "papermill": {
     "duration": 0.042456,
     "end_time": "2023-06-30T06:18:46.764309",
     "exception": false,
     "start_time": "2023-06-30T06:18:46.721853",
     "status": "completed"
    },
    "tags": []
   },
   "outputs": [
    {
     "name": "stdout",
     "output_type": "stream",
     "text": [
      "torch.Size([9])\n",
      "tensor([[1.],\n",
      "        [2.],\n",
      "        [3.],\n",
      "        [4.],\n",
      "        [5.],\n",
      "        [6.],\n",
      "        [7.],\n",
      "        [8.],\n",
      "        [9.]])\n",
      "torch.Size([9, 1])\n"
     ]
    }
   ],
   "source": [
    "# Add extra dimension\n",
    "x_reshaped = x.reshape(9,1)\n",
    "print(x.size())\n",
    "print(x_reshaped)\n",
    "print(x_reshaped.size())"
   ]
  },
  {
   "cell_type": "code",
   "execution_count": 62,
   "id": "13dc9c41",
   "metadata": {
    "execution": {
     "iopub.execute_input": "2023-06-30T06:18:46.827528Z",
     "iopub.status.busy": "2023-06-30T06:18:46.827243Z",
     "iopub.status.idle": "2023-06-30T06:18:46.836541Z",
     "shell.execute_reply": "2023-06-30T06:18:46.835664Z"
    },
    "papermill": {
     "duration": 0.043385,
     "end_time": "2023-06-30T06:18:46.838791",
     "exception": false,
     "start_time": "2023-06-30T06:18:46.795406",
     "status": "completed"
    },
    "tags": []
   },
   "outputs": [
    {
     "data": {
      "text/plain": [
       "(tensor([[1., 2., 3.],\n",
       "         [4., 5., 6.],\n",
       "         [7., 8., 9.]]),\n",
       " torch.Size([3, 3]))"
      ]
     },
     "execution_count": 62,
     "metadata": {},
     "output_type": "execute_result"
    }
   ],
   "source": [
    "# Change View\n",
    "z = x.view(3,3)\n",
    "z, z.shape"
   ]
  },
  {
   "cell_type": "code",
   "execution_count": 63,
   "id": "51c68eb8",
   "metadata": {
    "execution": {
     "iopub.execute_input": "2023-06-30T06:18:46.903793Z",
     "iopub.status.busy": "2023-06-30T06:18:46.903526Z",
     "iopub.status.idle": "2023-06-30T06:18:46.914310Z",
     "shell.execute_reply": "2023-06-30T06:18:46.913330Z"
    },
    "papermill": {
     "duration": 0.045458,
     "end_time": "2023-06-30T06:18:46.916473",
     "exception": false,
     "start_time": "2023-06-30T06:18:46.871015",
     "status": "completed"
    },
    "tags": []
   },
   "outputs": [
    {
     "data": {
      "text/plain": [
       "(tensor([[5., 2., 3.],\n",
       "         [5., 5., 6.],\n",
       "         [5., 8., 9.]]),\n",
       " tensor([5., 2., 3., 5., 5., 6., 5., 8., 9.]))"
      ]
     },
     "execution_count": 63,
     "metadata": {},
     "output_type": "execute_result"
    }
   ],
   "source": [
    "# Changing z changes x because it shares same memory as original but doesnt affect the shape\n",
    "z[:,0]=5\n",
    "z, x"
   ]
  },
  {
   "cell_type": "code",
   "execution_count": 64,
   "id": "696687fd",
   "metadata": {
    "execution": {
     "iopub.execute_input": "2023-06-30T06:18:46.983801Z",
     "iopub.status.busy": "2023-06-30T06:18:46.982916Z",
     "iopub.status.idle": "2023-06-30T06:18:46.990634Z",
     "shell.execute_reply": "2023-06-30T06:18:46.989683Z"
    },
    "papermill": {
     "duration": 0.043479,
     "end_time": "2023-06-30T06:18:46.992667",
     "exception": false,
     "start_time": "2023-06-30T06:18:46.949188",
     "status": "completed"
    },
    "tags": []
   },
   "outputs": [
    {
     "data": {
      "text/plain": [
       "tensor([[5., 2., 3., 5., 5., 6., 5., 8., 9.],\n",
       "        [5., 2., 3., 5., 5., 6., 5., 8., 9.],\n",
       "        [5., 2., 3., 5., 5., 6., 5., 8., 9.],\n",
       "        [5., 2., 3., 5., 5., 6., 5., 8., 9.]])"
      ]
     },
     "execution_count": 64,
     "metadata": {},
     "output_type": "execute_result"
    }
   ],
   "source": [
    "# Stack tensors\n",
    "x_stacked = torch.stack([x, x, x, x], dim=0)\n",
    "x_stacked"
   ]
  },
  {
   "cell_type": "code",
   "execution_count": 65,
   "id": "93d3da6a",
   "metadata": {
    "execution": {
     "iopub.execute_input": "2023-06-30T06:18:47.059041Z",
     "iopub.status.busy": "2023-06-30T06:18:47.058184Z",
     "iopub.status.idle": "2023-06-30T06:18:47.066284Z",
     "shell.execute_reply": "2023-06-30T06:18:47.064815Z"
    },
    "papermill": {
     "duration": 0.043339,
     "end_time": "2023-06-30T06:18:47.068269",
     "exception": false,
     "start_time": "2023-06-30T06:18:47.024930",
     "status": "completed"
    },
    "tags": []
   },
   "outputs": [
    {
     "name": "stdout",
     "output_type": "stream",
     "text": [
      "Previouse tensor : tensor([[5.],\n",
      "        [2.],\n",
      "        [3.],\n",
      "        [5.],\n",
      "        [5.],\n",
      "        [6.],\n",
      "        [5.],\n",
      "        [8.],\n",
      "        [9.]])\n",
      "Previoe shape : torch.Size([9, 1])\n",
      "\n",
      "New tensor : tensor([5., 2., 3., 5., 5., 6., 5., 8., 9.])\n",
      "New Shape : torch.Size([9])\n"
     ]
    }
   ],
   "source": [
    "# torch.squeeze() - removes all single dimensions from target tensor\n",
    "print(f\"Previouse tensor : {x_reshaped}\")\n",
    "print(f\"Previoe shape : {x_reshaped.shape}\")\n",
    "\n",
    "# Remove extra dimension from x_reshaped\n",
    "x_squeezed = x_reshaped.squeeze()\n",
    "print(f\"\\nNew tensor : {x_squeezed}\")\n",
    "print(f\"New Shape : {x_squeezed.shape}\")\n",
    "\n"
   ]
  },
  {
   "cell_type": "code",
   "execution_count": 66,
   "id": "2d861848",
   "metadata": {
    "execution": {
     "iopub.execute_input": "2023-06-30T06:18:47.134171Z",
     "iopub.status.busy": "2023-06-30T06:18:47.133319Z",
     "iopub.status.idle": "2023-06-30T06:18:47.140572Z",
     "shell.execute_reply": "2023-06-30T06:18:47.139668Z"
    },
    "papermill": {
     "duration": 0.04269,
     "end_time": "2023-06-30T06:18:47.142504",
     "exception": false,
     "start_time": "2023-06-30T06:18:47.099814",
     "status": "completed"
    },
    "tags": []
   },
   "outputs": [
    {
     "data": {
      "text/plain": [
       "tensor([5., 2., 3., 5., 5., 6., 5., 8., 9.])"
      ]
     },
     "execution_count": 66,
     "metadata": {},
     "output_type": "execute_result"
    }
   ],
   "source": [
    "x_reshaped.squeeze()"
   ]
  },
  {
   "cell_type": "code",
   "execution_count": 67,
   "id": "c8ab778c",
   "metadata": {
    "execution": {
     "iopub.execute_input": "2023-06-30T06:18:47.207718Z",
     "iopub.status.busy": "2023-06-30T06:18:47.206986Z",
     "iopub.status.idle": "2023-06-30T06:18:47.215488Z",
     "shell.execute_reply": "2023-06-30T06:18:47.214401Z"
    },
    "papermill": {
     "duration": 0.043129,
     "end_time": "2023-06-30T06:18:47.217421",
     "exception": false,
     "start_time": "2023-06-30T06:18:47.174292",
     "status": "completed"
    },
    "tags": []
   },
   "outputs": [
    {
     "name": "stdout",
     "output_type": "stream",
     "text": [
      "Previous target : tensor([5., 2., 3., 5., 5., 6., 5., 8., 9.])\n",
      "Previous Shape : torch.Size([9])\n",
      "\n",
      "New tensor : tensor([[5., 2., 3., 5., 5., 6., 5., 8., 9.]])\n",
      "New Shape : torch.Size([1, 9])\n"
     ]
    }
   ],
   "source": [
    "# torch.unsqueeze() - adds a single dimension to a target tensor at a specific dimension\n",
    "print(f\"Previous target : {x_squeezed}\")\n",
    "print(f\"Previous Shape : {x_squeezed.shape}\")\n",
    "\n",
    "# Adding dimension to x_reshaped\n",
    "x_unsqueezed = x_squeezed.unsqueeze(dim=-0)\n",
    "print(f\"\\nNew tensor : {x_unsqueezed}\")\n",
    "print(f\"New Shape : {x_unsqueezed.shape}\")"
   ]
  },
  {
   "cell_type": "code",
   "execution_count": 68,
   "id": "a4644dde",
   "metadata": {
    "execution": {
     "iopub.execute_input": "2023-06-30T06:18:47.282523Z",
     "iopub.status.busy": "2023-06-30T06:18:47.281774Z",
     "iopub.status.idle": "2023-06-30T06:18:47.289953Z",
     "shell.execute_reply": "2023-06-30T06:18:47.288532Z"
    },
    "papermill": {
     "duration": 0.042897,
     "end_time": "2023-06-30T06:18:47.291896",
     "exception": false,
     "start_time": "2023-06-30T06:18:47.248999",
     "status": "completed"
    },
    "tags": []
   },
   "outputs": [
    {
     "name": "stdout",
     "output_type": "stream",
     "text": [
      "Shape before Permute : torch.Size([224, 224, 3])\n",
      "Shape after Permute : torch.Size([3, 224, 224])\n"
     ]
    }
   ],
   "source": [
    "# torch.permute - rearrages the dimension of a traget tensor in a specified order\n",
    "x_original = torch.rand(size=(224,224,3)) \n",
    "print(f\"Shape before Permute : {x_original.shape}\") #[height, width, color_channel]\n",
    "\n",
    "# Premute the original tensor to rearrage the axis\n",
    "x_permuted = x_original.permute(2,0,1) # shifts axis 0 -> 1, 1 -> 2, 2 -> 0\n",
    "print(f\"Shape after Permute : {x_permuted.shape}\") #[color_channel, height, width]"
   ]
  },
  {
   "cell_type": "markdown",
   "id": "13a0a05d",
   "metadata": {
    "papermill": {
     "duration": 0.032769,
     "end_time": "2023-06-30T06:18:47.356577",
     "exception": false,
     "start_time": "2023-06-30T06:18:47.323808",
     "status": "completed"
    },
    "tags": []
   },
   "source": [
    "## Indexing (selecting data from tensors)\n",
    "Indexing is same as numpy"
   ]
  },
  {
   "cell_type": "code",
   "execution_count": 69,
   "id": "f249468f",
   "metadata": {
    "execution": {
     "iopub.execute_input": "2023-06-30T06:18:47.422750Z",
     "iopub.status.busy": "2023-06-30T06:18:47.421936Z",
     "iopub.status.idle": "2023-06-30T06:18:47.432242Z",
     "shell.execute_reply": "2023-06-30T06:18:47.431258Z"
    },
    "papermill": {
     "duration": 0.045848,
     "end_time": "2023-06-30T06:18:47.434176",
     "exception": false,
     "start_time": "2023-06-30T06:18:47.388328",
     "status": "completed"
    },
    "tags": []
   },
   "outputs": [
    {
     "data": {
      "text/plain": [
       "(tensor([[[1, 2, 3],\n",
       "          [4, 5, 6],\n",
       "          [7, 8, 9]]]),\n",
       " torch.Size([1, 3, 3]))"
      ]
     },
     "execution_count": 69,
     "metadata": {},
     "output_type": "execute_result"
    }
   ],
   "source": [
    "# Create a tensor\n",
    "x= torch.arange(1,10).reshape(1,3,3)\n",
    "x, x.shape"
   ]
  },
  {
   "cell_type": "code",
   "execution_count": 70,
   "id": "4e75247f",
   "metadata": {
    "execution": {
     "iopub.execute_input": "2023-06-30T06:18:47.500427Z",
     "iopub.status.busy": "2023-06-30T06:18:47.499659Z",
     "iopub.status.idle": "2023-06-30T06:18:47.505961Z",
     "shell.execute_reply": "2023-06-30T06:18:47.505090Z"
    },
    "papermill": {
     "duration": 0.041162,
     "end_time": "2023-06-30T06:18:47.507880",
     "exception": false,
     "start_time": "2023-06-30T06:18:47.466718",
     "status": "completed"
    },
    "tags": []
   },
   "outputs": [
    {
     "data": {
      "text/plain": [
       "tensor([[1, 2, 3],\n",
       "        [4, 5, 6],\n",
       "        [7, 8, 9]])"
      ]
     },
     "execution_count": 70,
     "metadata": {},
     "output_type": "execute_result"
    }
   ],
   "source": [
    "# Indexing new tensor\n",
    "x[0]"
   ]
  },
  {
   "cell_type": "code",
   "execution_count": 71,
   "id": "76a66ab9",
   "metadata": {
    "execution": {
     "iopub.execute_input": "2023-06-30T06:18:47.577057Z",
     "iopub.status.busy": "2023-06-30T06:18:47.576174Z",
     "iopub.status.idle": "2023-06-30T06:18:47.583441Z",
     "shell.execute_reply": "2023-06-30T06:18:47.582480Z"
    },
    "papermill": {
     "duration": 0.044877,
     "end_time": "2023-06-30T06:18:47.585702",
     "exception": false,
     "start_time": "2023-06-30T06:18:47.540825",
     "status": "completed"
    },
    "tags": []
   },
   "outputs": [
    {
     "data": {
      "text/plain": [
       "tensor(5)"
      ]
     },
     "execution_count": 71,
     "metadata": {},
     "output_type": "execute_result"
    }
   ],
   "source": [
    "# Index on middle bracket (dim=1)\n",
    "x[0,1,1]"
   ]
  },
  {
   "cell_type": "code",
   "execution_count": 72,
   "id": "64cb2469",
   "metadata": {
    "execution": {
     "iopub.execute_input": "2023-06-30T06:18:47.654825Z",
     "iopub.status.busy": "2023-06-30T06:18:47.654112Z",
     "iopub.status.idle": "2023-06-30T06:18:47.659897Z",
     "shell.execute_reply": "2023-06-30T06:18:47.659018Z"
    },
    "papermill": {
     "duration": 0.0408,
     "end_time": "2023-06-30T06:18:47.661988",
     "exception": false,
     "start_time": "2023-06-30T06:18:47.621188",
     "status": "completed"
    },
    "tags": []
   },
   "outputs": [
    {
     "data": {
      "text/plain": [
       "tensor([[1, 2, 3]])"
      ]
     },
     "execution_count": 72,
     "metadata": {},
     "output_type": "execute_result"
    }
   ],
   "source": [
    "# \":\" to select all target dimension\n",
    "x[:,0]"
   ]
  },
  {
   "cell_type": "code",
   "execution_count": 73,
   "id": "976cfa30",
   "metadata": {
    "execution": {
     "iopub.execute_input": "2023-06-30T06:18:47.727360Z",
     "iopub.status.busy": "2023-06-30T06:18:47.727095Z",
     "iopub.status.idle": "2023-06-30T06:18:47.733161Z",
     "shell.execute_reply": "2023-06-30T06:18:47.732220Z"
    },
    "papermill": {
     "duration": 0.040955,
     "end_time": "2023-06-30T06:18:47.735102",
     "exception": false,
     "start_time": "2023-06-30T06:18:47.694147",
     "status": "completed"
    },
    "tags": []
   },
   "outputs": [
    {
     "name": "stdout",
     "output_type": "stream",
     "text": [
      "tensor([[2, 5, 8]])\n",
      "tensor([1, 2, 3])\n",
      "tensor([4, 5, 6])\n"
     ]
    }
   ],
   "source": [
    "# Practice\n",
    "print(x[:,:,1])\n",
    "print(x[0,0,:])\n",
    "print(x[0,1,:])"
   ]
  },
  {
   "cell_type": "markdown",
   "id": "4b4a22ef",
   "metadata": {
    "papermill": {
     "duration": 0.032076,
     "end_time": "2023-06-30T06:18:47.799803",
     "exception": false,
     "start_time": "2023-06-30T06:18:47.767727",
     "status": "completed"
    },
    "tags": []
   },
   "source": [
    "## Pytorch tensors & Numpy\n",
    "\n",
    "Pytorch interacting with Numpy\n",
    "\n",
    "* Convert data from Numpy to Tensor -> `torch.from_numpy(ndarray)`\n",
    "* Convert data from Tensor to Numpy -> `torch.Tensor.numpy()`"
   ]
  },
  {
   "cell_type": "code",
   "execution_count": 74,
   "id": "6258c862",
   "metadata": {
    "execution": {
     "iopub.execute_input": "2023-06-30T06:18:47.865523Z",
     "iopub.status.busy": "2023-06-30T06:18:47.865241Z",
     "iopub.status.idle": "2023-06-30T06:18:47.873759Z",
     "shell.execute_reply": "2023-06-30T06:18:47.872720Z"
    },
    "papermill": {
     "duration": 0.043801,
     "end_time": "2023-06-30T06:18:47.875914",
     "exception": false,
     "start_time": "2023-06-30T06:18:47.832113",
     "status": "completed"
    },
    "tags": []
   },
   "outputs": [
    {
     "data": {
      "text/plain": [
       "(array([1., 2., 3., 4., 5., 6., 7.]), tensor([1., 2., 3., 4., 5., 6., 7.]))"
      ]
     },
     "execution_count": 74,
     "metadata": {},
     "output_type": "execute_result"
    }
   ],
   "source": [
    "# Numpy Array -> Tensor\n",
    "import numpy as np\n",
    "import torch\n",
    "\n",
    "array = np.arange(1.0,8.0)\n",
    "tensor = torch.from_numpy(array).type(torch.float32) # warning: when converting from numpy -> tensor, pytorch copies same datatype from numpy viz. float64 unless changed (default dtype of tensor is float32) \n",
    "array, tensor"
   ]
  },
  {
   "cell_type": "code",
   "execution_count": 75,
   "id": "cd6f5019",
   "metadata": {
    "execution": {
     "iopub.execute_input": "2023-06-30T06:18:47.944918Z",
     "iopub.status.busy": "2023-06-30T06:18:47.944144Z",
     "iopub.status.idle": "2023-06-30T06:18:47.949728Z",
     "shell.execute_reply": "2023-06-30T06:18:47.948547Z"
    },
    "papermill": {
     "duration": 0.041556,
     "end_time": "2023-06-30T06:18:47.951743",
     "exception": false,
     "start_time": "2023-06-30T06:18:47.910187",
     "status": "completed"
    },
    "tags": []
   },
   "outputs": [
    {
     "name": "stdout",
     "output_type": "stream",
     "text": [
      "float64\n",
      "torch.float32\n"
     ]
    }
   ],
   "source": [
    "print(array.dtype)\n",
    "print(tensor.dtype)"
   ]
  },
  {
   "cell_type": "code",
   "execution_count": 76,
   "id": "ae8c1eb1",
   "metadata": {
    "execution": {
     "iopub.execute_input": "2023-06-30T06:18:48.020534Z",
     "iopub.status.busy": "2023-06-30T06:18:48.019916Z",
     "iopub.status.idle": "2023-06-30T06:18:48.027292Z",
     "shell.execute_reply": "2023-06-30T06:18:48.026318Z"
    },
    "papermill": {
     "duration": 0.043652,
     "end_time": "2023-06-30T06:18:48.029461",
     "exception": false,
     "start_time": "2023-06-30T06:18:47.985809",
     "status": "completed"
    },
    "tags": []
   },
   "outputs": [
    {
     "data": {
      "text/plain": [
       "(array([2., 3., 4., 5., 6., 7., 8.]), tensor([1., 2., 3., 4., 5., 6., 7.]))"
      ]
     },
     "execution_count": 76,
     "metadata": {},
     "output_type": "execute_result"
    }
   ],
   "source": [
    "# Changing the value of array, does this affect tensor ?\n",
    "array = array + 1\n",
    "array,tensor\n",
    "# NO"
   ]
  },
  {
   "cell_type": "code",
   "execution_count": 77,
   "id": "a11de9f7",
   "metadata": {
    "execution": {
     "iopub.execute_input": "2023-06-30T06:18:48.101374Z",
     "iopub.status.busy": "2023-06-30T06:18:48.100617Z",
     "iopub.status.idle": "2023-06-30T06:18:48.108391Z",
     "shell.execute_reply": "2023-06-30T06:18:48.107361Z"
    },
    "papermill": {
     "duration": 0.04401,
     "end_time": "2023-06-30T06:18:48.110471",
     "exception": false,
     "start_time": "2023-06-30T06:18:48.066461",
     "status": "completed"
    },
    "tags": []
   },
   "outputs": [
    {
     "data": {
      "text/plain": [
       "(tensor([1., 1., 1., 1., 1., 1., 1.]),\n",
       " array([1., 1., 1., 1., 1., 1., 1.], dtype=float32))"
      ]
     },
     "execution_count": 77,
     "metadata": {},
     "output_type": "execute_result"
    }
   ],
   "source": [
    "# Tensor -> Numpy array\n",
    "tensor = torch.ones(7)\n",
    "array = tensor.numpy() # datatype remains same as tensor's\n",
    "tensor, array"
   ]
  },
  {
   "cell_type": "code",
   "execution_count": 78,
   "id": "e4f272f6",
   "metadata": {
    "execution": {
     "iopub.execute_input": "2023-06-30T06:18:48.181350Z",
     "iopub.status.busy": "2023-06-30T06:18:48.180925Z",
     "iopub.status.idle": "2023-06-30T06:18:48.188799Z",
     "shell.execute_reply": "2023-06-30T06:18:48.187800Z"
    },
    "papermill": {
     "duration": 0.04394,
     "end_time": "2023-06-30T06:18:48.191065",
     "exception": false,
     "start_time": "2023-06-30T06:18:48.147125",
     "status": "completed"
    },
    "tags": []
   },
   "outputs": [
    {
     "data": {
      "text/plain": [
       "(tensor([2., 2., 2., 2., 2., 2., 2.]),\n",
       " array([1., 1., 1., 1., 1., 1., 1.], dtype=float32))"
      ]
     },
     "execution_count": 78,
     "metadata": {},
     "output_type": "execute_result"
    }
   ],
   "source": [
    " # Changing the value of tensor, does this affect array ?\n",
    "tensor = tensor + 1\n",
    "tensor,array\n",
    "# NO"
   ]
  },
  {
   "cell_type": "markdown",
   "id": "d517b98f",
   "metadata": {
    "papermill": {
     "duration": 0.032537,
     "end_time": "2023-06-30T06:18:48.258815",
     "exception": false,
     "start_time": "2023-06-30T06:18:48.226278",
     "status": "completed"
    },
    "tags": []
   },
   "source": [
    "## Reproducbility (trying to take random out of random)\n",
    "How Neural Network Work ?\n",
    "\n",
    "` Start with random nos. -> tensor operation -> update random nos. to try and malke them better represntation of data -> repeat -> repeat -> repeat ...`\n",
    "\n",
    "To reduce the randomness in Neural Network we use **Random Seed**.\n",
    "\n",
    "Essentially whta random seed does is **flavour** the randomness.\n",
    "\n",
    "ref - \n",
    "* https://pytorch.org/docs/stable/notes/randomness.html\n",
    "* https://en.wikipedia.org/wiki/Random_seed"
   ]
  },
  {
   "cell_type": "code",
   "execution_count": 79,
   "id": "78eb0a9e",
   "metadata": {
    "execution": {
     "iopub.execute_input": "2023-06-30T06:18:48.325368Z",
     "iopub.status.busy": "2023-06-30T06:18:48.325089Z",
     "iopub.status.idle": "2023-06-30T06:18:48.332707Z",
     "shell.execute_reply": "2023-06-30T06:18:48.331369Z"
    },
    "papermill": {
     "duration": 0.043269,
     "end_time": "2023-06-30T06:18:48.334663",
     "exception": false,
     "start_time": "2023-06-30T06:18:48.291394",
     "status": "completed"
    },
    "tags": []
   },
   "outputs": [
    {
     "name": "stdout",
     "output_type": "stream",
     "text": [
      "tensor([[0.9732, 0.7332, 0.5569],\n",
      "        [0.0250, 0.1163, 0.8962],\n",
      "        [0.7891, 0.2032, 0.3447],\n",
      "        [0.4646, 0.9310, 0.1133]])\n",
      "tensor([[0.0873, 0.5366, 0.9968],\n",
      "        [0.5220, 0.9679, 0.0237],\n",
      "        [0.1774, 0.8230, 0.0250],\n",
      "        [0.0626, 0.1226, 0.9373]])\n",
      "tensor([[False, False, False],\n",
      "        [False, False, False],\n",
      "        [False, False, False],\n",
      "        [False, False, False]])\n"
     ]
    }
   ],
   "source": [
    "#  Create 2 tensors\n",
    "\n",
    "random_tensor_A = torch.rand(4,3)\n",
    "random_tensor_B = torch.rand(4,3)\n",
    "\n",
    "print(random_tensor_A)\n",
    "print(random_tensor_B)\n",
    "print(random_tensor_A==random_tensor_B)"
   ]
  },
  {
   "cell_type": "code",
   "execution_count": 80,
   "id": "7095bed1",
   "metadata": {
    "execution": {
     "iopub.execute_input": "2023-06-30T06:18:48.402598Z",
     "iopub.status.busy": "2023-06-30T06:18:48.401930Z",
     "iopub.status.idle": "2023-06-30T06:18:48.416266Z",
     "shell.execute_reply": "2023-06-30T06:18:48.414912Z"
    },
    "papermill": {
     "duration": 0.05054,
     "end_time": "2023-06-30T06:18:48.418221",
     "exception": false,
     "start_time": "2023-06-30T06:18:48.367681",
     "status": "completed"
    },
    "tags": []
   },
   "outputs": [
    {
     "name": "stdout",
     "output_type": "stream",
     "text": [
      "tensor([[0.8823, 0.9150, 0.3829],\n",
      "        [0.9593, 0.3904, 0.6009],\n",
      "        [0.2566, 0.7936, 0.9408],\n",
      "        [0.1332, 0.9346, 0.5936]])\n",
      "tensor([[0.8823, 0.9150, 0.3829],\n",
      "        [0.9593, 0.3904, 0.6009],\n",
      "        [0.2566, 0.7936, 0.9408],\n",
      "        [0.1332, 0.9346, 0.5936]])\n",
      "tensor([[True, True, True],\n",
      "        [True, True, True],\n",
      "        [True, True, True],\n",
      "        [True, True, True]])\n"
     ]
    }
   ],
   "source": [
    "# Random but reproducable tensors\n",
    "import torch\n",
    "\n",
    "# Set random seed\n",
    "RANDOM_SEED = 42\n",
    "torch.manual_seed(RANDOM_SEED) # Set the random seed every time we call rand function\n",
    "random_tensor_C = torch.rand(4,3)\n",
    "\n",
    "torch.manual_seed(RANDOM_SEED)\n",
    "random_tensor_D = torch.rand(4,3)\n",
    "\n",
    "print(random_tensor_C)\n",
    "print(random_tensor_D)\n",
    "print(random_tensor_C==random_tensor_D)"
   ]
  },
  {
   "cell_type": "markdown",
   "id": "ad2f03d8",
   "metadata": {
    "papermill": {
     "duration": 0.033282,
     "end_time": "2023-06-30T06:18:48.490547",
     "exception": false,
     "start_time": "2023-06-30T06:18:48.457265",
     "status": "completed"
    },
    "tags": []
   },
   "source": [
    "## Running tensors and Pytorch on GPU (Making it Faster)\n",
    "\n",
    "Gpus = faster computation with Cuda and Nvidia hardware"
   ]
  },
  {
   "cell_type": "markdown",
   "id": "a472101c",
   "metadata": {
    "papermill": {
     "duration": 0.032535,
     "end_time": "2023-06-30T06:18:48.555862",
     "exception": false,
     "start_time": "2023-06-30T06:18:48.523327",
     "status": "completed"
    },
    "tags": []
   },
   "source": [
    "### 1. Getting a GPU\n",
    "\n",
    "1. Easiest is Google Colab and Kaggle\n",
    "2. Personal computer\n",
    "3. Use cloud computing - GCP, AWS, Azure\n",
    "\n",
    "Device agnostic code:\n",
    "if GPU present -> select GPU -> else -> CPU\n",
    "\n",
    "ref -\n",
    "* https://pytorch.org/docs/stable/notes/cuda.html"
   ]
  },
  {
   "cell_type": "code",
   "execution_count": 81,
   "id": "8c8dfdb8",
   "metadata": {
    "execution": {
     "iopub.execute_input": "2023-06-30T06:18:48.625900Z",
     "iopub.status.busy": "2023-06-30T06:18:48.625109Z",
     "iopub.status.idle": "2023-06-30T06:18:49.681646Z",
     "shell.execute_reply": "2023-06-30T06:18:49.680484Z"
    },
    "papermill": {
     "duration": 1.093474,
     "end_time": "2023-06-30T06:18:49.684143",
     "exception": false,
     "start_time": "2023-06-30T06:18:48.590669",
     "status": "completed"
    },
    "tags": []
   },
   "outputs": [
    {
     "name": "stdout",
     "output_type": "stream",
     "text": [
      "Fri Jun 30 06:18:49 2023       \r\n",
      "+-----------------------------------------------------------------------------+\r\n",
      "| NVIDIA-SMI 470.161.03   Driver Version: 470.161.03   CUDA Version: 11.4     |\r\n",
      "|-------------------------------+----------------------+----------------------+\r\n",
      "| GPU  Name        Persistence-M| Bus-Id        Disp.A | Volatile Uncorr. ECC |\r\n",
      "| Fan  Temp  Perf  Pwr:Usage/Cap|         Memory-Usage | GPU-Util  Compute M. |\r\n",
      "|                               |                      |               MIG M. |\r\n",
      "|===============================+======================+======================|\r\n",
      "|   0  Tesla T4            Off  | 00000000:00:04.0 Off |                    0 |\r\n",
      "| N/A   38C    P8     9W /  70W |      0MiB / 15109MiB |      0%      Default |\r\n",
      "|                               |                      |                  N/A |\r\n",
      "+-------------------------------+----------------------+----------------------+\r\n",
      "|   1  Tesla T4            Off  | 00000000:00:05.0 Off |                    0 |\r\n",
      "| N/A   45C    P8     9W /  70W |      0MiB / 15109MiB |      0%      Default |\r\n",
      "|                               |                      |                  N/A |\r\n",
      "+-------------------------------+----------------------+----------------------+\r\n",
      "                                                                               \r\n",
      "+-----------------------------------------------------------------------------+\r\n",
      "| Processes:                                                                  |\r\n",
      "|  GPU   GI   CI        PID   Type   Process name                  GPU Memory |\r\n",
      "|        ID   ID                                                   Usage      |\r\n",
      "|=============================================================================|\r\n",
      "|  No running processes found                                                 |\r\n",
      "+-----------------------------------------------------------------------------+\r\n"
     ]
    }
   ],
   "source": [
    "!nvidia-smi"
   ]
  },
  {
   "cell_type": "markdown",
   "id": "31219725",
   "metadata": {
    "papermill": {
     "duration": 0.033465,
     "end_time": "2023-06-30T06:18:49.752641",
     "exception": false,
     "start_time": "2023-06-30T06:18:49.719176",
     "status": "completed"
    },
    "tags": []
   },
   "source": [
    "### 2. Check for GPU access with Pytorch"
   ]
  },
  {
   "cell_type": "code",
   "execution_count": 82,
   "id": "666e4b16",
   "metadata": {
    "execution": {
     "iopub.execute_input": "2023-06-30T06:18:49.821315Z",
     "iopub.status.busy": "2023-06-30T06:18:49.820949Z",
     "iopub.status.idle": "2023-06-30T06:18:49.928425Z",
     "shell.execute_reply": "2023-06-30T06:18:49.927420Z"
    },
    "papermill": {
     "duration": 0.143748,
     "end_time": "2023-06-30T06:18:49.930495",
     "exception": false,
     "start_time": "2023-06-30T06:18:49.786747",
     "status": "completed"
    },
    "tags": []
   },
   "outputs": [
    {
     "data": {
      "text/plain": [
       "True"
      ]
     },
     "execution_count": 82,
     "metadata": {},
     "output_type": "execute_result"
    }
   ],
   "source": [
    "# check GPU\n",
    "import torch\n",
    "torch.cuda.is_available()"
   ]
  },
  {
   "cell_type": "code",
   "execution_count": 83,
   "id": "ecf39f6a",
   "metadata": {
    "execution": {
     "iopub.execute_input": "2023-06-30T06:18:49.998877Z",
     "iopub.status.busy": "2023-06-30T06:18:49.998578Z",
     "iopub.status.idle": "2023-06-30T06:18:50.004568Z",
     "shell.execute_reply": "2023-06-30T06:18:50.003664Z"
    },
    "papermill": {
     "duration": 0.04263,
     "end_time": "2023-06-30T06:18:50.006616",
     "exception": false,
     "start_time": "2023-06-30T06:18:49.963986",
     "status": "completed"
    },
    "tags": []
   },
   "outputs": [
    {
     "data": {
      "text/plain": [
       "'cuda'"
      ]
     },
     "execution_count": 83,
     "metadata": {},
     "output_type": "execute_result"
    }
   ],
   "source": [
    "# Setup device agnostic code\n",
    "device = 'cuda' if torch.cuda.is_available() else \"cpu\" \n",
    "device"
   ]
  },
  {
   "cell_type": "code",
   "execution_count": 84,
   "id": "0ef93165",
   "metadata": {
    "execution": {
     "iopub.execute_input": "2023-06-30T06:18:50.076864Z",
     "iopub.status.busy": "2023-06-30T06:18:50.076575Z",
     "iopub.status.idle": "2023-06-30T06:18:50.097167Z",
     "shell.execute_reply": "2023-06-30T06:18:50.096236Z"
    },
    "papermill": {
     "duration": 0.058898,
     "end_time": "2023-06-30T06:18:50.099185",
     "exception": false,
     "start_time": "2023-06-30T06:18:50.040287",
     "status": "completed"
    },
    "tags": []
   },
   "outputs": [
    {
     "data": {
      "text/plain": [
       "2"
      ]
     },
     "execution_count": 84,
     "metadata": {},
     "output_type": "execute_result"
    }
   ],
   "source": [
    "# Count no. of GPUs\n",
    "torch.cuda.device_count()"
   ]
  },
  {
   "cell_type": "markdown",
   "id": "c5916de9",
   "metadata": {
    "papermill": {
     "duration": 0.03366,
     "end_time": "2023-06-30T06:18:50.167055",
     "exception": false,
     "start_time": "2023-06-30T06:18:50.133395",
     "status": "completed"
    },
    "tags": []
   },
   "source": [
    "### 3. Putting tensors and models in GPU\n",
    "To make ocomputations faster"
   ]
  },
  {
   "cell_type": "code",
   "execution_count": 85,
   "id": "0d1a874f",
   "metadata": {
    "execution": {
     "iopub.execute_input": "2023-06-30T06:18:50.236301Z",
     "iopub.status.busy": "2023-06-30T06:18:50.235539Z",
     "iopub.status.idle": "2023-06-30T06:18:50.241928Z",
     "shell.execute_reply": "2023-06-30T06:18:50.240657Z"
    },
    "papermill": {
     "duration": 0.043044,
     "end_time": "2023-06-30T06:18:50.243891",
     "exception": false,
     "start_time": "2023-06-30T06:18:50.200847",
     "status": "completed"
    },
    "tags": []
   },
   "outputs": [
    {
     "name": "stdout",
     "output_type": "stream",
     "text": [
      "tensor([2, 3, 4]) cpu\n"
     ]
    }
   ],
   "source": [
    "# Create a tensor (default on CPU)\n",
    "tensor = torch.tensor([2,3,4])\n",
    "\n",
    "# Tensor device \n",
    "print(tensor, tensor.device)"
   ]
  },
  {
   "cell_type": "code",
   "execution_count": 86,
   "id": "a2871cfb",
   "metadata": {
    "execution": {
     "iopub.execute_input": "2023-06-30T06:18:50.315555Z",
     "iopub.status.busy": "2023-06-30T06:18:50.314994Z",
     "iopub.status.idle": "2023-06-30T06:18:53.825848Z",
     "shell.execute_reply": "2023-06-30T06:18:53.824822Z"
    },
    "papermill": {
     "duration": 3.548483,
     "end_time": "2023-06-30T06:18:53.828355",
     "exception": false,
     "start_time": "2023-06-30T06:18:50.279872",
     "status": "completed"
    },
    "tags": []
   },
   "outputs": [
    {
     "data": {
      "text/plain": [
       "tensor([2, 3, 4], device='cuda:0')"
      ]
     },
     "execution_count": 86,
     "metadata": {},
     "output_type": "execute_result"
    }
   ],
   "source": [
    "# Move tensor to GPU (if available)\n",
    "tensor_on_gpu = tensor.to(device)\n",
    "tensor_on_gpu"
   ]
  },
  {
   "cell_type": "markdown",
   "id": "ead5c75c",
   "metadata": {
    "papermill": {
     "duration": 0.034241,
     "end_time": "2023-06-30T06:18:53.898686",
     "exception": false,
     "start_time": "2023-06-30T06:18:53.864445",
     "status": "completed"
    },
    "tags": []
   },
   "source": [
    "### 4. Moving tensor back to CPU"
   ]
  },
  {
   "cell_type": "code",
   "execution_count": 87,
   "id": "e17bfa45",
   "metadata": {
    "execution": {
     "iopub.execute_input": "2023-06-30T06:18:53.971304Z",
     "iopub.status.busy": "2023-06-30T06:18:53.970295Z",
     "iopub.status.idle": "2023-06-30T06:18:53.974824Z",
     "shell.execute_reply": "2023-06-30T06:18:53.973977Z"
    },
    "papermill": {
     "duration": 0.043236,
     "end_time": "2023-06-30T06:18:53.976649",
     "exception": false,
     "start_time": "2023-06-30T06:18:53.933413",
     "status": "completed"
    },
    "tags": []
   },
   "outputs": [],
   "source": [
    "# If tensor on GPU, can't transfer it to NumPY\n",
    "#tensor_on_gpu.numpy()"
   ]
  },
  {
   "cell_type": "code",
   "execution_count": 88,
   "id": "69b7ae32",
   "metadata": {
    "execution": {
     "iopub.execute_input": "2023-06-30T06:18:54.046318Z",
     "iopub.status.busy": "2023-06-30T06:18:54.045610Z",
     "iopub.status.idle": "2023-06-30T06:18:54.053283Z",
     "shell.execute_reply": "2023-06-30T06:18:54.052220Z"
    },
    "papermill": {
     "duration": 0.04487,
     "end_time": "2023-06-30T06:18:54.055309",
     "exception": false,
     "start_time": "2023-06-30T06:18:54.010439",
     "status": "completed"
    },
    "tags": []
   },
   "outputs": [
    {
     "data": {
      "text/plain": [
       "(tensor([2, 3, 4]), device(type='cpu'))"
      ]
     },
     "execution_count": 88,
     "metadata": {},
     "output_type": "execute_result"
    }
   ],
   "source": [
    "# to fix GPU tensor with NumPy issue, we have to set it to CPU\n",
    "tensor_back_on_cpu = tensor_on_gpu.to('cpu') #Alternative: tensor_on_gpu.cpu() \n",
    "tensor_back_on_cpu, tensor_back_on_cpu.device"
   ]
  },
  {
   "cell_type": "code",
   "execution_count": 89,
   "id": "ec494b06",
   "metadata": {
    "execution": {
     "iopub.execute_input": "2023-06-30T06:18:54.126765Z",
     "iopub.status.busy": "2023-06-30T06:18:54.126140Z",
     "iopub.status.idle": "2023-06-30T06:18:54.132994Z",
     "shell.execute_reply": "2023-06-30T06:18:54.132025Z"
    },
    "papermill": {
     "duration": 0.044866,
     "end_time": "2023-06-30T06:18:54.135123",
     "exception": false,
     "start_time": "2023-06-30T06:18:54.090257",
     "status": "completed"
    },
    "tags": []
   },
   "outputs": [
    {
     "data": {
      "text/plain": [
       "array([2, 3, 4])"
      ]
     },
     "execution_count": 89,
     "metadata": {},
     "output_type": "execute_result"
    }
   ],
   "source": [
    "# Tensor -> NumPy\n",
    "tensor_back_on_cpu.numpy()"
   ]
  }
 ],
 "metadata": {
  "kernelspec": {
   "display_name": "Python 3",
   "language": "python",
   "name": "python3"
  },
  "language_info": {
   "codemirror_mode": {
    "name": "ipython",
    "version": 3
   },
   "file_extension": ".py",
   "mimetype": "text/x-python",
   "name": "python",
   "nbconvert_exporter": "python",
   "pygments_lexer": "ipython3",
   "version": "3.10.10"
  },
  "papermill": {
   "default_parameters": {},
   "duration": 31.426739,
   "end_time": "2023-06-30T06:18:56.783260",
   "environment_variables": {},
   "exception": null,
   "input_path": "__notebook__.ipynb",
   "output_path": "__notebook__.ipynb",
   "parameters": {},
   "start_time": "2023-06-30T06:18:25.356521",
   "version": "2.4.0"
  }
 },
 "nbformat": 4,
 "nbformat_minor": 5
}
