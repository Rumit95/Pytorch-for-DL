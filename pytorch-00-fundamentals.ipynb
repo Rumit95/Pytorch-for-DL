{
 "cells": [
  {
   "cell_type": "code",
   "execution_count": 1,
   "id": "5096f468",
   "metadata": {
    "_cell_guid": "b1076dfc-b9ad-4769-8c92-a6c4dae69d19",
    "_uuid": "8f2839f25d086af736a60e9eeb907d3b93b6e0e5",
    "execution": {
     "iopub.execute_input": "2023-06-25T16:30:31.773997Z",
     "iopub.status.busy": "2023-06-25T16:30:31.773657Z",
     "iopub.status.idle": "2023-06-25T16:30:35.033657Z",
     "shell.execute_reply": "2023-06-25T16:30:35.032695Z"
    },
    "papermill": {
     "duration": 3.273185,
     "end_time": "2023-06-25T16:30:35.036289",
     "exception": false,
     "start_time": "2023-06-25T16:30:31.763104",
     "status": "completed"
    },
    "tags": []
   },
   "outputs": [
    {
     "data": {
      "text/plain": [
       "'2.0.0'"
      ]
     },
     "execution_count": 1,
     "metadata": {},
     "output_type": "execute_result"
    }
   ],
   "source": [
    "import torch\n",
    "import pandas as pd\n",
    "import numpy as np\n",
    "import matplotlib.pyplot as plt\n",
    "torch.__version__"
   ]
  },
  {
   "cell_type": "markdown",
   "id": "4e762840",
   "metadata": {
    "execution": {
     "iopub.execute_input": "2023-06-25T15:31:29.081596Z",
     "iopub.status.busy": "2023-06-25T15:31:29.081220Z",
     "iopub.status.idle": "2023-06-25T15:31:29.086052Z",
     "shell.execute_reply": "2023-06-25T15:31:29.085102Z",
     "shell.execute_reply.started": "2023-06-25T15:31:29.081561Z"
    },
    "papermill": {
     "duration": 0.011344,
     "end_time": "2023-06-25T16:30:35.060884",
     "exception": false,
     "start_time": "2023-06-25T16:30:35.049540",
     "status": "completed"
    },
    "tags": []
   },
   "source": [
    "## Introduction to Tensor\n",
    "\n",
    "### Creating Tensors\n",
    "\n",
    "PyTorch tensor are create using torch.Tensor()\n",
    "\n",
    "ref - https://pytorch.org/docs/stable/tensors.html"
   ]
  },
  {
   "cell_type": "code",
   "execution_count": 2,
   "id": "70ca764b",
   "metadata": {
    "execution": {
     "iopub.execute_input": "2023-06-25T16:30:35.086709Z",
     "iopub.status.busy": "2023-06-25T16:30:35.085981Z",
     "iopub.status.idle": "2023-06-25T16:30:35.123426Z",
     "shell.execute_reply": "2023-06-25T16:30:35.122616Z"
    },
    "papermill": {
     "duration": 0.053988,
     "end_time": "2023-06-25T16:30:35.127068",
     "exception": false,
     "start_time": "2023-06-25T16:30:35.073080",
     "status": "completed"
    },
    "tags": []
   },
   "outputs": [
    {
     "data": {
      "text/plain": [
       "tensor(7)"
      ]
     },
     "execution_count": 2,
     "metadata": {},
     "output_type": "execute_result"
    }
   ],
   "source": [
    "# Scaler\n",
    "scaler = torch.tensor(7)\n",
    "scaler"
   ]
  },
  {
   "cell_type": "code",
   "execution_count": 3,
   "id": "e80dd142",
   "metadata": {
    "execution": {
     "iopub.execute_input": "2023-06-25T16:30:35.152693Z",
     "iopub.status.busy": "2023-06-25T16:30:35.152333Z",
     "iopub.status.idle": "2023-06-25T16:30:35.157892Z",
     "shell.execute_reply": "2023-06-25T16:30:35.157130Z"
    },
    "papermill": {
     "duration": 0.023988,
     "end_time": "2023-06-25T16:30:35.163127",
     "exception": false,
     "start_time": "2023-06-25T16:30:35.139139",
     "status": "completed"
    },
    "tags": []
   },
   "outputs": [
    {
     "data": {
      "text/plain": [
       "0"
      ]
     },
     "execution_count": 3,
     "metadata": {},
     "output_type": "execute_result"
    }
   ],
   "source": [
    "scaler.ndim"
   ]
  },
  {
   "cell_type": "code",
   "execution_count": 4,
   "id": "ab218508",
   "metadata": {
    "execution": {
     "iopub.execute_input": "2023-06-25T16:30:35.189803Z",
     "iopub.status.busy": "2023-06-25T16:30:35.189469Z",
     "iopub.status.idle": "2023-06-25T16:30:35.195053Z",
     "shell.execute_reply": "2023-06-25T16:30:35.194284Z"
    },
    "papermill": {
     "duration": 0.024281,
     "end_time": "2023-06-25T16:30:35.200134",
     "exception": false,
     "start_time": "2023-06-25T16:30:35.175853",
     "status": "completed"
    },
    "tags": []
   },
   "outputs": [
    {
     "data": {
      "text/plain": [
       "7"
      ]
     },
     "execution_count": 4,
     "metadata": {},
     "output_type": "execute_result"
    }
   ],
   "source": [
    "# Get Tensor back ans int\n",
    "scaler.item()"
   ]
  },
  {
   "cell_type": "code",
   "execution_count": 5,
   "id": "1c6ad3cb",
   "metadata": {
    "execution": {
     "iopub.execute_input": "2023-06-25T16:30:35.226455Z",
     "iopub.status.busy": "2023-06-25T16:30:35.226110Z",
     "iopub.status.idle": "2023-06-25T16:30:35.233628Z",
     "shell.execute_reply": "2023-06-25T16:30:35.232738Z"
    },
    "papermill": {
     "duration": 0.024918,
     "end_time": "2023-06-25T16:30:35.237640",
     "exception": false,
     "start_time": "2023-06-25T16:30:35.212722",
     "status": "completed"
    },
    "tags": []
   },
   "outputs": [
    {
     "data": {
      "text/plain": [
       "tensor([7, 7])"
      ]
     },
     "execution_count": 5,
     "metadata": {},
     "output_type": "execute_result"
    }
   ],
   "source": [
    "# Vector\n",
    "vector = torch.tensor([7,7])\n",
    "vector"
   ]
  },
  {
   "cell_type": "code",
   "execution_count": 6,
   "id": "d4ee95f0",
   "metadata": {
    "execution": {
     "iopub.execute_input": "2023-06-25T16:30:35.268693Z",
     "iopub.status.busy": "2023-06-25T16:30:35.268248Z",
     "iopub.status.idle": "2023-06-25T16:30:35.277664Z",
     "shell.execute_reply": "2023-06-25T16:30:35.276785Z"
    },
    "papermill": {
     "duration": 0.030541,
     "end_time": "2023-06-25T16:30:35.281648",
     "exception": false,
     "start_time": "2023-06-25T16:30:35.251107",
     "status": "completed"
    },
    "tags": []
   },
   "outputs": [
    {
     "data": {
      "text/plain": [
       "1"
      ]
     },
     "execution_count": 6,
     "metadata": {},
     "output_type": "execute_result"
    }
   ],
   "source": [
    "vector.ndim"
   ]
  },
  {
   "cell_type": "code",
   "execution_count": 7,
   "id": "e44aae72",
   "metadata": {
    "execution": {
     "iopub.execute_input": "2023-06-25T16:30:35.309743Z",
     "iopub.status.busy": "2023-06-25T16:30:35.309336Z",
     "iopub.status.idle": "2023-06-25T16:30:35.315263Z",
     "shell.execute_reply": "2023-06-25T16:30:35.314507Z"
    },
    "papermill": {
     "duration": 0.026071,
     "end_time": "2023-06-25T16:30:35.321467",
     "exception": false,
     "start_time": "2023-06-25T16:30:35.295396",
     "status": "completed"
    },
    "tags": []
   },
   "outputs": [
    {
     "data": {
      "text/plain": [
       "torch.Size([2])"
      ]
     },
     "execution_count": 7,
     "metadata": {},
     "output_type": "execute_result"
    }
   ],
   "source": [
    "vector.shape"
   ]
  },
  {
   "cell_type": "code",
   "execution_count": 8,
   "id": "cf21004f",
   "metadata": {
    "execution": {
     "iopub.execute_input": "2023-06-25T16:30:35.349690Z",
     "iopub.status.busy": "2023-06-25T16:30:35.349368Z",
     "iopub.status.idle": "2023-06-25T16:30:35.357637Z",
     "shell.execute_reply": "2023-06-25T16:30:35.356877Z"
    },
    "papermill": {
     "duration": 0.026985,
     "end_time": "2023-06-25T16:30:35.362355",
     "exception": false,
     "start_time": "2023-06-25T16:30:35.335370",
     "status": "completed"
    },
    "tags": []
   },
   "outputs": [
    {
     "data": {
      "text/plain": [
       "tensor([[7, 8],\n",
       "        [6, 5]])"
      ]
     },
     "execution_count": 8,
     "metadata": {},
     "output_type": "execute_result"
    }
   ],
   "source": [
    "# Matrix\n",
    "MATRIX = torch.tensor([[7,8],\n",
    "                      [6,5]])\n",
    "MATRIX"
   ]
  },
  {
   "cell_type": "code",
   "execution_count": 9,
   "id": "9bbe760e",
   "metadata": {
    "execution": {
     "iopub.execute_input": "2023-06-25T16:30:35.390817Z",
     "iopub.status.busy": "2023-06-25T16:30:35.390490Z",
     "iopub.status.idle": "2023-06-25T16:30:35.395808Z",
     "shell.execute_reply": "2023-06-25T16:30:35.395017Z"
    },
    "papermill": {
     "duration": 0.025222,
     "end_time": "2023-06-25T16:30:35.401011",
     "exception": false,
     "start_time": "2023-06-25T16:30:35.375789",
     "status": "completed"
    },
    "tags": []
   },
   "outputs": [
    {
     "data": {
      "text/plain": [
       "2"
      ]
     },
     "execution_count": 9,
     "metadata": {},
     "output_type": "execute_result"
    }
   ],
   "source": [
    "MATRIX.ndim"
   ]
  },
  {
   "cell_type": "code",
   "execution_count": 10,
   "id": "550f6a7e",
   "metadata": {
    "execution": {
     "iopub.execute_input": "2023-06-25T16:30:35.429615Z",
     "iopub.status.busy": "2023-06-25T16:30:35.429300Z",
     "iopub.status.idle": "2023-06-25T16:30:35.434951Z",
     "shell.execute_reply": "2023-06-25T16:30:35.434186Z"
    },
    "papermill": {
     "duration": 0.024976,
     "end_time": "2023-06-25T16:30:35.439916",
     "exception": false,
     "start_time": "2023-06-25T16:30:35.414940",
     "status": "completed"
    },
    "tags": []
   },
   "outputs": [
    {
     "data": {
      "text/plain": [
       "tensor([7, 8])"
      ]
     },
     "execution_count": 10,
     "metadata": {},
     "output_type": "execute_result"
    }
   ],
   "source": [
    "MATRIX[0]"
   ]
  },
  {
   "cell_type": "code",
   "execution_count": 11,
   "id": "2e1b9ec1",
   "metadata": {
    "execution": {
     "iopub.execute_input": "2023-06-25T16:30:35.469541Z",
     "iopub.status.busy": "2023-06-25T16:30:35.469239Z",
     "iopub.status.idle": "2023-06-25T16:30:35.474789Z",
     "shell.execute_reply": "2023-06-25T16:30:35.473984Z"
    },
    "papermill": {
     "duration": 0.025674,
     "end_time": "2023-06-25T16:30:35.479774",
     "exception": false,
     "start_time": "2023-06-25T16:30:35.454100",
     "status": "completed"
    },
    "tags": []
   },
   "outputs": [
    {
     "data": {
      "text/plain": [
       "tensor([6, 5])"
      ]
     },
     "execution_count": 11,
     "metadata": {},
     "output_type": "execute_result"
    }
   ],
   "source": [
    "MATRIX[1]"
   ]
  },
  {
   "cell_type": "code",
   "execution_count": 12,
   "id": "d6cebf5f",
   "metadata": {
    "execution": {
     "iopub.execute_input": "2023-06-25T16:30:35.508832Z",
     "iopub.status.busy": "2023-06-25T16:30:35.508521Z",
     "iopub.status.idle": "2023-06-25T16:30:35.513769Z",
     "shell.execute_reply": "2023-06-25T16:30:35.513014Z"
    },
    "papermill": {
     "duration": 0.024905,
     "end_time": "2023-06-25T16:30:35.518715",
     "exception": false,
     "start_time": "2023-06-25T16:30:35.493810",
     "status": "completed"
    },
    "tags": []
   },
   "outputs": [
    {
     "data": {
      "text/plain": [
       "torch.Size([2, 2])"
      ]
     },
     "execution_count": 12,
     "metadata": {},
     "output_type": "execute_result"
    }
   ],
   "source": [
    "MATRIX.shape"
   ]
  },
  {
   "cell_type": "code",
   "execution_count": 13,
   "id": "53bc7ca6",
   "metadata": {
    "execution": {
     "iopub.execute_input": "2023-06-25T16:30:35.548504Z",
     "iopub.status.busy": "2023-06-25T16:30:35.548185Z",
     "iopub.status.idle": "2023-06-25T16:30:35.557620Z",
     "shell.execute_reply": "2023-06-25T16:30:35.556869Z"
    },
    "papermill": {
     "duration": 0.026706,
     "end_time": "2023-06-25T16:30:35.559995",
     "exception": false,
     "start_time": "2023-06-25T16:30:35.533289",
     "status": "completed"
    },
    "tags": []
   },
   "outputs": [
    {
     "data": {
      "text/plain": [
       "tensor([[[1, 2, 3],\n",
       "         [5, 6, 6],\n",
       "         [7, 8, 9]]])"
      ]
     },
     "execution_count": 13,
     "metadata": {},
     "output_type": "execute_result"
    }
   ],
   "source": [
    "# Tensor\n",
    "TENSOR = torch.tensor([[[1,2,3],\n",
    "                      [5,6,6],\n",
    "                      [7,8,9]]])\n",
    "TENSOR"
   ]
  },
  {
   "cell_type": "code",
   "execution_count": 14,
   "id": "b50a5578",
   "metadata": {
    "execution": {
     "iopub.execute_input": "2023-06-25T16:30:35.589577Z",
     "iopub.status.busy": "2023-06-25T16:30:35.589263Z",
     "iopub.status.idle": "2023-06-25T16:30:35.594411Z",
     "shell.execute_reply": "2023-06-25T16:30:35.593674Z"
    },
    "papermill": {
     "duration": 0.024912,
     "end_time": "2023-06-25T16:30:35.599263",
     "exception": false,
     "start_time": "2023-06-25T16:30:35.574351",
     "status": "completed"
    },
    "tags": []
   },
   "outputs": [
    {
     "data": {
      "text/plain": [
       "3"
      ]
     },
     "execution_count": 14,
     "metadata": {},
     "output_type": "execute_result"
    }
   ],
   "source": [
    "TENSOR.ndim"
   ]
  },
  {
   "cell_type": "code",
   "execution_count": 15,
   "id": "113c11d6",
   "metadata": {
    "execution": {
     "iopub.execute_input": "2023-06-25T16:30:35.629314Z",
     "iopub.status.busy": "2023-06-25T16:30:35.629023Z",
     "iopub.status.idle": "2023-06-25T16:30:35.634192Z",
     "shell.execute_reply": "2023-06-25T16:30:35.633455Z"
    },
    "papermill": {
     "duration": 0.025037,
     "end_time": "2023-06-25T16:30:35.639076",
     "exception": false,
     "start_time": "2023-06-25T16:30:35.614039",
     "status": "completed"
    },
    "tags": []
   },
   "outputs": [
    {
     "data": {
      "text/plain": [
       "torch.Size([1, 3, 3])"
      ]
     },
     "execution_count": 15,
     "metadata": {},
     "output_type": "execute_result"
    }
   ],
   "source": [
    "TENSOR.shape"
   ]
  },
  {
   "cell_type": "code",
   "execution_count": 16,
   "id": "b946613e",
   "metadata": {
    "execution": {
     "iopub.execute_input": "2023-06-25T16:30:35.669237Z",
     "iopub.status.busy": "2023-06-25T16:30:35.668946Z",
     "iopub.status.idle": "2023-06-25T16:30:35.674526Z",
     "shell.execute_reply": "2023-06-25T16:30:35.673787Z"
    },
    "papermill": {
     "duration": 0.02607,
     "end_time": "2023-06-25T16:30:35.679847",
     "exception": false,
     "start_time": "2023-06-25T16:30:35.653777",
     "status": "completed"
    },
    "tags": []
   },
   "outputs": [
    {
     "data": {
      "text/plain": [
       "tensor([[1, 2, 3],\n",
       "        [5, 6, 6],\n",
       "        [7, 8, 9]])"
      ]
     },
     "execution_count": 16,
     "metadata": {},
     "output_type": "execute_result"
    }
   ],
   "source": [
    "TENSOR[0]"
   ]
  },
  {
   "cell_type": "code",
   "execution_count": 17,
   "id": "3771ccb8",
   "metadata": {
    "execution": {
     "iopub.execute_input": "2023-06-25T16:30:35.710408Z",
     "iopub.status.busy": "2023-06-25T16:30:35.710112Z",
     "iopub.status.idle": "2023-06-25T16:30:35.722504Z",
     "shell.execute_reply": "2023-06-25T16:30:35.721354Z"
    },
    "papermill": {
     "duration": 0.032017,
     "end_time": "2023-06-25T16:30:35.726702",
     "exception": false,
     "start_time": "2023-06-25T16:30:35.694685",
     "status": "completed"
    },
    "tags": []
   },
   "outputs": [
    {
     "data": {
      "text/plain": [
       "tensor([[[1, 2, 3],\n",
       "         [4, 5, 6],\n",
       "         [7, 8, 9]],\n",
       "\n",
       "        [[1, 2, 3],\n",
       "         [4, 5, 6],\n",
       "         [7, 8, 9]]])"
      ]
     },
     "execution_count": 17,
     "metadata": {},
     "output_type": "execute_result"
    }
   ],
   "source": [
    "# Practice\n",
    "TENSOR1 = torch.tensor([[[1,2,3],\n",
    "                      [4,5,6],\n",
    "                      [7,8,9]],\n",
    "                     [[1,2,3],\n",
    "                      [4,5,6],\n",
    "                      [7,8,9]]])\n",
    "TENSOR1"
   ]
  },
  {
   "cell_type": "code",
   "execution_count": 18,
   "id": "d421d761",
   "metadata": {
    "execution": {
     "iopub.execute_input": "2023-06-25T16:30:35.758218Z",
     "iopub.status.busy": "2023-06-25T16:30:35.757921Z",
     "iopub.status.idle": "2023-06-25T16:30:35.763337Z",
     "shell.execute_reply": "2023-06-25T16:30:35.762601Z"
    },
    "papermill": {
     "duration": 0.026978,
     "end_time": "2023-06-25T16:30:35.768707",
     "exception": false,
     "start_time": "2023-06-25T16:30:35.741729",
     "status": "completed"
    },
    "tags": []
   },
   "outputs": [
    {
     "data": {
      "text/plain": [
       "3"
      ]
     },
     "execution_count": 18,
     "metadata": {},
     "output_type": "execute_result"
    }
   ],
   "source": [
    "TENSOR1.ndim"
   ]
  },
  {
   "cell_type": "code",
   "execution_count": 19,
   "id": "8f0aa193",
   "metadata": {
    "execution": {
     "iopub.execute_input": "2023-06-25T16:30:35.800200Z",
     "iopub.status.busy": "2023-06-25T16:30:35.799905Z",
     "iopub.status.idle": "2023-06-25T16:30:35.805241Z",
     "shell.execute_reply": "2023-06-25T16:30:35.804406Z"
    },
    "papermill": {
     "duration": 0.026069,
     "end_time": "2023-06-25T16:30:35.810245",
     "exception": false,
     "start_time": "2023-06-25T16:30:35.784176",
     "status": "completed"
    },
    "tags": []
   },
   "outputs": [
    {
     "data": {
      "text/plain": [
       "torch.Size([2, 3, 3])"
      ]
     },
     "execution_count": 19,
     "metadata": {},
     "output_type": "execute_result"
    }
   ],
   "source": [
    "TENSOR1.shape"
   ]
  },
  {
   "cell_type": "markdown",
   "id": "b56dade7",
   "metadata": {
    "execution": {
     "iopub.execute_input": "2023-06-25T15:53:52.605155Z",
     "iopub.status.busy": "2023-06-25T15:53:52.604740Z",
     "iopub.status.idle": "2023-06-25T15:53:52.609815Z",
     "shell.execute_reply": "2023-06-25T15:53:52.608929Z",
     "shell.execute_reply.started": "2023-06-25T15:53:52.605124Z"
    },
    "papermill": {
     "duration": 0.014645,
     "end_time": "2023-06-25T16:30:35.840797",
     "exception": false,
     "start_time": "2023-06-25T16:30:35.826152",
     "status": "completed"
    },
    "tags": []
   },
   "source": [
    "### Random Tensor\n",
    "\n",
    "Why Random Nos. ?\n",
    "\n",
    "'Start with Random Numbers -> Look at Data -> Update Random Numbers -> Look at Data -> Update Random Numbers'\n",
    "\n",
    "ref - https://pytorch.org/docs/stable/generated/torch.rand.html"
   ]
  },
  {
   "cell_type": "code",
   "execution_count": 20,
   "id": "4a6226b3",
   "metadata": {
    "execution": {
     "iopub.execute_input": "2023-06-25T16:30:35.872189Z",
     "iopub.status.busy": "2023-06-25T16:30:35.871876Z",
     "iopub.status.idle": "2023-06-25T16:30:35.920458Z",
     "shell.execute_reply": "2023-06-25T16:30:35.919621Z"
    },
    "papermill": {
     "duration": 0.067445,
     "end_time": "2023-06-25T16:30:35.923419",
     "exception": false,
     "start_time": "2023-06-25T16:30:35.855974",
     "status": "completed"
    },
    "tags": []
   },
   "outputs": [
    {
     "data": {
      "text/plain": [
       "tensor([[[0.0708, 0.8580, 0.1173],\n",
       "         [0.4191, 0.5553, 0.5309],\n",
       "         [0.8871, 0.6303, 0.4445],\n",
       "         [0.8663, 0.3251, 0.5680]],\n",
       "\n",
       "        [[0.2490, 0.1616, 0.0539],\n",
       "         [0.3122, 0.6760, 0.7693],\n",
       "         [0.3681, 0.0504, 0.4324],\n",
       "         [0.3335, 0.5414, 0.6828]],\n",
       "\n",
       "        [[0.5768, 0.2076, 0.0137],\n",
       "         [0.4305, 0.8642, 0.6345],\n",
       "         [0.0924, 0.4623, 0.3413],\n",
       "         [0.5680, 0.4154, 0.6544]]])"
      ]
     },
     "execution_count": 20,
     "metadata": {},
     "output_type": "execute_result"
    }
   ],
   "source": [
    "# Create a random tensor of size(3,4)\n",
    "random_tensor = torch.rand(3,4,3)\n",
    "random_tensor"
   ]
  },
  {
   "cell_type": "code",
   "execution_count": 21,
   "id": "a30bf87a",
   "metadata": {
    "execution": {
     "iopub.execute_input": "2023-06-25T16:30:35.955900Z",
     "iopub.status.busy": "2023-06-25T16:30:35.955589Z",
     "iopub.status.idle": "2023-06-25T16:30:35.960947Z",
     "shell.execute_reply": "2023-06-25T16:30:35.960188Z"
    },
    "papermill": {
     "duration": 0.02661,
     "end_time": "2023-06-25T16:30:35.966024",
     "exception": false,
     "start_time": "2023-06-25T16:30:35.939414",
     "status": "completed"
    },
    "tags": []
   },
   "outputs": [
    {
     "data": {
      "text/plain": [
       "3"
      ]
     },
     "execution_count": 21,
     "metadata": {},
     "output_type": "execute_result"
    }
   ],
   "source": [
    "random_tensor.ndim"
   ]
  },
  {
   "cell_type": "code",
   "execution_count": 22,
   "id": "42d13614",
   "metadata": {
    "execution": {
     "iopub.execute_input": "2023-06-25T16:30:35.997834Z",
     "iopub.status.busy": "2023-06-25T16:30:35.997521Z",
     "iopub.status.idle": "2023-06-25T16:30:36.002759Z",
     "shell.execute_reply": "2023-06-25T16:30:36.002012Z"
    },
    "papermill": {
     "duration": 0.026532,
     "end_time": "2023-06-25T16:30:36.007874",
     "exception": false,
     "start_time": "2023-06-25T16:30:35.981342",
     "status": "completed"
    },
    "tags": []
   },
   "outputs": [
    {
     "data": {
      "text/plain": [
       "torch.Size([3, 4, 3])"
      ]
     },
     "execution_count": 22,
     "metadata": {},
     "output_type": "execute_result"
    }
   ],
   "source": [
    "random_tensor.shape"
   ]
  },
  {
   "cell_type": "code",
   "execution_count": 23,
   "id": "3f0f0a05",
   "metadata": {
    "execution": {
     "iopub.execute_input": "2023-06-25T16:30:36.042296Z",
     "iopub.status.busy": "2023-06-25T16:30:36.041759Z",
     "iopub.status.idle": "2023-06-25T16:30:36.053981Z",
     "shell.execute_reply": "2023-06-25T16:30:36.052870Z"
    },
    "papermill": {
     "duration": 0.032653,
     "end_time": "2023-06-25T16:30:36.056069",
     "exception": false,
     "start_time": "2023-06-25T16:30:36.023416",
     "status": "completed"
    },
    "scrolled": true,
    "tags": []
   },
   "outputs": [
    {
     "data": {
      "text/plain": [
       "tensor([[[0.1423, 0.1792, 0.4138],\n",
       "         [0.9544, 0.7355, 0.4797],\n",
       "         [0.2110, 0.5780, 0.1216],\n",
       "         ...,\n",
       "         [0.8622, 0.7688, 0.7305],\n",
       "         [0.9806, 0.9149, 0.1577],\n",
       "         [0.2469, 0.5920, 0.8386]],\n",
       "\n",
       "        [[0.8218, 0.6479, 0.6089],\n",
       "         [0.0504, 0.5044, 0.2676],\n",
       "         [0.4792, 0.6985, 0.2103],\n",
       "         ...,\n",
       "         [0.4332, 0.5992, 0.1270],\n",
       "         [0.5711, 0.7100, 0.2412],\n",
       "         [0.3920, 0.8332, 0.5765]],\n",
       "\n",
       "        [[0.7575, 0.0062, 0.3495],\n",
       "         [0.0833, 0.6927, 0.6115],\n",
       "         [0.5226, 0.8577, 0.3747],\n",
       "         ...,\n",
       "         [0.6073, 0.3737, 0.5695],\n",
       "         [0.6313, 0.2186, 0.6944],\n",
       "         [0.7332, 0.7705, 0.9186]],\n",
       "\n",
       "        ...,\n",
       "\n",
       "        [[0.6496, 0.3399, 0.5961],\n",
       "         [0.0109, 0.8447, 0.4955],\n",
       "         [0.3576, 0.5366, 0.8030],\n",
       "         ...,\n",
       "         [0.5823, 0.2026, 0.8556],\n",
       "         [0.3335, 0.9168, 0.1740],\n",
       "         [0.6455, 0.9328, 0.7810]],\n",
       "\n",
       "        [[0.9960, 0.7324, 0.1995],\n",
       "         [0.7595, 0.1918, 0.8960],\n",
       "         [0.7488, 0.8072, 0.0484],\n",
       "         ...,\n",
       "         [0.4670, 0.3188, 0.2281],\n",
       "         [0.1697, 0.1986, 0.2595],\n",
       "         [0.4357, 0.0702, 0.9799]],\n",
       "\n",
       "        [[0.8743, 0.8636, 0.7438],\n",
       "         [0.1207, 0.2421, 0.1084],\n",
       "         [0.2267, 0.0145, 0.5933],\n",
       "         ...,\n",
       "         [0.6972, 0.1370, 0.9865],\n",
       "         [0.1070, 0.2546, 0.9311],\n",
       "         [0.3588, 0.0316, 0.3002]]])"
      ]
     },
     "execution_count": 23,
     "metadata": {},
     "output_type": "execute_result"
    }
   ],
   "source": [
    "# Creating Random tensor similar to Image Shape\n",
    "random_image_size_tensor =torch.rand(size=[224,224,3],) # height, width , color channels\n",
    "random_image_size_tensor"
   ]
  },
  {
   "cell_type": "code",
   "execution_count": 24,
   "id": "8c98e206",
   "metadata": {
    "execution": {
     "iopub.execute_input": "2023-06-25T16:30:36.080410Z",
     "iopub.status.busy": "2023-06-25T16:30:36.080151Z",
     "iopub.status.idle": "2023-06-25T16:30:36.085290Z",
     "shell.execute_reply": "2023-06-25T16:30:36.084396Z"
    },
    "papermill": {
     "duration": 0.019501,
     "end_time": "2023-06-25T16:30:36.087307",
     "exception": false,
     "start_time": "2023-06-25T16:30:36.067806",
     "status": "completed"
    },
    "tags": []
   },
   "outputs": [
    {
     "data": {
      "text/plain": [
       "3"
      ]
     },
     "execution_count": 24,
     "metadata": {},
     "output_type": "execute_result"
    }
   ],
   "source": [
    "random_image_size_tensor.ndim"
   ]
  },
  {
   "cell_type": "code",
   "execution_count": 25,
   "id": "6f8153d1",
   "metadata": {
    "execution": {
     "iopub.execute_input": "2023-06-25T16:30:36.112444Z",
     "iopub.status.busy": "2023-06-25T16:30:36.111125Z",
     "iopub.status.idle": "2023-06-25T16:30:36.118791Z",
     "shell.execute_reply": "2023-06-25T16:30:36.117997Z"
    },
    "papermill": {
     "duration": 0.022016,
     "end_time": "2023-06-25T16:30:36.120729",
     "exception": false,
     "start_time": "2023-06-25T16:30:36.098713",
     "status": "completed"
    },
    "tags": []
   },
   "outputs": [
    {
     "data": {
      "text/plain": [
       "torch.Size([224, 224, 3])"
      ]
     },
     "execution_count": 25,
     "metadata": {},
     "output_type": "execute_result"
    }
   ],
   "source": [
    "random_image_size_tensor.shape"
   ]
  },
  {
   "cell_type": "markdown",
   "id": "937df0b8",
   "metadata": {
    "papermill": {
     "duration": 0.011333,
     "end_time": "2023-06-25T16:30:36.143940",
     "exception": false,
     "start_time": "2023-06-25T16:30:36.132607",
     "status": "completed"
    },
    "tags": []
   },
   "source": [
    "### Zeroes and Ones"
   ]
  },
  {
   "cell_type": "code",
   "execution_count": 26,
   "id": "596f294a",
   "metadata": {
    "execution": {
     "iopub.execute_input": "2023-06-25T16:30:36.169500Z",
     "iopub.status.busy": "2023-06-25T16:30:36.168740Z",
     "iopub.status.idle": "2023-06-25T16:30:36.178064Z",
     "shell.execute_reply": "2023-06-25T16:30:36.177237Z"
    },
    "papermill": {
     "duration": 0.024099,
     "end_time": "2023-06-25T16:30:36.180016",
     "exception": false,
     "start_time": "2023-06-25T16:30:36.155917",
     "status": "completed"
    },
    "tags": []
   },
   "outputs": [
    {
     "data": {
      "text/plain": [
       "tensor([[0., 0., 0., 0.],\n",
       "        [0., 0., 0., 0.],\n",
       "        [0., 0., 0., 0.]])"
      ]
     },
     "execution_count": 26,
     "metadata": {},
     "output_type": "execute_result"
    }
   ],
   "source": [
    "# Create a tenor of all zeros\n",
    "zeros = torch.zeros(3,4)\n",
    "zeros"
   ]
  },
  {
   "cell_type": "code",
   "execution_count": 27,
   "id": "8f303544",
   "metadata": {
    "execution": {
     "iopub.execute_input": "2023-06-25T16:30:36.205992Z",
     "iopub.status.busy": "2023-06-25T16:30:36.205689Z",
     "iopub.status.idle": "2023-06-25T16:30:36.212230Z",
     "shell.execute_reply": "2023-06-25T16:30:36.211396Z"
    },
    "papermill": {
     "duration": 0.021011,
     "end_time": "2023-06-25T16:30:36.214140",
     "exception": false,
     "start_time": "2023-06-25T16:30:36.193129",
     "status": "completed"
    },
    "tags": []
   },
   "outputs": [
    {
     "data": {
      "text/plain": [
       "tensor([[0., 0., 0., 0.],\n",
       "        [0., 0., 0., 0.],\n",
       "        [0., 0., 0., 0.]])"
      ]
     },
     "execution_count": 27,
     "metadata": {},
     "output_type": "execute_result"
    }
   ],
   "source": [
    "zeros * torch.rand(3,4)"
   ]
  },
  {
   "cell_type": "code",
   "execution_count": 28,
   "id": "5f7fb451",
   "metadata": {
    "execution": {
     "iopub.execute_input": "2023-06-25T16:30:36.239319Z",
     "iopub.status.busy": "2023-06-25T16:30:36.238621Z",
     "iopub.status.idle": "2023-06-25T16:30:36.246015Z",
     "shell.execute_reply": "2023-06-25T16:30:36.244891Z"
    },
    "papermill": {
     "duration": 0.022088,
     "end_time": "2023-06-25T16:30:36.248147",
     "exception": false,
     "start_time": "2023-06-25T16:30:36.226059",
     "status": "completed"
    },
    "tags": []
   },
   "outputs": [
    {
     "data": {
      "text/plain": [
       "tensor([[1, 1, 1, 1],\n",
       "        [1, 1, 1, 1],\n",
       "        [1, 1, 1, 1]])"
      ]
     },
     "execution_count": 28,
     "metadata": {},
     "output_type": "execute_result"
    }
   ],
   "source": [
    "# Create tensor of all ones\n",
    "ones = torch.ones(size=(3,4),dtype=int)\n",
    "ones"
   ]
  },
  {
   "cell_type": "code",
   "execution_count": 29,
   "id": "9efcca0a",
   "metadata": {
    "execution": {
     "iopub.execute_input": "2023-06-25T16:30:36.273518Z",
     "iopub.status.busy": "2023-06-25T16:30:36.273250Z",
     "iopub.status.idle": "2023-06-25T16:30:36.280083Z",
     "shell.execute_reply": "2023-06-25T16:30:36.279229Z"
    },
    "papermill": {
     "duration": 0.022042,
     "end_time": "2023-06-25T16:30:36.282135",
     "exception": false,
     "start_time": "2023-06-25T16:30:36.260093",
     "status": "completed"
    },
    "tags": []
   },
   "outputs": [
    {
     "data": {
      "text/plain": [
       "torch.int64"
      ]
     },
     "execution_count": 29,
     "metadata": {},
     "output_type": "execute_result"
    }
   ],
   "source": [
    "ones.dtype"
   ]
  },
  {
   "cell_type": "markdown",
   "id": "d7c0e622",
   "metadata": {
    "execution": {
     "iopub.execute_input": "2023-06-25T16:24:23.852212Z",
     "iopub.status.busy": "2023-06-25T16:24:23.851772Z",
     "iopub.status.idle": "2023-06-25T16:24:23.857025Z",
     "shell.execute_reply": "2023-06-25T16:24:23.856069Z",
     "shell.execute_reply.started": "2023-06-25T16:24:23.852179Z"
    },
    "papermill": {
     "duration": 0.012354,
     "end_time": "2023-06-25T16:30:36.307038",
     "exception": false,
     "start_time": "2023-06-25T16:30:36.294684",
     "status": "completed"
    },
    "tags": []
   },
   "source": [
    "### Create a range of tensors and tensors-like\n",
    "\n",
    "ref - https://pytorch.org/docs/stable/generated/torch.arange.html"
   ]
  },
  {
   "cell_type": "code",
   "execution_count": 30,
   "id": "dad5ebbe",
   "metadata": {
    "execution": {
     "iopub.execute_input": "2023-06-25T16:30:36.334467Z",
     "iopub.status.busy": "2023-06-25T16:30:36.333392Z",
     "iopub.status.idle": "2023-06-25T16:30:36.343180Z",
     "shell.execute_reply": "2023-06-25T16:30:36.342236Z"
    },
    "papermill": {
     "duration": 0.025776,
     "end_time": "2023-06-25T16:30:36.345269",
     "exception": false,
     "start_time": "2023-06-25T16:30:36.319493",
     "status": "completed"
    },
    "tags": []
   },
   "outputs": [
    {
     "data": {
      "text/plain": [
       "tensor([ 1,  2,  3,  4,  5,  6,  7,  8,  9, 10])"
      ]
     },
     "execution_count": 30,
     "metadata": {},
     "output_type": "execute_result"
    }
   ],
   "source": [
    "# Use torch.arange()\n",
    "one_to_ten = torch.arange(start=1, end=11, step=1)\n",
    "one_to_ten"
   ]
  },
  {
   "cell_type": "code",
   "execution_count": 31,
   "id": "07847897",
   "metadata": {
    "execution": {
     "iopub.execute_input": "2023-06-25T16:30:36.371391Z",
     "iopub.status.busy": "2023-06-25T16:30:36.370708Z",
     "iopub.status.idle": "2023-06-25T16:30:36.376912Z",
     "shell.execute_reply": "2023-06-25T16:30:36.376049Z"
    },
    "papermill": {
     "duration": 0.021249,
     "end_time": "2023-06-25T16:30:36.378826",
     "exception": false,
     "start_time": "2023-06-25T16:30:36.357577",
     "status": "completed"
    },
    "tags": []
   },
   "outputs": [
    {
     "data": {
      "text/plain": [
       "tensor([0, 0, 0, 0, 0, 0, 0, 0, 0, 0])"
      ]
     },
     "execution_count": 31,
     "metadata": {},
     "output_type": "execute_result"
    }
   ],
   "source": [
    "# Create tesnors like\n",
    "ten_zeros = torch.zeros_like(input=one_to_ten)\n",
    "ten_zeros"
   ]
  }
 ],
 "metadata": {
  "kernelspec": {
   "display_name": "Python 3",
   "language": "python",
   "name": "python3"
  },
  "language_info": {
   "codemirror_mode": {
    "name": "ipython",
    "version": 3
   },
   "file_extension": ".py",
   "mimetype": "text/x-python",
   "name": "python",
   "nbconvert_exporter": "python",
   "pygments_lexer": "ipython3",
   "version": "3.10.10"
  },
  "papermill": {
   "default_parameters": {},
   "duration": 16.293445,
   "end_time": "2023-06-25T16:30:37.812196",
   "environment_variables": {},
   "exception": null,
   "input_path": "__notebook__.ipynb",
   "output_path": "__notebook__.ipynb",
   "parameters": {},
   "start_time": "2023-06-25T16:30:21.518751",
   "version": "2.4.0"
  }
 },
 "nbformat": 4,
 "nbformat_minor": 5
}
