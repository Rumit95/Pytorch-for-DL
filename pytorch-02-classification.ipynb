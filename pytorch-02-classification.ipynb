{
 "cells": [
  {
   "cell_type": "markdown",
   "id": "bef00fcf",
   "metadata": {
    "_cell_guid": "b1076dfc-b9ad-4769-8c92-a6c4dae69d19",
    "_uuid": "8f2839f25d086af736a60e9eeb907d3b93b6e0e5",
    "papermill": {
     "duration": 0.011948,
     "end_time": "2023-07-20T16:40:49.393419",
     "exception": false,
     "start_time": "2023-07-20T16:40:49.381471",
     "status": "completed"
    },
    "tags": []
   },
   "source": [
    "#  02. Neural Network with PyTorch\n",
    "\n",
    "Classification is a problem of predicting whether something belongs to one class or other.\n",
    "\n"
   ]
  },
  {
   "cell_type": "markdown",
   "id": "225f8c81",
   "metadata": {
    "papermill": {
     "duration": 0.010625,
     "end_time": "2023-07-20T16:40:49.416505",
     "exception": false,
     "start_time": "2023-07-20T16:40:49.405880",
     "status": "completed"
    },
    "tags": []
   },
   "source": [
    "## 1. Make classification data"
   ]
  },
  {
   "cell_type": "code",
   "execution_count": 1,
   "id": "740c61d2",
   "metadata": {
    "execution": {
     "iopub.execute_input": "2023-07-20T16:40:49.440430Z",
     "iopub.status.busy": "2023-07-20T16:40:49.440002Z",
     "iopub.status.idle": "2023-07-20T16:40:50.580266Z",
     "shell.execute_reply": "2023-07-20T16:40:50.579132Z"
    },
    "papermill": {
     "duration": 1.155797,
     "end_time": "2023-07-20T16:40:50.583215",
     "exception": false,
     "start_time": "2023-07-20T16:40:49.427418",
     "status": "completed"
    },
    "tags": []
   },
   "outputs": [
    {
     "name": "stderr",
     "output_type": "stream",
     "text": [
      "/opt/conda/lib/python3.10/site-packages/scipy/__init__.py:146: UserWarning: A NumPy version >=1.16.5 and <1.23.0 is required for this version of SciPy (detected version 1.23.5\n",
      "  warnings.warn(f\"A NumPy version >={np_minversion} and <{np_maxversion}\"\n"
     ]
    }
   ],
   "source": [
    "import sklearn\n",
    "from sklearn.datasets import make_circles\n",
    "\n",
    "# Make 1000 samples\n",
    "n_samples = 1000\n",
    "\n",
    "# Create circles\n",
    "X, y = make_circles(n_samples,\n",
    "                   noise=0.03,\n",
    "                   random_state=42)"
   ]
  },
  {
   "cell_type": "code",
   "execution_count": 2,
   "id": "ee6d8490",
   "metadata": {
    "execution": {
     "iopub.execute_input": "2023-07-20T16:40:50.608291Z",
     "iopub.status.busy": "2023-07-20T16:40:50.606805Z",
     "iopub.status.idle": "2023-07-20T16:40:50.614464Z",
     "shell.execute_reply": "2023-07-20T16:40:50.613493Z"
    },
    "papermill": {
     "duration": 0.022041,
     "end_time": "2023-07-20T16:40:50.616468",
     "exception": false,
     "start_time": "2023-07-20T16:40:50.594427",
     "status": "completed"
    },
    "tags": []
   },
   "outputs": [
    {
     "data": {
      "text/plain": [
       "(1000, 1000)"
      ]
     },
     "execution_count": 2,
     "metadata": {},
     "output_type": "execute_result"
    }
   ],
   "source": [
    "len(X), len(y)"
   ]
  },
  {
   "cell_type": "code",
   "execution_count": 3,
   "id": "a2eb8ad8",
   "metadata": {
    "execution": {
     "iopub.execute_input": "2023-07-20T16:40:50.641502Z",
     "iopub.status.busy": "2023-07-20T16:40:50.639976Z",
     "iopub.status.idle": "2023-07-20T16:40:50.646792Z",
     "shell.execute_reply": "2023-07-20T16:40:50.645341Z"
    },
    "papermill": {
     "duration": 0.021002,
     "end_time": "2023-07-20T16:40:50.648873",
     "exception": false,
     "start_time": "2023-07-20T16:40:50.627871",
     "status": "completed"
    },
    "tags": []
   },
   "outputs": [
    {
     "name": "stdout",
     "output_type": "stream",
     "text": [
      "1st 5 values of X: [[ 0.75424625  0.23148074]\n",
      " [-0.75615888  0.15325888]\n",
      " [-0.81539193  0.17328203]\n",
      " [-0.39373073  0.69288277]\n",
      " [ 0.44220765 -0.89672343]]\n",
      "1st 5 values of y: [1 1 1 1 0]\n"
     ]
    }
   ],
   "source": [
    "print(f'1st 5 values of X: {X[:5]}')\n",
    "print(f'1st 5 values of y: {y[:5]}')"
   ]
  },
  {
   "cell_type": "code",
   "execution_count": 4,
   "id": "0e97f7a4",
   "metadata": {
    "execution": {
     "iopub.execute_input": "2023-07-20T16:40:50.674859Z",
     "iopub.status.busy": "2023-07-20T16:40:50.673817Z",
     "iopub.status.idle": "2023-07-20T16:40:50.694559Z",
     "shell.execute_reply": "2023-07-20T16:40:50.693505Z"
    },
    "papermill": {
     "duration": 0.035672,
     "end_time": "2023-07-20T16:40:50.696666",
     "exception": false,
     "start_time": "2023-07-20T16:40:50.660994",
     "status": "completed"
    },
    "tags": []
   },
   "outputs": [
    {
     "data": {
      "text/html": [
       "<div>\n",
       "<style scoped>\n",
       "    .dataframe tbody tr th:only-of-type {\n",
       "        vertical-align: middle;\n",
       "    }\n",
       "\n",
       "    .dataframe tbody tr th {\n",
       "        vertical-align: top;\n",
       "    }\n",
       "\n",
       "    .dataframe thead th {\n",
       "        text-align: right;\n",
       "    }\n",
       "</style>\n",
       "<table border=\"1\" class=\"dataframe\">\n",
       "  <thead>\n",
       "    <tr style=\"text-align: right;\">\n",
       "      <th></th>\n",
       "      <th>X1</th>\n",
       "      <th>X2</th>\n",
       "      <th>label</th>\n",
       "    </tr>\n",
       "  </thead>\n",
       "  <tbody>\n",
       "    <tr>\n",
       "      <th>0</th>\n",
       "      <td>0.754246</td>\n",
       "      <td>0.231481</td>\n",
       "      <td>1</td>\n",
       "    </tr>\n",
       "    <tr>\n",
       "      <th>1</th>\n",
       "      <td>-0.756159</td>\n",
       "      <td>0.153259</td>\n",
       "      <td>1</td>\n",
       "    </tr>\n",
       "    <tr>\n",
       "      <th>2</th>\n",
       "      <td>-0.815392</td>\n",
       "      <td>0.173282</td>\n",
       "      <td>1</td>\n",
       "    </tr>\n",
       "    <tr>\n",
       "      <th>3</th>\n",
       "      <td>-0.393731</td>\n",
       "      <td>0.692883</td>\n",
       "      <td>1</td>\n",
       "    </tr>\n",
       "    <tr>\n",
       "      <th>4</th>\n",
       "      <td>0.442208</td>\n",
       "      <td>-0.896723</td>\n",
       "      <td>0</td>\n",
       "    </tr>\n",
       "    <tr>\n",
       "      <th>5</th>\n",
       "      <td>-0.479646</td>\n",
       "      <td>0.676435</td>\n",
       "      <td>1</td>\n",
       "    </tr>\n",
       "    <tr>\n",
       "      <th>6</th>\n",
       "      <td>-0.013648</td>\n",
       "      <td>0.803349</td>\n",
       "      <td>1</td>\n",
       "    </tr>\n",
       "    <tr>\n",
       "      <th>7</th>\n",
       "      <td>0.771513</td>\n",
       "      <td>0.147760</td>\n",
       "      <td>1</td>\n",
       "    </tr>\n",
       "    <tr>\n",
       "      <th>8</th>\n",
       "      <td>-0.169322</td>\n",
       "      <td>-0.793456</td>\n",
       "      <td>1</td>\n",
       "    </tr>\n",
       "    <tr>\n",
       "      <th>9</th>\n",
       "      <td>-0.121486</td>\n",
       "      <td>1.021509</td>\n",
       "      <td>0</td>\n",
       "    </tr>\n",
       "  </tbody>\n",
       "</table>\n",
       "</div>"
      ],
      "text/plain": [
       "         X1        X2  label\n",
       "0  0.754246  0.231481      1\n",
       "1 -0.756159  0.153259      1\n",
       "2 -0.815392  0.173282      1\n",
       "3 -0.393731  0.692883      1\n",
       "4  0.442208 -0.896723      0\n",
       "5 -0.479646  0.676435      1\n",
       "6 -0.013648  0.803349      1\n",
       "7  0.771513  0.147760      1\n",
       "8 -0.169322 -0.793456      1\n",
       "9 -0.121486  1.021509      0"
      ]
     },
     "execution_count": 4,
     "metadata": {},
     "output_type": "execute_result"
    }
   ],
   "source": [
    "# Make Dataframe of circle data\n",
    "import pandas as pd\n",
    "circles = pd.DataFrame({\"X1\": X[:,0],\n",
    "                      \"X2\": X[:,1],\n",
    "                     \"label\": y})\n",
    "circles.head(10)"
   ]
  },
  {
   "cell_type": "code",
   "execution_count": 5,
   "id": "99329d3e",
   "metadata": {
    "execution": {
     "iopub.execute_input": "2023-07-20T16:40:50.721394Z",
     "iopub.status.busy": "2023-07-20T16:40:50.721076Z",
     "iopub.status.idle": "2023-07-20T16:40:51.048484Z",
     "shell.execute_reply": "2023-07-20T16:40:51.047481Z"
    },
    "papermill": {
     "duration": 0.342662,
     "end_time": "2023-07-20T16:40:51.051602",
     "exception": false,
     "start_time": "2023-07-20T16:40:50.708940",
     "status": "completed"
    },
    "tags": []
   },
   "outputs": [
    {
     "data": {
      "image/png": "[encoded data removed]",
      "text/plain": [
       "<Figure size 640x480 with 1 Axes>"
      ]
     },
     "metadata": {},
     "output_type": "display_data"
    }
   ],
   "source": [
    "# Visualize\n",
    "import matplotlib.pyplot as plt\n",
    "plt.scatter(x=X[:, 0],\n",
    "           y=X[:, 1],\n",
    "           c=y,\n",
    "           cmap=plt.cm.RdYlBu);"
   ]
  },
  {
   "cell_type": "markdown",
   "id": "76c80dde",
   "metadata": {
    "papermill": {
     "duration": 0.015294,
     "end_time": "2023-07-20T16:40:51.080906",
     "exception": false,
     "start_time": "2023-07-20T16:40:51.065612",
     "status": "completed"
    },
    "tags": []
   },
   "source": [
    "### 1.1 Check input and output shape"
   ]
  },
  {
   "cell_type": "code",
   "execution_count": 6,
   "id": "2cba02c6",
   "metadata": {
    "execution": {
     "iopub.execute_input": "2023-07-20T16:40:51.109039Z",
     "iopub.status.busy": "2023-07-20T16:40:51.108709Z",
     "iopub.status.idle": "2023-07-20T16:40:51.114832Z",
     "shell.execute_reply": "2023-07-20T16:40:51.113884Z"
    },
    "papermill": {
     "duration": 0.022448,
     "end_time": "2023-07-20T16:40:51.116905",
     "exception": false,
     "start_time": "2023-07-20T16:40:51.094457",
     "status": "completed"
    },
    "tags": []
   },
   "outputs": [
    {
     "data": {
      "text/plain": [
       "((1000, 2), (1000,))"
      ]
     },
     "execution_count": 6,
     "metadata": {},
     "output_type": "execute_result"
    }
   ],
   "source": [
    "X.shape, y.shape"
   ]
  },
  {
   "cell_type": "code",
   "execution_count": 7,
   "id": "7de92d41",
   "metadata": {
    "execution": {
     "iopub.execute_input": "2023-07-20T16:40:51.145034Z",
     "iopub.status.busy": "2023-07-20T16:40:51.144336Z",
     "iopub.status.idle": "2023-07-20T16:40:51.151415Z",
     "shell.execute_reply": "2023-07-20T16:40:51.150354Z"
    },
    "papermill": {
     "duration": 0.02313,
     "end_time": "2023-07-20T16:40:51.153582",
     "exception": false,
     "start_time": "2023-07-20T16:40:51.130452",
     "status": "completed"
    },
    "tags": []
   },
   "outputs": [
    {
     "data": {
      "text/plain": [
       "array([[ 0.75424625,  0.23148074],\n",
       "       [-0.75615888,  0.15325888],\n",
       "       [-0.81539193,  0.17328203],\n",
       "       ...,\n",
       "       [-0.13690036, -0.81001183],\n",
       "       [ 0.67036156, -0.76750154],\n",
       "       [ 0.28105665,  0.96382443]])"
      ]
     },
     "execution_count": 7,
     "metadata": {},
     "output_type": "execute_result"
    }
   ],
   "source": [
    "X"
   ]
  },
  {
   "cell_type": "code",
   "execution_count": 8,
   "id": "905315bc",
   "metadata": {
    "execution": {
     "iopub.execute_input": "2023-07-20T16:40:51.184054Z",
     "iopub.status.busy": "2023-07-20T16:40:51.183330Z",
     "iopub.status.idle": "2023-07-20T16:40:51.189425Z",
     "shell.execute_reply": "2023-07-20T16:40:51.188458Z"
    },
    "papermill": {
     "duration": 0.021988,
     "end_time": "2023-07-20T16:40:51.191449",
     "exception": false,
     "start_time": "2023-07-20T16:40:51.169461",
     "status": "completed"
    },
    "tags": []
   },
   "outputs": [
    {
     "name": "stdout",
     "output_type": "stream",
     "text": [
      "Sample of X: [0.75424625 0.23148074] and sample of y: 1\n",
      "Shape of X: (2,) and shape of y: ()\n"
     ]
    }
   ],
   "source": [
    "# View 1st example of features and labels\n",
    "X_sample = X[0]\n",
    "y_sample = y[0]\n",
    "\n",
    "print(f\"Sample of X: {X_sample} and sample of y: {y_sample}\")\n",
    "print(f\"Shape of X: {X_sample.shape} and shape of y: {y_sample.shape}\")"
   ]
  },
  {
   "cell_type": "markdown",
   "id": "6b581ea9",
   "metadata": {
    "papermill": {
     "duration": 0.012475,
     "end_time": "2023-07-20T16:40:51.217671",
     "exception": false,
     "start_time": "2023-07-20T16:40:51.205196",
     "status": "completed"
    },
    "tags": []
   },
   "source": [
    "### 1.2 Turn Data to Tensors and create train and test spits"
   ]
  },
  {
   "cell_type": "code",
   "execution_count": 9,
   "id": "47a7dc62",
   "metadata": {
    "execution": {
     "iopub.execute_input": "2023-07-20T16:40:51.245516Z",
     "iopub.status.busy": "2023-07-20T16:40:51.244711Z",
     "iopub.status.idle": "2023-07-20T16:40:55.022329Z",
     "shell.execute_reply": "2023-07-20T16:40:55.021172Z"
    },
    "papermill": {
     "duration": 3.79429,
     "end_time": "2023-07-20T16:40:55.024705",
     "exception": false,
     "start_time": "2023-07-20T16:40:51.230415",
     "status": "completed"
    },
    "tags": []
   },
   "outputs": [
    {
     "data": {
      "text/plain": [
       "'2.0.0'"
      ]
     },
     "execution_count": 9,
     "metadata": {},
     "output_type": "execute_result"
    }
   ],
   "source": [
    "import torch\n",
    "torch.__version__"
   ]
  },
  {
   "cell_type": "code",
   "execution_count": 10,
   "id": "35ccb344",
   "metadata": {
    "execution": {
     "iopub.execute_input": "2023-07-20T16:40:55.053678Z",
     "iopub.status.busy": "2023-07-20T16:40:55.053135Z",
     "iopub.status.idle": "2023-07-20T16:40:55.158135Z",
     "shell.execute_reply": "2023-07-20T16:40:55.157065Z"
    },
    "papermill": {
     "duration": 0.122023,
     "end_time": "2023-07-20T16:40:55.160399",
     "exception": false,
     "start_time": "2023-07-20T16:40:55.038376",
     "status": "completed"
    },
    "tags": []
   },
   "outputs": [
    {
     "data": {
      "text/plain": [
       "(tensor([[ 0.7542,  0.2315],\n",
       "         [-0.7562,  0.1533],\n",
       "         [-0.8154,  0.1733],\n",
       "         [-0.3937,  0.6929],\n",
       "         [ 0.4422, -0.8967]]),\n",
       " tensor([1., 1., 1., 1., 0.]))"
      ]
     },
     "execution_count": 10,
     "metadata": {},
     "output_type": "execute_result"
    }
   ],
   "source": [
    "# Turn data into tensors\n",
    "X = torch.from_numpy(X).type(torch.float)\n",
    "y = torch.from_numpy(y).type(torch.float)\n",
    "\n",
    "X[:5], y[:5]"
   ]
  },
  {
   "cell_type": "code",
   "execution_count": 11,
   "id": "13de231f",
   "metadata": {
    "execution": {
     "iopub.execute_input": "2023-07-20T16:40:55.190738Z",
     "iopub.status.busy": "2023-07-20T16:40:55.190449Z",
     "iopub.status.idle": "2023-07-20T16:40:55.197247Z",
     "shell.execute_reply": "2023-07-20T16:40:55.196371Z"
    },
    "papermill": {
     "duration": 0.024439,
     "end_time": "2023-07-20T16:40:55.199142",
     "exception": false,
     "start_time": "2023-07-20T16:40:55.174703",
     "status": "completed"
    },
    "tags": []
   },
   "outputs": [
    {
     "data": {
      "text/plain": [
       "(torch.Tensor, torch.float32, torch.float32)"
      ]
     },
     "execution_count": 11,
     "metadata": {},
     "output_type": "execute_result"
    }
   ],
   "source": [
    "type(X), X.dtype, y.dtype"
   ]
  },
  {
   "cell_type": "code",
   "execution_count": 12,
   "id": "40d5d8dc",
   "metadata": {
    "execution": {
     "iopub.execute_input": "2023-07-20T16:40:55.227701Z",
     "iopub.status.busy": "2023-07-20T16:40:55.227440Z",
     "iopub.status.idle": "2023-07-20T16:40:55.332017Z",
     "shell.execute_reply": "2023-07-20T16:40:55.331092Z"
    },
    "papermill": {
     "duration": 0.121542,
     "end_time": "2023-07-20T16:40:55.334547",
     "exception": false,
     "start_time": "2023-07-20T16:40:55.213005",
     "status": "completed"
    },
    "tags": []
   },
   "outputs": [],
   "source": [
    "# Spliting data \n",
    "from sklearn.model_selection import train_test_split\n",
    "\n",
    "X_train, X_test, y_train, y_test = train_test_split(X, \n",
    "                                                   y,\n",
    "                                                  test_size=0.2,\n",
    "                                                  random_state=42)"
   ]
  },
  {
   "cell_type": "code",
   "execution_count": 13,
   "id": "7ad82e6d",
   "metadata": {
    "execution": {
     "iopub.execute_input": "2023-07-20T16:40:55.364571Z",
     "iopub.status.busy": "2023-07-20T16:40:55.363870Z",
     "iopub.status.idle": "2023-07-20T16:40:55.371785Z",
     "shell.execute_reply": "2023-07-20T16:40:55.370632Z"
    },
    "papermill": {
     "duration": 0.02459,
     "end_time": "2023-07-20T16:40:55.373979",
     "exception": false,
     "start_time": "2023-07-20T16:40:55.349389",
     "status": "completed"
    },
    "tags": []
   },
   "outputs": [
    {
     "data": {
      "text/plain": [
       "(800, 200, 800, 200)"
      ]
     },
     "execution_count": 13,
     "metadata": {},
     "output_type": "execute_result"
    }
   ],
   "source": [
    "len(X_train), len(X_test), len(y_train), len(y_test)"
   ]
  },
  {
   "cell_type": "markdown",
   "id": "1758cf81",
   "metadata": {
    "papermill": {
     "duration": 0.015826,
     "end_time": "2023-07-20T16:40:55.405408",
     "exception": false,
     "start_time": "2023-07-20T16:40:55.389582",
     "status": "completed"
    },
    "tags": []
   },
   "source": [
    "## 2. Building a model\n",
    "\n",
    "Bulding a model to clssify blue and red dots.\n",
    "\n",
    "to do so, we want to:\n",
    "1. Setup device agnostic code so our code will run on accelerator if there is one\n",
    "2. Construct a model (by subclass `nn.Module`)\n",
    "3. Define a loss function and optimizer\n",
    "4. Create a training and testing"
   ]
  },
  {
   "cell_type": "code",
   "execution_count": 14,
   "id": "df4a73d5",
   "metadata": {
    "execution": {
     "iopub.execute_input": "2023-07-20T16:40:55.437637Z",
     "iopub.status.busy": "2023-07-20T16:40:55.437318Z",
     "iopub.status.idle": "2023-07-20T16:40:55.545554Z",
     "shell.execute_reply": "2023-07-20T16:40:55.544616Z"
    },
    "papermill": {
     "duration": 0.126837,
     "end_time": "2023-07-20T16:40:55.547591",
     "exception": false,
     "start_time": "2023-07-20T16:40:55.420754",
     "status": "completed"
    },
    "tags": []
   },
   "outputs": [
    {
     "data": {
      "text/plain": [
       "'cuda'"
      ]
     },
     "execution_count": 14,
     "metadata": {},
     "output_type": "execute_result"
    }
   ],
   "source": [
    "# Import PyTorch and nn\n",
    "import torch\n",
    "import torch.nn as nn\n",
    "\n",
    "# Make device agnostic code\n",
    "device = 'cuda' if torch.cuda.is_available() else 'cpu'\n",
    "device"
   ]
  },
  {
   "cell_type": "markdown",
   "id": "c565502e",
   "metadata": {
    "papermill": {
     "duration": 0.013165,
     "end_time": "2023-07-20T16:40:55.574153",
     "exception": false,
     "start_time": "2023-07-20T16:40:55.560988",
     "status": "completed"
    },
    "tags": []
   },
   "source": [
    "Now we create a model:\n",
    "\n",
    "1. Subclasses `nn.Module`\n",
    "2. Create 2 `nn.Linear()`\n",
    "3. Define a `forward()` defines forwar computation of model\n",
    "4. Instantiate a instance of model and send it to target `device`"
   ]
  },
  {
   "cell_type": "code",
   "execution_count": 15,
   "id": "36b8aa58",
   "metadata": {
    "execution": {
     "iopub.execute_input": "2023-07-20T16:40:55.602592Z",
     "iopub.status.busy": "2023-07-20T16:40:55.602296Z",
     "iopub.status.idle": "2023-07-20T16:40:58.690763Z",
     "shell.execute_reply": "2023-07-20T16:40:58.689802Z"
    },
    "papermill": {
     "duration": 3.105706,
     "end_time": "2023-07-20T16:40:58.693303",
     "exception": false,
     "start_time": "2023-07-20T16:40:55.587597",
     "status": "completed"
    },
    "tags": []
   },
   "outputs": [],
   "source": [
    "# 1. Construct a subclass nn.Module\n",
    "class CircleModelV0(nn.Module):\n",
    "    def __init__(self):\n",
    "        super().__init__()\n",
    "        self.layer_1 = nn.Linear(in_features=2,\n",
    "                                out_features=5)\n",
    "        self.layer_2 = nn.Linear(in_features=5,\n",
    "                                out_features=1)\n",
    "        '''self.two_linear_layers = nn.Sequential(\n",
    "        nn.Linear(in_features=2, out_features=5),\n",
    "        nn.Linear(in_features=5, out_features=1))'''\n",
    "        \n",
    "    def forward(self, X: torch.Tensor) -> torch.Tensor:\n",
    "        return self.layer_2(self.layer_1(X))\n",
    "    \n",
    "model_0 = CircleModelV0().to(device)"
   ]
  },
  {
   "cell_type": "code",
   "execution_count": 16,
   "id": "b2f67ee9",
   "metadata": {
    "execution": {
     "iopub.execute_input": "2023-07-20T16:40:58.722438Z",
     "iopub.status.busy": "2023-07-20T16:40:58.722102Z",
     "iopub.status.idle": "2023-07-20T16:40:58.730286Z",
     "shell.execute_reply": "2023-07-20T16:40:58.729422Z"
    },
    "papermill": {
     "duration": 0.02518,
     "end_time": "2023-07-20T16:40:58.732486",
     "exception": false,
     "start_time": "2023-07-20T16:40:58.707306",
     "status": "completed"
    },
    "tags": []
   },
   "outputs": [
    {
     "data": {
      "text/plain": [
       "<bound method Module.parameters of CircleModelV0(\n",
       "  (layer_1): Linear(in_features=2, out_features=5, bias=True)\n",
       "  (layer_2): Linear(in_features=5, out_features=1, bias=True)\n",
       ")>"
      ]
     },
     "execution_count": 16,
     "metadata": {},
     "output_type": "execute_result"
    }
   ],
   "source": [
    "model_0.parameters"
   ]
  },
  {
   "cell_type": "code",
   "execution_count": 17,
   "id": "3d96042c",
   "metadata": {
    "execution": {
     "iopub.execute_input": "2023-07-20T16:40:58.762276Z",
     "iopub.status.busy": "2023-07-20T16:40:58.760615Z",
     "iopub.status.idle": "2023-07-20T16:40:58.767407Z",
     "shell.execute_reply": "2023-07-20T16:40:58.766493Z"
    },
    "papermill": {
     "duration": 0.023229,
     "end_time": "2023-07-20T16:40:58.769370",
     "exception": false,
     "start_time": "2023-07-20T16:40:58.746141",
     "status": "completed"
    },
    "tags": []
   },
   "outputs": [
    {
     "data": {
      "text/plain": [
       "device(type='cuda', index=0)"
      ]
     },
     "execution_count": 17,
     "metadata": {},
     "output_type": "execute_result"
    }
   ],
   "source": [
    "next(model_0.parameters()).device"
   ]
  },
  {
   "cell_type": "code",
   "execution_count": 18,
   "id": "7b799385",
   "metadata": {
    "execution": {
     "iopub.execute_input": "2023-07-20T16:40:58.798504Z",
     "iopub.status.busy": "2023-07-20T16:40:58.797922Z",
     "iopub.status.idle": "2023-07-20T16:40:58.805982Z",
     "shell.execute_reply": "2023-07-20T16:40:58.805004Z"
    },
    "papermill": {
     "duration": 0.025199,
     "end_time": "2023-07-20T16:40:58.808087",
     "exception": false,
     "start_time": "2023-07-20T16:40:58.782888",
     "status": "completed"
    },
    "tags": []
   },
   "outputs": [
    {
     "data": {
      "text/plain": [
       "Sequential(\n",
       "  (0): Linear(in_features=2, out_features=5, bias=True)\n",
       "  (1): Linear(in_features=5, out_features=1, bias=True)\n",
       ")"
      ]
     },
     "execution_count": 18,
     "metadata": {},
     "output_type": "execute_result"
    }
   ],
   "source": [
    "# replicate model using nn.Sequential\n",
    "model_0 = nn.Sequential(\n",
    "        nn.Linear(in_features=2, out_features=5),\n",
    "        nn.Linear(in_features=5, out_features=1)).to(device)\n",
    "\n",
    "model_0"
   ]
  },
  {
   "cell_type": "code",
   "execution_count": 19,
   "id": "4f5f3f56",
   "metadata": {
    "execution": {
     "iopub.execute_input": "2023-07-20T16:40:58.837319Z",
     "iopub.status.busy": "2023-07-20T16:40:58.836563Z",
     "iopub.status.idle": "2023-07-20T16:40:58.878139Z",
     "shell.execute_reply": "2023-07-20T16:40:58.877130Z"
    },
    "papermill": {
     "duration": 0.058222,
     "end_time": "2023-07-20T16:40:58.880250",
     "exception": false,
     "start_time": "2023-07-20T16:40:58.822028",
     "status": "completed"
    },
    "tags": []
   },
   "outputs": [
    {
     "data": {
      "text/plain": [
       "OrderedDict([('0.weight',\n",
       "              tensor([[-0.4950, -0.2697],\n",
       "                      [ 0.0769, -0.2587],\n",
       "                      [-0.5220,  0.3736],\n",
       "                      [ 0.6267,  0.2505],\n",
       "                      [-0.1985, -0.1755]], device='cuda:0')),\n",
       "             ('0.bias',\n",
       "              tensor([ 0.2454,  0.6635, -0.6341, -0.5822, -0.4933], device='cuda:0')),\n",
       "             ('1.weight',\n",
       "              tensor([[-0.2314,  0.3254, -0.3492, -0.1202,  0.2352]], device='cuda:0')),\n",
       "             ('1.bias', tensor([0.1627], device='cuda:0'))])"
      ]
     },
     "execution_count": 19,
     "metadata": {},
     "output_type": "execute_result"
    }
   ],
   "source": [
    "model_0.state_dict()"
   ]
  },
  {
   "cell_type": "code",
   "execution_count": 20,
   "id": "b044f3f5",
   "metadata": {
    "execution": {
     "iopub.execute_input": "2023-07-20T16:40:58.909434Z",
     "iopub.status.busy": "2023-07-20T16:40:58.908665Z",
     "iopub.status.idle": "2023-07-20T16:40:58.915215Z",
     "shell.execute_reply": "2023-07-20T16:40:58.914169Z"
    },
    "papermill": {
     "duration": 0.023294,
     "end_time": "2023-07-20T16:40:58.917273",
     "exception": false,
     "start_time": "2023-07-20T16:40:58.893979",
     "status": "completed"
    },
    "tags": []
   },
   "outputs": [
    {
     "data": {
      "text/plain": [
       "'print(f\"Length of predictions: {len(untrained_preds)}, Shape: {untrained_preds.shape}\")\\nprint(f\"Length of test samples: {len(X_test)}, Shape: {X_test.shape}\")'"
      ]
     },
     "execution_count": 20,
     "metadata": {},
     "output_type": "execute_result"
    }
   ],
   "source": [
    "# Make predctions\n",
    "'''model_0.eval()\n",
    "with torch.inference_mode():\n",
    "    untrained_preds = model_0(X_test.to(device))\n",
    "binary_preds = (untrained_preds > 0.5).float() '''\n",
    "    \n",
    "'''print(f\"Length of predictions: {len(untrained_preds)}, Shape: {untrained_preds.shape}\")\n",
    "print(f\"Length of test samples: {len(X_test)}, Shape: {X_test.shape}\")'''"
   ]
  },
  {
   "cell_type": "code",
   "execution_count": 21,
   "id": "e89ecce4",
   "metadata": {
    "execution": {
     "iopub.execute_input": "2023-07-20T16:40:58.947037Z",
     "iopub.status.busy": "2023-07-20T16:40:58.946290Z",
     "iopub.status.idle": "2023-07-20T16:40:58.952614Z",
     "shell.execute_reply": "2023-07-20T16:40:58.951681Z"
    },
    "papermill": {
     "duration": 0.023831,
     "end_time": "2023-07-20T16:40:58.955003",
     "exception": false,
     "start_time": "2023-07-20T16:40:58.931172",
     "status": "completed"
    },
    "tags": []
   },
   "outputs": [
    {
     "data": {
      "text/plain": [
       "'plt.scatter(x=X_test[:, 0],\\n            y=X_test[:, 1],\\n            c=binary_preds.to(\"cpu\"),\\n            cmap=plt.cm.RdYlBu);'"
      ]
     },
     "execution_count": 21,
     "metadata": {},
     "output_type": "execute_result"
    }
   ],
   "source": [
    "'''plt.scatter(x=X_test[:, 0],\n",
    "            y=X_test[:, 1],\n",
    "            c=binary_preds.to(\"cpu\"),\n",
    "            cmap=plt.cm.RdYlBu);'''"
   ]
  },
  {
   "cell_type": "markdown",
   "id": "f195eeff",
   "metadata": {
    "papermill": {
     "duration": 0.01442,
     "end_time": "2023-07-20T16:40:58.984472",
     "exception": false,
     "start_time": "2023-07-20T16:40:58.970052",
     "status": "completed"
    },
    "tags": []
   },
   "source": [
    "### 2.1 Setup loss function and optimizer\n",
    "\n",
    "Choosing loss fn and optimizer\n",
    "\n",
    "For Regression: MAE or MSE (Mean Absolute Error or Mean Squared Error)\n",
    "\n",
    "For classification: Binary Cross entropy or Categorical Cross Entropy.\n",
    "\n",
    "For Optimizer: We may use SGD and Adam\n",
    "\n",
    "For calculating loss we are using `torch.nn.BCEwithLogitsLoss()`\n",
    "\n",
    "ref - \n",
    "* https://www.learnpytorch.io/02_pytorch_classification/\n",
    "* https://pytorch.org/docs/stable/nn.html#loss-functions\n",
    "* https://pytorch.org/docs/stable/optim.html"
   ]
  },
  {
   "cell_type": "code",
   "execution_count": 22,
   "id": "1f478624",
   "metadata": {
    "execution": {
     "iopub.execute_input": "2023-07-20T16:40:59.015329Z",
     "iopub.status.busy": "2023-07-20T16:40:59.014995Z",
     "iopub.status.idle": "2023-07-20T16:40:59.020886Z",
     "shell.execute_reply": "2023-07-20T16:40:59.019822Z"
    },
    "papermill": {
     "duration": 0.023911,
     "end_time": "2023-07-20T16:40:59.023120",
     "exception": false,
     "start_time": "2023-07-20T16:40:58.999209",
     "status": "completed"
    },
    "tags": []
   },
   "outputs": [],
   "source": [
    "# Setup loss function\n",
    "#loss_fn = nn.BCELoss() # BCELoss = requires inputs to have gone through the sigmoid activation function prior toimput to BCELoss\n",
    "'''nn.Sequential(\n",
    "    nn.Sigmoid(),\n",
    "    nn.BCELoss()\n",
    ")'''\n",
    "loss_fn = nn.BCEWithLogitsLoss() # BCEWithLogitsLoss = sigmoid ativation function built-in\n",
    "\n",
    "optimizer = torch.optim.SGD(params=model_0.parameters(),\n",
    "                        lr=0.1)"
   ]
  },
  {
   "cell_type": "code",
   "execution_count": 23,
   "id": "b96d9edc",
   "metadata": {
    "execution": {
     "iopub.execute_input": "2023-07-20T16:40:59.055631Z",
     "iopub.status.busy": "2023-07-20T16:40:59.054841Z",
     "iopub.status.idle": "2023-07-20T16:40:59.059993Z",
     "shell.execute_reply": "2023-07-20T16:40:59.059063Z"
    },
    "papermill": {
     "duration": 0.023407,
     "end_time": "2023-07-20T16:40:59.061971",
     "exception": false,
     "start_time": "2023-07-20T16:40:59.038564",
     "status": "completed"
    },
    "tags": []
   },
   "outputs": [],
   "source": [
    "# Calculate Accuracy - out of 100 correct prediction was made in percent\n",
    "def accuracy_fn(y_true, y_pred):\n",
    "    correct = torch.eq(y_true, y_pred).sum().item()\n",
    "    acc = (correct/len(y_pred)) * 100\n",
    "    return acc"
   ]
  },
  {
   "cell_type": "markdown",
   "id": "1454e900",
   "metadata": {
    "papermill": {
     "duration": 0.014174,
     "end_time": "2023-07-20T16:40:59.090256",
     "exception": false,
     "start_time": "2023-07-20T16:40:59.076082",
     "status": "completed"
    },
    "tags": []
   },
   "source": [
    "## 3. Train Model\n",
    "\n",
    "1. Forward pass\n",
    "2. Calculate the loss\n",
    "3. Optimizer zero grad\n",
    "4. Loss backward (backward propogation)\n",
    "5. Optimizer step (gradient descent)"
   ]
  },
  {
   "cell_type": "markdown",
   "id": "c2c56376",
   "metadata": {
    "papermill": {
     "duration": 0.016334,
     "end_time": "2023-07-20T16:40:59.120404",
     "exception": false,
     "start_time": "2023-07-20T16:40:59.104070",
     "status": "completed"
    },
    "tags": []
   },
   "source": [
    "### 3.1 Goining from raw logits -> prediction probabiites -> predictin labels\n",
    "\n",
    "Our Model outputs are going to raw **logits**\n",
    "\n",
    "we can convert **logits** into prediction probailities by pasing them to some kind of activation funcation (e.g. sigmoid for binary corssentropy and softmax for multiclass classification).\n",
    "\n",
    "then we can covert Prediction probabilities to **prediction labels** by either rounding them or takng the `argmax()`."
   ]
  },
  {
   "cell_type": "code",
   "execution_count": 24,
   "id": "26a7d51b",
   "metadata": {
    "execution": {
     "iopub.execute_input": "2023-07-20T16:40:59.152018Z",
     "iopub.status.busy": "2023-07-20T16:40:59.151160Z",
     "iopub.status.idle": "2023-07-20T16:41:01.705087Z",
     "shell.execute_reply": "2023-07-20T16:41:01.703957Z"
    },
    "papermill": {
     "duration": 2.572905,
     "end_time": "2023-07-20T16:41:01.707766",
     "exception": false,
     "start_time": "2023-07-20T16:40:59.134861",
     "status": "completed"
    },
    "tags": []
   },
   "outputs": [
    {
     "data": {
      "text/plain": [
       "tensor([[0.2695],\n",
       "        [0.2855],\n",
       "        [0.4271],\n",
       "        [0.2240],\n",
       "        [0.7438]], device='cuda:0')"
      ]
     },
     "execution_count": 24,
     "metadata": {},
     "output_type": "execute_result"
    }
   ],
   "source": [
    "# Veiw the first 5 outputs of forwardpass on test deta\n",
    "\n",
    "model_0.eval()\n",
    "with torch.inference_mode():\n",
    "    y_logits = model_0(X_test.to(device))[:5]\n",
    "y_logits"
   ]
  },
  {
   "cell_type": "code",
   "execution_count": 25,
   "id": "d0aaa894",
   "metadata": {
    "execution": {
     "iopub.execute_input": "2023-07-20T16:41:01.739226Z",
     "iopub.status.busy": "2023-07-20T16:41:01.738917Z",
     "iopub.status.idle": "2023-07-20T16:41:01.747189Z",
     "shell.execute_reply": "2023-07-20T16:41:01.746160Z"
    },
    "papermill": {
     "duration": 0.026007,
     "end_time": "2023-07-20T16:41:01.749212",
     "exception": false,
     "start_time": "2023-07-20T16:41:01.723205",
     "status": "completed"
    },
    "tags": []
   },
   "outputs": [
    {
     "data": {
      "text/plain": [
       "tensor([[0.5670],\n",
       "        [0.5709],\n",
       "        [0.6052],\n",
       "        [0.5558],\n",
       "        [0.6778]], device='cuda:0')"
      ]
     },
     "execution_count": 25,
     "metadata": {},
     "output_type": "execute_result"
    }
   ],
   "source": [
    "# Use sigmoid activation functions on our model logits to turn them into predictions probabilites\n",
    "y_pred_proba = torch.sigmoid(y_logits)\n",
    "y_pred_proba"
   ]
  },
  {
   "cell_type": "markdown",
   "id": "6007afb8",
   "metadata": {
    "execution": {
     "iopub.execute_input": "2023-07-18T15:31:39.849927Z",
     "iopub.status.busy": "2023-07-18T15:31:39.849249Z",
     "iopub.status.idle": "2023-07-18T15:31:39.858320Z",
     "shell.execute_reply": "2023-07-18T15:31:39.856422Z",
     "shell.execute_reply.started": "2023-07-18T15:31:39.849893Z"
    },
    "papermill": {
     "duration": 0.014102,
     "end_time": "2023-07-20T16:41:01.777685",
     "exception": false,
     "start_time": "2023-07-20T16:41:01.763583",
     "status": "completed"
    },
    "tags": []
   },
   "source": [
    "For our predicitons probabilites values, we need to perform a range-style rounding on them:\n",
    "    \n",
    "* `y_pred_proba` >= 0.5, `y=1` (class 1)\n",
    "* `y_pred_proba` < 0.5, `y=0` (class 0)"
   ]
  },
  {
   "cell_type": "code",
   "execution_count": 26,
   "id": "646ef019",
   "metadata": {
    "execution": {
     "iopub.execute_input": "2023-07-20T16:41:01.807603Z",
     "iopub.status.busy": "2023-07-20T16:41:01.806883Z",
     "iopub.status.idle": "2023-07-20T16:41:01.817825Z",
     "shell.execute_reply": "2023-07-20T16:41:01.816865Z"
    },
    "papermill": {
     "duration": 0.028166,
     "end_time": "2023-07-20T16:41:01.819864",
     "exception": false,
     "start_time": "2023-07-20T16:41:01.791698",
     "status": "completed"
    },
    "tags": []
   },
   "outputs": [
    {
     "data": {
      "text/plain": [
       "tensor([[1.],\n",
       "        [1.],\n",
       "        [1.],\n",
       "        [1.],\n",
       "        [1.]], device='cuda:0')"
      ]
     },
     "execution_count": 26,
     "metadata": {},
     "output_type": "execute_result"
    }
   ],
   "source": [
    "# find the predicted labels\n",
    "Y_preds = torch.round(y_pred_proba)\n",
    "Y_preds"
   ]
  },
  {
   "cell_type": "code",
   "execution_count": 27,
   "id": "18e453e3",
   "metadata": {
    "execution": {
     "iopub.execute_input": "2023-07-20T16:41:01.850507Z",
     "iopub.status.busy": "2023-07-20T16:41:01.849758Z",
     "iopub.status.idle": "2023-07-20T16:41:01.857214Z",
     "shell.execute_reply": "2023-07-20T16:41:01.855898Z"
    },
    "papermill": {
     "duration": 0.024676,
     "end_time": "2023-07-20T16:41:01.859083",
     "exception": false,
     "start_time": "2023-07-20T16:41:01.834407",
     "status": "completed"
    },
    "tags": []
   },
   "outputs": [
    {
     "name": "stdout",
     "output_type": "stream",
     "text": [
      "tensor([ True, False,  True, False,  True], device='cuda:0')\n"
     ]
    }
   ],
   "source": [
    "# Checikng for equality \n",
    "print(torch.eq(Y_preds.squeeze(),y_test[:5].squeeze().to(device)))"
   ]
  },
  {
   "cell_type": "markdown",
   "id": "ca6cd1e3",
   "metadata": {
    "papermill": {
     "duration": 0.014235,
     "end_time": "2023-07-20T16:41:01.888465",
     "exception": false,
     "start_time": "2023-07-20T16:41:01.874230",
     "status": "completed"
    },
    "tags": []
   },
   "source": [
    "### 3.2 Building a training and testing loop"
   ]
  },
  {
   "cell_type": "code",
   "execution_count": 28,
   "id": "aaf528cc",
   "metadata": {
    "execution": {
     "iopub.execute_input": "2023-07-20T16:41:01.919776Z",
     "iopub.status.busy": "2023-07-20T16:41:01.918870Z",
     "iopub.status.idle": "2023-07-20T16:41:02.116905Z",
     "shell.execute_reply": "2023-07-20T16:41:02.115979Z"
    },
    "papermill": {
     "duration": 0.215949,
     "end_time": "2023-07-20T16:41:02.118912",
     "exception": false,
     "start_time": "2023-07-20T16:41:01.902963",
     "status": "completed"
    },
    "tags": []
   },
   "outputs": [
    {
     "name": "stdout",
     "output_type": "stream",
     "text": [
      "Epoch: 0 | Loss: 0.72929%, Acc: 50.00% | Test loss: 0.71942, Test acc: 50.00%\n",
      "Epoch: 10 | Loss: 0.70364%, Acc: 54.25% | Test loss: 0.69981, Test acc: 56.00%\n",
      "Epoch: 20 | Loss: 0.69727%, Acc: 51.88% | Test loss: 0.69534, Test acc: 55.50%\n",
      "Epoch: 30 | Loss: 0.69551%, Acc: 49.75% | Test loss: 0.69426, Test acc: 55.00%\n",
      "Epoch: 40 | Loss: 0.69489%, Acc: 50.25% | Test loss: 0.69393, Test acc: 50.50%\n",
      "Epoch: 50 | Loss: 0.69458%, Acc: 50.88% | Test loss: 0.69376, Test acc: 47.50%\n",
      "Epoch: 60 | Loss: 0.69437%, Acc: 50.62% | Test loss: 0.69364, Test acc: 47.00%\n",
      "Epoch: 70 | Loss: 0.69421%, Acc: 50.12% | Test loss: 0.69353, Test acc: 46.50%\n",
      "Epoch: 80 | Loss: 0.69407%, Acc: 49.75% | Test loss: 0.69345, Test acc: 46.50%\n",
      "Epoch: 90 | Loss: 0.69396%, Acc: 49.88% | Test loss: 0.69338, Test acc: 46.50%\n"
     ]
    }
   ],
   "source": [
    "torch.manual_seed(42)\n",
    "torch.cuda.manual_seed(42)\n",
    "\n",
    "# Set no. of epochs\n",
    "EPOCHS = 100\n",
    "\n",
    "# Put dta to target device\n",
    "X_train, y_train = X_train.to(device), y_train.to(device)\n",
    "X_test, y_test = X_test.to(device), y_test.to(device)\n",
    "\n",
    "for epoch in range(EPOCHS):\n",
    "    \n",
    "    #Training\n",
    "    model_0.train()\n",
    "    \n",
    "    # 1. Forward pass\n",
    "    y_logits = model_0(X_train).squeeze()\n",
    "    y_pred = torch.round(torch.sigmoid(y_logits)) # logits -> pred proba _ pred labels\n",
    "    \n",
    "    # 2. Calculate the loss \n",
    "    #loss = loss_fn(torch.sigmoid(y_logits)) #nn.BCELoss expects predction probablities\n",
    "    \n",
    "    loss = loss_fn(y_logits, #nn.BCEWithLogits expects raw logits as input\n",
    "                   y_train) \n",
    "    \n",
    "    acc = accuracy_fn(y_true=y_train,\n",
    "                     y_pred=y_pred)\n",
    "    \n",
    "    # 3. Optimizer xero grad\n",
    "    optimizer.zero_grad()\n",
    "    \n",
    "    # 4. loss backward\n",
    "    loss.backward()\n",
    "    \n",
    "    # 5. Optimizer step (gradient descent)\n",
    "    optimizer.step()\n",
    "    \n",
    "    ### testing\n",
    "    model_0.eval()\n",
    "    with torch.inference_mode():\n",
    "        \n",
    "        # 1. Forward pass\n",
    "        test_logits = model_0(X_test).squeeze()\n",
    "        test_pred = torch.round(torch.sigmoid(test_logits))\n",
    "        \n",
    "        # 2. Calculate test loss/acc\n",
    "        test_loss = loss_fn(test_logits,\n",
    "                           y_test)\n",
    "        test_acc = accuracy_fn(y_true=y_test,\n",
    "                              y_pred=test_pred)\n",
    "    \n",
    "    # Print out Results\n",
    "    if  epoch % 10 == 0:\n",
    "        print(f\"Epoch: {epoch} | Loss: {loss:.5f}%, Acc: {acc:.2f}% | Test loss: {test_loss:.5f}, Test acc: {test_acc:.2f}%\")\n",
    "    "
   ]
  },
  {
   "cell_type": "markdown",
   "id": "c4beec64",
   "metadata": {
    "papermill": {
     "duration": 0.014929,
     "end_time": "2023-07-20T16:41:02.152484",
     "exception": false,
     "start_time": "2023-07-20T16:41:02.137555",
     "status": "completed"
    },
    "tags": []
   },
   "source": [
    "## 4. Make Predictions adn evaluate the model\n",
    "\n",
    "From metrics it looks like our model isnt learning anything\n",
    "\n",
    "So to inspect it lets make predictions and visualize them\n",
    "\n",
    "to do so, we're going to import a function called `plot_descision_boundary()`\n",
    "\n",
    "ref - \n",
    "* https://github.com/mrdbourke/pytorch-deep-learning/blob/main/helper_functions.py"
   ]
  },
  {
   "cell_type": "code",
   "execution_count": 29,
   "id": "15940629",
   "metadata": {
    "execution": {
     "iopub.execute_input": "2023-07-20T16:41:02.184213Z",
     "iopub.status.busy": "2023-07-20T16:41:02.183868Z",
     "iopub.status.idle": "2023-07-20T16:41:02.668185Z",
     "shell.execute_reply": "2023-07-20T16:41:02.667158Z"
    },
    "papermill": {
     "duration": 0.503092,
     "end_time": "2023-07-20T16:41:02.670757",
     "exception": false,
     "start_time": "2023-07-20T16:41:02.167665",
     "status": "completed"
    },
    "tags": []
   },
   "outputs": [
    {
     "name": "stdout",
     "output_type": "stream",
     "text": [
      "Downloading file\n"
     ]
    }
   ],
   "source": [
    "import requests\n",
    "from pathlib import Path\n",
    "\n",
    "# Download helper functons from Learn PyTorch repo if doesnt present\n",
    "if Path('helper_functions.py').is_file():\n",
    "    print(\"File is present, skip download\")\n",
    "else:\n",
    "    print('Downloading file')\n",
    "    request = requests.get(\"https://raw.githubusercontent.com/mrdbourke/pytorch-deep-learning/main/helper_functions.py\")\n",
    "    with open(\"helper_functions.py\",\"wb\") as f:\n",
    "        f.write(request.content)\n",
    "        \n",
    "from helper_functions import plot_predictions, plot_decision_boundary"
   ]
  },
  {
   "cell_type": "markdown",
   "id": "240e3354",
   "metadata": {
    "papermill": {
     "duration": 0.015503,
     "end_time": "2023-07-20T16:41:02.702077",
     "exception": false,
     "start_time": "2023-07-20T16:41:02.686574",
     "status": "completed"
    },
    "tags": []
   },
   "source": [
    "  ### "
   ]
  },
  {
   "cell_type": "code",
   "execution_count": 30,
   "id": "ca301298",
   "metadata": {
    "execution": {
     "iopub.execute_input": "2023-07-20T16:41:02.735940Z",
     "iopub.status.busy": "2023-07-20T16:41:02.734968Z",
     "iopub.status.idle": "2023-07-20T16:41:03.498447Z",
     "shell.execute_reply": "2023-07-20T16:41:03.497524Z"
    },
    "papermill": {
     "duration": 0.784093,
     "end_time": "2023-07-20T16:41:03.501644",
     "exception": false,
     "start_time": "2023-07-20T16:41:02.717551",
     "status": "completed"
    },
    "tags": []
   },
   "outputs": [
    {
     "data": {
      "image/png": "[encoded data removed]",
      "text/plain": [
       "<Figure size 1200x600 with 2 Axes>"
      ]
     },
     "metadata": {},
     "output_type": "display_data"
    }
   ],
   "source": [
    "# Plot descision boundary of model\n",
    "plt.figure(figsize=(12, 6))\n",
    "plt.subplot(1,2,1)\n",
    "plt.title(\"Train\")\n",
    "plot_decision_boundary(model_0, X_train, y_train)\n",
    "plt.subplot(1,2,2)\n",
    "plt.title(\"Test\")\n",
    "plot_decision_boundary(model_0, X_test, y_test)"
   ]
  },
  {
   "cell_type": "markdown",
   "id": "971858ff",
   "metadata": {
    "papermill": {
     "duration": 0.016177,
     "end_time": "2023-07-20T16:41:03.534711",
     "exception": false,
     "start_time": "2023-07-20T16:41:03.518534",
     "status": "completed"
    },
    "tags": []
   },
   "source": [
    "## 5. Improving a model (from model perspective)\n",
    "\n",
    "* Add more layers - give  the model more chances to learn about patters in data\n",
    "* Add more hidden layers - go from 5 hidden units to 10 hidden units\n",
    "* Fit for longer \n",
    "* Changing the ctivation functions\n",
    "* Changing the Learning rate\n",
    "* Change the loss function\n",
    "\n",
    "These options are all from model's perspective beacause they deal directly with the model, rather than the data. \n",
    "\n",
    "And beacause these options are all values we can change, they'er called **hyperparameters**.\n",
    "\n",
    "Trying to improve our model by:\n",
    "* Adding more hidder units: 5 -> 10\n",
    "* Increase the number of layers: 2 -> 3\n",
    "* Increase the number of epochs: 100 - 1000\n",
    "\n"
   ]
  },
  {
   "cell_type": "code",
   "execution_count": 31,
   "id": "56fffbca",
   "metadata": {
    "execution": {
     "iopub.execute_input": "2023-07-20T16:41:03.569573Z",
     "iopub.status.busy": "2023-07-20T16:41:03.568630Z",
     "iopub.status.idle": "2023-07-20T16:41:03.579935Z",
     "shell.execute_reply": "2023-07-20T16:41:03.578878Z"
    },
    "papermill": {
     "duration": 0.031224,
     "end_time": "2023-07-20T16:41:03.582182",
     "exception": false,
     "start_time": "2023-07-20T16:41:03.550958",
     "status": "completed"
    },
    "tags": []
   },
   "outputs": [
    {
     "data": {
      "text/plain": [
       "CircleModelV1(\n",
       "  (layer_1): Linear(in_features=2, out_features=10, bias=True)\n",
       "  (layer_2): Linear(in_features=10, out_features=10, bias=True)\n",
       "  (layer_3): Linear(in_features=10, out_features=1, bias=True)\n",
       ")"
      ]
     },
     "execution_count": 31,
     "metadata": {},
     "output_type": "execute_result"
    }
   ],
   "source": [
    "class CircleModelV1(nn.Module):\n",
    "    def __init__(self):\n",
    "        super().__init__()\n",
    "        self.layer_1 = nn.Linear(in_features=2, out_features=10)\n",
    "        self.layer_2 = nn.Linear(in_features=10, out_features=10)\n",
    "        self.layer_3 = nn.Linear(in_features=10, out_features=1)\n",
    "        \n",
    "    def forward(self, x):\n",
    "        #z = self.layer_1(x)\n",
    "        #z = self.layer_2(z)\n",
    "        #z = self.layer_3(z)\n",
    "        return self.layer_3(self.layer_2(self.layer_1(x))) # this way of writing operatins leverages the speed ups where possible behind secnes\n",
    "    \n",
    "model_1 = CircleModelV1().to(device)\n",
    "model_1"
   ]
  },
  {
   "cell_type": "code",
   "execution_count": null,
   "id": "98107fa3",
   "metadata": {
    "papermill": {
     "duration": 0.016828,
     "end_time": "2023-07-20T16:41:03.615994",
     "exception": false,
     "start_time": "2023-07-20T16:41:03.599166",
     "status": "completed"
    },
    "tags": []
   },
   "outputs": [],
   "source": []
  }
 ],
 "metadata": {
  "kernelspec": {
   "display_name": "Python 3",
   "language": "python",
   "name": "python3"
  },
  "language_info": {
   "codemirror_mode": {
    "name": "ipython",
    "version": 3
   },
   "file_extension": ".py",
   "mimetype": "text/x-python",
   "name": "python",
   "nbconvert_exporter": "python",
   "pygments_lexer": "ipython3",
   "version": "3.10.12"
  },
  "papermill": {
   "default_parameters": {},
   "duration": 28.335126,
   "end_time": "2023-07-20T16:41:06.491331",
   "environment_variables": {},
   "exception": null,
   "input_path": "__notebook__.ipynb",
   "output_path": "__notebook__.ipynb",
   "parameters": {},
   "start_time": "2023-07-20T16:40:38.156205",
   "version": "2.4.0"
  }
 },
 "nbformat": 4,
 "nbformat_minor": 5
}
