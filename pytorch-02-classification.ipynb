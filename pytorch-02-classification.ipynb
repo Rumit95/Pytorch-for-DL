{
 "cells": [
  {
   "cell_type": "markdown",
   "id": "8bc5e48f",
   "metadata": {
    "_cell_guid": "b1076dfc-b9ad-4769-8c92-a6c4dae69d19",
    "_uuid": "8f2839f25d086af736a60e9eeb907d3b93b6e0e5",
    "papermill": {
     "duration": 0.010911,
     "end_time": "2023-07-18T16:46:43.250307",
     "exception": false,
     "start_time": "2023-07-18T16:46:43.239396",
     "status": "completed"
    },
    "tags": []
   },
   "source": [
    "#  02. Neural Network with PyTorch\n",
    "\n",
    "Classification is a problem of predicting whether something belongs to one class or other.\n",
    "\n"
   ]
  },
  {
   "cell_type": "markdown",
   "id": "e23b08a7",
   "metadata": {
    "papermill": {
     "duration": 0.010012,
     "end_time": "2023-07-18T16:46:43.271073",
     "exception": false,
     "start_time": "2023-07-18T16:46:43.261061",
     "status": "completed"
    },
    "tags": []
   },
   "source": [
    "## 1. Make classification data"
   ]
  },
  {
   "cell_type": "code",
   "execution_count": 1,
   "id": "ceb0e422",
   "metadata": {
    "execution": {
     "iopub.execute_input": "2023-07-18T16:46:43.293310Z",
     "iopub.status.busy": "2023-07-18T16:46:43.292906Z",
     "iopub.status.idle": "2023-07-18T16:46:44.434068Z",
     "shell.execute_reply": "2023-07-18T16:46:44.433012Z"
    },
    "papermill": {
     "duration": 1.155491,
     "end_time": "2023-07-18T16:46:44.436911",
     "exception": false,
     "start_time": "2023-07-18T16:46:43.281420",
     "status": "completed"
    },
    "tags": []
   },
   "outputs": [
    {
     "name": "stderr",
     "output_type": "stream",
     "text": [
      "/opt/conda/lib/python3.10/site-packages/scipy/__init__.py:146: UserWarning: A NumPy version >=1.16.5 and <1.23.0 is required for this version of SciPy (detected version 1.23.5\n",
      "  warnings.warn(f\"A NumPy version >={np_minversion} and <{np_maxversion}\"\n"
     ]
    }
   ],
   "source": [
    "import sklearn\n",
    "from sklearn.datasets import make_circles\n",
    "\n",
    "# Make 1000 samples\n",
    "n_samples = 1000\n",
    "\n",
    "# Create circles\n",
    "X, y = make_circles(n_samples,\n",
    "                   noise=0.03,\n",
    "                   random_state=42)"
   ]
  },
  {
   "cell_type": "code",
   "execution_count": 2,
   "id": "26b2365a",
   "metadata": {
    "execution": {
     "iopub.execute_input": "2023-07-18T16:46:44.463307Z",
     "iopub.status.busy": "2023-07-18T16:46:44.462972Z",
     "iopub.status.idle": "2023-07-18T16:46:44.470330Z",
     "shell.execute_reply": "2023-07-18T16:46:44.469362Z"
    },
    "papermill": {
     "duration": 0.022474,
     "end_time": "2023-07-18T16:46:44.472995",
     "exception": false,
     "start_time": "2023-07-18T16:46:44.450521",
     "status": "completed"
    },
    "tags": []
   },
   "outputs": [
    {
     "data": {
      "text/plain": [
       "(1000, 1000)"
      ]
     },
     "execution_count": 2,
     "metadata": {},
     "output_type": "execute_result"
    }
   ],
   "source": [
    "len(X), len(y)"
   ]
  },
  {
   "cell_type": "code",
   "execution_count": 3,
   "id": "46dcf93e",
   "metadata": {
    "execution": {
     "iopub.execute_input": "2023-07-18T16:46:44.497279Z",
     "iopub.status.busy": "2023-07-18T16:46:44.496394Z",
     "iopub.status.idle": "2023-07-18T16:46:44.502981Z",
     "shell.execute_reply": "2023-07-18T16:46:44.501785Z"
    },
    "papermill": {
     "duration": 0.02134,
     "end_time": "2023-07-18T16:46:44.505357",
     "exception": false,
     "start_time": "2023-07-18T16:46:44.484017",
     "status": "completed"
    },
    "tags": []
   },
   "outputs": [
    {
     "name": "stdout",
     "output_type": "stream",
     "text": [
      "1st 5 values of X: [[ 0.75424625  0.23148074]\n",
      " [-0.75615888  0.15325888]\n",
      " [-0.81539193  0.17328203]\n",
      " [-0.39373073  0.69288277]\n",
      " [ 0.44220765 -0.89672343]]\n",
      "1st 5 values of y: [1 1 1 1 0]\n"
     ]
    }
   ],
   "source": [
    "print(f'1st 5 values of X: {X[:5]}')\n",
    "print(f'1st 5 values of y: {y[:5]}')"
   ]
  },
  {
   "cell_type": "code",
   "execution_count": 4,
   "id": "e514f541",
   "metadata": {
    "execution": {
     "iopub.execute_input": "2023-07-18T16:46:44.531987Z",
     "iopub.status.busy": "2023-07-18T16:46:44.531086Z",
     "iopub.status.idle": "2023-07-18T16:46:44.552437Z",
     "shell.execute_reply": "2023-07-18T16:46:44.551413Z"
    },
    "papermill": {
     "duration": 0.036563,
     "end_time": "2023-07-18T16:46:44.554789",
     "exception": false,
     "start_time": "2023-07-18T16:46:44.518226",
     "status": "completed"
    },
    "tags": []
   },
   "outputs": [
    {
     "data": {
      "text/html": [
       "<div>\n",
       "<style scoped>\n",
       "    .dataframe tbody tr th:only-of-type {\n",
       "        vertical-align: middle;\n",
       "    }\n",
       "\n",
       "    .dataframe tbody tr th {\n",
       "        vertical-align: top;\n",
       "    }\n",
       "\n",
       "    .dataframe thead th {\n",
       "        text-align: right;\n",
       "    }\n",
       "</style>\n",
       "<table border=\"1\" class=\"dataframe\">\n",
       "  <thead>\n",
       "    <tr style=\"text-align: right;\">\n",
       "      <th></th>\n",
       "      <th>X1</th>\n",
       "      <th>X2</th>\n",
       "      <th>label</th>\n",
       "    </tr>\n",
       "  </thead>\n",
       "  <tbody>\n",
       "    <tr>\n",
       "      <th>0</th>\n",
       "      <td>0.754246</td>\n",
       "      <td>0.231481</td>\n",
       "      <td>1</td>\n",
       "    </tr>\n",
       "    <tr>\n",
       "      <th>1</th>\n",
       "      <td>-0.756159</td>\n",
       "      <td>0.153259</td>\n",
       "      <td>1</td>\n",
       "    </tr>\n",
       "    <tr>\n",
       "      <th>2</th>\n",
       "      <td>-0.815392</td>\n",
       "      <td>0.173282</td>\n",
       "      <td>1</td>\n",
       "    </tr>\n",
       "    <tr>\n",
       "      <th>3</th>\n",
       "      <td>-0.393731</td>\n",
       "      <td>0.692883</td>\n",
       "      <td>1</td>\n",
       "    </tr>\n",
       "    <tr>\n",
       "      <th>4</th>\n",
       "      <td>0.442208</td>\n",
       "      <td>-0.896723</td>\n",
       "      <td>0</td>\n",
       "    </tr>\n",
       "    <tr>\n",
       "      <th>5</th>\n",
       "      <td>-0.479646</td>\n",
       "      <td>0.676435</td>\n",
       "      <td>1</td>\n",
       "    </tr>\n",
       "    <tr>\n",
       "      <th>6</th>\n",
       "      <td>-0.013648</td>\n",
       "      <td>0.803349</td>\n",
       "      <td>1</td>\n",
       "    </tr>\n",
       "    <tr>\n",
       "      <th>7</th>\n",
       "      <td>0.771513</td>\n",
       "      <td>0.147760</td>\n",
       "      <td>1</td>\n",
       "    </tr>\n",
       "    <tr>\n",
       "      <th>8</th>\n",
       "      <td>-0.169322</td>\n",
       "      <td>-0.793456</td>\n",
       "      <td>1</td>\n",
       "    </tr>\n",
       "    <tr>\n",
       "      <th>9</th>\n",
       "      <td>-0.121486</td>\n",
       "      <td>1.021509</td>\n",
       "      <td>0</td>\n",
       "    </tr>\n",
       "  </tbody>\n",
       "</table>\n",
       "</div>"
      ],
      "text/plain": [
       "         X1        X2  label\n",
       "0  0.754246  0.231481      1\n",
       "1 -0.756159  0.153259      1\n",
       "2 -0.815392  0.173282      1\n",
       "3 -0.393731  0.692883      1\n",
       "4  0.442208 -0.896723      0\n",
       "5 -0.479646  0.676435      1\n",
       "6 -0.013648  0.803349      1\n",
       "7  0.771513  0.147760      1\n",
       "8 -0.169322 -0.793456      1\n",
       "9 -0.121486  1.021509      0"
      ]
     },
     "execution_count": 4,
     "metadata": {},
     "output_type": "execute_result"
    }
   ],
   "source": [
    "# Make Dataframe of circle data\n",
    "import pandas as pd\n",
    "circles = pd.DataFrame({\"X1\": X[:,0],\n",
    "                      \"X2\": X[:,1],\n",
    "                     \"label\": y})\n",
    "circles.head(10)"
   ]
  },
  {
   "cell_type": "code",
   "execution_count": 5,
   "id": "8f113e6b",
   "metadata": {
    "execution": {
     "iopub.execute_input": "2023-07-18T16:46:44.577671Z",
     "iopub.status.busy": "2023-07-18T16:46:44.577385Z",
     "iopub.status.idle": "2023-07-18T16:46:44.905891Z",
     "shell.execute_reply": "2023-07-18T16:46:44.904960Z"
    },
    "papermill": {
     "duration": 0.343138,
     "end_time": "2023-07-18T16:46:44.908997",
     "exception": false,
     "start_time": "2023-07-18T16:46:44.565859",
     "status": "completed"
    },
    "tags": []
   },
   "outputs": [
    {
     "data": {
      "image/png": "[encoded data removed]",
      "text/plain": [
       "<Figure size 640x480 with 1 Axes>"
      ]
     },
     "metadata": {},
     "output_type": "display_data"
    }
   ],
   "source": [
    "# Visualize\n",
    "import matplotlib.pyplot as plt\n",
    "plt.scatter(x=X[:, 0],\n",
    "           y=X[:, 1],\n",
    "           c=y,\n",
    "           cmap=plt.cm.RdYlBu);"
   ]
  },
  {
   "cell_type": "markdown",
   "id": "38a6d31b",
   "metadata": {
    "papermill": {
     "duration": 0.011805,
     "end_time": "2023-07-18T16:46:44.933243",
     "exception": false,
     "start_time": "2023-07-18T16:46:44.921438",
     "status": "completed"
    },
    "tags": []
   },
   "source": [
    "### 1.1 Check input and output shape"
   ]
  },
  {
   "cell_type": "code",
   "execution_count": 6,
   "id": "3f8171ea",
   "metadata": {
    "execution": {
     "iopub.execute_input": "2023-07-18T16:46:44.958661Z",
     "iopub.status.busy": "2023-07-18T16:46:44.958325Z",
     "iopub.status.idle": "2023-07-18T16:46:44.964268Z",
     "shell.execute_reply": "2023-07-18T16:46:44.963393Z"
    },
    "papermill": {
     "duration": 0.020727,
     "end_time": "2023-07-18T16:46:44.966204",
     "exception": false,
     "start_time": "2023-07-18T16:46:44.945477",
     "status": "completed"
    },
    "tags": []
   },
   "outputs": [
    {
     "data": {
      "text/plain": [
       "((1000, 2), (1000,))"
      ]
     },
     "execution_count": 6,
     "metadata": {},
     "output_type": "execute_result"
    }
   ],
   "source": [
    "X.shape, y.shape"
   ]
  },
  {
   "cell_type": "code",
   "execution_count": 7,
   "id": "19977020",
   "metadata": {
    "execution": {
     "iopub.execute_input": "2023-07-18T16:46:44.991575Z",
     "iopub.status.busy": "2023-07-18T16:46:44.990776Z",
     "iopub.status.idle": "2023-07-18T16:46:44.997516Z",
     "shell.execute_reply": "2023-07-18T16:46:44.996510Z"
    },
    "papermill": {
     "duration": 0.021658,
     "end_time": "2023-07-18T16:46:44.999728",
     "exception": false,
     "start_time": "2023-07-18T16:46:44.978070",
     "status": "completed"
    },
    "tags": []
   },
   "outputs": [
    {
     "data": {
      "text/plain": [
       "array([[ 0.75424625,  0.23148074],\n",
       "       [-0.75615888,  0.15325888],\n",
       "       [-0.81539193,  0.17328203],\n",
       "       ...,\n",
       "       [-0.13690036, -0.81001183],\n",
       "       [ 0.67036156, -0.76750154],\n",
       "       [ 0.28105665,  0.96382443]])"
      ]
     },
     "execution_count": 7,
     "metadata": {},
     "output_type": "execute_result"
    }
   ],
   "source": [
    "X"
   ]
  },
  {
   "cell_type": "code",
   "execution_count": 8,
   "id": "3d147218",
   "metadata": {
    "execution": {
     "iopub.execute_input": "2023-07-18T16:46:45.025931Z",
     "iopub.status.busy": "2023-07-18T16:46:45.025178Z",
     "iopub.status.idle": "2023-07-18T16:46:45.031921Z",
     "shell.execute_reply": "2023-07-18T16:46:45.030654Z"
    },
    "papermill": {
     "duration": 0.021807,
     "end_time": "2023-07-18T16:46:45.034117",
     "exception": false,
     "start_time": "2023-07-18T16:46:45.012310",
     "status": "completed"
    },
    "tags": []
   },
   "outputs": [
    {
     "name": "stdout",
     "output_type": "stream",
     "text": [
      "Sample of X: [0.75424625 0.23148074] and sample of y: 1\n",
      "Shape of X: (2,) and shape of y: ()\n"
     ]
    }
   ],
   "source": [
    "# View 1st example of features and labels\n",
    "X_sample = X[0]\n",
    "y_sample = y[0]\n",
    "\n",
    "print(f\"Sample of X: {X_sample} and sample of y: {y_sample}\")\n",
    "print(f\"Shape of X: {X_sample.shape} and shape of y: {y_sample.shape}\")"
   ]
  },
  {
   "cell_type": "markdown",
   "id": "05c8ac35",
   "metadata": {
    "papermill": {
     "duration": 0.012499,
     "end_time": "2023-07-18T16:46:45.059972",
     "exception": false,
     "start_time": "2023-07-18T16:46:45.047473",
     "status": "completed"
    },
    "tags": []
   },
   "source": [
    "### 1.2 Turn Data to Tensors and create train and test spits"
   ]
  },
  {
   "cell_type": "code",
   "execution_count": 9,
   "id": "37865468",
   "metadata": {
    "execution": {
     "iopub.execute_input": "2023-07-18T16:46:45.086636Z",
     "iopub.status.busy": "2023-07-18T16:46:45.085842Z",
     "iopub.status.idle": "2023-07-18T16:46:48.884706Z",
     "shell.execute_reply": "2023-07-18T16:46:48.883774Z"
    },
    "papermill": {
     "duration": 3.814801,
     "end_time": "2023-07-18T16:46:48.887008",
     "exception": false,
     "start_time": "2023-07-18T16:46:45.072207",
     "status": "completed"
    },
    "tags": []
   },
   "outputs": [
    {
     "data": {
      "text/plain": [
       "'2.0.0'"
      ]
     },
     "execution_count": 9,
     "metadata": {},
     "output_type": "execute_result"
    }
   ],
   "source": [
    "import torch\n",
    "torch.__version__"
   ]
  },
  {
   "cell_type": "code",
   "execution_count": 10,
   "id": "d09aa9e0",
   "metadata": {
    "execution": {
     "iopub.execute_input": "2023-07-18T16:46:48.913883Z",
     "iopub.status.busy": "2023-07-18T16:46:48.913349Z",
     "iopub.status.idle": "2023-07-18T16:46:49.019342Z",
     "shell.execute_reply": "2023-07-18T16:46:49.018139Z"
    },
    "papermill": {
     "duration": 0.122625,
     "end_time": "2023-07-18T16:46:49.022636",
     "exception": false,
     "start_time": "2023-07-18T16:46:48.900011",
     "status": "completed"
    },
    "tags": []
   },
   "outputs": [
    {
     "data": {
      "text/plain": [
       "(tensor([[ 0.7542,  0.2315],\n",
       "         [-0.7562,  0.1533],\n",
       "         [-0.8154,  0.1733],\n",
       "         [-0.3937,  0.6929],\n",
       "         [ 0.4422, -0.8967]]),\n",
       " tensor([1., 1., 1., 1., 0.]))"
      ]
     },
     "execution_count": 10,
     "metadata": {},
     "output_type": "execute_result"
    }
   ],
   "source": [
    "# Turn data into tensors\n",
    "X = torch.from_numpy(X).type(torch.float)\n",
    "y = torch.from_numpy(y).type(torch.float)\n",
    "\n",
    "X[:5], y[:5]"
   ]
  },
  {
   "cell_type": "code",
   "execution_count": 11,
   "id": "f8624f75",
   "metadata": {
    "execution": {
     "iopub.execute_input": "2023-07-18T16:46:49.075363Z",
     "iopub.status.busy": "2023-07-18T16:46:49.074928Z",
     "iopub.status.idle": "2023-07-18T16:46:49.090041Z",
     "shell.execute_reply": "2023-07-18T16:46:49.085797Z"
    },
    "papermill": {
     "duration": 0.043153,
     "end_time": "2023-07-18T16:46:49.094614",
     "exception": false,
     "start_time": "2023-07-18T16:46:49.051461",
     "status": "completed"
    },
    "tags": []
   },
   "outputs": [
    {
     "data": {
      "text/plain": [
       "(torch.Tensor, torch.float32, torch.float32)"
      ]
     },
     "execution_count": 11,
     "metadata": {},
     "output_type": "execute_result"
    }
   ],
   "source": [
    "type(X), X.dtype, y.dtype"
   ]
  },
  {
   "cell_type": "code",
   "execution_count": 12,
   "id": "2473a046",
   "metadata": {
    "execution": {
     "iopub.execute_input": "2023-07-18T16:46:49.133706Z",
     "iopub.status.busy": "2023-07-18T16:46:49.133206Z",
     "iopub.status.idle": "2023-07-18T16:46:49.252533Z",
     "shell.execute_reply": "2023-07-18T16:46:49.251467Z"
    },
    "papermill": {
     "duration": 0.141311,
     "end_time": "2023-07-18T16:46:49.255507",
     "exception": false,
     "start_time": "2023-07-18T16:46:49.114196",
     "status": "completed"
    },
    "tags": []
   },
   "outputs": [],
   "source": [
    "# Spliting data \n",
    "from sklearn.model_selection import train_test_split\n",
    "\n",
    "X_train, X_test, y_train, y_test = train_test_split(X, \n",
    "                                                   y,\n",
    "                                                  test_size=0.2,\n",
    "                                                  random_state=42)"
   ]
  },
  {
   "cell_type": "code",
   "execution_count": 13,
   "id": "00415e19",
   "metadata": {
    "execution": {
     "iopub.execute_input": "2023-07-18T16:46:49.300384Z",
     "iopub.status.busy": "2023-07-18T16:46:49.299995Z",
     "iopub.status.idle": "2023-07-18T16:46:49.310027Z",
     "shell.execute_reply": "2023-07-18T16:46:49.309142Z"
    },
    "papermill": {
     "duration": 0.032466,
     "end_time": "2023-07-18T16:46:49.312723",
     "exception": false,
     "start_time": "2023-07-18T16:46:49.280257",
     "status": "completed"
    },
    "tags": []
   },
   "outputs": [
    {
     "data": {
      "text/plain": [
       "(800, 200, 800, 200)"
      ]
     },
     "execution_count": 13,
     "metadata": {},
     "output_type": "execute_result"
    }
   ],
   "source": [
    "len(X_train), len(X_test), len(y_train), len(y_test)"
   ]
  },
  {
   "cell_type": "markdown",
   "id": "f2ccbce7",
   "metadata": {
    "papermill": {
     "duration": 0.017582,
     "end_time": "2023-07-18T16:46:49.348397",
     "exception": false,
     "start_time": "2023-07-18T16:46:49.330815",
     "status": "completed"
    },
    "tags": []
   },
   "source": [
    "## 2. Building a model\n",
    "\n",
    "Bulding a model to clssify blue and red dots.\n",
    "\n",
    "to do so, we want to:\n",
    "1. Setup device agnostic code so our code will run on accelerator if there is one\n",
    "2. Construct a model (by subclass `nn.Module`)\n",
    "3. Define a loss function and optimizer\n",
    "4. Create a training and testing"
   ]
  },
  {
   "cell_type": "code",
   "execution_count": 14,
   "id": "745083e0",
   "metadata": {
    "execution": {
     "iopub.execute_input": "2023-07-18T16:46:49.385241Z",
     "iopub.status.busy": "2023-07-18T16:46:49.384868Z",
     "iopub.status.idle": "2023-07-18T16:46:49.521817Z",
     "shell.execute_reply": "2023-07-18T16:46:49.520932Z"
    },
    "papermill": {
     "duration": 0.161184,
     "end_time": "2023-07-18T16:46:49.527195",
     "exception": false,
     "start_time": "2023-07-18T16:46:49.366011",
     "status": "completed"
    },
    "tags": []
   },
   "outputs": [
    {
     "data": {
      "text/plain": [
       "'cuda'"
      ]
     },
     "execution_count": 14,
     "metadata": {},
     "output_type": "execute_result"
    }
   ],
   "source": [
    "# Import PyTorch and nn\n",
    "import torch\n",
    "import torch.nn as nn\n",
    "\n",
    "# Make device agnostic code\n",
    "device = 'cuda' if torch.cuda.is_available() else 'cpu'\n",
    "device"
   ]
  },
  {
   "cell_type": "markdown",
   "id": "9e834ff5",
   "metadata": {
    "papermill": {
     "duration": 0.018332,
     "end_time": "2023-07-18T16:46:49.564283",
     "exception": false,
     "start_time": "2023-07-18T16:46:49.545951",
     "status": "completed"
    },
    "tags": []
   },
   "source": [
    "Now we create a model:\n",
    "\n",
    "1. Subclasses `nn.Module`\n",
    "2. Create 2 `nn.Linear()`\n",
    "3. Define a `forward()` defines forwar computation of model\n",
    "4. Instantiate a instance of model and send it to target `device`"
   ]
  },
  {
   "cell_type": "code",
   "execution_count": 15,
   "id": "165df3a4",
   "metadata": {
    "execution": {
     "iopub.execute_input": "2023-07-18T16:46:49.605008Z",
     "iopub.status.busy": "2023-07-18T16:46:49.604697Z",
     "iopub.status.idle": "2023-07-18T16:46:52.843097Z",
     "shell.execute_reply": "2023-07-18T16:46:52.841990Z"
    },
    "papermill": {
     "duration": 3.262799,
     "end_time": "2023-07-18T16:46:52.845720",
     "exception": false,
     "start_time": "2023-07-18T16:46:49.582921",
     "status": "completed"
    },
    "tags": []
   },
   "outputs": [],
   "source": [
    "# 1. Construct a subclass nn.Module\n",
    "class CircleModelV0(nn.Module):\n",
    "    def __init__(self):\n",
    "        super().__init__()\n",
    "        self.layer_1 = nn.Linear(in_features=2,\n",
    "                                out_features=5)\n",
    "        self.layer_2 = nn.Linear(in_features=5,\n",
    "                                out_features=1)\n",
    "        '''self.two_linear_layers = nn.Sequential(\n",
    "        nn.Linear(in_features=2, out_features=5),\n",
    "        nn.Linear(in_features=5, out_features=1))'''\n",
    "        \n",
    "    def forward(self, X: torch.Tensor) -> torch.Tensor:\n",
    "        return self.layer_2(self.layer_1(X))\n",
    "    \n",
    "model_0 = CircleModelV0().to(device)"
   ]
  },
  {
   "cell_type": "code",
   "execution_count": 16,
   "id": "20b0460c",
   "metadata": {
    "execution": {
     "iopub.execute_input": "2023-07-18T16:46:52.873895Z",
     "iopub.status.busy": "2023-07-18T16:46:52.873078Z",
     "iopub.status.idle": "2023-07-18T16:46:52.879651Z",
     "shell.execute_reply": "2023-07-18T16:46:52.878567Z"
    },
    "papermill": {
     "duration": 0.022529,
     "end_time": "2023-07-18T16:46:52.881715",
     "exception": false,
     "start_time": "2023-07-18T16:46:52.859186",
     "status": "completed"
    },
    "tags": []
   },
   "outputs": [
    {
     "data": {
      "text/plain": [
       "<bound method Module.parameters of CircleModelV0(\n",
       "  (layer_1): Linear(in_features=2, out_features=5, bias=True)\n",
       "  (layer_2): Linear(in_features=5, out_features=1, bias=True)\n",
       ")>"
      ]
     },
     "execution_count": 16,
     "metadata": {},
     "output_type": "execute_result"
    }
   ],
   "source": [
    "model_0.parameters"
   ]
  },
  {
   "cell_type": "code",
   "execution_count": 17,
   "id": "cf23d1b2",
   "metadata": {
    "execution": {
     "iopub.execute_input": "2023-07-18T16:46:52.909162Z",
     "iopub.status.busy": "2023-07-18T16:46:52.908363Z",
     "iopub.status.idle": "2023-07-18T16:46:52.914713Z",
     "shell.execute_reply": "2023-07-18T16:46:52.913733Z"
    },
    "papermill": {
     "duration": 0.022234,
     "end_time": "2023-07-18T16:46:52.916809",
     "exception": false,
     "start_time": "2023-07-18T16:46:52.894575",
     "status": "completed"
    },
    "tags": []
   },
   "outputs": [
    {
     "data": {
      "text/plain": [
       "device(type='cuda', index=0)"
      ]
     },
     "execution_count": 17,
     "metadata": {},
     "output_type": "execute_result"
    }
   ],
   "source": [
    "next(model_0.parameters()).device"
   ]
  },
  {
   "cell_type": "code",
   "execution_count": 18,
   "id": "edc73a32",
   "metadata": {
    "execution": {
     "iopub.execute_input": "2023-07-18T16:46:52.944073Z",
     "iopub.status.busy": "2023-07-18T16:46:52.943551Z",
     "iopub.status.idle": "2023-07-18T16:46:52.951468Z",
     "shell.execute_reply": "2023-07-18T16:46:52.950420Z"
    },
    "papermill": {
     "duration": 0.023647,
     "end_time": "2023-07-18T16:46:52.953434",
     "exception": false,
     "start_time": "2023-07-18T16:46:52.929787",
     "status": "completed"
    },
    "tags": []
   },
   "outputs": [
    {
     "data": {
      "text/plain": [
       "Sequential(\n",
       "  (0): Linear(in_features=2, out_features=5, bias=True)\n",
       "  (1): Linear(in_features=5, out_features=1, bias=True)\n",
       ")"
      ]
     },
     "execution_count": 18,
     "metadata": {},
     "output_type": "execute_result"
    }
   ],
   "source": [
    "# replicate model using nn.Sequential\n",
    "model_0 = nn.Sequential(\n",
    "        nn.Linear(in_features=2, out_features=5),\n",
    "        nn.Linear(in_features=5, out_features=1)).to(device)\n",
    "\n",
    "model_0"
   ]
  },
  {
   "cell_type": "code",
   "execution_count": 19,
   "id": "0f4fc1f3",
   "metadata": {
    "execution": {
     "iopub.execute_input": "2023-07-18T16:46:52.980995Z",
     "iopub.status.busy": "2023-07-18T16:46:52.980161Z",
     "iopub.status.idle": "2023-07-18T16:46:53.020611Z",
     "shell.execute_reply": "2023-07-18T16:46:53.019653Z"
    },
    "papermill": {
     "duration": 0.056244,
     "end_time": "2023-07-18T16:46:53.022603",
     "exception": false,
     "start_time": "2023-07-18T16:46:52.966359",
     "status": "completed"
    },
    "tags": []
   },
   "outputs": [
    {
     "data": {
      "text/plain": [
       "OrderedDict([('0.weight',\n",
       "              tensor([[-0.4644,  0.6218],\n",
       "                      [-0.4969,  0.0248],\n",
       "                      [-0.2077,  0.3107],\n",
       "                      [-0.3608, -0.3399],\n",
       "                      [-0.2950,  0.3649]], device='cuda:0')),\n",
       "             ('0.bias',\n",
       "              tensor([ 0.0646, -0.3543,  0.0429, -0.6027, -0.5245], device='cuda:0')),\n",
       "             ('1.weight',\n",
       "              tensor([[ 0.3505, -0.2451, -0.1052,  0.1052, -0.1619]], device='cuda:0')),\n",
       "             ('1.bias', tensor([-0.3757], device='cuda:0'))])"
      ]
     },
     "execution_count": 19,
     "metadata": {},
     "output_type": "execute_result"
    }
   ],
   "source": [
    "model_0.state_dict()"
   ]
  },
  {
   "cell_type": "code",
   "execution_count": 20,
   "id": "656a6f88",
   "metadata": {
    "execution": {
     "iopub.execute_input": "2023-07-18T16:46:53.050656Z",
     "iopub.status.busy": "2023-07-18T16:46:53.049796Z",
     "iopub.status.idle": "2023-07-18T16:46:53.056168Z",
     "shell.execute_reply": "2023-07-18T16:46:53.055183Z"
    },
    "papermill": {
     "duration": 0.022446,
     "end_time": "2023-07-18T16:46:53.058167",
     "exception": false,
     "start_time": "2023-07-18T16:46:53.035721",
     "status": "completed"
    },
    "tags": []
   },
   "outputs": [
    {
     "data": {
      "text/plain": [
       "'print(f\"Length of predictions: {len(untrained_preds)}, Shape: {untrained_preds.shape}\")\\nprint(f\"Length of test samples: {len(X_test)}, Shape: {X_test.shape}\")'"
      ]
     },
     "execution_count": 20,
     "metadata": {},
     "output_type": "execute_result"
    }
   ],
   "source": [
    "# Make predctions\n",
    "'''model_0.eval()\n",
    "with torch.inference_mode():\n",
    "    untrained_preds = model_0(X_test.to(device))\n",
    "binary_preds = (untrained_preds > 0.5).float() '''\n",
    "    \n",
    "'''print(f\"Length of predictions: {len(untrained_preds)}, Shape: {untrained_preds.shape}\")\n",
    "print(f\"Length of test samples: {len(X_test)}, Shape: {X_test.shape}\")'''"
   ]
  },
  {
   "cell_type": "code",
   "execution_count": 21,
   "id": "1a0dd21d",
   "metadata": {
    "execution": {
     "iopub.execute_input": "2023-07-18T16:46:53.086789Z",
     "iopub.status.busy": "2023-07-18T16:46:53.085954Z",
     "iopub.status.idle": "2023-07-18T16:46:53.091699Z",
     "shell.execute_reply": "2023-07-18T16:46:53.090755Z"
    },
    "papermill": {
     "duration": 0.021933,
     "end_time": "2023-07-18T16:46:53.093612",
     "exception": false,
     "start_time": "2023-07-18T16:46:53.071679",
     "status": "completed"
    },
    "tags": []
   },
   "outputs": [
    {
     "data": {
      "text/plain": [
       "'plt.scatter(x=X_test[:, 0],\\n            y=X_test[:, 1],\\n            c=binary_preds.to(\"cpu\"),\\n            cmap=plt.cm.RdYlBu);'"
      ]
     },
     "execution_count": 21,
     "metadata": {},
     "output_type": "execute_result"
    }
   ],
   "source": [
    "'''plt.scatter(x=X_test[:, 0],\n",
    "            y=X_test[:, 1],\n",
    "            c=binary_preds.to(\"cpu\"),\n",
    "            cmap=plt.cm.RdYlBu);'''"
   ]
  },
  {
   "cell_type": "markdown",
   "id": "849403a9",
   "metadata": {
    "papermill": {
     "duration": 0.01396,
     "end_time": "2023-07-18T16:46:53.121586",
     "exception": false,
     "start_time": "2023-07-18T16:46:53.107626",
     "status": "completed"
    },
    "tags": []
   },
   "source": [
    "### 2.1 Setup loss function and optimizer\n",
    "\n",
    "Choosing loss fn and optimizer\n",
    "\n",
    "For Regression: MAE or MSE (Mean Absolute Error or Mean Squared Error)\n",
    "\n",
    "For classification: Binary Cross entropy or Categorical Cross Entropy.\n",
    "\n",
    "For Optimizer: We may use SGD and Adam\n",
    "\n",
    "For calculating loss we are using `torch.nn.BCEwithLogitsLoss()`\n",
    "\n",
    "ref - \n",
    "* https://www.learnpytorch.io/02_pytorch_classification/\n",
    "* https://pytorch.org/docs/stable/nn.html#loss-functions\n",
    "* https://pytorch.org/docs/stable/optim.html"
   ]
  },
  {
   "cell_type": "code",
   "execution_count": 22,
   "id": "e260dff3",
   "metadata": {
    "execution": {
     "iopub.execute_input": "2023-07-18T16:46:53.150763Z",
     "iopub.status.busy": "2023-07-18T16:46:53.150325Z",
     "iopub.status.idle": "2023-07-18T16:46:53.155001Z",
     "shell.execute_reply": "2023-07-18T16:46:53.154135Z"
    },
    "papermill": {
     "duration": 0.021552,
     "end_time": "2023-07-18T16:46:53.156978",
     "exception": false,
     "start_time": "2023-07-18T16:46:53.135426",
     "status": "completed"
    },
    "tags": []
   },
   "outputs": [],
   "source": [
    "# Setup loss function\n",
    "#loss_fn = nn.BCELoss() # BCELoss = requires inputs to have gone through the sigmoid activation function prior toimput to BCELoss\n",
    "'''nn.Sequential(\n",
    "    nn.Sigmoid(),\n",
    "    nn.BCELoss()\n",
    ")'''\n",
    "loss_fn = nn.BCEWithLogitsLoss() # BCEWithLogitsLoss = sigmoid ativation function built-in\n",
    "\n",
    "optimizer = torch.optim.SGD(params=model_0.parameters(),\n",
    "                        lr=0.1)"
   ]
  },
  {
   "cell_type": "code",
   "execution_count": 23,
   "id": "7e8fc946",
   "metadata": {
    "execution": {
     "iopub.execute_input": "2023-07-18T16:46:53.185950Z",
     "iopub.status.busy": "2023-07-18T16:46:53.184717Z",
     "iopub.status.idle": "2023-07-18T16:46:53.189767Z",
     "shell.execute_reply": "2023-07-18T16:46:53.188938Z"
    },
    "papermill": {
     "duration": 0.021329,
     "end_time": "2023-07-18T16:46:53.191692",
     "exception": false,
     "start_time": "2023-07-18T16:46:53.170363",
     "status": "completed"
    },
    "tags": []
   },
   "outputs": [],
   "source": [
    "# Calculate Accuracy - out of 100 correct prediction was made in percent\n",
    "def accuracy_fn(y_true, y_pred):\n",
    "    correct = torch.eq(y_true, y_pred).sum().item()\n",
    "    acc = (correct/len(y_pred)) * 100\n",
    "    return acc"
   ]
  },
  {
   "cell_type": "markdown",
   "id": "a32cf990",
   "metadata": {
    "papermill": {
     "duration": 0.013282,
     "end_time": "2023-07-18T16:46:53.218247",
     "exception": false,
     "start_time": "2023-07-18T16:46:53.204965",
     "status": "completed"
    },
    "tags": []
   },
   "source": [
    "## 3. Train Model\n",
    "\n",
    "1. Forward pass\n",
    "2. Calculate the loss\n",
    "3. Optimizer zero grad\n",
    "4. Loss backward (backward propogation)\n",
    "5. Optimizer step (gradient descent)"
   ]
  },
  {
   "cell_type": "markdown",
   "id": "b3a4cb9c",
   "metadata": {
    "papermill": {
     "duration": 0.013953,
     "end_time": "2023-07-18T16:46:53.246150",
     "exception": false,
     "start_time": "2023-07-18T16:46:53.232197",
     "status": "completed"
    },
    "tags": []
   },
   "source": [
    "### 3.1 Goining from raw logits -> prediction probabiites -> predictin labels\n",
    "\n",
    "Our Model outputs are going to raw **logits**\n",
    "\n",
    "we can convert **logits** into prediction probailities by pasing them to some kind of activation funcation (e.g. sigmoid for binary corssentropy and softmax for multiclass classification).\n",
    "\n",
    "then we can covert Prediction probabilities to **prediction labels** by either rounding them or takng the `argmax()`."
   ]
  },
  {
   "cell_type": "code",
   "execution_count": 24,
   "id": "89c79c29",
   "metadata": {
    "execution": {
     "iopub.execute_input": "2023-07-18T16:46:53.275997Z",
     "iopub.status.busy": "2023-07-18T16:46:53.275256Z",
     "iopub.status.idle": "2023-07-18T16:46:55.909603Z",
     "shell.execute_reply": "2023-07-18T16:46:55.908534Z"
    },
    "papermill": {
     "duration": 2.651573,
     "end_time": "2023-07-18T16:46:55.911961",
     "exception": false,
     "start_time": "2023-07-18T16:46:53.260388",
     "status": "completed"
    },
    "tags": []
   },
   "outputs": [
    {
     "data": {
      "text/plain": [
       "tensor([[-0.1882],\n",
       "        [-0.1684],\n",
       "        [-0.2692],\n",
       "        [-0.1651],\n",
       "        [-0.3157]], device='cuda:0')"
      ]
     },
     "execution_count": 24,
     "metadata": {},
     "output_type": "execute_result"
    }
   ],
   "source": [
    "# Veiw the first 5 outputs of forwardpass on test deta\n",
    "\n",
    "model_0.eval()\n",
    "with torch.inference_mode():\n",
    "    y_logits = model_0(X_test.to(device))[:5]\n",
    "y_logits"
   ]
  },
  {
   "cell_type": "code",
   "execution_count": 25,
   "id": "7c6c0cf8",
   "metadata": {
    "execution": {
     "iopub.execute_input": "2023-07-18T16:46:55.941285Z",
     "iopub.status.busy": "2023-07-18T16:46:55.940987Z",
     "iopub.status.idle": "2023-07-18T16:46:55.949189Z",
     "shell.execute_reply": "2023-07-18T16:46:55.948168Z"
    },
    "papermill": {
     "duration": 0.025443,
     "end_time": "2023-07-18T16:46:55.951627",
     "exception": false,
     "start_time": "2023-07-18T16:46:55.926184",
     "status": "completed"
    },
    "tags": []
   },
   "outputs": [
    {
     "data": {
      "text/plain": [
       "tensor([[0.4531],\n",
       "        [0.4580],\n",
       "        [0.4331],\n",
       "        [0.4588],\n",
       "        [0.4217]], device='cuda:0')"
      ]
     },
     "execution_count": 25,
     "metadata": {},
     "output_type": "execute_result"
    }
   ],
   "source": [
    "# Use sigmoid activation functions on our model logits to turn them into predictions probabilites\n",
    "y_pred_proba = torch.sigmoid(y_logits)\n",
    "y_pred_proba"
   ]
  },
  {
   "cell_type": "markdown",
   "id": "11761b2e",
   "metadata": {
    "execution": {
     "iopub.execute_input": "2023-07-18T15:31:39.849927Z",
     "iopub.status.busy": "2023-07-18T15:31:39.849249Z",
     "iopub.status.idle": "2023-07-18T15:31:39.858320Z",
     "shell.execute_reply": "2023-07-18T15:31:39.856422Z",
     "shell.execute_reply.started": "2023-07-18T15:31:39.849893Z"
    },
    "papermill": {
     "duration": 0.013538,
     "end_time": "2023-07-18T16:46:55.979030",
     "exception": false,
     "start_time": "2023-07-18T16:46:55.965492",
     "status": "completed"
    },
    "tags": []
   },
   "source": [
    "For our predicitons probabilites values, we need to perform a range-style rounding on them:\n",
    "    \n",
    "* `y_pred_proba` >= 0.5, `y=1` (class 1)\n",
    "* `y_pred_proba` < 0.5, `y=0` (class 0)"
   ]
  },
  {
   "cell_type": "code",
   "execution_count": 26,
   "id": "5b429e22",
   "metadata": {
    "execution": {
     "iopub.execute_input": "2023-07-18T16:46:56.007697Z",
     "iopub.status.busy": "2023-07-18T16:46:56.007404Z",
     "iopub.status.idle": "2023-07-18T16:46:56.016698Z",
     "shell.execute_reply": "2023-07-18T16:46:56.015638Z"
    },
    "papermill": {
     "duration": 0.026246,
     "end_time": "2023-07-18T16:46:56.018917",
     "exception": false,
     "start_time": "2023-07-18T16:46:55.992671",
     "status": "completed"
    },
    "tags": []
   },
   "outputs": [
    {
     "data": {
      "text/plain": [
       "tensor([[0.],\n",
       "        [0.],\n",
       "        [0.],\n",
       "        [0.],\n",
       "        [0.]], device='cuda:0')"
      ]
     },
     "execution_count": 26,
     "metadata": {},
     "output_type": "execute_result"
    }
   ],
   "source": [
    "# find the predicted labels\n",
    "Y_preds = torch.round(y_pred_proba)\n",
    "Y_preds"
   ]
  },
  {
   "cell_type": "code",
   "execution_count": 27,
   "id": "9803998e",
   "metadata": {
    "execution": {
     "iopub.execute_input": "2023-07-18T16:46:56.047632Z",
     "iopub.status.busy": "2023-07-18T16:46:56.047351Z",
     "iopub.status.idle": "2023-07-18T16:46:56.054575Z",
     "shell.execute_reply": "2023-07-18T16:46:56.053421Z"
    },
    "papermill": {
     "duration": 0.023999,
     "end_time": "2023-07-18T16:46:56.056698",
     "exception": false,
     "start_time": "2023-07-18T16:46:56.032699",
     "status": "completed"
    },
    "tags": []
   },
   "outputs": [
    {
     "name": "stdout",
     "output_type": "stream",
     "text": [
      "tensor([False,  True, False,  True, False], device='cuda:0')\n"
     ]
    }
   ],
   "source": [
    "# Checikng for equality \n",
    "print(torch.eq(Y_preds.squeeze(),y_test[:5].squeeze().to(device)))"
   ]
  },
  {
   "cell_type": "markdown",
   "id": "d7bd1bda",
   "metadata": {
    "papermill": {
     "duration": 0.014553,
     "end_time": "2023-07-18T16:46:56.084971",
     "exception": false,
     "start_time": "2023-07-18T16:46:56.070418",
     "status": "completed"
    },
    "tags": []
   },
   "source": [
    "### 3.2 Building a training and testing loop"
   ]
  },
  {
   "cell_type": "code",
   "execution_count": 28,
   "id": "59f20726",
   "metadata": {
    "execution": {
     "iopub.execute_input": "2023-07-18T16:46:56.114208Z",
     "iopub.status.busy": "2023-07-18T16:46:56.113932Z",
     "iopub.status.idle": "2023-07-18T16:46:56.312019Z",
     "shell.execute_reply": "2023-07-18T16:46:56.311076Z"
    },
    "papermill": {
     "duration": 0.214945,
     "end_time": "2023-07-18T16:46:56.314150",
     "exception": false,
     "start_time": "2023-07-18T16:46:56.099205",
     "status": "completed"
    },
    "tags": []
   },
   "outputs": [
    {
     "name": "stdout",
     "output_type": "stream",
     "text": [
      "Epoch: 0 | Loss: 0.70092%, Acc: 50.00% | Test loss: 0.70189, Test acc: 50.00%\n",
      "Epoch: 10 | Loss: 0.69581%, Acc: 50.00% | Test loss: 0.69777, Test acc: 50.00%\n",
      "Epoch: 20 | Loss: 0.69401%, Acc: 47.62% | Test loss: 0.69642, Test acc: 44.00%\n",
      "Epoch: 30 | Loss: 0.69339%, Acc: 46.75% | Test loss: 0.69598, Test acc: 47.00%\n",
      "Epoch: 40 | Loss: 0.69318%, Acc: 49.00% | Test loss: 0.69584, Test acc: 46.00%\n",
      "Epoch: 50 | Loss: 0.69310%, Acc: 49.75% | Test loss: 0.69577, Test acc: 47.00%\n",
      "Epoch: 60 | Loss: 0.69306%, Acc: 50.12% | Test loss: 0.69572, Test acc: 46.00%\n",
      "Epoch: 70 | Loss: 0.69305%, Acc: 50.38% | Test loss: 0.69567, Test acc: 46.50%\n",
      "Epoch: 80 | Loss: 0.69304%, Acc: 50.38% | Test loss: 0.69563, Test acc: 46.00%\n",
      "Epoch: 90 | Loss: 0.69303%, Acc: 50.75% | Test loss: 0.69558, Test acc: 46.00%\n"
     ]
    }
   ],
   "source": [
    "torch.manual_seed(42)\n",
    "torch.cuda.manual_seed(42)\n",
    "\n",
    "# Set no. of epochs\n",
    "EPOCHS = 100\n",
    "\n",
    "# Put dta to target device\n",
    "X_train, y_train = X_train.to(device), y_train.to(device)\n",
    "X_test, y_test = X_test.to(device), y_test.to(device)\n",
    "\n",
    "for epoch in range(EPOCHS):\n",
    "    \n",
    "    #Training\n",
    "    model_0.train()\n",
    "    \n",
    "    # 1. Forward pass\n",
    "    y_logits = model_0(X_train).squeeze()\n",
    "    y_pred = torch.round(torch.sigmoid(y_logits)) # logits -> pred proba _ pred labels\n",
    "    \n",
    "    # 2. Calculate the loss \n",
    "    #loss = loss_fn(torch.sigmoid(y_logits)) #nn.BCELoss expects predction probablities\n",
    "    \n",
    "    loss = loss_fn(y_logits, #nn.BCEWithLogits expects raw logits as input\n",
    "                   y_train) \n",
    "    \n",
    "    acc = accuracy_fn(y_true=y_train,\n",
    "                     y_pred=y_pred)\n",
    "    \n",
    "    # 3. Optimizer xero grad\n",
    "    optimizer.zero_grad()\n",
    "    \n",
    "    # 4. loss backward\n",
    "    loss.backward()\n",
    "    \n",
    "    # 5. Optimizer step (gradient descent)\n",
    "    optimizer.step()\n",
    "    \n",
    "    ### testing\n",
    "    model_0.eval()\n",
    "    with torch.inference_mode():\n",
    "        \n",
    "        # 1. Forward pass\n",
    "        test_logits = model_0(X_test).squeeze()\n",
    "        test_pred = torch.round(torch.sigmoid(test_logits))\n",
    "        \n",
    "        # 2. Calculate test loss/acc\n",
    "        test_loss = loss_fn(test_logits,\n",
    "                           y_test)\n",
    "        test_acc = accuracy_fn(y_true=y_test,\n",
    "                              y_pred=test_pred)\n",
    "    \n",
    "    # Print out Results\n",
    "    if  epoch % 10 == 0:\n",
    "        print(f\"Epoch: {epoch} | Loss: {loss:.5f}%, Acc: {acc:.2f}% | Test loss: {test_loss:.5f}, Test acc: {test_acc:.2f}%\")\n",
    "    "
   ]
  },
  {
   "cell_type": "markdown",
   "id": "b370a5d2",
   "metadata": {
    "papermill": {
     "duration": 0.013995,
     "end_time": "2023-07-18T16:46:56.342710",
     "exception": false,
     "start_time": "2023-07-18T16:46:56.328715",
     "status": "completed"
    },
    "tags": []
   },
   "source": [
    "## 4. Make Predictions adn evaluate the model\n",
    "\n",
    "From metrics it looks like our model isnt learning anything\n",
    "\n",
    "So to inspect it lets make predictions and visualize them\n",
    "\n",
    "to do so, we're going to import a function called `plot_descision_boundary()`\n",
    "\n",
    "ref - \n",
    "* https://github.com/mrdbourke/pytorch-deep-learning/blob/main/helper_functions.py"
   ]
  },
  {
   "cell_type": "code",
   "execution_count": 29,
   "id": "bfc408d8",
   "metadata": {
    "execution": {
     "iopub.execute_input": "2023-07-18T16:46:56.372276Z",
     "iopub.status.busy": "2023-07-18T16:46:56.371974Z",
     "iopub.status.idle": "2023-07-18T16:46:56.783092Z",
     "shell.execute_reply": "2023-07-18T16:46:56.782136Z"
    },
    "papermill": {
     "duration": 0.428762,
     "end_time": "2023-07-18T16:46:56.785630",
     "exception": false,
     "start_time": "2023-07-18T16:46:56.356868",
     "status": "completed"
    },
    "tags": []
   },
   "outputs": [
    {
     "name": "stdout",
     "output_type": "stream",
     "text": [
      "Downloading file\n"
     ]
    }
   ],
   "source": [
    "import requests\n",
    "from pathlib import Path\n",
    "\n",
    "# Download helper functons from Learn PyTorch repo if doesnt present\n",
    "if Path('helper_functions.py').is_file():\n",
    "    print(\"File is present, skip download\")\n",
    "else:\n",
    "    print('Downloading file')\n",
    "    request = requests.get(\"https://raw.githubusercontent.com/mrdbourke/pytorch-deep-learning/main/helper_functions.py\")\n",
    "    with open(\"helper_functions.py\",\"wb\") as f:\n",
    "        f.write(request.content)\n",
    "        \n",
    "from helper_functions import plot_predictions, plot_decision_boundary"
   ]
  },
  {
   "cell_type": "code",
   "execution_count": 30,
   "id": "daa71e5a",
   "metadata": {
    "execution": {
     "iopub.execute_input": "2023-07-18T16:46:56.816020Z",
     "iopub.status.busy": "2023-07-18T16:46:56.815217Z",
     "iopub.status.idle": "2023-07-18T16:46:57.569525Z",
     "shell.execute_reply": "2023-07-18T16:46:57.568542Z"
    },
    "papermill": {
     "duration": 0.772677,
     "end_time": "2023-07-18T16:46:57.572800",
     "exception": false,
     "start_time": "2023-07-18T16:46:56.800123",
     "status": "completed"
    },
    "tags": []
   },
   "outputs": [
    {
     "data": {
      "image/png": "[encoded data removed]",
      "text/plain": [
       "<Figure size 1200x600 with 2 Axes>"
      ]
     },
     "metadata": {},
     "output_type": "display_data"
    }
   ],
   "source": [
    "# Plot descision boundary of model\n",
    "plt.figure(figsize=(12, 6))\n",
    "plt.subplot(1,2,1)\n",
    "plt.title(\"Train\")\n",
    "plot_decision_boundary(model_0, X_train, y_train)\n",
    "plt.subplot(1,2,2)\n",
    "plt.title(\"Test\")\n",
    "plot_decision_boundary(model_0, X_test, y_test)"
   ]
  },
  {
   "cell_type": "code",
   "execution_count": null,
   "id": "2659ef40",
   "metadata": {
    "papermill": {
     "duration": 0.016138,
     "end_time": "2023-07-18T16:46:57.605689",
     "exception": false,
     "start_time": "2023-07-18T16:46:57.589551",
     "status": "completed"
    },
    "tags": []
   },
   "outputs": [],
   "source": []
  }
 ],
 "metadata": {
  "kernelspec": {
   "display_name": "Python 3",
   "language": "python",
   "name": "python3"
  },
  "language_info": {
   "codemirror_mode": {
    "name": "ipython",
    "version": 3
   },
   "file_extension": ".py",
   "mimetype": "text/x-python",
   "name": "python",
   "nbconvert_exporter": "python",
   "pygments_lexer": "ipython3",
   "version": "3.10.12"
  },
  "papermill": {
   "default_parameters": {},
   "duration": 26.854485,
   "end_time": "2023-07-18T16:46:59.447759",
   "environment_variables": {},
   "exception": null,
   "input_path": "__notebook__.ipynb",
   "output_path": "__notebook__.ipynb",
   "parameters": {},
   "start_time": "2023-07-18T16:46:32.593274",
   "version": "2.4.0"
  }
 },
 "nbformat": 4,
 "nbformat_minor": 5
}
