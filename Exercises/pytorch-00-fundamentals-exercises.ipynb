{
 "cells": [
  {
   "cell_type": "markdown",
   "id": "67eb30f7",
   "metadata": {
    "id": "AzDBM_v4iMe7",
    "papermill": {
     "duration": 0.006679,
     "end_time": "2023-06-30T07:06:02.259439",
     "exception": false,
     "start_time": "2023-06-30T07:06:02.252760",
     "status": "completed"
    },
    "tags": []
   },
   "source": [
    "# 00. PyTorch Fundamentals Exercises\n",
    "\n",
    "### 1. Documentation reading \n",
    "\n",
    "A big part of deep learning (and learning to code in general) is getting familiar with the documentation of a certain framework you're using. We'll be using the PyTorch documentation a lot throughout the rest of this course. So I'd recommend spending 10-minutes reading the following (it's okay if you don't get some things for now, the focus is not yet full understanding, it's awareness):\n",
    "  * The documentation on [`torch.Tensor`](https://pytorch.org/docs/stable/tensors.html#torch-tensor).\n",
    "  * The documentation on [`torch.cuda`](https://pytorch.org/docs/master/notes/cuda.html#cuda-semantics).\n",
    "\n"
   ]
  },
  {
   "cell_type": "code",
   "execution_count": 1,
   "id": "00a63631",
   "metadata": {
    "execution": {
     "iopub.execute_input": "2023-06-30T07:06:02.272644Z",
     "iopub.status.busy": "2023-06-30T07:06:02.272312Z",
     "iopub.status.idle": "2023-06-30T07:06:02.276796Z",
     "shell.execute_reply": "2023-06-30T07:06:02.276037Z"
    },
    "id": "bGD0oD8Kizak",
    "papermill": {
     "duration": 0.020998,
     "end_time": "2023-06-30T07:06:02.286529",
     "exception": false,
     "start_time": "2023-06-30T07:06:02.265531",
     "status": "completed"
    },
    "tags": []
   },
   "outputs": [],
   "source": [
    "# No code solution (reading)"
   ]
  },
  {
   "cell_type": "markdown",
   "id": "390d0a5b",
   "metadata": {
    "id": "__iXqqz-ioUJ",
    "papermill": {
     "duration": 0.005652,
     "end_time": "2023-06-30T07:06:02.298192",
     "exception": false,
     "start_time": "2023-06-30T07:06:02.292540",
     "status": "completed"
    },
    "tags": []
   },
   "source": [
    "### 2. Create a random tensor with shape `(7, 7)`.\n"
   ]
  },
  {
   "cell_type": "code",
   "execution_count": 2,
   "id": "49c4a119",
   "metadata": {
    "execution": {
     "iopub.execute_input": "2023-06-30T07:06:02.311345Z",
     "iopub.status.busy": "2023-06-30T07:06:02.311030Z",
     "iopub.status.idle": "2023-06-30T07:06:02.314561Z",
     "shell.execute_reply": "2023-06-30T07:06:02.313795Z"
    },
    "id": "6pUq9Dc8i2L7",
    "papermill": {
     "duration": 0.013864,
     "end_time": "2023-06-30T07:06:02.318246",
     "exception": false,
     "start_time": "2023-06-30T07:06:02.304382",
     "status": "completed"
    },
    "tags": []
   },
   "outputs": [],
   "source": [
    "# Import torch\n",
    "\n",
    "\n",
    "# Create random tensor\n"
   ]
  },
  {
   "cell_type": "markdown",
   "id": "5029958f",
   "metadata": {
    "id": "9-XxvRLfiqkR",
    "papermill": {
     "duration": 0.005747,
     "end_time": "2023-06-30T07:06:02.330456",
     "exception": false,
     "start_time": "2023-06-30T07:06:02.324709",
     "status": "completed"
    },
    "tags": []
   },
   "source": [
    "### 3. Perform a matrix multiplication on the tensor from 2 with another random tensor with shape `(1, 7)` (hint: you may have to transpose the second tensor)."
   ]
  },
  {
   "cell_type": "code",
   "execution_count": 3,
   "id": "df392f6a",
   "metadata": {
    "execution": {
     "iopub.execute_input": "2023-06-30T07:06:02.343714Z",
     "iopub.status.busy": "2023-06-30T07:06:02.343429Z",
     "iopub.status.idle": "2023-06-30T07:06:02.346871Z",
     "shell.execute_reply": "2023-06-30T07:06:02.346124Z"
    },
    "id": "NcLqR0Sbi_vT",
    "papermill": {
     "duration": 0.013905,
     "end_time": "2023-06-30T07:06:02.350583",
     "exception": false,
     "start_time": "2023-06-30T07:06:02.336678",
     "status": "completed"
    },
    "tags": []
   },
   "outputs": [],
   "source": [
    "# Create another random tensor\n",
    "\n",
    "# Perform matrix multiplication \n"
   ]
  },
  {
   "cell_type": "markdown",
   "id": "efea36be",
   "metadata": {
    "id": "eiutdKUFiryU",
    "papermill": {
     "duration": 0.005809,
     "end_time": "2023-06-30T07:06:02.362494",
     "exception": false,
     "start_time": "2023-06-30T07:06:02.356685",
     "status": "completed"
    },
    "tags": []
   },
   "source": [
    "### 4. Set the random seed to `0` and do 2 & 3 over again.\n",
    "\n",
    "The output should be:\n",
    "```\n",
    "(tensor([[1.8542],\n",
    "         [1.9611],\n",
    "         [2.2884],\n",
    "         [3.0481],\n",
    "         [1.7067],\n",
    "         [2.5290],\n",
    "         [1.7989]]), torch.Size([7, 1]))\n",
    "```"
   ]
  },
  {
   "cell_type": "code",
   "execution_count": 4,
   "id": "d2d7be06",
   "metadata": {
    "execution": {
     "iopub.execute_input": "2023-06-30T07:06:02.375604Z",
     "iopub.status.busy": "2023-06-30T07:06:02.375309Z",
     "iopub.status.idle": "2023-06-30T07:06:02.379012Z",
     "shell.execute_reply": "2023-06-30T07:06:02.378271Z"
    },
    "id": "D-lOWI_1jRMm",
    "papermill": {
     "duration": 0.014149,
     "end_time": "2023-06-30T07:06:02.382688",
     "exception": false,
     "start_time": "2023-06-30T07:06:02.368539",
     "status": "completed"
    },
    "tags": []
   },
   "outputs": [],
   "source": [
    "# Set manual seed\n",
    "\n",
    "\n",
    "# Create two random tensors\n",
    "\n",
    "\n",
    "# Matrix multiply tensors\n"
   ]
  },
  {
   "cell_type": "markdown",
   "id": "c3e85182",
   "metadata": {
    "id": "ezY6ks9Cis37",
    "papermill": {
     "duration": 0.005852,
     "end_time": "2023-06-30T07:06:02.394729",
     "exception": false,
     "start_time": "2023-06-30T07:06:02.388877",
     "status": "completed"
    },
    "tags": []
   },
   "source": [
    "### 5. Speaking of random seeds, we saw how to set it with `torch.manual_seed()` but is there a GPU equivalent? (hint: you'll need to look into the documentation for `torch.cuda` for this one)\n",
    "  * If there is, set the GPU random seed to `1234`."
   ]
  },
  {
   "cell_type": "code",
   "execution_count": 5,
   "id": "eef05490",
   "metadata": {
    "execution": {
     "iopub.execute_input": "2023-06-30T07:06:02.408366Z",
     "iopub.status.busy": "2023-06-30T07:06:02.408052Z",
     "iopub.status.idle": "2023-06-30T07:06:02.411892Z",
     "shell.execute_reply": "2023-06-30T07:06:02.411153Z"
    },
    "id": "_LKWcfSTjp00",
    "papermill": {
     "duration": 0.014886,
     "end_time": "2023-06-30T07:06:02.415706",
     "exception": false,
     "start_time": "2023-06-30T07:06:02.400820",
     "status": "completed"
    },
    "tags": []
   },
   "outputs": [],
   "source": [
    "# Set random seed on the GPU\n"
   ]
  },
  {
   "cell_type": "markdown",
   "id": "6aa9dcc2",
   "metadata": {
    "id": "Ir9qSaj6it4n",
    "papermill": {
     "duration": 0.005965,
     "end_time": "2023-06-30T07:06:02.427927",
     "exception": false,
     "start_time": "2023-06-30T07:06:02.421962",
     "status": "completed"
    },
    "tags": []
   },
   "source": [
    "\n",
    "### 6. Create two random tensors of shape `(2, 3)` and send them both to the GPU (you'll need access to a GPU for this). Set `torch.manual_seed(1234)` when creating the tensors (this doesn't have to be the GPU random seed). The output should be something like:\n",
    "\n",
    "```\n",
    "Device: cuda\n",
    "(tensor([[0.0290, 0.4019, 0.2598],\n",
    "         [0.3666, 0.0583, 0.7006]], device='cuda:0'),\n",
    " tensor([[0.0518, 0.4681, 0.6738],\n",
    "         [0.3315, 0.7837, 0.5631]], device='cuda:0'))\n",
    "```"
   ]
  },
  {
   "cell_type": "code",
   "execution_count": 6,
   "id": "ba61e43e",
   "metadata": {
    "execution": {
     "iopub.execute_input": "2023-06-30T07:06:02.441265Z",
     "iopub.status.busy": "2023-06-30T07:06:02.440983Z",
     "iopub.status.idle": "2023-06-30T07:06:02.444483Z",
     "shell.execute_reply": "2023-06-30T07:06:02.443714Z"
    },
    "id": "azXExiFZj5nm",
    "papermill": {
     "duration": 0.014315,
     "end_time": "2023-06-30T07:06:02.448401",
     "exception": false,
     "start_time": "2023-06-30T07:06:02.434086",
     "status": "completed"
    },
    "tags": []
   },
   "outputs": [],
   "source": [
    "# Set random seed\n",
    "\n",
    "\n",
    "# Check for access to GPU\n",
    "\n",
    "# Create two random tensors on GPU\n"
   ]
  },
  {
   "cell_type": "markdown",
   "id": "ebfddffd",
   "metadata": {
    "id": "5TlAxeiSiu1y",
    "papermill": {
     "duration": 0.006025,
     "end_time": "2023-06-30T07:06:02.460770",
     "exception": false,
     "start_time": "2023-06-30T07:06:02.454745",
     "status": "completed"
    },
    "tags": []
   },
   "source": [
    "\n",
    "### 7. Perform a matrix multiplication on the tensors you created in 6 (again, you may have to adjust the shapes of one of the tensors).\n",
    "\n",
    "The output should look like:\n",
    "```\n",
    "(tensor([[0.3647, 0.4709],\n",
    "         [0.5184, 0.5617]], device='cuda:0'), torch.Size([2, 2]))\n",
    "```"
   ]
  },
  {
   "cell_type": "code",
   "execution_count": 7,
   "id": "2ac47a20",
   "metadata": {
    "execution": {
     "iopub.execute_input": "2023-06-30T07:06:02.474401Z",
     "iopub.status.busy": "2023-06-30T07:06:02.474090Z",
     "iopub.status.idle": "2023-06-30T07:06:02.477599Z",
     "shell.execute_reply": "2023-06-30T07:06:02.476837Z"
    },
    "id": "fAeG7ox0lHEO",
    "papermill": {
     "duration": 0.014249,
     "end_time": "2023-06-30T07:06:02.481310",
     "exception": false,
     "start_time": "2023-06-30T07:06:02.467061",
     "status": "completed"
    },
    "tags": []
   },
   "outputs": [],
   "source": [
    "# Perform matmul on tensor_A and tensor_B\n"
   ]
  },
  {
   "cell_type": "markdown",
   "id": "52f6c25a",
   "metadata": {
    "id": "G7qfa5CSivwg",
    "papermill": {
     "duration": 0.00652,
     "end_time": "2023-06-30T07:06:02.494242",
     "exception": false,
     "start_time": "2023-06-30T07:06:02.487722",
     "status": "completed"
    },
    "tags": []
   },
   "source": [
    "### 8. Find the maximum and minimum values of the output of 7."
   ]
  },
  {
   "cell_type": "code",
   "execution_count": 8,
   "id": "c68a63c0",
   "metadata": {
    "execution": {
     "iopub.execute_input": "2023-06-30T07:06:02.508012Z",
     "iopub.status.busy": "2023-06-30T07:06:02.507693Z",
     "iopub.status.idle": "2023-06-30T07:06:02.511091Z",
     "shell.execute_reply": "2023-06-30T07:06:02.510339Z"
    },
    "id": "Fu8_3mZpllOd",
    "papermill": {
     "duration": 0.014225,
     "end_time": "2023-06-30T07:06:02.514816",
     "exception": false,
     "start_time": "2023-06-30T07:06:02.500591",
     "status": "completed"
    },
    "tags": []
   },
   "outputs": [],
   "source": [
    "# Find max\n",
    "\n",
    "# Find min\n"
   ]
  },
  {
   "cell_type": "markdown",
   "id": "07b2ea9a",
   "metadata": {
    "id": "wrTj5FgNiw47",
    "papermill": {
     "duration": 0.006217,
     "end_time": "2023-06-30T07:06:02.527418",
     "exception": false,
     "start_time": "2023-06-30T07:06:02.521201",
     "status": "completed"
    },
    "tags": []
   },
   "source": [
    "### 9. Find the maximum and minimum index values of the output of 7."
   ]
  },
  {
   "cell_type": "code",
   "execution_count": 9,
   "id": "b78f2d2f",
   "metadata": {
    "execution": {
     "iopub.execute_input": "2023-06-30T07:06:02.541421Z",
     "iopub.status.busy": "2023-06-30T07:06:02.541114Z",
     "iopub.status.idle": "2023-06-30T07:06:02.544571Z",
     "shell.execute_reply": "2023-06-30T07:06:02.543823Z"
    },
    "id": "CCEKt4K2lsfQ",
    "papermill": {
     "duration": 0.01431,
     "end_time": "2023-06-30T07:06:02.548275",
     "exception": false,
     "start_time": "2023-06-30T07:06:02.533965",
     "status": "completed"
    },
    "tags": []
   },
   "outputs": [],
   "source": [
    "# Find arg max\n",
    "\n",
    "\n",
    "# Find arg min\n"
   ]
  },
  {
   "cell_type": "markdown",
   "id": "b3f05857",
   "metadata": {
    "id": "hmeybz4uixy7",
    "papermill": {
     "duration": 0.006231,
     "end_time": "2023-06-30T07:06:02.561107",
     "exception": false,
     "start_time": "2023-06-30T07:06:02.554876",
     "status": "completed"
    },
    "tags": []
   },
   "source": [
    "\n",
    "### 10. Make a random tensor with shape `(1, 1, 1, 10)` and then create a new tensor with all the `1` dimensions removed to be left with a tensor of shape `(10)`. Set the seed to `7` when you create it and print out the first tensor and it's shape as well as the second tensor and it's shape.\n",
    "\n",
    "The output should look like:\n",
    "\n",
    "```\n",
    "tensor([[[[0.5349, 0.1988, 0.6592, 0.6569, 0.2328, 0.4251, 0.2071, 0.6297,\n",
    "           0.3653, 0.8513]]]]) torch.Size([1, 1, 1, 10])\n",
    "tensor([0.5349, 0.1988, 0.6592, 0.6569, 0.2328, 0.4251, 0.2071, 0.6297, 0.3653,\n",
    "        0.8513]) torch.Size([10])\n",
    "```"
   ]
  },
  {
   "cell_type": "code",
   "execution_count": 10,
   "id": "b9365f02",
   "metadata": {
    "execution": {
     "iopub.execute_input": "2023-06-30T07:06:02.575826Z",
     "iopub.status.busy": "2023-06-30T07:06:02.575527Z",
     "iopub.status.idle": "2023-06-30T07:06:02.579086Z",
     "shell.execute_reply": "2023-06-30T07:06:02.578337Z"
    },
    "id": "TQ9zbRzVl1jV",
    "papermill": {
     "duration": 0.015143,
     "end_time": "2023-06-30T07:06:02.582817",
     "exception": false,
     "start_time": "2023-06-30T07:06:02.567674",
     "status": "completed"
    },
    "tags": []
   },
   "outputs": [],
   "source": [
    "# Set seed\n",
    "\n",
    "\n",
    "# Create random tensor\n",
    "\n",
    "\n",
    "# Remove single dimensions\n",
    "\n",
    "\n",
    "# Print out tensors and their shapes\n"
   ]
  }
 ],
 "metadata": {
  "kernelspec": {
   "display_name": "Python 3",
   "language": "python",
   "name": "python3"
  },
  "language_info": {
   "codemirror_mode": {
    "name": "ipython",
    "version": 3
   },
   "file_extension": ".py",
   "mimetype": "text/x-python",
   "name": "python",
   "nbconvert_exporter": "python",
   "pygments_lexer": "ipython3",
   "version": "3.10.10"
  },
  "papermill": {
   "default_parameters": {},
   "duration": 11.454486,
   "end_time": "2023-06-30T07:06:03.212738",
   "environment_variables": {},
   "exception": null,
   "input_path": "__notebook__.ipynb",
   "output_path": "__notebook__.ipynb",
   "parameters": {},
   "start_time": "2023-06-30T07:05:51.758252",
   "version": "2.4.0"
  }
 },
 "nbformat": 4,
 "nbformat_minor": 5
}
