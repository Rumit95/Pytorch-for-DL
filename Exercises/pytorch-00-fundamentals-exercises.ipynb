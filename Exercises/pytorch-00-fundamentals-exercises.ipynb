{
 "cells": [
  {
   "cell_type": "markdown",
   "id": "6f954b8e",
   "metadata": {
    "id": "AzDBM_v4iMe7",
    "papermill": {
     "duration": 0.005848,
     "end_time": "2023-06-30T08:04:39.070788",
     "exception": false,
     "start_time": "2023-06-30T08:04:39.064940",
     "status": "completed"
    },
    "tags": []
   },
   "source": [
    "# 00. PyTorch Fundamentals Exercises\n",
    "\n",
    "### 1. Documentation reading \n",
    "\n",
    "A big part of deep learning (and learning to code in general) is getting familiar with the documentation of a certain framework you're using. We'll be using the PyTorch documentation a lot throughout the rest of this course. So I'd recommend spending 10-minutes reading the following (it's okay if you don't get some things for now, the focus is not yet full understanding, it's awareness):\n",
    "  * The documentation on [`torch.Tensor`](https://pytorch.org/docs/stable/tensors.html#torch-tensor).\n",
    "  * The documentation on [`torch.cuda`](https://pytorch.org/docs/master/notes/cuda.html#cuda-semantics).\n",
    "\n"
   ]
  },
  {
   "cell_type": "code",
   "execution_count": 1,
   "id": "e8dfbf14",
   "metadata": {
    "execution": {
     "iopub.execute_input": "2023-06-30T08:04:39.082882Z",
     "iopub.status.busy": "2023-06-30T08:04:39.082543Z",
     "iopub.status.idle": "2023-06-30T08:04:39.087159Z",
     "shell.execute_reply": "2023-06-30T08:04:39.086357Z"
    },
    "id": "bGD0oD8Kizak",
    "papermill": {
     "duration": 0.016539,
     "end_time": "2023-06-30T08:04:39.092716",
     "exception": false,
     "start_time": "2023-06-30T08:04:39.076177",
     "status": "completed"
    },
    "tags": []
   },
   "outputs": [],
   "source": [
    "# No code solution (reading)"
   ]
  },
  {
   "cell_type": "markdown",
   "id": "a877eac3",
   "metadata": {
    "id": "__iXqqz-ioUJ",
    "papermill": {
     "duration": 0.005096,
     "end_time": "2023-06-30T08:04:39.102905",
     "exception": false,
     "start_time": "2023-06-30T08:04:39.097809",
     "status": "completed"
    },
    "tags": []
   },
   "source": [
    "### 2. Create a random tensor with shape `(7, 7)`.\n"
   ]
  },
  {
   "cell_type": "code",
   "execution_count": 2,
   "id": "39c336a9",
   "metadata": {
    "execution": {
     "iopub.execute_input": "2023-06-30T08:04:39.114482Z",
     "iopub.status.busy": "2023-06-30T08:04:39.114089Z",
     "iopub.status.idle": "2023-06-30T08:04:50.626847Z",
     "shell.execute_reply": "2023-06-30T08:04:50.625858Z"
    },
    "id": "6pUq9Dc8i2L7",
    "papermill": {
     "duration": 11.521025,
     "end_time": "2023-06-30T08:04:50.629091",
     "exception": false,
     "start_time": "2023-06-30T08:04:39.108066",
     "status": "completed"
    },
    "tags": []
   },
   "outputs": [
    {
     "data": {
      "text/plain": [
       "tensor([[0.3957, 0.2895, 0.8025, 0.8485, 0.8650, 0.7348, 0.3785],\n",
       "        [0.9732, 0.9097, 0.3885, 0.2012, 0.7642, 0.1792, 0.5069],\n",
       "        [0.9151, 0.1034, 0.4230, 0.3223, 0.0670, 0.8819, 0.5026],\n",
       "        [0.0285, 0.0143, 0.4479, 0.7341, 0.7119, 0.7489, 0.7681],\n",
       "        [0.8751, 0.2836, 0.6432, 0.0441, 0.9577, 0.5117, 0.2699],\n",
       "        [0.9745, 0.0911, 0.2269, 0.8980, 0.3589, 0.5720, 0.1937],\n",
       "        [0.9526, 0.8219, 0.8718, 0.7474, 0.2856, 0.4797, 0.4450]],\n",
       "       device='cuda:0')"
      ]
     },
     "execution_count": 2,
     "metadata": {},
     "output_type": "execute_result"
    }
   ],
   "source": [
    "# Import torch\n",
    "import torch\n",
    "\n",
    "# Create random tensor\n",
    "random_tensor_a = torch.rand((7,7),device='cuda')\n",
    "random_tensor_a"
   ]
  },
  {
   "cell_type": "markdown",
   "id": "d27c4314",
   "metadata": {
    "id": "9-XxvRLfiqkR",
    "papermill": {
     "duration": 0.005311,
     "end_time": "2023-06-30T08:04:50.640798",
     "exception": false,
     "start_time": "2023-06-30T08:04:50.635487",
     "status": "completed"
    },
    "tags": []
   },
   "source": [
    "### 3. Perform a matrix multiplication on the tensor from 2 with another random tensor with shape `(1, 7)` (hint: you may have to transpose the second tensor)."
   ]
  },
  {
   "cell_type": "code",
   "execution_count": 3,
   "id": "d9e2ffd6",
   "metadata": {
    "execution": {
     "iopub.execute_input": "2023-06-30T08:04:50.655200Z",
     "iopub.status.busy": "2023-06-30T08:04:50.653477Z",
     "iopub.status.idle": "2023-06-30T08:04:54.659500Z",
     "shell.execute_reply": "2023-06-30T08:04:54.658590Z"
    },
    "id": "NcLqR0Sbi_vT",
    "papermill": {
     "duration": 4.015346,
     "end_time": "2023-06-30T08:04:54.661701",
     "exception": false,
     "start_time": "2023-06-30T08:04:50.646355",
     "status": "completed"
    },
    "tags": []
   },
   "outputs": [
    {
     "data": {
      "text/plain": [
       "tensor([[2.5147, 1.2128, 1.8931, 1.6592, 1.9395, 1.7942, 1.1309]],\n",
       "       device='cuda:0')"
      ]
     },
     "execution_count": 3,
     "metadata": {},
     "output_type": "execute_result"
    }
   ],
   "source": [
    "# Create another random tensor\n",
    "random_tensor_b = torch.rand((1,7),device='cuda')\n",
    "# Perform matrix multiplication \n",
    "torch.matmul(random_tensor_b , random_tensor_a)"
   ]
  },
  {
   "cell_type": "code",
   "execution_count": 4,
   "id": "f034246d",
   "metadata": {
    "execution": {
     "iopub.execute_input": "2023-06-30T08:04:54.674430Z",
     "iopub.status.busy": "2023-06-30T08:04:54.674107Z",
     "iopub.status.idle": "2023-06-30T08:04:54.682147Z",
     "shell.execute_reply": "2023-06-30T08:04:54.681004Z"
    },
    "papermill": {
     "duration": 0.016811,
     "end_time": "2023-06-30T08:04:54.684329",
     "exception": false,
     "start_time": "2023-06-30T08:04:54.667518",
     "status": "completed"
    },
    "tags": []
   },
   "outputs": [
    {
     "data": {
      "text/plain": [
       "tensor([[1.8510],\n",
       "        [2.0392],\n",
       "        [1.5843],\n",
       "        [1.4837],\n",
       "        [2.0382],\n",
       "        [1.4723],\n",
       "        [1.9139]], device='cuda:0')"
      ]
     },
     "execution_count": 4,
     "metadata": {},
     "output_type": "execute_result"
    }
   ],
   "source": [
    "torch.matmul(random_tensor_a , random_tensor_b.T)"
   ]
  },
  {
   "cell_type": "markdown",
   "id": "db32687f",
   "metadata": {
    "id": "eiutdKUFiryU",
    "papermill": {
     "duration": 0.005501,
     "end_time": "2023-06-30T08:04:54.696465",
     "exception": false,
     "start_time": "2023-06-30T08:04:54.690964",
     "status": "completed"
    },
    "tags": []
   },
   "source": [
    "### 4. Set the random seed to `0` and do 2 & 3 over again.\n",
    "\n",
    "The output should be:\n",
    "```\n",
    "(tensor([[1.8542],\n",
    "         [1.9611],\n",
    "         [2.2884],\n",
    "         [3.0481],\n",
    "         [1.7067],\n",
    "         [2.5290],\n",
    "         [1.7989]]), torch.Size([7, 1]))\n",
    "```"
   ]
  },
  {
   "cell_type": "code",
   "execution_count": 5,
   "id": "6c1e59ea",
   "metadata": {
    "execution": {
     "iopub.execute_input": "2023-06-30T08:04:54.709085Z",
     "iopub.status.busy": "2023-06-30T08:04:54.708805Z",
     "iopub.status.idle": "2023-06-30T08:04:54.896106Z",
     "shell.execute_reply": "2023-06-30T08:04:54.895190Z"
    },
    "id": "D-lOWI_1jRMm",
    "papermill": {
     "duration": 0.196032,
     "end_time": "2023-06-30T08:04:54.898297",
     "exception": false,
     "start_time": "2023-06-30T08:04:54.702265",
     "status": "completed"
    },
    "tags": []
   },
   "outputs": [
    {
     "data": {
      "text/plain": [
       "tensor([[1.5985],\n",
       "        [1.1173],\n",
       "        [1.2741],\n",
       "        [1.6838],\n",
       "        [0.8279],\n",
       "        [1.0347],\n",
       "        [1.2498]])"
      ]
     },
     "execution_count": 5,
     "metadata": {},
     "output_type": "execute_result"
    }
   ],
   "source": [
    "# Set manual seed\n",
    "torch.manual_seed(0)\n",
    "\n",
    "# Create two random tensors\n",
    "tensor_manual_seed_a = torch.rand(7,7)\n",
    "\n",
    "# Set manual seed\n",
    "torch.manual_seed(0)\n",
    "\n",
    "# Create two random tensors\n",
    "tensor_manual_seed_b = torch.rand(1,7)\n",
    "\n",
    "# Matrix multiply tensors\n",
    "torch.matmul(tensor_manual_seed_a,tensor_manual_seed_b.T)"
   ]
  },
  {
   "cell_type": "markdown",
   "id": "e395248e",
   "metadata": {
    "id": "ezY6ks9Cis37",
    "papermill": {
     "duration": 0.005567,
     "end_time": "2023-06-30T08:04:54.909754",
     "exception": false,
     "start_time": "2023-06-30T08:04:54.904187",
     "status": "completed"
    },
    "tags": []
   },
   "source": [
    "### 5. Speaking of random seeds, we saw how to set it with `torch.manual_seed()` but is there a GPU equivalent? (hint: you'll need to look into the documentation for `torch.cuda` for this one)\n",
    "  * If there is, set the GPU random seed to `1234`."
   ]
  },
  {
   "cell_type": "code",
   "execution_count": 6,
   "id": "9de0d65d",
   "metadata": {
    "execution": {
     "iopub.execute_input": "2023-06-30T08:04:54.923093Z",
     "iopub.status.busy": "2023-06-30T08:04:54.922179Z",
     "iopub.status.idle": "2023-06-30T08:04:54.927292Z",
     "shell.execute_reply": "2023-06-30T08:04:54.926461Z"
    },
    "id": "_LKWcfSTjp00",
    "papermill": {
     "duration": 0.013625,
     "end_time": "2023-06-30T08:04:54.929230",
     "exception": false,
     "start_time": "2023-06-30T08:04:54.915605",
     "status": "completed"
    },
    "tags": []
   },
   "outputs": [],
   "source": [
    "# Set random seed on the GPU\n",
    "torch.cuda.manual_seed(1234)"
   ]
  },
  {
   "cell_type": "markdown",
   "id": "ce70ff38",
   "metadata": {
    "id": "Ir9qSaj6it4n",
    "papermill": {
     "duration": 0.005874,
     "end_time": "2023-06-30T08:04:54.940914",
     "exception": false,
     "start_time": "2023-06-30T08:04:54.935040",
     "status": "completed"
    },
    "tags": []
   },
   "source": [
    "\n",
    "### 6. Create two random tensors of shape `(2, 3)` and send them both to the GPU (you'll need access to a GPU for this). Set `torch.manual_seed(1234)` when creating the tensors (this doesn't have to be the GPU random seed). The output should be something like:\n",
    "\n",
    "```\n",
    "Device: cuda\n",
    "(tensor([[0.0290, 0.4019, 0.2598],\n",
    "         [0.3666, 0.0583, 0.7006]], device='cuda:0'),\n",
    " tensor([[0.0518, 0.4681, 0.6738],\n",
    "         [0.3315, 0.7837, 0.5631]], device='cuda:0'))\n",
    "```"
   ]
  },
  {
   "cell_type": "code",
   "execution_count": 7,
   "id": "6b4edc70",
   "metadata": {
    "execution": {
     "iopub.execute_input": "2023-06-30T08:04:54.954409Z",
     "iopub.status.busy": "2023-06-30T08:04:54.954146Z",
     "iopub.status.idle": "2023-06-30T08:04:54.964052Z",
     "shell.execute_reply": "2023-06-30T08:04:54.962314Z"
    },
    "id": "azXExiFZj5nm",
    "papermill": {
     "duration": 0.01904,
     "end_time": "2023-06-30T08:04:54.966180",
     "exception": false,
     "start_time": "2023-06-30T08:04:54.947140",
     "status": "completed"
    },
    "tags": []
   },
   "outputs": [
    {
     "name": "stdout",
     "output_type": "stream",
     "text": [
      "tensor([[0.0290, 0.4019, 0.2598],\n",
      "        [0.3666, 0.0583, 0.7006]], device='cuda:0')\n",
      "tensor([[0.0518, 0.4681, 0.6738],\n",
      "        [0.3315, 0.7837, 0.5631]], device='cuda:0')\n"
     ]
    }
   ],
   "source": [
    "# Set random seed\n",
    "torch.manual_seed(1234)\n",
    "\n",
    "# Check for access to GPU\n",
    "torch.cuda.is_available()\n",
    "\n",
    "# Create two random tensors on GPU\n",
    "tensor_a = torch.rand((2,3)).to('cuda')\n",
    "print(tensor_a)\n",
    "tensor_b = torch.rand((2,3)).to('cuda')\n",
    "print(tensor_b)"
   ]
  },
  {
   "cell_type": "markdown",
   "id": "65322866",
   "metadata": {
    "id": "5TlAxeiSiu1y",
    "papermill": {
     "duration": 0.00559,
     "end_time": "2023-06-30T08:04:54.977807",
     "exception": false,
     "start_time": "2023-06-30T08:04:54.972217",
     "status": "completed"
    },
    "tags": []
   },
   "source": [
    "\n",
    "### 7. Perform a matrix multiplication on the tensors you created in 6 (again, you may have to adjust the shapes of one of the tensors).\n",
    "\n",
    "The output should look like:\n",
    "```\n",
    "(tensor([[0.3647, 0.4709],\n",
    "         [0.5184, 0.5617]], device='cuda:0'), torch.Size([2, 2]))\n",
    "```"
   ]
  },
  {
   "cell_type": "code",
   "execution_count": 8,
   "id": "c9c76de9",
   "metadata": {
    "execution": {
     "iopub.execute_input": "2023-06-30T08:04:54.991023Z",
     "iopub.status.busy": "2023-06-30T08:04:54.990345Z",
     "iopub.status.idle": "2023-06-30T08:04:54.998570Z",
     "shell.execute_reply": "2023-06-30T08:04:54.997451Z"
    },
    "id": "fAeG7ox0lHEO",
    "papermill": {
     "duration": 0.016851,
     "end_time": "2023-06-30T08:04:55.000527",
     "exception": false,
     "start_time": "2023-06-30T08:04:54.983676",
     "status": "completed"
    },
    "tags": []
   },
   "outputs": [
    {
     "name": "stdout",
     "output_type": "stream",
     "text": [
      "tensor([[0.3647, 0.4709],\n",
      "        [0.5184, 0.5617]], device='cuda:0')\n"
     ]
    }
   ],
   "source": [
    "# Perform matmul on tensor_A and tensor_B\n",
    "result = torch.matmul(tensor_a, tensor_b.T)\n",
    "print(result)"
   ]
  },
  {
   "cell_type": "markdown",
   "id": "15638a18",
   "metadata": {
    "id": "G7qfa5CSivwg",
    "papermill": {
     "duration": 0.005829,
     "end_time": "2023-06-30T08:04:55.012444",
     "exception": false,
     "start_time": "2023-06-30T08:04:55.006615",
     "status": "completed"
    },
    "tags": []
   },
   "source": [
    "### 8. Find the maximum and minimum values of the output of 7."
   ]
  },
  {
   "cell_type": "code",
   "execution_count": 9,
   "id": "b6485d7f",
   "metadata": {
    "execution": {
     "iopub.execute_input": "2023-06-30T08:04:55.026007Z",
     "iopub.status.busy": "2023-06-30T08:04:55.025206Z",
     "iopub.status.idle": "2023-06-30T08:04:55.032305Z",
     "shell.execute_reply": "2023-06-30T08:04:55.031062Z"
    },
    "id": "Fu8_3mZpllOd",
    "papermill": {
     "duration": 0.015962,
     "end_time": "2023-06-30T08:04:55.034335",
     "exception": false,
     "start_time": "2023-06-30T08:04:55.018373",
     "status": "completed"
    },
    "tags": []
   },
   "outputs": [
    {
     "name": "stdout",
     "output_type": "stream",
     "text": [
      "tensor(0.5617, device='cuda:0')\n",
      "tensor(0.3647, device='cuda:0')\n"
     ]
    }
   ],
   "source": [
    "# Find max\n",
    "print(result.max())\n",
    "# Find min\n",
    "print(result.min())"
   ]
  },
  {
   "cell_type": "markdown",
   "id": "c764f240",
   "metadata": {
    "id": "wrTj5FgNiw47",
    "papermill": {
     "duration": 0.005849,
     "end_time": "2023-06-30T08:04:55.046272",
     "exception": false,
     "start_time": "2023-06-30T08:04:55.040423",
     "status": "completed"
    },
    "tags": []
   },
   "source": [
    "### 9. Find the maximum and minimum index values of the output of 7."
   ]
  },
  {
   "cell_type": "code",
   "execution_count": 10,
   "id": "0eaa1ee3",
   "metadata": {
    "execution": {
     "iopub.execute_input": "2023-06-30T08:04:55.059838Z",
     "iopub.status.busy": "2023-06-30T08:04:55.059086Z",
     "iopub.status.idle": "2023-06-30T08:04:55.069467Z",
     "shell.execute_reply": "2023-06-30T08:04:55.068326Z"
    },
    "id": "CCEKt4K2lsfQ",
    "papermill": {
     "duration": 0.019057,
     "end_time": "2023-06-30T08:04:55.071529",
     "exception": false,
     "start_time": "2023-06-30T08:04:55.052472",
     "status": "completed"
    },
    "tags": []
   },
   "outputs": [
    {
     "name": "stdout",
     "output_type": "stream",
     "text": [
      "tensor(3, device='cuda:0')\n",
      "tensor(0, device='cuda:0')\n"
     ]
    }
   ],
   "source": [
    "# Find arg max\n",
    "print(result.argmax())\n",
    "\n",
    "# Find arg min\n",
    "print(result.argmin())"
   ]
  },
  {
   "cell_type": "markdown",
   "id": "d0e1e756",
   "metadata": {
    "id": "hmeybz4uixy7",
    "papermill": {
     "duration": 0.006373,
     "end_time": "2023-06-30T08:04:55.083850",
     "exception": false,
     "start_time": "2023-06-30T08:04:55.077477",
     "status": "completed"
    },
    "tags": []
   },
   "source": [
    "\n",
    "### 10. Make a random tensor with shape `(1, 1, 1, 10)` and then create a new tensor with all the `1` dimensions removed to be left with a tensor of shape `(10)`. Set the seed to `7` when you create it and print out the first tensor and it's shape as well as the second tensor and it's shape.\n",
    "\n",
    "The output should look like:\n",
    "\n",
    "```\n",
    "tensor([[[[0.5349, 0.1988, 0.6592, 0.6569, 0.2328, 0.4251, 0.2071, 0.6297,\n",
    "           0.3653, 0.8513]]]]) torch.Size([1, 1, 1, 10])\n",
    "tensor([0.5349, 0.1988, 0.6592, 0.6569, 0.2328, 0.4251, 0.2071, 0.6297, 0.3653,\n",
    "        0.8513]) torch.Size([10])\n",
    "```"
   ]
  },
  {
   "cell_type": "code",
   "execution_count": 11,
   "id": "6859745b",
   "metadata": {
    "execution": {
     "iopub.execute_input": "2023-06-30T08:04:55.097687Z",
     "iopub.status.busy": "2023-06-30T08:04:55.096943Z",
     "iopub.status.idle": "2023-06-30T08:04:55.104517Z",
     "shell.execute_reply": "2023-06-30T08:04:55.103441Z"
    },
    "id": "TQ9zbRzVl1jV",
    "papermill": {
     "duration": 0.016433,
     "end_time": "2023-06-30T08:04:55.106433",
     "exception": false,
     "start_time": "2023-06-30T08:04:55.090000",
     "status": "completed"
    },
    "tags": []
   },
   "outputs": [
    {
     "name": "stdout",
     "output_type": "stream",
     "text": [
      "tensor([[[[0.5349, 0.1988, 0.6592, 0.6569, 0.2328, 0.4251, 0.2071, 0.6297,\n",
      "           0.3653, 0.8513]]]]) torch.Size([1, 1, 1, 10])\n",
      "tensor([0.5349, 0.1988, 0.6592, 0.6569, 0.2328, 0.4251, 0.2071, 0.6297, 0.3653,\n",
      "        0.8513]) torch.Size([10])\n"
     ]
    }
   ],
   "source": [
    "# Set seed\n",
    "torch.manual_seed(7)\n",
    "\n",
    "# Create random tensor\n",
    "tensor_random = torch.rand([1,1,1,10])\n",
    "print(tensor_random, tensor_random.shape)\n",
    "\n",
    "# Remove single dimensions\n",
    "squeezd_tensor = tensor_random.squeeze()\n",
    "\n",
    "# Print out tensors and their shapes\n",
    "print(squeezd_tensor, squeezd_tensor.shape )"
   ]
  }
 ],
 "metadata": {
  "kernelspec": {
   "display_name": "Python 3",
   "language": "python",
   "name": "python3"
  },
  "language_info": {
   "codemirror_mode": {
    "name": "ipython",
    "version": 3
   },
   "file_extension": ".py",
   "mimetype": "text/x-python",
   "name": "python",
   "nbconvert_exporter": "python",
   "pygments_lexer": "ipython3",
   "version": "3.10.10"
  },
  "papermill": {
   "default_parameters": {},
   "duration": 33.635953,
   "end_time": "2023-06-30T08:04:57.942433",
   "environment_variables": {},
   "exception": null,
   "input_path": "__notebook__.ipynb",
   "output_path": "__notebook__.ipynb",
   "parameters": {},
   "start_time": "2023-06-30T08:04:24.306480",
   "version": "2.4.0"
  }
 },
 "nbformat": 4,
 "nbformat_minor": 5
}
