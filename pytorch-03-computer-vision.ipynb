{
 "cells": [
  {
   "cell_type": "markdown",
   "id": "99c03d6a",
   "metadata": {
    "papermill": {
     "duration": 0.002361,
     "end_time": "2023-08-01T16:53:56.074314",
     "exception": false,
     "start_time": "2023-08-01T16:53:56.071953",
     "status": "completed"
    },
    "tags": []
   },
   "source": [
    "# Pytorch Computer Vision"
   ]
  },
  {
   "cell_type": "markdown",
   "id": "bf65a005",
   "metadata": {
    "papermill": {
     "duration": 0.001668,
     "end_time": "2023-08-01T16:53:56.078252",
     "exception": false,
     "start_time": "2023-08-01T16:53:56.076584",
     "status": "completed"
    },
    "tags": []
   },
   "source": [
    "## 0. Computer vision libaries in PyTorch\n",
    "\n",
    "* `torchvision` - base domain library for PyTorch computer vision\n",
    "* `torchvision.datasets` - datasets and data loading functions for computer vision\n",
    "* `torchvision.models` - get pretrained computer vision models that we can leverage for our own problems\n",
    "* `torchvision.transforms` - function for manipulating your vision data (images) to be suitable for use with ML model\n",
    "* `torch.utils.data.Dataset` - Base dataset class for PyTorch\n",
    "* `torch.utils.data.DataLoader` - Creates a Python iterable over a dataset"
   ]
  },
  {
   "cell_type": "code",
   "execution_count": null,
   "id": "355baf4c",
   "metadata": {
    "papermill": {
     "duration": 0.001573,
     "end_time": "2023-08-01T16:53:56.081721",
     "exception": false,
     "start_time": "2023-08-01T16:53:56.080148",
     "status": "completed"
    },
    "tags": []
   },
   "outputs": [],
   "source": []
  }
 ],
 "metadata": {
  "kernelspec": {
   "display_name": "Python 3",
   "language": "python",
   "name": "python3"
  },
  "language_info": {
   "codemirror_mode": {
    "name": "ipython",
    "version": 3
   },
   "file_extension": ".py",
   "mimetype": "text/x-python",
   "name": "python",
   "nbconvert_exporter": "python",
   "pygments_lexer": "ipython3",
   "version": "3.10.12"
  },
  "papermill": {
   "default_parameters": {},
   "duration": 13.316628,
   "end_time": "2023-08-01T16:53:57.010133",
   "environment_variables": {},
   "exception": null,
   "input_path": "__notebook__.ipynb",
   "output_path": "__notebook__.ipynb",
   "parameters": {},
   "start_time": "2023-08-01T16:53:43.693505",
   "version": "2.4.0"
  }
 },
 "nbformat": 4,
 "nbformat_minor": 5
}
