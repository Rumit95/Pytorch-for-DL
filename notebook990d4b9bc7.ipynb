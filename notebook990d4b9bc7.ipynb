{
 "cells": [
  {
   "cell_type": "code",
   "execution_count": 1,
   "id": "f2cad487",
   "metadata": {
    "_cell_guid": "b1076dfc-b9ad-4769-8c92-a6c4dae69d19",
    "_uuid": "8f2839f25d086af736a60e9eeb907d3b93b6e0e5",
    "execution": {
     "iopub.execute_input": "2023-06-26T15:52:39.757743Z",
     "iopub.status.busy": "2023-06-26T15:52:39.757287Z",
     "iopub.status.idle": "2023-06-26T15:52:43.605456Z",
     "shell.execute_reply": "2023-06-26T15:52:43.604268Z"
    },
    "papermill": {
     "duration": 3.868565,
     "end_time": "2023-06-26T15:52:43.607881",
     "exception": false,
     "start_time": "2023-06-26T15:52:39.739316",
     "status": "completed"
    },
    "tags": []
   },
   "outputs": [
    {
     "data": {
      "text/plain": [
       "'2.0.0+cpu'"
      ]
     },
     "execution_count": 1,
     "metadata": {},
     "output_type": "execute_result"
    }
   ],
   "source": [
    "import torch\n",
    "import pandas as pd\n",
    "import numpy as np\n",
    "import matplotlib.pyplot as plt\n",
    "torch.__version__"
   ]
  },
  {
   "cell_type": "markdown",
   "id": "20855885",
   "metadata": {
    "execution": {
     "iopub.execute_input": "2023-06-25T15:31:29.081596Z",
     "iopub.status.busy": "2023-06-25T15:31:29.081220Z",
     "iopub.status.idle": "2023-06-25T15:31:29.086052Z",
     "shell.execute_reply": "2023-06-25T15:31:29.085102Z",
     "shell.execute_reply.started": "2023-06-25T15:31:29.081561Z"
    },
    "papermill": {
     "duration": 0.01486,
     "end_time": "2023-06-26T15:52:43.638166",
     "exception": false,
     "start_time": "2023-06-26T15:52:43.623306",
     "status": "completed"
    },
    "tags": []
   },
   "source": [
    "## Introduction to Tensor\n",
    "\n",
    "### Creating Tensors\n",
    "\n",
    "PyTorch tensor are create using torch.Tensor()\n",
    "\n",
    "ref - https://pytorch.org/docs/stable/tensors.html"
   ]
  },
  {
   "cell_type": "code",
   "execution_count": 2,
   "id": "5be1aa9d",
   "metadata": {
    "execution": {
     "iopub.execute_input": "2023-06-26T15:52:43.671040Z",
     "iopub.status.busy": "2023-06-26T15:52:43.670319Z",
     "iopub.status.idle": "2023-06-26T15:52:43.723486Z",
     "shell.execute_reply": "2023-06-26T15:52:43.722256Z"
    },
    "papermill": {
     "duration": 0.072503,
     "end_time": "2023-06-26T15:52:43.726152",
     "exception": false,
     "start_time": "2023-06-26T15:52:43.653649",
     "status": "completed"
    },
    "tags": []
   },
   "outputs": [
    {
     "data": {
      "text/plain": [
       "tensor(7)"
      ]
     },
     "execution_count": 2,
     "metadata": {},
     "output_type": "execute_result"
    }
   ],
   "source": [
    "# Scaler\n",
    "scaler = torch.tensor(7)\n",
    "scaler"
   ]
  },
  {
   "cell_type": "code",
   "execution_count": 3,
   "id": "b930475a",
   "metadata": {
    "execution": {
     "iopub.execute_input": "2023-06-26T15:52:43.759607Z",
     "iopub.status.busy": "2023-06-26T15:52:43.758612Z",
     "iopub.status.idle": "2023-06-26T15:52:43.765859Z",
     "shell.execute_reply": "2023-06-26T15:52:43.764644Z"
    },
    "papermill": {
     "duration": 0.026457,
     "end_time": "2023-06-26T15:52:43.768214",
     "exception": false,
     "start_time": "2023-06-26T15:52:43.741757",
     "status": "completed"
    },
    "tags": []
   },
   "outputs": [
    {
     "data": {
      "text/plain": [
       "0"
      ]
     },
     "execution_count": 3,
     "metadata": {},
     "output_type": "execute_result"
    }
   ],
   "source": [
    "scaler.ndim"
   ]
  },
  {
   "cell_type": "code",
   "execution_count": 4,
   "id": "4da599ff",
   "metadata": {
    "execution": {
     "iopub.execute_input": "2023-06-26T15:52:43.801736Z",
     "iopub.status.busy": "2023-06-26T15:52:43.800999Z",
     "iopub.status.idle": "2023-06-26T15:52:43.806851Z",
     "shell.execute_reply": "2023-06-26T15:52:43.805922Z"
    },
    "papermill": {
     "duration": 0.025095,
     "end_time": "2023-06-26T15:52:43.809008",
     "exception": false,
     "start_time": "2023-06-26T15:52:43.783913",
     "status": "completed"
    },
    "tags": []
   },
   "outputs": [
    {
     "data": {
      "text/plain": [
       "7"
      ]
     },
     "execution_count": 4,
     "metadata": {},
     "output_type": "execute_result"
    }
   ],
   "source": [
    "# Get Tensor back ans int\n",
    "scaler.item()"
   ]
  },
  {
   "cell_type": "code",
   "execution_count": 5,
   "id": "28e51063",
   "metadata": {
    "execution": {
     "iopub.execute_input": "2023-06-26T15:52:43.843606Z",
     "iopub.status.busy": "2023-06-26T15:52:43.842765Z",
     "iopub.status.idle": "2023-06-26T15:52:43.850026Z",
     "shell.execute_reply": "2023-06-26T15:52:43.848863Z"
    },
    "papermill": {
     "duration": 0.02728,
     "end_time": "2023-06-26T15:52:43.852483",
     "exception": false,
     "start_time": "2023-06-26T15:52:43.825203",
     "status": "completed"
    },
    "tags": []
   },
   "outputs": [
    {
     "data": {
      "text/plain": [
       "tensor([7, 7])"
      ]
     },
     "execution_count": 5,
     "metadata": {},
     "output_type": "execute_result"
    }
   ],
   "source": [
    "# Vector\n",
    "vector = torch.tensor([7,7])\n",
    "vector"
   ]
  },
  {
   "cell_type": "code",
   "execution_count": 6,
   "id": "a28be11f",
   "metadata": {
    "execution": {
     "iopub.execute_input": "2023-06-26T15:52:43.887529Z",
     "iopub.status.busy": "2023-06-26T15:52:43.886511Z",
     "iopub.status.idle": "2023-06-26T15:52:43.893006Z",
     "shell.execute_reply": "2023-06-26T15:52:43.891951Z"
    },
    "papermill": {
     "duration": 0.026684,
     "end_time": "2023-06-26T15:52:43.895423",
     "exception": false,
     "start_time": "2023-06-26T15:52:43.868739",
     "status": "completed"
    },
    "tags": []
   },
   "outputs": [
    {
     "data": {
      "text/plain": [
       "1"
      ]
     },
     "execution_count": 6,
     "metadata": {},
     "output_type": "execute_result"
    }
   ],
   "source": [
    "vector.ndim"
   ]
  },
  {
   "cell_type": "code",
   "execution_count": 7,
   "id": "da126264",
   "metadata": {
    "execution": {
     "iopub.execute_input": "2023-06-26T15:52:43.930581Z",
     "iopub.status.busy": "2023-06-26T15:52:43.929746Z",
     "iopub.status.idle": "2023-06-26T15:52:43.936785Z",
     "shell.execute_reply": "2023-06-26T15:52:43.935895Z"
    },
    "papermill": {
     "duration": 0.026953,
     "end_time": "2023-06-26T15:52:43.939071",
     "exception": false,
     "start_time": "2023-06-26T15:52:43.912118",
     "status": "completed"
    },
    "tags": []
   },
   "outputs": [
    {
     "data": {
      "text/plain": [
       "torch.Size([2])"
      ]
     },
     "execution_count": 7,
     "metadata": {},
     "output_type": "execute_result"
    }
   ],
   "source": [
    "vector.shape"
   ]
  },
  {
   "cell_type": "code",
   "execution_count": 8,
   "id": "988d6bd4",
   "metadata": {
    "execution": {
     "iopub.execute_input": "2023-06-26T15:52:43.974430Z",
     "iopub.status.busy": "2023-06-26T15:52:43.973564Z",
     "iopub.status.idle": "2023-06-26T15:52:43.983994Z",
     "shell.execute_reply": "2023-06-26T15:52:43.983077Z"
    },
    "papermill": {
     "duration": 0.030547,
     "end_time": "2023-06-26T15:52:43.986290",
     "exception": false,
     "start_time": "2023-06-26T15:52:43.955743",
     "status": "completed"
    },
    "tags": []
   },
   "outputs": [
    {
     "data": {
      "text/plain": [
       "tensor([[7, 8],\n",
       "        [6, 5]])"
      ]
     },
     "execution_count": 8,
     "metadata": {},
     "output_type": "execute_result"
    }
   ],
   "source": [
    "# Matrix\n",
    "MATRIX = torch.tensor([[7,8],\n",
    "                      [6,5]])\n",
    "MATRIX"
   ]
  },
  {
   "cell_type": "code",
   "execution_count": 9,
   "id": "f6c1bf05",
   "metadata": {
    "execution": {
     "iopub.execute_input": "2023-06-26T15:52:44.021583Z",
     "iopub.status.busy": "2023-06-26T15:52:44.020382Z",
     "iopub.status.idle": "2023-06-26T15:52:44.027347Z",
     "shell.execute_reply": "2023-06-26T15:52:44.026228Z"
    },
    "papermill": {
     "duration": 0.027263,
     "end_time": "2023-06-26T15:52:44.029903",
     "exception": false,
     "start_time": "2023-06-26T15:52:44.002640",
     "status": "completed"
    },
    "tags": []
   },
   "outputs": [
    {
     "data": {
      "text/plain": [
       "2"
      ]
     },
     "execution_count": 9,
     "metadata": {},
     "output_type": "execute_result"
    }
   ],
   "source": [
    "MATRIX.ndim"
   ]
  },
  {
   "cell_type": "code",
   "execution_count": 10,
   "id": "66c6be71",
   "metadata": {
    "execution": {
     "iopub.execute_input": "2023-06-26T15:52:44.067596Z",
     "iopub.status.busy": "2023-06-26T15:52:44.066935Z",
     "iopub.status.idle": "2023-06-26T15:52:44.073903Z",
     "shell.execute_reply": "2023-06-26T15:52:44.072893Z"
    },
    "papermill": {
     "duration": 0.02892,
     "end_time": "2023-06-26T15:52:44.076063",
     "exception": false,
     "start_time": "2023-06-26T15:52:44.047143",
     "status": "completed"
    },
    "tags": []
   },
   "outputs": [
    {
     "data": {
      "text/plain": [
       "tensor([7, 8])"
      ]
     },
     "execution_count": 10,
     "metadata": {},
     "output_type": "execute_result"
    }
   ],
   "source": [
    "MATRIX[0]"
   ]
  },
  {
   "cell_type": "code",
   "execution_count": 11,
   "id": "61c9e2f7",
   "metadata": {
    "execution": {
     "iopub.execute_input": "2023-06-26T15:52:44.111383Z",
     "iopub.status.busy": "2023-06-26T15:52:44.110703Z",
     "iopub.status.idle": "2023-06-26T15:52:44.117844Z",
     "shell.execute_reply": "2023-06-26T15:52:44.116765Z"
    },
    "papermill": {
     "duration": 0.027524,
     "end_time": "2023-06-26T15:52:44.120030",
     "exception": false,
     "start_time": "2023-06-26T15:52:44.092506",
     "status": "completed"
    },
    "tags": []
   },
   "outputs": [
    {
     "data": {
      "text/plain": [
       "tensor([6, 5])"
      ]
     },
     "execution_count": 11,
     "metadata": {},
     "output_type": "execute_result"
    }
   ],
   "source": [
    "MATRIX[1]"
   ]
  },
  {
   "cell_type": "code",
   "execution_count": 12,
   "id": "9a791ab0",
   "metadata": {
    "execution": {
     "iopub.execute_input": "2023-06-26T15:52:44.155675Z",
     "iopub.status.busy": "2023-06-26T15:52:44.155042Z",
     "iopub.status.idle": "2023-06-26T15:52:44.162087Z",
     "shell.execute_reply": "2023-06-26T15:52:44.160865Z"
    },
    "papermill": {
     "duration": 0.02798,
     "end_time": "2023-06-26T15:52:44.164620",
     "exception": false,
     "start_time": "2023-06-26T15:52:44.136640",
     "status": "completed"
    },
    "tags": []
   },
   "outputs": [
    {
     "data": {
      "text/plain": [
       "torch.Size([2, 2])"
      ]
     },
     "execution_count": 12,
     "metadata": {},
     "output_type": "execute_result"
    }
   ],
   "source": [
    "MATRIX.shape"
   ]
  },
  {
   "cell_type": "code",
   "execution_count": 13,
   "id": "30121fc2",
   "metadata": {
    "execution": {
     "iopub.execute_input": "2023-06-26T15:52:44.200766Z",
     "iopub.status.busy": "2023-06-26T15:52:44.200111Z",
     "iopub.status.idle": "2023-06-26T15:52:44.208523Z",
     "shell.execute_reply": "2023-06-26T15:52:44.207396Z"
    },
    "papermill": {
     "duration": 0.029215,
     "end_time": "2023-06-26T15:52:44.210845",
     "exception": false,
     "start_time": "2023-06-26T15:52:44.181630",
     "status": "completed"
    },
    "tags": []
   },
   "outputs": [
    {
     "data": {
      "text/plain": [
       "tensor([[[1, 2, 3],\n",
       "         [5, 6, 6],\n",
       "         [7, 8, 9]]])"
      ]
     },
     "execution_count": 13,
     "metadata": {},
     "output_type": "execute_result"
    }
   ],
   "source": [
    "# Tensor\n",
    "TENSOR = torch.tensor([[[1,2,3],\n",
    "                      [5,6,6],\n",
    "                      [7,8,9]]])\n",
    "TENSOR"
   ]
  },
  {
   "cell_type": "code",
   "execution_count": 14,
   "id": "f28678b6",
   "metadata": {
    "execution": {
     "iopub.execute_input": "2023-06-26T15:52:44.246868Z",
     "iopub.status.busy": "2023-06-26T15:52:44.246383Z",
     "iopub.status.idle": "2023-06-26T15:52:44.253389Z",
     "shell.execute_reply": "2023-06-26T15:52:44.252359Z"
    },
    "papermill": {
     "duration": 0.027623,
     "end_time": "2023-06-26T15:52:44.255560",
     "exception": false,
     "start_time": "2023-06-26T15:52:44.227937",
     "status": "completed"
    },
    "tags": []
   },
   "outputs": [
    {
     "data": {
      "text/plain": [
       "3"
      ]
     },
     "execution_count": 14,
     "metadata": {},
     "output_type": "execute_result"
    }
   ],
   "source": [
    "TENSOR.ndim"
   ]
  },
  {
   "cell_type": "code",
   "execution_count": 15,
   "id": "7a297bb3",
   "metadata": {
    "execution": {
     "iopub.execute_input": "2023-06-26T15:52:44.292951Z",
     "iopub.status.busy": "2023-06-26T15:52:44.292225Z",
     "iopub.status.idle": "2023-06-26T15:52:44.298201Z",
     "shell.execute_reply": "2023-06-26T15:52:44.297316Z"
    },
    "papermill": {
     "duration": 0.027771,
     "end_time": "2023-06-26T15:52:44.300487",
     "exception": false,
     "start_time": "2023-06-26T15:52:44.272716",
     "status": "completed"
    },
    "tags": []
   },
   "outputs": [
    {
     "data": {
      "text/plain": [
       "torch.Size([1, 3, 3])"
      ]
     },
     "execution_count": 15,
     "metadata": {},
     "output_type": "execute_result"
    }
   ],
   "source": [
    "TENSOR.shape"
   ]
  },
  {
   "cell_type": "code",
   "execution_count": 16,
   "id": "9c451d1b",
   "metadata": {
    "execution": {
     "iopub.execute_input": "2023-06-26T15:52:44.337999Z",
     "iopub.status.busy": "2023-06-26T15:52:44.337230Z",
     "iopub.status.idle": "2023-06-26T15:52:44.344209Z",
     "shell.execute_reply": "2023-06-26T15:52:44.342901Z"
    },
    "papermill": {
     "duration": 0.02817,
     "end_time": "2023-06-26T15:52:44.346451",
     "exception": false,
     "start_time": "2023-06-26T15:52:44.318281",
     "status": "completed"
    },
    "tags": []
   },
   "outputs": [
    {
     "data": {
      "text/plain": [
       "tensor([[1, 2, 3],\n",
       "        [5, 6, 6],\n",
       "        [7, 8, 9]])"
      ]
     },
     "execution_count": 16,
     "metadata": {},
     "output_type": "execute_result"
    }
   ],
   "source": [
    "TENSOR[0]"
   ]
  },
  {
   "cell_type": "code",
   "execution_count": 17,
   "id": "a3bacf31",
   "metadata": {
    "execution": {
     "iopub.execute_input": "2023-06-26T15:52:44.383574Z",
     "iopub.status.busy": "2023-06-26T15:52:44.383132Z",
     "iopub.status.idle": "2023-06-26T15:52:44.393004Z",
     "shell.execute_reply": "2023-06-26T15:52:44.391738Z"
    },
    "papermill": {
     "duration": 0.031365,
     "end_time": "2023-06-26T15:52:44.395447",
     "exception": false,
     "start_time": "2023-06-26T15:52:44.364082",
     "status": "completed"
    },
    "tags": []
   },
   "outputs": [
    {
     "data": {
      "text/plain": [
       "tensor([[[1, 2, 3],\n",
       "         [4, 5, 6],\n",
       "         [7, 8, 9]],\n",
       "\n",
       "        [[1, 2, 3],\n",
       "         [4, 5, 6],\n",
       "         [7, 8, 9]]])"
      ]
     },
     "execution_count": 17,
     "metadata": {},
     "output_type": "execute_result"
    }
   ],
   "source": [
    "# Practice\n",
    "TENSOR1 = torch.tensor([[[1,2,3],\n",
    "                      [4,5,6],\n",
    "                      [7,8,9]],\n",
    "                     [[1,2,3],\n",
    "                      [4,5,6],\n",
    "                      [7,8,9]]])\n",
    "TENSOR1"
   ]
  },
  {
   "cell_type": "code",
   "execution_count": 18,
   "id": "e47c3509",
   "metadata": {
    "execution": {
     "iopub.execute_input": "2023-06-26T15:52:44.434546Z",
     "iopub.status.busy": "2023-06-26T15:52:44.433954Z",
     "iopub.status.idle": "2023-06-26T15:52:44.439615Z",
     "shell.execute_reply": "2023-06-26T15:52:44.438857Z"
    },
    "papermill": {
     "duration": 0.027327,
     "end_time": "2023-06-26T15:52:44.441843",
     "exception": false,
     "start_time": "2023-06-26T15:52:44.414516",
     "status": "completed"
    },
    "tags": []
   },
   "outputs": [
    {
     "data": {
      "text/plain": [
       "3"
      ]
     },
     "execution_count": 18,
     "metadata": {},
     "output_type": "execute_result"
    }
   ],
   "source": [
    "TENSOR1.ndim"
   ]
  },
  {
   "cell_type": "code",
   "execution_count": 19,
   "id": "fbb890f1",
   "metadata": {
    "execution": {
     "iopub.execute_input": "2023-06-26T15:52:44.480730Z",
     "iopub.status.busy": "2023-06-26T15:52:44.480285Z",
     "iopub.status.idle": "2023-06-26T15:52:44.487875Z",
     "shell.execute_reply": "2023-06-26T15:52:44.486890Z"
    },
    "papermill": {
     "duration": 0.028985,
     "end_time": "2023-06-26T15:52:44.490039",
     "exception": false,
     "start_time": "2023-06-26T15:52:44.461054",
     "status": "completed"
    },
    "tags": []
   },
   "outputs": [
    {
     "data": {
      "text/plain": [
       "torch.Size([2, 3, 3])"
      ]
     },
     "execution_count": 19,
     "metadata": {},
     "output_type": "execute_result"
    }
   ],
   "source": [
    "TENSOR1.shape"
   ]
  },
  {
   "cell_type": "markdown",
   "id": "3dfb465b",
   "metadata": {
    "execution": {
     "iopub.execute_input": "2023-06-25T15:53:52.605155Z",
     "iopub.status.busy": "2023-06-25T15:53:52.604740Z",
     "iopub.status.idle": "2023-06-25T15:53:52.609815Z",
     "shell.execute_reply": "2023-06-25T15:53:52.608929Z",
     "shell.execute_reply.started": "2023-06-25T15:53:52.605124Z"
    },
    "papermill": {
     "duration": 0.017868,
     "end_time": "2023-06-26T15:52:44.525780",
     "exception": false,
     "start_time": "2023-06-26T15:52:44.507912",
     "status": "completed"
    },
    "tags": []
   },
   "source": [
    "### Random Tensor\n",
    "\n",
    "Why Random Nos. ?\n",
    "\n",
    "'Start with Random Numbers -> Look at Data -> Update Random Numbers -> Look at Data -> Update Random Numbers'\n",
    "\n",
    "ref - https://pytorch.org/docs/stable/generated/torch.rand.html"
   ]
  },
  {
   "cell_type": "code",
   "execution_count": 20,
   "id": "5ace4bb4",
   "metadata": {
    "execution": {
     "iopub.execute_input": "2023-06-26T15:52:44.564416Z",
     "iopub.status.busy": "2023-06-26T15:52:44.563283Z",
     "iopub.status.idle": "2023-06-26T15:52:44.639659Z",
     "shell.execute_reply": "2023-06-26T15:52:44.638586Z"
    },
    "papermill": {
     "duration": 0.098678,
     "end_time": "2023-06-26T15:52:44.642214",
     "exception": false,
     "start_time": "2023-06-26T15:52:44.543536",
     "status": "completed"
    },
    "tags": []
   },
   "outputs": [
    {
     "data": {
      "text/plain": [
       "tensor([[[0.2008, 0.0916, 0.0533],\n",
       "         [0.3940, 0.0559, 0.0460],\n",
       "         [0.3238, 0.1037, 0.1935],\n",
       "         [0.5235, 0.5911, 0.5219]],\n",
       "\n",
       "        [[0.2837, 0.3918, 0.9483],\n",
       "         [0.7936, 0.9932, 0.2679],\n",
       "         [0.3710, 0.1581, 0.3809],\n",
       "         [0.3224, 0.3812, 0.9434]],\n",
       "\n",
       "        [[0.2841, 0.5409, 0.4287],\n",
       "         [0.9522, 0.9049, 0.3037],\n",
       "         [0.5380, 0.9408, 0.3845],\n",
       "         [0.1807, 0.2235, 0.7375]]])"
      ]
     },
     "execution_count": 20,
     "metadata": {},
     "output_type": "execute_result"
    }
   ],
   "source": [
    "# Create a random tensor of size(3,4)\n",
    "random_tensor = torch.rand(3,4,3)\n",
    "random_tensor"
   ]
  },
  {
   "cell_type": "code",
   "execution_count": 21,
   "id": "0305de5a",
   "metadata": {
    "execution": {
     "iopub.execute_input": "2023-06-26T15:52:44.679861Z",
     "iopub.status.busy": "2023-06-26T15:52:44.679397Z",
     "iopub.status.idle": "2023-06-26T15:52:44.686752Z",
     "shell.execute_reply": "2023-06-26T15:52:44.685642Z"
    },
    "papermill": {
     "duration": 0.029292,
     "end_time": "2023-06-26T15:52:44.689476",
     "exception": false,
     "start_time": "2023-06-26T15:52:44.660184",
     "status": "completed"
    },
    "tags": []
   },
   "outputs": [
    {
     "data": {
      "text/plain": [
       "3"
      ]
     },
     "execution_count": 21,
     "metadata": {},
     "output_type": "execute_result"
    }
   ],
   "source": [
    "random_tensor.ndim"
   ]
  },
  {
   "cell_type": "code",
   "execution_count": 22,
   "id": "fa9026f9",
   "metadata": {
    "execution": {
     "iopub.execute_input": "2023-06-26T15:52:44.727507Z",
     "iopub.status.busy": "2023-06-26T15:52:44.727098Z",
     "iopub.status.idle": "2023-06-26T15:52:44.734151Z",
     "shell.execute_reply": "2023-06-26T15:52:44.733041Z"
    },
    "papermill": {
     "duration": 0.029297,
     "end_time": "2023-06-26T15:52:44.736974",
     "exception": false,
     "start_time": "2023-06-26T15:52:44.707677",
     "status": "completed"
    },
    "tags": []
   },
   "outputs": [
    {
     "data": {
      "text/plain": [
       "torch.Size([3, 4, 3])"
      ]
     },
     "execution_count": 22,
     "metadata": {},
     "output_type": "execute_result"
    }
   ],
   "source": [
    "random_tensor.shape"
   ]
  },
  {
   "cell_type": "code",
   "execution_count": 23,
   "id": "ac86dc1a",
   "metadata": {
    "execution": {
     "iopub.execute_input": "2023-06-26T15:52:44.776564Z",
     "iopub.status.busy": "2023-06-26T15:52:44.776169Z",
     "iopub.status.idle": "2023-06-26T15:52:44.791285Z",
     "shell.execute_reply": "2023-06-26T15:52:44.790436Z"
    },
    "papermill": {
     "duration": 0.037227,
     "end_time": "2023-06-26T15:52:44.793492",
     "exception": false,
     "start_time": "2023-06-26T15:52:44.756265",
     "status": "completed"
    },
    "scrolled": true,
    "tags": []
   },
   "outputs": [
    {
     "data": {
      "text/plain": [
       "tensor([[[0.5154, 0.2492, 0.5364],\n",
       "         [0.5736, 0.5497, 0.2180],\n",
       "         [0.3874, 0.7677, 0.2061],\n",
       "         ...,\n",
       "         [0.3602, 0.0254, 0.5001],\n",
       "         [0.7088, 0.3364, 0.0927],\n",
       "         [0.9359, 0.4917, 0.3001]],\n",
       "\n",
       "        [[0.4328, 0.3107, 0.7053],\n",
       "         [0.3173, 0.6037, 0.7513],\n",
       "         [0.8771, 0.3718, 0.6707],\n",
       "         ...,\n",
       "         [0.8548, 0.1864, 0.3391],\n",
       "         [0.0130, 0.0992, 0.2543],\n",
       "         [0.9180, 0.1881, 0.4776]],\n",
       "\n",
       "        [[0.3641, 0.1675, 0.8706],\n",
       "         [0.4722, 0.0974, 0.9321],\n",
       "         [0.2632, 0.3075, 0.1380],\n",
       "         ...,\n",
       "         [0.2322, 0.3079, 0.7471],\n",
       "         [0.3796, 0.8172, 0.2493],\n",
       "         [0.8187, 0.6566, 0.1346]],\n",
       "\n",
       "        ...,\n",
       "\n",
       "        [[0.2814, 0.1997, 0.7041],\n",
       "         [0.1542, 0.6094, 0.2577],\n",
       "         [0.0362, 0.7713, 0.9221],\n",
       "         ...,\n",
       "         [0.3716, 0.1759, 0.9662],\n",
       "         [0.6526, 0.0399, 0.0308],\n",
       "         [0.8369, 0.9635, 0.6310]],\n",
       "\n",
       "        [[0.0465, 0.6989, 0.2015],\n",
       "         [0.3722, 0.7630, 0.2797],\n",
       "         [0.4242, 0.1170, 0.1958],\n",
       "         ...,\n",
       "         [0.5385, 0.0495, 0.5727],\n",
       "         [0.8433, 0.0380, 0.9217],\n",
       "         [0.3111, 0.1979, 0.0034]],\n",
       "\n",
       "        [[0.0487, 0.2189, 0.8549],\n",
       "         [0.7501, 0.3895, 0.3313],\n",
       "         [0.1530, 0.5994, 0.5326],\n",
       "         ...,\n",
       "         [0.2968, 0.3153, 0.0474],\n",
       "         [0.9191, 0.4028, 0.5207],\n",
       "         [0.2384, 0.4000, 0.7164]]])"
      ]
     },
     "execution_count": 23,
     "metadata": {},
     "output_type": "execute_result"
    }
   ],
   "source": [
    "# Creating Random tensor similar to Image Shape\n",
    "random_image_size_tensor =torch.rand(size=[224,224,3],) # height, width , color channels\n",
    "random_image_size_tensor"
   ]
  },
  {
   "cell_type": "code",
   "execution_count": 24,
   "id": "1bff338a",
   "metadata": {
    "execution": {
     "iopub.execute_input": "2023-06-26T15:52:44.832861Z",
     "iopub.status.busy": "2023-06-26T15:52:44.831928Z",
     "iopub.status.idle": "2023-06-26T15:52:44.839294Z",
     "shell.execute_reply": "2023-06-26T15:52:44.838156Z"
    },
    "papermill": {
     "duration": 0.029513,
     "end_time": "2023-06-26T15:52:44.841536",
     "exception": false,
     "start_time": "2023-06-26T15:52:44.812023",
     "status": "completed"
    },
    "tags": []
   },
   "outputs": [
    {
     "data": {
      "text/plain": [
       "3"
      ]
     },
     "execution_count": 24,
     "metadata": {},
     "output_type": "execute_result"
    }
   ],
   "source": [
    "random_image_size_tensor.ndim"
   ]
  },
  {
   "cell_type": "code",
   "execution_count": 25,
   "id": "701a79d2",
   "metadata": {
    "execution": {
     "iopub.execute_input": "2023-06-26T15:52:44.881837Z",
     "iopub.status.busy": "2023-06-26T15:52:44.881207Z",
     "iopub.status.idle": "2023-06-26T15:52:44.886911Z",
     "shell.execute_reply": "2023-06-26T15:52:44.885784Z"
    },
    "papermill": {
     "duration": 0.028361,
     "end_time": "2023-06-26T15:52:44.888987",
     "exception": false,
     "start_time": "2023-06-26T15:52:44.860626",
     "status": "completed"
    },
    "tags": []
   },
   "outputs": [
    {
     "data": {
      "text/plain": [
       "torch.Size([224, 224, 3])"
      ]
     },
     "execution_count": 25,
     "metadata": {},
     "output_type": "execute_result"
    }
   ],
   "source": [
    "random_image_size_tensor.shape"
   ]
  },
  {
   "cell_type": "markdown",
   "id": "f4892128",
   "metadata": {
    "papermill": {
     "duration": 0.018974,
     "end_time": "2023-06-26T15:52:44.926848",
     "exception": false,
     "start_time": "2023-06-26T15:52:44.907874",
     "status": "completed"
    },
    "tags": []
   },
   "source": [
    "### Zeroes and Ones"
   ]
  },
  {
   "cell_type": "code",
   "execution_count": 26,
   "id": "39bd8805",
   "metadata": {
    "execution": {
     "iopub.execute_input": "2023-06-26T15:52:44.966991Z",
     "iopub.status.busy": "2023-06-26T15:52:44.966330Z",
     "iopub.status.idle": "2023-06-26T15:52:44.975905Z",
     "shell.execute_reply": "2023-06-26T15:52:44.975044Z"
    },
    "papermill": {
     "duration": 0.032335,
     "end_time": "2023-06-26T15:52:44.978048",
     "exception": false,
     "start_time": "2023-06-26T15:52:44.945713",
     "status": "completed"
    },
    "tags": []
   },
   "outputs": [
    {
     "data": {
      "text/plain": [
       "tensor([[0., 0., 0., 0.],\n",
       "        [0., 0., 0., 0.],\n",
       "        [0., 0., 0., 0.]])"
      ]
     },
     "execution_count": 26,
     "metadata": {},
     "output_type": "execute_result"
    }
   ],
   "source": [
    "# Create a tenor of all zeros\n",
    "zeros = torch.zeros(3,4)\n",
    "zeros"
   ]
  },
  {
   "cell_type": "code",
   "execution_count": 27,
   "id": "152577a9",
   "metadata": {
    "execution": {
     "iopub.execute_input": "2023-06-26T15:52:45.017679Z",
     "iopub.status.busy": "2023-06-26T15:52:45.017047Z",
     "iopub.status.idle": "2023-06-26T15:52:45.026177Z",
     "shell.execute_reply": "2023-06-26T15:52:45.025062Z"
    },
    "papermill": {
     "duration": 0.031746,
     "end_time": "2023-06-26T15:52:45.028594",
     "exception": false,
     "start_time": "2023-06-26T15:52:44.996848",
     "status": "completed"
    },
    "tags": []
   },
   "outputs": [
    {
     "data": {
      "text/plain": [
       "tensor([[0., 0., 0., 0.],\n",
       "        [0., 0., 0., 0.],\n",
       "        [0., 0., 0., 0.]])"
      ]
     },
     "execution_count": 27,
     "metadata": {},
     "output_type": "execute_result"
    }
   ],
   "source": [
    "zeros * torch.rand(3,4)"
   ]
  },
  {
   "cell_type": "code",
   "execution_count": 28,
   "id": "565d6128",
   "metadata": {
    "execution": {
     "iopub.execute_input": "2023-06-26T15:52:45.068690Z",
     "iopub.status.busy": "2023-06-26T15:52:45.068264Z",
     "iopub.status.idle": "2023-06-26T15:52:45.075588Z",
     "shell.execute_reply": "2023-06-26T15:52:45.074866Z"
    },
    "papermill": {
     "duration": 0.03002,
     "end_time": "2023-06-26T15:52:45.077595",
     "exception": false,
     "start_time": "2023-06-26T15:52:45.047575",
     "status": "completed"
    },
    "tags": []
   },
   "outputs": [
    {
     "data": {
      "text/plain": [
       "tensor([[1, 1, 1, 1],\n",
       "        [1, 1, 1, 1],\n",
       "        [1, 1, 1, 1]])"
      ]
     },
     "execution_count": 28,
     "metadata": {},
     "output_type": "execute_result"
    }
   ],
   "source": [
    "# Create tensor of all ones\n",
    "ones = torch.ones(size=(3,4),dtype=int)\n",
    "ones"
   ]
  },
  {
   "cell_type": "code",
   "execution_count": 29,
   "id": "3be34ae9",
   "metadata": {
    "execution": {
     "iopub.execute_input": "2023-06-26T15:52:45.118416Z",
     "iopub.status.busy": "2023-06-26T15:52:45.117740Z",
     "iopub.status.idle": "2023-06-26T15:52:45.123790Z",
     "shell.execute_reply": "2023-06-26T15:52:45.122867Z"
    },
    "papermill": {
     "duration": 0.029305,
     "end_time": "2023-06-26T15:52:45.125983",
     "exception": false,
     "start_time": "2023-06-26T15:52:45.096678",
     "status": "completed"
    },
    "tags": []
   },
   "outputs": [
    {
     "data": {
      "text/plain": [
       "torch.int64"
      ]
     },
     "execution_count": 29,
     "metadata": {},
     "output_type": "execute_result"
    }
   ],
   "source": [
    "ones.dtype"
   ]
  },
  {
   "cell_type": "markdown",
   "id": "69e5eb4d",
   "metadata": {
    "execution": {
     "iopub.execute_input": "2023-06-25T16:24:23.852212Z",
     "iopub.status.busy": "2023-06-25T16:24:23.851772Z",
     "iopub.status.idle": "2023-06-25T16:24:23.857025Z",
     "shell.execute_reply": "2023-06-25T16:24:23.856069Z",
     "shell.execute_reply.started": "2023-06-25T16:24:23.852179Z"
    },
    "papermill": {
     "duration": 0.019252,
     "end_time": "2023-06-26T15:52:45.164585",
     "exception": false,
     "start_time": "2023-06-26T15:52:45.145333",
     "status": "completed"
    },
    "tags": []
   },
   "source": [
    "### Create a range of tensors and tensors-like\n",
    "\n",
    "ref - https://pytorch.org/docs/stable/generated/torch.arange.html"
   ]
  },
  {
   "cell_type": "code",
   "execution_count": 30,
   "id": "3cfdae37",
   "metadata": {
    "execution": {
     "iopub.execute_input": "2023-06-26T15:52:45.205671Z",
     "iopub.status.busy": "2023-06-26T15:52:45.205008Z",
     "iopub.status.idle": "2023-06-26T15:52:45.220900Z",
     "shell.execute_reply": "2023-06-26T15:52:45.219988Z"
    },
    "papermill": {
     "duration": 0.038879,
     "end_time": "2023-06-26T15:52:45.223198",
     "exception": false,
     "start_time": "2023-06-26T15:52:45.184319",
     "status": "completed"
    },
    "tags": []
   },
   "outputs": [
    {
     "data": {
      "text/plain": [
       "tensor([ 1,  2,  3,  4,  5,  6,  7,  8,  9, 10])"
      ]
     },
     "execution_count": 30,
     "metadata": {},
     "output_type": "execute_result"
    }
   ],
   "source": [
    "# Use torch.arange()\n",
    "one_to_ten = torch.arange(start=1, end=11, step=1)\n",
    "one_to_ten"
   ]
  },
  {
   "cell_type": "code",
   "execution_count": 31,
   "id": "809d5bf6",
   "metadata": {
    "execution": {
     "iopub.execute_input": "2023-06-26T15:52:45.264337Z",
     "iopub.status.busy": "2023-06-26T15:52:45.263660Z",
     "iopub.status.idle": "2023-06-26T15:52:45.270147Z",
     "shell.execute_reply": "2023-06-26T15:52:45.269184Z"
    },
    "papermill": {
     "duration": 0.029582,
     "end_time": "2023-06-26T15:52:45.272210",
     "exception": false,
     "start_time": "2023-06-26T15:52:45.242628",
     "status": "completed"
    },
    "tags": []
   },
   "outputs": [
    {
     "data": {
      "text/plain": [
       "tensor([0, 0, 0, 0, 0, 0, 0, 0, 0, 0])"
      ]
     },
     "execution_count": 31,
     "metadata": {},
     "output_type": "execute_result"
    }
   ],
   "source": [
    "# Create tesnors like\n",
    "ten_zeros = torch.zeros_like(input=one_to_ten)\n",
    "ten_zeros"
   ]
  },
  {
   "cell_type": "markdown",
   "id": "0fca7056",
   "metadata": {
    "papermill": {
     "duration": 0.019132,
     "end_time": "2023-06-26T15:52:45.311135",
     "exception": false,
     "start_time": "2023-06-26T15:52:45.292003",
     "status": "completed"
    },
    "tags": []
   },
   "source": [
    "### Tensor datatypes\n",
    "\n",
    "Tensor datatypes is one of the 3 big errors arrive in Pytorch\n",
    "\n",
    "1. Tensors not right datatype\n",
    "2. Tensors not right shape\n",
    "3. Tensors not no right device\n",
    "\n",
    "ref - https://pytorch.org/docs/stable/tensors.html"
   ]
  },
  {
   "cell_type": "code",
   "execution_count": 32,
   "id": "4622680f",
   "metadata": {
    "execution": {
     "iopub.execute_input": "2023-06-26T15:52:45.352273Z",
     "iopub.status.busy": "2023-06-26T15:52:45.351592Z",
     "iopub.status.idle": "2023-06-26T15:52:45.359068Z",
     "shell.execute_reply": "2023-06-26T15:52:45.358054Z"
    },
    "papermill": {
     "duration": 0.030733,
     "end_time": "2023-06-26T15:52:45.361286",
     "exception": false,
     "start_time": "2023-06-26T15:52:45.330553",
     "status": "completed"
    },
    "tags": []
   },
   "outputs": [
    {
     "data": {
      "text/plain": [
       "tensor([3., 6., 9.])"
      ]
     },
     "execution_count": 32,
     "metadata": {},
     "output_type": "execute_result"
    }
   ],
   "source": [
    "# Float 32 tensor\n",
    "float_32_tensor =torch.tensor([3.0,6.0,9.0],\n",
    "                             dtype=None, # what datatype of tensor (float32 etc)\n",
    "                             device=None, #'cpu or gpu -> cuda'\n",
    "                             requires_grad=False) # whether to track gradient\n",
    "float_32_tensor"
   ]
  },
  {
   "cell_type": "code",
   "execution_count": 33,
   "id": "dc61ea14",
   "metadata": {
    "execution": {
     "iopub.execute_input": "2023-06-26T15:52:45.403210Z",
     "iopub.status.busy": "2023-06-26T15:52:45.402538Z",
     "iopub.status.idle": "2023-06-26T15:52:45.408311Z",
     "shell.execute_reply": "2023-06-26T15:52:45.407344Z"
    },
    "papermill": {
     "duration": 0.029465,
     "end_time": "2023-06-26T15:52:45.410543",
     "exception": false,
     "start_time": "2023-06-26T15:52:45.381078",
     "status": "completed"
    },
    "tags": []
   },
   "outputs": [
    {
     "data": {
      "text/plain": [
       "torch.float32"
      ]
     },
     "execution_count": 33,
     "metadata": {},
     "output_type": "execute_result"
    }
   ],
   "source": [
    "float_32_tensor.dtype"
   ]
  },
  {
   "cell_type": "code",
   "execution_count": 34,
   "id": "4bfad761",
   "metadata": {
    "execution": {
     "iopub.execute_input": "2023-06-26T15:52:45.453751Z",
     "iopub.status.busy": "2023-06-26T15:52:45.453073Z",
     "iopub.status.idle": "2023-06-26T15:52:45.461118Z",
     "shell.execute_reply": "2023-06-26T15:52:45.459955Z"
    },
    "papermill": {
     "duration": 0.032537,
     "end_time": "2023-06-26T15:52:45.463629",
     "exception": false,
     "start_time": "2023-06-26T15:52:45.431092",
     "status": "completed"
    },
    "tags": []
   },
   "outputs": [],
   "source": [
    "float_16_tensor = float_32_tensor.half()\n",
    "# or\n",
    "float_16_tensor = float_32_tensor.type(torch.float) # torch.half"
   ]
  },
  {
   "cell_type": "code",
   "execution_count": 35,
   "id": "1cf4afa3",
   "metadata": {
    "execution": {
     "iopub.execute_input": "2023-06-26T15:52:45.505157Z",
     "iopub.status.busy": "2023-06-26T15:52:45.504699Z",
     "iopub.status.idle": "2023-06-26T15:52:45.512700Z",
     "shell.execute_reply": "2023-06-26T15:52:45.511435Z"
    },
    "papermill": {
     "duration": 0.031403,
     "end_time": "2023-06-26T15:52:45.515003",
     "exception": false,
     "start_time": "2023-06-26T15:52:45.483600",
     "status": "completed"
    },
    "tags": []
   },
   "outputs": [
    {
     "data": {
      "text/plain": [
       "tensor([3., 6., 9.])"
      ]
     },
     "execution_count": 35,
     "metadata": {},
     "output_type": "execute_result"
    }
   ],
   "source": [
    "float_16_tensor"
   ]
  },
  {
   "cell_type": "code",
   "execution_count": 36,
   "id": "407d1b72",
   "metadata": {
    "execution": {
     "iopub.execute_input": "2023-06-26T15:52:45.556756Z",
     "iopub.status.busy": "2023-06-26T15:52:45.556348Z",
     "iopub.status.idle": "2023-06-26T15:52:45.563935Z",
     "shell.execute_reply": "2023-06-26T15:52:45.562734Z"
    },
    "papermill": {
     "duration": 0.03144,
     "end_time": "2023-06-26T15:52:45.566394",
     "exception": false,
     "start_time": "2023-06-26T15:52:45.534954",
     "status": "completed"
    },
    "tags": []
   },
   "outputs": [
    {
     "data": {
      "text/plain": [
       "torch.float32"
      ]
     },
     "execution_count": 36,
     "metadata": {},
     "output_type": "execute_result"
    }
   ],
   "source": [
    "(float_16_tensor * float_32_tensor).dtype"
   ]
  },
  {
   "cell_type": "code",
   "execution_count": 37,
   "id": "334e36ef",
   "metadata": {
    "execution": {
     "iopub.execute_input": "2023-06-26T15:52:45.608710Z",
     "iopub.status.busy": "2023-06-26T15:52:45.608268Z",
     "iopub.status.idle": "2023-06-26T15:52:45.613709Z",
     "shell.execute_reply": "2023-06-26T15:52:45.612518Z"
    },
    "papermill": {
     "duration": 0.029273,
     "end_time": "2023-06-26T15:52:45.615915",
     "exception": false,
     "start_time": "2023-06-26T15:52:45.586642",
     "status": "completed"
    },
    "tags": []
   },
   "outputs": [],
   "source": [
    "int_32_tensor = torch.tensor([3,4,5],\n",
    "                             dtype=torch.int32)"
   ]
  },
  {
   "cell_type": "code",
   "execution_count": 38,
   "id": "9484028f",
   "metadata": {
    "execution": {
     "iopub.execute_input": "2023-06-26T15:52:45.658338Z",
     "iopub.status.busy": "2023-06-26T15:52:45.657965Z",
     "iopub.status.idle": "2023-06-26T15:52:45.664571Z",
     "shell.execute_reply": "2023-06-26T15:52:45.663756Z"
    },
    "papermill": {
     "duration": 0.030407,
     "end_time": "2023-06-26T15:52:45.666499",
     "exception": false,
     "start_time": "2023-06-26T15:52:45.636092",
     "status": "completed"
    },
    "tags": []
   },
   "outputs": [
    {
     "data": {
      "text/plain": [
       "tensor([ 9., 24., 45.])"
      ]
     },
     "execution_count": 38,
     "metadata": {},
     "output_type": "execute_result"
    }
   ],
   "source": [
    "float_16_tensor * int_32_tensor"
   ]
  },
  {
   "cell_type": "markdown",
   "id": "32059093",
   "metadata": {
    "papermill": {
     "duration": 0.019896,
     "end_time": "2023-06-26T15:52:45.706619",
     "exception": false,
     "start_time": "2023-06-26T15:52:45.686723",
     "status": "completed"
    },
    "tags": []
   },
   "source": [
    "### Getting info from tensors (tensor attributes)\n",
    "1. tensor not datatype - to check use tensor.dtype\n",
    "2. tensor not right shape - to check use tensor.shape or tensor.size()\n",
    "3. tensor not on right device - to check use tensor.device"
   ]
  },
  {
   "cell_type": "code",
   "execution_count": 39,
   "id": "93803102",
   "metadata": {
    "execution": {
     "iopub.execute_input": "2023-06-26T15:52:45.748966Z",
     "iopub.status.busy": "2023-06-26T15:52:45.748519Z",
     "iopub.status.idle": "2023-06-26T15:52:45.756777Z",
     "shell.execute_reply": "2023-06-26T15:52:45.755888Z"
    },
    "papermill": {
     "duration": 0.03208,
     "end_time": "2023-06-26T15:52:45.759063",
     "exception": false,
     "start_time": "2023-06-26T15:52:45.726983",
     "status": "completed"
    },
    "tags": []
   },
   "outputs": [
    {
     "data": {
      "text/plain": [
       "tensor([[0.9834, 0.4516, 0.3892, 0.6251],\n",
       "        [0.7974, 0.4992, 0.0196, 0.4572],\n",
       "        [0.1350, 0.0559, 0.1701, 0.4828]])"
      ]
     },
     "execution_count": 39,
     "metadata": {},
     "output_type": "execute_result"
    }
   ],
   "source": [
    "# Create a tensor\n",
    "some_tensor = torch.rand(3,4)\n",
    "some_tensor"
   ]
  },
  {
   "cell_type": "code",
   "execution_count": 40,
   "id": "30df67bc",
   "metadata": {
    "execution": {
     "iopub.execute_input": "2023-06-26T15:52:45.802308Z",
     "iopub.status.busy": "2023-06-26T15:52:45.801883Z",
     "iopub.status.idle": "2023-06-26T15:52:45.808518Z",
     "shell.execute_reply": "2023-06-26T15:52:45.807175Z"
    },
    "papermill": {
     "duration": 0.031426,
     "end_time": "2023-06-26T15:52:45.811093",
     "exception": false,
     "start_time": "2023-06-26T15:52:45.779667",
     "status": "completed"
    },
    "tags": []
   },
   "outputs": [
    {
     "name": "stdout",
     "output_type": "stream",
     "text": [
      "Tensor Datatype : torch.float32 Tensor Shape : torch.Size([3, 4]) Tensor Device : cpu\n"
     ]
    }
   ],
   "source": [
    "print(\"Tensor Datatype :\",some_tensor.dtype,\n",
    "\"Tensor Shape :\",some_tensor.shape,\n",
    "\"Tensor Device :\",some_tensor.device)"
   ]
  },
  {
   "cell_type": "markdown",
   "id": "bc55b6a6",
   "metadata": {
    "execution": {
     "iopub.execute_input": "2023-06-26T15:31:18.518353Z",
     "iopub.status.busy": "2023-06-26T15:31:18.517972Z",
     "iopub.status.idle": "2023-06-26T15:31:18.526666Z",
     "shell.execute_reply": "2023-06-26T15:31:18.525296Z",
     "shell.execute_reply.started": "2023-06-26T15:31:18.518326Z"
    },
    "papermill": {
     "duration": 0.020774,
     "end_time": "2023-06-26T15:52:45.853021",
     "exception": false,
     "start_time": "2023-06-26T15:52:45.832247",
     "status": "completed"
    },
    "tags": []
   },
   "source": [
    "### Manipulating Tensors (Tensor Operations)\n",
    "1. Addition\n",
    "2. Subtraction\n",
    "3. Multiplication (element-wise)\n",
    "4. Division\n",
    "5. Matrix Multiplication"
   ]
  },
  {
   "cell_type": "code",
   "execution_count": 41,
   "id": "303cd4be",
   "metadata": {
    "execution": {
     "iopub.execute_input": "2023-06-26T15:52:45.896804Z",
     "iopub.status.busy": "2023-06-26T15:52:45.896405Z",
     "iopub.status.idle": "2023-06-26T15:52:45.906196Z",
     "shell.execute_reply": "2023-06-26T15:52:45.904974Z"
    },
    "papermill": {
     "duration": 0.034747,
     "end_time": "2023-06-26T15:52:45.908427",
     "exception": false,
     "start_time": "2023-06-26T15:52:45.873680",
     "status": "completed"
    },
    "tags": []
   },
   "outputs": [
    {
     "data": {
      "text/plain": [
       "tensor([11, 12, 13])"
      ]
     },
     "execution_count": 41,
     "metadata": {},
     "output_type": "execute_result"
    }
   ],
   "source": [
    "# Create a tensor and add 10\n",
    "tensor = torch.tensor([1,2,3])\n",
    "tensor + 10"
   ]
  },
  {
   "cell_type": "code",
   "execution_count": 42,
   "id": "6d5d7c7d",
   "metadata": {
    "execution": {
     "iopub.execute_input": "2023-06-26T15:52:45.953225Z",
     "iopub.status.busy": "2023-06-26T15:52:45.952785Z",
     "iopub.status.idle": "2023-06-26T15:52:45.961246Z",
     "shell.execute_reply": "2023-06-26T15:52:45.960067Z"
    },
    "papermill": {
     "duration": 0.032869,
     "end_time": "2023-06-26T15:52:45.963450",
     "exception": false,
     "start_time": "2023-06-26T15:52:45.930581",
     "status": "completed"
    },
    "tags": []
   },
   "outputs": [
    {
     "data": {
      "text/plain": [
       "tensor([10, 20, 30])"
      ]
     },
     "execution_count": 42,
     "metadata": {},
     "output_type": "execute_result"
    }
   ],
   "source": [
    "# multiply\n",
    "tensor * 10"
   ]
  },
  {
   "cell_type": "code",
   "execution_count": 43,
   "id": "f1403291",
   "metadata": {
    "execution": {
     "iopub.execute_input": "2023-06-26T15:52:46.007094Z",
     "iopub.status.busy": "2023-06-26T15:52:46.006675Z",
     "iopub.status.idle": "2023-06-26T15:52:46.016062Z",
     "shell.execute_reply": "2023-06-26T15:52:46.015013Z"
    },
    "papermill": {
     "duration": 0.034007,
     "end_time": "2023-06-26T15:52:46.018333",
     "exception": false,
     "start_time": "2023-06-26T15:52:45.984326",
     "status": "completed"
    },
    "tags": []
   },
   "outputs": [
    {
     "data": {
      "text/plain": [
       "tensor([-9, -8, -7])"
      ]
     },
     "execution_count": 43,
     "metadata": {},
     "output_type": "execute_result"
    }
   ],
   "source": [
    "# Subtract 10\n",
    "tensor - 10"
   ]
  },
  {
   "cell_type": "code",
   "execution_count": 44,
   "id": "3cbe88c5",
   "metadata": {
    "execution": {
     "iopub.execute_input": "2023-06-26T15:52:46.064334Z",
     "iopub.status.busy": "2023-06-26T15:52:46.063899Z",
     "iopub.status.idle": "2023-06-26T15:52:46.072244Z",
     "shell.execute_reply": "2023-06-26T15:52:46.071116Z"
    },
    "papermill": {
     "duration": 0.03451,
     "end_time": "2023-06-26T15:52:46.074423",
     "exception": false,
     "start_time": "2023-06-26T15:52:46.039913",
     "status": "completed"
    },
    "tags": []
   },
   "outputs": [
    {
     "data": {
      "text/plain": [
       "tensor([10, 20, 30])"
      ]
     },
     "execution_count": 44,
     "metadata": {},
     "output_type": "execute_result"
    }
   ],
   "source": [
    "torch.mul(tensor,10)"
   ]
  },
  {
   "cell_type": "code",
   "execution_count": null,
   "id": "7e15053a",
   "metadata": {
    "papermill": {
     "duration": 0.022218,
     "end_time": "2023-06-26T15:52:46.118018",
     "exception": false,
     "start_time": "2023-06-26T15:52:46.095800",
     "status": "completed"
    },
    "tags": []
   },
   "outputs": [],
   "source": []
  }
 ],
 "metadata": {
  "kernelspec": {
   "display_name": "Python 3",
   "language": "python",
   "name": "python3"
  },
  "language_info": {
   "codemirror_mode": {
    "name": "ipython",
    "version": 3
   },
   "file_extension": ".py",
   "mimetype": "text/x-python",
   "name": "python",
   "nbconvert_exporter": "python",
   "pygments_lexer": "ipython3",
   "version": "3.10.10"
  },
  "papermill": {
   "default_parameters": {},
   "duration": 20.759577,
   "end_time": "2023-06-26T15:52:48.419508",
   "environment_variables": {},
   "exception": null,
   "input_path": "__notebook__.ipynb",
   "output_path": "__notebook__.ipynb",
   "parameters": {},
   "start_time": "2023-06-26T15:52:27.659931",
   "version": "2.4.0"
  }
 },
 "nbformat": 4,
 "nbformat_minor": 5
}
