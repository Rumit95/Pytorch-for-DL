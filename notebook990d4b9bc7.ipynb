{
 "cells": [
  {
   "cell_type": "code",
   "execution_count": 1,
   "id": "43266169",
   "metadata": {
    "_cell_guid": "b1076dfc-b9ad-4769-8c92-a6c4dae69d19",
    "_uuid": "8f2839f25d086af736a60e9eeb907d3b93b6e0e5",
    "execution": {
     "iopub.execute_input": "2023-06-26T16:07:27.172619Z",
     "iopub.status.busy": "2023-06-26T16:07:27.171764Z",
     "iopub.status.idle": "2023-06-26T16:07:30.779387Z",
     "shell.execute_reply": "2023-06-26T16:07:30.778198Z"
    },
    "papermill": {
     "duration": 3.628317,
     "end_time": "2023-06-26T16:07:30.781841",
     "exception": false,
     "start_time": "2023-06-26T16:07:27.153524",
     "status": "completed"
    },
    "tags": []
   },
   "outputs": [
    {
     "data": {
      "text/plain": [
       "'2.0.0+cpu'"
      ]
     },
     "execution_count": 1,
     "metadata": {},
     "output_type": "execute_result"
    }
   ],
   "source": [
    "import torch\n",
    "import pandas as pd\n",
    "import numpy as np\n",
    "import matplotlib.pyplot as plt\n",
    "torch.__version__"
   ]
  },
  {
   "cell_type": "markdown",
   "id": "0bd5450a",
   "metadata": {
    "execution": {
     "iopub.execute_input": "2023-06-25T15:31:29.081596Z",
     "iopub.status.busy": "2023-06-25T15:31:29.081220Z",
     "iopub.status.idle": "2023-06-25T15:31:29.086052Z",
     "shell.execute_reply": "2023-06-25T15:31:29.085102Z",
     "shell.execute_reply.started": "2023-06-25T15:31:29.081561Z"
    },
    "papermill": {
     "duration": 0.015599,
     "end_time": "2023-06-26T16:07:30.813655",
     "exception": false,
     "start_time": "2023-06-26T16:07:30.798056",
     "status": "completed"
    },
    "tags": []
   },
   "source": [
    "## Introduction to Tensor\n",
    "\n",
    "### Creating Tensors\n",
    "\n",
    "PyTorch tensor are create using torch.Tensor()\n",
    "\n",
    "ref - https://pytorch.org/docs/stable/tensors.html"
   ]
  },
  {
   "cell_type": "code",
   "execution_count": 2,
   "id": "04f7ffe8",
   "metadata": {
    "execution": {
     "iopub.execute_input": "2023-06-26T16:07:30.847760Z",
     "iopub.status.busy": "2023-06-26T16:07:30.847101Z",
     "iopub.status.idle": "2023-06-26T16:07:30.897551Z",
     "shell.execute_reply": "2023-06-26T16:07:30.896371Z"
    },
    "papermill": {
     "duration": 0.070452,
     "end_time": "2023-06-26T16:07:30.900069",
     "exception": false,
     "start_time": "2023-06-26T16:07:30.829617",
     "status": "completed"
    },
    "tags": []
   },
   "outputs": [
    {
     "data": {
      "text/plain": [
       "tensor(7)"
      ]
     },
     "execution_count": 2,
     "metadata": {},
     "output_type": "execute_result"
    }
   ],
   "source": [
    "# Scaler\n",
    "scaler = torch.tensor(7)\n",
    "scaler"
   ]
  },
  {
   "cell_type": "code",
   "execution_count": 3,
   "id": "64ddf9db",
   "metadata": {
    "execution": {
     "iopub.execute_input": "2023-06-26T16:07:30.934620Z",
     "iopub.status.busy": "2023-06-26T16:07:30.933960Z",
     "iopub.status.idle": "2023-06-26T16:07:30.940485Z",
     "shell.execute_reply": "2023-06-26T16:07:30.939532Z"
    },
    "papermill": {
     "duration": 0.026301,
     "end_time": "2023-06-26T16:07:30.942611",
     "exception": false,
     "start_time": "2023-06-26T16:07:30.916310",
     "status": "completed"
    },
    "tags": []
   },
   "outputs": [
    {
     "data": {
      "text/plain": [
       "0"
      ]
     },
     "execution_count": 3,
     "metadata": {},
     "output_type": "execute_result"
    }
   ],
   "source": [
    "scaler.ndim"
   ]
  },
  {
   "cell_type": "code",
   "execution_count": 4,
   "id": "ebb5ce3f",
   "metadata": {
    "execution": {
     "iopub.execute_input": "2023-06-26T16:07:30.977398Z",
     "iopub.status.busy": "2023-06-26T16:07:30.976729Z",
     "iopub.status.idle": "2023-06-26T16:07:30.983145Z",
     "shell.execute_reply": "2023-06-26T16:07:30.982155Z"
    },
    "papermill": {
     "duration": 0.026502,
     "end_time": "2023-06-26T16:07:30.985299",
     "exception": false,
     "start_time": "2023-06-26T16:07:30.958797",
     "status": "completed"
    },
    "tags": []
   },
   "outputs": [
    {
     "data": {
      "text/plain": [
       "7"
      ]
     },
     "execution_count": 4,
     "metadata": {},
     "output_type": "execute_result"
    }
   ],
   "source": [
    "# Get Tensor back ans int\n",
    "scaler.item()"
   ]
  },
  {
   "cell_type": "code",
   "execution_count": 5,
   "id": "3ae200d6",
   "metadata": {
    "execution": {
     "iopub.execute_input": "2023-06-26T16:07:31.020590Z",
     "iopub.status.busy": "2023-06-26T16:07:31.019943Z",
     "iopub.status.idle": "2023-06-26T16:07:31.027144Z",
     "shell.execute_reply": "2023-06-26T16:07:31.026059Z"
    },
    "papermill": {
     "duration": 0.027647,
     "end_time": "2023-06-26T16:07:31.029313",
     "exception": false,
     "start_time": "2023-06-26T16:07:31.001666",
     "status": "completed"
    },
    "tags": []
   },
   "outputs": [
    {
     "data": {
      "text/plain": [
       "tensor([7, 7])"
      ]
     },
     "execution_count": 5,
     "metadata": {},
     "output_type": "execute_result"
    }
   ],
   "source": [
    "# Vector\n",
    "vector = torch.tensor([7,7])\n",
    "vector"
   ]
  },
  {
   "cell_type": "code",
   "execution_count": 6,
   "id": "7494a8ea",
   "metadata": {
    "execution": {
     "iopub.execute_input": "2023-06-26T16:07:31.064576Z",
     "iopub.status.busy": "2023-06-26T16:07:31.063923Z",
     "iopub.status.idle": "2023-06-26T16:07:31.070357Z",
     "shell.execute_reply": "2023-06-26T16:07:31.069365Z"
    },
    "papermill": {
     "duration": 0.026739,
     "end_time": "2023-06-26T16:07:31.072539",
     "exception": false,
     "start_time": "2023-06-26T16:07:31.045800",
     "status": "completed"
    },
    "tags": []
   },
   "outputs": [
    {
     "data": {
      "text/plain": [
       "1"
      ]
     },
     "execution_count": 6,
     "metadata": {},
     "output_type": "execute_result"
    }
   ],
   "source": [
    "vector.ndim"
   ]
  },
  {
   "cell_type": "code",
   "execution_count": 7,
   "id": "0b3474dd",
   "metadata": {
    "execution": {
     "iopub.execute_input": "2023-06-26T16:07:31.108892Z",
     "iopub.status.busy": "2023-06-26T16:07:31.108502Z",
     "iopub.status.idle": "2023-06-26T16:07:31.114232Z",
     "shell.execute_reply": "2023-06-26T16:07:31.113446Z"
    },
    "papermill": {
     "duration": 0.025826,
     "end_time": "2023-06-26T16:07:31.116267",
     "exception": false,
     "start_time": "2023-06-26T16:07:31.090441",
     "status": "completed"
    },
    "tags": []
   },
   "outputs": [
    {
     "data": {
      "text/plain": [
       "torch.Size([2])"
      ]
     },
     "execution_count": 7,
     "metadata": {},
     "output_type": "execute_result"
    }
   ],
   "source": [
    "vector.shape"
   ]
  },
  {
   "cell_type": "code",
   "execution_count": 8,
   "id": "31750689",
   "metadata": {
    "execution": {
     "iopub.execute_input": "2023-06-26T16:07:31.152265Z",
     "iopub.status.busy": "2023-06-26T16:07:31.151486Z",
     "iopub.status.idle": "2023-06-26T16:07:31.161670Z",
     "shell.execute_reply": "2023-06-26T16:07:31.160862Z"
    },
    "papermill": {
     "duration": 0.030858,
     "end_time": "2023-06-26T16:07:31.163877",
     "exception": false,
     "start_time": "2023-06-26T16:07:31.133019",
     "status": "completed"
    },
    "tags": []
   },
   "outputs": [
    {
     "data": {
      "text/plain": [
       "tensor([[7, 8],\n",
       "        [6, 5]])"
      ]
     },
     "execution_count": 8,
     "metadata": {},
     "output_type": "execute_result"
    }
   ],
   "source": [
    "# Matrix\n",
    "MATRIX = torch.tensor([[7,8],\n",
    "                      [6,5]])\n",
    "MATRIX"
   ]
  },
  {
   "cell_type": "code",
   "execution_count": 9,
   "id": "099e7563",
   "metadata": {
    "execution": {
     "iopub.execute_input": "2023-06-26T16:07:31.200110Z",
     "iopub.status.busy": "2023-06-26T16:07:31.199662Z",
     "iopub.status.idle": "2023-06-26T16:07:31.206262Z",
     "shell.execute_reply": "2023-06-26T16:07:31.205475Z"
    },
    "papermill": {
     "duration": 0.027475,
     "end_time": "2023-06-26T16:07:31.208395",
     "exception": false,
     "start_time": "2023-06-26T16:07:31.180920",
     "status": "completed"
    },
    "tags": []
   },
   "outputs": [
    {
     "data": {
      "text/plain": [
       "2"
      ]
     },
     "execution_count": 9,
     "metadata": {},
     "output_type": "execute_result"
    }
   ],
   "source": [
    "MATRIX.ndim"
   ]
  },
  {
   "cell_type": "code",
   "execution_count": 10,
   "id": "a5ab45a1",
   "metadata": {
    "execution": {
     "iopub.execute_input": "2023-06-26T16:07:31.244888Z",
     "iopub.status.busy": "2023-06-26T16:07:31.243862Z",
     "iopub.status.idle": "2023-06-26T16:07:31.251589Z",
     "shell.execute_reply": "2023-06-26T16:07:31.250496Z"
    },
    "papermill": {
     "duration": 0.028434,
     "end_time": "2023-06-26T16:07:31.253868",
     "exception": false,
     "start_time": "2023-06-26T16:07:31.225434",
     "status": "completed"
    },
    "tags": []
   },
   "outputs": [
    {
     "data": {
      "text/plain": [
       "tensor([7, 8])"
      ]
     },
     "execution_count": 10,
     "metadata": {},
     "output_type": "execute_result"
    }
   ],
   "source": [
    "MATRIX[0]"
   ]
  },
  {
   "cell_type": "code",
   "execution_count": 11,
   "id": "074b4c37",
   "metadata": {
    "execution": {
     "iopub.execute_input": "2023-06-26T16:07:31.290237Z",
     "iopub.status.busy": "2023-06-26T16:07:31.289763Z",
     "iopub.status.idle": "2023-06-26T16:07:31.297699Z",
     "shell.execute_reply": "2023-06-26T16:07:31.296513Z"
    },
    "papermill": {
     "duration": 0.029215,
     "end_time": "2023-06-26T16:07:31.300094",
     "exception": false,
     "start_time": "2023-06-26T16:07:31.270879",
     "status": "completed"
    },
    "tags": []
   },
   "outputs": [
    {
     "data": {
      "text/plain": [
       "tensor([6, 5])"
      ]
     },
     "execution_count": 11,
     "metadata": {},
     "output_type": "execute_result"
    }
   ],
   "source": [
    "MATRIX[1]"
   ]
  },
  {
   "cell_type": "code",
   "execution_count": 12,
   "id": "9ea4166b",
   "metadata": {
    "execution": {
     "iopub.execute_input": "2023-06-26T16:07:31.336958Z",
     "iopub.status.busy": "2023-06-26T16:07:31.336578Z",
     "iopub.status.idle": "2023-06-26T16:07:31.344041Z",
     "shell.execute_reply": "2023-06-26T16:07:31.342755Z"
    },
    "papermill": {
     "duration": 0.028679,
     "end_time": "2023-06-26T16:07:31.346410",
     "exception": false,
     "start_time": "2023-06-26T16:07:31.317731",
     "status": "completed"
    },
    "tags": []
   },
   "outputs": [
    {
     "data": {
      "text/plain": [
       "torch.Size([2, 2])"
      ]
     },
     "execution_count": 12,
     "metadata": {},
     "output_type": "execute_result"
    }
   ],
   "source": [
    "MATRIX.shape"
   ]
  },
  {
   "cell_type": "code",
   "execution_count": 13,
   "id": "f68e1277",
   "metadata": {
    "execution": {
     "iopub.execute_input": "2023-06-26T16:07:31.383536Z",
     "iopub.status.busy": "2023-06-26T16:07:31.383152Z",
     "iopub.status.idle": "2023-06-26T16:07:31.391083Z",
     "shell.execute_reply": "2023-06-26T16:07:31.390014Z"
    },
    "papermill": {
     "duration": 0.029657,
     "end_time": "2023-06-26T16:07:31.393462",
     "exception": false,
     "start_time": "2023-06-26T16:07:31.363805",
     "status": "completed"
    },
    "tags": []
   },
   "outputs": [
    {
     "data": {
      "text/plain": [
       "tensor([[[1, 2, 3],\n",
       "         [5, 6, 6],\n",
       "         [7, 8, 9]]])"
      ]
     },
     "execution_count": 13,
     "metadata": {},
     "output_type": "execute_result"
    }
   ],
   "source": [
    "# Tensor\n",
    "TENSOR = torch.tensor([[[1,2,3],\n",
    "                      [5,6,6],\n",
    "                      [7,8,9]]])\n",
    "TENSOR"
   ]
  },
  {
   "cell_type": "code",
   "execution_count": 14,
   "id": "ec92278a",
   "metadata": {
    "execution": {
     "iopub.execute_input": "2023-06-26T16:07:31.431201Z",
     "iopub.status.busy": "2023-06-26T16:07:31.430777Z",
     "iopub.status.idle": "2023-06-26T16:07:31.437557Z",
     "shell.execute_reply": "2023-06-26T16:07:31.436341Z"
    },
    "papermill": {
     "duration": 0.029003,
     "end_time": "2023-06-26T16:07:31.439964",
     "exception": false,
     "start_time": "2023-06-26T16:07:31.410961",
     "status": "completed"
    },
    "tags": []
   },
   "outputs": [
    {
     "data": {
      "text/plain": [
       "3"
      ]
     },
     "execution_count": 14,
     "metadata": {},
     "output_type": "execute_result"
    }
   ],
   "source": [
    "TENSOR.ndim"
   ]
  },
  {
   "cell_type": "code",
   "execution_count": 15,
   "id": "19f859d3",
   "metadata": {
    "execution": {
     "iopub.execute_input": "2023-06-26T16:07:31.477932Z",
     "iopub.status.busy": "2023-06-26T16:07:31.477343Z",
     "iopub.status.idle": "2023-06-26T16:07:31.483204Z",
     "shell.execute_reply": "2023-06-26T16:07:31.482135Z"
    },
    "papermill": {
     "duration": 0.027911,
     "end_time": "2023-06-26T16:07:31.485684",
     "exception": false,
     "start_time": "2023-06-26T16:07:31.457773",
     "status": "completed"
    },
    "tags": []
   },
   "outputs": [
    {
     "data": {
      "text/plain": [
       "torch.Size([1, 3, 3])"
      ]
     },
     "execution_count": 15,
     "metadata": {},
     "output_type": "execute_result"
    }
   ],
   "source": [
    "TENSOR.shape"
   ]
  },
  {
   "cell_type": "code",
   "execution_count": 16,
   "id": "9c94c6ad",
   "metadata": {
    "execution": {
     "iopub.execute_input": "2023-06-26T16:07:31.524403Z",
     "iopub.status.busy": "2023-06-26T16:07:31.523948Z",
     "iopub.status.idle": "2023-06-26T16:07:31.531329Z",
     "shell.execute_reply": "2023-06-26T16:07:31.530170Z"
    },
    "papermill": {
     "duration": 0.02939,
     "end_time": "2023-06-26T16:07:31.533708",
     "exception": false,
     "start_time": "2023-06-26T16:07:31.504318",
     "status": "completed"
    },
    "tags": []
   },
   "outputs": [
    {
     "data": {
      "text/plain": [
       "tensor([[1, 2, 3],\n",
       "        [5, 6, 6],\n",
       "        [7, 8, 9]])"
      ]
     },
     "execution_count": 16,
     "metadata": {},
     "output_type": "execute_result"
    }
   ],
   "source": [
    "TENSOR[0]"
   ]
  },
  {
   "cell_type": "code",
   "execution_count": 17,
   "id": "c85c02fa",
   "metadata": {
    "execution": {
     "iopub.execute_input": "2023-06-26T16:07:31.571649Z",
     "iopub.status.busy": "2023-06-26T16:07:31.571258Z",
     "iopub.status.idle": "2023-06-26T16:07:31.579282Z",
     "shell.execute_reply": "2023-06-26T16:07:31.578432Z"
    },
    "papermill": {
     "duration": 0.029673,
     "end_time": "2023-06-26T16:07:31.581526",
     "exception": false,
     "start_time": "2023-06-26T16:07:31.551853",
     "status": "completed"
    },
    "tags": []
   },
   "outputs": [
    {
     "data": {
      "text/plain": [
       "tensor([[[1, 2, 3],\n",
       "         [4, 5, 6],\n",
       "         [7, 8, 9]],\n",
       "\n",
       "        [[1, 2, 3],\n",
       "         [4, 5, 6],\n",
       "         [7, 8, 9]]])"
      ]
     },
     "execution_count": 17,
     "metadata": {},
     "output_type": "execute_result"
    }
   ],
   "source": [
    "# Practice\n",
    "TENSOR1 = torch.tensor([[[1,2,3],\n",
    "                      [4,5,6],\n",
    "                      [7,8,9]],\n",
    "                     [[1,2,3],\n",
    "                      [4,5,6],\n",
    "                      [7,8,9]]])\n",
    "TENSOR1"
   ]
  },
  {
   "cell_type": "code",
   "execution_count": 18,
   "id": "fe2ea92c",
   "metadata": {
    "execution": {
     "iopub.execute_input": "2023-06-26T16:07:31.621605Z",
     "iopub.status.busy": "2023-06-26T16:07:31.620990Z",
     "iopub.status.idle": "2023-06-26T16:07:31.626886Z",
     "shell.execute_reply": "2023-06-26T16:07:31.625811Z"
    },
    "papermill": {
     "duration": 0.029183,
     "end_time": "2023-06-26T16:07:31.629573",
     "exception": false,
     "start_time": "2023-06-26T16:07:31.600390",
     "status": "completed"
    },
    "tags": []
   },
   "outputs": [
    {
     "data": {
      "text/plain": [
       "3"
      ]
     },
     "execution_count": 18,
     "metadata": {},
     "output_type": "execute_result"
    }
   ],
   "source": [
    "TENSOR1.ndim"
   ]
  },
  {
   "cell_type": "code",
   "execution_count": 19,
   "id": "79739ffb",
   "metadata": {
    "execution": {
     "iopub.execute_input": "2023-06-26T16:07:31.669915Z",
     "iopub.status.busy": "2023-06-26T16:07:31.668611Z",
     "iopub.status.idle": "2023-06-26T16:07:31.674732Z",
     "shell.execute_reply": "2023-06-26T16:07:31.674007Z"
    },
    "papermill": {
     "duration": 0.028727,
     "end_time": "2023-06-26T16:07:31.676884",
     "exception": false,
     "start_time": "2023-06-26T16:07:31.648157",
     "status": "completed"
    },
    "tags": []
   },
   "outputs": [
    {
     "data": {
      "text/plain": [
       "torch.Size([2, 3, 3])"
      ]
     },
     "execution_count": 19,
     "metadata": {},
     "output_type": "execute_result"
    }
   ],
   "source": [
    "TENSOR1.shape"
   ]
  },
  {
   "cell_type": "markdown",
   "id": "008c4ee4",
   "metadata": {
    "execution": {
     "iopub.execute_input": "2023-06-25T15:53:52.605155Z",
     "iopub.status.busy": "2023-06-25T15:53:52.604740Z",
     "iopub.status.idle": "2023-06-25T15:53:52.609815Z",
     "shell.execute_reply": "2023-06-25T15:53:52.608929Z",
     "shell.execute_reply.started": "2023-06-25T15:53:52.605124Z"
    },
    "papermill": {
     "duration": 0.018404,
     "end_time": "2023-06-26T16:07:31.714000",
     "exception": false,
     "start_time": "2023-06-26T16:07:31.695596",
     "status": "completed"
    },
    "tags": []
   },
   "source": [
    "### Random Tensor\n",
    "\n",
    "Why Random Nos. ?\n",
    "\n",
    "'Start with Random Numbers -> Look at Data -> Update Random Numbers -> Look at Data -> Update Random Numbers'\n",
    "\n",
    "ref - https://pytorch.org/docs/stable/generated/torch.rand.html"
   ]
  },
  {
   "cell_type": "code",
   "execution_count": 20,
   "id": "3f62230d",
   "metadata": {
    "execution": {
     "iopub.execute_input": "2023-06-26T16:07:31.753872Z",
     "iopub.status.busy": "2023-06-26T16:07:31.753142Z",
     "iopub.status.idle": "2023-06-26T16:07:31.822225Z",
     "shell.execute_reply": "2023-06-26T16:07:31.821075Z"
    },
    "papermill": {
     "duration": 0.092032,
     "end_time": "2023-06-26T16:07:31.824755",
     "exception": false,
     "start_time": "2023-06-26T16:07:31.732723",
     "status": "completed"
    },
    "tags": []
   },
   "outputs": [
    {
     "data": {
      "text/plain": [
       "tensor([[[0.1687, 0.1252, 0.9939],\n",
       "         [0.4786, 0.4221, 0.1126],\n",
       "         [0.6168, 0.3350, 0.0068],\n",
       "         [0.9048, 0.0987, 0.4139]],\n",
       "\n",
       "        [[0.1008, 0.9878, 0.4206],\n",
       "         [0.1755, 0.4458, 0.4583],\n",
       "         [0.0320, 0.3025, 0.9434],\n",
       "         [0.2732, 0.5741, 0.2852]],\n",
       "\n",
       "        [[0.8216, 0.8043, 0.9753],\n",
       "         [0.3694, 0.4927, 0.2816],\n",
       "         [0.5153, 0.9846, 0.7414],\n",
       "         [0.6832, 0.7830, 0.9065]]])"
      ]
     },
     "execution_count": 20,
     "metadata": {},
     "output_type": "execute_result"
    }
   ],
   "source": [
    "# Create a random tensor of size(3,4)\n",
    "random_tensor = torch.rand(3,4,3)\n",
    "random_tensor"
   ]
  },
  {
   "cell_type": "code",
   "execution_count": 21,
   "id": "351eeb45",
   "metadata": {
    "execution": {
     "iopub.execute_input": "2023-06-26T16:07:31.865310Z",
     "iopub.status.busy": "2023-06-26T16:07:31.864255Z",
     "iopub.status.idle": "2023-06-26T16:07:31.871240Z",
     "shell.execute_reply": "2023-06-26T16:07:31.870061Z"
    },
    "papermill": {
     "duration": 0.029404,
     "end_time": "2023-06-26T16:07:31.873490",
     "exception": false,
     "start_time": "2023-06-26T16:07:31.844086",
     "status": "completed"
    },
    "tags": []
   },
   "outputs": [
    {
     "data": {
      "text/plain": [
       "3"
      ]
     },
     "execution_count": 21,
     "metadata": {},
     "output_type": "execute_result"
    }
   ],
   "source": [
    "random_tensor.ndim"
   ]
  },
  {
   "cell_type": "code",
   "execution_count": 22,
   "id": "03e156c1",
   "metadata": {
    "execution": {
     "iopub.execute_input": "2023-06-26T16:07:31.914312Z",
     "iopub.status.busy": "2023-06-26T16:07:31.913189Z",
     "iopub.status.idle": "2023-06-26T16:07:31.920373Z",
     "shell.execute_reply": "2023-06-26T16:07:31.919388Z"
    },
    "papermill": {
     "duration": 0.030231,
     "end_time": "2023-06-26T16:07:31.922988",
     "exception": false,
     "start_time": "2023-06-26T16:07:31.892757",
     "status": "completed"
    },
    "tags": []
   },
   "outputs": [
    {
     "data": {
      "text/plain": [
       "torch.Size([3, 4, 3])"
      ]
     },
     "execution_count": 22,
     "metadata": {},
     "output_type": "execute_result"
    }
   ],
   "source": [
    "random_tensor.shape"
   ]
  },
  {
   "cell_type": "code",
   "execution_count": 23,
   "id": "975a17de",
   "metadata": {
    "execution": {
     "iopub.execute_input": "2023-06-26T16:07:31.964885Z",
     "iopub.status.busy": "2023-06-26T16:07:31.964491Z",
     "iopub.status.idle": "2023-06-26T16:07:31.980071Z",
     "shell.execute_reply": "2023-06-26T16:07:31.978941Z"
    },
    "papermill": {
     "duration": 0.040022,
     "end_time": "2023-06-26T16:07:31.982439",
     "exception": false,
     "start_time": "2023-06-26T16:07:31.942417",
     "status": "completed"
    },
    "scrolled": true,
    "tags": []
   },
   "outputs": [
    {
     "data": {
      "text/plain": [
       "tensor([[[0.7924, 0.3982, 0.2793],\n",
       "         [0.2360, 0.5874, 0.1231],\n",
       "         [0.4508, 0.6780, 0.2020],\n",
       "         ...,\n",
       "         [0.1625, 0.4727, 0.2959],\n",
       "         [0.3078, 0.4324, 0.6829],\n",
       "         [0.6448, 0.3959, 0.2280]],\n",
       "\n",
       "        [[0.7573, 0.9983, 0.6858],\n",
       "         [0.9889, 0.9175, 0.1032],\n",
       "         [0.6501, 0.5480, 0.4084],\n",
       "         ...,\n",
       "         [0.7238, 0.3485, 0.1281],\n",
       "         [0.4666, 0.9060, 0.4740],\n",
       "         [0.6995, 0.5701, 0.8775]],\n",
       "\n",
       "        [[0.9556, 0.5945, 0.1301],\n",
       "         [0.7325, 0.5685, 0.3051],\n",
       "         [0.0221, 0.5822, 0.2678],\n",
       "         ...,\n",
       "         [0.6318, 0.3074, 0.7308],\n",
       "         [0.9555, 0.2537, 0.9298],\n",
       "         [0.7593, 0.4891, 0.7639]],\n",
       "\n",
       "        ...,\n",
       "\n",
       "        [[0.3426, 0.6131, 0.6768],\n",
       "         [0.3382, 0.4563, 0.7667],\n",
       "         [0.3941, 0.5094, 0.1532],\n",
       "         ...,\n",
       "         [0.5092, 0.5609, 0.6027],\n",
       "         [0.7204, 0.9591, 0.9092],\n",
       "         [0.0882, 0.3327, 0.7656]],\n",
       "\n",
       "        [[0.6568, 0.7137, 0.6211],\n",
       "         [0.9565, 0.0336, 0.6869],\n",
       "         [0.2520, 0.6768, 0.4048],\n",
       "         ...,\n",
       "         [0.6994, 0.3998, 0.8476],\n",
       "         [0.1499, 0.8604, 0.9077],\n",
       "         [0.8569, 0.8571, 0.9149]],\n",
       "\n",
       "        [[0.0038, 0.0828, 0.2355],\n",
       "         [0.6713, 0.4449, 0.6900],\n",
       "         [0.1528, 0.6147, 0.5014],\n",
       "         ...,\n",
       "         [0.3695, 0.8088, 0.0428],\n",
       "         [0.9211, 0.5602, 0.8604],\n",
       "         [0.5160, 0.4355, 0.3248]]])"
      ]
     },
     "execution_count": 23,
     "metadata": {},
     "output_type": "execute_result"
    }
   ],
   "source": [
    "# Creating Random tensor similar to Image Shape\n",
    "random_image_size_tensor =torch.rand(size=[224,224,3],) # height, width , color channels\n",
    "random_image_size_tensor"
   ]
  },
  {
   "cell_type": "code",
   "execution_count": 24,
   "id": "8eb66c38",
   "metadata": {
    "execution": {
     "iopub.execute_input": "2023-06-26T16:07:32.023655Z",
     "iopub.status.busy": "2023-06-26T16:07:32.022407Z",
     "iopub.status.idle": "2023-06-26T16:07:32.029871Z",
     "shell.execute_reply": "2023-06-26T16:07:32.028629Z"
    },
    "papermill": {
     "duration": 0.030716,
     "end_time": "2023-06-26T16:07:32.032361",
     "exception": false,
     "start_time": "2023-06-26T16:07:32.001645",
     "status": "completed"
    },
    "tags": []
   },
   "outputs": [
    {
     "data": {
      "text/plain": [
       "3"
      ]
     },
     "execution_count": 24,
     "metadata": {},
     "output_type": "execute_result"
    }
   ],
   "source": [
    "random_image_size_tensor.ndim"
   ]
  },
  {
   "cell_type": "code",
   "execution_count": 25,
   "id": "6a4c8078",
   "metadata": {
    "execution": {
     "iopub.execute_input": "2023-06-26T16:07:32.073926Z",
     "iopub.status.busy": "2023-06-26T16:07:32.073271Z",
     "iopub.status.idle": "2023-06-26T16:07:32.079104Z",
     "shell.execute_reply": "2023-06-26T16:07:32.078251Z"
    },
    "papermill": {
     "duration": 0.029599,
     "end_time": "2023-06-26T16:07:32.081378",
     "exception": false,
     "start_time": "2023-06-26T16:07:32.051779",
     "status": "completed"
    },
    "tags": []
   },
   "outputs": [
    {
     "data": {
      "text/plain": [
       "torch.Size([224, 224, 3])"
      ]
     },
     "execution_count": 25,
     "metadata": {},
     "output_type": "execute_result"
    }
   ],
   "source": [
    "random_image_size_tensor.shape"
   ]
  },
  {
   "cell_type": "markdown",
   "id": "c3b6ff51",
   "metadata": {
    "papermill": {
     "duration": 0.019176,
     "end_time": "2023-06-26T16:07:32.120030",
     "exception": false,
     "start_time": "2023-06-26T16:07:32.100854",
     "status": "completed"
    },
    "tags": []
   },
   "source": [
    "### Zeroes and Ones"
   ]
  },
  {
   "cell_type": "code",
   "execution_count": 26,
   "id": "863a0c58",
   "metadata": {
    "execution": {
     "iopub.execute_input": "2023-06-26T16:07:32.161724Z",
     "iopub.status.busy": "2023-06-26T16:07:32.161047Z",
     "iopub.status.idle": "2023-06-26T16:07:32.170380Z",
     "shell.execute_reply": "2023-06-26T16:07:32.169314Z"
    },
    "papermill": {
     "duration": 0.033576,
     "end_time": "2023-06-26T16:07:32.173031",
     "exception": false,
     "start_time": "2023-06-26T16:07:32.139455",
     "status": "completed"
    },
    "tags": []
   },
   "outputs": [
    {
     "data": {
      "text/plain": [
       "tensor([[0., 0., 0., 0.],\n",
       "        [0., 0., 0., 0.],\n",
       "        [0., 0., 0., 0.]])"
      ]
     },
     "execution_count": 26,
     "metadata": {},
     "output_type": "execute_result"
    }
   ],
   "source": [
    "# Create a tenor of all zeros\n",
    "zeros = torch.zeros(3,4)\n",
    "zeros"
   ]
  },
  {
   "cell_type": "code",
   "execution_count": 27,
   "id": "446dc101",
   "metadata": {
    "execution": {
     "iopub.execute_input": "2023-06-26T16:07:32.216073Z",
     "iopub.status.busy": "2023-06-26T16:07:32.215357Z",
     "iopub.status.idle": "2023-06-26T16:07:32.224261Z",
     "shell.execute_reply": "2023-06-26T16:07:32.223217Z"
    },
    "papermill": {
     "duration": 0.03379,
     "end_time": "2023-06-26T16:07:32.226721",
     "exception": false,
     "start_time": "2023-06-26T16:07:32.192931",
     "status": "completed"
    },
    "tags": []
   },
   "outputs": [
    {
     "data": {
      "text/plain": [
       "tensor([[0., 0., 0., 0.],\n",
       "        [0., 0., 0., 0.],\n",
       "        [0., 0., 0., 0.]])"
      ]
     },
     "execution_count": 27,
     "metadata": {},
     "output_type": "execute_result"
    }
   ],
   "source": [
    "zeros * torch.rand(3,4)"
   ]
  },
  {
   "cell_type": "code",
   "execution_count": 28,
   "id": "8935f15c",
   "metadata": {
    "execution": {
     "iopub.execute_input": "2023-06-26T16:07:32.268827Z",
     "iopub.status.busy": "2023-06-26T16:07:32.268132Z",
     "iopub.status.idle": "2023-06-26T16:07:32.276802Z",
     "shell.execute_reply": "2023-06-26T16:07:32.275887Z"
    },
    "papermill": {
     "duration": 0.03265,
     "end_time": "2023-06-26T16:07:32.279174",
     "exception": false,
     "start_time": "2023-06-26T16:07:32.246524",
     "status": "completed"
    },
    "tags": []
   },
   "outputs": [
    {
     "data": {
      "text/plain": [
       "tensor([[1, 1, 1, 1],\n",
       "        [1, 1, 1, 1],\n",
       "        [1, 1, 1, 1]])"
      ]
     },
     "execution_count": 28,
     "metadata": {},
     "output_type": "execute_result"
    }
   ],
   "source": [
    "# Create tensor of all ones\n",
    "ones = torch.ones(size=(3,4),dtype=int)\n",
    "ones"
   ]
  },
  {
   "cell_type": "code",
   "execution_count": 29,
   "id": "15eff0f9",
   "metadata": {
    "execution": {
     "iopub.execute_input": "2023-06-26T16:07:32.321847Z",
     "iopub.status.busy": "2023-06-26T16:07:32.321187Z",
     "iopub.status.idle": "2023-06-26T16:07:32.327519Z",
     "shell.execute_reply": "2023-06-26T16:07:32.326384Z"
    },
    "papermill": {
     "duration": 0.030705,
     "end_time": "2023-06-26T16:07:32.330147",
     "exception": false,
     "start_time": "2023-06-26T16:07:32.299442",
     "status": "completed"
    },
    "tags": []
   },
   "outputs": [
    {
     "data": {
      "text/plain": [
       "torch.int64"
      ]
     },
     "execution_count": 29,
     "metadata": {},
     "output_type": "execute_result"
    }
   ],
   "source": [
    "ones.dtype"
   ]
  },
  {
   "cell_type": "markdown",
   "id": "34a6342d",
   "metadata": {
    "execution": {
     "iopub.execute_input": "2023-06-25T16:24:23.852212Z",
     "iopub.status.busy": "2023-06-25T16:24:23.851772Z",
     "iopub.status.idle": "2023-06-25T16:24:23.857025Z",
     "shell.execute_reply": "2023-06-25T16:24:23.856069Z",
     "shell.execute_reply.started": "2023-06-25T16:24:23.852179Z"
    },
    "papermill": {
     "duration": 0.020169,
     "end_time": "2023-06-26T16:07:32.370574",
     "exception": false,
     "start_time": "2023-06-26T16:07:32.350405",
     "status": "completed"
    },
    "tags": []
   },
   "source": [
    "### Create a range of tensors and tensors-like\n",
    "\n",
    "ref - https://pytorch.org/docs/stable/generated/torch.arange.html"
   ]
  },
  {
   "cell_type": "code",
   "execution_count": 30,
   "id": "dfb10d4b",
   "metadata": {
    "execution": {
     "iopub.execute_input": "2023-06-26T16:07:32.413192Z",
     "iopub.status.busy": "2023-06-26T16:07:32.412247Z",
     "iopub.status.idle": "2023-06-26T16:07:32.427324Z",
     "shell.execute_reply": "2023-06-26T16:07:32.426056Z"
    },
    "papermill": {
     "duration": 0.039761,
     "end_time": "2023-06-26T16:07:32.430401",
     "exception": false,
     "start_time": "2023-06-26T16:07:32.390640",
     "status": "completed"
    },
    "tags": []
   },
   "outputs": [
    {
     "data": {
      "text/plain": [
       "tensor([ 1,  2,  3,  4,  5,  6,  7,  8,  9, 10])"
      ]
     },
     "execution_count": 30,
     "metadata": {},
     "output_type": "execute_result"
    }
   ],
   "source": [
    "# Use torch.arange()\n",
    "one_to_ten = torch.arange(start=1, end=11, step=1)\n",
    "one_to_ten"
   ]
  },
  {
   "cell_type": "code",
   "execution_count": 31,
   "id": "5f2fc2a1",
   "metadata": {
    "execution": {
     "iopub.execute_input": "2023-06-26T16:07:32.476119Z",
     "iopub.status.busy": "2023-06-26T16:07:32.474922Z",
     "iopub.status.idle": "2023-06-26T16:07:32.483392Z",
     "shell.execute_reply": "2023-06-26T16:07:32.482492Z"
    },
    "papermill": {
     "duration": 0.034353,
     "end_time": "2023-06-26T16:07:32.485493",
     "exception": false,
     "start_time": "2023-06-26T16:07:32.451140",
     "status": "completed"
    },
    "tags": []
   },
   "outputs": [
    {
     "data": {
      "text/plain": [
       "tensor([0, 0, 0, 0, 0, 0, 0, 0, 0, 0])"
      ]
     },
     "execution_count": 31,
     "metadata": {},
     "output_type": "execute_result"
    }
   ],
   "source": [
    "# Create tesnors like\n",
    "ten_zeros = torch.zeros_like(input=one_to_ten)\n",
    "ten_zeros"
   ]
  },
  {
   "cell_type": "markdown",
   "id": "abeeefab",
   "metadata": {
    "papermill": {
     "duration": 0.020041,
     "end_time": "2023-06-26T16:07:32.525875",
     "exception": false,
     "start_time": "2023-06-26T16:07:32.505834",
     "status": "completed"
    },
    "tags": []
   },
   "source": [
    "### Tensor datatypes\n",
    "\n",
    "Tensor datatypes is one of the 3 big errors arrive in Pytorch\n",
    "\n",
    "1. Tensors not right datatype\n",
    "2. Tensors not right shape\n",
    "3. Tensors not no right device\n",
    "\n",
    "ref - https://pytorch.org/docs/stable/tensors.html"
   ]
  },
  {
   "cell_type": "code",
   "execution_count": 32,
   "id": "3a31fa11",
   "metadata": {
    "execution": {
     "iopub.execute_input": "2023-06-26T16:07:32.568880Z",
     "iopub.status.busy": "2023-06-26T16:07:32.568152Z",
     "iopub.status.idle": "2023-06-26T16:07:32.576166Z",
     "shell.execute_reply": "2023-06-26T16:07:32.575041Z"
    },
    "papermill": {
     "duration": 0.032375,
     "end_time": "2023-06-26T16:07:32.578605",
     "exception": false,
     "start_time": "2023-06-26T16:07:32.546230",
     "status": "completed"
    },
    "tags": []
   },
   "outputs": [
    {
     "data": {
      "text/plain": [
       "tensor([3., 6., 9.])"
      ]
     },
     "execution_count": 32,
     "metadata": {},
     "output_type": "execute_result"
    }
   ],
   "source": [
    "# Float 32 tensor\n",
    "float_32_tensor =torch.tensor([3.0,6.0,9.0],\n",
    "                             dtype=None, # what datatype of tensor (float32 etc)\n",
    "                             device=None, #'cpu or gpu -> cuda'\n",
    "                             requires_grad=False) # whether to track gradient\n",
    "float_32_tensor"
   ]
  },
  {
   "cell_type": "code",
   "execution_count": 33,
   "id": "9fd1b2ae",
   "metadata": {
    "execution": {
     "iopub.execute_input": "2023-06-26T16:07:32.621329Z",
     "iopub.status.busy": "2023-06-26T16:07:32.620879Z",
     "iopub.status.idle": "2023-06-26T16:07:32.627981Z",
     "shell.execute_reply": "2023-06-26T16:07:32.626834Z"
    },
    "papermill": {
     "duration": 0.031594,
     "end_time": "2023-06-26T16:07:32.630713",
     "exception": false,
     "start_time": "2023-06-26T16:07:32.599119",
     "status": "completed"
    },
    "tags": []
   },
   "outputs": [
    {
     "data": {
      "text/plain": [
       "torch.float32"
      ]
     },
     "execution_count": 33,
     "metadata": {},
     "output_type": "execute_result"
    }
   ],
   "source": [
    "float_32_tensor.dtype"
   ]
  },
  {
   "cell_type": "code",
   "execution_count": 34,
   "id": "e55fc1ca",
   "metadata": {
    "execution": {
     "iopub.execute_input": "2023-06-26T16:07:32.674719Z",
     "iopub.status.busy": "2023-06-26T16:07:32.674326Z",
     "iopub.status.idle": "2023-06-26T16:07:32.681081Z",
     "shell.execute_reply": "2023-06-26T16:07:32.680245Z"
    },
    "papermill": {
     "duration": 0.031271,
     "end_time": "2023-06-26T16:07:32.683406",
     "exception": false,
     "start_time": "2023-06-26T16:07:32.652135",
     "status": "completed"
    },
    "tags": []
   },
   "outputs": [],
   "source": [
    "float_16_tensor = float_32_tensor.half()\n",
    "# or\n",
    "float_16_tensor = float_32_tensor.type(torch.float) # torch.half"
   ]
  },
  {
   "cell_type": "code",
   "execution_count": 35,
   "id": "cc62ab27",
   "metadata": {
    "execution": {
     "iopub.execute_input": "2023-06-26T16:07:32.727715Z",
     "iopub.status.busy": "2023-06-26T16:07:32.726405Z",
     "iopub.status.idle": "2023-06-26T16:07:32.734407Z",
     "shell.execute_reply": "2023-06-26T16:07:32.733300Z"
    },
    "papermill": {
     "duration": 0.0332,
     "end_time": "2023-06-26T16:07:32.737145",
     "exception": false,
     "start_time": "2023-06-26T16:07:32.703945",
     "status": "completed"
    },
    "tags": []
   },
   "outputs": [
    {
     "data": {
      "text/plain": [
       "tensor([3., 6., 9.])"
      ]
     },
     "execution_count": 35,
     "metadata": {},
     "output_type": "execute_result"
    }
   ],
   "source": [
    "float_16_tensor"
   ]
  },
  {
   "cell_type": "code",
   "execution_count": 36,
   "id": "11c0df2b",
   "metadata": {
    "execution": {
     "iopub.execute_input": "2023-06-26T16:07:32.782195Z",
     "iopub.status.busy": "2023-06-26T16:07:32.781143Z",
     "iopub.status.idle": "2023-06-26T16:07:32.788308Z",
     "shell.execute_reply": "2023-06-26T16:07:32.787246Z"
    },
    "papermill": {
     "duration": 0.031811,
     "end_time": "2023-06-26T16:07:32.790510",
     "exception": false,
     "start_time": "2023-06-26T16:07:32.758699",
     "status": "completed"
    },
    "tags": []
   },
   "outputs": [
    {
     "data": {
      "text/plain": [
       "torch.float32"
      ]
     },
     "execution_count": 36,
     "metadata": {},
     "output_type": "execute_result"
    }
   ],
   "source": [
    "(float_16_tensor * float_32_tensor).dtype"
   ]
  },
  {
   "cell_type": "code",
   "execution_count": 37,
   "id": "bb7ba575",
   "metadata": {
    "execution": {
     "iopub.execute_input": "2023-06-26T16:07:32.835602Z",
     "iopub.status.busy": "2023-06-26T16:07:32.834766Z",
     "iopub.status.idle": "2023-06-26T16:07:32.840699Z",
     "shell.execute_reply": "2023-06-26T16:07:32.839369Z"
    },
    "papermill": {
     "duration": 0.030858,
     "end_time": "2023-06-26T16:07:32.843357",
     "exception": false,
     "start_time": "2023-06-26T16:07:32.812499",
     "status": "completed"
    },
    "tags": []
   },
   "outputs": [],
   "source": [
    "int_32_tensor = torch.tensor([3,4,5],\n",
    "                             dtype=torch.int32)"
   ]
  },
  {
   "cell_type": "code",
   "execution_count": 38,
   "id": "d5f2225a",
   "metadata": {
    "execution": {
     "iopub.execute_input": "2023-06-26T16:07:32.887471Z",
     "iopub.status.busy": "2023-06-26T16:07:32.886520Z",
     "iopub.status.idle": "2023-06-26T16:07:32.895000Z",
     "shell.execute_reply": "2023-06-26T16:07:32.893637Z"
    },
    "papermill": {
     "duration": 0.033184,
     "end_time": "2023-06-26T16:07:32.897508",
     "exception": false,
     "start_time": "2023-06-26T16:07:32.864324",
     "status": "completed"
    },
    "tags": []
   },
   "outputs": [
    {
     "data": {
      "text/plain": [
       "tensor([ 9., 24., 45.])"
      ]
     },
     "execution_count": 38,
     "metadata": {},
     "output_type": "execute_result"
    }
   ],
   "source": [
    "float_16_tensor * int_32_tensor"
   ]
  },
  {
   "cell_type": "markdown",
   "id": "6a38991a",
   "metadata": {
    "papermill": {
     "duration": 0.02081,
     "end_time": "2023-06-26T16:07:32.939768",
     "exception": false,
     "start_time": "2023-06-26T16:07:32.918958",
     "status": "completed"
    },
    "tags": []
   },
   "source": [
    "### Getting info from tensors (tensor attributes)\n",
    "1. tensor not datatype - to check use tensor.dtype\n",
    "2. tensor not right shape - to check use tensor.shape or tensor.size()\n",
    "3. tensor not on right device - to check use tensor.device"
   ]
  },
  {
   "cell_type": "code",
   "execution_count": 39,
   "id": "7881cacf",
   "metadata": {
    "execution": {
     "iopub.execute_input": "2023-06-26T16:07:32.988086Z",
     "iopub.status.busy": "2023-06-26T16:07:32.987346Z",
     "iopub.status.idle": "2023-06-26T16:07:32.994172Z",
     "shell.execute_reply": "2023-06-26T16:07:32.993339Z"
    },
    "papermill": {
     "duration": 0.031459,
     "end_time": "2023-06-26T16:07:32.996368",
     "exception": false,
     "start_time": "2023-06-26T16:07:32.964909",
     "status": "completed"
    },
    "tags": []
   },
   "outputs": [
    {
     "data": {
      "text/plain": [
       "tensor([[0.5937, 0.1440, 0.0737, 0.0052],\n",
       "        [0.1348, 0.8442, 0.5382, 0.1432],\n",
       "        [0.8382, 0.0190, 0.7797, 0.8457]])"
      ]
     },
     "execution_count": 39,
     "metadata": {},
     "output_type": "execute_result"
    }
   ],
   "source": [
    "# Create a tensor\n",
    "some_tensor = torch.rand(3,4)\n",
    "some_tensor"
   ]
  },
  {
   "cell_type": "code",
   "execution_count": 40,
   "id": "f688c919",
   "metadata": {
    "execution": {
     "iopub.execute_input": "2023-06-26T16:07:33.042590Z",
     "iopub.status.busy": "2023-06-26T16:07:33.041831Z",
     "iopub.status.idle": "2023-06-26T16:07:33.047446Z",
     "shell.execute_reply": "2023-06-26T16:07:33.046485Z"
    },
    "papermill": {
     "duration": 0.031585,
     "end_time": "2023-06-26T16:07:33.049988",
     "exception": false,
     "start_time": "2023-06-26T16:07:33.018403",
     "status": "completed"
    },
    "tags": []
   },
   "outputs": [
    {
     "name": "stdout",
     "output_type": "stream",
     "text": [
      "Tensor Datatype : torch.float32 Tensor Shape : torch.Size([3, 4]) Tensor Device : cpu\n"
     ]
    }
   ],
   "source": [
    "print(\"Tensor Datatype :\",some_tensor.dtype,\n",
    "\"Tensor Shape :\",some_tensor.shape,\n",
    "\"Tensor Device :\",some_tensor.device)"
   ]
  },
  {
   "cell_type": "markdown",
   "id": "fc8f5415",
   "metadata": {
    "execution": {
     "iopub.execute_input": "2023-06-26T15:31:18.518353Z",
     "iopub.status.busy": "2023-06-26T15:31:18.517972Z",
     "iopub.status.idle": "2023-06-26T15:31:18.526666Z",
     "shell.execute_reply": "2023-06-26T15:31:18.525296Z",
     "shell.execute_reply.started": "2023-06-26T15:31:18.518326Z"
    },
    "papermill": {
     "duration": 0.020932,
     "end_time": "2023-06-26T16:07:33.092158",
     "exception": false,
     "start_time": "2023-06-26T16:07:33.071226",
     "status": "completed"
    },
    "tags": []
   },
   "source": [
    "### Manipulating Tensors (Tensor Operations)\n",
    "1. Addition\n",
    "2. Subtraction\n",
    "3. Multiplication (element-wise)\n",
    "4. Division\n",
    "5. Matrix Multiplication"
   ]
  },
  {
   "cell_type": "code",
   "execution_count": 41,
   "id": "cbdb7b98",
   "metadata": {
    "execution": {
     "iopub.execute_input": "2023-06-26T16:07:33.137478Z",
     "iopub.status.busy": "2023-06-26T16:07:33.137072Z",
     "iopub.status.idle": "2023-06-26T16:07:33.147075Z",
     "shell.execute_reply": "2023-06-26T16:07:33.145873Z"
    },
    "papermill": {
     "duration": 0.035388,
     "end_time": "2023-06-26T16:07:33.149614",
     "exception": false,
     "start_time": "2023-06-26T16:07:33.114226",
     "status": "completed"
    },
    "tags": []
   },
   "outputs": [
    {
     "data": {
      "text/plain": [
       "tensor([11, 12, 13])"
      ]
     },
     "execution_count": 41,
     "metadata": {},
     "output_type": "execute_result"
    }
   ],
   "source": [
    "# Create a tensor and add 10\n",
    "tensor = torch.tensor([1,2,3])\n",
    "tensor + 10"
   ]
  },
  {
   "cell_type": "code",
   "execution_count": 42,
   "id": "0889c5be",
   "metadata": {
    "execution": {
     "iopub.execute_input": "2023-06-26T16:07:33.195095Z",
     "iopub.status.busy": "2023-06-26T16:07:33.194627Z",
     "iopub.status.idle": "2023-06-26T16:07:33.203131Z",
     "shell.execute_reply": "2023-06-26T16:07:33.202000Z"
    },
    "papermill": {
     "duration": 0.033844,
     "end_time": "2023-06-26T16:07:33.205503",
     "exception": false,
     "start_time": "2023-06-26T16:07:33.171659",
     "status": "completed"
    },
    "tags": []
   },
   "outputs": [
    {
     "data": {
      "text/plain": [
       "tensor([10, 20, 30])"
      ]
     },
     "execution_count": 42,
     "metadata": {},
     "output_type": "execute_result"
    }
   ],
   "source": [
    "# multiply\n",
    "tensor * 10"
   ]
  },
  {
   "cell_type": "code",
   "execution_count": 43,
   "id": "cdee791e",
   "metadata": {
    "execution": {
     "iopub.execute_input": "2023-06-26T16:07:33.250707Z",
     "iopub.status.busy": "2023-06-26T16:07:33.250314Z",
     "iopub.status.idle": "2023-06-26T16:07:33.259000Z",
     "shell.execute_reply": "2023-06-26T16:07:33.257886Z"
    },
    "papermill": {
     "duration": 0.033973,
     "end_time": "2023-06-26T16:07:33.261337",
     "exception": false,
     "start_time": "2023-06-26T16:07:33.227364",
     "status": "completed"
    },
    "tags": []
   },
   "outputs": [
    {
     "data": {
      "text/plain": [
       "tensor([-9, -8, -7])"
      ]
     },
     "execution_count": 43,
     "metadata": {},
     "output_type": "execute_result"
    }
   ],
   "source": [
    "# subtract 10\n",
    "tensor - 10"
   ]
  },
  {
   "cell_type": "code",
   "execution_count": 44,
   "id": "d9a0b50c",
   "metadata": {
    "execution": {
     "iopub.execute_input": "2023-06-26T16:07:33.307338Z",
     "iopub.status.busy": "2023-06-26T16:07:33.306889Z",
     "iopub.status.idle": "2023-06-26T16:07:33.314497Z",
     "shell.execute_reply": "2023-06-26T16:07:33.313401Z"
    },
    "papermill": {
     "duration": 0.033094,
     "end_time": "2023-06-26T16:07:33.316783",
     "exception": false,
     "start_time": "2023-06-26T16:07:33.283689",
     "status": "completed"
    },
    "tags": []
   },
   "outputs": [
    {
     "data": {
      "text/plain": [
       "tensor([10, 20, 30])"
      ]
     },
     "execution_count": 44,
     "metadata": {},
     "output_type": "execute_result"
    }
   ],
   "source": [
    "# multiply using tensor function\n",
    "torch.mul(tensor,10)"
   ]
  },
  {
   "cell_type": "markdown",
   "id": "b17880ff",
   "metadata": {
    "papermill": {
     "duration": 0.021431,
     "end_time": "2023-06-26T16:07:33.361051",
     "exception": false,
     "start_time": "2023-06-26T16:07:33.339620",
     "status": "completed"
    },
    "tags": []
   },
   "source": [
    "### Matrix Multiplication\n",
    "\n",
    "Two Main ways to multiply in tensors\n",
    "\n",
    "1. Element-wise multipication or Cross Multiplication\n",
    "2. Matrix multiplication or Dot Product\n",
    "\n",
    "ref - https://www.mathsisfun.com/algebra/matrix-multiplying.html"
   ]
  },
  {
   "cell_type": "code",
   "execution_count": 45,
   "id": "4121db8c",
   "metadata": {
    "execution": {
     "iopub.execute_input": "2023-06-26T16:07:33.406345Z",
     "iopub.status.busy": "2023-06-26T16:07:33.405909Z",
     "iopub.status.idle": "2023-06-26T16:07:33.413011Z",
     "shell.execute_reply": "2023-06-26T16:07:33.411696Z"
    },
    "papermill": {
     "duration": 0.032669,
     "end_time": "2023-06-26T16:07:33.415381",
     "exception": false,
     "start_time": "2023-06-26T16:07:33.382712",
     "status": "completed"
    },
    "tags": []
   },
   "outputs": [
    {
     "name": "stdout",
     "output_type": "stream",
     "text": [
      "tensor([1, 2, 3]) * tensor([1, 2, 3])\n",
      "Equals : tensor([1, 4, 9])\n"
     ]
    }
   ],
   "source": [
    "# Element wise multiplication\n",
    "print(tensor, '*' , tensor)\n",
    "print('Equals :', tensor * tensor )"
   ]
  },
  {
   "cell_type": "code",
   "execution_count": 46,
   "id": "8cc50c19",
   "metadata": {
    "execution": {
     "iopub.execute_input": "2023-06-26T16:07:33.462041Z",
     "iopub.status.busy": "2023-06-26T16:07:33.461588Z",
     "iopub.status.idle": "2023-06-26T16:07:33.470285Z",
     "shell.execute_reply": "2023-06-26T16:07:33.469428Z"
    },
    "papermill": {
     "duration": 0.034347,
     "end_time": "2023-06-26T16:07:33.472448",
     "exception": false,
     "start_time": "2023-06-26T16:07:33.438101",
     "status": "completed"
    },
    "tags": []
   },
   "outputs": [
    {
     "data": {
      "text/plain": [
       "tensor(14)"
      ]
     },
     "execution_count": 46,
     "metadata": {},
     "output_type": "execute_result"
    }
   ],
   "source": [
    "# Matrix Multiplication\n",
    "torch.matmul(tensor,tensor)"
   ]
  },
  {
   "cell_type": "code",
   "execution_count": null,
   "id": "8555a458",
   "metadata": {
    "papermill": {
     "duration": 0.02226,
     "end_time": "2023-06-26T16:07:33.518432",
     "exception": false,
     "start_time": "2023-06-26T16:07:33.496172",
     "status": "completed"
    },
    "tags": []
   },
   "outputs": [],
   "source": []
  }
 ],
 "metadata": {
  "kernelspec": {
   "display_name": "Python 3",
   "language": "python",
   "name": "python3"
  },
  "language_info": {
   "codemirror_mode": {
    "name": "ipython",
    "version": 3
   },
   "file_extension": ".py",
   "mimetype": "text/x-python",
   "name": "python",
   "nbconvert_exporter": "python",
   "pygments_lexer": "ipython3",
   "version": "3.10.10"
  },
  "papermill": {
   "default_parameters": {},
   "duration": 20.172158,
   "end_time": "2023-06-26T16:07:34.865228",
   "environment_variables": {},
   "exception": null,
   "input_path": "__notebook__.ipynb",
   "output_path": "__notebook__.ipynb",
   "parameters": {},
   "start_time": "2023-06-26T16:07:14.693070",
   "version": "2.4.0"
  }
 },
 "nbformat": 4,
 "nbformat_minor": 5
}
